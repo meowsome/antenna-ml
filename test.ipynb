{
 "cells": [
  {
   "cell_type": "code",
   "execution_count": 28,
   "metadata": {},
   "outputs": [],
   "source": [
    "import pandas as pd\n",
    "from sklearn.model_selection import train_test_split\n",
    "from sklearn.tree import DecisionTreeRegressor\n",
    "import matplotlib.pyplot as plt\n",
    "import numpy as np"
   ]
  },
  {
   "cell_type": "code",
   "execution_count": 29,
   "metadata": {},
   "outputs": [],
   "source": [
    "random_state = 20\n",
    "threshold = 3"
   ]
  },
  {
   "cell_type": "code",
   "execution_count": 30,
   "metadata": {},
   "outputs": [],
   "source": [
    "df = pd.read_csv(\"test_data/S Parameter Plot 2.csv\")"
   ]
  },
  {
   "cell_type": "code",
   "execution_count": 31,
   "metadata": {},
   "outputs": [],
   "source": [
    "# df.drop(columns=[\"Freq [GHz]\"], inplace=True)"
   ]
  },
  {
   "cell_type": "code",
   "execution_count": 32,
   "metadata": {},
   "outputs": [
    {
     "data": {
      "text/html": [
       "<div>\n",
       "<style scoped>\n",
       "    .dataframe tbody tr th:only-of-type {\n",
       "        vertical-align: middle;\n",
       "    }\n",
       "\n",
       "    .dataframe tbody tr th {\n",
       "        vertical-align: top;\n",
       "    }\n",
       "\n",
       "    .dataframe thead th {\n",
       "        text-align: right;\n",
       "    }\n",
       "</style>\n",
       "<table border=\"1\" class=\"dataframe\">\n",
       "  <thead>\n",
       "    <tr style=\"text-align: right;\">\n",
       "      <th></th>\n",
       "      <th>Pad_L [cm]</th>\n",
       "      <th>Pad_W [cm]</th>\n",
       "      <th>Freq [GHz]</th>\n",
       "      <th>dB(S(1,1)) []</th>\n",
       "    </tr>\n",
       "  </thead>\n",
       "  <tbody>\n",
       "    <tr>\n",
       "      <th>0</th>\n",
       "      <td>0.35</td>\n",
       "      <td>0.4</td>\n",
       "      <td>2.00</td>\n",
       "      <td>-0.039230</td>\n",
       "    </tr>\n",
       "    <tr>\n",
       "      <th>1</th>\n",
       "      <td>0.35</td>\n",
       "      <td>0.4</td>\n",
       "      <td>2.18</td>\n",
       "      <td>-0.053142</td>\n",
       "    </tr>\n",
       "    <tr>\n",
       "      <th>2</th>\n",
       "      <td>0.35</td>\n",
       "      <td>0.4</td>\n",
       "      <td>2.36</td>\n",
       "      <td>-0.067467</td>\n",
       "    </tr>\n",
       "    <tr>\n",
       "      <th>3</th>\n",
       "      <td>0.35</td>\n",
       "      <td>0.4</td>\n",
       "      <td>2.54</td>\n",
       "      <td>-0.082482</td>\n",
       "    </tr>\n",
       "    <tr>\n",
       "      <th>4</th>\n",
       "      <td>0.35</td>\n",
       "      <td>0.4</td>\n",
       "      <td>2.72</td>\n",
       "      <td>-0.098518</td>\n",
       "    </tr>\n",
       "    <tr>\n",
       "      <th>...</th>\n",
       "      <td>...</td>\n",
       "      <td>...</td>\n",
       "      <td>...</td>\n",
       "      <td>...</td>\n",
       "    </tr>\n",
       "    <tr>\n",
       "      <th>904</th>\n",
       "      <td>0.45</td>\n",
       "      <td>0.8</td>\n",
       "      <td>19.28</td>\n",
       "      <td>-5.728851</td>\n",
       "    </tr>\n",
       "    <tr>\n",
       "      <th>905</th>\n",
       "      <td>0.45</td>\n",
       "      <td>0.8</td>\n",
       "      <td>19.46</td>\n",
       "      <td>-6.172101</td>\n",
       "    </tr>\n",
       "    <tr>\n",
       "      <th>906</th>\n",
       "      <td>0.45</td>\n",
       "      <td>0.8</td>\n",
       "      <td>19.64</td>\n",
       "      <td>-7.396826</td>\n",
       "    </tr>\n",
       "    <tr>\n",
       "      <th>907</th>\n",
       "      <td>0.45</td>\n",
       "      <td>0.8</td>\n",
       "      <td>19.82</td>\n",
       "      <td>-7.555971</td>\n",
       "    </tr>\n",
       "    <tr>\n",
       "      <th>908</th>\n",
       "      <td>0.45</td>\n",
       "      <td>0.8</td>\n",
       "      <td>20.00</td>\n",
       "      <td>-9.254119</td>\n",
       "    </tr>\n",
       "  </tbody>\n",
       "</table>\n",
       "<p>909 rows × 4 columns</p>\n",
       "</div>"
      ],
      "text/plain": [
       "     Pad_L [cm]  Pad_W [cm]  Freq [GHz]  dB(S(1,1)) []\n",
       "0          0.35         0.4        2.00      -0.039230\n",
       "1          0.35         0.4        2.18      -0.053142\n",
       "2          0.35         0.4        2.36      -0.067467\n",
       "3          0.35         0.4        2.54      -0.082482\n",
       "4          0.35         0.4        2.72      -0.098518\n",
       "..          ...         ...         ...            ...\n",
       "904        0.45         0.8       19.28      -5.728851\n",
       "905        0.45         0.8       19.46      -6.172101\n",
       "906        0.45         0.8       19.64      -7.396826\n",
       "907        0.45         0.8       19.82      -7.555971\n",
       "908        0.45         0.8       20.00      -9.254119\n",
       "\n",
       "[909 rows x 4 columns]"
      ]
     },
     "execution_count": 32,
     "metadata": {},
     "output_type": "execute_result"
    }
   ],
   "source": [
    "df"
   ]
  },
  {
   "cell_type": "code",
   "execution_count": 33,
   "metadata": {},
   "outputs": [
    {
     "data": {
      "text/plain": [
       "<Axes: xlabel='Freq [GHz]'>"
      ]
     },
     "execution_count": 33,
     "metadata": {},
     "output_type": "execute_result"
    },
    {
     "data": {
      "image/png": "[encoded data removed]",
      "text/plain": [
       "<Figure size 640x480 with 1 Axes>"
      ]
     },
     "metadata": {},
     "output_type": "display_data"
    }
   ],
   "source": [
    "df.plot(x=df.columns[2], y=df.columns[3], style='o')"
   ]
  },
  {
   "cell_type": "code",
   "execution_count": 34,
   "metadata": {},
   "outputs": [],
   "source": [
    "X_train, X_test, y_train, y_test = train_test_split(df[['Pad_L [cm]', 'Pad_W [cm]']], df[['dB(S(1,1)) []']], random_state=random_state)"
   ]
  },
  {
   "cell_type": "code",
   "execution_count": 35,
   "metadata": {},
   "outputs": [],
   "source": [
    "clf_dt = DecisionTreeRegressor(random_state=random_state)\n",
    "clf_dt = clf_dt.fit(X_train, y_train)"
   ]
  },
  {
   "cell_type": "code",
   "execution_count": 36,
   "metadata": {},
   "outputs": [],
   "source": [
    "\n",
    "predictions = clf_dt.predict(X_test)\n"
   ]
  },
  {
   "cell_type": "code",
   "execution_count": 37,
   "metadata": {},
   "outputs": [],
   "source": [
    "results = X_test.copy()"
   ]
  },
  {
   "cell_type": "code",
   "execution_count": 38,
   "metadata": {},
   "outputs": [],
   "source": [
    "# results['y_test'] = y_test\n",
    "# results['predictions'] = predictions"
   ]
  },
  {
   "cell_type": "code",
   "execution_count": 39,
   "metadata": {},
   "outputs": [
    {
     "data": {
      "text/html": [
       "<div>\n",
       "<style scoped>\n",
       "    .dataframe tbody tr th:only-of-type {\n",
       "        vertical-align: middle;\n",
       "    }\n",
       "\n",
       "    .dataframe tbody tr th {\n",
       "        vertical-align: top;\n",
       "    }\n",
       "\n",
       "    .dataframe thead th {\n",
       "        text-align: right;\n",
       "    }\n",
       "</style>\n",
       "<table border=\"1\" class=\"dataframe\">\n",
       "  <thead>\n",
       "    <tr style=\"text-align: right;\">\n",
       "      <th></th>\n",
       "      <th>Pad_L [cm]</th>\n",
       "      <th>Pad_W [cm]</th>\n",
       "    </tr>\n",
       "  </thead>\n",
       "  <tbody>\n",
       "    <tr>\n",
       "      <th>376</th>\n",
       "      <td>0.35</td>\n",
       "      <td>0.6</td>\n",
       "    </tr>\n",
       "    <tr>\n",
       "      <th>798</th>\n",
       "      <td>0.40</td>\n",
       "      <td>0.8</td>\n",
       "    </tr>\n",
       "    <tr>\n",
       "      <th>783</th>\n",
       "      <td>0.40</td>\n",
       "      <td>0.8</td>\n",
       "    </tr>\n",
       "    <tr>\n",
       "      <th>120</th>\n",
       "      <td>0.40</td>\n",
       "      <td>0.4</td>\n",
       "    </tr>\n",
       "    <tr>\n",
       "      <th>580</th>\n",
       "      <td>0.45</td>\n",
       "      <td>0.6</td>\n",
       "    </tr>\n",
       "    <tr>\n",
       "      <th>...</th>\n",
       "      <td>...</td>\n",
       "      <td>...</td>\n",
       "    </tr>\n",
       "    <tr>\n",
       "      <th>171</th>\n",
       "      <td>0.40</td>\n",
       "      <td>0.4</td>\n",
       "    </tr>\n",
       "    <tr>\n",
       "      <th>45</th>\n",
       "      <td>0.35</td>\n",
       "      <td>0.4</td>\n",
       "    </tr>\n",
       "    <tr>\n",
       "      <th>57</th>\n",
       "      <td>0.35</td>\n",
       "      <td>0.4</td>\n",
       "    </tr>\n",
       "    <tr>\n",
       "      <th>140</th>\n",
       "      <td>0.40</td>\n",
       "      <td>0.4</td>\n",
       "    </tr>\n",
       "    <tr>\n",
       "      <th>624</th>\n",
       "      <td>0.35</td>\n",
       "      <td>0.8</td>\n",
       "    </tr>\n",
       "  </tbody>\n",
       "</table>\n",
       "<p>228 rows × 2 columns</p>\n",
       "</div>"
      ],
      "text/plain": [
       "     Pad_L [cm]  Pad_W [cm]\n",
       "376        0.35         0.6\n",
       "798        0.40         0.8\n",
       "783        0.40         0.8\n",
       "120        0.40         0.4\n",
       "580        0.45         0.6\n",
       "..          ...         ...\n",
       "171        0.40         0.4\n",
       "45         0.35         0.4\n",
       "57         0.35         0.4\n",
       "140        0.40         0.4\n",
       "624        0.35         0.8\n",
       "\n",
       "[228 rows x 2 columns]"
      ]
     },
     "execution_count": 39,
     "metadata": {},
     "output_type": "execute_result"
    }
   ],
   "source": [
    "results"
   ]
  },
  {
   "cell_type": "code",
   "execution_count": 40,
   "metadata": {},
   "outputs": [],
   "source": [
    "# Check if predicted value is threshold amount above or below actual value\n",
    "def is_in_threshold(actual, pred):\n",
    "    return pred <= actual + threshold and pred >= actual - threshold"
   ]
  },
  {
   "cell_type": "code",
   "execution_count": 41,
   "metadata": {},
   "outputs": [],
   "source": [
    "def create_tf_column(results):\n",
    "    return results.apply(lambda x: is_in_threshold(x['y_test'], x['predictions']), axis=1)"
   ]
  },
  {
   "cell_type": "code",
   "execution_count": 42,
   "metadata": {},
   "outputs": [],
   "source": [
    "def get_score(X_test, y_test, predictions, clf_dt):\n",
    "    predictions = clf_dt.predict(X_test)\n",
    "    dataframe = X_test.copy()\n",
    "    dataframe['y_test'] = y_test\n",
    "    dataframe['predictions'] = predictions\n",
    "    return create_tf_column(dataframe).value_counts().get(True) / dataframe.shape[0]"
   ]
  },
  {
   "cell_type": "code",
   "execution_count": 43,
   "metadata": {},
   "outputs": [
    {
     "data": {
      "text/plain": [
       "0.2236842105263158"
      ]
     },
     "execution_count": 43,
     "metadata": {},
     "output_type": "execute_result"
    }
   ],
   "source": [
    "get_score(X_test, y_test, predictions, clf_dt)"
   ]
  },
  {
   "cell_type": "code",
   "execution_count": 44,
   "metadata": {},
   "outputs": [],
   "source": [
    "\n",
    "path = clf_dt.cost_complexity_pruning_path(X_train, y_train)"
   ]
  },
  {
   "cell_type": "code",
   "execution_count": 45,
   "metadata": {},
   "outputs": [
    {
     "data": {
      "text/plain": [
       "{'ccp_alphas': array([0.00000000e+00, 3.31342775e-09, 8.27481244e-04, 2.66368200e-03,\n",
       "        1.37134132e-02, 1.47913789e-02, 3.62592491e-02, 6.43875124e-02,\n",
       "        1.13561002e-01]),\n",
       " 'impurities': array([35.71693406, 35.71693406, 35.71776154, 35.72042523, 35.73413864,\n",
       "        35.74893002, 35.78518927, 35.84957678, 35.96313778])}"
      ]
     },
     "execution_count": 45,
     "metadata": {},
     "output_type": "execute_result"
    }
   ],
   "source": [
    "path"
   ]
  },
  {
   "cell_type": "code",
   "execution_count": 46,
   "metadata": {},
   "outputs": [],
   "source": [
    "ccp_alphas = path.ccp_alphas\n",
    "ccp_alphas = ccp_alphas[:-1]"
   ]
  },
  {
   "cell_type": "code",
   "execution_count": 47,
   "metadata": {},
   "outputs": [
    {
     "data": {
      "text/plain": [
       "array([0.00000000e+00, 3.31342775e-09, 8.27481244e-04, 2.66368200e-03,\n",
       "       1.37134132e-02, 1.47913789e-02, 3.62592491e-02, 6.43875124e-02])"
      ]
     },
     "execution_count": 47,
     "metadata": {},
     "output_type": "execute_result"
    }
   ],
   "source": [
    "ccp_alphas"
   ]
  },
  {
   "cell_type": "code",
   "execution_count": 51,
   "metadata": {},
   "outputs": [],
   "source": [
    "ccp_alphas = np.linspace(0,6.43875124e-02,50)"
   ]
  },
  {
   "cell_type": "code",
   "execution_count": 52,
   "metadata": {},
   "outputs": [],
   "source": [
    "clf_dts = []\n",
    "\n",
    "for ccp_alpha in ccp_alphas:\n",
    "    clf_dt = DecisionTreeRegressor(random_state=random_state, ccp_alpha=ccp_alpha)\n",
    "    clf_dt.fit(X_train, y_train)\n",
    "    clf_dts.append(clf_dt)"
   ]
  },
  {
   "cell_type": "code",
   "execution_count": 53,
   "metadata": {},
   "outputs": [],
   "source": [
    "# train_scores = [clf_dt.score(X_train, y_train) for clf_dt in clf_dts]\n",
    "test_scores = [get_score(X_test, y_test, predictions, clf_dt) for clf_dt in clf_dts]"
   ]
  },
  {
   "cell_type": "code",
   "execution_count": 54,
   "metadata": {},
   "outputs": [
    {
     "data": {
      "text/plain": [
       "[0.2236842105263158,\n",
       " 0.2236842105263158,\n",
       " 0.2236842105263158,\n",
       " 0.21929824561403508,\n",
       " 0.21929824561403508,\n",
       " 0.21929824561403508,\n",
       " 0.21929824561403508,\n",
       " 0.21929824561403508,\n",
       " 0.21929824561403508,\n",
       " 0.21929824561403508,\n",
       " 0.21929824561403508,\n",
       " 0.2236842105263158,\n",
       " 0.21929824561403508,\n",
       " 0.21929824561403508,\n",
       " 0.21929824561403508,\n",
       " 0.21929824561403508,\n",
       " 0.21929824561403508,\n",
       " 0.21929824561403508,\n",
       " 0.21929824561403508,\n",
       " 0.21929824561403508,\n",
       " 0.21929824561403508,\n",
       " 0.21929824561403508,\n",
       " 0.21929824561403508,\n",
       " 0.21929824561403508,\n",
       " 0.21929824561403508,\n",
       " 0.21929824561403508,\n",
       " 0.21929824561403508,\n",
       " 0.21929824561403508,\n",
       " 0.21929824561403508,\n",
       " 0.21929824561403508,\n",
       " 0.21929824561403508,\n",
       " 0.21929824561403508,\n",
       " 0.21929824561403508,\n",
       " 0.21929824561403508,\n",
       " 0.21929824561403508,\n",
       " 0.21929824561403508,\n",
       " 0.21929824561403508,\n",
       " 0.21929824561403508,\n",
       " 0.21929824561403508,\n",
       " 0.21929824561403508,\n",
       " 0.21929824561403508,\n",
       " 0.21929824561403508,\n",
       " 0.21929824561403508,\n",
       " 0.21929824561403508,\n",
       " 0.21929824561403508,\n",
       " 0.21929824561403508,\n",
       " 0.21929824561403508,\n",
       " 0.21929824561403508,\n",
       " 0.21929824561403508,\n",
       " 0.21929824561403508]"
      ]
     },
     "execution_count": 54,
     "metadata": {},
     "output_type": "execute_result"
    }
   ],
   "source": [
    "test_scores"
   ]
  },
  {
   "cell_type": "code",
   "execution_count": 55,
   "metadata": {},
   "outputs": [
    {
     "data": {
      "image/png": "[encoded data removed]",
      "text/plain": [
       "<Figure size 640x480 with 1 Axes>"
      ]
     },
     "metadata": {},
     "output_type": "display_data"
    }
   ],
   "source": [
    "fig, ax = plt.subplots()\n",
    "ax.set_xlabel(\"alpha\")\n",
    "ax.set_ylabel(\"accuracy\")\n",
    "ax.set_title(\"Accuracy vs alpha for training and testing sets\")\n",
    "# ax.plot(ccp_alphas, train_scores, marker='o', label=\"train\", drawstyle=\"steps-post\")\n",
    "ax.plot(ccp_alphas, test_scores, marker='o', label=\"test\", drawstyle=\"steps-post\")\n",
    "ax.legend()\n",
    "plt.show()\n"
   ]
  },
  {
   "cell_type": "code",
   "execution_count": null,
   "metadata": {},
   "outputs": [],
   "source": []
  }
 ],
 "metadata": {
  "kernelspec": {
   "display_name": "Python 3",
   "language": "python",
   "name": "python3"
  },
  "language_info": {
   "codemirror_mode": {
    "name": "ipython",
    "version": 3
   },
   "file_extension": ".py",
   "mimetype": "text/x-python",
   "name": "python",
   "nbconvert_exporter": "python",
   "pygments_lexer": "ipython3",
   "version": "3.9.10"
  },
  "orig_nbformat": 4
 },
 "nbformat": 4,
 "nbformat_minor": 2
}
