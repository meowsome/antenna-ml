{
 "cells": [
  {
   "cell_type": "code",
   "execution_count": 121,
   "metadata": {},
   "outputs": [],
   "source": [
    "import pandas as pd\n",
    "from sklearn.model_selection import train_test_split\n",
    "from sklearn.tree import DecisionTreeRegressor\n",
    "from sklearn.preprocessing import MinMaxScaler\n",
    "from sklearn.pipeline import Pipeline\n",
    "import matplotlib.pyplot as plt\n",
    "import joblib"
   ]
  },
  {
   "cell_type": "code",
   "execution_count": 122,
   "metadata": {},
   "outputs": [],
   "source": [
    "random_state = 20\n",
    "threshold = 1 # Accuracy scoring threshold"
   ]
  },
  {
   "cell_type": "code",
   "execution_count": 123,
   "metadata": {},
   "outputs": [],
   "source": [
    "# Import data and preprocess\n",
    "df = pd.read_csv(\"test_data/Grounded CPW Leaky Wave antenna/S11 Data.csv\")\n",
    "df = df.drop(df[df['dB(S(1,1)) []'] > 0].index) # Remove all rows with positive s11"
   ]
  },
  {
   "cell_type": "code",
   "execution_count": 124,
   "metadata": {},
   "outputs": [
    {
     "data": {
      "text/html": [
       "<div>\n",
       "<style scoped>\n",
       "    .dataframe tbody tr th:only-of-type {\n",
       "        vertical-align: middle;\n",
       "    }\n",
       "\n",
       "    .dataframe tbody tr th {\n",
       "        vertical-align: top;\n",
       "    }\n",
       "\n",
       "    .dataframe thead th {\n",
       "        text-align: right;\n",
       "    }\n",
       "</style>\n",
       "<table border=\"1\" class=\"dataframe\">\n",
       "  <thead>\n",
       "    <tr style=\"text-align: right;\">\n",
       "      <th></th>\n",
       "      <th>Feed_Gap [mm]</th>\n",
       "      <th>Feed_Inset [cm]</th>\n",
       "      <th>Feed_W [cm]</th>\n",
       "      <th>Ground_gap [mm]</th>\n",
       "      <th>Pad_L [cm]</th>\n",
       "      <th>Pad_W [cm]</th>\n",
       "      <th>Freq [GHz]</th>\n",
       "      <th>dB(S(1,1)) []</th>\n",
       "    </tr>\n",
       "  </thead>\n",
       "  <tbody>\n",
       "    <tr>\n",
       "      <th>0</th>\n",
       "      <td>0.5</td>\n",
       "      <td>0.2</td>\n",
       "      <td>1.2</td>\n",
       "      <td>3</td>\n",
       "      <td>0.70</td>\n",
       "      <td>0.9</td>\n",
       "      <td>2.00</td>\n",
       "      <td>-0.232632</td>\n",
       "    </tr>\n",
       "    <tr>\n",
       "      <th>1</th>\n",
       "      <td>0.5</td>\n",
       "      <td>0.2</td>\n",
       "      <td>1.2</td>\n",
       "      <td>3</td>\n",
       "      <td>0.70</td>\n",
       "      <td>0.9</td>\n",
       "      <td>2.09</td>\n",
       "      <td>-0.340011</td>\n",
       "    </tr>\n",
       "    <tr>\n",
       "      <th>2</th>\n",
       "      <td>0.5</td>\n",
       "      <td>0.2</td>\n",
       "      <td>1.2</td>\n",
       "      <td>3</td>\n",
       "      <td>0.70</td>\n",
       "      <td>0.9</td>\n",
       "      <td>2.18</td>\n",
       "      <td>-1.501822</td>\n",
       "    </tr>\n",
       "    <tr>\n",
       "      <th>3</th>\n",
       "      <td>0.5</td>\n",
       "      <td>0.2</td>\n",
       "      <td>1.2</td>\n",
       "      <td>3</td>\n",
       "      <td>0.70</td>\n",
       "      <td>0.9</td>\n",
       "      <td>2.27</td>\n",
       "      <td>-1.827965</td>\n",
       "    </tr>\n",
       "    <tr>\n",
       "      <th>4</th>\n",
       "      <td>0.5</td>\n",
       "      <td>0.2</td>\n",
       "      <td>1.2</td>\n",
       "      <td>3</td>\n",
       "      <td>0.70</td>\n",
       "      <td>0.9</td>\n",
       "      <td>2.36</td>\n",
       "      <td>-0.448171</td>\n",
       "    </tr>\n",
       "    <tr>\n",
       "      <th>...</th>\n",
       "      <td>...</td>\n",
       "      <td>...</td>\n",
       "      <td>...</td>\n",
       "      <td>...</td>\n",
       "      <td>...</td>\n",
       "      <td>...</td>\n",
       "      <td>...</td>\n",
       "      <td>...</td>\n",
       "    </tr>\n",
       "    <tr>\n",
       "      <th>4216</th>\n",
       "      <td>0.5</td>\n",
       "      <td>0.2</td>\n",
       "      <td>1.2</td>\n",
       "      <td>4</td>\n",
       "      <td>0.75</td>\n",
       "      <td>1.2</td>\n",
       "      <td>19.64</td>\n",
       "      <td>-15.530748</td>\n",
       "    </tr>\n",
       "    <tr>\n",
       "      <th>4217</th>\n",
       "      <td>0.5</td>\n",
       "      <td>0.2</td>\n",
       "      <td>1.2</td>\n",
       "      <td>4</td>\n",
       "      <td>0.75</td>\n",
       "      <td>1.2</td>\n",
       "      <td>19.73</td>\n",
       "      <td>-15.681817</td>\n",
       "    </tr>\n",
       "    <tr>\n",
       "      <th>4218</th>\n",
       "      <td>0.5</td>\n",
       "      <td>0.2</td>\n",
       "      <td>1.2</td>\n",
       "      <td>4</td>\n",
       "      <td>0.75</td>\n",
       "      <td>1.2</td>\n",
       "      <td>19.82</td>\n",
       "      <td>-15.837634</td>\n",
       "    </tr>\n",
       "    <tr>\n",
       "      <th>4219</th>\n",
       "      <td>0.5</td>\n",
       "      <td>0.2</td>\n",
       "      <td>1.2</td>\n",
       "      <td>4</td>\n",
       "      <td>0.75</td>\n",
       "      <td>1.2</td>\n",
       "      <td>19.91</td>\n",
       "      <td>-16.001216</td>\n",
       "    </tr>\n",
       "    <tr>\n",
       "      <th>4220</th>\n",
       "      <td>0.5</td>\n",
       "      <td>0.2</td>\n",
       "      <td>1.2</td>\n",
       "      <td>4</td>\n",
       "      <td>0.75</td>\n",
       "      <td>1.2</td>\n",
       "      <td>20.00</td>\n",
       "      <td>-16.175659</td>\n",
       "    </tr>\n",
       "  </tbody>\n",
       "</table>\n",
       "<p>4203 rows × 8 columns</p>\n",
       "</div>"
      ],
      "text/plain": [
       "      Feed_Gap [mm]  Feed_Inset [cm]  Feed_W [cm]  Ground_gap [mm]  \\\n",
       "0               0.5              0.2          1.2                3   \n",
       "1               0.5              0.2          1.2                3   \n",
       "2               0.5              0.2          1.2                3   \n",
       "3               0.5              0.2          1.2                3   \n",
       "4               0.5              0.2          1.2                3   \n",
       "...             ...              ...          ...              ...   \n",
       "4216            0.5              0.2          1.2                4   \n",
       "4217            0.5              0.2          1.2                4   \n",
       "4218            0.5              0.2          1.2                4   \n",
       "4219            0.5              0.2          1.2                4   \n",
       "4220            0.5              0.2          1.2                4   \n",
       "\n",
       "      Pad_L [cm]  Pad_W [cm]  Freq [GHz]  dB(S(1,1)) []  \n",
       "0           0.70         0.9        2.00      -0.232632  \n",
       "1           0.70         0.9        2.09      -0.340011  \n",
       "2           0.70         0.9        2.18      -1.501822  \n",
       "3           0.70         0.9        2.27      -1.827965  \n",
       "4           0.70         0.9        2.36      -0.448171  \n",
       "...          ...         ...         ...            ...  \n",
       "4216        0.75         1.2       19.64     -15.530748  \n",
       "4217        0.75         1.2       19.73     -15.681817  \n",
       "4218        0.75         1.2       19.82     -15.837634  \n",
       "4219        0.75         1.2       19.91     -16.001216  \n",
       "4220        0.75         1.2       20.00     -16.175659  \n",
       "\n",
       "[4203 rows x 8 columns]"
      ]
     },
     "execution_count": 124,
     "metadata": {},
     "output_type": "execute_result"
    }
   ],
   "source": [
    "df"
   ]
  },
  {
   "cell_type": "code",
   "execution_count": 125,
   "metadata": {},
   "outputs": [],
   "source": [
    "# Split into x and y\n",
    "input_x = df.drop(columns=['dB(S(1,1)) []'], axis=1)\n",
    "input_y = df[['dB(S(1,1)) []']]"
   ]
  },
  {
   "cell_type": "code",
   "execution_count": 127,
   "metadata": {},
   "outputs": [],
   "source": [
    "# Split data into training and testing\n",
    "X_train, X_test, y_train, y_test = train_test_split(input_x, input_y, random_state=random_state)"
   ]
  },
  {
   "cell_type": "code",
   "execution_count": 129,
   "metadata": {},
   "outputs": [],
   "source": [
    "model = DecisionTreeRegressor(random_state=random_state) # Initialize model\n",
    "scaler = MinMaxScaler(feature_range=(0,1)) # Initialize scaler\n",
    "pipeline = Pipeline(steps=[('normalize', scaler), ('model', model)]) # Create pipeline with scaler and model"
   ]
  },
  {
   "cell_type": "code",
   "execution_count": 130,
   "metadata": {},
   "outputs": [],
   "source": [
    "# Train and predict the pipeline\n",
    "pipeline_fit = pipeline.fit(X_train, y_train)\n",
    "predictions = pipeline_fit.predict(X_test)"
   ]
  },
  {
   "cell_type": "code",
   "execution_count": 132,
   "metadata": {},
   "outputs": [],
   "source": [
    "# Check if predicted value is threshold amount above or below actual value\n",
    "def is_in_threshold(actual, pred):\n",
    "    return pred <= actual + threshold and pred >= actual - threshold"
   ]
  },
  {
   "cell_type": "code",
   "execution_count": 133,
   "metadata": {},
   "outputs": [],
   "source": [
    "# Create new boolean column that shows if the test and prediction values are the same\n",
    "results = X_test.copy()\n",
    "def create_tf_column(results):\n",
    "    return results.apply(lambda x: is_in_threshold(x['y_test'], x['predictions']), axis=1)"
   ]
  },
  {
   "cell_type": "code",
   "execution_count": 134,
   "metadata": {},
   "outputs": [],
   "source": [
    "# Calculate accuracy of model by number of predictions that are within threshold value above or below the test value for each row\n",
    "def get_score(X_test, y_test, predictions, clf_dt):\n",
    "    predictions = clf_dt.predict(X_test)\n",
    "    dataframe = pd.DataFrame(X_test.copy(), columns=input_x.columns)\n",
    "    dataframe['y_test'] = y_test.values\n",
    "    dataframe['predictions'] = predictions\n",
    "    return create_tf_column(dataframe).value_counts().get(True) / dataframe.shape[0]"
   ]
  },
  {
   "cell_type": "code",
   "execution_count": 135,
   "metadata": {},
   "outputs": [
    {
     "data": {
      "text/html": [
       "<div>\n",
       "<style scoped>\n",
       "    .dataframe tbody tr th:only-of-type {\n",
       "        vertical-align: middle;\n",
       "    }\n",
       "\n",
       "    .dataframe tbody tr th {\n",
       "        vertical-align: top;\n",
       "    }\n",
       "\n",
       "    .dataframe thead th {\n",
       "        text-align: right;\n",
       "    }\n",
       "</style>\n",
       "<table border=\"1\" class=\"dataframe\">\n",
       "  <thead>\n",
       "    <tr style=\"text-align: right;\">\n",
       "      <th></th>\n",
       "      <th>Feed_Gap [mm]</th>\n",
       "      <th>Feed_Inset [cm]</th>\n",
       "      <th>Feed_W [cm]</th>\n",
       "      <th>Ground_gap [mm]</th>\n",
       "      <th>Pad_L [cm]</th>\n",
       "      <th>Pad_W [cm]</th>\n",
       "      <th>Freq [GHz]</th>\n",
       "    </tr>\n",
       "  </thead>\n",
       "  <tbody>\n",
       "    <tr>\n",
       "      <th>3770</th>\n",
       "      <td>0.5</td>\n",
       "      <td>0.2</td>\n",
       "      <td>1.2</td>\n",
       "      <td>4</td>\n",
       "      <td>0.70</td>\n",
       "      <td>1.2</td>\n",
       "      <td>15.68</td>\n",
       "    </tr>\n",
       "    <tr>\n",
       "      <th>888</th>\n",
       "      <td>0.2</td>\n",
       "      <td>0.2</td>\n",
       "      <td>1.2</td>\n",
       "      <td>3</td>\n",
       "      <td>0.70</td>\n",
       "      <td>1.0</td>\n",
       "      <td>9.56</td>\n",
       "    </tr>\n",
       "    <tr>\n",
       "      <th>1157</th>\n",
       "      <td>0.3</td>\n",
       "      <td>0.2</td>\n",
       "      <td>1.2</td>\n",
       "      <td>3</td>\n",
       "      <td>0.70</td>\n",
       "      <td>1.0</td>\n",
       "      <td>15.68</td>\n",
       "    </tr>\n",
       "    <tr>\n",
       "      <th>318</th>\n",
       "      <td>0.5</td>\n",
       "      <td>0.2</td>\n",
       "      <td>1.2</td>\n",
       "      <td>4</td>\n",
       "      <td>0.70</td>\n",
       "      <td>0.9</td>\n",
       "      <td>12.53</td>\n",
       "    </tr>\n",
       "    <tr>\n",
       "      <th>2150</th>\n",
       "      <td>0.5</td>\n",
       "      <td>0.2</td>\n",
       "      <td>1.2</td>\n",
       "      <td>4</td>\n",
       "      <td>0.75</td>\n",
       "      <td>1.0</td>\n",
       "      <td>14.60</td>\n",
       "    </tr>\n",
       "    <tr>\n",
       "      <th>...</th>\n",
       "      <td>...</td>\n",
       "      <td>...</td>\n",
       "      <td>...</td>\n",
       "      <td>...</td>\n",
       "      <td>...</td>\n",
       "      <td>...</td>\n",
       "      <td>...</td>\n",
       "    </tr>\n",
       "    <tr>\n",
       "      <th>3899</th>\n",
       "      <td>0.5</td>\n",
       "      <td>0.2</td>\n",
       "      <td>1.2</td>\n",
       "      <td>3</td>\n",
       "      <td>0.75</td>\n",
       "      <td>1.2</td>\n",
       "      <td>9.20</td>\n",
       "    </tr>\n",
       "    <tr>\n",
       "      <th>2613</th>\n",
       "      <td>0.5</td>\n",
       "      <td>0.2</td>\n",
       "      <td>1.2</td>\n",
       "      <td>3</td>\n",
       "      <td>0.70</td>\n",
       "      <td>1.1</td>\n",
       "      <td>2.00</td>\n",
       "    </tr>\n",
       "    <tr>\n",
       "      <th>1698</th>\n",
       "      <td>0.5</td>\n",
       "      <td>0.2</td>\n",
       "      <td>1.2</td>\n",
       "      <td>4</td>\n",
       "      <td>0.70</td>\n",
       "      <td>1.0</td>\n",
       "      <td>10.10</td>\n",
       "    </tr>\n",
       "    <tr>\n",
       "      <th>92</th>\n",
       "      <td>0.5</td>\n",
       "      <td>0.2</td>\n",
       "      <td>1.2</td>\n",
       "      <td>3</td>\n",
       "      <td>0.70</td>\n",
       "      <td>0.9</td>\n",
       "      <td>10.28</td>\n",
       "    </tr>\n",
       "    <tr>\n",
       "      <th>1360</th>\n",
       "      <td>0.4</td>\n",
       "      <td>0.2</td>\n",
       "      <td>1.2</td>\n",
       "      <td>3</td>\n",
       "      <td>0.70</td>\n",
       "      <td>1.0</td>\n",
       "      <td>15.86</td>\n",
       "    </tr>\n",
       "  </tbody>\n",
       "</table>\n",
       "<p>1051 rows × 7 columns</p>\n",
       "</div>"
      ],
      "text/plain": [
       "      Feed_Gap [mm]  Feed_Inset [cm]  Feed_W [cm]  Ground_gap [mm]  \\\n",
       "3770            0.5              0.2          1.2                4   \n",
       "888             0.2              0.2          1.2                3   \n",
       "1157            0.3              0.2          1.2                3   \n",
       "318             0.5              0.2          1.2                4   \n",
       "2150            0.5              0.2          1.2                4   \n",
       "...             ...              ...          ...              ...   \n",
       "3899            0.5              0.2          1.2                3   \n",
       "2613            0.5              0.2          1.2                3   \n",
       "1698            0.5              0.2          1.2                4   \n",
       "92              0.5              0.2          1.2                3   \n",
       "1360            0.4              0.2          1.2                3   \n",
       "\n",
       "      Pad_L [cm]  Pad_W [cm]  Freq [GHz]  \n",
       "3770        0.70         1.2       15.68  \n",
       "888         0.70         1.0        9.56  \n",
       "1157        0.70         1.0       15.68  \n",
       "318         0.70         0.9       12.53  \n",
       "2150        0.75         1.0       14.60  \n",
       "...          ...         ...         ...  \n",
       "3899        0.75         1.2        9.20  \n",
       "2613        0.70         1.1        2.00  \n",
       "1698        0.70         1.0       10.10  \n",
       "92          0.70         0.9       10.28  \n",
       "1360        0.70         1.0       15.86  \n",
       "\n",
       "[1051 rows x 7 columns]"
      ]
     },
     "execution_count": 135,
     "metadata": {},
     "output_type": "execute_result"
    }
   ],
   "source": [
    "X_test"
   ]
  },
  {
   "cell_type": "code",
   "execution_count": 136,
   "metadata": {},
   "outputs": [
    {
     "data": {
      "text/plain": [
       "0.764034253092293"
      ]
     },
     "execution_count": 136,
     "metadata": {},
     "output_type": "execute_result"
    }
   ],
   "source": [
    "get_score(X_test, y_test, predictions, pipeline)"
   ]
  },
  {
   "cell_type": "code",
   "execution_count": 137,
   "metadata": {},
   "outputs": [],
   "source": [
    "\n",
    "path = model.cost_complexity_pruning_path(X_train, y_train)"
   ]
  },
  {
   "cell_type": "code",
   "execution_count": 138,
   "metadata": {},
   "outputs": [],
   "source": [
    "ccp_alphas = path.ccp_alphas\n",
    "ccp_alphas = ccp_alphas[:-1]\n",
    "ccp_alphas = ccp_alphas[0::50]"
   ]
  },
  {
   "cell_type": "code",
   "execution_count": 139,
   "metadata": {},
   "outputs": [],
   "source": [
    "clf_dts = []\n",
    "\n",
    "for ccp_alpha in ccp_alphas:\n",
    "    clf_dt = DecisionTreeRegressor(random_state=random_state, ccp_alpha=ccp_alpha)\n",
    "    clf_dt.fit(X_train, y_train)\n",
    "    clf_dts.append(clf_dt)"
   ]
  },
  {
   "cell_type": "code",
   "execution_count": 140,
   "metadata": {},
   "outputs": [],
   "source": [
    "# train_scores = [clf_dt.score(X_train, y_train) for clf_dt in clf_dts]\n",
    "test_scores = [get_score(X_test, y_test, predictions, clf_dt) for clf_dt in clf_dts]"
   ]
  },
  {
   "cell_type": "code",
   "execution_count": 141,
   "metadata": {},
   "outputs": [
    {
     "data": {
      "text/plain": [
       "[0.764034253092293,\n",
       " 0.764034253092293,\n",
       " 0.764034253092293,\n",
       " 0.764034253092293,\n",
       " 0.764034253092293,\n",
       " 0.764034253092293,\n",
       " 0.764034253092293,\n",
       " 0.764034253092293,\n",
       " 0.764034253092293,\n",
       " 0.764034253092293,\n",
       " 0.764034253092293,\n",
       " 0.764034253092293,\n",
       " 0.764034253092293,\n",
       " 0.7630827783063748,\n",
       " 0.7630827783063748,\n",
       " 0.7630827783063748,\n",
       " 0.764034253092293,\n",
       " 0.764034253092293,\n",
       " 0.764034253092293,\n",
       " 0.7649857278782112,\n",
       " 0.7659372026641293,\n",
       " 0.7659372026641293,\n",
       " 0.7659372026641293,\n",
       " 0.7659372026641293,\n",
       " 0.7668886774500476,\n",
       " 0.7697431018078021,\n",
       " 0.7706945765937203,\n",
       " 0.7706945765937203,\n",
       " 0.7697431018078021,\n",
       " 0.7697431018078021,\n",
       " 0.7649857278782112,\n",
       " 0.7611798287345385,\n",
       " 0.7592768791627021,\n",
       " 0.758325404376784,\n",
       " 0.758325404376784,\n",
       " 0.7564224548049476,\n",
       " 0.758325404376784,\n",
       " 0.7611798287345385,\n",
       " 0.7621313035204567,\n",
       " 0.7611798287345385,\n",
       " 0.7564224548049476,\n",
       " 0.7497621313035204,\n",
       " 0.7478591817316841,\n",
       " 0.7421503330161751,\n",
       " 0.7392959086584205,\n",
       " 0.7259752616555661,\n",
       " 0.7126546146527117,\n",
       " 0.7059942911512845,\n",
       " 0.686964795432921,\n",
       " 0.6641294005708849,\n",
       " 0.6489058039961941]"
      ]
     },
     "execution_count": 141,
     "metadata": {},
     "output_type": "execute_result"
    }
   ],
   "source": [
    "test_scores"
   ]
  },
  {
   "cell_type": "code",
   "execution_count": 142,
   "metadata": {},
   "outputs": [
    {
     "data": {
      "image/png": "[encoded data removed]",
      "text/plain": [
       "<Figure size 640x480 with 1 Axes>"
      ]
     },
     "metadata": {},
     "output_type": "display_data"
    }
   ],
   "source": [
    "fig, ax = plt.subplots()\n",
    "ax.set_xlabel(\"alpha\")\n",
    "ax.set_ylabel(\"accuracy\")\n",
    "ax.set_title(\"Accuracy vs alpha for training and testing sets\")\n",
    "# ax.plot(ccp_alphas, train_scores, marker='o', label=\"train\", drawstyle=\"steps-post\")\n",
    "ax.plot(ccp_alphas, test_scores, marker='o', label=\"test\", drawstyle=\"steps-post\")\n",
    "ax.legend()\n",
    "plt.show()\n"
   ]
  },
  {
   "cell_type": "code",
   "execution_count": 144,
   "metadata": {},
   "outputs": [
    {
     "data": {
      "text/plain": [
       "['antenna_model.pkl']"
      ]
     },
     "execution_count": 144,
     "metadata": {},
     "output_type": "execute_result"
    }
   ],
   "source": [
    "# Save model to file\n",
    "joblib.dump(pipeline_fit, \"antenna_model.pkl\", compress=1)"
   ]
  }
 ],
 "metadata": {
  "kernelspec": {
   "display_name": "Python 3",
   "language": "python",
   "name": "python3"
  },
  "language_info": {
   "codemirror_mode": {
    "name": "ipython",
    "version": 3
   },
   "file_extension": ".py",
   "mimetype": "text/x-python",
   "name": "python",
   "nbconvert_exporter": "python",
   "pygments_lexer": "ipython3",
   "version": "3.10.12"
  },
  "orig_nbformat": 4
 },
 "nbformat": 4,
 "nbformat_minor": 2
}
