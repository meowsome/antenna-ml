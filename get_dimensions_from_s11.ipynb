{
 "cells": [
  {
   "cell_type": "code",
   "execution_count": null,
   "metadata": {},
   "outputs": [],
   "source": [
    "import pandas as pd\n",
    "import joblib\n",
    "import shap\n",
    "import numpy as np\n",
    "import ipywidgets as widgets\n",
    "from ipywidgets import VBox, Checkbox, IntProgress\n",
    "from IPython.display import display, HTML, clear_output\n",
    "import warnings\n",
    "import plotly.express as px\n",
    "import os\n",
    "import matplotlib.pyplot as plt\n",
    "import sqlite3"
   ]
  },
  {
   "cell_type": "code",
   "execution_count": null,
   "metadata": {},
   "outputs": [],
   "source": [
    "conn = sqlite3.connect('test_data/lw.db')"
   ]
  },
  {
   "cell_type": "code",
   "execution_count": null,
   "metadata": {},
   "outputs": [],
   "source": [
    "# Make the font the same as latex \n",
    "from matplotlib import rc\n",
    "rc('font', **{'family': 'serif', 'serif': ['Computer Modern']})\n",
    "rc('text', usetex=True)"
   ]
  },
  {
   "cell_type": "code",
   "execution_count": null,
   "metadata": {},
   "outputs": [],
   "source": [
    "# Support plotly in binder\n",
    "if \"BINDER_SERVICE_HOST\" in os.environ:\n",
    "    import plotly.io as pio\n",
    "    pio.renderers.default='iframe'"
   ]
  },
  {
   "cell_type": "code",
   "execution_count": null,
   "metadata": {},
   "outputs": [],
   "source": [
    "warnings.filterwarnings('ignore')\n",
    "plot_matplotlib = True"
   ]
  },
  {
   "cell_type": "code",
   "execution_count": null,
   "metadata": {},
   "outputs": [],
   "source": [
    "shap.initjs()"
   ]
  },
  {
   "cell_type": "code",
   "execution_count": null,
   "metadata": {},
   "outputs": [],
   "source": [
    "df = pd.read_csv(\"test_data/new leaky wave/S11_Data_combined_w_extra.csv\")\n",
    "# df_all = pd.read_pickle(\"all_predictions.pkl\")"
   ]
  },
  {
   "cell_type": "code",
   "execution_count": 47,
   "metadata": {},
   "outputs": [],
   "source": [
    "working_geometries = pd.DataFrame()\n",
    "s11_val = 0\n",
    "freq_val = 0\n",
    "show_best_only = True\n",
    "only_simulated = False\n",
    "\n",
    "# Filter working_geometries by best\n",
    "def filter_by_best(filtered_geometries):\n",
    "    best_s11 = 0\n",
    "    freq_min, freq_max = freq_val\n",
    "\n",
    "    # Get rows only in this frequency range\n",
    "    geos_within_freq = filtered_geometries[(filtered_geometries['Freq [GHz]'] > freq_min) & (filtered_geometries['Freq [GHz]'] < freq_max)]\n",
    "    \n",
    "    # Separate out geometries into groups \n",
    "    grouped_df = geos_within_freq.groupby([\"Geometry Name\"])\n",
    "\n",
    "    # Get the best top s11 out of all of the geometries \n",
    "    best_s11 = grouped_df['prediction'].max().min()\n",
    "\n",
    "    # For each geometry, get the highest possible s11 value. Then, take the lowest of all of the top s11 values\n",
    "    group_mask = grouped_df['prediction'].transform(lambda x: x.max() == best_s11).astype(bool)\n",
    "    geos_meeting_criteria = geos_within_freq.loc[group_mask].reset_index(drop=True)\n",
    "    unique_geos_meeting_criteria = geos_meeting_criteria['Geometry Name'].unique().tolist()\n",
    "\n",
    "    # Return all rows for each unique geometry with lowest top prediction between range\n",
    "    return filtered_geometries[filtered_geometries['Geometry Name'].isin(unique_geos_meeting_criteria)]\n",
    "\n",
    "# Initialize progress bar\n",
    "pbar = IntProgress(min=0, max=5)\n",
    "\n",
    "# Display progress bar\n",
    "loading_out = widgets.Output()\n",
    "@loading_out.capture()\n",
    "def loading_message():\n",
    "    clear_output()\n",
    "    display(HTML(\"<h3>Loading...</h3>\"))\n",
    "    display(pbar)\n",
    "\n",
    "# Update progress bar when step is true, or reset when false \n",
    "def update_pbar(step=False):\n",
    "    global pbar\n",
    "    if step:\n",
    "        pbar.value += 1\n",
    "    else:\n",
    "        pbar.value = 0\n",
    "\n",
    "out = widgets.Output()\n",
    "@out.capture()\n",
    "def print_dimensions():\n",
    "    clear_output()\n",
    "\n",
    "    if not working_geometries.empty:\n",
    "        filtered_geometries = working_geometries.copy()\n",
    "\n",
    "        if only_simulated:\n",
    "            filtered_geometries = filtered_geometries[filtered_geometries['source_simulated'] == 1]\n",
    "\n",
    "        if show_best_only:\n",
    "            filtered_geometries = filter_by_best(filtered_geometries)\n",
    "        update_pbar(1)\n",
    "\n",
    "        freq_min, freq_max = freq_val\n",
    "        unique_geometries = filtered_geometries['Geometry Name'].unique()\n",
    "        display(HTML(f\"<h2>{unique_geometries.shape[0]} Geometries</h2>\"))\n",
    "\n",
    "        # Begin setting up matplotlib figure\n",
    "        if plot_matplotlib:\n",
    "            plt.figure(figsize=(6,4))\n",
    "\n",
    "        # Create & display plotly figure\n",
    "        fig = px.line(filtered_geometries, x=\"Freq [GHz]\", y=\"prediction\", title='Performance vs Frequency for Geometries', color=\"Geometry Name\")\n",
    "        fig.add_hline(y=s11_val, line_dash=\"dash\", line_color=\"blue\")\n",
    "        fig.add_vline(x=freq_min, line_dash=\"dash\", line_color=\"green\")\n",
    "        fig.add_vline(x=freq_max, line_dash=\"dash\", line_color=\"green\")\n",
    "        display(fig)\n",
    "\n",
    "        update_pbar(1)\n",
    "\n",
    "        # Plot each geometry for matplotlib\n",
    "        if plot_matplotlib:\n",
    "            for geometry_name in unique_geometries:\n",
    "                rows = filtered_geometries[filtered_geometries['Geometry Name'] == geometry_name]\n",
    "\n",
    "                # Plot line for matplotlib \n",
    "                plt.plot(rows['Freq [GHz]'], rows['prediction'], label=geometry_name)\n",
    "\n",
    "        # Display all geometries in table \n",
    "        filtered_geometries['Source'] = filtered_geometries.apply(lambda x: \"Simulated\" if x['source_simulated'] else \"Predicted\", axis=1) # 1 if simulated, 0 if predicted\n",
    "        filtered_geometries.drop(columns=['Freq [GHz]', 'prediction', 'source_simulated'], inplace=True)\n",
    "        filtered_geometries.drop_duplicates(inplace=True)\n",
    "        display(HTML(filtered_geometries.to_html(index=False)))\n",
    "\n",
    "        # Finish setting up matplotlib figure \n",
    "        if plot_matplotlib:\n",
    "            plt.xlabel(\"Freq [GHz]\")\n",
    "            plt.ylabel(\"prediction\")\n",
    "            legend_disp = unique_geometries[:10].tolist()\n",
    "            if len(unique_geometries) > 10:\n",
    "                legend_disp += [\"...\"]\n",
    "            plt.legend(legend_disp, loc=\"upper left\")\n",
    "            plt.axhline(y=s11_val, color='b', linestyle='--')\n",
    "            plt.axvline(x=freq_min, color='g', linestyle='--')\n",
    "            plt.axvline(x=freq_max, color='g', linestyle='--')\n",
    "            # plt.savefig(f\"{'-'.join([str(geo) for geo in legend_disp])}.png\")\n",
    "    else:\n",
    "        display(HTML(\"<h2>No results found</h2>\"))\n",
    "\n",
    "# def print_shap(dimensions_for_prediction):\n",
    "#     explainer = shap.TreeExplainer(model.named_steps['model'])\n",
    "#     shap_values = explainer(dimensions_for_prediction)\n",
    "\n",
    "#     display(HTML(\"<h2>Shap Explanation</h2>\"))\n",
    "#     shap.plots.waterfall(shap_values[0], max_display=14)"
   ]
  },
  {
   "cell_type": "code",
   "execution_count": null,
   "metadata": {},
   "outputs": [],
   "source": [
    "def print_prediction():\n",
    "    global working_geometries\n",
    "    loading_message()\n",
    "    update_pbar(0)\n",
    "    update_pbar(1)\n",
    "\n",
    "    freq_min, freq_max = freq_val\n",
    "\n",
    "    # SQL query\n",
    "    # First, select all unique geometries where all s11 predictions are below desired s11 between freq min and max (inner)\n",
    "    # Second, find all frequencies for the unique geometries (outer) \n",
    "    base_sql_query = \"\"\"\n",
    "        select * from geometries\n",
    "        where (\"cpw_in [mm]\", \"feed_l [mm]\", \"patch_l [mm]\", \"Feed_W [mm]\", \"ground_w [mm]\", \"patch_ground_w [mm]\", \"patch_w [mm]\") in (\n",
    "            select \"cpw_in [mm]\", \"feed_l [mm]\", \"patch_l [mm]\", \"Feed_W [mm]\", \"ground_w [mm]\", \"patch_ground_w [mm]\", \"patch_w [mm]\"\n",
    "            from geometries\n",
    "            where \"Freq [GHz]\" > ?\n",
    "            and \"Freq [GHz]\" < ?\n",
    "            group by \"cpw_in [mm]\", \"feed_l [mm]\", \"patch_l [mm]\", \"Feed_W [mm]\", \"ground_w [mm]\", \"patch_ground_w [mm]\", \"patch_w [mm]\"\n",
    "            having max(prediction) < ?\n",
    "        )\n",
    "    \"\"\"\n",
    "\n",
    "    # Pull results from sqlite file \n",
    "    working_geometries = pd.read_sql_query(base_sql_query,\n",
    "        con=conn,\n",
    "        params=(freq_min, freq_max, s11_val, )\n",
    "    )\n",
    "    update_pbar(1)\n",
    "\n",
    "    if not working_geometries.empty:        \n",
    "        geo_params = working_geometries.columns.tolist()[:-3]\n",
    "        working_geometries['Geometry Name'] = working_geometries.groupby(geo_params).ngroup() # Set the name for each group of geometry \n",
    "\n",
    "        # Get df of unique geometries within filter, keeping the freq column with the highest freq of each\n",
    "        working_geometries = working_geometries.drop_duplicates(subset=working_geometries.columns[:-2], keep='first')\n",
    "        update_pbar(1)\n",
    "\n",
    "    # Print results \n",
    "    print_dimensions()\n",
    "        # print('PRINT SHAP')\n",
    "        # geos_to_pass = working_geometries.copy()\n",
    "        # geos_to_pass.drop(columns=['Geometry Name', 'prediction'], inplace=True)\n",
    "        # print_shap(geos_to_pass.iloc[0]) # TODO FIX ME NOT WORKING\n"
   ]
  },
  {
   "cell_type": "code",
   "execution_count": null,
   "metadata": {},
   "outputs": [],
   "source": [
    "s11_min, s11_max = conn.execute(\"select min(prediction), max(prediction) from geometries\").fetchone()"
   ]
  },
  {
   "cell_type": "code",
   "execution_count": 48,
   "metadata": {},
   "outputs": [],
   "source": [
    "s11_input = widgets.BoundedFloatText(value=-10, min=s11_min, max=s11_max, step=0.05, description=\"S11:\")\n",
    "freq_input = widgets.FloatRangeSlider(min=df['Freq [GHz]'].min(), max=df['Freq [GHz]'].max(), step=0.01, description=\"Frequency Range:\")\n",
    "\n",
    "def on_button_clicked(b):\n",
    "    global s11_val, freq_val\n",
    "    s11_val = s11_input.value\n",
    "    freq_val = freq_input.value\n",
    "    print_prediction()\n",
    "\n",
    "def show_best_function(checkbox_val):\n",
    "    global show_best_only\n",
    "    show_best_only = checkbox_val['new']\n",
    "    print_dimensions()\n",
    "\n",
    "def only_include_simulated(checkbox_val):\n",
    "    global only_simulated\n",
    "    only_simulated = checkbox_val['new']\n",
    "    print_dimensions()\n",
    "\n",
    "go_button = widgets.Button(description=\"Run\")\n",
    "go_button.on_click(on_button_clicked)\n",
    "\n",
    "show_best_checkbox = Checkbox(True, description='Only Show Best')\n",
    "show_best_checkbox.observe(show_best_function, names=['value'])\n",
    "\n",
    "show_simulated_checkbox = Checkbox(False, description='Only Show Simulated')\n",
    "show_simulated_checkbox.observe(only_include_simulated, names=['value'])"
   ]
  },
  {
   "cell_type": "code",
   "execution_count": 49,
   "metadata": {},
   "outputs": [
    {
     "data": {
      "application/vnd.jupyter.widget-view+json": {
       "model_id": "1a4faeab7336443ab80290ed28fe74d0",
       "version_major": 2,
       "version_minor": 0
      },
      "text/plain": [
       "VBox(children=(BoundedFloatText(value=-10.0, description='S11:', max=5.007326126098633, min=-60.32228088378906…"
      ]
     },
     "metadata": {},
     "output_type": "display_data"
    }
   ],
   "source": [
    "display(VBox([s11_input, freq_input, go_button, show_best_checkbox, show_simulated_checkbox, loading_out, out]))"
   ]
  },
  {
   "cell_type": "code",
   "execution_count": null,
   "metadata": {},
   "outputs": [],
   "source": []
  }
 ],
 "metadata": {
  "kernelspec": {
   "display_name": "Python 3",
   "language": "python",
   "name": "python3"
  },
  "language_info": {
   "codemirror_mode": {
    "name": "ipython",
    "version": 3
   },
   "file_extension": ".py",
   "mimetype": "text/x-python",
   "name": "python",
   "nbconvert_exporter": "python",
   "pygments_lexer": "ipython3",
   "version": "3.9.18"
  }
 },
 "nbformat": 4,
 "nbformat_minor": 2
}
