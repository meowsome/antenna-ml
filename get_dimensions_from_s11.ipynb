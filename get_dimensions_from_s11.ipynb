{
 "cells": [
  {
   "cell_type": "code",
   "execution_count": null,
   "metadata": {},
   "outputs": [],
   "source": [
    "import pandas as pd\n",
    "import joblib\n",
    "import shap\n",
    "import pandas as pd\n",
    "import ipywidgets as widgets\n",
    "from ipywidgets import VBox, Checkbox\n",
    "from IPython.display import display, HTML, clear_output\n",
    "import warnings\n",
    "import plotly.express as px\n",
    "from tqdm import tqdm\n",
    "import os"
   ]
  },
  {
   "cell_type": "code",
   "execution_count": null,
   "metadata": {},
   "outputs": [],
   "source": [
    "# Make the font the same as latex \n",
    "from matplotlib import rc\n",
    "rc('font', **{'family': 'serif', 'serif': ['Computer Modern']})\n",
    "rc('text', usetex=True)"
   ]
  },
  {
   "cell_type": "code",
   "execution_count": null,
   "metadata": {},
   "outputs": [],
   "source": [
    "# Support plotly in binder\n",
    "if \"BINDER_SERVICE_HOST\" in os.environ:\n",
    "    import plotly.io as pio\n",
    "    pio.renderers.default='iframe'"
   ]
  },
  {
   "cell_type": "code",
   "execution_count": null,
   "metadata": {},
   "outputs": [],
   "source": [
    "warnings.filterwarnings('ignore')"
   ]
  },
  {
   "cell_type": "code",
   "execution_count": null,
   "metadata": {},
   "outputs": [],
   "source": [
    "df = pd.read_csv(\"test_data/patch_antenna/Patch Antenna S11 Data.csv\")\n",
    "X = df.drop(columns=['dB(S(1,1)) []'])"
   ]
  },
  {
   "cell_type": "code",
   "execution_count": null,
   "metadata": {},
   "outputs": [],
   "source": [
    "shap.initjs()"
   ]
  },
  {
   "cell_type": "code",
   "execution_count": null,
   "metadata": {},
   "outputs": [],
   "source": [
    "X.columns"
   ]
  },
  {
   "cell_type": "code",
   "execution_count": null,
   "metadata": {},
   "outputs": [],
   "source": [
    "for col in X.columns:\n",
    "    print(f\"{col}: Range: {X[col].min()} - {X[col].max()}, avg: {X[col].mean()}\")\n",
    "    print(X[col].unique().tolist())\n",
    "    print('')"
   ]
  },
  {
   "cell_type": "code",
   "execution_count": null,
   "metadata": {},
   "outputs": [],
   "source": [
    "complete_df = pd.DataFrame(columns=X.columns)"
   ]
  },
  {
   "cell_type": "code",
   "execution_count": null,
   "metadata": {},
   "outputs": [],
   "source": [
    "# Create all combinations of ranges \n",
    "ranges = {}\n",
    "data_cols = list(X.columns)\n",
    "for column in data_cols:\n",
    "    ranges[column] = X[column].unique().tolist()\n",
    "\n",
    "# Custom overrides\n",
    "ranges['inset_dist [mm]'] += [0.8, 1.2]\n",
    "ranges['L [mm]'] += [11.75, 12.25]\n",
    "ranges['W [mm]'] += [14.2, 14.4, 14.6, 15.0, 15.2, 15.4]\n",
    "ranges['W0 [mm]'] += [2.75, 3.25]\n",
    "ranges['y0 [mm]'] += [3.25, 3.75, 4.25, 4.75]"
   ]
  },
  {
   "cell_type": "code",
   "execution_count": null,
   "metadata": {},
   "outputs": [],
   "source": [
    "test = 0\n",
    "for col in ranges:\n",
    "    print(len(ranges[col]))"
   ]
  },
  {
   "cell_type": "code",
   "execution_count": null,
   "metadata": {},
   "outputs": [],
   "source": [
    "# Try cartesian product in pandas instead https://stackoverflow.com/a/13270110/3675086\n",
    "ranges_df = pd.DataFrame(ranges[X.columns[0]], columns=[X.columns[0]])\n",
    "for col in complete_df.columns[1:]:\n",
    "    temp_df = pd.DataFrame(ranges[col], columns=[col])\n",
    "    ranges_df = ranges_df.merge(temp_df, how='cross')"
   ]
  },
  {
   "cell_type": "code",
   "execution_count": null,
   "metadata": {},
   "outputs": [],
   "source": [
    "ranges_df"
   ]
  },
  {
   "cell_type": "code",
   "execution_count": null,
   "metadata": {},
   "outputs": [],
   "source": [
    "# Remove duplicates that are already calculated https://stackoverflow.com/a/47107164\n",
    "df_all = ranges_df.merge(X.drop_duplicates(), on=X.columns.tolist(), how='left', indicator=True)\n",
    "df_all = df_all[df_all['_merge'] == 'left_only']\n",
    "df_all.drop(columns=['_merge'], inplace=True, axis=1)"
   ]
  },
  {
   "cell_type": "code",
   "execution_count": null,
   "metadata": {},
   "outputs": [],
   "source": [
    "# Run thru ML model to get predictions\n",
    "model = joblib.load('antenna_model.pkl')\n",
    "predictions = model.predict(df_all)"
   ]
  },
  {
   "cell_type": "code",
   "execution_count": null,
   "metadata": {},
   "outputs": [],
   "source": [
    "df_all['prediction'] = predictions"
   ]
  },
  {
   "cell_type": "code",
   "execution_count": null,
   "metadata": {},
   "outputs": [],
   "source": [
    "df_all.to_pickle(\"all_predictions.pkl\")"
   ]
  },
  {
   "cell_type": "code",
   "execution_count": null,
   "metadata": {},
   "outputs": [],
   "source": [
    "df_all"
   ]
  },
  {
   "cell_type": "code",
   "execution_count": null,
   "metadata": {},
   "outputs": [],
   "source": [
    "working_geometries = pd.DataFrame()\n",
    "s11_val = 0\n",
    "freq_val = 0\n",
    "show_best_only = True\n",
    "\n",
    "# Filter working_geometries by best\n",
    "def filter_by_best():\n",
    "    best_s11 = 0\n",
    "    filtered_geometries = working_geometries.copy()\n",
    "    freq_min, freq_max = freq_val\n",
    "    unique_geometries = filtered_geometries['Geometry Name'].unique()\n",
    "    for i, geometry_name in enumerate(unique_geometries):\n",
    "        rows = filtered_geometries[filtered_geometries['Geometry Name'] == geometry_name]\n",
    "        rows_in_freq = rows[(rows['Freq [GHz]'] > freq_min) & (rows['Freq [GHz]'] < freq_max)]\n",
    "        if rows_in_freq['prediction'].max() > best_s11:\n",
    "            filtered_geometries.drop(rows.index, inplace=True)\n",
    "        elif rows_in_freq['prediction'].max() < best_s11:\n",
    "            best_s11 = rows_in_freq['prediction'].max()\n",
    "    return filtered_geometries\n",
    "\n",
    "import matplotlib.pyplot as plt\n",
    "\n",
    "out = widgets.Output()\n",
    "@out.capture()\n",
    "def print_dimensions():\n",
    "    clear_output()\n",
    "\n",
    "    if not working_geometries.empty:\n",
    "        print(\"Loading...\")\n",
    "        filtered_geometries = working_geometries if not show_best_only else filter_by_best()\n",
    "\n",
    "        freq_min, freq_max = freq_val\n",
    "        unique_geometries = filtered_geometries['Geometry Name'].unique()\n",
    "        display(HTML(f\"<h2>{unique_geometries.shape[0]} Geometries</h2>\"))\n",
    "\n",
    "        unique_geometries = unique_geometries[:100]\n",
    "\n",
    "        # Begin setting up matplotlib figure\n",
    "        plt.figure(figsize=(10,6))\n",
    "\n",
    "        # Create & display plotly figure\n",
    "        fig = px.line(filtered_geometries, x=\"Freq [GHz]\", y=\"prediction\", title='Performance vs Frequency for Geometries', color=\"Geometry Name\")\n",
    "        fig.add_hline(y=s11_val, line_dash=\"dash\", line_color=\"blue\")\n",
    "        fig.add_vline(x=freq_min, line_dash=\"dash\", line_color=\"green\")\n",
    "        fig.add_vline(x=freq_max, line_dash=\"dash\", line_color=\"green\")\n",
    "        display(fig)\n",
    "\n",
    "        for i, geometry_name in enumerate(unique_geometries):\n",
    "            rows = filtered_geometries[filtered_geometries['Geometry Name'] == geometry_name]\n",
    "            columns = rows.columns\n",
    "            result_line = \"\"\n",
    "            # Print all cols except freq and prediction\n",
    "            columns = [col for col in columns if col not in [\"Freq [GHz]\", \"prediction\", \"Geometry Name\"]]\n",
    "            for column in columns:\n",
    "                col = rows.iloc[0][column]\n",
    "                result_line += f\"<li>{column}: {round(col, 4)}</li>\"\n",
    "\n",
    "            # Print s11\n",
    "            filtered_values = rows[(rows['Freq [GHz]'] > freq_min) & (rows['Freq [GHz]'] < freq_max)]\n",
    "            s11_min = filtered_values['prediction'].max()\n",
    "            s11_max = filtered_values['prediction'].min()\n",
    "            result_line += f\"<li>dB(S(1,1)): {round(s11_min, 4)} thru {round(s11_max, 4)}</li>\"\n",
    "\n",
    "            # Plot line for matplotlib \n",
    "            plt.plot(rows['Freq [GHz]'], rows['prediction'], label=geometry_name)\n",
    "                    \n",
    "            display(HTML(f\"<h4>{geometry_name}</h4><ul>{result_line}</ul>\"))\n",
    "\n",
    "        # Finish setting up matplotlib figure \n",
    "        plt.xlabel(\"Freq [GHz]\")\n",
    "        plt.ylabel(\"prediction\")\n",
    "        legend_disp = unique_geometries[:10].tolist()\n",
    "        if len(unique_geometries) > 10:\n",
    "            legend_disp += [\"...\"]\n",
    "        plt.legend(legend_disp, loc=\"upper left\")\n",
    "        plt.axhline(y=s11_val, color='b', linestyle='--')\n",
    "        plt.axvline(x=freq_min, color='g', linestyle='--')\n",
    "        plt.axvline(x=freq_max, color='g', linestyle='--')\n",
    "        plt.savefig(f\"{'-'.join([str(geo) for geo in legend_disp])}.png\")\n",
    "    else:\n",
    "        display(HTML(\"<h2>No results found</h2>\"))\n",
    "\n",
    "def print_shap(dimensions_for_prediction):\n",
    "    explainer = shap.TreeExplainer(model.named_steps['model'])\n",
    "    shap_values = explainer(dimensions_for_prediction)\n",
    "\n",
    "    display(HTML(\"<h2>Shap Explanation</h2>\"))\n",
    "    shap.plots.waterfall(shap_values[0], max_display=14)"
   ]
  },
  {
   "cell_type": "code",
   "execution_count": null,
   "metadata": {},
   "outputs": [],
   "source": [
    "def print_prediction():\n",
    "    global working_geometries\n",
    "\n",
    "    freq_min, freq_max = freq_val\n",
    "\n",
    "    df_all['Geometry Name'] = df_all.groupby([\"inset_dist [mm]\", \"L [mm]\", \"sub_thick [mm]\", \"W [mm]\", \"W0 [mm]\", \"y0 [mm]\"]).ngroup() # Set the name for each group of geometry \n",
    "\n",
    "    # Filter by only frequencies that are requested\n",
    "    geometries_within_freq = df_all[(df_all['Freq [GHz]'] > freq_min) & (df_all['Freq [GHz]'] < freq_max)]\n",
    "    # Get df of unique geometries within filter, keeping the freq column with the highest freq of each\n",
    "    geometries_within_freq = geometries_within_freq.drop_duplicates(subset=geometries_within_freq.columns[:-1], keep='first')\n",
    "\n",
    "    # Filter by only s11 values that are requested\n",
    "    # https://stackoverflow.com/questions/55262665/finding-groups-that-meet-a-condition-in-pandas-groupby \n",
    "    # https://stackoverflow.com/questions/62713000/keep-only-groups-where-all-values-satisfy-a-condition\n",
    "    print('filtering by s11')\n",
    "    geometries_within_s11 = geometries_within_freq[geometries_within_freq['prediction'].lt(s11_val).groupby(geometries_within_freq['Geometry Name']).transform('all')]\n",
    "\n",
    "    working_geometries = df_all[df_all['Geometry Name'].isin(geometries_within_s11['Geometry Name'].unique())]\n",
    "\n",
    "    # Print results \n",
    "    print_dimensions()\n",
    "    # print_shap(working_geometries) # TODO FIX ME NOT WORKING "
   ]
  },
  {
   "cell_type": "code",
   "execution_count": null,
   "metadata": {},
   "outputs": [],
   "source": [
    "predictions.min(), predictions.max()"
   ]
  },
  {
   "cell_type": "code",
   "execution_count": null,
   "metadata": {},
   "outputs": [],
   "source": [
    "s11_input = widgets.BoundedFloatText(value=-10, min=predictions.min(), max=predictions.max(), step=0.05, description=\"S11:\")\n",
    "freq_input = widgets.FloatRangeSlider(min=df['Freq [GHz]'].min(), max=df['Freq [GHz]'].max(), step=0.01, description=\"Frequency Range:\")\n",
    "\n",
    "def on_button_clicked(b):\n",
    "    global s11_val, freq_val\n",
    "    s11_val = s11_input.value\n",
    "    freq_val = freq_input.value\n",
    "    print_prediction()\n",
    "\n",
    "def show_best_function(checkbox_val):\n",
    "    global show_best_only\n",
    "    show_best_only = checkbox_val['new']\n",
    "    print_dimensions()\n",
    "\n",
    "go_button = widgets.Button(description=\"Run\")\n",
    "go_button.on_click(on_button_clicked)\n",
    "\n",
    "show_best_checkbox = Checkbox(True, description='Only Show Best')\n",
    "show_best_checkbox.observe(show_best_function, names=['value'])"
   ]
  },
  {
   "cell_type": "code",
   "execution_count": null,
   "metadata": {},
   "outputs": [],
   "source": [
    "VBox([s11_input, freq_input, go_button, show_best_checkbox, out])"
   ]
  },
  {
   "cell_type": "code",
   "execution_count": null,
   "metadata": {},
   "outputs": [],
   "source": []
  }
 ],
 "metadata": {
  "kernelspec": {
   "display_name": "Python 3",
   "language": "python",
   "name": "python3"
  },
  "language_info": {
   "codemirror_mode": {
    "name": "ipython",
    "version": 3
   },
   "file_extension": ".py",
   "mimetype": "text/x-python",
   "name": "python",
   "nbconvert_exporter": "python",
   "pygments_lexer": "ipython3",
   "version": "3.10.12"
  }
 },
 "nbformat": 4,
 "nbformat_minor": 2
}
