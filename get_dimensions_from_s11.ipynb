{
 "cells": [
  {
   "cell_type": "code",
   "execution_count": null,
   "metadata": {},
   "outputs": [],
   "source": [
    "import pandas as pd\n",
    "import joblib\n",
    "import shap\n",
    "import pandas as pd\n",
    "import ipywidgets as widgets\n",
    "from ipywidgets import VBox, Checkbox\n",
    "from IPython.display import display, HTML, clear_output\n",
    "import warnings\n",
    "import plotly.express as px\n",
    "from tqdm import tqdm\n",
    "import os"
   ]
  },
  {
   "cell_type": "code",
   "execution_count": null,
   "metadata": {},
   "outputs": [],
   "source": [
    "# Make the font the same as latex \n",
    "from matplotlib import rc\n",
    "rc('font', **{'family': 'serif', 'serif': ['Computer Modern']})\n",
    "rc('text', usetex=True)"
   ]
  },
  {
   "cell_type": "code",
   "execution_count": null,
   "metadata": {},
   "outputs": [],
   "source": [
    "# Support plotly in binder\n",
    "if \"BINDER_SERVICE_HOST\" in os.environ:\n",
    "    import plotly.io as pio\n",
    "    pio.renderers.default='iframe'"
   ]
  },
  {
   "cell_type": "code",
   "execution_count": null,
   "metadata": {},
   "outputs": [],
   "source": [
    "warnings.filterwarnings('ignore')"
   ]
  },
  {
   "cell_type": "code",
   "execution_count": null,
   "metadata": {},
   "outputs": [],
   "source": [
    "df = pd.read_csv(\"test_data/new leaky wave/S11_Data_combined.csv\")\n",
    "X = df.drop(columns=['dB(S(1,1)) []'])"
   ]
  },
  {
   "cell_type": "code",
   "execution_count": null,
   "metadata": {},
   "outputs": [],
   "source": [
    "shap.initjs()"
   ]
  },
  {
   "cell_type": "code",
   "execution_count": null,
   "metadata": {},
   "outputs": [],
   "source": [
    "X.columns"
   ]
  },
  {
   "cell_type": "code",
   "execution_count": null,
   "metadata": {},
   "outputs": [],
   "source": [
    "for col in X.columns:\n",
    "    print(f\"{col}: Range: {X[col].min()} - {X[col].max()}, avg: {X[col].mean()}\")\n",
    "    print(X[col].unique().tolist())\n",
    "    print('')\n",
    "\n",
    "    # unique_vals = X[col].unique().tolist()\n",
    "    # print(f\"{col} & {X[col].min()} & {X[col].max()} & {abs(unique_vals[1]-unique_vals[0])} \\\\\\\\\\n\\\\hline\")"
   ]
  },
  {
   "cell_type": "code",
   "execution_count": null,
   "metadata": {},
   "outputs": [],
   "source": [
    "complete_df = pd.DataFrame(columns=X.columns)"
   ]
  },
  {
   "cell_type": "code",
   "execution_count": null,
   "metadata": {},
   "outputs": [],
   "source": [
    "# Create all combinations of ranges \n",
    "ranges = {}\n",
    "data_cols = list(X.columns)\n",
    "for column in data_cols:\n",
    "    ranges[column] = X[column].unique().tolist()\n",
    "\n",
    "# Custom overrides\n",
    "# ranges['inset_dist [mm]'] += [0.8, 1.2]\n",
    "# ranges['L [mm]'] += [11.75, 12.25]\n",
    "# ranges['W [mm]'] += [14.2, 14.4, 14.6, 15.0, 15.2, 15.4]\n",
    "# ranges['W0 [mm]'] += [2.75, 3.25]\n",
    "# ranges['y0 [mm]'] += [3.25, 3.75, 4.25, 4.75]"
   ]
  },
  {
   "cell_type": "code",
   "execution_count": null,
   "metadata": {},
   "outputs": [],
   "source": [
    "test = 0\n",
    "for col in ranges:\n",
    "    print(len(ranges[col]))"
   ]
  },
  {
   "cell_type": "code",
   "execution_count": null,
   "metadata": {},
   "outputs": [],
   "source": [
    "# Try cartesian product in pandas instead https://stackoverflow.com/a/13270110/3675086\n",
    "ranges_df = pd.DataFrame(ranges[X.columns[0]], columns=[X.columns[0]])\n",
    "for col in complete_df.columns[1:]:\n",
    "    temp_df = pd.DataFrame(ranges[col], columns=[col])\n",
    "    ranges_df = ranges_df.merge(temp_df, how='cross')"
   ]
  },
  {
   "cell_type": "code",
   "execution_count": null,
   "metadata": {},
   "outputs": [],
   "source": [
    "ranges_df"
   ]
  },
  {
   "cell_type": "code",
   "execution_count": null,
   "metadata": {},
   "outputs": [],
   "source": [
    "# Remove duplicates that are already calculated https://stackoverflow.com/a/47107164\n",
    "df_all = ranges_df.merge(X.drop_duplicates(), on=X.columns.tolist(), how='left', indicator=True)\n",
    "df_all = df_all[df_all['_merge'] == 'left_only']\n",
    "df_all.drop(columns=['_merge'], inplace=True, axis=1)"
   ]
  },
  {
   "cell_type": "code",
   "execution_count": null,
   "metadata": {},
   "outputs": [],
   "source": [
    "# Run thru ML model to get predictions\n",
    "model = joblib.load('antenna_model.pkl')\n",
    "predictions = model.predict(df_all)"
   ]
  },
  {
   "cell_type": "code",
   "execution_count": null,
   "metadata": {},
   "outputs": [],
   "source": [
    "df_all['prediction'] = predictions"
   ]
  },
  {
   "cell_type": "code",
   "execution_count": null,
   "metadata": {},
   "outputs": [],
   "source": [
    "df_all.to_pickle(\"all_predictions.pkl\")"
   ]
  },
  {
   "cell_type": "code",
   "execution_count": null,
   "metadata": {},
   "outputs": [],
   "source": [
    "df_all"
   ]
  },
  {
   "cell_type": "code",
   "execution_count": null,
   "metadata": {},
   "outputs": [],
   "source": [
    "working_geometries = pd.DataFrame()\n",
    "s11_val = 0\n",
    "freq_val = 0\n",
    "show_best_only = True\n",
    "\n",
    "# Filter working_geometries by best\n",
    "def filter_by_best():\n",
    "    best_s11 = 0\n",
    "    filtered_geometries = working_geometries.copy()\n",
    "    freq_min, freq_max = freq_val\n",
    "    unique_geometries = filtered_geometries['Geometry Name'].unique()\n",
    "    for i, geometry_name in enumerate(unique_geometries):\n",
    "        rows = filtered_geometries[filtered_geometries['Geometry Name'] == geometry_name]\n",
    "        rows_in_freq = rows[(rows['Freq [GHz]'] > freq_min) & (rows['Freq [GHz]'] < freq_max)]\n",
    "        if rows_in_freq['prediction'].max() > best_s11:\n",
    "            filtered_geometries.drop(rows.index, inplace=True)\n",
    "        elif rows_in_freq['prediction'].max() < best_s11:\n",
    "            best_s11 = rows_in_freq['prediction'].max()\n",
    "    return filtered_geometries\n",
    "\n",
    "import matplotlib.pyplot as plt\n",
    "\n",
    "out = widgets.Output()\n",
    "@out.capture()\n",
    "def print_dimensions():\n",
    "    clear_output()\n",
    "\n",
    "    if not working_geometries.empty:\n",
    "        print(\"Loading...\")\n",
    "        filtered_geometries = working_geometries if not show_best_only else filter_by_best()\n",
    "\n",
    "        freq_min, freq_max = freq_val\n",
    "        unique_geometries = filtered_geometries['Geometry Name'].unique()\n",
    "        display(HTML(f\"<h2>{unique_geometries.shape[0]} Geometries</h2>\"))\n",
    "\n",
    "        unique_geometries = unique_geometries[:100]\n",
    "\n",
    "        # Begin setting up matplotlib figure\n",
    "        plt.figure(figsize=(6,4))\n",
    "\n",
    "        # Create & display plotly figure\n",
    "        fig = px.line(filtered_geometries, x=\"Freq [GHz]\", y=\"prediction\", title='Performance vs Frequency for Geometries', color=\"Geometry Name\")\n",
    "        fig.add_hline(y=s11_val, line_dash=\"dash\", line_color=\"blue\")\n",
    "        fig.add_vline(x=freq_min, line_dash=\"dash\", line_color=\"green\")\n",
    "        fig.add_vline(x=freq_max, line_dash=\"dash\", line_color=\"green\")\n",
    "        display(fig)\n",
    "\n",
    "        for i, geometry_name in enumerate(unique_geometries):\n",
    "            rows = filtered_geometries[filtered_geometries['Geometry Name'] == geometry_name]\n",
    "            columns = rows.columns\n",
    "            result_line = \"\"\n",
    "            # Print all cols except freq and prediction\n",
    "            columns = [col for col in columns if col not in [\"Freq [GHz]\", \"prediction\", \"Geometry Name\"]]\n",
    "            for column in columns:\n",
    "                col = rows.iloc[0][column]\n",
    "                result_line += f\"<li>{column}: {round(col, 4)}</li>\"\n",
    "\n",
    "            # Print s11\n",
    "            filtered_values = rows[(rows['Freq [GHz]'] > freq_min) & (rows['Freq [GHz]'] < freq_max)]\n",
    "            s11_min = filtered_values['prediction'].max()\n",
    "            s11_max = filtered_values['prediction'].min()\n",
    "            result_line += f\"<li>dB(S(1,1)): {round(s11_min, 4)} thru {round(s11_max, 4)}</li>\"\n",
    "\n",
    "            # Plot line for matplotlib \n",
    "            plt.plot(rows['Freq [GHz]'], rows['prediction'], label=geometry_name)\n",
    "                    \n",
    "            display(HTML(f\"<h4>{geometry_name}</h4><ul>{result_line}</ul>\"))\n",
    "\n",
    "        # Finish setting up matplotlib figure \n",
    "        plt.xlabel(\"Freq [GHz]\")\n",
    "        plt.ylabel(\"prediction\")\n",
    "        legend_disp = unique_geometries[:10].tolist()\n",
    "        if len(unique_geometries) > 10:\n",
    "            legend_disp += [\"...\"]\n",
    "        plt.legend(legend_disp, loc=\"upper left\")\n",
    "        plt.axhline(y=s11_val, color='b', linestyle='--')\n",
    "        plt.axvline(x=freq_min, color='g', linestyle='--')\n",
    "        plt.axvline(x=freq_max, color='g', linestyle='--')\n",
    "        # plt.savefig(f\"{'-'.join([str(geo) for geo in legend_disp])}.png\")\n",
    "    else:\n",
    "        display(HTML(\"<h2>No results found</h2>\"))\n",
    "\n",
    "def print_shap(dimensions_for_prediction):\n",
    "    explainer = shap.TreeExplainer(model.named_steps['model'])\n",
    "    shap_values = explainer(dimensions_for_prediction)\n",
    "\n",
    "    display(HTML(\"<h2>Shap Explanation</h2>\"))\n",
    "    shap.plots.waterfall(shap_values[0], max_display=14)"
   ]
  },
  {
   "cell_type": "code",
   "execution_count": null,
   "metadata": {},
   "outputs": [],
   "source": [
    "def print_prediction():\n",
    "    global working_geometries\n",
    "\n",
    "    freq_min, freq_max = freq_val\n",
    "\n",
    "    geo_params = df.columns.tolist()[:-2]\n",
    "    df_all['Geometry Name'] = df_all.groupby(geo_params).ngroup() # Set the name for each group of geometry \n",
    "\n",
    "    # Filter by only frequencies that are requested\n",
    "    geometries_within_freq = df_all[(df_all['Freq [GHz]'] > freq_min) & (df_all['Freq [GHz]'] < freq_max)]\n",
    "    # Get df of unique geometries within filter, keeping the freq column with the highest freq of each\n",
    "    geometries_within_freq = geometries_within_freq.drop_duplicates(subset=geometries_within_freq.columns[:-1], keep='first')\n",
    "\n",
    "    # Filter by only s11 values that are requested\n",
    "    # https://stackoverflow.com/questions/55262665/finding-groups-that-meet-a-condition-in-pandas-groupby \n",
    "    # https://stackoverflow.com/questions/62713000/keep-only-groups-where-all-values-satisfy-a-condition\n",
    "    print('filtering by s11')\n",
    "    geometries_within_s11 = geometries_within_freq[geometries_within_freq['prediction'].lt(s11_val).groupby(geometries_within_freq['Geometry Name']).transform('all')]\n",
    "\n",
    "    working_geometries = df_all[df_all['Geometry Name'].isin(geometries_within_s11['Geometry Name'].unique())]\n",
    "\n",
    "    # Print results \n",
    "    print_dimensions()\n",
    "    print('PRINT SHAP')\n",
    "    geos_to_pass = working_geometries.copy()\n",
    "    geos_to_pass.drop(columns=['Geometry Name', 'prediction'], inplace=True)\n",
    "    print_shap(geos_to_pass.iloc[0]) # TODO FIX ME NOT WORKING "
   ]
  },
  {
   "cell_type": "code",
   "execution_count": null,
   "metadata": {},
   "outputs": [],
   "source": [
    "predictions.min(), predictions.max()"
   ]
  },
  {
   "cell_type": "code",
   "execution_count": null,
   "metadata": {},
   "outputs": [
    {
     "name": "stdout",
     "output_type": "stream",
     "text": [
      "filtering by s11\n"
     ]
    },
    {
     "data": {
      "application/vnd.plotly.v1+json": {
       "config": {
        "plotlyServerURL": "https://plot.ly"
       },
       "data": [
        {
         "hovertemplate": "Geometry Name=142429<br>Freq [GHz]=%{x}<br>prediction=%{y}<extra></extra>",
         "legendgroup": "142429",
         "line": {
          "color": "#636efa",
          "dash": "solid"
         },
         "marker": {
          "symbol": "circle"
         },
         "mode": "lines",
         "name": "142429",
         "orientation": "v",
         "showlegend": true,
         "type": "scatter",
         "x": [
          11,
          11.09,
          11.18,
          11.27,
          11.36,
          11.45,
          11.54,
          11.63,
          11.72,
          11.81,
          11.9,
          11.99,
          12.08,
          12.17,
          12.26,
          12.35,
          12.44,
          12.53,
          12.62,
          12.71,
          12.8,
          12.89,
          12.98,
          13.07,
          13.16,
          13.25,
          13.34,
          13.43,
          13.52,
          13.61,
          13.7,
          13.79,
          13.88,
          13.97,
          14.06,
          14.15,
          14.24,
          14.33,
          14.42,
          14.51,
          14.6,
          14.69,
          14.78,
          14.87,
          14.96,
          15.05,
          15.14,
          15.23,
          15.32,
          15.41,
          15.5,
          15.59,
          15.68,
          15.77,
          15.86,
          15.95,
          16.04,
          16.13,
          16.22,
          16.31,
          16.4,
          16.49,
          16.58,
          16.67,
          16.76,
          16.85,
          16.94,
          17.03,
          17.12,
          17.21,
          17.3,
          17.39,
          17.48,
          17.57,
          17.66,
          17.75,
          17.84,
          17.93,
          18.02,
          18.11,
          18.2,
          18.29,
          18.38,
          18.47,
          18.56,
          18.65,
          18.74,
          18.83,
          18.92,
          19.01,
          19.1,
          19.19,
          19.28,
          19.37,
          19.46,
          19.55,
          19.64,
          19.73,
          19.82,
          19.91,
          20
         ],
         "xaxis": "x",
         "y": [
          -3.2831454277038574,
          -3.7940268516540527,
          -5.195284366607666,
          -5.5807785987854,
          -8.868138313293457,
          -11.588218688964844,
          -9.076159477233887,
          -7.904519557952881,
          -8.015297889709473,
          -11.167502403259277,
          -11.255023956298828,
          -7.122039794921875,
          -5.829179286956787,
          -4.775986671447754,
          -3.2305943965911865,
          -2.2403855323791504,
          -4.159721851348877,
          -8.518697738647461,
          -14.902351379394531,
          -11.716649055480957,
          -9.92258358001709,
          -4.57357120513916,
          -5.720680236816406,
          -6.4781951904296875,
          -6.533576488494873,
          -11.16243839263916,
          -11.102571487426758,
          -10.419232368469238,
          -13.607778549194336,
          -8.301234245300293,
          -7.785017490386963,
          -8.625654220581055,
          -9.332191467285156,
          -9.4208402633667,
          -8.781262397766113,
          -8.570090293884277,
          -10.558849334716797,
          -10.75269889831543,
          -11.300267219543457,
          -13.198866844177246,
          -14.69393253326416,
          -10.925493240356445,
          -11.539889335632324,
          -11.32472038269043,
          -12.456620216369629,
          -11.798890113830566,
          -14.138484001159668,
          -14.921630859375,
          -14.056596755981445,
          -11.718782424926758,
          -9.758685111999512,
          -11.399463653564453,
          -13.03581428527832,
          -16.184877395629883,
          -21.179176330566406,
          -21.03818702697754,
          -18.80378532409668,
          -15.739832878112793,
          -12.861523628234863,
          -11.452765464782715,
          -10.520136833190918,
          -11.471649169921875,
          -11.739564895629883,
          -14.392641067504883,
          -18.352344512939453,
          -32.3019905090332,
          -26.330018997192383,
          -23.045774459838867,
          -24.80415153503418,
          -28.298770904541016,
          -28.95965003967285,
          -21.442346572875977,
          -21.3289737701416,
          -30.529781341552734,
          -29.21552085876465,
          -19.052705764770508,
          -10.236567497253418,
          -3.9737706184387207,
          -1.646386981010437,
          -7.811947822570801,
          -8.35125732421875,
          -10.54773235321045,
          -14.023611068725586,
          -22.908950805664062,
          -32.05799102783203,
          -21.225238800048828,
          -16.722448348999023,
          -10.876792907714844,
          -6.396409034729004,
          -0.6896644234657288,
          -2.1853935718536377,
          -5.496910095214844,
          -10.275853157043457,
          -12.978402137756348,
          -18.48384666442871,
          -15.254891395568848,
          -15.00515079498291,
          -11.731228828430176,
          -4.332266330718994,
          -1.0520470142364502,
          0.10619313269853592
         ],
         "yaxis": "y"
        },
        {
         "hovertemplate": "Geometry Name=142460<br>Freq [GHz]=%{x}<br>prediction=%{y}<extra></extra>",
         "legendgroup": "142460",
         "line": {
          "color": "#EF553B",
          "dash": "solid"
         },
         "marker": {
          "symbol": "circle"
         },
         "mode": "lines",
         "name": "142460",
         "orientation": "v",
         "showlegend": true,
         "type": "scatter",
         "x": [
          11,
          11.09,
          11.18,
          11.27,
          11.36,
          11.45,
          11.54,
          11.63,
          11.72,
          11.81,
          11.9,
          11.99,
          12.08,
          12.17,
          12.26,
          12.35,
          12.44,
          12.53,
          12.62,
          12.71,
          12.8,
          12.89,
          12.98,
          13.07,
          13.16,
          13.25,
          13.34,
          13.43,
          13.52,
          13.61,
          13.7,
          13.79,
          13.88,
          13.97,
          14.06,
          14.15,
          14.24,
          14.33,
          14.42,
          14.51,
          14.6,
          14.69,
          14.78,
          14.87,
          14.96,
          15.05,
          15.14,
          15.23,
          15.32,
          15.41,
          15.5,
          15.59,
          15.68,
          15.77,
          15.86,
          15.95,
          16.04,
          16.13,
          16.22,
          16.31,
          16.4,
          16.49,
          16.58,
          16.67,
          16.76,
          16.85,
          16.94,
          17.03,
          17.12,
          17.21,
          17.3,
          17.39,
          17.48,
          17.57,
          17.66,
          17.75,
          17.84,
          17.93,
          18.02,
          18.11,
          18.2,
          18.29,
          18.38,
          18.47,
          18.56,
          18.65,
          18.74,
          18.83,
          18.92,
          19.01,
          19.1,
          19.19,
          19.28,
          19.37,
          19.46,
          19.55,
          19.64,
          19.73,
          19.82,
          19.91,
          20
         ],
         "xaxis": "x",
         "y": [
          -3.351557493209839,
          -4.238350868225098,
          -5.64560079574585,
          -5.334611415863037,
          -6.198596477508545,
          -8.50528335571289,
          -11.364755630493164,
          -9.962254524230957,
          -10.571494102478027,
          -7.936392784118652,
          -10.222270011901855,
          -14.84289264678955,
          -9.300334930419922,
          -6.098660469055176,
          -4.947656154632568,
          -3.304525136947632,
          -3.0001494884490967,
          -6.341037750244141,
          -9.44394588470459,
          -14.057584762573242,
          -10.470086097717285,
          -6.4025468826293945,
          -6.1517534255981445,
          -6.724817276000977,
          -6.750164985656738,
          -10.88952350616455,
          -10.647758483886719,
          -10.100934982299805,
          -9.734829902648926,
          -10.542465209960938,
          -12.209138870239258,
          -9.463959693908691,
          -9.818380355834961,
          -9.906243324279785,
          -9.743372917175293,
          -9.535222053527832,
          -11.5495023727417,
          -11.778571128845215,
          -12.32783317565918,
          -12.740285873413086,
          -12.992376327514648,
          -14.362031936645508,
          -13.657249450683594,
          -13.178677558898926,
          -13.969026565551758,
          -13.430926322937012,
          -14.865479469299316,
          -14.644819259643555,
          -14.429295539855957,
          -12.139525413513184,
          -12.022089958190918,
          -12.252068519592285,
          -13.417713165283203,
          -16.530086517333984,
          -24.206151962280273,
          -21.632707595825195,
          -16.84794044494629,
          -13.445337295532227,
          -11.244102478027344,
          -10.013328552246094,
          -9.817761421203613,
          -11.347332954406738,
          -12.559073448181152,
          -15.952666282653809,
          -19.152355194091797,
          -24.189573287963867,
          -24.370826721191406,
          -22.38627815246582,
          -21.783493041992188,
          -24.078914642333984,
          -30.795503616333008,
          -21.731958389282227,
          -22.633386611938477,
          -29.346017837524414,
          -21.811901092529297,
          -17.01504135131836,
          -9.204253196716309,
          -4.538590431213379,
          -0.8731733560562134,
          -2.3391926288604736,
          -9.496278762817383,
          -12.13806438446045,
          -14.09333324432373,
          -22.164688110351562,
          -30.14495277404785,
          -29.361116409301758,
          -14.747227668762207,
          -11.20801830291748,
          -5.272145748138428,
          -2.072465658187866,
          -3.123276472091675,
          -3.60252046585083,
          -5.408999443054199,
          -12.293695449829102,
          -19.551620483398438,
          -14.85892105102539,
          -12.455178260803223,
          -10.766386985778809,
          -5.220705032348633,
          -1.7000761032104492,
          -1.5387423038482666
         ],
         "yaxis": "y"
        },
        {
         "hovertemplate": "Geometry Name=331256<br>Freq [GHz]=%{x}<br>prediction=%{y}<extra></extra>",
         "legendgroup": "331256",
         "line": {
          "color": "#00cc96",
          "dash": "solid"
         },
         "marker": {
          "symbol": "circle"
         },
         "mode": "lines",
         "name": "331256",
         "orientation": "v",
         "showlegend": true,
         "type": "scatter",
         "x": [
          11,
          11.09,
          11.18,
          11.27,
          11.36,
          11.45,
          11.54,
          11.63,
          11.72,
          11.81,
          11.9,
          11.99,
          12.08,
          12.17,
          12.26,
          12.35,
          12.44,
          12.53,
          12.62,
          12.71,
          12.8,
          12.89,
          12.98,
          13.07,
          13.16,
          13.25,
          13.34,
          13.43,
          13.52,
          13.61,
          13.7,
          13.79,
          13.88,
          13.97,
          14.06,
          14.15,
          14.24,
          14.33,
          14.42,
          14.51,
          14.6,
          14.69,
          14.78,
          14.87,
          14.96,
          15.05,
          15.14,
          15.23,
          15.32,
          15.41,
          15.5,
          15.59,
          15.68,
          15.77,
          15.86,
          15.95,
          16.04,
          16.13,
          16.22,
          16.31,
          16.4,
          16.49,
          16.58,
          16.67,
          16.76,
          16.85,
          16.94,
          17.03,
          17.12,
          17.21,
          17.3,
          17.39,
          17.48,
          17.57,
          17.66,
          17.75,
          17.84,
          17.93,
          18.02,
          18.11,
          18.2,
          18.29,
          18.38,
          18.47,
          18.56,
          18.65,
          18.74,
          18.83,
          18.92,
          19.01,
          19.1,
          19.19,
          19.28,
          19.37,
          19.46,
          19.55,
          19.64,
          19.73,
          19.82,
          19.91,
          20
         ],
         "xaxis": "x",
         "y": [
          -4.382626056671143,
          -5.341990947723389,
          -5.718900680541992,
          -5.515122413635254,
          -8.97928524017334,
          -11.102043151855469,
          -9.472392082214355,
          -9.583008766174316,
          -9.373373985290527,
          -12.03758430480957,
          -15.37426471710205,
          -10.796903610229492,
          -9.228838920593262,
          -8.91726303100586,
          -10.618630409240723,
          -17.55120086669922,
          -14.16112232208252,
          -15.82929801940918,
          -16.215755462646484,
          -5.231939315795898,
          -3.705089569091797,
          0.6122602820396423,
          -4.783527374267578,
          -6.198420524597168,
          -6.480240345001221,
          -6.980449199676514,
          -8.27312183380127,
          -10.503809928894043,
          -13.91580581665039,
          -8.143427848815918,
          -7.825275421142578,
          -7.99741268157959,
          -9.145570755004883,
          -10.079584121704102,
          -10.521533012390137,
          -10.742831230163574,
          -11.121582984924316,
          -11.489030838012695,
          -11.458704948425293,
          -13.516749382019043,
          -15.476669311523438,
          -12.704751968383789,
          -13.617895126342773,
          -13.873543739318848,
          -14.464746475219727,
          -15.49375057220459,
          -17.609882354736328,
          -18.634857177734375,
          -15.543679237365723,
          -15.2473726272583,
          -14.701242446899414,
          -12.413616180419922,
          -10.29416275024414,
          -10.028848648071289,
          -10.401814460754395,
          -12.834250450134277,
          -15.803664207458496,
          -18.7550048828125,
          -18.51546287536621,
          -19.468460083007812,
          -14.960519790649414,
          -13.594103813171387,
          -13.25202465057373,
          -14.21953296661377,
          -16.415929794311523,
          -27.52880096435547,
          -28.35264778137207,
          -30.592235565185547,
          -29.86810302734375,
          -26.906457901000977,
          -34.55072784423828,
          -21.898462295532227,
          -23.11791229248047,
          -34.30982971191406,
          -24.628854751586914,
          -18.778770446777344,
          -8.642132759094238,
          -1.063388466835022,
          0.6168721914291382,
          -6.355277061462402,
          -6.611036777496338,
          -10.308601379394531,
          -11.099264144897461,
          -10.408923149108887,
          -26.40528678894043,
          -18.15041160583496,
          -12.832568168640137,
          -5.789330005645752,
          -2.6383118629455566,
          1.4789797067642212,
          0.15057718753814697,
          -4.853147506713867,
          -8.668707847595215,
          -14.107797622680664,
          -11.868193626403809,
          -9.728175163269043,
          -13.056023597717285,
          -11.904877662658691,
          -5.180967807769775,
          -1.660027027130127,
          0.7166670560836792
         ],
         "yaxis": "y"
        }
       ],
       "layout": {
        "legend": {
         "title": {
          "text": "Geometry Name"
         },
         "tracegroupgap": 0
        },
        "shapes": [
         {
          "line": {
           "color": "blue",
           "dash": "dash"
          },
          "type": "line",
          "x0": 0,
          "x1": 1,
          "xref": "x domain",
          "y0": -20,
          "y1": -20,
          "yref": "y"
         },
         {
          "line": {
           "color": "green",
           "dash": "dash"
          },
          "type": "line",
          "x0": 16.95,
          "x1": 16.95,
          "xref": "x",
          "y0": 0,
          "y1": 1,
          "yref": "y domain"
         },
         {
          "line": {
           "color": "green",
           "dash": "dash"
          },
          "type": "line",
          "x0": 17.75,
          "x1": 17.75,
          "xref": "x",
          "y0": 0,
          "y1": 1,
          "yref": "y domain"
         }
        ],
        "template": {
         "data": {
          "bar": [
           {
            "error_x": {
             "color": "#2a3f5f"
            },
            "error_y": {
             "color": "#2a3f5f"
            },
            "marker": {
             "line": {
              "color": "#E5ECF6",
              "width": 0.5
             },
             "pattern": {
              "fillmode": "overlay",
              "size": 10,
              "solidity": 0.2
             }
            },
            "type": "bar"
           }
          ],
          "barpolar": [
           {
            "marker": {
             "line": {
              "color": "#E5ECF6",
              "width": 0.5
             },
             "pattern": {
              "fillmode": "overlay",
              "size": 10,
              "solidity": 0.2
             }
            },
            "type": "barpolar"
           }
          ],
          "carpet": [
           {
            "aaxis": {
             "endlinecolor": "#2a3f5f",
             "gridcolor": "white",
             "linecolor": "white",
             "minorgridcolor": "white",
             "startlinecolor": "#2a3f5f"
            },
            "baxis": {
             "endlinecolor": "#2a3f5f",
             "gridcolor": "white",
             "linecolor": "white",
             "minorgridcolor": "white",
             "startlinecolor": "#2a3f5f"
            },
            "type": "carpet"
           }
          ],
          "choropleth": [
           {
            "colorbar": {
             "outlinewidth": 0,
             "ticks": ""
            },
            "type": "choropleth"
           }
          ],
          "contour": [
           {
            "colorbar": {
             "outlinewidth": 0,
             "ticks": ""
            },
            "colorscale": [
             [
              0,
              "#0d0887"
             ],
             [
              0.1111111111111111,
              "#46039f"
             ],
             [
              0.2222222222222222,
              "#7201a8"
             ],
             [
              0.3333333333333333,
              "#9c179e"
             ],
             [
              0.4444444444444444,
              "#bd3786"
             ],
             [
              0.5555555555555556,
              "#d8576b"
             ],
             [
              0.6666666666666666,
              "#ed7953"
             ],
             [
              0.7777777777777778,
              "#fb9f3a"
             ],
             [
              0.8888888888888888,
              "#fdca26"
             ],
             [
              1,
              "#f0f921"
             ]
            ],
            "type": "contour"
           }
          ],
          "contourcarpet": [
           {
            "colorbar": {
             "outlinewidth": 0,
             "ticks": ""
            },
            "type": "contourcarpet"
           }
          ],
          "heatmap": [
           {
            "colorbar": {
             "outlinewidth": 0,
             "ticks": ""
            },
            "colorscale": [
             [
              0,
              "#0d0887"
             ],
             [
              0.1111111111111111,
              "#46039f"
             ],
             [
              0.2222222222222222,
              "#7201a8"
             ],
             [
              0.3333333333333333,
              "#9c179e"
             ],
             [
              0.4444444444444444,
              "#bd3786"
             ],
             [
              0.5555555555555556,
              "#d8576b"
             ],
             [
              0.6666666666666666,
              "#ed7953"
             ],
             [
              0.7777777777777778,
              "#fb9f3a"
             ],
             [
              0.8888888888888888,
              "#fdca26"
             ],
             [
              1,
              "#f0f921"
             ]
            ],
            "type": "heatmap"
           }
          ],
          "heatmapgl": [
           {
            "colorbar": {
             "outlinewidth": 0,
             "ticks": ""
            },
            "colorscale": [
             [
              0,
              "#0d0887"
             ],
             [
              0.1111111111111111,
              "#46039f"
             ],
             [
              0.2222222222222222,
              "#7201a8"
             ],
             [
              0.3333333333333333,
              "#9c179e"
             ],
             [
              0.4444444444444444,
              "#bd3786"
             ],
             [
              0.5555555555555556,
              "#d8576b"
             ],
             [
              0.6666666666666666,
              "#ed7953"
             ],
             [
              0.7777777777777778,
              "#fb9f3a"
             ],
             [
              0.8888888888888888,
              "#fdca26"
             ],
             [
              1,
              "#f0f921"
             ]
            ],
            "type": "heatmapgl"
           }
          ],
          "histogram": [
           {
            "marker": {
             "pattern": {
              "fillmode": "overlay",
              "size": 10,
              "solidity": 0.2
             }
            },
            "type": "histogram"
           }
          ],
          "histogram2d": [
           {
            "colorbar": {
             "outlinewidth": 0,
             "ticks": ""
            },
            "colorscale": [
             [
              0,
              "#0d0887"
             ],
             [
              0.1111111111111111,
              "#46039f"
             ],
             [
              0.2222222222222222,
              "#7201a8"
             ],
             [
              0.3333333333333333,
              "#9c179e"
             ],
             [
              0.4444444444444444,
              "#bd3786"
             ],
             [
              0.5555555555555556,
              "#d8576b"
             ],
             [
              0.6666666666666666,
              "#ed7953"
             ],
             [
              0.7777777777777778,
              "#fb9f3a"
             ],
             [
              0.8888888888888888,
              "#fdca26"
             ],
             [
              1,
              "#f0f921"
             ]
            ],
            "type": "histogram2d"
           }
          ],
          "histogram2dcontour": [
           {
            "colorbar": {
             "outlinewidth": 0,
             "ticks": ""
            },
            "colorscale": [
             [
              0,
              "#0d0887"
             ],
             [
              0.1111111111111111,
              "#46039f"
             ],
             [
              0.2222222222222222,
              "#7201a8"
             ],
             [
              0.3333333333333333,
              "#9c179e"
             ],
             [
              0.4444444444444444,
              "#bd3786"
             ],
             [
              0.5555555555555556,
              "#d8576b"
             ],
             [
              0.6666666666666666,
              "#ed7953"
             ],
             [
              0.7777777777777778,
              "#fb9f3a"
             ],
             [
              0.8888888888888888,
              "#fdca26"
             ],
             [
              1,
              "#f0f921"
             ]
            ],
            "type": "histogram2dcontour"
           }
          ],
          "mesh3d": [
           {
            "colorbar": {
             "outlinewidth": 0,
             "ticks": ""
            },
            "type": "mesh3d"
           }
          ],
          "parcoords": [
           {
            "line": {
             "colorbar": {
              "outlinewidth": 0,
              "ticks": ""
             }
            },
            "type": "parcoords"
           }
          ],
          "pie": [
           {
            "automargin": true,
            "type": "pie"
           }
          ],
          "scatter": [
           {
            "fillpattern": {
             "fillmode": "overlay",
             "size": 10,
             "solidity": 0.2
            },
            "type": "scatter"
           }
          ],
          "scatter3d": [
           {
            "line": {
             "colorbar": {
              "outlinewidth": 0,
              "ticks": ""
             }
            },
            "marker": {
             "colorbar": {
              "outlinewidth": 0,
              "ticks": ""
             }
            },
            "type": "scatter3d"
           }
          ],
          "scattercarpet": [
           {
            "marker": {
             "colorbar": {
              "outlinewidth": 0,
              "ticks": ""
             }
            },
            "type": "scattercarpet"
           }
          ],
          "scattergeo": [
           {
            "marker": {
             "colorbar": {
              "outlinewidth": 0,
              "ticks": ""
             }
            },
            "type": "scattergeo"
           }
          ],
          "scattergl": [
           {
            "marker": {
             "colorbar": {
              "outlinewidth": 0,
              "ticks": ""
             }
            },
            "type": "scattergl"
           }
          ],
          "scattermapbox": [
           {
            "marker": {
             "colorbar": {
              "outlinewidth": 0,
              "ticks": ""
             }
            },
            "type": "scattermapbox"
           }
          ],
          "scatterpolar": [
           {
            "marker": {
             "colorbar": {
              "outlinewidth": 0,
              "ticks": ""
             }
            },
            "type": "scatterpolar"
           }
          ],
          "scatterpolargl": [
           {
            "marker": {
             "colorbar": {
              "outlinewidth": 0,
              "ticks": ""
             }
            },
            "type": "scatterpolargl"
           }
          ],
          "scatterternary": [
           {
            "marker": {
             "colorbar": {
              "outlinewidth": 0,
              "ticks": ""
             }
            },
            "type": "scatterternary"
           }
          ],
          "surface": [
           {
            "colorbar": {
             "outlinewidth": 0,
             "ticks": ""
            },
            "colorscale": [
             [
              0,
              "#0d0887"
             ],
             [
              0.1111111111111111,
              "#46039f"
             ],
             [
              0.2222222222222222,
              "#7201a8"
             ],
             [
              0.3333333333333333,
              "#9c179e"
             ],
             [
              0.4444444444444444,
              "#bd3786"
             ],
             [
              0.5555555555555556,
              "#d8576b"
             ],
             [
              0.6666666666666666,
              "#ed7953"
             ],
             [
              0.7777777777777778,
              "#fb9f3a"
             ],
             [
              0.8888888888888888,
              "#fdca26"
             ],
             [
              1,
              "#f0f921"
             ]
            ],
            "type": "surface"
           }
          ],
          "table": [
           {
            "cells": {
             "fill": {
              "color": "#EBF0F8"
             },
             "line": {
              "color": "white"
             }
            },
            "header": {
             "fill": {
              "color": "#C8D4E3"
             },
             "line": {
              "color": "white"
             }
            },
            "type": "table"
           }
          ]
         },
         "layout": {
          "annotationdefaults": {
           "arrowcolor": "#2a3f5f",
           "arrowhead": 0,
           "arrowwidth": 1
          },
          "autotypenumbers": "strict",
          "coloraxis": {
           "colorbar": {
            "outlinewidth": 0,
            "ticks": ""
           }
          },
          "colorscale": {
           "diverging": [
            [
             0,
             "#8e0152"
            ],
            [
             0.1,
             "#c51b7d"
            ],
            [
             0.2,
             "#de77ae"
            ],
            [
             0.3,
             "#f1b6da"
            ],
            [
             0.4,
             "#fde0ef"
            ],
            [
             0.5,
             "#f7f7f7"
            ],
            [
             0.6,
             "#e6f5d0"
            ],
            [
             0.7,
             "#b8e186"
            ],
            [
             0.8,
             "#7fbc41"
            ],
            [
             0.9,
             "#4d9221"
            ],
            [
             1,
             "#276419"
            ]
           ],
           "sequential": [
            [
             0,
             "#0d0887"
            ],
            [
             0.1111111111111111,
             "#46039f"
            ],
            [
             0.2222222222222222,
             "#7201a8"
            ],
            [
             0.3333333333333333,
             "#9c179e"
            ],
            [
             0.4444444444444444,
             "#bd3786"
            ],
            [
             0.5555555555555556,
             "#d8576b"
            ],
            [
             0.6666666666666666,
             "#ed7953"
            ],
            [
             0.7777777777777778,
             "#fb9f3a"
            ],
            [
             0.8888888888888888,
             "#fdca26"
            ],
            [
             1,
             "#f0f921"
            ]
           ],
           "sequentialminus": [
            [
             0,
             "#0d0887"
            ],
            [
             0.1111111111111111,
             "#46039f"
            ],
            [
             0.2222222222222222,
             "#7201a8"
            ],
            [
             0.3333333333333333,
             "#9c179e"
            ],
            [
             0.4444444444444444,
             "#bd3786"
            ],
            [
             0.5555555555555556,
             "#d8576b"
            ],
            [
             0.6666666666666666,
             "#ed7953"
            ],
            [
             0.7777777777777778,
             "#fb9f3a"
            ],
            [
             0.8888888888888888,
             "#fdca26"
            ],
            [
             1,
             "#f0f921"
            ]
           ]
          },
          "colorway": [
           "#636efa",
           "#EF553B",
           "#00cc96",
           "#ab63fa",
           "#FFA15A",
           "#19d3f3",
           "#FF6692",
           "#B6E880",
           "#FF97FF",
           "#FECB52"
          ],
          "font": {
           "color": "#2a3f5f"
          },
          "geo": {
           "bgcolor": "white",
           "lakecolor": "white",
           "landcolor": "#E5ECF6",
           "showlakes": true,
           "showland": true,
           "subunitcolor": "white"
          },
          "hoverlabel": {
           "align": "left"
          },
          "hovermode": "closest",
          "mapbox": {
           "style": "light"
          },
          "paper_bgcolor": "white",
          "plot_bgcolor": "#E5ECF6",
          "polar": {
           "angularaxis": {
            "gridcolor": "white",
            "linecolor": "white",
            "ticks": ""
           },
           "bgcolor": "#E5ECF6",
           "radialaxis": {
            "gridcolor": "white",
            "linecolor": "white",
            "ticks": ""
           }
          },
          "scene": {
           "xaxis": {
            "backgroundcolor": "#E5ECF6",
            "gridcolor": "white",
            "gridwidth": 2,
            "linecolor": "white",
            "showbackground": true,
            "ticks": "",
            "zerolinecolor": "white"
           },
           "yaxis": {
            "backgroundcolor": "#E5ECF6",
            "gridcolor": "white",
            "gridwidth": 2,
            "linecolor": "white",
            "showbackground": true,
            "ticks": "",
            "zerolinecolor": "white"
           },
           "zaxis": {
            "backgroundcolor": "#E5ECF6",
            "gridcolor": "white",
            "gridwidth": 2,
            "linecolor": "white",
            "showbackground": true,
            "ticks": "",
            "zerolinecolor": "white"
           }
          },
          "shapedefaults": {
           "line": {
            "color": "#2a3f5f"
           }
          },
          "ternary": {
           "aaxis": {
            "gridcolor": "white",
            "linecolor": "white",
            "ticks": ""
           },
           "baxis": {
            "gridcolor": "white",
            "linecolor": "white",
            "ticks": ""
           },
           "bgcolor": "#E5ECF6",
           "caxis": {
            "gridcolor": "white",
            "linecolor": "white",
            "ticks": ""
           }
          },
          "title": {
           "x": 0.05
          },
          "xaxis": {
           "automargin": true,
           "gridcolor": "white",
           "linecolor": "white",
           "ticks": "",
           "title": {
            "standoff": 15
           },
           "zerolinecolor": "white",
           "zerolinewidth": 2
          },
          "yaxis": {
           "automargin": true,
           "gridcolor": "white",
           "linecolor": "white",
           "ticks": "",
           "title": {
            "standoff": 15
           },
           "zerolinecolor": "white",
           "zerolinewidth": 2
          }
         }
        },
        "title": {
         "text": "Performance vs Frequency for Geometries"
        },
        "xaxis": {
         "anchor": "y",
         "domain": [
          0,
          1
         ],
         "title": {
          "text": "Freq [GHz]"
         }
        },
        "yaxis": {
         "anchor": "x",
         "domain": [
          0,
          1
         ],
         "title": {
          "text": "prediction"
         }
        }
       }
      },
      "text/html": [
       "<div>                            <div id=\"33d1ba60-ee4d-4fce-a61a-67c8e680f791\" class=\"plotly-graph-div\" style=\"height:525px; width:100%;\"></div>            <script type=\"text/javascript\">                require([\"plotly\"], function(Plotly) {                    window.PLOTLYENV=window.PLOTLYENV || {};                                    if (document.getElementById(\"33d1ba60-ee4d-4fce-a61a-67c8e680f791\")) {                    Plotly.newPlot(                        \"33d1ba60-ee4d-4fce-a61a-67c8e680f791\",                        [{\"hovertemplate\":\"Geometry Name=142429\\u003cbr\\u003eFreq [GHz]=%{x}\\u003cbr\\u003eprediction=%{y}\\u003cextra\\u003e\\u003c\\u002fextra\\u003e\",\"legendgroup\":\"142429\",\"line\":{\"color\":\"#636efa\",\"dash\":\"solid\"},\"marker\":{\"symbol\":\"circle\"},\"mode\":\"lines\",\"name\":\"142429\",\"orientation\":\"v\",\"showlegend\":true,\"x\":[11.0,11.09,11.18,11.27,11.36,11.45,11.54,11.63,11.72,11.81,11.9,11.99,12.08,12.17,12.26,12.35,12.44,12.53,12.62,12.71,12.8,12.89,12.98,13.07,13.16,13.25,13.34,13.43,13.52,13.61,13.7,13.79,13.88,13.97,14.06,14.15,14.24,14.33,14.42,14.51,14.6,14.69,14.78,14.87,14.96,15.05,15.14,15.23,15.32,15.41,15.5,15.59,15.68,15.77,15.86,15.95,16.04,16.13,16.22,16.31,16.4,16.49,16.58,16.67,16.76,16.85,16.94,17.03,17.12,17.21,17.3,17.39,17.48,17.57,17.66,17.75,17.84,17.93,18.02,18.11,18.2,18.29,18.38,18.47,18.56,18.65,18.74,18.83,18.92,19.01,19.1,19.19,19.28,19.37,19.46,19.55,19.64,19.73,19.82,19.91,20.0],\"xaxis\":\"x\",\"y\":[-3.2831454277038574,-3.7940268516540527,-5.195284366607666,-5.5807785987854,-8.868138313293457,-11.588218688964844,-9.076159477233887,-7.904519557952881,-8.015297889709473,-11.167502403259277,-11.255023956298828,-7.122039794921875,-5.829179286956787,-4.775986671447754,-3.2305943965911865,-2.2403855323791504,-4.159721851348877,-8.518697738647461,-14.902351379394531,-11.716649055480957,-9.92258358001709,-4.57357120513916,-5.720680236816406,-6.4781951904296875,-6.533576488494873,-11.16243839263916,-11.102571487426758,-10.419232368469238,-13.607778549194336,-8.301234245300293,-7.785017490386963,-8.625654220581055,-9.332191467285156,-9.4208402633667,-8.781262397766113,-8.570090293884277,-10.558849334716797,-10.75269889831543,-11.300267219543457,-13.198866844177246,-14.69393253326416,-10.925493240356445,-11.539889335632324,-11.32472038269043,-12.456620216369629,-11.798890113830566,-14.138484001159668,-14.921630859375,-14.056596755981445,-11.718782424926758,-9.758685111999512,-11.399463653564453,-13.03581428527832,-16.184877395629883,-21.179176330566406,-21.03818702697754,-18.80378532409668,-15.739832878112793,-12.861523628234863,-11.452765464782715,-10.520136833190918,-11.471649169921875,-11.739564895629883,-14.392641067504883,-18.352344512939453,-32.3019905090332,-26.330018997192383,-23.045774459838867,-24.80415153503418,-28.298770904541016,-28.95965003967285,-21.442346572875977,-21.3289737701416,-30.529781341552734,-29.21552085876465,-19.052705764770508,-10.236567497253418,-3.9737706184387207,-1.646386981010437,-7.811947822570801,-8.35125732421875,-10.54773235321045,-14.023611068725586,-22.908950805664062,-32.05799102783203,-21.225238800048828,-16.722448348999023,-10.876792907714844,-6.396409034729004,-0.6896644234657288,-2.1853935718536377,-5.496910095214844,-10.275853157043457,-12.978402137756348,-18.48384666442871,-15.254891395568848,-15.00515079498291,-11.731228828430176,-4.332266330718994,-1.0520470142364502,0.10619313269853592],\"yaxis\":\"y\",\"type\":\"scatter\"},{\"hovertemplate\":\"Geometry Name=142460\\u003cbr\\u003eFreq [GHz]=%{x}\\u003cbr\\u003eprediction=%{y}\\u003cextra\\u003e\\u003c\\u002fextra\\u003e\",\"legendgroup\":\"142460\",\"line\":{\"color\":\"#EF553B\",\"dash\":\"solid\"},\"marker\":{\"symbol\":\"circle\"},\"mode\":\"lines\",\"name\":\"142460\",\"orientation\":\"v\",\"showlegend\":true,\"x\":[11.0,11.09,11.18,11.27,11.36,11.45,11.54,11.63,11.72,11.81,11.9,11.99,12.08,12.17,12.26,12.35,12.44,12.53,12.62,12.71,12.8,12.89,12.98,13.07,13.16,13.25,13.34,13.43,13.52,13.61,13.7,13.79,13.88,13.97,14.06,14.15,14.24,14.33,14.42,14.51,14.6,14.69,14.78,14.87,14.96,15.05,15.14,15.23,15.32,15.41,15.5,15.59,15.68,15.77,15.86,15.95,16.04,16.13,16.22,16.31,16.4,16.49,16.58,16.67,16.76,16.85,16.94,17.03,17.12,17.21,17.3,17.39,17.48,17.57,17.66,17.75,17.84,17.93,18.02,18.11,18.2,18.29,18.38,18.47,18.56,18.65,18.74,18.83,18.92,19.01,19.1,19.19,19.28,19.37,19.46,19.55,19.64,19.73,19.82,19.91,20.0],\"xaxis\":\"x\",\"y\":[-3.351557493209839,-4.238350868225098,-5.64560079574585,-5.334611415863037,-6.198596477508545,-8.50528335571289,-11.364755630493164,-9.962254524230957,-10.571494102478027,-7.936392784118652,-10.222270011901855,-14.84289264678955,-9.300334930419922,-6.098660469055176,-4.947656154632568,-3.304525136947632,-3.0001494884490967,-6.341037750244141,-9.44394588470459,-14.057584762573242,-10.470086097717285,-6.4025468826293945,-6.1517534255981445,-6.724817276000977,-6.750164985656738,-10.88952350616455,-10.647758483886719,-10.100934982299805,-9.734829902648926,-10.542465209960938,-12.209138870239258,-9.463959693908691,-9.818380355834961,-9.906243324279785,-9.743372917175293,-9.535222053527832,-11.5495023727417,-11.778571128845215,-12.32783317565918,-12.740285873413086,-12.992376327514648,-14.362031936645508,-13.657249450683594,-13.178677558898926,-13.969026565551758,-13.430926322937012,-14.865479469299316,-14.644819259643555,-14.429295539855957,-12.139525413513184,-12.022089958190918,-12.252068519592285,-13.417713165283203,-16.530086517333984,-24.206151962280273,-21.632707595825195,-16.84794044494629,-13.445337295532227,-11.244102478027344,-10.013328552246094,-9.817761421203613,-11.347332954406738,-12.559073448181152,-15.952666282653809,-19.152355194091797,-24.189573287963867,-24.370826721191406,-22.38627815246582,-21.783493041992188,-24.078914642333984,-30.795503616333008,-21.731958389282227,-22.633386611938477,-29.346017837524414,-21.811901092529297,-17.01504135131836,-9.204253196716309,-4.538590431213379,-0.8731733560562134,-2.3391926288604736,-9.496278762817383,-12.13806438446045,-14.09333324432373,-22.164688110351562,-30.14495277404785,-29.361116409301758,-14.747227668762207,-11.20801830291748,-5.272145748138428,-2.072465658187866,-3.123276472091675,-3.60252046585083,-5.408999443054199,-12.293695449829102,-19.551620483398438,-14.85892105102539,-12.455178260803223,-10.766386985778809,-5.220705032348633,-1.7000761032104492,-1.5387423038482666],\"yaxis\":\"y\",\"type\":\"scatter\"},{\"hovertemplate\":\"Geometry Name=331256\\u003cbr\\u003eFreq [GHz]=%{x}\\u003cbr\\u003eprediction=%{y}\\u003cextra\\u003e\\u003c\\u002fextra\\u003e\",\"legendgroup\":\"331256\",\"line\":{\"color\":\"#00cc96\",\"dash\":\"solid\"},\"marker\":{\"symbol\":\"circle\"},\"mode\":\"lines\",\"name\":\"331256\",\"orientation\":\"v\",\"showlegend\":true,\"x\":[11.0,11.09,11.18,11.27,11.36,11.45,11.54,11.63,11.72,11.81,11.9,11.99,12.08,12.17,12.26,12.35,12.44,12.53,12.62,12.71,12.8,12.89,12.98,13.07,13.16,13.25,13.34,13.43,13.52,13.61,13.7,13.79,13.88,13.97,14.06,14.15,14.24,14.33,14.42,14.51,14.6,14.69,14.78,14.87,14.96,15.05,15.14,15.23,15.32,15.41,15.5,15.59,15.68,15.77,15.86,15.95,16.04,16.13,16.22,16.31,16.4,16.49,16.58,16.67,16.76,16.85,16.94,17.03,17.12,17.21,17.3,17.39,17.48,17.57,17.66,17.75,17.84,17.93,18.02,18.11,18.2,18.29,18.38,18.47,18.56,18.65,18.74,18.83,18.92,19.01,19.1,19.19,19.28,19.37,19.46,19.55,19.64,19.73,19.82,19.91,20.0],\"xaxis\":\"x\",\"y\":[-4.382626056671143,-5.341990947723389,-5.718900680541992,-5.515122413635254,-8.97928524017334,-11.102043151855469,-9.472392082214355,-9.583008766174316,-9.373373985290527,-12.03758430480957,-15.37426471710205,-10.796903610229492,-9.228838920593262,-8.91726303100586,-10.618630409240723,-17.55120086669922,-14.16112232208252,-15.82929801940918,-16.215755462646484,-5.231939315795898,-3.705089569091797,0.6122602820396423,-4.783527374267578,-6.198420524597168,-6.480240345001221,-6.980449199676514,-8.27312183380127,-10.503809928894043,-13.91580581665039,-8.143427848815918,-7.825275421142578,-7.99741268157959,-9.145570755004883,-10.079584121704102,-10.521533012390137,-10.742831230163574,-11.121582984924316,-11.489030838012695,-11.458704948425293,-13.516749382019043,-15.476669311523438,-12.704751968383789,-13.617895126342773,-13.873543739318848,-14.464746475219727,-15.49375057220459,-17.609882354736328,-18.634857177734375,-15.543679237365723,-15.2473726272583,-14.701242446899414,-12.413616180419922,-10.29416275024414,-10.028848648071289,-10.401814460754395,-12.834250450134277,-15.803664207458496,-18.7550048828125,-18.51546287536621,-19.468460083007812,-14.960519790649414,-13.594103813171387,-13.25202465057373,-14.21953296661377,-16.415929794311523,-27.52880096435547,-28.35264778137207,-30.592235565185547,-29.86810302734375,-26.906457901000977,-34.55072784423828,-21.898462295532227,-23.11791229248047,-34.30982971191406,-24.628854751586914,-18.778770446777344,-8.642132759094238,-1.063388466835022,0.6168721914291382,-6.355277061462402,-6.611036777496338,-10.308601379394531,-11.099264144897461,-10.408923149108887,-26.40528678894043,-18.15041160583496,-12.832568168640137,-5.789330005645752,-2.6383118629455566,1.4789797067642212,0.15057718753814697,-4.853147506713867,-8.668707847595215,-14.107797622680664,-11.868193626403809,-9.728175163269043,-13.056023597717285,-11.904877662658691,-5.180967807769775,-1.660027027130127,0.7166670560836792],\"yaxis\":\"y\",\"type\":\"scatter\"}],                        {\"template\":{\"data\":{\"histogram2dcontour\":[{\"type\":\"histogram2dcontour\",\"colorbar\":{\"outlinewidth\":0,\"ticks\":\"\"},\"colorscale\":[[0.0,\"#0d0887\"],[0.1111111111111111,\"#46039f\"],[0.2222222222222222,\"#7201a8\"],[0.3333333333333333,\"#9c179e\"],[0.4444444444444444,\"#bd3786\"],[0.5555555555555556,\"#d8576b\"],[0.6666666666666666,\"#ed7953\"],[0.7777777777777778,\"#fb9f3a\"],[0.8888888888888888,\"#fdca26\"],[1.0,\"#f0f921\"]]}],\"choropleth\":[{\"type\":\"choropleth\",\"colorbar\":{\"outlinewidth\":0,\"ticks\":\"\"}}],\"histogram2d\":[{\"type\":\"histogram2d\",\"colorbar\":{\"outlinewidth\":0,\"ticks\":\"\"},\"colorscale\":[[0.0,\"#0d0887\"],[0.1111111111111111,\"#46039f\"],[0.2222222222222222,\"#7201a8\"],[0.3333333333333333,\"#9c179e\"],[0.4444444444444444,\"#bd3786\"],[0.5555555555555556,\"#d8576b\"],[0.6666666666666666,\"#ed7953\"],[0.7777777777777778,\"#fb9f3a\"],[0.8888888888888888,\"#fdca26\"],[1.0,\"#f0f921\"]]}],\"heatmap\":[{\"type\":\"heatmap\",\"colorbar\":{\"outlinewidth\":0,\"ticks\":\"\"},\"colorscale\":[[0.0,\"#0d0887\"],[0.1111111111111111,\"#46039f\"],[0.2222222222222222,\"#7201a8\"],[0.3333333333333333,\"#9c179e\"],[0.4444444444444444,\"#bd3786\"],[0.5555555555555556,\"#d8576b\"],[0.6666666666666666,\"#ed7953\"],[0.7777777777777778,\"#fb9f3a\"],[0.8888888888888888,\"#fdca26\"],[1.0,\"#f0f921\"]]}],\"heatmapgl\":[{\"type\":\"heatmapgl\",\"colorbar\":{\"outlinewidth\":0,\"ticks\":\"\"},\"colorscale\":[[0.0,\"#0d0887\"],[0.1111111111111111,\"#46039f\"],[0.2222222222222222,\"#7201a8\"],[0.3333333333333333,\"#9c179e\"],[0.4444444444444444,\"#bd3786\"],[0.5555555555555556,\"#d8576b\"],[0.6666666666666666,\"#ed7953\"],[0.7777777777777778,\"#fb9f3a\"],[0.8888888888888888,\"#fdca26\"],[1.0,\"#f0f921\"]]}],\"contourcarpet\":[{\"type\":\"contourcarpet\",\"colorbar\":{\"outlinewidth\":0,\"ticks\":\"\"}}],\"contour\":[{\"type\":\"contour\",\"colorbar\":{\"outlinewidth\":0,\"ticks\":\"\"},\"colorscale\":[[0.0,\"#0d0887\"],[0.1111111111111111,\"#46039f\"],[0.2222222222222222,\"#7201a8\"],[0.3333333333333333,\"#9c179e\"],[0.4444444444444444,\"#bd3786\"],[0.5555555555555556,\"#d8576b\"],[0.6666666666666666,\"#ed7953\"],[0.7777777777777778,\"#fb9f3a\"],[0.8888888888888888,\"#fdca26\"],[1.0,\"#f0f921\"]]}],\"surface\":[{\"type\":\"surface\",\"colorbar\":{\"outlinewidth\":0,\"ticks\":\"\"},\"colorscale\":[[0.0,\"#0d0887\"],[0.1111111111111111,\"#46039f\"],[0.2222222222222222,\"#7201a8\"],[0.3333333333333333,\"#9c179e\"],[0.4444444444444444,\"#bd3786\"],[0.5555555555555556,\"#d8576b\"],[0.6666666666666666,\"#ed7953\"],[0.7777777777777778,\"#fb9f3a\"],[0.8888888888888888,\"#fdca26\"],[1.0,\"#f0f921\"]]}],\"mesh3d\":[{\"type\":\"mesh3d\",\"colorbar\":{\"outlinewidth\":0,\"ticks\":\"\"}}],\"scatter\":[{\"fillpattern\":{\"fillmode\":\"overlay\",\"size\":10,\"solidity\":0.2},\"type\":\"scatter\"}],\"parcoords\":[{\"type\":\"parcoords\",\"line\":{\"colorbar\":{\"outlinewidth\":0,\"ticks\":\"\"}}}],\"scatterpolargl\":[{\"type\":\"scatterpolargl\",\"marker\":{\"colorbar\":{\"outlinewidth\":0,\"ticks\":\"\"}}}],\"bar\":[{\"error_x\":{\"color\":\"#2a3f5f\"},\"error_y\":{\"color\":\"#2a3f5f\"},\"marker\":{\"line\":{\"color\":\"#E5ECF6\",\"width\":0.5},\"pattern\":{\"fillmode\":\"overlay\",\"size\":10,\"solidity\":0.2}},\"type\":\"bar\"}],\"scattergeo\":[{\"type\":\"scattergeo\",\"marker\":{\"colorbar\":{\"outlinewidth\":0,\"ticks\":\"\"}}}],\"scatterpolar\":[{\"type\":\"scatterpolar\",\"marker\":{\"colorbar\":{\"outlinewidth\":0,\"ticks\":\"\"}}}],\"histogram\":[{\"marker\":{\"pattern\":{\"fillmode\":\"overlay\",\"size\":10,\"solidity\":0.2}},\"type\":\"histogram\"}],\"scattergl\":[{\"type\":\"scattergl\",\"marker\":{\"colorbar\":{\"outlinewidth\":0,\"ticks\":\"\"}}}],\"scatter3d\":[{\"type\":\"scatter3d\",\"line\":{\"colorbar\":{\"outlinewidth\":0,\"ticks\":\"\"}},\"marker\":{\"colorbar\":{\"outlinewidth\":0,\"ticks\":\"\"}}}],\"scattermapbox\":[{\"type\":\"scattermapbox\",\"marker\":{\"colorbar\":{\"outlinewidth\":0,\"ticks\":\"\"}}}],\"scatterternary\":[{\"type\":\"scatterternary\",\"marker\":{\"colorbar\":{\"outlinewidth\":0,\"ticks\":\"\"}}}],\"scattercarpet\":[{\"type\":\"scattercarpet\",\"marker\":{\"colorbar\":{\"outlinewidth\":0,\"ticks\":\"\"}}}],\"carpet\":[{\"aaxis\":{\"endlinecolor\":\"#2a3f5f\",\"gridcolor\":\"white\",\"linecolor\":\"white\",\"minorgridcolor\":\"white\",\"startlinecolor\":\"#2a3f5f\"},\"baxis\":{\"endlinecolor\":\"#2a3f5f\",\"gridcolor\":\"white\",\"linecolor\":\"white\",\"minorgridcolor\":\"white\",\"startlinecolor\":\"#2a3f5f\"},\"type\":\"carpet\"}],\"table\":[{\"cells\":{\"fill\":{\"color\":\"#EBF0F8\"},\"line\":{\"color\":\"white\"}},\"header\":{\"fill\":{\"color\":\"#C8D4E3\"},\"line\":{\"color\":\"white\"}},\"type\":\"table\"}],\"barpolar\":[{\"marker\":{\"line\":{\"color\":\"#E5ECF6\",\"width\":0.5},\"pattern\":{\"fillmode\":\"overlay\",\"size\":10,\"solidity\":0.2}},\"type\":\"barpolar\"}],\"pie\":[{\"automargin\":true,\"type\":\"pie\"}]},\"layout\":{\"autotypenumbers\":\"strict\",\"colorway\":[\"#636efa\",\"#EF553B\",\"#00cc96\",\"#ab63fa\",\"#FFA15A\",\"#19d3f3\",\"#FF6692\",\"#B6E880\",\"#FF97FF\",\"#FECB52\"],\"font\":{\"color\":\"#2a3f5f\"},\"hovermode\":\"closest\",\"hoverlabel\":{\"align\":\"left\"},\"paper_bgcolor\":\"white\",\"plot_bgcolor\":\"#E5ECF6\",\"polar\":{\"bgcolor\":\"#E5ECF6\",\"angularaxis\":{\"gridcolor\":\"white\",\"linecolor\":\"white\",\"ticks\":\"\"},\"radialaxis\":{\"gridcolor\":\"white\",\"linecolor\":\"white\",\"ticks\":\"\"}},\"ternary\":{\"bgcolor\":\"#E5ECF6\",\"aaxis\":{\"gridcolor\":\"white\",\"linecolor\":\"white\",\"ticks\":\"\"},\"baxis\":{\"gridcolor\":\"white\",\"linecolor\":\"white\",\"ticks\":\"\"},\"caxis\":{\"gridcolor\":\"white\",\"linecolor\":\"white\",\"ticks\":\"\"}},\"coloraxis\":{\"colorbar\":{\"outlinewidth\":0,\"ticks\":\"\"}},\"colorscale\":{\"sequential\":[[0.0,\"#0d0887\"],[0.1111111111111111,\"#46039f\"],[0.2222222222222222,\"#7201a8\"],[0.3333333333333333,\"#9c179e\"],[0.4444444444444444,\"#bd3786\"],[0.5555555555555556,\"#d8576b\"],[0.6666666666666666,\"#ed7953\"],[0.7777777777777778,\"#fb9f3a\"],[0.8888888888888888,\"#fdca26\"],[1.0,\"#f0f921\"]],\"sequentialminus\":[[0.0,\"#0d0887\"],[0.1111111111111111,\"#46039f\"],[0.2222222222222222,\"#7201a8\"],[0.3333333333333333,\"#9c179e\"],[0.4444444444444444,\"#bd3786\"],[0.5555555555555556,\"#d8576b\"],[0.6666666666666666,\"#ed7953\"],[0.7777777777777778,\"#fb9f3a\"],[0.8888888888888888,\"#fdca26\"],[1.0,\"#f0f921\"]],\"diverging\":[[0,\"#8e0152\"],[0.1,\"#c51b7d\"],[0.2,\"#de77ae\"],[0.3,\"#f1b6da\"],[0.4,\"#fde0ef\"],[0.5,\"#f7f7f7\"],[0.6,\"#e6f5d0\"],[0.7,\"#b8e186\"],[0.8,\"#7fbc41\"],[0.9,\"#4d9221\"],[1,\"#276419\"]]},\"xaxis\":{\"gridcolor\":\"white\",\"linecolor\":\"white\",\"ticks\":\"\",\"title\":{\"standoff\":15},\"zerolinecolor\":\"white\",\"automargin\":true,\"zerolinewidth\":2},\"yaxis\":{\"gridcolor\":\"white\",\"linecolor\":\"white\",\"ticks\":\"\",\"title\":{\"standoff\":15},\"zerolinecolor\":\"white\",\"automargin\":true,\"zerolinewidth\":2},\"scene\":{\"xaxis\":{\"backgroundcolor\":\"#E5ECF6\",\"gridcolor\":\"white\",\"linecolor\":\"white\",\"showbackground\":true,\"ticks\":\"\",\"zerolinecolor\":\"white\",\"gridwidth\":2},\"yaxis\":{\"backgroundcolor\":\"#E5ECF6\",\"gridcolor\":\"white\",\"linecolor\":\"white\",\"showbackground\":true,\"ticks\":\"\",\"zerolinecolor\":\"white\",\"gridwidth\":2},\"zaxis\":{\"backgroundcolor\":\"#E5ECF6\",\"gridcolor\":\"white\",\"linecolor\":\"white\",\"showbackground\":true,\"ticks\":\"\",\"zerolinecolor\":\"white\",\"gridwidth\":2}},\"shapedefaults\":{\"line\":{\"color\":\"#2a3f5f\"}},\"annotationdefaults\":{\"arrowcolor\":\"#2a3f5f\",\"arrowhead\":0,\"arrowwidth\":1},\"geo\":{\"bgcolor\":\"white\",\"landcolor\":\"#E5ECF6\",\"subunitcolor\":\"white\",\"showland\":true,\"showlakes\":true,\"lakecolor\":\"white\"},\"title\":{\"x\":0.05},\"mapbox\":{\"style\":\"light\"}}},\"xaxis\":{\"anchor\":\"y\",\"domain\":[0.0,1.0],\"title\":{\"text\":\"Freq [GHz]\"}},\"yaxis\":{\"anchor\":\"x\",\"domain\":[0.0,1.0],\"title\":{\"text\":\"prediction\"}},\"legend\":{\"title\":{\"text\":\"Geometry Name\"},\"tracegroupgap\":0},\"title\":{\"text\":\"Performance vs Frequency for Geometries\"},\"shapes\":[{\"line\":{\"color\":\"blue\",\"dash\":\"dash\"},\"type\":\"line\",\"x0\":0,\"x1\":1,\"xref\":\"x domain\",\"y0\":-20.0,\"y1\":-20.0,\"yref\":\"y\"},{\"line\":{\"color\":\"green\",\"dash\":\"dash\"},\"type\":\"line\",\"x0\":16.95,\"x1\":16.95,\"xref\":\"x\",\"y0\":0,\"y1\":1,\"yref\":\"y domain\"},{\"line\":{\"color\":\"green\",\"dash\":\"dash\"},\"type\":\"line\",\"x0\":17.75,\"x1\":17.75,\"xref\":\"x\",\"y0\":0,\"y1\":1,\"yref\":\"y domain\"}]},                        {\"responsive\": true}                    ).then(function(){\n",
       "                            \n",
       "var gd = document.getElementById('33d1ba60-ee4d-4fce-a61a-67c8e680f791');\n",
       "var x = new MutationObserver(function (mutations, observer) {{\n",
       "        var display = window.getComputedStyle(gd).display;\n",
       "        if (!display || display === 'none') {{\n",
       "            console.log([gd, 'removed!']);\n",
       "            Plotly.purge(gd);\n",
       "            observer.disconnect();\n",
       "        }}\n",
       "}});\n",
       "\n",
       "// Listen for the removal of the full notebook cells\n",
       "var notebookContainer = gd.closest('#notebook-container');\n",
       "if (notebookContainer) {{\n",
       "    x.observe(notebookContainer, {childList: true});\n",
       "}}\n",
       "\n",
       "// Listen for the clearing of the current output cell\n",
       "var outputEl = gd.closest('.output');\n",
       "if (outputEl) {{\n",
       "    x.observe(outputEl, {childList: true});\n",
       "}}\n",
       "\n",
       "                        })                };                });            </script>        </div>"
      ]
     },
     "metadata": {},
     "output_type": "display_data"
    },
    {
     "name": "stdout",
     "output_type": "stream",
     "text": [
      "PRINT SHAP\n"
     ]
    },
    {
     "ename": "ValueError",
     "evalue": "This reshape error is often caused by passing a bad data matrix to SHAP. See https://github.com/shap/shap/issues/580.",
     "output_type": "error",
     "traceback": [
      "\u001b[0;31m---------------------------------------------------------------------------\u001b[0m",
      "\u001b[0;31mXGBoostError\u001b[0m                              Traceback (most recent call last)",
      "File \u001b[0;32m/opt/miniconda3/envs/tylers_env_do_not_touch/lib/python3.9/site-packages/shap/explainers/_tree.py:405\u001b[0m, in \u001b[0;36mTreeExplainer.shap_values\u001b[0;34m(self, X, y, tree_limit, approximate, check_additivity, from_call)\u001b[0m\n\u001b[1;32m    404\u001b[0m \u001b[38;5;28;01mtry\u001b[39;00m:\n\u001b[0;32m--> 405\u001b[0m     phi \u001b[38;5;241m=\u001b[39m \u001b[38;5;28;43mself\u001b[39;49m\u001b[38;5;241;43m.\u001b[39;49m\u001b[43mmodel\u001b[49m\u001b[38;5;241;43m.\u001b[39;49m\u001b[43moriginal_model\u001b[49m\u001b[38;5;241;43m.\u001b[39;49m\u001b[43mpredict\u001b[49m\u001b[43m(\u001b[49m\n\u001b[1;32m    406\u001b[0m \u001b[43m        \u001b[49m\u001b[43mX\u001b[49m\u001b[43m,\u001b[49m\u001b[43m \u001b[49m\u001b[43miteration_range\u001b[49m\u001b[38;5;241;43m=\u001b[39;49m\u001b[43m(\u001b[49m\u001b[38;5;241;43m0\u001b[39;49m\u001b[43m,\u001b[49m\u001b[43m \u001b[49m\u001b[43mtree_limit\u001b[49m\u001b[43m)\u001b[49m\u001b[43m,\u001b[49m\u001b[43m \u001b[49m\u001b[43mpred_contribs\u001b[49m\u001b[38;5;241;43m=\u001b[39;49m\u001b[38;5;28;43;01mTrue\u001b[39;49;00m\u001b[43m,\u001b[49m\n\u001b[1;32m    407\u001b[0m \u001b[43m        \u001b[49m\u001b[43mapprox_contribs\u001b[49m\u001b[38;5;241;43m=\u001b[39;49m\u001b[43mapproximate\u001b[49m\u001b[43m,\u001b[49m\u001b[43m \u001b[49m\u001b[43mvalidate_features\u001b[49m\u001b[38;5;241;43m=\u001b[39;49m\u001b[38;5;28;43;01mFalse\u001b[39;49;00m\n\u001b[1;32m    408\u001b[0m \u001b[43m    \u001b[49m\u001b[43m)\u001b[49m\n\u001b[1;32m    409\u001b[0m \u001b[38;5;28;01mexcept\u001b[39;00m \u001b[38;5;167;01mValueError\u001b[39;00m \u001b[38;5;28;01mas\u001b[39;00m e:\n",
      "File \u001b[0;32m/opt/miniconda3/envs/tylers_env_do_not_touch/lib/python3.9/site-packages/xgboost/core.py:2297\u001b[0m, in \u001b[0;36mBooster.predict\u001b[0;34m(self, data, output_margin, pred_leaf, pred_contribs, approx_contribs, pred_interactions, validate_features, training, iteration_range, strict_shape)\u001b[0m\n\u001b[1;32m   2296\u001b[0m dims \u001b[38;5;241m=\u001b[39m c_bst_ulong()\n\u001b[0;32m-> 2297\u001b[0m \u001b[43m_check_call\u001b[49m\u001b[43m(\u001b[49m\n\u001b[1;32m   2298\u001b[0m \u001b[43m    \u001b[49m\u001b[43m_LIB\u001b[49m\u001b[38;5;241;43m.\u001b[39;49m\u001b[43mXGBoosterPredictFromDMatrix\u001b[49m\u001b[43m(\u001b[49m\n\u001b[1;32m   2299\u001b[0m \u001b[43m        \u001b[49m\u001b[38;5;28;43mself\u001b[39;49m\u001b[38;5;241;43m.\u001b[39;49m\u001b[43mhandle\u001b[49m\u001b[43m,\u001b[49m\n\u001b[1;32m   2300\u001b[0m \u001b[43m        \u001b[49m\u001b[43mdata\u001b[49m\u001b[38;5;241;43m.\u001b[39;49m\u001b[43mhandle\u001b[49m\u001b[43m,\u001b[49m\n\u001b[1;32m   2301\u001b[0m \u001b[43m        \u001b[49m\u001b[43mfrom_pystr_to_cstr\u001b[49m\u001b[43m(\u001b[49m\u001b[43mjson\u001b[49m\u001b[38;5;241;43m.\u001b[39;49m\u001b[43mdumps\u001b[49m\u001b[43m(\u001b[49m\u001b[43margs\u001b[49m\u001b[43m)\u001b[49m\u001b[43m)\u001b[49m\u001b[43m,\u001b[49m\n\u001b[1;32m   2302\u001b[0m \u001b[43m        \u001b[49m\u001b[43mctypes\u001b[49m\u001b[38;5;241;43m.\u001b[39;49m\u001b[43mbyref\u001b[49m\u001b[43m(\u001b[49m\u001b[43mshape\u001b[49m\u001b[43m)\u001b[49m\u001b[43m,\u001b[49m\n\u001b[1;32m   2303\u001b[0m \u001b[43m        \u001b[49m\u001b[43mctypes\u001b[49m\u001b[38;5;241;43m.\u001b[39;49m\u001b[43mbyref\u001b[49m\u001b[43m(\u001b[49m\u001b[43mdims\u001b[49m\u001b[43m)\u001b[49m\u001b[43m,\u001b[49m\n\u001b[1;32m   2304\u001b[0m \u001b[43m        \u001b[49m\u001b[43mctypes\u001b[49m\u001b[38;5;241;43m.\u001b[39;49m\u001b[43mbyref\u001b[49m\u001b[43m(\u001b[49m\u001b[43mpreds\u001b[49m\u001b[43m)\u001b[49m\u001b[43m,\u001b[49m\n\u001b[1;32m   2305\u001b[0m \u001b[43m    \u001b[49m\u001b[43m)\u001b[49m\n\u001b[1;32m   2306\u001b[0m \u001b[43m\u001b[49m\u001b[43m)\u001b[49m\n\u001b[1;32m   2307\u001b[0m \u001b[38;5;28;01mreturn\u001b[39;00m _prediction_output(shape, dims, preds, \u001b[38;5;28;01mFalse\u001b[39;00m)\n",
      "File \u001b[0;32m/opt/miniconda3/envs/tylers_env_do_not_touch/lib/python3.9/site-packages/xgboost/core.py:282\u001b[0m, in \u001b[0;36m_check_call\u001b[0;34m(ret)\u001b[0m\n\u001b[1;32m    281\u001b[0m \u001b[38;5;28;01mif\u001b[39;00m ret \u001b[38;5;241m!=\u001b[39m \u001b[38;5;241m0\u001b[39m:\n\u001b[0;32m--> 282\u001b[0m     \u001b[38;5;28;01mraise\u001b[39;00m XGBoostError(py_str(_LIB\u001b[38;5;241m.\u001b[39mXGBGetLastError()))\n",
      "\u001b[0;31mXGBoostError\u001b[0m: [19:48:07] /workspace/src/c_api/../data/../c_api/c_api_utils.h:123: Check failed: std::accumulate(shape.cbegin(), shape.cend(), static_cast<bst_ulong>(1), std::multiplies<>{}) == chunksize * rows (18 vs. 90) : \nStack trace:\n  [bt] (0) /opt/miniconda3/envs/tylers_env_do_not_touch/lib/python3.9/site-packages/xgboost/lib/libxgboost.so(+0x15c2ca) [0x7fc3ccf5c2ca]\n  [bt] (1) /opt/miniconda3/envs/tylers_env_do_not_touch/lib/python3.9/site-packages/xgboost/lib/libxgboost.so(+0x18ca1f) [0x7fc3ccf8ca1f]\n  [bt] (2) /opt/miniconda3/envs/tylers_env_do_not_touch/lib/python3.9/site-packages/xgboost/lib/libxgboost.so(XGBoosterPredictFromDMatrix+0x407) [0x7fc3ccf6d107]\n  [bt] (3) /opt/miniconda3/envs/tylers_env_do_not_touch/lib/python3.9/lib-dynload/../../libffi.so.8(+0xa052) [0x7fc489da6052]\n  [bt] (4) /opt/miniconda3/envs/tylers_env_do_not_touch/lib/python3.9/lib-dynload/../../libffi.so.8(+0x8925) [0x7fc489da4925]\n  [bt] (5) /opt/miniconda3/envs/tylers_env_do_not_touch/lib/python3.9/lib-dynload/../../libffi.so.8(ffi_call+0xde) [0x7fc489da506e]\n  [bt] (6) /opt/miniconda3/envs/tylers_env_do_not_touch/lib/python3.9/lib-dynload/_ctypes.cpython-39-x86_64-linux-gnu.so(+0x91e0) [0x7fc489ae31e0]\n  [bt] (7) /opt/miniconda3/envs/tylers_env_do_not_touch/lib/python3.9/lib-dynload/_ctypes.cpython-39-x86_64-linux-gnu.so(+0x8568) [0x7fc489ae2568]\n  [bt] (8) /opt/miniconda3/envs/tylers_env_do_not_touch/bin/python(_PyObject_MakeTpCall+0x2ec) [0x4f073c]\n\n",
      "\nThe above exception was the direct cause of the following exception:\n",
      "\u001b[0;31mValueError\u001b[0m                                Traceback (most recent call last)",
      "Cell \u001b[0;32mIn[68], line 8\u001b[0m, in \u001b[0;36mon_button_clicked\u001b[0;34m(b)\u001b[0m\n\u001b[1;32m      6\u001b[0m s11_val \u001b[38;5;241m=\u001b[39m s11_input\u001b[38;5;241m.\u001b[39mvalue\n\u001b[1;32m      7\u001b[0m freq_val \u001b[38;5;241m=\u001b[39m freq_input\u001b[38;5;241m.\u001b[39mvalue\n\u001b[0;32m----> 8\u001b[0m \u001b[43mprint_prediction\u001b[49m\u001b[43m(\u001b[49m\u001b[43m)\u001b[49m\n",
      "Cell \u001b[0;32mIn[66], line 27\u001b[0m, in \u001b[0;36mprint_prediction\u001b[0;34m()\u001b[0m\n\u001b[1;32m     25\u001b[0m geos_to_pass \u001b[38;5;241m=\u001b[39m working_geometries\u001b[38;5;241m.\u001b[39mcopy()\n\u001b[1;32m     26\u001b[0m geos_to_pass\u001b[38;5;241m.\u001b[39mdrop(columns\u001b[38;5;241m=\u001b[39m[\u001b[38;5;124m'\u001b[39m\u001b[38;5;124mGeometry Name\u001b[39m\u001b[38;5;124m'\u001b[39m, \u001b[38;5;124m'\u001b[39m\u001b[38;5;124mprediction\u001b[39m\u001b[38;5;124m'\u001b[39m], inplace\u001b[38;5;241m=\u001b[39m\u001b[38;5;28;01mTrue\u001b[39;00m)\n\u001b[0;32m---> 27\u001b[0m \u001b[43mprint_shap\u001b[49m\u001b[43m(\u001b[49m\u001b[43mgeos_to_pass\u001b[49m\u001b[38;5;241;43m.\u001b[39;49m\u001b[43miloc\u001b[49m\u001b[43m[\u001b[49m\u001b[38;5;241;43m0\u001b[39;49m\u001b[43m]\u001b[49m\u001b[43m)\u001b[49m\n",
      "Cell \u001b[0;32mIn[56], line 85\u001b[0m, in \u001b[0;36mprint_shap\u001b[0;34m(dimensions_for_prediction)\u001b[0m\n\u001b[1;32m     83\u001b[0m \u001b[38;5;28;01mdef\u001b[39;00m \u001b[38;5;21mprint_shap\u001b[39m(dimensions_for_prediction):\n\u001b[1;32m     84\u001b[0m     explainer \u001b[38;5;241m=\u001b[39m shap\u001b[38;5;241m.\u001b[39mTreeExplainer(model\u001b[38;5;241m.\u001b[39mnamed_steps[\u001b[38;5;124m'\u001b[39m\u001b[38;5;124mmodel\u001b[39m\u001b[38;5;124m'\u001b[39m])\n\u001b[0;32m---> 85\u001b[0m     shap_values \u001b[38;5;241m=\u001b[39m \u001b[43mexplainer\u001b[49m\u001b[43m(\u001b[49m\u001b[43mdimensions_for_prediction\u001b[49m\u001b[43m)\u001b[49m\n\u001b[1;32m     87\u001b[0m     display(HTML(\u001b[38;5;124m\"\u001b[39m\u001b[38;5;124m<h2>Shap Explanation</h2>\u001b[39m\u001b[38;5;124m\"\u001b[39m))\n\u001b[1;32m     88\u001b[0m     shap\u001b[38;5;241m.\u001b[39mplots\u001b[38;5;241m.\u001b[39mwaterfall(shap_values[\u001b[38;5;241m0\u001b[39m], max_display\u001b[38;5;241m=\u001b[39m\u001b[38;5;241m14\u001b[39m)\n",
      "File \u001b[0;32m/opt/miniconda3/envs/tylers_env_do_not_touch/lib/python3.9/site-packages/shap/explainers/_tree.py:246\u001b[0m, in \u001b[0;36mTreeExplainer.__call__\u001b[0;34m(self, X, y, interactions, check_additivity)\u001b[0m\n\u001b[1;32m    243\u001b[0m     feature_names \u001b[38;5;241m=\u001b[39m \u001b[38;5;28mgetattr\u001b[39m(\u001b[38;5;28mself\u001b[39m, \u001b[38;5;124m\"\u001b[39m\u001b[38;5;124mdata_feature_names\u001b[39m\u001b[38;5;124m\"\u001b[39m, \u001b[38;5;28;01mNone\u001b[39;00m)\n\u001b[1;32m    245\u001b[0m \u001b[38;5;28;01mif\u001b[39;00m \u001b[38;5;129;01mnot\u001b[39;00m interactions:\n\u001b[0;32m--> 246\u001b[0m     v \u001b[38;5;241m=\u001b[39m \u001b[38;5;28;43mself\u001b[39;49m\u001b[38;5;241;43m.\u001b[39;49m\u001b[43mshap_values\u001b[49m\u001b[43m(\u001b[49m\u001b[43mX\u001b[49m\u001b[43m,\u001b[49m\u001b[43m \u001b[49m\u001b[43my\u001b[49m\u001b[38;5;241;43m=\u001b[39;49m\u001b[43my\u001b[49m\u001b[43m,\u001b[49m\u001b[43m \u001b[49m\u001b[43mfrom_call\u001b[49m\u001b[38;5;241;43m=\u001b[39;49m\u001b[38;5;28;43;01mTrue\u001b[39;49;00m\u001b[43m,\u001b[49m\u001b[43m \u001b[49m\u001b[43mcheck_additivity\u001b[49m\u001b[38;5;241;43m=\u001b[39;49m\u001b[43mcheck_additivity\u001b[49m\u001b[43m,\u001b[49m\u001b[43m \u001b[49m\u001b[43mapproximate\u001b[49m\u001b[38;5;241;43m=\u001b[39;49m\u001b[38;5;28;43mself\u001b[39;49m\u001b[38;5;241;43m.\u001b[39;49m\u001b[43mapproximate\u001b[49m\u001b[43m)\u001b[49m\n\u001b[1;32m    247\u001b[0m     \u001b[38;5;28;01mif\u001b[39;00m \u001b[38;5;28misinstance\u001b[39m(v, \u001b[38;5;28mlist\u001b[39m):\n\u001b[1;32m    248\u001b[0m         v \u001b[38;5;241m=\u001b[39m np\u001b[38;5;241m.\u001b[39mstack(v, axis\u001b[38;5;241m=\u001b[39m\u001b[38;5;241m-\u001b[39m\u001b[38;5;241m1\u001b[39m)  \u001b[38;5;66;03m# put outputs at the end\u001b[39;00m\n",
      "File \u001b[0;32m/opt/miniconda3/envs/tylers_env_do_not_touch/lib/python3.9/site-packages/shap/explainers/_tree.py:414\u001b[0m, in \u001b[0;36mTreeExplainer.shap_values\u001b[0;34m(self, X, y, tree_limit, approximate, check_additivity, from_call)\u001b[0m\n\u001b[1;32m    409\u001b[0m \u001b[38;5;28;01mexcept\u001b[39;00m \u001b[38;5;167;01mValueError\u001b[39;00m \u001b[38;5;28;01mas\u001b[39;00m e:\n\u001b[1;32m    410\u001b[0m     emsg \u001b[38;5;241m=\u001b[39m (\n\u001b[1;32m    411\u001b[0m         \u001b[38;5;124m\"\u001b[39m\u001b[38;5;124mThis reshape error is often caused by passing a bad data matrix to SHAP. \u001b[39m\u001b[38;5;124m\"\u001b[39m\n\u001b[1;32m    412\u001b[0m         \u001b[38;5;124m\"\u001b[39m\u001b[38;5;124mSee https://github.com/shap/shap/issues/580.\u001b[39m\u001b[38;5;124m\"\u001b[39m\n\u001b[1;32m    413\u001b[0m     )\n\u001b[0;32m--> 414\u001b[0m     \u001b[38;5;28;01mraise\u001b[39;00m \u001b[38;5;167;01mValueError\u001b[39;00m(emsg) \u001b[38;5;28;01mfrom\u001b[39;00m \u001b[38;5;21;01me\u001b[39;00m\n\u001b[1;32m    416\u001b[0m \u001b[38;5;28;01mif\u001b[39;00m check_additivity \u001b[38;5;129;01mand\u001b[39;00m \u001b[38;5;28mself\u001b[39m\u001b[38;5;241m.\u001b[39mmodel\u001b[38;5;241m.\u001b[39mmodel_output \u001b[38;5;241m==\u001b[39m \u001b[38;5;124m\"\u001b[39m\u001b[38;5;124mraw\u001b[39m\u001b[38;5;124m\"\u001b[39m:\n\u001b[1;32m    417\u001b[0m     xgb_tree_limit \u001b[38;5;241m=\u001b[39m tree_limit \u001b[38;5;241m/\u001b[39m\u001b[38;5;241m/\u001b[39m \u001b[38;5;28mself\u001b[39m\u001b[38;5;241m.\u001b[39mmodel\u001b[38;5;241m.\u001b[39mnum_stacked_models\n",
      "\u001b[0;31mValueError\u001b[0m: This reshape error is often caused by passing a bad data matrix to SHAP. See https://github.com/shap/shap/issues/580."
     ]
    },
    {
     "data": {
      "image/png": "[encoded data removed]",
      "text/plain": [
       "<Figure size 600x400 with 1 Axes>"
      ]
     },
     "metadata": {},
     "output_type": "display_data"
    },
    {
     "name": "stdout",
     "output_type": "stream",
     "text": [
      "filtering by s11\n"
     ]
    },
    {
     "name": "stdout",
     "output_type": "stream",
     "text": [
      "PRINT SHAP\n"
     ]
    },
    {
     "ename": "IndexError",
     "evalue": "single positional indexer is out-of-bounds",
     "output_type": "error",
     "traceback": [
      "\u001b[0;31m---------------------------------------------------------------------------\u001b[0m",
      "\u001b[0;31mIndexError\u001b[0m                                Traceback (most recent call last)",
      "Cell \u001b[0;32mIn[68], line 8\u001b[0m, in \u001b[0;36mon_button_clicked\u001b[0;34m(b)\u001b[0m\n\u001b[1;32m      6\u001b[0m s11_val \u001b[38;5;241m=\u001b[39m s11_input\u001b[38;5;241m.\u001b[39mvalue\n\u001b[1;32m      7\u001b[0m freq_val \u001b[38;5;241m=\u001b[39m freq_input\u001b[38;5;241m.\u001b[39mvalue\n\u001b[0;32m----> 8\u001b[0m \u001b[43mprint_prediction\u001b[49m\u001b[43m(\u001b[49m\u001b[43m)\u001b[49m\n",
      "Cell \u001b[0;32mIn[66], line 27\u001b[0m, in \u001b[0;36mprint_prediction\u001b[0;34m()\u001b[0m\n\u001b[1;32m     25\u001b[0m geos_to_pass \u001b[38;5;241m=\u001b[39m working_geometries\u001b[38;5;241m.\u001b[39mcopy()\n\u001b[1;32m     26\u001b[0m geos_to_pass\u001b[38;5;241m.\u001b[39mdrop(columns\u001b[38;5;241m=\u001b[39m[\u001b[38;5;124m'\u001b[39m\u001b[38;5;124mGeometry Name\u001b[39m\u001b[38;5;124m'\u001b[39m, \u001b[38;5;124m'\u001b[39m\u001b[38;5;124mprediction\u001b[39m\u001b[38;5;124m'\u001b[39m], inplace\u001b[38;5;241m=\u001b[39m\u001b[38;5;28;01mTrue\u001b[39;00m)\n\u001b[0;32m---> 27\u001b[0m print_shap(\u001b[43mgeos_to_pass\u001b[49m\u001b[38;5;241;43m.\u001b[39;49m\u001b[43miloc\u001b[49m\u001b[43m[\u001b[49m\u001b[38;5;241;43m0\u001b[39;49m\u001b[43m]\u001b[49m)\n",
      "File \u001b[0;32m/opt/miniconda3/envs/tylers_env_do_not_touch/lib/python3.9/site-packages/pandas/core/indexing.py:1192\u001b[0m, in \u001b[0;36m_LocationIndexer.__getitem__\u001b[0;34m(self, key)\u001b[0m\n\u001b[1;32m   1190\u001b[0m maybe_callable \u001b[38;5;241m=\u001b[39m com\u001b[38;5;241m.\u001b[39mapply_if_callable(key, \u001b[38;5;28mself\u001b[39m\u001b[38;5;241m.\u001b[39mobj)\n\u001b[1;32m   1191\u001b[0m maybe_callable \u001b[38;5;241m=\u001b[39m \u001b[38;5;28mself\u001b[39m\u001b[38;5;241m.\u001b[39m_check_deprecated_callable_usage(key, maybe_callable)\n\u001b[0;32m-> 1192\u001b[0m \u001b[38;5;28;01mreturn\u001b[39;00m \u001b[38;5;28;43mself\u001b[39;49m\u001b[38;5;241;43m.\u001b[39;49m\u001b[43m_getitem_axis\u001b[49m\u001b[43m(\u001b[49m\u001b[43mmaybe_callable\u001b[49m\u001b[43m,\u001b[49m\u001b[43m \u001b[49m\u001b[43maxis\u001b[49m\u001b[38;5;241;43m=\u001b[39;49m\u001b[43maxis\u001b[49m\u001b[43m)\u001b[49m\n",
      "File \u001b[0;32m/opt/miniconda3/envs/tylers_env_do_not_touch/lib/python3.9/site-packages/pandas/core/indexing.py:1753\u001b[0m, in \u001b[0;36m_iLocIndexer._getitem_axis\u001b[0;34m(self, key, axis)\u001b[0m\n\u001b[1;32m   1750\u001b[0m     \u001b[38;5;28;01mraise\u001b[39;00m \u001b[38;5;167;01mTypeError\u001b[39;00m(\u001b[38;5;124m\"\u001b[39m\u001b[38;5;124mCannot index by location index with a non-integer key\u001b[39m\u001b[38;5;124m\"\u001b[39m)\n\u001b[1;32m   1752\u001b[0m \u001b[38;5;66;03m# validate the location\u001b[39;00m\n\u001b[0;32m-> 1753\u001b[0m \u001b[38;5;28;43mself\u001b[39;49m\u001b[38;5;241;43m.\u001b[39;49m\u001b[43m_validate_integer\u001b[49m\u001b[43m(\u001b[49m\u001b[43mkey\u001b[49m\u001b[43m,\u001b[49m\u001b[43m \u001b[49m\u001b[43maxis\u001b[49m\u001b[43m)\u001b[49m\n\u001b[1;32m   1755\u001b[0m \u001b[38;5;28;01mreturn\u001b[39;00m \u001b[38;5;28mself\u001b[39m\u001b[38;5;241m.\u001b[39mobj\u001b[38;5;241m.\u001b[39m_ixs(key, axis\u001b[38;5;241m=\u001b[39maxis)\n",
      "File \u001b[0;32m/opt/miniconda3/envs/tylers_env_do_not_touch/lib/python3.9/site-packages/pandas/core/indexing.py:1686\u001b[0m, in \u001b[0;36m_iLocIndexer._validate_integer\u001b[0;34m(self, key, axis)\u001b[0m\n\u001b[1;32m   1684\u001b[0m len_axis \u001b[38;5;241m=\u001b[39m \u001b[38;5;28mlen\u001b[39m(\u001b[38;5;28mself\u001b[39m\u001b[38;5;241m.\u001b[39mobj\u001b[38;5;241m.\u001b[39m_get_axis(axis))\n\u001b[1;32m   1685\u001b[0m \u001b[38;5;28;01mif\u001b[39;00m key \u001b[38;5;241m>\u001b[39m\u001b[38;5;241m=\u001b[39m len_axis \u001b[38;5;129;01mor\u001b[39;00m key \u001b[38;5;241m<\u001b[39m \u001b[38;5;241m-\u001b[39mlen_axis:\n\u001b[0;32m-> 1686\u001b[0m     \u001b[38;5;28;01mraise\u001b[39;00m \u001b[38;5;167;01mIndexError\u001b[39;00m(\u001b[38;5;124m\"\u001b[39m\u001b[38;5;124msingle positional indexer is out-of-bounds\u001b[39m\u001b[38;5;124m\"\u001b[39m)\n",
      "\u001b[0;31mIndexError\u001b[0m: single positional indexer is out-of-bounds"
     ]
    },
    {
     "name": "stdout",
     "output_type": "stream",
     "text": [
      "filtering by s11\n"
     ]
    },
    {
     "name": "stdout",
     "output_type": "stream",
     "text": [
      "PRINT SHAP\n"
     ]
    },
    {
     "ename": "IndexError",
     "evalue": "single positional indexer is out-of-bounds",
     "output_type": "error",
     "traceback": [
      "\u001b[0;31m---------------------------------------------------------------------------\u001b[0m",
      "\u001b[0;31mIndexError\u001b[0m                                Traceback (most recent call last)",
      "Cell \u001b[0;32mIn[68], line 8\u001b[0m, in \u001b[0;36mon_button_clicked\u001b[0;34m(b)\u001b[0m\n\u001b[1;32m      6\u001b[0m s11_val \u001b[38;5;241m=\u001b[39m s11_input\u001b[38;5;241m.\u001b[39mvalue\n\u001b[1;32m      7\u001b[0m freq_val \u001b[38;5;241m=\u001b[39m freq_input\u001b[38;5;241m.\u001b[39mvalue\n\u001b[0;32m----> 8\u001b[0m \u001b[43mprint_prediction\u001b[49m\u001b[43m(\u001b[49m\u001b[43m)\u001b[49m\n",
      "Cell \u001b[0;32mIn[66], line 27\u001b[0m, in \u001b[0;36mprint_prediction\u001b[0;34m()\u001b[0m\n\u001b[1;32m     25\u001b[0m geos_to_pass \u001b[38;5;241m=\u001b[39m working_geometries\u001b[38;5;241m.\u001b[39mcopy()\n\u001b[1;32m     26\u001b[0m geos_to_pass\u001b[38;5;241m.\u001b[39mdrop(columns\u001b[38;5;241m=\u001b[39m[\u001b[38;5;124m'\u001b[39m\u001b[38;5;124mGeometry Name\u001b[39m\u001b[38;5;124m'\u001b[39m, \u001b[38;5;124m'\u001b[39m\u001b[38;5;124mprediction\u001b[39m\u001b[38;5;124m'\u001b[39m], inplace\u001b[38;5;241m=\u001b[39m\u001b[38;5;28;01mTrue\u001b[39;00m)\n\u001b[0;32m---> 27\u001b[0m print_shap(\u001b[43mgeos_to_pass\u001b[49m\u001b[38;5;241;43m.\u001b[39;49m\u001b[43miloc\u001b[49m\u001b[43m[\u001b[49m\u001b[38;5;241;43m0\u001b[39;49m\u001b[43m]\u001b[49m)\n",
      "File \u001b[0;32m/opt/miniconda3/envs/tylers_env_do_not_touch/lib/python3.9/site-packages/pandas/core/indexing.py:1192\u001b[0m, in \u001b[0;36m_LocationIndexer.__getitem__\u001b[0;34m(self, key)\u001b[0m\n\u001b[1;32m   1190\u001b[0m maybe_callable \u001b[38;5;241m=\u001b[39m com\u001b[38;5;241m.\u001b[39mapply_if_callable(key, \u001b[38;5;28mself\u001b[39m\u001b[38;5;241m.\u001b[39mobj)\n\u001b[1;32m   1191\u001b[0m maybe_callable \u001b[38;5;241m=\u001b[39m \u001b[38;5;28mself\u001b[39m\u001b[38;5;241m.\u001b[39m_check_deprecated_callable_usage(key, maybe_callable)\n\u001b[0;32m-> 1192\u001b[0m \u001b[38;5;28;01mreturn\u001b[39;00m \u001b[38;5;28;43mself\u001b[39;49m\u001b[38;5;241;43m.\u001b[39;49m\u001b[43m_getitem_axis\u001b[49m\u001b[43m(\u001b[49m\u001b[43mmaybe_callable\u001b[49m\u001b[43m,\u001b[49m\u001b[43m \u001b[49m\u001b[43maxis\u001b[49m\u001b[38;5;241;43m=\u001b[39;49m\u001b[43maxis\u001b[49m\u001b[43m)\u001b[49m\n",
      "File \u001b[0;32m/opt/miniconda3/envs/tylers_env_do_not_touch/lib/python3.9/site-packages/pandas/core/indexing.py:1753\u001b[0m, in \u001b[0;36m_iLocIndexer._getitem_axis\u001b[0;34m(self, key, axis)\u001b[0m\n\u001b[1;32m   1750\u001b[0m     \u001b[38;5;28;01mraise\u001b[39;00m \u001b[38;5;167;01mTypeError\u001b[39;00m(\u001b[38;5;124m\"\u001b[39m\u001b[38;5;124mCannot index by location index with a non-integer key\u001b[39m\u001b[38;5;124m\"\u001b[39m)\n\u001b[1;32m   1752\u001b[0m \u001b[38;5;66;03m# validate the location\u001b[39;00m\n\u001b[0;32m-> 1753\u001b[0m \u001b[38;5;28;43mself\u001b[39;49m\u001b[38;5;241;43m.\u001b[39;49m\u001b[43m_validate_integer\u001b[49m\u001b[43m(\u001b[49m\u001b[43mkey\u001b[49m\u001b[43m,\u001b[49m\u001b[43m \u001b[49m\u001b[43maxis\u001b[49m\u001b[43m)\u001b[49m\n\u001b[1;32m   1755\u001b[0m \u001b[38;5;28;01mreturn\u001b[39;00m \u001b[38;5;28mself\u001b[39m\u001b[38;5;241m.\u001b[39mobj\u001b[38;5;241m.\u001b[39m_ixs(key, axis\u001b[38;5;241m=\u001b[39maxis)\n",
      "File \u001b[0;32m/opt/miniconda3/envs/tylers_env_do_not_touch/lib/python3.9/site-packages/pandas/core/indexing.py:1686\u001b[0m, in \u001b[0;36m_iLocIndexer._validate_integer\u001b[0;34m(self, key, axis)\u001b[0m\n\u001b[1;32m   1684\u001b[0m len_axis \u001b[38;5;241m=\u001b[39m \u001b[38;5;28mlen\u001b[39m(\u001b[38;5;28mself\u001b[39m\u001b[38;5;241m.\u001b[39mobj\u001b[38;5;241m.\u001b[39m_get_axis(axis))\n\u001b[1;32m   1685\u001b[0m \u001b[38;5;28;01mif\u001b[39;00m key \u001b[38;5;241m>\u001b[39m\u001b[38;5;241m=\u001b[39m len_axis \u001b[38;5;129;01mor\u001b[39;00m key \u001b[38;5;241m<\u001b[39m \u001b[38;5;241m-\u001b[39mlen_axis:\n\u001b[0;32m-> 1686\u001b[0m     \u001b[38;5;28;01mraise\u001b[39;00m \u001b[38;5;167;01mIndexError\u001b[39;00m(\u001b[38;5;124m\"\u001b[39m\u001b[38;5;124msingle positional indexer is out-of-bounds\u001b[39m\u001b[38;5;124m\"\u001b[39m)\n",
      "\u001b[0;31mIndexError\u001b[0m: single positional indexer is out-of-bounds"
     ]
    },
    {
     "name": "stdout",
     "output_type": "stream",
     "text": [
      "filtering by s11\n"
     ]
    },
    {
     "data": {
      "application/vnd.plotly.v1+json": {
       "config": {
        "plotlyServerURL": "https://plot.ly"
       },
       "data": [
        {
         "hovertemplate": "Geometry Name=58472<br>Freq [GHz]=%{x}<br>prediction=%{y}<extra></extra>",
         "legendgroup": "58472",
         "line": {
          "color": "#636efa",
          "dash": "solid"
         },
         "marker": {
          "symbol": "circle"
         },
         "mode": "lines",
         "name": "58472",
         "orientation": "v",
         "showlegend": true,
         "type": "scatter",
         "x": [
          11,
          11.09,
          11.18,
          11.27,
          11.36,
          11.45,
          11.54,
          11.63,
          11.72,
          11.81,
          11.9,
          11.99,
          12.08,
          12.17,
          12.26,
          12.35,
          12.44,
          12.53,
          12.62,
          12.71,
          12.8,
          12.89,
          12.98,
          13.07,
          13.16,
          13.25,
          13.34,
          13.43,
          13.52,
          13.61,
          13.7,
          13.79,
          13.88,
          13.97,
          14.06,
          14.15,
          14.24,
          14.33,
          14.42,
          14.51,
          14.6,
          14.69,
          14.78,
          14.87,
          14.96,
          15.05,
          15.14,
          15.23,
          15.32,
          15.41,
          15.5,
          15.59,
          15.68,
          15.77,
          15.86,
          15.95,
          16.04,
          16.13,
          16.22,
          16.31,
          16.4,
          16.49,
          16.58,
          16.67,
          16.76,
          16.85,
          16.94,
          17.03,
          17.12,
          17.21,
          17.3,
          17.39,
          17.48,
          17.57,
          17.66,
          17.75,
          17.84,
          17.93,
          18.02,
          18.11,
          18.2,
          18.29,
          18.38,
          18.47,
          18.56,
          18.65,
          18.74,
          18.83,
          18.92,
          19.01,
          19.1,
          19.19,
          19.28,
          19.37,
          19.46,
          19.55,
          19.64,
          19.73,
          19.82,
          19.91,
          20
         ],
         "xaxis": "x",
         "y": [
          -2.2401607036590576,
          -2.3249568939208984,
          -2.4717299938201904,
          -2.751255512237549,
          -3.0383810997009277,
          -3.4448306560516357,
          -3.570340156555176,
          -3.7049102783203125,
          -4.166584491729736,
          -4.039304733276367,
          -4.358913421630859,
          -4.753920555114746,
          -4.38975715637207,
          -3.971196413040161,
          -3.828315496444702,
          -5.458497524261475,
          -7.473432540893555,
          -9.997907638549805,
          -9.284940719604492,
          -8.981673240661621,
          -7.120713233947754,
          -4.43916130065918,
          -13.729718208312988,
          -12.745819091796875,
          -17.425195693969727,
          -25.789182662963867,
          -27.751020431518555,
          -20.566246032714844,
          -17.87598991394043,
          -15.654916763305664,
          -13.947307586669922,
          -15.555152893066406,
          -16.081836700439453,
          -18.804195404052734,
          -13.720088958740234,
          -13.666646957397461,
          -13.535637855529785,
          -13.940454483032227,
          -13.837881088256836,
          -14.27237319946289,
          -14.155216217041016,
          -14.969944953918457,
          -16.744827270507812,
          -19.45076560974121,
          -17.588775634765625,
          -17.559247970581055,
          -18.304615020751953,
          -20.161802291870117,
          -20.582923889160156,
          -20.571523666381836,
          -21.813575744628906,
          -25.12286376953125,
          -24.790008544921875,
          -25.571266174316406,
          -23.477458953857422,
          -25.254350662231445,
          -22.534656524658203,
          -20.4467830657959,
          -16.114452362060547,
          -14.503328323364258,
          -13.902443885803223,
          -14.40124797821045,
          -14.916086196899414,
          -16.122539520263672,
          -14.635711669921875,
          -10.2471342086792,
          -9.908454895019531,
          -8.92393684387207,
          -8.459783554077148,
          -9.631092071533203,
          -6.835806369781494,
          -6.6464924812316895,
          -6.612383842468262,
          -7.565953254699707,
          -10.047416687011719,
          -8.328370094299316,
          -8.070229530334473,
          -4.12360143661499,
          1.2859675884246826,
          -6.516745567321777,
          -16.14651107788086,
          -10.65187931060791,
          -6.0060625076293945,
          -6.470703601837158,
          -6.657740592956543,
          -8.191781997680664,
          -13.18067741394043,
          -14.196674346923828,
          -5.783650875091553,
          -1.776912808418274,
          -5.2485246658325195,
          -11.603793144226074,
          -6.154979228973389,
          -3.5834801197052,
          -7.941150665283203,
          -5.753416061401367,
          -5.196983814239502,
          -6.0095930099487305,
          -9.207772254943848,
          -15.088432312011719,
          -6.532576560974121
         ],
         "yaxis": "y"
        },
        {
         "hovertemplate": "Geometry Name=163437<br>Freq [GHz]=%{x}<br>prediction=%{y}<extra></extra>",
         "legendgroup": "163437",
         "line": {
          "color": "#EF553B",
          "dash": "solid"
         },
         "marker": {
          "symbol": "circle"
         },
         "mode": "lines",
         "name": "163437",
         "orientation": "v",
         "showlegend": true,
         "type": "scatter",
         "x": [
          11,
          11.09,
          11.18,
          11.27,
          11.36,
          11.45,
          11.54,
          11.63,
          11.72,
          11.81,
          11.9,
          11.99,
          12.08,
          12.17,
          12.26,
          12.35,
          12.44,
          12.53,
          12.62,
          12.71,
          12.8,
          12.89,
          12.98,
          13.07,
          13.16,
          13.25,
          13.34,
          13.43,
          13.52,
          13.61,
          13.7,
          13.79,
          13.88,
          13.97,
          14.06,
          14.15,
          14.24,
          14.33,
          14.42,
          14.51,
          14.6,
          14.69,
          14.78,
          14.87,
          14.96,
          15.05,
          15.14,
          15.23,
          15.32,
          15.41,
          15.5,
          15.59,
          15.68,
          15.77,
          15.86,
          15.95,
          16.04,
          16.13,
          16.22,
          16.31,
          16.4,
          16.49,
          16.58,
          16.67,
          16.76,
          16.85,
          16.94,
          17.03,
          17.12,
          17.21,
          17.3,
          17.39,
          17.48,
          17.57,
          17.66,
          17.75,
          17.84,
          17.93,
          18.02,
          18.11,
          18.2,
          18.29,
          18.38,
          18.47,
          18.56,
          18.65,
          18.74,
          18.83,
          18.92,
          19.01,
          19.1,
          19.19,
          19.28,
          19.37,
          19.46,
          19.55,
          19.64,
          19.73,
          19.82,
          19.91,
          20
         ],
         "xaxis": "x",
         "y": [
          -1.5394830703735352,
          -1.5763394832611084,
          -1.7139192819595337,
          -1.7911015748977661,
          -2.071105480194092,
          -2.5501692295074463,
          -2.706102132797241,
          -2.91441011428833,
          -2.9657375812530518,
          -3.592118263244629,
          -3.5993540287017822,
          -4.202332973480225,
          -3.6902236938476562,
          -3.7471683025360107,
          -3.9544286727905273,
          -7.785617351531982,
          -9.510504722595215,
          -9.874353408813477,
          -13.061883926391602,
          -11.84043025970459,
          -9.156540870666504,
          -2.9666872024536133,
          -9.559566497802734,
          -11.275249481201172,
          -12.311326026916504,
          -22.6992130279541,
          -20.36966896057129,
          -17.997438430786133,
          -16.98283576965332,
          -15.310441017150879,
          -13.083508491516113,
          -16.58342170715332,
          -18.090618133544922,
          -20.791786193847656,
          -14.106406211853027,
          -13.311079025268555,
          -13.294965744018555,
          -13.880498886108398,
          -13.92800235748291,
          -14.54376220703125,
          -14.739971160888672,
          -15.228751182556152,
          -17.11368179321289,
          -21.653718948364258,
          -16.53765106201172,
          -17.348325729370117,
          -18.56327247619629,
          -19.199806213378906,
          -20.32086753845215,
          -21.30224609375,
          -21.634981155395508,
          -22.378236770629883,
          -24.76352882385254,
          -30.386024475097656,
          -34.406002044677734,
          -26.428205490112305,
          -20.975250244140625,
          -21.482864379882812,
          -26.742961883544922,
          -22.0676326751709,
          -22.842679977416992,
          -21.843814849853516,
          -21.41082763671875,
          -17.900955200195312,
          -17.822126388549805,
          -15.118406295776367,
          -12.457114219665527,
          -18.141008377075195,
          -14.865301132202148,
          -10.859960556030273,
          -7.463701248168945,
          -8.60702133178711,
          -7.413600921630859,
          -7.250030994415283,
          -7.689301490783691,
          -8.37800407409668,
          -8.674771308898926,
          -10.67839527130127,
          -20.211307525634766,
          -14.090144157409668,
          -18.11163902282715,
          -20.329837799072266,
          -11.013754844665527,
          -8.293722152709961,
          -7.05377197265625,
          -5.590039253234863,
          -5.7251057624816895,
          -4.878021717071533,
          -7.145346641540527,
          -12.77071475982666,
          -20.20305824279785,
          -13.945342063903809,
          -21.682706832885742,
          -11.504239082336426,
          -5.045605659484863,
          -5.799375534057617,
          -4.461618423461914,
          -4.474587917327881,
          -3.842625379562378,
          -4.101129055023193,
          -4.291620254516602
         ],
         "yaxis": "y"
        },
        {
         "hovertemplate": "Geometry Name=189682<br>Freq [GHz]=%{x}<br>prediction=%{y}<extra></extra>",
         "legendgroup": "189682",
         "line": {
          "color": "#00cc96",
          "dash": "solid"
         },
         "marker": {
          "symbol": "circle"
         },
         "mode": "lines",
         "name": "189682",
         "orientation": "v",
         "showlegend": true,
         "type": "scatter",
         "x": [
          11,
          11.09,
          11.18,
          11.27,
          11.36,
          11.45,
          11.54,
          11.63,
          11.72,
          11.81,
          11.9,
          11.99,
          12.08,
          12.17,
          12.26,
          12.35,
          12.44,
          12.53,
          12.62,
          12.71,
          12.8,
          12.89,
          12.98,
          13.07,
          13.16,
          13.25,
          13.34,
          13.43,
          13.52,
          13.61,
          13.7,
          13.79,
          13.88,
          13.97,
          14.06,
          14.15,
          14.24,
          14.33,
          14.42,
          14.51,
          14.6,
          14.69,
          14.78,
          14.87,
          14.96,
          15.05,
          15.14,
          15.23,
          15.32,
          15.41,
          15.5,
          15.59,
          15.68,
          15.77,
          15.86,
          15.95,
          16.04,
          16.13,
          16.22,
          16.31,
          16.4,
          16.49,
          16.58,
          16.67,
          16.76,
          16.85,
          16.94,
          17.03,
          17.12,
          17.21,
          17.3,
          17.39,
          17.48,
          17.57,
          17.66,
          17.75,
          17.84,
          17.93,
          18.02,
          18.11,
          18.2,
          18.29,
          18.38,
          18.47,
          18.56,
          18.65,
          18.74,
          18.83,
          18.92,
          19.01,
          19.1,
          19.19,
          19.28,
          19.37,
          19.46,
          19.55,
          19.64,
          19.73,
          19.82,
          19.91,
          20
         ],
         "xaxis": "x",
         "y": [
          -1.851536750793457,
          -1.9173275232315063,
          -2.1172683238983154,
          -2.253934860229492,
          -2.5624570846557617,
          -2.818049430847168,
          -3.081357717514038,
          -3.2779760360717773,
          -3.8044090270996094,
          -3.680833339691162,
          -3.8159019947052,
          -4.208776473999023,
          -3.389174699783325,
          -4.129946708679199,
          -5.581335544586182,
          -8.041098594665527,
          -8.558112144470215,
          -10.349259376525879,
          -13.43869400024414,
          -14.98768424987793,
          -12.406075477600098,
          -9.41524887084961,
          -11.401954650878906,
          -11.361146926879883,
          -13.932828903198242,
          -25.055679321289062,
          -22.557640075683594,
          -20.311561584472656,
          -18.894731521606445,
          -17.3232421875,
          -15.605057716369629,
          -17.107757568359375,
          -16.746007919311523,
          -21.761322021484375,
          -15.387381553649902,
          -14.562202453613281,
          -14.2163667678833,
          -14.648358345031738,
          -14.691568374633789,
          -15.038432121276855,
          -15.460719108581543,
          -16.024757385253906,
          -17.76028060913086,
          -21.163957595825195,
          -15.65590763092041,
          -16.337459564208984,
          -17.052034378051758,
          -18.02809715270996,
          -18.79100227355957,
          -19.63323974609375,
          -20.119609832763672,
          -20.09255599975586,
          -21.786006927490234,
          -27.00634765625,
          -31.87174415588379,
          -23.228126525878906,
          -18.518596649169922,
          -19.10658836364746,
          -17.800321578979492,
          -17.043304443359375,
          -17.593868255615234,
          -19.343080520629883,
          -19.516010284423828,
          -17.275651931762695,
          -14.755000114440918,
          -11.589555740356445,
          -10.847319602966309,
          -16.19903564453125,
          -12.382545471191406,
          -9.52553653717041,
          -7.592510223388672,
          -8.11132526397705,
          -7.385505199432373,
          -7.179610252380371,
          -9.257222175598145,
          -11.30335807800293,
          -17.79725456237793,
          -10.104090690612793,
          -8.097603797912598,
          -4.575319290161133,
          -14.292596817016602,
          -17.454973220825195,
          -10.1934232711792,
          -7.129552364349365,
          -6.32765531539917,
          -5.875315189361572,
          -8.957745552062988,
          -9.02840518951416,
          -3.832784652709961,
          -6.1679205894470215,
          -7.271818161010742,
          -8.42959976196289,
          -12.444315910339355,
          -10.597344398498535,
          -6.109786510467529,
          -4.791150093078613,
          -4.0939459800720215,
          -3.8417327404022217,
          -4.311263561248779,
          -6.92164945602417,
          -11.351725578308105
         ],
         "yaxis": "y"
        },
        {
         "hovertemplate": "Geometry Name=189697<br>Freq [GHz]=%{x}<br>prediction=%{y}<extra></extra>",
         "legendgroup": "189697",
         "line": {
          "color": "#ab63fa",
          "dash": "solid"
         },
         "marker": {
          "symbol": "circle"
         },
         "mode": "lines",
         "name": "189697",
         "orientation": "v",
         "showlegend": true,
         "type": "scatter",
         "x": [
          11,
          11.09,
          11.18,
          11.27,
          11.36,
          11.45,
          11.54,
          11.63,
          11.72,
          11.81,
          11.9,
          11.99,
          12.08,
          12.17,
          12.26,
          12.35,
          12.44,
          12.53,
          12.62,
          12.71,
          12.8,
          12.89,
          12.98,
          13.07,
          13.16,
          13.25,
          13.34,
          13.43,
          13.52,
          13.61,
          13.7,
          13.79,
          13.88,
          13.97,
          14.06,
          14.15,
          14.24,
          14.33,
          14.42,
          14.51,
          14.6,
          14.69,
          14.78,
          14.87,
          14.96,
          15.05,
          15.14,
          15.23,
          15.32,
          15.41,
          15.5,
          15.59,
          15.68,
          15.77,
          15.86,
          15.95,
          16.04,
          16.13,
          16.22,
          16.31,
          16.4,
          16.49,
          16.58,
          16.67,
          16.76,
          16.85,
          16.94,
          17.03,
          17.12,
          17.21,
          17.3,
          17.39,
          17.48,
          17.57,
          17.66,
          17.75,
          17.84,
          17.93,
          18.02,
          18.11,
          18.2,
          18.29,
          18.38,
          18.47,
          18.56,
          18.65,
          18.74,
          18.83,
          18.92,
          19.01,
          19.1,
          19.19,
          19.28,
          19.37,
          19.46,
          19.55,
          19.64,
          19.73,
          19.82,
          19.91,
          20
         ],
         "xaxis": "x",
         "y": [
          -2.1032421588897705,
          -2.2343838214874268,
          -2.4295308589935303,
          -2.717268705368042,
          -3.014812707901001,
          -3.3647801876068115,
          -3.6436824798583984,
          -3.8141696453094482,
          -4.3592376708984375,
          -4.518338203430176,
          -5.182980060577393,
          -5.610086441040039,
          -5.52200984954834,
          -5.875768661499023,
          -6.271928787231445,
          -7.965953826904297,
          -9.104459762573242,
          -11.56396484375,
          -11.629345893859863,
          -12.46805191040039,
          -11.772438049316406,
          -10.31721019744873,
          -12.879880905151367,
          -13.111994743347168,
          -17.5421199798584,
          -26.723127365112305,
          -29.281816482543945,
          -22.300556182861328,
          -19.295063018798828,
          -17.432466506958008,
          -16.049171447753906,
          -17.793346405029297,
          -17.935949325561523,
          -20.85835075378418,
          -15.53609561920166,
          -15.404881477355957,
          -15.221983909606934,
          -15.755372047424316,
          -15.985978126525879,
          -16.326339721679688,
          -16.410083770751953,
          -16.617431640625,
          -18.220613479614258,
          -20.821815490722656,
          -18.75696563720703,
          -18.789649963378906,
          -19.59990692138672,
          -21.64848518371582,
          -22.100351333618164,
          -22.3962459564209,
          -23.9256649017334,
          -26.857929229736328,
          -26.807239532470703,
          -27.431272506713867,
          -24.861679077148438,
          -26.691722869873047,
          -24.07610321044922,
          -21.849075317382812,
          -17.18035888671875,
          -16.05961799621582,
          -16.178997039794922,
          -17.92842674255371,
          -18.118499755859375,
          -15.767656326293945,
          -13.829581260681152,
          -11.217135429382324,
          -10.548308372497559,
          -9.892924308776855,
          -11.055916786193848,
          -9.391203880310059,
          -6.926213264465332,
          -7.5589494705200195,
          -7.2766594886779785,
          -7.121553897857666,
          -9.385372161865234,
          -11.166414260864258,
          -17.7495174407959,
          -10.938751220703125,
          -9.806390762329102,
          -8.03271484375,
          -18.618928909301758,
          -10.647089004516602,
          -7.224155426025391,
          -5.896145820617676,
          -5.632386207580566,
          -5.52008581161499,
          -8.615724563598633,
          -9.308998107910156,
          -3.8567545413970947,
          -6.447946071624756,
          -7.49947452545166,
          -14.65920639038086,
          -7.852951526641846,
          -2.8502542972564697,
          -7.487164497375488,
          -4.989719390869141,
          -4.05537223815918,
          -3.901907444000244,
          -4.454983234405518,
          -7.006013870239258,
          -11.455483436584473
         ],
         "yaxis": "y"
        },
        {
         "hovertemplate": "Geometry Name=378524<br>Freq [GHz]=%{x}<br>prediction=%{y}<extra></extra>",
         "legendgroup": "378524",
         "line": {
          "color": "#FFA15A",
          "dash": "solid"
         },
         "marker": {
          "symbol": "circle"
         },
         "mode": "lines",
         "name": "378524",
         "orientation": "v",
         "showlegend": true,
         "type": "scatter",
         "x": [
          11,
          11.09,
          11.18,
          11.27,
          11.36,
          11.45,
          11.54,
          11.63,
          11.72,
          11.81,
          11.9,
          11.99,
          12.08,
          12.17,
          12.26,
          12.35,
          12.44,
          12.53,
          12.62,
          12.71,
          12.8,
          12.89,
          12.98,
          13.07,
          13.16,
          13.25,
          13.34,
          13.43,
          13.52,
          13.61,
          13.7,
          13.79,
          13.88,
          13.97,
          14.06,
          14.15,
          14.24,
          14.33,
          14.42,
          14.51,
          14.6,
          14.69,
          14.78,
          14.87,
          14.96,
          15.05,
          15.14,
          15.23,
          15.32,
          15.41,
          15.5,
          15.59,
          15.68,
          15.77,
          15.86,
          15.95,
          16.04,
          16.13,
          16.22,
          16.31,
          16.4,
          16.49,
          16.58,
          16.67,
          16.76,
          16.85,
          16.94,
          17.03,
          17.12,
          17.21,
          17.3,
          17.39,
          17.48,
          17.57,
          17.66,
          17.75,
          17.84,
          17.93,
          18.02,
          18.11,
          18.2,
          18.29,
          18.38,
          18.47,
          18.56,
          18.65,
          18.74,
          18.83,
          18.92,
          19.01,
          19.1,
          19.19,
          19.28,
          19.37,
          19.46,
          19.55,
          19.64,
          19.73,
          19.82,
          19.91,
          20
         ],
         "xaxis": "x",
         "y": [
          -3.8696422576904297,
          -4.759842872619629,
          -5.502529621124268,
          -6.787822723388672,
          -8.467677116394043,
          -9.488696098327637,
          -10.979057312011719,
          -16.99079704284668,
          -16.851131439208984,
          -7.89611291885376,
          -6.477586269378662,
          -5.362757205963135,
          -5.947308540344238,
          -8.543596267700195,
          -8.216509819030762,
          -10.511310577392578,
          -13.287237167358398,
          -20.23882293701172,
          -26.678321838378906,
          -17.936128616333008,
          -12.805309295654297,
          -10.581515312194824,
          -12.391386032104492,
          -12.748143196105957,
          -17.061120986938477,
          -26.701303482055664,
          -29.080839157104492,
          -22.561248779296875,
          -19.623271942138672,
          -17.678815841674805,
          -16.875520706176758,
          -17.800979614257812,
          -17.801530838012695,
          -21.216493606567383,
          -16.030086517333984,
          -15.507701873779297,
          -15.803987503051758,
          -16.29587173461914,
          -16.885297775268555,
          -17.431528091430664,
          -17.61919403076172,
          -17.88747787475586,
          -20.015573501586914,
          -19.465538024902344,
          -17.218961715698242,
          -17.642963409423828,
          -19.570636749267578,
          -21.3439884185791,
          -21.764545440673828,
          -21.374948501586914,
          -22.715219497680664,
          -26.69522476196289,
          -27.020151138305664,
          -29.96409034729004,
          -28.559955596923828,
          -25.5488224029541,
          -26.752965927124023,
          -29.255672454833984,
          -19.909244537353516,
          -13.2838716506958,
          -10.155826568603516,
          -8.996777534484863,
          -7.947448253631592,
          -7.865476131439209,
          -8.842384338378906,
          -10.575177192687988,
          -14.153663635253906,
          -8.577821731567383,
          -11.153643608093262,
          -9.191819190979004,
          -7.074113845825195,
          -7.215482711791992,
          -6.630724906921387,
          -5.538652420043945,
          -5.636508941650391,
          -6.9022321701049805,
          -8.63218879699707,
          -14.739835739135742,
          -7.03251838684082,
          -9.074883460998535,
          -18.436203002929688,
          -9.28679370880127,
          -4.613135814666748,
          -3.6399524211883545,
          -2.5689382553100586,
          -2.5850799083709717,
          -3.3681862354278564,
          -5.560792446136475,
          -7.581787109375,
          -12.340102195739746,
          -8.00114917755127,
          -13.68259334564209,
          -7.096214771270752,
          -1.208312749862671,
          -5.049953460693359,
          -2.7724955081939697,
          -1.9028172492980957,
          -2.8186490535736084,
          -3.0625669956207275,
          -5.579427242279053,
          -8.800756454467773
         ],
         "yaxis": "y"
        },
        {
         "hovertemplate": "Geometry Name=509749<br>Freq [GHz]=%{x}<br>prediction=%{y}<extra></extra>",
         "legendgroup": "509749",
         "line": {
          "color": "#19d3f3",
          "dash": "solid"
         },
         "marker": {
          "symbol": "circle"
         },
         "mode": "lines",
         "name": "509749",
         "orientation": "v",
         "showlegend": true,
         "type": "scatter",
         "x": [
          11,
          11.09,
          11.18,
          11.27,
          11.36,
          11.45,
          11.54,
          11.63,
          11.72,
          11.81,
          11.9,
          11.99,
          12.08,
          12.17,
          12.26,
          12.35,
          12.44,
          12.53,
          12.62,
          12.71,
          12.8,
          12.89,
          12.98,
          13.07,
          13.16,
          13.25,
          13.34,
          13.43,
          13.52,
          13.61,
          13.7,
          13.79,
          13.88,
          13.97,
          14.06,
          14.15,
          14.24,
          14.33,
          14.42,
          14.51,
          14.6,
          14.69,
          14.78,
          14.87,
          14.96,
          15.05,
          15.14,
          15.23,
          15.32,
          15.41,
          15.5,
          15.59,
          15.68,
          15.77,
          15.86,
          15.95,
          16.04,
          16.13,
          16.22,
          16.31,
          16.4,
          16.49,
          16.58,
          16.67,
          16.76,
          16.85,
          16.94,
          17.03,
          17.12,
          17.21,
          17.3,
          17.39,
          17.48,
          17.57,
          17.66,
          17.75,
          17.84,
          17.93,
          18.02,
          18.11,
          18.2,
          18.29,
          18.38,
          18.47,
          18.56,
          18.65,
          18.74,
          18.83,
          18.92,
          19.01,
          19.1,
          19.19,
          19.28,
          19.37,
          19.46,
          19.55,
          19.64,
          19.73,
          19.82,
          19.91,
          20
         ],
         "xaxis": "x",
         "y": [
          -4.657627582550049,
          -5.550185203552246,
          -6.910737037658691,
          -8.266622543334961,
          -12.578962326049805,
          -12.319868087768555,
          -14.145151138305664,
          -15.043028831481934,
          -11.186722755432129,
          -6.591460227966309,
          -6.919895172119141,
          -7.351940631866455,
          -13.786008834838867,
          -35.95270538330078,
          -8.768651008605957,
          -10.087271690368652,
          -16.259445190429688,
          -20.73476791381836,
          -16.17353057861328,
          -11.895381927490234,
          -10.64954948425293,
          -9.137660026550293,
          -10.597456932067871,
          -12.29183292388916,
          -15.855815887451172,
          -25.545583724975586,
          -28.378877639770508,
          -22.063459396362305,
          -19.494935989379883,
          -17.919519424438477,
          -17.52169418334961,
          -19.347064971923828,
          -17.906688690185547,
          -20.617321014404297,
          -15.91724681854248,
          -16.087265014648438,
          -16.998634338378906,
          -18.252656936645508,
          -19.880033493041992,
          -21.442237854003906,
          -22.36147689819336,
          -23.78468132019043,
          -20.522035598754883,
          -19.59775733947754,
          -19.614389419555664,
          -20.88947296142578,
          -24.012510299682617,
          -27.438249588012695,
          -29.88667869567871,
          -38.42186737060547,
          -35.947410583496094,
          -38.81332015991211,
          -32.644798278808594,
          -31.18808937072754,
          -24.76124382019043,
          -28.312210083007812,
          -29.204952239990234,
          -31.788780212402344,
          -39.49139404296875,
          -22.166507720947266,
          -16.429067611694336,
          -14.423796653747559,
          -9.517584800720215,
          -8.546063423156738,
          -8.006536483764648,
          -8.894789695739746,
          -14.566043853759766,
          -5.61402702331543,
          -5.618411540985107,
          -5.48496675491333,
          -7.86404275894165,
          -9.284452438354492,
          -7.1997880935668945,
          -5.685422897338867,
          -6.24449348449707,
          -8.896075248718262,
          -6.10836124420166,
          -10.437925338745117,
          -15.38304615020752,
          -12.43786334991455,
          -21.510066986083984,
          -9.892324447631836,
          -4.9803314208984375,
          -4.04595422744751,
          -3.3133654594421387,
          -2.429391622543335,
          -2.1557769775390625,
          -2.5934386253356934,
          -3.5627379417419434,
          -8.124451637268066,
          -15.027399063110352,
          -17.59213638305664,
          -9.016772270202637,
          -2.021953821182251,
          -5.0643839836120605,
          -2.8341314792633057,
          -2.835726499557495,
          -2.6666419506073,
          -2.5322511196136475,
          -3.617659568786621,
          -7.046591758728027
         ],
         "yaxis": "y"
        }
       ],
       "layout": {
        "legend": {
         "title": {
          "text": "Geometry Name"
         },
         "tracegroupgap": 0
        },
        "shapes": [
         {
          "line": {
           "color": "blue",
           "dash": "dash"
          },
          "type": "line",
          "x0": 0,
          "x1": 1,
          "xref": "x domain",
          "y0": -15,
          "y1": -15,
          "yref": "y"
         },
         {
          "line": {
           "color": "green",
           "dash": "dash"
          },
          "type": "line",
          "x0": 13.76,
          "x1": 13.76,
          "xref": "x",
          "y0": 0,
          "y1": 1,
          "yref": "y domain"
         },
         {
          "line": {
           "color": "green",
           "dash": "dash"
          },
          "type": "line",
          "x0": 13.98,
          "x1": 13.98,
          "xref": "x",
          "y0": 0,
          "y1": 1,
          "yref": "y domain"
         }
        ],
        "template": {
         "data": {
          "bar": [
           {
            "error_x": {
             "color": "#2a3f5f"
            },
            "error_y": {
             "color": "#2a3f5f"
            },
            "marker": {
             "line": {
              "color": "#E5ECF6",
              "width": 0.5
             },
             "pattern": {
              "fillmode": "overlay",
              "size": 10,
              "solidity": 0.2
             }
            },
            "type": "bar"
           }
          ],
          "barpolar": [
           {
            "marker": {
             "line": {
              "color": "#E5ECF6",
              "width": 0.5
             },
             "pattern": {
              "fillmode": "overlay",
              "size": 10,
              "solidity": 0.2
             }
            },
            "type": "barpolar"
           }
          ],
          "carpet": [
           {
            "aaxis": {
             "endlinecolor": "#2a3f5f",
             "gridcolor": "white",
             "linecolor": "white",
             "minorgridcolor": "white",
             "startlinecolor": "#2a3f5f"
            },
            "baxis": {
             "endlinecolor": "#2a3f5f",
             "gridcolor": "white",
             "linecolor": "white",
             "minorgridcolor": "white",
             "startlinecolor": "#2a3f5f"
            },
            "type": "carpet"
           }
          ],
          "choropleth": [
           {
            "colorbar": {
             "outlinewidth": 0,
             "ticks": ""
            },
            "type": "choropleth"
           }
          ],
          "contour": [
           {
            "colorbar": {
             "outlinewidth": 0,
             "ticks": ""
            },
            "colorscale": [
             [
              0,
              "#0d0887"
             ],
             [
              0.1111111111111111,
              "#46039f"
             ],
             [
              0.2222222222222222,
              "#7201a8"
             ],
             [
              0.3333333333333333,
              "#9c179e"
             ],
             [
              0.4444444444444444,
              "#bd3786"
             ],
             [
              0.5555555555555556,
              "#d8576b"
             ],
             [
              0.6666666666666666,
              "#ed7953"
             ],
             [
              0.7777777777777778,
              "#fb9f3a"
             ],
             [
              0.8888888888888888,
              "#fdca26"
             ],
             [
              1,
              "#f0f921"
             ]
            ],
            "type": "contour"
           }
          ],
          "contourcarpet": [
           {
            "colorbar": {
             "outlinewidth": 0,
             "ticks": ""
            },
            "type": "contourcarpet"
           }
          ],
          "heatmap": [
           {
            "colorbar": {
             "outlinewidth": 0,
             "ticks": ""
            },
            "colorscale": [
             [
              0,
              "#0d0887"
             ],
             [
              0.1111111111111111,
              "#46039f"
             ],
             [
              0.2222222222222222,
              "#7201a8"
             ],
             [
              0.3333333333333333,
              "#9c179e"
             ],
             [
              0.4444444444444444,
              "#bd3786"
             ],
             [
              0.5555555555555556,
              "#d8576b"
             ],
             [
              0.6666666666666666,
              "#ed7953"
             ],
             [
              0.7777777777777778,
              "#fb9f3a"
             ],
             [
              0.8888888888888888,
              "#fdca26"
             ],
             [
              1,
              "#f0f921"
             ]
            ],
            "type": "heatmap"
           }
          ],
          "heatmapgl": [
           {
            "colorbar": {
             "outlinewidth": 0,
             "ticks": ""
            },
            "colorscale": [
             [
              0,
              "#0d0887"
             ],
             [
              0.1111111111111111,
              "#46039f"
             ],
             [
              0.2222222222222222,
              "#7201a8"
             ],
             [
              0.3333333333333333,
              "#9c179e"
             ],
             [
              0.4444444444444444,
              "#bd3786"
             ],
             [
              0.5555555555555556,
              "#d8576b"
             ],
             [
              0.6666666666666666,
              "#ed7953"
             ],
             [
              0.7777777777777778,
              "#fb9f3a"
             ],
             [
              0.8888888888888888,
              "#fdca26"
             ],
             [
              1,
              "#f0f921"
             ]
            ],
            "type": "heatmapgl"
           }
          ],
          "histogram": [
           {
            "marker": {
             "pattern": {
              "fillmode": "overlay",
              "size": 10,
              "solidity": 0.2
             }
            },
            "type": "histogram"
           }
          ],
          "histogram2d": [
           {
            "colorbar": {
             "outlinewidth": 0,
             "ticks": ""
            },
            "colorscale": [
             [
              0,
              "#0d0887"
             ],
             [
              0.1111111111111111,
              "#46039f"
             ],
             [
              0.2222222222222222,
              "#7201a8"
             ],
             [
              0.3333333333333333,
              "#9c179e"
             ],
             [
              0.4444444444444444,
              "#bd3786"
             ],
             [
              0.5555555555555556,
              "#d8576b"
             ],
             [
              0.6666666666666666,
              "#ed7953"
             ],
             [
              0.7777777777777778,
              "#fb9f3a"
             ],
             [
              0.8888888888888888,
              "#fdca26"
             ],
             [
              1,
              "#f0f921"
             ]
            ],
            "type": "histogram2d"
           }
          ],
          "histogram2dcontour": [
           {
            "colorbar": {
             "outlinewidth": 0,
             "ticks": ""
            },
            "colorscale": [
             [
              0,
              "#0d0887"
             ],
             [
              0.1111111111111111,
              "#46039f"
             ],
             [
              0.2222222222222222,
              "#7201a8"
             ],
             [
              0.3333333333333333,
              "#9c179e"
             ],
             [
              0.4444444444444444,
              "#bd3786"
             ],
             [
              0.5555555555555556,
              "#d8576b"
             ],
             [
              0.6666666666666666,
              "#ed7953"
             ],
             [
              0.7777777777777778,
              "#fb9f3a"
             ],
             [
              0.8888888888888888,
              "#fdca26"
             ],
             [
              1,
              "#f0f921"
             ]
            ],
            "type": "histogram2dcontour"
           }
          ],
          "mesh3d": [
           {
            "colorbar": {
             "outlinewidth": 0,
             "ticks": ""
            },
            "type": "mesh3d"
           }
          ],
          "parcoords": [
           {
            "line": {
             "colorbar": {
              "outlinewidth": 0,
              "ticks": ""
             }
            },
            "type": "parcoords"
           }
          ],
          "pie": [
           {
            "automargin": true,
            "type": "pie"
           }
          ],
          "scatter": [
           {
            "fillpattern": {
             "fillmode": "overlay",
             "size": 10,
             "solidity": 0.2
            },
            "type": "scatter"
           }
          ],
          "scatter3d": [
           {
            "line": {
             "colorbar": {
              "outlinewidth": 0,
              "ticks": ""
             }
            },
            "marker": {
             "colorbar": {
              "outlinewidth": 0,
              "ticks": ""
             }
            },
            "type": "scatter3d"
           }
          ],
          "scattercarpet": [
           {
            "marker": {
             "colorbar": {
              "outlinewidth": 0,
              "ticks": ""
             }
            },
            "type": "scattercarpet"
           }
          ],
          "scattergeo": [
           {
            "marker": {
             "colorbar": {
              "outlinewidth": 0,
              "ticks": ""
             }
            },
            "type": "scattergeo"
           }
          ],
          "scattergl": [
           {
            "marker": {
             "colorbar": {
              "outlinewidth": 0,
              "ticks": ""
             }
            },
            "type": "scattergl"
           }
          ],
          "scattermapbox": [
           {
            "marker": {
             "colorbar": {
              "outlinewidth": 0,
              "ticks": ""
             }
            },
            "type": "scattermapbox"
           }
          ],
          "scatterpolar": [
           {
            "marker": {
             "colorbar": {
              "outlinewidth": 0,
              "ticks": ""
             }
            },
            "type": "scatterpolar"
           }
          ],
          "scatterpolargl": [
           {
            "marker": {
             "colorbar": {
              "outlinewidth": 0,
              "ticks": ""
             }
            },
            "type": "scatterpolargl"
           }
          ],
          "scatterternary": [
           {
            "marker": {
             "colorbar": {
              "outlinewidth": 0,
              "ticks": ""
             }
            },
            "type": "scatterternary"
           }
          ],
          "surface": [
           {
            "colorbar": {
             "outlinewidth": 0,
             "ticks": ""
            },
            "colorscale": [
             [
              0,
              "#0d0887"
             ],
             [
              0.1111111111111111,
              "#46039f"
             ],
             [
              0.2222222222222222,
              "#7201a8"
             ],
             [
              0.3333333333333333,
              "#9c179e"
             ],
             [
              0.4444444444444444,
              "#bd3786"
             ],
             [
              0.5555555555555556,
              "#d8576b"
             ],
             [
              0.6666666666666666,
              "#ed7953"
             ],
             [
              0.7777777777777778,
              "#fb9f3a"
             ],
             [
              0.8888888888888888,
              "#fdca26"
             ],
             [
              1,
              "#f0f921"
             ]
            ],
            "type": "surface"
           }
          ],
          "table": [
           {
            "cells": {
             "fill": {
              "color": "#EBF0F8"
             },
             "line": {
              "color": "white"
             }
            },
            "header": {
             "fill": {
              "color": "#C8D4E3"
             },
             "line": {
              "color": "white"
             }
            },
            "type": "table"
           }
          ]
         },
         "layout": {
          "annotationdefaults": {
           "arrowcolor": "#2a3f5f",
           "arrowhead": 0,
           "arrowwidth": 1
          },
          "autotypenumbers": "strict",
          "coloraxis": {
           "colorbar": {
            "outlinewidth": 0,
            "ticks": ""
           }
          },
          "colorscale": {
           "diverging": [
            [
             0,
             "#8e0152"
            ],
            [
             0.1,
             "#c51b7d"
            ],
            [
             0.2,
             "#de77ae"
            ],
            [
             0.3,
             "#f1b6da"
            ],
            [
             0.4,
             "#fde0ef"
            ],
            [
             0.5,
             "#f7f7f7"
            ],
            [
             0.6,
             "#e6f5d0"
            ],
            [
             0.7,
             "#b8e186"
            ],
            [
             0.8,
             "#7fbc41"
            ],
            [
             0.9,
             "#4d9221"
            ],
            [
             1,
             "#276419"
            ]
           ],
           "sequential": [
            [
             0,
             "#0d0887"
            ],
            [
             0.1111111111111111,
             "#46039f"
            ],
            [
             0.2222222222222222,
             "#7201a8"
            ],
            [
             0.3333333333333333,
             "#9c179e"
            ],
            [
             0.4444444444444444,
             "#bd3786"
            ],
            [
             0.5555555555555556,
             "#d8576b"
            ],
            [
             0.6666666666666666,
             "#ed7953"
            ],
            [
             0.7777777777777778,
             "#fb9f3a"
            ],
            [
             0.8888888888888888,
             "#fdca26"
            ],
            [
             1,
             "#f0f921"
            ]
           ],
           "sequentialminus": [
            [
             0,
             "#0d0887"
            ],
            [
             0.1111111111111111,
             "#46039f"
            ],
            [
             0.2222222222222222,
             "#7201a8"
            ],
            [
             0.3333333333333333,
             "#9c179e"
            ],
            [
             0.4444444444444444,
             "#bd3786"
            ],
            [
             0.5555555555555556,
             "#d8576b"
            ],
            [
             0.6666666666666666,
             "#ed7953"
            ],
            [
             0.7777777777777778,
             "#fb9f3a"
            ],
            [
             0.8888888888888888,
             "#fdca26"
            ],
            [
             1,
             "#f0f921"
            ]
           ]
          },
          "colorway": [
           "#636efa",
           "#EF553B",
           "#00cc96",
           "#ab63fa",
           "#FFA15A",
           "#19d3f3",
           "#FF6692",
           "#B6E880",
           "#FF97FF",
           "#FECB52"
          ],
          "font": {
           "color": "#2a3f5f"
          },
          "geo": {
           "bgcolor": "white",
           "lakecolor": "white",
           "landcolor": "#E5ECF6",
           "showlakes": true,
           "showland": true,
           "subunitcolor": "white"
          },
          "hoverlabel": {
           "align": "left"
          },
          "hovermode": "closest",
          "mapbox": {
           "style": "light"
          },
          "paper_bgcolor": "white",
          "plot_bgcolor": "#E5ECF6",
          "polar": {
           "angularaxis": {
            "gridcolor": "white",
            "linecolor": "white",
            "ticks": ""
           },
           "bgcolor": "#E5ECF6",
           "radialaxis": {
            "gridcolor": "white",
            "linecolor": "white",
            "ticks": ""
           }
          },
          "scene": {
           "xaxis": {
            "backgroundcolor": "#E5ECF6",
            "gridcolor": "white",
            "gridwidth": 2,
            "linecolor": "white",
            "showbackground": true,
            "ticks": "",
            "zerolinecolor": "white"
           },
           "yaxis": {
            "backgroundcolor": "#E5ECF6",
            "gridcolor": "white",
            "gridwidth": 2,
            "linecolor": "white",
            "showbackground": true,
            "ticks": "",
            "zerolinecolor": "white"
           },
           "zaxis": {
            "backgroundcolor": "#E5ECF6",
            "gridcolor": "white",
            "gridwidth": 2,
            "linecolor": "white",
            "showbackground": true,
            "ticks": "",
            "zerolinecolor": "white"
           }
          },
          "shapedefaults": {
           "line": {
            "color": "#2a3f5f"
           }
          },
          "ternary": {
           "aaxis": {
            "gridcolor": "white",
            "linecolor": "white",
            "ticks": ""
           },
           "baxis": {
            "gridcolor": "white",
            "linecolor": "white",
            "ticks": ""
           },
           "bgcolor": "#E5ECF6",
           "caxis": {
            "gridcolor": "white",
            "linecolor": "white",
            "ticks": ""
           }
          },
          "title": {
           "x": 0.05
          },
          "xaxis": {
           "automargin": true,
           "gridcolor": "white",
           "linecolor": "white",
           "ticks": "",
           "title": {
            "standoff": 15
           },
           "zerolinecolor": "white",
           "zerolinewidth": 2
          },
          "yaxis": {
           "automargin": true,
           "gridcolor": "white",
           "linecolor": "white",
           "ticks": "",
           "title": {
            "standoff": 15
           },
           "zerolinecolor": "white",
           "zerolinewidth": 2
          }
         }
        },
        "title": {
         "text": "Performance vs Frequency for Geometries"
        },
        "xaxis": {
         "anchor": "y",
         "domain": [
          0,
          1
         ],
         "title": {
          "text": "Freq [GHz]"
         }
        },
        "yaxis": {
         "anchor": "x",
         "domain": [
          0,
          1
         ],
         "title": {
          "text": "prediction"
         }
        }
       }
      },
      "text/html": [
       "<div>                            <div id=\"a9e97760-e921-4117-b9cc-a9425bdee76c\" class=\"plotly-graph-div\" style=\"height:525px; width:100%;\"></div>            <script type=\"text/javascript\">                require([\"plotly\"], function(Plotly) {                    window.PLOTLYENV=window.PLOTLYENV || {};                                    if (document.getElementById(\"a9e97760-e921-4117-b9cc-a9425bdee76c\")) {                    Plotly.newPlot(                        \"a9e97760-e921-4117-b9cc-a9425bdee76c\",                        [{\"hovertemplate\":\"Geometry Name=58472\\u003cbr\\u003eFreq [GHz]=%{x}\\u003cbr\\u003eprediction=%{y}\\u003cextra\\u003e\\u003c\\u002fextra\\u003e\",\"legendgroup\":\"58472\",\"line\":{\"color\":\"#636efa\",\"dash\":\"solid\"},\"marker\":{\"symbol\":\"circle\"},\"mode\":\"lines\",\"name\":\"58472\",\"orientation\":\"v\",\"showlegend\":true,\"x\":[11.0,11.09,11.18,11.27,11.36,11.45,11.54,11.63,11.72,11.81,11.9,11.99,12.08,12.17,12.26,12.35,12.44,12.53,12.62,12.71,12.8,12.89,12.98,13.07,13.16,13.25,13.34,13.43,13.52,13.61,13.7,13.79,13.88,13.97,14.06,14.15,14.24,14.33,14.42,14.51,14.6,14.69,14.78,14.87,14.96,15.05,15.14,15.23,15.32,15.41,15.5,15.59,15.68,15.77,15.86,15.95,16.04,16.13,16.22,16.31,16.4,16.49,16.58,16.67,16.76,16.85,16.94,17.03,17.12,17.21,17.3,17.39,17.48,17.57,17.66,17.75,17.84,17.93,18.02,18.11,18.2,18.29,18.38,18.47,18.56,18.65,18.74,18.83,18.92,19.01,19.1,19.19,19.28,19.37,19.46,19.55,19.64,19.73,19.82,19.91,20.0],\"xaxis\":\"x\",\"y\":[-2.2401607036590576,-2.3249568939208984,-2.4717299938201904,-2.751255512237549,-3.0383810997009277,-3.4448306560516357,-3.570340156555176,-3.7049102783203125,-4.166584491729736,-4.039304733276367,-4.358913421630859,-4.753920555114746,-4.38975715637207,-3.971196413040161,-3.828315496444702,-5.458497524261475,-7.473432540893555,-9.997907638549805,-9.284940719604492,-8.981673240661621,-7.120713233947754,-4.43916130065918,-13.729718208312988,-12.745819091796875,-17.425195693969727,-25.789182662963867,-27.751020431518555,-20.566246032714844,-17.87598991394043,-15.654916763305664,-13.947307586669922,-15.555152893066406,-16.081836700439453,-18.804195404052734,-13.720088958740234,-13.666646957397461,-13.535637855529785,-13.940454483032227,-13.837881088256836,-14.27237319946289,-14.155216217041016,-14.969944953918457,-16.744827270507812,-19.45076560974121,-17.588775634765625,-17.559247970581055,-18.304615020751953,-20.161802291870117,-20.582923889160156,-20.571523666381836,-21.813575744628906,-25.12286376953125,-24.790008544921875,-25.571266174316406,-23.477458953857422,-25.254350662231445,-22.534656524658203,-20.4467830657959,-16.114452362060547,-14.503328323364258,-13.902443885803223,-14.40124797821045,-14.916086196899414,-16.122539520263672,-14.635711669921875,-10.2471342086792,-9.908454895019531,-8.92393684387207,-8.459783554077148,-9.631092071533203,-6.835806369781494,-6.6464924812316895,-6.612383842468262,-7.565953254699707,-10.047416687011719,-8.328370094299316,-8.070229530334473,-4.12360143661499,1.2859675884246826,-6.516745567321777,-16.14651107788086,-10.65187931060791,-6.0060625076293945,-6.470703601837158,-6.657740592956543,-8.191781997680664,-13.18067741394043,-14.196674346923828,-5.783650875091553,-1.776912808418274,-5.2485246658325195,-11.603793144226074,-6.154979228973389,-3.5834801197052,-7.941150665283203,-5.753416061401367,-5.196983814239502,-6.0095930099487305,-9.207772254943848,-15.088432312011719,-6.532576560974121],\"yaxis\":\"y\",\"type\":\"scatter\"},{\"hovertemplate\":\"Geometry Name=163437\\u003cbr\\u003eFreq [GHz]=%{x}\\u003cbr\\u003eprediction=%{y}\\u003cextra\\u003e\\u003c\\u002fextra\\u003e\",\"legendgroup\":\"163437\",\"line\":{\"color\":\"#EF553B\",\"dash\":\"solid\"},\"marker\":{\"symbol\":\"circle\"},\"mode\":\"lines\",\"name\":\"163437\",\"orientation\":\"v\",\"showlegend\":true,\"x\":[11.0,11.09,11.18,11.27,11.36,11.45,11.54,11.63,11.72,11.81,11.9,11.99,12.08,12.17,12.26,12.35,12.44,12.53,12.62,12.71,12.8,12.89,12.98,13.07,13.16,13.25,13.34,13.43,13.52,13.61,13.7,13.79,13.88,13.97,14.06,14.15,14.24,14.33,14.42,14.51,14.6,14.69,14.78,14.87,14.96,15.05,15.14,15.23,15.32,15.41,15.5,15.59,15.68,15.77,15.86,15.95,16.04,16.13,16.22,16.31,16.4,16.49,16.58,16.67,16.76,16.85,16.94,17.03,17.12,17.21,17.3,17.39,17.48,17.57,17.66,17.75,17.84,17.93,18.02,18.11,18.2,18.29,18.38,18.47,18.56,18.65,18.74,18.83,18.92,19.01,19.1,19.19,19.28,19.37,19.46,19.55,19.64,19.73,19.82,19.91,20.0],\"xaxis\":\"x\",\"y\":[-1.5394830703735352,-1.5763394832611084,-1.7139192819595337,-1.7911015748977661,-2.071105480194092,-2.5501692295074463,-2.706102132797241,-2.91441011428833,-2.9657375812530518,-3.592118263244629,-3.5993540287017822,-4.202332973480225,-3.6902236938476562,-3.7471683025360107,-3.9544286727905273,-7.785617351531982,-9.510504722595215,-9.874353408813477,-13.061883926391602,-11.84043025970459,-9.156540870666504,-2.9666872024536133,-9.559566497802734,-11.275249481201172,-12.311326026916504,-22.6992130279541,-20.36966896057129,-17.997438430786133,-16.98283576965332,-15.310441017150879,-13.083508491516113,-16.58342170715332,-18.090618133544922,-20.791786193847656,-14.106406211853027,-13.311079025268555,-13.294965744018555,-13.880498886108398,-13.92800235748291,-14.54376220703125,-14.739971160888672,-15.228751182556152,-17.11368179321289,-21.653718948364258,-16.53765106201172,-17.348325729370117,-18.56327247619629,-19.199806213378906,-20.32086753845215,-21.30224609375,-21.634981155395508,-22.378236770629883,-24.76352882385254,-30.386024475097656,-34.406002044677734,-26.428205490112305,-20.975250244140625,-21.482864379882812,-26.742961883544922,-22.0676326751709,-22.842679977416992,-21.843814849853516,-21.41082763671875,-17.900955200195312,-17.822126388549805,-15.118406295776367,-12.457114219665527,-18.141008377075195,-14.865301132202148,-10.859960556030273,-7.463701248168945,-8.60702133178711,-7.413600921630859,-7.250030994415283,-7.689301490783691,-8.37800407409668,-8.674771308898926,-10.67839527130127,-20.211307525634766,-14.090144157409668,-18.11163902282715,-20.329837799072266,-11.013754844665527,-8.293722152709961,-7.05377197265625,-5.590039253234863,-5.7251057624816895,-4.878021717071533,-7.145346641540527,-12.77071475982666,-20.20305824279785,-13.945342063903809,-21.682706832885742,-11.504239082336426,-5.045605659484863,-5.799375534057617,-4.461618423461914,-4.474587917327881,-3.842625379562378,-4.101129055023193,-4.291620254516602],\"yaxis\":\"y\",\"type\":\"scatter\"},{\"hovertemplate\":\"Geometry Name=189682\\u003cbr\\u003eFreq [GHz]=%{x}\\u003cbr\\u003eprediction=%{y}\\u003cextra\\u003e\\u003c\\u002fextra\\u003e\",\"legendgroup\":\"189682\",\"line\":{\"color\":\"#00cc96\",\"dash\":\"solid\"},\"marker\":{\"symbol\":\"circle\"},\"mode\":\"lines\",\"name\":\"189682\",\"orientation\":\"v\",\"showlegend\":true,\"x\":[11.0,11.09,11.18,11.27,11.36,11.45,11.54,11.63,11.72,11.81,11.9,11.99,12.08,12.17,12.26,12.35,12.44,12.53,12.62,12.71,12.8,12.89,12.98,13.07,13.16,13.25,13.34,13.43,13.52,13.61,13.7,13.79,13.88,13.97,14.06,14.15,14.24,14.33,14.42,14.51,14.6,14.69,14.78,14.87,14.96,15.05,15.14,15.23,15.32,15.41,15.5,15.59,15.68,15.77,15.86,15.95,16.04,16.13,16.22,16.31,16.4,16.49,16.58,16.67,16.76,16.85,16.94,17.03,17.12,17.21,17.3,17.39,17.48,17.57,17.66,17.75,17.84,17.93,18.02,18.11,18.2,18.29,18.38,18.47,18.56,18.65,18.74,18.83,18.92,19.01,19.1,19.19,19.28,19.37,19.46,19.55,19.64,19.73,19.82,19.91,20.0],\"xaxis\":\"x\",\"y\":[-1.851536750793457,-1.9173275232315063,-2.1172683238983154,-2.253934860229492,-2.5624570846557617,-2.818049430847168,-3.081357717514038,-3.2779760360717773,-3.8044090270996094,-3.680833339691162,-3.8159019947052,-4.208776473999023,-3.389174699783325,-4.129946708679199,-5.581335544586182,-8.041098594665527,-8.558112144470215,-10.349259376525879,-13.43869400024414,-14.98768424987793,-12.406075477600098,-9.41524887084961,-11.401954650878906,-11.361146926879883,-13.932828903198242,-25.055679321289062,-22.557640075683594,-20.311561584472656,-18.894731521606445,-17.3232421875,-15.605057716369629,-17.107757568359375,-16.746007919311523,-21.761322021484375,-15.387381553649902,-14.562202453613281,-14.2163667678833,-14.648358345031738,-14.691568374633789,-15.038432121276855,-15.460719108581543,-16.024757385253906,-17.76028060913086,-21.163957595825195,-15.65590763092041,-16.337459564208984,-17.052034378051758,-18.02809715270996,-18.79100227355957,-19.63323974609375,-20.119609832763672,-20.09255599975586,-21.786006927490234,-27.00634765625,-31.87174415588379,-23.228126525878906,-18.518596649169922,-19.10658836364746,-17.800321578979492,-17.043304443359375,-17.593868255615234,-19.343080520629883,-19.516010284423828,-17.275651931762695,-14.755000114440918,-11.589555740356445,-10.847319602966309,-16.19903564453125,-12.382545471191406,-9.52553653717041,-7.592510223388672,-8.11132526397705,-7.385505199432373,-7.179610252380371,-9.257222175598145,-11.30335807800293,-17.79725456237793,-10.104090690612793,-8.097603797912598,-4.575319290161133,-14.292596817016602,-17.454973220825195,-10.1934232711792,-7.129552364349365,-6.32765531539917,-5.875315189361572,-8.957745552062988,-9.02840518951416,-3.832784652709961,-6.1679205894470215,-7.271818161010742,-8.42959976196289,-12.444315910339355,-10.597344398498535,-6.109786510467529,-4.791150093078613,-4.0939459800720215,-3.8417327404022217,-4.311263561248779,-6.92164945602417,-11.351725578308105],\"yaxis\":\"y\",\"type\":\"scatter\"},{\"hovertemplate\":\"Geometry Name=189697\\u003cbr\\u003eFreq [GHz]=%{x}\\u003cbr\\u003eprediction=%{y}\\u003cextra\\u003e\\u003c\\u002fextra\\u003e\",\"legendgroup\":\"189697\",\"line\":{\"color\":\"#ab63fa\",\"dash\":\"solid\"},\"marker\":{\"symbol\":\"circle\"},\"mode\":\"lines\",\"name\":\"189697\",\"orientation\":\"v\",\"showlegend\":true,\"x\":[11.0,11.09,11.18,11.27,11.36,11.45,11.54,11.63,11.72,11.81,11.9,11.99,12.08,12.17,12.26,12.35,12.44,12.53,12.62,12.71,12.8,12.89,12.98,13.07,13.16,13.25,13.34,13.43,13.52,13.61,13.7,13.79,13.88,13.97,14.06,14.15,14.24,14.33,14.42,14.51,14.6,14.69,14.78,14.87,14.96,15.05,15.14,15.23,15.32,15.41,15.5,15.59,15.68,15.77,15.86,15.95,16.04,16.13,16.22,16.31,16.4,16.49,16.58,16.67,16.76,16.85,16.94,17.03,17.12,17.21,17.3,17.39,17.48,17.57,17.66,17.75,17.84,17.93,18.02,18.11,18.2,18.29,18.38,18.47,18.56,18.65,18.74,18.83,18.92,19.01,19.1,19.19,19.28,19.37,19.46,19.55,19.64,19.73,19.82,19.91,20.0],\"xaxis\":\"x\",\"y\":[-2.1032421588897705,-2.2343838214874268,-2.4295308589935303,-2.717268705368042,-3.014812707901001,-3.3647801876068115,-3.6436824798583984,-3.8141696453094482,-4.3592376708984375,-4.518338203430176,-5.182980060577393,-5.610086441040039,-5.52200984954834,-5.875768661499023,-6.271928787231445,-7.965953826904297,-9.104459762573242,-11.56396484375,-11.629345893859863,-12.46805191040039,-11.772438049316406,-10.31721019744873,-12.879880905151367,-13.111994743347168,-17.5421199798584,-26.723127365112305,-29.281816482543945,-22.300556182861328,-19.295063018798828,-17.432466506958008,-16.049171447753906,-17.793346405029297,-17.935949325561523,-20.85835075378418,-15.53609561920166,-15.404881477355957,-15.221983909606934,-15.755372047424316,-15.985978126525879,-16.326339721679688,-16.410083770751953,-16.617431640625,-18.220613479614258,-20.821815490722656,-18.75696563720703,-18.789649963378906,-19.59990692138672,-21.64848518371582,-22.100351333618164,-22.3962459564209,-23.9256649017334,-26.857929229736328,-26.807239532470703,-27.431272506713867,-24.861679077148438,-26.691722869873047,-24.07610321044922,-21.849075317382812,-17.18035888671875,-16.05961799621582,-16.178997039794922,-17.92842674255371,-18.118499755859375,-15.767656326293945,-13.829581260681152,-11.217135429382324,-10.548308372497559,-9.892924308776855,-11.055916786193848,-9.391203880310059,-6.926213264465332,-7.5589494705200195,-7.2766594886779785,-7.121553897857666,-9.385372161865234,-11.166414260864258,-17.7495174407959,-10.938751220703125,-9.806390762329102,-8.03271484375,-18.618928909301758,-10.647089004516602,-7.224155426025391,-5.896145820617676,-5.632386207580566,-5.52008581161499,-8.615724563598633,-9.308998107910156,-3.8567545413970947,-6.447946071624756,-7.49947452545166,-14.65920639038086,-7.852951526641846,-2.8502542972564697,-7.487164497375488,-4.989719390869141,-4.05537223815918,-3.901907444000244,-4.454983234405518,-7.006013870239258,-11.455483436584473],\"yaxis\":\"y\",\"type\":\"scatter\"},{\"hovertemplate\":\"Geometry Name=378524\\u003cbr\\u003eFreq [GHz]=%{x}\\u003cbr\\u003eprediction=%{y}\\u003cextra\\u003e\\u003c\\u002fextra\\u003e\",\"legendgroup\":\"378524\",\"line\":{\"color\":\"#FFA15A\",\"dash\":\"solid\"},\"marker\":{\"symbol\":\"circle\"},\"mode\":\"lines\",\"name\":\"378524\",\"orientation\":\"v\",\"showlegend\":true,\"x\":[11.0,11.09,11.18,11.27,11.36,11.45,11.54,11.63,11.72,11.81,11.9,11.99,12.08,12.17,12.26,12.35,12.44,12.53,12.62,12.71,12.8,12.89,12.98,13.07,13.16,13.25,13.34,13.43,13.52,13.61,13.7,13.79,13.88,13.97,14.06,14.15,14.24,14.33,14.42,14.51,14.6,14.69,14.78,14.87,14.96,15.05,15.14,15.23,15.32,15.41,15.5,15.59,15.68,15.77,15.86,15.95,16.04,16.13,16.22,16.31,16.4,16.49,16.58,16.67,16.76,16.85,16.94,17.03,17.12,17.21,17.3,17.39,17.48,17.57,17.66,17.75,17.84,17.93,18.02,18.11,18.2,18.29,18.38,18.47,18.56,18.65,18.74,18.83,18.92,19.01,19.1,19.19,19.28,19.37,19.46,19.55,19.64,19.73,19.82,19.91,20.0],\"xaxis\":\"x\",\"y\":[-3.8696422576904297,-4.759842872619629,-5.502529621124268,-6.787822723388672,-8.467677116394043,-9.488696098327637,-10.979057312011719,-16.99079704284668,-16.851131439208984,-7.89611291885376,-6.477586269378662,-5.362757205963135,-5.947308540344238,-8.543596267700195,-8.216509819030762,-10.511310577392578,-13.287237167358398,-20.23882293701172,-26.678321838378906,-17.936128616333008,-12.805309295654297,-10.581515312194824,-12.391386032104492,-12.748143196105957,-17.061120986938477,-26.701303482055664,-29.080839157104492,-22.561248779296875,-19.623271942138672,-17.678815841674805,-16.875520706176758,-17.800979614257812,-17.801530838012695,-21.216493606567383,-16.030086517333984,-15.507701873779297,-15.803987503051758,-16.29587173461914,-16.885297775268555,-17.431528091430664,-17.61919403076172,-17.88747787475586,-20.015573501586914,-19.465538024902344,-17.218961715698242,-17.642963409423828,-19.570636749267578,-21.3439884185791,-21.764545440673828,-21.374948501586914,-22.715219497680664,-26.69522476196289,-27.020151138305664,-29.96409034729004,-28.559955596923828,-25.5488224029541,-26.752965927124023,-29.255672454833984,-19.909244537353516,-13.2838716506958,-10.155826568603516,-8.996777534484863,-7.947448253631592,-7.865476131439209,-8.842384338378906,-10.575177192687988,-14.153663635253906,-8.577821731567383,-11.153643608093262,-9.191819190979004,-7.074113845825195,-7.215482711791992,-6.630724906921387,-5.538652420043945,-5.636508941650391,-6.9022321701049805,-8.63218879699707,-14.739835739135742,-7.03251838684082,-9.074883460998535,-18.436203002929688,-9.28679370880127,-4.613135814666748,-3.6399524211883545,-2.5689382553100586,-2.5850799083709717,-3.3681862354278564,-5.560792446136475,-7.581787109375,-12.340102195739746,-8.00114917755127,-13.68259334564209,-7.096214771270752,-1.208312749862671,-5.049953460693359,-2.7724955081939697,-1.9028172492980957,-2.8186490535736084,-3.0625669956207275,-5.579427242279053,-8.800756454467773],\"yaxis\":\"y\",\"type\":\"scatter\"},{\"hovertemplate\":\"Geometry Name=509749\\u003cbr\\u003eFreq [GHz]=%{x}\\u003cbr\\u003eprediction=%{y}\\u003cextra\\u003e\\u003c\\u002fextra\\u003e\",\"legendgroup\":\"509749\",\"line\":{\"color\":\"#19d3f3\",\"dash\":\"solid\"},\"marker\":{\"symbol\":\"circle\"},\"mode\":\"lines\",\"name\":\"509749\",\"orientation\":\"v\",\"showlegend\":true,\"x\":[11.0,11.09,11.18,11.27,11.36,11.45,11.54,11.63,11.72,11.81,11.9,11.99,12.08,12.17,12.26,12.35,12.44,12.53,12.62,12.71,12.8,12.89,12.98,13.07,13.16,13.25,13.34,13.43,13.52,13.61,13.7,13.79,13.88,13.97,14.06,14.15,14.24,14.33,14.42,14.51,14.6,14.69,14.78,14.87,14.96,15.05,15.14,15.23,15.32,15.41,15.5,15.59,15.68,15.77,15.86,15.95,16.04,16.13,16.22,16.31,16.4,16.49,16.58,16.67,16.76,16.85,16.94,17.03,17.12,17.21,17.3,17.39,17.48,17.57,17.66,17.75,17.84,17.93,18.02,18.11,18.2,18.29,18.38,18.47,18.56,18.65,18.74,18.83,18.92,19.01,19.1,19.19,19.28,19.37,19.46,19.55,19.64,19.73,19.82,19.91,20.0],\"xaxis\":\"x\",\"y\":[-4.657627582550049,-5.550185203552246,-6.910737037658691,-8.266622543334961,-12.578962326049805,-12.319868087768555,-14.145151138305664,-15.043028831481934,-11.186722755432129,-6.591460227966309,-6.919895172119141,-7.351940631866455,-13.786008834838867,-35.95270538330078,-8.768651008605957,-10.087271690368652,-16.259445190429688,-20.73476791381836,-16.17353057861328,-11.895381927490234,-10.64954948425293,-9.137660026550293,-10.597456932067871,-12.29183292388916,-15.855815887451172,-25.545583724975586,-28.378877639770508,-22.063459396362305,-19.494935989379883,-17.919519424438477,-17.52169418334961,-19.347064971923828,-17.906688690185547,-20.617321014404297,-15.91724681854248,-16.087265014648438,-16.998634338378906,-18.252656936645508,-19.880033493041992,-21.442237854003906,-22.36147689819336,-23.78468132019043,-20.522035598754883,-19.59775733947754,-19.614389419555664,-20.88947296142578,-24.012510299682617,-27.438249588012695,-29.88667869567871,-38.42186737060547,-35.947410583496094,-38.81332015991211,-32.644798278808594,-31.18808937072754,-24.76124382019043,-28.312210083007812,-29.204952239990234,-31.788780212402344,-39.49139404296875,-22.166507720947266,-16.429067611694336,-14.423796653747559,-9.517584800720215,-8.546063423156738,-8.006536483764648,-8.894789695739746,-14.566043853759766,-5.61402702331543,-5.618411540985107,-5.48496675491333,-7.86404275894165,-9.284452438354492,-7.1997880935668945,-5.685422897338867,-6.24449348449707,-8.896075248718262,-6.10836124420166,-10.437925338745117,-15.38304615020752,-12.43786334991455,-21.510066986083984,-9.892324447631836,-4.9803314208984375,-4.04595422744751,-3.3133654594421387,-2.429391622543335,-2.1557769775390625,-2.5934386253356934,-3.5627379417419434,-8.124451637268066,-15.027399063110352,-17.59213638305664,-9.016772270202637,-2.021953821182251,-5.0643839836120605,-2.8341314792633057,-2.835726499557495,-2.6666419506073,-2.5322511196136475,-3.617659568786621,-7.046591758728027],\"yaxis\":\"y\",\"type\":\"scatter\"}],                        {\"template\":{\"data\":{\"histogram2dcontour\":[{\"type\":\"histogram2dcontour\",\"colorbar\":{\"outlinewidth\":0,\"ticks\":\"\"},\"colorscale\":[[0.0,\"#0d0887\"],[0.1111111111111111,\"#46039f\"],[0.2222222222222222,\"#7201a8\"],[0.3333333333333333,\"#9c179e\"],[0.4444444444444444,\"#bd3786\"],[0.5555555555555556,\"#d8576b\"],[0.6666666666666666,\"#ed7953\"],[0.7777777777777778,\"#fb9f3a\"],[0.8888888888888888,\"#fdca26\"],[1.0,\"#f0f921\"]]}],\"choropleth\":[{\"type\":\"choropleth\",\"colorbar\":{\"outlinewidth\":0,\"ticks\":\"\"}}],\"histogram2d\":[{\"type\":\"histogram2d\",\"colorbar\":{\"outlinewidth\":0,\"ticks\":\"\"},\"colorscale\":[[0.0,\"#0d0887\"],[0.1111111111111111,\"#46039f\"],[0.2222222222222222,\"#7201a8\"],[0.3333333333333333,\"#9c179e\"],[0.4444444444444444,\"#bd3786\"],[0.5555555555555556,\"#d8576b\"],[0.6666666666666666,\"#ed7953\"],[0.7777777777777778,\"#fb9f3a\"],[0.8888888888888888,\"#fdca26\"],[1.0,\"#f0f921\"]]}],\"heatmap\":[{\"type\":\"heatmap\",\"colorbar\":{\"outlinewidth\":0,\"ticks\":\"\"},\"colorscale\":[[0.0,\"#0d0887\"],[0.1111111111111111,\"#46039f\"],[0.2222222222222222,\"#7201a8\"],[0.3333333333333333,\"#9c179e\"],[0.4444444444444444,\"#bd3786\"],[0.5555555555555556,\"#d8576b\"],[0.6666666666666666,\"#ed7953\"],[0.7777777777777778,\"#fb9f3a\"],[0.8888888888888888,\"#fdca26\"],[1.0,\"#f0f921\"]]}],\"heatmapgl\":[{\"type\":\"heatmapgl\",\"colorbar\":{\"outlinewidth\":0,\"ticks\":\"\"},\"colorscale\":[[0.0,\"#0d0887\"],[0.1111111111111111,\"#46039f\"],[0.2222222222222222,\"#7201a8\"],[0.3333333333333333,\"#9c179e\"],[0.4444444444444444,\"#bd3786\"],[0.5555555555555556,\"#d8576b\"],[0.6666666666666666,\"#ed7953\"],[0.7777777777777778,\"#fb9f3a\"],[0.8888888888888888,\"#fdca26\"],[1.0,\"#f0f921\"]]}],\"contourcarpet\":[{\"type\":\"contourcarpet\",\"colorbar\":{\"outlinewidth\":0,\"ticks\":\"\"}}],\"contour\":[{\"type\":\"contour\",\"colorbar\":{\"outlinewidth\":0,\"ticks\":\"\"},\"colorscale\":[[0.0,\"#0d0887\"],[0.1111111111111111,\"#46039f\"],[0.2222222222222222,\"#7201a8\"],[0.3333333333333333,\"#9c179e\"],[0.4444444444444444,\"#bd3786\"],[0.5555555555555556,\"#d8576b\"],[0.6666666666666666,\"#ed7953\"],[0.7777777777777778,\"#fb9f3a\"],[0.8888888888888888,\"#fdca26\"],[1.0,\"#f0f921\"]]}],\"surface\":[{\"type\":\"surface\",\"colorbar\":{\"outlinewidth\":0,\"ticks\":\"\"},\"colorscale\":[[0.0,\"#0d0887\"],[0.1111111111111111,\"#46039f\"],[0.2222222222222222,\"#7201a8\"],[0.3333333333333333,\"#9c179e\"],[0.4444444444444444,\"#bd3786\"],[0.5555555555555556,\"#d8576b\"],[0.6666666666666666,\"#ed7953\"],[0.7777777777777778,\"#fb9f3a\"],[0.8888888888888888,\"#fdca26\"],[1.0,\"#f0f921\"]]}],\"mesh3d\":[{\"type\":\"mesh3d\",\"colorbar\":{\"outlinewidth\":0,\"ticks\":\"\"}}],\"scatter\":[{\"fillpattern\":{\"fillmode\":\"overlay\",\"size\":10,\"solidity\":0.2},\"type\":\"scatter\"}],\"parcoords\":[{\"type\":\"parcoords\",\"line\":{\"colorbar\":{\"outlinewidth\":0,\"ticks\":\"\"}}}],\"scatterpolargl\":[{\"type\":\"scatterpolargl\",\"marker\":{\"colorbar\":{\"outlinewidth\":0,\"ticks\":\"\"}}}],\"bar\":[{\"error_x\":{\"color\":\"#2a3f5f\"},\"error_y\":{\"color\":\"#2a3f5f\"},\"marker\":{\"line\":{\"color\":\"#E5ECF6\",\"width\":0.5},\"pattern\":{\"fillmode\":\"overlay\",\"size\":10,\"solidity\":0.2}},\"type\":\"bar\"}],\"scattergeo\":[{\"type\":\"scattergeo\",\"marker\":{\"colorbar\":{\"outlinewidth\":0,\"ticks\":\"\"}}}],\"scatterpolar\":[{\"type\":\"scatterpolar\",\"marker\":{\"colorbar\":{\"outlinewidth\":0,\"ticks\":\"\"}}}],\"histogram\":[{\"marker\":{\"pattern\":{\"fillmode\":\"overlay\",\"size\":10,\"solidity\":0.2}},\"type\":\"histogram\"}],\"scattergl\":[{\"type\":\"scattergl\",\"marker\":{\"colorbar\":{\"outlinewidth\":0,\"ticks\":\"\"}}}],\"scatter3d\":[{\"type\":\"scatter3d\",\"line\":{\"colorbar\":{\"outlinewidth\":0,\"ticks\":\"\"}},\"marker\":{\"colorbar\":{\"outlinewidth\":0,\"ticks\":\"\"}}}],\"scattermapbox\":[{\"type\":\"scattermapbox\",\"marker\":{\"colorbar\":{\"outlinewidth\":0,\"ticks\":\"\"}}}],\"scatterternary\":[{\"type\":\"scatterternary\",\"marker\":{\"colorbar\":{\"outlinewidth\":0,\"ticks\":\"\"}}}],\"scattercarpet\":[{\"type\":\"scattercarpet\",\"marker\":{\"colorbar\":{\"outlinewidth\":0,\"ticks\":\"\"}}}],\"carpet\":[{\"aaxis\":{\"endlinecolor\":\"#2a3f5f\",\"gridcolor\":\"white\",\"linecolor\":\"white\",\"minorgridcolor\":\"white\",\"startlinecolor\":\"#2a3f5f\"},\"baxis\":{\"endlinecolor\":\"#2a3f5f\",\"gridcolor\":\"white\",\"linecolor\":\"white\",\"minorgridcolor\":\"white\",\"startlinecolor\":\"#2a3f5f\"},\"type\":\"carpet\"}],\"table\":[{\"cells\":{\"fill\":{\"color\":\"#EBF0F8\"},\"line\":{\"color\":\"white\"}},\"header\":{\"fill\":{\"color\":\"#C8D4E3\"},\"line\":{\"color\":\"white\"}},\"type\":\"table\"}],\"barpolar\":[{\"marker\":{\"line\":{\"color\":\"#E5ECF6\",\"width\":0.5},\"pattern\":{\"fillmode\":\"overlay\",\"size\":10,\"solidity\":0.2}},\"type\":\"barpolar\"}],\"pie\":[{\"automargin\":true,\"type\":\"pie\"}]},\"layout\":{\"autotypenumbers\":\"strict\",\"colorway\":[\"#636efa\",\"#EF553B\",\"#00cc96\",\"#ab63fa\",\"#FFA15A\",\"#19d3f3\",\"#FF6692\",\"#B6E880\",\"#FF97FF\",\"#FECB52\"],\"font\":{\"color\":\"#2a3f5f\"},\"hovermode\":\"closest\",\"hoverlabel\":{\"align\":\"left\"},\"paper_bgcolor\":\"white\",\"plot_bgcolor\":\"#E5ECF6\",\"polar\":{\"bgcolor\":\"#E5ECF6\",\"angularaxis\":{\"gridcolor\":\"white\",\"linecolor\":\"white\",\"ticks\":\"\"},\"radialaxis\":{\"gridcolor\":\"white\",\"linecolor\":\"white\",\"ticks\":\"\"}},\"ternary\":{\"bgcolor\":\"#E5ECF6\",\"aaxis\":{\"gridcolor\":\"white\",\"linecolor\":\"white\",\"ticks\":\"\"},\"baxis\":{\"gridcolor\":\"white\",\"linecolor\":\"white\",\"ticks\":\"\"},\"caxis\":{\"gridcolor\":\"white\",\"linecolor\":\"white\",\"ticks\":\"\"}},\"coloraxis\":{\"colorbar\":{\"outlinewidth\":0,\"ticks\":\"\"}},\"colorscale\":{\"sequential\":[[0.0,\"#0d0887\"],[0.1111111111111111,\"#46039f\"],[0.2222222222222222,\"#7201a8\"],[0.3333333333333333,\"#9c179e\"],[0.4444444444444444,\"#bd3786\"],[0.5555555555555556,\"#d8576b\"],[0.6666666666666666,\"#ed7953\"],[0.7777777777777778,\"#fb9f3a\"],[0.8888888888888888,\"#fdca26\"],[1.0,\"#f0f921\"]],\"sequentialminus\":[[0.0,\"#0d0887\"],[0.1111111111111111,\"#46039f\"],[0.2222222222222222,\"#7201a8\"],[0.3333333333333333,\"#9c179e\"],[0.4444444444444444,\"#bd3786\"],[0.5555555555555556,\"#d8576b\"],[0.6666666666666666,\"#ed7953\"],[0.7777777777777778,\"#fb9f3a\"],[0.8888888888888888,\"#fdca26\"],[1.0,\"#f0f921\"]],\"diverging\":[[0,\"#8e0152\"],[0.1,\"#c51b7d\"],[0.2,\"#de77ae\"],[0.3,\"#f1b6da\"],[0.4,\"#fde0ef\"],[0.5,\"#f7f7f7\"],[0.6,\"#e6f5d0\"],[0.7,\"#b8e186\"],[0.8,\"#7fbc41\"],[0.9,\"#4d9221\"],[1,\"#276419\"]]},\"xaxis\":{\"gridcolor\":\"white\",\"linecolor\":\"white\",\"ticks\":\"\",\"title\":{\"standoff\":15},\"zerolinecolor\":\"white\",\"automargin\":true,\"zerolinewidth\":2},\"yaxis\":{\"gridcolor\":\"white\",\"linecolor\":\"white\",\"ticks\":\"\",\"title\":{\"standoff\":15},\"zerolinecolor\":\"white\",\"automargin\":true,\"zerolinewidth\":2},\"scene\":{\"xaxis\":{\"backgroundcolor\":\"#E5ECF6\",\"gridcolor\":\"white\",\"linecolor\":\"white\",\"showbackground\":true,\"ticks\":\"\",\"zerolinecolor\":\"white\",\"gridwidth\":2},\"yaxis\":{\"backgroundcolor\":\"#E5ECF6\",\"gridcolor\":\"white\",\"linecolor\":\"white\",\"showbackground\":true,\"ticks\":\"\",\"zerolinecolor\":\"white\",\"gridwidth\":2},\"zaxis\":{\"backgroundcolor\":\"#E5ECF6\",\"gridcolor\":\"white\",\"linecolor\":\"white\",\"showbackground\":true,\"ticks\":\"\",\"zerolinecolor\":\"white\",\"gridwidth\":2}},\"shapedefaults\":{\"line\":{\"color\":\"#2a3f5f\"}},\"annotationdefaults\":{\"arrowcolor\":\"#2a3f5f\",\"arrowhead\":0,\"arrowwidth\":1},\"geo\":{\"bgcolor\":\"white\",\"landcolor\":\"#E5ECF6\",\"subunitcolor\":\"white\",\"showland\":true,\"showlakes\":true,\"lakecolor\":\"white\"},\"title\":{\"x\":0.05},\"mapbox\":{\"style\":\"light\"}}},\"xaxis\":{\"anchor\":\"y\",\"domain\":[0.0,1.0],\"title\":{\"text\":\"Freq [GHz]\"}},\"yaxis\":{\"anchor\":\"x\",\"domain\":[0.0,1.0],\"title\":{\"text\":\"prediction\"}},\"legend\":{\"title\":{\"text\":\"Geometry Name\"},\"tracegroupgap\":0},\"title\":{\"text\":\"Performance vs Frequency for Geometries\"},\"shapes\":[{\"line\":{\"color\":\"blue\",\"dash\":\"dash\"},\"type\":\"line\",\"x0\":0,\"x1\":1,\"xref\":\"x domain\",\"y0\":-15.0,\"y1\":-15.0,\"yref\":\"y\"},{\"line\":{\"color\":\"green\",\"dash\":\"dash\"},\"type\":\"line\",\"x0\":13.76,\"x1\":13.76,\"xref\":\"x\",\"y0\":0,\"y1\":1,\"yref\":\"y domain\"},{\"line\":{\"color\":\"green\",\"dash\":\"dash\"},\"type\":\"line\",\"x0\":13.98,\"x1\":13.98,\"xref\":\"x\",\"y0\":0,\"y1\":1,\"yref\":\"y domain\"}]},                        {\"responsive\": true}                    ).then(function(){\n",
       "                            \n",
       "var gd = document.getElementById('a9e97760-e921-4117-b9cc-a9425bdee76c');\n",
       "var x = new MutationObserver(function (mutations, observer) {{\n",
       "        var display = window.getComputedStyle(gd).display;\n",
       "        if (!display || display === 'none') {{\n",
       "            console.log([gd, 'removed!']);\n",
       "            Plotly.purge(gd);\n",
       "            observer.disconnect();\n",
       "        }}\n",
       "}});\n",
       "\n",
       "// Listen for the removal of the full notebook cells\n",
       "var notebookContainer = gd.closest('#notebook-container');\n",
       "if (notebookContainer) {{\n",
       "    x.observe(notebookContainer, {childList: true});\n",
       "}}\n",
       "\n",
       "// Listen for the clearing of the current output cell\n",
       "var outputEl = gd.closest('.output');\n",
       "if (outputEl) {{\n",
       "    x.observe(outputEl, {childList: true});\n",
       "}}\n",
       "\n",
       "                        })                };                });            </script>        </div>"
      ]
     },
     "metadata": {},
     "output_type": "display_data"
    },
    {
     "name": "stdout",
     "output_type": "stream",
     "text": [
      "PRINT SHAP\n"
     ]
    },
    {
     "ename": "ValueError",
     "evalue": "This reshape error is often caused by passing a bad data matrix to SHAP. See https://github.com/shap/shap/issues/580.",
     "output_type": "error",
     "traceback": [
      "\u001b[0;31m---------------------------------------------------------------------------\u001b[0m",
      "\u001b[0;31mXGBoostError\u001b[0m                              Traceback (most recent call last)",
      "File \u001b[0;32m/opt/miniconda3/envs/tylers_env_do_not_touch/lib/python3.9/site-packages/shap/explainers/_tree.py:405\u001b[0m, in \u001b[0;36mTreeExplainer.shap_values\u001b[0;34m(self, X, y, tree_limit, approximate, check_additivity, from_call)\u001b[0m\n\u001b[1;32m    404\u001b[0m \u001b[38;5;28;01mtry\u001b[39;00m:\n\u001b[0;32m--> 405\u001b[0m     phi \u001b[38;5;241m=\u001b[39m \u001b[38;5;28;43mself\u001b[39;49m\u001b[38;5;241;43m.\u001b[39;49m\u001b[43mmodel\u001b[49m\u001b[38;5;241;43m.\u001b[39;49m\u001b[43moriginal_model\u001b[49m\u001b[38;5;241;43m.\u001b[39;49m\u001b[43mpredict\u001b[49m\u001b[43m(\u001b[49m\n\u001b[1;32m    406\u001b[0m \u001b[43m        \u001b[49m\u001b[43mX\u001b[49m\u001b[43m,\u001b[49m\u001b[43m \u001b[49m\u001b[43miteration_range\u001b[49m\u001b[38;5;241;43m=\u001b[39;49m\u001b[43m(\u001b[49m\u001b[38;5;241;43m0\u001b[39;49m\u001b[43m,\u001b[49m\u001b[43m \u001b[49m\u001b[43mtree_limit\u001b[49m\u001b[43m)\u001b[49m\u001b[43m,\u001b[49m\u001b[43m \u001b[49m\u001b[43mpred_contribs\u001b[49m\u001b[38;5;241;43m=\u001b[39;49m\u001b[38;5;28;43;01mTrue\u001b[39;49;00m\u001b[43m,\u001b[49m\n\u001b[1;32m    407\u001b[0m \u001b[43m        \u001b[49m\u001b[43mapprox_contribs\u001b[49m\u001b[38;5;241;43m=\u001b[39;49m\u001b[43mapproximate\u001b[49m\u001b[43m,\u001b[49m\u001b[43m \u001b[49m\u001b[43mvalidate_features\u001b[49m\u001b[38;5;241;43m=\u001b[39;49m\u001b[38;5;28;43;01mFalse\u001b[39;49;00m\n\u001b[1;32m    408\u001b[0m \u001b[43m    \u001b[49m\u001b[43m)\u001b[49m\n\u001b[1;32m    409\u001b[0m \u001b[38;5;28;01mexcept\u001b[39;00m \u001b[38;5;167;01mValueError\u001b[39;00m \u001b[38;5;28;01mas\u001b[39;00m e:\n",
      "File \u001b[0;32m/opt/miniconda3/envs/tylers_env_do_not_touch/lib/python3.9/site-packages/xgboost/core.py:2297\u001b[0m, in \u001b[0;36mBooster.predict\u001b[0;34m(self, data, output_margin, pred_leaf, pred_contribs, approx_contribs, pred_interactions, validate_features, training, iteration_range, strict_shape)\u001b[0m\n\u001b[1;32m   2296\u001b[0m dims \u001b[38;5;241m=\u001b[39m c_bst_ulong()\n\u001b[0;32m-> 2297\u001b[0m \u001b[43m_check_call\u001b[49m\u001b[43m(\u001b[49m\n\u001b[1;32m   2298\u001b[0m \u001b[43m    \u001b[49m\u001b[43m_LIB\u001b[49m\u001b[38;5;241;43m.\u001b[39;49m\u001b[43mXGBoosterPredictFromDMatrix\u001b[49m\u001b[43m(\u001b[49m\n\u001b[1;32m   2299\u001b[0m \u001b[43m        \u001b[49m\u001b[38;5;28;43mself\u001b[39;49m\u001b[38;5;241;43m.\u001b[39;49m\u001b[43mhandle\u001b[49m\u001b[43m,\u001b[49m\n\u001b[1;32m   2300\u001b[0m \u001b[43m        \u001b[49m\u001b[43mdata\u001b[49m\u001b[38;5;241;43m.\u001b[39;49m\u001b[43mhandle\u001b[49m\u001b[43m,\u001b[49m\n\u001b[1;32m   2301\u001b[0m \u001b[43m        \u001b[49m\u001b[43mfrom_pystr_to_cstr\u001b[49m\u001b[43m(\u001b[49m\u001b[43mjson\u001b[49m\u001b[38;5;241;43m.\u001b[39;49m\u001b[43mdumps\u001b[49m\u001b[43m(\u001b[49m\u001b[43margs\u001b[49m\u001b[43m)\u001b[49m\u001b[43m)\u001b[49m\u001b[43m,\u001b[49m\n\u001b[1;32m   2302\u001b[0m \u001b[43m        \u001b[49m\u001b[43mctypes\u001b[49m\u001b[38;5;241;43m.\u001b[39;49m\u001b[43mbyref\u001b[49m\u001b[43m(\u001b[49m\u001b[43mshape\u001b[49m\u001b[43m)\u001b[49m\u001b[43m,\u001b[49m\n\u001b[1;32m   2303\u001b[0m \u001b[43m        \u001b[49m\u001b[43mctypes\u001b[49m\u001b[38;5;241;43m.\u001b[39;49m\u001b[43mbyref\u001b[49m\u001b[43m(\u001b[49m\u001b[43mdims\u001b[49m\u001b[43m)\u001b[49m\u001b[43m,\u001b[49m\n\u001b[1;32m   2304\u001b[0m \u001b[43m        \u001b[49m\u001b[43mctypes\u001b[49m\u001b[38;5;241;43m.\u001b[39;49m\u001b[43mbyref\u001b[49m\u001b[43m(\u001b[49m\u001b[43mpreds\u001b[49m\u001b[43m)\u001b[49m\u001b[43m,\u001b[49m\n\u001b[1;32m   2305\u001b[0m \u001b[43m    \u001b[49m\u001b[43m)\u001b[49m\n\u001b[1;32m   2306\u001b[0m \u001b[43m\u001b[49m\u001b[43m)\u001b[49m\n\u001b[1;32m   2307\u001b[0m \u001b[38;5;28;01mreturn\u001b[39;00m _prediction_output(shape, dims, preds, \u001b[38;5;28;01mFalse\u001b[39;00m)\n",
      "File \u001b[0;32m/opt/miniconda3/envs/tylers_env_do_not_touch/lib/python3.9/site-packages/xgboost/core.py:282\u001b[0m, in \u001b[0;36m_check_call\u001b[0;34m(ret)\u001b[0m\n\u001b[1;32m    281\u001b[0m \u001b[38;5;28;01mif\u001b[39;00m ret \u001b[38;5;241m!=\u001b[39m \u001b[38;5;241m0\u001b[39m:\n\u001b[0;32m--> 282\u001b[0m     \u001b[38;5;28;01mraise\u001b[39;00m XGBoostError(py_str(_LIB\u001b[38;5;241m.\u001b[39mXGBGetLastError()))\n",
      "\u001b[0;31mXGBoostError\u001b[0m: [19:55:47] /workspace/src/c_api/../data/../c_api/c_api_utils.h:123: Check failed: std::accumulate(shape.cbegin(), shape.cend(), static_cast<bst_ulong>(1), std::multiplies<>{}) == chunksize * rows (18 vs. 90) : \nStack trace:\n  [bt] (0) /opt/miniconda3/envs/tylers_env_do_not_touch/lib/python3.9/site-packages/xgboost/lib/libxgboost.so(+0x15c2ca) [0x7fc3ccf5c2ca]\n  [bt] (1) /opt/miniconda3/envs/tylers_env_do_not_touch/lib/python3.9/site-packages/xgboost/lib/libxgboost.so(+0x18ca1f) [0x7fc3ccf8ca1f]\n  [bt] (2) /opt/miniconda3/envs/tylers_env_do_not_touch/lib/python3.9/site-packages/xgboost/lib/libxgboost.so(XGBoosterPredictFromDMatrix+0x407) [0x7fc3ccf6d107]\n  [bt] (3) /opt/miniconda3/envs/tylers_env_do_not_touch/lib/python3.9/lib-dynload/../../libffi.so.8(+0xa052) [0x7fc489da6052]\n  [bt] (4) /opt/miniconda3/envs/tylers_env_do_not_touch/lib/python3.9/lib-dynload/../../libffi.so.8(+0x8925) [0x7fc489da4925]\n  [bt] (5) /opt/miniconda3/envs/tylers_env_do_not_touch/lib/python3.9/lib-dynload/../../libffi.so.8(ffi_call+0xde) [0x7fc489da506e]\n  [bt] (6) /opt/miniconda3/envs/tylers_env_do_not_touch/lib/python3.9/lib-dynload/_ctypes.cpython-39-x86_64-linux-gnu.so(+0x91e0) [0x7fc489ae31e0]\n  [bt] (7) /opt/miniconda3/envs/tylers_env_do_not_touch/lib/python3.9/lib-dynload/_ctypes.cpython-39-x86_64-linux-gnu.so(+0x8568) [0x7fc489ae2568]\n  [bt] (8) /opt/miniconda3/envs/tylers_env_do_not_touch/bin/python(_PyObject_MakeTpCall+0x2ec) [0x4f073c]\n\n",
      "\nThe above exception was the direct cause of the following exception:\n",
      "\u001b[0;31mValueError\u001b[0m                                Traceback (most recent call last)",
      "Cell \u001b[0;32mIn[68], line 8\u001b[0m, in \u001b[0;36mon_button_clicked\u001b[0;34m(b)\u001b[0m\n\u001b[1;32m      6\u001b[0m s11_val \u001b[38;5;241m=\u001b[39m s11_input\u001b[38;5;241m.\u001b[39mvalue\n\u001b[1;32m      7\u001b[0m freq_val \u001b[38;5;241m=\u001b[39m freq_input\u001b[38;5;241m.\u001b[39mvalue\n\u001b[0;32m----> 8\u001b[0m \u001b[43mprint_prediction\u001b[49m\u001b[43m(\u001b[49m\u001b[43m)\u001b[49m\n",
      "Cell \u001b[0;32mIn[66], line 27\u001b[0m, in \u001b[0;36mprint_prediction\u001b[0;34m()\u001b[0m\n\u001b[1;32m     25\u001b[0m geos_to_pass \u001b[38;5;241m=\u001b[39m working_geometries\u001b[38;5;241m.\u001b[39mcopy()\n\u001b[1;32m     26\u001b[0m geos_to_pass\u001b[38;5;241m.\u001b[39mdrop(columns\u001b[38;5;241m=\u001b[39m[\u001b[38;5;124m'\u001b[39m\u001b[38;5;124mGeometry Name\u001b[39m\u001b[38;5;124m'\u001b[39m, \u001b[38;5;124m'\u001b[39m\u001b[38;5;124mprediction\u001b[39m\u001b[38;5;124m'\u001b[39m], inplace\u001b[38;5;241m=\u001b[39m\u001b[38;5;28;01mTrue\u001b[39;00m)\n\u001b[0;32m---> 27\u001b[0m \u001b[43mprint_shap\u001b[49m\u001b[43m(\u001b[49m\u001b[43mgeos_to_pass\u001b[49m\u001b[38;5;241;43m.\u001b[39;49m\u001b[43miloc\u001b[49m\u001b[43m[\u001b[49m\u001b[38;5;241;43m0\u001b[39;49m\u001b[43m]\u001b[49m\u001b[43m)\u001b[49m\n",
      "Cell \u001b[0;32mIn[56], line 85\u001b[0m, in \u001b[0;36mprint_shap\u001b[0;34m(dimensions_for_prediction)\u001b[0m\n\u001b[1;32m     83\u001b[0m \u001b[38;5;28;01mdef\u001b[39;00m \u001b[38;5;21mprint_shap\u001b[39m(dimensions_for_prediction):\n\u001b[1;32m     84\u001b[0m     explainer \u001b[38;5;241m=\u001b[39m shap\u001b[38;5;241m.\u001b[39mTreeExplainer(model\u001b[38;5;241m.\u001b[39mnamed_steps[\u001b[38;5;124m'\u001b[39m\u001b[38;5;124mmodel\u001b[39m\u001b[38;5;124m'\u001b[39m])\n\u001b[0;32m---> 85\u001b[0m     shap_values \u001b[38;5;241m=\u001b[39m \u001b[43mexplainer\u001b[49m\u001b[43m(\u001b[49m\u001b[43mdimensions_for_prediction\u001b[49m\u001b[43m)\u001b[49m\n\u001b[1;32m     87\u001b[0m     display(HTML(\u001b[38;5;124m\"\u001b[39m\u001b[38;5;124m<h2>Shap Explanation</h2>\u001b[39m\u001b[38;5;124m\"\u001b[39m))\n\u001b[1;32m     88\u001b[0m     shap\u001b[38;5;241m.\u001b[39mplots\u001b[38;5;241m.\u001b[39mwaterfall(shap_values[\u001b[38;5;241m0\u001b[39m], max_display\u001b[38;5;241m=\u001b[39m\u001b[38;5;241m14\u001b[39m)\n",
      "File \u001b[0;32m/opt/miniconda3/envs/tylers_env_do_not_touch/lib/python3.9/site-packages/shap/explainers/_tree.py:246\u001b[0m, in \u001b[0;36mTreeExplainer.__call__\u001b[0;34m(self, X, y, interactions, check_additivity)\u001b[0m\n\u001b[1;32m    243\u001b[0m     feature_names \u001b[38;5;241m=\u001b[39m \u001b[38;5;28mgetattr\u001b[39m(\u001b[38;5;28mself\u001b[39m, \u001b[38;5;124m\"\u001b[39m\u001b[38;5;124mdata_feature_names\u001b[39m\u001b[38;5;124m\"\u001b[39m, \u001b[38;5;28;01mNone\u001b[39;00m)\n\u001b[1;32m    245\u001b[0m \u001b[38;5;28;01mif\u001b[39;00m \u001b[38;5;129;01mnot\u001b[39;00m interactions:\n\u001b[0;32m--> 246\u001b[0m     v \u001b[38;5;241m=\u001b[39m \u001b[38;5;28;43mself\u001b[39;49m\u001b[38;5;241;43m.\u001b[39;49m\u001b[43mshap_values\u001b[49m\u001b[43m(\u001b[49m\u001b[43mX\u001b[49m\u001b[43m,\u001b[49m\u001b[43m \u001b[49m\u001b[43my\u001b[49m\u001b[38;5;241;43m=\u001b[39;49m\u001b[43my\u001b[49m\u001b[43m,\u001b[49m\u001b[43m \u001b[49m\u001b[43mfrom_call\u001b[49m\u001b[38;5;241;43m=\u001b[39;49m\u001b[38;5;28;43;01mTrue\u001b[39;49;00m\u001b[43m,\u001b[49m\u001b[43m \u001b[49m\u001b[43mcheck_additivity\u001b[49m\u001b[38;5;241;43m=\u001b[39;49m\u001b[43mcheck_additivity\u001b[49m\u001b[43m,\u001b[49m\u001b[43m \u001b[49m\u001b[43mapproximate\u001b[49m\u001b[38;5;241;43m=\u001b[39;49m\u001b[38;5;28;43mself\u001b[39;49m\u001b[38;5;241;43m.\u001b[39;49m\u001b[43mapproximate\u001b[49m\u001b[43m)\u001b[49m\n\u001b[1;32m    247\u001b[0m     \u001b[38;5;28;01mif\u001b[39;00m \u001b[38;5;28misinstance\u001b[39m(v, \u001b[38;5;28mlist\u001b[39m):\n\u001b[1;32m    248\u001b[0m         v \u001b[38;5;241m=\u001b[39m np\u001b[38;5;241m.\u001b[39mstack(v, axis\u001b[38;5;241m=\u001b[39m\u001b[38;5;241m-\u001b[39m\u001b[38;5;241m1\u001b[39m)  \u001b[38;5;66;03m# put outputs at the end\u001b[39;00m\n",
      "File \u001b[0;32m/opt/miniconda3/envs/tylers_env_do_not_touch/lib/python3.9/site-packages/shap/explainers/_tree.py:414\u001b[0m, in \u001b[0;36mTreeExplainer.shap_values\u001b[0;34m(self, X, y, tree_limit, approximate, check_additivity, from_call)\u001b[0m\n\u001b[1;32m    409\u001b[0m \u001b[38;5;28;01mexcept\u001b[39;00m \u001b[38;5;167;01mValueError\u001b[39;00m \u001b[38;5;28;01mas\u001b[39;00m e:\n\u001b[1;32m    410\u001b[0m     emsg \u001b[38;5;241m=\u001b[39m (\n\u001b[1;32m    411\u001b[0m         \u001b[38;5;124m\"\u001b[39m\u001b[38;5;124mThis reshape error is often caused by passing a bad data matrix to SHAP. \u001b[39m\u001b[38;5;124m\"\u001b[39m\n\u001b[1;32m    412\u001b[0m         \u001b[38;5;124m\"\u001b[39m\u001b[38;5;124mSee https://github.com/shap/shap/issues/580.\u001b[39m\u001b[38;5;124m\"\u001b[39m\n\u001b[1;32m    413\u001b[0m     )\n\u001b[0;32m--> 414\u001b[0m     \u001b[38;5;28;01mraise\u001b[39;00m \u001b[38;5;167;01mValueError\u001b[39;00m(emsg) \u001b[38;5;28;01mfrom\u001b[39;00m \u001b[38;5;21;01me\u001b[39;00m\n\u001b[1;32m    416\u001b[0m \u001b[38;5;28;01mif\u001b[39;00m check_additivity \u001b[38;5;129;01mand\u001b[39;00m \u001b[38;5;28mself\u001b[39m\u001b[38;5;241m.\u001b[39mmodel\u001b[38;5;241m.\u001b[39mmodel_output \u001b[38;5;241m==\u001b[39m \u001b[38;5;124m\"\u001b[39m\u001b[38;5;124mraw\u001b[39m\u001b[38;5;124m\"\u001b[39m:\n\u001b[1;32m    417\u001b[0m     xgb_tree_limit \u001b[38;5;241m=\u001b[39m tree_limit \u001b[38;5;241m/\u001b[39m\u001b[38;5;241m/\u001b[39m \u001b[38;5;28mself\u001b[39m\u001b[38;5;241m.\u001b[39mmodel\u001b[38;5;241m.\u001b[39mnum_stacked_models\n",
      "\u001b[0;31mValueError\u001b[0m: This reshape error is often caused by passing a bad data matrix to SHAP. See https://github.com/shap/shap/issues/580."
     ]
    },
    {
     "data": {
      "image/png": "[encoded data removed]",
      "text/plain": [
       "<Figure size 600x400 with 1 Axes>"
      ]
     },
     "metadata": {},
     "output_type": "display_data"
    },
    {
     "name": "stdout",
     "output_type": "stream",
     "text": [
      "filtering by s11\n"
     ]
    },
    {
     "data": {
      "application/vnd.plotly.v1+json": {
       "config": {
        "plotlyServerURL": "https://plot.ly"
       },
       "data": [
        {
         "hovertemplate": "Geometry Name=100220<br>Freq [GHz]=%{x}<br>prediction=%{y}<extra></extra>",
         "legendgroup": "100220",
         "line": {
          "color": "#636efa",
          "dash": "solid"
         },
         "marker": {
          "symbol": "circle"
         },
         "mode": "lines",
         "name": "100220",
         "orientation": "v",
         "showlegend": true,
         "type": "scatter",
         "x": [
          11,
          11.09,
          11.18,
          11.27,
          11.36,
          11.45,
          11.54,
          11.63,
          11.72,
          11.81,
          11.9,
          11.99,
          12.08,
          12.17,
          12.26,
          12.35,
          12.44,
          12.53,
          12.62,
          12.71,
          12.8,
          12.89,
          12.98,
          13.07,
          13.16,
          13.25,
          13.34,
          13.43,
          13.52,
          13.61,
          13.7,
          13.79,
          13.88,
          13.97,
          14.06,
          14.15,
          14.24,
          14.33,
          14.42,
          14.51,
          14.6,
          14.69,
          14.78,
          14.87,
          14.96,
          15.05,
          15.14,
          15.23,
          15.32,
          15.41,
          15.5,
          15.59,
          15.68,
          15.77,
          15.86,
          15.95,
          16.04,
          16.13,
          16.22,
          16.31,
          16.4,
          16.49,
          16.58,
          16.67,
          16.76,
          16.85,
          16.94,
          17.03,
          17.12,
          17.21,
          17.3,
          17.39,
          17.48,
          17.57,
          17.66,
          17.75,
          17.84,
          17.93,
          18.02,
          18.11,
          18.2,
          18.29,
          18.38,
          18.47,
          18.56,
          18.65,
          18.74,
          18.83,
          18.92,
          19.01,
          19.1,
          19.19,
          19.28,
          19.37,
          19.46,
          19.55,
          19.64,
          19.73,
          19.82,
          19.91,
          20
         ],
         "xaxis": "x",
         "y": [
          -6.205800533294678,
          -5.949122905731201,
          -5.774444103240967,
          -5.823637008666992,
          -5.2966766357421875,
          -6.027444362640381,
          -6.252666473388672,
          -6.2638959884643555,
          -7.193973064422607,
          -7.637623310089111,
          -9.04404067993164,
          -9.702025413513184,
          -12.671542167663574,
          -20.127853393554688,
          -31.159198760986328,
          -20.24445152282715,
          -21.89308738708496,
          -20.101085662841797,
          -16.430559158325195,
          -20.49368667602539,
          -14.579788208007812,
          -10.261284828186035,
          -11.291516304016113,
          -16.708202362060547,
          -13.48427963256836,
          -12.988134384155273,
          -12.003362655639648,
          -11.444290161132812,
          -12.327432632446289,
          -12.072568893432617,
          -16.47528076171875,
          -15.04985237121582,
          -12.478555679321289,
          -11.817668914794922,
          -12.148381233215332,
          -12.556670188903809,
          -12.883986473083496,
          -13.660308837890625,
          -13.646114349365234,
          -15.4588041305542,
          -14.403580665588379,
          -17.049299240112305,
          -17.747276306152344,
          -15.830349922180176,
          -16.80654525756836,
          -16.973539352416992,
          -16.09715461730957,
          -14.532303810119629,
          -14.52651309967041,
          -14.619473457336426,
          -15.051785469055176,
          -14.378613471984863,
          -17.214481353759766,
          -21.175811767578125,
          -19.516939163208008,
          -29.237863540649414,
          -23.48648452758789,
          -16.81451416015625,
          -11.940339088439941,
          -11.192022323608398,
          -11.225239753723145,
          -11.198676109313965,
          -12.16343879699707,
          -11.933157920837402,
          -9.899328231811523,
          -10.241243362426758,
          -15.406072616577148,
          -20.174129486083984,
          -43.52457046508789,
          -18.23597526550293,
          -4.973583221435547,
          -7.499814033508301,
          -10.153863906860352,
          -8.232048988342285,
          -2.5546844005584717,
          -2.0220751762390137,
          0.4710291028022766,
          -0.11396247148513794,
          -2.874190092086792,
          -16.838056564331055,
          -21.873910903930664,
          -13.91568660736084,
          -10.971424102783203,
          -4.729733467102051,
          -2.542022943496704,
          -1.828671932220459,
          -1.490950107574463,
          -1.7135425806045532,
          -2.429260730743408,
          -6.875982761383057,
          -18.986629486083984,
          -16.363927841186523,
          -10.206562042236328,
          -6.027052402496338,
          -1.8769484758377075,
          -3.051961660385132,
          -2.8943464756011963,
          -3.0784223079681396,
          -4.225391864776611,
          -10.04176139831543,
          -6.999668598175049
         ],
         "yaxis": "y"
        },
        {
         "hovertemplate": "Geometry Name=126431<br>Freq [GHz]=%{x}<br>prediction=%{y}<extra></extra>",
         "legendgroup": "126431",
         "line": {
          "color": "#EF553B",
          "dash": "solid"
         },
         "marker": {
          "symbol": "circle"
         },
         "mode": "lines",
         "name": "126431",
         "orientation": "v",
         "showlegend": true,
         "type": "scatter",
         "x": [
          11,
          11.09,
          11.18,
          11.27,
          11.36,
          11.45,
          11.54,
          11.63,
          11.72,
          11.81,
          11.9,
          11.99,
          12.08,
          12.17,
          12.26,
          12.35,
          12.44,
          12.53,
          12.62,
          12.71,
          12.8,
          12.89,
          12.98,
          13.07,
          13.16,
          13.25,
          13.34,
          13.43,
          13.52,
          13.61,
          13.7,
          13.79,
          13.88,
          13.97,
          14.06,
          14.15,
          14.24,
          14.33,
          14.42,
          14.51,
          14.6,
          14.69,
          14.78,
          14.87,
          14.96,
          15.05,
          15.14,
          15.23,
          15.32,
          15.41,
          15.5,
          15.59,
          15.68,
          15.77,
          15.86,
          15.95,
          16.04,
          16.13,
          16.22,
          16.31,
          16.4,
          16.49,
          16.58,
          16.67,
          16.76,
          16.85,
          16.94,
          17.03,
          17.12,
          17.21,
          17.3,
          17.39,
          17.48,
          17.57,
          17.66,
          17.75,
          17.84,
          17.93,
          18.02,
          18.11,
          18.2,
          18.29,
          18.38,
          18.47,
          18.56,
          18.65,
          18.74,
          18.83,
          18.92,
          19.01,
          19.1,
          19.19,
          19.28,
          19.37,
          19.46,
          19.55,
          19.64,
          19.73,
          19.82,
          19.91,
          20
         ],
         "xaxis": "x",
         "y": [
          -6.1537675857543945,
          -5.806239604949951,
          -5.523847579956055,
          -7.3545122146606445,
          -6.543014049530029,
          -6.6378326416015625,
          -7.243867874145508,
          -7.8592987060546875,
          -8.14761734008789,
          -8.693885803222656,
          -9.048349380493164,
          -11.391085624694824,
          -13.142815589904785,
          -20.3644962310791,
          -30.728540420532227,
          -20.45244026184082,
          -22.559350967407227,
          -20.372623443603516,
          -14.780126571655273,
          -14.386711120605469,
          -14.588590621948242,
          -11.299752235412598,
          -12.8489351272583,
          -9.172394752502441,
          -9.14646053314209,
          -8.61267375946045,
          -9.277068138122559,
          -8.982245445251465,
          -9.497112274169922,
          -10.248527526855469,
          -14.32252311706543,
          -11.168327331542969,
          -9.793645858764648,
          -10.210977554321289,
          -10.624689102172852,
          -11.138705253601074,
          -11.56262493133545,
          -11.837210655212402,
          -11.54413890838623,
          -12.034124374389648,
          -11.55606746673584,
          -12.342464447021484,
          -10.349519729614258,
          -10.069766998291016,
          -10.52660083770752,
          -9.408202171325684,
          -8.595527648925781,
          -7.148373603820801,
          -7.2009711265563965,
          -7.107954502105713,
          -6.768670558929443,
          -6.437756061553955,
          -5.412469387054443,
          -7.613124370574951,
          -10.277896881103516,
          -17.640024185180664,
          -12.273850440979004,
          -6.988260269165039,
          -5.091841697692871,
          -5.948877811431885,
          -5.9234299659729,
          -4.189175605773926,
          -10.3806791305542,
          -9.559043884277344,
          -5.102450370788574,
          -8.455101013183594,
          -11.652337074279785,
          -13.405299186706543,
          -33.22806930541992,
          -14.006354331970215,
          -6.348576068878174,
          -7.424506187438965,
          -9.372282981872559,
          -6.55612850189209,
          -1.8302534818649292,
          -1.1639491319656372,
          -0.5965748429298401,
          -1.9628548622131348,
          -7.473111629486084,
          -28.51934814453125,
          -15.745155334472656,
          -12.585887908935547,
          -6.498343467712402,
          -3.707230806350708,
          -2.6987509727478027,
          -2.8874030113220215,
          -2.6665191650390625,
          -2.5844743251800537,
          -4.309564113616943,
          -8.93572998046875,
          -19.870620727539062,
          -14.065180778503418,
          -6.184398174285889,
          -0.6248470544815063,
          -0.631061315536499,
          -1.753884196281433,
          -1.3838218450546265,
          -2.7253856658935547,
          -5.4501495361328125,
          -4.584059715270996,
          -5.5029449462890625
         ],
         "yaxis": "y"
        },
        {
         "hovertemplate": "Geometry Name=200412<br>Freq [GHz]=%{x}<br>prediction=%{y}<extra></extra>",
         "legendgroup": "200412",
         "line": {
          "color": "#00cc96",
          "dash": "solid"
         },
         "marker": {
          "symbol": "circle"
         },
         "mode": "lines",
         "name": "200412",
         "orientation": "v",
         "showlegend": true,
         "type": "scatter",
         "x": [
          11,
          11.09,
          11.18,
          11.27,
          11.36,
          11.45,
          11.54,
          11.63,
          11.72,
          11.81,
          11.9,
          11.99,
          12.08,
          12.17,
          12.26,
          12.35,
          12.44,
          12.53,
          12.62,
          12.71,
          12.8,
          12.89,
          12.98,
          13.07,
          13.16,
          13.25,
          13.34,
          13.43,
          13.52,
          13.61,
          13.7,
          13.79,
          13.88,
          13.97,
          14.06,
          14.15,
          14.24,
          14.33,
          14.42,
          14.51,
          14.6,
          14.69,
          14.78,
          14.87,
          14.96,
          15.05,
          15.14,
          15.23,
          15.32,
          15.41,
          15.5,
          15.59,
          15.68,
          15.77,
          15.86,
          15.95,
          16.04,
          16.13,
          16.22,
          16.31,
          16.4,
          16.49,
          16.58,
          16.67,
          16.76,
          16.85,
          16.94,
          17.03,
          17.12,
          17.21,
          17.3,
          17.39,
          17.48,
          17.57,
          17.66,
          17.75,
          17.84,
          17.93,
          18.02,
          18.11,
          18.2,
          18.29,
          18.38,
          18.47,
          18.56,
          18.65,
          18.74,
          18.83,
          18.92,
          19.01,
          19.1,
          19.19,
          19.28,
          19.37,
          19.46,
          19.55,
          19.64,
          19.73,
          19.82,
          19.91,
          20
         ],
         "xaxis": "x",
         "y": [
          -4.081512928009033,
          -4.830803871154785,
          -5.315088748931885,
          -6.373504638671875,
          -7.461093902587891,
          -7.460972309112549,
          -7.396803855895996,
          -8.063739776611328,
          -9.553464889526367,
          -10.074312210083008,
          -11.251811027526855,
          -11.301514625549316,
          -12.499774932861328,
          -20.59914779663086,
          -21.701969146728516,
          -21.89470672607422,
          -21.848432540893555,
          -26.88089942932129,
          -24.651042938232422,
          -18.602657318115234,
          -16.864994049072266,
          -13.227429389953613,
          -9.127543449401855,
          -8.870285034179688,
          -9.094585418701172,
          -9.17534351348877,
          -9.895110130310059,
          -12.539368629455566,
          -12.422846794128418,
          -13.903651237487793,
          -19.54865837097168,
          -10.945199966430664,
          -10.94266414642334,
          -12.421567916870117,
          -14.08670425415039,
          -14.207721710205078,
          -14.046255111694336,
          -13.853452682495117,
          -13.671285629272461,
          -14.134527206420898,
          -15.361571311950684,
          -17.195838928222656,
          -15.236785888671875,
          -15.55904483795166,
          -15.576282501220703,
          -15.757826805114746,
          -16.12308120727539,
          -16.335351943969727,
          -17.258773803710938,
          -20.14664649963379,
          -21.545886993408203,
          -17.737642288208008,
          -14.86223316192627,
          -13.71692180633545,
          -11.065077781677246,
          -13.939279556274414,
          -13.732881546020508,
          -12.451578140258789,
          -12.284855842590332,
          -14.942886352539062,
          -16.698001861572266,
          -20.69768714904785,
          -13.810689926147461,
          -13.09793758392334,
          -13.581003189086914,
          -15.262022972106934,
          -25.761842727661133,
          -25.705541610717773,
          -34.20653533935547,
          -19.294015884399414,
          -18.426542282104492,
          -12.753976821899414,
          -11.240880012512207,
          -11.928837776184082,
          -10.933601379394531,
          -9.319132804870605,
          -11.22701358795166,
          -18.208114624023438,
          -4.6902689933776855,
          -7.547774791717529,
          -11.637715339660645,
          -15.39050006866455,
          -29.434646606445312,
          -13.632426261901855,
          -10.36361026763916,
          -6.095311164855957,
          -5.995966911315918,
          -7.21504020690918,
          -13.671806335449219,
          -4.643607139587402,
          -5.8456130027771,
          -9.343669891357422,
          -17.568784713745117,
          -15.03512191772461,
          -7.646938800811768,
          -5.634833812713623,
          -4.485478401184082,
          -3.8297042846679688,
          -4.7927937507629395,
          -8.427247047424316,
          -10.019886016845703
         ],
         "yaxis": "y"
        },
        {
         "hovertemplate": "Geometry Name=199873<br>Freq [GHz]=%{x}<br>prediction=%{y}<extra></extra>",
         "legendgroup": "199873",
         "line": {
          "color": "#ab63fa",
          "dash": "solid"
         },
         "marker": {
          "symbol": "circle"
         },
         "mode": "lines",
         "name": "199873",
         "orientation": "v",
         "showlegend": true,
         "type": "scatter",
         "x": [
          11,
          11.09,
          11.18,
          11.27,
          11.36,
          11.45,
          11.54,
          11.63,
          11.72,
          11.81,
          11.9,
          11.99,
          12.08,
          12.17,
          12.26,
          12.35,
          12.44,
          12.53,
          12.62,
          12.71,
          12.8,
          12.89,
          12.98,
          13.07,
          13.16,
          13.25,
          13.34,
          13.43,
          13.52,
          13.61,
          13.7,
          13.79,
          13.88,
          13.97,
          14.06,
          14.15,
          14.24,
          14.33,
          14.42,
          14.51,
          14.6,
          14.69,
          14.78,
          14.87,
          14.96,
          15.05,
          15.14,
          15.23,
          15.32,
          15.41,
          15.5,
          15.59,
          15.68,
          15.77,
          15.86,
          15.95,
          16.04,
          16.13,
          16.22,
          16.31,
          16.4,
          16.49,
          16.58,
          16.67,
          16.76,
          16.85,
          16.94,
          17.03,
          17.12,
          17.21,
          17.3,
          17.39,
          17.48,
          17.57,
          17.66,
          17.75,
          17.84,
          17.93,
          18.02,
          18.11,
          18.2,
          18.29,
          18.38,
          18.47,
          18.56,
          18.65,
          18.74,
          18.83,
          18.92,
          19.01,
          19.1,
          19.19,
          19.28,
          19.37,
          19.46,
          19.55,
          19.64,
          19.73,
          19.82,
          19.91,
          20
         ],
         "xaxis": "x",
         "y": [
          -4.344412803649902,
          -4.889351844787598,
          -5.312948703765869,
          -6.348408222198486,
          -7.490943431854248,
          -7.82902193069458,
          -7.2209272384643555,
          -7.016432285308838,
          -7.3087382316589355,
          -7.959986209869385,
          -11.316102027893066,
          -12.423624992370605,
          -14.311300277709961,
          -20.994365692138672,
          -30.82924461364746,
          -24.09726905822754,
          -23.166458129882812,
          -26.379911422729492,
          -23.451276779174805,
          -17.98440933227539,
          -19.310060501098633,
          -16.271310806274414,
          -9.360738754272461,
          -9.75671100616455,
          -9.892145156860352,
          -10.217339515686035,
          -10.880223274230957,
          -13.185319900512695,
          -13.00739574432373,
          -13.661300659179688,
          -18.25023651123047,
          -11.284171104431152,
          -11.540783882141113,
          -13.115777015686035,
          -14.581664085388184,
          -15.091869354248047,
          -15.139249801635742,
          -14.928817749023438,
          -14.807464599609375,
          -15.668601036071777,
          -16.24761962890625,
          -18.342361450195312,
          -16.38994598388672,
          -17.541833877563477,
          -17.921878814697266,
          -18.036148071289062,
          -18.27263069152832,
          -18.467546463012695,
          -18.885372161865234,
          -20.54327392578125,
          -20.15758514404297,
          -17.883649826049805,
          -13.939932823181152,
          -15.002827644348145,
          -16.794519424438477,
          -25.120439529418945,
          -19.286270141601562,
          -13.211639404296875,
          -11.030284881591797,
          -13.907970428466797,
          -15.0231294631958,
          -19.027576446533203,
          -11.47196102142334,
          -10.96531867980957,
          -10.56638240814209,
          -12.187487602233887,
          -14.775973320007324,
          -28.348953247070312,
          -39.03297805786133,
          -14.324000358581543,
          -11.868706703186035,
          -9.294361114501953,
          -7.954208850860596,
          -8.24651050567627,
          -6.683719635009766,
          -4.353141784667969,
          -2.7578890323638916,
          -7.186618328094482,
          -12.546982765197754,
          -16.044538497924805,
          -18.842975616455078,
          -15.838900566101074,
          -27.184295654296875,
          -11.885796546936035,
          -5.542610168457031,
          -4.1675825119018555,
          -4.005836486816406,
          -2.796665906906128,
          -3.2898149490356445,
          -8.883798599243164,
          -14.149397850036621,
          -12.366209030151367,
          -19.65985870361328,
          -9.240030288696289,
          -4.878026008605957,
          -4.380317211151123,
          -3.4863319396972656,
          -2.526005268096924,
          -2.0075650215148926,
          -3.4755306243896484,
          -8.066133499145508
         ],
         "yaxis": "y"
        },
        {
         "hovertemplate": "Geometry Name=199856<br>Freq [GHz]=%{x}<br>prediction=%{y}<extra></extra>",
         "legendgroup": "199856",
         "line": {
          "color": "#FFA15A",
          "dash": "solid"
         },
         "marker": {
          "symbol": "circle"
         },
         "mode": "lines",
         "name": "199856",
         "orientation": "v",
         "showlegend": true,
         "type": "scatter",
         "x": [
          11,
          11.09,
          11.18,
          11.27,
          11.36,
          11.45,
          11.54,
          11.63,
          11.72,
          11.81,
          11.9,
          11.99,
          12.08,
          12.17,
          12.26,
          12.35,
          12.44,
          12.53,
          12.62,
          12.71,
          12.8,
          12.89,
          12.98,
          13.07,
          13.16,
          13.25,
          13.34,
          13.43,
          13.52,
          13.61,
          13.7,
          13.79,
          13.88,
          13.97,
          14.06,
          14.15,
          14.24,
          14.33,
          14.42,
          14.51,
          14.6,
          14.69,
          14.78,
          14.87,
          14.96,
          15.05,
          15.14,
          15.23,
          15.32,
          15.41,
          15.5,
          15.59,
          15.68,
          15.77,
          15.86,
          15.95,
          16.04,
          16.13,
          16.22,
          16.31,
          16.4,
          16.49,
          16.58,
          16.67,
          16.76,
          16.85,
          16.94,
          17.03,
          17.12,
          17.21,
          17.3,
          17.39,
          17.48,
          17.57,
          17.66,
          17.75,
          17.84,
          17.93,
          18.02,
          18.11,
          18.2,
          18.29,
          18.38,
          18.47,
          18.56,
          18.65,
          18.74,
          18.83,
          18.92,
          19.01,
          19.1,
          19.19,
          19.28,
          19.37,
          19.46,
          19.55,
          19.64,
          19.73,
          19.82,
          19.91,
          20
         ],
         "xaxis": "x",
         "y": [
          -4.235634803771973,
          -4.73168420791626,
          -5.412294387817383,
          -6.5814008712768555,
          -7.554351329803467,
          -7.818461894989014,
          -7.033276081085205,
          -6.514409065246582,
          -7.110673904418945,
          -7.932040691375732,
          -11.707823753356934,
          -12.958773612976074,
          -14.500686645507812,
          -24.216489791870117,
          -28.82683563232422,
          -21.366233825683594,
          -21.136505126953125,
          -25.255264282226562,
          -22.368444442749023,
          -18.028011322021484,
          -20.503278732299805,
          -10.250361442565918,
          -10.39439582824707,
          -8.263640403747559,
          -8.682199478149414,
          -8.651388168334961,
          -9.314318656921387,
          -11.714112281799316,
          -12.095627784729004,
          -13.746356964111328,
          -14.56003475189209,
          -9.83603286743164,
          -10.3891019821167,
          -11.930147171020508,
          -13.348440170288086,
          -13.969667434692383,
          -14.205741882324219,
          -14.17005443572998,
          -14.114047050476074,
          -15.066515922546387,
          -17.074527740478516,
          -16.84130096435547,
          -15.834993362426758,
          -17.02031707763672,
          -17.061471939086914,
          -17.184545516967773,
          -17.291221618652344,
          -17.7563419342041,
          -18.66913414001465,
          -20.671215057373047,
          -21.244667053222656,
          -16.592731475830078,
          -12.442909240722656,
          -14.10367488861084,
          -15.029864311218262,
          -24.01498794555664,
          -18.349403381347656,
          -13.217676162719727,
          -11.386265754699707,
          -14.013824462890625,
          -15.98652172088623,
          -19.593671798706055,
          -11.520920753479004,
          -10.551117897033691,
          -9.65567684173584,
          -12.328903198242188,
          -13.069579124450684,
          -26.255130767822266,
          -37.31597900390625,
          -14.755349159240723,
          -12.067031860351562,
          -10.371214866638184,
          -9.559869766235352,
          -10.077574729919434,
          -7.928773880004883,
          -4.773698329925537,
          -6.056614398956299,
          -12.17499828338623,
          -15.79610824584961,
          -13.185086250305176,
          -12.23190689086914,
          -12.133072853088379,
          -25.116670608520508,
          -11.09276008605957,
          -4.917387008666992,
          -4.180508136749268,
          -3.99186635017395,
          -5.211165904998779,
          -10.484745025634766,
          -16.529970169067383,
          -11.019591331481934,
          -12.338202476501465,
          -16.77505111694336,
          -8.155539512634277,
          -4.067595958709717,
          -2.5952234268188477,
          -1.97785484790802,
          -1.4310353994369507,
          -2.3743324279785156,
          -4.927309989929199,
          -12.575652122497559
         ],
         "yaxis": "y"
        },
        {
         "hovertemplate": "Geometry Name=199888<br>Freq [GHz]=%{x}<br>prediction=%{y}<extra></extra>",
         "legendgroup": "199888",
         "line": {
          "color": "#19d3f3",
          "dash": "solid"
         },
         "marker": {
          "symbol": "circle"
         },
         "mode": "lines",
         "name": "199888",
         "orientation": "v",
         "showlegend": true,
         "type": "scatter",
         "x": [
          11,
          11.09,
          11.18,
          11.27,
          11.36,
          11.45,
          11.54,
          11.63,
          11.72,
          11.81,
          11.9,
          11.99,
          12.08,
          12.17,
          12.26,
          12.35,
          12.44,
          12.53,
          12.62,
          12.71,
          12.8,
          12.89,
          12.98,
          13.07,
          13.16,
          13.25,
          13.34,
          13.43,
          13.52,
          13.61,
          13.7,
          13.79,
          13.88,
          13.97,
          14.06,
          14.15,
          14.24,
          14.33,
          14.42,
          14.51,
          14.6,
          14.69,
          14.78,
          14.87,
          14.96,
          15.05,
          15.14,
          15.23,
          15.32,
          15.41,
          15.5,
          15.59,
          15.68,
          15.77,
          15.86,
          15.95,
          16.04,
          16.13,
          16.22,
          16.31,
          16.4,
          16.49,
          16.58,
          16.67,
          16.76,
          16.85,
          16.94,
          17.03,
          17.12,
          17.21,
          17.3,
          17.39,
          17.48,
          17.57,
          17.66,
          17.75,
          17.84,
          17.93,
          18.02,
          18.11,
          18.2,
          18.29,
          18.38,
          18.47,
          18.56,
          18.65,
          18.74,
          18.83,
          18.92,
          19.01,
          19.1,
          19.19,
          19.28,
          19.37,
          19.46,
          19.55,
          19.64,
          19.73,
          19.82,
          19.91,
          20
         ],
         "xaxis": "x",
         "y": [
          -4.356198310852051,
          -5.078135967254639,
          -5.453535079956055,
          -6.549333095550537,
          -7.57734489440918,
          -7.743592262268066,
          -7.7702717781066895,
          -8.774356842041016,
          -10.457866668701172,
          -11.310194969177246,
          -12.452106475830078,
          -12.355475425720215,
          -13.708145141601562,
          -21.890060424804688,
          -28.462791442871094,
          -21.846220016479492,
          -21.676389694213867,
          -26.534259796142578,
          -24.632001876831055,
          -20.07369041442871,
          -19.656654357910156,
          -13.287811279296875,
          -8.414438247680664,
          -8.723511695861816,
          -9.291751861572266,
          -9.405755996704102,
          -10.30020523071289,
          -13.017534255981445,
          -13.12712287902832,
          -14.644332885742188,
          -19.657630920410156,
          -10.759054183959961,
          -10.9833345413208,
          -12.691088676452637,
          -14.398636817932129,
          -14.741710662841797,
          -14.570049285888672,
          -14.23624038696289,
          -14.004508972167969,
          -14.710461616516113,
          -15.3995361328125,
          -18.20969581604004,
          -15.709845542907715,
          -17.11315155029297,
          -17.444276809692383,
          -17.74489974975586,
          -18.202341079711914,
          -18.571828842163086,
          -19.710378646850586,
          -22.415555953979492,
          -22.57470703125,
          -17.872676849365234,
          -14.36838150024414,
          -15.957649230957031,
          -15.056777954101562,
          -24.26612663269043,
          -19.06222915649414,
          -12.428776741027832,
          -10.641586303710938,
          -12.539549827575684,
          -13.909798622131348,
          -17.174654006958008,
          -10.92330265045166,
          -10.652596473693848,
          -11.539264678955078,
          -13.70712661743164,
          -24.495956420898438,
          -30.501558303833008,
          -42.56462478637695,
          -19.15474510192871,
          -16.09543800354004,
          -9.804486274719238,
          -8.02896785736084,
          -8.596511840820312,
          -7.443265438079834,
          -6.431025981903076,
          -8.11629867553711,
          -14.337662696838379,
          -2.9493215084075928,
          -7.472962856292725,
          -9.972721099853516,
          -11.450281143188477,
          -23.982725143432617,
          -11.114750862121582,
          -5.982195854187012,
          -4.199782371520996,
          -4.267224311828613,
          -5.763221740722656,
          -11.38497257232666,
          -5.581857204437256,
          -7.373000144958496,
          -7.638908386230469,
          -14.907751083374023,
          -11.708733558654785,
          -5.1172943115234375,
          -4.294668197631836,
          -3.4903578758239746,
          -2.809929609298706,
          -3.557523727416992,
          -7.599865436553955,
          -11.645585060119629
         ],
         "yaxis": "y"
        },
        {
         "hovertemplate": "Geometry Name=331365<br>Freq [GHz]=%{x}<br>prediction=%{y}<extra></extra>",
         "legendgroup": "331365",
         "line": {
          "color": "#FF6692",
          "dash": "solid"
         },
         "marker": {
          "symbol": "circle"
         },
         "mode": "lines",
         "name": "331365",
         "orientation": "v",
         "showlegend": true,
         "type": "scatter",
         "x": [
          11,
          11.09,
          11.18,
          11.27,
          11.36,
          11.45,
          11.54,
          11.63,
          11.72,
          11.81,
          11.9,
          11.99,
          12.08,
          12.17,
          12.26,
          12.35,
          12.44,
          12.53,
          12.62,
          12.71,
          12.8,
          12.89,
          12.98,
          13.07,
          13.16,
          13.25,
          13.34,
          13.43,
          13.52,
          13.61,
          13.7,
          13.79,
          13.88,
          13.97,
          14.06,
          14.15,
          14.24,
          14.33,
          14.42,
          14.51,
          14.6,
          14.69,
          14.78,
          14.87,
          14.96,
          15.05,
          15.14,
          15.23,
          15.32,
          15.41,
          15.5,
          15.59,
          15.68,
          15.77,
          15.86,
          15.95,
          16.04,
          16.13,
          16.22,
          16.31,
          16.4,
          16.49,
          16.58,
          16.67,
          16.76,
          16.85,
          16.94,
          17.03,
          17.12,
          17.21,
          17.3,
          17.39,
          17.48,
          17.57,
          17.66,
          17.75,
          17.84,
          17.93,
          18.02,
          18.11,
          18.2,
          18.29,
          18.38,
          18.47,
          18.56,
          18.65,
          18.74,
          18.83,
          18.92,
          19.01,
          19.1,
          19.19,
          19.28,
          19.37,
          19.46,
          19.55,
          19.64,
          19.73,
          19.82,
          19.91,
          20
         ],
         "xaxis": "x",
         "y": [
          -4.630493640899658,
          -5.637517929077148,
          -6.190408229827881,
          -6.8569416999816895,
          -8.312029838562012,
          -8.723160743713379,
          -8.889920234680176,
          -9.946569442749023,
          -11.029511451721191,
          -10.608827590942383,
          -11.723767280578613,
          -11.394735336303711,
          -14.332202911376953,
          -22.398292541503906,
          -22.668548583984375,
          -28.39575958251953,
          -23.03306007385254,
          -24.058021545410156,
          -20.262460708618164,
          -12.415048599243164,
          -11.870838165283203,
          -11.703584671020508,
          -7.700440883636475,
          -7.602220058441162,
          -8.784806251525879,
          -9.049720764160156,
          -10.404887199401855,
          -12.22652816772461,
          -11.29047966003418,
          -11.633870124816895,
          -13.864270210266113,
          -11.60560417175293,
          -11.332111358642578,
          -12.27782154083252,
          -13.43321704864502,
          -13.516007423400879,
          -13.784775733947754,
          -13.752283096313477,
          -13.546253204345703,
          -14.136734008789062,
          -15.452624320983887,
          -17.296035766601562,
          -16.71162223815918,
          -16.81076431274414,
          -17.31447410583496,
          -18.383087158203125,
          -20.394092559814453,
          -22.46969985961914,
          -21.26022720336914,
          -22.616809844970703,
          -22.064743041992188,
          -17.10614776611328,
          -13.77368450164795,
          -13.518205642700195,
          -13.237642288208008,
          -17.27107048034668,
          -16.256155014038086,
          -16.990510940551758,
          -16.47878646850586,
          -17.277284622192383,
          -13.527278900146484,
          -12.2841215133667,
          -11.904754638671875,
          -12.95583724975586,
          -16.881046295166016,
          -21.436025619506836,
          -24.90215301513672,
          -31.333576202392578,
          -36.422645568847656,
          -27.866731643676758,
          -31.1207332611084,
          -16.57588005065918,
          -15.242464065551758,
          -20.271602630615234,
          -14.888542175292969,
          -21.183441162109375,
          -26.19862174987793,
          -6.835632801055908,
          -2.5215585231781006,
          -1.3426556587219238,
          -5.592200756072998,
          -11.022164344787598,
          -10.141971588134766,
          -8.175466537475586,
          -19.850540161132812,
          -12.379846572875977,
          -10.623805046081543,
          -13.3041353225708,
          -7.771821022033691,
          -1.0705926418304443,
          -1.1647677421569824,
          -4.441656112670898,
          -6.499649524688721,
          -13.487408638000488,
          -13.08189582824707,
          -7.655375003814697,
          -5.050998687744141,
          -4.6386189460754395,
          -8.092164039611816,
          -9.197497367858887,
          -1.8684134483337402
         ],
         "yaxis": "y"
        }
       ],
       "layout": {
        "legend": {
         "title": {
          "text": "Geometry Name"
         },
         "tracegroupgap": 0
        },
        "shapes": [
         {
          "line": {
           "color": "blue",
           "dash": "dash"
          },
          "type": "line",
          "x0": 0,
          "x1": 1,
          "xref": "x domain",
          "y0": -20,
          "y1": -20,
          "yref": "y"
         },
         {
          "line": {
           "color": "green",
           "dash": "dash"
          },
          "type": "line",
          "x0": 12.09,
          "x1": 12.09,
          "xref": "x",
          "y0": 0,
          "y1": 1,
          "yref": "y domain"
         },
         {
          "line": {
           "color": "green",
           "dash": "dash"
          },
          "type": "line",
          "x0": 12.6,
          "x1": 12.6,
          "xref": "x",
          "y0": 0,
          "y1": 1,
          "yref": "y domain"
         }
        ],
        "template": {
         "data": {
          "bar": [
           {
            "error_x": {
             "color": "#2a3f5f"
            },
            "error_y": {
             "color": "#2a3f5f"
            },
            "marker": {
             "line": {
              "color": "#E5ECF6",
              "width": 0.5
             },
             "pattern": {
              "fillmode": "overlay",
              "size": 10,
              "solidity": 0.2
             }
            },
            "type": "bar"
           }
          ],
          "barpolar": [
           {
            "marker": {
             "line": {
              "color": "#E5ECF6",
              "width": 0.5
             },
             "pattern": {
              "fillmode": "overlay",
              "size": 10,
              "solidity": 0.2
             }
            },
            "type": "barpolar"
           }
          ],
          "carpet": [
           {
            "aaxis": {
             "endlinecolor": "#2a3f5f",
             "gridcolor": "white",
             "linecolor": "white",
             "minorgridcolor": "white",
             "startlinecolor": "#2a3f5f"
            },
            "baxis": {
             "endlinecolor": "#2a3f5f",
             "gridcolor": "white",
             "linecolor": "white",
             "minorgridcolor": "white",
             "startlinecolor": "#2a3f5f"
            },
            "type": "carpet"
           }
          ],
          "choropleth": [
           {
            "colorbar": {
             "outlinewidth": 0,
             "ticks": ""
            },
            "type": "choropleth"
           }
          ],
          "contour": [
           {
            "colorbar": {
             "outlinewidth": 0,
             "ticks": ""
            },
            "colorscale": [
             [
              0,
              "#0d0887"
             ],
             [
              0.1111111111111111,
              "#46039f"
             ],
             [
              0.2222222222222222,
              "#7201a8"
             ],
             [
              0.3333333333333333,
              "#9c179e"
             ],
             [
              0.4444444444444444,
              "#bd3786"
             ],
             [
              0.5555555555555556,
              "#d8576b"
             ],
             [
              0.6666666666666666,
              "#ed7953"
             ],
             [
              0.7777777777777778,
              "#fb9f3a"
             ],
             [
              0.8888888888888888,
              "#fdca26"
             ],
             [
              1,
              "#f0f921"
             ]
            ],
            "type": "contour"
           }
          ],
          "contourcarpet": [
           {
            "colorbar": {
             "outlinewidth": 0,
             "ticks": ""
            },
            "type": "contourcarpet"
           }
          ],
          "heatmap": [
           {
            "colorbar": {
             "outlinewidth": 0,
             "ticks": ""
            },
            "colorscale": [
             [
              0,
              "#0d0887"
             ],
             [
              0.1111111111111111,
              "#46039f"
             ],
             [
              0.2222222222222222,
              "#7201a8"
             ],
             [
              0.3333333333333333,
              "#9c179e"
             ],
             [
              0.4444444444444444,
              "#bd3786"
             ],
             [
              0.5555555555555556,
              "#d8576b"
             ],
             [
              0.6666666666666666,
              "#ed7953"
             ],
             [
              0.7777777777777778,
              "#fb9f3a"
             ],
             [
              0.8888888888888888,
              "#fdca26"
             ],
             [
              1,
              "#f0f921"
             ]
            ],
            "type": "heatmap"
           }
          ],
          "heatmapgl": [
           {
            "colorbar": {
             "outlinewidth": 0,
             "ticks": ""
            },
            "colorscale": [
             [
              0,
              "#0d0887"
             ],
             [
              0.1111111111111111,
              "#46039f"
             ],
             [
              0.2222222222222222,
              "#7201a8"
             ],
             [
              0.3333333333333333,
              "#9c179e"
             ],
             [
              0.4444444444444444,
              "#bd3786"
             ],
             [
              0.5555555555555556,
              "#d8576b"
             ],
             [
              0.6666666666666666,
              "#ed7953"
             ],
             [
              0.7777777777777778,
              "#fb9f3a"
             ],
             [
              0.8888888888888888,
              "#fdca26"
             ],
             [
              1,
              "#f0f921"
             ]
            ],
            "type": "heatmapgl"
           }
          ],
          "histogram": [
           {
            "marker": {
             "pattern": {
              "fillmode": "overlay",
              "size": 10,
              "solidity": 0.2
             }
            },
            "type": "histogram"
           }
          ],
          "histogram2d": [
           {
            "colorbar": {
             "outlinewidth": 0,
             "ticks": ""
            },
            "colorscale": [
             [
              0,
              "#0d0887"
             ],
             [
              0.1111111111111111,
              "#46039f"
             ],
             [
              0.2222222222222222,
              "#7201a8"
             ],
             [
              0.3333333333333333,
              "#9c179e"
             ],
             [
              0.4444444444444444,
              "#bd3786"
             ],
             [
              0.5555555555555556,
              "#d8576b"
             ],
             [
              0.6666666666666666,
              "#ed7953"
             ],
             [
              0.7777777777777778,
              "#fb9f3a"
             ],
             [
              0.8888888888888888,
              "#fdca26"
             ],
             [
              1,
              "#f0f921"
             ]
            ],
            "type": "histogram2d"
           }
          ],
          "histogram2dcontour": [
           {
            "colorbar": {
             "outlinewidth": 0,
             "ticks": ""
            },
            "colorscale": [
             [
              0,
              "#0d0887"
             ],
             [
              0.1111111111111111,
              "#46039f"
             ],
             [
              0.2222222222222222,
              "#7201a8"
             ],
             [
              0.3333333333333333,
              "#9c179e"
             ],
             [
              0.4444444444444444,
              "#bd3786"
             ],
             [
              0.5555555555555556,
              "#d8576b"
             ],
             [
              0.6666666666666666,
              "#ed7953"
             ],
             [
              0.7777777777777778,
              "#fb9f3a"
             ],
             [
              0.8888888888888888,
              "#fdca26"
             ],
             [
              1,
              "#f0f921"
             ]
            ],
            "type": "histogram2dcontour"
           }
          ],
          "mesh3d": [
           {
            "colorbar": {
             "outlinewidth": 0,
             "ticks": ""
            },
            "type": "mesh3d"
           }
          ],
          "parcoords": [
           {
            "line": {
             "colorbar": {
              "outlinewidth": 0,
              "ticks": ""
             }
            },
            "type": "parcoords"
           }
          ],
          "pie": [
           {
            "automargin": true,
            "type": "pie"
           }
          ],
          "scatter": [
           {
            "fillpattern": {
             "fillmode": "overlay",
             "size": 10,
             "solidity": 0.2
            },
            "type": "scatter"
           }
          ],
          "scatter3d": [
           {
            "line": {
             "colorbar": {
              "outlinewidth": 0,
              "ticks": ""
             }
            },
            "marker": {
             "colorbar": {
              "outlinewidth": 0,
              "ticks": ""
             }
            },
            "type": "scatter3d"
           }
          ],
          "scattercarpet": [
           {
            "marker": {
             "colorbar": {
              "outlinewidth": 0,
              "ticks": ""
             }
            },
            "type": "scattercarpet"
           }
          ],
          "scattergeo": [
           {
            "marker": {
             "colorbar": {
              "outlinewidth": 0,
              "ticks": ""
             }
            },
            "type": "scattergeo"
           }
          ],
          "scattergl": [
           {
            "marker": {
             "colorbar": {
              "outlinewidth": 0,
              "ticks": ""
             }
            },
            "type": "scattergl"
           }
          ],
          "scattermapbox": [
           {
            "marker": {
             "colorbar": {
              "outlinewidth": 0,
              "ticks": ""
             }
            },
            "type": "scattermapbox"
           }
          ],
          "scatterpolar": [
           {
            "marker": {
             "colorbar": {
              "outlinewidth": 0,
              "ticks": ""
             }
            },
            "type": "scatterpolar"
           }
          ],
          "scatterpolargl": [
           {
            "marker": {
             "colorbar": {
              "outlinewidth": 0,
              "ticks": ""
             }
            },
            "type": "scatterpolargl"
           }
          ],
          "scatterternary": [
           {
            "marker": {
             "colorbar": {
              "outlinewidth": 0,
              "ticks": ""
             }
            },
            "type": "scatterternary"
           }
          ],
          "surface": [
           {
            "colorbar": {
             "outlinewidth": 0,
             "ticks": ""
            },
            "colorscale": [
             [
              0,
              "#0d0887"
             ],
             [
              0.1111111111111111,
              "#46039f"
             ],
             [
              0.2222222222222222,
              "#7201a8"
             ],
             [
              0.3333333333333333,
              "#9c179e"
             ],
             [
              0.4444444444444444,
              "#bd3786"
             ],
             [
              0.5555555555555556,
              "#d8576b"
             ],
             [
              0.6666666666666666,
              "#ed7953"
             ],
             [
              0.7777777777777778,
              "#fb9f3a"
             ],
             [
              0.8888888888888888,
              "#fdca26"
             ],
             [
              1,
              "#f0f921"
             ]
            ],
            "type": "surface"
           }
          ],
          "table": [
           {
            "cells": {
             "fill": {
              "color": "#EBF0F8"
             },
             "line": {
              "color": "white"
             }
            },
            "header": {
             "fill": {
              "color": "#C8D4E3"
             },
             "line": {
              "color": "white"
             }
            },
            "type": "table"
           }
          ]
         },
         "layout": {
          "annotationdefaults": {
           "arrowcolor": "#2a3f5f",
           "arrowhead": 0,
           "arrowwidth": 1
          },
          "autotypenumbers": "strict",
          "coloraxis": {
           "colorbar": {
            "outlinewidth": 0,
            "ticks": ""
           }
          },
          "colorscale": {
           "diverging": [
            [
             0,
             "#8e0152"
            ],
            [
             0.1,
             "#c51b7d"
            ],
            [
             0.2,
             "#de77ae"
            ],
            [
             0.3,
             "#f1b6da"
            ],
            [
             0.4,
             "#fde0ef"
            ],
            [
             0.5,
             "#f7f7f7"
            ],
            [
             0.6,
             "#e6f5d0"
            ],
            [
             0.7,
             "#b8e186"
            ],
            [
             0.8,
             "#7fbc41"
            ],
            [
             0.9,
             "#4d9221"
            ],
            [
             1,
             "#276419"
            ]
           ],
           "sequential": [
            [
             0,
             "#0d0887"
            ],
            [
             0.1111111111111111,
             "#46039f"
            ],
            [
             0.2222222222222222,
             "#7201a8"
            ],
            [
             0.3333333333333333,
             "#9c179e"
            ],
            [
             0.4444444444444444,
             "#bd3786"
            ],
            [
             0.5555555555555556,
             "#d8576b"
            ],
            [
             0.6666666666666666,
             "#ed7953"
            ],
            [
             0.7777777777777778,
             "#fb9f3a"
            ],
            [
             0.8888888888888888,
             "#fdca26"
            ],
            [
             1,
             "#f0f921"
            ]
           ],
           "sequentialminus": [
            [
             0,
             "#0d0887"
            ],
            [
             0.1111111111111111,
             "#46039f"
            ],
            [
             0.2222222222222222,
             "#7201a8"
            ],
            [
             0.3333333333333333,
             "#9c179e"
            ],
            [
             0.4444444444444444,
             "#bd3786"
            ],
            [
             0.5555555555555556,
             "#d8576b"
            ],
            [
             0.6666666666666666,
             "#ed7953"
            ],
            [
             0.7777777777777778,
             "#fb9f3a"
            ],
            [
             0.8888888888888888,
             "#fdca26"
            ],
            [
             1,
             "#f0f921"
            ]
           ]
          },
          "colorway": [
           "#636efa",
           "#EF553B",
           "#00cc96",
           "#ab63fa",
           "#FFA15A",
           "#19d3f3",
           "#FF6692",
           "#B6E880",
           "#FF97FF",
           "#FECB52"
          ],
          "font": {
           "color": "#2a3f5f"
          },
          "geo": {
           "bgcolor": "white",
           "lakecolor": "white",
           "landcolor": "#E5ECF6",
           "showlakes": true,
           "showland": true,
           "subunitcolor": "white"
          },
          "hoverlabel": {
           "align": "left"
          },
          "hovermode": "closest",
          "mapbox": {
           "style": "light"
          },
          "paper_bgcolor": "white",
          "plot_bgcolor": "#E5ECF6",
          "polar": {
           "angularaxis": {
            "gridcolor": "white",
            "linecolor": "white",
            "ticks": ""
           },
           "bgcolor": "#E5ECF6",
           "radialaxis": {
            "gridcolor": "white",
            "linecolor": "white",
            "ticks": ""
           }
          },
          "scene": {
           "xaxis": {
            "backgroundcolor": "#E5ECF6",
            "gridcolor": "white",
            "gridwidth": 2,
            "linecolor": "white",
            "showbackground": true,
            "ticks": "",
            "zerolinecolor": "white"
           },
           "yaxis": {
            "backgroundcolor": "#E5ECF6",
            "gridcolor": "white",
            "gridwidth": 2,
            "linecolor": "white",
            "showbackground": true,
            "ticks": "",
            "zerolinecolor": "white"
           },
           "zaxis": {
            "backgroundcolor": "#E5ECF6",
            "gridcolor": "white",
            "gridwidth": 2,
            "linecolor": "white",
            "showbackground": true,
            "ticks": "",
            "zerolinecolor": "white"
           }
          },
          "shapedefaults": {
           "line": {
            "color": "#2a3f5f"
           }
          },
          "ternary": {
           "aaxis": {
            "gridcolor": "white",
            "linecolor": "white",
            "ticks": ""
           },
           "baxis": {
            "gridcolor": "white",
            "linecolor": "white",
            "ticks": ""
           },
           "bgcolor": "#E5ECF6",
           "caxis": {
            "gridcolor": "white",
            "linecolor": "white",
            "ticks": ""
           }
          },
          "title": {
           "x": 0.05
          },
          "xaxis": {
           "automargin": true,
           "gridcolor": "white",
           "linecolor": "white",
           "ticks": "",
           "title": {
            "standoff": 15
           },
           "zerolinecolor": "white",
           "zerolinewidth": 2
          },
          "yaxis": {
           "automargin": true,
           "gridcolor": "white",
           "linecolor": "white",
           "ticks": "",
           "title": {
            "standoff": 15
           },
           "zerolinecolor": "white",
           "zerolinewidth": 2
          }
         }
        },
        "title": {
         "text": "Performance vs Frequency for Geometries"
        },
        "xaxis": {
         "anchor": "y",
         "domain": [
          0,
          1
         ],
         "title": {
          "text": "Freq [GHz]"
         }
        },
        "yaxis": {
         "anchor": "x",
         "domain": [
          0,
          1
         ],
         "title": {
          "text": "prediction"
         }
        }
       }
      },
      "text/html": [
       "<div>                            <div id=\"998b5e01-a0d7-4c17-8a25-68b6ef1830f7\" class=\"plotly-graph-div\" style=\"height:525px; width:100%;\"></div>            <script type=\"text/javascript\">                require([\"plotly\"], function(Plotly) {                    window.PLOTLYENV=window.PLOTLYENV || {};                                    if (document.getElementById(\"998b5e01-a0d7-4c17-8a25-68b6ef1830f7\")) {                    Plotly.newPlot(                        \"998b5e01-a0d7-4c17-8a25-68b6ef1830f7\",                        [{\"hovertemplate\":\"Geometry Name=100220\\u003cbr\\u003eFreq [GHz]=%{x}\\u003cbr\\u003eprediction=%{y}\\u003cextra\\u003e\\u003c\\u002fextra\\u003e\",\"legendgroup\":\"100220\",\"line\":{\"color\":\"#636efa\",\"dash\":\"solid\"},\"marker\":{\"symbol\":\"circle\"},\"mode\":\"lines\",\"name\":\"100220\",\"orientation\":\"v\",\"showlegend\":true,\"x\":[11.0,11.09,11.18,11.27,11.36,11.45,11.54,11.63,11.72,11.81,11.9,11.99,12.08,12.17,12.26,12.35,12.44,12.53,12.62,12.71,12.8,12.89,12.98,13.07,13.16,13.25,13.34,13.43,13.52,13.61,13.7,13.79,13.88,13.97,14.06,14.15,14.24,14.33,14.42,14.51,14.6,14.69,14.78,14.87,14.96,15.05,15.14,15.23,15.32,15.41,15.5,15.59,15.68,15.77,15.86,15.95,16.04,16.13,16.22,16.31,16.4,16.49,16.58,16.67,16.76,16.85,16.94,17.03,17.12,17.21,17.3,17.39,17.48,17.57,17.66,17.75,17.84,17.93,18.02,18.11,18.2,18.29,18.38,18.47,18.56,18.65,18.74,18.83,18.92,19.01,19.1,19.19,19.28,19.37,19.46,19.55,19.64,19.73,19.82,19.91,20.0],\"xaxis\":\"x\",\"y\":[-6.205800533294678,-5.949122905731201,-5.774444103240967,-5.823637008666992,-5.2966766357421875,-6.027444362640381,-6.252666473388672,-6.2638959884643555,-7.193973064422607,-7.637623310089111,-9.04404067993164,-9.702025413513184,-12.671542167663574,-20.127853393554688,-31.159198760986328,-20.24445152282715,-21.89308738708496,-20.101085662841797,-16.430559158325195,-20.49368667602539,-14.579788208007812,-10.261284828186035,-11.291516304016113,-16.708202362060547,-13.48427963256836,-12.988134384155273,-12.003362655639648,-11.444290161132812,-12.327432632446289,-12.072568893432617,-16.47528076171875,-15.04985237121582,-12.478555679321289,-11.817668914794922,-12.148381233215332,-12.556670188903809,-12.883986473083496,-13.660308837890625,-13.646114349365234,-15.4588041305542,-14.403580665588379,-17.049299240112305,-17.747276306152344,-15.830349922180176,-16.80654525756836,-16.973539352416992,-16.09715461730957,-14.532303810119629,-14.52651309967041,-14.619473457336426,-15.051785469055176,-14.378613471984863,-17.214481353759766,-21.175811767578125,-19.516939163208008,-29.237863540649414,-23.48648452758789,-16.81451416015625,-11.940339088439941,-11.192022323608398,-11.225239753723145,-11.198676109313965,-12.16343879699707,-11.933157920837402,-9.899328231811523,-10.241243362426758,-15.406072616577148,-20.174129486083984,-43.52457046508789,-18.23597526550293,-4.973583221435547,-7.499814033508301,-10.153863906860352,-8.232048988342285,-2.5546844005584717,-2.0220751762390137,0.4710291028022766,-0.11396247148513794,-2.874190092086792,-16.838056564331055,-21.873910903930664,-13.91568660736084,-10.971424102783203,-4.729733467102051,-2.542022943496704,-1.828671932220459,-1.490950107574463,-1.7135425806045532,-2.429260730743408,-6.875982761383057,-18.986629486083984,-16.363927841186523,-10.206562042236328,-6.027052402496338,-1.8769484758377075,-3.051961660385132,-2.8943464756011963,-3.0784223079681396,-4.225391864776611,-10.04176139831543,-6.999668598175049],\"yaxis\":\"y\",\"type\":\"scatter\"},{\"hovertemplate\":\"Geometry Name=126431\\u003cbr\\u003eFreq [GHz]=%{x}\\u003cbr\\u003eprediction=%{y}\\u003cextra\\u003e\\u003c\\u002fextra\\u003e\",\"legendgroup\":\"126431\",\"line\":{\"color\":\"#EF553B\",\"dash\":\"solid\"},\"marker\":{\"symbol\":\"circle\"},\"mode\":\"lines\",\"name\":\"126431\",\"orientation\":\"v\",\"showlegend\":true,\"x\":[11.0,11.09,11.18,11.27,11.36,11.45,11.54,11.63,11.72,11.81,11.9,11.99,12.08,12.17,12.26,12.35,12.44,12.53,12.62,12.71,12.8,12.89,12.98,13.07,13.16,13.25,13.34,13.43,13.52,13.61,13.7,13.79,13.88,13.97,14.06,14.15,14.24,14.33,14.42,14.51,14.6,14.69,14.78,14.87,14.96,15.05,15.14,15.23,15.32,15.41,15.5,15.59,15.68,15.77,15.86,15.95,16.04,16.13,16.22,16.31,16.4,16.49,16.58,16.67,16.76,16.85,16.94,17.03,17.12,17.21,17.3,17.39,17.48,17.57,17.66,17.75,17.84,17.93,18.02,18.11,18.2,18.29,18.38,18.47,18.56,18.65,18.74,18.83,18.92,19.01,19.1,19.19,19.28,19.37,19.46,19.55,19.64,19.73,19.82,19.91,20.0],\"xaxis\":\"x\",\"y\":[-6.1537675857543945,-5.806239604949951,-5.523847579956055,-7.3545122146606445,-6.543014049530029,-6.6378326416015625,-7.243867874145508,-7.8592987060546875,-8.14761734008789,-8.693885803222656,-9.048349380493164,-11.391085624694824,-13.142815589904785,-20.3644962310791,-30.728540420532227,-20.45244026184082,-22.559350967407227,-20.372623443603516,-14.780126571655273,-14.386711120605469,-14.588590621948242,-11.299752235412598,-12.8489351272583,-9.172394752502441,-9.14646053314209,-8.61267375946045,-9.277068138122559,-8.982245445251465,-9.497112274169922,-10.248527526855469,-14.32252311706543,-11.168327331542969,-9.793645858764648,-10.210977554321289,-10.624689102172852,-11.138705253601074,-11.56262493133545,-11.837210655212402,-11.54413890838623,-12.034124374389648,-11.55606746673584,-12.342464447021484,-10.349519729614258,-10.069766998291016,-10.52660083770752,-9.408202171325684,-8.595527648925781,-7.148373603820801,-7.2009711265563965,-7.107954502105713,-6.768670558929443,-6.437756061553955,-5.412469387054443,-7.613124370574951,-10.277896881103516,-17.640024185180664,-12.273850440979004,-6.988260269165039,-5.091841697692871,-5.948877811431885,-5.9234299659729,-4.189175605773926,-10.3806791305542,-9.559043884277344,-5.102450370788574,-8.455101013183594,-11.652337074279785,-13.405299186706543,-33.22806930541992,-14.006354331970215,-6.348576068878174,-7.424506187438965,-9.372282981872559,-6.55612850189209,-1.8302534818649292,-1.1639491319656372,-0.5965748429298401,-1.9628548622131348,-7.473111629486084,-28.51934814453125,-15.745155334472656,-12.585887908935547,-6.498343467712402,-3.707230806350708,-2.6987509727478027,-2.8874030113220215,-2.6665191650390625,-2.5844743251800537,-4.309564113616943,-8.93572998046875,-19.870620727539062,-14.065180778503418,-6.184398174285889,-0.6248470544815063,-0.631061315536499,-1.753884196281433,-1.3838218450546265,-2.7253856658935547,-5.4501495361328125,-4.584059715270996,-5.5029449462890625],\"yaxis\":\"y\",\"type\":\"scatter\"},{\"hovertemplate\":\"Geometry Name=200412\\u003cbr\\u003eFreq [GHz]=%{x}\\u003cbr\\u003eprediction=%{y}\\u003cextra\\u003e\\u003c\\u002fextra\\u003e\",\"legendgroup\":\"200412\",\"line\":{\"color\":\"#00cc96\",\"dash\":\"solid\"},\"marker\":{\"symbol\":\"circle\"},\"mode\":\"lines\",\"name\":\"200412\",\"orientation\":\"v\",\"showlegend\":true,\"x\":[11.0,11.09,11.18,11.27,11.36,11.45,11.54,11.63,11.72,11.81,11.9,11.99,12.08,12.17,12.26,12.35,12.44,12.53,12.62,12.71,12.8,12.89,12.98,13.07,13.16,13.25,13.34,13.43,13.52,13.61,13.7,13.79,13.88,13.97,14.06,14.15,14.24,14.33,14.42,14.51,14.6,14.69,14.78,14.87,14.96,15.05,15.14,15.23,15.32,15.41,15.5,15.59,15.68,15.77,15.86,15.95,16.04,16.13,16.22,16.31,16.4,16.49,16.58,16.67,16.76,16.85,16.94,17.03,17.12,17.21,17.3,17.39,17.48,17.57,17.66,17.75,17.84,17.93,18.02,18.11,18.2,18.29,18.38,18.47,18.56,18.65,18.74,18.83,18.92,19.01,19.1,19.19,19.28,19.37,19.46,19.55,19.64,19.73,19.82,19.91,20.0],\"xaxis\":\"x\",\"y\":[-4.081512928009033,-4.830803871154785,-5.315088748931885,-6.373504638671875,-7.461093902587891,-7.460972309112549,-7.396803855895996,-8.063739776611328,-9.553464889526367,-10.074312210083008,-11.251811027526855,-11.301514625549316,-12.499774932861328,-20.59914779663086,-21.701969146728516,-21.89470672607422,-21.848432540893555,-26.88089942932129,-24.651042938232422,-18.602657318115234,-16.864994049072266,-13.227429389953613,-9.127543449401855,-8.870285034179688,-9.094585418701172,-9.17534351348877,-9.895110130310059,-12.539368629455566,-12.422846794128418,-13.903651237487793,-19.54865837097168,-10.945199966430664,-10.94266414642334,-12.421567916870117,-14.08670425415039,-14.207721710205078,-14.046255111694336,-13.853452682495117,-13.671285629272461,-14.134527206420898,-15.361571311950684,-17.195838928222656,-15.236785888671875,-15.55904483795166,-15.576282501220703,-15.757826805114746,-16.12308120727539,-16.335351943969727,-17.258773803710938,-20.14664649963379,-21.545886993408203,-17.737642288208008,-14.86223316192627,-13.71692180633545,-11.065077781677246,-13.939279556274414,-13.732881546020508,-12.451578140258789,-12.284855842590332,-14.942886352539062,-16.698001861572266,-20.69768714904785,-13.810689926147461,-13.09793758392334,-13.581003189086914,-15.262022972106934,-25.761842727661133,-25.705541610717773,-34.20653533935547,-19.294015884399414,-18.426542282104492,-12.753976821899414,-11.240880012512207,-11.928837776184082,-10.933601379394531,-9.319132804870605,-11.22701358795166,-18.208114624023438,-4.6902689933776855,-7.547774791717529,-11.637715339660645,-15.39050006866455,-29.434646606445312,-13.632426261901855,-10.36361026763916,-6.095311164855957,-5.995966911315918,-7.21504020690918,-13.671806335449219,-4.643607139587402,-5.8456130027771,-9.343669891357422,-17.568784713745117,-15.03512191772461,-7.646938800811768,-5.634833812713623,-4.485478401184082,-3.8297042846679688,-4.7927937507629395,-8.427247047424316,-10.019886016845703],\"yaxis\":\"y\",\"type\":\"scatter\"},{\"hovertemplate\":\"Geometry Name=199873\\u003cbr\\u003eFreq [GHz]=%{x}\\u003cbr\\u003eprediction=%{y}\\u003cextra\\u003e\\u003c\\u002fextra\\u003e\",\"legendgroup\":\"199873\",\"line\":{\"color\":\"#ab63fa\",\"dash\":\"solid\"},\"marker\":{\"symbol\":\"circle\"},\"mode\":\"lines\",\"name\":\"199873\",\"orientation\":\"v\",\"showlegend\":true,\"x\":[11.0,11.09,11.18,11.27,11.36,11.45,11.54,11.63,11.72,11.81,11.9,11.99,12.08,12.17,12.26,12.35,12.44,12.53,12.62,12.71,12.8,12.89,12.98,13.07,13.16,13.25,13.34,13.43,13.52,13.61,13.7,13.79,13.88,13.97,14.06,14.15,14.24,14.33,14.42,14.51,14.6,14.69,14.78,14.87,14.96,15.05,15.14,15.23,15.32,15.41,15.5,15.59,15.68,15.77,15.86,15.95,16.04,16.13,16.22,16.31,16.4,16.49,16.58,16.67,16.76,16.85,16.94,17.03,17.12,17.21,17.3,17.39,17.48,17.57,17.66,17.75,17.84,17.93,18.02,18.11,18.2,18.29,18.38,18.47,18.56,18.65,18.74,18.83,18.92,19.01,19.1,19.19,19.28,19.37,19.46,19.55,19.64,19.73,19.82,19.91,20.0],\"xaxis\":\"x\",\"y\":[-4.344412803649902,-4.889351844787598,-5.312948703765869,-6.348408222198486,-7.490943431854248,-7.82902193069458,-7.2209272384643555,-7.016432285308838,-7.3087382316589355,-7.959986209869385,-11.316102027893066,-12.423624992370605,-14.311300277709961,-20.994365692138672,-30.82924461364746,-24.09726905822754,-23.166458129882812,-26.379911422729492,-23.451276779174805,-17.98440933227539,-19.310060501098633,-16.271310806274414,-9.360738754272461,-9.75671100616455,-9.892145156860352,-10.217339515686035,-10.880223274230957,-13.185319900512695,-13.00739574432373,-13.661300659179688,-18.25023651123047,-11.284171104431152,-11.540783882141113,-13.115777015686035,-14.581664085388184,-15.091869354248047,-15.139249801635742,-14.928817749023438,-14.807464599609375,-15.668601036071777,-16.24761962890625,-18.342361450195312,-16.38994598388672,-17.541833877563477,-17.921878814697266,-18.036148071289062,-18.27263069152832,-18.467546463012695,-18.885372161865234,-20.54327392578125,-20.15758514404297,-17.883649826049805,-13.939932823181152,-15.002827644348145,-16.794519424438477,-25.120439529418945,-19.286270141601562,-13.211639404296875,-11.030284881591797,-13.907970428466797,-15.0231294631958,-19.027576446533203,-11.47196102142334,-10.96531867980957,-10.56638240814209,-12.187487602233887,-14.775973320007324,-28.348953247070312,-39.03297805786133,-14.324000358581543,-11.868706703186035,-9.294361114501953,-7.954208850860596,-8.24651050567627,-6.683719635009766,-4.353141784667969,-2.7578890323638916,-7.186618328094482,-12.546982765197754,-16.044538497924805,-18.842975616455078,-15.838900566101074,-27.184295654296875,-11.885796546936035,-5.542610168457031,-4.1675825119018555,-4.005836486816406,-2.796665906906128,-3.2898149490356445,-8.883798599243164,-14.149397850036621,-12.366209030151367,-19.65985870361328,-9.240030288696289,-4.878026008605957,-4.380317211151123,-3.4863319396972656,-2.526005268096924,-2.0075650215148926,-3.4755306243896484,-8.066133499145508],\"yaxis\":\"y\",\"type\":\"scatter\"},{\"hovertemplate\":\"Geometry Name=199856\\u003cbr\\u003eFreq [GHz]=%{x}\\u003cbr\\u003eprediction=%{y}\\u003cextra\\u003e\\u003c\\u002fextra\\u003e\",\"legendgroup\":\"199856\",\"line\":{\"color\":\"#FFA15A\",\"dash\":\"solid\"},\"marker\":{\"symbol\":\"circle\"},\"mode\":\"lines\",\"name\":\"199856\",\"orientation\":\"v\",\"showlegend\":true,\"x\":[11.0,11.09,11.18,11.27,11.36,11.45,11.54,11.63,11.72,11.81,11.9,11.99,12.08,12.17,12.26,12.35,12.44,12.53,12.62,12.71,12.8,12.89,12.98,13.07,13.16,13.25,13.34,13.43,13.52,13.61,13.7,13.79,13.88,13.97,14.06,14.15,14.24,14.33,14.42,14.51,14.6,14.69,14.78,14.87,14.96,15.05,15.14,15.23,15.32,15.41,15.5,15.59,15.68,15.77,15.86,15.95,16.04,16.13,16.22,16.31,16.4,16.49,16.58,16.67,16.76,16.85,16.94,17.03,17.12,17.21,17.3,17.39,17.48,17.57,17.66,17.75,17.84,17.93,18.02,18.11,18.2,18.29,18.38,18.47,18.56,18.65,18.74,18.83,18.92,19.01,19.1,19.19,19.28,19.37,19.46,19.55,19.64,19.73,19.82,19.91,20.0],\"xaxis\":\"x\",\"y\":[-4.235634803771973,-4.73168420791626,-5.412294387817383,-6.5814008712768555,-7.554351329803467,-7.818461894989014,-7.033276081085205,-6.514409065246582,-7.110673904418945,-7.932040691375732,-11.707823753356934,-12.958773612976074,-14.500686645507812,-24.216489791870117,-28.82683563232422,-21.366233825683594,-21.136505126953125,-25.255264282226562,-22.368444442749023,-18.028011322021484,-20.503278732299805,-10.250361442565918,-10.39439582824707,-8.263640403747559,-8.682199478149414,-8.651388168334961,-9.314318656921387,-11.714112281799316,-12.095627784729004,-13.746356964111328,-14.56003475189209,-9.83603286743164,-10.3891019821167,-11.930147171020508,-13.348440170288086,-13.969667434692383,-14.205741882324219,-14.17005443572998,-14.114047050476074,-15.066515922546387,-17.074527740478516,-16.84130096435547,-15.834993362426758,-17.02031707763672,-17.061471939086914,-17.184545516967773,-17.291221618652344,-17.7563419342041,-18.66913414001465,-20.671215057373047,-21.244667053222656,-16.592731475830078,-12.442909240722656,-14.10367488861084,-15.029864311218262,-24.01498794555664,-18.349403381347656,-13.217676162719727,-11.386265754699707,-14.013824462890625,-15.98652172088623,-19.593671798706055,-11.520920753479004,-10.551117897033691,-9.65567684173584,-12.328903198242188,-13.069579124450684,-26.255130767822266,-37.31597900390625,-14.755349159240723,-12.067031860351562,-10.371214866638184,-9.559869766235352,-10.077574729919434,-7.928773880004883,-4.773698329925537,-6.056614398956299,-12.17499828338623,-15.79610824584961,-13.185086250305176,-12.23190689086914,-12.133072853088379,-25.116670608520508,-11.09276008605957,-4.917387008666992,-4.180508136749268,-3.99186635017395,-5.211165904998779,-10.484745025634766,-16.529970169067383,-11.019591331481934,-12.338202476501465,-16.77505111694336,-8.155539512634277,-4.067595958709717,-2.5952234268188477,-1.97785484790802,-1.4310353994369507,-2.3743324279785156,-4.927309989929199,-12.575652122497559],\"yaxis\":\"y\",\"type\":\"scatter\"},{\"hovertemplate\":\"Geometry Name=199888\\u003cbr\\u003eFreq [GHz]=%{x}\\u003cbr\\u003eprediction=%{y}\\u003cextra\\u003e\\u003c\\u002fextra\\u003e\",\"legendgroup\":\"199888\",\"line\":{\"color\":\"#19d3f3\",\"dash\":\"solid\"},\"marker\":{\"symbol\":\"circle\"},\"mode\":\"lines\",\"name\":\"199888\",\"orientation\":\"v\",\"showlegend\":true,\"x\":[11.0,11.09,11.18,11.27,11.36,11.45,11.54,11.63,11.72,11.81,11.9,11.99,12.08,12.17,12.26,12.35,12.44,12.53,12.62,12.71,12.8,12.89,12.98,13.07,13.16,13.25,13.34,13.43,13.52,13.61,13.7,13.79,13.88,13.97,14.06,14.15,14.24,14.33,14.42,14.51,14.6,14.69,14.78,14.87,14.96,15.05,15.14,15.23,15.32,15.41,15.5,15.59,15.68,15.77,15.86,15.95,16.04,16.13,16.22,16.31,16.4,16.49,16.58,16.67,16.76,16.85,16.94,17.03,17.12,17.21,17.3,17.39,17.48,17.57,17.66,17.75,17.84,17.93,18.02,18.11,18.2,18.29,18.38,18.47,18.56,18.65,18.74,18.83,18.92,19.01,19.1,19.19,19.28,19.37,19.46,19.55,19.64,19.73,19.82,19.91,20.0],\"xaxis\":\"x\",\"y\":[-4.356198310852051,-5.078135967254639,-5.453535079956055,-6.549333095550537,-7.57734489440918,-7.743592262268066,-7.7702717781066895,-8.774356842041016,-10.457866668701172,-11.310194969177246,-12.452106475830078,-12.355475425720215,-13.708145141601562,-21.890060424804688,-28.462791442871094,-21.846220016479492,-21.676389694213867,-26.534259796142578,-24.632001876831055,-20.07369041442871,-19.656654357910156,-13.287811279296875,-8.414438247680664,-8.723511695861816,-9.291751861572266,-9.405755996704102,-10.30020523071289,-13.017534255981445,-13.12712287902832,-14.644332885742188,-19.657630920410156,-10.759054183959961,-10.9833345413208,-12.691088676452637,-14.398636817932129,-14.741710662841797,-14.570049285888672,-14.23624038696289,-14.004508972167969,-14.710461616516113,-15.3995361328125,-18.20969581604004,-15.709845542907715,-17.11315155029297,-17.444276809692383,-17.74489974975586,-18.202341079711914,-18.571828842163086,-19.710378646850586,-22.415555953979492,-22.57470703125,-17.872676849365234,-14.36838150024414,-15.957649230957031,-15.056777954101562,-24.26612663269043,-19.06222915649414,-12.428776741027832,-10.641586303710938,-12.539549827575684,-13.909798622131348,-17.174654006958008,-10.92330265045166,-10.652596473693848,-11.539264678955078,-13.70712661743164,-24.495956420898438,-30.501558303833008,-42.56462478637695,-19.15474510192871,-16.09543800354004,-9.804486274719238,-8.02896785736084,-8.596511840820312,-7.443265438079834,-6.431025981903076,-8.11629867553711,-14.337662696838379,-2.9493215084075928,-7.472962856292725,-9.972721099853516,-11.450281143188477,-23.982725143432617,-11.114750862121582,-5.982195854187012,-4.199782371520996,-4.267224311828613,-5.763221740722656,-11.38497257232666,-5.581857204437256,-7.373000144958496,-7.638908386230469,-14.907751083374023,-11.708733558654785,-5.1172943115234375,-4.294668197631836,-3.4903578758239746,-2.809929609298706,-3.557523727416992,-7.599865436553955,-11.645585060119629],\"yaxis\":\"y\",\"type\":\"scatter\"},{\"hovertemplate\":\"Geometry Name=331365\\u003cbr\\u003eFreq [GHz]=%{x}\\u003cbr\\u003eprediction=%{y}\\u003cextra\\u003e\\u003c\\u002fextra\\u003e\",\"legendgroup\":\"331365\",\"line\":{\"color\":\"#FF6692\",\"dash\":\"solid\"},\"marker\":{\"symbol\":\"circle\"},\"mode\":\"lines\",\"name\":\"331365\",\"orientation\":\"v\",\"showlegend\":true,\"x\":[11.0,11.09,11.18,11.27,11.36,11.45,11.54,11.63,11.72,11.81,11.9,11.99,12.08,12.17,12.26,12.35,12.44,12.53,12.62,12.71,12.8,12.89,12.98,13.07,13.16,13.25,13.34,13.43,13.52,13.61,13.7,13.79,13.88,13.97,14.06,14.15,14.24,14.33,14.42,14.51,14.6,14.69,14.78,14.87,14.96,15.05,15.14,15.23,15.32,15.41,15.5,15.59,15.68,15.77,15.86,15.95,16.04,16.13,16.22,16.31,16.4,16.49,16.58,16.67,16.76,16.85,16.94,17.03,17.12,17.21,17.3,17.39,17.48,17.57,17.66,17.75,17.84,17.93,18.02,18.11,18.2,18.29,18.38,18.47,18.56,18.65,18.74,18.83,18.92,19.01,19.1,19.19,19.28,19.37,19.46,19.55,19.64,19.73,19.82,19.91,20.0],\"xaxis\":\"x\",\"y\":[-4.630493640899658,-5.637517929077148,-6.190408229827881,-6.8569416999816895,-8.312029838562012,-8.723160743713379,-8.889920234680176,-9.946569442749023,-11.029511451721191,-10.608827590942383,-11.723767280578613,-11.394735336303711,-14.332202911376953,-22.398292541503906,-22.668548583984375,-28.39575958251953,-23.03306007385254,-24.058021545410156,-20.262460708618164,-12.415048599243164,-11.870838165283203,-11.703584671020508,-7.700440883636475,-7.602220058441162,-8.784806251525879,-9.049720764160156,-10.404887199401855,-12.22652816772461,-11.29047966003418,-11.633870124816895,-13.864270210266113,-11.60560417175293,-11.332111358642578,-12.27782154083252,-13.43321704864502,-13.516007423400879,-13.784775733947754,-13.752283096313477,-13.546253204345703,-14.136734008789062,-15.452624320983887,-17.296035766601562,-16.71162223815918,-16.81076431274414,-17.31447410583496,-18.383087158203125,-20.394092559814453,-22.46969985961914,-21.26022720336914,-22.616809844970703,-22.064743041992188,-17.10614776611328,-13.77368450164795,-13.518205642700195,-13.237642288208008,-17.27107048034668,-16.256155014038086,-16.990510940551758,-16.47878646850586,-17.277284622192383,-13.527278900146484,-12.2841215133667,-11.904754638671875,-12.95583724975586,-16.881046295166016,-21.436025619506836,-24.90215301513672,-31.333576202392578,-36.422645568847656,-27.866731643676758,-31.1207332611084,-16.57588005065918,-15.242464065551758,-20.271602630615234,-14.888542175292969,-21.183441162109375,-26.19862174987793,-6.835632801055908,-2.5215585231781006,-1.3426556587219238,-5.592200756072998,-11.022164344787598,-10.141971588134766,-8.175466537475586,-19.850540161132812,-12.379846572875977,-10.623805046081543,-13.3041353225708,-7.771821022033691,-1.0705926418304443,-1.1647677421569824,-4.441656112670898,-6.499649524688721,-13.487408638000488,-13.08189582824707,-7.655375003814697,-5.050998687744141,-4.6386189460754395,-8.092164039611816,-9.197497367858887,-1.8684134483337402],\"yaxis\":\"y\",\"type\":\"scatter\"}],                        {\"template\":{\"data\":{\"histogram2dcontour\":[{\"type\":\"histogram2dcontour\",\"colorbar\":{\"outlinewidth\":0,\"ticks\":\"\"},\"colorscale\":[[0.0,\"#0d0887\"],[0.1111111111111111,\"#46039f\"],[0.2222222222222222,\"#7201a8\"],[0.3333333333333333,\"#9c179e\"],[0.4444444444444444,\"#bd3786\"],[0.5555555555555556,\"#d8576b\"],[0.6666666666666666,\"#ed7953\"],[0.7777777777777778,\"#fb9f3a\"],[0.8888888888888888,\"#fdca26\"],[1.0,\"#f0f921\"]]}],\"choropleth\":[{\"type\":\"choropleth\",\"colorbar\":{\"outlinewidth\":0,\"ticks\":\"\"}}],\"histogram2d\":[{\"type\":\"histogram2d\",\"colorbar\":{\"outlinewidth\":0,\"ticks\":\"\"},\"colorscale\":[[0.0,\"#0d0887\"],[0.1111111111111111,\"#46039f\"],[0.2222222222222222,\"#7201a8\"],[0.3333333333333333,\"#9c179e\"],[0.4444444444444444,\"#bd3786\"],[0.5555555555555556,\"#d8576b\"],[0.6666666666666666,\"#ed7953\"],[0.7777777777777778,\"#fb9f3a\"],[0.8888888888888888,\"#fdca26\"],[1.0,\"#f0f921\"]]}],\"heatmap\":[{\"type\":\"heatmap\",\"colorbar\":{\"outlinewidth\":0,\"ticks\":\"\"},\"colorscale\":[[0.0,\"#0d0887\"],[0.1111111111111111,\"#46039f\"],[0.2222222222222222,\"#7201a8\"],[0.3333333333333333,\"#9c179e\"],[0.4444444444444444,\"#bd3786\"],[0.5555555555555556,\"#d8576b\"],[0.6666666666666666,\"#ed7953\"],[0.7777777777777778,\"#fb9f3a\"],[0.8888888888888888,\"#fdca26\"],[1.0,\"#f0f921\"]]}],\"heatmapgl\":[{\"type\":\"heatmapgl\",\"colorbar\":{\"outlinewidth\":0,\"ticks\":\"\"},\"colorscale\":[[0.0,\"#0d0887\"],[0.1111111111111111,\"#46039f\"],[0.2222222222222222,\"#7201a8\"],[0.3333333333333333,\"#9c179e\"],[0.4444444444444444,\"#bd3786\"],[0.5555555555555556,\"#d8576b\"],[0.6666666666666666,\"#ed7953\"],[0.7777777777777778,\"#fb9f3a\"],[0.8888888888888888,\"#fdca26\"],[1.0,\"#f0f921\"]]}],\"contourcarpet\":[{\"type\":\"contourcarpet\",\"colorbar\":{\"outlinewidth\":0,\"ticks\":\"\"}}],\"contour\":[{\"type\":\"contour\",\"colorbar\":{\"outlinewidth\":0,\"ticks\":\"\"},\"colorscale\":[[0.0,\"#0d0887\"],[0.1111111111111111,\"#46039f\"],[0.2222222222222222,\"#7201a8\"],[0.3333333333333333,\"#9c179e\"],[0.4444444444444444,\"#bd3786\"],[0.5555555555555556,\"#d8576b\"],[0.6666666666666666,\"#ed7953\"],[0.7777777777777778,\"#fb9f3a\"],[0.8888888888888888,\"#fdca26\"],[1.0,\"#f0f921\"]]}],\"surface\":[{\"type\":\"surface\",\"colorbar\":{\"outlinewidth\":0,\"ticks\":\"\"},\"colorscale\":[[0.0,\"#0d0887\"],[0.1111111111111111,\"#46039f\"],[0.2222222222222222,\"#7201a8\"],[0.3333333333333333,\"#9c179e\"],[0.4444444444444444,\"#bd3786\"],[0.5555555555555556,\"#d8576b\"],[0.6666666666666666,\"#ed7953\"],[0.7777777777777778,\"#fb9f3a\"],[0.8888888888888888,\"#fdca26\"],[1.0,\"#f0f921\"]]}],\"mesh3d\":[{\"type\":\"mesh3d\",\"colorbar\":{\"outlinewidth\":0,\"ticks\":\"\"}}],\"scatter\":[{\"fillpattern\":{\"fillmode\":\"overlay\",\"size\":10,\"solidity\":0.2},\"type\":\"scatter\"}],\"parcoords\":[{\"type\":\"parcoords\",\"line\":{\"colorbar\":{\"outlinewidth\":0,\"ticks\":\"\"}}}],\"scatterpolargl\":[{\"type\":\"scatterpolargl\",\"marker\":{\"colorbar\":{\"outlinewidth\":0,\"ticks\":\"\"}}}],\"bar\":[{\"error_x\":{\"color\":\"#2a3f5f\"},\"error_y\":{\"color\":\"#2a3f5f\"},\"marker\":{\"line\":{\"color\":\"#E5ECF6\",\"width\":0.5},\"pattern\":{\"fillmode\":\"overlay\",\"size\":10,\"solidity\":0.2}},\"type\":\"bar\"}],\"scattergeo\":[{\"type\":\"scattergeo\",\"marker\":{\"colorbar\":{\"outlinewidth\":0,\"ticks\":\"\"}}}],\"scatterpolar\":[{\"type\":\"scatterpolar\",\"marker\":{\"colorbar\":{\"outlinewidth\":0,\"ticks\":\"\"}}}],\"histogram\":[{\"marker\":{\"pattern\":{\"fillmode\":\"overlay\",\"size\":10,\"solidity\":0.2}},\"type\":\"histogram\"}],\"scattergl\":[{\"type\":\"scattergl\",\"marker\":{\"colorbar\":{\"outlinewidth\":0,\"ticks\":\"\"}}}],\"scatter3d\":[{\"type\":\"scatter3d\",\"line\":{\"colorbar\":{\"outlinewidth\":0,\"ticks\":\"\"}},\"marker\":{\"colorbar\":{\"outlinewidth\":0,\"ticks\":\"\"}}}],\"scattermapbox\":[{\"type\":\"scattermapbox\",\"marker\":{\"colorbar\":{\"outlinewidth\":0,\"ticks\":\"\"}}}],\"scatterternary\":[{\"type\":\"scatterternary\",\"marker\":{\"colorbar\":{\"outlinewidth\":0,\"ticks\":\"\"}}}],\"scattercarpet\":[{\"type\":\"scattercarpet\",\"marker\":{\"colorbar\":{\"outlinewidth\":0,\"ticks\":\"\"}}}],\"carpet\":[{\"aaxis\":{\"endlinecolor\":\"#2a3f5f\",\"gridcolor\":\"white\",\"linecolor\":\"white\",\"minorgridcolor\":\"white\",\"startlinecolor\":\"#2a3f5f\"},\"baxis\":{\"endlinecolor\":\"#2a3f5f\",\"gridcolor\":\"white\",\"linecolor\":\"white\",\"minorgridcolor\":\"white\",\"startlinecolor\":\"#2a3f5f\"},\"type\":\"carpet\"}],\"table\":[{\"cells\":{\"fill\":{\"color\":\"#EBF0F8\"},\"line\":{\"color\":\"white\"}},\"header\":{\"fill\":{\"color\":\"#C8D4E3\"},\"line\":{\"color\":\"white\"}},\"type\":\"table\"}],\"barpolar\":[{\"marker\":{\"line\":{\"color\":\"#E5ECF6\",\"width\":0.5},\"pattern\":{\"fillmode\":\"overlay\",\"size\":10,\"solidity\":0.2}},\"type\":\"barpolar\"}],\"pie\":[{\"automargin\":true,\"type\":\"pie\"}]},\"layout\":{\"autotypenumbers\":\"strict\",\"colorway\":[\"#636efa\",\"#EF553B\",\"#00cc96\",\"#ab63fa\",\"#FFA15A\",\"#19d3f3\",\"#FF6692\",\"#B6E880\",\"#FF97FF\",\"#FECB52\"],\"font\":{\"color\":\"#2a3f5f\"},\"hovermode\":\"closest\",\"hoverlabel\":{\"align\":\"left\"},\"paper_bgcolor\":\"white\",\"plot_bgcolor\":\"#E5ECF6\",\"polar\":{\"bgcolor\":\"#E5ECF6\",\"angularaxis\":{\"gridcolor\":\"white\",\"linecolor\":\"white\",\"ticks\":\"\"},\"radialaxis\":{\"gridcolor\":\"white\",\"linecolor\":\"white\",\"ticks\":\"\"}},\"ternary\":{\"bgcolor\":\"#E5ECF6\",\"aaxis\":{\"gridcolor\":\"white\",\"linecolor\":\"white\",\"ticks\":\"\"},\"baxis\":{\"gridcolor\":\"white\",\"linecolor\":\"white\",\"ticks\":\"\"},\"caxis\":{\"gridcolor\":\"white\",\"linecolor\":\"white\",\"ticks\":\"\"}},\"coloraxis\":{\"colorbar\":{\"outlinewidth\":0,\"ticks\":\"\"}},\"colorscale\":{\"sequential\":[[0.0,\"#0d0887\"],[0.1111111111111111,\"#46039f\"],[0.2222222222222222,\"#7201a8\"],[0.3333333333333333,\"#9c179e\"],[0.4444444444444444,\"#bd3786\"],[0.5555555555555556,\"#d8576b\"],[0.6666666666666666,\"#ed7953\"],[0.7777777777777778,\"#fb9f3a\"],[0.8888888888888888,\"#fdca26\"],[1.0,\"#f0f921\"]],\"sequentialminus\":[[0.0,\"#0d0887\"],[0.1111111111111111,\"#46039f\"],[0.2222222222222222,\"#7201a8\"],[0.3333333333333333,\"#9c179e\"],[0.4444444444444444,\"#bd3786\"],[0.5555555555555556,\"#d8576b\"],[0.6666666666666666,\"#ed7953\"],[0.7777777777777778,\"#fb9f3a\"],[0.8888888888888888,\"#fdca26\"],[1.0,\"#f0f921\"]],\"diverging\":[[0,\"#8e0152\"],[0.1,\"#c51b7d\"],[0.2,\"#de77ae\"],[0.3,\"#f1b6da\"],[0.4,\"#fde0ef\"],[0.5,\"#f7f7f7\"],[0.6,\"#e6f5d0\"],[0.7,\"#b8e186\"],[0.8,\"#7fbc41\"],[0.9,\"#4d9221\"],[1,\"#276419\"]]},\"xaxis\":{\"gridcolor\":\"white\",\"linecolor\":\"white\",\"ticks\":\"\",\"title\":{\"standoff\":15},\"zerolinecolor\":\"white\",\"automargin\":true,\"zerolinewidth\":2},\"yaxis\":{\"gridcolor\":\"white\",\"linecolor\":\"white\",\"ticks\":\"\",\"title\":{\"standoff\":15},\"zerolinecolor\":\"white\",\"automargin\":true,\"zerolinewidth\":2},\"scene\":{\"xaxis\":{\"backgroundcolor\":\"#E5ECF6\",\"gridcolor\":\"white\",\"linecolor\":\"white\",\"showbackground\":true,\"ticks\":\"\",\"zerolinecolor\":\"white\",\"gridwidth\":2},\"yaxis\":{\"backgroundcolor\":\"#E5ECF6\",\"gridcolor\":\"white\",\"linecolor\":\"white\",\"showbackground\":true,\"ticks\":\"\",\"zerolinecolor\":\"white\",\"gridwidth\":2},\"zaxis\":{\"backgroundcolor\":\"#E5ECF6\",\"gridcolor\":\"white\",\"linecolor\":\"white\",\"showbackground\":true,\"ticks\":\"\",\"zerolinecolor\":\"white\",\"gridwidth\":2}},\"shapedefaults\":{\"line\":{\"color\":\"#2a3f5f\"}},\"annotationdefaults\":{\"arrowcolor\":\"#2a3f5f\",\"arrowhead\":0,\"arrowwidth\":1},\"geo\":{\"bgcolor\":\"white\",\"landcolor\":\"#E5ECF6\",\"subunitcolor\":\"white\",\"showland\":true,\"showlakes\":true,\"lakecolor\":\"white\"},\"title\":{\"x\":0.05},\"mapbox\":{\"style\":\"light\"}}},\"xaxis\":{\"anchor\":\"y\",\"domain\":[0.0,1.0],\"title\":{\"text\":\"Freq [GHz]\"}},\"yaxis\":{\"anchor\":\"x\",\"domain\":[0.0,1.0],\"title\":{\"text\":\"prediction\"}},\"legend\":{\"title\":{\"text\":\"Geometry Name\"},\"tracegroupgap\":0},\"title\":{\"text\":\"Performance vs Frequency for Geometries\"},\"shapes\":[{\"line\":{\"color\":\"blue\",\"dash\":\"dash\"},\"type\":\"line\",\"x0\":0,\"x1\":1,\"xref\":\"x domain\",\"y0\":-20.0,\"y1\":-20.0,\"yref\":\"y\"},{\"line\":{\"color\":\"green\",\"dash\":\"dash\"},\"type\":\"line\",\"x0\":12.09,\"x1\":12.09,\"xref\":\"x\",\"y0\":0,\"y1\":1,\"yref\":\"y domain\"},{\"line\":{\"color\":\"green\",\"dash\":\"dash\"},\"type\":\"line\",\"x0\":12.6,\"x1\":12.6,\"xref\":\"x\",\"y0\":0,\"y1\":1,\"yref\":\"y domain\"}]},                        {\"responsive\": true}                    ).then(function(){\n",
       "                            \n",
       "var gd = document.getElementById('998b5e01-a0d7-4c17-8a25-68b6ef1830f7');\n",
       "var x = new MutationObserver(function (mutations, observer) {{\n",
       "        var display = window.getComputedStyle(gd).display;\n",
       "        if (!display || display === 'none') {{\n",
       "            console.log([gd, 'removed!']);\n",
       "            Plotly.purge(gd);\n",
       "            observer.disconnect();\n",
       "        }}\n",
       "}});\n",
       "\n",
       "// Listen for the removal of the full notebook cells\n",
       "var notebookContainer = gd.closest('#notebook-container');\n",
       "if (notebookContainer) {{\n",
       "    x.observe(notebookContainer, {childList: true});\n",
       "}}\n",
       "\n",
       "// Listen for the clearing of the current output cell\n",
       "var outputEl = gd.closest('.output');\n",
       "if (outputEl) {{\n",
       "    x.observe(outputEl, {childList: true});\n",
       "}}\n",
       "\n",
       "                        })                };                });            </script>        </div>"
      ]
     },
     "metadata": {},
     "output_type": "display_data"
    },
    {
     "name": "stdout",
     "output_type": "stream",
     "text": [
      "PRINT SHAP\n"
     ]
    },
    {
     "ename": "ValueError",
     "evalue": "This reshape error is often caused by passing a bad data matrix to SHAP. See https://github.com/shap/shap/issues/580.",
     "output_type": "error",
     "traceback": [
      "\u001b[0;31m---------------------------------------------------------------------------\u001b[0m",
      "\u001b[0;31mXGBoostError\u001b[0m                              Traceback (most recent call last)",
      "File \u001b[0;32m/opt/miniconda3/envs/tylers_env_do_not_touch/lib/python3.9/site-packages/shap/explainers/_tree.py:405\u001b[0m, in \u001b[0;36mTreeExplainer.shap_values\u001b[0;34m(self, X, y, tree_limit, approximate, check_additivity, from_call)\u001b[0m\n\u001b[1;32m    404\u001b[0m \u001b[38;5;28;01mtry\u001b[39;00m:\n\u001b[0;32m--> 405\u001b[0m     phi \u001b[38;5;241m=\u001b[39m \u001b[38;5;28;43mself\u001b[39;49m\u001b[38;5;241;43m.\u001b[39;49m\u001b[43mmodel\u001b[49m\u001b[38;5;241;43m.\u001b[39;49m\u001b[43moriginal_model\u001b[49m\u001b[38;5;241;43m.\u001b[39;49m\u001b[43mpredict\u001b[49m\u001b[43m(\u001b[49m\n\u001b[1;32m    406\u001b[0m \u001b[43m        \u001b[49m\u001b[43mX\u001b[49m\u001b[43m,\u001b[49m\u001b[43m \u001b[49m\u001b[43miteration_range\u001b[49m\u001b[38;5;241;43m=\u001b[39;49m\u001b[43m(\u001b[49m\u001b[38;5;241;43m0\u001b[39;49m\u001b[43m,\u001b[49m\u001b[43m \u001b[49m\u001b[43mtree_limit\u001b[49m\u001b[43m)\u001b[49m\u001b[43m,\u001b[49m\u001b[43m \u001b[49m\u001b[43mpred_contribs\u001b[49m\u001b[38;5;241;43m=\u001b[39;49m\u001b[38;5;28;43;01mTrue\u001b[39;49;00m\u001b[43m,\u001b[49m\n\u001b[1;32m    407\u001b[0m \u001b[43m        \u001b[49m\u001b[43mapprox_contribs\u001b[49m\u001b[38;5;241;43m=\u001b[39;49m\u001b[43mapproximate\u001b[49m\u001b[43m,\u001b[49m\u001b[43m \u001b[49m\u001b[43mvalidate_features\u001b[49m\u001b[38;5;241;43m=\u001b[39;49m\u001b[38;5;28;43;01mFalse\u001b[39;49;00m\n\u001b[1;32m    408\u001b[0m \u001b[43m    \u001b[49m\u001b[43m)\u001b[49m\n\u001b[1;32m    409\u001b[0m \u001b[38;5;28;01mexcept\u001b[39;00m \u001b[38;5;167;01mValueError\u001b[39;00m \u001b[38;5;28;01mas\u001b[39;00m e:\n",
      "File \u001b[0;32m/opt/miniconda3/envs/tylers_env_do_not_touch/lib/python3.9/site-packages/xgboost/core.py:2297\u001b[0m, in \u001b[0;36mBooster.predict\u001b[0;34m(self, data, output_margin, pred_leaf, pred_contribs, approx_contribs, pred_interactions, validate_features, training, iteration_range, strict_shape)\u001b[0m\n\u001b[1;32m   2296\u001b[0m dims \u001b[38;5;241m=\u001b[39m c_bst_ulong()\n\u001b[0;32m-> 2297\u001b[0m \u001b[43m_check_call\u001b[49m\u001b[43m(\u001b[49m\n\u001b[1;32m   2298\u001b[0m \u001b[43m    \u001b[49m\u001b[43m_LIB\u001b[49m\u001b[38;5;241;43m.\u001b[39;49m\u001b[43mXGBoosterPredictFromDMatrix\u001b[49m\u001b[43m(\u001b[49m\n\u001b[1;32m   2299\u001b[0m \u001b[43m        \u001b[49m\u001b[38;5;28;43mself\u001b[39;49m\u001b[38;5;241;43m.\u001b[39;49m\u001b[43mhandle\u001b[49m\u001b[43m,\u001b[49m\n\u001b[1;32m   2300\u001b[0m \u001b[43m        \u001b[49m\u001b[43mdata\u001b[49m\u001b[38;5;241;43m.\u001b[39;49m\u001b[43mhandle\u001b[49m\u001b[43m,\u001b[49m\n\u001b[1;32m   2301\u001b[0m \u001b[43m        \u001b[49m\u001b[43mfrom_pystr_to_cstr\u001b[49m\u001b[43m(\u001b[49m\u001b[43mjson\u001b[49m\u001b[38;5;241;43m.\u001b[39;49m\u001b[43mdumps\u001b[49m\u001b[43m(\u001b[49m\u001b[43margs\u001b[49m\u001b[43m)\u001b[49m\u001b[43m)\u001b[49m\u001b[43m,\u001b[49m\n\u001b[1;32m   2302\u001b[0m \u001b[43m        \u001b[49m\u001b[43mctypes\u001b[49m\u001b[38;5;241;43m.\u001b[39;49m\u001b[43mbyref\u001b[49m\u001b[43m(\u001b[49m\u001b[43mshape\u001b[49m\u001b[43m)\u001b[49m\u001b[43m,\u001b[49m\n\u001b[1;32m   2303\u001b[0m \u001b[43m        \u001b[49m\u001b[43mctypes\u001b[49m\u001b[38;5;241;43m.\u001b[39;49m\u001b[43mbyref\u001b[49m\u001b[43m(\u001b[49m\u001b[43mdims\u001b[49m\u001b[43m)\u001b[49m\u001b[43m,\u001b[49m\n\u001b[1;32m   2304\u001b[0m \u001b[43m        \u001b[49m\u001b[43mctypes\u001b[49m\u001b[38;5;241;43m.\u001b[39;49m\u001b[43mbyref\u001b[49m\u001b[43m(\u001b[49m\u001b[43mpreds\u001b[49m\u001b[43m)\u001b[49m\u001b[43m,\u001b[49m\n\u001b[1;32m   2305\u001b[0m \u001b[43m    \u001b[49m\u001b[43m)\u001b[49m\n\u001b[1;32m   2306\u001b[0m \u001b[43m\u001b[49m\u001b[43m)\u001b[49m\n\u001b[1;32m   2307\u001b[0m \u001b[38;5;28;01mreturn\u001b[39;00m _prediction_output(shape, dims, preds, \u001b[38;5;28;01mFalse\u001b[39;00m)\n",
      "File \u001b[0;32m/opt/miniconda3/envs/tylers_env_do_not_touch/lib/python3.9/site-packages/xgboost/core.py:282\u001b[0m, in \u001b[0;36m_check_call\u001b[0;34m(ret)\u001b[0m\n\u001b[1;32m    281\u001b[0m \u001b[38;5;28;01mif\u001b[39;00m ret \u001b[38;5;241m!=\u001b[39m \u001b[38;5;241m0\u001b[39m:\n\u001b[0;32m--> 282\u001b[0m     \u001b[38;5;28;01mraise\u001b[39;00m XGBoostError(py_str(_LIB\u001b[38;5;241m.\u001b[39mXGBGetLastError()))\n",
      "\u001b[0;31mXGBoostError\u001b[0m: [19:56:31] /workspace/src/c_api/../data/../c_api/c_api_utils.h:123: Check failed: std::accumulate(shape.cbegin(), shape.cend(), static_cast<bst_ulong>(1), std::multiplies<>{}) == chunksize * rows (18 vs. 90) : \nStack trace:\n  [bt] (0) /opt/miniconda3/envs/tylers_env_do_not_touch/lib/python3.9/site-packages/xgboost/lib/libxgboost.so(+0x15c2ca) [0x7fc3ccf5c2ca]\n  [bt] (1) /opt/miniconda3/envs/tylers_env_do_not_touch/lib/python3.9/site-packages/xgboost/lib/libxgboost.so(+0x18ca1f) [0x7fc3ccf8ca1f]\n  [bt] (2) /opt/miniconda3/envs/tylers_env_do_not_touch/lib/python3.9/site-packages/xgboost/lib/libxgboost.so(XGBoosterPredictFromDMatrix+0x407) [0x7fc3ccf6d107]\n  [bt] (3) /opt/miniconda3/envs/tylers_env_do_not_touch/lib/python3.9/lib-dynload/../../libffi.so.8(+0xa052) [0x7fc489da6052]\n  [bt] (4) /opt/miniconda3/envs/tylers_env_do_not_touch/lib/python3.9/lib-dynload/../../libffi.so.8(+0x8925) [0x7fc489da4925]\n  [bt] (5) /opt/miniconda3/envs/tylers_env_do_not_touch/lib/python3.9/lib-dynload/../../libffi.so.8(ffi_call+0xde) [0x7fc489da506e]\n  [bt] (6) /opt/miniconda3/envs/tylers_env_do_not_touch/lib/python3.9/lib-dynload/_ctypes.cpython-39-x86_64-linux-gnu.so(+0x91e0) [0x7fc489ae31e0]\n  [bt] (7) /opt/miniconda3/envs/tylers_env_do_not_touch/lib/python3.9/lib-dynload/_ctypes.cpython-39-x86_64-linux-gnu.so(+0x8568) [0x7fc489ae2568]\n  [bt] (8) /opt/miniconda3/envs/tylers_env_do_not_touch/bin/python(_PyObject_MakeTpCall+0x2ec) [0x4f073c]\n\n",
      "\nThe above exception was the direct cause of the following exception:\n",
      "\u001b[0;31mValueError\u001b[0m                                Traceback (most recent call last)",
      "Cell \u001b[0;32mIn[68], line 8\u001b[0m, in \u001b[0;36mon_button_clicked\u001b[0;34m(b)\u001b[0m\n\u001b[1;32m      6\u001b[0m s11_val \u001b[38;5;241m=\u001b[39m s11_input\u001b[38;5;241m.\u001b[39mvalue\n\u001b[1;32m      7\u001b[0m freq_val \u001b[38;5;241m=\u001b[39m freq_input\u001b[38;5;241m.\u001b[39mvalue\n\u001b[0;32m----> 8\u001b[0m \u001b[43mprint_prediction\u001b[49m\u001b[43m(\u001b[49m\u001b[43m)\u001b[49m\n",
      "Cell \u001b[0;32mIn[66], line 27\u001b[0m, in \u001b[0;36mprint_prediction\u001b[0;34m()\u001b[0m\n\u001b[1;32m     25\u001b[0m geos_to_pass \u001b[38;5;241m=\u001b[39m working_geometries\u001b[38;5;241m.\u001b[39mcopy()\n\u001b[1;32m     26\u001b[0m geos_to_pass\u001b[38;5;241m.\u001b[39mdrop(columns\u001b[38;5;241m=\u001b[39m[\u001b[38;5;124m'\u001b[39m\u001b[38;5;124mGeometry Name\u001b[39m\u001b[38;5;124m'\u001b[39m, \u001b[38;5;124m'\u001b[39m\u001b[38;5;124mprediction\u001b[39m\u001b[38;5;124m'\u001b[39m], inplace\u001b[38;5;241m=\u001b[39m\u001b[38;5;28;01mTrue\u001b[39;00m)\n\u001b[0;32m---> 27\u001b[0m \u001b[43mprint_shap\u001b[49m\u001b[43m(\u001b[49m\u001b[43mgeos_to_pass\u001b[49m\u001b[38;5;241;43m.\u001b[39;49m\u001b[43miloc\u001b[49m\u001b[43m[\u001b[49m\u001b[38;5;241;43m0\u001b[39;49m\u001b[43m]\u001b[49m\u001b[43m)\u001b[49m\n",
      "Cell \u001b[0;32mIn[56], line 85\u001b[0m, in \u001b[0;36mprint_shap\u001b[0;34m(dimensions_for_prediction)\u001b[0m\n\u001b[1;32m     83\u001b[0m \u001b[38;5;28;01mdef\u001b[39;00m \u001b[38;5;21mprint_shap\u001b[39m(dimensions_for_prediction):\n\u001b[1;32m     84\u001b[0m     explainer \u001b[38;5;241m=\u001b[39m shap\u001b[38;5;241m.\u001b[39mTreeExplainer(model\u001b[38;5;241m.\u001b[39mnamed_steps[\u001b[38;5;124m'\u001b[39m\u001b[38;5;124mmodel\u001b[39m\u001b[38;5;124m'\u001b[39m])\n\u001b[0;32m---> 85\u001b[0m     shap_values \u001b[38;5;241m=\u001b[39m \u001b[43mexplainer\u001b[49m\u001b[43m(\u001b[49m\u001b[43mdimensions_for_prediction\u001b[49m\u001b[43m)\u001b[49m\n\u001b[1;32m     87\u001b[0m     display(HTML(\u001b[38;5;124m\"\u001b[39m\u001b[38;5;124m<h2>Shap Explanation</h2>\u001b[39m\u001b[38;5;124m\"\u001b[39m))\n\u001b[1;32m     88\u001b[0m     shap\u001b[38;5;241m.\u001b[39mplots\u001b[38;5;241m.\u001b[39mwaterfall(shap_values[\u001b[38;5;241m0\u001b[39m], max_display\u001b[38;5;241m=\u001b[39m\u001b[38;5;241m14\u001b[39m)\n",
      "File \u001b[0;32m/opt/miniconda3/envs/tylers_env_do_not_touch/lib/python3.9/site-packages/shap/explainers/_tree.py:246\u001b[0m, in \u001b[0;36mTreeExplainer.__call__\u001b[0;34m(self, X, y, interactions, check_additivity)\u001b[0m\n\u001b[1;32m    243\u001b[0m     feature_names \u001b[38;5;241m=\u001b[39m \u001b[38;5;28mgetattr\u001b[39m(\u001b[38;5;28mself\u001b[39m, \u001b[38;5;124m\"\u001b[39m\u001b[38;5;124mdata_feature_names\u001b[39m\u001b[38;5;124m\"\u001b[39m, \u001b[38;5;28;01mNone\u001b[39;00m)\n\u001b[1;32m    245\u001b[0m \u001b[38;5;28;01mif\u001b[39;00m \u001b[38;5;129;01mnot\u001b[39;00m interactions:\n\u001b[0;32m--> 246\u001b[0m     v \u001b[38;5;241m=\u001b[39m \u001b[38;5;28;43mself\u001b[39;49m\u001b[38;5;241;43m.\u001b[39;49m\u001b[43mshap_values\u001b[49m\u001b[43m(\u001b[49m\u001b[43mX\u001b[49m\u001b[43m,\u001b[49m\u001b[43m \u001b[49m\u001b[43my\u001b[49m\u001b[38;5;241;43m=\u001b[39;49m\u001b[43my\u001b[49m\u001b[43m,\u001b[49m\u001b[43m \u001b[49m\u001b[43mfrom_call\u001b[49m\u001b[38;5;241;43m=\u001b[39;49m\u001b[38;5;28;43;01mTrue\u001b[39;49;00m\u001b[43m,\u001b[49m\u001b[43m \u001b[49m\u001b[43mcheck_additivity\u001b[49m\u001b[38;5;241;43m=\u001b[39;49m\u001b[43mcheck_additivity\u001b[49m\u001b[43m,\u001b[49m\u001b[43m \u001b[49m\u001b[43mapproximate\u001b[49m\u001b[38;5;241;43m=\u001b[39;49m\u001b[38;5;28;43mself\u001b[39;49m\u001b[38;5;241;43m.\u001b[39;49m\u001b[43mapproximate\u001b[49m\u001b[43m)\u001b[49m\n\u001b[1;32m    247\u001b[0m     \u001b[38;5;28;01mif\u001b[39;00m \u001b[38;5;28misinstance\u001b[39m(v, \u001b[38;5;28mlist\u001b[39m):\n\u001b[1;32m    248\u001b[0m         v \u001b[38;5;241m=\u001b[39m np\u001b[38;5;241m.\u001b[39mstack(v, axis\u001b[38;5;241m=\u001b[39m\u001b[38;5;241m-\u001b[39m\u001b[38;5;241m1\u001b[39m)  \u001b[38;5;66;03m# put outputs at the end\u001b[39;00m\n",
      "File \u001b[0;32m/opt/miniconda3/envs/tylers_env_do_not_touch/lib/python3.9/site-packages/shap/explainers/_tree.py:414\u001b[0m, in \u001b[0;36mTreeExplainer.shap_values\u001b[0;34m(self, X, y, tree_limit, approximate, check_additivity, from_call)\u001b[0m\n\u001b[1;32m    409\u001b[0m \u001b[38;5;28;01mexcept\u001b[39;00m \u001b[38;5;167;01mValueError\u001b[39;00m \u001b[38;5;28;01mas\u001b[39;00m e:\n\u001b[1;32m    410\u001b[0m     emsg \u001b[38;5;241m=\u001b[39m (\n\u001b[1;32m    411\u001b[0m         \u001b[38;5;124m\"\u001b[39m\u001b[38;5;124mThis reshape error is often caused by passing a bad data matrix to SHAP. \u001b[39m\u001b[38;5;124m\"\u001b[39m\n\u001b[1;32m    412\u001b[0m         \u001b[38;5;124m\"\u001b[39m\u001b[38;5;124mSee https://github.com/shap/shap/issues/580.\u001b[39m\u001b[38;5;124m\"\u001b[39m\n\u001b[1;32m    413\u001b[0m     )\n\u001b[0;32m--> 414\u001b[0m     \u001b[38;5;28;01mraise\u001b[39;00m \u001b[38;5;167;01mValueError\u001b[39;00m(emsg) \u001b[38;5;28;01mfrom\u001b[39;00m \u001b[38;5;21;01me\u001b[39;00m\n\u001b[1;32m    416\u001b[0m \u001b[38;5;28;01mif\u001b[39;00m check_additivity \u001b[38;5;129;01mand\u001b[39;00m \u001b[38;5;28mself\u001b[39m\u001b[38;5;241m.\u001b[39mmodel\u001b[38;5;241m.\u001b[39mmodel_output \u001b[38;5;241m==\u001b[39m \u001b[38;5;124m\"\u001b[39m\u001b[38;5;124mraw\u001b[39m\u001b[38;5;124m\"\u001b[39m:\n\u001b[1;32m    417\u001b[0m     xgb_tree_limit \u001b[38;5;241m=\u001b[39m tree_limit \u001b[38;5;241m/\u001b[39m\u001b[38;5;241m/\u001b[39m \u001b[38;5;28mself\u001b[39m\u001b[38;5;241m.\u001b[39mmodel\u001b[38;5;241m.\u001b[39mnum_stacked_models\n",
      "\u001b[0;31mValueError\u001b[0m: This reshape error is often caused by passing a bad data matrix to SHAP. See https://github.com/shap/shap/issues/580."
     ]
    },
    {
     "data": {
      "image/png": "[encoded data removed]",
      "text/plain": [
       "<Figure size 600x400 with 1 Axes>"
      ]
     },
     "metadata": {},
     "output_type": "display_data"
    },
    {
     "name": "stdout",
     "output_type": "stream",
     "text": [
      "filtering by s11\n"
     ]
    },
    {
     "data": {
      "application/vnd.plotly.v1+json": {
       "config": {
        "plotlyServerURL": "https://plot.ly"
       },
       "data": [
        {
         "hovertemplate": "Geometry Name=331365<br>Freq [GHz]=%{x}<br>prediction=%{y}<extra></extra>",
         "legendgroup": "331365",
         "line": {
          "color": "#636efa",
          "dash": "solid"
         },
         "marker": {
          "symbol": "circle"
         },
         "mode": "lines",
         "name": "331365",
         "orientation": "v",
         "showlegend": true,
         "type": "scatter",
         "x": [
          11,
          11.09,
          11.18,
          11.27,
          11.36,
          11.45,
          11.54,
          11.63,
          11.72,
          11.81,
          11.9,
          11.99,
          12.08,
          12.17,
          12.26,
          12.35,
          12.44,
          12.53,
          12.62,
          12.71,
          12.8,
          12.89,
          12.98,
          13.07,
          13.16,
          13.25,
          13.34,
          13.43,
          13.52,
          13.61,
          13.7,
          13.79,
          13.88,
          13.97,
          14.06,
          14.15,
          14.24,
          14.33,
          14.42,
          14.51,
          14.6,
          14.69,
          14.78,
          14.87,
          14.96,
          15.05,
          15.14,
          15.23,
          15.32,
          15.41,
          15.5,
          15.59,
          15.68,
          15.77,
          15.86,
          15.95,
          16.04,
          16.13,
          16.22,
          16.31,
          16.4,
          16.49,
          16.58,
          16.67,
          16.76,
          16.85,
          16.94,
          17.03,
          17.12,
          17.21,
          17.3,
          17.39,
          17.48,
          17.57,
          17.66,
          17.75,
          17.84,
          17.93,
          18.02,
          18.11,
          18.2,
          18.29,
          18.38,
          18.47,
          18.56,
          18.65,
          18.74,
          18.83,
          18.92,
          19.01,
          19.1,
          19.19,
          19.28,
          19.37,
          19.46,
          19.55,
          19.64,
          19.73,
          19.82,
          19.91,
          20
         ],
         "xaxis": "x",
         "y": [
          -4.630493640899658,
          -5.637517929077148,
          -6.190408229827881,
          -6.8569416999816895,
          -8.312029838562012,
          -8.723160743713379,
          -8.889920234680176,
          -9.946569442749023,
          -11.029511451721191,
          -10.608827590942383,
          -11.723767280578613,
          -11.394735336303711,
          -14.332202911376953,
          -22.398292541503906,
          -22.668548583984375,
          -28.39575958251953,
          -23.03306007385254,
          -24.058021545410156,
          -20.262460708618164,
          -12.415048599243164,
          -11.870838165283203,
          -11.703584671020508,
          -7.700440883636475,
          -7.602220058441162,
          -8.784806251525879,
          -9.049720764160156,
          -10.404887199401855,
          -12.22652816772461,
          -11.29047966003418,
          -11.633870124816895,
          -13.864270210266113,
          -11.60560417175293,
          -11.332111358642578,
          -12.27782154083252,
          -13.43321704864502,
          -13.516007423400879,
          -13.784775733947754,
          -13.752283096313477,
          -13.546253204345703,
          -14.136734008789062,
          -15.452624320983887,
          -17.296035766601562,
          -16.71162223815918,
          -16.81076431274414,
          -17.31447410583496,
          -18.383087158203125,
          -20.394092559814453,
          -22.46969985961914,
          -21.26022720336914,
          -22.616809844970703,
          -22.064743041992188,
          -17.10614776611328,
          -13.77368450164795,
          -13.518205642700195,
          -13.237642288208008,
          -17.27107048034668,
          -16.256155014038086,
          -16.990510940551758,
          -16.47878646850586,
          -17.277284622192383,
          -13.527278900146484,
          -12.2841215133667,
          -11.904754638671875,
          -12.95583724975586,
          -16.881046295166016,
          -21.436025619506836,
          -24.90215301513672,
          -31.333576202392578,
          -36.422645568847656,
          -27.866731643676758,
          -31.1207332611084,
          -16.57588005065918,
          -15.242464065551758,
          -20.271602630615234,
          -14.888542175292969,
          -21.183441162109375,
          -26.19862174987793,
          -6.835632801055908,
          -2.5215585231781006,
          -1.3426556587219238,
          -5.592200756072998,
          -11.022164344787598,
          -10.141971588134766,
          -8.175466537475586,
          -19.850540161132812,
          -12.379846572875977,
          -10.623805046081543,
          -13.3041353225708,
          -7.771821022033691,
          -1.0705926418304443,
          -1.1647677421569824,
          -4.441656112670898,
          -6.499649524688721,
          -13.487408638000488,
          -13.08189582824707,
          -7.655375003814697,
          -5.050998687744141,
          -4.6386189460754395,
          -8.092164039611816,
          -9.197497367858887,
          -1.8684134483337402
         ],
         "yaxis": "y"
        }
       ],
       "layout": {
        "legend": {
         "title": {
          "text": "Geometry Name"
         },
         "tracegroupgap": 0
        },
        "shapes": [
         {
          "line": {
           "color": "blue",
           "dash": "dash"
          },
          "type": "line",
          "x0": 0,
          "x1": 1,
          "xref": "x domain",
          "y0": -22,
          "y1": -22,
          "yref": "y"
         },
         {
          "line": {
           "color": "green",
           "dash": "dash"
          },
          "type": "line",
          "x0": 12.09,
          "x1": 12.09,
          "xref": "x",
          "y0": 0,
          "y1": 1,
          "yref": "y domain"
         },
         {
          "line": {
           "color": "green",
           "dash": "dash"
          },
          "type": "line",
          "x0": 12.6,
          "x1": 12.6,
          "xref": "x",
          "y0": 0,
          "y1": 1,
          "yref": "y domain"
         }
        ],
        "template": {
         "data": {
          "bar": [
           {
            "error_x": {
             "color": "#2a3f5f"
            },
            "error_y": {
             "color": "#2a3f5f"
            },
            "marker": {
             "line": {
              "color": "#E5ECF6",
              "width": 0.5
             },
             "pattern": {
              "fillmode": "overlay",
              "size": 10,
              "solidity": 0.2
             }
            },
            "type": "bar"
           }
          ],
          "barpolar": [
           {
            "marker": {
             "line": {
              "color": "#E5ECF6",
              "width": 0.5
             },
             "pattern": {
              "fillmode": "overlay",
              "size": 10,
              "solidity": 0.2
             }
            },
            "type": "barpolar"
           }
          ],
          "carpet": [
           {
            "aaxis": {
             "endlinecolor": "#2a3f5f",
             "gridcolor": "white",
             "linecolor": "white",
             "minorgridcolor": "white",
             "startlinecolor": "#2a3f5f"
            },
            "baxis": {
             "endlinecolor": "#2a3f5f",
             "gridcolor": "white",
             "linecolor": "white",
             "minorgridcolor": "white",
             "startlinecolor": "#2a3f5f"
            },
            "type": "carpet"
           }
          ],
          "choropleth": [
           {
            "colorbar": {
             "outlinewidth": 0,
             "ticks": ""
            },
            "type": "choropleth"
           }
          ],
          "contour": [
           {
            "colorbar": {
             "outlinewidth": 0,
             "ticks": ""
            },
            "colorscale": [
             [
              0,
              "#0d0887"
             ],
             [
              0.1111111111111111,
              "#46039f"
             ],
             [
              0.2222222222222222,
              "#7201a8"
             ],
             [
              0.3333333333333333,
              "#9c179e"
             ],
             [
              0.4444444444444444,
              "#bd3786"
             ],
             [
              0.5555555555555556,
              "#d8576b"
             ],
             [
              0.6666666666666666,
              "#ed7953"
             ],
             [
              0.7777777777777778,
              "#fb9f3a"
             ],
             [
              0.8888888888888888,
              "#fdca26"
             ],
             [
              1,
              "#f0f921"
             ]
            ],
            "type": "contour"
           }
          ],
          "contourcarpet": [
           {
            "colorbar": {
             "outlinewidth": 0,
             "ticks": ""
            },
            "type": "contourcarpet"
           }
          ],
          "heatmap": [
           {
            "colorbar": {
             "outlinewidth": 0,
             "ticks": ""
            },
            "colorscale": [
             [
              0,
              "#0d0887"
             ],
             [
              0.1111111111111111,
              "#46039f"
             ],
             [
              0.2222222222222222,
              "#7201a8"
             ],
             [
              0.3333333333333333,
              "#9c179e"
             ],
             [
              0.4444444444444444,
              "#bd3786"
             ],
             [
              0.5555555555555556,
              "#d8576b"
             ],
             [
              0.6666666666666666,
              "#ed7953"
             ],
             [
              0.7777777777777778,
              "#fb9f3a"
             ],
             [
              0.8888888888888888,
              "#fdca26"
             ],
             [
              1,
              "#f0f921"
             ]
            ],
            "type": "heatmap"
           }
          ],
          "heatmapgl": [
           {
            "colorbar": {
             "outlinewidth": 0,
             "ticks": ""
            },
            "colorscale": [
             [
              0,
              "#0d0887"
             ],
             [
              0.1111111111111111,
              "#46039f"
             ],
             [
              0.2222222222222222,
              "#7201a8"
             ],
             [
              0.3333333333333333,
              "#9c179e"
             ],
             [
              0.4444444444444444,
              "#bd3786"
             ],
             [
              0.5555555555555556,
              "#d8576b"
             ],
             [
              0.6666666666666666,
              "#ed7953"
             ],
             [
              0.7777777777777778,
              "#fb9f3a"
             ],
             [
              0.8888888888888888,
              "#fdca26"
             ],
             [
              1,
              "#f0f921"
             ]
            ],
            "type": "heatmapgl"
           }
          ],
          "histogram": [
           {
            "marker": {
             "pattern": {
              "fillmode": "overlay",
              "size": 10,
              "solidity": 0.2
             }
            },
            "type": "histogram"
           }
          ],
          "histogram2d": [
           {
            "colorbar": {
             "outlinewidth": 0,
             "ticks": ""
            },
            "colorscale": [
             [
              0,
              "#0d0887"
             ],
             [
              0.1111111111111111,
              "#46039f"
             ],
             [
              0.2222222222222222,
              "#7201a8"
             ],
             [
              0.3333333333333333,
              "#9c179e"
             ],
             [
              0.4444444444444444,
              "#bd3786"
             ],
             [
              0.5555555555555556,
              "#d8576b"
             ],
             [
              0.6666666666666666,
              "#ed7953"
             ],
             [
              0.7777777777777778,
              "#fb9f3a"
             ],
             [
              0.8888888888888888,
              "#fdca26"
             ],
             [
              1,
              "#f0f921"
             ]
            ],
            "type": "histogram2d"
           }
          ],
          "histogram2dcontour": [
           {
            "colorbar": {
             "outlinewidth": 0,
             "ticks": ""
            },
            "colorscale": [
             [
              0,
              "#0d0887"
             ],
             [
              0.1111111111111111,
              "#46039f"
             ],
             [
              0.2222222222222222,
              "#7201a8"
             ],
             [
              0.3333333333333333,
              "#9c179e"
             ],
             [
              0.4444444444444444,
              "#bd3786"
             ],
             [
              0.5555555555555556,
              "#d8576b"
             ],
             [
              0.6666666666666666,
              "#ed7953"
             ],
             [
              0.7777777777777778,
              "#fb9f3a"
             ],
             [
              0.8888888888888888,
              "#fdca26"
             ],
             [
              1,
              "#f0f921"
             ]
            ],
            "type": "histogram2dcontour"
           }
          ],
          "mesh3d": [
           {
            "colorbar": {
             "outlinewidth": 0,
             "ticks": ""
            },
            "type": "mesh3d"
           }
          ],
          "parcoords": [
           {
            "line": {
             "colorbar": {
              "outlinewidth": 0,
              "ticks": ""
             }
            },
            "type": "parcoords"
           }
          ],
          "pie": [
           {
            "automargin": true,
            "type": "pie"
           }
          ],
          "scatter": [
           {
            "fillpattern": {
             "fillmode": "overlay",
             "size": 10,
             "solidity": 0.2
            },
            "type": "scatter"
           }
          ],
          "scatter3d": [
           {
            "line": {
             "colorbar": {
              "outlinewidth": 0,
              "ticks": ""
             }
            },
            "marker": {
             "colorbar": {
              "outlinewidth": 0,
              "ticks": ""
             }
            },
            "type": "scatter3d"
           }
          ],
          "scattercarpet": [
           {
            "marker": {
             "colorbar": {
              "outlinewidth": 0,
              "ticks": ""
             }
            },
            "type": "scattercarpet"
           }
          ],
          "scattergeo": [
           {
            "marker": {
             "colorbar": {
              "outlinewidth": 0,
              "ticks": ""
             }
            },
            "type": "scattergeo"
           }
          ],
          "scattergl": [
           {
            "marker": {
             "colorbar": {
              "outlinewidth": 0,
              "ticks": ""
             }
            },
            "type": "scattergl"
           }
          ],
          "scattermapbox": [
           {
            "marker": {
             "colorbar": {
              "outlinewidth": 0,
              "ticks": ""
             }
            },
            "type": "scattermapbox"
           }
          ],
          "scatterpolar": [
           {
            "marker": {
             "colorbar": {
              "outlinewidth": 0,
              "ticks": ""
             }
            },
            "type": "scatterpolar"
           }
          ],
          "scatterpolargl": [
           {
            "marker": {
             "colorbar": {
              "outlinewidth": 0,
              "ticks": ""
             }
            },
            "type": "scatterpolargl"
           }
          ],
          "scatterternary": [
           {
            "marker": {
             "colorbar": {
              "outlinewidth": 0,
              "ticks": ""
             }
            },
            "type": "scatterternary"
           }
          ],
          "surface": [
           {
            "colorbar": {
             "outlinewidth": 0,
             "ticks": ""
            },
            "colorscale": [
             [
              0,
              "#0d0887"
             ],
             [
              0.1111111111111111,
              "#46039f"
             ],
             [
              0.2222222222222222,
              "#7201a8"
             ],
             [
              0.3333333333333333,
              "#9c179e"
             ],
             [
              0.4444444444444444,
              "#bd3786"
             ],
             [
              0.5555555555555556,
              "#d8576b"
             ],
             [
              0.6666666666666666,
              "#ed7953"
             ],
             [
              0.7777777777777778,
              "#fb9f3a"
             ],
             [
              0.8888888888888888,
              "#fdca26"
             ],
             [
              1,
              "#f0f921"
             ]
            ],
            "type": "surface"
           }
          ],
          "table": [
           {
            "cells": {
             "fill": {
              "color": "#EBF0F8"
             },
             "line": {
              "color": "white"
             }
            },
            "header": {
             "fill": {
              "color": "#C8D4E3"
             },
             "line": {
              "color": "white"
             }
            },
            "type": "table"
           }
          ]
         },
         "layout": {
          "annotationdefaults": {
           "arrowcolor": "#2a3f5f",
           "arrowhead": 0,
           "arrowwidth": 1
          },
          "autotypenumbers": "strict",
          "coloraxis": {
           "colorbar": {
            "outlinewidth": 0,
            "ticks": ""
           }
          },
          "colorscale": {
           "diverging": [
            [
             0,
             "#8e0152"
            ],
            [
             0.1,
             "#c51b7d"
            ],
            [
             0.2,
             "#de77ae"
            ],
            [
             0.3,
             "#f1b6da"
            ],
            [
             0.4,
             "#fde0ef"
            ],
            [
             0.5,
             "#f7f7f7"
            ],
            [
             0.6,
             "#e6f5d0"
            ],
            [
             0.7,
             "#b8e186"
            ],
            [
             0.8,
             "#7fbc41"
            ],
            [
             0.9,
             "#4d9221"
            ],
            [
             1,
             "#276419"
            ]
           ],
           "sequential": [
            [
             0,
             "#0d0887"
            ],
            [
             0.1111111111111111,
             "#46039f"
            ],
            [
             0.2222222222222222,
             "#7201a8"
            ],
            [
             0.3333333333333333,
             "#9c179e"
            ],
            [
             0.4444444444444444,
             "#bd3786"
            ],
            [
             0.5555555555555556,
             "#d8576b"
            ],
            [
             0.6666666666666666,
             "#ed7953"
            ],
            [
             0.7777777777777778,
             "#fb9f3a"
            ],
            [
             0.8888888888888888,
             "#fdca26"
            ],
            [
             1,
             "#f0f921"
            ]
           ],
           "sequentialminus": [
            [
             0,
             "#0d0887"
            ],
            [
             0.1111111111111111,
             "#46039f"
            ],
            [
             0.2222222222222222,
             "#7201a8"
            ],
            [
             0.3333333333333333,
             "#9c179e"
            ],
            [
             0.4444444444444444,
             "#bd3786"
            ],
            [
             0.5555555555555556,
             "#d8576b"
            ],
            [
             0.6666666666666666,
             "#ed7953"
            ],
            [
             0.7777777777777778,
             "#fb9f3a"
            ],
            [
             0.8888888888888888,
             "#fdca26"
            ],
            [
             1,
             "#f0f921"
            ]
           ]
          },
          "colorway": [
           "#636efa",
           "#EF553B",
           "#00cc96",
           "#ab63fa",
           "#FFA15A",
           "#19d3f3",
           "#FF6692",
           "#B6E880",
           "#FF97FF",
           "#FECB52"
          ],
          "font": {
           "color": "#2a3f5f"
          },
          "geo": {
           "bgcolor": "white",
           "lakecolor": "white",
           "landcolor": "#E5ECF6",
           "showlakes": true,
           "showland": true,
           "subunitcolor": "white"
          },
          "hoverlabel": {
           "align": "left"
          },
          "hovermode": "closest",
          "mapbox": {
           "style": "light"
          },
          "paper_bgcolor": "white",
          "plot_bgcolor": "#E5ECF6",
          "polar": {
           "angularaxis": {
            "gridcolor": "white",
            "linecolor": "white",
            "ticks": ""
           },
           "bgcolor": "#E5ECF6",
           "radialaxis": {
            "gridcolor": "white",
            "linecolor": "white",
            "ticks": ""
           }
          },
          "scene": {
           "xaxis": {
            "backgroundcolor": "#E5ECF6",
            "gridcolor": "white",
            "gridwidth": 2,
            "linecolor": "white",
            "showbackground": true,
            "ticks": "",
            "zerolinecolor": "white"
           },
           "yaxis": {
            "backgroundcolor": "#E5ECF6",
            "gridcolor": "white",
            "gridwidth": 2,
            "linecolor": "white",
            "showbackground": true,
            "ticks": "",
            "zerolinecolor": "white"
           },
           "zaxis": {
            "backgroundcolor": "#E5ECF6",
            "gridcolor": "white",
            "gridwidth": 2,
            "linecolor": "white",
            "showbackground": true,
            "ticks": "",
            "zerolinecolor": "white"
           }
          },
          "shapedefaults": {
           "line": {
            "color": "#2a3f5f"
           }
          },
          "ternary": {
           "aaxis": {
            "gridcolor": "white",
            "linecolor": "white",
            "ticks": ""
           },
           "baxis": {
            "gridcolor": "white",
            "linecolor": "white",
            "ticks": ""
           },
           "bgcolor": "#E5ECF6",
           "caxis": {
            "gridcolor": "white",
            "linecolor": "white",
            "ticks": ""
           }
          },
          "title": {
           "x": 0.05
          },
          "xaxis": {
           "automargin": true,
           "gridcolor": "white",
           "linecolor": "white",
           "ticks": "",
           "title": {
            "standoff": 15
           },
           "zerolinecolor": "white",
           "zerolinewidth": 2
          },
          "yaxis": {
           "automargin": true,
           "gridcolor": "white",
           "linecolor": "white",
           "ticks": "",
           "title": {
            "standoff": 15
           },
           "zerolinecolor": "white",
           "zerolinewidth": 2
          }
         }
        },
        "title": {
         "text": "Performance vs Frequency for Geometries"
        },
        "xaxis": {
         "anchor": "y",
         "domain": [
          0,
          1
         ],
         "title": {
          "text": "Freq [GHz]"
         }
        },
        "yaxis": {
         "anchor": "x",
         "domain": [
          0,
          1
         ],
         "title": {
          "text": "prediction"
         }
        }
       }
      },
      "text/html": [
       "<div>                            <div id=\"c396d3c5-84d3-4c3f-a972-fff0128c52bc\" class=\"plotly-graph-div\" style=\"height:525px; width:100%;\"></div>            <script type=\"text/javascript\">                require([\"plotly\"], function(Plotly) {                    window.PLOTLYENV=window.PLOTLYENV || {};                                    if (document.getElementById(\"c396d3c5-84d3-4c3f-a972-fff0128c52bc\")) {                    Plotly.newPlot(                        \"c396d3c5-84d3-4c3f-a972-fff0128c52bc\",                        [{\"hovertemplate\":\"Geometry Name=331365\\u003cbr\\u003eFreq [GHz]=%{x}\\u003cbr\\u003eprediction=%{y}\\u003cextra\\u003e\\u003c\\u002fextra\\u003e\",\"legendgroup\":\"331365\",\"line\":{\"color\":\"#636efa\",\"dash\":\"solid\"},\"marker\":{\"symbol\":\"circle\"},\"mode\":\"lines\",\"name\":\"331365\",\"orientation\":\"v\",\"showlegend\":true,\"x\":[11.0,11.09,11.18,11.27,11.36,11.45,11.54,11.63,11.72,11.81,11.9,11.99,12.08,12.17,12.26,12.35,12.44,12.53,12.62,12.71,12.8,12.89,12.98,13.07,13.16,13.25,13.34,13.43,13.52,13.61,13.7,13.79,13.88,13.97,14.06,14.15,14.24,14.33,14.42,14.51,14.6,14.69,14.78,14.87,14.96,15.05,15.14,15.23,15.32,15.41,15.5,15.59,15.68,15.77,15.86,15.95,16.04,16.13,16.22,16.31,16.4,16.49,16.58,16.67,16.76,16.85,16.94,17.03,17.12,17.21,17.3,17.39,17.48,17.57,17.66,17.75,17.84,17.93,18.02,18.11,18.2,18.29,18.38,18.47,18.56,18.65,18.74,18.83,18.92,19.01,19.1,19.19,19.28,19.37,19.46,19.55,19.64,19.73,19.82,19.91,20.0],\"xaxis\":\"x\",\"y\":[-4.630493640899658,-5.637517929077148,-6.190408229827881,-6.8569416999816895,-8.312029838562012,-8.723160743713379,-8.889920234680176,-9.946569442749023,-11.029511451721191,-10.608827590942383,-11.723767280578613,-11.394735336303711,-14.332202911376953,-22.398292541503906,-22.668548583984375,-28.39575958251953,-23.03306007385254,-24.058021545410156,-20.262460708618164,-12.415048599243164,-11.870838165283203,-11.703584671020508,-7.700440883636475,-7.602220058441162,-8.784806251525879,-9.049720764160156,-10.404887199401855,-12.22652816772461,-11.29047966003418,-11.633870124816895,-13.864270210266113,-11.60560417175293,-11.332111358642578,-12.27782154083252,-13.43321704864502,-13.516007423400879,-13.784775733947754,-13.752283096313477,-13.546253204345703,-14.136734008789062,-15.452624320983887,-17.296035766601562,-16.71162223815918,-16.81076431274414,-17.31447410583496,-18.383087158203125,-20.394092559814453,-22.46969985961914,-21.26022720336914,-22.616809844970703,-22.064743041992188,-17.10614776611328,-13.77368450164795,-13.518205642700195,-13.237642288208008,-17.27107048034668,-16.256155014038086,-16.990510940551758,-16.47878646850586,-17.277284622192383,-13.527278900146484,-12.2841215133667,-11.904754638671875,-12.95583724975586,-16.881046295166016,-21.436025619506836,-24.90215301513672,-31.333576202392578,-36.422645568847656,-27.866731643676758,-31.1207332611084,-16.57588005065918,-15.242464065551758,-20.271602630615234,-14.888542175292969,-21.183441162109375,-26.19862174987793,-6.835632801055908,-2.5215585231781006,-1.3426556587219238,-5.592200756072998,-11.022164344787598,-10.141971588134766,-8.175466537475586,-19.850540161132812,-12.379846572875977,-10.623805046081543,-13.3041353225708,-7.771821022033691,-1.0705926418304443,-1.1647677421569824,-4.441656112670898,-6.499649524688721,-13.487408638000488,-13.08189582824707,-7.655375003814697,-5.050998687744141,-4.6386189460754395,-8.092164039611816,-9.197497367858887,-1.8684134483337402],\"yaxis\":\"y\",\"type\":\"scatter\"}],                        {\"template\":{\"data\":{\"histogram2dcontour\":[{\"type\":\"histogram2dcontour\",\"colorbar\":{\"outlinewidth\":0,\"ticks\":\"\"},\"colorscale\":[[0.0,\"#0d0887\"],[0.1111111111111111,\"#46039f\"],[0.2222222222222222,\"#7201a8\"],[0.3333333333333333,\"#9c179e\"],[0.4444444444444444,\"#bd3786\"],[0.5555555555555556,\"#d8576b\"],[0.6666666666666666,\"#ed7953\"],[0.7777777777777778,\"#fb9f3a\"],[0.8888888888888888,\"#fdca26\"],[1.0,\"#f0f921\"]]}],\"choropleth\":[{\"type\":\"choropleth\",\"colorbar\":{\"outlinewidth\":0,\"ticks\":\"\"}}],\"histogram2d\":[{\"type\":\"histogram2d\",\"colorbar\":{\"outlinewidth\":0,\"ticks\":\"\"},\"colorscale\":[[0.0,\"#0d0887\"],[0.1111111111111111,\"#46039f\"],[0.2222222222222222,\"#7201a8\"],[0.3333333333333333,\"#9c179e\"],[0.4444444444444444,\"#bd3786\"],[0.5555555555555556,\"#d8576b\"],[0.6666666666666666,\"#ed7953\"],[0.7777777777777778,\"#fb9f3a\"],[0.8888888888888888,\"#fdca26\"],[1.0,\"#f0f921\"]]}],\"heatmap\":[{\"type\":\"heatmap\",\"colorbar\":{\"outlinewidth\":0,\"ticks\":\"\"},\"colorscale\":[[0.0,\"#0d0887\"],[0.1111111111111111,\"#46039f\"],[0.2222222222222222,\"#7201a8\"],[0.3333333333333333,\"#9c179e\"],[0.4444444444444444,\"#bd3786\"],[0.5555555555555556,\"#d8576b\"],[0.6666666666666666,\"#ed7953\"],[0.7777777777777778,\"#fb9f3a\"],[0.8888888888888888,\"#fdca26\"],[1.0,\"#f0f921\"]]}],\"heatmapgl\":[{\"type\":\"heatmapgl\",\"colorbar\":{\"outlinewidth\":0,\"ticks\":\"\"},\"colorscale\":[[0.0,\"#0d0887\"],[0.1111111111111111,\"#46039f\"],[0.2222222222222222,\"#7201a8\"],[0.3333333333333333,\"#9c179e\"],[0.4444444444444444,\"#bd3786\"],[0.5555555555555556,\"#d8576b\"],[0.6666666666666666,\"#ed7953\"],[0.7777777777777778,\"#fb9f3a\"],[0.8888888888888888,\"#fdca26\"],[1.0,\"#f0f921\"]]}],\"contourcarpet\":[{\"type\":\"contourcarpet\",\"colorbar\":{\"outlinewidth\":0,\"ticks\":\"\"}}],\"contour\":[{\"type\":\"contour\",\"colorbar\":{\"outlinewidth\":0,\"ticks\":\"\"},\"colorscale\":[[0.0,\"#0d0887\"],[0.1111111111111111,\"#46039f\"],[0.2222222222222222,\"#7201a8\"],[0.3333333333333333,\"#9c179e\"],[0.4444444444444444,\"#bd3786\"],[0.5555555555555556,\"#d8576b\"],[0.6666666666666666,\"#ed7953\"],[0.7777777777777778,\"#fb9f3a\"],[0.8888888888888888,\"#fdca26\"],[1.0,\"#f0f921\"]]}],\"surface\":[{\"type\":\"surface\",\"colorbar\":{\"outlinewidth\":0,\"ticks\":\"\"},\"colorscale\":[[0.0,\"#0d0887\"],[0.1111111111111111,\"#46039f\"],[0.2222222222222222,\"#7201a8\"],[0.3333333333333333,\"#9c179e\"],[0.4444444444444444,\"#bd3786\"],[0.5555555555555556,\"#d8576b\"],[0.6666666666666666,\"#ed7953\"],[0.7777777777777778,\"#fb9f3a\"],[0.8888888888888888,\"#fdca26\"],[1.0,\"#f0f921\"]]}],\"mesh3d\":[{\"type\":\"mesh3d\",\"colorbar\":{\"outlinewidth\":0,\"ticks\":\"\"}}],\"scatter\":[{\"fillpattern\":{\"fillmode\":\"overlay\",\"size\":10,\"solidity\":0.2},\"type\":\"scatter\"}],\"parcoords\":[{\"type\":\"parcoords\",\"line\":{\"colorbar\":{\"outlinewidth\":0,\"ticks\":\"\"}}}],\"scatterpolargl\":[{\"type\":\"scatterpolargl\",\"marker\":{\"colorbar\":{\"outlinewidth\":0,\"ticks\":\"\"}}}],\"bar\":[{\"error_x\":{\"color\":\"#2a3f5f\"},\"error_y\":{\"color\":\"#2a3f5f\"},\"marker\":{\"line\":{\"color\":\"#E5ECF6\",\"width\":0.5},\"pattern\":{\"fillmode\":\"overlay\",\"size\":10,\"solidity\":0.2}},\"type\":\"bar\"}],\"scattergeo\":[{\"type\":\"scattergeo\",\"marker\":{\"colorbar\":{\"outlinewidth\":0,\"ticks\":\"\"}}}],\"scatterpolar\":[{\"type\":\"scatterpolar\",\"marker\":{\"colorbar\":{\"outlinewidth\":0,\"ticks\":\"\"}}}],\"histogram\":[{\"marker\":{\"pattern\":{\"fillmode\":\"overlay\",\"size\":10,\"solidity\":0.2}},\"type\":\"histogram\"}],\"scattergl\":[{\"type\":\"scattergl\",\"marker\":{\"colorbar\":{\"outlinewidth\":0,\"ticks\":\"\"}}}],\"scatter3d\":[{\"type\":\"scatter3d\",\"line\":{\"colorbar\":{\"outlinewidth\":0,\"ticks\":\"\"}},\"marker\":{\"colorbar\":{\"outlinewidth\":0,\"ticks\":\"\"}}}],\"scattermapbox\":[{\"type\":\"scattermapbox\",\"marker\":{\"colorbar\":{\"outlinewidth\":0,\"ticks\":\"\"}}}],\"scatterternary\":[{\"type\":\"scatterternary\",\"marker\":{\"colorbar\":{\"outlinewidth\":0,\"ticks\":\"\"}}}],\"scattercarpet\":[{\"type\":\"scattercarpet\",\"marker\":{\"colorbar\":{\"outlinewidth\":0,\"ticks\":\"\"}}}],\"carpet\":[{\"aaxis\":{\"endlinecolor\":\"#2a3f5f\",\"gridcolor\":\"white\",\"linecolor\":\"white\",\"minorgridcolor\":\"white\",\"startlinecolor\":\"#2a3f5f\"},\"baxis\":{\"endlinecolor\":\"#2a3f5f\",\"gridcolor\":\"white\",\"linecolor\":\"white\",\"minorgridcolor\":\"white\",\"startlinecolor\":\"#2a3f5f\"},\"type\":\"carpet\"}],\"table\":[{\"cells\":{\"fill\":{\"color\":\"#EBF0F8\"},\"line\":{\"color\":\"white\"}},\"header\":{\"fill\":{\"color\":\"#C8D4E3\"},\"line\":{\"color\":\"white\"}},\"type\":\"table\"}],\"barpolar\":[{\"marker\":{\"line\":{\"color\":\"#E5ECF6\",\"width\":0.5},\"pattern\":{\"fillmode\":\"overlay\",\"size\":10,\"solidity\":0.2}},\"type\":\"barpolar\"}],\"pie\":[{\"automargin\":true,\"type\":\"pie\"}]},\"layout\":{\"autotypenumbers\":\"strict\",\"colorway\":[\"#636efa\",\"#EF553B\",\"#00cc96\",\"#ab63fa\",\"#FFA15A\",\"#19d3f3\",\"#FF6692\",\"#B6E880\",\"#FF97FF\",\"#FECB52\"],\"font\":{\"color\":\"#2a3f5f\"},\"hovermode\":\"closest\",\"hoverlabel\":{\"align\":\"left\"},\"paper_bgcolor\":\"white\",\"plot_bgcolor\":\"#E5ECF6\",\"polar\":{\"bgcolor\":\"#E5ECF6\",\"angularaxis\":{\"gridcolor\":\"white\",\"linecolor\":\"white\",\"ticks\":\"\"},\"radialaxis\":{\"gridcolor\":\"white\",\"linecolor\":\"white\",\"ticks\":\"\"}},\"ternary\":{\"bgcolor\":\"#E5ECF6\",\"aaxis\":{\"gridcolor\":\"white\",\"linecolor\":\"white\",\"ticks\":\"\"},\"baxis\":{\"gridcolor\":\"white\",\"linecolor\":\"white\",\"ticks\":\"\"},\"caxis\":{\"gridcolor\":\"white\",\"linecolor\":\"white\",\"ticks\":\"\"}},\"coloraxis\":{\"colorbar\":{\"outlinewidth\":0,\"ticks\":\"\"}},\"colorscale\":{\"sequential\":[[0.0,\"#0d0887\"],[0.1111111111111111,\"#46039f\"],[0.2222222222222222,\"#7201a8\"],[0.3333333333333333,\"#9c179e\"],[0.4444444444444444,\"#bd3786\"],[0.5555555555555556,\"#d8576b\"],[0.6666666666666666,\"#ed7953\"],[0.7777777777777778,\"#fb9f3a\"],[0.8888888888888888,\"#fdca26\"],[1.0,\"#f0f921\"]],\"sequentialminus\":[[0.0,\"#0d0887\"],[0.1111111111111111,\"#46039f\"],[0.2222222222222222,\"#7201a8\"],[0.3333333333333333,\"#9c179e\"],[0.4444444444444444,\"#bd3786\"],[0.5555555555555556,\"#d8576b\"],[0.6666666666666666,\"#ed7953\"],[0.7777777777777778,\"#fb9f3a\"],[0.8888888888888888,\"#fdca26\"],[1.0,\"#f0f921\"]],\"diverging\":[[0,\"#8e0152\"],[0.1,\"#c51b7d\"],[0.2,\"#de77ae\"],[0.3,\"#f1b6da\"],[0.4,\"#fde0ef\"],[0.5,\"#f7f7f7\"],[0.6,\"#e6f5d0\"],[0.7,\"#b8e186\"],[0.8,\"#7fbc41\"],[0.9,\"#4d9221\"],[1,\"#276419\"]]},\"xaxis\":{\"gridcolor\":\"white\",\"linecolor\":\"white\",\"ticks\":\"\",\"title\":{\"standoff\":15},\"zerolinecolor\":\"white\",\"automargin\":true,\"zerolinewidth\":2},\"yaxis\":{\"gridcolor\":\"white\",\"linecolor\":\"white\",\"ticks\":\"\",\"title\":{\"standoff\":15},\"zerolinecolor\":\"white\",\"automargin\":true,\"zerolinewidth\":2},\"scene\":{\"xaxis\":{\"backgroundcolor\":\"#E5ECF6\",\"gridcolor\":\"white\",\"linecolor\":\"white\",\"showbackground\":true,\"ticks\":\"\",\"zerolinecolor\":\"white\",\"gridwidth\":2},\"yaxis\":{\"backgroundcolor\":\"#E5ECF6\",\"gridcolor\":\"white\",\"linecolor\":\"white\",\"showbackground\":true,\"ticks\":\"\",\"zerolinecolor\":\"white\",\"gridwidth\":2},\"zaxis\":{\"backgroundcolor\":\"#E5ECF6\",\"gridcolor\":\"white\",\"linecolor\":\"white\",\"showbackground\":true,\"ticks\":\"\",\"zerolinecolor\":\"white\",\"gridwidth\":2}},\"shapedefaults\":{\"line\":{\"color\":\"#2a3f5f\"}},\"annotationdefaults\":{\"arrowcolor\":\"#2a3f5f\",\"arrowhead\":0,\"arrowwidth\":1},\"geo\":{\"bgcolor\":\"white\",\"landcolor\":\"#E5ECF6\",\"subunitcolor\":\"white\",\"showland\":true,\"showlakes\":true,\"lakecolor\":\"white\"},\"title\":{\"x\":0.05},\"mapbox\":{\"style\":\"light\"}}},\"xaxis\":{\"anchor\":\"y\",\"domain\":[0.0,1.0],\"title\":{\"text\":\"Freq [GHz]\"}},\"yaxis\":{\"anchor\":\"x\",\"domain\":[0.0,1.0],\"title\":{\"text\":\"prediction\"}},\"legend\":{\"title\":{\"text\":\"Geometry Name\"},\"tracegroupgap\":0},\"title\":{\"text\":\"Performance vs Frequency for Geometries\"},\"shapes\":[{\"line\":{\"color\":\"blue\",\"dash\":\"dash\"},\"type\":\"line\",\"x0\":0,\"x1\":1,\"xref\":\"x domain\",\"y0\":-22.0,\"y1\":-22.0,\"yref\":\"y\"},{\"line\":{\"color\":\"green\",\"dash\":\"dash\"},\"type\":\"line\",\"x0\":12.09,\"x1\":12.09,\"xref\":\"x\",\"y0\":0,\"y1\":1,\"yref\":\"y domain\"},{\"line\":{\"color\":\"green\",\"dash\":\"dash\"},\"type\":\"line\",\"x0\":12.6,\"x1\":12.6,\"xref\":\"x\",\"y0\":0,\"y1\":1,\"yref\":\"y domain\"}]},                        {\"responsive\": true}                    ).then(function(){\n",
       "                            \n",
       "var gd = document.getElementById('c396d3c5-84d3-4c3f-a972-fff0128c52bc');\n",
       "var x = new MutationObserver(function (mutations, observer) {{\n",
       "        var display = window.getComputedStyle(gd).display;\n",
       "        if (!display || display === 'none') {{\n",
       "            console.log([gd, 'removed!']);\n",
       "            Plotly.purge(gd);\n",
       "            observer.disconnect();\n",
       "        }}\n",
       "}});\n",
       "\n",
       "// Listen for the removal of the full notebook cells\n",
       "var notebookContainer = gd.closest('#notebook-container');\n",
       "if (notebookContainer) {{\n",
       "    x.observe(notebookContainer, {childList: true});\n",
       "}}\n",
       "\n",
       "// Listen for the clearing of the current output cell\n",
       "var outputEl = gd.closest('.output');\n",
       "if (outputEl) {{\n",
       "    x.observe(outputEl, {childList: true});\n",
       "}}\n",
       "\n",
       "                        })                };                });            </script>        </div>"
      ]
     },
     "metadata": {},
     "output_type": "display_data"
    },
    {
     "name": "stdout",
     "output_type": "stream",
     "text": [
      "PRINT SHAP\n"
     ]
    },
    {
     "ename": "ValueError",
     "evalue": "This reshape error is often caused by passing a bad data matrix to SHAP. See https://github.com/shap/shap/issues/580.",
     "output_type": "error",
     "traceback": [
      "\u001b[0;31m---------------------------------------------------------------------------\u001b[0m",
      "\u001b[0;31mXGBoostError\u001b[0m                              Traceback (most recent call last)",
      "File \u001b[0;32m/opt/miniconda3/envs/tylers_env_do_not_touch/lib/python3.9/site-packages/shap/explainers/_tree.py:405\u001b[0m, in \u001b[0;36mTreeExplainer.shap_values\u001b[0;34m(self, X, y, tree_limit, approximate, check_additivity, from_call)\u001b[0m\n\u001b[1;32m    404\u001b[0m \u001b[38;5;28;01mtry\u001b[39;00m:\n\u001b[0;32m--> 405\u001b[0m     phi \u001b[38;5;241m=\u001b[39m \u001b[38;5;28;43mself\u001b[39;49m\u001b[38;5;241;43m.\u001b[39;49m\u001b[43mmodel\u001b[49m\u001b[38;5;241;43m.\u001b[39;49m\u001b[43moriginal_model\u001b[49m\u001b[38;5;241;43m.\u001b[39;49m\u001b[43mpredict\u001b[49m\u001b[43m(\u001b[49m\n\u001b[1;32m    406\u001b[0m \u001b[43m        \u001b[49m\u001b[43mX\u001b[49m\u001b[43m,\u001b[49m\u001b[43m \u001b[49m\u001b[43miteration_range\u001b[49m\u001b[38;5;241;43m=\u001b[39;49m\u001b[43m(\u001b[49m\u001b[38;5;241;43m0\u001b[39;49m\u001b[43m,\u001b[49m\u001b[43m \u001b[49m\u001b[43mtree_limit\u001b[49m\u001b[43m)\u001b[49m\u001b[43m,\u001b[49m\u001b[43m \u001b[49m\u001b[43mpred_contribs\u001b[49m\u001b[38;5;241;43m=\u001b[39;49m\u001b[38;5;28;43;01mTrue\u001b[39;49;00m\u001b[43m,\u001b[49m\n\u001b[1;32m    407\u001b[0m \u001b[43m        \u001b[49m\u001b[43mapprox_contribs\u001b[49m\u001b[38;5;241;43m=\u001b[39;49m\u001b[43mapproximate\u001b[49m\u001b[43m,\u001b[49m\u001b[43m \u001b[49m\u001b[43mvalidate_features\u001b[49m\u001b[38;5;241;43m=\u001b[39;49m\u001b[38;5;28;43;01mFalse\u001b[39;49;00m\n\u001b[1;32m    408\u001b[0m \u001b[43m    \u001b[49m\u001b[43m)\u001b[49m\n\u001b[1;32m    409\u001b[0m \u001b[38;5;28;01mexcept\u001b[39;00m \u001b[38;5;167;01mValueError\u001b[39;00m \u001b[38;5;28;01mas\u001b[39;00m e:\n",
      "File \u001b[0;32m/opt/miniconda3/envs/tylers_env_do_not_touch/lib/python3.9/site-packages/xgboost/core.py:2297\u001b[0m, in \u001b[0;36mBooster.predict\u001b[0;34m(self, data, output_margin, pred_leaf, pred_contribs, approx_contribs, pred_interactions, validate_features, training, iteration_range, strict_shape)\u001b[0m\n\u001b[1;32m   2296\u001b[0m dims \u001b[38;5;241m=\u001b[39m c_bst_ulong()\n\u001b[0;32m-> 2297\u001b[0m \u001b[43m_check_call\u001b[49m\u001b[43m(\u001b[49m\n\u001b[1;32m   2298\u001b[0m \u001b[43m    \u001b[49m\u001b[43m_LIB\u001b[49m\u001b[38;5;241;43m.\u001b[39;49m\u001b[43mXGBoosterPredictFromDMatrix\u001b[49m\u001b[43m(\u001b[49m\n\u001b[1;32m   2299\u001b[0m \u001b[43m        \u001b[49m\u001b[38;5;28;43mself\u001b[39;49m\u001b[38;5;241;43m.\u001b[39;49m\u001b[43mhandle\u001b[49m\u001b[43m,\u001b[49m\n\u001b[1;32m   2300\u001b[0m \u001b[43m        \u001b[49m\u001b[43mdata\u001b[49m\u001b[38;5;241;43m.\u001b[39;49m\u001b[43mhandle\u001b[49m\u001b[43m,\u001b[49m\n\u001b[1;32m   2301\u001b[0m \u001b[43m        \u001b[49m\u001b[43mfrom_pystr_to_cstr\u001b[49m\u001b[43m(\u001b[49m\u001b[43mjson\u001b[49m\u001b[38;5;241;43m.\u001b[39;49m\u001b[43mdumps\u001b[49m\u001b[43m(\u001b[49m\u001b[43margs\u001b[49m\u001b[43m)\u001b[49m\u001b[43m)\u001b[49m\u001b[43m,\u001b[49m\n\u001b[1;32m   2302\u001b[0m \u001b[43m        \u001b[49m\u001b[43mctypes\u001b[49m\u001b[38;5;241;43m.\u001b[39;49m\u001b[43mbyref\u001b[49m\u001b[43m(\u001b[49m\u001b[43mshape\u001b[49m\u001b[43m)\u001b[49m\u001b[43m,\u001b[49m\n\u001b[1;32m   2303\u001b[0m \u001b[43m        \u001b[49m\u001b[43mctypes\u001b[49m\u001b[38;5;241;43m.\u001b[39;49m\u001b[43mbyref\u001b[49m\u001b[43m(\u001b[49m\u001b[43mdims\u001b[49m\u001b[43m)\u001b[49m\u001b[43m,\u001b[49m\n\u001b[1;32m   2304\u001b[0m \u001b[43m        \u001b[49m\u001b[43mctypes\u001b[49m\u001b[38;5;241;43m.\u001b[39;49m\u001b[43mbyref\u001b[49m\u001b[43m(\u001b[49m\u001b[43mpreds\u001b[49m\u001b[43m)\u001b[49m\u001b[43m,\u001b[49m\n\u001b[1;32m   2305\u001b[0m \u001b[43m    \u001b[49m\u001b[43m)\u001b[49m\n\u001b[1;32m   2306\u001b[0m \u001b[43m\u001b[49m\u001b[43m)\u001b[49m\n\u001b[1;32m   2307\u001b[0m \u001b[38;5;28;01mreturn\u001b[39;00m _prediction_output(shape, dims, preds, \u001b[38;5;28;01mFalse\u001b[39;00m)\n",
      "File \u001b[0;32m/opt/miniconda3/envs/tylers_env_do_not_touch/lib/python3.9/site-packages/xgboost/core.py:282\u001b[0m, in \u001b[0;36m_check_call\u001b[0;34m(ret)\u001b[0m\n\u001b[1;32m    281\u001b[0m \u001b[38;5;28;01mif\u001b[39;00m ret \u001b[38;5;241m!=\u001b[39m \u001b[38;5;241m0\u001b[39m:\n\u001b[0;32m--> 282\u001b[0m     \u001b[38;5;28;01mraise\u001b[39;00m XGBoostError(py_str(_LIB\u001b[38;5;241m.\u001b[39mXGBGetLastError()))\n",
      "\u001b[0;31mXGBoostError\u001b[0m: [19:58:01] /workspace/src/c_api/../data/../c_api/c_api_utils.h:123: Check failed: std::accumulate(shape.cbegin(), shape.cend(), static_cast<bst_ulong>(1), std::multiplies<>{}) == chunksize * rows (18 vs. 90) : \nStack trace:\n  [bt] (0) /opt/miniconda3/envs/tylers_env_do_not_touch/lib/python3.9/site-packages/xgboost/lib/libxgboost.so(+0x15c2ca) [0x7fc3ccf5c2ca]\n  [bt] (1) /opt/miniconda3/envs/tylers_env_do_not_touch/lib/python3.9/site-packages/xgboost/lib/libxgboost.so(+0x18ca1f) [0x7fc3ccf8ca1f]\n  [bt] (2) /opt/miniconda3/envs/tylers_env_do_not_touch/lib/python3.9/site-packages/xgboost/lib/libxgboost.so(XGBoosterPredictFromDMatrix+0x407) [0x7fc3ccf6d107]\n  [bt] (3) /opt/miniconda3/envs/tylers_env_do_not_touch/lib/python3.9/lib-dynload/../../libffi.so.8(+0xa052) [0x7fc489da6052]\n  [bt] (4) /opt/miniconda3/envs/tylers_env_do_not_touch/lib/python3.9/lib-dynload/../../libffi.so.8(+0x8925) [0x7fc489da4925]\n  [bt] (5) /opt/miniconda3/envs/tylers_env_do_not_touch/lib/python3.9/lib-dynload/../../libffi.so.8(ffi_call+0xde) [0x7fc489da506e]\n  [bt] (6) /opt/miniconda3/envs/tylers_env_do_not_touch/lib/python3.9/lib-dynload/_ctypes.cpython-39-x86_64-linux-gnu.so(+0x91e0) [0x7fc489ae31e0]\n  [bt] (7) /opt/miniconda3/envs/tylers_env_do_not_touch/lib/python3.9/lib-dynload/_ctypes.cpython-39-x86_64-linux-gnu.so(+0x8568) [0x7fc489ae2568]\n  [bt] (8) /opt/miniconda3/envs/tylers_env_do_not_touch/bin/python(_PyObject_MakeTpCall+0x2ec) [0x4f073c]\n\n",
      "\nThe above exception was the direct cause of the following exception:\n",
      "\u001b[0;31mValueError\u001b[0m                                Traceback (most recent call last)",
      "Cell \u001b[0;32mIn[68], line 8\u001b[0m, in \u001b[0;36mon_button_clicked\u001b[0;34m(b)\u001b[0m\n\u001b[1;32m      6\u001b[0m s11_val \u001b[38;5;241m=\u001b[39m s11_input\u001b[38;5;241m.\u001b[39mvalue\n\u001b[1;32m      7\u001b[0m freq_val \u001b[38;5;241m=\u001b[39m freq_input\u001b[38;5;241m.\u001b[39mvalue\n\u001b[0;32m----> 8\u001b[0m \u001b[43mprint_prediction\u001b[49m\u001b[43m(\u001b[49m\u001b[43m)\u001b[49m\n",
      "Cell \u001b[0;32mIn[66], line 27\u001b[0m, in \u001b[0;36mprint_prediction\u001b[0;34m()\u001b[0m\n\u001b[1;32m     25\u001b[0m geos_to_pass \u001b[38;5;241m=\u001b[39m working_geometries\u001b[38;5;241m.\u001b[39mcopy()\n\u001b[1;32m     26\u001b[0m geos_to_pass\u001b[38;5;241m.\u001b[39mdrop(columns\u001b[38;5;241m=\u001b[39m[\u001b[38;5;124m'\u001b[39m\u001b[38;5;124mGeometry Name\u001b[39m\u001b[38;5;124m'\u001b[39m, \u001b[38;5;124m'\u001b[39m\u001b[38;5;124mprediction\u001b[39m\u001b[38;5;124m'\u001b[39m], inplace\u001b[38;5;241m=\u001b[39m\u001b[38;5;28;01mTrue\u001b[39;00m)\n\u001b[0;32m---> 27\u001b[0m \u001b[43mprint_shap\u001b[49m\u001b[43m(\u001b[49m\u001b[43mgeos_to_pass\u001b[49m\u001b[38;5;241;43m.\u001b[39;49m\u001b[43miloc\u001b[49m\u001b[43m[\u001b[49m\u001b[38;5;241;43m0\u001b[39;49m\u001b[43m]\u001b[49m\u001b[43m)\u001b[49m\n",
      "Cell \u001b[0;32mIn[56], line 85\u001b[0m, in \u001b[0;36mprint_shap\u001b[0;34m(dimensions_for_prediction)\u001b[0m\n\u001b[1;32m     83\u001b[0m \u001b[38;5;28;01mdef\u001b[39;00m \u001b[38;5;21mprint_shap\u001b[39m(dimensions_for_prediction):\n\u001b[1;32m     84\u001b[0m     explainer \u001b[38;5;241m=\u001b[39m shap\u001b[38;5;241m.\u001b[39mTreeExplainer(model\u001b[38;5;241m.\u001b[39mnamed_steps[\u001b[38;5;124m'\u001b[39m\u001b[38;5;124mmodel\u001b[39m\u001b[38;5;124m'\u001b[39m])\n\u001b[0;32m---> 85\u001b[0m     shap_values \u001b[38;5;241m=\u001b[39m \u001b[43mexplainer\u001b[49m\u001b[43m(\u001b[49m\u001b[43mdimensions_for_prediction\u001b[49m\u001b[43m)\u001b[49m\n\u001b[1;32m     87\u001b[0m     display(HTML(\u001b[38;5;124m\"\u001b[39m\u001b[38;5;124m<h2>Shap Explanation</h2>\u001b[39m\u001b[38;5;124m\"\u001b[39m))\n\u001b[1;32m     88\u001b[0m     shap\u001b[38;5;241m.\u001b[39mplots\u001b[38;5;241m.\u001b[39mwaterfall(shap_values[\u001b[38;5;241m0\u001b[39m], max_display\u001b[38;5;241m=\u001b[39m\u001b[38;5;241m14\u001b[39m)\n",
      "File \u001b[0;32m/opt/miniconda3/envs/tylers_env_do_not_touch/lib/python3.9/site-packages/shap/explainers/_tree.py:246\u001b[0m, in \u001b[0;36mTreeExplainer.__call__\u001b[0;34m(self, X, y, interactions, check_additivity)\u001b[0m\n\u001b[1;32m    243\u001b[0m     feature_names \u001b[38;5;241m=\u001b[39m \u001b[38;5;28mgetattr\u001b[39m(\u001b[38;5;28mself\u001b[39m, \u001b[38;5;124m\"\u001b[39m\u001b[38;5;124mdata_feature_names\u001b[39m\u001b[38;5;124m\"\u001b[39m, \u001b[38;5;28;01mNone\u001b[39;00m)\n\u001b[1;32m    245\u001b[0m \u001b[38;5;28;01mif\u001b[39;00m \u001b[38;5;129;01mnot\u001b[39;00m interactions:\n\u001b[0;32m--> 246\u001b[0m     v \u001b[38;5;241m=\u001b[39m \u001b[38;5;28;43mself\u001b[39;49m\u001b[38;5;241;43m.\u001b[39;49m\u001b[43mshap_values\u001b[49m\u001b[43m(\u001b[49m\u001b[43mX\u001b[49m\u001b[43m,\u001b[49m\u001b[43m \u001b[49m\u001b[43my\u001b[49m\u001b[38;5;241;43m=\u001b[39;49m\u001b[43my\u001b[49m\u001b[43m,\u001b[49m\u001b[43m \u001b[49m\u001b[43mfrom_call\u001b[49m\u001b[38;5;241;43m=\u001b[39;49m\u001b[38;5;28;43;01mTrue\u001b[39;49;00m\u001b[43m,\u001b[49m\u001b[43m \u001b[49m\u001b[43mcheck_additivity\u001b[49m\u001b[38;5;241;43m=\u001b[39;49m\u001b[43mcheck_additivity\u001b[49m\u001b[43m,\u001b[49m\u001b[43m \u001b[49m\u001b[43mapproximate\u001b[49m\u001b[38;5;241;43m=\u001b[39;49m\u001b[38;5;28;43mself\u001b[39;49m\u001b[38;5;241;43m.\u001b[39;49m\u001b[43mapproximate\u001b[49m\u001b[43m)\u001b[49m\n\u001b[1;32m    247\u001b[0m     \u001b[38;5;28;01mif\u001b[39;00m \u001b[38;5;28misinstance\u001b[39m(v, \u001b[38;5;28mlist\u001b[39m):\n\u001b[1;32m    248\u001b[0m         v \u001b[38;5;241m=\u001b[39m np\u001b[38;5;241m.\u001b[39mstack(v, axis\u001b[38;5;241m=\u001b[39m\u001b[38;5;241m-\u001b[39m\u001b[38;5;241m1\u001b[39m)  \u001b[38;5;66;03m# put outputs at the end\u001b[39;00m\n",
      "File \u001b[0;32m/opt/miniconda3/envs/tylers_env_do_not_touch/lib/python3.9/site-packages/shap/explainers/_tree.py:414\u001b[0m, in \u001b[0;36mTreeExplainer.shap_values\u001b[0;34m(self, X, y, tree_limit, approximate, check_additivity, from_call)\u001b[0m\n\u001b[1;32m    409\u001b[0m \u001b[38;5;28;01mexcept\u001b[39;00m \u001b[38;5;167;01mValueError\u001b[39;00m \u001b[38;5;28;01mas\u001b[39;00m e:\n\u001b[1;32m    410\u001b[0m     emsg \u001b[38;5;241m=\u001b[39m (\n\u001b[1;32m    411\u001b[0m         \u001b[38;5;124m\"\u001b[39m\u001b[38;5;124mThis reshape error is often caused by passing a bad data matrix to SHAP. \u001b[39m\u001b[38;5;124m\"\u001b[39m\n\u001b[1;32m    412\u001b[0m         \u001b[38;5;124m\"\u001b[39m\u001b[38;5;124mSee https://github.com/shap/shap/issues/580.\u001b[39m\u001b[38;5;124m\"\u001b[39m\n\u001b[1;32m    413\u001b[0m     )\n\u001b[0;32m--> 414\u001b[0m     \u001b[38;5;28;01mraise\u001b[39;00m \u001b[38;5;167;01mValueError\u001b[39;00m(emsg) \u001b[38;5;28;01mfrom\u001b[39;00m \u001b[38;5;21;01me\u001b[39;00m\n\u001b[1;32m    416\u001b[0m \u001b[38;5;28;01mif\u001b[39;00m check_additivity \u001b[38;5;129;01mand\u001b[39;00m \u001b[38;5;28mself\u001b[39m\u001b[38;5;241m.\u001b[39mmodel\u001b[38;5;241m.\u001b[39mmodel_output \u001b[38;5;241m==\u001b[39m \u001b[38;5;124m\"\u001b[39m\u001b[38;5;124mraw\u001b[39m\u001b[38;5;124m\"\u001b[39m:\n\u001b[1;32m    417\u001b[0m     xgb_tree_limit \u001b[38;5;241m=\u001b[39m tree_limit \u001b[38;5;241m/\u001b[39m\u001b[38;5;241m/\u001b[39m \u001b[38;5;28mself\u001b[39m\u001b[38;5;241m.\u001b[39mmodel\u001b[38;5;241m.\u001b[39mnum_stacked_models\n",
      "\u001b[0;31mValueError\u001b[0m: This reshape error is often caused by passing a bad data matrix to SHAP. See https://github.com/shap/shap/issues/580."
     ]
    },
    {
     "data": {
      "image/png": "[encoded data removed]",
      "text/plain": [
       "<Figure size 600x400 with 1 Axes>"
      ]
     },
     "metadata": {},
     "output_type": "display_data"
    },
    {
     "name": "stdout",
     "output_type": "stream",
     "text": [
      "filtering by s11\n"
     ]
    },
    {
     "data": {
      "application/vnd.plotly.v1+json": {
       "config": {
        "plotlyServerURL": "https://plot.ly"
       },
       "data": [
        {
         "hovertemplate": "Geometry Name=199856<br>Freq [GHz]=%{x}<br>prediction=%{y}<extra></extra>",
         "legendgroup": "199856",
         "line": {
          "color": "#636efa",
          "dash": "solid"
         },
         "marker": {
          "symbol": "circle"
         },
         "mode": "lines",
         "name": "199856",
         "orientation": "v",
         "showlegend": true,
         "type": "scatter",
         "x": [
          11,
          11.09,
          11.18,
          11.27,
          11.36,
          11.45,
          11.54,
          11.63,
          11.72,
          11.81,
          11.9,
          11.99,
          12.08,
          12.17,
          12.26,
          12.35,
          12.44,
          12.53,
          12.62,
          12.71,
          12.8,
          12.89,
          12.98,
          13.07,
          13.16,
          13.25,
          13.34,
          13.43,
          13.52,
          13.61,
          13.7,
          13.79,
          13.88,
          13.97,
          14.06,
          14.15,
          14.24,
          14.33,
          14.42,
          14.51,
          14.6,
          14.69,
          14.78,
          14.87,
          14.96,
          15.05,
          15.14,
          15.23,
          15.32,
          15.41,
          15.5,
          15.59,
          15.68,
          15.77,
          15.86,
          15.95,
          16.04,
          16.13,
          16.22,
          16.31,
          16.4,
          16.49,
          16.58,
          16.67,
          16.76,
          16.85,
          16.94,
          17.03,
          17.12,
          17.21,
          17.3,
          17.39,
          17.48,
          17.57,
          17.66,
          17.75,
          17.84,
          17.93,
          18.02,
          18.11,
          18.2,
          18.29,
          18.38,
          18.47,
          18.56,
          18.65,
          18.74,
          18.83,
          18.92,
          19.01,
          19.1,
          19.19,
          19.28,
          19.37,
          19.46,
          19.55,
          19.64,
          19.73,
          19.82,
          19.91,
          20
         ],
         "xaxis": "x",
         "y": [
          -4.235634803771973,
          -4.73168420791626,
          -5.412294387817383,
          -6.5814008712768555,
          -7.554351329803467,
          -7.818461894989014,
          -7.033276081085205,
          -6.514409065246582,
          -7.110673904418945,
          -7.932040691375732,
          -11.707823753356934,
          -12.958773612976074,
          -14.500686645507812,
          -24.216489791870117,
          -28.82683563232422,
          -21.366233825683594,
          -21.136505126953125,
          -25.255264282226562,
          -22.368444442749023,
          -18.028011322021484,
          -20.503278732299805,
          -10.250361442565918,
          -10.39439582824707,
          -8.263640403747559,
          -8.682199478149414,
          -8.651388168334961,
          -9.314318656921387,
          -11.714112281799316,
          -12.095627784729004,
          -13.746356964111328,
          -14.56003475189209,
          -9.83603286743164,
          -10.3891019821167,
          -11.930147171020508,
          -13.348440170288086,
          -13.969667434692383,
          -14.205741882324219,
          -14.17005443572998,
          -14.114047050476074,
          -15.066515922546387,
          -17.074527740478516,
          -16.84130096435547,
          -15.834993362426758,
          -17.02031707763672,
          -17.061471939086914,
          -17.184545516967773,
          -17.291221618652344,
          -17.7563419342041,
          -18.66913414001465,
          -20.671215057373047,
          -21.244667053222656,
          -16.592731475830078,
          -12.442909240722656,
          -14.10367488861084,
          -15.029864311218262,
          -24.01498794555664,
          -18.349403381347656,
          -13.217676162719727,
          -11.386265754699707,
          -14.013824462890625,
          -15.98652172088623,
          -19.593671798706055,
          -11.520920753479004,
          -10.551117897033691,
          -9.65567684173584,
          -12.328903198242188,
          -13.069579124450684,
          -26.255130767822266,
          -37.31597900390625,
          -14.755349159240723,
          -12.067031860351562,
          -10.371214866638184,
          -9.559869766235352,
          -10.077574729919434,
          -7.928773880004883,
          -4.773698329925537,
          -6.056614398956299,
          -12.17499828338623,
          -15.79610824584961,
          -13.185086250305176,
          -12.23190689086914,
          -12.133072853088379,
          -25.116670608520508,
          -11.09276008605957,
          -4.917387008666992,
          -4.180508136749268,
          -3.99186635017395,
          -5.211165904998779,
          -10.484745025634766,
          -16.529970169067383,
          -11.019591331481934,
          -12.338202476501465,
          -16.77505111694336,
          -8.155539512634277,
          -4.067595958709717,
          -2.5952234268188477,
          -1.97785484790802,
          -1.4310353994369507,
          -2.3743324279785156,
          -4.927309989929199,
          -12.575652122497559
         ],
         "yaxis": "y"
        },
        {
         "hovertemplate": "Geometry Name=199888<br>Freq [GHz]=%{x}<br>prediction=%{y}<extra></extra>",
         "legendgroup": "199888",
         "line": {
          "color": "#EF553B",
          "dash": "solid"
         },
         "marker": {
          "symbol": "circle"
         },
         "mode": "lines",
         "name": "199888",
         "orientation": "v",
         "showlegend": true,
         "type": "scatter",
         "x": [
          11,
          11.09,
          11.18,
          11.27,
          11.36,
          11.45,
          11.54,
          11.63,
          11.72,
          11.81,
          11.9,
          11.99,
          12.08,
          12.17,
          12.26,
          12.35,
          12.44,
          12.53,
          12.62,
          12.71,
          12.8,
          12.89,
          12.98,
          13.07,
          13.16,
          13.25,
          13.34,
          13.43,
          13.52,
          13.61,
          13.7,
          13.79,
          13.88,
          13.97,
          14.06,
          14.15,
          14.24,
          14.33,
          14.42,
          14.51,
          14.6,
          14.69,
          14.78,
          14.87,
          14.96,
          15.05,
          15.14,
          15.23,
          15.32,
          15.41,
          15.5,
          15.59,
          15.68,
          15.77,
          15.86,
          15.95,
          16.04,
          16.13,
          16.22,
          16.31,
          16.4,
          16.49,
          16.58,
          16.67,
          16.76,
          16.85,
          16.94,
          17.03,
          17.12,
          17.21,
          17.3,
          17.39,
          17.48,
          17.57,
          17.66,
          17.75,
          17.84,
          17.93,
          18.02,
          18.11,
          18.2,
          18.29,
          18.38,
          18.47,
          18.56,
          18.65,
          18.74,
          18.83,
          18.92,
          19.01,
          19.1,
          19.19,
          19.28,
          19.37,
          19.46,
          19.55,
          19.64,
          19.73,
          19.82,
          19.91,
          20
         ],
         "xaxis": "x",
         "y": [
          -4.356198310852051,
          -5.078135967254639,
          -5.453535079956055,
          -6.549333095550537,
          -7.57734489440918,
          -7.743592262268066,
          -7.7702717781066895,
          -8.774356842041016,
          -10.457866668701172,
          -11.310194969177246,
          -12.452106475830078,
          -12.355475425720215,
          -13.708145141601562,
          -21.890060424804688,
          -28.462791442871094,
          -21.846220016479492,
          -21.676389694213867,
          -26.534259796142578,
          -24.632001876831055,
          -20.07369041442871,
          -19.656654357910156,
          -13.287811279296875,
          -8.414438247680664,
          -8.723511695861816,
          -9.291751861572266,
          -9.405755996704102,
          -10.30020523071289,
          -13.017534255981445,
          -13.12712287902832,
          -14.644332885742188,
          -19.657630920410156,
          -10.759054183959961,
          -10.9833345413208,
          -12.691088676452637,
          -14.398636817932129,
          -14.741710662841797,
          -14.570049285888672,
          -14.23624038696289,
          -14.004508972167969,
          -14.710461616516113,
          -15.3995361328125,
          -18.20969581604004,
          -15.709845542907715,
          -17.11315155029297,
          -17.444276809692383,
          -17.74489974975586,
          -18.202341079711914,
          -18.571828842163086,
          -19.710378646850586,
          -22.415555953979492,
          -22.57470703125,
          -17.872676849365234,
          -14.36838150024414,
          -15.957649230957031,
          -15.056777954101562,
          -24.26612663269043,
          -19.06222915649414,
          -12.428776741027832,
          -10.641586303710938,
          -12.539549827575684,
          -13.909798622131348,
          -17.174654006958008,
          -10.92330265045166,
          -10.652596473693848,
          -11.539264678955078,
          -13.70712661743164,
          -24.495956420898438,
          -30.501558303833008,
          -42.56462478637695,
          -19.15474510192871,
          -16.09543800354004,
          -9.804486274719238,
          -8.02896785736084,
          -8.596511840820312,
          -7.443265438079834,
          -6.431025981903076,
          -8.11629867553711,
          -14.337662696838379,
          -2.9493215084075928,
          -7.472962856292725,
          -9.972721099853516,
          -11.450281143188477,
          -23.982725143432617,
          -11.114750862121582,
          -5.982195854187012,
          -4.199782371520996,
          -4.267224311828613,
          -5.763221740722656,
          -11.38497257232666,
          -5.581857204437256,
          -7.373000144958496,
          -7.638908386230469,
          -14.907751083374023,
          -11.708733558654785,
          -5.1172943115234375,
          -4.294668197631836,
          -3.4903578758239746,
          -2.809929609298706,
          -3.557523727416992,
          -7.599865436553955,
          -11.645585060119629
         ],
         "yaxis": "y"
        },
        {
         "hovertemplate": "Geometry Name=331365<br>Freq [GHz]=%{x}<br>prediction=%{y}<extra></extra>",
         "legendgroup": "331365",
         "line": {
          "color": "#00cc96",
          "dash": "solid"
         },
         "marker": {
          "symbol": "circle"
         },
         "mode": "lines",
         "name": "331365",
         "orientation": "v",
         "showlegend": true,
         "type": "scatter",
         "x": [
          11,
          11.09,
          11.18,
          11.27,
          11.36,
          11.45,
          11.54,
          11.63,
          11.72,
          11.81,
          11.9,
          11.99,
          12.08,
          12.17,
          12.26,
          12.35,
          12.44,
          12.53,
          12.62,
          12.71,
          12.8,
          12.89,
          12.98,
          13.07,
          13.16,
          13.25,
          13.34,
          13.43,
          13.52,
          13.61,
          13.7,
          13.79,
          13.88,
          13.97,
          14.06,
          14.15,
          14.24,
          14.33,
          14.42,
          14.51,
          14.6,
          14.69,
          14.78,
          14.87,
          14.96,
          15.05,
          15.14,
          15.23,
          15.32,
          15.41,
          15.5,
          15.59,
          15.68,
          15.77,
          15.86,
          15.95,
          16.04,
          16.13,
          16.22,
          16.31,
          16.4,
          16.49,
          16.58,
          16.67,
          16.76,
          16.85,
          16.94,
          17.03,
          17.12,
          17.21,
          17.3,
          17.39,
          17.48,
          17.57,
          17.66,
          17.75,
          17.84,
          17.93,
          18.02,
          18.11,
          18.2,
          18.29,
          18.38,
          18.47,
          18.56,
          18.65,
          18.74,
          18.83,
          18.92,
          19.01,
          19.1,
          19.19,
          19.28,
          19.37,
          19.46,
          19.55,
          19.64,
          19.73,
          19.82,
          19.91,
          20
         ],
         "xaxis": "x",
         "y": [
          -4.630493640899658,
          -5.637517929077148,
          -6.190408229827881,
          -6.8569416999816895,
          -8.312029838562012,
          -8.723160743713379,
          -8.889920234680176,
          -9.946569442749023,
          -11.029511451721191,
          -10.608827590942383,
          -11.723767280578613,
          -11.394735336303711,
          -14.332202911376953,
          -22.398292541503906,
          -22.668548583984375,
          -28.39575958251953,
          -23.03306007385254,
          -24.058021545410156,
          -20.262460708618164,
          -12.415048599243164,
          -11.870838165283203,
          -11.703584671020508,
          -7.700440883636475,
          -7.602220058441162,
          -8.784806251525879,
          -9.049720764160156,
          -10.404887199401855,
          -12.22652816772461,
          -11.29047966003418,
          -11.633870124816895,
          -13.864270210266113,
          -11.60560417175293,
          -11.332111358642578,
          -12.27782154083252,
          -13.43321704864502,
          -13.516007423400879,
          -13.784775733947754,
          -13.752283096313477,
          -13.546253204345703,
          -14.136734008789062,
          -15.452624320983887,
          -17.296035766601562,
          -16.71162223815918,
          -16.81076431274414,
          -17.31447410583496,
          -18.383087158203125,
          -20.394092559814453,
          -22.46969985961914,
          -21.26022720336914,
          -22.616809844970703,
          -22.064743041992188,
          -17.10614776611328,
          -13.77368450164795,
          -13.518205642700195,
          -13.237642288208008,
          -17.27107048034668,
          -16.256155014038086,
          -16.990510940551758,
          -16.47878646850586,
          -17.277284622192383,
          -13.527278900146484,
          -12.2841215133667,
          -11.904754638671875,
          -12.95583724975586,
          -16.881046295166016,
          -21.436025619506836,
          -24.90215301513672,
          -31.333576202392578,
          -36.422645568847656,
          -27.866731643676758,
          -31.1207332611084,
          -16.57588005065918,
          -15.242464065551758,
          -20.271602630615234,
          -14.888542175292969,
          -21.183441162109375,
          -26.19862174987793,
          -6.835632801055908,
          -2.5215585231781006,
          -1.3426556587219238,
          -5.592200756072998,
          -11.022164344787598,
          -10.141971588134766,
          -8.175466537475586,
          -19.850540161132812,
          -12.379846572875977,
          -10.623805046081543,
          -13.3041353225708,
          -7.771821022033691,
          -1.0705926418304443,
          -1.1647677421569824,
          -4.441656112670898,
          -6.499649524688721,
          -13.487408638000488,
          -13.08189582824707,
          -7.655375003814697,
          -5.050998687744141,
          -4.6386189460754395,
          -8.092164039611816,
          -9.197497367858887,
          -1.8684134483337402
         ],
         "yaxis": "y"
        }
       ],
       "layout": {
        "legend": {
         "title": {
          "text": "Geometry Name"
         },
         "tracegroupgap": 0
        },
        "shapes": [
         {
          "line": {
           "color": "blue",
           "dash": "dash"
          },
          "type": "line",
          "x0": 0,
          "x1": 1,
          "xref": "x domain",
          "y0": -21,
          "y1": -21,
          "yref": "y"
         },
         {
          "line": {
           "color": "green",
           "dash": "dash"
          },
          "type": "line",
          "x0": 12.09,
          "x1": 12.09,
          "xref": "x",
          "y0": 0,
          "y1": 1,
          "yref": "y domain"
         },
         {
          "line": {
           "color": "green",
           "dash": "dash"
          },
          "type": "line",
          "x0": 12.6,
          "x1": 12.6,
          "xref": "x",
          "y0": 0,
          "y1": 1,
          "yref": "y domain"
         }
        ],
        "template": {
         "data": {
          "bar": [
           {
            "error_x": {
             "color": "#2a3f5f"
            },
            "error_y": {
             "color": "#2a3f5f"
            },
            "marker": {
             "line": {
              "color": "#E5ECF6",
              "width": 0.5
             },
             "pattern": {
              "fillmode": "overlay",
              "size": 10,
              "solidity": 0.2
             }
            },
            "type": "bar"
           }
          ],
          "barpolar": [
           {
            "marker": {
             "line": {
              "color": "#E5ECF6",
              "width": 0.5
             },
             "pattern": {
              "fillmode": "overlay",
              "size": 10,
              "solidity": 0.2
             }
            },
            "type": "barpolar"
           }
          ],
          "carpet": [
           {
            "aaxis": {
             "endlinecolor": "#2a3f5f",
             "gridcolor": "white",
             "linecolor": "white",
             "minorgridcolor": "white",
             "startlinecolor": "#2a3f5f"
            },
            "baxis": {
             "endlinecolor": "#2a3f5f",
             "gridcolor": "white",
             "linecolor": "white",
             "minorgridcolor": "white",
             "startlinecolor": "#2a3f5f"
            },
            "type": "carpet"
           }
          ],
          "choropleth": [
           {
            "colorbar": {
             "outlinewidth": 0,
             "ticks": ""
            },
            "type": "choropleth"
           }
          ],
          "contour": [
           {
            "colorbar": {
             "outlinewidth": 0,
             "ticks": ""
            },
            "colorscale": [
             [
              0,
              "#0d0887"
             ],
             [
              0.1111111111111111,
              "#46039f"
             ],
             [
              0.2222222222222222,
              "#7201a8"
             ],
             [
              0.3333333333333333,
              "#9c179e"
             ],
             [
              0.4444444444444444,
              "#bd3786"
             ],
             [
              0.5555555555555556,
              "#d8576b"
             ],
             [
              0.6666666666666666,
              "#ed7953"
             ],
             [
              0.7777777777777778,
              "#fb9f3a"
             ],
             [
              0.8888888888888888,
              "#fdca26"
             ],
             [
              1,
              "#f0f921"
             ]
            ],
            "type": "contour"
           }
          ],
          "contourcarpet": [
           {
            "colorbar": {
             "outlinewidth": 0,
             "ticks": ""
            },
            "type": "contourcarpet"
           }
          ],
          "heatmap": [
           {
            "colorbar": {
             "outlinewidth": 0,
             "ticks": ""
            },
            "colorscale": [
             [
              0,
              "#0d0887"
             ],
             [
              0.1111111111111111,
              "#46039f"
             ],
             [
              0.2222222222222222,
              "#7201a8"
             ],
             [
              0.3333333333333333,
              "#9c179e"
             ],
             [
              0.4444444444444444,
              "#bd3786"
             ],
             [
              0.5555555555555556,
              "#d8576b"
             ],
             [
              0.6666666666666666,
              "#ed7953"
             ],
             [
              0.7777777777777778,
              "#fb9f3a"
             ],
             [
              0.8888888888888888,
              "#fdca26"
             ],
             [
              1,
              "#f0f921"
             ]
            ],
            "type": "heatmap"
           }
          ],
          "heatmapgl": [
           {
            "colorbar": {
             "outlinewidth": 0,
             "ticks": ""
            },
            "colorscale": [
             [
              0,
              "#0d0887"
             ],
             [
              0.1111111111111111,
              "#46039f"
             ],
             [
              0.2222222222222222,
              "#7201a8"
             ],
             [
              0.3333333333333333,
              "#9c179e"
             ],
             [
              0.4444444444444444,
              "#bd3786"
             ],
             [
              0.5555555555555556,
              "#d8576b"
             ],
             [
              0.6666666666666666,
              "#ed7953"
             ],
             [
              0.7777777777777778,
              "#fb9f3a"
             ],
             [
              0.8888888888888888,
              "#fdca26"
             ],
             [
              1,
              "#f0f921"
             ]
            ],
            "type": "heatmapgl"
           }
          ],
          "histogram": [
           {
            "marker": {
             "pattern": {
              "fillmode": "overlay",
              "size": 10,
              "solidity": 0.2
             }
            },
            "type": "histogram"
           }
          ],
          "histogram2d": [
           {
            "colorbar": {
             "outlinewidth": 0,
             "ticks": ""
            },
            "colorscale": [
             [
              0,
              "#0d0887"
             ],
             [
              0.1111111111111111,
              "#46039f"
             ],
             [
              0.2222222222222222,
              "#7201a8"
             ],
             [
              0.3333333333333333,
              "#9c179e"
             ],
             [
              0.4444444444444444,
              "#bd3786"
             ],
             [
              0.5555555555555556,
              "#d8576b"
             ],
             [
              0.6666666666666666,
              "#ed7953"
             ],
             [
              0.7777777777777778,
              "#fb9f3a"
             ],
             [
              0.8888888888888888,
              "#fdca26"
             ],
             [
              1,
              "#f0f921"
             ]
            ],
            "type": "histogram2d"
           }
          ],
          "histogram2dcontour": [
           {
            "colorbar": {
             "outlinewidth": 0,
             "ticks": ""
            },
            "colorscale": [
             [
              0,
              "#0d0887"
             ],
             [
              0.1111111111111111,
              "#46039f"
             ],
             [
              0.2222222222222222,
              "#7201a8"
             ],
             [
              0.3333333333333333,
              "#9c179e"
             ],
             [
              0.4444444444444444,
              "#bd3786"
             ],
             [
              0.5555555555555556,
              "#d8576b"
             ],
             [
              0.6666666666666666,
              "#ed7953"
             ],
             [
              0.7777777777777778,
              "#fb9f3a"
             ],
             [
              0.8888888888888888,
              "#fdca26"
             ],
             [
              1,
              "#f0f921"
             ]
            ],
            "type": "histogram2dcontour"
           }
          ],
          "mesh3d": [
           {
            "colorbar": {
             "outlinewidth": 0,
             "ticks": ""
            },
            "type": "mesh3d"
           }
          ],
          "parcoords": [
           {
            "line": {
             "colorbar": {
              "outlinewidth": 0,
              "ticks": ""
             }
            },
            "type": "parcoords"
           }
          ],
          "pie": [
           {
            "automargin": true,
            "type": "pie"
           }
          ],
          "scatter": [
           {
            "fillpattern": {
             "fillmode": "overlay",
             "size": 10,
             "solidity": 0.2
            },
            "type": "scatter"
           }
          ],
          "scatter3d": [
           {
            "line": {
             "colorbar": {
              "outlinewidth": 0,
              "ticks": ""
             }
            },
            "marker": {
             "colorbar": {
              "outlinewidth": 0,
              "ticks": ""
             }
            },
            "type": "scatter3d"
           }
          ],
          "scattercarpet": [
           {
            "marker": {
             "colorbar": {
              "outlinewidth": 0,
              "ticks": ""
             }
            },
            "type": "scattercarpet"
           }
          ],
          "scattergeo": [
           {
            "marker": {
             "colorbar": {
              "outlinewidth": 0,
              "ticks": ""
             }
            },
            "type": "scattergeo"
           }
          ],
          "scattergl": [
           {
            "marker": {
             "colorbar": {
              "outlinewidth": 0,
              "ticks": ""
             }
            },
            "type": "scattergl"
           }
          ],
          "scattermapbox": [
           {
            "marker": {
             "colorbar": {
              "outlinewidth": 0,
              "ticks": ""
             }
            },
            "type": "scattermapbox"
           }
          ],
          "scatterpolar": [
           {
            "marker": {
             "colorbar": {
              "outlinewidth": 0,
              "ticks": ""
             }
            },
            "type": "scatterpolar"
           }
          ],
          "scatterpolargl": [
           {
            "marker": {
             "colorbar": {
              "outlinewidth": 0,
              "ticks": ""
             }
            },
            "type": "scatterpolargl"
           }
          ],
          "scatterternary": [
           {
            "marker": {
             "colorbar": {
              "outlinewidth": 0,
              "ticks": ""
             }
            },
            "type": "scatterternary"
           }
          ],
          "surface": [
           {
            "colorbar": {
             "outlinewidth": 0,
             "ticks": ""
            },
            "colorscale": [
             [
              0,
              "#0d0887"
             ],
             [
              0.1111111111111111,
              "#46039f"
             ],
             [
              0.2222222222222222,
              "#7201a8"
             ],
             [
              0.3333333333333333,
              "#9c179e"
             ],
             [
              0.4444444444444444,
              "#bd3786"
             ],
             [
              0.5555555555555556,
              "#d8576b"
             ],
             [
              0.6666666666666666,
              "#ed7953"
             ],
             [
              0.7777777777777778,
              "#fb9f3a"
             ],
             [
              0.8888888888888888,
              "#fdca26"
             ],
             [
              1,
              "#f0f921"
             ]
            ],
            "type": "surface"
           }
          ],
          "table": [
           {
            "cells": {
             "fill": {
              "color": "#EBF0F8"
             },
             "line": {
              "color": "white"
             }
            },
            "header": {
             "fill": {
              "color": "#C8D4E3"
             },
             "line": {
              "color": "white"
             }
            },
            "type": "table"
           }
          ]
         },
         "layout": {
          "annotationdefaults": {
           "arrowcolor": "#2a3f5f",
           "arrowhead": 0,
           "arrowwidth": 1
          },
          "autotypenumbers": "strict",
          "coloraxis": {
           "colorbar": {
            "outlinewidth": 0,
            "ticks": ""
           }
          },
          "colorscale": {
           "diverging": [
            [
             0,
             "#8e0152"
            ],
            [
             0.1,
             "#c51b7d"
            ],
            [
             0.2,
             "#de77ae"
            ],
            [
             0.3,
             "#f1b6da"
            ],
            [
             0.4,
             "#fde0ef"
            ],
            [
             0.5,
             "#f7f7f7"
            ],
            [
             0.6,
             "#e6f5d0"
            ],
            [
             0.7,
             "#b8e186"
            ],
            [
             0.8,
             "#7fbc41"
            ],
            [
             0.9,
             "#4d9221"
            ],
            [
             1,
             "#276419"
            ]
           ],
           "sequential": [
            [
             0,
             "#0d0887"
            ],
            [
             0.1111111111111111,
             "#46039f"
            ],
            [
             0.2222222222222222,
             "#7201a8"
            ],
            [
             0.3333333333333333,
             "#9c179e"
            ],
            [
             0.4444444444444444,
             "#bd3786"
            ],
            [
             0.5555555555555556,
             "#d8576b"
            ],
            [
             0.6666666666666666,
             "#ed7953"
            ],
            [
             0.7777777777777778,
             "#fb9f3a"
            ],
            [
             0.8888888888888888,
             "#fdca26"
            ],
            [
             1,
             "#f0f921"
            ]
           ],
           "sequentialminus": [
            [
             0,
             "#0d0887"
            ],
            [
             0.1111111111111111,
             "#46039f"
            ],
            [
             0.2222222222222222,
             "#7201a8"
            ],
            [
             0.3333333333333333,
             "#9c179e"
            ],
            [
             0.4444444444444444,
             "#bd3786"
            ],
            [
             0.5555555555555556,
             "#d8576b"
            ],
            [
             0.6666666666666666,
             "#ed7953"
            ],
            [
             0.7777777777777778,
             "#fb9f3a"
            ],
            [
             0.8888888888888888,
             "#fdca26"
            ],
            [
             1,
             "#f0f921"
            ]
           ]
          },
          "colorway": [
           "#636efa",
           "#EF553B",
           "#00cc96",
           "#ab63fa",
           "#FFA15A",
           "#19d3f3",
           "#FF6692",
           "#B6E880",
           "#FF97FF",
           "#FECB52"
          ],
          "font": {
           "color": "#2a3f5f"
          },
          "geo": {
           "bgcolor": "white",
           "lakecolor": "white",
           "landcolor": "#E5ECF6",
           "showlakes": true,
           "showland": true,
           "subunitcolor": "white"
          },
          "hoverlabel": {
           "align": "left"
          },
          "hovermode": "closest",
          "mapbox": {
           "style": "light"
          },
          "paper_bgcolor": "white",
          "plot_bgcolor": "#E5ECF6",
          "polar": {
           "angularaxis": {
            "gridcolor": "white",
            "linecolor": "white",
            "ticks": ""
           },
           "bgcolor": "#E5ECF6",
           "radialaxis": {
            "gridcolor": "white",
            "linecolor": "white",
            "ticks": ""
           }
          },
          "scene": {
           "xaxis": {
            "backgroundcolor": "#E5ECF6",
            "gridcolor": "white",
            "gridwidth": 2,
            "linecolor": "white",
            "showbackground": true,
            "ticks": "",
            "zerolinecolor": "white"
           },
           "yaxis": {
            "backgroundcolor": "#E5ECF6",
            "gridcolor": "white",
            "gridwidth": 2,
            "linecolor": "white",
            "showbackground": true,
            "ticks": "",
            "zerolinecolor": "white"
           },
           "zaxis": {
            "backgroundcolor": "#E5ECF6",
            "gridcolor": "white",
            "gridwidth": 2,
            "linecolor": "white",
            "showbackground": true,
            "ticks": "",
            "zerolinecolor": "white"
           }
          },
          "shapedefaults": {
           "line": {
            "color": "#2a3f5f"
           }
          },
          "ternary": {
           "aaxis": {
            "gridcolor": "white",
            "linecolor": "white",
            "ticks": ""
           },
           "baxis": {
            "gridcolor": "white",
            "linecolor": "white",
            "ticks": ""
           },
           "bgcolor": "#E5ECF6",
           "caxis": {
            "gridcolor": "white",
            "linecolor": "white",
            "ticks": ""
           }
          },
          "title": {
           "x": 0.05
          },
          "xaxis": {
           "automargin": true,
           "gridcolor": "white",
           "linecolor": "white",
           "ticks": "",
           "title": {
            "standoff": 15
           },
           "zerolinecolor": "white",
           "zerolinewidth": 2
          },
          "yaxis": {
           "automargin": true,
           "gridcolor": "white",
           "linecolor": "white",
           "ticks": "",
           "title": {
            "standoff": 15
           },
           "zerolinecolor": "white",
           "zerolinewidth": 2
          }
         }
        },
        "title": {
         "text": "Performance vs Frequency for Geometries"
        },
        "xaxis": {
         "anchor": "y",
         "domain": [
          0,
          1
         ],
         "title": {
          "text": "Freq [GHz]"
         }
        },
        "yaxis": {
         "anchor": "x",
         "domain": [
          0,
          1
         ],
         "title": {
          "text": "prediction"
         }
        }
       }
      },
      "text/html": [
       "<div>                            <div id=\"8d88d873-5cd9-4035-9fa9-3346bd5115c4\" class=\"plotly-graph-div\" style=\"height:525px; width:100%;\"></div>            <script type=\"text/javascript\">                require([\"plotly\"], function(Plotly) {                    window.PLOTLYENV=window.PLOTLYENV || {};                                    if (document.getElementById(\"8d88d873-5cd9-4035-9fa9-3346bd5115c4\")) {                    Plotly.newPlot(                        \"8d88d873-5cd9-4035-9fa9-3346bd5115c4\",                        [{\"hovertemplate\":\"Geometry Name=199856\\u003cbr\\u003eFreq [GHz]=%{x}\\u003cbr\\u003eprediction=%{y}\\u003cextra\\u003e\\u003c\\u002fextra\\u003e\",\"legendgroup\":\"199856\",\"line\":{\"color\":\"#636efa\",\"dash\":\"solid\"},\"marker\":{\"symbol\":\"circle\"},\"mode\":\"lines\",\"name\":\"199856\",\"orientation\":\"v\",\"showlegend\":true,\"x\":[11.0,11.09,11.18,11.27,11.36,11.45,11.54,11.63,11.72,11.81,11.9,11.99,12.08,12.17,12.26,12.35,12.44,12.53,12.62,12.71,12.8,12.89,12.98,13.07,13.16,13.25,13.34,13.43,13.52,13.61,13.7,13.79,13.88,13.97,14.06,14.15,14.24,14.33,14.42,14.51,14.6,14.69,14.78,14.87,14.96,15.05,15.14,15.23,15.32,15.41,15.5,15.59,15.68,15.77,15.86,15.95,16.04,16.13,16.22,16.31,16.4,16.49,16.58,16.67,16.76,16.85,16.94,17.03,17.12,17.21,17.3,17.39,17.48,17.57,17.66,17.75,17.84,17.93,18.02,18.11,18.2,18.29,18.38,18.47,18.56,18.65,18.74,18.83,18.92,19.01,19.1,19.19,19.28,19.37,19.46,19.55,19.64,19.73,19.82,19.91,20.0],\"xaxis\":\"x\",\"y\":[-4.235634803771973,-4.73168420791626,-5.412294387817383,-6.5814008712768555,-7.554351329803467,-7.818461894989014,-7.033276081085205,-6.514409065246582,-7.110673904418945,-7.932040691375732,-11.707823753356934,-12.958773612976074,-14.500686645507812,-24.216489791870117,-28.82683563232422,-21.366233825683594,-21.136505126953125,-25.255264282226562,-22.368444442749023,-18.028011322021484,-20.503278732299805,-10.250361442565918,-10.39439582824707,-8.263640403747559,-8.682199478149414,-8.651388168334961,-9.314318656921387,-11.714112281799316,-12.095627784729004,-13.746356964111328,-14.56003475189209,-9.83603286743164,-10.3891019821167,-11.930147171020508,-13.348440170288086,-13.969667434692383,-14.205741882324219,-14.17005443572998,-14.114047050476074,-15.066515922546387,-17.074527740478516,-16.84130096435547,-15.834993362426758,-17.02031707763672,-17.061471939086914,-17.184545516967773,-17.291221618652344,-17.7563419342041,-18.66913414001465,-20.671215057373047,-21.244667053222656,-16.592731475830078,-12.442909240722656,-14.10367488861084,-15.029864311218262,-24.01498794555664,-18.349403381347656,-13.217676162719727,-11.386265754699707,-14.013824462890625,-15.98652172088623,-19.593671798706055,-11.520920753479004,-10.551117897033691,-9.65567684173584,-12.328903198242188,-13.069579124450684,-26.255130767822266,-37.31597900390625,-14.755349159240723,-12.067031860351562,-10.371214866638184,-9.559869766235352,-10.077574729919434,-7.928773880004883,-4.773698329925537,-6.056614398956299,-12.17499828338623,-15.79610824584961,-13.185086250305176,-12.23190689086914,-12.133072853088379,-25.116670608520508,-11.09276008605957,-4.917387008666992,-4.180508136749268,-3.99186635017395,-5.211165904998779,-10.484745025634766,-16.529970169067383,-11.019591331481934,-12.338202476501465,-16.77505111694336,-8.155539512634277,-4.067595958709717,-2.5952234268188477,-1.97785484790802,-1.4310353994369507,-2.3743324279785156,-4.927309989929199,-12.575652122497559],\"yaxis\":\"y\",\"type\":\"scatter\"},{\"hovertemplate\":\"Geometry Name=199888\\u003cbr\\u003eFreq [GHz]=%{x}\\u003cbr\\u003eprediction=%{y}\\u003cextra\\u003e\\u003c\\u002fextra\\u003e\",\"legendgroup\":\"199888\",\"line\":{\"color\":\"#EF553B\",\"dash\":\"solid\"},\"marker\":{\"symbol\":\"circle\"},\"mode\":\"lines\",\"name\":\"199888\",\"orientation\":\"v\",\"showlegend\":true,\"x\":[11.0,11.09,11.18,11.27,11.36,11.45,11.54,11.63,11.72,11.81,11.9,11.99,12.08,12.17,12.26,12.35,12.44,12.53,12.62,12.71,12.8,12.89,12.98,13.07,13.16,13.25,13.34,13.43,13.52,13.61,13.7,13.79,13.88,13.97,14.06,14.15,14.24,14.33,14.42,14.51,14.6,14.69,14.78,14.87,14.96,15.05,15.14,15.23,15.32,15.41,15.5,15.59,15.68,15.77,15.86,15.95,16.04,16.13,16.22,16.31,16.4,16.49,16.58,16.67,16.76,16.85,16.94,17.03,17.12,17.21,17.3,17.39,17.48,17.57,17.66,17.75,17.84,17.93,18.02,18.11,18.2,18.29,18.38,18.47,18.56,18.65,18.74,18.83,18.92,19.01,19.1,19.19,19.28,19.37,19.46,19.55,19.64,19.73,19.82,19.91,20.0],\"xaxis\":\"x\",\"y\":[-4.356198310852051,-5.078135967254639,-5.453535079956055,-6.549333095550537,-7.57734489440918,-7.743592262268066,-7.7702717781066895,-8.774356842041016,-10.457866668701172,-11.310194969177246,-12.452106475830078,-12.355475425720215,-13.708145141601562,-21.890060424804688,-28.462791442871094,-21.846220016479492,-21.676389694213867,-26.534259796142578,-24.632001876831055,-20.07369041442871,-19.656654357910156,-13.287811279296875,-8.414438247680664,-8.723511695861816,-9.291751861572266,-9.405755996704102,-10.30020523071289,-13.017534255981445,-13.12712287902832,-14.644332885742188,-19.657630920410156,-10.759054183959961,-10.9833345413208,-12.691088676452637,-14.398636817932129,-14.741710662841797,-14.570049285888672,-14.23624038696289,-14.004508972167969,-14.710461616516113,-15.3995361328125,-18.20969581604004,-15.709845542907715,-17.11315155029297,-17.444276809692383,-17.74489974975586,-18.202341079711914,-18.571828842163086,-19.710378646850586,-22.415555953979492,-22.57470703125,-17.872676849365234,-14.36838150024414,-15.957649230957031,-15.056777954101562,-24.26612663269043,-19.06222915649414,-12.428776741027832,-10.641586303710938,-12.539549827575684,-13.909798622131348,-17.174654006958008,-10.92330265045166,-10.652596473693848,-11.539264678955078,-13.70712661743164,-24.495956420898438,-30.501558303833008,-42.56462478637695,-19.15474510192871,-16.09543800354004,-9.804486274719238,-8.02896785736084,-8.596511840820312,-7.443265438079834,-6.431025981903076,-8.11629867553711,-14.337662696838379,-2.9493215084075928,-7.472962856292725,-9.972721099853516,-11.450281143188477,-23.982725143432617,-11.114750862121582,-5.982195854187012,-4.199782371520996,-4.267224311828613,-5.763221740722656,-11.38497257232666,-5.581857204437256,-7.373000144958496,-7.638908386230469,-14.907751083374023,-11.708733558654785,-5.1172943115234375,-4.294668197631836,-3.4903578758239746,-2.809929609298706,-3.557523727416992,-7.599865436553955,-11.645585060119629],\"yaxis\":\"y\",\"type\":\"scatter\"},{\"hovertemplate\":\"Geometry Name=331365\\u003cbr\\u003eFreq [GHz]=%{x}\\u003cbr\\u003eprediction=%{y}\\u003cextra\\u003e\\u003c\\u002fextra\\u003e\",\"legendgroup\":\"331365\",\"line\":{\"color\":\"#00cc96\",\"dash\":\"solid\"},\"marker\":{\"symbol\":\"circle\"},\"mode\":\"lines\",\"name\":\"331365\",\"orientation\":\"v\",\"showlegend\":true,\"x\":[11.0,11.09,11.18,11.27,11.36,11.45,11.54,11.63,11.72,11.81,11.9,11.99,12.08,12.17,12.26,12.35,12.44,12.53,12.62,12.71,12.8,12.89,12.98,13.07,13.16,13.25,13.34,13.43,13.52,13.61,13.7,13.79,13.88,13.97,14.06,14.15,14.24,14.33,14.42,14.51,14.6,14.69,14.78,14.87,14.96,15.05,15.14,15.23,15.32,15.41,15.5,15.59,15.68,15.77,15.86,15.95,16.04,16.13,16.22,16.31,16.4,16.49,16.58,16.67,16.76,16.85,16.94,17.03,17.12,17.21,17.3,17.39,17.48,17.57,17.66,17.75,17.84,17.93,18.02,18.11,18.2,18.29,18.38,18.47,18.56,18.65,18.74,18.83,18.92,19.01,19.1,19.19,19.28,19.37,19.46,19.55,19.64,19.73,19.82,19.91,20.0],\"xaxis\":\"x\",\"y\":[-4.630493640899658,-5.637517929077148,-6.190408229827881,-6.8569416999816895,-8.312029838562012,-8.723160743713379,-8.889920234680176,-9.946569442749023,-11.029511451721191,-10.608827590942383,-11.723767280578613,-11.394735336303711,-14.332202911376953,-22.398292541503906,-22.668548583984375,-28.39575958251953,-23.03306007385254,-24.058021545410156,-20.262460708618164,-12.415048599243164,-11.870838165283203,-11.703584671020508,-7.700440883636475,-7.602220058441162,-8.784806251525879,-9.049720764160156,-10.404887199401855,-12.22652816772461,-11.29047966003418,-11.633870124816895,-13.864270210266113,-11.60560417175293,-11.332111358642578,-12.27782154083252,-13.43321704864502,-13.516007423400879,-13.784775733947754,-13.752283096313477,-13.546253204345703,-14.136734008789062,-15.452624320983887,-17.296035766601562,-16.71162223815918,-16.81076431274414,-17.31447410583496,-18.383087158203125,-20.394092559814453,-22.46969985961914,-21.26022720336914,-22.616809844970703,-22.064743041992188,-17.10614776611328,-13.77368450164795,-13.518205642700195,-13.237642288208008,-17.27107048034668,-16.256155014038086,-16.990510940551758,-16.47878646850586,-17.277284622192383,-13.527278900146484,-12.2841215133667,-11.904754638671875,-12.95583724975586,-16.881046295166016,-21.436025619506836,-24.90215301513672,-31.333576202392578,-36.422645568847656,-27.866731643676758,-31.1207332611084,-16.57588005065918,-15.242464065551758,-20.271602630615234,-14.888542175292969,-21.183441162109375,-26.19862174987793,-6.835632801055908,-2.5215585231781006,-1.3426556587219238,-5.592200756072998,-11.022164344787598,-10.141971588134766,-8.175466537475586,-19.850540161132812,-12.379846572875977,-10.623805046081543,-13.3041353225708,-7.771821022033691,-1.0705926418304443,-1.1647677421569824,-4.441656112670898,-6.499649524688721,-13.487408638000488,-13.08189582824707,-7.655375003814697,-5.050998687744141,-4.6386189460754395,-8.092164039611816,-9.197497367858887,-1.8684134483337402],\"yaxis\":\"y\",\"type\":\"scatter\"}],                        {\"template\":{\"data\":{\"histogram2dcontour\":[{\"type\":\"histogram2dcontour\",\"colorbar\":{\"outlinewidth\":0,\"ticks\":\"\"},\"colorscale\":[[0.0,\"#0d0887\"],[0.1111111111111111,\"#46039f\"],[0.2222222222222222,\"#7201a8\"],[0.3333333333333333,\"#9c179e\"],[0.4444444444444444,\"#bd3786\"],[0.5555555555555556,\"#d8576b\"],[0.6666666666666666,\"#ed7953\"],[0.7777777777777778,\"#fb9f3a\"],[0.8888888888888888,\"#fdca26\"],[1.0,\"#f0f921\"]]}],\"choropleth\":[{\"type\":\"choropleth\",\"colorbar\":{\"outlinewidth\":0,\"ticks\":\"\"}}],\"histogram2d\":[{\"type\":\"histogram2d\",\"colorbar\":{\"outlinewidth\":0,\"ticks\":\"\"},\"colorscale\":[[0.0,\"#0d0887\"],[0.1111111111111111,\"#46039f\"],[0.2222222222222222,\"#7201a8\"],[0.3333333333333333,\"#9c179e\"],[0.4444444444444444,\"#bd3786\"],[0.5555555555555556,\"#d8576b\"],[0.6666666666666666,\"#ed7953\"],[0.7777777777777778,\"#fb9f3a\"],[0.8888888888888888,\"#fdca26\"],[1.0,\"#f0f921\"]]}],\"heatmap\":[{\"type\":\"heatmap\",\"colorbar\":{\"outlinewidth\":0,\"ticks\":\"\"},\"colorscale\":[[0.0,\"#0d0887\"],[0.1111111111111111,\"#46039f\"],[0.2222222222222222,\"#7201a8\"],[0.3333333333333333,\"#9c179e\"],[0.4444444444444444,\"#bd3786\"],[0.5555555555555556,\"#d8576b\"],[0.6666666666666666,\"#ed7953\"],[0.7777777777777778,\"#fb9f3a\"],[0.8888888888888888,\"#fdca26\"],[1.0,\"#f0f921\"]]}],\"heatmapgl\":[{\"type\":\"heatmapgl\",\"colorbar\":{\"outlinewidth\":0,\"ticks\":\"\"},\"colorscale\":[[0.0,\"#0d0887\"],[0.1111111111111111,\"#46039f\"],[0.2222222222222222,\"#7201a8\"],[0.3333333333333333,\"#9c179e\"],[0.4444444444444444,\"#bd3786\"],[0.5555555555555556,\"#d8576b\"],[0.6666666666666666,\"#ed7953\"],[0.7777777777777778,\"#fb9f3a\"],[0.8888888888888888,\"#fdca26\"],[1.0,\"#f0f921\"]]}],\"contourcarpet\":[{\"type\":\"contourcarpet\",\"colorbar\":{\"outlinewidth\":0,\"ticks\":\"\"}}],\"contour\":[{\"type\":\"contour\",\"colorbar\":{\"outlinewidth\":0,\"ticks\":\"\"},\"colorscale\":[[0.0,\"#0d0887\"],[0.1111111111111111,\"#46039f\"],[0.2222222222222222,\"#7201a8\"],[0.3333333333333333,\"#9c179e\"],[0.4444444444444444,\"#bd3786\"],[0.5555555555555556,\"#d8576b\"],[0.6666666666666666,\"#ed7953\"],[0.7777777777777778,\"#fb9f3a\"],[0.8888888888888888,\"#fdca26\"],[1.0,\"#f0f921\"]]}],\"surface\":[{\"type\":\"surface\",\"colorbar\":{\"outlinewidth\":0,\"ticks\":\"\"},\"colorscale\":[[0.0,\"#0d0887\"],[0.1111111111111111,\"#46039f\"],[0.2222222222222222,\"#7201a8\"],[0.3333333333333333,\"#9c179e\"],[0.4444444444444444,\"#bd3786\"],[0.5555555555555556,\"#d8576b\"],[0.6666666666666666,\"#ed7953\"],[0.7777777777777778,\"#fb9f3a\"],[0.8888888888888888,\"#fdca26\"],[1.0,\"#f0f921\"]]}],\"mesh3d\":[{\"type\":\"mesh3d\",\"colorbar\":{\"outlinewidth\":0,\"ticks\":\"\"}}],\"scatter\":[{\"fillpattern\":{\"fillmode\":\"overlay\",\"size\":10,\"solidity\":0.2},\"type\":\"scatter\"}],\"parcoords\":[{\"type\":\"parcoords\",\"line\":{\"colorbar\":{\"outlinewidth\":0,\"ticks\":\"\"}}}],\"scatterpolargl\":[{\"type\":\"scatterpolargl\",\"marker\":{\"colorbar\":{\"outlinewidth\":0,\"ticks\":\"\"}}}],\"bar\":[{\"error_x\":{\"color\":\"#2a3f5f\"},\"error_y\":{\"color\":\"#2a3f5f\"},\"marker\":{\"line\":{\"color\":\"#E5ECF6\",\"width\":0.5},\"pattern\":{\"fillmode\":\"overlay\",\"size\":10,\"solidity\":0.2}},\"type\":\"bar\"}],\"scattergeo\":[{\"type\":\"scattergeo\",\"marker\":{\"colorbar\":{\"outlinewidth\":0,\"ticks\":\"\"}}}],\"scatterpolar\":[{\"type\":\"scatterpolar\",\"marker\":{\"colorbar\":{\"outlinewidth\":0,\"ticks\":\"\"}}}],\"histogram\":[{\"marker\":{\"pattern\":{\"fillmode\":\"overlay\",\"size\":10,\"solidity\":0.2}},\"type\":\"histogram\"}],\"scattergl\":[{\"type\":\"scattergl\",\"marker\":{\"colorbar\":{\"outlinewidth\":0,\"ticks\":\"\"}}}],\"scatter3d\":[{\"type\":\"scatter3d\",\"line\":{\"colorbar\":{\"outlinewidth\":0,\"ticks\":\"\"}},\"marker\":{\"colorbar\":{\"outlinewidth\":0,\"ticks\":\"\"}}}],\"scattermapbox\":[{\"type\":\"scattermapbox\",\"marker\":{\"colorbar\":{\"outlinewidth\":0,\"ticks\":\"\"}}}],\"scatterternary\":[{\"type\":\"scatterternary\",\"marker\":{\"colorbar\":{\"outlinewidth\":0,\"ticks\":\"\"}}}],\"scattercarpet\":[{\"type\":\"scattercarpet\",\"marker\":{\"colorbar\":{\"outlinewidth\":0,\"ticks\":\"\"}}}],\"carpet\":[{\"aaxis\":{\"endlinecolor\":\"#2a3f5f\",\"gridcolor\":\"white\",\"linecolor\":\"white\",\"minorgridcolor\":\"white\",\"startlinecolor\":\"#2a3f5f\"},\"baxis\":{\"endlinecolor\":\"#2a3f5f\",\"gridcolor\":\"white\",\"linecolor\":\"white\",\"minorgridcolor\":\"white\",\"startlinecolor\":\"#2a3f5f\"},\"type\":\"carpet\"}],\"table\":[{\"cells\":{\"fill\":{\"color\":\"#EBF0F8\"},\"line\":{\"color\":\"white\"}},\"header\":{\"fill\":{\"color\":\"#C8D4E3\"},\"line\":{\"color\":\"white\"}},\"type\":\"table\"}],\"barpolar\":[{\"marker\":{\"line\":{\"color\":\"#E5ECF6\",\"width\":0.5},\"pattern\":{\"fillmode\":\"overlay\",\"size\":10,\"solidity\":0.2}},\"type\":\"barpolar\"}],\"pie\":[{\"automargin\":true,\"type\":\"pie\"}]},\"layout\":{\"autotypenumbers\":\"strict\",\"colorway\":[\"#636efa\",\"#EF553B\",\"#00cc96\",\"#ab63fa\",\"#FFA15A\",\"#19d3f3\",\"#FF6692\",\"#B6E880\",\"#FF97FF\",\"#FECB52\"],\"font\":{\"color\":\"#2a3f5f\"},\"hovermode\":\"closest\",\"hoverlabel\":{\"align\":\"left\"},\"paper_bgcolor\":\"white\",\"plot_bgcolor\":\"#E5ECF6\",\"polar\":{\"bgcolor\":\"#E5ECF6\",\"angularaxis\":{\"gridcolor\":\"white\",\"linecolor\":\"white\",\"ticks\":\"\"},\"radialaxis\":{\"gridcolor\":\"white\",\"linecolor\":\"white\",\"ticks\":\"\"}},\"ternary\":{\"bgcolor\":\"#E5ECF6\",\"aaxis\":{\"gridcolor\":\"white\",\"linecolor\":\"white\",\"ticks\":\"\"},\"baxis\":{\"gridcolor\":\"white\",\"linecolor\":\"white\",\"ticks\":\"\"},\"caxis\":{\"gridcolor\":\"white\",\"linecolor\":\"white\",\"ticks\":\"\"}},\"coloraxis\":{\"colorbar\":{\"outlinewidth\":0,\"ticks\":\"\"}},\"colorscale\":{\"sequential\":[[0.0,\"#0d0887\"],[0.1111111111111111,\"#46039f\"],[0.2222222222222222,\"#7201a8\"],[0.3333333333333333,\"#9c179e\"],[0.4444444444444444,\"#bd3786\"],[0.5555555555555556,\"#d8576b\"],[0.6666666666666666,\"#ed7953\"],[0.7777777777777778,\"#fb9f3a\"],[0.8888888888888888,\"#fdca26\"],[1.0,\"#f0f921\"]],\"sequentialminus\":[[0.0,\"#0d0887\"],[0.1111111111111111,\"#46039f\"],[0.2222222222222222,\"#7201a8\"],[0.3333333333333333,\"#9c179e\"],[0.4444444444444444,\"#bd3786\"],[0.5555555555555556,\"#d8576b\"],[0.6666666666666666,\"#ed7953\"],[0.7777777777777778,\"#fb9f3a\"],[0.8888888888888888,\"#fdca26\"],[1.0,\"#f0f921\"]],\"diverging\":[[0,\"#8e0152\"],[0.1,\"#c51b7d\"],[0.2,\"#de77ae\"],[0.3,\"#f1b6da\"],[0.4,\"#fde0ef\"],[0.5,\"#f7f7f7\"],[0.6,\"#e6f5d0\"],[0.7,\"#b8e186\"],[0.8,\"#7fbc41\"],[0.9,\"#4d9221\"],[1,\"#276419\"]]},\"xaxis\":{\"gridcolor\":\"white\",\"linecolor\":\"white\",\"ticks\":\"\",\"title\":{\"standoff\":15},\"zerolinecolor\":\"white\",\"automargin\":true,\"zerolinewidth\":2},\"yaxis\":{\"gridcolor\":\"white\",\"linecolor\":\"white\",\"ticks\":\"\",\"title\":{\"standoff\":15},\"zerolinecolor\":\"white\",\"automargin\":true,\"zerolinewidth\":2},\"scene\":{\"xaxis\":{\"backgroundcolor\":\"#E5ECF6\",\"gridcolor\":\"white\",\"linecolor\":\"white\",\"showbackground\":true,\"ticks\":\"\",\"zerolinecolor\":\"white\",\"gridwidth\":2},\"yaxis\":{\"backgroundcolor\":\"#E5ECF6\",\"gridcolor\":\"white\",\"linecolor\":\"white\",\"showbackground\":true,\"ticks\":\"\",\"zerolinecolor\":\"white\",\"gridwidth\":2},\"zaxis\":{\"backgroundcolor\":\"#E5ECF6\",\"gridcolor\":\"white\",\"linecolor\":\"white\",\"showbackground\":true,\"ticks\":\"\",\"zerolinecolor\":\"white\",\"gridwidth\":2}},\"shapedefaults\":{\"line\":{\"color\":\"#2a3f5f\"}},\"annotationdefaults\":{\"arrowcolor\":\"#2a3f5f\",\"arrowhead\":0,\"arrowwidth\":1},\"geo\":{\"bgcolor\":\"white\",\"landcolor\":\"#E5ECF6\",\"subunitcolor\":\"white\",\"showland\":true,\"showlakes\":true,\"lakecolor\":\"white\"},\"title\":{\"x\":0.05},\"mapbox\":{\"style\":\"light\"}}},\"xaxis\":{\"anchor\":\"y\",\"domain\":[0.0,1.0],\"title\":{\"text\":\"Freq [GHz]\"}},\"yaxis\":{\"anchor\":\"x\",\"domain\":[0.0,1.0],\"title\":{\"text\":\"prediction\"}},\"legend\":{\"title\":{\"text\":\"Geometry Name\"},\"tracegroupgap\":0},\"title\":{\"text\":\"Performance vs Frequency for Geometries\"},\"shapes\":[{\"line\":{\"color\":\"blue\",\"dash\":\"dash\"},\"type\":\"line\",\"x0\":0,\"x1\":1,\"xref\":\"x domain\",\"y0\":-21.0,\"y1\":-21.0,\"yref\":\"y\"},{\"line\":{\"color\":\"green\",\"dash\":\"dash\"},\"type\":\"line\",\"x0\":12.09,\"x1\":12.09,\"xref\":\"x\",\"y0\":0,\"y1\":1,\"yref\":\"y domain\"},{\"line\":{\"color\":\"green\",\"dash\":\"dash\"},\"type\":\"line\",\"x0\":12.6,\"x1\":12.6,\"xref\":\"x\",\"y0\":0,\"y1\":1,\"yref\":\"y domain\"}]},                        {\"responsive\": true}                    ).then(function(){\n",
       "                            \n",
       "var gd = document.getElementById('8d88d873-5cd9-4035-9fa9-3346bd5115c4');\n",
       "var x = new MutationObserver(function (mutations, observer) {{\n",
       "        var display = window.getComputedStyle(gd).display;\n",
       "        if (!display || display === 'none') {{\n",
       "            console.log([gd, 'removed!']);\n",
       "            Plotly.purge(gd);\n",
       "            observer.disconnect();\n",
       "        }}\n",
       "}});\n",
       "\n",
       "// Listen for the removal of the full notebook cells\n",
       "var notebookContainer = gd.closest('#notebook-container');\n",
       "if (notebookContainer) {{\n",
       "    x.observe(notebookContainer, {childList: true});\n",
       "}}\n",
       "\n",
       "// Listen for the clearing of the current output cell\n",
       "var outputEl = gd.closest('.output');\n",
       "if (outputEl) {{\n",
       "    x.observe(outputEl, {childList: true});\n",
       "}}\n",
       "\n",
       "                        })                };                });            </script>        </div>"
      ]
     },
     "metadata": {},
     "output_type": "display_data"
    },
    {
     "name": "stdout",
     "output_type": "stream",
     "text": [
      "PRINT SHAP\n"
     ]
    },
    {
     "ename": "ValueError",
     "evalue": "This reshape error is often caused by passing a bad data matrix to SHAP. See https://github.com/shap/shap/issues/580.",
     "output_type": "error",
     "traceback": [
      "\u001b[0;31m---------------------------------------------------------------------------\u001b[0m",
      "\u001b[0;31mXGBoostError\u001b[0m                              Traceback (most recent call last)",
      "File \u001b[0;32m/opt/miniconda3/envs/tylers_env_do_not_touch/lib/python3.9/site-packages/shap/explainers/_tree.py:405\u001b[0m, in \u001b[0;36mTreeExplainer.shap_values\u001b[0;34m(self, X, y, tree_limit, approximate, check_additivity, from_call)\u001b[0m\n\u001b[1;32m    404\u001b[0m \u001b[38;5;28;01mtry\u001b[39;00m:\n\u001b[0;32m--> 405\u001b[0m     phi \u001b[38;5;241m=\u001b[39m \u001b[38;5;28;43mself\u001b[39;49m\u001b[38;5;241;43m.\u001b[39;49m\u001b[43mmodel\u001b[49m\u001b[38;5;241;43m.\u001b[39;49m\u001b[43moriginal_model\u001b[49m\u001b[38;5;241;43m.\u001b[39;49m\u001b[43mpredict\u001b[49m\u001b[43m(\u001b[49m\n\u001b[1;32m    406\u001b[0m \u001b[43m        \u001b[49m\u001b[43mX\u001b[49m\u001b[43m,\u001b[49m\u001b[43m \u001b[49m\u001b[43miteration_range\u001b[49m\u001b[38;5;241;43m=\u001b[39;49m\u001b[43m(\u001b[49m\u001b[38;5;241;43m0\u001b[39;49m\u001b[43m,\u001b[49m\u001b[43m \u001b[49m\u001b[43mtree_limit\u001b[49m\u001b[43m)\u001b[49m\u001b[43m,\u001b[49m\u001b[43m \u001b[49m\u001b[43mpred_contribs\u001b[49m\u001b[38;5;241;43m=\u001b[39;49m\u001b[38;5;28;43;01mTrue\u001b[39;49;00m\u001b[43m,\u001b[49m\n\u001b[1;32m    407\u001b[0m \u001b[43m        \u001b[49m\u001b[43mapprox_contribs\u001b[49m\u001b[38;5;241;43m=\u001b[39;49m\u001b[43mapproximate\u001b[49m\u001b[43m,\u001b[49m\u001b[43m \u001b[49m\u001b[43mvalidate_features\u001b[49m\u001b[38;5;241;43m=\u001b[39;49m\u001b[38;5;28;43;01mFalse\u001b[39;49;00m\n\u001b[1;32m    408\u001b[0m \u001b[43m    \u001b[49m\u001b[43m)\u001b[49m\n\u001b[1;32m    409\u001b[0m \u001b[38;5;28;01mexcept\u001b[39;00m \u001b[38;5;167;01mValueError\u001b[39;00m \u001b[38;5;28;01mas\u001b[39;00m e:\n",
      "File \u001b[0;32m/opt/miniconda3/envs/tylers_env_do_not_touch/lib/python3.9/site-packages/xgboost/core.py:2297\u001b[0m, in \u001b[0;36mBooster.predict\u001b[0;34m(self, data, output_margin, pred_leaf, pred_contribs, approx_contribs, pred_interactions, validate_features, training, iteration_range, strict_shape)\u001b[0m\n\u001b[1;32m   2296\u001b[0m dims \u001b[38;5;241m=\u001b[39m c_bst_ulong()\n\u001b[0;32m-> 2297\u001b[0m \u001b[43m_check_call\u001b[49m\u001b[43m(\u001b[49m\n\u001b[1;32m   2298\u001b[0m \u001b[43m    \u001b[49m\u001b[43m_LIB\u001b[49m\u001b[38;5;241;43m.\u001b[39;49m\u001b[43mXGBoosterPredictFromDMatrix\u001b[49m\u001b[43m(\u001b[49m\n\u001b[1;32m   2299\u001b[0m \u001b[43m        \u001b[49m\u001b[38;5;28;43mself\u001b[39;49m\u001b[38;5;241;43m.\u001b[39;49m\u001b[43mhandle\u001b[49m\u001b[43m,\u001b[49m\n\u001b[1;32m   2300\u001b[0m \u001b[43m        \u001b[49m\u001b[43mdata\u001b[49m\u001b[38;5;241;43m.\u001b[39;49m\u001b[43mhandle\u001b[49m\u001b[43m,\u001b[49m\n\u001b[1;32m   2301\u001b[0m \u001b[43m        \u001b[49m\u001b[43mfrom_pystr_to_cstr\u001b[49m\u001b[43m(\u001b[49m\u001b[43mjson\u001b[49m\u001b[38;5;241;43m.\u001b[39;49m\u001b[43mdumps\u001b[49m\u001b[43m(\u001b[49m\u001b[43margs\u001b[49m\u001b[43m)\u001b[49m\u001b[43m)\u001b[49m\u001b[43m,\u001b[49m\n\u001b[1;32m   2302\u001b[0m \u001b[43m        \u001b[49m\u001b[43mctypes\u001b[49m\u001b[38;5;241;43m.\u001b[39;49m\u001b[43mbyref\u001b[49m\u001b[43m(\u001b[49m\u001b[43mshape\u001b[49m\u001b[43m)\u001b[49m\u001b[43m,\u001b[49m\n\u001b[1;32m   2303\u001b[0m \u001b[43m        \u001b[49m\u001b[43mctypes\u001b[49m\u001b[38;5;241;43m.\u001b[39;49m\u001b[43mbyref\u001b[49m\u001b[43m(\u001b[49m\u001b[43mdims\u001b[49m\u001b[43m)\u001b[49m\u001b[43m,\u001b[49m\n\u001b[1;32m   2304\u001b[0m \u001b[43m        \u001b[49m\u001b[43mctypes\u001b[49m\u001b[38;5;241;43m.\u001b[39;49m\u001b[43mbyref\u001b[49m\u001b[43m(\u001b[49m\u001b[43mpreds\u001b[49m\u001b[43m)\u001b[49m\u001b[43m,\u001b[49m\n\u001b[1;32m   2305\u001b[0m \u001b[43m    \u001b[49m\u001b[43m)\u001b[49m\n\u001b[1;32m   2306\u001b[0m \u001b[43m\u001b[49m\u001b[43m)\u001b[49m\n\u001b[1;32m   2307\u001b[0m \u001b[38;5;28;01mreturn\u001b[39;00m _prediction_output(shape, dims, preds, \u001b[38;5;28;01mFalse\u001b[39;00m)\n",
      "File \u001b[0;32m/opt/miniconda3/envs/tylers_env_do_not_touch/lib/python3.9/site-packages/xgboost/core.py:282\u001b[0m, in \u001b[0;36m_check_call\u001b[0;34m(ret)\u001b[0m\n\u001b[1;32m    281\u001b[0m \u001b[38;5;28;01mif\u001b[39;00m ret \u001b[38;5;241m!=\u001b[39m \u001b[38;5;241m0\u001b[39m:\n\u001b[0;32m--> 282\u001b[0m     \u001b[38;5;28;01mraise\u001b[39;00m XGBoostError(py_str(_LIB\u001b[38;5;241m.\u001b[39mXGBGetLastError()))\n",
      "\u001b[0;31mXGBoostError\u001b[0m: [19:58:20] /workspace/src/c_api/../data/../c_api/c_api_utils.h:123: Check failed: std::accumulate(shape.cbegin(), shape.cend(), static_cast<bst_ulong>(1), std::multiplies<>{}) == chunksize * rows (18 vs. 90) : \nStack trace:\n  [bt] (0) /opt/miniconda3/envs/tylers_env_do_not_touch/lib/python3.9/site-packages/xgboost/lib/libxgboost.so(+0x15c2ca) [0x7fc3ccf5c2ca]\n  [bt] (1) /opt/miniconda3/envs/tylers_env_do_not_touch/lib/python3.9/site-packages/xgboost/lib/libxgboost.so(+0x18ca1f) [0x7fc3ccf8ca1f]\n  [bt] (2) /opt/miniconda3/envs/tylers_env_do_not_touch/lib/python3.9/site-packages/xgboost/lib/libxgboost.so(XGBoosterPredictFromDMatrix+0x407) [0x7fc3ccf6d107]\n  [bt] (3) /opt/miniconda3/envs/tylers_env_do_not_touch/lib/python3.9/lib-dynload/../../libffi.so.8(+0xa052) [0x7fc489da6052]\n  [bt] (4) /opt/miniconda3/envs/tylers_env_do_not_touch/lib/python3.9/lib-dynload/../../libffi.so.8(+0x8925) [0x7fc489da4925]\n  [bt] (5) /opt/miniconda3/envs/tylers_env_do_not_touch/lib/python3.9/lib-dynload/../../libffi.so.8(ffi_call+0xde) [0x7fc489da506e]\n  [bt] (6) /opt/miniconda3/envs/tylers_env_do_not_touch/lib/python3.9/lib-dynload/_ctypes.cpython-39-x86_64-linux-gnu.so(+0x91e0) [0x7fc489ae31e0]\n  [bt] (7) /opt/miniconda3/envs/tylers_env_do_not_touch/lib/python3.9/lib-dynload/_ctypes.cpython-39-x86_64-linux-gnu.so(+0x8568) [0x7fc489ae2568]\n  [bt] (8) /opt/miniconda3/envs/tylers_env_do_not_touch/bin/python(_PyObject_MakeTpCall+0x2ec) [0x4f073c]\n\n",
      "\nThe above exception was the direct cause of the following exception:\n",
      "\u001b[0;31mValueError\u001b[0m                                Traceback (most recent call last)",
      "Cell \u001b[0;32mIn[68], line 8\u001b[0m, in \u001b[0;36mon_button_clicked\u001b[0;34m(b)\u001b[0m\n\u001b[1;32m      6\u001b[0m s11_val \u001b[38;5;241m=\u001b[39m s11_input\u001b[38;5;241m.\u001b[39mvalue\n\u001b[1;32m      7\u001b[0m freq_val \u001b[38;5;241m=\u001b[39m freq_input\u001b[38;5;241m.\u001b[39mvalue\n\u001b[0;32m----> 8\u001b[0m \u001b[43mprint_prediction\u001b[49m\u001b[43m(\u001b[49m\u001b[43m)\u001b[49m\n",
      "Cell \u001b[0;32mIn[66], line 27\u001b[0m, in \u001b[0;36mprint_prediction\u001b[0;34m()\u001b[0m\n\u001b[1;32m     25\u001b[0m geos_to_pass \u001b[38;5;241m=\u001b[39m working_geometries\u001b[38;5;241m.\u001b[39mcopy()\n\u001b[1;32m     26\u001b[0m geos_to_pass\u001b[38;5;241m.\u001b[39mdrop(columns\u001b[38;5;241m=\u001b[39m[\u001b[38;5;124m'\u001b[39m\u001b[38;5;124mGeometry Name\u001b[39m\u001b[38;5;124m'\u001b[39m, \u001b[38;5;124m'\u001b[39m\u001b[38;5;124mprediction\u001b[39m\u001b[38;5;124m'\u001b[39m], inplace\u001b[38;5;241m=\u001b[39m\u001b[38;5;28;01mTrue\u001b[39;00m)\n\u001b[0;32m---> 27\u001b[0m \u001b[43mprint_shap\u001b[49m\u001b[43m(\u001b[49m\u001b[43mgeos_to_pass\u001b[49m\u001b[38;5;241;43m.\u001b[39;49m\u001b[43miloc\u001b[49m\u001b[43m[\u001b[49m\u001b[38;5;241;43m0\u001b[39;49m\u001b[43m]\u001b[49m\u001b[43m)\u001b[49m\n",
      "Cell \u001b[0;32mIn[56], line 85\u001b[0m, in \u001b[0;36mprint_shap\u001b[0;34m(dimensions_for_prediction)\u001b[0m\n\u001b[1;32m     83\u001b[0m \u001b[38;5;28;01mdef\u001b[39;00m \u001b[38;5;21mprint_shap\u001b[39m(dimensions_for_prediction):\n\u001b[1;32m     84\u001b[0m     explainer \u001b[38;5;241m=\u001b[39m shap\u001b[38;5;241m.\u001b[39mTreeExplainer(model\u001b[38;5;241m.\u001b[39mnamed_steps[\u001b[38;5;124m'\u001b[39m\u001b[38;5;124mmodel\u001b[39m\u001b[38;5;124m'\u001b[39m])\n\u001b[0;32m---> 85\u001b[0m     shap_values \u001b[38;5;241m=\u001b[39m \u001b[43mexplainer\u001b[49m\u001b[43m(\u001b[49m\u001b[43mdimensions_for_prediction\u001b[49m\u001b[43m)\u001b[49m\n\u001b[1;32m     87\u001b[0m     display(HTML(\u001b[38;5;124m\"\u001b[39m\u001b[38;5;124m<h2>Shap Explanation</h2>\u001b[39m\u001b[38;5;124m\"\u001b[39m))\n\u001b[1;32m     88\u001b[0m     shap\u001b[38;5;241m.\u001b[39mplots\u001b[38;5;241m.\u001b[39mwaterfall(shap_values[\u001b[38;5;241m0\u001b[39m], max_display\u001b[38;5;241m=\u001b[39m\u001b[38;5;241m14\u001b[39m)\n",
      "File \u001b[0;32m/opt/miniconda3/envs/tylers_env_do_not_touch/lib/python3.9/site-packages/shap/explainers/_tree.py:246\u001b[0m, in \u001b[0;36mTreeExplainer.__call__\u001b[0;34m(self, X, y, interactions, check_additivity)\u001b[0m\n\u001b[1;32m    243\u001b[0m     feature_names \u001b[38;5;241m=\u001b[39m \u001b[38;5;28mgetattr\u001b[39m(\u001b[38;5;28mself\u001b[39m, \u001b[38;5;124m\"\u001b[39m\u001b[38;5;124mdata_feature_names\u001b[39m\u001b[38;5;124m\"\u001b[39m, \u001b[38;5;28;01mNone\u001b[39;00m)\n\u001b[1;32m    245\u001b[0m \u001b[38;5;28;01mif\u001b[39;00m \u001b[38;5;129;01mnot\u001b[39;00m interactions:\n\u001b[0;32m--> 246\u001b[0m     v \u001b[38;5;241m=\u001b[39m \u001b[38;5;28;43mself\u001b[39;49m\u001b[38;5;241;43m.\u001b[39;49m\u001b[43mshap_values\u001b[49m\u001b[43m(\u001b[49m\u001b[43mX\u001b[49m\u001b[43m,\u001b[49m\u001b[43m \u001b[49m\u001b[43my\u001b[49m\u001b[38;5;241;43m=\u001b[39;49m\u001b[43my\u001b[49m\u001b[43m,\u001b[49m\u001b[43m \u001b[49m\u001b[43mfrom_call\u001b[49m\u001b[38;5;241;43m=\u001b[39;49m\u001b[38;5;28;43;01mTrue\u001b[39;49;00m\u001b[43m,\u001b[49m\u001b[43m \u001b[49m\u001b[43mcheck_additivity\u001b[49m\u001b[38;5;241;43m=\u001b[39;49m\u001b[43mcheck_additivity\u001b[49m\u001b[43m,\u001b[49m\u001b[43m \u001b[49m\u001b[43mapproximate\u001b[49m\u001b[38;5;241;43m=\u001b[39;49m\u001b[38;5;28;43mself\u001b[39;49m\u001b[38;5;241;43m.\u001b[39;49m\u001b[43mapproximate\u001b[49m\u001b[43m)\u001b[49m\n\u001b[1;32m    247\u001b[0m     \u001b[38;5;28;01mif\u001b[39;00m \u001b[38;5;28misinstance\u001b[39m(v, \u001b[38;5;28mlist\u001b[39m):\n\u001b[1;32m    248\u001b[0m         v \u001b[38;5;241m=\u001b[39m np\u001b[38;5;241m.\u001b[39mstack(v, axis\u001b[38;5;241m=\u001b[39m\u001b[38;5;241m-\u001b[39m\u001b[38;5;241m1\u001b[39m)  \u001b[38;5;66;03m# put outputs at the end\u001b[39;00m\n",
      "File \u001b[0;32m/opt/miniconda3/envs/tylers_env_do_not_touch/lib/python3.9/site-packages/shap/explainers/_tree.py:414\u001b[0m, in \u001b[0;36mTreeExplainer.shap_values\u001b[0;34m(self, X, y, tree_limit, approximate, check_additivity, from_call)\u001b[0m\n\u001b[1;32m    409\u001b[0m \u001b[38;5;28;01mexcept\u001b[39;00m \u001b[38;5;167;01mValueError\u001b[39;00m \u001b[38;5;28;01mas\u001b[39;00m e:\n\u001b[1;32m    410\u001b[0m     emsg \u001b[38;5;241m=\u001b[39m (\n\u001b[1;32m    411\u001b[0m         \u001b[38;5;124m\"\u001b[39m\u001b[38;5;124mThis reshape error is often caused by passing a bad data matrix to SHAP. \u001b[39m\u001b[38;5;124m\"\u001b[39m\n\u001b[1;32m    412\u001b[0m         \u001b[38;5;124m\"\u001b[39m\u001b[38;5;124mSee https://github.com/shap/shap/issues/580.\u001b[39m\u001b[38;5;124m\"\u001b[39m\n\u001b[1;32m    413\u001b[0m     )\n\u001b[0;32m--> 414\u001b[0m     \u001b[38;5;28;01mraise\u001b[39;00m \u001b[38;5;167;01mValueError\u001b[39;00m(emsg) \u001b[38;5;28;01mfrom\u001b[39;00m \u001b[38;5;21;01me\u001b[39;00m\n\u001b[1;32m    416\u001b[0m \u001b[38;5;28;01mif\u001b[39;00m check_additivity \u001b[38;5;129;01mand\u001b[39;00m \u001b[38;5;28mself\u001b[39m\u001b[38;5;241m.\u001b[39mmodel\u001b[38;5;241m.\u001b[39mmodel_output \u001b[38;5;241m==\u001b[39m \u001b[38;5;124m\"\u001b[39m\u001b[38;5;124mraw\u001b[39m\u001b[38;5;124m\"\u001b[39m:\n\u001b[1;32m    417\u001b[0m     xgb_tree_limit \u001b[38;5;241m=\u001b[39m tree_limit \u001b[38;5;241m/\u001b[39m\u001b[38;5;241m/\u001b[39m \u001b[38;5;28mself\u001b[39m\u001b[38;5;241m.\u001b[39mmodel\u001b[38;5;241m.\u001b[39mnum_stacked_models\n",
      "\u001b[0;31mValueError\u001b[0m: This reshape error is often caused by passing a bad data matrix to SHAP. See https://github.com/shap/shap/issues/580."
     ]
    },
    {
     "data": {
      "image/png": "[encoded data removed]",
      "text/plain": [
       "<Figure size 600x400 with 1 Axes>"
      ]
     },
     "metadata": {},
     "output_type": "display_data"
    }
   ],
   "source": [
    "s11_input = widgets.BoundedFloatText(value=-10, min=predictions.min(), max=predictions.max(), step=0.05, description=\"S11:\")\n",
    "freq_input = widgets.FloatRangeSlider(min=df['Freq [GHz]'].min(), max=df['Freq [GHz]'].max(), step=0.01, description=\"Frequency Range:\")\n",
    "\n",
    "def on_button_clicked(b):\n",
    "    global s11_val, freq_val\n",
    "    s11_val = s11_input.value\n",
    "    freq_val = freq_input.value\n",
    "    print_prediction()\n",
    "\n",
    "def show_best_function(checkbox_val):\n",
    "    global show_best_only\n",
    "    show_best_only = checkbox_val['new']\n",
    "    print_dimensions()\n",
    "\n",
    "go_button = widgets.Button(description=\"Run\")\n",
    "go_button.on_click(on_button_clicked)\n",
    "\n",
    "show_best_checkbox = Checkbox(True, description='Only Show Best')\n",
    "show_best_checkbox.observe(show_best_function, names=['value'])"
   ]
  },
  {
   "cell_type": "code",
   "execution_count": 70,
   "metadata": {},
   "outputs": [
    {
     "data": {
      "application/vnd.jupyter.widget-view+json": {
       "model_id": "b8dffc0dce2b4a7c911204adde5336b6",
       "version_major": 2,
       "version_minor": 0
      },
      "text/plain": [
       "VBox(children=(BoundedFloatText(value=-15.0, description='S11:', max=14.449954986572266, min=-87.5062484741211…"
      ]
     },
     "execution_count": 70,
     "metadata": {},
     "output_type": "execute_result"
    }
   ],
   "source": [
    "VBox([s11_input, freq_input, go_button, show_best_checkbox, out])"
   ]
  },
  {
   "cell_type": "code",
   "execution_count": null,
   "metadata": {},
   "outputs": [],
   "source": []
  }
 ],
 "metadata": {
  "kernelspec": {
   "display_name": "Python 3",
   "language": "python",
   "name": "python3"
  },
  "language_info": {
   "codemirror_mode": {
    "name": "ipython",
    "version": 3
   },
   "file_extension": ".py",
   "mimetype": "text/x-python",
   "name": "python",
   "nbconvert_exporter": "python",
   "pygments_lexer": "ipython3",
   "version": "3.9.18"
  }
 },
 "nbformat": 4,
 "nbformat_minor": 2
}
