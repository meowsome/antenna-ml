{
 "cells": [
  {
   "cell_type": "code",
   "execution_count": 1,
   "metadata": {},
   "outputs": [],
   "source": [
    "import joblib\n",
    "import pandas as pd\n",
    "import ipywidgets as widgets\n",
    "from ipywidgets import Layout, Button, VBox\n",
    "from IPython.display import display, HTML, clear_output"
   ]
  },
  {
   "cell_type": "code",
   "execution_count": 2,
   "metadata": {},
   "outputs": [],
   "source": [
    "df = pd.read_csv(\"test_data/S Parameter Plot 2.csv\")"
   ]
  },
  {
   "cell_type": "code",
   "execution_count": 3,
   "metadata": {},
   "outputs": [],
   "source": [
    "model = joblib.load('antenna_model.pkl')\n"
   ]
  },
  {
   "cell_type": "code",
   "execution_count": 4,
   "metadata": {},
   "outputs": [],
   "source": [
    "s11 = df[['dB(S(1,1)) []']]\n",
    "freq = df[['Freq [GHz]']]\n",
    "l = df[['Pad_L [cm]']]\n",
    "w = df[['Pad_W [cm]']]"
   ]
  },
  {
   "cell_type": "code",
   "execution_count": 5,
   "metadata": {},
   "outputs": [],
   "source": [
    "def print_prediction(w_val, l_val, freq_val):\n",
    "    input_data = pd.DataFrame([[w_val, l_val, freq_val]], columns=[\"Pad_L [cm]\", \"Pad_W [cm]\", \"Freq [GHz]\"])\n",
    "    prediction = model.predict(input_data)[0]\n",
    "    display(print(prediction))"
   ]
  },
  {
   "cell_type": "code",
   "execution_count": null,
   "metadata": {},
   "outputs": [],
   "source": [
    "s11_input = widgets.BoundedFloatText(value=s11.mean().values[0], min=s11.min().values[0], max=s11.max().values[0], step=0.001, description=\"S11:\")\n",
    "freq_input = widgets.BoundedFloatText(value=freq.mean().values[0], min=freq.min().values[0], max=freq.max().values[0], step=0.01, description=\"Freq:\")\n",
    "w_input = widgets.BoundedFloatText(value=w.mean().values[0], min=w.min().values[0], max=w.max().values[0], step=0.01, description=\"W:\")\n",
    "l_input = widgets.BoundedFloatText(value=l.mean().values[0], min=l.min().values[0], max=l.max().values[0], step=0.01, description=\"L:\")\n",
    "\n",
    "out = widgets.Output()\n",
    "@out.capture()\n",
    "def on_button_clicked(b):\n",
    "    clear_output()\n",
    "    print_prediction(w_input.value, l_input.value, freq_input.value)\n",
    "\n",
    "go_button = widgets.Button(description=\"Run\")\n",
    "go_button.on_click(on_button_clicked)"
   ]
  },
  {
   "cell_type": "code",
   "execution_count": 7,
   "metadata": {},
   "outputs": [
    {
     "data": {
      "application/vnd.jupyter.widget-view+json": {
       "model_id": "6a48193256a24ce2a56ea1814c4af820",
       "version_major": 2,
       "version_minor": 0
      },
      "text/plain": [
       "VBox(children=(BoundedFloatText(value=0.4, description='L:', max=0.45, min=0.35, step=0.01), BoundedFloatText(…"
      ]
     },
     "execution_count": 7,
     "metadata": {},
     "output_type": "execute_result"
    }
   ],
   "source": [
    "VBox([l_input, w_input, freq_input, go_button, out])"
   ]
  },
  {
   "cell_type": "code",
   "execution_count": null,
   "metadata": {},
   "outputs": [],
   "source": []
  }
 ],
 "metadata": {
  "kernelspec": {
   "display_name": "Python 3",
   "language": "python",
   "name": "python3"
  },
  "language_info": {
   "codemirror_mode": {
    "name": "ipython",
    "version": 3
   },
   "file_extension": ".py",
   "mimetype": "text/x-python",
   "name": "python",
   "nbconvert_exporter": "python",
   "pygments_lexer": "ipython3",
   "version": "3.10.2"
  },
  "orig_nbformat": 4
 },
 "nbformat": 4,
 "nbformat_minor": 2
}
