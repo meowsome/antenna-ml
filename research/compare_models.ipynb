{
 "cells": [
  {
   "cell_type": "code",
   "execution_count": null,
   "metadata": {},
   "outputs": [],
   "source": [
    "# https://towardsdatascience.com/quickly-test-multiple-models-a98477476f0"
   ]
  },
  {
   "cell_type": "code",
   "execution_count": null,
   "metadata": {},
   "outputs": [],
   "source": [
    "import pandas as pd\n",
    "from sklearn.model_selection import train_test_split\n",
    "from sklearn.ensemble import RandomForestRegressor, GradientBoostingRegressor, AdaBoostRegressor\n",
    "from sklearn.preprocessing import MinMaxScaler\n",
    "from sklearn.svm import SVR\n",
    "from catboost import CatBoostRegressor\n",
    "from sklearn.kernel_ridge import KernelRidge\n",
    "from xgboost import XGBRegressor\n",
    "from sklearn.pipeline import Pipeline\n",
    "from sklearn.metrics import mean_squared_error, r2_score, make_scorer\n",
    "import plotly.express as px\n",
    "from sklearn.model_selection import RandomizedSearchCV\n",
    "import numpy as np\n",
    "from sklearn.tree import DecisionTreeRegressor\n",
    "from tqdm import tqdm"
   ]
  },
  {
   "cell_type": "code",
   "execution_count": null,
   "metadata": {},
   "outputs": [],
   "source": [
    "threshold = 1\n",
    "random_state = 42"
   ]
  },
  {
   "cell_type": "code",
   "execution_count": null,
   "metadata": {},
   "outputs": [],
   "source": [
    "# Import data and preprocess\n",
    "df = pd.read_csv(\"../test_data/patch_antenna/Patch Antenna S11 Data.csv\")\n",
    "df = df.drop(df[df['dB(S(1,1)) []'] > 0].index) # Remove all rows with positive s11\n",
    "\n",
    "# Split into x and y\n",
    "input_x = df.drop(columns=['dB(S(1,1)) []'], axis=1)\n",
    "input_y = df[['dB(S(1,1)) []']]\n",
    "\n",
    "# Split data into training and testing\n",
    "X_train, X_test, y_train, y_test = train_test_split(input_x, input_y, random_state=random_state)"
   ]
  },
  {
   "cell_type": "code",
   "execution_count": null,
   "metadata": {},
   "outputs": [],
   "source": [
    "def generate_pipeline(scaler, model):\n",
    "    return (model.__class__.__name__, Pipeline(steps=[('normalize', scaler), ('model', model)]))"
   ]
  },
  {
   "cell_type": "code",
   "execution_count": null,
   "metadata": {},
   "outputs": [],
   "source": [
    "# Check if predicted value is threshold amount above or below actual value\n",
    "def is_in_threshold(actual, pred):\n",
    "    return pred <= actual + threshold and pred >= actual - threshold\n",
    "\n",
    "def create_tf_column(results):\n",
    "    return results.apply(lambda x: is_in_threshold(x['y_test'], x['predictions']), axis=1)\n",
    "\n",
    "def get_score(y_test, y_pred, **kwargs):\n",
    "    dataframe = pd.DataFrame(y_test, columns=['y_test'])\n",
    "    dataframe['predictions'] = y_pred\n",
    "    return create_tf_column(dataframe).value_counts().get(True) / dataframe.shape[0]\n",
    "\n",
    "def get_rsme(y_test, y_pred):\n",
    "    return mean_squared_error(y_test, y_pred, squared=False)\n",
    "\n",
    "def get_r_squared(y_test, y_pred):\n",
    "    return r2_score(y_test, y_pred)"
   ]
  },
  {
   "cell_type": "code",
   "execution_count": null,
   "metadata": {},
   "outputs": [],
   "source": [
    "custom_scorer = make_scorer(get_score, greater_is_better=True)\n",
    "scaler = MinMaxScaler(feature_range=(0,1)) # Initialize scaler"
   ]
  },
  {
   "cell_type": "code",
   "execution_count": 63,
   "metadata": {},
   "outputs": [
    {
     "data": {
      "text/plain": [
       "{'model__splitter': 'best',\n",
       " 'model__min_samples_split': 2,\n",
       " 'model__min_samples_leaf': 1,\n",
       " 'model__max_depth': 17}"
      ]
     },
     "execution_count": 63,
     "metadata": {},
     "output_type": "execute_result"
    }
   ],
   "source": [
    "decision_tree_search.best_params_"
   ]
  },
  {
   "cell_type": "code",
   "execution_count": 48,
   "metadata": {},
   "outputs": [
    {
     "name": "stdout",
     "output_type": "stream",
     "text": [
      "Fitting 10 folds for each of 20 candidates, totalling 200 fits\n",
      "[CV 1/10; 1/20] START model__max_depth=19, model__min_samples_leaf=2, model__min_samples_split=4, model__splitter=random\n",
      "[CV 1/10; 1/20] END model__max_depth=19, model__min_samples_leaf=2, model__min_samples_split=4, model__splitter=random;, score=0.833 total time=   0.1s\n",
      "[CV 9/10; 1/20] START model__max_depth=19, model__min_samples_leaf=2, model__min_samples_split=4, model__splitter=random\n",
      "[CV 9/10; 1/20] END model__max_depth=19, model__min_samples_leaf=2, model__min_samples_split=4, model__splitter=random;, score=0.775 total time=   0.1s\n",
      "[CV 10/10; 2/20] START model__max_depth=17, model__min_samples_leaf=10, model__min_samples_split=3, model__splitter=random\n",
      "[CV 10/10; 2/20] END model__max_depth=17, model__min_samples_leaf=10, model__min_samples_split=3, model__splitter=random;, score=0.740 total time=   0.1s\n",
      "[CV 2/10; 3/20] START model__max_depth=10, model__min_samples_leaf=5, model__min_samples_split=4, model__splitter=random\n",
      "[CV 2/10; 3/20] END model__max_depth=10, model__min_samples_leaf=5, model__min_samples_split=4, model__splitter=random;, score=0.769 total time=   0.1s\n",
      "[CV 4/10; 3/20] START model__max_depth=10, model__min_samples_leaf=5, model__min_samples_split=4, model__splitter=random\n",
      "[CV 4/10; 3/20] END model__max_depth=10, model__min_samples_leaf=5, model__min_samples_split=4, model__splitter=random;, score=0.765 total time=   0.1s\n",
      "[CV 5/10; 3/20] START model__max_depth=10, model__min_samples_leaf=5, model__min_samples_split=4, model__splitter=random\n",
      "[CV 5/10; 3/20] END model__max_depth=10, model__min_samples_leaf=5, model__min_samples_split=4, model__splitter=random;, score=0.772 total time=   0.1s\n",
      "[CV 6/10; 3/20] START model__max_depth=10, model__min_samples_leaf=5, model__min_samples_split=4, model__splitter=random\n",
      "[CV 6/10; 3/20] END model__max_depth=10, model__min_samples_leaf=5, model__min_samples_split=4, model__splitter=random;, score=0.780 total time=   0.1s\n",
      "[CV 7/10; 3/20] START model__max_depth=10, model__min_samples_leaf=5, model__min_samples_split=4, model__splitter=random\n",
      "[CV 7/10; 3/20] END model__max_depth=10, model__min_samples_leaf=5, model__min_samples_split=4, model__splitter=random;, score=0.757 total time=   0.1s\n",
      "[CV 8/10; 3/20] START model__max_depth=10, model__min_samples_leaf=5, model__min_samples_split=4, model__splitter=random\n",
      "[CV 8/10; 3/20] END model__max_depth=10, model__min_samples_leaf=5, model__min_samples_split=4, model__splitter=random;, score=0.707 total time=   0.1s\n",
      "[CV 9/10; 3/20] START model__max_depth=10, model__min_samples_leaf=5, model__min_samples_split=4, model__splitter=random\n",
      "[CV 4/10; 1/20] START model__max_depth=19, model__min_samples_leaf=2, model__min_samples_split=4, model__splitter=random\n",
      "[CV 5/10; 1/20] START model__max_depth=19, model__min_samples_leaf=2, model__min_samples_split=4, model__splitter=random\n",
      "[CV 7/10; 1/20] START model__max_depth=19, model__min_samples_leaf=2, model__min_samples_split=4, model__splitter=random[CV 2/10; 1/20] START model__max_depth=19, model__min_samples_leaf=2, model__min_samples_split=4, model__splitter=random\n",
      "\n",
      "[CV 8/10; 1/20] START model__max_depth=19, model__min_samples_leaf=2, model__min_samples_split=4, model__splitter=random\n",
      "[CV 2/10; 2/20] START model__max_depth=17, model__min_samples_leaf=10, model__min_samples_split=3, model__splitter=random[CV 10/10; 1/20] START model__max_depth=19, model__min_samples_leaf=2, model__min_samples_split=4, model__splitter=random\n",
      "\n",
      "[CV 3/10; 2/20] START model__max_depth=17, model__min_samples_leaf=10, model__min_samples_split=3, model__splitter=random\n",
      "[CV 1/10; 2/20] START model__max_depth=17, model__min_samples_leaf=10, model__min_samples_split=3, model__splitter=random\n",
      "[CV 3/10; 1/20] START model__max_depth=19, model__min_samples_leaf=2, model__min_samples_split=4, model__splitter=random\n",
      "[CV 6/10; 2/20] START model__max_depth=17, model__min_samples_leaf=10, model__min_samples_split=3, model__splitter=random\n",
      "[CV 4/10; 2/20] START model__max_depth=17, model__min_samples_leaf=10, model__min_samples_split=3, model__splitter=random\n",
      "[CV 5/10; 2/20] START model__max_depth=17, model__min_samples_leaf=10, model__min_samples_split=3, model__splitter=random\n",
      "[CV 9/10; 3/20] END model__max_depth=10, model__min_samples_leaf=5, model__min_samples_split=4, model__splitter=random;, score=0.763 total time=   0.1s\n",
      "[CV 6/10; 1/20] START model__max_depth=19, model__min_samples_leaf=2, model__min_samples_split=4, model__splitter=random[CV 8/10; 2/20] START model__max_depth=17, model__min_samples_leaf=10, model__min_samples_split=3, model__splitter=random\n",
      "\n",
      "[CV 10/10; 3/20] START model__max_depth=10, model__min_samples_leaf=5, model__min_samples_split=4, model__splitter=random\n",
      "[CV 9/10; 2/20] START model__max_depth=17, model__min_samples_leaf=10, model__min_samples_split=3, model__splitter=random\n",
      "[CV 7/10; 2/20] START model__max_depth=17, model__min_samples_leaf=10, model__min_samples_split=3, model__splitter=random\n",
      "[CV 4/10; 1/20] END model__max_depth=19, model__min_samples_leaf=2, model__min_samples_split=4, model__splitter=random;, score=0.788 total time=   0.1s\n",
      "[CV 2/10; 1/20] END model__max_depth=19, model__min_samples_leaf=2, model__min_samples_split=4, model__splitter=random;, score=0.851 total time=   0.1s\n",
      "[CV 7/10; 1/20] END model__max_depth=19, model__min_samples_leaf=2, model__min_samples_split=4, model__splitter=random;, score=0.788 total time=   0.1s\n",
      "[CV 5/10; 1/20] END model__max_depth=19, model__min_samples_leaf=2, model__min_samples_split=4, model__splitter=random;, score=0.810 total time=   0.1s\n",
      "[CV 2/10; 2/20] END model__max_depth=17, model__min_samples_leaf=10, model__min_samples_split=3, model__splitter=random;, score=0.814 total time=   0.1s\n",
      "[CV 3/10; 2/20] END model__max_depth=17, model__min_samples_leaf=10, model__min_samples_split=3, model__splitter=random;, score=0.841 total time=   0.1s\n",
      "[CV 10/10; 1/20] END model__max_depth=19, model__min_samples_leaf=2, model__min_samples_split=4, model__splitter=random;, score=0.757 total time=   0.1s\n",
      "[CV 1/10; 2/20] END model__max_depth=17, model__min_samples_leaf=10, model__min_samples_split=3, model__splitter=random;, score=0.816 total time=   0.1s\n",
      "[CV 8/10; 1/20] END model__max_depth=19, model__min_samples_leaf=2, model__min_samples_split=4, model__splitter=random;, score=0.789 total time=   0.1s\n",
      "[CV 6/10; 2/20] END model__max_depth=17, model__min_samples_leaf=10, model__min_samples_split=3, model__splitter=random;, score=0.815 total time=   0.1s\n",
      "[CV 10/10; 3/20] END model__max_depth=10, model__min_samples_leaf=5, model__min_samples_split=4, model__splitter=random;, score=0.688 total time=   0.1s\n",
      "[CV 4/10; 2/20] END model__max_depth=17, model__min_samples_leaf=10, model__min_samples_split=3, model__splitter=random;, score=0.783 total time=   0.1s\n",
      "[CV 1/10; 4/20] START model__max_depth=14, model__min_samples_leaf=7, model__min_samples_split=3, model__splitter=best\n",
      "[CV 5/10; 2/20] END model__max_depth=17, model__min_samples_leaf=10, model__min_samples_split=3, model__splitter=random;, score=0.813 total time=   0.1s\n",
      "[CV 8/10; 2/20] END model__max_depth=17, model__min_samples_leaf=10, model__min_samples_split=3, model__splitter=random;, score=0.775 total time=   0.1s\n",
      "[CV 2/10; 4/20] START model__max_depth=14, model__min_samples_leaf=7, model__min_samples_split=3, model__splitter=best\n",
      "[CV 3/10; 1/20] END model__max_depth=19, model__min_samples_leaf=2, model__min_samples_split=4, model__splitter=random;, score=0.872 total time=   0.1s\n",
      "[CV 9/10; 2/20] END model__max_depth=17, model__min_samples_leaf=10, model__min_samples_split=3, model__splitter=random;, score=0.744 total time=   0.1s\n",
      "[CV 6/10; 1/20] END model__max_depth=19, model__min_samples_leaf=2, model__min_samples_split=4, model__splitter=random;, score=0.817 total time=   0.1s\n",
      "[CV 7/10; 2/20] END model__max_depth=17, model__min_samples_leaf=10, model__min_samples_split=3, model__splitter=random;, score=0.798 total time=   0.1s\n",
      "[CV 3/10; 4/20] START model__max_depth=14, model__min_samples_leaf=7, model__min_samples_split=3, model__splitter=best\n",
      "[CV 4/10; 4/20] START model__max_depth=14, model__min_samples_leaf=7, model__min_samples_split=3, model__splitter=best\n",
      "[CV 5/10; 4/20] START model__max_depth=14, model__min_samples_leaf=7, model__min_samples_split=3, model__splitter=best\n",
      "[CV 6/10; 4/20] START model__max_depth=14, model__min_samples_leaf=7, model__min_samples_split=3, model__splitter=best\n",
      "[CV 7/10; 4/20] START model__max_depth=14, model__min_samples_leaf=7, model__min_samples_split=3, model__splitter=best\n",
      "[CV 8/10; 4/20] START model__max_depth=14, model__min_samples_leaf=7, model__min_samples_split=3, model__splitter=best\n",
      "[CV 9/10; 4/20] START model__max_depth=14, model__min_samples_leaf=7, model__min_samples_split=3, model__splitter=best\n",
      "[CV 10/10; 4/20] START model__max_depth=14, model__min_samples_leaf=7, model__min_samples_split=3, model__splitter=best\n",
      "[CV 1/10; 5/20] START model__max_depth=19, model__min_samples_leaf=3, model__min_samples_split=2, model__splitter=random\n",
      "[CV 1/10; 3/20] START model__max_depth=10, model__min_samples_leaf=5, model__min_samples_split=4, model__splitter=random\n",
      "[CV 2/10; 5/20] START model__max_depth=19, model__min_samples_leaf=3, model__min_samples_split=2, model__splitter=random\n",
      "[CV 3/10; 5/20] START model__max_depth=19, model__min_samples_leaf=3, model__min_samples_split=2, model__splitter=random\n",
      "[CV 4/10; 5/20] START model__max_depth=19, model__min_samples_leaf=3, model__min_samples_split=2, model__splitter=random\n",
      "[CV 5/10; 5/20] START model__max_depth=19, model__min_samples_leaf=3, model__min_samples_split=2, model__splitter=random\n",
      "[CV 6/10; 5/20] START model__max_depth=19, model__min_samples_leaf=3, model__min_samples_split=2, model__splitter=random\n",
      "[CV 7/10; 5/20] START model__max_depth=19, model__min_samples_leaf=3, model__min_samples_split=2, model__splitter=random\n",
      "[CV 8/10; 5/20] START model__max_depth=19, model__min_samples_leaf=3, model__min_samples_split=2, model__splitter=random\n",
      "[CV 1/10; 4/20] END model__max_depth=14, model__min_samples_leaf=7, model__min_samples_split=3, model__splitter=best;, score=0.784 total time=   0.1s\n",
      "[CV 9/10; 5/20] START model__max_depth=19, model__min_samples_leaf=3, model__min_samples_split=2, model__splitter=random\n",
      "[CV 2/10; 4/20] END model__max_depth=14, model__min_samples_leaf=7, model__min_samples_split=3, model__splitter=best;, score=0.829 total time=   0.1s\n",
      "[CV 10/10; 5/20] START model__max_depth=19, model__min_samples_leaf=3, model__min_samples_split=2, model__splitter=random\n",
      "[CV 3/10; 3/20] START model__max_depth=10, model__min_samples_leaf=5, model__min_samples_split=4, model__splitter=random\n",
      "[CV 1/10; 3/20] END model__max_depth=10, model__min_samples_leaf=5, model__min_samples_split=4, model__splitter=random;, score=0.744 total time=   0.1s\n",
      "[CV 3/10; 4/20] END model__max_depth=14, model__min_samples_leaf=7, model__min_samples_split=3, model__splitter=best;, score=0.844 total time=   0.1s\n",
      "[CV 4/10; 4/20] END model__max_depth=14, model__min_samples_leaf=7, model__min_samples_split=3, model__splitter=best;, score=0.763 total time=   0.1s\n",
      "[CV 5/10; 4/20] END model__max_depth=14, model__min_samples_leaf=7, model__min_samples_split=3, model__splitter=best;, score=0.797 total time=   0.1s\n",
      "[CV 1/10; 6/20] START model__max_depth=15, model__min_samples_leaf=19, model__min_samples_split=4, model__splitter=random\n",
      "[CV 2/10; 6/20] START model__max_depth=15, model__min_samples_leaf=19, model__min_samples_split=4, model__splitter=random\n",
      "[CV 3/10; 6/20] START model__max_depth=15, model__min_samples_leaf=19, model__min_samples_split=4, model__splitter=random\n",
      "[CV 6/10; 4/20] END model__max_depth=14, model__min_samples_leaf=7, model__min_samples_split=3, model__splitter=best;, score=0.807 total time=   0.1s\n",
      "[CV 1/10; 5/20] END model__max_depth=19, model__min_samples_leaf=3, model__min_samples_split=2, model__splitter=random;, score=0.810 total time=   0.1s\n",
      "[CV 9/10; 4/20] END model__max_depth=14, model__min_samples_leaf=7, model__min_samples_split=3, model__splitter=best;, score=0.764 total time=   0.1s\n",
      "[CV 7/10; 4/20] END model__max_depth=14, model__min_samples_leaf=7, model__min_samples_split=3, model__splitter=best;, score=0.795 total time=   0.1s\n",
      "[CV 4/10; 6/20] START model__max_depth=15, model__min_samples_leaf=19, model__min_samples_split=4, model__splitter=random\n",
      "[CV 8/10; 4/20] END model__max_depth=14, model__min_samples_leaf=7, model__min_samples_split=3, model__splitter=best;, score=0.775 total time=   0.1s\n",
      "[CV 5/10; 6/20] START model__max_depth=15, model__min_samples_leaf=19, model__min_samples_split=4, model__splitter=random\n",
      "[CV 2/10; 5/20] END model__max_depth=19, model__min_samples_leaf=3, model__min_samples_split=2, model__splitter=random;, score=0.846 total time=   0.1s\n",
      "[CV 3/10; 5/20] END model__max_depth=19, model__min_samples_leaf=3, model__min_samples_split=2, model__splitter=random;, score=0.862 total time=   0.1s\n",
      "[CV 6/10; 6/20] START model__max_depth=15, model__min_samples_leaf=19, model__min_samples_split=4, model__splitter=random\n",
      "[CV 10/10; 4/20] END model__max_depth=14, model__min_samples_leaf=7, model__min_samples_split=3, model__splitter=best;, score=0.749 total time=   0.1s\n",
      "[CV 4/10; 5/20] END model__max_depth=19, model__min_samples_leaf=3, model__min_samples_split=2, model__splitter=random;, score=0.781 total time=   0.1s\n",
      "[CV 7/10; 6/20] START model__max_depth=15, model__min_samples_leaf=19, model__min_samples_split=4, model__splitter=random\n",
      "[CV 6/10; 5/20] END model__max_depth=19, model__min_samples_leaf=3, model__min_samples_split=2, model__splitter=random;, score=0.810 total time=   0.1s\n",
      "[CV 8/10; 6/20] START model__max_depth=15, model__min_samples_leaf=19, model__min_samples_split=4, model__splitter=random\n",
      "[CV 7/10; 5/20] END model__max_depth=19, model__min_samples_leaf=3, model__min_samples_split=2, model__splitter=random;, score=0.806 total time=   0.1s\n",
      "[CV 5/10; 5/20] END model__max_depth=19, model__min_samples_leaf=3, model__min_samples_split=2, model__splitter=random;, score=0.807 total time=   0.1s\n",
      "[CV 9/10; 6/20] START model__max_depth=15, model__min_samples_leaf=19, model__min_samples_split=4, model__splitter=random\n",
      "[CV 10/10; 6/20] START model__max_depth=15, model__min_samples_leaf=19, model__min_samples_split=4, model__splitter=random\n",
      "[CV 8/10; 5/20] END model__max_depth=19, model__min_samples_leaf=3, model__min_samples_split=2, model__splitter=random;, score=0.789 total time=   0.1s\n",
      "[CV 1/10; 7/20] START model__max_depth=7, model__min_samples_leaf=9, model__min_samples_split=2, model__splitter=best\n",
      "[CV 2/10; 7/20] START model__max_depth=7, model__min_samples_leaf=9, model__min_samples_split=2, model__splitter=best\n",
      "[CV 3/10; 7/20] START model__max_depth=7, model__min_samples_leaf=9, model__min_samples_split=2, model__splitter=best\n",
      "[CV 4/10; 7/20] START model__max_depth=7, model__min_samples_leaf=9, model__min_samples_split=2, model__splitter=best\n",
      "[CV 5/10; 7/20] START model__max_depth=7, model__min_samples_leaf=9, model__min_samples_split=2, model__splitter=best[CV 3/10; 3/20] END model__max_depth=10, model__min_samples_leaf=5, model__min_samples_split=4, model__splitter=random;, score=0.799 total time=   0.1s\n",
      "\n",
      "[CV 9/10; 5/20] END model__max_depth=19, model__min_samples_leaf=3, model__min_samples_split=2, model__splitter=random;, score=0.781 total time=   0.1s\n",
      "[CV 6/10; 7/20] START model__max_depth=7, model__min_samples_leaf=9, model__min_samples_split=2, model__splitter=best\n",
      "[CV 7/10; 7/20] START model__max_depth=7, model__min_samples_leaf=9, model__min_samples_split=2, model__splitter=best\n",
      "[CV 8/10; 7/20] START model__max_depth=7, model__min_samples_leaf=9, model__min_samples_split=2, model__splitter=best\n",
      "[CV 10/10; 5/20] END model__max_depth=19, model__min_samples_leaf=3, model__min_samples_split=2, model__splitter=random;, score=0.767 total time=   0.1s\n",
      "[CV 9/10; 7/20] START model__max_depth=7, model__min_samples_leaf=9, model__min_samples_split=2, model__splitter=best[CV 1/10; 6/20] END model__max_depth=15, model__min_samples_leaf=19, model__min_samples_split=4, model__splitter=random;, score=0.789 total time=   0.1s\n",
      "[CV 2/10; 6/20] END model__max_depth=15, model__min_samples_leaf=19, model__min_samples_split=4, model__splitter=random;, score=0.797 total time=   0.1s\n",
      "\n",
      "[CV 10/10; 7/20] START model__max_depth=7, model__min_samples_leaf=9, model__min_samples_split=2, model__splitter=best\n",
      "[CV 1/10; 8/20] START model__max_depth=15, model__min_samples_leaf=17, model__min_samples_split=4, model__splitter=best[CV 3/10; 6/20] END model__max_depth=15, model__min_samples_leaf=19, model__min_samples_split=4, model__splitter=random;, score=0.835 total time=   0.1s\n",
      "\n",
      "[CV 7/10; 6/20] END model__max_depth=15, model__min_samples_leaf=19, model__min_samples_split=4, model__splitter=random;, score=0.770 total time=   0.1s\n",
      "[CV 2/10; 8/20] START model__max_depth=15, model__min_samples_leaf=17, model__min_samples_split=4, model__splitter=best\n",
      "[CV 4/10; 6/20] END model__max_depth=15, model__min_samples_leaf=19, model__min_samples_split=4, model__splitter=random;, score=0.762 total time=   0.1s\n",
      "[CV 5/10; 6/20] END model__max_depth=15, model__min_samples_leaf=19, model__min_samples_split=4, model__splitter=random;, score=0.786 total time=   0.1s\n",
      "[CV 6/10; 6/20] END model__max_depth=15, model__min_samples_leaf=19, model__min_samples_split=4, model__splitter=random;, score=0.791 total time=   0.1s\n",
      "[CV 3/10; 8/20] START model__max_depth=15, model__min_samples_leaf=17, model__min_samples_split=4, model__splitter=best\n",
      "[CV 4/10; 8/20] START model__max_depth=15, model__min_samples_leaf=17, model__min_samples_split=4, model__splitter=best\n",
      "[CV 5/10; 8/20] START model__max_depth=15, model__min_samples_leaf=17, model__min_samples_split=4, model__splitter=best\n",
      "[CV 8/10; 6/20] END model__max_depth=15, model__min_samples_leaf=19, model__min_samples_split=4, model__splitter=random;, score=0.745 total time=   0.1s\n",
      "[CV 6/10; 8/20] START model__max_depth=15, model__min_samples_leaf=17, model__min_samples_split=4, model__splitter=best\n",
      "[CV 9/10; 6/20] END model__max_depth=15, model__min_samples_leaf=19, model__min_samples_split=4, model__splitter=random;, score=0.742 total time=   0.1s\n",
      "[CV 7/10; 8/20] START model__max_depth=15, model__min_samples_leaf=17, model__min_samples_split=4, model__splitter=best\n",
      "[CV 1/10; 7/20] END model__max_depth=7, model__min_samples_leaf=9, model__min_samples_split=2, model__splitter=best;, score=0.689 total time=   0.1s\n",
      "[CV 10/10; 6/20] END model__max_depth=15, model__min_samples_leaf=19, model__min_samples_split=4, model__splitter=random;, score=0.715 total time=   0.1s\n",
      "[CV 8/10; 8/20] START model__max_depth=15, model__min_samples_leaf=17, model__min_samples_split=4, model__splitter=best\n",
      "[CV 9/10; 8/20] START model__max_depth=15, model__min_samples_leaf=17, model__min_samples_split=4, model__splitter=best\n",
      "[CV 2/10; 7/20] END model__max_depth=7, model__min_samples_leaf=9, model__min_samples_split=2, model__splitter=best;, score=0.761 total time=   0.1s\n",
      "[CV 10/10; 8/20] START model__max_depth=15, model__min_samples_leaf=17, model__min_samples_split=4, model__splitter=best\n",
      "[CV 4/10; 7/20] END model__max_depth=7, model__min_samples_leaf=9, model__min_samples_split=2, model__splitter=best;, score=0.688 total time=   0.1s\n",
      "[CV 1/10; 9/20] START model__max_depth=2, model__min_samples_leaf=6, model__min_samples_split=3, model__splitter=random\n",
      "[CV 3/10; 7/20] END model__max_depth=7, model__min_samples_leaf=9, model__min_samples_split=2, model__splitter=best;, score=0.787 total time=   0.1s\n",
      "[CV 2/10; 9/20] START model__max_depth=2, model__min_samples_leaf=6, model__min_samples_split=3, model__splitter=random\n",
      "[CV 5/10; 7/20] END model__max_depth=7, model__min_samples_leaf=9, model__min_samples_split=2, model__splitter=best;, score=0.741 total time=   0.1s\n",
      "[CV 3/10; 9/20] START model__max_depth=2, model__min_samples_leaf=6, model__min_samples_split=3, model__splitter=random\n",
      "[CV 4/10; 9/20] START model__max_depth=2, model__min_samples_leaf=6, model__min_samples_split=3, model__splitter=random\n",
      "[CV 6/10; 7/20] END model__max_depth=7, model__min_samples_leaf=9, model__min_samples_split=2, model__splitter=best;, score=0.745 total time=   0.1s\n",
      "[CV 7/10; 7/20] END model__max_depth=7, model__min_samples_leaf=9, model__min_samples_split=2, model__splitter=best;, score=0.702 total time=   0.1s\n",
      "[CV 5/10; 9/20] START model__max_depth=2, model__min_samples_leaf=6, model__min_samples_split=3, model__splitter=random\n",
      "[CV 8/10; 7/20] END model__max_depth=7, model__min_samples_leaf=9, model__min_samples_split=2, model__splitter=best;, score=0.698 total time=   0.1s\n",
      "[CV 6/10; 9/20] START model__max_depth=2, model__min_samples_leaf=6, model__min_samples_split=3, model__splitter=random\n",
      "[CV 10/10; 7/20] END model__max_depth=7, model__min_samples_leaf=9, model__min_samples_split=2, model__splitter=best;, score=0.649 total time=   0.1s\n",
      "[CV 7/10; 9/20] START model__max_depth=2, model__min_samples_leaf=6, model__min_samples_split=3, model__splitter=random\n",
      "[CV 8/10; 9/20] START model__max_depth=2, model__min_samples_leaf=6, model__min_samples_split=3, model__splitter=random\n",
      "[CV 9/10; 7/20] END model__max_depth=7, model__min_samples_leaf=9, model__min_samples_split=2, model__splitter=best;, score=0.702 total time=   0.1s\n",
      "[CV 9/10; 9/20] START model__max_depth=2, model__min_samples_leaf=6, model__min_samples_split=3, model__splitter=random\n",
      "[CV 10/10; 9/20] START model__max_depth=2, model__min_samples_leaf=6, model__min_samples_split=3, model__splitter=random\n",
      "[CV 1/10; 9/20] END model__max_depth=2, model__min_samples_leaf=6, model__min_samples_split=3, model__splitter=random;, score=0.268 total time=   0.1s\n",
      "[CV 2/10; 9/20] END model__max_depth=2, model__min_samples_leaf=6, model__min_samples_split=3, model__splitter=random;, score=0.282 total time=   0.1s\n",
      "[CV 2/10; 8/20] END model__max_depth=15, model__min_samples_leaf=17, model__min_samples_split=4, model__splitter=best;, score=0.806 total time=   0.1s\n",
      "[CV 1/10; 8/20] END model__max_depth=15, model__min_samples_leaf=17, model__min_samples_split=4, model__splitter=best;, score=0.787 total time=   0.1s\n",
      "[CV 1/10; 10/20] START model__max_depth=15, model__min_samples_leaf=2, model__min_samples_split=3, model__splitter=random\n",
      "[CV 3/10; 9/20] END model__max_depth=2, model__min_samples_leaf=6, model__min_samples_split=3, model__splitter=random;, score=0.286 total time=   0.1s\n",
      "[CV 2/10; 10/20] START model__max_depth=15, model__min_samples_leaf=2, model__min_samples_split=3, model__splitter=random\n",
      "[CV 3/10; 8/20] END model__max_depth=15, model__min_samples_leaf=17, model__min_samples_split=4, model__splitter=best;, score=0.827 total time=   0.1s\n",
      "[CV 3/10; 10/20] START model__max_depth=15, model__min_samples_leaf=2, model__min_samples_split=3, model__splitter=random\n",
      "[CV 5/10; 8/20] END model__max_depth=15, model__min_samples_leaf=17, model__min_samples_split=4, model__splitter=best;, score=0.813 total time=   0.1s\n",
      "[CV 4/10; 9/20] END model__max_depth=2, model__min_samples_leaf=6, model__min_samples_split=3, model__splitter=random;, score=0.319 total time=   0.1s\n",
      "[CV 4/10; 10/20] START model__max_depth=15, model__min_samples_leaf=2, model__min_samples_split=3, model__splitter=random\n",
      "[CV 6/10; 8/20] END model__max_depth=15, model__min_samples_leaf=17, model__min_samples_split=4, model__splitter=best;, score=0.816 total time=   0.1s\n",
      "[CV 5/10; 9/20] END model__max_depth=2, model__min_samples_leaf=6, model__min_samples_split=3, model__splitter=random;, score=0.314 total time=   0.1s\n",
      "[CV 4/10; 8/20] END model__max_depth=15, model__min_samples_leaf=17, model__min_samples_split=4, model__splitter=best;, score=0.763 total time=   0.1s\n",
      "[CV 5/10; 10/20] START model__max_depth=15, model__min_samples_leaf=2, model__min_samples_split=3, model__splitter=random\n",
      "[CV 7/10; 8/20] END model__max_depth=15, model__min_samples_leaf=17, model__min_samples_split=4, model__splitter=best;, score=0.781 total time=   0.1s\n",
      "[CV 6/10; 9/20] END model__max_depth=2, model__min_samples_leaf=6, model__min_samples_split=3, model__splitter=random;, score=0.326 total time=   0.1s\n",
      "[CV 6/10; 10/20] START model__max_depth=15, model__min_samples_leaf=2, model__min_samples_split=3, model__splitter=random\n",
      "[CV 8/10; 8/20] END model__max_depth=15, model__min_samples_leaf=17, model__min_samples_split=4, model__splitter=best;, score=0.767 total time=   0.1s\n",
      "[CV 7/10; 9/20] END model__max_depth=2, model__min_samples_leaf=6, model__min_samples_split=3, model__splitter=random;, score=0.337 total time=   0.1s\n",
      "[CV 10/10; 8/20] END model__max_depth=15, model__min_samples_leaf=17, model__min_samples_split=4, model__splitter=best;, score=0.728 total time=   0.1s\n",
      "[CV 7/10; 10/20] START model__max_depth=15, model__min_samples_leaf=2, model__min_samples_split=3, model__splitter=random\n",
      "[CV 9/10; 8/20] END model__max_depth=15, model__min_samples_leaf=17, model__min_samples_split=4, model__splitter=best;, score=0.765 total time=   0.1s\n",
      "[CV 10/10; 9/20] END model__max_depth=2, model__min_samples_leaf=6, model__min_samples_split=3, model__splitter=random;, score=0.354 total time=   0.1s\n",
      "[CV 8/10; 9/20] END model__max_depth=2, model__min_samples_leaf=6, model__min_samples_split=3, model__splitter=random;, score=0.327 total time=   0.1s\n",
      "[CV 8/10; 10/20] START model__max_depth=15, model__min_samples_leaf=2, model__min_samples_split=3, model__splitter=random\n",
      "[CV 9/10; 10/20] START model__max_depth=15, model__min_samples_leaf=2, model__min_samples_split=3, model__splitter=random\n",
      "[CV 9/10; 9/20] END model__max_depth=2, model__min_samples_leaf=6, model__min_samples_split=3, model__splitter=random;, score=0.345 total time=   0.1s\n",
      "[CV 10/10; 10/20] START model__max_depth=15, model__min_samples_leaf=2, model__min_samples_split=3, model__splitter=random\n",
      "[CV 1/10; 11/20] START model__max_depth=17, model__min_samples_leaf=1, model__min_samples_split=2, model__splitter=best\n",
      "[CV 2/10; 11/20] START model__max_depth=17, model__min_samples_leaf=1, model__min_samples_split=2, model__splitter=best\n",
      "[CV 3/10; 11/20] START model__max_depth=17, model__min_samples_leaf=1, model__min_samples_split=2, model__splitter=best\n",
      "[CV 4/10; 11/20] START model__max_depth=17, model__min_samples_leaf=1, model__min_samples_split=2, model__splitter=best\n",
      "[CV 5/10; 11/20] START model__max_depth=17, model__min_samples_leaf=1, model__min_samples_split=2, model__splitter=best\n",
      "[CV 6/10; 11/20] START model__max_depth=17, model__min_samples_leaf=1, model__min_samples_split=2, model__splitter=best\n",
      "[CV 7/10; 11/20] START model__max_depth=17, model__min_samples_leaf=1, model__min_samples_split=2, model__splitter=best\n",
      "[CV 8/10; 11/20] START model__max_depth=17, model__min_samples_leaf=1, model__min_samples_split=2, model__splitter=best\n",
      "[CV 9/10; 11/20] START model__max_depth=17, model__min_samples_leaf=1, model__min_samples_split=2, model__splitter=best\n",
      "[CV 10/10; 11/20] START model__max_depth=17, model__min_samples_leaf=1, model__min_samples_split=2, model__splitter=best\n",
      "[CV 1/10; 10/20] END model__max_depth=15, model__min_samples_leaf=2, model__min_samples_split=3, model__splitter=random;, score=0.797 total time=   0.1s\n",
      "[CV 1/10; 12/20] START model__max_depth=13, model__min_samples_leaf=19, model__min_samples_split=4, model__splitter=best\n",
      "[CV 2/10; 10/20] END model__max_depth=15, model__min_samples_leaf=2, model__min_samples_split=3, model__splitter=random;, score=0.863 total time=   0.1s\n",
      "[CV 3/10; 10/20] END model__max_depth=15, model__min_samples_leaf=2, model__min_samples_split=3, model__splitter=random;, score=0.833 total time=   0.1s\n",
      "[CV 2/10; 12/20] START model__max_depth=13, model__min_samples_leaf=19, model__min_samples_split=4, model__splitter=best\n",
      "[CV 4/10; 10/20] END model__max_depth=15, model__min_samples_leaf=2, model__min_samples_split=3, model__splitter=random;, score=0.802 total time=   0.1s\n",
      "[CV 5/10; 10/20] END model__max_depth=15, model__min_samples_leaf=2, model__min_samples_split=3, model__splitter=random;, score=0.802 total time=   0.1s\n",
      "[CV 3/10; 12/20] START model__max_depth=13, model__min_samples_leaf=19, model__min_samples_split=4, model__splitter=best\n",
      "[CV 4/10; 12/20] START model__max_depth=13, model__min_samples_leaf=19, model__min_samples_split=4, model__splitter=best\n",
      "[CV 5/10; 12/20] START model__max_depth=13, model__min_samples_leaf=19, model__min_samples_split=4, model__splitter=best\n",
      "[CV 6/10; 10/20] END model__max_depth=15, model__min_samples_leaf=2, model__min_samples_split=3, model__splitter=random;, score=0.796 total time=   0.1s\n",
      "[CV 7/10; 10/20] END model__max_depth=15, model__min_samples_leaf=2, model__min_samples_split=3, model__splitter=random;, score=0.780 total time=   0.1s\n",
      "[CV 6/10; 12/20] START model__max_depth=13, model__min_samples_leaf=19, model__min_samples_split=4, model__splitter=best\n",
      "[CV 7/10; 12/20] START model__max_depth=13, model__min_samples_leaf=19, model__min_samples_split=4, model__splitter=best[CV 10/10; 10/20] END model__max_depth=15, model__min_samples_leaf=2, model__min_samples_split=3, model__splitter=random;, score=0.752 total time=   0.1s\n",
      "\n",
      "[CV 9/10; 10/20] END model__max_depth=15, model__min_samples_leaf=2, model__min_samples_split=3, model__splitter=random;, score=0.780 total time=   0.1s\n",
      "[CV 8/10; 12/20] START model__max_depth=13, model__min_samples_leaf=19, model__min_samples_split=4, model__splitter=best\n",
      "[CV 8/10; 10/20] END model__max_depth=15, model__min_samples_leaf=2, model__min_samples_split=3, model__splitter=random;, score=0.781 total time=   0.1s\n",
      "[CV 9/10; 12/20] START model__max_depth=13, model__min_samples_leaf=19, model__min_samples_split=4, model__splitter=best\n",
      "[CV 10/10; 12/20] START model__max_depth=13, model__min_samples_leaf=19, model__min_samples_split=4, model__splitter=best\n",
      "[CV 1/10; 11/20] END model__max_depth=17, model__min_samples_leaf=1, model__min_samples_split=2, model__splitter=best;, score=0.798 total time=   0.1s\n",
      "[CV 1/10; 13/20] START model__max_depth=1, model__min_samples_leaf=16, model__min_samples_split=4, model__splitter=best\n",
      "[CV 2/10; 11/20] END model__max_depth=17, model__min_samples_leaf=1, model__min_samples_split=2, model__splitter=best;, score=0.871 total time=   0.1s\n",
      "[CV 1/10; 12/20] END model__max_depth=13, model__min_samples_leaf=19, model__min_samples_split=4, model__splitter=best;, score=0.764 total time=   0.1s\n",
      "[CV 3/10; 13/20] START model__max_depth=1, model__min_samples_leaf=16, model__min_samples_split=4, model__splitter=best\n",
      "[CV 4/10; 11/20] END model__max_depth=17, model__min_samples_leaf=1, model__min_samples_split=2, model__splitter=best;, score=0.767 total time=   0.1s\n",
      "[CV 3/10; 11/20] END model__max_depth=17, model__min_samples_leaf=1, model__min_samples_split=2, model__splitter=best;, score=0.877 total time=   0.1s\n",
      "[CV 2/10; 12/20] END model__max_depth=13, model__min_samples_leaf=19, model__min_samples_split=4, model__splitter=best;, score=0.806 total time=   0.1s\n",
      "[CV 3/10; 12/20] END model__max_depth=13, model__min_samples_leaf=19, model__min_samples_split=4, model__splitter=best;, score=0.819 total time=   0.1s[CV 5/10; 11/20] END model__max_depth=17, model__min_samples_leaf=1, model__min_samples_split=2, model__splitter=best;, score=0.806 total time=   0.1s\n",
      "\n",
      "[CV 5/10; 13/20] START model__max_depth=1, model__min_samples_leaf=16, model__min_samples_split=4, model__splitter=best\n",
      "[CV 6/10; 11/20] END model__max_depth=17, model__min_samples_leaf=1, model__min_samples_split=2, model__splitter=best;, score=0.814 total time=   0.1s\n",
      "[CV 8/10; 11/20] END model__max_depth=17, model__min_samples_leaf=1, model__min_samples_split=2, model__splitter=best;, score=0.794 total time=   0.1s\n",
      "[CV 7/10; 13/20] START model__max_depth=1, model__min_samples_leaf=16, model__min_samples_split=4, model__splitter=best\n",
      "[CV 7/10; 11/20] END model__max_depth=17, model__min_samples_leaf=1, model__min_samples_split=2, model__splitter=best;, score=0.797 total time=   0.1s\n",
      "[CV 4/10; 12/20] END model__max_depth=13, model__min_samples_leaf=19, model__min_samples_split=4, model__splitter=best;, score=0.759 total time=   0.1s\n",
      "[CV 5/10; 12/20] END model__max_depth=13, model__min_samples_leaf=19, model__min_samples_split=4, model__splitter=best;, score=0.805 total time=   0.1s\n",
      "[CV 10/10; 11/20] END model__max_depth=17, model__min_samples_leaf=1, model__min_samples_split=2, model__splitter=best;, score=0.768 total time=   0.1s\n",
      "[CV 9/10; 13/20] START model__max_depth=1, model__min_samples_leaf=16, model__min_samples_split=4, model__splitter=best\n",
      "[CV 9/10; 11/20] END model__max_depth=17, model__min_samples_leaf=1, model__min_samples_split=2, model__splitter=best;, score=0.788 total time=   0.1s\n",
      "[CV 1/10; 14/20] START model__max_depth=17, model__min_samples_leaf=5, model__min_samples_split=4, model__splitter=best\n",
      "[CV 6/10; 12/20] END model__max_depth=13, model__min_samples_leaf=19, model__min_samples_split=4, model__splitter=best;, score=0.813 total time=   0.1s\n",
      "[CV 3/10; 14/20] START model__max_depth=17, model__min_samples_leaf=5, model__min_samples_split=4, model__splitter=best\n",
      "[CV 5/10; 14/20] START model__max_depth=17, model__min_samples_leaf=5, model__min_samples_split=4, model__splitter=best\n",
      "[CV 7/10; 12/20] END model__max_depth=13, model__min_samples_leaf=19, model__min_samples_split=4, model__splitter=best;, score=0.775 total time=   0.1s\n",
      "[CV 7/10; 14/20] START model__max_depth=17, model__min_samples_leaf=5, model__min_samples_split=4, model__splitter=best\n",
      "[CV 1/10; 13/20] END model__max_depth=1, model__min_samples_leaf=16, model__min_samples_split=4, model__splitter=best;, score=0.248 total time=   0.0s\n",
      "[CV 2/10; 13/20] START model__max_depth=1, model__min_samples_leaf=16, model__min_samples_split=4, model__splitter=best\n",
      "[CV 9/10; 14/20] START model__max_depth=17, model__min_samples_leaf=5, model__min_samples_split=4, model__splitter=best\n",
      "[CV 9/10; 12/20] END model__max_depth=13, model__min_samples_leaf=19, model__min_samples_split=4, model__splitter=best;, score=0.763 total time=   0.1s\n",
      "[CV 1/10; 15/20] START model__max_depth=16, model__min_samples_leaf=9, model__min_samples_split=3, model__splitter=random[CV 3/10; 13/20] END model__max_depth=1, model__min_samples_leaf=16, model__min_samples_split=4, model__splitter=best;, score=0.235 total time=   0.0s\n",
      "\n",
      "[CV 4/10; 13/20] START model__max_depth=1, model__min_samples_leaf=16, model__min_samples_split=4, model__splitter=best\n",
      "[CV 3/10; 15/20] START model__max_depth=16, model__min_samples_leaf=9, model__min_samples_split=3, model__splitter=random\n",
      "[CV 8/10; 12/20] END model__max_depth=13, model__min_samples_leaf=19, model__min_samples_split=4, model__splitter=best;, score=0.771 total time=   0.1s\n",
      "[CV 10/10; 12/20] END model__max_depth=13, model__min_samples_leaf=19, model__min_samples_split=4, model__splitter=best;, score=0.722 total time=   0.1s\n",
      "[CV 5/10; 15/20] START model__max_depth=16, model__min_samples_leaf=9, model__min_samples_split=3, model__splitter=random\n",
      "[CV 7/10; 15/20] START model__max_depth=16, model__min_samples_leaf=9, model__min_samples_split=3, model__splitter=random\n",
      "[CV 9/10; 15/20] START model__max_depth=16, model__min_samples_leaf=9, model__min_samples_split=3, model__splitter=random\n",
      "[CV 5/10; 13/20] END model__max_depth=1, model__min_samples_leaf=16, model__min_samples_split=4, model__splitter=best;, score=0.254 total time=   0.0s\n",
      "[CV 6/10; 13/20] START model__max_depth=1, model__min_samples_leaf=16, model__min_samples_split=4, model__splitter=best\n",
      "[CV 1/10; 16/20] START model__max_depth=8, model__min_samples_leaf=16, model__min_samples_split=4, model__splitter=random\n",
      "[CV 3/10; 16/20] START model__max_depth=8, model__min_samples_leaf=16, model__min_samples_split=4, model__splitter=random\n",
      "[CV 5/10; 16/20] START model__max_depth=8, model__min_samples_leaf=16, model__min_samples_split=4, model__splitter=random\n",
      "[CV 9/10; 13/20] END model__max_depth=1, model__min_samples_leaf=16, model__min_samples_split=4, model__splitter=best;, score=0.252 total time=   0.0s\n",
      "[CV 10/10; 13/20] START model__max_depth=1, model__min_samples_leaf=16, model__min_samples_split=4, model__splitter=best\n",
      "[CV 7/10; 16/20] START model__max_depth=8, model__min_samples_leaf=16, model__min_samples_split=4, model__splitter=random\n",
      "[CV 9/10; 16/20] START model__max_depth=8, model__min_samples_leaf=16, model__min_samples_split=4, model__splitter=random\n",
      "[CV 7/10; 13/20] END model__max_depth=1, model__min_samples_leaf=16, model__min_samples_split=4, model__splitter=best;, score=0.269 total time=   0.1s\n",
      "[CV 8/10; 13/20] START model__max_depth=1, model__min_samples_leaf=16, model__min_samples_split=4, model__splitter=best\n",
      "[CV 4/10; 13/20] END model__max_depth=1, model__min_samples_leaf=16, model__min_samples_split=4, model__splitter=best;, score=0.281 total time=   0.0s\n",
      "[CV 1/10; 17/20] START model__max_depth=15, model__min_samples_leaf=14, model__min_samples_split=4, model__splitter=best\n",
      "[CV 2/10; 13/20] END model__max_depth=1, model__min_samples_leaf=16, model__min_samples_split=4, model__splitter=best;, score=0.234 total time=   0.1s\n",
      "[CV 3/10; 17/20] START model__max_depth=15, model__min_samples_leaf=14, model__min_samples_split=4, model__splitter=best\n",
      "[CV 6/10; 13/20] END model__max_depth=1, model__min_samples_leaf=16, model__min_samples_split=4, model__splitter=best;, score=0.249 total time=   0.1s\n",
      "[CV 5/10; 17/20] START model__max_depth=15, model__min_samples_leaf=14, model__min_samples_split=4, model__splitter=best\n",
      "[CV 10/10; 13/20] END model__max_depth=1, model__min_samples_leaf=16, model__min_samples_split=4, model__splitter=best;, score=0.244 total time=   0.1s\n",
      "[CV 3/10; 15/20] END model__max_depth=16, model__min_samples_leaf=9, model__min_samples_split=3, model__splitter=random;, score=0.833 total time=   0.1s\n",
      "[CV 4/10; 15/20] START model__max_depth=16, model__min_samples_leaf=9, model__min_samples_split=3, model__splitter=random\n",
      "[CV 1/10; 15/20] END model__max_depth=16, model__min_samples_leaf=9, model__min_samples_split=3, model__splitter=random;, score=0.809 total time=   0.1s\n",
      "[CV 2/10; 15/20] START model__max_depth=16, model__min_samples_leaf=9, model__min_samples_split=3, model__splitter=random\n",
      "[CV 7/10; 17/20] START model__max_depth=15, model__min_samples_leaf=14, model__min_samples_split=4, model__splitter=best[CV 1/10; 16/20] END model__max_depth=8, model__min_samples_leaf=16, model__min_samples_split=4, model__splitter=random;, score=0.754 total time=   0.1s\n",
      "[CV 2/10; 16/20] START model__max_depth=8, model__min_samples_leaf=16, model__min_samples_split=4, model__splitter=random\n",
      "\n",
      "[CV 5/10; 15/20] END model__max_depth=16, model__min_samples_leaf=9, model__min_samples_split=3, model__splitter=random;, score=0.808 total time=   0.1s\n",
      "[CV 3/10; 16/20] END model__max_depth=8, model__min_samples_leaf=16, model__min_samples_split=4, model__splitter=random;, score=0.784 total time=   0.1s[CV 6/10; 15/20] START model__max_depth=16, model__min_samples_leaf=9, model__min_samples_split=3, model__splitter=random\n",
      "\n",
      "[CV 4/10; 16/20] START model__max_depth=8, model__min_samples_leaf=16, model__min_samples_split=4, model__splitter=random\n",
      "[CV 7/10; 15/20] END model__max_depth=16, model__min_samples_leaf=9, model__min_samples_split=3, model__splitter=random;, score=0.792 total time=   0.1s[CV 8/10; 13/20] END model__max_depth=1, model__min_samples_leaf=16, model__min_samples_split=4, model__splitter=best;, score=0.249 total time=   0.1s\n",
      "\n",
      "[CV 8/10; 15/20] START model__max_depth=16, model__min_samples_leaf=9, model__min_samples_split=3, model__splitter=random\n",
      "[CV 3/10; 14/20] END model__max_depth=17, model__min_samples_leaf=5, model__min_samples_split=4, model__splitter=best;, score=0.859 total time=   0.1s\n",
      "[CV 4/10; 14/20] START model__max_depth=17, model__min_samples_leaf=5, model__min_samples_split=4, model__splitter=best\n",
      "[CV 5/10; 16/20] END model__max_depth=8, model__min_samples_leaf=16, model__min_samples_split=4, model__splitter=random;, score=0.737 total time=   0.1s\n",
      "[CV 6/10; 16/20] START model__max_depth=8, model__min_samples_leaf=16, model__min_samples_split=4, model__splitter=random\n",
      "[CV 1/10; 14/20] END model__max_depth=17, model__min_samples_leaf=5, model__min_samples_split=4, model__splitter=best;, score=0.798 total time=   0.1s\n",
      "[CV 2/10; 14/20] START model__max_depth=17, model__min_samples_leaf=5, model__min_samples_split=4, model__splitter=best\n",
      "[CV 9/10; 14/20] END model__max_depth=17, model__min_samples_leaf=5, model__min_samples_split=4, model__splitter=best;, score=0.776 total time=   0.1s\n",
      "[CV 10/10; 14/20] START model__max_depth=17, model__min_samples_leaf=5, model__min_samples_split=4, model__splitter=best\n",
      "[CV 9/10; 17/20] START model__max_depth=15, model__min_samples_leaf=14, model__min_samples_split=4, model__splitter=best\n",
      "[CV 7/10; 16/20] END model__max_depth=8, model__min_samples_leaf=16, model__min_samples_split=4, model__splitter=random;, score=0.727 total time=   0.1s\n",
      "[CV 8/10; 16/20] START model__max_depth=8, model__min_samples_leaf=16, model__min_samples_split=4, model__splitter=random\n",
      "[CV 9/10; 15/20] END model__max_depth=16, model__min_samples_leaf=9, model__min_samples_split=3, model__splitter=random;, score=0.745 total time=   0.1s\n",
      "[CV 10/10; 15/20] START model__max_depth=16, model__min_samples_leaf=9, model__min_samples_split=3, model__splitter=random\n",
      "[CV 9/10; 16/20] END model__max_depth=8, model__min_samples_leaf=16, model__min_samples_split=4, model__splitter=random;, score=0.715 total time=   0.1s\n",
      "[CV 10/10; 16/20] START model__max_depth=8, model__min_samples_leaf=16, model__min_samples_split=4, model__splitter=random\n",
      "[CV 7/10; 14/20] END model__max_depth=17, model__min_samples_leaf=5, model__min_samples_split=4, model__splitter=best;, score=0.794 total time=   0.1s\n",
      "[CV 8/10; 14/20] START model__max_depth=17, model__min_samples_leaf=5, model__min_samples_split=4, model__splitter=best\n",
      "[CV 5/10; 14/20] END model__max_depth=17, model__min_samples_leaf=5, model__min_samples_split=4, model__splitter=best;, score=0.804 total time=   0.1s\n",
      "[CV 6/10; 14/20] START model__max_depth=17, model__min_samples_leaf=5, model__min_samples_split=4, model__splitter=best\n",
      "[CV 1/10; 17/20] END model__max_depth=15, model__min_samples_leaf=14, model__min_samples_split=4, model__splitter=best;, score=0.787 total time=   0.1s\n",
      "[CV 2/10; 17/20] START model__max_depth=15, model__min_samples_leaf=14, model__min_samples_split=4, model__splitter=best\n",
      "[CV 2/10; 16/20] END model__max_depth=8, model__min_samples_leaf=16, model__min_samples_split=4, model__splitter=random;, score=0.759 total time=   0.1s[CV 4/10; 16/20] END model__max_depth=8, model__min_samples_leaf=16, model__min_samples_split=4, model__splitter=random;, score=0.734 total time=   0.1s\n",
      "\n",
      "[CV 3/10; 17/20] END model__max_depth=15, model__min_samples_leaf=14, model__min_samples_split=4, model__splitter=best;, score=0.832 total time=   0.1s\n",
      "[CV 4/10; 17/20] START model__max_depth=15, model__min_samples_leaf=14, model__min_samples_split=4, model__splitter=best\n",
      "[CV 4/10; 15/20] END model__max_depth=16, model__min_samples_leaf=9, model__min_samples_split=3, model__splitter=random;, score=0.778 total time=   0.1s[CV 1/10; 18/20] START model__max_depth=17, model__min_samples_leaf=11, model__min_samples_split=4, model__splitter=best\n",
      "\n",
      "[CV 8/10; 16/20] END model__max_depth=8, model__min_samples_leaf=16, model__min_samples_split=4, model__splitter=random;, score=0.739 total time=   0.1s\n",
      "[CV 6/10; 16/20] END model__max_depth=8, model__min_samples_leaf=16, model__min_samples_split=4, model__splitter=random;, score=0.766 total time=   0.1s\n",
      "[CV 3/10; 18/20] START model__max_depth=17, model__min_samples_leaf=11, model__min_samples_split=4, model__splitter=best\n",
      "[CV 2/10; 15/20] END model__max_depth=16, model__min_samples_leaf=9, model__min_samples_split=3, model__splitter=random;, score=0.835 total time=   0.1s\n",
      "[CV 10/10; 16/20] END model__max_depth=8, model__min_samples_leaf=16, model__min_samples_split=4, model__splitter=random;, score=0.664 total time=   0.1s\n",
      "[CV 5/10; 18/20] START model__max_depth=17, model__min_samples_leaf=11, model__min_samples_split=4, model__splitter=best\n",
      "[CV 6/10; 15/20] END model__max_depth=16, model__min_samples_leaf=9, model__min_samples_split=3, model__splitter=random;, score=0.814 total time=   0.1s\n",
      "[CV 7/10; 18/20] START model__max_depth=17, model__min_samples_leaf=11, model__min_samples_split=4, model__splitter=best\n",
      "[CV 5/10; 17/20] END model__max_depth=15, model__min_samples_leaf=14, model__min_samples_split=4, model__splitter=best;, score=0.803 total time=   0.1s\n",
      "[CV 6/10; 17/20] START model__max_depth=15, model__min_samples_leaf=14, model__min_samples_split=4, model__splitter=best\n",
      "[CV 9/10; 18/20] START model__max_depth=17, model__min_samples_leaf=11, model__min_samples_split=4, model__splitter=best\n",
      "[CV 8/10; 15/20] END model__max_depth=16, model__min_samples_leaf=9, model__min_samples_split=3, model__splitter=random;, score=0.775 total time=   0.1s\n",
      "[CV 10/10; 15/20] END model__max_depth=16, model__min_samples_leaf=9, model__min_samples_split=3, model__splitter=random;, score=0.719 total time=   0.1s\n",
      "[CV 1/10; 19/20] START model__max_depth=19, model__min_samples_leaf=11, model__min_samples_split=2, model__splitter=random\n",
      "[CV 3/10; 19/20] START model__max_depth=19, model__min_samples_leaf=11, model__min_samples_split=2, model__splitter=random\n",
      "[CV 5/10; 19/20] START model__max_depth=19, model__min_samples_leaf=11, model__min_samples_split=2, model__splitter=random\n",
      "[CV 7/10; 17/20] END model__max_depth=15, model__min_samples_leaf=14, model__min_samples_split=4, model__splitter=best;, score=0.782 total time=   0.1s\n",
      "[CV 8/10; 17/20] START model__max_depth=15, model__min_samples_leaf=14, model__min_samples_split=4, model__splitter=best\n",
      "[CV 7/10; 19/20] START model__max_depth=19, model__min_samples_leaf=11, model__min_samples_split=2, model__splitter=random\n",
      "[CV 8/10; 14/20] END model__max_depth=17, model__min_samples_leaf=5, model__min_samples_split=4, model__splitter=best;, score=0.779 total time=   0.1s\n",
      "[CV 9/10; 19/20] START model__max_depth=19, model__min_samples_leaf=11, model__min_samples_split=2, model__splitter=random\n",
      "[CV 4/10; 14/20] END model__max_depth=17, model__min_samples_leaf=5, model__min_samples_split=4, model__splitter=best;, score=0.762 total time=   0.1s\n",
      "[CV 10/10; 14/20] END model__max_depth=17, model__min_samples_leaf=5, model__min_samples_split=4, model__splitter=best;, score=0.751 total time=   0.1s\n",
      "[CV 1/10; 20/20] START model__max_depth=12, model__min_samples_leaf=14, model__min_samples_split=2, model__splitter=best\n",
      "[CV 6/10; 14/20] END model__max_depth=17, model__min_samples_leaf=5, model__min_samples_split=4, model__splitter=best;, score=0.814 total time=   0.1s\n",
      "[CV 9/10; 17/20] END model__max_depth=15, model__min_samples_leaf=14, model__min_samples_split=4, model__splitter=best;, score=0.766 total time=   0.1s\n",
      "[CV 10/10; 17/20] START model__max_depth=15, model__min_samples_leaf=14, model__min_samples_split=4, model__splitter=best\n",
      "[CV 3/10; 20/20] START model__max_depth=12, model__min_samples_leaf=14, model__min_samples_split=2, model__splitter=best\n",
      "[CV 2/10; 14/20] END model__max_depth=17, model__min_samples_leaf=5, model__min_samples_split=4, model__splitter=best;, score=0.836 total time=   0.1s\n",
      "[CV 5/10; 20/20] START model__max_depth=12, model__min_samples_leaf=14, model__min_samples_split=2, model__splitter=best\n",
      "[CV 7/10; 20/20] START model__max_depth=12, model__min_samples_leaf=14, model__min_samples_split=2, model__splitter=best\n",
      "[CV 9/10; 20/20] START model__max_depth=12, model__min_samples_leaf=14, model__min_samples_split=2, model__splitter=best\n",
      "[CV 2/10; 17/20] END model__max_depth=15, model__min_samples_leaf=14, model__min_samples_split=4, model__splitter=best;, score=0.809 total time=   0.1s\n",
      "[CV 1/10; 19/20] END model__max_depth=19, model__min_samples_leaf=11, model__min_samples_split=2, model__splitter=random;, score=0.794 total time=   0.1s\n",
      "[CV 2/10; 19/20] START model__max_depth=19, model__min_samples_leaf=11, model__min_samples_split=2, model__splitter=random\n",
      "[CV 4/10; 17/20] END model__max_depth=15, model__min_samples_leaf=14, model__min_samples_split=4, model__splitter=best;, score=0.768 total time=   0.1s\n",
      "[CV 3/10; 19/20] END model__max_depth=19, model__min_samples_leaf=11, model__min_samples_split=2, model__splitter=random;, score=0.828 total time=   0.1s\n",
      "[CV 4/10; 19/20] START model__max_depth=19, model__min_samples_leaf=11, model__min_samples_split=2, model__splitter=random\n",
      "[CV 5/10; 19/20] END model__max_depth=19, model__min_samples_leaf=11, model__min_samples_split=2, model__splitter=random;, score=0.802 total time=   0.1s\n",
      "[CV 9/10; 19/20] END model__max_depth=19, model__min_samples_leaf=11, model__min_samples_split=2, model__splitter=random;, score=0.749 total time=   0.1s\n",
      "[CV 6/10; 19/20] START model__max_depth=19, model__min_samples_leaf=11, model__min_samples_split=2, model__splitter=random\n",
      "[CV 10/10; 19/20] START model__max_depth=19, model__min_samples_leaf=11, model__min_samples_split=2, model__splitter=random\n",
      "[CV 5/10; 18/20] END model__max_depth=17, model__min_samples_leaf=11, model__min_samples_split=4, model__splitter=best;, score=0.812 total time=   0.1s\n",
      "[CV 1/10; 18/20] END model__max_depth=17, model__min_samples_leaf=11, model__min_samples_split=4, model__splitter=best;, score=0.787 total time=   0.1s\n",
      "[CV 6/10; 18/20] START model__max_depth=17, model__min_samples_leaf=11, model__min_samples_split=4, model__splitter=best\n",
      "[CV 2/10; 18/20] START model__max_depth=17, model__min_samples_leaf=11, model__min_samples_split=4, model__splitter=best\n",
      "[CV 3/10; 18/20] END model__max_depth=17, model__min_samples_leaf=11, model__min_samples_split=4, model__splitter=best;, score=0.831 total time=   0.1s\n",
      "[CV 4/10; 18/20] START model__max_depth=17, model__min_samples_leaf=11, model__min_samples_split=4, model__splitter=best\n",
      "[CV 7/10; 19/20] END model__max_depth=19, model__min_samples_leaf=11, model__min_samples_split=2, model__splitter=random;, score=0.795 total time=   0.1s\n",
      "[CV 8/10; 19/20] START model__max_depth=19, model__min_samples_leaf=11, model__min_samples_split=2, model__splitter=random\n",
      "[CV 6/10; 17/20] END model__max_depth=15, model__min_samples_leaf=14, model__min_samples_split=4, model__splitter=best;, score=0.809 total time=   0.1s\n",
      "[CV 7/10; 18/20] END model__max_depth=17, model__min_samples_leaf=11, model__min_samples_split=4, model__splitter=best;, score=0.791 total time=   0.1s\n",
      "[CV 8/10; 18/20] START model__max_depth=17, model__min_samples_leaf=11, model__min_samples_split=4, model__splitter=best\n",
      "[CV 9/10; 18/20] END model__max_depth=17, model__min_samples_leaf=11, model__min_samples_split=4, model__splitter=best;, score=0.767 total time=   0.1s\n",
      "[CV 10/10; 18/20] START model__max_depth=17, model__min_samples_leaf=11, model__min_samples_split=4, model__splitter=best\n",
      "[CV 1/10; 20/20] END model__max_depth=12, model__min_samples_leaf=14, model__min_samples_split=2, model__splitter=best;, score=0.768 total time=   0.1s\n",
      "[CV 2/10; 20/20] START model__max_depth=12, model__min_samples_leaf=14, model__min_samples_split=2, model__splitter=best\n",
      "[CV 8/10; 17/20] END model__max_depth=15, model__min_samples_leaf=14, model__min_samples_split=4, model__splitter=best;, score=0.768 total time=   0.1s\n",
      "[CV 3/10; 20/20] END model__max_depth=12, model__min_samples_leaf=14, model__min_samples_split=2, model__splitter=best;, score=0.828 total time=   0.1s\n",
      "[CV 4/10; 20/20] START model__max_depth=12, model__min_samples_leaf=14, model__min_samples_split=2, model__splitter=best\n",
      "[CV 10/10; 17/20] END model__max_depth=15, model__min_samples_leaf=14, model__min_samples_split=4, model__splitter=best;, score=0.729 total time=   0.1s\n",
      "[CV 5/10; 20/20] END model__max_depth=12, model__min_samples_leaf=14, model__min_samples_split=2, model__splitter=best;, score=0.806 total time=   0.1s\n",
      "[CV 6/10; 20/20] START model__max_depth=12, model__min_samples_leaf=14, model__min_samples_split=2, model__splitter=best\n",
      "[CV 9/10; 20/20] END model__max_depth=12, model__min_samples_leaf=14, model__min_samples_split=2, model__splitter=best;, score=0.758 total time=   0.1s\n",
      "[CV 10/10; 20/20] START model__max_depth=12, model__min_samples_leaf=14, model__min_samples_split=2, model__splitter=best\n",
      "[CV 7/10; 20/20] END model__max_depth=12, model__min_samples_leaf=14, model__min_samples_split=2, model__splitter=best;, score=0.786 total time=   0.1s\n",
      "[CV 8/10; 20/20] START model__max_depth=12, model__min_samples_leaf=14, model__min_samples_split=2, model__splitter=best\n",
      "[CV 6/10; 19/20] END model__max_depth=19, model__min_samples_leaf=11, model__min_samples_split=2, model__splitter=random;, score=0.787 total time=   0.1s\n",
      "[CV 2/10; 19/20] END model__max_depth=19, model__min_samples_leaf=11, model__min_samples_split=2, model__splitter=random;, score=0.808 total time=   0.1s\n",
      "[CV 6/10; 18/20] END model__max_depth=17, model__min_samples_leaf=11, model__min_samples_split=4, model__splitter=best;, score=0.811 total time=   0.1s\n",
      "[CV 10/10; 19/20] END model__max_depth=19, model__min_samples_leaf=11, model__min_samples_split=2, model__splitter=random;, score=0.738 total time=   0.1s\n",
      "[CV 4/10; 19/20] END model__max_depth=19, model__min_samples_leaf=11, model__min_samples_split=2, model__splitter=random;, score=0.777 total time=   0.1s\n",
      "[CV 8/10; 19/20] END model__max_depth=19, model__min_samples_leaf=11, model__min_samples_split=2, model__splitter=random;, score=0.778 total time=   0.1s\n",
      "[CV 4/10; 20/20] END model__max_depth=12, model__min_samples_leaf=14, model__min_samples_split=2, model__splitter=best;, score=0.758 total time=   0.1s\n",
      "[CV 8/10; 18/20] END model__max_depth=17, model__min_samples_leaf=11, model__min_samples_split=4, model__splitter=best;, score=0.767 total time=   0.1s\n",
      "[CV 2/10; 20/20] END model__max_depth=12, model__min_samples_leaf=14, model__min_samples_split=2, model__splitter=best;, score=0.803 total time=   0.1s\n",
      "[CV 10/10; 18/20] END model__max_depth=17, model__min_samples_leaf=11, model__min_samples_split=4, model__splitter=best;, score=0.740 total time=   0.1s\n",
      "[CV 2/10; 18/20] END model__max_depth=17, model__min_samples_leaf=11, model__min_samples_split=4, model__splitter=best;, score=0.817 total time=   0.1s\n",
      "[CV 4/10; 18/20] END model__max_depth=17, model__min_samples_leaf=11, model__min_samples_split=4, model__splitter=best;, score=0.765 total time=   0.1s\n",
      "[CV 10/10; 20/20] END model__max_depth=12, model__min_samples_leaf=14, model__min_samples_split=2, model__splitter=best;, score=0.726 total time=   0.1s\n",
      "[CV 6/10; 20/20] END model__max_depth=12, model__min_samples_leaf=14, model__min_samples_split=2, model__splitter=best;, score=0.807 total time=   0.1s\n",
      "[CV 8/10; 20/20] END model__max_depth=12, model__min_samples_leaf=14, model__min_samples_split=2, model__splitter=best;, score=0.763 total time=   0.1s\n",
      "{'model__splitter': 'best', 'model__min_samples_split': 2, 'model__min_samples_leaf': 1, 'model__max_depth': 17}\n"
     ]
    }
   ],
   "source": [
    "dtr_model = DecisionTreeRegressor(random_state=random_state)\n",
    "dtr_pipeline = Pipeline(steps=[('normalize', scaler), ('model', dtr_model)])\n",
    "\n",
    "random_grid = {\n",
    "    'model__splitter': ('best', 'random'),\n",
    "    'model__max_depth': list(range(1, 20)),\n",
    "    'model__min_samples_split': [2, 3, 4],\n",
    "    'model__min_samples_leaf': list(range(1, 20)),\n",
    "}\n",
    "\n",
    "decision_tree_search = RandomizedSearchCV(dtr_pipeline, random_grid, n_iter=20, scoring=custom_scorer, cv=10, verbose=10, n_jobs=-1)\n",
    "decision_tree_search.fit(input_x, input_y.values.ravel())\n",
    "print(decision_tree_search.best_params_)"
   ]
  },
  {
   "cell_type": "code",
   "execution_count": null,
   "metadata": {},
   "outputs": [],
   "source": [
    "rfr_model = RandomForestRegressor(random_state=random_state)\n",
    "rfr_pipeline = Pipeline(steps=[('normalize', scaler), ('model', rfr_model)])\n",
    "\n",
    "random_grid = {'model__n_estimators': [int(x) for x in np.linspace(start=100, stop=1000, num=5)],\n",
    "               'model__max_depth': [int(x) for x in np.linspace(10, 110, num=5)],\n",
    "               'model__min_samples_split': [2, 5, 10],\n",
    "               'model__min_samples_leaf': [1, 2, 4]}\n",
    "\n",
    "random_forest_search = RandomizedSearchCV(rfr_pipeline, random_grid, n_iter=20, scoring=custom_scorer, cv=10, verbose=10, n_jobs=-1)\n",
    "random_forest_search.fit(input_x, input_y.values.ravel())\n",
    "print(random_forest_search.best_params_)"
   ]
  },
  {
   "cell_type": "code",
   "execution_count": null,
   "metadata": {},
   "outputs": [],
   "source": [
    "gbr_model = GradientBoostingRegressor(random_state=random_state)\n",
    "gbr_pipeline = Pipeline(steps=[('normalize', scaler), ('model', gbr_model)])\n",
    "\n",
    "random_grid = {'model__learning_rate': [0.001],\n",
    "               'model__n_estimators': [1000, 3000, 5000, 7000, 10000],\n",
    "               'model__max_depth': [1, 2, 3, 5, 7, 10]}\n",
    "\n",
    "gradient_boosting_search = RandomizedSearchCV(gbr_pipeline, random_grid, n_iter=20, scoring=custom_scorer, cv=10, verbose=10, n_jobs=-1)\n",
    "gradient_boosting_search.fit(input_x, input_y.values.ravel())\n",
    "print(gradient_boosting_search.best_params_)"
   ]
  },
  {
   "cell_type": "code",
   "execution_count": null,
   "metadata": {},
   "outputs": [],
   "source": [
    "svr_model = SVR()\n",
    "svr_pipeline = Pipeline(steps=[('normalize', scaler), ('model', svr_model)])\n",
    "\n",
    "random_grid = {\n",
    "    'model__kernel': ['linear', 'poly', 'rbf', 'sigmoid'],\n",
    "    'model__C': [1,5,10],\n",
    "    'model__degree': [3,8],\n",
    "    'model__coef0': [0.01,10,0.5],\n",
    "    'model__gamma': ['auto','scale']\n",
    "}\n",
    "svr_search = RandomizedSearchCV(svr_pipeline, random_grid, n_iter=20, cv=10, verbose=10, scoring=custom_scorer, n_jobs=-1)\n",
    "svr_search.fit(input_x, input_y.values.ravel())\n",
    "print(svr_search.best_params_)"
   ]
  },
  {
   "cell_type": "code",
   "execution_count": null,
   "metadata": {},
   "outputs": [],
   "source": [
    "xgbr_model = XGBRegressor(random_state=random_state)\n",
    "xgbr_pipeline = Pipeline(steps=[('normalize', scaler), ('model', xgbr_model)])\n",
    "\n",
    "random_grid = {\n",
    "    'model__n_estimators': [100, 500, 900, 1100, 1500],\n",
    "    'model__max_depth': [2, 3, 5, 10, 15],\n",
    "    'model__learning_rate': [0.05, 0.1, 0.15, 0.20],\n",
    "    'model__min_child_weight': [1, 2, 3, 4]\n",
    "    }\n",
    "xgbr_search = RandomizedSearchCV(xgbr_pipeline, random_grid, n_iter=20, cv=10, verbose=10, scoring=custom_scorer, n_jobs=-1)\n",
    "xgbr_search.fit(input_x, input_y.values.ravel())\n",
    "print(xgbr_search.best_params_)"
   ]
  },
  {
   "cell_type": "code",
   "execution_count": null,
   "metadata": {},
   "outputs": [],
   "source": [
    "cbr_model = CatBoostRegressor(random_state=random_state)\n",
    "cbr_pipeline = Pipeline(steps=[('normalize', scaler), ('model', cbr_model)])\n",
    "\n",
    "random_grid = {\n",
    "    'model__depth' : [6,8,10],\n",
    "    'model__learning_rate' : [0.01, 0.05, 0.1],\n",
    "    'model__iterations'    : [30, 50, 100]\n",
    "    }\n",
    "cbr_search = RandomizedSearchCV(cbr_pipeline, random_grid, n_iter=20, cv=10, verbose=10, scoring=custom_scorer, n_jobs=-1)\n",
    "cbr_search.fit(input_x, input_y.values.ravel())\n",
    "print(cbr_search.best_params_)"
   ]
  },
  {
   "cell_type": "code",
   "execution_count": null,
   "metadata": {},
   "outputs": [],
   "source": [
    "abr_model = AdaBoostRegressor(estimator=DecisionTreeRegressor(), random_state=random_state)\n",
    "abr_pipeline = Pipeline(steps=[('normalize', scaler), ('model', abr_model)])\n",
    "\n",
    "random_grid = {'model__estimator__max_depth':[i for i in range(2,11,2)],\n",
    "              'model__estimator__min_samples_leaf':[5,10],\n",
    "              'model__n_estimators':[10,50,250,1000],\n",
    "              'model__learning_rate':[0.01,0.1]}\n",
    "\n",
    "abr_search = RandomizedSearchCV(abr_pipeline, random_grid, n_iter=20, scoring=custom_scorer, cv=10, verbose=10, n_jobs=-1)\n",
    "abr_search.fit(input_x, input_y.values.ravel())\n",
    "print(abr_search.best_params_)"
   ]
  },
  {
   "cell_type": "code",
   "execution_count": 68,
   "metadata": {},
   "outputs": [],
   "source": [
    "scaler = MinMaxScaler(feature_range=(0,1))\n",
    "models = [generate_pipeline(scaler, model) for model in [\n",
    "    CatBoostRegressor(learning_rate=0.1, iterations=100, depth=10),\n",
    "    XGBRegressor(n_estimators=500, min_child_weight=1, max_depth=5, learning_rate=0.1),\n",
    "    SVR(kernel='rbf', gamma='scale', degree=3, coef0=0.01, C=5),\n",
    "    GradientBoostingRegressor(n_estimators=10000, max_depth=7, learning_rate=0.001, random_state=random_state),\n",
    "    RandomForestRegressor(max_depth=110, min_samples_leaf=1, min_samples_split=2, n_estimators=1000, random_state=random_state),\n",
    "    DecisionTreeRegressor(splitter='best', min_samples_split=2, min_samples_leaf=1, max_depth=17, random_state=random_state),\n",
    "    AdaBoostRegressor(estimator=DecisionTreeRegressor(min_samples_leaf=10, max_depth=10), random_state=random_state, n_estimators=250, learning_rate=0.01)\n",
    "]]"
   ]
  },
  {
   "cell_type": "code",
   "execution_count": 69,
   "metadata": {},
   "outputs": [
    {
     "data": {
      "text/plain": [
       "0.9079886574753104"
      ]
     },
     "execution_count": 69,
     "metadata": {},
     "output_type": "execute_result"
    }
   ],
   "source": [
    "# Test the random forest model \n",
    "model = models[-2]\n",
    "clf = model[1].fit(X_train, y_train.values.ravel())\n",
    "y_pred = clf.predict(X_test)\n",
    "get_score(y_test.values.ravel(), y_pred)"
   ]
  },
  {
   "cell_type": "code",
   "execution_count": 70,
   "metadata": {},
   "outputs": [
    {
     "data": {
      "text/html": [
       "<div>\n",
       "<style scoped>\n",
       "    .dataframe tbody tr th:only-of-type {\n",
       "        vertical-align: middle;\n",
       "    }\n",
       "\n",
       "    .dataframe tbody tr th {\n",
       "        vertical-align: top;\n",
       "    }\n",
       "\n",
       "    .dataframe thead th {\n",
       "        text-align: right;\n",
       "    }\n",
       "</style>\n",
       "<table border=\"1\" class=\"dataframe\">\n",
       "  <thead>\n",
       "    <tr style=\"text-align: right;\">\n",
       "      <th></th>\n",
       "      <th>y_actual</th>\n",
       "      <th>y_pred</th>\n",
       "    </tr>\n",
       "  </thead>\n",
       "  <tbody>\n",
       "    <tr>\n",
       "      <th>0</th>\n",
       "      <td>-1.384846</td>\n",
       "      <td>-1.259927</td>\n",
       "    </tr>\n",
       "    <tr>\n",
       "      <th>1</th>\n",
       "      <td>-0.649111</td>\n",
       "      <td>-0.617359</td>\n",
       "    </tr>\n",
       "    <tr>\n",
       "      <th>2</th>\n",
       "      <td>-0.508189</td>\n",
       "      <td>-0.504170</td>\n",
       "    </tr>\n",
       "    <tr>\n",
       "      <th>3</th>\n",
       "      <td>-0.250716</td>\n",
       "      <td>-0.246170</td>\n",
       "    </tr>\n",
       "    <tr>\n",
       "      <th>4</th>\n",
       "      <td>-3.410015</td>\n",
       "      <td>-3.160354</td>\n",
       "    </tr>\n",
       "    <tr>\n",
       "      <th>...</th>\n",
       "      <td>...</td>\n",
       "      <td>...</td>\n",
       "    </tr>\n",
       "    <tr>\n",
       "      <th>10222</th>\n",
       "      <td>-1.973598</td>\n",
       "      <td>-1.700793</td>\n",
       "    </tr>\n",
       "    <tr>\n",
       "      <th>10223</th>\n",
       "      <td>-0.449887</td>\n",
       "      <td>-0.432108</td>\n",
       "    </tr>\n",
       "    <tr>\n",
       "      <th>10224</th>\n",
       "      <td>-1.249970</td>\n",
       "      <td>-1.299500</td>\n",
       "    </tr>\n",
       "    <tr>\n",
       "      <th>10225</th>\n",
       "      <td>-1.688213</td>\n",
       "      <td>-2.032797</td>\n",
       "    </tr>\n",
       "    <tr>\n",
       "      <th>10226</th>\n",
       "      <td>-4.461034</td>\n",
       "      <td>-4.686496</td>\n",
       "    </tr>\n",
       "  </tbody>\n",
       "</table>\n",
       "<p>10227 rows × 2 columns</p>\n",
       "</div>"
      ],
      "text/plain": [
       "       y_actual    y_pred\n",
       "0     -1.384846 -1.259927\n",
       "1     -0.649111 -0.617359\n",
       "2     -0.508189 -0.504170\n",
       "3     -0.250716 -0.246170\n",
       "4     -3.410015 -3.160354\n",
       "...         ...       ...\n",
       "10222 -1.973598 -1.700793\n",
       "10223 -0.449887 -0.432108\n",
       "10224 -1.249970 -1.299500\n",
       "10225 -1.688213 -2.032797\n",
       "10226 -4.461034 -4.686496\n",
       "\n",
       "[10227 rows x 2 columns]"
      ]
     },
     "execution_count": 70,
     "metadata": {},
     "output_type": "execute_result"
    }
   ],
   "source": [
    "pd.DataFrame({'y_actual': y_test.values.reshape(-1), 'y_pred': y_pred})"
   ]
  },
  {
   "cell_type": "code",
   "execution_count": 71,
   "metadata": {},
   "outputs": [
    {
     "name": "stderr",
     "output_type": "stream",
     "text": [
      "  0%|          | 0/7 [00:00<?, ?it/s]"
     ]
    },
    {
     "name": "stdout",
     "output_type": "stream",
     "text": [
      "0:\tlearn: 3.8299390\ttotal: 5.42ms\tremaining: 537ms\n",
      "1:\tlearn: 3.5885898\ttotal: 10.1ms\tremaining: 494ms\n",
      "2:\tlearn: 3.3778001\ttotal: 14.5ms\tremaining: 468ms\n",
      "3:\tlearn: 3.1852642\ttotal: 18.8ms\tremaining: 452ms\n",
      "4:\tlearn: 2.9988730\ttotal: 22.8ms\tremaining: 433ms\n",
      "5:\tlearn: 2.8424128\ttotal: 27.1ms\tremaining: 425ms\n",
      "6:\tlearn: 2.6954057\ttotal: 31.3ms\tremaining: 415ms\n",
      "7:\tlearn: 2.5701433\ttotal: 35.3ms\tremaining: 406ms\n",
      "8:\tlearn: 2.4442044\ttotal: 38.8ms\tremaining: 393ms\n",
      "9:\tlearn: 2.3407825\ttotal: 42.7ms\tremaining: 384ms\n",
      "10:\tlearn: 2.2467555\ttotal: 46.7ms\tremaining: 378ms\n",
      "11:\tlearn: 2.1665394\ttotal: 50.3ms\tremaining: 369ms\n",
      "12:\tlearn: 2.0888742\ttotal: 54.4ms\tremaining: 364ms\n",
      "13:\tlearn: 2.0266157\ttotal: 57.9ms\tremaining: 355ms\n",
      "14:\tlearn: 1.9734950\ttotal: 61.4ms\tremaining: 348ms\n",
      "15:\tlearn: 1.9280668\ttotal: 65.2ms\tremaining: 342ms\n",
      "16:\tlearn: 1.8678243\ttotal: 68.7ms\tremaining: 335ms\n",
      "17:\tlearn: 1.8289156\ttotal: 72.2ms\tremaining: 329ms\n",
      "18:\tlearn: 1.7836635\ttotal: 75.7ms\tremaining: 323ms\n",
      "19:\tlearn: 1.7524863\ttotal: 78.9ms\tremaining: 316ms\n",
      "20:\tlearn: 1.7243283\ttotal: 82.4ms\tremaining: 310ms\n",
      "21:\tlearn: 1.6839267\ttotal: 85.8ms\tremaining: 304ms\n",
      "22:\tlearn: 1.6525507\ttotal: 89.1ms\tremaining: 298ms\n",
      "23:\tlearn: 1.6298009\ttotal: 92.4ms\tremaining: 293ms\n",
      "24:\tlearn: 1.5986056\ttotal: 95.5ms\tremaining: 287ms\n",
      "25:\tlearn: 1.5805517\ttotal: 98.8ms\tremaining: 281ms\n",
      "26:\tlearn: 1.5610405\ttotal: 102ms\tremaining: 277ms\n",
      "27:\tlearn: 1.5397697\ttotal: 105ms\tremaining: 271ms\n",
      "28:\tlearn: 1.5141041\ttotal: 109ms\tremaining: 266ms\n",
      "29:\tlearn: 1.4921017\ttotal: 112ms\tremaining: 261ms\n",
      "30:\tlearn: 1.4702613\ttotal: 115ms\tremaining: 256ms\n",
      "31:\tlearn: 1.4562997\ttotal: 118ms\tremaining: 251ms\n",
      "32:\tlearn: 1.4367217\ttotal: 121ms\tremaining: 246ms\n",
      "33:\tlearn: 1.4214971\ttotal: 124ms\tremaining: 241ms\n",
      "34:\tlearn: 1.4001897\ttotal: 127ms\tremaining: 237ms\n",
      "35:\tlearn: 1.3886204\ttotal: 131ms\tremaining: 232ms\n",
      "36:\tlearn: 1.3742464\ttotal: 134ms\tremaining: 228ms\n",
      "37:\tlearn: 1.3626497\ttotal: 137ms\tremaining: 223ms\n",
      "38:\tlearn: 1.3508499\ttotal: 140ms\tremaining: 219ms\n",
      "39:\tlearn: 1.3433379\ttotal: 143ms\tremaining: 215ms\n",
      "40:\tlearn: 1.3347683\ttotal: 146ms\tremaining: 210ms\n",
      "41:\tlearn: 1.3244452\ttotal: 149ms\tremaining: 206ms\n",
      "42:\tlearn: 1.3170112\ttotal: 152ms\tremaining: 202ms\n",
      "43:\tlearn: 1.3092758\ttotal: 155ms\tremaining: 197ms\n",
      "44:\tlearn: 1.2993682\ttotal: 158ms\tremaining: 193ms\n",
      "45:\tlearn: 1.2915584\ttotal: 161ms\tremaining: 189ms\n",
      "46:\tlearn: 1.2787875\ttotal: 164ms\tremaining: 185ms\n",
      "47:\tlearn: 1.2726074\ttotal: 167ms\tremaining: 181ms\n",
      "48:\tlearn: 1.2633038\ttotal: 170ms\tremaining: 177ms\n",
      "49:\tlearn: 1.2559667\ttotal: 173ms\tremaining: 173ms\n",
      "50:\tlearn: 1.2478453\ttotal: 176ms\tremaining: 169ms\n",
      "51:\tlearn: 1.2384138\ttotal: 179ms\tremaining: 166ms\n",
      "52:\tlearn: 1.2317020\ttotal: 182ms\tremaining: 162ms\n",
      "53:\tlearn: 1.2263798\ttotal: 186ms\tremaining: 158ms\n",
      "54:\tlearn: 1.2222419\ttotal: 189ms\tremaining: 154ms\n",
      "55:\tlearn: 1.2140762\ttotal: 192ms\tremaining: 151ms\n",
      "56:\tlearn: 1.2060396\ttotal: 195ms\tremaining: 147ms\n",
      "57:\tlearn: 1.1996141\ttotal: 198ms\tremaining: 143ms\n",
      "58:\tlearn: 1.1935089\ttotal: 201ms\tremaining: 140ms\n"
     ]
    },
    {
     "name": "stderr",
     "output_type": "stream",
     "text": [
      " 14%|█▍        | 1/7 [00:00<00:02,  2.38it/s]"
     ]
    },
    {
     "name": "stdout",
     "output_type": "stream",
     "text": [
      "59:\tlearn: 1.1886346\ttotal: 204ms\tremaining: 136ms\n",
      "60:\tlearn: 1.1825546\ttotal: 208ms\tremaining: 133ms\n",
      "61:\tlearn: 1.1738869\ttotal: 211ms\tremaining: 129ms\n",
      "62:\tlearn: 1.1649301\ttotal: 214ms\tremaining: 125ms\n",
      "63:\tlearn: 1.1588161\ttotal: 217ms\tremaining: 122ms\n",
      "64:\tlearn: 1.1550069\ttotal: 220ms\tremaining: 118ms\n",
      "65:\tlearn: 1.1474447\ttotal: 223ms\tremaining: 115ms\n",
      "66:\tlearn: 1.1409429\ttotal: 226ms\tremaining: 111ms\n",
      "67:\tlearn: 1.1377757\ttotal: 229ms\tremaining: 108ms\n",
      "68:\tlearn: 1.1348324\ttotal: 232ms\tremaining: 104ms\n",
      "69:\tlearn: 1.1293322\ttotal: 235ms\tremaining: 101ms\n",
      "70:\tlearn: 1.1222720\ttotal: 238ms\tremaining: 97.2ms\n",
      "71:\tlearn: 1.1174277\ttotal: 241ms\tremaining: 93.8ms\n",
      "72:\tlearn: 1.1143670\ttotal: 245ms\tremaining: 90.4ms\n",
      "73:\tlearn: 1.1111303\ttotal: 248ms\tremaining: 87ms\n",
      "74:\tlearn: 1.1079193\ttotal: 251ms\tremaining: 83.6ms\n",
      "75:\tlearn: 1.1046187\ttotal: 254ms\tremaining: 80.1ms\n",
      "76:\tlearn: 1.1016148\ttotal: 257ms\tremaining: 76.7ms\n",
      "77:\tlearn: 1.0944583\ttotal: 260ms\tremaining: 73.3ms\n",
      "78:\tlearn: 1.0884155\ttotal: 263ms\tremaining: 69.9ms\n",
      "79:\tlearn: 1.0823811\ttotal: 266ms\tremaining: 66.6ms\n",
      "80:\tlearn: 1.0785612\ttotal: 269ms\tremaining: 63.2ms\n",
      "81:\tlearn: 1.0705425\ttotal: 272ms\tremaining: 59.8ms\n",
      "82:\tlearn: 1.0664199\ttotal: 276ms\tremaining: 56.4ms\n",
      "83:\tlearn: 1.0635124\ttotal: 279ms\tremaining: 53.1ms\n",
      "84:\tlearn: 1.0613423\ttotal: 282ms\tremaining: 49.8ms\n",
      "85:\tlearn: 1.0580166\ttotal: 285ms\tremaining: 46.4ms\n",
      "86:\tlearn: 1.0545004\ttotal: 288ms\tremaining: 43.1ms\n",
      "87:\tlearn: 1.0472831\ttotal: 291ms\tremaining: 39.7ms\n",
      "88:\tlearn: 1.0452489\ttotal: 295ms\tremaining: 36.4ms\n",
      "89:\tlearn: 1.0420311\ttotal: 298ms\tremaining: 33.1ms\n",
      "90:\tlearn: 1.0390564\ttotal: 301ms\tremaining: 29.8ms\n",
      "91:\tlearn: 1.0373251\ttotal: 304ms\tremaining: 26.4ms\n",
      "92:\tlearn: 1.0342651\ttotal: 307ms\tremaining: 23.1ms\n",
      "93:\tlearn: 1.0313138\ttotal: 310ms\tremaining: 19.8ms\n",
      "94:\tlearn: 1.0287006\ttotal: 313ms\tremaining: 16.5ms\n",
      "95:\tlearn: 1.0229887\ttotal: 316ms\tremaining: 13.2ms\n",
      "96:\tlearn: 1.0212678\ttotal: 320ms\tremaining: 9.88ms\n",
      "97:\tlearn: 1.0155023\ttotal: 323ms\tremaining: 6.58ms\n",
      "98:\tlearn: 1.0111702\ttotal: 326ms\tremaining: 3.29ms\n",
      "99:\tlearn: 1.0054850\ttotal: 329ms\tremaining: 0us\n"
     ]
    },
    {
     "name": "stderr",
     "output_type": "stream",
     "text": [
      "100%|██████████| 7/7 [04:17<00:00, 36.76s/it]\n"
     ]
    }
   ],
   "source": [
    "results = {}\n",
    "\n",
    "for name, model in tqdm(models):\n",
    "  clf = model.fit(X_train, y_train.values.ravel())\n",
    "  y_pred = clf.predict(X_test)\n",
    "\n",
    "  results[name] = {\n",
    "    'score': get_score(y_test.values.ravel(), y_pred),\n",
    "    'rsme': get_rsme(y_test.values.ravel(), y_pred),\n",
    "    'r_squared': get_r_squared(y_test.values.ravel(), y_pred),\n",
    "  }"
   ]
  },
  {
   "cell_type": "code",
   "execution_count": 72,
   "metadata": {},
   "outputs": [],
   "source": [
    "df = pd.DataFrame(results).T"
   ]
  },
  {
   "cell_type": "code",
   "execution_count": 73,
   "metadata": {},
   "outputs": [
    {
     "data": {
      "application/vnd.plotly.v1+json": {
       "config": {
        "plotlyServerURL": "https://plot.ly"
       },
       "data": [
        {
         "alignmentgroup": "True",
         "hovertemplate": "index=%{x}<br>score=%{y}<extra></extra>",
         "legendgroup": "",
         "marker": {
          "color": "#636efa",
          "pattern": {
           "shape": ""
          }
         },
         "name": "",
         "offsetgroup": "",
         "orientation": "v",
         "showlegend": false,
         "textposition": "auto",
         "type": "bar",
         "x": [
          "CatBoostRegressor",
          "XGBRegressor",
          "SVR",
          "GradientBoostingRegressor",
          "RandomForestRegressor",
          "DecisionTreeRegressor",
          "AdaBoostRegressor"
         ],
         "xaxis": "x",
         "y": [
          0.8969394739415273,
          0.8942016231543952,
          0.6716534663146573,
          0.9012418108927349,
          0.9300870245428767,
          0.9079886574753104,
          0.8526449594211402
         ],
         "yaxis": "y"
        }
       ],
       "layout": {
        "barmode": "relative",
        "legend": {
         "tracegroupgap": 0
        },
        "margin": {
         "t": 60
        },
        "template": {
         "data": {
          "bar": [
           {
            "error_x": {
             "color": "#2a3f5f"
            },
            "error_y": {
             "color": "#2a3f5f"
            },
            "marker": {
             "line": {
              "color": "#E5ECF6",
              "width": 0.5
             },
             "pattern": {
              "fillmode": "overlay",
              "size": 10,
              "solidity": 0.2
             }
            },
            "type": "bar"
           }
          ],
          "barpolar": [
           {
            "marker": {
             "line": {
              "color": "#E5ECF6",
              "width": 0.5
             },
             "pattern": {
              "fillmode": "overlay",
              "size": 10,
              "solidity": 0.2
             }
            },
            "type": "barpolar"
           }
          ],
          "carpet": [
           {
            "aaxis": {
             "endlinecolor": "#2a3f5f",
             "gridcolor": "white",
             "linecolor": "white",
             "minorgridcolor": "white",
             "startlinecolor": "#2a3f5f"
            },
            "baxis": {
             "endlinecolor": "#2a3f5f",
             "gridcolor": "white",
             "linecolor": "white",
             "minorgridcolor": "white",
             "startlinecolor": "#2a3f5f"
            },
            "type": "carpet"
           }
          ],
          "choropleth": [
           {
            "colorbar": {
             "outlinewidth": 0,
             "ticks": ""
            },
            "type": "choropleth"
           }
          ],
          "contour": [
           {
            "colorbar": {
             "outlinewidth": 0,
             "ticks": ""
            },
            "colorscale": [
             [
              0,
              "#0d0887"
             ],
             [
              0.1111111111111111,
              "#46039f"
             ],
             [
              0.2222222222222222,
              "#7201a8"
             ],
             [
              0.3333333333333333,
              "#9c179e"
             ],
             [
              0.4444444444444444,
              "#bd3786"
             ],
             [
              0.5555555555555556,
              "#d8576b"
             ],
             [
              0.6666666666666666,
              "#ed7953"
             ],
             [
              0.7777777777777778,
              "#fb9f3a"
             ],
             [
              0.8888888888888888,
              "#fdca26"
             ],
             [
              1,
              "#f0f921"
             ]
            ],
            "type": "contour"
           }
          ],
          "contourcarpet": [
           {
            "colorbar": {
             "outlinewidth": 0,
             "ticks": ""
            },
            "type": "contourcarpet"
           }
          ],
          "heatmap": [
           {
            "colorbar": {
             "outlinewidth": 0,
             "ticks": ""
            },
            "colorscale": [
             [
              0,
              "#0d0887"
             ],
             [
              0.1111111111111111,
              "#46039f"
             ],
             [
              0.2222222222222222,
              "#7201a8"
             ],
             [
              0.3333333333333333,
              "#9c179e"
             ],
             [
              0.4444444444444444,
              "#bd3786"
             ],
             [
              0.5555555555555556,
              "#d8576b"
             ],
             [
              0.6666666666666666,
              "#ed7953"
             ],
             [
              0.7777777777777778,
              "#fb9f3a"
             ],
             [
              0.8888888888888888,
              "#fdca26"
             ],
             [
              1,
              "#f0f921"
             ]
            ],
            "type": "heatmap"
           }
          ],
          "heatmapgl": [
           {
            "colorbar": {
             "outlinewidth": 0,
             "ticks": ""
            },
            "colorscale": [
             [
              0,
              "#0d0887"
             ],
             [
              0.1111111111111111,
              "#46039f"
             ],
             [
              0.2222222222222222,
              "#7201a8"
             ],
             [
              0.3333333333333333,
              "#9c179e"
             ],
             [
              0.4444444444444444,
              "#bd3786"
             ],
             [
              0.5555555555555556,
              "#d8576b"
             ],
             [
              0.6666666666666666,
              "#ed7953"
             ],
             [
              0.7777777777777778,
              "#fb9f3a"
             ],
             [
              0.8888888888888888,
              "#fdca26"
             ],
             [
              1,
              "#f0f921"
             ]
            ],
            "type": "heatmapgl"
           }
          ],
          "histogram": [
           {
            "marker": {
             "pattern": {
              "fillmode": "overlay",
              "size": 10,
              "solidity": 0.2
             }
            },
            "type": "histogram"
           }
          ],
          "histogram2d": [
           {
            "colorbar": {
             "outlinewidth": 0,
             "ticks": ""
            },
            "colorscale": [
             [
              0,
              "#0d0887"
             ],
             [
              0.1111111111111111,
              "#46039f"
             ],
             [
              0.2222222222222222,
              "#7201a8"
             ],
             [
              0.3333333333333333,
              "#9c179e"
             ],
             [
              0.4444444444444444,
              "#bd3786"
             ],
             [
              0.5555555555555556,
              "#d8576b"
             ],
             [
              0.6666666666666666,
              "#ed7953"
             ],
             [
              0.7777777777777778,
              "#fb9f3a"
             ],
             [
              0.8888888888888888,
              "#fdca26"
             ],
             [
              1,
              "#f0f921"
             ]
            ],
            "type": "histogram2d"
           }
          ],
          "histogram2dcontour": [
           {
            "colorbar": {
             "outlinewidth": 0,
             "ticks": ""
            },
            "colorscale": [
             [
              0,
              "#0d0887"
             ],
             [
              0.1111111111111111,
              "#46039f"
             ],
             [
              0.2222222222222222,
              "#7201a8"
             ],
             [
              0.3333333333333333,
              "#9c179e"
             ],
             [
              0.4444444444444444,
              "#bd3786"
             ],
             [
              0.5555555555555556,
              "#d8576b"
             ],
             [
              0.6666666666666666,
              "#ed7953"
             ],
             [
              0.7777777777777778,
              "#fb9f3a"
             ],
             [
              0.8888888888888888,
              "#fdca26"
             ],
             [
              1,
              "#f0f921"
             ]
            ],
            "type": "histogram2dcontour"
           }
          ],
          "mesh3d": [
           {
            "colorbar": {
             "outlinewidth": 0,
             "ticks": ""
            },
            "type": "mesh3d"
           }
          ],
          "parcoords": [
           {
            "line": {
             "colorbar": {
              "outlinewidth": 0,
              "ticks": ""
             }
            },
            "type": "parcoords"
           }
          ],
          "pie": [
           {
            "automargin": true,
            "type": "pie"
           }
          ],
          "scatter": [
           {
            "fillpattern": {
             "fillmode": "overlay",
             "size": 10,
             "solidity": 0.2
            },
            "type": "scatter"
           }
          ],
          "scatter3d": [
           {
            "line": {
             "colorbar": {
              "outlinewidth": 0,
              "ticks": ""
             }
            },
            "marker": {
             "colorbar": {
              "outlinewidth": 0,
              "ticks": ""
             }
            },
            "type": "scatter3d"
           }
          ],
          "scattercarpet": [
           {
            "marker": {
             "colorbar": {
              "outlinewidth": 0,
              "ticks": ""
             }
            },
            "type": "scattercarpet"
           }
          ],
          "scattergeo": [
           {
            "marker": {
             "colorbar": {
              "outlinewidth": 0,
              "ticks": ""
             }
            },
            "type": "scattergeo"
           }
          ],
          "scattergl": [
           {
            "marker": {
             "colorbar": {
              "outlinewidth": 0,
              "ticks": ""
             }
            },
            "type": "scattergl"
           }
          ],
          "scattermapbox": [
           {
            "marker": {
             "colorbar": {
              "outlinewidth": 0,
              "ticks": ""
             }
            },
            "type": "scattermapbox"
           }
          ],
          "scatterpolar": [
           {
            "marker": {
             "colorbar": {
              "outlinewidth": 0,
              "ticks": ""
             }
            },
            "type": "scatterpolar"
           }
          ],
          "scatterpolargl": [
           {
            "marker": {
             "colorbar": {
              "outlinewidth": 0,
              "ticks": ""
             }
            },
            "type": "scatterpolargl"
           }
          ],
          "scatterternary": [
           {
            "marker": {
             "colorbar": {
              "outlinewidth": 0,
              "ticks": ""
             }
            },
            "type": "scatterternary"
           }
          ],
          "surface": [
           {
            "colorbar": {
             "outlinewidth": 0,
             "ticks": ""
            },
            "colorscale": [
             [
              0,
              "#0d0887"
             ],
             [
              0.1111111111111111,
              "#46039f"
             ],
             [
              0.2222222222222222,
              "#7201a8"
             ],
             [
              0.3333333333333333,
              "#9c179e"
             ],
             [
              0.4444444444444444,
              "#bd3786"
             ],
             [
              0.5555555555555556,
              "#d8576b"
             ],
             [
              0.6666666666666666,
              "#ed7953"
             ],
             [
              0.7777777777777778,
              "#fb9f3a"
             ],
             [
              0.8888888888888888,
              "#fdca26"
             ],
             [
              1,
              "#f0f921"
             ]
            ],
            "type": "surface"
           }
          ],
          "table": [
           {
            "cells": {
             "fill": {
              "color": "#EBF0F8"
             },
             "line": {
              "color": "white"
             }
            },
            "header": {
             "fill": {
              "color": "#C8D4E3"
             },
             "line": {
              "color": "white"
             }
            },
            "type": "table"
           }
          ]
         },
         "layout": {
          "annotationdefaults": {
           "arrowcolor": "#2a3f5f",
           "arrowhead": 0,
           "arrowwidth": 1
          },
          "autotypenumbers": "strict",
          "coloraxis": {
           "colorbar": {
            "outlinewidth": 0,
            "ticks": ""
           }
          },
          "colorscale": {
           "diverging": [
            [
             0,
             "#8e0152"
            ],
            [
             0.1,
             "#c51b7d"
            ],
            [
             0.2,
             "#de77ae"
            ],
            [
             0.3,
             "#f1b6da"
            ],
            [
             0.4,
             "#fde0ef"
            ],
            [
             0.5,
             "#f7f7f7"
            ],
            [
             0.6,
             "#e6f5d0"
            ],
            [
             0.7,
             "#b8e186"
            ],
            [
             0.8,
             "#7fbc41"
            ],
            [
             0.9,
             "#4d9221"
            ],
            [
             1,
             "#276419"
            ]
           ],
           "sequential": [
            [
             0,
             "#0d0887"
            ],
            [
             0.1111111111111111,
             "#46039f"
            ],
            [
             0.2222222222222222,
             "#7201a8"
            ],
            [
             0.3333333333333333,
             "#9c179e"
            ],
            [
             0.4444444444444444,
             "#bd3786"
            ],
            [
             0.5555555555555556,
             "#d8576b"
            ],
            [
             0.6666666666666666,
             "#ed7953"
            ],
            [
             0.7777777777777778,
             "#fb9f3a"
            ],
            [
             0.8888888888888888,
             "#fdca26"
            ],
            [
             1,
             "#f0f921"
            ]
           ],
           "sequentialminus": [
            [
             0,
             "#0d0887"
            ],
            [
             0.1111111111111111,
             "#46039f"
            ],
            [
             0.2222222222222222,
             "#7201a8"
            ],
            [
             0.3333333333333333,
             "#9c179e"
            ],
            [
             0.4444444444444444,
             "#bd3786"
            ],
            [
             0.5555555555555556,
             "#d8576b"
            ],
            [
             0.6666666666666666,
             "#ed7953"
            ],
            [
             0.7777777777777778,
             "#fb9f3a"
            ],
            [
             0.8888888888888888,
             "#fdca26"
            ],
            [
             1,
             "#f0f921"
            ]
           ]
          },
          "colorway": [
           "#636efa",
           "#EF553B",
           "#00cc96",
           "#ab63fa",
           "#FFA15A",
           "#19d3f3",
           "#FF6692",
           "#B6E880",
           "#FF97FF",
           "#FECB52"
          ],
          "font": {
           "color": "#2a3f5f"
          },
          "geo": {
           "bgcolor": "white",
           "lakecolor": "white",
           "landcolor": "#E5ECF6",
           "showlakes": true,
           "showland": true,
           "subunitcolor": "white"
          },
          "hoverlabel": {
           "align": "left"
          },
          "hovermode": "closest",
          "mapbox": {
           "style": "light"
          },
          "paper_bgcolor": "white",
          "plot_bgcolor": "#E5ECF6",
          "polar": {
           "angularaxis": {
            "gridcolor": "white",
            "linecolor": "white",
            "ticks": ""
           },
           "bgcolor": "#E5ECF6",
           "radialaxis": {
            "gridcolor": "white",
            "linecolor": "white",
            "ticks": ""
           }
          },
          "scene": {
           "xaxis": {
            "backgroundcolor": "#E5ECF6",
            "gridcolor": "white",
            "gridwidth": 2,
            "linecolor": "white",
            "showbackground": true,
            "ticks": "",
            "zerolinecolor": "white"
           },
           "yaxis": {
            "backgroundcolor": "#E5ECF6",
            "gridcolor": "white",
            "gridwidth": 2,
            "linecolor": "white",
            "showbackground": true,
            "ticks": "",
            "zerolinecolor": "white"
           },
           "zaxis": {
            "backgroundcolor": "#E5ECF6",
            "gridcolor": "white",
            "gridwidth": 2,
            "linecolor": "white",
            "showbackground": true,
            "ticks": "",
            "zerolinecolor": "white"
           }
          },
          "shapedefaults": {
           "line": {
            "color": "#2a3f5f"
           }
          },
          "ternary": {
           "aaxis": {
            "gridcolor": "white",
            "linecolor": "white",
            "ticks": ""
           },
           "baxis": {
            "gridcolor": "white",
            "linecolor": "white",
            "ticks": ""
           },
           "bgcolor": "#E5ECF6",
           "caxis": {
            "gridcolor": "white",
            "linecolor": "white",
            "ticks": ""
           }
          },
          "title": {
           "x": 0.05
          },
          "xaxis": {
           "automargin": true,
           "gridcolor": "white",
           "linecolor": "white",
           "ticks": "",
           "title": {
            "standoff": 15
           },
           "zerolinecolor": "white",
           "zerolinewidth": 2
          },
          "yaxis": {
           "automargin": true,
           "gridcolor": "white",
           "linecolor": "white",
           "ticks": "",
           "title": {
            "standoff": 15
           },
           "zerolinecolor": "white",
           "zerolinewidth": 2
          }
         }
        },
        "xaxis": {
         "anchor": "y",
         "domain": [
          0,
          1
         ],
         "title": {
          "text": "index"
         }
        },
        "yaxis": {
         "anchor": "x",
         "domain": [
          0,
          1
         ],
         "title": {
          "text": "score"
         }
        }
       }
      },
      "text/html": [
       "<div>                            <div id=\"bfafe8fb-f79b-44f7-8c33-3f22757633c3\" class=\"plotly-graph-div\" style=\"height:525px; width:100%;\"></div>            <script type=\"text/javascript\">                require([\"plotly\"], function(Plotly) {                    window.PLOTLYENV=window.PLOTLYENV || {};                                    if (document.getElementById(\"bfafe8fb-f79b-44f7-8c33-3f22757633c3\")) {                    Plotly.newPlot(                        \"bfafe8fb-f79b-44f7-8c33-3f22757633c3\",                        [{\"alignmentgroup\":\"True\",\"hovertemplate\":\"index=%{x}\\u003cbr\\u003escore=%{y}\\u003cextra\\u003e\\u003c\\u002fextra\\u003e\",\"legendgroup\":\"\",\"marker\":{\"color\":\"#636efa\",\"pattern\":{\"shape\":\"\"}},\"name\":\"\",\"offsetgroup\":\"\",\"orientation\":\"v\",\"showlegend\":false,\"textposition\":\"auto\",\"x\":[\"CatBoostRegressor\",\"XGBRegressor\",\"SVR\",\"GradientBoostingRegressor\",\"RandomForestRegressor\",\"DecisionTreeRegressor\",\"AdaBoostRegressor\"],\"xaxis\":\"x\",\"y\":[0.8969394739415273,0.8942016231543952,0.6716534663146573,0.9012418108927349,0.9300870245428767,0.9079886574753104,0.8526449594211402],\"yaxis\":\"y\",\"type\":\"bar\"}],                        {\"template\":{\"data\":{\"histogram2dcontour\":[{\"type\":\"histogram2dcontour\",\"colorbar\":{\"outlinewidth\":0,\"ticks\":\"\"},\"colorscale\":[[0.0,\"#0d0887\"],[0.1111111111111111,\"#46039f\"],[0.2222222222222222,\"#7201a8\"],[0.3333333333333333,\"#9c179e\"],[0.4444444444444444,\"#bd3786\"],[0.5555555555555556,\"#d8576b\"],[0.6666666666666666,\"#ed7953\"],[0.7777777777777778,\"#fb9f3a\"],[0.8888888888888888,\"#fdca26\"],[1.0,\"#f0f921\"]]}],\"choropleth\":[{\"type\":\"choropleth\",\"colorbar\":{\"outlinewidth\":0,\"ticks\":\"\"}}],\"histogram2d\":[{\"type\":\"histogram2d\",\"colorbar\":{\"outlinewidth\":0,\"ticks\":\"\"},\"colorscale\":[[0.0,\"#0d0887\"],[0.1111111111111111,\"#46039f\"],[0.2222222222222222,\"#7201a8\"],[0.3333333333333333,\"#9c179e\"],[0.4444444444444444,\"#bd3786\"],[0.5555555555555556,\"#d8576b\"],[0.6666666666666666,\"#ed7953\"],[0.7777777777777778,\"#fb9f3a\"],[0.8888888888888888,\"#fdca26\"],[1.0,\"#f0f921\"]]}],\"heatmap\":[{\"type\":\"heatmap\",\"colorbar\":{\"outlinewidth\":0,\"ticks\":\"\"},\"colorscale\":[[0.0,\"#0d0887\"],[0.1111111111111111,\"#46039f\"],[0.2222222222222222,\"#7201a8\"],[0.3333333333333333,\"#9c179e\"],[0.4444444444444444,\"#bd3786\"],[0.5555555555555556,\"#d8576b\"],[0.6666666666666666,\"#ed7953\"],[0.7777777777777778,\"#fb9f3a\"],[0.8888888888888888,\"#fdca26\"],[1.0,\"#f0f921\"]]}],\"heatmapgl\":[{\"type\":\"heatmapgl\",\"colorbar\":{\"outlinewidth\":0,\"ticks\":\"\"},\"colorscale\":[[0.0,\"#0d0887\"],[0.1111111111111111,\"#46039f\"],[0.2222222222222222,\"#7201a8\"],[0.3333333333333333,\"#9c179e\"],[0.4444444444444444,\"#bd3786\"],[0.5555555555555556,\"#d8576b\"],[0.6666666666666666,\"#ed7953\"],[0.7777777777777778,\"#fb9f3a\"],[0.8888888888888888,\"#fdca26\"],[1.0,\"#f0f921\"]]}],\"contourcarpet\":[{\"type\":\"contourcarpet\",\"colorbar\":{\"outlinewidth\":0,\"ticks\":\"\"}}],\"contour\":[{\"type\":\"contour\",\"colorbar\":{\"outlinewidth\":0,\"ticks\":\"\"},\"colorscale\":[[0.0,\"#0d0887\"],[0.1111111111111111,\"#46039f\"],[0.2222222222222222,\"#7201a8\"],[0.3333333333333333,\"#9c179e\"],[0.4444444444444444,\"#bd3786\"],[0.5555555555555556,\"#d8576b\"],[0.6666666666666666,\"#ed7953\"],[0.7777777777777778,\"#fb9f3a\"],[0.8888888888888888,\"#fdca26\"],[1.0,\"#f0f921\"]]}],\"surface\":[{\"type\":\"surface\",\"colorbar\":{\"outlinewidth\":0,\"ticks\":\"\"},\"colorscale\":[[0.0,\"#0d0887\"],[0.1111111111111111,\"#46039f\"],[0.2222222222222222,\"#7201a8\"],[0.3333333333333333,\"#9c179e\"],[0.4444444444444444,\"#bd3786\"],[0.5555555555555556,\"#d8576b\"],[0.6666666666666666,\"#ed7953\"],[0.7777777777777778,\"#fb9f3a\"],[0.8888888888888888,\"#fdca26\"],[1.0,\"#f0f921\"]]}],\"mesh3d\":[{\"type\":\"mesh3d\",\"colorbar\":{\"outlinewidth\":0,\"ticks\":\"\"}}],\"scatter\":[{\"fillpattern\":{\"fillmode\":\"overlay\",\"size\":10,\"solidity\":0.2},\"type\":\"scatter\"}],\"parcoords\":[{\"type\":\"parcoords\",\"line\":{\"colorbar\":{\"outlinewidth\":0,\"ticks\":\"\"}}}],\"scatterpolargl\":[{\"type\":\"scatterpolargl\",\"marker\":{\"colorbar\":{\"outlinewidth\":0,\"ticks\":\"\"}}}],\"bar\":[{\"error_x\":{\"color\":\"#2a3f5f\"},\"error_y\":{\"color\":\"#2a3f5f\"},\"marker\":{\"line\":{\"color\":\"#E5ECF6\",\"width\":0.5},\"pattern\":{\"fillmode\":\"overlay\",\"size\":10,\"solidity\":0.2}},\"type\":\"bar\"}],\"scattergeo\":[{\"type\":\"scattergeo\",\"marker\":{\"colorbar\":{\"outlinewidth\":0,\"ticks\":\"\"}}}],\"scatterpolar\":[{\"type\":\"scatterpolar\",\"marker\":{\"colorbar\":{\"outlinewidth\":0,\"ticks\":\"\"}}}],\"histogram\":[{\"marker\":{\"pattern\":{\"fillmode\":\"overlay\",\"size\":10,\"solidity\":0.2}},\"type\":\"histogram\"}],\"scattergl\":[{\"type\":\"scattergl\",\"marker\":{\"colorbar\":{\"outlinewidth\":0,\"ticks\":\"\"}}}],\"scatter3d\":[{\"type\":\"scatter3d\",\"line\":{\"colorbar\":{\"outlinewidth\":0,\"ticks\":\"\"}},\"marker\":{\"colorbar\":{\"outlinewidth\":0,\"ticks\":\"\"}}}],\"scattermapbox\":[{\"type\":\"scattermapbox\",\"marker\":{\"colorbar\":{\"outlinewidth\":0,\"ticks\":\"\"}}}],\"scatterternary\":[{\"type\":\"scatterternary\",\"marker\":{\"colorbar\":{\"outlinewidth\":0,\"ticks\":\"\"}}}],\"scattercarpet\":[{\"type\":\"scattercarpet\",\"marker\":{\"colorbar\":{\"outlinewidth\":0,\"ticks\":\"\"}}}],\"carpet\":[{\"aaxis\":{\"endlinecolor\":\"#2a3f5f\",\"gridcolor\":\"white\",\"linecolor\":\"white\",\"minorgridcolor\":\"white\",\"startlinecolor\":\"#2a3f5f\"},\"baxis\":{\"endlinecolor\":\"#2a3f5f\",\"gridcolor\":\"white\",\"linecolor\":\"white\",\"minorgridcolor\":\"white\",\"startlinecolor\":\"#2a3f5f\"},\"type\":\"carpet\"}],\"table\":[{\"cells\":{\"fill\":{\"color\":\"#EBF0F8\"},\"line\":{\"color\":\"white\"}},\"header\":{\"fill\":{\"color\":\"#C8D4E3\"},\"line\":{\"color\":\"white\"}},\"type\":\"table\"}],\"barpolar\":[{\"marker\":{\"line\":{\"color\":\"#E5ECF6\",\"width\":0.5},\"pattern\":{\"fillmode\":\"overlay\",\"size\":10,\"solidity\":0.2}},\"type\":\"barpolar\"}],\"pie\":[{\"automargin\":true,\"type\":\"pie\"}]},\"layout\":{\"autotypenumbers\":\"strict\",\"colorway\":[\"#636efa\",\"#EF553B\",\"#00cc96\",\"#ab63fa\",\"#FFA15A\",\"#19d3f3\",\"#FF6692\",\"#B6E880\",\"#FF97FF\",\"#FECB52\"],\"font\":{\"color\":\"#2a3f5f\"},\"hovermode\":\"closest\",\"hoverlabel\":{\"align\":\"left\"},\"paper_bgcolor\":\"white\",\"plot_bgcolor\":\"#E5ECF6\",\"polar\":{\"bgcolor\":\"#E5ECF6\",\"angularaxis\":{\"gridcolor\":\"white\",\"linecolor\":\"white\",\"ticks\":\"\"},\"radialaxis\":{\"gridcolor\":\"white\",\"linecolor\":\"white\",\"ticks\":\"\"}},\"ternary\":{\"bgcolor\":\"#E5ECF6\",\"aaxis\":{\"gridcolor\":\"white\",\"linecolor\":\"white\",\"ticks\":\"\"},\"baxis\":{\"gridcolor\":\"white\",\"linecolor\":\"white\",\"ticks\":\"\"},\"caxis\":{\"gridcolor\":\"white\",\"linecolor\":\"white\",\"ticks\":\"\"}},\"coloraxis\":{\"colorbar\":{\"outlinewidth\":0,\"ticks\":\"\"}},\"colorscale\":{\"sequential\":[[0.0,\"#0d0887\"],[0.1111111111111111,\"#46039f\"],[0.2222222222222222,\"#7201a8\"],[0.3333333333333333,\"#9c179e\"],[0.4444444444444444,\"#bd3786\"],[0.5555555555555556,\"#d8576b\"],[0.6666666666666666,\"#ed7953\"],[0.7777777777777778,\"#fb9f3a\"],[0.8888888888888888,\"#fdca26\"],[1.0,\"#f0f921\"]],\"sequentialminus\":[[0.0,\"#0d0887\"],[0.1111111111111111,\"#46039f\"],[0.2222222222222222,\"#7201a8\"],[0.3333333333333333,\"#9c179e\"],[0.4444444444444444,\"#bd3786\"],[0.5555555555555556,\"#d8576b\"],[0.6666666666666666,\"#ed7953\"],[0.7777777777777778,\"#fb9f3a\"],[0.8888888888888888,\"#fdca26\"],[1.0,\"#f0f921\"]],\"diverging\":[[0,\"#8e0152\"],[0.1,\"#c51b7d\"],[0.2,\"#de77ae\"],[0.3,\"#f1b6da\"],[0.4,\"#fde0ef\"],[0.5,\"#f7f7f7\"],[0.6,\"#e6f5d0\"],[0.7,\"#b8e186\"],[0.8,\"#7fbc41\"],[0.9,\"#4d9221\"],[1,\"#276419\"]]},\"xaxis\":{\"gridcolor\":\"white\",\"linecolor\":\"white\",\"ticks\":\"\",\"title\":{\"standoff\":15},\"zerolinecolor\":\"white\",\"automargin\":true,\"zerolinewidth\":2},\"yaxis\":{\"gridcolor\":\"white\",\"linecolor\":\"white\",\"ticks\":\"\",\"title\":{\"standoff\":15},\"zerolinecolor\":\"white\",\"automargin\":true,\"zerolinewidth\":2},\"scene\":{\"xaxis\":{\"backgroundcolor\":\"#E5ECF6\",\"gridcolor\":\"white\",\"linecolor\":\"white\",\"showbackground\":true,\"ticks\":\"\",\"zerolinecolor\":\"white\",\"gridwidth\":2},\"yaxis\":{\"backgroundcolor\":\"#E5ECF6\",\"gridcolor\":\"white\",\"linecolor\":\"white\",\"showbackground\":true,\"ticks\":\"\",\"zerolinecolor\":\"white\",\"gridwidth\":2},\"zaxis\":{\"backgroundcolor\":\"#E5ECF6\",\"gridcolor\":\"white\",\"linecolor\":\"white\",\"showbackground\":true,\"ticks\":\"\",\"zerolinecolor\":\"white\",\"gridwidth\":2}},\"shapedefaults\":{\"line\":{\"color\":\"#2a3f5f\"}},\"annotationdefaults\":{\"arrowcolor\":\"#2a3f5f\",\"arrowhead\":0,\"arrowwidth\":1},\"geo\":{\"bgcolor\":\"white\",\"landcolor\":\"#E5ECF6\",\"subunitcolor\":\"white\",\"showland\":true,\"showlakes\":true,\"lakecolor\":\"white\"},\"title\":{\"x\":0.05},\"mapbox\":{\"style\":\"light\"}}},\"xaxis\":{\"anchor\":\"y\",\"domain\":[0.0,1.0],\"title\":{\"text\":\"index\"}},\"yaxis\":{\"anchor\":\"x\",\"domain\":[0.0,1.0],\"title\":{\"text\":\"score\"}},\"legend\":{\"tracegroupgap\":0},\"margin\":{\"t\":60},\"barmode\":\"relative\"},                        {\"responsive\": true}                    ).then(function(){\n",
       "                            \n",
       "var gd = document.getElementById('bfafe8fb-f79b-44f7-8c33-3f22757633c3');\n",
       "var x = new MutationObserver(function (mutations, observer) {{\n",
       "        var display = window.getComputedStyle(gd).display;\n",
       "        if (!display || display === 'none') {{\n",
       "            console.log([gd, 'removed!']);\n",
       "            Plotly.purge(gd);\n",
       "            observer.disconnect();\n",
       "        }}\n",
       "}});\n",
       "\n",
       "// Listen for the removal of the full notebook cells\n",
       "var notebookContainer = gd.closest('#notebook-container');\n",
       "if (notebookContainer) {{\n",
       "    x.observe(notebookContainer, {childList: true});\n",
       "}}\n",
       "\n",
       "// Listen for the clearing of the current output cell\n",
       "var outputEl = gd.closest('.output');\n",
       "if (outputEl) {{\n",
       "    x.observe(outputEl, {childList: true});\n",
       "}}\n",
       "\n",
       "                        })                };                });            </script>        </div>"
      ]
     },
     "metadata": {},
     "output_type": "display_data"
    }
   ],
   "source": [
    "px.bar(df, x=df.index, y='score')"
   ]
  },
  {
   "cell_type": "code",
   "execution_count": 74,
   "metadata": {},
   "outputs": [
    {
     "data": {
      "application/vnd.plotly.v1+json": {
       "config": {
        "plotlyServerURL": "https://plot.ly"
       },
       "data": [
        {
         "alignmentgroup": "True",
         "hovertemplate": "index=%{x}<br>rsme=%{y}<extra></extra>",
         "legendgroup": "",
         "marker": {
          "color": "#636efa",
          "pattern": {
           "shape": ""
          }
         },
         "name": "",
         "offsetgroup": "",
         "orientation": "v",
         "showlegend": false,
         "textposition": "auto",
         "type": "bar",
         "x": [
          "CatBoostRegressor",
          "XGBRegressor",
          "SVR",
          "GradientBoostingRegressor",
          "RandomForestRegressor",
          "DecisionTreeRegressor",
          "AdaBoostRegressor"
         ],
         "xaxis": "x",
         "y": [
          0.9948872712200654,
          1.0466705341455043,
          2.725159784577243,
          0.9950174396649111,
          0.7651804408623742,
          1.0763544427931184,
          1.192388930373597
         ],
         "yaxis": "y"
        }
       ],
       "layout": {
        "barmode": "relative",
        "legend": {
         "tracegroupgap": 0
        },
        "margin": {
         "t": 60
        },
        "template": {
         "data": {
          "bar": [
           {
            "error_x": {
             "color": "#2a3f5f"
            },
            "error_y": {
             "color": "#2a3f5f"
            },
            "marker": {
             "line": {
              "color": "#E5ECF6",
              "width": 0.5
             },
             "pattern": {
              "fillmode": "overlay",
              "size": 10,
              "solidity": 0.2
             }
            },
            "type": "bar"
           }
          ],
          "barpolar": [
           {
            "marker": {
             "line": {
              "color": "#E5ECF6",
              "width": 0.5
             },
             "pattern": {
              "fillmode": "overlay",
              "size": 10,
              "solidity": 0.2
             }
            },
            "type": "barpolar"
           }
          ],
          "carpet": [
           {
            "aaxis": {
             "endlinecolor": "#2a3f5f",
             "gridcolor": "white",
             "linecolor": "white",
             "minorgridcolor": "white",
             "startlinecolor": "#2a3f5f"
            },
            "baxis": {
             "endlinecolor": "#2a3f5f",
             "gridcolor": "white",
             "linecolor": "white",
             "minorgridcolor": "white",
             "startlinecolor": "#2a3f5f"
            },
            "type": "carpet"
           }
          ],
          "choropleth": [
           {
            "colorbar": {
             "outlinewidth": 0,
             "ticks": ""
            },
            "type": "choropleth"
           }
          ],
          "contour": [
           {
            "colorbar": {
             "outlinewidth": 0,
             "ticks": ""
            },
            "colorscale": [
             [
              0,
              "#0d0887"
             ],
             [
              0.1111111111111111,
              "#46039f"
             ],
             [
              0.2222222222222222,
              "#7201a8"
             ],
             [
              0.3333333333333333,
              "#9c179e"
             ],
             [
              0.4444444444444444,
              "#bd3786"
             ],
             [
              0.5555555555555556,
              "#d8576b"
             ],
             [
              0.6666666666666666,
              "#ed7953"
             ],
             [
              0.7777777777777778,
              "#fb9f3a"
             ],
             [
              0.8888888888888888,
              "#fdca26"
             ],
             [
              1,
              "#f0f921"
             ]
            ],
            "type": "contour"
           }
          ],
          "contourcarpet": [
           {
            "colorbar": {
             "outlinewidth": 0,
             "ticks": ""
            },
            "type": "contourcarpet"
           }
          ],
          "heatmap": [
           {
            "colorbar": {
             "outlinewidth": 0,
             "ticks": ""
            },
            "colorscale": [
             [
              0,
              "#0d0887"
             ],
             [
              0.1111111111111111,
              "#46039f"
             ],
             [
              0.2222222222222222,
              "#7201a8"
             ],
             [
              0.3333333333333333,
              "#9c179e"
             ],
             [
              0.4444444444444444,
              "#bd3786"
             ],
             [
              0.5555555555555556,
              "#d8576b"
             ],
             [
              0.6666666666666666,
              "#ed7953"
             ],
             [
              0.7777777777777778,
              "#fb9f3a"
             ],
             [
              0.8888888888888888,
              "#fdca26"
             ],
             [
              1,
              "#f0f921"
             ]
            ],
            "type": "heatmap"
           }
          ],
          "heatmapgl": [
           {
            "colorbar": {
             "outlinewidth": 0,
             "ticks": ""
            },
            "colorscale": [
             [
              0,
              "#0d0887"
             ],
             [
              0.1111111111111111,
              "#46039f"
             ],
             [
              0.2222222222222222,
              "#7201a8"
             ],
             [
              0.3333333333333333,
              "#9c179e"
             ],
             [
              0.4444444444444444,
              "#bd3786"
             ],
             [
              0.5555555555555556,
              "#d8576b"
             ],
             [
              0.6666666666666666,
              "#ed7953"
             ],
             [
              0.7777777777777778,
              "#fb9f3a"
             ],
             [
              0.8888888888888888,
              "#fdca26"
             ],
             [
              1,
              "#f0f921"
             ]
            ],
            "type": "heatmapgl"
           }
          ],
          "histogram": [
           {
            "marker": {
             "pattern": {
              "fillmode": "overlay",
              "size": 10,
              "solidity": 0.2
             }
            },
            "type": "histogram"
           }
          ],
          "histogram2d": [
           {
            "colorbar": {
             "outlinewidth": 0,
             "ticks": ""
            },
            "colorscale": [
             [
              0,
              "#0d0887"
             ],
             [
              0.1111111111111111,
              "#46039f"
             ],
             [
              0.2222222222222222,
              "#7201a8"
             ],
             [
              0.3333333333333333,
              "#9c179e"
             ],
             [
              0.4444444444444444,
              "#bd3786"
             ],
             [
              0.5555555555555556,
              "#d8576b"
             ],
             [
              0.6666666666666666,
              "#ed7953"
             ],
             [
              0.7777777777777778,
              "#fb9f3a"
             ],
             [
              0.8888888888888888,
              "#fdca26"
             ],
             [
              1,
              "#f0f921"
             ]
            ],
            "type": "histogram2d"
           }
          ],
          "histogram2dcontour": [
           {
            "colorbar": {
             "outlinewidth": 0,
             "ticks": ""
            },
            "colorscale": [
             [
              0,
              "#0d0887"
             ],
             [
              0.1111111111111111,
              "#46039f"
             ],
             [
              0.2222222222222222,
              "#7201a8"
             ],
             [
              0.3333333333333333,
              "#9c179e"
             ],
             [
              0.4444444444444444,
              "#bd3786"
             ],
             [
              0.5555555555555556,
              "#d8576b"
             ],
             [
              0.6666666666666666,
              "#ed7953"
             ],
             [
              0.7777777777777778,
              "#fb9f3a"
             ],
             [
              0.8888888888888888,
              "#fdca26"
             ],
             [
              1,
              "#f0f921"
             ]
            ],
            "type": "histogram2dcontour"
           }
          ],
          "mesh3d": [
           {
            "colorbar": {
             "outlinewidth": 0,
             "ticks": ""
            },
            "type": "mesh3d"
           }
          ],
          "parcoords": [
           {
            "line": {
             "colorbar": {
              "outlinewidth": 0,
              "ticks": ""
             }
            },
            "type": "parcoords"
           }
          ],
          "pie": [
           {
            "automargin": true,
            "type": "pie"
           }
          ],
          "scatter": [
           {
            "fillpattern": {
             "fillmode": "overlay",
             "size": 10,
             "solidity": 0.2
            },
            "type": "scatter"
           }
          ],
          "scatter3d": [
           {
            "line": {
             "colorbar": {
              "outlinewidth": 0,
              "ticks": ""
             }
            },
            "marker": {
             "colorbar": {
              "outlinewidth": 0,
              "ticks": ""
             }
            },
            "type": "scatter3d"
           }
          ],
          "scattercarpet": [
           {
            "marker": {
             "colorbar": {
              "outlinewidth": 0,
              "ticks": ""
             }
            },
            "type": "scattercarpet"
           }
          ],
          "scattergeo": [
           {
            "marker": {
             "colorbar": {
              "outlinewidth": 0,
              "ticks": ""
             }
            },
            "type": "scattergeo"
           }
          ],
          "scattergl": [
           {
            "marker": {
             "colorbar": {
              "outlinewidth": 0,
              "ticks": ""
             }
            },
            "type": "scattergl"
           }
          ],
          "scattermapbox": [
           {
            "marker": {
             "colorbar": {
              "outlinewidth": 0,
              "ticks": ""
             }
            },
            "type": "scattermapbox"
           }
          ],
          "scatterpolar": [
           {
            "marker": {
             "colorbar": {
              "outlinewidth": 0,
              "ticks": ""
             }
            },
            "type": "scatterpolar"
           }
          ],
          "scatterpolargl": [
           {
            "marker": {
             "colorbar": {
              "outlinewidth": 0,
              "ticks": ""
             }
            },
            "type": "scatterpolargl"
           }
          ],
          "scatterternary": [
           {
            "marker": {
             "colorbar": {
              "outlinewidth": 0,
              "ticks": ""
             }
            },
            "type": "scatterternary"
           }
          ],
          "surface": [
           {
            "colorbar": {
             "outlinewidth": 0,
             "ticks": ""
            },
            "colorscale": [
             [
              0,
              "#0d0887"
             ],
             [
              0.1111111111111111,
              "#46039f"
             ],
             [
              0.2222222222222222,
              "#7201a8"
             ],
             [
              0.3333333333333333,
              "#9c179e"
             ],
             [
              0.4444444444444444,
              "#bd3786"
             ],
             [
              0.5555555555555556,
              "#d8576b"
             ],
             [
              0.6666666666666666,
              "#ed7953"
             ],
             [
              0.7777777777777778,
              "#fb9f3a"
             ],
             [
              0.8888888888888888,
              "#fdca26"
             ],
             [
              1,
              "#f0f921"
             ]
            ],
            "type": "surface"
           }
          ],
          "table": [
           {
            "cells": {
             "fill": {
              "color": "#EBF0F8"
             },
             "line": {
              "color": "white"
             }
            },
            "header": {
             "fill": {
              "color": "#C8D4E3"
             },
             "line": {
              "color": "white"
             }
            },
            "type": "table"
           }
          ]
         },
         "layout": {
          "annotationdefaults": {
           "arrowcolor": "#2a3f5f",
           "arrowhead": 0,
           "arrowwidth": 1
          },
          "autotypenumbers": "strict",
          "coloraxis": {
           "colorbar": {
            "outlinewidth": 0,
            "ticks": ""
           }
          },
          "colorscale": {
           "diverging": [
            [
             0,
             "#8e0152"
            ],
            [
             0.1,
             "#c51b7d"
            ],
            [
             0.2,
             "#de77ae"
            ],
            [
             0.3,
             "#f1b6da"
            ],
            [
             0.4,
             "#fde0ef"
            ],
            [
             0.5,
             "#f7f7f7"
            ],
            [
             0.6,
             "#e6f5d0"
            ],
            [
             0.7,
             "#b8e186"
            ],
            [
             0.8,
             "#7fbc41"
            ],
            [
             0.9,
             "#4d9221"
            ],
            [
             1,
             "#276419"
            ]
           ],
           "sequential": [
            [
             0,
             "#0d0887"
            ],
            [
             0.1111111111111111,
             "#46039f"
            ],
            [
             0.2222222222222222,
             "#7201a8"
            ],
            [
             0.3333333333333333,
             "#9c179e"
            ],
            [
             0.4444444444444444,
             "#bd3786"
            ],
            [
             0.5555555555555556,
             "#d8576b"
            ],
            [
             0.6666666666666666,
             "#ed7953"
            ],
            [
             0.7777777777777778,
             "#fb9f3a"
            ],
            [
             0.8888888888888888,
             "#fdca26"
            ],
            [
             1,
             "#f0f921"
            ]
           ],
           "sequentialminus": [
            [
             0,
             "#0d0887"
            ],
            [
             0.1111111111111111,
             "#46039f"
            ],
            [
             0.2222222222222222,
             "#7201a8"
            ],
            [
             0.3333333333333333,
             "#9c179e"
            ],
            [
             0.4444444444444444,
             "#bd3786"
            ],
            [
             0.5555555555555556,
             "#d8576b"
            ],
            [
             0.6666666666666666,
             "#ed7953"
            ],
            [
             0.7777777777777778,
             "#fb9f3a"
            ],
            [
             0.8888888888888888,
             "#fdca26"
            ],
            [
             1,
             "#f0f921"
            ]
           ]
          },
          "colorway": [
           "#636efa",
           "#EF553B",
           "#00cc96",
           "#ab63fa",
           "#FFA15A",
           "#19d3f3",
           "#FF6692",
           "#B6E880",
           "#FF97FF",
           "#FECB52"
          ],
          "font": {
           "color": "#2a3f5f"
          },
          "geo": {
           "bgcolor": "white",
           "lakecolor": "white",
           "landcolor": "#E5ECF6",
           "showlakes": true,
           "showland": true,
           "subunitcolor": "white"
          },
          "hoverlabel": {
           "align": "left"
          },
          "hovermode": "closest",
          "mapbox": {
           "style": "light"
          },
          "paper_bgcolor": "white",
          "plot_bgcolor": "#E5ECF6",
          "polar": {
           "angularaxis": {
            "gridcolor": "white",
            "linecolor": "white",
            "ticks": ""
           },
           "bgcolor": "#E5ECF6",
           "radialaxis": {
            "gridcolor": "white",
            "linecolor": "white",
            "ticks": ""
           }
          },
          "scene": {
           "xaxis": {
            "backgroundcolor": "#E5ECF6",
            "gridcolor": "white",
            "gridwidth": 2,
            "linecolor": "white",
            "showbackground": true,
            "ticks": "",
            "zerolinecolor": "white"
           },
           "yaxis": {
            "backgroundcolor": "#E5ECF6",
            "gridcolor": "white",
            "gridwidth": 2,
            "linecolor": "white",
            "showbackground": true,
            "ticks": "",
            "zerolinecolor": "white"
           },
           "zaxis": {
            "backgroundcolor": "#E5ECF6",
            "gridcolor": "white",
            "gridwidth": 2,
            "linecolor": "white",
            "showbackground": true,
            "ticks": "",
            "zerolinecolor": "white"
           }
          },
          "shapedefaults": {
           "line": {
            "color": "#2a3f5f"
           }
          },
          "ternary": {
           "aaxis": {
            "gridcolor": "white",
            "linecolor": "white",
            "ticks": ""
           },
           "baxis": {
            "gridcolor": "white",
            "linecolor": "white",
            "ticks": ""
           },
           "bgcolor": "#E5ECF6",
           "caxis": {
            "gridcolor": "white",
            "linecolor": "white",
            "ticks": ""
           }
          },
          "title": {
           "x": 0.05
          },
          "xaxis": {
           "automargin": true,
           "gridcolor": "white",
           "linecolor": "white",
           "ticks": "",
           "title": {
            "standoff": 15
           },
           "zerolinecolor": "white",
           "zerolinewidth": 2
          },
          "yaxis": {
           "automargin": true,
           "gridcolor": "white",
           "linecolor": "white",
           "ticks": "",
           "title": {
            "standoff": 15
           },
           "zerolinecolor": "white",
           "zerolinewidth": 2
          }
         }
        },
        "xaxis": {
         "anchor": "y",
         "domain": [
          0,
          1
         ],
         "title": {
          "text": "index"
         }
        },
        "yaxis": {
         "anchor": "x",
         "domain": [
          0,
          1
         ],
         "title": {
          "text": "rsme"
         }
        }
       }
      },
      "text/html": [
       "<div>                            <div id=\"99908da3-e140-418a-bd96-884a1cfaaedb\" class=\"plotly-graph-div\" style=\"height:525px; width:100%;\"></div>            <script type=\"text/javascript\">                require([\"plotly\"], function(Plotly) {                    window.PLOTLYENV=window.PLOTLYENV || {};                                    if (document.getElementById(\"99908da3-e140-418a-bd96-884a1cfaaedb\")) {                    Plotly.newPlot(                        \"99908da3-e140-418a-bd96-884a1cfaaedb\",                        [{\"alignmentgroup\":\"True\",\"hovertemplate\":\"index=%{x}\\u003cbr\\u003ersme=%{y}\\u003cextra\\u003e\\u003c\\u002fextra\\u003e\",\"legendgroup\":\"\",\"marker\":{\"color\":\"#636efa\",\"pattern\":{\"shape\":\"\"}},\"name\":\"\",\"offsetgroup\":\"\",\"orientation\":\"v\",\"showlegend\":false,\"textposition\":\"auto\",\"x\":[\"CatBoostRegressor\",\"XGBRegressor\",\"SVR\",\"GradientBoostingRegressor\",\"RandomForestRegressor\",\"DecisionTreeRegressor\",\"AdaBoostRegressor\"],\"xaxis\":\"x\",\"y\":[0.9948872712200654,1.0466705341455043,2.725159784577243,0.9950174396649111,0.7651804408623742,1.0763544427931184,1.192388930373597],\"yaxis\":\"y\",\"type\":\"bar\"}],                        {\"template\":{\"data\":{\"histogram2dcontour\":[{\"type\":\"histogram2dcontour\",\"colorbar\":{\"outlinewidth\":0,\"ticks\":\"\"},\"colorscale\":[[0.0,\"#0d0887\"],[0.1111111111111111,\"#46039f\"],[0.2222222222222222,\"#7201a8\"],[0.3333333333333333,\"#9c179e\"],[0.4444444444444444,\"#bd3786\"],[0.5555555555555556,\"#d8576b\"],[0.6666666666666666,\"#ed7953\"],[0.7777777777777778,\"#fb9f3a\"],[0.8888888888888888,\"#fdca26\"],[1.0,\"#f0f921\"]]}],\"choropleth\":[{\"type\":\"choropleth\",\"colorbar\":{\"outlinewidth\":0,\"ticks\":\"\"}}],\"histogram2d\":[{\"type\":\"histogram2d\",\"colorbar\":{\"outlinewidth\":0,\"ticks\":\"\"},\"colorscale\":[[0.0,\"#0d0887\"],[0.1111111111111111,\"#46039f\"],[0.2222222222222222,\"#7201a8\"],[0.3333333333333333,\"#9c179e\"],[0.4444444444444444,\"#bd3786\"],[0.5555555555555556,\"#d8576b\"],[0.6666666666666666,\"#ed7953\"],[0.7777777777777778,\"#fb9f3a\"],[0.8888888888888888,\"#fdca26\"],[1.0,\"#f0f921\"]]}],\"heatmap\":[{\"type\":\"heatmap\",\"colorbar\":{\"outlinewidth\":0,\"ticks\":\"\"},\"colorscale\":[[0.0,\"#0d0887\"],[0.1111111111111111,\"#46039f\"],[0.2222222222222222,\"#7201a8\"],[0.3333333333333333,\"#9c179e\"],[0.4444444444444444,\"#bd3786\"],[0.5555555555555556,\"#d8576b\"],[0.6666666666666666,\"#ed7953\"],[0.7777777777777778,\"#fb9f3a\"],[0.8888888888888888,\"#fdca26\"],[1.0,\"#f0f921\"]]}],\"heatmapgl\":[{\"type\":\"heatmapgl\",\"colorbar\":{\"outlinewidth\":0,\"ticks\":\"\"},\"colorscale\":[[0.0,\"#0d0887\"],[0.1111111111111111,\"#46039f\"],[0.2222222222222222,\"#7201a8\"],[0.3333333333333333,\"#9c179e\"],[0.4444444444444444,\"#bd3786\"],[0.5555555555555556,\"#d8576b\"],[0.6666666666666666,\"#ed7953\"],[0.7777777777777778,\"#fb9f3a\"],[0.8888888888888888,\"#fdca26\"],[1.0,\"#f0f921\"]]}],\"contourcarpet\":[{\"type\":\"contourcarpet\",\"colorbar\":{\"outlinewidth\":0,\"ticks\":\"\"}}],\"contour\":[{\"type\":\"contour\",\"colorbar\":{\"outlinewidth\":0,\"ticks\":\"\"},\"colorscale\":[[0.0,\"#0d0887\"],[0.1111111111111111,\"#46039f\"],[0.2222222222222222,\"#7201a8\"],[0.3333333333333333,\"#9c179e\"],[0.4444444444444444,\"#bd3786\"],[0.5555555555555556,\"#d8576b\"],[0.6666666666666666,\"#ed7953\"],[0.7777777777777778,\"#fb9f3a\"],[0.8888888888888888,\"#fdca26\"],[1.0,\"#f0f921\"]]}],\"surface\":[{\"type\":\"surface\",\"colorbar\":{\"outlinewidth\":0,\"ticks\":\"\"},\"colorscale\":[[0.0,\"#0d0887\"],[0.1111111111111111,\"#46039f\"],[0.2222222222222222,\"#7201a8\"],[0.3333333333333333,\"#9c179e\"],[0.4444444444444444,\"#bd3786\"],[0.5555555555555556,\"#d8576b\"],[0.6666666666666666,\"#ed7953\"],[0.7777777777777778,\"#fb9f3a\"],[0.8888888888888888,\"#fdca26\"],[1.0,\"#f0f921\"]]}],\"mesh3d\":[{\"type\":\"mesh3d\",\"colorbar\":{\"outlinewidth\":0,\"ticks\":\"\"}}],\"scatter\":[{\"fillpattern\":{\"fillmode\":\"overlay\",\"size\":10,\"solidity\":0.2},\"type\":\"scatter\"}],\"parcoords\":[{\"type\":\"parcoords\",\"line\":{\"colorbar\":{\"outlinewidth\":0,\"ticks\":\"\"}}}],\"scatterpolargl\":[{\"type\":\"scatterpolargl\",\"marker\":{\"colorbar\":{\"outlinewidth\":0,\"ticks\":\"\"}}}],\"bar\":[{\"error_x\":{\"color\":\"#2a3f5f\"},\"error_y\":{\"color\":\"#2a3f5f\"},\"marker\":{\"line\":{\"color\":\"#E5ECF6\",\"width\":0.5},\"pattern\":{\"fillmode\":\"overlay\",\"size\":10,\"solidity\":0.2}},\"type\":\"bar\"}],\"scattergeo\":[{\"type\":\"scattergeo\",\"marker\":{\"colorbar\":{\"outlinewidth\":0,\"ticks\":\"\"}}}],\"scatterpolar\":[{\"type\":\"scatterpolar\",\"marker\":{\"colorbar\":{\"outlinewidth\":0,\"ticks\":\"\"}}}],\"histogram\":[{\"marker\":{\"pattern\":{\"fillmode\":\"overlay\",\"size\":10,\"solidity\":0.2}},\"type\":\"histogram\"}],\"scattergl\":[{\"type\":\"scattergl\",\"marker\":{\"colorbar\":{\"outlinewidth\":0,\"ticks\":\"\"}}}],\"scatter3d\":[{\"type\":\"scatter3d\",\"line\":{\"colorbar\":{\"outlinewidth\":0,\"ticks\":\"\"}},\"marker\":{\"colorbar\":{\"outlinewidth\":0,\"ticks\":\"\"}}}],\"scattermapbox\":[{\"type\":\"scattermapbox\",\"marker\":{\"colorbar\":{\"outlinewidth\":0,\"ticks\":\"\"}}}],\"scatterternary\":[{\"type\":\"scatterternary\",\"marker\":{\"colorbar\":{\"outlinewidth\":0,\"ticks\":\"\"}}}],\"scattercarpet\":[{\"type\":\"scattercarpet\",\"marker\":{\"colorbar\":{\"outlinewidth\":0,\"ticks\":\"\"}}}],\"carpet\":[{\"aaxis\":{\"endlinecolor\":\"#2a3f5f\",\"gridcolor\":\"white\",\"linecolor\":\"white\",\"minorgridcolor\":\"white\",\"startlinecolor\":\"#2a3f5f\"},\"baxis\":{\"endlinecolor\":\"#2a3f5f\",\"gridcolor\":\"white\",\"linecolor\":\"white\",\"minorgridcolor\":\"white\",\"startlinecolor\":\"#2a3f5f\"},\"type\":\"carpet\"}],\"table\":[{\"cells\":{\"fill\":{\"color\":\"#EBF0F8\"},\"line\":{\"color\":\"white\"}},\"header\":{\"fill\":{\"color\":\"#C8D4E3\"},\"line\":{\"color\":\"white\"}},\"type\":\"table\"}],\"barpolar\":[{\"marker\":{\"line\":{\"color\":\"#E5ECF6\",\"width\":0.5},\"pattern\":{\"fillmode\":\"overlay\",\"size\":10,\"solidity\":0.2}},\"type\":\"barpolar\"}],\"pie\":[{\"automargin\":true,\"type\":\"pie\"}]},\"layout\":{\"autotypenumbers\":\"strict\",\"colorway\":[\"#636efa\",\"#EF553B\",\"#00cc96\",\"#ab63fa\",\"#FFA15A\",\"#19d3f3\",\"#FF6692\",\"#B6E880\",\"#FF97FF\",\"#FECB52\"],\"font\":{\"color\":\"#2a3f5f\"},\"hovermode\":\"closest\",\"hoverlabel\":{\"align\":\"left\"},\"paper_bgcolor\":\"white\",\"plot_bgcolor\":\"#E5ECF6\",\"polar\":{\"bgcolor\":\"#E5ECF6\",\"angularaxis\":{\"gridcolor\":\"white\",\"linecolor\":\"white\",\"ticks\":\"\"},\"radialaxis\":{\"gridcolor\":\"white\",\"linecolor\":\"white\",\"ticks\":\"\"}},\"ternary\":{\"bgcolor\":\"#E5ECF6\",\"aaxis\":{\"gridcolor\":\"white\",\"linecolor\":\"white\",\"ticks\":\"\"},\"baxis\":{\"gridcolor\":\"white\",\"linecolor\":\"white\",\"ticks\":\"\"},\"caxis\":{\"gridcolor\":\"white\",\"linecolor\":\"white\",\"ticks\":\"\"}},\"coloraxis\":{\"colorbar\":{\"outlinewidth\":0,\"ticks\":\"\"}},\"colorscale\":{\"sequential\":[[0.0,\"#0d0887\"],[0.1111111111111111,\"#46039f\"],[0.2222222222222222,\"#7201a8\"],[0.3333333333333333,\"#9c179e\"],[0.4444444444444444,\"#bd3786\"],[0.5555555555555556,\"#d8576b\"],[0.6666666666666666,\"#ed7953\"],[0.7777777777777778,\"#fb9f3a\"],[0.8888888888888888,\"#fdca26\"],[1.0,\"#f0f921\"]],\"sequentialminus\":[[0.0,\"#0d0887\"],[0.1111111111111111,\"#46039f\"],[0.2222222222222222,\"#7201a8\"],[0.3333333333333333,\"#9c179e\"],[0.4444444444444444,\"#bd3786\"],[0.5555555555555556,\"#d8576b\"],[0.6666666666666666,\"#ed7953\"],[0.7777777777777778,\"#fb9f3a\"],[0.8888888888888888,\"#fdca26\"],[1.0,\"#f0f921\"]],\"diverging\":[[0,\"#8e0152\"],[0.1,\"#c51b7d\"],[0.2,\"#de77ae\"],[0.3,\"#f1b6da\"],[0.4,\"#fde0ef\"],[0.5,\"#f7f7f7\"],[0.6,\"#e6f5d0\"],[0.7,\"#b8e186\"],[0.8,\"#7fbc41\"],[0.9,\"#4d9221\"],[1,\"#276419\"]]},\"xaxis\":{\"gridcolor\":\"white\",\"linecolor\":\"white\",\"ticks\":\"\",\"title\":{\"standoff\":15},\"zerolinecolor\":\"white\",\"automargin\":true,\"zerolinewidth\":2},\"yaxis\":{\"gridcolor\":\"white\",\"linecolor\":\"white\",\"ticks\":\"\",\"title\":{\"standoff\":15},\"zerolinecolor\":\"white\",\"automargin\":true,\"zerolinewidth\":2},\"scene\":{\"xaxis\":{\"backgroundcolor\":\"#E5ECF6\",\"gridcolor\":\"white\",\"linecolor\":\"white\",\"showbackground\":true,\"ticks\":\"\",\"zerolinecolor\":\"white\",\"gridwidth\":2},\"yaxis\":{\"backgroundcolor\":\"#E5ECF6\",\"gridcolor\":\"white\",\"linecolor\":\"white\",\"showbackground\":true,\"ticks\":\"\",\"zerolinecolor\":\"white\",\"gridwidth\":2},\"zaxis\":{\"backgroundcolor\":\"#E5ECF6\",\"gridcolor\":\"white\",\"linecolor\":\"white\",\"showbackground\":true,\"ticks\":\"\",\"zerolinecolor\":\"white\",\"gridwidth\":2}},\"shapedefaults\":{\"line\":{\"color\":\"#2a3f5f\"}},\"annotationdefaults\":{\"arrowcolor\":\"#2a3f5f\",\"arrowhead\":0,\"arrowwidth\":1},\"geo\":{\"bgcolor\":\"white\",\"landcolor\":\"#E5ECF6\",\"subunitcolor\":\"white\",\"showland\":true,\"showlakes\":true,\"lakecolor\":\"white\"},\"title\":{\"x\":0.05},\"mapbox\":{\"style\":\"light\"}}},\"xaxis\":{\"anchor\":\"y\",\"domain\":[0.0,1.0],\"title\":{\"text\":\"index\"}},\"yaxis\":{\"anchor\":\"x\",\"domain\":[0.0,1.0],\"title\":{\"text\":\"rsme\"}},\"legend\":{\"tracegroupgap\":0},\"margin\":{\"t\":60},\"barmode\":\"relative\"},                        {\"responsive\": true}                    ).then(function(){\n",
       "                            \n",
       "var gd = document.getElementById('99908da3-e140-418a-bd96-884a1cfaaedb');\n",
       "var x = new MutationObserver(function (mutations, observer) {{\n",
       "        var display = window.getComputedStyle(gd).display;\n",
       "        if (!display || display === 'none') {{\n",
       "            console.log([gd, 'removed!']);\n",
       "            Plotly.purge(gd);\n",
       "            observer.disconnect();\n",
       "        }}\n",
       "}});\n",
       "\n",
       "// Listen for the removal of the full notebook cells\n",
       "var notebookContainer = gd.closest('#notebook-container');\n",
       "if (notebookContainer) {{\n",
       "    x.observe(notebookContainer, {childList: true});\n",
       "}}\n",
       "\n",
       "// Listen for the clearing of the current output cell\n",
       "var outputEl = gd.closest('.output');\n",
       "if (outputEl) {{\n",
       "    x.observe(outputEl, {childList: true});\n",
       "}}\n",
       "\n",
       "                        })                };                });            </script>        </div>"
      ]
     },
     "metadata": {},
     "output_type": "display_data"
    }
   ],
   "source": [
    "px.bar(df, x=df.index, y='rsme')"
   ]
  },
  {
   "cell_type": "code",
   "execution_count": 76,
   "metadata": {},
   "outputs": [
    {
     "data": {
      "application/vnd.plotly.v1+json": {
       "config": {
        "plotlyServerURL": "https://plot.ly"
       },
       "data": [
        {
         "alignmentgroup": "True",
         "hovertemplate": "index=%{x}<br>r_squared=%{y}<extra></extra>",
         "legendgroup": "",
         "marker": {
          "color": "#636efa",
          "pattern": {
           "shape": ""
          }
         },
         "name": "",
         "offsetgroup": "",
         "orientation": "v",
         "showlegend": false,
         "textposition": "auto",
         "type": "bar",
         "x": [
          "CatBoostRegressor",
          "XGBRegressor",
          "SVR",
          "GradientBoostingRegressor",
          "RandomForestRegressor",
          "DecisionTreeRegressor",
          "AdaBoostRegressor"
         ],
         "xaxis": "x",
         "y": [
          0.9357633213613864,
          0.9289023371125326,
          0.5180308158119323,
          0.9357465111441758,
          0.9620017978110591,
          0.9248124481379234,
          0.907727731061176
         ],
         "yaxis": "y"
        }
       ],
       "layout": {
        "barmode": "relative",
        "legend": {
         "tracegroupgap": 0
        },
        "margin": {
         "t": 60
        },
        "template": {
         "data": {
          "bar": [
           {
            "error_x": {
             "color": "#2a3f5f"
            },
            "error_y": {
             "color": "#2a3f5f"
            },
            "marker": {
             "line": {
              "color": "#E5ECF6",
              "width": 0.5
             },
             "pattern": {
              "fillmode": "overlay",
              "size": 10,
              "solidity": 0.2
             }
            },
            "type": "bar"
           }
          ],
          "barpolar": [
           {
            "marker": {
             "line": {
              "color": "#E5ECF6",
              "width": 0.5
             },
             "pattern": {
              "fillmode": "overlay",
              "size": 10,
              "solidity": 0.2
             }
            },
            "type": "barpolar"
           }
          ],
          "carpet": [
           {
            "aaxis": {
             "endlinecolor": "#2a3f5f",
             "gridcolor": "white",
             "linecolor": "white",
             "minorgridcolor": "white",
             "startlinecolor": "#2a3f5f"
            },
            "baxis": {
             "endlinecolor": "#2a3f5f",
             "gridcolor": "white",
             "linecolor": "white",
             "minorgridcolor": "white",
             "startlinecolor": "#2a3f5f"
            },
            "type": "carpet"
           }
          ],
          "choropleth": [
           {
            "colorbar": {
             "outlinewidth": 0,
             "ticks": ""
            },
            "type": "choropleth"
           }
          ],
          "contour": [
           {
            "colorbar": {
             "outlinewidth": 0,
             "ticks": ""
            },
            "colorscale": [
             [
              0,
              "#0d0887"
             ],
             [
              0.1111111111111111,
              "#46039f"
             ],
             [
              0.2222222222222222,
              "#7201a8"
             ],
             [
              0.3333333333333333,
              "#9c179e"
             ],
             [
              0.4444444444444444,
              "#bd3786"
             ],
             [
              0.5555555555555556,
              "#d8576b"
             ],
             [
              0.6666666666666666,
              "#ed7953"
             ],
             [
              0.7777777777777778,
              "#fb9f3a"
             ],
             [
              0.8888888888888888,
              "#fdca26"
             ],
             [
              1,
              "#f0f921"
             ]
            ],
            "type": "contour"
           }
          ],
          "contourcarpet": [
           {
            "colorbar": {
             "outlinewidth": 0,
             "ticks": ""
            },
            "type": "contourcarpet"
           }
          ],
          "heatmap": [
           {
            "colorbar": {
             "outlinewidth": 0,
             "ticks": ""
            },
            "colorscale": [
             [
              0,
              "#0d0887"
             ],
             [
              0.1111111111111111,
              "#46039f"
             ],
             [
              0.2222222222222222,
              "#7201a8"
             ],
             [
              0.3333333333333333,
              "#9c179e"
             ],
             [
              0.4444444444444444,
              "#bd3786"
             ],
             [
              0.5555555555555556,
              "#d8576b"
             ],
             [
              0.6666666666666666,
              "#ed7953"
             ],
             [
              0.7777777777777778,
              "#fb9f3a"
             ],
             [
              0.8888888888888888,
              "#fdca26"
             ],
             [
              1,
              "#f0f921"
             ]
            ],
            "type": "heatmap"
           }
          ],
          "heatmapgl": [
           {
            "colorbar": {
             "outlinewidth": 0,
             "ticks": ""
            },
            "colorscale": [
             [
              0,
              "#0d0887"
             ],
             [
              0.1111111111111111,
              "#46039f"
             ],
             [
              0.2222222222222222,
              "#7201a8"
             ],
             [
              0.3333333333333333,
              "#9c179e"
             ],
             [
              0.4444444444444444,
              "#bd3786"
             ],
             [
              0.5555555555555556,
              "#d8576b"
             ],
             [
              0.6666666666666666,
              "#ed7953"
             ],
             [
              0.7777777777777778,
              "#fb9f3a"
             ],
             [
              0.8888888888888888,
              "#fdca26"
             ],
             [
              1,
              "#f0f921"
             ]
            ],
            "type": "heatmapgl"
           }
          ],
          "histogram": [
           {
            "marker": {
             "pattern": {
              "fillmode": "overlay",
              "size": 10,
              "solidity": 0.2
             }
            },
            "type": "histogram"
           }
          ],
          "histogram2d": [
           {
            "colorbar": {
             "outlinewidth": 0,
             "ticks": ""
            },
            "colorscale": [
             [
              0,
              "#0d0887"
             ],
             [
              0.1111111111111111,
              "#46039f"
             ],
             [
              0.2222222222222222,
              "#7201a8"
             ],
             [
              0.3333333333333333,
              "#9c179e"
             ],
             [
              0.4444444444444444,
              "#bd3786"
             ],
             [
              0.5555555555555556,
              "#d8576b"
             ],
             [
              0.6666666666666666,
              "#ed7953"
             ],
             [
              0.7777777777777778,
              "#fb9f3a"
             ],
             [
              0.8888888888888888,
              "#fdca26"
             ],
             [
              1,
              "#f0f921"
             ]
            ],
            "type": "histogram2d"
           }
          ],
          "histogram2dcontour": [
           {
            "colorbar": {
             "outlinewidth": 0,
             "ticks": ""
            },
            "colorscale": [
             [
              0,
              "#0d0887"
             ],
             [
              0.1111111111111111,
              "#46039f"
             ],
             [
              0.2222222222222222,
              "#7201a8"
             ],
             [
              0.3333333333333333,
              "#9c179e"
             ],
             [
              0.4444444444444444,
              "#bd3786"
             ],
             [
              0.5555555555555556,
              "#d8576b"
             ],
             [
              0.6666666666666666,
              "#ed7953"
             ],
             [
              0.7777777777777778,
              "#fb9f3a"
             ],
             [
              0.8888888888888888,
              "#fdca26"
             ],
             [
              1,
              "#f0f921"
             ]
            ],
            "type": "histogram2dcontour"
           }
          ],
          "mesh3d": [
           {
            "colorbar": {
             "outlinewidth": 0,
             "ticks": ""
            },
            "type": "mesh3d"
           }
          ],
          "parcoords": [
           {
            "line": {
             "colorbar": {
              "outlinewidth": 0,
              "ticks": ""
             }
            },
            "type": "parcoords"
           }
          ],
          "pie": [
           {
            "automargin": true,
            "type": "pie"
           }
          ],
          "scatter": [
           {
            "fillpattern": {
             "fillmode": "overlay",
             "size": 10,
             "solidity": 0.2
            },
            "type": "scatter"
           }
          ],
          "scatter3d": [
           {
            "line": {
             "colorbar": {
              "outlinewidth": 0,
              "ticks": ""
             }
            },
            "marker": {
             "colorbar": {
              "outlinewidth": 0,
              "ticks": ""
             }
            },
            "type": "scatter3d"
           }
          ],
          "scattercarpet": [
           {
            "marker": {
             "colorbar": {
              "outlinewidth": 0,
              "ticks": ""
             }
            },
            "type": "scattercarpet"
           }
          ],
          "scattergeo": [
           {
            "marker": {
             "colorbar": {
              "outlinewidth": 0,
              "ticks": ""
             }
            },
            "type": "scattergeo"
           }
          ],
          "scattergl": [
           {
            "marker": {
             "colorbar": {
              "outlinewidth": 0,
              "ticks": ""
             }
            },
            "type": "scattergl"
           }
          ],
          "scattermapbox": [
           {
            "marker": {
             "colorbar": {
              "outlinewidth": 0,
              "ticks": ""
             }
            },
            "type": "scattermapbox"
           }
          ],
          "scatterpolar": [
           {
            "marker": {
             "colorbar": {
              "outlinewidth": 0,
              "ticks": ""
             }
            },
            "type": "scatterpolar"
           }
          ],
          "scatterpolargl": [
           {
            "marker": {
             "colorbar": {
              "outlinewidth": 0,
              "ticks": ""
             }
            },
            "type": "scatterpolargl"
           }
          ],
          "scatterternary": [
           {
            "marker": {
             "colorbar": {
              "outlinewidth": 0,
              "ticks": ""
             }
            },
            "type": "scatterternary"
           }
          ],
          "surface": [
           {
            "colorbar": {
             "outlinewidth": 0,
             "ticks": ""
            },
            "colorscale": [
             [
              0,
              "#0d0887"
             ],
             [
              0.1111111111111111,
              "#46039f"
             ],
             [
              0.2222222222222222,
              "#7201a8"
             ],
             [
              0.3333333333333333,
              "#9c179e"
             ],
             [
              0.4444444444444444,
              "#bd3786"
             ],
             [
              0.5555555555555556,
              "#d8576b"
             ],
             [
              0.6666666666666666,
              "#ed7953"
             ],
             [
              0.7777777777777778,
              "#fb9f3a"
             ],
             [
              0.8888888888888888,
              "#fdca26"
             ],
             [
              1,
              "#f0f921"
             ]
            ],
            "type": "surface"
           }
          ],
          "table": [
           {
            "cells": {
             "fill": {
              "color": "#EBF0F8"
             },
             "line": {
              "color": "white"
             }
            },
            "header": {
             "fill": {
              "color": "#C8D4E3"
             },
             "line": {
              "color": "white"
             }
            },
            "type": "table"
           }
          ]
         },
         "layout": {
          "annotationdefaults": {
           "arrowcolor": "#2a3f5f",
           "arrowhead": 0,
           "arrowwidth": 1
          },
          "autotypenumbers": "strict",
          "coloraxis": {
           "colorbar": {
            "outlinewidth": 0,
            "ticks": ""
           }
          },
          "colorscale": {
           "diverging": [
            [
             0,
             "#8e0152"
            ],
            [
             0.1,
             "#c51b7d"
            ],
            [
             0.2,
             "#de77ae"
            ],
            [
             0.3,
             "#f1b6da"
            ],
            [
             0.4,
             "#fde0ef"
            ],
            [
             0.5,
             "#f7f7f7"
            ],
            [
             0.6,
             "#e6f5d0"
            ],
            [
             0.7,
             "#b8e186"
            ],
            [
             0.8,
             "#7fbc41"
            ],
            [
             0.9,
             "#4d9221"
            ],
            [
             1,
             "#276419"
            ]
           ],
           "sequential": [
            [
             0,
             "#0d0887"
            ],
            [
             0.1111111111111111,
             "#46039f"
            ],
            [
             0.2222222222222222,
             "#7201a8"
            ],
            [
             0.3333333333333333,
             "#9c179e"
            ],
            [
             0.4444444444444444,
             "#bd3786"
            ],
            [
             0.5555555555555556,
             "#d8576b"
            ],
            [
             0.6666666666666666,
             "#ed7953"
            ],
            [
             0.7777777777777778,
             "#fb9f3a"
            ],
            [
             0.8888888888888888,
             "#fdca26"
            ],
            [
             1,
             "#f0f921"
            ]
           ],
           "sequentialminus": [
            [
             0,
             "#0d0887"
            ],
            [
             0.1111111111111111,
             "#46039f"
            ],
            [
             0.2222222222222222,
             "#7201a8"
            ],
            [
             0.3333333333333333,
             "#9c179e"
            ],
            [
             0.4444444444444444,
             "#bd3786"
            ],
            [
             0.5555555555555556,
             "#d8576b"
            ],
            [
             0.6666666666666666,
             "#ed7953"
            ],
            [
             0.7777777777777778,
             "#fb9f3a"
            ],
            [
             0.8888888888888888,
             "#fdca26"
            ],
            [
             1,
             "#f0f921"
            ]
           ]
          },
          "colorway": [
           "#636efa",
           "#EF553B",
           "#00cc96",
           "#ab63fa",
           "#FFA15A",
           "#19d3f3",
           "#FF6692",
           "#B6E880",
           "#FF97FF",
           "#FECB52"
          ],
          "font": {
           "color": "#2a3f5f"
          },
          "geo": {
           "bgcolor": "white",
           "lakecolor": "white",
           "landcolor": "#E5ECF6",
           "showlakes": true,
           "showland": true,
           "subunitcolor": "white"
          },
          "hoverlabel": {
           "align": "left"
          },
          "hovermode": "closest",
          "mapbox": {
           "style": "light"
          },
          "paper_bgcolor": "white",
          "plot_bgcolor": "#E5ECF6",
          "polar": {
           "angularaxis": {
            "gridcolor": "white",
            "linecolor": "white",
            "ticks": ""
           },
           "bgcolor": "#E5ECF6",
           "radialaxis": {
            "gridcolor": "white",
            "linecolor": "white",
            "ticks": ""
           }
          },
          "scene": {
           "xaxis": {
            "backgroundcolor": "#E5ECF6",
            "gridcolor": "white",
            "gridwidth": 2,
            "linecolor": "white",
            "showbackground": true,
            "ticks": "",
            "zerolinecolor": "white"
           },
           "yaxis": {
            "backgroundcolor": "#E5ECF6",
            "gridcolor": "white",
            "gridwidth": 2,
            "linecolor": "white",
            "showbackground": true,
            "ticks": "",
            "zerolinecolor": "white"
           },
           "zaxis": {
            "backgroundcolor": "#E5ECF6",
            "gridcolor": "white",
            "gridwidth": 2,
            "linecolor": "white",
            "showbackground": true,
            "ticks": "",
            "zerolinecolor": "white"
           }
          },
          "shapedefaults": {
           "line": {
            "color": "#2a3f5f"
           }
          },
          "ternary": {
           "aaxis": {
            "gridcolor": "white",
            "linecolor": "white",
            "ticks": ""
           },
           "baxis": {
            "gridcolor": "white",
            "linecolor": "white",
            "ticks": ""
           },
           "bgcolor": "#E5ECF6",
           "caxis": {
            "gridcolor": "white",
            "linecolor": "white",
            "ticks": ""
           }
          },
          "title": {
           "x": 0.05
          },
          "xaxis": {
           "automargin": true,
           "gridcolor": "white",
           "linecolor": "white",
           "ticks": "",
           "title": {
            "standoff": 15
           },
           "zerolinecolor": "white",
           "zerolinewidth": 2
          },
          "yaxis": {
           "automargin": true,
           "gridcolor": "white",
           "linecolor": "white",
           "ticks": "",
           "title": {
            "standoff": 15
           },
           "zerolinecolor": "white",
           "zerolinewidth": 2
          }
         }
        },
        "xaxis": {
         "anchor": "y",
         "domain": [
          0,
          1
         ],
         "title": {
          "text": "index"
         }
        },
        "yaxis": {
         "anchor": "x",
         "domain": [
          0,
          1
         ],
         "title": {
          "text": "r_squared"
         }
        }
       }
      },
      "text/html": [
       "<div>                            <div id=\"380ff493-545c-4578-a7ef-90f9b7474455\" class=\"plotly-graph-div\" style=\"height:525px; width:100%;\"></div>            <script type=\"text/javascript\">                require([\"plotly\"], function(Plotly) {                    window.PLOTLYENV=window.PLOTLYENV || {};                                    if (document.getElementById(\"380ff493-545c-4578-a7ef-90f9b7474455\")) {                    Plotly.newPlot(                        \"380ff493-545c-4578-a7ef-90f9b7474455\",                        [{\"alignmentgroup\":\"True\",\"hovertemplate\":\"index=%{x}\\u003cbr\\u003er_squared=%{y}\\u003cextra\\u003e\\u003c\\u002fextra\\u003e\",\"legendgroup\":\"\",\"marker\":{\"color\":\"#636efa\",\"pattern\":{\"shape\":\"\"}},\"name\":\"\",\"offsetgroup\":\"\",\"orientation\":\"v\",\"showlegend\":false,\"textposition\":\"auto\",\"x\":[\"CatBoostRegressor\",\"XGBRegressor\",\"SVR\",\"GradientBoostingRegressor\",\"RandomForestRegressor\",\"DecisionTreeRegressor\",\"AdaBoostRegressor\"],\"xaxis\":\"x\",\"y\":[0.9357633213613864,0.9289023371125326,0.5180308158119323,0.9357465111441758,0.9620017978110591,0.9248124481379234,0.907727731061176],\"yaxis\":\"y\",\"type\":\"bar\"}],                        {\"template\":{\"data\":{\"histogram2dcontour\":[{\"type\":\"histogram2dcontour\",\"colorbar\":{\"outlinewidth\":0,\"ticks\":\"\"},\"colorscale\":[[0.0,\"#0d0887\"],[0.1111111111111111,\"#46039f\"],[0.2222222222222222,\"#7201a8\"],[0.3333333333333333,\"#9c179e\"],[0.4444444444444444,\"#bd3786\"],[0.5555555555555556,\"#d8576b\"],[0.6666666666666666,\"#ed7953\"],[0.7777777777777778,\"#fb9f3a\"],[0.8888888888888888,\"#fdca26\"],[1.0,\"#f0f921\"]]}],\"choropleth\":[{\"type\":\"choropleth\",\"colorbar\":{\"outlinewidth\":0,\"ticks\":\"\"}}],\"histogram2d\":[{\"type\":\"histogram2d\",\"colorbar\":{\"outlinewidth\":0,\"ticks\":\"\"},\"colorscale\":[[0.0,\"#0d0887\"],[0.1111111111111111,\"#46039f\"],[0.2222222222222222,\"#7201a8\"],[0.3333333333333333,\"#9c179e\"],[0.4444444444444444,\"#bd3786\"],[0.5555555555555556,\"#d8576b\"],[0.6666666666666666,\"#ed7953\"],[0.7777777777777778,\"#fb9f3a\"],[0.8888888888888888,\"#fdca26\"],[1.0,\"#f0f921\"]]}],\"heatmap\":[{\"type\":\"heatmap\",\"colorbar\":{\"outlinewidth\":0,\"ticks\":\"\"},\"colorscale\":[[0.0,\"#0d0887\"],[0.1111111111111111,\"#46039f\"],[0.2222222222222222,\"#7201a8\"],[0.3333333333333333,\"#9c179e\"],[0.4444444444444444,\"#bd3786\"],[0.5555555555555556,\"#d8576b\"],[0.6666666666666666,\"#ed7953\"],[0.7777777777777778,\"#fb9f3a\"],[0.8888888888888888,\"#fdca26\"],[1.0,\"#f0f921\"]]}],\"heatmapgl\":[{\"type\":\"heatmapgl\",\"colorbar\":{\"outlinewidth\":0,\"ticks\":\"\"},\"colorscale\":[[0.0,\"#0d0887\"],[0.1111111111111111,\"#46039f\"],[0.2222222222222222,\"#7201a8\"],[0.3333333333333333,\"#9c179e\"],[0.4444444444444444,\"#bd3786\"],[0.5555555555555556,\"#d8576b\"],[0.6666666666666666,\"#ed7953\"],[0.7777777777777778,\"#fb9f3a\"],[0.8888888888888888,\"#fdca26\"],[1.0,\"#f0f921\"]]}],\"contourcarpet\":[{\"type\":\"contourcarpet\",\"colorbar\":{\"outlinewidth\":0,\"ticks\":\"\"}}],\"contour\":[{\"type\":\"contour\",\"colorbar\":{\"outlinewidth\":0,\"ticks\":\"\"},\"colorscale\":[[0.0,\"#0d0887\"],[0.1111111111111111,\"#46039f\"],[0.2222222222222222,\"#7201a8\"],[0.3333333333333333,\"#9c179e\"],[0.4444444444444444,\"#bd3786\"],[0.5555555555555556,\"#d8576b\"],[0.6666666666666666,\"#ed7953\"],[0.7777777777777778,\"#fb9f3a\"],[0.8888888888888888,\"#fdca26\"],[1.0,\"#f0f921\"]]}],\"surface\":[{\"type\":\"surface\",\"colorbar\":{\"outlinewidth\":0,\"ticks\":\"\"},\"colorscale\":[[0.0,\"#0d0887\"],[0.1111111111111111,\"#46039f\"],[0.2222222222222222,\"#7201a8\"],[0.3333333333333333,\"#9c179e\"],[0.4444444444444444,\"#bd3786\"],[0.5555555555555556,\"#d8576b\"],[0.6666666666666666,\"#ed7953\"],[0.7777777777777778,\"#fb9f3a\"],[0.8888888888888888,\"#fdca26\"],[1.0,\"#f0f921\"]]}],\"mesh3d\":[{\"type\":\"mesh3d\",\"colorbar\":{\"outlinewidth\":0,\"ticks\":\"\"}}],\"scatter\":[{\"fillpattern\":{\"fillmode\":\"overlay\",\"size\":10,\"solidity\":0.2},\"type\":\"scatter\"}],\"parcoords\":[{\"type\":\"parcoords\",\"line\":{\"colorbar\":{\"outlinewidth\":0,\"ticks\":\"\"}}}],\"scatterpolargl\":[{\"type\":\"scatterpolargl\",\"marker\":{\"colorbar\":{\"outlinewidth\":0,\"ticks\":\"\"}}}],\"bar\":[{\"error_x\":{\"color\":\"#2a3f5f\"},\"error_y\":{\"color\":\"#2a3f5f\"},\"marker\":{\"line\":{\"color\":\"#E5ECF6\",\"width\":0.5},\"pattern\":{\"fillmode\":\"overlay\",\"size\":10,\"solidity\":0.2}},\"type\":\"bar\"}],\"scattergeo\":[{\"type\":\"scattergeo\",\"marker\":{\"colorbar\":{\"outlinewidth\":0,\"ticks\":\"\"}}}],\"scatterpolar\":[{\"type\":\"scatterpolar\",\"marker\":{\"colorbar\":{\"outlinewidth\":0,\"ticks\":\"\"}}}],\"histogram\":[{\"marker\":{\"pattern\":{\"fillmode\":\"overlay\",\"size\":10,\"solidity\":0.2}},\"type\":\"histogram\"}],\"scattergl\":[{\"type\":\"scattergl\",\"marker\":{\"colorbar\":{\"outlinewidth\":0,\"ticks\":\"\"}}}],\"scatter3d\":[{\"type\":\"scatter3d\",\"line\":{\"colorbar\":{\"outlinewidth\":0,\"ticks\":\"\"}},\"marker\":{\"colorbar\":{\"outlinewidth\":0,\"ticks\":\"\"}}}],\"scattermapbox\":[{\"type\":\"scattermapbox\",\"marker\":{\"colorbar\":{\"outlinewidth\":0,\"ticks\":\"\"}}}],\"scatterternary\":[{\"type\":\"scatterternary\",\"marker\":{\"colorbar\":{\"outlinewidth\":0,\"ticks\":\"\"}}}],\"scattercarpet\":[{\"type\":\"scattercarpet\",\"marker\":{\"colorbar\":{\"outlinewidth\":0,\"ticks\":\"\"}}}],\"carpet\":[{\"aaxis\":{\"endlinecolor\":\"#2a3f5f\",\"gridcolor\":\"white\",\"linecolor\":\"white\",\"minorgridcolor\":\"white\",\"startlinecolor\":\"#2a3f5f\"},\"baxis\":{\"endlinecolor\":\"#2a3f5f\",\"gridcolor\":\"white\",\"linecolor\":\"white\",\"minorgridcolor\":\"white\",\"startlinecolor\":\"#2a3f5f\"},\"type\":\"carpet\"}],\"table\":[{\"cells\":{\"fill\":{\"color\":\"#EBF0F8\"},\"line\":{\"color\":\"white\"}},\"header\":{\"fill\":{\"color\":\"#C8D4E3\"},\"line\":{\"color\":\"white\"}},\"type\":\"table\"}],\"barpolar\":[{\"marker\":{\"line\":{\"color\":\"#E5ECF6\",\"width\":0.5},\"pattern\":{\"fillmode\":\"overlay\",\"size\":10,\"solidity\":0.2}},\"type\":\"barpolar\"}],\"pie\":[{\"automargin\":true,\"type\":\"pie\"}]},\"layout\":{\"autotypenumbers\":\"strict\",\"colorway\":[\"#636efa\",\"#EF553B\",\"#00cc96\",\"#ab63fa\",\"#FFA15A\",\"#19d3f3\",\"#FF6692\",\"#B6E880\",\"#FF97FF\",\"#FECB52\"],\"font\":{\"color\":\"#2a3f5f\"},\"hovermode\":\"closest\",\"hoverlabel\":{\"align\":\"left\"},\"paper_bgcolor\":\"white\",\"plot_bgcolor\":\"#E5ECF6\",\"polar\":{\"bgcolor\":\"#E5ECF6\",\"angularaxis\":{\"gridcolor\":\"white\",\"linecolor\":\"white\",\"ticks\":\"\"},\"radialaxis\":{\"gridcolor\":\"white\",\"linecolor\":\"white\",\"ticks\":\"\"}},\"ternary\":{\"bgcolor\":\"#E5ECF6\",\"aaxis\":{\"gridcolor\":\"white\",\"linecolor\":\"white\",\"ticks\":\"\"},\"baxis\":{\"gridcolor\":\"white\",\"linecolor\":\"white\",\"ticks\":\"\"},\"caxis\":{\"gridcolor\":\"white\",\"linecolor\":\"white\",\"ticks\":\"\"}},\"coloraxis\":{\"colorbar\":{\"outlinewidth\":0,\"ticks\":\"\"}},\"colorscale\":{\"sequential\":[[0.0,\"#0d0887\"],[0.1111111111111111,\"#46039f\"],[0.2222222222222222,\"#7201a8\"],[0.3333333333333333,\"#9c179e\"],[0.4444444444444444,\"#bd3786\"],[0.5555555555555556,\"#d8576b\"],[0.6666666666666666,\"#ed7953\"],[0.7777777777777778,\"#fb9f3a\"],[0.8888888888888888,\"#fdca26\"],[1.0,\"#f0f921\"]],\"sequentialminus\":[[0.0,\"#0d0887\"],[0.1111111111111111,\"#46039f\"],[0.2222222222222222,\"#7201a8\"],[0.3333333333333333,\"#9c179e\"],[0.4444444444444444,\"#bd3786\"],[0.5555555555555556,\"#d8576b\"],[0.6666666666666666,\"#ed7953\"],[0.7777777777777778,\"#fb9f3a\"],[0.8888888888888888,\"#fdca26\"],[1.0,\"#f0f921\"]],\"diverging\":[[0,\"#8e0152\"],[0.1,\"#c51b7d\"],[0.2,\"#de77ae\"],[0.3,\"#f1b6da\"],[0.4,\"#fde0ef\"],[0.5,\"#f7f7f7\"],[0.6,\"#e6f5d0\"],[0.7,\"#b8e186\"],[0.8,\"#7fbc41\"],[0.9,\"#4d9221\"],[1,\"#276419\"]]},\"xaxis\":{\"gridcolor\":\"white\",\"linecolor\":\"white\",\"ticks\":\"\",\"title\":{\"standoff\":15},\"zerolinecolor\":\"white\",\"automargin\":true,\"zerolinewidth\":2},\"yaxis\":{\"gridcolor\":\"white\",\"linecolor\":\"white\",\"ticks\":\"\",\"title\":{\"standoff\":15},\"zerolinecolor\":\"white\",\"automargin\":true,\"zerolinewidth\":2},\"scene\":{\"xaxis\":{\"backgroundcolor\":\"#E5ECF6\",\"gridcolor\":\"white\",\"linecolor\":\"white\",\"showbackground\":true,\"ticks\":\"\",\"zerolinecolor\":\"white\",\"gridwidth\":2},\"yaxis\":{\"backgroundcolor\":\"#E5ECF6\",\"gridcolor\":\"white\",\"linecolor\":\"white\",\"showbackground\":true,\"ticks\":\"\",\"zerolinecolor\":\"white\",\"gridwidth\":2},\"zaxis\":{\"backgroundcolor\":\"#E5ECF6\",\"gridcolor\":\"white\",\"linecolor\":\"white\",\"showbackground\":true,\"ticks\":\"\",\"zerolinecolor\":\"white\",\"gridwidth\":2}},\"shapedefaults\":{\"line\":{\"color\":\"#2a3f5f\"}},\"annotationdefaults\":{\"arrowcolor\":\"#2a3f5f\",\"arrowhead\":0,\"arrowwidth\":1},\"geo\":{\"bgcolor\":\"white\",\"landcolor\":\"#E5ECF6\",\"subunitcolor\":\"white\",\"showland\":true,\"showlakes\":true,\"lakecolor\":\"white\"},\"title\":{\"x\":0.05},\"mapbox\":{\"style\":\"light\"}}},\"xaxis\":{\"anchor\":\"y\",\"domain\":[0.0,1.0],\"title\":{\"text\":\"index\"}},\"yaxis\":{\"anchor\":\"x\",\"domain\":[0.0,1.0],\"title\":{\"text\":\"r_squared\"}},\"legend\":{\"tracegroupgap\":0},\"margin\":{\"t\":60},\"barmode\":\"relative\"},                        {\"responsive\": true}                    ).then(function(){\n",
       "                            \n",
       "var gd = document.getElementById('380ff493-545c-4578-a7ef-90f9b7474455');\n",
       "var x = new MutationObserver(function (mutations, observer) {{\n",
       "        var display = window.getComputedStyle(gd).display;\n",
       "        if (!display || display === 'none') {{\n",
       "            console.log([gd, 'removed!']);\n",
       "            Plotly.purge(gd);\n",
       "            observer.disconnect();\n",
       "        }}\n",
       "}});\n",
       "\n",
       "// Listen for the removal of the full notebook cells\n",
       "var notebookContainer = gd.closest('#notebook-container');\n",
       "if (notebookContainer) {{\n",
       "    x.observe(notebookContainer, {childList: true});\n",
       "}}\n",
       "\n",
       "// Listen for the clearing of the current output cell\n",
       "var outputEl = gd.closest('.output');\n",
       "if (outputEl) {{\n",
       "    x.observe(outputEl, {childList: true});\n",
       "}}\n",
       "\n",
       "                        })                };                });            </script>        </div>"
      ]
     },
     "metadata": {},
     "output_type": "display_data"
    }
   ],
   "source": [
    "px.bar(df, x=df.index, y='r_squared')"
   ]
  },
  {
   "cell_type": "code",
   "execution_count": null,
   "metadata": {},
   "outputs": [],
   "source": []
  }
 ],
 "metadata": {
  "kernelspec": {
   "display_name": "Python 3",
   "language": "python",
   "name": "python3"
  },
  "language_info": {
   "codemirror_mode": {
    "name": "ipython",
    "version": 3
   },
   "file_extension": ".py",
   "mimetype": "text/x-python",
   "name": "python",
   "nbconvert_exporter": "python",
   "pygments_lexer": "ipython3",
   "version": "3.9.18"
  }
 },
 "nbformat": 4,
 "nbformat_minor": 2
}
