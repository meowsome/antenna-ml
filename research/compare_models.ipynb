{
 "cells": [
  {
   "cell_type": "code",
   "execution_count": null,
   "metadata": {},
   "outputs": [],
   "source": [
    "# https://towardsdatascience.com/quickly-test-multiple-models-a98477476f0"
   ]
  },
  {
   "cell_type": "code",
   "execution_count": null,
   "metadata": {},
   "outputs": [],
   "source": [
    "import pandas as pd\n",
    "from sklearn.model_selection import train_test_split\n",
    "from sklearn.tree import DecisionTreeRegressor\n",
    "from sklearn.ensemble import RandomForestRegressor, GradientBoostingRegressor\n",
    "from sklearn.preprocessing import MinMaxScaler\n",
    "from sklearn.svm import SVR\n",
    "from catboost import CatBoostRegressor\n",
    "from sklearn.kernel_ridge import KernelRidge\n",
    "from xgboost import XGBRegressor\n",
    "from sklearn.pipeline import Pipeline\n",
    "from sklearn.metrics import mean_squared_error, r2_score, make_scorer\n",
    "import plotly.express as px\n",
    "from sklearn.model_selection import RandomizedSearchCV\n",
    "import numpy as np"
   ]
  },
  {
   "cell_type": "code",
   "execution_count": null,
   "metadata": {},
   "outputs": [],
   "source": [
    "threshold = 1\n",
    "random_state = 42"
   ]
  },
  {
   "cell_type": "code",
   "execution_count": null,
   "metadata": {},
   "outputs": [],
   "source": [
    "# Import data and preprocess\n",
    "df = pd.read_csv(\"../test_data/Grounded CPW Leaky Wave antenna/S11 Data.csv\")\n",
    "df = df.drop(df[df['dB(S(1,1)) []'] > 0].index) # Remove all rows with positive s11\n",
    "\n",
    "# Split into x and y\n",
    "input_x = df.drop(columns=['dB(S(1,1)) []'], axis=1)\n",
    "input_y = df[['dB(S(1,1)) []']]\n",
    "\n",
    "# Split data into training and testing\n",
    "X_train, X_test, y_train, y_test = train_test_split(input_x, input_y, random_state=random_state)"
   ]
  },
  {
   "cell_type": "code",
   "execution_count": null,
   "metadata": {},
   "outputs": [],
   "source": [
    "def generate_pipeline(scaler, model):\n",
    "    return (model.__class__.__name__, Pipeline(steps=[('normalize', scaler), ('model', model)]))"
   ]
  },
  {
   "cell_type": "code",
   "execution_count": null,
   "metadata": {},
   "outputs": [],
   "source": [
    "# Check if predicted value is threshold amount above or below actual value\n",
    "def is_in_threshold(actual, pred):\n",
    "    return pred <= actual + threshold and pred >= actual - threshold\n",
    "\n",
    "def create_tf_column(results):\n",
    "    return results.apply(lambda x: is_in_threshold(x['y_test'], x['predictions']), axis=1)\n",
    "\n",
    "def get_score(y_test, y_pred, **kwargs):\n",
    "    dataframe = pd.DataFrame(y_test, columns=['y_test'])\n",
    "    dataframe['predictions'] = y_pred\n",
    "    return create_tf_column(dataframe).value_counts().get(True) / dataframe.shape[0]\n",
    "\n",
    "# def get_score_singular(y_test, y_pred):\n",
    "#     return get_score(y_test, y_pred)\n",
    "\n",
    "def get_rsme(y_test, y_pred):\n",
    "    return mean_squared_error(y_test, y_pred, squared=False)\n",
    "\n",
    "def get_r_squared(y_test, y_pred):\n",
    "    return r2_score(y_test, y_pred)"
   ]
  },
  {
   "cell_type": "code",
   "execution_count": null,
   "metadata": {},
   "outputs": [],
   "source": [
    "custom_scorer = make_scorer(get_score, greater_is_better=True)\n",
    "scaler = MinMaxScaler(feature_range=(0,1)) # Initialize scaler"
   ]
  },
  {
   "cell_type": "code",
   "execution_count": null,
   "metadata": {},
   "outputs": [],
   "source": [
    "rfr_model = RandomForestRegressor(random_state=random_state)\n",
    "rfr_pipeline = Pipeline(steps=[('normalize', scaler), ('model', rfr_model)])\n",
    "\n",
    "random_grid = {'model__n_estimators': [int(x) for x in np.linspace(start=100, stop=1000, num=5)],\n",
    "               'model__max_depth': [int(x) for x in np.linspace(10, 110, num=5)],\n",
    "               'model__min_samples_split': [2, 5, 10],\n",
    "               'model__min_samples_leaf': [1, 2, 4]}\n",
    "\n",
    "random_forest_search = RandomizedSearchCV(rfr_pipeline, random_grid, n_iter=20, scoring=custom_scorer, cv=10, verbose=10, n_jobs=-1)\n",
    "random_forest_search.fit(input_x, input_y.values.ravel())\n",
    "print(random_forest_search.best_params_)"
   ]
  },
  {
   "cell_type": "code",
   "execution_count": 285,
   "metadata": {},
   "outputs": [
    {
     "name": "stdout",
     "output_type": "stream",
     "text": [
      "Fitting 10 folds for each of 20 candidates, totalling 200 fits\n",
      "[CV 2/10; 1/20] START model__learning_rate=0.001, model__max_depth=3, model__n_estimators=3000\n",
      "[CV 1/10; 1/20] START model__learning_rate=0.001, model__max_depth=3, model__n_estimators=3000\n",
      "[CV 3/10; 1/20] START model__learning_rate=0.001, model__max_depth=3, model__n_estimators=3000\n",
      "[CV 5/10; 1/20] START model__learning_rate=0.001, model__max_depth=3, model__n_estimators=3000\n",
      "[CV 4/10; 1/20] START model__learning_rate=0.001, model__max_depth=3, model__n_estimators=3000\n",
      "[CV 7/10; 1/20] START model__learning_rate=0.001, model__max_depth=3, model__n_estimators=3000\n",
      "[CV 6/10; 1/20] START model__learning_rate=0.001, model__max_depth=3, model__n_estimators=3000\n",
      "[CV 8/10; 1/20] START model__learning_rate=0.001, model__max_depth=3, model__n_estimators=3000\n",
      "[CV 9/10; 1/20] START model__learning_rate=0.001, model__max_depth=3, model__n_estimators=3000\n",
      "[CV 1/10; 2/20] START model__learning_rate=0.001, model__max_depth=2, model__n_estimators=5000\n",
      "[CV 10/10; 1/20] START model__learning_rate=0.001, model__max_depth=3, model__n_estimators=3000\n",
      "[CV 2/10; 2/20] START model__learning_rate=0.001, model__max_depth=2, model__n_estimators=5000\n",
      "[CV 1/10; 1/20] END model__learning_rate=0.001, model__max_depth=3, model__n_estimators=3000;, score=0.219 total time=   5.0s\n",
      "[CV 3/10; 2/20] START model__learning_rate=0.001, model__max_depth=2, model__n_estimators=5000\n",
      "[CV 2/10; 1/20] END model__learning_rate=0.001, model__max_depth=3, model__n_estimators=3000;, score=0.273 total time=   5.1s\n",
      "[CV 7/10; 1/20] END model__learning_rate=0.001, model__max_depth=3, model__n_estimators=3000;, score=0.257 total time=   5.1s\n",
      "[CV 3/10; 1/20] END model__learning_rate=0.001, model__max_depth=3, model__n_estimators=3000;, score=0.342 total time=   5.2s\n",
      "[CV 4/10; 2/20] START model__learning_rate=0.001, model__max_depth=2, model__n_estimators=5000\n",
      "[CV 5/10; 2/20] START model__learning_rate=0.001, model__max_depth=2, model__n_estimators=5000\n",
      "[CV 5/10; 1/20] END model__learning_rate=0.001, model__max_depth=3, model__n_estimators=3000;, score=0.264 total time=   5.3s\n",
      "[CV 6/10; 2/20] START model__learning_rate=0.001, model__max_depth=2, model__n_estimators=5000\n",
      "[CV 8/10; 1/20] END model__learning_rate=0.001, model__max_depth=3, model__n_estimators=3000;, score=0.329 total time=   5.2s\n",
      "[CV 7/10; 2/20] START model__learning_rate=0.001, model__max_depth=2, model__n_estimators=5000\n",
      "[CV 9/10; 1/20] END model__learning_rate=0.001, model__max_depth=3, model__n_estimators=3000;, score=0.317 total time=   5.2s\n",
      "[CV 4/10; 1/20] END model__learning_rate=0.001, model__max_depth=3, model__n_estimators=3000;, score=0.269 total time=   5.3s\n",
      "[CV 8/10; 2/20] START model__learning_rate=0.001, model__max_depth=2, model__n_estimators=5000\n",
      "[CV 9/10; 2/20] START model__learning_rate=0.001, model__max_depth=2, model__n_estimators=5000\n",
      "[CV 10/10; 2/20] START model__learning_rate=0.001, model__max_depth=2, model__n_estimators=5000\n",
      "[CV 6/10; 1/20] END model__learning_rate=0.001, model__max_depth=3, model__n_estimators=3000;, score=0.345 total time=   5.4s\n",
      "[CV 1/10; 3/20] START model__learning_rate=0.001, model__max_depth=2, model__n_estimators=3000\n",
      "[CV 10/10; 1/20] END model__learning_rate=0.001, model__max_depth=3, model__n_estimators=3000;, score=0.350 total time=   5.4s\n",
      "[CV 2/10; 3/20] START model__learning_rate=0.001, model__max_depth=2, model__n_estimators=3000\n",
      "[CV 2/10; 2/20] END model__learning_rate=0.001, model__max_depth=2, model__n_estimators=5000;, score=0.268 total time=   6.5s\n",
      "[CV 1/10; 2/20] END model__learning_rate=0.001, model__max_depth=2, model__n_estimators=5000;, score=0.216 total time=   6.6s\n",
      "[CV 3/10; 3/20] START model__learning_rate=0.001, model__max_depth=2, model__n_estimators=3000\n",
      "[CV 4/10; 3/20] START model__learning_rate=0.001, model__max_depth=2, model__n_estimators=3000\n",
      "[CV 1/10; 3/20] END model__learning_rate=0.001, model__max_depth=2, model__n_estimators=3000;, score=0.169 total time=   4.0s\n",
      "[CV 5/10; 3/20] START model__learning_rate=0.001, model__max_depth=2, model__n_estimators=3000\n",
      "[CV 2/10; 3/20] END model__learning_rate=0.001, model__max_depth=2, model__n_estimators=3000;, score=0.214 total time=   4.0s\n",
      "[CV 6/10; 3/20] START model__learning_rate=0.001, model__max_depth=2, model__n_estimators=3000\n",
      "[CV 3/10; 3/20] END model__learning_rate=0.001, model__max_depth=2, model__n_estimators=3000;, score=0.252 total time=   4.5s\n",
      "[CV 7/10; 3/20] START model__learning_rate=0.001, model__max_depth=2, model__n_estimators=3000\n",
      "[CV 4/10; 3/20] END model__learning_rate=0.001, model__max_depth=2, model__n_estimators=3000;, score=0.195 total time=   4.5s\n",
      "[CV 8/10; 3/20] START model__learning_rate=0.001, model__max_depth=2, model__n_estimators=3000\n",
      "[CV 3/10; 2/20] END model__learning_rate=0.001, model__max_depth=2, model__n_estimators=5000;, score=0.318 total time=   6.6s\n",
      "[CV 9/10; 3/20] START model__learning_rate=0.001, model__max_depth=2, model__n_estimators=3000\n",
      "[CV 5/10; 2/20] END model__learning_rate=0.001, model__max_depth=2, model__n_estimators=5000;, score=0.250 total time=   6.5s\n",
      "[CV 10/10; 3/20] START model__learning_rate=0.001, model__max_depth=2, model__n_estimators=3000\n",
      "[CV 4/10; 2/20] END model__learning_rate=0.001, model__max_depth=2, model__n_estimators=5000;, score=0.262 total time=   6.6s\n",
      "[CV 1/10; 4/20] START model__learning_rate=0.001, model__max_depth=2, model__n_estimators=10000\n",
      "[CV 8/10; 2/20] END model__learning_rate=0.001, model__max_depth=2, model__n_estimators=5000;, score=0.295 total time=   6.5s\n",
      "[CV 2/10; 4/20] START model__learning_rate=0.001, model__max_depth=2, model__n_estimators=10000\n",
      "[CV 10/10; 2/20] END model__learning_rate=0.001, model__max_depth=2, model__n_estimators=5000;, score=0.298 total time=   6.9s\n",
      "[CV 3/10; 4/20] START model__learning_rate=0.001, model__max_depth=2, model__n_estimators=10000\n",
      "[CV 6/10; 2/20] END model__learning_rate=0.001, model__max_depth=2, model__n_estimators=5000;, score=0.324 total time=   7.2s\n",
      "[CV 7/10; 2/20] END model__learning_rate=0.001, model__max_depth=2, model__n_estimators=5000;, score=0.245 total time=   7.2s\n",
      "[CV 4/10; 4/20] START model__learning_rate=0.001, model__max_depth=2, model__n_estimators=10000\n",
      "[CV 5/10; 4/20] START model__learning_rate=0.001, model__max_depth=2, model__n_estimators=10000\n",
      "[CV 9/10; 2/20] END model__learning_rate=0.001, model__max_depth=2, model__n_estimators=5000;, score=0.283 total time=   7.2s\n",
      "[CV 6/10; 4/20] START model__learning_rate=0.001, model__max_depth=2, model__n_estimators=10000\n",
      "[CV 5/10; 3/20] END model__learning_rate=0.001, model__max_depth=2, model__n_estimators=3000;, score=0.221 total time=   4.4s\n",
      "[CV 7/10; 4/20] START model__learning_rate=0.001, model__max_depth=2, model__n_estimators=10000\n",
      "[CV 6/10; 3/20] END model__learning_rate=0.001, model__max_depth=2, model__n_estimators=3000;, score=0.274 total time=   4.3s\n",
      "[CV 8/10; 4/20] START model__learning_rate=0.001, model__max_depth=2, model__n_estimators=10000\n",
      "[CV 8/10; 3/20] END model__learning_rate=0.001, model__max_depth=2, model__n_estimators=3000;, score=0.248 total time=   4.0s\n",
      "[CV 9/10; 4/20] START model__learning_rate=0.001, model__max_depth=2, model__n_estimators=10000\n",
      "[CV 9/10; 3/20] END model__learning_rate=0.001, model__max_depth=2, model__n_estimators=3000;, score=0.202 total time=   3.8s\n",
      "[CV 10/10; 4/20] START model__learning_rate=0.001, model__max_depth=2, model__n_estimators=10000\n",
      "[CV 7/10; 3/20] END model__learning_rate=0.001, model__max_depth=2, model__n_estimators=3000;, score=0.148 total time=   4.3s\n",
      "[CV 1/10; 5/20] START model__learning_rate=0.001, model__max_depth=2, model__n_estimators=7000\n",
      "[CV 10/10; 3/20] END model__learning_rate=0.001, model__max_depth=2, model__n_estimators=3000;, score=0.286 total time=   3.8s\n",
      "[CV 2/10; 5/20] START model__learning_rate=0.001, model__max_depth=2, model__n_estimators=7000\n",
      "[CV 1/10; 4/20] END model__learning_rate=0.001, model__max_depth=2, model__n_estimators=10000;, score=0.287 total time=  12.3s\n",
      "[CV 2/10; 5/20] END model__learning_rate=0.001, model__max_depth=2, model__n_estimators=7000;, score=0.318 total time=   8.6s\n",
      "[CV 3/10; 5/20] START model__learning_rate=0.001, model__max_depth=2, model__n_estimators=7000\n",
      "[CV 4/10; 5/20] START model__learning_rate=0.001, model__max_depth=2, model__n_estimators=7000\n",
      "[CV 2/10; 4/20] END model__learning_rate=0.001, model__max_depth=2, model__n_estimators=10000;, score=0.316 total time=  12.4s\n",
      "[CV 5/10; 5/20] START model__learning_rate=0.001, model__max_depth=2, model__n_estimators=7000\n",
      "[CV 1/10; 5/20] END model__learning_rate=0.001, model__max_depth=2, model__n_estimators=7000;, score=0.254 total time=   9.1s\n",
      "[CV 6/10; 5/20] START model__learning_rate=0.001, model__max_depth=2, model__n_estimators=7000\n",
      "[CV 3/10; 4/20] END model__learning_rate=0.001, model__max_depth=2, model__n_estimators=10000;, score=0.366 total time=  12.8s\n",
      "[CV 7/10; 5/20] START model__learning_rate=0.001, model__max_depth=2, model__n_estimators=7000\n",
      "[CV 5/10; 4/20] END model__learning_rate=0.001, model__max_depth=2, model__n_estimators=10000;, score=0.271 total time=  13.4s\n",
      "[CV 8/10; 5/20] START model__learning_rate=0.001, model__max_depth=2, model__n_estimators=7000\n",
      "[CV 4/10; 4/20] END model__learning_rate=0.001, model__max_depth=2, model__n_estimators=10000;, score=0.293 total time=  13.5s\n",
      "[CV 9/10; 5/20] START model__learning_rate=0.001, model__max_depth=2, model__n_estimators=7000\n",
      "[CV 6/10; 4/20] END model__learning_rate=0.001, model__max_depth=2, model__n_estimators=10000;, score=0.343 total time=  13.6s\n",
      "[CV 10/10; 5/20] START model__learning_rate=0.001, model__max_depth=2, model__n_estimators=7000\n",
      "[CV 7/10; 4/20] END model__learning_rate=0.001, model__max_depth=2, model__n_estimators=10000;, score=0.314 total time=  12.8s\n",
      "[CV 1/10; 6/20] START model__learning_rate=0.001, model__max_depth=5, model__n_estimators=10000\n",
      "[CV 8/10; 4/20] END model__learning_rate=0.001, model__max_depth=2, model__n_estimators=10000;, score=0.343 total time=  12.8s\n",
      "[CV 2/10; 6/20] START model__learning_rate=0.001, model__max_depth=5, model__n_estimators=10000\n",
      "[CV 10/10; 4/20] END model__learning_rate=0.001, model__max_depth=2, model__n_estimators=10000;, score=0.310 total time=  12.4s\n",
      "[CV 3/10; 6/20] START model__learning_rate=0.001, model__max_depth=5, model__n_estimators=10000\n",
      "[CV 9/10; 4/20] END model__learning_rate=0.001, model__max_depth=2, model__n_estimators=10000;, score=0.402 total time=  13.0s\n",
      "[CV 4/10; 6/20] START model__learning_rate=0.001, model__max_depth=5, model__n_estimators=10000\n",
      "[CV 3/10; 5/20] END model__learning_rate=0.001, model__max_depth=2, model__n_estimators=7000;, score=0.354 total time=   8.8s\n",
      "[CV 5/10; 6/20] START model__learning_rate=0.001, model__max_depth=5, model__n_estimators=10000\n",
      "[CV 4/10; 5/20] END model__learning_rate=0.001, model__max_depth=2, model__n_estimators=7000;, score=0.281 total time=   8.9s\n",
      "[CV 6/10; 6/20] START model__learning_rate=0.001, model__max_depth=5, model__n_estimators=10000\n",
      "[CV 5/10; 5/20] END model__learning_rate=0.001, model__max_depth=2, model__n_estimators=7000;, score=0.269 total time=   8.8s\n",
      "[CV 7/10; 6/20] START model__learning_rate=0.001, model__max_depth=5, model__n_estimators=10000\n",
      "[CV 7/10; 5/20] END model__learning_rate=0.001, model__max_depth=2, model__n_estimators=7000;, score=0.300 total time=   8.8s\n",
      "[CV 8/10; 6/20] START model__learning_rate=0.001, model__max_depth=5, model__n_estimators=10000\n",
      "[CV 6/10; 5/20] END model__learning_rate=0.001, model__max_depth=2, model__n_estimators=7000;, score=0.355 total time=  10.0s\n",
      "[CV 9/10; 6/20] START model__learning_rate=0.001, model__max_depth=5, model__n_estimators=10000\n",
      "[CV 9/10; 5/20] END model__learning_rate=0.001, model__max_depth=2, model__n_estimators=7000;, score=0.352 total time=  10.2s\n",
      "[CV 10/10; 6/20] START model__learning_rate=0.001, model__max_depth=5, model__n_estimators=10000\n",
      "[CV 8/10; 5/20] END model__learning_rate=0.001, model__max_depth=2, model__n_estimators=7000;, score=0.319 total time=  10.3s\n",
      "[CV 1/10; 7/20] START model__learning_rate=0.001, model__max_depth=10, model__n_estimators=10000\n",
      "[CV 10/10; 5/20] END model__learning_rate=0.001, model__max_depth=2, model__n_estimators=7000;, score=0.293 total time=  10.3s\n",
      "[CV 2/10; 7/20] START model__learning_rate=0.001, model__max_depth=10, model__n_estimators=10000\n",
      "[CV 2/10; 6/20] END model__learning_rate=0.001, model__max_depth=5, model__n_estimators=10000;, score=0.354 total time=  27.4s\n",
      "[CV 3/10; 7/20] START model__learning_rate=0.001, model__max_depth=10, model__n_estimators=10000\n",
      "[CV 1/10; 6/20] END model__learning_rate=0.001, model__max_depth=5, model__n_estimators=10000;, score=0.387 total time=  27.5s\n",
      "[CV 4/10; 7/20] START model__learning_rate=0.001, model__max_depth=10, model__n_estimators=10000\n",
      "[CV 3/10; 6/20] END model__learning_rate=0.001, model__max_depth=5, model__n_estimators=10000;, score=0.496 total time=  26.5s\n",
      "[CV 5/10; 7/20] START model__learning_rate=0.001, model__max_depth=10, model__n_estimators=10000\n",
      "[CV 4/10; 6/20] END model__learning_rate=0.001, model__max_depth=5, model__n_estimators=10000;, score=0.426 total time=  28.0s\n",
      "[CV 6/10; 7/20] START model__learning_rate=0.001, model__max_depth=10, model__n_estimators=10000\n",
      "[CV 6/10; 6/20] END model__learning_rate=0.001, model__max_depth=5, model__n_estimators=10000;, score=0.338 total time=  26.5s\n",
      "[CV 7/10; 7/20] START model__learning_rate=0.001, model__max_depth=10, model__n_estimators=10000\n",
      "[CV 7/10; 6/20] END model__learning_rate=0.001, model__max_depth=5, model__n_estimators=10000;, score=0.376 total time=  27.2s\n",
      "[CV 8/10; 7/20] START model__learning_rate=0.001, model__max_depth=10, model__n_estimators=10000\n",
      "[CV 5/10; 6/20] END model__learning_rate=0.001, model__max_depth=5, model__n_estimators=10000;, score=0.331 total time=  27.5s\n",
      "[CV 9/10; 7/20] START model__learning_rate=0.001, model__max_depth=10, model__n_estimators=10000\n",
      "[CV 8/10; 6/20] END model__learning_rate=0.001, model__max_depth=5, model__n_estimators=10000;, score=0.405 total time=  27.6s\n",
      "[CV 10/10; 7/20] START model__learning_rate=0.001, model__max_depth=10, model__n_estimators=10000\n",
      "[CV 9/10; 6/20] END model__learning_rate=0.001, model__max_depth=5, model__n_estimators=10000;, score=0.455 total time=  28.0s\n",
      "[CV 1/10; 8/20] START model__learning_rate=0.001, model__max_depth=10, model__n_estimators=5000\n",
      "[CV 10/10; 6/20] END model__learning_rate=0.001, model__max_depth=5, model__n_estimators=10000;, score=0.386 total time=  27.6s\n",
      "[CV 2/10; 8/20] START model__learning_rate=0.001, model__max_depth=10, model__n_estimators=5000\n",
      "[CV 2/10; 7/20] END model__learning_rate=0.001, model__max_depth=10, model__n_estimators=10000;, score=0.447 total time=  50.7s\n",
      "[CV 1/10; 7/20] END model__learning_rate=0.001, model__max_depth=10, model__n_estimators=10000;, score=0.553 total time=  51.1s\n",
      "[CV 1/10; 8/20] END model__learning_rate=0.001, model__max_depth=10, model__n_estimators=5000;, score=0.501 total time=  24.8s"
     ]
    },
    {
     "name": "stderr",
     "output_type": "stream",
     "text": [
      "/home/meow/.local/lib/python3.10/site-packages/joblib/externals/loky/process_executor.py:752: UserWarning:\n",
      "\n",
      "A worker stopped while some jobs were given to the executor. This can be caused by a too short worker timeout or by a memory leak.\n",
      "\n"
     ]
    },
    {
     "name": "stdout",
     "output_type": "stream",
     "text": [
      "\n",
      "[CV 2/10; 8/20] END model__learning_rate=0.001, model__max_depth=10, model__n_estimators=5000;, score=0.480 total time=  24.6s\n",
      "[CV 3/10; 8/20] START model__learning_rate=0.001, model__max_depth=10, model__n_estimators=5000\n",
      "[CV 4/10; 8/20] START model__learning_rate=0.001, model__max_depth=10, model__n_estimators=5000\n",
      "[CV 5/10; 8/20] START model__learning_rate=0.001, model__max_depth=10, model__n_estimators=5000\n",
      "[CV 6/10; 8/20] START model__learning_rate=0.001, model__max_depth=10, model__n_estimators=5000\n",
      "[CV 5/10; 7/20] END model__learning_rate=0.001, model__max_depth=10, model__n_estimators=10000;, score=0.393 total time=  48.3s\n",
      "[CV 3/10; 7/20] END model__learning_rate=0.001, model__max_depth=10, model__n_estimators=10000;, score=0.639 total time=  49.2s\n",
      "[CV 7/10; 8/20] START model__learning_rate=0.001, model__max_depth=10, model__n_estimators=5000\n",
      "[CV 8/10; 8/20] START model__learning_rate=0.001, model__max_depth=10, model__n_estimators=5000\n",
      "[CV 4/10; 7/20] END model__learning_rate=0.001, model__max_depth=10, model__n_estimators=10000;, score=0.633 total time=  50.4s\n",
      "[CV 9/10; 8/20] START model__learning_rate=0.001, model__max_depth=10, model__n_estimators=5000\n",
      "[CV 6/10; 7/20] END model__learning_rate=0.001, model__max_depth=10, model__n_estimators=10000;, score=0.300 total time=  49.7s\n",
      "[CV 10/10; 8/20] START model__learning_rate=0.001, model__max_depth=10, model__n_estimators=5000\n",
      "[CV 8/10; 7/20] END model__learning_rate=0.001, model__max_depth=10, model__n_estimators=10000;, score=0.395 total time=  47.3s\n",
      "[CV 9/10; 7/20] END model__learning_rate=0.001, model__max_depth=10, model__n_estimators=10000;, score=0.483 total time=  47.6s\n",
      "[CV 7/10; 7/20] END model__learning_rate=0.001, model__max_depth=10, model__n_estimators=10000;, score=0.469 total time=  49.2s\n",
      "[CV 1/10; 9/20] START model__learning_rate=0.001, model__max_depth=5, model__n_estimators=1000\n",
      "[CV 2/10; 9/20] START model__learning_rate=0.001, model__max_depth=5, model__n_estimators=1000\n",
      "[CV 3/10; 9/20] START model__learning_rate=0.001, model__max_depth=5, model__n_estimators=1000\n",
      "[CV 10/10; 7/20] END model__learning_rate=0.001, model__max_depth=10, model__n_estimators=10000;, score=0.379 total time=  49.0s\n",
      "[CV 1/10; 9/20] END model__learning_rate=0.001, model__max_depth=5, model__n_estimators=1000;, score=0.190 total time=   2.6s\n",
      "[CV 5/10; 9/20] START model__learning_rate=0.001, model__max_depth=5, model__n_estimators=1000\n",
      "[CV 4/10; 9/20] START model__learning_rate=0.001, model__max_depth=5, model__n_estimators=1000\n",
      "[CV 2/10; 9/20] END model__learning_rate=0.001, model__max_depth=5, model__n_estimators=1000;, score=0.152 total time=   2.6s\n",
      "[CV 6/10; 9/20] START model__learning_rate=0.001, model__max_depth=5, model__n_estimators=1000\n",
      "[CV 3/10; 9/20] END model__learning_rate=0.001, model__max_depth=5, model__n_estimators=1000;, score=0.188 total time=   2.8s\n",
      "[CV 7/10; 9/20] START model__learning_rate=0.001, model__max_depth=5, model__n_estimators=1000\n",
      "[CV 3/10; 8/20] END model__learning_rate=0.001, model__max_depth=10, model__n_estimators=5000;, score=0.603 total time=  24.4s\n",
      "[CV 8/10; 9/20] START model__learning_rate=0.001, model__max_depth=5, model__n_estimators=1000\n",
      "[CV 5/10; 9/20] END model__learning_rate=0.001, model__max_depth=5, model__n_estimators=1000;, score=0.188 total time=   2.9s\n",
      "[CV 9/10; 9/20] START model__learning_rate=0.001, model__max_depth=5, model__n_estimators=1000\n",
      "[CV 6/10; 9/20] END model__learning_rate=0.001, model__max_depth=5, model__n_estimators=1000;, score=0.171 total time=   2.9s\n",
      "[CV 10/10; 9/20] START model__learning_rate=0.001, model__max_depth=5, model__n_estimators=1000\n",
      "[CV 4/10; 8/20] END model__learning_rate=0.001, model__max_depth=10, model__n_estimators=5000;, score=0.605 total time=  26.2s\n",
      "[CV 6/10; 8/20] END model__learning_rate=0.001, model__max_depth=10, model__n_estimators=5000;, score=0.295 total time=  25.1s\n",
      "[CV 1/10; 10/20] START model__learning_rate=0.001, model__max_depth=5, model__n_estimators=5000\n",
      "[CV 2/10; 10/20] START model__learning_rate=0.001, model__max_depth=5, model__n_estimators=5000\n",
      "[CV 4/10; 9/20] END model__learning_rate=0.001, model__max_depth=5, model__n_estimators=1000;, score=0.217 total time=   3.4s\n",
      "[CV 3/10; 10/20] START model__learning_rate=0.001, model__max_depth=5, model__n_estimators=5000\n",
      "[CV 5/10; 8/20] END model__learning_rate=0.001, model__max_depth=10, model__n_estimators=5000;, score=0.369 total time=  26.3s\n",
      "[CV 4/10; 10/20] START model__learning_rate=0.001, model__max_depth=5, model__n_estimators=5000\n",
      "[CV 8/10; 9/20] END model__learning_rate=0.001, model__max_depth=5, model__n_estimators=1000;, score=0.145 total time=   2.8s\n",
      "[CV 5/10; 10/20] START model__learning_rate=0.001, model__max_depth=5, model__n_estimators=5000\n",
      "[CV 7/10; 9/20] END model__learning_rate=0.001, model__max_depth=5, model__n_estimators=1000;, score=0.126 total time=   3.2s\n",
      "[CV 6/10; 10/20] START model__learning_rate=0.001, model__max_depth=5, model__n_estimators=5000\n",
      "[CV 9/10; 9/20] END model__learning_rate=0.001, model__max_depth=5, model__n_estimators=1000;, score=0.148 total time=   2.6s\n",
      "[CV 7/10; 10/20] START model__learning_rate=0.001, model__max_depth=5, model__n_estimators=5000\n",
      "[CV 10/10; 9/20] END model__learning_rate=0.001, model__max_depth=5, model__n_estimators=1000;, score=0.155 total time=   2.6s\n",
      "[CV 8/10; 10/20] START model__learning_rate=0.001, model__max_depth=5, model__n_estimators=5000\n",
      "[CV 7/10; 8/20] END model__learning_rate=0.001, model__max_depth=10, model__n_estimators=5000;, score=0.476 total time=  25.1s\n",
      "[CV 9/10; 10/20] START model__learning_rate=0.001, model__max_depth=5, model__n_estimators=5000\n",
      "[CV 2/10; 10/20] END model__learning_rate=0.001, model__max_depth=5, model__n_estimators=5000;, score=0.342 total time=  13.9s\n",
      "[CV 10/10; 10/20] START model__learning_rate=0.001, model__max_depth=5, model__n_estimators=5000\n",
      "[CV 1/10; 10/20] END model__learning_rate=0.001, model__max_depth=5, model__n_estimators=5000;, score=0.304 total time=  14.1s\n",
      "[CV 1/10; 11/20] START model__learning_rate=0.001, model__max_depth=3, model__n_estimators=1000\n",
      "[CV 3/10; 10/20] END model__learning_rate=0.001, model__max_depth=5, model__n_estimators=5000;, score=0.399 total time=  14.2s\n",
      "[CV 2/10; 11/20] START model__learning_rate=0.001, model__max_depth=3, model__n_estimators=1000\n",
      "[CV 4/10; 10/20] END model__learning_rate=0.001, model__max_depth=5, model__n_estimators=5000;, score=0.352 total time=  14.4s\n",
      "[CV 3/10; 11/20] START model__learning_rate=0.001, model__max_depth=3, model__n_estimators=1000\n",
      "[CV 7/10; 10/20] END model__learning_rate=0.001, model__max_depth=5, model__n_estimators=5000;, score=0.336 total time=  13.0s\n",
      "[CV 4/10; 11/20] START model__learning_rate=0.001, model__max_depth=3, model__n_estimators=1000\n",
      "[CV 5/10; 10/20] END model__learning_rate=0.001, model__max_depth=5, model__n_estimators=5000;, score=0.281 total time=  14.1s\n",
      "[CV 5/10; 11/20] START model__learning_rate=0.001, model__max_depth=3, model__n_estimators=1000\n",
      "[CV 6/10; 10/20] END model__learning_rate=0.001, model__max_depth=5, model__n_estimators=5000;, score=0.364 total time=  14.1s\n",
      "[CV 6/10; 11/20] START model__learning_rate=0.001, model__max_depth=3, model__n_estimators=1000\n",
      "[CV 8/10; 10/20] END model__learning_rate=0.001, model__max_depth=5, model__n_estimators=5000;, score=0.388 total time=  12.7s\n",
      "[CV 7/10; 11/20] START model__learning_rate=0.001, model__max_depth=3, model__n_estimators=1000\n",
      "[CV 8/10; 8/20] END model__learning_rate=0.001, model__max_depth=10, model__n_estimators=5000;, score=0.405 total time=  26.5s\n",
      "[CV 1/10; 11/20] END model__learning_rate=0.001, model__max_depth=3, model__n_estimators=1000;, score=0.192 total time=   1.7s\n",
      "[CV 8/10; 11/20] START model__learning_rate=0.001, model__max_depth=3, model__n_estimators=1000\n",
      "[CV 9/10; 11/20] START model__learning_rate=0.001, model__max_depth=3, model__n_estimators=1000\n",
      "[CV 2/10; 11/20] END model__learning_rate=0.001, model__max_depth=3, model__n_estimators=1000;, score=0.138 total time=   1.7s\n",
      "[CV 10/10; 11/20] START model__learning_rate=0.001, model__max_depth=3, model__n_estimators=1000\n",
      "[CV 4/10; 11/20] END model__learning_rate=0.001, model__max_depth=3, model__n_estimators=1000;, score=0.195 total time=   1.6s\n",
      "[CV 1/10; 12/20] START model__learning_rate=0.001, model__max_depth=1, model__n_estimators=5000\n",
      "[CV 3/10; 11/20] END model__learning_rate=0.001, model__max_depth=3, model__n_estimators=1000;, score=0.173 total time=   1.7s\n",
      "[CV 2/10; 12/20] START model__learning_rate=0.001, model__max_depth=1, model__n_estimators=5000\n",
      "[CV 5/10; 11/20] END model__learning_rate=0.001, model__max_depth=3, model__n_estimators=1000;, score=0.190 total time=   1.7s\n",
      "[CV 3/10; 12/20] START model__learning_rate=0.001, model__max_depth=1, model__n_estimators=5000\n",
      "[CV 6/10; 11/20] END model__learning_rate=0.001, model__max_depth=3, model__n_estimators=1000;, score=0.152 total time=   1.7s\n",
      "[CV 4/10; 12/20] START model__learning_rate=0.001, model__max_depth=1, model__n_estimators=5000\n",
      "[CV 7/10; 11/20] END model__learning_rate=0.001, model__max_depth=3, model__n_estimators=1000;, score=0.121 total time=   1.7s\n",
      "[CV 5/10; 12/20] START model__learning_rate=0.001, model__max_depth=1, model__n_estimators=5000\n",
      "[CV 9/10; 8/20] END model__learning_rate=0.001, model__max_depth=10, model__n_estimators=5000;, score=0.476 total time=  26.1s\n",
      "[CV 6/10; 12/20] START model__learning_rate=0.001, model__max_depth=1, model__n_estimators=5000\n",
      "[CV 8/10; 11/20] END model__learning_rate=0.001, model__max_depth=3, model__n_estimators=1000;, score=0.140 total time=   1.7s\n",
      "[CV 7/10; 12/20] START model__learning_rate=0.001, model__max_depth=1, model__n_estimators=5000\n",
      "[CV 9/10; 11/20] END model__learning_rate=0.001, model__max_depth=3, model__n_estimators=1000;, score=0.138 total time=   1.8s\n",
      "[CV 8/10; 12/20] START model__learning_rate=0.001, model__max_depth=1, model__n_estimators=5000\n",
      "[CV 10/10; 11/20] END model__learning_rate=0.001, model__max_depth=3, model__n_estimators=1000;, score=0.179 total time=   1.8s\n",
      "[CV 9/10; 12/20] START model__learning_rate=0.001, model__max_depth=1, model__n_estimators=5000\n",
      "[CV 10/10; 8/20] END model__learning_rate=0.001, model__max_depth=10, model__n_estimators=5000;, score=0.376 total time=  26.1s\n",
      "[CV 10/10; 12/20] START model__learning_rate=0.001, model__max_depth=1, model__n_estimators=5000\n",
      "[CV 1/10; 12/20] END model__learning_rate=0.001, model__max_depth=1, model__n_estimators=5000;, score=0.157 total time=   4.2s\n",
      "[CV 1/10; 13/20] START model__learning_rate=0.001, model__max_depth=5, model__n_estimators=7000\n",
      "[CV 2/10; 12/20] END model__learning_rate=0.001, model__max_depth=1, model__n_estimators=5000;, score=0.207 total time=   4.4s\n",
      "[CV 2/10; 13/20] START model__learning_rate=0.001, model__max_depth=5, model__n_estimators=7000\n",
      "[CV 5/10; 12/20] END model__learning_rate=0.001, model__max_depth=1, model__n_estimators=5000;, score=0.231 total time=   4.3s\n",
      "[CV 3/10; 13/20] START model__learning_rate=0.001, model__max_depth=5, model__n_estimators=7000\n",
      "[CV 3/10; 12/20] END model__learning_rate=0.001, model__max_depth=1, model__n_estimators=5000;, score=0.242 total time=   4.5s\n",
      "[CV 4/10; 13/20] START model__learning_rate=0.001, model__max_depth=5, model__n_estimators=7000\n",
      "[CV 4/10; 12/20] END model__learning_rate=0.001, model__max_depth=1, model__n_estimators=5000;, score=0.164 total time=   4.5s\n",
      "[CV 5/10; 13/20] START model__learning_rate=0.001, model__max_depth=5, model__n_estimators=7000\n",
      "[CV 6/10; 12/20] END model__learning_rate=0.001, model__max_depth=1, model__n_estimators=5000;, score=0.324 total time=   4.5s\n",
      "[CV 6/10; 13/20] START model__learning_rate=0.001, model__max_depth=5, model__n_estimators=7000\n",
      "[CV 7/10; 12/20] END model__learning_rate=0.001, model__max_depth=1, model__n_estimators=5000;, score=0.138 total time=   4.5s\n",
      "[CV 7/10; 13/20] START model__learning_rate=0.001, model__max_depth=5, model__n_estimators=7000\n",
      "[CV 8/10; 12/20] END model__learning_rate=0.001, model__max_depth=1, model__n_estimators=5000;, score=0.260 total time=   4.8s\n",
      "[CV 8/10; 13/20] START model__learning_rate=0.001, model__max_depth=5, model__n_estimators=7000\n",
      "[CV 9/10; 12/20] END model__learning_rate=0.001, model__max_depth=1, model__n_estimators=5000;, score=0.210 total time=   4.6s\n",
      "[CV 9/10; 13/20] START model__learning_rate=0.001, model__max_depth=5, model__n_estimators=7000\n",
      "[CV 10/10; 12/20] END model__learning_rate=0.001, model__max_depth=1, model__n_estimators=5000;, score=0.279 total time=   4.6s\n",
      "[CV 10/10; 13/20] START model__learning_rate=0.001, model__max_depth=5, model__n_estimators=7000\n",
      "[CV 9/10; 10/20] END model__learning_rate=0.001, model__max_depth=5, model__n_estimators=5000;, score=0.433 total time=  12.6s\n",
      "[CV 1/10; 14/20] START model__learning_rate=0.001, model__max_depth=3, model__n_estimators=10000\n",
      "[CV 10/10; 10/20] END model__learning_rate=0.001, model__max_depth=5, model__n_estimators=5000;, score=0.386 total time=  13.4s\n",
      "[CV 2/10; 14/20] START model__learning_rate=0.001, model__max_depth=3, model__n_estimators=10000\n",
      "[CV 1/10; 13/20] END model__learning_rate=0.001, model__max_depth=5, model__n_estimators=7000;, score=0.356 total time=  17.2s\n",
      "[CV 3/10; 14/20] START model__learning_rate=0.001, model__max_depth=3, model__n_estimators=10000\n",
      "[CV 3/10; 13/20] END model__learning_rate=0.001, model__max_depth=5, model__n_estimators=7000;, score=0.430 total time=  17.2s\n",
      "[CV 4/10; 14/20] START model__learning_rate=0.001, model__max_depth=3, model__n_estimators=10000\n",
      "[CV 6/10; 13/20] END model__learning_rate=0.001, model__max_depth=5, model__n_estimators=7000;, score=0.357 total time=  17.2s\n",
      "[CV 5/10; 14/20] START model__learning_rate=0.001, model__max_depth=3, model__n_estimators=10000\n",
      "[CV 4/10; 13/20] END model__learning_rate=0.001, model__max_depth=5, model__n_estimators=7000;, score=0.395 total time=  17.7s\n",
      "[CV 6/10; 14/20] START model__learning_rate=0.001, model__max_depth=3, model__n_estimators=10000\n",
      "[CV 5/10; 13/20] END model__learning_rate=0.001, model__max_depth=5, model__n_estimators=7000;, score=0.314 total time=  17.7s\n",
      "[CV 7/10; 14/20] START model__learning_rate=0.001, model__max_depth=3, model__n_estimators=10000\n",
      "[CV 2/10; 13/20] END model__learning_rate=0.001, model__max_depth=5, model__n_estimators=7000;, score=0.342 total time=  19.0s\n",
      "[CV 8/10; 14/20] START model__learning_rate=0.001, model__max_depth=3, model__n_estimators=10000\n",
      "[CV 7/10; 13/20] END model__learning_rate=0.001, model__max_depth=5, model__n_estimators=7000;, score=0.355 total time=  17.9s\n",
      "[CV 9/10; 14/20] START model__learning_rate=0.001, model__max_depth=3, model__n_estimators=10000\n",
      "[CV 9/10; 13/20] END model__learning_rate=0.001, model__max_depth=5, model__n_estimators=7000;, score=0.455 total time=  17.6s\n",
      "[CV 10/10; 14/20] START model__learning_rate=0.001, model__max_depth=3, model__n_estimators=10000\n",
      "[CV 8/10; 13/20] END model__learning_rate=0.001, model__max_depth=5, model__n_estimators=7000;, score=0.402 total time=  18.5s\n",
      "[CV 1/10; 15/20] START model__learning_rate=0.001, model__max_depth=7, model__n_estimators=5000\n",
      "[CV 10/10; 13/20] END model__learning_rate=0.001, model__max_depth=5, model__n_estimators=7000;, score=0.388 total time=  18.9s\n",
      "[CV 2/10; 15/20] START model__learning_rate=0.001, model__max_depth=7, model__n_estimators=5000\n",
      "[CV 1/10; 14/20] END model__learning_rate=0.001, model__max_depth=3, model__n_estimators=10000;, score=0.299 total time=  16.3s\n",
      "[CV 3/10; 15/20] START model__learning_rate=0.001, model__max_depth=7, model__n_estimators=5000\n",
      "[CV 2/10; 14/20] END model__learning_rate=0.001, model__max_depth=3, model__n_estimators=10000;, score=0.335 total time=  17.9s\n",
      "[CV 4/10; 15/20] START model__learning_rate=0.001, model__max_depth=7, model__n_estimators=5000\n",
      "[CV 3/10; 14/20] END model__learning_rate=0.001, model__max_depth=3, model__n_estimators=10000;, score=0.378 total time=  17.3s\n",
      "[CV 5/10; 15/20] START model__learning_rate=0.001, model__max_depth=7, model__n_estimators=5000\n",
      "[CV 4/10; 14/20] END model__learning_rate=0.001, model__max_depth=3, model__n_estimators=10000;, score=0.338 total time=  17.2s\n",
      "[CV 6/10; 15/20] START model__learning_rate=0.001, model__max_depth=7, model__n_estimators=5000\n",
      "[CV 5/10; 14/20] END model__learning_rate=0.001, model__max_depth=3, model__n_estimators=10000;, score=0.267 total time=  17.2s\n",
      "[CV 7/10; 15/20] START model__learning_rate=0.001, model__max_depth=7, model__n_estimators=5000\n",
      "[CV 7/10; 14/20] END model__learning_rate=0.001, model__max_depth=3, model__n_estimators=10000;, score=0.338 total time=  18.3s\n",
      "[CV 8/10; 15/20] START model__learning_rate=0.001, model__max_depth=7, model__n_estimators=5000\n",
      "[CV 6/10; 14/20] END model__learning_rate=0.001, model__max_depth=3, model__n_estimators=10000;, score=0.362 total time=  18.6s\n",
      "[CV 9/10; 15/20] START model__learning_rate=0.001, model__max_depth=7, model__n_estimators=5000\n",
      "[CV 8/10; 14/20] END model__learning_rate=0.001, model__max_depth=3, model__n_estimators=10000;, score=0.369 total time=  18.3s\n",
      "[CV 10/10; 15/20] START model__learning_rate=0.001, model__max_depth=7, model__n_estimators=5000\n",
      "[CV 10/10; 14/20] END model__learning_rate=0.001, model__max_depth=3, model__n_estimators=10000;, score=0.376 total time=  18.1s\n",
      "[CV 1/10; 16/20] START model__learning_rate=0.001, model__max_depth=7, model__n_estimators=3000\n",
      "[CV 9/10; 14/20] END model__learning_rate=0.001, model__max_depth=3, model__n_estimators=10000;, score=0.405 total time=  18.3s\n",
      "[CV 2/10; 16/20] START model__learning_rate=0.001, model__max_depth=7, model__n_estimators=3000\n",
      "[CV 1/10; 15/20] END model__learning_rate=0.001, model__max_depth=7, model__n_estimators=5000;, score=0.397 total time=  17.9s\n",
      "[CV 3/10; 16/20] START model__learning_rate=0.001, model__max_depth=7, model__n_estimators=3000\n",
      "[CV 3/10; 15/20] END model__learning_rate=0.001, model__max_depth=7, model__n_estimators=5000;, score=0.511 total time=  16.8s\n",
      "[CV 4/10; 16/20] START model__learning_rate=0.001, model__max_depth=7, model__n_estimators=3000\n",
      "[CV 2/10; 15/20] END model__learning_rate=0.001, model__max_depth=7, model__n_estimators=5000;, score=0.463 total time=  17.8s\n",
      "[CV 5/10; 16/20] START model__learning_rate=0.001, model__max_depth=7, model__n_estimators=3000\n",
      "[CV 4/10; 15/20] END model__learning_rate=0.001, model__max_depth=7, model__n_estimators=5000;, score=0.479 total time=  17.5s\n",
      "[CV 6/10; 16/20] START model__learning_rate=0.001, model__max_depth=7, model__n_estimators=3000\n",
      "[CV 1/10; 16/20] END model__learning_rate=0.001, model__max_depth=7, model__n_estimators=3000;, score=0.335 total time=   9.7s\n",
      "[CV 7/10; 16/20] START model__learning_rate=0.001, model__max_depth=7, model__n_estimators=3000\n",
      "[CV 2/10; 16/20] END model__learning_rate=0.001, model__max_depth=7, model__n_estimators=3000;, score=0.428 total time=   9.7s\n",
      "[CV 8/10; 16/20] START model__learning_rate=0.001, model__max_depth=7, model__n_estimators=3000\n",
      "[CV 3/10; 16/20] END model__learning_rate=0.001, model__max_depth=7, model__n_estimators=3000;, score=0.420 total time=   9.8s\n",
      "[CV 9/10; 16/20] START model__learning_rate=0.001, model__max_depth=7, model__n_estimators=3000\n",
      "[CV 4/10; 16/20] END model__learning_rate=0.001, model__max_depth=7, model__n_estimators=3000;, score=0.407 total time=   9.6s\n",
      "[CV 10/10; 16/20] START model__learning_rate=0.001, model__max_depth=7, model__n_estimators=3000\n",
      "[CV 5/10; 16/20] END model__learning_rate=0.001, model__max_depth=7, model__n_estimators=3000;, score=0.321 total time=   9.9s\n",
      "[CV 1/10; 17/20] START model__learning_rate=0.001, model__max_depth=1, model__n_estimators=1000\n",
      "[CV 1/10; 17/20] END model__learning_rate=0.001, model__max_depth=1, model__n_estimators=1000;, score=0.154 total time=   0.9s\n",
      "[CV 2/10; 17/20] START model__learning_rate=0.001, model__max_depth=1, model__n_estimators=1000\n",
      "[CV 5/10; 15/20] END model__learning_rate=0.001, model__max_depth=7, model__n_estimators=5000;, score=0.343 total time=  16.1s\n",
      "[CV 3/10; 17/20] START model__learning_rate=0.001, model__max_depth=1, model__n_estimators=1000\n",
      "[CV 2/10; 17/20] END model__learning_rate=0.001, model__max_depth=1, model__n_estimators=1000;, score=0.131 total time=   0.9s\n",
      "[CV 4/10; 17/20] START model__learning_rate=0.001, model__max_depth=1, model__n_estimators=1000\n",
      "[CV 6/10; 15/20] END model__learning_rate=0.001, model__max_depth=7, model__n_estimators=5000;, score=0.326 total time=  15.9s\n",
      "[CV 5/10; 17/20] START model__learning_rate=0.001, model__max_depth=1, model__n_estimators=1000\n",
      "[CV 7/10; 15/20] END model__learning_rate=0.001, model__max_depth=7, model__n_estimators=5000;, score=0.388 total time=  16.2s\n",
      "[CV 6/10; 17/20] START model__learning_rate=0.001, model__max_depth=1, model__n_estimators=1000\n",
      "[CV 3/10; 17/20] END model__learning_rate=0.001, model__max_depth=1, model__n_estimators=1000;, score=0.150 total time=   1.1s\n",
      "[CV 7/10; 17/20] START model__learning_rate=0.001, model__max_depth=1, model__n_estimators=1000\n",
      "[CV 5/10; 17/20] END model__learning_rate=0.001, model__max_depth=1, model__n_estimators=1000;, score=0.143 total time=   1.2s\n",
      "[CV 8/10; 17/20] START model__learning_rate=0.001, model__max_depth=1, model__n_estimators=1000\n",
      "[CV 4/10; 17/20] END model__learning_rate=0.001, model__max_depth=1, model__n_estimators=1000;, score=0.114 total time=   1.5s\n",
      "[CV 9/10; 17/20] START model__learning_rate=0.001, model__max_depth=1, model__n_estimators=1000\n",
      "[CV 6/10; 17/20] END model__learning_rate=0.001, model__max_depth=1, model__n_estimators=1000;, score=0.124 total time=   1.1s\n",
      "[CV 10/10; 17/20] START model__learning_rate=0.001, model__max_depth=1, model__n_estimators=1000\n",
      "[CV 6/10; 16/20] END model__learning_rate=0.001, model__max_depth=7, model__n_estimators=3000;, score=0.333 total time=  10.2s\n",
      "[CV 1/10; 18/20] START model__learning_rate=0.001, model__max_depth=1, model__n_estimators=3000\n",
      "[CV 7/10; 17/20] END model__learning_rate=0.001, model__max_depth=1, model__n_estimators=1000;, score=0.112 total time=   0.9s\n",
      "[CV 2/10; 18/20] START model__learning_rate=0.001, model__max_depth=1, model__n_estimators=3000\n",
      "[CV 8/10; 17/20] END model__learning_rate=0.001, model__max_depth=1, model__n_estimators=1000;, score=0.176 total time=   1.0s\n",
      "[CV 3/10; 18/20] START model__learning_rate=0.001, model__max_depth=1, model__n_estimators=3000\n",
      "[CV 9/10; 17/20] END model__learning_rate=0.001, model__max_depth=1, model__n_estimators=1000;, score=0.117 total time=   1.0s\n",
      "[CV 4/10; 18/20] START model__learning_rate=0.001, model__max_depth=1, model__n_estimators=3000\n",
      "[CV 10/10; 17/20] END model__learning_rate=0.001, model__max_depth=1, model__n_estimators=1000;, score=0.138 total time=   0.9s\n",
      "[CV 5/10; 18/20] START model__learning_rate=0.001, model__max_depth=1, model__n_estimators=3000\n",
      "[CV 8/10; 15/20] END model__learning_rate=0.001, model__max_depth=7, model__n_estimators=5000;, score=0.381 total time=  17.1s\n",
      "[CV 6/10; 18/20] START model__learning_rate=0.001, model__max_depth=1, model__n_estimators=3000\n",
      "[CV 9/10; 15/20] END model__learning_rate=0.001, model__max_depth=7, model__n_estimators=5000;, score=0.462 total time=  17.4s\n",
      "[CV 7/10; 18/20] START model__learning_rate=0.001, model__max_depth=1, model__n_estimators=3000\n",
      "[CV 10/10; 15/20] END model__learning_rate=0.001, model__max_depth=7, model__n_estimators=5000;, score=0.379 total time=  17.3s\n",
      "[CV 8/10; 18/20] START model__learning_rate=0.001, model__max_depth=1, model__n_estimators=3000\n",
      "[CV 1/10; 18/20] END model__learning_rate=0.001, model__max_depth=1, model__n_estimators=3000;, score=0.152 total time=   2.7s\n",
      "[CV 9/10; 18/20] START model__learning_rate=0.001, model__max_depth=1, model__n_estimators=3000\n",
      "[CV 2/10; 18/20] END model__learning_rate=0.001, model__max_depth=1, model__n_estimators=3000;, score=0.197 total time=   2.7s\n",
      "[CV 10/10; 18/20] START model__learning_rate=0.001, model__max_depth=1, model__n_estimators=3000\n",
      "[CV 3/10; 18/20] END model__learning_rate=0.001, model__max_depth=1, model__n_estimators=3000;, score=0.228 total time=   2.7s\n",
      "[CV 1/10; 19/20] START model__learning_rate=0.001, model__max_depth=2, model__n_estimators=1000\n",
      "[CV 5/10; 18/20] END model__learning_rate=0.001, model__max_depth=1, model__n_estimators=3000;, score=0.200 total time=   2.8s\n",
      "[CV 2/10; 19/20] START model__learning_rate=0.001, model__max_depth=2, model__n_estimators=1000\n",
      "[CV 4/10; 18/20] END model__learning_rate=0.001, model__max_depth=1, model__n_estimators=3000;, score=0.188 total time=   3.0s\n",
      "[CV 3/10; 19/20] START model__learning_rate=0.001, model__max_depth=2, model__n_estimators=1000\n",
      "[CV 6/10; 18/20] END model__learning_rate=0.001, model__max_depth=1, model__n_estimators=3000;, score=0.257 total time=   2.7s\n",
      "[CV 4/10; 19/20] START model__learning_rate=0.001, model__max_depth=2, model__n_estimators=1000\n",
      "[CV 1/10; 19/20] END model__learning_rate=0.001, model__max_depth=2, model__n_estimators=1000;, score=0.166 total time=   1.4s\n",
      "[CV 5/10; 19/20] START model__learning_rate=0.001, model__max_depth=2, model__n_estimators=1000\n",
      "[CV 7/10; 18/20] END model__learning_rate=0.001, model__max_depth=1, model__n_estimators=3000;, score=0.126 total time=   2.9s\n",
      "[CV 6/10; 19/20] START model__learning_rate=0.001, model__max_depth=2, model__n_estimators=1000\n",
      "[CV 2/10; 19/20] END model__learning_rate=0.001, model__max_depth=2, model__n_estimators=1000;, score=0.135 total time=   1.4s\n",
      "[CV 7/10; 19/20] START model__learning_rate=0.001, model__max_depth=2, model__n_estimators=1000\n",
      "[CV 3/10; 19/20] END model__learning_rate=0.001, model__max_depth=2, model__n_estimators=1000;, score=0.162 total time=   1.4s\n",
      "[CV 8/10; 19/20] START model__learning_rate=0.001, model__max_depth=2, model__n_estimators=1000\n",
      "[CV 8/10; 18/20] END model__learning_rate=0.001, model__max_depth=1, model__n_estimators=3000;, score=0.257 total time=   2.8s\n",
      "[CV 9/10; 19/20] START model__learning_rate=0.001, model__max_depth=2, model__n_estimators=1000\n",
      "[CV 9/10; 18/20] END model__learning_rate=0.001, model__max_depth=1, model__n_estimators=3000;, score=0.195 total time=   2.7s\n",
      "[CV 10/10; 19/20] START model__learning_rate=0.001, model__max_depth=2, model__n_estimators=1000\n",
      "[CV 4/10; 19/20] END model__learning_rate=0.001, model__max_depth=2, model__n_estimators=1000;, score=0.164 total time=   1.5s\n",
      "[CV 1/10; 20/20] START model__learning_rate=0.001, model__max_depth=10, model__n_estimators=7000\n",
      "[CV 10/10; 18/20] END model__learning_rate=0.001, model__max_depth=1, model__n_estimators=3000;, score=0.257 total time=   2.6s\n",
      "[CV 2/10; 20/20] START model__learning_rate=0.001, model__max_depth=10, model__n_estimators=7000\n",
      "[CV 5/10; 19/20] END model__learning_rate=0.001, model__max_depth=2, model__n_estimators=1000;, score=0.162 total time=   1.3s\n",
      "[CV 3/10; 20/20] START model__learning_rate=0.001, model__max_depth=10, model__n_estimators=7000\n",
      "[CV 6/10; 19/20] END model__learning_rate=0.001, model__max_depth=2, model__n_estimators=1000;, score=0.145 total time=   1.3s\n",
      "[CV 4/10; 20/20] START model__learning_rate=0.001, model__max_depth=10, model__n_estimators=7000\n",
      "[CV 7/10; 19/20] END model__learning_rate=0.001, model__max_depth=2, model__n_estimators=1000;, score=0.102 total time=   1.3s\n",
      "[CV 7/10; 16/20] END model__learning_rate=0.001, model__max_depth=7, model__n_estimators=3000;, score=0.338 total time=  11.4s[CV 5/10; 20/20] START model__learning_rate=0.001, model__max_depth=10, model__n_estimators=7000\n",
      "\n",
      "[CV 6/10; 20/20] START model__learning_rate=0.001, model__max_depth=10, model__n_estimators=7000\n",
      "[CV 8/10; 16/20] END model__learning_rate=0.001, model__max_depth=7, model__n_estimators=3000;, score=0.364 total time=  11.4s\n",
      "[CV 7/10; 20/20] START model__learning_rate=0.001, model__max_depth=10, model__n_estimators=7000\n",
      "[CV 9/10; 19/20] END model__learning_rate=0.001, model__max_depth=2, model__n_estimators=1000;, score=0.140 total time=   1.3s\n",
      "[CV 8/10; 20/20] START model__learning_rate=0.001, model__max_depth=10, model__n_estimators=7000\n",
      "[CV 9/10; 16/20] END model__learning_rate=0.001, model__max_depth=7, model__n_estimators=3000;, score=0.374 total time=  10.9s\n",
      "[CV 9/10; 20/20] START model__learning_rate=0.001, model__max_depth=10, model__n_estimators=7000\n",
      "[CV 8/10; 19/20] END model__learning_rate=0.001, model__max_depth=2, model__n_estimators=1000;, score=0.176 total time=   1.6s\n",
      "[CV 10/10; 20/20] START model__learning_rate=0.001, model__max_depth=10, model__n_estimators=7000\n",
      "[CV 10/10; 16/20] END model__learning_rate=0.001, model__max_depth=7, model__n_estimators=3000;, score=0.414 total time=  10.7s\n",
      "[CV 10/10; 19/20] END model__learning_rate=0.001, model__max_depth=2, model__n_estimators=1000;, score=0.176 total time=   1.3s\n",
      "[CV 1/10; 20/20] END model__learning_rate=0.001, model__max_depth=10, model__n_estimators=7000;, score=0.523 total time=  32.5s\n",
      "[CV 2/10; 20/20] END model__learning_rate=0.001, model__max_depth=10, model__n_estimators=7000;, score=0.463 total time=  32.8s\n",
      "[CV 8/10; 20/20] END model__learning_rate=0.001, model__max_depth=10, model__n_estimators=7000;, score=0.407 total time=  32.1s\n",
      "[CV 9/10; 20/20] END model__learning_rate=0.001, model__max_depth=10, model__n_estimators=7000;, score=0.486 total time=  32.1s\n",
      "[CV 3/10; 20/20] END model__learning_rate=0.001, model__max_depth=10, model__n_estimators=7000;, score=0.625 total time=  32.8s\n",
      "[CV 10/10; 20/20] END model__learning_rate=0.001, model__max_depth=10, model__n_estimators=7000;, score=0.383 total time=  32.4s\n",
      "[CV 4/10; 20/20] END model__learning_rate=0.001, model__max_depth=10, model__n_estimators=7000;, score=0.621 total time=  33.1s\n",
      "[CV 5/10; 20/20] END model__learning_rate=0.001, model__max_depth=10, model__n_estimators=7000;, score=0.386 total time=  32.8s\n",
      "[CV 7/10; 20/20] END model__learning_rate=0.001, model__max_depth=10, model__n_estimators=7000;, score=0.457 total time=  32.8s\n",
      "[CV 6/10; 20/20] END model__learning_rate=0.001, model__max_depth=10, model__n_estimators=7000;, score=0.293 total time=  32.9s\n",
      "{'model__n_estimators': 10000, 'model__max_depth': 10, 'model__learning_rate': 0.001}\n"
     ]
    }
   ],
   "source": [
    "gbr_model = GradientBoostingRegressor(random_state=random_state)\n",
    "gbr_pipeline = Pipeline(steps=[('normalize', scaler), ('model', gbr_model)])\n",
    "\n",
    "random_grid = {'model__learning_rate': [0.001],\n",
    "               'model__n_estimators': [1000, 3000, 5000, 7000, 10000],\n",
    "               'model__max_depth': [1, 2, 3, 5, 7, 10]}\n",
    "\n",
    "gradient_boosting_search = RandomizedSearchCV(gbr_pipeline, random_grid, n_iter=20, scoring=custom_scorer, cv=10, verbose=10, n_jobs=-1)\n",
    "gradient_boosting_search.fit(input_x, input_y.values.ravel())\n",
    "print(gradient_boosting_search.best_params_)"
   ]
  },
  {
   "cell_type": "code",
   "execution_count": 295,
   "metadata": {},
   "outputs": [
    {
     "name": "stdout",
     "output_type": "stream",
     "text": [
      "Fitting 10 folds for each of 20 candidates, totalling 200 fits\n",
      "[CV 1/10; 1/20] START model__C=5, model__coef0=10, model__degree=8, model__gamma=auto, model__kernel=sigmoid\n",
      "[CV 7/10; 1/20] START model__C=5, model__coef0=10, model__degree=8, model__gamma=auto, model__kernel=sigmoid\n",
      "[CV 2/10; 1/20] START model__C=5, model__coef0=10, model__degree=8, model__gamma=auto, model__kernel=sigmoid\n",
      "[CV 5/10; 1/20] START model__C=5, model__coef0=10, model__degree=8, model__gamma=auto, model__kernel=sigmoid\n",
      "[CV 3/10; 1/20] START model__C=5, model__coef0=10, model__degree=8, model__gamma=auto, model__kernel=sigmoid\n",
      "[CV 8/10; 1/20] START model__C=5, model__coef0=10, model__degree=8, model__gamma=auto, model__kernel=sigmoid\n",
      "[CV 9/10; 1/20] START model__C=5, model__coef0=10, model__degree=8, model__gamma=auto, model__kernel=sigmoid\n",
      "[CV 10/10; 1/20] START model__C=5, model__coef0=10, model__degree=8, model__gamma=auto, model__kernel=sigmoid\n",
      "[CV 6/10; 1/20] START model__C=5, model__coef0=10, model__degree=8, model__gamma=auto, model__kernel=sigmoid\n",
      "[CV 2/10; 2/20] START model__C=10, model__coef0=0.5, model__degree=8, model__gamma=scale, model__kernel=rbf\n",
      "[CV 1/10; 2/20] START model__C=10, model__coef0=0.5, model__degree=8, model__gamma=scale, model__kernel=rbf\n",
      "[CV 4/10; 1/20] START model__C=5, model__coef0=10, model__degree=8, model__gamma=auto, model__kernel=sigmoid\n",
      "[CV 1/10; 1/20] END model__C=5, model__coef0=10, model__degree=8, model__gamma=auto, model__kernel=sigmoid;, score=0.064 total time=   1.3s\n",
      "[CV 3/10; 2/20] START model__C=10, model__coef0=0.5, model__degree=8, model__gamma=scale, model__kernel=rbf\n",
      "[CV 2/10; 2/20] END model__C=10, model__coef0=0.5, model__degree=8, model__gamma=scale, model__kernel=rbf;, score=0.152 total time=   1.0s\n",
      "[CV 4/10; 2/20] START model__C=10, model__coef0=0.5, model__degree=8, model__gamma=scale, model__kernel=rbf\n",
      "[CV 1/10; 2/20] END model__C=10, model__coef0=0.5, model__degree=8, model__gamma=scale, model__kernel=rbf;, score=0.221 total time=   1.1s\n",
      "[CV 5/10; 2/20] START model__C=10, model__coef0=0.5, model__degree=8, model__gamma=scale, model__kernel=rbf\n",
      "[CV 2/10; 1/20] END model__C=5, model__coef0=10, model__degree=8, model__gamma=auto, model__kernel=sigmoid;, score=0.105 total time=   1.3s\n",
      "[CV 7/10; 1/20] END model__C=5, model__coef0=10, model__degree=8, model__gamma=auto, model__kernel=sigmoid;, score=0.114 total time=   1.3s\n",
      "[CV 3/10; 1/20] END model__C=5, model__coef0=10, model__degree=8, model__gamma=auto, model__kernel=sigmoid;, score=0.112 total time=   1.3s\n",
      "[CV 8/10; 1/20] END model__C=5, model__coef0=10, model__degree=8, model__gamma=auto, model__kernel=sigmoid;, score=0.105 total time=   1.3s\n",
      "[CV 6/10; 2/20] START model__C=10, model__coef0=0.5, model__degree=8, model__gamma=scale, model__kernel=rbf\n",
      "[CV 5/10; 1/20] END model__C=5, model__coef0=10, model__degree=8, model__gamma=auto, model__kernel=sigmoid;, score=0.074 total time=   1.3s\n",
      "[CV 10/10; 1/20] END model__C=5, model__coef0=10, model__degree=8, model__gamma=auto, model__kernel=sigmoid;, score=0.102 total time=   1.3s\n",
      "[CV 6/10; 1/20] END model__C=5, model__coef0=10, model__degree=8, model__gamma=auto, model__kernel=sigmoid;, score=0.117 total time=   1.3s\n",
      "[CV 7/10; 2/20] START model__C=10, model__coef0=0.5, model__degree=8, model__gamma=scale, model__kernel=rbf\n",
      "[CV 8/10; 2/20] START model__C=10, model__coef0=0.5, model__degree=8, model__gamma=scale, model__kernel=rbf\n",
      "[CV 9/10; 2/20] START model__C=10, model__coef0=0.5, model__degree=8, model__gamma=scale, model__kernel=rbf\n",
      "[CV 10/10; 2/20] START model__C=10, model__coef0=0.5, model__degree=8, model__gamma=scale, model__kernel=rbf\n",
      "[CV 1/10; 3/20] START model__C=1, model__coef0=0.5, model__degree=3, model__gamma=scale, model__kernel=poly\n",
      "[CV 9/10; 1/20] END model__C=5, model__coef0=10, model__degree=8, model__gamma=auto, model__kernel=sigmoid;, score=0.055 total time=   1.3s\n",
      "[CV 4/10; 1/20] END model__C=5, model__coef0=10, model__degree=8, model__gamma=auto, model__kernel=sigmoid;, score=0.081 total time=   1.3s\n",
      "[CV 2/10; 3/20] START model__C=1, model__coef0=0.5, model__degree=3, model__gamma=scale, model__kernel=poly\n",
      "[CV 3/10; 3/20] START model__C=1, model__coef0=0.5, model__degree=3, model__gamma=scale, model__kernel=poly\n",
      "[CV 4/10; 3/20] START model__C=1, model__coef0=0.5, model__degree=3, model__gamma=scale, model__kernel=poly\n",
      "[CV 3/10; 2/20] END model__C=10, model__coef0=0.5, model__degree=8, model__gamma=scale, model__kernel=rbf;, score=0.100 total time=   1.0s\n",
      "[CV 5/10; 3/20] START model__C=1, model__coef0=0.5, model__degree=3, model__gamma=scale, model__kernel=poly\n",
      "[CV 2/10; 3/20] END model__C=1, model__coef0=0.5, model__degree=3, model__gamma=scale, model__kernel=poly;, score=0.135 total time=   0.7s\n",
      "[CV 6/10; 3/20] START model__C=1, model__coef0=0.5, model__degree=3, model__gamma=scale, model__kernel=poly\n",
      "[CV 1/10; 3/20] END model__C=1, model__coef0=0.5, model__degree=3, model__gamma=scale, model__kernel=poly;, score=0.242 total time=   0.8s\n",
      "[CV 7/10; 3/20] START model__C=1, model__coef0=0.5, model__degree=3, model__gamma=scale, model__kernel=poly\n",
      "[CV 4/10; 2/20] END model__C=10, model__coef0=0.5, model__degree=8, model__gamma=scale, model__kernel=rbf;, score=0.212 total time=   1.0s\n",
      "[CV 4/10; 3/20] END model__C=1, model__coef0=0.5, model__degree=3, model__gamma=scale, model__kernel=poly;, score=0.217 total time=   0.7s\n",
      "[CV 8/10; 3/20] START model__C=1, model__coef0=0.5, model__degree=3, model__gamma=scale, model__kernel=poly\n",
      "[CV 9/10; 3/20] START model__C=1, model__coef0=0.5, model__degree=3, model__gamma=scale, model__kernel=poly\n",
      "[CV 3/10; 3/20] END model__C=1, model__coef0=0.5, model__degree=3, model__gamma=scale, model__kernel=poly;, score=0.135 total time=   0.8s\n",
      "[CV 10/10; 3/20] START model__C=1, model__coef0=0.5, model__degree=3, model__gamma=scale, model__kernel=poly\n",
      "[CV 5/10; 2/20] END model__C=10, model__coef0=0.5, model__degree=8, model__gamma=scale, model__kernel=rbf;, score=0.231 total time=   1.1s\n",
      "[CV 1/10; 4/20] START model__C=5, model__coef0=0.01, model__degree=8, model__gamma=auto, model__kernel=sigmoid\n",
      "[CV 6/10; 2/20] END model__C=10, model__coef0=0.5, model__degree=8, model__gamma=scale, model__kernel=rbf;, score=0.188 total time=   1.1s\n",
      "[CV 2/10; 4/20] START model__C=5, model__coef0=0.01, model__degree=8, model__gamma=auto, model__kernel=sigmoid\n",
      "[CV 8/10; 2/20] END model__C=10, model__coef0=0.5, model__degree=8, model__gamma=scale, model__kernel=rbf;, score=0.257 total time=   1.1s[CV 9/10; 2/20] END model__C=10, model__coef0=0.5, model__degree=8, model__gamma=scale, model__kernel=rbf;, score=0.214 total time=   1.1s\n",
      "\n",
      "[CV 3/10; 4/20] START model__C=5, model__coef0=0.01, model__degree=8, model__gamma=auto, model__kernel=sigmoid\n",
      "[CV 4/10; 4/20] START model__C=5, model__coef0=0.01, model__degree=8, model__gamma=auto, model__kernel=sigmoid\n",
      "[CV 10/10; 2/20] END model__C=10, model__coef0=0.5, model__degree=8, model__gamma=scale, model__kernel=rbf;, score=0.310 total time=   1.1s\n",
      "[CV 5/10; 4/20] START model__C=5, model__coef0=0.01, model__degree=8, model__gamma=auto, model__kernel=sigmoid\n",
      "[CV 7/10; 2/20] END model__C=10, model__coef0=0.5, model__degree=8, model__gamma=scale, model__kernel=rbf;, score=0.157 total time=   1.2s\n",
      "[CV 6/10; 4/20] START model__C=5, model__coef0=0.01, model__degree=8, model__gamma=auto, model__kernel=sigmoid\n",
      "[CV 5/10; 3/20] END model__C=1, model__coef0=0.5, model__degree=3, model__gamma=scale, model__kernel=poly;, score=0.245 total time=   0.7s\n",
      "[CV 7/10; 4/20] START model__C=5, model__coef0=0.01, model__degree=8, model__gamma=auto, model__kernel=sigmoid\n",
      "[CV 6/10; 3/20] END model__C=1, model__coef0=0.5, model__degree=3, model__gamma=scale, model__kernel=poly;, score=0.269 total time=   0.7s\n",
      "[CV 8/10; 4/20] START model__C=5, model__coef0=0.01, model__degree=8, model__gamma=auto, model__kernel=sigmoid\n",
      "[CV 8/10; 3/20] END model__C=1, model__coef0=0.5, model__degree=3, model__gamma=scale, model__kernel=poly;, score=0.260 total time=   0.7s\n",
      "[CV 9/10; 4/20] START model__C=5, model__coef0=0.01, model__degree=8, model__gamma=auto, model__kernel=sigmoid[CV 9/10; 3/20] END model__C=1, model__coef0=0.5, model__degree=3, model__gamma=scale, model__kernel=poly;, score=0.252 total time=   0.7s\n",
      "\n",
      "[CV 10/10; 4/20] START model__C=5, model__coef0=0.01, model__degree=8, model__gamma=auto, model__kernel=sigmoid\n",
      "[CV 10/10; 3/20] END model__C=1, model__coef0=0.5, model__degree=3, model__gamma=scale, model__kernel=poly;, score=0.300 total time=   0.8s\n",
      "[CV 1/10; 5/20] START model__C=1, model__coef0=0.5, model__degree=8, model__gamma=auto, model__kernel=linear\n",
      "[CV 7/10; 3/20] END model__C=1, model__coef0=0.5, model__degree=3, model__gamma=scale, model__kernel=poly;, score=0.164 total time=   0.9s\n",
      "[CV 2/10; 5/20] START model__C=1, model__coef0=0.5, model__degree=8, model__gamma=auto, model__kernel=linear\n",
      "[CV 1/10; 5/20] END model__C=1, model__coef0=0.5, model__degree=8, model__gamma=auto, model__kernel=linear;, score=0.207 total time=   0.6s\n",
      "[CV 3/10; 5/20] START model__C=1, model__coef0=0.5, model__degree=8, model__gamma=auto, model__kernel=linear\n",
      "[CV 1/10; 4/20] END model__C=5, model__coef0=0.01, model__degree=8, model__gamma=auto, model__kernel=sigmoid;, score=0.105 total time=   1.4s\n",
      "[CV 4/10; 5/20] START model__C=1, model__coef0=0.5, model__degree=8, model__gamma=auto, model__kernel=linear\n",
      "[CV 2/10; 5/20] END model__C=1, model__coef0=0.5, model__degree=8, model__gamma=auto, model__kernel=linear;, score=0.171 total time=   0.7s\n",
      "[CV 5/10; 5/20] START model__C=1, model__coef0=0.5, model__degree=8, model__gamma=auto, model__kernel=linear\n",
      "[CV 2/10; 4/20] END model__C=5, model__coef0=0.01, model__degree=8, model__gamma=auto, model__kernel=sigmoid;, score=0.190 total time=   1.4s\n",
      "[CV 6/10; 5/20] START model__C=1, model__coef0=0.5, model__degree=8, model__gamma=auto, model__kernel=linear\n",
      "[CV 5/10; 4/20] END model__C=5, model__coef0=0.01, model__degree=8, model__gamma=auto, model__kernel=sigmoid;, score=0.033 total time=   1.3s\n",
      "[CV 7/10; 5/20] START model__C=1, model__coef0=0.5, model__degree=8, model__gamma=auto, model__kernel=linear\n",
      "[CV 3/10; 4/20] END model__C=5, model__coef0=0.01, model__degree=8, model__gamma=auto, model__kernel=sigmoid;, score=0.188 total time=   1.4s[CV 6/10; 4/20] END model__C=5, model__coef0=0.01, model__degree=8, model__gamma=auto, model__kernel=sigmoid;, score=0.131 total time=   1.3s\n",
      "\n",
      "[CV 8/10; 5/20] START model__C=1, model__coef0=0.5, model__degree=8, model__gamma=auto, model__kernel=linear\n",
      "[CV 9/10; 5/20] START model__C=1, model__coef0=0.5, model__degree=8, model__gamma=auto, model__kernel=linear[CV 4/10; 4/20] END model__C=5, model__coef0=0.01, model__degree=8, model__gamma=auto, model__kernel=sigmoid;, score=0.114 total time=   1.4s\n",
      "\n",
      "[CV 10/10; 5/20] START model__C=1, model__coef0=0.5, model__degree=8, model__gamma=auto, model__kernel=linear\n",
      "[CV 7/10; 4/20] END model__C=5, model__coef0=0.01, model__degree=8, model__gamma=auto, model__kernel=sigmoid;, score=0.098 total time=   1.3s\n",
      "[CV 1/10; 6/20] START model__C=1, model__coef0=10, model__degree=3, model__gamma=auto, model__kernel=poly\n",
      "[CV 8/10; 4/20] END model__C=5, model__coef0=0.01, model__degree=8, model__gamma=auto, model__kernel=sigmoid;, score=0.036 total time=   1.2s\n",
      "[CV 2/10; 6/20] START model__C=1, model__coef0=10, model__degree=3, model__gamma=auto, model__kernel=poly\n",
      "[CV 10/10; 4/20] END model__C=5, model__coef0=0.01, model__degree=8, model__gamma=auto, model__kernel=sigmoid;, score=0.002 total time=   1.3s\n",
      "[CV 3/10; 6/20] START model__C=1, model__coef0=10, model__degree=3, model__gamma=auto, model__kernel=poly\n",
      "[CV 3/10; 5/20] END model__C=1, model__coef0=0.5, model__degree=8, model__gamma=auto, model__kernel=linear;, score=0.169 total time=   0.7s\n",
      "[CV 4/10; 6/20] START model__C=1, model__coef0=10, model__degree=3, model__gamma=auto, model__kernel=poly\n",
      "[CV 4/10; 5/20] END model__C=1, model__coef0=0.5, model__degree=8, model__gamma=auto, model__kernel=linear;, score=0.214 total time=   0.6s\n",
      "[CV 5/10; 6/20] START model__C=1, model__coef0=10, model__degree=3, model__gamma=auto, model__kernel=poly\n",
      "[CV 9/10; 4/20] END model__C=5, model__coef0=0.01, model__degree=8, model__gamma=auto, model__kernel=sigmoid;, score=0.171 total time=   1.4s\n",
      "[CV 5/10; 5/20] END model__C=1, model__coef0=0.5, model__degree=8, model__gamma=auto, model__kernel=linear;, score=0.274 total time=   0.6s\n",
      "[CV 6/10; 6/20] START model__C=1, model__coef0=10, model__degree=3, model__gamma=auto, model__kernel=poly\n",
      "[CV 7/10; 6/20] START model__C=1, model__coef0=10, model__degree=3, model__gamma=auto, model__kernel=poly\n",
      "[CV 7/10; 5/20] END model__C=1, model__coef0=0.5, model__degree=8, model__gamma=auto, model__kernel=linear;, score=0.157 total time=   0.7s\n",
      "[CV 8/10; 6/20] START model__C=1, model__coef0=10, model__degree=3, model__gamma=auto, model__kernel=poly\n",
      "[CV 8/10; 5/20] END model__C=1, model__coef0=0.5, model__degree=8, model__gamma=auto, model__kernel=linear;, score=0.233 total time=   0.6s\n",
      "[CV 9/10; 6/20] START model__C=1, model__coef0=10, model__degree=3, model__gamma=auto, model__kernel=poly\n",
      "[CV 10/10; 5/20] END model__C=1, model__coef0=0.5, model__degree=8, model__gamma=auto, model__kernel=linear;, score=0.276 total time=   0.7s\n",
      "[CV 6/10; 5/20] END model__C=1, model__coef0=0.5, model__degree=8, model__gamma=auto, model__kernel=linear;, score=0.205 total time=   0.7s\n",
      "[CV 10/10; 6/20] START model__C=1, model__coef0=10, model__degree=3, model__gamma=auto, model__kernel=poly\n",
      "[CV 1/10; 7/20] START model__C=5, model__coef0=10, model__degree=3, model__gamma=scale, model__kernel=linear\n",
      "[CV 9/10; 5/20] END model__C=1, model__coef0=0.5, model__degree=8, model__gamma=auto, model__kernel=linear;, score=0.210 total time=   0.8s\n",
      "[CV 2/10; 7/20] START model__C=5, model__coef0=10, model__degree=3, model__gamma=scale, model__kernel=linear\n",
      "[CV 1/10; 6/20] END model__C=1, model__coef0=10, model__degree=3, model__gamma=auto, model__kernel=poly;, score=0.252 total time=   0.8s\n",
      "[CV 3/10; 7/20] START model__C=5, model__coef0=10, model__degree=3, model__gamma=scale, model__kernel=linear\n",
      "[CV 2/10; 6/20] END model__C=1, model__coef0=10, model__degree=3, model__gamma=auto, model__kernel=poly;, score=0.150 total time=   0.8s\n",
      "[CV 4/10; 7/20] START model__C=5, model__coef0=10, model__degree=3, model__gamma=scale, model__kernel=linear\n",
      "[CV 3/10; 6/20] END model__C=1, model__coef0=10, model__degree=3, model__gamma=auto, model__kernel=poly;, score=0.169 total time=   0.9s\n",
      "[CV 5/10; 7/20] START model__C=5, model__coef0=10, model__degree=3, model__gamma=scale, model__kernel=linear\n",
      "[CV 5/10; 6/20] END model__C=1, model__coef0=10, model__degree=3, model__gamma=auto, model__kernel=poly;, score=0.224 total time=   0.8s\n",
      "[CV 4/10; 6/20] END model__C=1, model__coef0=10, model__degree=3, model__gamma=auto, model__kernel=poly;, score=0.217 total time=   0.9s\n",
      "[CV 6/10; 6/20] END model__C=1, model__coef0=10, model__degree=3, model__gamma=auto, model__kernel=poly;, score=0.210 total time=   0.8s\n",
      "[CV 6/10; 7/20] START model__C=5, model__coef0=10, model__degree=3, model__gamma=scale, model__kernel=linear\n",
      "[CV 7/10; 7/20] START model__C=5, model__coef0=10, model__degree=3, model__gamma=scale, model__kernel=linear\n",
      "[CV 8/10; 7/20] START model__C=5, model__coef0=10, model__degree=3, model__gamma=scale, model__kernel=linear\n",
      "[CV 7/10; 6/20] END model__C=1, model__coef0=10, model__degree=3, model__gamma=auto, model__kernel=poly;, score=0.152 total time=   0.8s\n",
      "[CV 9/10; 7/20] START model__C=5, model__coef0=10, model__degree=3, model__gamma=scale, model__kernel=linear\n",
      "[CV 1/10; 7/20] END model__C=5, model__coef0=10, model__degree=3, model__gamma=scale, model__kernel=linear;, score=0.207 total time=   0.7s\n",
      "[CV 10/10; 7/20] START model__C=5, model__coef0=10, model__degree=3, model__gamma=scale, model__kernel=linear\n",
      "[CV 8/10; 6/20] END model__C=1, model__coef0=10, model__degree=3, model__gamma=auto, model__kernel=poly;, score=0.252 total time=   0.8s\n",
      "[CV 1/10; 8/20] START model__C=1, model__coef0=10, model__degree=8, model__gamma=scale, model__kernel=linear\n",
      "[CV 9/10; 6/20] END model__C=1, model__coef0=10, model__degree=3, model__gamma=auto, model__kernel=poly;, score=0.236 total time=   0.8s\n",
      "[CV 2/10; 8/20] START model__C=1, model__coef0=10, model__degree=8, model__gamma=scale, model__kernel=linear\n",
      "[CV 2/10; 7/20] END model__C=5, model__coef0=10, model__degree=3, model__gamma=scale, model__kernel=linear;, score=0.176 total time=   0.7s\n",
      "[CV 10/10; 6/20] END model__C=1, model__coef0=10, model__degree=3, model__gamma=auto, model__kernel=poly;, score=0.324 total time=   0.8s\n",
      "[CV 3/10; 8/20] START model__C=1, model__coef0=10, model__degree=8, model__gamma=scale, model__kernel=linear[CV 4/10; 8/20] START model__C=1, model__coef0=10, model__degree=8, model__gamma=scale, model__kernel=linear\n",
      "\n",
      "[CV 3/10; 7/20] END model__C=5, model__coef0=10, model__degree=3, model__gamma=scale, model__kernel=linear;, score=0.173 total time=   0.7s\n",
      "[CV 5/10; 8/20] START model__C=1, model__coef0=10, model__degree=8, model__gamma=scale, model__kernel=linear\n",
      "[CV 4/10; 7/20] END model__C=5, model__coef0=10, model__degree=3, model__gamma=scale, model__kernel=linear;, score=0.212 total time=   0.7s\n",
      "[CV 6/10; 8/20] START model__C=1, model__coef0=10, model__degree=8, model__gamma=scale, model__kernel=linear\n",
      "[CV 5/10; 7/20] END model__C=5, model__coef0=10, model__degree=3, model__gamma=scale, model__kernel=linear;, score=0.271 total time=   0.7s\n",
      "[CV 7/10; 8/20] START model__C=1, model__coef0=10, model__degree=8, model__gamma=scale, model__kernel=linear\n",
      "[CV 10/10; 7/20] END model__C=5, model__coef0=10, model__degree=3, model__gamma=scale, model__kernel=linear;, score=0.276 total time=   0.6s\n",
      "[CV 9/10; 7/20] END model__C=5, model__coef0=10, model__degree=3, model__gamma=scale, model__kernel=linear;, score=0.210 total time=   0.7s\n",
      "[CV 8/10; 8/20] START model__C=1, model__coef0=10, model__degree=8, model__gamma=scale, model__kernel=linear\n",
      "[CV 6/10; 7/20] END model__C=5, model__coef0=10, model__degree=3, model__gamma=scale, model__kernel=linear;, score=0.202 total time=   0.7s\n",
      "[CV 9/10; 8/20] START model__C=1, model__coef0=10, model__degree=8, model__gamma=scale, model__kernel=linear\n",
      "[CV 10/10; 8/20] START model__C=1, model__coef0=10, model__degree=8, model__gamma=scale, model__kernel=linear\n",
      "[CV 7/10; 7/20] END model__C=5, model__coef0=10, model__degree=3, model__gamma=scale, model__kernel=linear;, score=0.157 total time=   0.7s\n",
      "[CV 8/10; 7/20] END model__C=5, model__coef0=10, model__degree=3, model__gamma=scale, model__kernel=linear;, score=0.236 total time=   0.7s\n",
      "[CV 1/10; 9/20] START model__C=1, model__coef0=0.01, model__degree=3, model__gamma=scale, model__kernel=sigmoid\n",
      "[CV 2/10; 9/20] START model__C=1, model__coef0=0.01, model__degree=3, model__gamma=scale, model__kernel=sigmoid\n",
      "[CV 1/10; 8/20] END model__C=1, model__coef0=10, model__degree=8, model__gamma=scale, model__kernel=linear;, score=0.207 total time=   0.6s\n",
      "[CV 3/10; 9/20] START model__C=1, model__coef0=0.01, model__degree=3, model__gamma=scale, model__kernel=sigmoid\n",
      "[CV 2/10; 8/20] END model__C=1, model__coef0=10, model__degree=8, model__gamma=scale, model__kernel=linear;, score=0.171 total time=   0.7s\n",
      "[CV 4/10; 9/20] START model__C=1, model__coef0=0.01, model__degree=3, model__gamma=scale, model__kernel=sigmoid\n",
      "[CV 4/10; 8/20] END model__C=1, model__coef0=10, model__degree=8, model__gamma=scale, model__kernel=linear;, score=0.214 total time=   0.7s\n",
      "[CV 3/10; 8/20] END model__C=1, model__coef0=10, model__degree=8, model__gamma=scale, model__kernel=linear;, score=0.169 total time=   0.7s\n",
      "[CV 5/10; 9/20] START model__C=1, model__coef0=0.01, model__degree=3, model__gamma=scale, model__kernel=sigmoid\n",
      "[CV 6/10; 9/20] START model__C=1, model__coef0=0.01, model__degree=3, model__gamma=scale, model__kernel=sigmoid\n",
      "[CV 5/10; 8/20] END model__C=1, model__coef0=10, model__degree=8, model__gamma=scale, model__kernel=linear;, score=0.274 total time=   0.6s\n",
      "[CV 7/10; 9/20] START model__C=1, model__coef0=0.01, model__degree=3, model__gamma=scale, model__kernel=sigmoid\n",
      "[CV 6/10; 8/20] END model__C=1, model__coef0=10, model__degree=8, model__gamma=scale, model__kernel=linear;, score=0.205 total time=   0.6s\n",
      "[CV 8/10; 9/20] START model__C=1, model__coef0=0.01, model__degree=3, model__gamma=scale, model__kernel=sigmoid\n",
      "[CV 7/10; 8/20] END model__C=1, model__coef0=10, model__degree=8, model__gamma=scale, model__kernel=linear;, score=0.157 total time=   0.6s\n",
      "[CV 9/10; 9/20] START model__C=1, model__coef0=0.01, model__degree=3, model__gamma=scale, model__kernel=sigmoid\n",
      "[CV 9/10; 8/20] END model__C=1, model__coef0=10, model__degree=8, model__gamma=scale, model__kernel=linear;, score=0.210 total time=   0.6s\n",
      "[CV 10/10; 9/20] START model__C=1, model__coef0=0.01, model__degree=3, model__gamma=scale, model__kernel=sigmoid\n",
      "[CV 8/10; 8/20] END model__C=1, model__coef0=10, model__degree=8, model__gamma=scale, model__kernel=linear;, score=0.233 total time=   0.7s\n",
      "[CV 1/10; 10/20] START model__C=1, model__coef0=0.01, model__degree=8, model__gamma=scale, model__kernel=rbf\n",
      "[CV 10/10; 8/20] END model__C=1, model__coef0=10, model__degree=8, model__gamma=scale, model__kernel=linear;, score=0.276 total time=   0.8s\n",
      "[CV 2/10; 10/20] START model__C=1, model__coef0=0.01, model__degree=8, model__gamma=scale, model__kernel=rbf\n",
      "[CV 1/10; 9/20] END model__C=1, model__coef0=0.01, model__degree=3, model__gamma=scale, model__kernel=sigmoid;, score=0.014 total time=   1.3s\n",
      "[CV 3/10; 10/20] START model__C=1, model__coef0=0.01, model__degree=8, model__gamma=scale, model__kernel=rbf\n",
      "[CV 3/10; 9/20] END model__C=1, model__coef0=0.01, model__degree=3, model__gamma=scale, model__kernel=sigmoid;, score=nan total time=   1.3s\n",
      "[CV 4/10; 10/20] START model__C=1, model__coef0=0.01, model__degree=8, model__gamma=scale, model__kernel=rbf\n",
      "[CV 4/10; 9/20] END model__C=1, model__coef0=0.01, model__degree=3, model__gamma=scale, model__kernel=sigmoid;, score=0.033 total time=   1.3s\n",
      "[CV 2/10; 9/20] END model__C=1, model__coef0=0.01, model__degree=3, model__gamma=scale, model__kernel=sigmoid;, score=0.007 total time=   1.4s\n",
      "[CV 5/10; 10/20] START model__C=1, model__coef0=0.01, model__degree=8, model__gamma=scale, model__kernel=rbf\n",
      "[CV 6/10; 10/20] START model__C=1, model__coef0=0.01, model__degree=8, model__gamma=scale, model__kernel=rbf\n",
      "[CV 6/10; 9/20] END model__C=1, model__coef0=0.01, model__degree=3, model__gamma=scale, model__kernel=sigmoid;, score=0.071 total time=   1.3s\n",
      "[CV 7/10; 10/20] START model__C=1, model__coef0=0.01, model__degree=8, model__gamma=scale, model__kernel=rbf\n",
      "[CV 7/10; 9/20] END model__C=1, model__coef0=0.01, model__degree=3, model__gamma=scale, model__kernel=sigmoid;, score=0.012 total time=   1.2s\n",
      "[CV 5/10; 9/20] END model__C=1, model__coef0=0.01, model__degree=3, model__gamma=scale, model__kernel=sigmoid;, score=0.069 total time=   1.3s\n",
      "[CV 8/10; 10/20] START model__C=1, model__coef0=0.01, model__degree=8, model__gamma=scale, model__kernel=rbf\n",
      "[CV 9/10; 10/20] START model__C=1, model__coef0=0.01, model__degree=8, model__gamma=scale, model__kernel=rbf\n"
     ]
    },
    {
     "name": "stderr",
     "output_type": "stream",
     "text": [
      "/home/meow/.local/lib/python3.10/site-packages/sklearn/model_selection/_validation.py:821: UserWarning: Scoring failed. The score on this train-test partition for these parameters will be set to nan. Details: \n",
      "Traceback (most recent call last):\n",
      "  File \"/home/meow/.local/lib/python3.10/site-packages/sklearn/model_selection/_validation.py\", line 810, in _score\n",
      "    scores = scorer(estimator, X_test, y_test)\n",
      "  File \"/home/meow/.local/lib/python3.10/site-packages/sklearn/metrics/_scorer.py\", line 266, in __call__\n",
      "    return self._score(partial(_cached_call, None), estimator, X, y_true, **_kwargs)\n",
      "  File \"/home/meow/.local/lib/python3.10/site-packages/sklearn/metrics/_scorer.py\", line 355, in _score\n",
      "    return self._sign * self._score_func(y_true, y_pred, **scoring_kwargs)\n",
      "  File \"/tmp/ipykernel_230/1665397672.py\", line 11, in get_score\n",
      "TypeError: unsupported operand type(s) for /: 'NoneType' and 'int'\n",
      "\n",
      "  warnings.warn(\n"
     ]
    },
    {
     "name": "stdout",
     "output_type": "stream",
     "text": [
      "[CV 1/10; 10/20] END model__C=1, model__coef0=0.01, model__degree=8, model__gamma=scale, model__kernel=rbf;, score=0.192 total time=   1.0s\n",
      "[CV 10/10; 10/20] START model__C=1, model__coef0=0.01, model__degree=8, model__gamma=scale, model__kernel=rbf\n",
      "[CV 8/10; 9/20] END model__C=1, model__coef0=0.01, model__degree=3, model__gamma=scale, model__kernel=sigmoid;, score=0.019 total time=   1.3s\n",
      "[CV 1/10; 11/20] START model__C=5, model__coef0=10, model__degree=8, model__gamma=auto, model__kernel=rbf\n",
      "[CV 2/10; 10/20] END model__C=1, model__coef0=0.01, model__degree=8, model__gamma=scale, model__kernel=rbf;, score=0.147 total time=   1.0s\n",
      "[CV 2/10; 11/20] START model__C=5, model__coef0=10, model__degree=8, model__gamma=auto, model__kernel=rbf\n",
      "[CV 9/10; 9/20] END model__C=1, model__coef0=0.01, model__degree=3, model__gamma=scale, model__kernel=sigmoid;, score=0.005 total time=   1.3s\n",
      "[CV 3/10; 11/20] START model__C=5, model__coef0=10, model__degree=8, model__gamma=auto, model__kernel=rbf\n",
      "[CV 10/10; 9/20] END model__C=1, model__coef0=0.01, model__degree=3, model__gamma=scale, model__kernel=sigmoid;, score=0.024 total time=   1.3s\n",
      "[CV 4/10; 11/20] START model__C=5, model__coef0=10, model__degree=8, model__gamma=auto, model__kernel=rbf\n",
      "[CV 3/10; 10/20] END model__C=1, model__coef0=0.01, model__degree=8, model__gamma=scale, model__kernel=rbf;, score=0.150 total time=   1.0s\n",
      "[CV 5/10; 11/20] START model__C=5, model__coef0=10, model__degree=8, model__gamma=auto, model__kernel=rbf\n",
      "[CV 4/10; 10/20] END model__C=1, model__coef0=0.01, model__degree=8, model__gamma=scale, model__kernel=rbf;, score=0.231 total time=   1.0s\n",
      "[CV 6/10; 11/20] START model__C=5, model__coef0=10, model__degree=8, model__gamma=auto, model__kernel=rbf\n",
      "[CV 6/10; 10/20] END model__C=1, model__coef0=0.01, model__degree=8, model__gamma=scale, model__kernel=rbf;, score=0.245 total time=   1.1s[CV 5/10; 10/20] END model__C=1, model__coef0=0.01, model__degree=8, model__gamma=scale, model__kernel=rbf;, score=0.224 total time=   1.1s\n",
      "\n",
      "[CV 7/10; 11/20] START model__C=5, model__coef0=10, model__degree=8, model__gamma=auto, model__kernel=rbf\n",
      "[CV 9/10; 10/20] END model__C=1, model__coef0=0.01, model__degree=8, model__gamma=scale, model__kernel=rbf;, score=0.200 total time=   1.1s\n",
      "[CV 8/10; 11/20] START model__C=5, model__coef0=10, model__degree=8, model__gamma=auto, model__kernel=rbf\n",
      "[CV 8/10; 10/20] END model__C=1, model__coef0=0.01, model__degree=8, model__gamma=scale, model__kernel=rbf;, score=0.262 total time=   1.1s\n",
      "[CV 9/10; 11/20] START model__C=5, model__coef0=10, model__degree=8, model__gamma=auto, model__kernel=rbf\n",
      "[CV 10/10; 11/20] START model__C=5, model__coef0=10, model__degree=8, model__gamma=auto, model__kernel=rbf\n",
      "[CV 7/10; 10/20] END model__C=1, model__coef0=0.01, model__degree=8, model__gamma=scale, model__kernel=rbf;, score=0.176 total time=   1.1s\n",
      "[CV 1/10; 12/20] START model__C=10, model__coef0=10, model__degree=3, model__gamma=scale, model__kernel=poly\n",
      "[CV 1/10; 11/20] END model__C=5, model__coef0=10, model__degree=8, model__gamma=auto, model__kernel=rbf;, score=0.235 total time=   1.0s\n",
      "[CV 2/10; 12/20] START model__C=10, model__coef0=10, model__degree=3, model__gamma=scale, model__kernel=poly\n",
      "[CV 10/10; 10/20] END model__C=1, model__coef0=0.01, model__degree=8, model__gamma=scale, model__kernel=rbf;, score=0.243 total time=   1.1s\n",
      "[CV 3/10; 12/20] START model__C=10, model__coef0=10, model__degree=3, model__gamma=scale, model__kernel=poly\n",
      "[CV 3/10; 11/20] END model__C=5, model__coef0=10, model__degree=8, model__gamma=auto, model__kernel=rbf;, score=0.162 total time=   1.0s\n",
      "[CV 4/10; 12/20] START model__C=10, model__coef0=10, model__degree=3, model__gamma=scale, model__kernel=poly\n",
      "[CV 4/10; 11/20] END model__C=5, model__coef0=10, model__degree=8, model__gamma=auto, model__kernel=rbf;, score=0.214 total time=   1.0s\n",
      "[CV 5/10; 12/20] START model__C=10, model__coef0=10, model__degree=3, model__gamma=scale, model__kernel=poly\n",
      "[CV 2/10; 11/20] END model__C=5, model__coef0=10, model__degree=8, model__gamma=auto, model__kernel=rbf;, score=0.140 total time=   1.2s\n",
      "[CV 6/10; 12/20] START model__C=10, model__coef0=10, model__degree=3, model__gamma=scale, model__kernel=poly\n",
      "[CV 5/10; 11/20] END model__C=5, model__coef0=10, model__degree=8, model__gamma=auto, model__kernel=rbf;, score=0.233 total time=   1.0s\n",
      "[CV 7/10; 12/20] START model__C=10, model__coef0=10, model__degree=3, model__gamma=scale, model__kernel=poly\n",
      "[CV 6/10; 11/20] END model__C=5, model__coef0=10, model__degree=8, model__gamma=auto, model__kernel=rbf;, score=0.236 total time=   1.0s\n",
      "[CV 8/10; 12/20] START model__C=10, model__coef0=10, model__degree=3, model__gamma=scale, model__kernel=poly\n",
      "[CV 9/10; 11/20] END model__C=5, model__coef0=10, model__degree=8, model__gamma=auto, model__kernel=rbf;, score=0.214 total time=   1.0s\n",
      "[CV 8/10; 11/20] END model__C=5, model__coef0=10, model__degree=8, model__gamma=auto, model__kernel=rbf;, score=0.248 total time=   1.0s\n",
      "[CV 9/10; 12/20] START model__C=10, model__coef0=10, model__degree=3, model__gamma=scale, model__kernel=poly\n",
      "[CV 10/10; 12/20] START model__C=10, model__coef0=10, model__degree=3, model__gamma=scale, model__kernel=poly\n",
      "[CV 7/10; 11/20] END model__C=5, model__coef0=10, model__degree=8, model__gamma=auto, model__kernel=rbf;, score=0.169 total time=   1.0s\n",
      "[CV 1/10; 13/20] START model__C=10, model__coef0=10, model__degree=8, model__gamma=auto, model__kernel=poly\n",
      "[CV 10/10; 11/20] END model__C=5, model__coef0=10, model__degree=8, model__gamma=auto, model__kernel=rbf;, score=0.290 total time=   1.1s\n",
      "[CV 2/10; 13/20] START model__C=10, model__coef0=10, model__degree=8, model__gamma=auto, model__kernel=poly\n",
      "[CV 5/10; 12/20] END model__C=10, model__coef0=10, model__degree=3, model__gamma=scale, model__kernel=poly;, score=0.224 total time=   3.4s\n",
      "[CV 3/10; 13/20] START model__C=10, model__coef0=10, model__degree=8, model__gamma=auto, model__kernel=poly\n",
      "[CV 4/10; 12/20] END model__C=10, model__coef0=10, model__degree=3, model__gamma=scale, model__kernel=poly;, score=0.212 total time=   3.6s\n",
      "[CV 4/10; 13/20] START model__C=10, model__coef0=10, model__degree=8, model__gamma=auto, model__kernel=poly\n",
      "[CV 3/10; 12/20] END model__C=10, model__coef0=10, model__degree=3, model__gamma=scale, model__kernel=poly;, score=0.095 total time=   4.0s\n",
      "[CV 5/10; 13/20] START model__C=10, model__coef0=10, model__degree=8, model__gamma=auto, model__kernel=poly\n",
      "[CV 6/10; 12/20] END model__C=10, model__coef0=10, model__degree=3, model__gamma=scale, model__kernel=poly;, score=0.238 total time=   3.8s\n",
      "[CV 6/10; 13/20] START model__C=10, model__coef0=10, model__degree=8, model__gamma=auto, model__kernel=poly\n",
      "[CV 2/10; 12/20] END model__C=10, model__coef0=10, model__degree=3, model__gamma=scale, model__kernel=poly;, score=0.100 total time=   4.4s\n",
      "[CV 7/10; 13/20] START model__C=10, model__coef0=10, model__degree=8, model__gamma=auto, model__kernel=poly\n",
      "[CV 8/10; 12/20] END model__C=10, model__coef0=10, model__degree=3, model__gamma=scale, model__kernel=poly;, score=0.255 total time=   3.7s\n",
      "[CV 8/10; 13/20] START model__C=10, model__coef0=10, model__degree=8, model__gamma=auto, model__kernel=poly\n",
      "[CV 7/10; 12/20] END model__C=10, model__coef0=10, model__degree=3, model__gamma=scale, model__kernel=poly;, score=0.150 total time=   3.9s\n",
      "[CV 9/10; 13/20] START model__C=10, model__coef0=10, model__degree=8, model__gamma=auto, model__kernel=poly\n",
      "[CV 1/10; 12/20] END model__C=10, model__coef0=10, model__degree=3, model__gamma=scale, model__kernel=poly;, score=0.257 total time=   5.0s\n",
      "[CV 10/10; 13/20] START model__C=10, model__coef0=10, model__degree=8, model__gamma=auto, model__kernel=poly\n",
      "[CV 9/10; 12/20] END model__C=10, model__coef0=10, model__degree=3, model__gamma=scale, model__kernel=poly;, score=0.198 total time=   4.1s\n",
      "[CV 1/10; 14/20] START model__C=10, model__coef0=0.01, model__degree=3, model__gamma=scale, model__kernel=poly\n",
      "[CV 10/10; 12/20] END model__C=10, model__coef0=10, model__degree=3, model__gamma=scale, model__kernel=poly;, score=0.245 total time=   4.1s\n",
      "[CV 2/10; 14/20] START model__C=10, model__coef0=0.01, model__degree=3, model__gamma=scale, model__kernel=poly\n",
      "[CV 1/10; 14/20] END model__C=10, model__coef0=0.01, model__degree=3, model__gamma=scale, model__kernel=poly;, score=0.223 total time=   0.9s\n",
      "[CV 3/10; 14/20] START model__C=10, model__coef0=0.01, model__degree=3, model__gamma=scale, model__kernel=poly\n",
      "[CV 2/10; 14/20] END model__C=10, model__coef0=0.01, model__degree=3, model__gamma=scale, model__kernel=poly;, score=0.071 total time=   1.0s\n",
      "[CV 4/10; 14/20] START model__C=10, model__coef0=0.01, model__degree=3, model__gamma=scale, model__kernel=poly\n",
      "[CV 3/10; 14/20] END model__C=10, model__coef0=0.01, model__degree=3, model__gamma=scale, model__kernel=poly;, score=0.095 total time=   0.9s\n",
      "[CV 5/10; 14/20] START model__C=10, model__coef0=0.01, model__degree=3, model__gamma=scale, model__kernel=poly\n",
      "[CV 4/10; 14/20] END model__C=10, model__coef0=0.01, model__degree=3, model__gamma=scale, model__kernel=poly;, score=0.200 total time=   1.0s\n",
      "[CV 6/10; 14/20] START model__C=10, model__coef0=0.01, model__degree=3, model__gamma=scale, model__kernel=poly\n",
      "[CV 5/10; 14/20] END model__C=10, model__coef0=0.01, model__degree=3, model__gamma=scale, model__kernel=poly;, score=0.219 total time=   1.0s\n",
      "[CV 7/10; 14/20] START model__C=10, model__coef0=0.01, model__degree=3, model__gamma=scale, model__kernel=poly\n",
      "[CV 6/10; 14/20] END model__C=10, model__coef0=0.01, model__degree=3, model__gamma=scale, model__kernel=poly;, score=0.264 total time=   0.9s\n",
      "[CV 8/10; 14/20] START model__C=10, model__coef0=0.01, model__degree=3, model__gamma=scale, model__kernel=poly\n",
      "[CV 7/10; 14/20] END model__C=10, model__coef0=0.01, model__degree=3, model__gamma=scale, model__kernel=poly;, score=0.171 total time=   0.9s\n",
      "[CV 9/10; 14/20] START model__C=10, model__coef0=0.01, model__degree=3, model__gamma=scale, model__kernel=poly\n",
      "[CV 8/10; 14/20] END model__C=10, model__coef0=0.01, model__degree=3, model__gamma=scale, model__kernel=poly;, score=0.262 total time=   0.9s\n",
      "[CV 10/10; 14/20] START model__C=10, model__coef0=0.01, model__degree=3, model__gamma=scale, model__kernel=poly\n",
      "[CV 9/10; 14/20] END model__C=10, model__coef0=0.01, model__degree=3, model__gamma=scale, model__kernel=poly;, score=0.240 total time=   0.9s\n",
      "[CV 1/10; 15/20] START model__C=1, model__coef0=0.01, model__degree=3, model__gamma=scale, model__kernel=rbf\n",
      "[CV 10/10; 14/20] END model__C=10, model__coef0=0.01, model__degree=3, model__gamma=scale, model__kernel=poly;, score=0.257 total time=   0.9s\n",
      "[CV 2/10; 15/20] START model__C=1, model__coef0=0.01, model__degree=3, model__gamma=scale, model__kernel=rbf\n",
      "[CV 1/10; 15/20] END model__C=1, model__coef0=0.01, model__degree=3, model__gamma=scale, model__kernel=rbf;, score=0.192 total time=   1.0s\n",
      "[CV 3/10; 15/20] START model__C=1, model__coef0=0.01, model__degree=3, model__gamma=scale, model__kernel=rbf\n",
      "[CV 2/10; 15/20] END model__C=1, model__coef0=0.01, model__degree=3, model__gamma=scale, model__kernel=rbf;, score=0.147 total time=   1.0s\n",
      "[CV 4/10; 15/20] START model__C=1, model__coef0=0.01, model__degree=3, model__gamma=scale, model__kernel=rbf\n",
      "[CV 3/10; 15/20] END model__C=1, model__coef0=0.01, model__degree=3, model__gamma=scale, model__kernel=rbf;, score=0.150 total time=   1.0s\n",
      "[CV 5/10; 15/20] START model__C=1, model__coef0=0.01, model__degree=3, model__gamma=scale, model__kernel=rbf\n",
      "[CV 4/10; 15/20] END model__C=1, model__coef0=0.01, model__degree=3, model__gamma=scale, model__kernel=rbf;, score=0.231 total time=   1.1s\n",
      "[CV 6/10; 15/20] START model__C=1, model__coef0=0.01, model__degree=3, model__gamma=scale, model__kernel=rbf\n",
      "[CV 5/10; 15/20] END model__C=1, model__coef0=0.01, model__degree=3, model__gamma=scale, model__kernel=rbf;, score=0.224 total time=   1.0s\n",
      "[CV 7/10; 15/20] START model__C=1, model__coef0=0.01, model__degree=3, model__gamma=scale, model__kernel=rbf\n",
      "[CV 6/10; 15/20] END model__C=1, model__coef0=0.01, model__degree=3, model__gamma=scale, model__kernel=rbf;, score=0.245 total time=   1.0s\n",
      "[CV 8/10; 15/20] START model__C=1, model__coef0=0.01, model__degree=3, model__gamma=scale, model__kernel=rbf\n",
      "[CV 7/10; 15/20] END model__C=1, model__coef0=0.01, model__degree=3, model__gamma=scale, model__kernel=rbf;, score=0.176 total time=   1.1s\n",
      "[CV 9/10; 15/20] START model__C=1, model__coef0=0.01, model__degree=3, model__gamma=scale, model__kernel=rbf\n",
      "[CV 8/10; 15/20] END model__C=1, model__coef0=0.01, model__degree=3, model__gamma=scale, model__kernel=rbf;, score=0.262 total time=   1.0s\n",
      "[CV 10/10; 15/20] START model__C=1, model__coef0=0.01, model__degree=3, model__gamma=scale, model__kernel=rbf\n",
      "[CV 10/10; 15/20] END model__C=1, model__coef0=0.01, model__degree=3, model__gamma=scale, model__kernel=rbf;, score=0.243 total time=   1.0s\n",
      "[CV 1/10; 16/20] START model__C=5, model__coef0=0.5, model__degree=3, model__gamma=scale, model__kernel=linear\n",
      "[CV 9/10; 15/20] END model__C=1, model__coef0=0.01, model__degree=3, model__gamma=scale, model__kernel=rbf;, score=0.200 total time=   1.0s\n",
      "[CV 2/10; 16/20] START model__C=5, model__coef0=0.5, model__degree=3, model__gamma=scale, model__kernel=linear\n",
      "[CV 1/10; 16/20] END model__C=5, model__coef0=0.5, model__degree=3, model__gamma=scale, model__kernel=linear;, score=0.207 total time=   0.7s\n",
      "[CV 3/10; 16/20] START model__C=5, model__coef0=0.5, model__degree=3, model__gamma=scale, model__kernel=linear\n",
      "[CV 2/10; 16/20] END model__C=5, model__coef0=0.5, model__degree=3, model__gamma=scale, model__kernel=linear;, score=0.176 total time=   0.7s\n",
      "[CV 4/10; 16/20] START model__C=5, model__coef0=0.5, model__degree=3, model__gamma=scale, model__kernel=linear\n",
      "[CV 3/10; 16/20] END model__C=5, model__coef0=0.5, model__degree=3, model__gamma=scale, model__kernel=linear;, score=0.173 total time=   0.9s\n",
      "[CV 5/10; 16/20] START model__C=5, model__coef0=0.5, model__degree=3, model__gamma=scale, model__kernel=linear\n",
      "[CV 4/10; 16/20] END model__C=5, model__coef0=0.5, model__degree=3, model__gamma=scale, model__kernel=linear;, score=0.212 total time=   1.0s\n",
      "[CV 6/10; 16/20] START model__C=5, model__coef0=0.5, model__degree=3, model__gamma=scale, model__kernel=linear\n",
      "[CV 5/10; 16/20] END model__C=5, model__coef0=0.5, model__degree=3, model__gamma=scale, model__kernel=linear;, score=0.271 total time=   0.9s\n",
      "[CV 7/10; 16/20] START model__C=5, model__coef0=0.5, model__degree=3, model__gamma=scale, model__kernel=linear\n",
      "[CV 6/10; 16/20] END model__C=5, model__coef0=0.5, model__degree=3, model__gamma=scale, model__kernel=linear;, score=0.202 total time=   0.9s\n",
      "[CV 8/10; 16/20] START model__C=5, model__coef0=0.5, model__degree=3, model__gamma=scale, model__kernel=linear\n",
      "[CV 7/10; 16/20] END model__C=5, model__coef0=0.5, model__degree=3, model__gamma=scale, model__kernel=linear;, score=0.157 total time=   0.9s\n",
      "[CV 9/10; 16/20] START model__C=5, model__coef0=0.5, model__degree=3, model__gamma=scale, model__kernel=linear\n",
      "[CV 8/10; 16/20] END model__C=5, model__coef0=0.5, model__degree=3, model__gamma=scale, model__kernel=linear;, score=0.236 total time=   0.8s\n",
      "[CV 10/10; 16/20] START model__C=5, model__coef0=0.5, model__degree=3, model__gamma=scale, model__kernel=linear\n",
      "[CV 9/10; 16/20] END model__C=5, model__coef0=0.5, model__degree=3, model__gamma=scale, model__kernel=linear;, score=0.210 total time=   0.9s\n",
      "[CV 1/10; 17/20] START model__C=1, model__coef0=10, model__degree=3, model__gamma=auto, model__kernel=rbf\n",
      "[CV 10/10; 16/20] END model__C=5, model__coef0=0.5, model__degree=3, model__gamma=scale, model__kernel=linear;, score=0.276 total time=   0.9s\n",
      "[CV 2/10; 17/20] START model__C=1, model__coef0=10, model__degree=3, model__gamma=auto, model__kernel=rbf\n",
      "[CV 1/10; 17/20] END model__C=1, model__coef0=10, model__degree=3, model__gamma=auto, model__kernel=rbf;, score=0.235 total time=   1.1s\n",
      "[CV 3/10; 17/20] START model__C=1, model__coef0=10, model__degree=3, model__gamma=auto, model__kernel=rbf\n",
      "[CV 2/10; 17/20] END model__C=1, model__coef0=10, model__degree=3, model__gamma=auto, model__kernel=rbf;, score=0.135 total time=   1.7s\n",
      "[CV 4/10; 17/20] START model__C=1, model__coef0=10, model__degree=3, model__gamma=auto, model__kernel=rbf\n",
      "[CV 3/10; 17/20] END model__C=1, model__coef0=10, model__degree=3, model__gamma=auto, model__kernel=rbf;, score=0.164 total time=   1.2s\n",
      "[CV 5/10; 17/20] START model__C=1, model__coef0=10, model__degree=3, model__gamma=auto, model__kernel=rbf\n",
      "[CV 5/10; 17/20] END model__C=1, model__coef0=10, model__degree=3, model__gamma=auto, model__kernel=rbf;, score=0.245 total time=   1.1s\n",
      "[CV 6/10; 17/20] START model__C=1, model__coef0=10, model__degree=3, model__gamma=auto, model__kernel=rbf\n",
      "[CV 4/10; 17/20] END model__C=1, model__coef0=10, model__degree=3, model__gamma=auto, model__kernel=rbf;, score=0.212 total time=   1.8s\n",
      "[CV 7/10; 17/20] START model__C=1, model__coef0=10, model__degree=3, model__gamma=auto, model__kernel=rbf\n",
      "[CV 6/10; 17/20] END model__C=1, model__coef0=10, model__degree=3, model__gamma=auto, model__kernel=rbf;, score=0.252 total time=   1.1s\n",
      "[CV 8/10; 17/20] START model__C=1, model__coef0=10, model__degree=3, model__gamma=auto, model__kernel=rbf\n",
      "[CV 7/10; 17/20] END model__C=1, model__coef0=10, model__degree=3, model__gamma=auto, model__kernel=rbf;, score=0.155 total time=   1.9s\n",
      "[CV 9/10; 17/20] START model__C=1, model__coef0=10, model__degree=3, model__gamma=auto, model__kernel=rbf\n",
      "[CV 8/10; 17/20] END model__C=1, model__coef0=10, model__degree=3, model__gamma=auto, model__kernel=rbf;, score=0.243 total time=   1.2s\n",
      "[CV 10/10; 17/20] START model__C=1, model__coef0=10, model__degree=3, model__gamma=auto, model__kernel=rbf\n",
      "[CV 10/10; 17/20] END model__C=1, model__coef0=10, model__degree=3, model__gamma=auto, model__kernel=rbf;, score=0.279 total time=   1.2s\n",
      "[CV 1/10; 18/20] START model__C=10, model__coef0=0.01, model__degree=8, model__gamma=scale, model__kernel=sigmoid\n",
      "[CV 9/10; 17/20] END model__C=1, model__coef0=10, model__degree=3, model__gamma=auto, model__kernel=rbf;, score=0.205 total time=   2.3s\n",
      "[CV 2/10; 18/20] START model__C=10, model__coef0=0.01, model__degree=8, model__gamma=scale, model__kernel=sigmoid\n"
     ]
    },
    {
     "name": "stderr",
     "output_type": "stream",
     "text": [
      "/home/meow/.local/lib/python3.10/site-packages/sklearn/model_selection/_validation.py:821: UserWarning: Scoring failed. The score on this train-test partition for these parameters will be set to nan. Details: \n",
      "Traceback (most recent call last):\n",
      "  File \"/home/meow/.local/lib/python3.10/site-packages/sklearn/model_selection/_validation.py\", line 810, in _score\n",
      "    scores = scorer(estimator, X_test, y_test)\n",
      "  File \"/home/meow/.local/lib/python3.10/site-packages/sklearn/metrics/_scorer.py\", line 266, in __call__\n",
      "    return self._score(partial(_cached_call, None), estimator, X, y_true, **_kwargs)\n",
      "  File \"/home/meow/.local/lib/python3.10/site-packages/sklearn/metrics/_scorer.py\", line 355, in _score\n",
      "    return self._sign * self._score_func(y_true, y_pred, **scoring_kwargs)\n",
      "  File \"/tmp/ipykernel_230/1665397672.py\", line 11, in get_score\n",
      "TypeError: unsupported operand type(s) for /: 'NoneType' and 'int'\n",
      "\n",
      "  warnings.warn(\n"
     ]
    },
    {
     "name": "stdout",
     "output_type": "stream",
     "text": [
      "[CV 1/10; 18/20] END model__C=10, model__coef0=0.01, model__degree=8, model__gamma=scale, model__kernel=sigmoid;, score=nan total time=   1.6s\n",
      "[CV 3/10; 18/20] START model__C=10, model__coef0=0.01, model__degree=8, model__gamma=scale, model__kernel=sigmoid\n"
     ]
    },
    {
     "name": "stderr",
     "output_type": "stream",
     "text": [
      "/home/meow/.local/lib/python3.10/site-packages/sklearn/model_selection/_validation.py:821: UserWarning: Scoring failed. The score on this train-test partition for these parameters will be set to nan. Details: \n",
      "Traceback (most recent call last):\n",
      "  File \"/home/meow/.local/lib/python3.10/site-packages/sklearn/model_selection/_validation.py\", line 810, in _score\n",
      "    scores = scorer(estimator, X_test, y_test)\n",
      "  File \"/home/meow/.local/lib/python3.10/site-packages/sklearn/metrics/_scorer.py\", line 266, in __call__\n",
      "    return self._score(partial(_cached_call, None), estimator, X, y_true, **_kwargs)\n",
      "  File \"/home/meow/.local/lib/python3.10/site-packages/sklearn/metrics/_scorer.py\", line 355, in _score\n",
      "    return self._sign * self._score_func(y_true, y_pred, **scoring_kwargs)\n",
      "  File \"/tmp/ipykernel_230/1665397672.py\", line 11, in get_score\n",
      "TypeError: unsupported operand type(s) for /: 'NoneType' and 'int'\n",
      "\n",
      "  warnings.warn(\n",
      "/home/meow/.local/lib/python3.10/site-packages/sklearn/model_selection/_validation.py:821: UserWarning: Scoring failed. The score on this train-test partition for these parameters will be set to nan. Details: \n",
      "Traceback (most recent call last):\n",
      "  File \"/home/meow/.local/lib/python3.10/site-packages/sklearn/model_selection/_validation.py\", line 810, in _score\n",
      "    scores = scorer(estimator, X_test, y_test)\n",
      "  File \"/home/meow/.local/lib/python3.10/site-packages/sklearn/metrics/_scorer.py\", line 266, in __call__\n",
      "    return self._score(partial(_cached_call, None), estimator, X, y_true, **_kwargs)\n",
      "  File \"/home/meow/.local/lib/python3.10/site-packages/sklearn/metrics/_scorer.py\", line 355, in _score\n",
      "    return self._sign * self._score_func(y_true, y_pred, **scoring_kwargs)\n",
      "  File \"/tmp/ipykernel_230/1665397672.py\", line 11, in get_score\n",
      "TypeError: unsupported operand type(s) for /: 'NoneType' and 'int'\n",
      "\n",
      "  warnings.warn(\n"
     ]
    },
    {
     "name": "stdout",
     "output_type": "stream",
     "text": [
      "[CV 3/10; 18/20] END model__C=10, model__coef0=0.01, model__degree=8, model__gamma=scale, model__kernel=sigmoid;, score=nan total time=   1.7s\n",
      "[CV 4/10; 18/20] START model__C=10, model__coef0=0.01, model__degree=8, model__gamma=scale, model__kernel=sigmoid\n",
      "[CV 2/10; 18/20] END model__C=10, model__coef0=0.01, model__degree=8, model__gamma=scale, model__kernel=sigmoid;, score=nan total time=   2.6s\n",
      "[CV 5/10; 18/20] START model__C=10, model__coef0=0.01, model__degree=8, model__gamma=scale, model__kernel=sigmoid\n"
     ]
    },
    {
     "name": "stderr",
     "output_type": "stream",
     "text": [
      "/home/meow/.local/lib/python3.10/site-packages/sklearn/model_selection/_validation.py:821: UserWarning: Scoring failed. The score on this train-test partition for these parameters will be set to nan. Details: \n",
      "Traceback (most recent call last):\n",
      "  File \"/home/meow/.local/lib/python3.10/site-packages/sklearn/model_selection/_validation.py\", line 810, in _score\n",
      "    scores = scorer(estimator, X_test, y_test)\n",
      "  File \"/home/meow/.local/lib/python3.10/site-packages/sklearn/metrics/_scorer.py\", line 266, in __call__\n",
      "    return self._score(partial(_cached_call, None), estimator, X, y_true, **_kwargs)\n",
      "  File \"/home/meow/.local/lib/python3.10/site-packages/sklearn/metrics/_scorer.py\", line 355, in _score\n",
      "    return self._sign * self._score_func(y_true, y_pred, **scoring_kwargs)\n",
      "  File \"/tmp/ipykernel_230/1665397672.py\", line 11, in get_score\n",
      "TypeError: unsupported operand type(s) for /: 'NoneType' and 'int'\n",
      "\n",
      "  warnings.warn(\n"
     ]
    },
    {
     "name": "stdout",
     "output_type": "stream",
     "text": [
      "[CV 4/10; 18/20] END model__C=10, model__coef0=0.01, model__degree=8, model__gamma=scale, model__kernel=sigmoid;, score=nan total time=   1.6s\n",
      "[CV 6/10; 18/20] START model__C=10, model__coef0=0.01, model__degree=8, model__gamma=scale, model__kernel=sigmoid\n",
      "[CV 5/10; 18/20] END model__C=10, model__coef0=0.01, model__degree=8, model__gamma=scale, model__kernel=sigmoid;, score=0.002 total time=   2.9s\n",
      "[CV 7/10; 18/20] START model__C=10, model__coef0=0.01, model__degree=8, model__gamma=scale, model__kernel=sigmoid\n",
      "[CV 6/10; 18/20] END model__C=10, model__coef0=0.01, model__degree=8, model__gamma=scale, model__kernel=sigmoid;, score=0.012 total time=   1.6s\n",
      "[CV 8/10; 18/20] START model__C=10, model__coef0=0.01, model__degree=8, model__gamma=scale, model__kernel=sigmoid\n",
      "[CV 8/10; 18/20] END model__C=10, model__coef0=0.01, model__degree=8, model__gamma=scale, model__kernel=sigmoid;, score=0.002 total time=   1.9s\n",
      "[CV 9/10; 18/20] START model__C=10, model__coef0=0.01, model__degree=8, model__gamma=scale, model__kernel=sigmoid\n",
      "[CV 7/10; 18/20] END model__C=10, model__coef0=0.01, model__degree=8, model__gamma=scale, model__kernel=sigmoid;, score=0.002 total time=   2.2s\n",
      "[CV 10/10; 18/20] START model__C=10, model__coef0=0.01, model__degree=8, model__gamma=scale, model__kernel=sigmoid\n"
     ]
    },
    {
     "name": "stderr",
     "output_type": "stream",
     "text": [
      "/home/meow/.local/lib/python3.10/site-packages/sklearn/model_selection/_validation.py:821: UserWarning: Scoring failed. The score on this train-test partition for these parameters will be set to nan. Details: \n",
      "Traceback (most recent call last):\n",
      "  File \"/home/meow/.local/lib/python3.10/site-packages/sklearn/model_selection/_validation.py\", line 810, in _score\n",
      "    scores = scorer(estimator, X_test, y_test)\n",
      "  File \"/home/meow/.local/lib/python3.10/site-packages/sklearn/metrics/_scorer.py\", line 266, in __call__\n",
      "    return self._score(partial(_cached_call, None), estimator, X, y_true, **_kwargs)\n",
      "  File \"/home/meow/.local/lib/python3.10/site-packages/sklearn/metrics/_scorer.py\", line 355, in _score\n",
      "    return self._sign * self._score_func(y_true, y_pred, **scoring_kwargs)\n",
      "  File \"/tmp/ipykernel_230/1665397672.py\", line 11, in get_score\n",
      "TypeError: unsupported operand type(s) for /: 'NoneType' and 'int'\n",
      "\n",
      "  warnings.warn(\n"
     ]
    },
    {
     "name": "stdout",
     "output_type": "stream",
     "text": [
      "[CV 9/10; 18/20] END model__C=10, model__coef0=0.01, model__degree=8, model__gamma=scale, model__kernel=sigmoid;, score=nan total time=   1.5s\n",
      "[CV 1/10; 19/20] START model__C=10, model__coef0=0.5, model__degree=8, model__gamma=scale, model__kernel=poly\n",
      "[CV 10/10; 18/20] END model__C=10, model__coef0=0.01, model__degree=8, model__gamma=scale, model__kernel=sigmoid;, score=0.005 total time=   1.5s\n",
      "[CV 2/10; 19/20] START model__C=10, model__coef0=0.5, model__degree=8, model__gamma=scale, model__kernel=poly\n",
      "[CV 1/10; 19/20] END model__C=10, model__coef0=0.5, model__degree=8, model__gamma=scale, model__kernel=poly;, score=0.259 total time= 1.3min\n",
      "[CV 3/10; 19/20] START model__C=10, model__coef0=0.5, model__degree=8, model__gamma=scale, model__kernel=poly\n"
     ]
    },
    {
     "name": "stderr",
     "output_type": "stream",
     "text": [
      "/home/meow/.local/lib/python3.10/site-packages/sklearn/model_selection/_validation.py:821: UserWarning: Scoring failed. The score on this train-test partition for these parameters will be set to nan. Details: \n",
      "Traceback (most recent call last):\n",
      "  File \"/home/meow/.local/lib/python3.10/site-packages/sklearn/model_selection/_validation.py\", line 810, in _score\n",
      "    scores = scorer(estimator, X_test, y_test)\n",
      "  File \"/home/meow/.local/lib/python3.10/site-packages/sklearn/metrics/_scorer.py\", line 266, in __call__\n",
      "    return self._score(partial(_cached_call, None), estimator, X, y_true, **_kwargs)\n",
      "  File \"/home/meow/.local/lib/python3.10/site-packages/sklearn/metrics/_scorer.py\", line 355, in _score\n",
      "    return self._sign * self._score_func(y_true, y_pred, **scoring_kwargs)\n",
      "  File \"/tmp/ipykernel_230/1665397672.py\", line 11, in get_score\n",
      "TypeError: unsupported operand type(s) for /: 'NoneType' and 'int'\n",
      "\n",
      "  warnings.warn(\n"
     ]
    },
    {
     "name": "stdout",
     "output_type": "stream",
     "text": [
      "[CV 6/10; 13/20] END model__C=10, model__coef0=10, model__degree=8, model__gamma=auto, model__kernel=poly;, score=nan total time= 1.9min\n",
      "[CV 4/10; 19/20] START model__C=10, model__coef0=0.5, model__degree=8, model__gamma=scale, model__kernel=poly\n"
     ]
    },
    {
     "name": "stderr",
     "output_type": "stream",
     "text": [
      "/home/meow/.local/lib/python3.10/site-packages/sklearn/model_selection/_validation.py:821: UserWarning: Scoring failed. The score on this train-test partition for these parameters will be set to nan. Details: \n",
      "Traceback (most recent call last):\n",
      "  File \"/home/meow/.local/lib/python3.10/site-packages/sklearn/model_selection/_validation.py\", line 810, in _score\n",
      "    scores = scorer(estimator, X_test, y_test)\n",
      "  File \"/home/meow/.local/lib/python3.10/site-packages/sklearn/metrics/_scorer.py\", line 266, in __call__\n",
      "    return self._score(partial(_cached_call, None), estimator, X, y_true, **_kwargs)\n",
      "  File \"/home/meow/.local/lib/python3.10/site-packages/sklearn/metrics/_scorer.py\", line 355, in _score\n",
      "    return self._sign * self._score_func(y_true, y_pred, **scoring_kwargs)\n",
      "  File \"/tmp/ipykernel_230/1665397672.py\", line 11, in get_score\n",
      "TypeError: unsupported operand type(s) for /: 'NoneType' and 'int'\n",
      "\n",
      "  warnings.warn(\n"
     ]
    },
    {
     "name": "stdout",
     "output_type": "stream",
     "text": [
      "[CV 1/10; 13/20] END model__C=10, model__coef0=10, model__degree=8, model__gamma=auto, model__kernel=poly;, score=nan total time= 2.3min\n",
      "[CV 5/10; 19/20] START model__C=10, model__coef0=0.5, model__degree=8, model__gamma=scale, model__kernel=poly\n"
     ]
    },
    {
     "name": "stderr",
     "output_type": "stream",
     "text": [
      "/home/meow/.local/lib/python3.10/site-packages/sklearn/model_selection/_validation.py:821: UserWarning: Scoring failed. The score on this train-test partition for these parameters will be set to nan. Details: \n",
      "Traceback (most recent call last):\n",
      "  File \"/home/meow/.local/lib/python3.10/site-packages/sklearn/model_selection/_validation.py\", line 810, in _score\n",
      "    scores = scorer(estimator, X_test, y_test)\n",
      "  File \"/home/meow/.local/lib/python3.10/site-packages/sklearn/metrics/_scorer.py\", line 266, in __call__\n",
      "    return self._score(partial(_cached_call, None), estimator, X, y_true, **_kwargs)\n",
      "  File \"/home/meow/.local/lib/python3.10/site-packages/sklearn/metrics/_scorer.py\", line 355, in _score\n",
      "    return self._sign * self._score_func(y_true, y_pred, **scoring_kwargs)\n",
      "  File \"/tmp/ipykernel_230/1665397672.py\", line 11, in get_score\n",
      "TypeError: unsupported operand type(s) for /: 'NoneType' and 'int'\n",
      "\n",
      "  warnings.warn(\n"
     ]
    },
    {
     "name": "stdout",
     "output_type": "stream",
     "text": [
      "[CV 9/10; 13/20] END model__C=10, model__coef0=10, model__degree=8, model__gamma=auto, model__kernel=poly;, score=nan total time= 2.4min\n",
      "[CV 6/10; 19/20] START model__C=10, model__coef0=0.5, model__degree=8, model__gamma=scale, model__kernel=poly\n"
     ]
    },
    {
     "name": "stderr",
     "output_type": "stream",
     "text": [
      "/home/meow/.local/lib/python3.10/site-packages/sklearn/model_selection/_validation.py:821: UserWarning: Scoring failed. The score on this train-test partition for these parameters will be set to nan. Details: \n",
      "Traceback (most recent call last):\n",
      "  File \"/home/meow/.local/lib/python3.10/site-packages/sklearn/model_selection/_validation.py\", line 810, in _score\n",
      "    scores = scorer(estimator, X_test, y_test)\n",
      "  File \"/home/meow/.local/lib/python3.10/site-packages/sklearn/metrics/_scorer.py\", line 266, in __call__\n",
      "    return self._score(partial(_cached_call, None), estimator, X, y_true, **_kwargs)\n",
      "  File \"/home/meow/.local/lib/python3.10/site-packages/sklearn/metrics/_scorer.py\", line 355, in _score\n",
      "    return self._sign * self._score_func(y_true, y_pred, **scoring_kwargs)\n",
      "  File \"/tmp/ipykernel_230/1665397672.py\", line 11, in get_score\n",
      "TypeError: unsupported operand type(s) for /: 'NoneType' and 'int'\n",
      "\n",
      "  warnings.warn(\n"
     ]
    },
    {
     "name": "stdout",
     "output_type": "stream",
     "text": [
      "[CV 8/10; 13/20] END model__C=10, model__coef0=10, model__degree=8, model__gamma=auto, model__kernel=poly;, score=nan total time= 2.5min\n",
      "[CV 7/10; 19/20] START model__C=10, model__coef0=0.5, model__degree=8, model__gamma=scale, model__kernel=poly\n"
     ]
    },
    {
     "name": "stderr",
     "output_type": "stream",
     "text": [
      "/home/meow/.local/lib/python3.10/site-packages/sklearn/model_selection/_validation.py:821: UserWarning: Scoring failed. The score on this train-test partition for these parameters will be set to nan. Details: \n",
      "Traceback (most recent call last):\n",
      "  File \"/home/meow/.local/lib/python3.10/site-packages/sklearn/model_selection/_validation.py\", line 810, in _score\n",
      "    scores = scorer(estimator, X_test, y_test)\n",
      "  File \"/home/meow/.local/lib/python3.10/site-packages/sklearn/metrics/_scorer.py\", line 266, in __call__\n",
      "    return self._score(partial(_cached_call, None), estimator, X, y_true, **_kwargs)\n",
      "  File \"/home/meow/.local/lib/python3.10/site-packages/sklearn/metrics/_scorer.py\", line 355, in _score\n",
      "    return self._sign * self._score_func(y_true, y_pred, **scoring_kwargs)\n",
      "  File \"/tmp/ipykernel_230/1665397672.py\", line 11, in get_score\n",
      "TypeError: unsupported operand type(s) for /: 'NoneType' and 'int'\n",
      "\n",
      "  warnings.warn(\n"
     ]
    },
    {
     "name": "stdout",
     "output_type": "stream",
     "text": [
      "[CV 5/10; 13/20] END model__C=10, model__coef0=10, model__degree=8, model__gamma=auto, model__kernel=poly;, score=nan total time= 2.9min\n",
      "[CV 8/10; 19/20] START model__C=10, model__coef0=0.5, model__degree=8, model__gamma=scale, model__kernel=poly\n"
     ]
    },
    {
     "name": "stderr",
     "output_type": "stream",
     "text": [
      "/home/meow/.local/lib/python3.10/site-packages/sklearn/model_selection/_validation.py:821: UserWarning: Scoring failed. The score on this train-test partition for these parameters will be set to nan. Details: \n",
      "Traceback (most recent call last):\n",
      "  File \"/home/meow/.local/lib/python3.10/site-packages/sklearn/model_selection/_validation.py\", line 810, in _score\n",
      "    scores = scorer(estimator, X_test, y_test)\n",
      "  File \"/home/meow/.local/lib/python3.10/site-packages/sklearn/metrics/_scorer.py\", line 266, in __call__\n",
      "    return self._score(partial(_cached_call, None), estimator, X, y_true, **_kwargs)\n",
      "  File \"/home/meow/.local/lib/python3.10/site-packages/sklearn/metrics/_scorer.py\", line 355, in _score\n",
      "    return self._sign * self._score_func(y_true, y_pred, **scoring_kwargs)\n",
      "  File \"/tmp/ipykernel_230/1665397672.py\", line 11, in get_score\n",
      "TypeError: unsupported operand type(s) for /: 'NoneType' and 'int'\n",
      "\n",
      "  warnings.warn(\n"
     ]
    },
    {
     "name": "stdout",
     "output_type": "stream",
     "text": [
      "[CV 10/10; 13/20] END model__C=10, model__coef0=10, model__degree=8, model__gamma=auto, model__kernel=poly;, score=nan total time= 3.3min\n",
      "[CV 9/10; 19/20] START model__C=10, model__coef0=0.5, model__degree=8, model__gamma=scale, model__kernel=poly\n"
     ]
    },
    {
     "name": "stderr",
     "output_type": "stream",
     "text": [
      "/home/meow/.local/lib/python3.10/site-packages/sklearn/model_selection/_validation.py:821: UserWarning: Scoring failed. The score on this train-test partition for these parameters will be set to nan. Details: \n",
      "Traceback (most recent call last):\n",
      "  File \"/home/meow/.local/lib/python3.10/site-packages/sklearn/model_selection/_validation.py\", line 810, in _score\n",
      "    scores = scorer(estimator, X_test, y_test)\n",
      "  File \"/home/meow/.local/lib/python3.10/site-packages/sklearn/metrics/_scorer.py\", line 266, in __call__\n",
      "    return self._score(partial(_cached_call, None), estimator, X, y_true, **_kwargs)\n",
      "  File \"/home/meow/.local/lib/python3.10/site-packages/sklearn/metrics/_scorer.py\", line 355, in _score\n",
      "    return self._sign * self._score_func(y_true, y_pred, **scoring_kwargs)\n",
      "  File \"/tmp/ipykernel_230/1665397672.py\", line 11, in get_score\n",
      "TypeError: unsupported operand type(s) for /: 'NoneType' and 'int'\n",
      "\n",
      "  warnings.warn(\n"
     ]
    },
    {
     "name": "stdout",
     "output_type": "stream",
     "text": [
      "[CV 4/10; 13/20] END model__C=10, model__coef0=10, model__degree=8, model__gamma=auto, model__kernel=poly;, score=nan total time= 4.0min\n",
      "[CV 10/10; 19/20] START model__C=10, model__coef0=0.5, model__degree=8, model__gamma=scale, model__kernel=poly\n",
      "[CV 2/10; 19/20] END model__C=10, model__coef0=0.5, model__degree=8, model__gamma=scale, model__kernel=poly;, score=0.107 total time= 3.7min\n",
      "[CV 1/10; 20/20] START model__C=5, model__coef0=10, model__degree=3, model__gamma=auto, model__kernel=linear\n",
      "[CV 1/10; 20/20] END model__C=5, model__coef0=10, model__degree=3, model__gamma=auto, model__kernel=linear;, score=0.207 total time=   0.7s\n",
      "[CV 2/10; 20/20] START model__C=5, model__coef0=10, model__degree=3, model__gamma=auto, model__kernel=linear\n",
      "[CV 2/10; 20/20] END model__C=5, model__coef0=10, model__degree=3, model__gamma=auto, model__kernel=linear;, score=0.176 total time=   0.7s\n",
      "[CV 3/10; 20/20] START model__C=5, model__coef0=10, model__degree=3, model__gamma=auto, model__kernel=linear\n",
      "[CV 3/10; 20/20] END model__C=5, model__coef0=10, model__degree=3, model__gamma=auto, model__kernel=linear;, score=0.173 total time=   0.7s\n",
      "[CV 4/10; 20/20] START model__C=5, model__coef0=10, model__degree=3, model__gamma=auto, model__kernel=linear\n",
      "[CV 4/10; 20/20] END model__C=5, model__coef0=10, model__degree=3, model__gamma=auto, model__kernel=linear;, score=0.212 total time=   0.7s\n",
      "[CV 5/10; 20/20] START model__C=5, model__coef0=10, model__degree=3, model__gamma=auto, model__kernel=linear\n",
      "[CV 5/10; 20/20] END model__C=5, model__coef0=10, model__degree=3, model__gamma=auto, model__kernel=linear;, score=0.271 total time=   0.8s\n",
      "[CV 6/10; 20/20] START model__C=5, model__coef0=10, model__degree=3, model__gamma=auto, model__kernel=linear\n"
     ]
    },
    {
     "name": "stderr",
     "output_type": "stream",
     "text": [
      "/home/meow/.local/lib/python3.10/site-packages/sklearn/model_selection/_validation.py:821: UserWarning: Scoring failed. The score on this train-test partition for these parameters will be set to nan. Details: \n",
      "Traceback (most recent call last):\n",
      "  File \"/home/meow/.local/lib/python3.10/site-packages/sklearn/model_selection/_validation.py\", line 810, in _score\n",
      "    scores = scorer(estimator, X_test, y_test)\n",
      "  File \"/home/meow/.local/lib/python3.10/site-packages/sklearn/metrics/_scorer.py\", line 266, in __call__\n",
      "    return self._score(partial(_cached_call, None), estimator, X, y_true, **_kwargs)\n",
      "  File \"/home/meow/.local/lib/python3.10/site-packages/sklearn/metrics/_scorer.py\", line 355, in _score\n",
      "    return self._sign * self._score_func(y_true, y_pred, **scoring_kwargs)\n",
      "  File \"/tmp/ipykernel_230/1665397672.py\", line 11, in get_score\n",
      "TypeError: unsupported operand type(s) for /: 'NoneType' and 'int'\n",
      "\n",
      "  warnings.warn(\n"
     ]
    },
    {
     "name": "stdout",
     "output_type": "stream",
     "text": [
      "[CV 2/10; 13/20] END model__C=10, model__coef0=10, model__degree=8, model__gamma=auto, model__kernel=poly;, score=nan total time= 4.4min\n",
      "[CV 7/10; 20/20] START model__C=5, model__coef0=10, model__degree=3, model__gamma=auto, model__kernel=linear\n",
      "[CV 6/10; 20/20] END model__C=5, model__coef0=10, model__degree=3, model__gamma=auto, model__kernel=linear;, score=0.202 total time=   0.7s\n",
      "[CV 8/10; 20/20] START model__C=5, model__coef0=10, model__degree=3, model__gamma=auto, model__kernel=linear\n",
      "[CV 7/10; 20/20] END model__C=5, model__coef0=10, model__degree=3, model__gamma=auto, model__kernel=linear;, score=0.157 total time=   0.7s\n",
      "[CV 9/10; 20/20] START model__C=5, model__coef0=10, model__degree=3, model__gamma=auto, model__kernel=linear\n",
      "[CV 8/10; 20/20] END model__C=5, model__coef0=10, model__degree=3, model__gamma=auto, model__kernel=linear;, score=0.236 total time=   0.8s\n",
      "[CV 10/10; 20/20] START model__C=5, model__coef0=10, model__degree=3, model__gamma=auto, model__kernel=linear\n",
      "[CV 9/10; 20/20] END model__C=5, model__coef0=10, model__degree=3, model__gamma=auto, model__kernel=linear;, score=0.210 total time=   0.7s\n",
      "[CV 10/10; 20/20] END model__C=5, model__coef0=10, model__degree=3, model__gamma=auto, model__kernel=linear;, score=0.276 total time=   0.7s\n",
      "[CV 4/10; 19/20] END model__C=10, model__coef0=0.5, model__degree=8, model__gamma=scale, model__kernel=poly;, score=0.188 total time= 2.5min\n",
      "[CV 8/10; 19/20] END model__C=10, model__coef0=0.5, model__degree=8, model__gamma=scale, model__kernel=poly;, score=0.155 total time= 1.5min\n",
      "[CV 5/10; 19/20] END model__C=10, model__coef0=0.5, model__degree=8, model__gamma=scale, model__kernel=poly;, score=0.086 total time= 2.2min\n",
      "[CV 6/10; 19/20] END model__C=10, model__coef0=0.5, model__degree=8, model__gamma=scale, model__kernel=poly;, score=0.045 total time= 2.0min\n",
      "[CV 3/10; 19/20] END model__C=10, model__coef0=0.5, model__degree=8, model__gamma=scale, model__kernel=poly;, score=0.062 total time= 2.7min\n"
     ]
    },
    {
     "name": "stderr",
     "output_type": "stream",
     "text": [
      "/home/meow/.local/lib/python3.10/site-packages/sklearn/model_selection/_validation.py:821: UserWarning: Scoring failed. The score on this train-test partition for these parameters will be set to nan. Details: \n",
      "Traceback (most recent call last):\n",
      "  File \"/home/meow/.local/lib/python3.10/site-packages/sklearn/model_selection/_validation.py\", line 810, in _score\n",
      "    scores = scorer(estimator, X_test, y_test)\n",
      "  File \"/home/meow/.local/lib/python3.10/site-packages/sklearn/metrics/_scorer.py\", line 266, in __call__\n",
      "    return self._score(partial(_cached_call, None), estimator, X, y_true, **_kwargs)\n",
      "  File \"/home/meow/.local/lib/python3.10/site-packages/sklearn/metrics/_scorer.py\", line 355, in _score\n",
      "    return self._sign * self._score_func(y_true, y_pred, **scoring_kwargs)\n",
      "  File \"/tmp/ipykernel_230/1665397672.py\", line 11, in get_score\n",
      "TypeError: unsupported operand type(s) for /: 'NoneType' and 'int'\n",
      "\n",
      "  warnings.warn(\n"
     ]
    },
    {
     "name": "stdout",
     "output_type": "stream",
     "text": [
      "[CV 3/10; 13/20] END model__C=10, model__coef0=10, model__degree=8, model__gamma=auto, model__kernel=poly;, score=nan total time= 4.7min\n",
      "[CV 7/10; 19/20] END model__C=10, model__coef0=0.5, model__degree=8, model__gamma=scale, model__kernel=poly;, score=0.119 total time= 2.4min\n",
      "[CV 9/10; 19/20] END model__C=10, model__coef0=0.5, model__degree=8, model__gamma=scale, model__kernel=poly;, score=0.076 total time= 1.7min\n",
      "[CV 10/10; 19/20] END model__C=10, model__coef0=0.5, model__degree=8, model__gamma=scale, model__kernel=poly;, score=0.164 total time= 1.2min\n"
     ]
    },
    {
     "name": "stderr",
     "output_type": "stream",
     "text": [
      "/home/meow/.local/lib/python3.10/site-packages/sklearn/model_selection/_validation.py:821: UserWarning: Scoring failed. The score on this train-test partition for these parameters will be set to nan. Details: \n",
      "Traceback (most recent call last):\n",
      "  File \"/home/meow/.local/lib/python3.10/site-packages/sklearn/model_selection/_validation.py\", line 810, in _score\n",
      "    scores = scorer(estimator, X_test, y_test)\n",
      "  File \"/home/meow/.local/lib/python3.10/site-packages/sklearn/metrics/_scorer.py\", line 266, in __call__\n",
      "    return self._score(partial(_cached_call, None), estimator, X, y_true, **_kwargs)\n",
      "  File \"/home/meow/.local/lib/python3.10/site-packages/sklearn/metrics/_scorer.py\", line 355, in _score\n",
      "    return self._sign * self._score_func(y_true, y_pred, **scoring_kwargs)\n",
      "  File \"/tmp/ipykernel_230/1665397672.py\", line 11, in get_score\n",
      "TypeError: unsupported operand type(s) for /: 'NoneType' and 'int'\n",
      "\n",
      "  warnings.warn(\n",
      "/home/meow/.local/lib/python3.10/site-packages/sklearn/model_selection/_search.py:979: UserWarning:\n",
      "\n",
      "One or more of the test scores are non-finite: [0.09279041 0.20417317 0.2220207  0.10678996 0.21153659 0.2184357\n",
      " 0.21201052 0.21153659        nan 0.20702635 0.2141579  0.1972735\n",
      "        nan 0.20038344 0.20702635 0.21201052 0.2124918         nan\n",
      " 0.12608868 0.21201052]\n",
      "\n"
     ]
    },
    {
     "name": "stdout",
     "output_type": "stream",
     "text": [
      "[CV 7/10; 13/20] END model__C=10, model__coef0=10, model__degree=8, model__gamma=auto, model__kernel=poly;, score=nan total time= 6.0min\n",
      "{'model__kernel': 'poly', 'model__gamma': 'scale', 'model__degree': 3, 'model__coef0': 0.5, 'model__C': 1}\n"
     ]
    }
   ],
   "source": [
    "svr_model = SVR()\n",
    "svr_pipeline = Pipeline(steps=[('normalize', scaler), ('model', svr_model)])\n",
    "\n",
    "random_grid = {\n",
    "    'model__kernel': ['linear', 'poly', 'rbf', 'sigmoid'],\n",
    "    'model__C': [1,5,10],\n",
    "    'model__degree': [3,8],\n",
    "    'model__coef0': [0.01,10,0.5],\n",
    "    'model__gamma': ['auto','scale']\n",
    "}\n",
    "svr_search = RandomizedSearchCV(svr_pipeline, random_grid, n_iter=20, cv=10, verbose=10, scoring=custom_scorer, n_jobs=-1)\n",
    "svr_search.fit(input_x, input_y.values.ravel())\n",
    "print(svr_search.best_params_)"
   ]
  },
  {
   "cell_type": "code",
   "execution_count": 298,
   "metadata": {},
   "outputs": [],
   "source": [
    "scaler = MinMaxScaler(feature_range=(0,1))\n",
    "models = [generate_pipeline(scaler, model) for model in [\n",
    "    CatBoostRegressor(),\n",
    "    XGBRegressor(),\n",
    "    SVR(kernel='poly', gamma='scale', degree=3, coef0=0.5, C=1),\n",
    "    GradientBoostingRegressor(n_estimators=10000, max_depth=10, learning_rate=0.001, random_state=random_state),\n",
    "    RandomForestRegressor(max_depth=110, min_samples_leaf=1, min_samples_split=5, n_estimators=1000, random_state=random_state)\n",
    "]]"
   ]
  },
  {
   "cell_type": "code",
   "execution_count": 300,
   "metadata": {},
   "outputs": [
    {
     "data": {
      "text/plain": [
       "0.23596574690770694"
      ]
     },
     "execution_count": 300,
     "metadata": {},
     "output_type": "execute_result"
    }
   ],
   "source": [
    "# Test the random forest model \n",
    "model = models[-3]\n",
    "clf = model[1].fit(X_train, y_train.values.ravel())\n",
    "y_pred = clf.predict(X_test)\n",
    "get_score(y_test.values.ravel(), y_pred)"
   ]
  },
  {
   "cell_type": "code",
   "execution_count": 301,
   "metadata": {},
   "outputs": [
    {
     "data": {
      "text/html": [
       "<div>\n",
       "<style scoped>\n",
       "    .dataframe tbody tr th:only-of-type {\n",
       "        vertical-align: middle;\n",
       "    }\n",
       "\n",
       "    .dataframe tbody tr th {\n",
       "        vertical-align: top;\n",
       "    }\n",
       "\n",
       "    .dataframe thead th {\n",
       "        text-align: right;\n",
       "    }\n",
       "</style>\n",
       "<table border=\"1\" class=\"dataframe\">\n",
       "  <thead>\n",
       "    <tr style=\"text-align: right;\">\n",
       "      <th></th>\n",
       "      <th>y_actual</th>\n",
       "      <th>y_pred</th>\n",
       "    </tr>\n",
       "  </thead>\n",
       "  <tbody>\n",
       "    <tr>\n",
       "      <th>0</th>\n",
       "      <td>-10.378239</td>\n",
       "      <td>-5.304665</td>\n",
       "    </tr>\n",
       "    <tr>\n",
       "      <th>1</th>\n",
       "      <td>-6.207769</td>\n",
       "      <td>-10.128150</td>\n",
       "    </tr>\n",
       "    <tr>\n",
       "      <th>2</th>\n",
       "      <td>-12.617678</td>\n",
       "      <td>-12.308452</td>\n",
       "    </tr>\n",
       "    <tr>\n",
       "      <th>3</th>\n",
       "      <td>-0.352397</td>\n",
       "      <td>-1.781749</td>\n",
       "    </tr>\n",
       "    <tr>\n",
       "      <th>4</th>\n",
       "      <td>-5.473230</td>\n",
       "      <td>-5.230557</td>\n",
       "    </tr>\n",
       "    <tr>\n",
       "      <th>...</th>\n",
       "      <td>...</td>\n",
       "      <td>...</td>\n",
       "    </tr>\n",
       "    <tr>\n",
       "      <th>1046</th>\n",
       "      <td>-7.475370</td>\n",
       "      <td>-8.493637</td>\n",
       "    </tr>\n",
       "    <tr>\n",
       "      <th>1047</th>\n",
       "      <td>-5.701183</td>\n",
       "      <td>-5.939416</td>\n",
       "    </tr>\n",
       "    <tr>\n",
       "      <th>1048</th>\n",
       "      <td>-4.898163</td>\n",
       "      <td>-6.717723</td>\n",
       "    </tr>\n",
       "    <tr>\n",
       "      <th>1049</th>\n",
       "      <td>-11.964244</td>\n",
       "      <td>-7.489813</td>\n",
       "    </tr>\n",
       "    <tr>\n",
       "      <th>1050</th>\n",
       "      <td>-7.480783</td>\n",
       "      <td>-6.174309</td>\n",
       "    </tr>\n",
       "  </tbody>\n",
       "</table>\n",
       "<p>1051 rows × 2 columns</p>\n",
       "</div>"
      ],
      "text/plain": [
       "       y_actual     y_pred\n",
       "0    -10.378239  -5.304665\n",
       "1     -6.207769 -10.128150\n",
       "2    -12.617678 -12.308452\n",
       "3     -0.352397  -1.781749\n",
       "4     -5.473230  -5.230557\n",
       "...         ...        ...\n",
       "1046  -7.475370  -8.493637\n",
       "1047  -5.701183  -5.939416\n",
       "1048  -4.898163  -6.717723\n",
       "1049 -11.964244  -7.489813\n",
       "1050  -7.480783  -6.174309\n",
       "\n",
       "[1051 rows x 2 columns]"
      ]
     },
     "execution_count": 301,
     "metadata": {},
     "output_type": "execute_result"
    }
   ],
   "source": [
    "pd.DataFrame({'y_actual': y_test.values.reshape(-1), 'y_pred': y_pred})"
   ]
  },
  {
   "cell_type": "code",
   "execution_count": 302,
   "metadata": {},
   "outputs": [
    {
     "name": "stdout",
     "output_type": "stream",
     "text": [
      "Learning rate set to 0.049086\n",
      "0:\tlearn: 6.4309836\ttotal: 2.94ms\tremaining: 2.94s\n",
      "1:\tlearn: 6.2483283\ttotal: 4.16ms\tremaining: 2.08s\n",
      "2:\tlearn: 6.0930776\ttotal: 5.28ms\tremaining: 1.75s\n",
      "3:\tlearn: 5.9458282\ttotal: 6.66ms\tremaining: 1.66s\n",
      "4:\tlearn: 5.7976874\ttotal: 7.9ms\tremaining: 1.57s\n",
      "5:\tlearn: 5.6604455\ttotal: 9.48ms\tremaining: 1.57s\n",
      "6:\tlearn: 5.5477821\ttotal: 10.7ms\tremaining: 1.51s\n",
      "7:\tlearn: 5.4277746\ttotal: 11.7ms\tremaining: 1.45s\n",
      "8:\tlearn: 5.3150829\ttotal: 12.7ms\tremaining: 1.4s\n",
      "9:\tlearn: 5.2083583\ttotal: 13.8ms\tremaining: 1.36s\n",
      "10:\tlearn: 5.1127149\ttotal: 14.9ms\tremaining: 1.34s\n",
      "11:\tlearn: 5.0256453\ttotal: 16.1ms\tremaining: 1.32s\n",
      "12:\tlearn: 4.9368142\ttotal: 17.6ms\tremaining: 1.33s\n",
      "13:\tlearn: 4.8638618\ttotal: 18.7ms\tremaining: 1.31s\n",
      "14:\tlearn: 4.7891263\ttotal: 19.7ms\tremaining: 1.29s\n",
      "15:\tlearn: 4.7202463\ttotal: 21.5ms\tremaining: 1.32s\n",
      "16:\tlearn: 4.6574763\ttotal: 22.8ms\tremaining: 1.32s\n",
      "17:\tlearn: 4.5962597\ttotal: 23.9ms\tremaining: 1.3s\n",
      "18:\tlearn: 4.5382782\ttotal: 25.3ms\tremaining: 1.3s\n",
      "19:\tlearn: 4.4830055\ttotal: 26.3ms\tremaining: 1.29s\n",
      "20:\tlearn: 4.4400299\ttotal: 27.5ms\tremaining: 1.28s\n",
      "21:\tlearn: 4.4000849\ttotal: 28.5ms\tremaining: 1.27s\n",
      "22:\tlearn: 4.3622968\ttotal: 29.7ms\tremaining: 1.26s\n",
      "23:\tlearn: 4.3186699\ttotal: 30.8ms\tremaining: 1.25s\n",
      "24:\tlearn: 4.2836825\ttotal: 31.8ms\tremaining: 1.24s\n",
      "25:\tlearn: 4.2518407\ttotal: 32.6ms\tremaining: 1.22s\n",
      "26:\tlearn: 4.2250283\ttotal: 34ms\tremaining: 1.22s\n",
      "27:\tlearn: 4.1937934\ttotal: 35.1ms\tremaining: 1.22s\n",
      "28:\tlearn: 4.1676029\ttotal: 36.3ms\tremaining: 1.21s\n",
      "29:\tlearn: 4.1436509\ttotal: 38.5ms\tremaining: 1.25s\n",
      "30:\tlearn: 4.1188016\ttotal: 39.8ms\tremaining: 1.24s\n",
      "31:\tlearn: 4.0931034\ttotal: 40.9ms\tremaining: 1.24s\n",
      "32:\tlearn: 4.0703956\ttotal: 42.1ms\tremaining: 1.23s\n",
      "33:\tlearn: 4.0498814\ttotal: 43.7ms\tremaining: 1.24s\n",
      "34:\tlearn: 4.0282189\ttotal: 44.7ms\tremaining: 1.23s\n",
      "35:\tlearn: 4.0097348\ttotal: 45.9ms\tremaining: 1.23s\n",
      "36:\tlearn: 4.0025543\ttotal: 46.4ms\tremaining: 1.21s\n",
      "37:\tlearn: 3.9840302\ttotal: 47.4ms\tremaining: 1.2s\n",
      "38:\tlearn: 3.9657483\ttotal: 48.4ms\tremaining: 1.19s\n",
      "39:\tlearn: 3.9534054\ttotal: 49.3ms\tremaining: 1.18s\n",
      "40:\tlearn: 3.9437439\ttotal: 50.5ms\tremaining: 1.18s\n",
      "41:\tlearn: 3.9309611\ttotal: 52.1ms\tremaining: 1.19s\n",
      "42:\tlearn: 3.9210300\ttotal: 54ms\tremaining: 1.2s\n",
      "43:\tlearn: 3.9094081\ttotal: 55.2ms\tremaining: 1.2s\n",
      "44:\tlearn: 3.9026283\ttotal: 56.3ms\tremaining: 1.2s\n",
      "45:\tlearn: 3.8879658\ttotal: 57.7ms\tremaining: 1.2s\n",
      "46:\tlearn: 3.8818580\ttotal: 58.7ms\tremaining: 1.19s\n",
      "47:\tlearn: 3.8725475\ttotal: 59.8ms\tremaining: 1.19s\n",
      "48:\tlearn: 3.8621922\ttotal: 60.9ms\tremaining: 1.18s\n",
      "49:\tlearn: 3.8555996\ttotal: 61.9ms\tremaining: 1.18s\n",
      "50:\tlearn: 3.8486951\ttotal: 63ms\tremaining: 1.17s\n",
      "51:\tlearn: 3.8461852\ttotal: 63.8ms\tremaining: 1.16s\n",
      "52:\tlearn: 3.8435260\ttotal: 64.4ms\tremaining: 1.15s\n",
      "53:\tlearn: 3.8373073\ttotal: 65.6ms\tremaining: 1.15s\n",
      "54:\tlearn: 3.8322700\ttotal: 66.7ms\tremaining: 1.15s\n",
      "55:\tlearn: 3.8277594\ttotal: 68.6ms\tremaining: 1.16s\n",
      "56:\tlearn: 3.8259031\ttotal: 69.3ms\tremaining: 1.15s\n",
      "57:\tlearn: 3.8214627\ttotal: 70.3ms\tremaining: 1.14s\n",
      "58:\tlearn: 3.8153175\ttotal: 71.3ms\tremaining: 1.14s\n",
      "59:\tlearn: 3.8072506\ttotal: 72.3ms\tremaining: 1.13s\n",
      "60:\tlearn: 3.8023372\ttotal: 73.7ms\tremaining: 1.13s\n",
      "61:\tlearn: 3.7974552\ttotal: 74.9ms\tremaining: 1.13s\n",
      "62:\tlearn: 3.7899312\ttotal: 75.9ms\tremaining: 1.13s\n",
      "63:\tlearn: 3.7856276\ttotal: 76.9ms\tremaining: 1.12s\n",
      "64:\tlearn: 3.7827920\ttotal: 77.9ms\tremaining: 1.12s\n",
      "65:\tlearn: 3.7809968\ttotal: 79.4ms\tremaining: 1.12s\n",
      "66:\tlearn: 3.7757992\ttotal: 80.4ms\tremaining: 1.12s\n",
      "67:\tlearn: 3.7738448\ttotal: 81.5ms\tremaining: 1.12s\n",
      "68:\tlearn: 3.7703725\ttotal: 82.6ms\tremaining: 1.11s\n",
      "69:\tlearn: 3.7684790\ttotal: 84.2ms\tremaining: 1.12s\n",
      "70:\tlearn: 3.7611327\ttotal: 85.2ms\tremaining: 1.11s\n",
      "71:\tlearn: 3.7579027\ttotal: 86.4ms\tremaining: 1.11s\n",
      "72:\tlearn: 3.7547221\ttotal: 87.4ms\tremaining: 1.11s\n",
      "73:\tlearn: 3.7525401\ttotal: 88.4ms\tremaining: 1.11s\n",
      "74:\tlearn: 3.7490959\ttotal: 89.6ms\tremaining: 1.1s\n",
      "75:\tlearn: 3.7460741\ttotal: 90.7ms\tremaining: 1.1s\n",
      "76:\tlearn: 3.7375131\ttotal: 91.7ms\tremaining: 1.1s\n",
      "77:\tlearn: 3.7328386\ttotal: 92.7ms\tremaining: 1.09s\n",
      "78:\tlearn: 3.7311168\ttotal: 93.8ms\tremaining: 1.09s\n",
      "79:\tlearn: 3.7305542\ttotal: 94.6ms\tremaining: 1.09s\n",
      "80:\tlearn: 3.7277918\ttotal: 95.6ms\tremaining: 1.08s\n",
      "81:\tlearn: 3.7244796\ttotal: 96.5ms\tremaining: 1.08s\n",
      "82:\tlearn: 3.7199441\ttotal: 97.6ms\tremaining: 1.08s\n",
      "83:\tlearn: 3.7188771\ttotal: 98.7ms\tremaining: 1.08s\n",
      "84:\tlearn: 3.7178804\ttotal: 100ms\tremaining: 1.08s\n",
      "85:\tlearn: 3.7038949\ttotal: 102ms\tremaining: 1.08s\n",
      "86:\tlearn: 3.7027126\ttotal: 103ms\tremaining: 1.08s\n",
      "87:\tlearn: 3.7002078\ttotal: 104ms\tremaining: 1.08s\n",
      "88:\tlearn: 3.6842480\ttotal: 106ms\tremaining: 1.08s\n",
      "89:\tlearn: 3.6761496\ttotal: 107ms\tremaining: 1.08s\n",
      "90:\tlearn: 3.6747587\ttotal: 108ms\tremaining: 1.08s\n",
      "91:\tlearn: 3.6728527\ttotal: 109ms\tremaining: 1.08s\n",
      "92:\tlearn: 3.6717444\ttotal: 110ms\tremaining: 1.08s\n",
      "93:\tlearn: 3.6675077\ttotal: 111ms\tremaining: 1.07s\n",
      "94:\tlearn: 3.6602679\ttotal: 112ms\tremaining: 1.07s\n",
      "95:\tlearn: 3.6559853\ttotal: 113ms\tremaining: 1.07s\n",
      "96:\tlearn: 3.6526016\ttotal: 114ms\tremaining: 1.06s\n",
      "97:\tlearn: 3.6469365\ttotal: 119ms\tremaining: 1.09s\n",
      "98:\tlearn: 3.6439293\ttotal: 120ms\tremaining: 1.09s\n",
      "99:\tlearn: 3.6402314\ttotal: 122ms\tremaining: 1.09s\n",
      "100:\tlearn: 3.6395600\ttotal: 122ms\tremaining: 1.09s\n",
      "101:\tlearn: 3.6358527\ttotal: 124ms\tremaining: 1.09s\n",
      "102:\tlearn: 3.6341038\ttotal: 125ms\tremaining: 1.09s\n",
      "103:\tlearn: 3.6295649\ttotal: 126ms\tremaining: 1.08s\n",
      "104:\tlearn: 3.6269904\ttotal: 127ms\tremaining: 1.08s\n",
      "105:\tlearn: 3.6237627\ttotal: 128ms\tremaining: 1.08s\n",
      "106:\tlearn: 3.6127012\ttotal: 129ms\tremaining: 1.08s\n",
      "107:\tlearn: 3.6116097\ttotal: 130ms\tremaining: 1.08s\n",
      "108:\tlearn: 3.6050208\ttotal: 131ms\tremaining: 1.07s\n",
      "109:\tlearn: 3.6004151\ttotal: 133ms\tremaining: 1.07s\n",
      "110:\tlearn: 3.6000121\ttotal: 133ms\tremaining: 1.07s\n",
      "111:\tlearn: 3.5953566\ttotal: 134ms\tremaining: 1.07s\n",
      "112:\tlearn: 3.5922657\ttotal: 136ms\tremaining: 1.06s\n",
      "113:\tlearn: 3.5847381\ttotal: 137ms\tremaining: 1.07s\n",
      "114:\tlearn: 3.5732012\ttotal: 139ms\tremaining: 1.07s\n",
      "115:\tlearn: 3.5722267\ttotal: 140ms\tremaining: 1.07s\n",
      "116:\tlearn: 3.5699823\ttotal: 141ms\tremaining: 1.06s\n",
      "117:\tlearn: 3.5681766\ttotal: 142ms\tremaining: 1.06s\n",
      "118:\tlearn: 3.5661615\ttotal: 143ms\tremaining: 1.06s\n",
      "119:\tlearn: 3.5641811\ttotal: 144ms\tremaining: 1.05s\n",
      "120:\tlearn: 3.5618913\ttotal: 145ms\tremaining: 1.05s\n",
      "121:\tlearn: 3.5595168\ttotal: 146ms\tremaining: 1.05s\n",
      "122:\tlearn: 3.5569995\ttotal: 147ms\tremaining: 1.05s\n",
      "123:\tlearn: 3.5537373\ttotal: 148ms\tremaining: 1.04s\n",
      "124:\tlearn: 3.5412111\ttotal: 149ms\tremaining: 1.04s\n",
      "125:\tlearn: 3.5386823\ttotal: 150ms\tremaining: 1.04s\n",
      "126:\tlearn: 3.5363206\ttotal: 151ms\tremaining: 1.04s\n",
      "127:\tlearn: 3.5234944\ttotal: 153ms\tremaining: 1.04s\n",
      "128:\tlearn: 3.5201330\ttotal: 153ms\tremaining: 1.04s\n",
      "129:\tlearn: 3.5190131\ttotal: 154ms\tremaining: 1.03s\n",
      "130:\tlearn: 3.5142407\ttotal: 156ms\tremaining: 1.03s\n",
      "131:\tlearn: 3.5129781\ttotal: 156ms\tremaining: 1.03s\n",
      "132:\tlearn: 3.5094531\ttotal: 157ms\tremaining: 1.02s\n",
      "133:\tlearn: 3.5079440\ttotal: 158ms\tremaining: 1.02s\n",
      "134:\tlearn: 3.5055506\ttotal: 159ms\tremaining: 1.02s\n",
      "135:\tlearn: 3.5043292\ttotal: 160ms\tremaining: 1.02s\n",
      "136:\tlearn: 3.5030047\ttotal: 161ms\tremaining: 1.01s\n",
      "137:\tlearn: 3.5025378\ttotal: 162ms\tremaining: 1.01s\n",
      "138:\tlearn: 3.5001822\ttotal: 163ms\tremaining: 1.01s\n",
      "139:\tlearn: 3.4949896\ttotal: 164ms\tremaining: 1.01s\n",
      "140:\tlearn: 3.4927260\ttotal: 165ms\tremaining: 1s\n",
      "141:\tlearn: 3.4862030\ttotal: 166ms\tremaining: 1s\n",
      "142:\tlearn: 3.4856806\ttotal: 167ms\tremaining: 998ms\n",
      "143:\tlearn: 3.4845914\ttotal: 167ms\tremaining: 996ms\n",
      "144:\tlearn: 3.4843206\ttotal: 168ms\tremaining: 991ms\n",
      "145:\tlearn: 3.4824316\ttotal: 169ms\tremaining: 988ms\n",
      "146:\tlearn: 3.4807368\ttotal: 170ms\tremaining: 985ms\n",
      "147:\tlearn: 3.4805586\ttotal: 170ms\tremaining: 981ms\n",
      "148:\tlearn: 3.4791274\ttotal: 171ms\tremaining: 978ms\n",
      "149:\tlearn: 3.4776235\ttotal: 172ms\tremaining: 976ms\n",
      "150:\tlearn: 3.4752220\ttotal: 173ms\tremaining: 973ms\n",
      "151:\tlearn: 3.4749183\ttotal: 174ms\tremaining: 969ms\n",
      "152:\tlearn: 3.4677513\ttotal: 175ms\tremaining: 966ms\n",
      "153:\tlearn: 3.4672859\ttotal: 175ms\tremaining: 964ms\n",
      "154:\tlearn: 3.4656212\ttotal: 176ms\tremaining: 961ms\n",
      "155:\tlearn: 3.4627485\ttotal: 177ms\tremaining: 959ms\n",
      "156:\tlearn: 3.4545527\ttotal: 178ms\tremaining: 957ms\n",
      "157:\tlearn: 3.4520038\ttotal: 179ms\tremaining: 955ms\n",
      "158:\tlearn: 3.4514458\ttotal: 180ms\tremaining: 953ms\n",
      "159:\tlearn: 3.4477630\ttotal: 181ms\tremaining: 950ms\n",
      "160:\tlearn: 3.4438775\ttotal: 182ms\tremaining: 948ms\n",
      "161:\tlearn: 3.4428082\ttotal: 183ms\tremaining: 946ms\n",
      "162:\tlearn: 3.4413607\ttotal: 184ms\tremaining: 944ms\n",
      "163:\tlearn: 3.4393427\ttotal: 185ms\tremaining: 942ms\n",
      "164:\tlearn: 3.4371306\ttotal: 186ms\tremaining: 939ms\n",
      "165:\tlearn: 3.4351256\ttotal: 187ms\tremaining: 941ms\n",
      "166:\tlearn: 3.4272505\ttotal: 189ms\tremaining: 941ms\n",
      "167:\tlearn: 3.4265235\ttotal: 189ms\tremaining: 938ms\n",
      "168:\tlearn: 3.4237321\ttotal: 191ms\tremaining: 938ms\n",
      "169:\tlearn: 3.4193695\ttotal: 192ms\tremaining: 938ms\n",
      "170:\tlearn: 3.4174860\ttotal: 193ms\tremaining: 936ms\n",
      "171:\tlearn: 3.4118032\ttotal: 195ms\tremaining: 936ms\n",
      "172:\tlearn: 3.4045765\ttotal: 196ms\tremaining: 935ms\n",
      "173:\tlearn: 3.4026053\ttotal: 197ms\tremaining: 933ms\n",
      "174:\tlearn: 3.4009452\ttotal: 198ms\tremaining: 932ms\n",
      "175:\tlearn: 3.3987909\ttotal: 199ms\tremaining: 932ms\n",
      "176:\tlearn: 3.3963076\ttotal: 200ms\tremaining: 931ms\n",
      "177:\tlearn: 3.3956961\ttotal: 201ms\tremaining: 930ms\n",
      "178:\tlearn: 3.3917699\ttotal: 203ms\tremaining: 929ms\n",
      "179:\tlearn: 3.3899813\ttotal: 204ms\tremaining: 927ms\n",
      "180:\tlearn: 3.3833524\ttotal: 205ms\tremaining: 926ms\n",
      "181:\tlearn: 3.3822076\ttotal: 206ms\tremaining: 925ms\n",
      "182:\tlearn: 3.3804802\ttotal: 207ms\tremaining: 924ms\n",
      "183:\tlearn: 3.3786754\ttotal: 208ms\tremaining: 922ms\n",
      "184:\tlearn: 3.3697121\ttotal: 209ms\tremaining: 921ms\n",
      "185:\tlearn: 3.3605058\ttotal: 210ms\tremaining: 920ms\n",
      "186:\tlearn: 3.3576742\ttotal: 211ms\tremaining: 917ms\n",
      "187:\tlearn: 3.3500544\ttotal: 212ms\tremaining: 914ms\n",
      "188:\tlearn: 3.3449270\ttotal: 212ms\tremaining: 911ms\n",
      "189:\tlearn: 3.3413599\ttotal: 214ms\tremaining: 914ms\n",
      "190:\tlearn: 3.3365536\ttotal: 215ms\tremaining: 912ms\n",
      "191:\tlearn: 3.3346201\ttotal: 216ms\tremaining: 911ms\n",
      "192:\tlearn: 3.3283650\ttotal: 218ms\tremaining: 910ms\n",
      "193:\tlearn: 3.3267185\ttotal: 218ms\tremaining: 908ms\n",
      "194:\tlearn: 3.3252616\ttotal: 219ms\tremaining: 906ms\n",
      "195:\tlearn: 3.3230596\ttotal: 221ms\tremaining: 905ms\n",
      "196:\tlearn: 3.3211319\ttotal: 222ms\tremaining: 903ms\n",
      "197:\tlearn: 3.3172900\ttotal: 223ms\tremaining: 902ms\n",
      "198:\tlearn: 3.3147865\ttotal: 224ms\tremaining: 901ms\n",
      "199:\tlearn: 3.3069684\ttotal: 225ms\tremaining: 902ms\n",
      "200:\tlearn: 3.3061059\ttotal: 233ms\tremaining: 925ms\n",
      "201:\tlearn: 3.3042466\ttotal: 234ms\tremaining: 924ms\n",
      "202:\tlearn: 3.3021132\ttotal: 235ms\tremaining: 923ms\n",
      "203:\tlearn: 3.2998719\ttotal: 236ms\tremaining: 922ms\n",
      "204:\tlearn: 3.2946633\ttotal: 238ms\tremaining: 924ms\n",
      "205:\tlearn: 3.2932994\ttotal: 240ms\tremaining: 924ms\n",
      "206:\tlearn: 3.2912431\ttotal: 241ms\tremaining: 924ms\n",
      "207:\tlearn: 3.2882085\ttotal: 242ms\tremaining: 922ms\n",
      "208:\tlearn: 3.2856107\ttotal: 243ms\tremaining: 921ms\n",
      "209:\tlearn: 3.2770648\ttotal: 244ms\tremaining: 919ms\n",
      "210:\tlearn: 3.2754353\ttotal: 245ms\tremaining: 918ms\n",
      "211:\tlearn: 3.2688077\ttotal: 247ms\tremaining: 917ms\n",
      "212:\tlearn: 3.2653546\ttotal: 248ms\tremaining: 916ms\n",
      "213:\tlearn: 3.2615434\ttotal: 249ms\tremaining: 914ms\n",
      "214:\tlearn: 3.2556639\ttotal: 250ms\tremaining: 914ms\n",
      "215:\tlearn: 3.2542896\ttotal: 251ms\tremaining: 911ms\n",
      "216:\tlearn: 3.2528299\ttotal: 252ms\tremaining: 909ms\n",
      "217:\tlearn: 3.2506732\ttotal: 253ms\tremaining: 907ms\n",
      "218:\tlearn: 3.2493070\ttotal: 254ms\tremaining: 905ms\n",
      "219:\tlearn: 3.2468867\ttotal: 255ms\tremaining: 904ms\n",
      "220:\tlearn: 3.2453460\ttotal: 256ms\tremaining: 902ms\n",
      "221:\tlearn: 3.2403632\ttotal: 258ms\tremaining: 906ms\n",
      "222:\tlearn: 3.2345317\ttotal: 260ms\tremaining: 904ms\n",
      "223:\tlearn: 3.2301326\ttotal: 261ms\tremaining: 903ms\n",
      "224:\tlearn: 3.2286107\ttotal: 262ms\tremaining: 902ms\n",
      "225:\tlearn: 3.2271347\ttotal: 263ms\tremaining: 900ms\n",
      "226:\tlearn: 3.2213548\ttotal: 264ms\tremaining: 899ms\n",
      "227:\tlearn: 3.2151824\ttotal: 265ms\tremaining: 896ms\n",
      "228:\tlearn: 3.2128489\ttotal: 266ms\tremaining: 895ms\n",
      "229:\tlearn: 3.2107562\ttotal: 267ms\tremaining: 893ms\n",
      "230:\tlearn: 3.2082062\ttotal: 268ms\tremaining: 891ms\n",
      "231:\tlearn: 3.2066195\ttotal: 269ms\tremaining: 889ms\n",
      "232:\tlearn: 3.2017539\ttotal: 270ms\tremaining: 888ms\n",
      "233:\tlearn: 3.1946579\ttotal: 271ms\tremaining: 886ms\n",
      "234:\tlearn: 3.1876981\ttotal: 272ms\tremaining: 885ms\n",
      "235:\tlearn: 3.1829179\ttotal: 273ms\tremaining: 884ms\n",
      "236:\tlearn: 3.1778802\ttotal: 274ms\tremaining: 882ms\n",
      "237:\tlearn: 3.1765619\ttotal: 275ms\tremaining: 880ms\n",
      "238:\tlearn: 3.1704928\ttotal: 276ms\tremaining: 878ms\n",
      "239:\tlearn: 3.1692996\ttotal: 277ms\tremaining: 877ms\n",
      "240:\tlearn: 3.1663670\ttotal: 278ms\tremaining: 875ms\n",
      "241:\tlearn: 3.1638191\ttotal: 279ms\tremaining: 874ms\n",
      "242:\tlearn: 3.1620840\ttotal: 280ms\tremaining: 872ms\n",
      "243:\tlearn: 3.1599899\ttotal: 281ms\tremaining: 870ms\n",
      "244:\tlearn: 3.1580460\ttotal: 282ms\tremaining: 868ms\n",
      "245:\tlearn: 3.1566395\ttotal: 283ms\tremaining: 866ms\n",
      "246:\tlearn: 3.1552700\ttotal: 284ms\tremaining: 864ms\n",
      "247:\tlearn: 3.1535346\ttotal: 285ms\tremaining: 863ms\n",
      "248:\tlearn: 3.1490803\ttotal: 285ms\tremaining: 861ms\n",
      "249:\tlearn: 3.1467423\ttotal: 286ms\tremaining: 859ms\n",
      "250:\tlearn: 3.1449839\ttotal: 288ms\tremaining: 858ms\n",
      "251:\tlearn: 3.1387562\ttotal: 289ms\tremaining: 857ms\n",
      "252:\tlearn: 3.1374820\ttotal: 290ms\tremaining: 855ms\n",
      "253:\tlearn: 3.1323552\ttotal: 291ms\tremaining: 854ms\n",
      "254:\tlearn: 3.1266941\ttotal: 292ms\tremaining: 852ms\n",
      "255:\tlearn: 3.1254227\ttotal: 293ms\tremaining: 851ms\n",
      "256:\tlearn: 3.1227898\ttotal: 294ms\tremaining: 849ms\n",
      "257:\tlearn: 3.1214951\ttotal: 295ms\tremaining: 847ms\n",
      "258:\tlearn: 3.1176720\ttotal: 296ms\tremaining: 846ms\n",
      "259:\tlearn: 3.1136198\ttotal: 297ms\tremaining: 844ms\n",
      "260:\tlearn: 3.1097666\ttotal: 298ms\tremaining: 843ms\n",
      "261:\tlearn: 3.1081484\ttotal: 299ms\tremaining: 841ms\n",
      "262:\tlearn: 3.1030755\ttotal: 300ms\tremaining: 840ms\n",
      "263:\tlearn: 3.0986904\ttotal: 301ms\tremaining: 838ms\n",
      "264:\tlearn: 3.0946694\ttotal: 302ms\tremaining: 836ms\n",
      "265:\tlearn: 3.0935323\ttotal: 302ms\tremaining: 835ms\n",
      "266:\tlearn: 3.0919076\ttotal: 304ms\tremaining: 835ms\n",
      "267:\tlearn: 3.0872503\ttotal: 305ms\tremaining: 834ms\n",
      "268:\tlearn: 3.0843744\ttotal: 306ms\tremaining: 832ms\n",
      "269:\tlearn: 3.0821885\ttotal: 307ms\tremaining: 831ms\n",
      "270:\tlearn: 3.0807416\ttotal: 308ms\tremaining: 830ms\n",
      "271:\tlearn: 3.0771550\ttotal: 309ms\tremaining: 828ms\n",
      "272:\tlearn: 3.0716856\ttotal: 310ms\tremaining: 827ms\n",
      "273:\tlearn: 3.0698749\ttotal: 311ms\tremaining: 825ms\n",
      "274:\tlearn: 3.0664113\ttotal: 313ms\tremaining: 825ms\n",
      "275:\tlearn: 3.0651194\ttotal: 314ms\tremaining: 823ms\n",
      "276:\tlearn: 3.0607177\ttotal: 315ms\tremaining: 822ms\n",
      "277:\tlearn: 3.0585978\ttotal: 316ms\tremaining: 821ms\n",
      "278:\tlearn: 3.0562891\ttotal: 317ms\tremaining: 820ms\n",
      "279:\tlearn: 3.0513825\ttotal: 318ms\tremaining: 819ms\n",
      "280:\tlearn: 3.0493968\ttotal: 320ms\tremaining: 819ms\n",
      "281:\tlearn: 3.0427983\ttotal: 321ms\tremaining: 818ms\n",
      "282:\tlearn: 3.0405657\ttotal: 322ms\tremaining: 817ms\n",
      "283:\tlearn: 3.0379671\ttotal: 324ms\tremaining: 816ms\n",
      "284:\tlearn: 3.0354641\ttotal: 325ms\tremaining: 815ms\n",
      "285:\tlearn: 3.0342499\ttotal: 326ms\tremaining: 813ms\n",
      "286:\tlearn: 3.0323498\ttotal: 327ms\tremaining: 812ms\n",
      "287:\tlearn: 3.0298492\ttotal: 328ms\tremaining: 811ms\n",
      "288:\tlearn: 3.0277864\ttotal: 329ms\tremaining: 809ms\n",
      "289:\tlearn: 3.0254591\ttotal: 330ms\tremaining: 808ms\n",
      "290:\tlearn: 3.0231583\ttotal: 331ms\tremaining: 807ms\n",
      "291:\tlearn: 3.0210285\ttotal: 332ms\tremaining: 805ms\n",
      "292:\tlearn: 3.0167872\ttotal: 333ms\tremaining: 804ms\n",
      "293:\tlearn: 3.0155948\ttotal: 334ms\tremaining: 803ms\n",
      "294:\tlearn: 3.0133413\ttotal: 336ms\tremaining: 802ms\n",
      "295:\tlearn: 3.0111689\ttotal: 337ms\tremaining: 801ms\n",
      "296:\tlearn: 3.0099023\ttotal: 338ms\tremaining: 799ms\n",
      "297:\tlearn: 3.0078069\ttotal: 339ms\tremaining: 798ms\n",
      "298:\tlearn: 3.0042010\ttotal: 340ms\tremaining: 797ms\n",
      "299:\tlearn: 3.0013378\ttotal: 341ms\tremaining: 795ms\n",
      "300:\tlearn: 3.0005498\ttotal: 342ms\tremaining: 795ms\n",
      "301:\tlearn: 2.9978179\ttotal: 344ms\tremaining: 795ms\n",
      "302:\tlearn: 2.9965907\ttotal: 345ms\tremaining: 794ms\n",
      "303:\tlearn: 2.9921467\ttotal: 346ms\tremaining: 793ms\n",
      "304:\tlearn: 2.9884051\ttotal: 347ms\tremaining: 791ms\n",
      "305:\tlearn: 2.9873206\ttotal: 348ms\tremaining: 790ms\n",
      "306:\tlearn: 2.9863728\ttotal: 349ms\tremaining: 788ms\n",
      "307:\tlearn: 2.9852674\ttotal: 353ms\tremaining: 793ms\n",
      "308:\tlearn: 2.9808799\ttotal: 354ms\tremaining: 792ms\n",
      "309:\tlearn: 2.9773287\ttotal: 356ms\tremaining: 791ms\n",
      "310:\tlearn: 2.9740913\ttotal: 357ms\tremaining: 792ms\n",
      "311:\tlearn: 2.9687794\ttotal: 358ms\tremaining: 790ms\n",
      "312:\tlearn: 2.9668018\ttotal: 359ms\tremaining: 789ms\n",
      "313:\tlearn: 2.9633223\ttotal: 360ms\tremaining: 787ms\n",
      "314:\tlearn: 2.9622512\ttotal: 361ms\tremaining: 786ms\n",
      "315:\tlearn: 2.9590398\ttotal: 362ms\tremaining: 784ms\n",
      "316:\tlearn: 2.9576917\ttotal: 363ms\tremaining: 783ms\n",
      "317:\tlearn: 2.9566748\ttotal: 364ms\tremaining: 781ms\n",
      "318:\tlearn: 2.9537869\ttotal: 365ms\tremaining: 779ms\n",
      "319:\tlearn: 2.9531765\ttotal: 366ms\tremaining: 778ms\n",
      "320:\tlearn: 2.9513300\ttotal: 367ms\tremaining: 777ms\n",
      "321:\tlearn: 2.9489933\ttotal: 368ms\tremaining: 775ms\n",
      "322:\tlearn: 2.9482091\ttotal: 369ms\tremaining: 774ms\n",
      "323:\tlearn: 2.9462269\ttotal: 370ms\tremaining: 772ms\n",
      "324:\tlearn: 2.9417485\ttotal: 371ms\tremaining: 771ms\n",
      "325:\tlearn: 2.9411732\ttotal: 372ms\tremaining: 770ms\n",
      "326:\tlearn: 2.9399379\ttotal: 373ms\tremaining: 768ms\n",
      "327:\tlearn: 2.9374796\ttotal: 374ms\tremaining: 767ms\n",
      "328:\tlearn: 2.9351621\ttotal: 375ms\tremaining: 765ms\n",
      "329:\tlearn: 2.9341134\ttotal: 376ms\tremaining: 764ms\n",
      "330:\tlearn: 2.9333023\ttotal: 377ms\tremaining: 763ms\n",
      "331:\tlearn: 2.9306058\ttotal: 379ms\tremaining: 762ms\n",
      "332:\tlearn: 2.9277750\ttotal: 380ms\tremaining: 761ms\n",
      "333:\tlearn: 2.9252810\ttotal: 381ms\tremaining: 761ms\n",
      "334:\tlearn: 2.9223697\ttotal: 383ms\tremaining: 761ms\n",
      "335:\tlearn: 2.9204722\ttotal: 384ms\tremaining: 760ms\n",
      "336:\tlearn: 2.9195036\ttotal: 385ms\tremaining: 758ms\n",
      "337:\tlearn: 2.9175673\ttotal: 386ms\tremaining: 757ms\n",
      "338:\tlearn: 2.9165805\ttotal: 387ms\tremaining: 756ms\n",
      "339:\tlearn: 2.9152913\ttotal: 388ms\tremaining: 754ms\n",
      "340:\tlearn: 2.9136821\ttotal: 390ms\tremaining: 754ms\n",
      "341:\tlearn: 2.9118110\ttotal: 391ms\tremaining: 753ms\n",
      "342:\tlearn: 2.9098536\ttotal: 393ms\tremaining: 752ms\n",
      "343:\tlearn: 2.9062676\ttotal: 394ms\tremaining: 751ms\n",
      "344:\tlearn: 2.9047375\ttotal: 395ms\tremaining: 749ms\n",
      "345:\tlearn: 2.9026307\ttotal: 396ms\tremaining: 748ms\n",
      "346:\tlearn: 2.9008190\ttotal: 397ms\tremaining: 746ms\n",
      "347:\tlearn: 2.9002473\ttotal: 398ms\tremaining: 746ms\n",
      "348:\tlearn: 2.8966683\ttotal: 399ms\tremaining: 745ms\n",
      "349:\tlearn: 2.8959253\ttotal: 400ms\tremaining: 743ms\n",
      "350:\tlearn: 2.8947830\ttotal: 401ms\tremaining: 742ms\n",
      "351:\tlearn: 2.8940387\ttotal: 402ms\tremaining: 740ms\n",
      "352:\tlearn: 2.8914357\ttotal: 403ms\tremaining: 738ms\n",
      "353:\tlearn: 2.8909858\ttotal: 404ms\tremaining: 737ms\n",
      "354:\tlearn: 2.8901471\ttotal: 405ms\tremaining: 735ms\n",
      "355:\tlearn: 2.8889106\ttotal: 405ms\tremaining: 733ms\n",
      "356:\tlearn: 2.8864541\ttotal: 406ms\tremaining: 732ms\n",
      "357:\tlearn: 2.8839497\ttotal: 407ms\tremaining: 730ms\n",
      "358:\tlearn: 2.8823747\ttotal: 408ms\tremaining: 729ms\n",
      "359:\tlearn: 2.8786305\ttotal: 409ms\tremaining: 727ms\n",
      "360:\tlearn: 2.8776761\ttotal: 410ms\tremaining: 726ms\n",
      "361:\tlearn: 2.8755966\ttotal: 411ms\tremaining: 724ms\n",
      "362:\tlearn: 2.8714382\ttotal: 412ms\tremaining: 723ms\n",
      "363:\tlearn: 2.8670726\ttotal: 413ms\tremaining: 722ms\n",
      "364:\tlearn: 2.8623035\ttotal: 414ms\tremaining: 721ms\n",
      "365:\tlearn: 2.8602141\ttotal: 415ms\tremaining: 719ms\n",
      "366:\tlearn: 2.8575183\ttotal: 416ms\tremaining: 718ms\n",
      "367:\tlearn: 2.8552932\ttotal: 417ms\tremaining: 717ms\n",
      "368:\tlearn: 2.8544591\ttotal: 418ms\tremaining: 715ms\n",
      "369:\tlearn: 2.8526170\ttotal: 419ms\tremaining: 714ms\n",
      "370:\tlearn: 2.8480822\ttotal: 420ms\tremaining: 712ms\n",
      "371:\tlearn: 2.8462796\ttotal: 421ms\tremaining: 711ms\n",
      "372:\tlearn: 2.8421551\ttotal: 422ms\tremaining: 710ms\n",
      "373:\tlearn: 2.8404675\ttotal: 423ms\tremaining: 708ms\n",
      "374:\tlearn: 2.8395530\ttotal: 424ms\tremaining: 707ms\n",
      "375:\tlearn: 2.8390816\ttotal: 425ms\tremaining: 705ms\n",
      "376:\tlearn: 2.8381618\ttotal: 426ms\tremaining: 704ms\n",
      "377:\tlearn: 2.8356165\ttotal: 427ms\tremaining: 702ms\n",
      "378:\tlearn: 2.8346800\ttotal: 427ms\tremaining: 700ms\n",
      "379:\tlearn: 2.8335386\ttotal: 429ms\tremaining: 699ms\n",
      "380:\tlearn: 2.8326289\ttotal: 430ms\tremaining: 699ms\n",
      "381:\tlearn: 2.8316926\ttotal: 431ms\tremaining: 697ms\n",
      "382:\tlearn: 2.8293658\ttotal: 432ms\tremaining: 696ms\n",
      "383:\tlearn: 2.8268040\ttotal: 433ms\tremaining: 695ms\n",
      "384:\tlearn: 2.8259895\ttotal: 434ms\tremaining: 694ms\n",
      "385:\tlearn: 2.8243324\ttotal: 435ms\tremaining: 692ms\n",
      "386:\tlearn: 2.8207532\ttotal: 436ms\tremaining: 691ms\n",
      "387:\tlearn: 2.8200593\ttotal: 437ms\tremaining: 689ms\n",
      "388:\tlearn: 2.8172072\ttotal: 438ms\tremaining: 688ms\n",
      "389:\tlearn: 2.8150118\ttotal: 439ms\tremaining: 686ms\n",
      "390:\tlearn: 2.8132484\ttotal: 440ms\tremaining: 685ms\n",
      "391:\tlearn: 2.8096929\ttotal: 441ms\tremaining: 683ms\n",
      "392:\tlearn: 2.8078055\ttotal: 442ms\tremaining: 682ms\n",
      "393:\tlearn: 2.8065835\ttotal: 442ms\tremaining: 681ms\n",
      "394:\tlearn: 2.8053706\ttotal: 443ms\tremaining: 679ms\n",
      "395:\tlearn: 2.8023772\ttotal: 445ms\tremaining: 678ms\n",
      "396:\tlearn: 2.8016288\ttotal: 446ms\tremaining: 677ms\n",
      "397:\tlearn: 2.8004095\ttotal: 447ms\tremaining: 676ms\n",
      "398:\tlearn: 2.7996615\ttotal: 448ms\tremaining: 674ms\n",
      "399:\tlearn: 2.7980444\ttotal: 449ms\tremaining: 673ms\n",
      "400:\tlearn: 2.7972176\ttotal: 450ms\tremaining: 672ms\n",
      "401:\tlearn: 2.7958338\ttotal: 451ms\tremaining: 670ms\n",
      "402:\tlearn: 2.7938483\ttotal: 451ms\tremaining: 669ms\n",
      "403:\tlearn: 2.7926237\ttotal: 452ms\tremaining: 667ms\n",
      "404:\tlearn: 2.7905676\ttotal: 453ms\tremaining: 666ms\n",
      "405:\tlearn: 2.7893266\ttotal: 454ms\tremaining: 664ms\n",
      "406:\tlearn: 2.7867778\ttotal: 455ms\tremaining: 663ms\n",
      "407:\tlearn: 2.7863063\ttotal: 456ms\tremaining: 661ms\n",
      "408:\tlearn: 2.7849237\ttotal: 457ms\tremaining: 660ms\n",
      "409:\tlearn: 2.7819876\ttotal: 458ms\tremaining: 659ms\n",
      "410:\tlearn: 2.7787796\ttotal: 459ms\tremaining: 657ms\n",
      "411:\tlearn: 2.7750913\ttotal: 460ms\tremaining: 656ms\n",
      "412:\tlearn: 2.7735406\ttotal: 461ms\tremaining: 655ms\n",
      "413:\tlearn: 2.7707815\ttotal: 462ms\tremaining: 654ms\n",
      "414:\tlearn: 2.7701042\ttotal: 463ms\tremaining: 652ms\n",
      "415:\tlearn: 2.7685364\ttotal: 464ms\tremaining: 651ms\n",
      "416:\tlearn: 2.7677744\ttotal: 464ms\tremaining: 649ms\n",
      "417:\tlearn: 2.7652068\ttotal: 465ms\tremaining: 648ms\n",
      "418:\tlearn: 2.7644473\ttotal: 466ms\tremaining: 647ms\n",
      "419:\tlearn: 2.7639545\ttotal: 467ms\tremaining: 645ms\n",
      "420:\tlearn: 2.7615828\ttotal: 468ms\tremaining: 644ms\n",
      "421:\tlearn: 2.7597265\ttotal: 469ms\tremaining: 642ms\n",
      "422:\tlearn: 2.7584268\ttotal: 470ms\tremaining: 641ms\n",
      "423:\tlearn: 2.7573503\ttotal: 471ms\tremaining: 640ms\n",
      "424:\tlearn: 2.7556641\ttotal: 472ms\tremaining: 638ms\n",
      "425:\tlearn: 2.7548001\ttotal: 473ms\tremaining: 637ms\n",
      "426:\tlearn: 2.7541025\ttotal: 474ms\tremaining: 635ms\n",
      "427:\tlearn: 2.7535068\ttotal: 474ms\tremaining: 634ms\n",
      "428:\tlearn: 2.7506027\ttotal: 476ms\tremaining: 634ms\n",
      "429:\tlearn: 2.7501891\ttotal: 477ms\tremaining: 632ms\n",
      "430:\tlearn: 2.7494394\ttotal: 478ms\tremaining: 631ms\n",
      "431:\tlearn: 2.7482292\ttotal: 479ms\tremaining: 630ms\n",
      "432:\tlearn: 2.7475575\ttotal: 480ms\tremaining: 628ms\n",
      "433:\tlearn: 2.7448599\ttotal: 481ms\tremaining: 627ms\n",
      "434:\tlearn: 2.7442349\ttotal: 482ms\tremaining: 625ms\n",
      "435:\tlearn: 2.7434906\ttotal: 482ms\tremaining: 624ms\n",
      "436:\tlearn: 2.7414800\ttotal: 483ms\tremaining: 623ms\n",
      "437:\tlearn: 2.7401824\ttotal: 484ms\tremaining: 622ms\n",
      "438:\tlearn: 2.7387459\ttotal: 485ms\tremaining: 620ms\n",
      "439:\tlearn: 2.7373301\ttotal: 486ms\tremaining: 619ms\n",
      "440:\tlearn: 2.7365923\ttotal: 487ms\tremaining: 617ms\n",
      "441:\tlearn: 2.7358921\ttotal: 488ms\tremaining: 616ms\n",
      "442:\tlearn: 2.7349174\ttotal: 489ms\tremaining: 615ms\n",
      "443:\tlearn: 2.7327638\ttotal: 490ms\tremaining: 613ms\n",
      "444:\tlearn: 2.7299534\ttotal: 491ms\tremaining: 612ms\n",
      "445:\tlearn: 2.7268040\ttotal: 492ms\tremaining: 611ms\n",
      "446:\tlearn: 2.7251263\ttotal: 493ms\tremaining: 610ms\n",
      "447:\tlearn: 2.7239900\ttotal: 494ms\tremaining: 609ms\n",
      "448:\tlearn: 2.7232027\ttotal: 495ms\tremaining: 607ms\n",
      "449:\tlearn: 2.7220609\ttotal: 496ms\tremaining: 606ms\n",
      "450:\tlearn: 2.7208258\ttotal: 497ms\tremaining: 605ms\n",
      "451:\tlearn: 2.7200800\ttotal: 498ms\tremaining: 603ms\n",
      "452:\tlearn: 2.7192570\ttotal: 498ms\tremaining: 602ms\n",
      "453:\tlearn: 2.7188586\ttotal: 499ms\tremaining: 601ms\n",
      "454:\tlearn: 2.7176066\ttotal: 500ms\tremaining: 599ms\n",
      "455:\tlearn: 2.7156943\ttotal: 501ms\tremaining: 598ms\n",
      "456:\tlearn: 2.7136860\ttotal: 502ms\tremaining: 597ms\n",
      "457:\tlearn: 2.7112656\ttotal: 503ms\tremaining: 595ms\n",
      "458:\tlearn: 2.7097660\ttotal: 504ms\tremaining: 594ms\n",
      "459:\tlearn: 2.7074501\ttotal: 505ms\tremaining: 593ms\n",
      "460:\tlearn: 2.7042838\ttotal: 506ms\tremaining: 592ms\n",
      "461:\tlearn: 2.7036418\ttotal: 507ms\tremaining: 591ms\n",
      "462:\tlearn: 2.7000945\ttotal: 509ms\tremaining: 590ms\n",
      "463:\tlearn: 2.6961502\ttotal: 510ms\tremaining: 589ms\n",
      "464:\tlearn: 2.6955943\ttotal: 510ms\tremaining: 587ms\n",
      "465:\tlearn: 2.6950725\ttotal: 511ms\tremaining: 586ms\n",
      "466:\tlearn: 2.6933957\ttotal: 512ms\tremaining: 585ms\n",
      "467:\tlearn: 2.6921075\ttotal: 513ms\tremaining: 584ms\n",
      "468:\tlearn: 2.6903405\ttotal: 514ms\tremaining: 582ms\n",
      "469:\tlearn: 2.6878531\ttotal: 515ms\tremaining: 581ms\n",
      "470:\tlearn: 2.6848608\ttotal: 516ms\tremaining: 579ms\n",
      "471:\tlearn: 2.6811336\ttotal: 517ms\tremaining: 578ms\n",
      "472:\tlearn: 2.6800753\ttotal: 518ms\tremaining: 577ms\n",
      "473:\tlearn: 2.6789225\ttotal: 519ms\tremaining: 576ms\n",
      "474:\tlearn: 2.6780312\ttotal: 520ms\tremaining: 575ms\n",
      "475:\tlearn: 2.6767398\ttotal: 521ms\tremaining: 573ms\n",
      "476:\tlearn: 2.6747694\ttotal: 522ms\tremaining: 572ms\n",
      "477:\tlearn: 2.6724763\ttotal: 524ms\tremaining: 572ms\n",
      "478:\tlearn: 2.6704998\ttotal: 525ms\tremaining: 571ms\n",
      "479:\tlearn: 2.6693211\ttotal: 526ms\tremaining: 569ms\n",
      "480:\tlearn: 2.6681554\ttotal: 527ms\tremaining: 568ms\n",
      "481:\tlearn: 2.6666217\ttotal: 528ms\tremaining: 567ms\n",
      "482:\tlearn: 2.6657902\ttotal: 528ms\tremaining: 566ms\n",
      "483:\tlearn: 2.6652433\ttotal: 529ms\tremaining: 564ms\n",
      "484:\tlearn: 2.6645669\ttotal: 530ms\tremaining: 563ms\n",
      "485:\tlearn: 2.6639851\ttotal: 531ms\tremaining: 562ms\n",
      "486:\tlearn: 2.6595156\ttotal: 532ms\tremaining: 561ms\n",
      "487:\tlearn: 2.6591243\ttotal: 533ms\tremaining: 559ms\n",
      "488:\tlearn: 2.6575879\ttotal: 534ms\tremaining: 558ms\n",
      "489:\tlearn: 2.6561199\ttotal: 535ms\tremaining: 557ms\n",
      "490:\tlearn: 2.6558351\ttotal: 536ms\tremaining: 555ms\n",
      "491:\tlearn: 2.6542330\ttotal: 537ms\tremaining: 554ms\n",
      "492:\tlearn: 2.6518998\ttotal: 538ms\tremaining: 553ms\n",
      "493:\tlearn: 2.6515813\ttotal: 539ms\tremaining: 552ms\n",
      "494:\tlearn: 2.6502590\ttotal: 540ms\tremaining: 551ms\n",
      "495:\tlearn: 2.6491840\ttotal: 541ms\tremaining: 550ms\n",
      "496:\tlearn: 2.6479187\ttotal: 542ms\tremaining: 549ms\n",
      "497:\tlearn: 2.6475677\ttotal: 543ms\tremaining: 548ms\n",
      "498:\tlearn: 2.6456889\ttotal: 544ms\tremaining: 547ms\n",
      "499:\tlearn: 2.6450338\ttotal: 545ms\tremaining: 545ms\n",
      "500:\tlearn: 2.6420248\ttotal: 546ms\tremaining: 544ms\n",
      "501:\tlearn: 2.6408215\ttotal: 547ms\tremaining: 543ms\n",
      "502:\tlearn: 2.6388948\ttotal: 548ms\tremaining: 542ms\n",
      "503:\tlearn: 2.6355076\ttotal: 549ms\tremaining: 541ms\n",
      "504:\tlearn: 2.6340398\ttotal: 550ms\tremaining: 539ms\n",
      "505:\tlearn: 2.6337268\ttotal: 551ms\tremaining: 538ms\n",
      "506:\tlearn: 2.6332707\ttotal: 552ms\tremaining: 537ms\n",
      "507:\tlearn: 2.6317090\ttotal: 553ms\tremaining: 536ms\n",
      "508:\tlearn: 2.6308042\ttotal: 554ms\tremaining: 534ms\n",
      "509:\tlearn: 2.6296578\ttotal: 555ms\tremaining: 533ms\n",
      "510:\tlearn: 2.6281477\ttotal: 556ms\tremaining: 532ms\n",
      "511:\tlearn: 2.6270673\ttotal: 557ms\tremaining: 531ms\n",
      "512:\tlearn: 2.6229825\ttotal: 558ms\tremaining: 530ms\n",
      "513:\tlearn: 2.6223315\ttotal: 559ms\tremaining: 529ms\n",
      "514:\tlearn: 2.6207054\ttotal: 560ms\tremaining: 527ms\n",
      "515:\tlearn: 2.6196703\ttotal: 561ms\tremaining: 526ms\n",
      "516:\tlearn: 2.6187440\ttotal: 562ms\tremaining: 525ms\n",
      "517:\tlearn: 2.6177347\ttotal: 563ms\tremaining: 524ms\n",
      "518:\tlearn: 2.6168063\ttotal: 564ms\tremaining: 522ms\n",
      "519:\tlearn: 2.6161842\ttotal: 565ms\tremaining: 521ms\n",
      "520:\tlearn: 2.6158615\ttotal: 566ms\tremaining: 520ms\n",
      "521:\tlearn: 2.6136015\ttotal: 567ms\tremaining: 519ms\n",
      "522:\tlearn: 2.6121256\ttotal: 568ms\tremaining: 518ms\n",
      "523:\tlearn: 2.6106187\ttotal: 569ms\tremaining: 517ms\n",
      "524:\tlearn: 2.6082137\ttotal: 571ms\tremaining: 517ms\n",
      "525:\tlearn: 2.6040762\ttotal: 572ms\tremaining: 516ms\n",
      "526:\tlearn: 2.6018184\ttotal: 573ms\tremaining: 515ms\n",
      "527:\tlearn: 2.5990331\ttotal: 574ms\tremaining: 513ms\n",
      "528:\tlearn: 2.5981668\ttotal: 575ms\tremaining: 512ms\n",
      "529:\tlearn: 2.5967724\ttotal: 577ms\tremaining: 511ms\n",
      "530:\tlearn: 2.5946192\ttotal: 578ms\tremaining: 510ms\n",
      "531:\tlearn: 2.5933872\ttotal: 579ms\tremaining: 509ms\n",
      "532:\tlearn: 2.5922263\ttotal: 580ms\tremaining: 509ms\n",
      "533:\tlearn: 2.5914287\ttotal: 582ms\tremaining: 508ms\n",
      "534:\tlearn: 2.5907151\ttotal: 583ms\tremaining: 506ms\n",
      "535:\tlearn: 2.5888316\ttotal: 584ms\tremaining: 505ms\n",
      "536:\tlearn: 2.5876873\ttotal: 585ms\tremaining: 504ms\n",
      "537:\tlearn: 2.5862367\ttotal: 586ms\tremaining: 503ms\n",
      "538:\tlearn: 2.5847330\ttotal: 587ms\tremaining: 502ms\n",
      "539:\tlearn: 2.5843201\ttotal: 588ms\tremaining: 501ms\n",
      "540:\tlearn: 2.5826931\ttotal: 589ms\tremaining: 500ms\n",
      "541:\tlearn: 2.5817928\ttotal: 590ms\tremaining: 499ms\n",
      "542:\tlearn: 2.5798303\ttotal: 591ms\tremaining: 497ms\n",
      "543:\tlearn: 2.5785432\ttotal: 592ms\tremaining: 496ms\n",
      "544:\tlearn: 2.5778063\ttotal: 593ms\tremaining: 495ms\n",
      "545:\tlearn: 2.5772353\ttotal: 594ms\tremaining: 494ms\n",
      "546:\tlearn: 2.5759239\ttotal: 595ms\tremaining: 492ms\n",
      "547:\tlearn: 2.5749256\ttotal: 595ms\tremaining: 491ms\n",
      "548:\tlearn: 2.5734846\ttotal: 596ms\tremaining: 490ms\n",
      "549:\tlearn: 2.5725810\ttotal: 597ms\tremaining: 489ms\n",
      "550:\tlearn: 2.5719438\ttotal: 598ms\tremaining: 487ms\n",
      "551:\tlearn: 2.5702776\ttotal: 599ms\tremaining: 486ms\n",
      "552:\tlearn: 2.5699870\ttotal: 600ms\tremaining: 485ms\n",
      "553:\tlearn: 2.5688932\ttotal: 601ms\tremaining: 484ms\n",
      "554:\tlearn: 2.5684254\ttotal: 603ms\tremaining: 483ms\n",
      "555:\tlearn: 2.5667285\ttotal: 604ms\tremaining: 482ms\n",
      "556:\tlearn: 2.5663404\ttotal: 605ms\tremaining: 481ms\n",
      "557:\tlearn: 2.5661574\ttotal: 605ms\tremaining: 479ms\n",
      "558:\tlearn: 2.5647352\ttotal: 606ms\tremaining: 478ms\n",
      "559:\tlearn: 2.5642595\ttotal: 607ms\tremaining: 477ms\n",
      "560:\tlearn: 2.5640351\ttotal: 608ms\tremaining: 476ms\n",
      "561:\tlearn: 2.5624867\ttotal: 609ms\tremaining: 475ms\n",
      "562:\tlearn: 2.5611590\ttotal: 610ms\tremaining: 473ms\n",
      "563:\tlearn: 2.5600024\ttotal: 611ms\tremaining: 472ms\n",
      "564:\tlearn: 2.5595444\ttotal: 612ms\tremaining: 471ms\n",
      "565:\tlearn: 2.5587248\ttotal: 613ms\tremaining: 470ms\n",
      "566:\tlearn: 2.5581421\ttotal: 614ms\tremaining: 469ms\n",
      "567:\tlearn: 2.5578815\ttotal: 615ms\tremaining: 467ms\n",
      "568:\tlearn: 2.5576346\ttotal: 616ms\tremaining: 466ms\n",
      "569:\tlearn: 2.5566973\ttotal: 617ms\tremaining: 466ms\n",
      "570:\tlearn: 2.5560213\ttotal: 619ms\tremaining: 465ms\n",
      "571:\tlearn: 2.5547045\ttotal: 620ms\tremaining: 464ms\n",
      "572:\tlearn: 2.5544891\ttotal: 621ms\tremaining: 463ms\n",
      "573:\tlearn: 2.5528532\ttotal: 622ms\tremaining: 461ms\n",
      "574:\tlearn: 2.5523275\ttotal: 623ms\tremaining: 460ms\n",
      "575:\tlearn: 2.5521139\ttotal: 623ms\tremaining: 459ms\n",
      "576:\tlearn: 2.5503467\ttotal: 624ms\tremaining: 458ms\n",
      "577:\tlearn: 2.5490084\ttotal: 625ms\tremaining: 457ms\n",
      "578:\tlearn: 2.5481453\ttotal: 626ms\tremaining: 455ms\n",
      "579:\tlearn: 2.5471534\ttotal: 627ms\tremaining: 454ms\n",
      "580:\tlearn: 2.5466256\ttotal: 628ms\tremaining: 453ms\n",
      "581:\tlearn: 2.5462131\ttotal: 629ms\tremaining: 452ms\n",
      "582:\tlearn: 2.5450502\ttotal: 630ms\tremaining: 450ms\n",
      "583:\tlearn: 2.5438117\ttotal: 631ms\tremaining: 449ms\n",
      "584:\tlearn: 2.5432118\ttotal: 632ms\tremaining: 448ms\n",
      "585:\tlearn: 2.5429239\ttotal: 633ms\tremaining: 447ms\n",
      "586:\tlearn: 2.5406065\ttotal: 635ms\tremaining: 446ms\n",
      "587:\tlearn: 2.5389031\ttotal: 636ms\tremaining: 445ms\n",
      "588:\tlearn: 2.5382488\ttotal: 636ms\tremaining: 444ms\n",
      "589:\tlearn: 2.5373519\ttotal: 637ms\tremaining: 443ms\n",
      "590:\tlearn: 2.5357037\ttotal: 638ms\tremaining: 442ms\n",
      "591:\tlearn: 2.5336618\ttotal: 639ms\tremaining: 441ms\n",
      "592:\tlearn: 2.5331641\ttotal: 640ms\tremaining: 439ms\n",
      "593:\tlearn: 2.5311399\ttotal: 641ms\tremaining: 438ms\n",
      "594:\tlearn: 2.5304199\ttotal: 642ms\tremaining: 437ms\n",
      "595:\tlearn: 2.5289809\ttotal: 643ms\tremaining: 436ms\n",
      "596:\tlearn: 2.5288419\ttotal: 644ms\tremaining: 435ms\n",
      "597:\tlearn: 2.5282446\ttotal: 644ms\tremaining: 433ms\n",
      "598:\tlearn: 2.5269807\ttotal: 645ms\tremaining: 432ms\n",
      "599:\tlearn: 2.5263989\ttotal: 646ms\tremaining: 431ms\n",
      "600:\tlearn: 2.5259809\ttotal: 647ms\tremaining: 430ms\n",
      "601:\tlearn: 2.5250232\ttotal: 648ms\tremaining: 429ms\n",
      "602:\tlearn: 2.5230313\ttotal: 649ms\tremaining: 428ms\n",
      "603:\tlearn: 2.5223493\ttotal: 650ms\tremaining: 426ms\n",
      "604:\tlearn: 2.5208542\ttotal: 651ms\tremaining: 425ms\n",
      "605:\tlearn: 2.5205761\ttotal: 652ms\tremaining: 424ms\n",
      "606:\tlearn: 2.5200127\ttotal: 653ms\tremaining: 423ms\n",
      "607:\tlearn: 2.5174942\ttotal: 654ms\tremaining: 422ms\n",
      "608:\tlearn: 2.5170248\ttotal: 655ms\tremaining: 421ms\n",
      "609:\tlearn: 2.5166407\ttotal: 656ms\tremaining: 420ms\n",
      "610:\tlearn: 2.5153910\ttotal: 657ms\tremaining: 418ms\n",
      "611:\tlearn: 2.5134543\ttotal: 658ms\tremaining: 417ms\n",
      "612:\tlearn: 2.5118070\ttotal: 659ms\tremaining: 416ms\n",
      "613:\tlearn: 2.5108107\ttotal: 660ms\tremaining: 415ms\n",
      "614:\tlearn: 2.5089393\ttotal: 661ms\tremaining: 414ms\n",
      "615:\tlearn: 2.5076706\ttotal: 662ms\tremaining: 413ms\n",
      "616:\tlearn: 2.5065908\ttotal: 663ms\tremaining: 411ms\n",
      "617:\tlearn: 2.5056146\ttotal: 664ms\tremaining: 410ms\n",
      "618:\tlearn: 2.5040907\ttotal: 665ms\tremaining: 409ms\n",
      "619:\tlearn: 2.5028979\ttotal: 666ms\tremaining: 408ms\n",
      "620:\tlearn: 2.5022338\ttotal: 667ms\tremaining: 407ms\n",
      "621:\tlearn: 2.5010685\ttotal: 668ms\tremaining: 406ms\n",
      "622:\tlearn: 2.4990573\ttotal: 669ms\tremaining: 405ms\n",
      "623:\tlearn: 2.4984813\ttotal: 670ms\tremaining: 404ms\n",
      "624:\tlearn: 2.4977314\ttotal: 671ms\tremaining: 403ms\n",
      "625:\tlearn: 2.4971953\ttotal: 672ms\tremaining: 402ms\n",
      "626:\tlearn: 2.4970068\ttotal: 673ms\tremaining: 400ms\n",
      "627:\tlearn: 2.4965614\ttotal: 674ms\tremaining: 399ms\n",
      "628:\tlearn: 2.4958646\ttotal: 675ms\tremaining: 398ms\n",
      "629:\tlearn: 2.4955216\ttotal: 676ms\tremaining: 397ms\n",
      "630:\tlearn: 2.4950217\ttotal: 677ms\tremaining: 396ms\n",
      "631:\tlearn: 2.4933018\ttotal: 677ms\tremaining: 394ms\n",
      "632:\tlearn: 2.4928006\ttotal: 678ms\tremaining: 393ms\n",
      "633:\tlearn: 2.4919729\ttotal: 680ms\tremaining: 392ms\n",
      "634:\tlearn: 2.4917717\ttotal: 680ms\tremaining: 391ms\n",
      "635:\tlearn: 2.4898994\ttotal: 682ms\tremaining: 390ms\n",
      "636:\tlearn: 2.4887689\ttotal: 682ms\tremaining: 389ms\n",
      "637:\tlearn: 2.4877924\ttotal: 683ms\tremaining: 388ms\n",
      "638:\tlearn: 2.4871903\ttotal: 685ms\tremaining: 387ms\n",
      "639:\tlearn: 2.4863474\ttotal: 686ms\tremaining: 386ms\n",
      "640:\tlearn: 2.4861176\ttotal: 687ms\tremaining: 385ms\n",
      "641:\tlearn: 2.4849580\ttotal: 688ms\tremaining: 383ms\n",
      "642:\tlearn: 2.4836245\ttotal: 689ms\tremaining: 382ms\n",
      "643:\tlearn: 2.4829975\ttotal: 689ms\tremaining: 381ms\n",
      "644:\tlearn: 2.4821589\ttotal: 690ms\tremaining: 380ms\n",
      "645:\tlearn: 2.4818835\ttotal: 691ms\tremaining: 379ms\n",
      "646:\tlearn: 2.4803001\ttotal: 692ms\tremaining: 378ms\n",
      "647:\tlearn: 2.4795446\ttotal: 693ms\tremaining: 377ms\n",
      "648:\tlearn: 2.4790884\ttotal: 694ms\tremaining: 375ms\n",
      "649:\tlearn: 2.4776229\ttotal: 696ms\tremaining: 375ms\n",
      "650:\tlearn: 2.4760104\ttotal: 697ms\tremaining: 374ms\n",
      "651:\tlearn: 2.4752386\ttotal: 698ms\tremaining: 373ms\n",
      "652:\tlearn: 2.4739910\ttotal: 699ms\tremaining: 371ms\n",
      "653:\tlearn: 2.4728859\ttotal: 700ms\tremaining: 370ms\n",
      "654:\tlearn: 2.4724066\ttotal: 701ms\tremaining: 369ms\n",
      "655:\tlearn: 2.4709574\ttotal: 702ms\tremaining: 368ms\n",
      "656:\tlearn: 2.4707304\ttotal: 703ms\tremaining: 367ms\n",
      "657:\tlearn: 2.4702131\ttotal: 704ms\tremaining: 366ms\n",
      "658:\tlearn: 2.4694871\ttotal: 705ms\tremaining: 365ms\n",
      "659:\tlearn: 2.4688664\ttotal: 706ms\tremaining: 364ms\n",
      "660:\tlearn: 2.4682154\ttotal: 707ms\tremaining: 362ms\n",
      "661:\tlearn: 2.4667136\ttotal: 708ms\tremaining: 361ms\n",
      "662:\tlearn: 2.4652777\ttotal: 709ms\tremaining: 360ms\n",
      "663:\tlearn: 2.4642253\ttotal: 709ms\tremaining: 359ms\n",
      "664:\tlearn: 2.4634787\ttotal: 711ms\tremaining: 358ms\n",
      "665:\tlearn: 2.4621028\ttotal: 712ms\tremaining: 357ms\n",
      "666:\tlearn: 2.4615930\ttotal: 714ms\tremaining: 356ms\n",
      "667:\tlearn: 2.4559495\ttotal: 715ms\tremaining: 355ms\n",
      "668:\tlearn: 2.4550021\ttotal: 716ms\tremaining: 354ms\n",
      "669:\tlearn: 2.4541218\ttotal: 717ms\tremaining: 353ms\n",
      "670:\tlearn: 2.4532525\ttotal: 718ms\tremaining: 352ms\n",
      "671:\tlearn: 2.4527645\ttotal: 719ms\tremaining: 351ms\n",
      "672:\tlearn: 2.4515843\ttotal: 720ms\tremaining: 350ms\n",
      "673:\tlearn: 2.4504207\ttotal: 721ms\tremaining: 349ms\n",
      "674:\tlearn: 2.4499607\ttotal: 722ms\tremaining: 348ms\n",
      "675:\tlearn: 2.4488871\ttotal: 723ms\tremaining: 347ms\n",
      "676:\tlearn: 2.4480208\ttotal: 724ms\tremaining: 346ms\n",
      "677:\tlearn: 2.4464953\ttotal: 726ms\tremaining: 345ms\n",
      "678:\tlearn: 2.4456339\ttotal: 727ms\tremaining: 344ms\n",
      "679:\tlearn: 2.4448940\ttotal: 728ms\tremaining: 343ms\n",
      "680:\tlearn: 2.4440728\ttotal: 729ms\tremaining: 342ms\n",
      "681:\tlearn: 2.4428828\ttotal: 730ms\tremaining: 340ms\n",
      "682:\tlearn: 2.4417428\ttotal: 731ms\tremaining: 339ms\n",
      "683:\tlearn: 2.4403823\ttotal: 732ms\tremaining: 338ms\n",
      "684:\tlearn: 2.4395356\ttotal: 733ms\tremaining: 337ms\n",
      "685:\tlearn: 2.4384847\ttotal: 734ms\tremaining: 336ms\n",
      "686:\tlearn: 2.4374487\ttotal: 735ms\tremaining: 335ms\n",
      "687:\tlearn: 2.4369362\ttotal: 736ms\tremaining: 334ms\n",
      "688:\tlearn: 2.4355451\ttotal: 737ms\tremaining: 333ms\n",
      "689:\tlearn: 2.4345602\ttotal: 738ms\tremaining: 332ms\n",
      "690:\tlearn: 2.4339661\ttotal: 740ms\tremaining: 331ms\n",
      "691:\tlearn: 2.4329780\ttotal: 741ms\tremaining: 330ms\n",
      "692:\tlearn: 2.4321547\ttotal: 742ms\tremaining: 329ms\n",
      "693:\tlearn: 2.4313651\ttotal: 743ms\tremaining: 328ms\n",
      "694:\tlearn: 2.4299739\ttotal: 744ms\tremaining: 327ms\n",
      "695:\tlearn: 2.4295299\ttotal: 745ms\tremaining: 325ms\n",
      "696:\tlearn: 2.4290476\ttotal: 746ms\tremaining: 324ms\n",
      "697:\tlearn: 2.4286162\ttotal: 747ms\tremaining: 323ms\n",
      "698:\tlearn: 2.4284417\ttotal: 748ms\tremaining: 322ms\n",
      "699:\tlearn: 2.4277490\ttotal: 749ms\tremaining: 321ms\n",
      "700:\tlearn: 2.4264391\ttotal: 750ms\tremaining: 320ms\n",
      "701:\tlearn: 2.4247990\ttotal: 751ms\tremaining: 319ms\n",
      "702:\tlearn: 2.4236359\ttotal: 752ms\tremaining: 318ms\n",
      "703:\tlearn: 2.4229775\ttotal: 752ms\tremaining: 316ms\n",
      "704:\tlearn: 2.4216525\ttotal: 753ms\tremaining: 315ms\n",
      "705:\tlearn: 2.4208433\ttotal: 755ms\tremaining: 314ms\n",
      "706:\tlearn: 2.4196311\ttotal: 756ms\tremaining: 313ms\n",
      "707:\tlearn: 2.4185374\ttotal: 757ms\tremaining: 312ms\n",
      "708:\tlearn: 2.4179203\ttotal: 758ms\tremaining: 311ms\n",
      "709:\tlearn: 2.4174319\ttotal: 759ms\tremaining: 310ms\n",
      "710:\tlearn: 2.4123261\ttotal: 761ms\tremaining: 309ms\n",
      "711:\tlearn: 2.4115340\ttotal: 762ms\tremaining: 308ms\n",
      "712:\tlearn: 2.4103714\ttotal: 763ms\tremaining: 307ms\n",
      "713:\tlearn: 2.4089015\ttotal: 764ms\tremaining: 306ms\n",
      "714:\tlearn: 2.4081249\ttotal: 765ms\tremaining: 305ms\n",
      "715:\tlearn: 2.4073636\ttotal: 766ms\tremaining: 304ms\n",
      "716:\tlearn: 2.4057536\ttotal: 767ms\tremaining: 303ms\n",
      "717:\tlearn: 2.4050152\ttotal: 768ms\tremaining: 302ms\n",
      "718:\tlearn: 2.4042879\ttotal: 769ms\tremaining: 301ms\n",
      "719:\tlearn: 2.4039447\ttotal: 770ms\tremaining: 300ms\n",
      "720:\tlearn: 2.4037761\ttotal: 771ms\tremaining: 298ms\n",
      "721:\tlearn: 2.4032058\ttotal: 772ms\tremaining: 297ms\n",
      "722:\tlearn: 2.4026239\ttotal: 773ms\tremaining: 296ms\n",
      "723:\tlearn: 2.4018109\ttotal: 774ms\tremaining: 295ms\n",
      "724:\tlearn: 2.4015891\ttotal: 775ms\tremaining: 294ms\n",
      "725:\tlearn: 2.4008945\ttotal: 776ms\tremaining: 293ms\n",
      "726:\tlearn: 2.4007339\ttotal: 777ms\tremaining: 292ms\n",
      "727:\tlearn: 2.4001706\ttotal: 778ms\tremaining: 291ms\n",
      "728:\tlearn: 2.3998345\ttotal: 779ms\tremaining: 290ms\n",
      "729:\tlearn: 2.3992782\ttotal: 780ms\tremaining: 289ms\n",
      "730:\tlearn: 2.3986841\ttotal: 781ms\tremaining: 288ms\n",
      "731:\tlearn: 2.3976765\ttotal: 782ms\tremaining: 286ms\n",
      "732:\tlearn: 2.3971034\ttotal: 783ms\tremaining: 285ms\n",
      "733:\tlearn: 2.3964697\ttotal: 784ms\tremaining: 284ms\n",
      "734:\tlearn: 2.3959762\ttotal: 785ms\tremaining: 283ms\n",
      "735:\tlearn: 2.3943767\ttotal: 786ms\tremaining: 282ms\n",
      "736:\tlearn: 2.3936139\ttotal: 787ms\tremaining: 281ms\n",
      "737:\tlearn: 2.3928424\ttotal: 788ms\tremaining: 280ms\n",
      "738:\tlearn: 2.3922575\ttotal: 789ms\tremaining: 279ms\n",
      "739:\tlearn: 2.3912312\ttotal: 790ms\tremaining: 278ms\n",
      "740:\tlearn: 2.3903368\ttotal: 791ms\tremaining: 277ms\n",
      "741:\tlearn: 2.3896904\ttotal: 792ms\tremaining: 275ms\n",
      "742:\tlearn: 2.3883693\ttotal: 793ms\tremaining: 274ms\n",
      "743:\tlearn: 2.3872524\ttotal: 794ms\tremaining: 273ms\n",
      "744:\tlearn: 2.3867096\ttotal: 795ms\tremaining: 272ms\n",
      "745:\tlearn: 2.3862758\ttotal: 796ms\tremaining: 271ms\n",
      "746:\tlearn: 2.3855691\ttotal: 797ms\tremaining: 270ms\n",
      "747:\tlearn: 2.3852764\ttotal: 798ms\tremaining: 269ms\n",
      "748:\tlearn: 2.3851071\ttotal: 799ms\tremaining: 268ms\n",
      "749:\tlearn: 2.3850128\ttotal: 800ms\tremaining: 267ms\n",
      "750:\tlearn: 2.3839580\ttotal: 801ms\tremaining: 266ms\n",
      "751:\tlearn: 2.3834857\ttotal: 802ms\tremaining: 265ms\n",
      "752:\tlearn: 2.3824149\ttotal: 803ms\tremaining: 263ms\n",
      "753:\tlearn: 2.3820151\ttotal: 804ms\tremaining: 262ms\n",
      "754:\tlearn: 2.3812331\ttotal: 805ms\tremaining: 261ms\n",
      "755:\tlearn: 2.3805487\ttotal: 806ms\tremaining: 260ms\n",
      "756:\tlearn: 2.3797754\ttotal: 807ms\tremaining: 259ms\n",
      "757:\tlearn: 2.3785738\ttotal: 808ms\tremaining: 258ms\n",
      "758:\tlearn: 2.3770707\ttotal: 809ms\tremaining: 257ms\n",
      "759:\tlearn: 2.3763908\ttotal: 809ms\tremaining: 256ms\n",
      "760:\tlearn: 2.3757204\ttotal: 810ms\tremaining: 254ms\n",
      "761:\tlearn: 2.3752041\ttotal: 811ms\tremaining: 253ms\n",
      "762:\tlearn: 2.3731781\ttotal: 812ms\tremaining: 252ms\n",
      "763:\tlearn: 2.3726316\ttotal: 813ms\tremaining: 251ms\n",
      "764:\tlearn: 2.3717838\ttotal: 814ms\tremaining: 250ms\n",
      "765:\tlearn: 2.3703996\ttotal: 815ms\tremaining: 249ms\n",
      "766:\tlearn: 2.3696359\ttotal: 816ms\tremaining: 248ms\n",
      "767:\tlearn: 2.3692695\ttotal: 817ms\tremaining: 247ms\n",
      "768:\tlearn: 2.3686267\ttotal: 818ms\tremaining: 246ms\n",
      "769:\tlearn: 2.3678627\ttotal: 819ms\tremaining: 245ms\n",
      "770:\tlearn: 2.3672489\ttotal: 820ms\tremaining: 244ms\n",
      "771:\tlearn: 2.3663542\ttotal: 821ms\tremaining: 242ms\n",
      "772:\tlearn: 2.3657372\ttotal: 822ms\tremaining: 241ms\n",
      "773:\tlearn: 2.3652742\ttotal: 823ms\tremaining: 240ms\n",
      "774:\tlearn: 2.3648341\ttotal: 824ms\tremaining: 239ms\n",
      "775:\tlearn: 2.3633553\ttotal: 825ms\tremaining: 238ms\n",
      "776:\tlearn: 2.3627370\ttotal: 826ms\tremaining: 237ms\n",
      "777:\tlearn: 2.3618192\ttotal: 827ms\tremaining: 236ms\n",
      "778:\tlearn: 2.3613168\ttotal: 828ms\tremaining: 235ms\n",
      "779:\tlearn: 2.3609914\ttotal: 829ms\tremaining: 234ms\n",
      "780:\tlearn: 2.3602758\ttotal: 830ms\tremaining: 233ms\n",
      "781:\tlearn: 2.3599630\ttotal: 831ms\tremaining: 232ms\n",
      "782:\tlearn: 2.3589506\ttotal: 832ms\tremaining: 230ms\n",
      "783:\tlearn: 2.3582157\ttotal: 832ms\tremaining: 229ms\n",
      "784:\tlearn: 2.3575358\ttotal: 834ms\tremaining: 228ms\n",
      "785:\tlearn: 2.3558269\ttotal: 835ms\tremaining: 227ms\n",
      "786:\tlearn: 2.3550753\ttotal: 836ms\tremaining: 226ms\n",
      "787:\tlearn: 2.3543469\ttotal: 837ms\tremaining: 225ms\n",
      "788:\tlearn: 2.3533147\ttotal: 838ms\tremaining: 224ms\n",
      "789:\tlearn: 2.3526776\ttotal: 839ms\tremaining: 223ms\n",
      "790:\tlearn: 2.3523668\ttotal: 840ms\tremaining: 222ms\n",
      "791:\tlearn: 2.3511855\ttotal: 841ms\tremaining: 221ms\n",
      "792:\tlearn: 2.3503587\ttotal: 842ms\tremaining: 220ms\n",
      "793:\tlearn: 2.3499067\ttotal: 843ms\tremaining: 219ms\n",
      "794:\tlearn: 2.3486337\ttotal: 844ms\tremaining: 218ms\n",
      "795:\tlearn: 2.3479436\ttotal: 845ms\tremaining: 217ms\n",
      "796:\tlearn: 2.3469393\ttotal: 846ms\tremaining: 216ms\n",
      "797:\tlearn: 2.3462998\ttotal: 847ms\tremaining: 214ms\n",
      "798:\tlearn: 2.3457592\ttotal: 848ms\tremaining: 213ms\n",
      "799:\tlearn: 2.3448443\ttotal: 849ms\tremaining: 212ms\n",
      "800:\tlearn: 2.3440697\ttotal: 851ms\tremaining: 211ms\n",
      "801:\tlearn: 2.3431135\ttotal: 852ms\tremaining: 210ms\n",
      "802:\tlearn: 2.3423585\ttotal: 853ms\tremaining: 209ms\n",
      "803:\tlearn: 2.3416226\ttotal: 854ms\tremaining: 208ms\n",
      "804:\tlearn: 2.3401389\ttotal: 855ms\tremaining: 207ms\n",
      "805:\tlearn: 2.3386378\ttotal: 856ms\tremaining: 206ms\n",
      "806:\tlearn: 2.3382888\ttotal: 857ms\tremaining: 205ms\n",
      "807:\tlearn: 2.3375702\ttotal: 858ms\tremaining: 204ms\n",
      "808:\tlearn: 2.3370393\ttotal: 859ms\tremaining: 203ms\n",
      "809:\tlearn: 2.3368893\ttotal: 860ms\tremaining: 202ms\n",
      "810:\tlearn: 2.3363622\ttotal: 861ms\tremaining: 201ms\n",
      "811:\tlearn: 2.3358104\ttotal: 862ms\tremaining: 200ms\n",
      "812:\tlearn: 2.3351132\ttotal: 863ms\tremaining: 198ms\n",
      "813:\tlearn: 2.3344119\ttotal: 864ms\tremaining: 197ms\n",
      "814:\tlearn: 2.3340114\ttotal: 865ms\tremaining: 196ms\n",
      "815:\tlearn: 2.3329332\ttotal: 866ms\tremaining: 195ms\n",
      "816:\tlearn: 2.3320551\ttotal: 868ms\tremaining: 194ms\n",
      "817:\tlearn: 2.3316358\ttotal: 869ms\tremaining: 193ms\n",
      "818:\tlearn: 2.3307081\ttotal: 870ms\tremaining: 192ms\n",
      "819:\tlearn: 2.3302123\ttotal: 871ms\tremaining: 191ms\n",
      "820:\tlearn: 2.3297405\ttotal: 872ms\tremaining: 190ms\n",
      "821:\tlearn: 2.3288771\ttotal: 873ms\tremaining: 189ms\n",
      "822:\tlearn: 2.3275595\ttotal: 874ms\tremaining: 188ms\n",
      "823:\tlearn: 2.3266382\ttotal: 875ms\tremaining: 187ms\n",
      "824:\tlearn: 2.3261986\ttotal: 876ms\tremaining: 186ms\n",
      "825:\tlearn: 2.3258090\ttotal: 876ms\tremaining: 185ms\n",
      "826:\tlearn: 2.3251909\ttotal: 877ms\tremaining: 184ms\n",
      "827:\tlearn: 2.3245141\ttotal: 878ms\tremaining: 182ms\n",
      "828:\tlearn: 2.3230548\ttotal: 879ms\tremaining: 181ms\n",
      "829:\tlearn: 2.3221947\ttotal: 880ms\tremaining: 180ms\n",
      "830:\tlearn: 2.3218294\ttotal: 881ms\tremaining: 179ms\n",
      "831:\tlearn: 2.3203497\ttotal: 882ms\tremaining: 178ms\n",
      "832:\tlearn: 2.3198368\ttotal: 883ms\tremaining: 177ms\n",
      "833:\tlearn: 2.3190041\ttotal: 885ms\tremaining: 176ms\n",
      "834:\tlearn: 2.3181326\ttotal: 886ms\tremaining: 175ms\n",
      "835:\tlearn: 2.3174986\ttotal: 887ms\tremaining: 174ms\n",
      "836:\tlearn: 2.3168681\ttotal: 887ms\tremaining: 173ms\n",
      "837:\tlearn: 2.3155609\ttotal: 888ms\tremaining: 172ms\n",
      "838:\tlearn: 2.3143412\ttotal: 889ms\tremaining: 171ms\n",
      "839:\tlearn: 2.3136227\ttotal: 890ms\tremaining: 170ms\n",
      "840:\tlearn: 2.3131213\ttotal: 891ms\tremaining: 168ms\n",
      "841:\tlearn: 2.3125886\ttotal: 892ms\tremaining: 167ms\n",
      "842:\tlearn: 2.3118624\ttotal: 893ms\tremaining: 166ms\n",
      "843:\tlearn: 2.3110540\ttotal: 894ms\tremaining: 165ms\n",
      "844:\tlearn: 2.3106977\ttotal: 895ms\tremaining: 164ms\n",
      "845:\tlearn: 2.3100974\ttotal: 896ms\tremaining: 163ms\n",
      "846:\tlearn: 2.3096513\ttotal: 897ms\tremaining: 162ms\n",
      "847:\tlearn: 2.3084321\ttotal: 898ms\tremaining: 161ms\n",
      "848:\tlearn: 2.3081992\ttotal: 899ms\tremaining: 160ms\n",
      "849:\tlearn: 2.3074030\ttotal: 900ms\tremaining: 159ms\n",
      "850:\tlearn: 2.3068348\ttotal: 901ms\tremaining: 158ms\n",
      "851:\tlearn: 2.3054040\ttotal: 902ms\tremaining: 157ms\n",
      "852:\tlearn: 2.3038244\ttotal: 903ms\tremaining: 156ms\n",
      "853:\tlearn: 2.3035171\ttotal: 904ms\tremaining: 154ms\n",
      "854:\tlearn: 2.3029200\ttotal: 905ms\tremaining: 153ms\n",
      "855:\tlearn: 2.3024789\ttotal: 906ms\tremaining: 152ms\n",
      "856:\tlearn: 2.3020189\ttotal: 906ms\tremaining: 151ms\n",
      "857:\tlearn: 2.3012419\ttotal: 907ms\tremaining: 150ms\n",
      "858:\tlearn: 2.3000357\ttotal: 908ms\tremaining: 149ms\n",
      "859:\tlearn: 2.2996013\ttotal: 909ms\tremaining: 148ms\n",
      "860:\tlearn: 2.2992147\ttotal: 910ms\tremaining: 147ms\n",
      "861:\tlearn: 2.2989802\ttotal: 911ms\tremaining: 146ms\n",
      "862:\tlearn: 2.2984332\ttotal: 912ms\tremaining: 145ms\n",
      "863:\tlearn: 2.2968566\ttotal: 914ms\tremaining: 144ms\n",
      "864:\tlearn: 2.2963164\ttotal: 915ms\tremaining: 143ms\n",
      "865:\tlearn: 2.2955285\ttotal: 917ms\tremaining: 142ms\n",
      "866:\tlearn: 2.2948519\ttotal: 918ms\tremaining: 141ms\n",
      "867:\tlearn: 2.2944338\ttotal: 918ms\tremaining: 140ms\n",
      "868:\tlearn: 2.2940723\ttotal: 919ms\tremaining: 139ms\n",
      "869:\tlearn: 2.2933093\ttotal: 920ms\tremaining: 138ms\n",
      "870:\tlearn: 2.2927997\ttotal: 921ms\tremaining: 136ms\n",
      "871:\tlearn: 2.2921067\ttotal: 922ms\tremaining: 135ms\n",
      "872:\tlearn: 2.2917024\ttotal: 923ms\tremaining: 134ms\n",
      "873:\tlearn: 2.2912823\ttotal: 924ms\tremaining: 133ms\n",
      "874:\tlearn: 2.2907877\ttotal: 925ms\tremaining: 132ms\n",
      "875:\tlearn: 2.2904575\ttotal: 926ms\tremaining: 131ms\n",
      "876:\tlearn: 2.2894601\ttotal: 927ms\tremaining: 130ms\n",
      "877:\tlearn: 2.2882993\ttotal: 928ms\tremaining: 129ms\n",
      "878:\tlearn: 2.2870866\ttotal: 929ms\tremaining: 128ms\n",
      "879:\tlearn: 2.2860408\ttotal: 931ms\tremaining: 127ms\n",
      "880:\tlearn: 2.2854995\ttotal: 931ms\tremaining: 126ms\n",
      "881:\tlearn: 2.2851226\ttotal: 932ms\tremaining: 125ms\n",
      "882:\tlearn: 2.2837026\ttotal: 933ms\tremaining: 124ms\n",
      "883:\tlearn: 2.2830914\ttotal: 934ms\tremaining: 123ms\n",
      "884:\tlearn: 2.2828461\ttotal: 935ms\tremaining: 121ms\n",
      "885:\tlearn: 2.2824927\ttotal: 936ms\tremaining: 120ms\n",
      "886:\tlearn: 2.2816823\ttotal: 937ms\tremaining: 119ms\n",
      "887:\tlearn: 2.2811770\ttotal: 938ms\tremaining: 118ms\n",
      "888:\tlearn: 2.2807917\ttotal: 939ms\tremaining: 117ms\n",
      "889:\tlearn: 2.2797297\ttotal: 940ms\tremaining: 116ms\n",
      "890:\tlearn: 2.2791525\ttotal: 941ms\tremaining: 115ms\n",
      "891:\tlearn: 2.2784933\ttotal: 942ms\tremaining: 114ms\n",
      "892:\tlearn: 2.2777401\ttotal: 942ms\tremaining: 113ms\n",
      "893:\tlearn: 2.2768980\ttotal: 944ms\tremaining: 112ms\n",
      "894:\tlearn: 2.2758916\ttotal: 946ms\tremaining: 111ms\n",
      "895:\tlearn: 2.2745830\ttotal: 947ms\tremaining: 110ms\n",
      "896:\tlearn: 2.2742631\ttotal: 948ms\tremaining: 109ms\n",
      "897:\tlearn: 2.2732551\ttotal: 949ms\tremaining: 108ms\n",
      "898:\tlearn: 2.2723706\ttotal: 950ms\tremaining: 107ms\n",
      "899:\tlearn: 2.2711540\ttotal: 952ms\tremaining: 106ms\n",
      "900:\tlearn: 2.2704441\ttotal: 953ms\tremaining: 105ms\n",
      "901:\tlearn: 2.2696404\ttotal: 954ms\tremaining: 104ms\n",
      "902:\tlearn: 2.2683035\ttotal: 955ms\tremaining: 103ms\n",
      "903:\tlearn: 2.2676131\ttotal: 956ms\tremaining: 102ms\n",
      "904:\tlearn: 2.2660405\ttotal: 958ms\tremaining: 101ms\n",
      "905:\tlearn: 2.2650026\ttotal: 960ms\tremaining: 99.6ms\n",
      "906:\tlearn: 2.2640732\ttotal: 961ms\tremaining: 98.5ms\n",
      "907:\tlearn: 2.2636022\ttotal: 962ms\tremaining: 97.5ms\n",
      "908:\tlearn: 2.2624383\ttotal: 963ms\tremaining: 96.4ms\n",
      "909:\tlearn: 2.2620700\ttotal: 964ms\tremaining: 95.4ms\n",
      "910:\tlearn: 2.2619383\ttotal: 965ms\tremaining: 94.3ms\n",
      "911:\tlearn: 2.2614778\ttotal: 966ms\tremaining: 93.2ms\n",
      "912:\tlearn: 2.2611845\ttotal: 967ms\tremaining: 92.1ms\n",
      "913:\tlearn: 2.2608762\ttotal: 968ms\tremaining: 91ms\n",
      "914:\tlearn: 2.2604461\ttotal: 969ms\tremaining: 90ms\n",
      "915:\tlearn: 2.2601207\ttotal: 970ms\tremaining: 88.9ms\n",
      "916:\tlearn: 2.2595346\ttotal: 970ms\tremaining: 87.8ms\n",
      "917:\tlearn: 2.2589260\ttotal: 971ms\tremaining: 86.8ms\n",
      "918:\tlearn: 2.2585224\ttotal: 972ms\tremaining: 85.7ms\n",
      "919:\tlearn: 2.2575895\ttotal: 973ms\tremaining: 84.6ms\n",
      "920:\tlearn: 2.2568988\ttotal: 974ms\tremaining: 83.6ms\n",
      "921:\tlearn: 2.2562718\ttotal: 976ms\tremaining: 82.5ms\n",
      "922:\tlearn: 2.2554778\ttotal: 977ms\tremaining: 81.5ms\n",
      "923:\tlearn: 2.2536923\ttotal: 978ms\tremaining: 80.5ms\n",
      "924:\tlearn: 2.2531068\ttotal: 979ms\tremaining: 79.4ms\n",
      "925:\tlearn: 2.2526927\ttotal: 980ms\tremaining: 78.3ms\n",
      "926:\tlearn: 2.2515048\ttotal: 981ms\tremaining: 77.3ms\n",
      "927:\tlearn: 2.2511255\ttotal: 982ms\tremaining: 76.2ms\n",
      "928:\tlearn: 2.2497714\ttotal: 983ms\tremaining: 75.1ms\n",
      "929:\tlearn: 2.2493457\ttotal: 984ms\tremaining: 74.1ms\n",
      "930:\tlearn: 2.2490034\ttotal: 985ms\tremaining: 73ms\n",
      "931:\tlearn: 2.2483034\ttotal: 986ms\tremaining: 71.9ms\n",
      "932:\tlearn: 2.2479323\ttotal: 987ms\tremaining: 70.9ms\n",
      "933:\tlearn: 2.2474081\ttotal: 988ms\tremaining: 69.8ms\n",
      "934:\tlearn: 2.2468278\ttotal: 989ms\tremaining: 68.7ms\n",
      "935:\tlearn: 2.2455601\ttotal: 990ms\tremaining: 67.7ms\n",
      "936:\tlearn: 2.2453129\ttotal: 991ms\tremaining: 66.6ms\n",
      "937:\tlearn: 2.2435223\ttotal: 992ms\tremaining: 65.6ms\n",
      "938:\tlearn: 2.2419355\ttotal: 994ms\tremaining: 64.5ms\n",
      "939:\tlearn: 2.2410295\ttotal: 994ms\tremaining: 63.5ms\n",
      "940:\tlearn: 2.2406044\ttotal: 995ms\tremaining: 62.4ms\n",
      "941:\tlearn: 2.2400975\ttotal: 996ms\tremaining: 61.3ms\n",
      "942:\tlearn: 2.2399038\ttotal: 997ms\tremaining: 60.3ms\n",
      "943:\tlearn: 2.2394174\ttotal: 998ms\tremaining: 59.2ms\n",
      "944:\tlearn: 2.2379518\ttotal: 999ms\tremaining: 58.2ms\n",
      "945:\tlearn: 2.2376267\ttotal: 1s\tremaining: 57.1ms\n",
      "946:\tlearn: 2.2363596\ttotal: 1s\tremaining: 56ms\n",
      "947:\tlearn: 2.2356028\ttotal: 1s\tremaining: 55ms\n",
      "948:\tlearn: 2.2350614\ttotal: 1s\tremaining: 53.9ms\n",
      "949:\tlearn: 2.2344877\ttotal: 1s\tremaining: 52.8ms\n",
      "950:\tlearn: 2.2339406\ttotal: 1s\tremaining: 51.8ms\n",
      "951:\tlearn: 2.2334117\ttotal: 1.01s\tremaining: 50.8ms\n",
      "952:\tlearn: 2.2329683\ttotal: 1.01s\tremaining: 49.7ms\n",
      "953:\tlearn: 2.2318406\ttotal: 1.01s\tremaining: 48.7ms\n",
      "954:\tlearn: 2.2314315\ttotal: 1.01s\tremaining: 47.6ms\n",
      "955:\tlearn: 2.2301010\ttotal: 1.01s\tremaining: 46.5ms\n",
      "956:\tlearn: 2.2297885\ttotal: 1.01s\tremaining: 45.5ms\n",
      "957:\tlearn: 2.2292849\ttotal: 1.01s\tremaining: 44.4ms\n",
      "958:\tlearn: 2.2288275\ttotal: 1.01s\tremaining: 43.4ms\n",
      "959:\tlearn: 2.2278383\ttotal: 1.01s\tremaining: 42.3ms\n",
      "960:\tlearn: 2.2267551\ttotal: 1.02s\tremaining: 41.2ms\n",
      "961:\tlearn: 2.2263465\ttotal: 1.02s\tremaining: 40.2ms\n",
      "962:\tlearn: 2.2255870\ttotal: 1.02s\tremaining: 39.1ms\n",
      "963:\tlearn: 2.2246865\ttotal: 1.02s\tremaining: 38.1ms\n",
      "964:\tlearn: 2.2244215\ttotal: 1.02s\tremaining: 37ms\n",
      "965:\tlearn: 2.2235081\ttotal: 1.02s\tremaining: 36ms\n",
      "966:\tlearn: 2.2225422\ttotal: 1.02s\tremaining: 34.9ms\n",
      "967:\tlearn: 2.2219210\ttotal: 1.02s\tremaining: 33.8ms\n",
      "968:\tlearn: 2.2215858\ttotal: 1.02s\tremaining: 32.8ms\n",
      "969:\tlearn: 2.2206213\ttotal: 1.02s\tremaining: 31.7ms\n",
      "970:\tlearn: 2.2202709\ttotal: 1.03s\tremaining: 30.7ms\n",
      "971:\tlearn: 2.2198120\ttotal: 1.03s\tremaining: 29.6ms\n",
      "972:\tlearn: 2.2196416\ttotal: 1.03s\tremaining: 28.5ms\n",
      "973:\tlearn: 2.2185729\ttotal: 1.03s\tremaining: 27.5ms\n",
      "974:\tlearn: 2.2179726\ttotal: 1.03s\tremaining: 26.4ms\n",
      "975:\tlearn: 2.2161547\ttotal: 1.03s\tremaining: 25.4ms\n",
      "976:\tlearn: 2.2152907\ttotal: 1.03s\tremaining: 24.3ms\n",
      "977:\tlearn: 2.2139417\ttotal: 1.03s\tremaining: 23.2ms\n",
      "978:\tlearn: 2.2131123\ttotal: 1.03s\tremaining: 22.2ms\n",
      "979:\tlearn: 2.2122989\ttotal: 1.03s\tremaining: 21.1ms\n",
      "980:\tlearn: 2.2120038\ttotal: 1.04s\tremaining: 20.1ms\n",
      "981:\tlearn: 2.2117252\ttotal: 1.04s\tremaining: 19ms\n",
      "982:\tlearn: 2.2112355\ttotal: 1.04s\tremaining: 18ms\n",
      "983:\tlearn: 2.2109450\ttotal: 1.04s\tremaining: 16.9ms\n",
      "984:\tlearn: 2.2104306\ttotal: 1.04s\tremaining: 15.8ms\n",
      "985:\tlearn: 2.2098123\ttotal: 1.04s\tremaining: 14.8ms\n",
      "986:\tlearn: 2.2089630\ttotal: 1.04s\tremaining: 13.7ms\n",
      "987:\tlearn: 2.2081123\ttotal: 1.04s\tremaining: 12.7ms\n",
      "988:\tlearn: 2.2068806\ttotal: 1.04s\tremaining: 11.6ms\n",
      "989:\tlearn: 2.2064855\ttotal: 1.04s\tremaining: 10.6ms\n",
      "990:\tlearn: 2.2059017\ttotal: 1.05s\tremaining: 9.5ms\n",
      "991:\tlearn: 2.2053310\ttotal: 1.05s\tremaining: 8.44ms\n",
      "992:\tlearn: 2.2049566\ttotal: 1.05s\tremaining: 7.39ms\n",
      "993:\tlearn: 2.2048462\ttotal: 1.05s\tremaining: 6.33ms\n",
      "994:\tlearn: 2.2038787\ttotal: 1.05s\tremaining: 5.28ms\n",
      "995:\tlearn: 2.2029748\ttotal: 1.05s\tremaining: 4.22ms\n",
      "996:\tlearn: 2.2024985\ttotal: 1.05s\tremaining: 3.17ms\n",
      "997:\tlearn: 2.2013319\ttotal: 1.05s\tremaining: 2.11ms\n",
      "998:\tlearn: 2.2006351\ttotal: 1.05s\tremaining: 1.05ms\n",
      "999:\tlearn: 2.1999442\ttotal: 1.05s\tremaining: 0us\n"
     ]
    }
   ],
   "source": [
    "results = {}\n",
    "\n",
    "for name, model in models:\n",
    "  clf = model.fit(X_train, y_train.values.ravel())\n",
    "  y_pred = clf.predict(X_test)\n",
    "\n",
    "  results[name] = {\n",
    "    'score': get_score(y_test.values.ravel(), y_pred),\n",
    "    'rsme': get_rsme(y_test.values.ravel(), y_pred),\n",
    "    'r_squared': get_r_squared(y_test.values.ravel(), y_pred),\n",
    "  }"
   ]
  },
  {
   "cell_type": "code",
   "execution_count": 303,
   "metadata": {},
   "outputs": [],
   "source": [
    "df = pd.DataFrame(results).T"
   ]
  },
  {
   "cell_type": "code",
   "execution_count": 304,
   "metadata": {},
   "outputs": [
    {
     "data": {
      "application/vnd.plotly.v1+json": {
       "config": {
        "plotlyServerURL": "https://plot.ly"
       },
       "data": [
        {
         "alignmentgroup": "True",
         "hovertemplate": "index=%{x}<br>score=%{y}<extra></extra>",
         "legendgroup": "",
         "marker": {
          "color": "#636efa",
          "pattern": {
           "shape": ""
          }
         },
         "name": "",
         "offsetgroup": "",
         "orientation": "v",
         "showlegend": false,
         "textposition": "auto",
         "type": "bar",
         "x": [
          "CatBoostRegressor",
          "XGBRegressor",
          "SVR",
          "GradientBoostingRegressor",
          "RandomForestRegressor"
         ],
         "xaxis": "x",
         "y": [
          0.445290199809705,
          0.5176022835394862,
          0.23596574690770694,
          0.5851569933396765,
          0.5651760228353948
         ],
         "yaxis": "y"
        }
       ],
       "layout": {
        "barmode": "relative",
        "legend": {
         "tracegroupgap": 0
        },
        "margin": {
         "t": 60
        },
        "template": {
         "data": {
          "bar": [
           {
            "error_x": {
             "color": "#2a3f5f"
            },
            "error_y": {
             "color": "#2a3f5f"
            },
            "marker": {
             "line": {
              "color": "#E5ECF6",
              "width": 0.5
             },
             "pattern": {
              "fillmode": "overlay",
              "size": 10,
              "solidity": 0.2
             }
            },
            "type": "bar"
           }
          ],
          "barpolar": [
           {
            "marker": {
             "line": {
              "color": "#E5ECF6",
              "width": 0.5
             },
             "pattern": {
              "fillmode": "overlay",
              "size": 10,
              "solidity": 0.2
             }
            },
            "type": "barpolar"
           }
          ],
          "carpet": [
           {
            "aaxis": {
             "endlinecolor": "#2a3f5f",
             "gridcolor": "white",
             "linecolor": "white",
             "minorgridcolor": "white",
             "startlinecolor": "#2a3f5f"
            },
            "baxis": {
             "endlinecolor": "#2a3f5f",
             "gridcolor": "white",
             "linecolor": "white",
             "minorgridcolor": "white",
             "startlinecolor": "#2a3f5f"
            },
            "type": "carpet"
           }
          ],
          "choropleth": [
           {
            "colorbar": {
             "outlinewidth": 0,
             "ticks": ""
            },
            "type": "choropleth"
           }
          ],
          "contour": [
           {
            "colorbar": {
             "outlinewidth": 0,
             "ticks": ""
            },
            "colorscale": [
             [
              0,
              "#0d0887"
             ],
             [
              0.1111111111111111,
              "#46039f"
             ],
             [
              0.2222222222222222,
              "#7201a8"
             ],
             [
              0.3333333333333333,
              "#9c179e"
             ],
             [
              0.4444444444444444,
              "#bd3786"
             ],
             [
              0.5555555555555556,
              "#d8576b"
             ],
             [
              0.6666666666666666,
              "#ed7953"
             ],
             [
              0.7777777777777778,
              "#fb9f3a"
             ],
             [
              0.8888888888888888,
              "#fdca26"
             ],
             [
              1,
              "#f0f921"
             ]
            ],
            "type": "contour"
           }
          ],
          "contourcarpet": [
           {
            "colorbar": {
             "outlinewidth": 0,
             "ticks": ""
            },
            "type": "contourcarpet"
           }
          ],
          "heatmap": [
           {
            "colorbar": {
             "outlinewidth": 0,
             "ticks": ""
            },
            "colorscale": [
             [
              0,
              "#0d0887"
             ],
             [
              0.1111111111111111,
              "#46039f"
             ],
             [
              0.2222222222222222,
              "#7201a8"
             ],
             [
              0.3333333333333333,
              "#9c179e"
             ],
             [
              0.4444444444444444,
              "#bd3786"
             ],
             [
              0.5555555555555556,
              "#d8576b"
             ],
             [
              0.6666666666666666,
              "#ed7953"
             ],
             [
              0.7777777777777778,
              "#fb9f3a"
             ],
             [
              0.8888888888888888,
              "#fdca26"
             ],
             [
              1,
              "#f0f921"
             ]
            ],
            "type": "heatmap"
           }
          ],
          "heatmapgl": [
           {
            "colorbar": {
             "outlinewidth": 0,
             "ticks": ""
            },
            "colorscale": [
             [
              0,
              "#0d0887"
             ],
             [
              0.1111111111111111,
              "#46039f"
             ],
             [
              0.2222222222222222,
              "#7201a8"
             ],
             [
              0.3333333333333333,
              "#9c179e"
             ],
             [
              0.4444444444444444,
              "#bd3786"
             ],
             [
              0.5555555555555556,
              "#d8576b"
             ],
             [
              0.6666666666666666,
              "#ed7953"
             ],
             [
              0.7777777777777778,
              "#fb9f3a"
             ],
             [
              0.8888888888888888,
              "#fdca26"
             ],
             [
              1,
              "#f0f921"
             ]
            ],
            "type": "heatmapgl"
           }
          ],
          "histogram": [
           {
            "marker": {
             "pattern": {
              "fillmode": "overlay",
              "size": 10,
              "solidity": 0.2
             }
            },
            "type": "histogram"
           }
          ],
          "histogram2d": [
           {
            "colorbar": {
             "outlinewidth": 0,
             "ticks": ""
            },
            "colorscale": [
             [
              0,
              "#0d0887"
             ],
             [
              0.1111111111111111,
              "#46039f"
             ],
             [
              0.2222222222222222,
              "#7201a8"
             ],
             [
              0.3333333333333333,
              "#9c179e"
             ],
             [
              0.4444444444444444,
              "#bd3786"
             ],
             [
              0.5555555555555556,
              "#d8576b"
             ],
             [
              0.6666666666666666,
              "#ed7953"
             ],
             [
              0.7777777777777778,
              "#fb9f3a"
             ],
             [
              0.8888888888888888,
              "#fdca26"
             ],
             [
              1,
              "#f0f921"
             ]
            ],
            "type": "histogram2d"
           }
          ],
          "histogram2dcontour": [
           {
            "colorbar": {
             "outlinewidth": 0,
             "ticks": ""
            },
            "colorscale": [
             [
              0,
              "#0d0887"
             ],
             [
              0.1111111111111111,
              "#46039f"
             ],
             [
              0.2222222222222222,
              "#7201a8"
             ],
             [
              0.3333333333333333,
              "#9c179e"
             ],
             [
              0.4444444444444444,
              "#bd3786"
             ],
             [
              0.5555555555555556,
              "#d8576b"
             ],
             [
              0.6666666666666666,
              "#ed7953"
             ],
             [
              0.7777777777777778,
              "#fb9f3a"
             ],
             [
              0.8888888888888888,
              "#fdca26"
             ],
             [
              1,
              "#f0f921"
             ]
            ],
            "type": "histogram2dcontour"
           }
          ],
          "mesh3d": [
           {
            "colorbar": {
             "outlinewidth": 0,
             "ticks": ""
            },
            "type": "mesh3d"
           }
          ],
          "parcoords": [
           {
            "line": {
             "colorbar": {
              "outlinewidth": 0,
              "ticks": ""
             }
            },
            "type": "parcoords"
           }
          ],
          "pie": [
           {
            "automargin": true,
            "type": "pie"
           }
          ],
          "scatter": [
           {
            "fillpattern": {
             "fillmode": "overlay",
             "size": 10,
             "solidity": 0.2
            },
            "type": "scatter"
           }
          ],
          "scatter3d": [
           {
            "line": {
             "colorbar": {
              "outlinewidth": 0,
              "ticks": ""
             }
            },
            "marker": {
             "colorbar": {
              "outlinewidth": 0,
              "ticks": ""
             }
            },
            "type": "scatter3d"
           }
          ],
          "scattercarpet": [
           {
            "marker": {
             "colorbar": {
              "outlinewidth": 0,
              "ticks": ""
             }
            },
            "type": "scattercarpet"
           }
          ],
          "scattergeo": [
           {
            "marker": {
             "colorbar": {
              "outlinewidth": 0,
              "ticks": ""
             }
            },
            "type": "scattergeo"
           }
          ],
          "scattergl": [
           {
            "marker": {
             "colorbar": {
              "outlinewidth": 0,
              "ticks": ""
             }
            },
            "type": "scattergl"
           }
          ],
          "scattermapbox": [
           {
            "marker": {
             "colorbar": {
              "outlinewidth": 0,
              "ticks": ""
             }
            },
            "type": "scattermapbox"
           }
          ],
          "scatterpolar": [
           {
            "marker": {
             "colorbar": {
              "outlinewidth": 0,
              "ticks": ""
             }
            },
            "type": "scatterpolar"
           }
          ],
          "scatterpolargl": [
           {
            "marker": {
             "colorbar": {
              "outlinewidth": 0,
              "ticks": ""
             }
            },
            "type": "scatterpolargl"
           }
          ],
          "scatterternary": [
           {
            "marker": {
             "colorbar": {
              "outlinewidth": 0,
              "ticks": ""
             }
            },
            "type": "scatterternary"
           }
          ],
          "surface": [
           {
            "colorbar": {
             "outlinewidth": 0,
             "ticks": ""
            },
            "colorscale": [
             [
              0,
              "#0d0887"
             ],
             [
              0.1111111111111111,
              "#46039f"
             ],
             [
              0.2222222222222222,
              "#7201a8"
             ],
             [
              0.3333333333333333,
              "#9c179e"
             ],
             [
              0.4444444444444444,
              "#bd3786"
             ],
             [
              0.5555555555555556,
              "#d8576b"
             ],
             [
              0.6666666666666666,
              "#ed7953"
             ],
             [
              0.7777777777777778,
              "#fb9f3a"
             ],
             [
              0.8888888888888888,
              "#fdca26"
             ],
             [
              1,
              "#f0f921"
             ]
            ],
            "type": "surface"
           }
          ],
          "table": [
           {
            "cells": {
             "fill": {
              "color": "#EBF0F8"
             },
             "line": {
              "color": "white"
             }
            },
            "header": {
             "fill": {
              "color": "#C8D4E3"
             },
             "line": {
              "color": "white"
             }
            },
            "type": "table"
           }
          ]
         },
         "layout": {
          "annotationdefaults": {
           "arrowcolor": "#2a3f5f",
           "arrowhead": 0,
           "arrowwidth": 1
          },
          "autotypenumbers": "strict",
          "coloraxis": {
           "colorbar": {
            "outlinewidth": 0,
            "ticks": ""
           }
          },
          "colorscale": {
           "diverging": [
            [
             0,
             "#8e0152"
            ],
            [
             0.1,
             "#c51b7d"
            ],
            [
             0.2,
             "#de77ae"
            ],
            [
             0.3,
             "#f1b6da"
            ],
            [
             0.4,
             "#fde0ef"
            ],
            [
             0.5,
             "#f7f7f7"
            ],
            [
             0.6,
             "#e6f5d0"
            ],
            [
             0.7,
             "#b8e186"
            ],
            [
             0.8,
             "#7fbc41"
            ],
            [
             0.9,
             "#4d9221"
            ],
            [
             1,
             "#276419"
            ]
           ],
           "sequential": [
            [
             0,
             "#0d0887"
            ],
            [
             0.1111111111111111,
             "#46039f"
            ],
            [
             0.2222222222222222,
             "#7201a8"
            ],
            [
             0.3333333333333333,
             "#9c179e"
            ],
            [
             0.4444444444444444,
             "#bd3786"
            ],
            [
             0.5555555555555556,
             "#d8576b"
            ],
            [
             0.6666666666666666,
             "#ed7953"
            ],
            [
             0.7777777777777778,
             "#fb9f3a"
            ],
            [
             0.8888888888888888,
             "#fdca26"
            ],
            [
             1,
             "#f0f921"
            ]
           ],
           "sequentialminus": [
            [
             0,
             "#0d0887"
            ],
            [
             0.1111111111111111,
             "#46039f"
            ],
            [
             0.2222222222222222,
             "#7201a8"
            ],
            [
             0.3333333333333333,
             "#9c179e"
            ],
            [
             0.4444444444444444,
             "#bd3786"
            ],
            [
             0.5555555555555556,
             "#d8576b"
            ],
            [
             0.6666666666666666,
             "#ed7953"
            ],
            [
             0.7777777777777778,
             "#fb9f3a"
            ],
            [
             0.8888888888888888,
             "#fdca26"
            ],
            [
             1,
             "#f0f921"
            ]
           ]
          },
          "colorway": [
           "#636efa",
           "#EF553B",
           "#00cc96",
           "#ab63fa",
           "#FFA15A",
           "#19d3f3",
           "#FF6692",
           "#B6E880",
           "#FF97FF",
           "#FECB52"
          ],
          "font": {
           "color": "#2a3f5f"
          },
          "geo": {
           "bgcolor": "white",
           "lakecolor": "white",
           "landcolor": "#E5ECF6",
           "showlakes": true,
           "showland": true,
           "subunitcolor": "white"
          },
          "hoverlabel": {
           "align": "left"
          },
          "hovermode": "closest",
          "mapbox": {
           "style": "light"
          },
          "paper_bgcolor": "white",
          "plot_bgcolor": "#E5ECF6",
          "polar": {
           "angularaxis": {
            "gridcolor": "white",
            "linecolor": "white",
            "ticks": ""
           },
           "bgcolor": "#E5ECF6",
           "radialaxis": {
            "gridcolor": "white",
            "linecolor": "white",
            "ticks": ""
           }
          },
          "scene": {
           "xaxis": {
            "backgroundcolor": "#E5ECF6",
            "gridcolor": "white",
            "gridwidth": 2,
            "linecolor": "white",
            "showbackground": true,
            "ticks": "",
            "zerolinecolor": "white"
           },
           "yaxis": {
            "backgroundcolor": "#E5ECF6",
            "gridcolor": "white",
            "gridwidth": 2,
            "linecolor": "white",
            "showbackground": true,
            "ticks": "",
            "zerolinecolor": "white"
           },
           "zaxis": {
            "backgroundcolor": "#E5ECF6",
            "gridcolor": "white",
            "gridwidth": 2,
            "linecolor": "white",
            "showbackground": true,
            "ticks": "",
            "zerolinecolor": "white"
           }
          },
          "shapedefaults": {
           "line": {
            "color": "#2a3f5f"
           }
          },
          "ternary": {
           "aaxis": {
            "gridcolor": "white",
            "linecolor": "white",
            "ticks": ""
           },
           "baxis": {
            "gridcolor": "white",
            "linecolor": "white",
            "ticks": ""
           },
           "bgcolor": "#E5ECF6",
           "caxis": {
            "gridcolor": "white",
            "linecolor": "white",
            "ticks": ""
           }
          },
          "title": {
           "x": 0.05
          },
          "xaxis": {
           "automargin": true,
           "gridcolor": "white",
           "linecolor": "white",
           "ticks": "",
           "title": {
            "standoff": 15
           },
           "zerolinecolor": "white",
           "zerolinewidth": 2
          },
          "yaxis": {
           "automargin": true,
           "gridcolor": "white",
           "linecolor": "white",
           "ticks": "",
           "title": {
            "standoff": 15
           },
           "zerolinecolor": "white",
           "zerolinewidth": 2
          }
         }
        },
        "xaxis": {
         "anchor": "y",
         "domain": [
          0,
          1
         ],
         "title": {
          "text": "index"
         }
        },
        "yaxis": {
         "anchor": "x",
         "domain": [
          0,
          1
         ],
         "title": {
          "text": "score"
         }
        }
       }
      },
      "text/html": [
       "<div>                            <div id=\"a8ce5f09-02ea-424b-ad08-c28e882332a2\" class=\"plotly-graph-div\" style=\"height:525px; width:100%;\"></div>            <script type=\"text/javascript\">                require([\"plotly\"], function(Plotly) {                    window.PLOTLYENV=window.PLOTLYENV || {};                                    if (document.getElementById(\"a8ce5f09-02ea-424b-ad08-c28e882332a2\")) {                    Plotly.newPlot(                        \"a8ce5f09-02ea-424b-ad08-c28e882332a2\",                        [{\"alignmentgroup\":\"True\",\"hovertemplate\":\"index=%{x}\\u003cbr\\u003escore=%{y}\\u003cextra\\u003e\\u003c\\u002fextra\\u003e\",\"legendgroup\":\"\",\"marker\":{\"color\":\"#636efa\",\"pattern\":{\"shape\":\"\"}},\"name\":\"\",\"offsetgroup\":\"\",\"orientation\":\"v\",\"showlegend\":false,\"textposition\":\"auto\",\"x\":[\"CatBoostRegressor\",\"XGBRegressor\",\"SVR\",\"GradientBoostingRegressor\",\"RandomForestRegressor\"],\"xaxis\":\"x\",\"y\":[0.445290199809705,0.5176022835394862,0.23596574690770694,0.5851569933396765,0.5651760228353948],\"yaxis\":\"y\",\"type\":\"bar\"}],                        {\"template\":{\"data\":{\"histogram2dcontour\":[{\"type\":\"histogram2dcontour\",\"colorbar\":{\"outlinewidth\":0,\"ticks\":\"\"},\"colorscale\":[[0.0,\"#0d0887\"],[0.1111111111111111,\"#46039f\"],[0.2222222222222222,\"#7201a8\"],[0.3333333333333333,\"#9c179e\"],[0.4444444444444444,\"#bd3786\"],[0.5555555555555556,\"#d8576b\"],[0.6666666666666666,\"#ed7953\"],[0.7777777777777778,\"#fb9f3a\"],[0.8888888888888888,\"#fdca26\"],[1.0,\"#f0f921\"]]}],\"choropleth\":[{\"type\":\"choropleth\",\"colorbar\":{\"outlinewidth\":0,\"ticks\":\"\"}}],\"histogram2d\":[{\"type\":\"histogram2d\",\"colorbar\":{\"outlinewidth\":0,\"ticks\":\"\"},\"colorscale\":[[0.0,\"#0d0887\"],[0.1111111111111111,\"#46039f\"],[0.2222222222222222,\"#7201a8\"],[0.3333333333333333,\"#9c179e\"],[0.4444444444444444,\"#bd3786\"],[0.5555555555555556,\"#d8576b\"],[0.6666666666666666,\"#ed7953\"],[0.7777777777777778,\"#fb9f3a\"],[0.8888888888888888,\"#fdca26\"],[1.0,\"#f0f921\"]]}],\"heatmap\":[{\"type\":\"heatmap\",\"colorbar\":{\"outlinewidth\":0,\"ticks\":\"\"},\"colorscale\":[[0.0,\"#0d0887\"],[0.1111111111111111,\"#46039f\"],[0.2222222222222222,\"#7201a8\"],[0.3333333333333333,\"#9c179e\"],[0.4444444444444444,\"#bd3786\"],[0.5555555555555556,\"#d8576b\"],[0.6666666666666666,\"#ed7953\"],[0.7777777777777778,\"#fb9f3a\"],[0.8888888888888888,\"#fdca26\"],[1.0,\"#f0f921\"]]}],\"heatmapgl\":[{\"type\":\"heatmapgl\",\"colorbar\":{\"outlinewidth\":0,\"ticks\":\"\"},\"colorscale\":[[0.0,\"#0d0887\"],[0.1111111111111111,\"#46039f\"],[0.2222222222222222,\"#7201a8\"],[0.3333333333333333,\"#9c179e\"],[0.4444444444444444,\"#bd3786\"],[0.5555555555555556,\"#d8576b\"],[0.6666666666666666,\"#ed7953\"],[0.7777777777777778,\"#fb9f3a\"],[0.8888888888888888,\"#fdca26\"],[1.0,\"#f0f921\"]]}],\"contourcarpet\":[{\"type\":\"contourcarpet\",\"colorbar\":{\"outlinewidth\":0,\"ticks\":\"\"}}],\"contour\":[{\"type\":\"contour\",\"colorbar\":{\"outlinewidth\":0,\"ticks\":\"\"},\"colorscale\":[[0.0,\"#0d0887\"],[0.1111111111111111,\"#46039f\"],[0.2222222222222222,\"#7201a8\"],[0.3333333333333333,\"#9c179e\"],[0.4444444444444444,\"#bd3786\"],[0.5555555555555556,\"#d8576b\"],[0.6666666666666666,\"#ed7953\"],[0.7777777777777778,\"#fb9f3a\"],[0.8888888888888888,\"#fdca26\"],[1.0,\"#f0f921\"]]}],\"surface\":[{\"type\":\"surface\",\"colorbar\":{\"outlinewidth\":0,\"ticks\":\"\"},\"colorscale\":[[0.0,\"#0d0887\"],[0.1111111111111111,\"#46039f\"],[0.2222222222222222,\"#7201a8\"],[0.3333333333333333,\"#9c179e\"],[0.4444444444444444,\"#bd3786\"],[0.5555555555555556,\"#d8576b\"],[0.6666666666666666,\"#ed7953\"],[0.7777777777777778,\"#fb9f3a\"],[0.8888888888888888,\"#fdca26\"],[1.0,\"#f0f921\"]]}],\"mesh3d\":[{\"type\":\"mesh3d\",\"colorbar\":{\"outlinewidth\":0,\"ticks\":\"\"}}],\"scatter\":[{\"fillpattern\":{\"fillmode\":\"overlay\",\"size\":10,\"solidity\":0.2},\"type\":\"scatter\"}],\"parcoords\":[{\"type\":\"parcoords\",\"line\":{\"colorbar\":{\"outlinewidth\":0,\"ticks\":\"\"}}}],\"scatterpolargl\":[{\"type\":\"scatterpolargl\",\"marker\":{\"colorbar\":{\"outlinewidth\":0,\"ticks\":\"\"}}}],\"bar\":[{\"error_x\":{\"color\":\"#2a3f5f\"},\"error_y\":{\"color\":\"#2a3f5f\"},\"marker\":{\"line\":{\"color\":\"#E5ECF6\",\"width\":0.5},\"pattern\":{\"fillmode\":\"overlay\",\"size\":10,\"solidity\":0.2}},\"type\":\"bar\"}],\"scattergeo\":[{\"type\":\"scattergeo\",\"marker\":{\"colorbar\":{\"outlinewidth\":0,\"ticks\":\"\"}}}],\"scatterpolar\":[{\"type\":\"scatterpolar\",\"marker\":{\"colorbar\":{\"outlinewidth\":0,\"ticks\":\"\"}}}],\"histogram\":[{\"marker\":{\"pattern\":{\"fillmode\":\"overlay\",\"size\":10,\"solidity\":0.2}},\"type\":\"histogram\"}],\"scattergl\":[{\"type\":\"scattergl\",\"marker\":{\"colorbar\":{\"outlinewidth\":0,\"ticks\":\"\"}}}],\"scatter3d\":[{\"type\":\"scatter3d\",\"line\":{\"colorbar\":{\"outlinewidth\":0,\"ticks\":\"\"}},\"marker\":{\"colorbar\":{\"outlinewidth\":0,\"ticks\":\"\"}}}],\"scattermapbox\":[{\"type\":\"scattermapbox\",\"marker\":{\"colorbar\":{\"outlinewidth\":0,\"ticks\":\"\"}}}],\"scatterternary\":[{\"type\":\"scatterternary\",\"marker\":{\"colorbar\":{\"outlinewidth\":0,\"ticks\":\"\"}}}],\"scattercarpet\":[{\"type\":\"scattercarpet\",\"marker\":{\"colorbar\":{\"outlinewidth\":0,\"ticks\":\"\"}}}],\"carpet\":[{\"aaxis\":{\"endlinecolor\":\"#2a3f5f\",\"gridcolor\":\"white\",\"linecolor\":\"white\",\"minorgridcolor\":\"white\",\"startlinecolor\":\"#2a3f5f\"},\"baxis\":{\"endlinecolor\":\"#2a3f5f\",\"gridcolor\":\"white\",\"linecolor\":\"white\",\"minorgridcolor\":\"white\",\"startlinecolor\":\"#2a3f5f\"},\"type\":\"carpet\"}],\"table\":[{\"cells\":{\"fill\":{\"color\":\"#EBF0F8\"},\"line\":{\"color\":\"white\"}},\"header\":{\"fill\":{\"color\":\"#C8D4E3\"},\"line\":{\"color\":\"white\"}},\"type\":\"table\"}],\"barpolar\":[{\"marker\":{\"line\":{\"color\":\"#E5ECF6\",\"width\":0.5},\"pattern\":{\"fillmode\":\"overlay\",\"size\":10,\"solidity\":0.2}},\"type\":\"barpolar\"}],\"pie\":[{\"automargin\":true,\"type\":\"pie\"}]},\"layout\":{\"autotypenumbers\":\"strict\",\"colorway\":[\"#636efa\",\"#EF553B\",\"#00cc96\",\"#ab63fa\",\"#FFA15A\",\"#19d3f3\",\"#FF6692\",\"#B6E880\",\"#FF97FF\",\"#FECB52\"],\"font\":{\"color\":\"#2a3f5f\"},\"hovermode\":\"closest\",\"hoverlabel\":{\"align\":\"left\"},\"paper_bgcolor\":\"white\",\"plot_bgcolor\":\"#E5ECF6\",\"polar\":{\"bgcolor\":\"#E5ECF6\",\"angularaxis\":{\"gridcolor\":\"white\",\"linecolor\":\"white\",\"ticks\":\"\"},\"radialaxis\":{\"gridcolor\":\"white\",\"linecolor\":\"white\",\"ticks\":\"\"}},\"ternary\":{\"bgcolor\":\"#E5ECF6\",\"aaxis\":{\"gridcolor\":\"white\",\"linecolor\":\"white\",\"ticks\":\"\"},\"baxis\":{\"gridcolor\":\"white\",\"linecolor\":\"white\",\"ticks\":\"\"},\"caxis\":{\"gridcolor\":\"white\",\"linecolor\":\"white\",\"ticks\":\"\"}},\"coloraxis\":{\"colorbar\":{\"outlinewidth\":0,\"ticks\":\"\"}},\"colorscale\":{\"sequential\":[[0.0,\"#0d0887\"],[0.1111111111111111,\"#46039f\"],[0.2222222222222222,\"#7201a8\"],[0.3333333333333333,\"#9c179e\"],[0.4444444444444444,\"#bd3786\"],[0.5555555555555556,\"#d8576b\"],[0.6666666666666666,\"#ed7953\"],[0.7777777777777778,\"#fb9f3a\"],[0.8888888888888888,\"#fdca26\"],[1.0,\"#f0f921\"]],\"sequentialminus\":[[0.0,\"#0d0887\"],[0.1111111111111111,\"#46039f\"],[0.2222222222222222,\"#7201a8\"],[0.3333333333333333,\"#9c179e\"],[0.4444444444444444,\"#bd3786\"],[0.5555555555555556,\"#d8576b\"],[0.6666666666666666,\"#ed7953\"],[0.7777777777777778,\"#fb9f3a\"],[0.8888888888888888,\"#fdca26\"],[1.0,\"#f0f921\"]],\"diverging\":[[0,\"#8e0152\"],[0.1,\"#c51b7d\"],[0.2,\"#de77ae\"],[0.3,\"#f1b6da\"],[0.4,\"#fde0ef\"],[0.5,\"#f7f7f7\"],[0.6,\"#e6f5d0\"],[0.7,\"#b8e186\"],[0.8,\"#7fbc41\"],[0.9,\"#4d9221\"],[1,\"#276419\"]]},\"xaxis\":{\"gridcolor\":\"white\",\"linecolor\":\"white\",\"ticks\":\"\",\"title\":{\"standoff\":15},\"zerolinecolor\":\"white\",\"automargin\":true,\"zerolinewidth\":2},\"yaxis\":{\"gridcolor\":\"white\",\"linecolor\":\"white\",\"ticks\":\"\",\"title\":{\"standoff\":15},\"zerolinecolor\":\"white\",\"automargin\":true,\"zerolinewidth\":2},\"scene\":{\"xaxis\":{\"backgroundcolor\":\"#E5ECF6\",\"gridcolor\":\"white\",\"linecolor\":\"white\",\"showbackground\":true,\"ticks\":\"\",\"zerolinecolor\":\"white\",\"gridwidth\":2},\"yaxis\":{\"backgroundcolor\":\"#E5ECF6\",\"gridcolor\":\"white\",\"linecolor\":\"white\",\"showbackground\":true,\"ticks\":\"\",\"zerolinecolor\":\"white\",\"gridwidth\":2},\"zaxis\":{\"backgroundcolor\":\"#E5ECF6\",\"gridcolor\":\"white\",\"linecolor\":\"white\",\"showbackground\":true,\"ticks\":\"\",\"zerolinecolor\":\"white\",\"gridwidth\":2}},\"shapedefaults\":{\"line\":{\"color\":\"#2a3f5f\"}},\"annotationdefaults\":{\"arrowcolor\":\"#2a3f5f\",\"arrowhead\":0,\"arrowwidth\":1},\"geo\":{\"bgcolor\":\"white\",\"landcolor\":\"#E5ECF6\",\"subunitcolor\":\"white\",\"showland\":true,\"showlakes\":true,\"lakecolor\":\"white\"},\"title\":{\"x\":0.05},\"mapbox\":{\"style\":\"light\"}}},\"xaxis\":{\"anchor\":\"y\",\"domain\":[0.0,1.0],\"title\":{\"text\":\"index\"}},\"yaxis\":{\"anchor\":\"x\",\"domain\":[0.0,1.0],\"title\":{\"text\":\"score\"}},\"legend\":{\"tracegroupgap\":0},\"margin\":{\"t\":60},\"barmode\":\"relative\"},                        {\"responsive\": true}                    ).then(function(){\n",
       "                            \n",
       "var gd = document.getElementById('a8ce5f09-02ea-424b-ad08-c28e882332a2');\n",
       "var x = new MutationObserver(function (mutations, observer) {{\n",
       "        var display = window.getComputedStyle(gd).display;\n",
       "        if (!display || display === 'none') {{\n",
       "            console.log([gd, 'removed!']);\n",
       "            Plotly.purge(gd);\n",
       "            observer.disconnect();\n",
       "        }}\n",
       "}});\n",
       "\n",
       "// Listen for the removal of the full notebook cells\n",
       "var notebookContainer = gd.closest('#notebook-container');\n",
       "if (notebookContainer) {{\n",
       "    x.observe(notebookContainer, {childList: true});\n",
       "}}\n",
       "\n",
       "// Listen for the clearing of the current output cell\n",
       "var outputEl = gd.closest('.output');\n",
       "if (outputEl) {{\n",
       "    x.observe(outputEl, {childList: true});\n",
       "}}\n",
       "\n",
       "                        })                };                });            </script>        </div>"
      ]
     },
     "metadata": {},
     "output_type": "display_data"
    }
   ],
   "source": [
    "px.bar(df, x=df.index, y='score')"
   ]
  },
  {
   "cell_type": "code",
   "execution_count": 305,
   "metadata": {},
   "outputs": [
    {
     "data": {
      "application/vnd.plotly.v1+json": {
       "config": {
        "plotlyServerURL": "https://plot.ly"
       },
       "data": [
        {
         "alignmentgroup": "True",
         "hovertemplate": "index=%{x}<br>rsme=%{y}<extra></extra>",
         "legendgroup": "",
         "marker": {
          "color": "#636efa",
          "pattern": {
           "shape": ""
          }
         },
         "name": "",
         "offsetgroup": "",
         "orientation": "v",
         "showlegend": false,
         "textposition": "auto",
         "type": "bar",
         "x": [
          "CatBoostRegressor",
          "XGBRegressor",
          "SVR",
          "GradientBoostingRegressor",
          "RandomForestRegressor"
         ],
         "xaxis": "x",
         "y": [
          2.5347025840871438,
          2.681870937146317,
          4.692356861702321,
          2.709836110243189,
          2.2925832791496252
         ],
         "yaxis": "y"
        }
       ],
       "layout": {
        "barmode": "relative",
        "legend": {
         "tracegroupgap": 0
        },
        "margin": {
         "t": 60
        },
        "template": {
         "data": {
          "bar": [
           {
            "error_x": {
             "color": "#2a3f5f"
            },
            "error_y": {
             "color": "#2a3f5f"
            },
            "marker": {
             "line": {
              "color": "#E5ECF6",
              "width": 0.5
             },
             "pattern": {
              "fillmode": "overlay",
              "size": 10,
              "solidity": 0.2
             }
            },
            "type": "bar"
           }
          ],
          "barpolar": [
           {
            "marker": {
             "line": {
              "color": "#E5ECF6",
              "width": 0.5
             },
             "pattern": {
              "fillmode": "overlay",
              "size": 10,
              "solidity": 0.2
             }
            },
            "type": "barpolar"
           }
          ],
          "carpet": [
           {
            "aaxis": {
             "endlinecolor": "#2a3f5f",
             "gridcolor": "white",
             "linecolor": "white",
             "minorgridcolor": "white",
             "startlinecolor": "#2a3f5f"
            },
            "baxis": {
             "endlinecolor": "#2a3f5f",
             "gridcolor": "white",
             "linecolor": "white",
             "minorgridcolor": "white",
             "startlinecolor": "#2a3f5f"
            },
            "type": "carpet"
           }
          ],
          "choropleth": [
           {
            "colorbar": {
             "outlinewidth": 0,
             "ticks": ""
            },
            "type": "choropleth"
           }
          ],
          "contour": [
           {
            "colorbar": {
             "outlinewidth": 0,
             "ticks": ""
            },
            "colorscale": [
             [
              0,
              "#0d0887"
             ],
             [
              0.1111111111111111,
              "#46039f"
             ],
             [
              0.2222222222222222,
              "#7201a8"
             ],
             [
              0.3333333333333333,
              "#9c179e"
             ],
             [
              0.4444444444444444,
              "#bd3786"
             ],
             [
              0.5555555555555556,
              "#d8576b"
             ],
             [
              0.6666666666666666,
              "#ed7953"
             ],
             [
              0.7777777777777778,
              "#fb9f3a"
             ],
             [
              0.8888888888888888,
              "#fdca26"
             ],
             [
              1,
              "#f0f921"
             ]
            ],
            "type": "contour"
           }
          ],
          "contourcarpet": [
           {
            "colorbar": {
             "outlinewidth": 0,
             "ticks": ""
            },
            "type": "contourcarpet"
           }
          ],
          "heatmap": [
           {
            "colorbar": {
             "outlinewidth": 0,
             "ticks": ""
            },
            "colorscale": [
             [
              0,
              "#0d0887"
             ],
             [
              0.1111111111111111,
              "#46039f"
             ],
             [
              0.2222222222222222,
              "#7201a8"
             ],
             [
              0.3333333333333333,
              "#9c179e"
             ],
             [
              0.4444444444444444,
              "#bd3786"
             ],
             [
              0.5555555555555556,
              "#d8576b"
             ],
             [
              0.6666666666666666,
              "#ed7953"
             ],
             [
              0.7777777777777778,
              "#fb9f3a"
             ],
             [
              0.8888888888888888,
              "#fdca26"
             ],
             [
              1,
              "#f0f921"
             ]
            ],
            "type": "heatmap"
           }
          ],
          "heatmapgl": [
           {
            "colorbar": {
             "outlinewidth": 0,
             "ticks": ""
            },
            "colorscale": [
             [
              0,
              "#0d0887"
             ],
             [
              0.1111111111111111,
              "#46039f"
             ],
             [
              0.2222222222222222,
              "#7201a8"
             ],
             [
              0.3333333333333333,
              "#9c179e"
             ],
             [
              0.4444444444444444,
              "#bd3786"
             ],
             [
              0.5555555555555556,
              "#d8576b"
             ],
             [
              0.6666666666666666,
              "#ed7953"
             ],
             [
              0.7777777777777778,
              "#fb9f3a"
             ],
             [
              0.8888888888888888,
              "#fdca26"
             ],
             [
              1,
              "#f0f921"
             ]
            ],
            "type": "heatmapgl"
           }
          ],
          "histogram": [
           {
            "marker": {
             "pattern": {
              "fillmode": "overlay",
              "size": 10,
              "solidity": 0.2
             }
            },
            "type": "histogram"
           }
          ],
          "histogram2d": [
           {
            "colorbar": {
             "outlinewidth": 0,
             "ticks": ""
            },
            "colorscale": [
             [
              0,
              "#0d0887"
             ],
             [
              0.1111111111111111,
              "#46039f"
             ],
             [
              0.2222222222222222,
              "#7201a8"
             ],
             [
              0.3333333333333333,
              "#9c179e"
             ],
             [
              0.4444444444444444,
              "#bd3786"
             ],
             [
              0.5555555555555556,
              "#d8576b"
             ],
             [
              0.6666666666666666,
              "#ed7953"
             ],
             [
              0.7777777777777778,
              "#fb9f3a"
             ],
             [
              0.8888888888888888,
              "#fdca26"
             ],
             [
              1,
              "#f0f921"
             ]
            ],
            "type": "histogram2d"
           }
          ],
          "histogram2dcontour": [
           {
            "colorbar": {
             "outlinewidth": 0,
             "ticks": ""
            },
            "colorscale": [
             [
              0,
              "#0d0887"
             ],
             [
              0.1111111111111111,
              "#46039f"
             ],
             [
              0.2222222222222222,
              "#7201a8"
             ],
             [
              0.3333333333333333,
              "#9c179e"
             ],
             [
              0.4444444444444444,
              "#bd3786"
             ],
             [
              0.5555555555555556,
              "#d8576b"
             ],
             [
              0.6666666666666666,
              "#ed7953"
             ],
             [
              0.7777777777777778,
              "#fb9f3a"
             ],
             [
              0.8888888888888888,
              "#fdca26"
             ],
             [
              1,
              "#f0f921"
             ]
            ],
            "type": "histogram2dcontour"
           }
          ],
          "mesh3d": [
           {
            "colorbar": {
             "outlinewidth": 0,
             "ticks": ""
            },
            "type": "mesh3d"
           }
          ],
          "parcoords": [
           {
            "line": {
             "colorbar": {
              "outlinewidth": 0,
              "ticks": ""
             }
            },
            "type": "parcoords"
           }
          ],
          "pie": [
           {
            "automargin": true,
            "type": "pie"
           }
          ],
          "scatter": [
           {
            "fillpattern": {
             "fillmode": "overlay",
             "size": 10,
             "solidity": 0.2
            },
            "type": "scatter"
           }
          ],
          "scatter3d": [
           {
            "line": {
             "colorbar": {
              "outlinewidth": 0,
              "ticks": ""
             }
            },
            "marker": {
             "colorbar": {
              "outlinewidth": 0,
              "ticks": ""
             }
            },
            "type": "scatter3d"
           }
          ],
          "scattercarpet": [
           {
            "marker": {
             "colorbar": {
              "outlinewidth": 0,
              "ticks": ""
             }
            },
            "type": "scattercarpet"
           }
          ],
          "scattergeo": [
           {
            "marker": {
             "colorbar": {
              "outlinewidth": 0,
              "ticks": ""
             }
            },
            "type": "scattergeo"
           }
          ],
          "scattergl": [
           {
            "marker": {
             "colorbar": {
              "outlinewidth": 0,
              "ticks": ""
             }
            },
            "type": "scattergl"
           }
          ],
          "scattermapbox": [
           {
            "marker": {
             "colorbar": {
              "outlinewidth": 0,
              "ticks": ""
             }
            },
            "type": "scattermapbox"
           }
          ],
          "scatterpolar": [
           {
            "marker": {
             "colorbar": {
              "outlinewidth": 0,
              "ticks": ""
             }
            },
            "type": "scatterpolar"
           }
          ],
          "scatterpolargl": [
           {
            "marker": {
             "colorbar": {
              "outlinewidth": 0,
              "ticks": ""
             }
            },
            "type": "scatterpolargl"
           }
          ],
          "scatterternary": [
           {
            "marker": {
             "colorbar": {
              "outlinewidth": 0,
              "ticks": ""
             }
            },
            "type": "scatterternary"
           }
          ],
          "surface": [
           {
            "colorbar": {
             "outlinewidth": 0,
             "ticks": ""
            },
            "colorscale": [
             [
              0,
              "#0d0887"
             ],
             [
              0.1111111111111111,
              "#46039f"
             ],
             [
              0.2222222222222222,
              "#7201a8"
             ],
             [
              0.3333333333333333,
              "#9c179e"
             ],
             [
              0.4444444444444444,
              "#bd3786"
             ],
             [
              0.5555555555555556,
              "#d8576b"
             ],
             [
              0.6666666666666666,
              "#ed7953"
             ],
             [
              0.7777777777777778,
              "#fb9f3a"
             ],
             [
              0.8888888888888888,
              "#fdca26"
             ],
             [
              1,
              "#f0f921"
             ]
            ],
            "type": "surface"
           }
          ],
          "table": [
           {
            "cells": {
             "fill": {
              "color": "#EBF0F8"
             },
             "line": {
              "color": "white"
             }
            },
            "header": {
             "fill": {
              "color": "#C8D4E3"
             },
             "line": {
              "color": "white"
             }
            },
            "type": "table"
           }
          ]
         },
         "layout": {
          "annotationdefaults": {
           "arrowcolor": "#2a3f5f",
           "arrowhead": 0,
           "arrowwidth": 1
          },
          "autotypenumbers": "strict",
          "coloraxis": {
           "colorbar": {
            "outlinewidth": 0,
            "ticks": ""
           }
          },
          "colorscale": {
           "diverging": [
            [
             0,
             "#8e0152"
            ],
            [
             0.1,
             "#c51b7d"
            ],
            [
             0.2,
             "#de77ae"
            ],
            [
             0.3,
             "#f1b6da"
            ],
            [
             0.4,
             "#fde0ef"
            ],
            [
             0.5,
             "#f7f7f7"
            ],
            [
             0.6,
             "#e6f5d0"
            ],
            [
             0.7,
             "#b8e186"
            ],
            [
             0.8,
             "#7fbc41"
            ],
            [
             0.9,
             "#4d9221"
            ],
            [
             1,
             "#276419"
            ]
           ],
           "sequential": [
            [
             0,
             "#0d0887"
            ],
            [
             0.1111111111111111,
             "#46039f"
            ],
            [
             0.2222222222222222,
             "#7201a8"
            ],
            [
             0.3333333333333333,
             "#9c179e"
            ],
            [
             0.4444444444444444,
             "#bd3786"
            ],
            [
             0.5555555555555556,
             "#d8576b"
            ],
            [
             0.6666666666666666,
             "#ed7953"
            ],
            [
             0.7777777777777778,
             "#fb9f3a"
            ],
            [
             0.8888888888888888,
             "#fdca26"
            ],
            [
             1,
             "#f0f921"
            ]
           ],
           "sequentialminus": [
            [
             0,
             "#0d0887"
            ],
            [
             0.1111111111111111,
             "#46039f"
            ],
            [
             0.2222222222222222,
             "#7201a8"
            ],
            [
             0.3333333333333333,
             "#9c179e"
            ],
            [
             0.4444444444444444,
             "#bd3786"
            ],
            [
             0.5555555555555556,
             "#d8576b"
            ],
            [
             0.6666666666666666,
             "#ed7953"
            ],
            [
             0.7777777777777778,
             "#fb9f3a"
            ],
            [
             0.8888888888888888,
             "#fdca26"
            ],
            [
             1,
             "#f0f921"
            ]
           ]
          },
          "colorway": [
           "#636efa",
           "#EF553B",
           "#00cc96",
           "#ab63fa",
           "#FFA15A",
           "#19d3f3",
           "#FF6692",
           "#B6E880",
           "#FF97FF",
           "#FECB52"
          ],
          "font": {
           "color": "#2a3f5f"
          },
          "geo": {
           "bgcolor": "white",
           "lakecolor": "white",
           "landcolor": "#E5ECF6",
           "showlakes": true,
           "showland": true,
           "subunitcolor": "white"
          },
          "hoverlabel": {
           "align": "left"
          },
          "hovermode": "closest",
          "mapbox": {
           "style": "light"
          },
          "paper_bgcolor": "white",
          "plot_bgcolor": "#E5ECF6",
          "polar": {
           "angularaxis": {
            "gridcolor": "white",
            "linecolor": "white",
            "ticks": ""
           },
           "bgcolor": "#E5ECF6",
           "radialaxis": {
            "gridcolor": "white",
            "linecolor": "white",
            "ticks": ""
           }
          },
          "scene": {
           "xaxis": {
            "backgroundcolor": "#E5ECF6",
            "gridcolor": "white",
            "gridwidth": 2,
            "linecolor": "white",
            "showbackground": true,
            "ticks": "",
            "zerolinecolor": "white"
           },
           "yaxis": {
            "backgroundcolor": "#E5ECF6",
            "gridcolor": "white",
            "gridwidth": 2,
            "linecolor": "white",
            "showbackground": true,
            "ticks": "",
            "zerolinecolor": "white"
           },
           "zaxis": {
            "backgroundcolor": "#E5ECF6",
            "gridcolor": "white",
            "gridwidth": 2,
            "linecolor": "white",
            "showbackground": true,
            "ticks": "",
            "zerolinecolor": "white"
           }
          },
          "shapedefaults": {
           "line": {
            "color": "#2a3f5f"
           }
          },
          "ternary": {
           "aaxis": {
            "gridcolor": "white",
            "linecolor": "white",
            "ticks": ""
           },
           "baxis": {
            "gridcolor": "white",
            "linecolor": "white",
            "ticks": ""
           },
           "bgcolor": "#E5ECF6",
           "caxis": {
            "gridcolor": "white",
            "linecolor": "white",
            "ticks": ""
           }
          },
          "title": {
           "x": 0.05
          },
          "xaxis": {
           "automargin": true,
           "gridcolor": "white",
           "linecolor": "white",
           "ticks": "",
           "title": {
            "standoff": 15
           },
           "zerolinecolor": "white",
           "zerolinewidth": 2
          },
          "yaxis": {
           "automargin": true,
           "gridcolor": "white",
           "linecolor": "white",
           "ticks": "",
           "title": {
            "standoff": 15
           },
           "zerolinecolor": "white",
           "zerolinewidth": 2
          }
         }
        },
        "xaxis": {
         "anchor": "y",
         "domain": [
          0,
          1
         ],
         "title": {
          "text": "index"
         }
        },
        "yaxis": {
         "anchor": "x",
         "domain": [
          0,
          1
         ],
         "title": {
          "text": "rsme"
         }
        }
       }
      },
      "text/html": [
       "<div>                            <div id=\"76cfc52e-788b-424f-b1fb-1e72c751015e\" class=\"plotly-graph-div\" style=\"height:525px; width:100%;\"></div>            <script type=\"text/javascript\">                require([\"plotly\"], function(Plotly) {                    window.PLOTLYENV=window.PLOTLYENV || {};                                    if (document.getElementById(\"76cfc52e-788b-424f-b1fb-1e72c751015e\")) {                    Plotly.newPlot(                        \"76cfc52e-788b-424f-b1fb-1e72c751015e\",                        [{\"alignmentgroup\":\"True\",\"hovertemplate\":\"index=%{x}\\u003cbr\\u003ersme=%{y}\\u003cextra\\u003e\\u003c\\u002fextra\\u003e\",\"legendgroup\":\"\",\"marker\":{\"color\":\"#636efa\",\"pattern\":{\"shape\":\"\"}},\"name\":\"\",\"offsetgroup\":\"\",\"orientation\":\"v\",\"showlegend\":false,\"textposition\":\"auto\",\"x\":[\"CatBoostRegressor\",\"XGBRegressor\",\"SVR\",\"GradientBoostingRegressor\",\"RandomForestRegressor\"],\"xaxis\":\"x\",\"y\":[2.5347025840871438,2.681870937146317,4.692356861702321,2.709836110243189,2.2925832791496252],\"yaxis\":\"y\",\"type\":\"bar\"}],                        {\"template\":{\"data\":{\"histogram2dcontour\":[{\"type\":\"histogram2dcontour\",\"colorbar\":{\"outlinewidth\":0,\"ticks\":\"\"},\"colorscale\":[[0.0,\"#0d0887\"],[0.1111111111111111,\"#46039f\"],[0.2222222222222222,\"#7201a8\"],[0.3333333333333333,\"#9c179e\"],[0.4444444444444444,\"#bd3786\"],[0.5555555555555556,\"#d8576b\"],[0.6666666666666666,\"#ed7953\"],[0.7777777777777778,\"#fb9f3a\"],[0.8888888888888888,\"#fdca26\"],[1.0,\"#f0f921\"]]}],\"choropleth\":[{\"type\":\"choropleth\",\"colorbar\":{\"outlinewidth\":0,\"ticks\":\"\"}}],\"histogram2d\":[{\"type\":\"histogram2d\",\"colorbar\":{\"outlinewidth\":0,\"ticks\":\"\"},\"colorscale\":[[0.0,\"#0d0887\"],[0.1111111111111111,\"#46039f\"],[0.2222222222222222,\"#7201a8\"],[0.3333333333333333,\"#9c179e\"],[0.4444444444444444,\"#bd3786\"],[0.5555555555555556,\"#d8576b\"],[0.6666666666666666,\"#ed7953\"],[0.7777777777777778,\"#fb9f3a\"],[0.8888888888888888,\"#fdca26\"],[1.0,\"#f0f921\"]]}],\"heatmap\":[{\"type\":\"heatmap\",\"colorbar\":{\"outlinewidth\":0,\"ticks\":\"\"},\"colorscale\":[[0.0,\"#0d0887\"],[0.1111111111111111,\"#46039f\"],[0.2222222222222222,\"#7201a8\"],[0.3333333333333333,\"#9c179e\"],[0.4444444444444444,\"#bd3786\"],[0.5555555555555556,\"#d8576b\"],[0.6666666666666666,\"#ed7953\"],[0.7777777777777778,\"#fb9f3a\"],[0.8888888888888888,\"#fdca26\"],[1.0,\"#f0f921\"]]}],\"heatmapgl\":[{\"type\":\"heatmapgl\",\"colorbar\":{\"outlinewidth\":0,\"ticks\":\"\"},\"colorscale\":[[0.0,\"#0d0887\"],[0.1111111111111111,\"#46039f\"],[0.2222222222222222,\"#7201a8\"],[0.3333333333333333,\"#9c179e\"],[0.4444444444444444,\"#bd3786\"],[0.5555555555555556,\"#d8576b\"],[0.6666666666666666,\"#ed7953\"],[0.7777777777777778,\"#fb9f3a\"],[0.8888888888888888,\"#fdca26\"],[1.0,\"#f0f921\"]]}],\"contourcarpet\":[{\"type\":\"contourcarpet\",\"colorbar\":{\"outlinewidth\":0,\"ticks\":\"\"}}],\"contour\":[{\"type\":\"contour\",\"colorbar\":{\"outlinewidth\":0,\"ticks\":\"\"},\"colorscale\":[[0.0,\"#0d0887\"],[0.1111111111111111,\"#46039f\"],[0.2222222222222222,\"#7201a8\"],[0.3333333333333333,\"#9c179e\"],[0.4444444444444444,\"#bd3786\"],[0.5555555555555556,\"#d8576b\"],[0.6666666666666666,\"#ed7953\"],[0.7777777777777778,\"#fb9f3a\"],[0.8888888888888888,\"#fdca26\"],[1.0,\"#f0f921\"]]}],\"surface\":[{\"type\":\"surface\",\"colorbar\":{\"outlinewidth\":0,\"ticks\":\"\"},\"colorscale\":[[0.0,\"#0d0887\"],[0.1111111111111111,\"#46039f\"],[0.2222222222222222,\"#7201a8\"],[0.3333333333333333,\"#9c179e\"],[0.4444444444444444,\"#bd3786\"],[0.5555555555555556,\"#d8576b\"],[0.6666666666666666,\"#ed7953\"],[0.7777777777777778,\"#fb9f3a\"],[0.8888888888888888,\"#fdca26\"],[1.0,\"#f0f921\"]]}],\"mesh3d\":[{\"type\":\"mesh3d\",\"colorbar\":{\"outlinewidth\":0,\"ticks\":\"\"}}],\"scatter\":[{\"fillpattern\":{\"fillmode\":\"overlay\",\"size\":10,\"solidity\":0.2},\"type\":\"scatter\"}],\"parcoords\":[{\"type\":\"parcoords\",\"line\":{\"colorbar\":{\"outlinewidth\":0,\"ticks\":\"\"}}}],\"scatterpolargl\":[{\"type\":\"scatterpolargl\",\"marker\":{\"colorbar\":{\"outlinewidth\":0,\"ticks\":\"\"}}}],\"bar\":[{\"error_x\":{\"color\":\"#2a3f5f\"},\"error_y\":{\"color\":\"#2a3f5f\"},\"marker\":{\"line\":{\"color\":\"#E5ECF6\",\"width\":0.5},\"pattern\":{\"fillmode\":\"overlay\",\"size\":10,\"solidity\":0.2}},\"type\":\"bar\"}],\"scattergeo\":[{\"type\":\"scattergeo\",\"marker\":{\"colorbar\":{\"outlinewidth\":0,\"ticks\":\"\"}}}],\"scatterpolar\":[{\"type\":\"scatterpolar\",\"marker\":{\"colorbar\":{\"outlinewidth\":0,\"ticks\":\"\"}}}],\"histogram\":[{\"marker\":{\"pattern\":{\"fillmode\":\"overlay\",\"size\":10,\"solidity\":0.2}},\"type\":\"histogram\"}],\"scattergl\":[{\"type\":\"scattergl\",\"marker\":{\"colorbar\":{\"outlinewidth\":0,\"ticks\":\"\"}}}],\"scatter3d\":[{\"type\":\"scatter3d\",\"line\":{\"colorbar\":{\"outlinewidth\":0,\"ticks\":\"\"}},\"marker\":{\"colorbar\":{\"outlinewidth\":0,\"ticks\":\"\"}}}],\"scattermapbox\":[{\"type\":\"scattermapbox\",\"marker\":{\"colorbar\":{\"outlinewidth\":0,\"ticks\":\"\"}}}],\"scatterternary\":[{\"type\":\"scatterternary\",\"marker\":{\"colorbar\":{\"outlinewidth\":0,\"ticks\":\"\"}}}],\"scattercarpet\":[{\"type\":\"scattercarpet\",\"marker\":{\"colorbar\":{\"outlinewidth\":0,\"ticks\":\"\"}}}],\"carpet\":[{\"aaxis\":{\"endlinecolor\":\"#2a3f5f\",\"gridcolor\":\"white\",\"linecolor\":\"white\",\"minorgridcolor\":\"white\",\"startlinecolor\":\"#2a3f5f\"},\"baxis\":{\"endlinecolor\":\"#2a3f5f\",\"gridcolor\":\"white\",\"linecolor\":\"white\",\"minorgridcolor\":\"white\",\"startlinecolor\":\"#2a3f5f\"},\"type\":\"carpet\"}],\"table\":[{\"cells\":{\"fill\":{\"color\":\"#EBF0F8\"},\"line\":{\"color\":\"white\"}},\"header\":{\"fill\":{\"color\":\"#C8D4E3\"},\"line\":{\"color\":\"white\"}},\"type\":\"table\"}],\"barpolar\":[{\"marker\":{\"line\":{\"color\":\"#E5ECF6\",\"width\":0.5},\"pattern\":{\"fillmode\":\"overlay\",\"size\":10,\"solidity\":0.2}},\"type\":\"barpolar\"}],\"pie\":[{\"automargin\":true,\"type\":\"pie\"}]},\"layout\":{\"autotypenumbers\":\"strict\",\"colorway\":[\"#636efa\",\"#EF553B\",\"#00cc96\",\"#ab63fa\",\"#FFA15A\",\"#19d3f3\",\"#FF6692\",\"#B6E880\",\"#FF97FF\",\"#FECB52\"],\"font\":{\"color\":\"#2a3f5f\"},\"hovermode\":\"closest\",\"hoverlabel\":{\"align\":\"left\"},\"paper_bgcolor\":\"white\",\"plot_bgcolor\":\"#E5ECF6\",\"polar\":{\"bgcolor\":\"#E5ECF6\",\"angularaxis\":{\"gridcolor\":\"white\",\"linecolor\":\"white\",\"ticks\":\"\"},\"radialaxis\":{\"gridcolor\":\"white\",\"linecolor\":\"white\",\"ticks\":\"\"}},\"ternary\":{\"bgcolor\":\"#E5ECF6\",\"aaxis\":{\"gridcolor\":\"white\",\"linecolor\":\"white\",\"ticks\":\"\"},\"baxis\":{\"gridcolor\":\"white\",\"linecolor\":\"white\",\"ticks\":\"\"},\"caxis\":{\"gridcolor\":\"white\",\"linecolor\":\"white\",\"ticks\":\"\"}},\"coloraxis\":{\"colorbar\":{\"outlinewidth\":0,\"ticks\":\"\"}},\"colorscale\":{\"sequential\":[[0.0,\"#0d0887\"],[0.1111111111111111,\"#46039f\"],[0.2222222222222222,\"#7201a8\"],[0.3333333333333333,\"#9c179e\"],[0.4444444444444444,\"#bd3786\"],[0.5555555555555556,\"#d8576b\"],[0.6666666666666666,\"#ed7953\"],[0.7777777777777778,\"#fb9f3a\"],[0.8888888888888888,\"#fdca26\"],[1.0,\"#f0f921\"]],\"sequentialminus\":[[0.0,\"#0d0887\"],[0.1111111111111111,\"#46039f\"],[0.2222222222222222,\"#7201a8\"],[0.3333333333333333,\"#9c179e\"],[0.4444444444444444,\"#bd3786\"],[0.5555555555555556,\"#d8576b\"],[0.6666666666666666,\"#ed7953\"],[0.7777777777777778,\"#fb9f3a\"],[0.8888888888888888,\"#fdca26\"],[1.0,\"#f0f921\"]],\"diverging\":[[0,\"#8e0152\"],[0.1,\"#c51b7d\"],[0.2,\"#de77ae\"],[0.3,\"#f1b6da\"],[0.4,\"#fde0ef\"],[0.5,\"#f7f7f7\"],[0.6,\"#e6f5d0\"],[0.7,\"#b8e186\"],[0.8,\"#7fbc41\"],[0.9,\"#4d9221\"],[1,\"#276419\"]]},\"xaxis\":{\"gridcolor\":\"white\",\"linecolor\":\"white\",\"ticks\":\"\",\"title\":{\"standoff\":15},\"zerolinecolor\":\"white\",\"automargin\":true,\"zerolinewidth\":2},\"yaxis\":{\"gridcolor\":\"white\",\"linecolor\":\"white\",\"ticks\":\"\",\"title\":{\"standoff\":15},\"zerolinecolor\":\"white\",\"automargin\":true,\"zerolinewidth\":2},\"scene\":{\"xaxis\":{\"backgroundcolor\":\"#E5ECF6\",\"gridcolor\":\"white\",\"linecolor\":\"white\",\"showbackground\":true,\"ticks\":\"\",\"zerolinecolor\":\"white\",\"gridwidth\":2},\"yaxis\":{\"backgroundcolor\":\"#E5ECF6\",\"gridcolor\":\"white\",\"linecolor\":\"white\",\"showbackground\":true,\"ticks\":\"\",\"zerolinecolor\":\"white\",\"gridwidth\":2},\"zaxis\":{\"backgroundcolor\":\"#E5ECF6\",\"gridcolor\":\"white\",\"linecolor\":\"white\",\"showbackground\":true,\"ticks\":\"\",\"zerolinecolor\":\"white\",\"gridwidth\":2}},\"shapedefaults\":{\"line\":{\"color\":\"#2a3f5f\"}},\"annotationdefaults\":{\"arrowcolor\":\"#2a3f5f\",\"arrowhead\":0,\"arrowwidth\":1},\"geo\":{\"bgcolor\":\"white\",\"landcolor\":\"#E5ECF6\",\"subunitcolor\":\"white\",\"showland\":true,\"showlakes\":true,\"lakecolor\":\"white\"},\"title\":{\"x\":0.05},\"mapbox\":{\"style\":\"light\"}}},\"xaxis\":{\"anchor\":\"y\",\"domain\":[0.0,1.0],\"title\":{\"text\":\"index\"}},\"yaxis\":{\"anchor\":\"x\",\"domain\":[0.0,1.0],\"title\":{\"text\":\"rsme\"}},\"legend\":{\"tracegroupgap\":0},\"margin\":{\"t\":60},\"barmode\":\"relative\"},                        {\"responsive\": true}                    ).then(function(){\n",
       "                            \n",
       "var gd = document.getElementById('76cfc52e-788b-424f-b1fb-1e72c751015e');\n",
       "var x = new MutationObserver(function (mutations, observer) {{\n",
       "        var display = window.getComputedStyle(gd).display;\n",
       "        if (!display || display === 'none') {{\n",
       "            console.log([gd, 'removed!']);\n",
       "            Plotly.purge(gd);\n",
       "            observer.disconnect();\n",
       "        }}\n",
       "}});\n",
       "\n",
       "// Listen for the removal of the full notebook cells\n",
       "var notebookContainer = gd.closest('#notebook-container');\n",
       "if (notebookContainer) {{\n",
       "    x.observe(notebookContainer, {childList: true});\n",
       "}}\n",
       "\n",
       "// Listen for the clearing of the current output cell\n",
       "var outputEl = gd.closest('.output');\n",
       "if (outputEl) {{\n",
       "    x.observe(outputEl, {childList: true});\n",
       "}}\n",
       "\n",
       "                        })                };                });            </script>        </div>"
      ]
     },
     "metadata": {},
     "output_type": "display_data"
    }
   ],
   "source": [
    "px.bar(df, x=df.index, y='rsme')"
   ]
  },
  {
   "cell_type": "code",
   "execution_count": 306,
   "metadata": {},
   "outputs": [
    {
     "data": {
      "application/vnd.plotly.v1+json": {
       "config": {
        "plotlyServerURL": "https://plot.ly"
       },
       "data": [
        {
         "alignmentgroup": "True",
         "hovertemplate": "index=%{x}<br>r_squared=%{y}<extra></extra>",
         "legendgroup": "",
         "marker": {
          "color": "#636efa",
          "pattern": {
           "shape": ""
          }
         },
         "name": "",
         "offsetgroup": "",
         "orientation": "v",
         "showlegend": false,
         "textposition": "auto",
         "type": "bar",
         "x": [
          "CatBoostRegressor",
          "XGBRegressor",
          "SVR",
          "GradientBoostingRegressor",
          "RandomForestRegressor"
         ],
         "xaxis": "x",
         "y": [
          0.8550742534631377,
          0.8377565103404779,
          0.503323516004303,
          0.8343552855952258,
          0.8814390222618897
         ],
         "yaxis": "y"
        }
       ],
       "layout": {
        "barmode": "relative",
        "legend": {
         "tracegroupgap": 0
        },
        "margin": {
         "t": 60
        },
        "template": {
         "data": {
          "bar": [
           {
            "error_x": {
             "color": "#2a3f5f"
            },
            "error_y": {
             "color": "#2a3f5f"
            },
            "marker": {
             "line": {
              "color": "#E5ECF6",
              "width": 0.5
             },
             "pattern": {
              "fillmode": "overlay",
              "size": 10,
              "solidity": 0.2
             }
            },
            "type": "bar"
           }
          ],
          "barpolar": [
           {
            "marker": {
             "line": {
              "color": "#E5ECF6",
              "width": 0.5
             },
             "pattern": {
              "fillmode": "overlay",
              "size": 10,
              "solidity": 0.2
             }
            },
            "type": "barpolar"
           }
          ],
          "carpet": [
           {
            "aaxis": {
             "endlinecolor": "#2a3f5f",
             "gridcolor": "white",
             "linecolor": "white",
             "minorgridcolor": "white",
             "startlinecolor": "#2a3f5f"
            },
            "baxis": {
             "endlinecolor": "#2a3f5f",
             "gridcolor": "white",
             "linecolor": "white",
             "minorgridcolor": "white",
             "startlinecolor": "#2a3f5f"
            },
            "type": "carpet"
           }
          ],
          "choropleth": [
           {
            "colorbar": {
             "outlinewidth": 0,
             "ticks": ""
            },
            "type": "choropleth"
           }
          ],
          "contour": [
           {
            "colorbar": {
             "outlinewidth": 0,
             "ticks": ""
            },
            "colorscale": [
             [
              0,
              "#0d0887"
             ],
             [
              0.1111111111111111,
              "#46039f"
             ],
             [
              0.2222222222222222,
              "#7201a8"
             ],
             [
              0.3333333333333333,
              "#9c179e"
             ],
             [
              0.4444444444444444,
              "#bd3786"
             ],
             [
              0.5555555555555556,
              "#d8576b"
             ],
             [
              0.6666666666666666,
              "#ed7953"
             ],
             [
              0.7777777777777778,
              "#fb9f3a"
             ],
             [
              0.8888888888888888,
              "#fdca26"
             ],
             [
              1,
              "#f0f921"
             ]
            ],
            "type": "contour"
           }
          ],
          "contourcarpet": [
           {
            "colorbar": {
             "outlinewidth": 0,
             "ticks": ""
            },
            "type": "contourcarpet"
           }
          ],
          "heatmap": [
           {
            "colorbar": {
             "outlinewidth": 0,
             "ticks": ""
            },
            "colorscale": [
             [
              0,
              "#0d0887"
             ],
             [
              0.1111111111111111,
              "#46039f"
             ],
             [
              0.2222222222222222,
              "#7201a8"
             ],
             [
              0.3333333333333333,
              "#9c179e"
             ],
             [
              0.4444444444444444,
              "#bd3786"
             ],
             [
              0.5555555555555556,
              "#d8576b"
             ],
             [
              0.6666666666666666,
              "#ed7953"
             ],
             [
              0.7777777777777778,
              "#fb9f3a"
             ],
             [
              0.8888888888888888,
              "#fdca26"
             ],
             [
              1,
              "#f0f921"
             ]
            ],
            "type": "heatmap"
           }
          ],
          "heatmapgl": [
           {
            "colorbar": {
             "outlinewidth": 0,
             "ticks": ""
            },
            "colorscale": [
             [
              0,
              "#0d0887"
             ],
             [
              0.1111111111111111,
              "#46039f"
             ],
             [
              0.2222222222222222,
              "#7201a8"
             ],
             [
              0.3333333333333333,
              "#9c179e"
             ],
             [
              0.4444444444444444,
              "#bd3786"
             ],
             [
              0.5555555555555556,
              "#d8576b"
             ],
             [
              0.6666666666666666,
              "#ed7953"
             ],
             [
              0.7777777777777778,
              "#fb9f3a"
             ],
             [
              0.8888888888888888,
              "#fdca26"
             ],
             [
              1,
              "#f0f921"
             ]
            ],
            "type": "heatmapgl"
           }
          ],
          "histogram": [
           {
            "marker": {
             "pattern": {
              "fillmode": "overlay",
              "size": 10,
              "solidity": 0.2
             }
            },
            "type": "histogram"
           }
          ],
          "histogram2d": [
           {
            "colorbar": {
             "outlinewidth": 0,
             "ticks": ""
            },
            "colorscale": [
             [
              0,
              "#0d0887"
             ],
             [
              0.1111111111111111,
              "#46039f"
             ],
             [
              0.2222222222222222,
              "#7201a8"
             ],
             [
              0.3333333333333333,
              "#9c179e"
             ],
             [
              0.4444444444444444,
              "#bd3786"
             ],
             [
              0.5555555555555556,
              "#d8576b"
             ],
             [
              0.6666666666666666,
              "#ed7953"
             ],
             [
              0.7777777777777778,
              "#fb9f3a"
             ],
             [
              0.8888888888888888,
              "#fdca26"
             ],
             [
              1,
              "#f0f921"
             ]
            ],
            "type": "histogram2d"
           }
          ],
          "histogram2dcontour": [
           {
            "colorbar": {
             "outlinewidth": 0,
             "ticks": ""
            },
            "colorscale": [
             [
              0,
              "#0d0887"
             ],
             [
              0.1111111111111111,
              "#46039f"
             ],
             [
              0.2222222222222222,
              "#7201a8"
             ],
             [
              0.3333333333333333,
              "#9c179e"
             ],
             [
              0.4444444444444444,
              "#bd3786"
             ],
             [
              0.5555555555555556,
              "#d8576b"
             ],
             [
              0.6666666666666666,
              "#ed7953"
             ],
             [
              0.7777777777777778,
              "#fb9f3a"
             ],
             [
              0.8888888888888888,
              "#fdca26"
             ],
             [
              1,
              "#f0f921"
             ]
            ],
            "type": "histogram2dcontour"
           }
          ],
          "mesh3d": [
           {
            "colorbar": {
             "outlinewidth": 0,
             "ticks": ""
            },
            "type": "mesh3d"
           }
          ],
          "parcoords": [
           {
            "line": {
             "colorbar": {
              "outlinewidth": 0,
              "ticks": ""
             }
            },
            "type": "parcoords"
           }
          ],
          "pie": [
           {
            "automargin": true,
            "type": "pie"
           }
          ],
          "scatter": [
           {
            "fillpattern": {
             "fillmode": "overlay",
             "size": 10,
             "solidity": 0.2
            },
            "type": "scatter"
           }
          ],
          "scatter3d": [
           {
            "line": {
             "colorbar": {
              "outlinewidth": 0,
              "ticks": ""
             }
            },
            "marker": {
             "colorbar": {
              "outlinewidth": 0,
              "ticks": ""
             }
            },
            "type": "scatter3d"
           }
          ],
          "scattercarpet": [
           {
            "marker": {
             "colorbar": {
              "outlinewidth": 0,
              "ticks": ""
             }
            },
            "type": "scattercarpet"
           }
          ],
          "scattergeo": [
           {
            "marker": {
             "colorbar": {
              "outlinewidth": 0,
              "ticks": ""
             }
            },
            "type": "scattergeo"
           }
          ],
          "scattergl": [
           {
            "marker": {
             "colorbar": {
              "outlinewidth": 0,
              "ticks": ""
             }
            },
            "type": "scattergl"
           }
          ],
          "scattermapbox": [
           {
            "marker": {
             "colorbar": {
              "outlinewidth": 0,
              "ticks": ""
             }
            },
            "type": "scattermapbox"
           }
          ],
          "scatterpolar": [
           {
            "marker": {
             "colorbar": {
              "outlinewidth": 0,
              "ticks": ""
             }
            },
            "type": "scatterpolar"
           }
          ],
          "scatterpolargl": [
           {
            "marker": {
             "colorbar": {
              "outlinewidth": 0,
              "ticks": ""
             }
            },
            "type": "scatterpolargl"
           }
          ],
          "scatterternary": [
           {
            "marker": {
             "colorbar": {
              "outlinewidth": 0,
              "ticks": ""
             }
            },
            "type": "scatterternary"
           }
          ],
          "surface": [
           {
            "colorbar": {
             "outlinewidth": 0,
             "ticks": ""
            },
            "colorscale": [
             [
              0,
              "#0d0887"
             ],
             [
              0.1111111111111111,
              "#46039f"
             ],
             [
              0.2222222222222222,
              "#7201a8"
             ],
             [
              0.3333333333333333,
              "#9c179e"
             ],
             [
              0.4444444444444444,
              "#bd3786"
             ],
             [
              0.5555555555555556,
              "#d8576b"
             ],
             [
              0.6666666666666666,
              "#ed7953"
             ],
             [
              0.7777777777777778,
              "#fb9f3a"
             ],
             [
              0.8888888888888888,
              "#fdca26"
             ],
             [
              1,
              "#f0f921"
             ]
            ],
            "type": "surface"
           }
          ],
          "table": [
           {
            "cells": {
             "fill": {
              "color": "#EBF0F8"
             },
             "line": {
              "color": "white"
             }
            },
            "header": {
             "fill": {
              "color": "#C8D4E3"
             },
             "line": {
              "color": "white"
             }
            },
            "type": "table"
           }
          ]
         },
         "layout": {
          "annotationdefaults": {
           "arrowcolor": "#2a3f5f",
           "arrowhead": 0,
           "arrowwidth": 1
          },
          "autotypenumbers": "strict",
          "coloraxis": {
           "colorbar": {
            "outlinewidth": 0,
            "ticks": ""
           }
          },
          "colorscale": {
           "diverging": [
            [
             0,
             "#8e0152"
            ],
            [
             0.1,
             "#c51b7d"
            ],
            [
             0.2,
             "#de77ae"
            ],
            [
             0.3,
             "#f1b6da"
            ],
            [
             0.4,
             "#fde0ef"
            ],
            [
             0.5,
             "#f7f7f7"
            ],
            [
             0.6,
             "#e6f5d0"
            ],
            [
             0.7,
             "#b8e186"
            ],
            [
             0.8,
             "#7fbc41"
            ],
            [
             0.9,
             "#4d9221"
            ],
            [
             1,
             "#276419"
            ]
           ],
           "sequential": [
            [
             0,
             "#0d0887"
            ],
            [
             0.1111111111111111,
             "#46039f"
            ],
            [
             0.2222222222222222,
             "#7201a8"
            ],
            [
             0.3333333333333333,
             "#9c179e"
            ],
            [
             0.4444444444444444,
             "#bd3786"
            ],
            [
             0.5555555555555556,
             "#d8576b"
            ],
            [
             0.6666666666666666,
             "#ed7953"
            ],
            [
             0.7777777777777778,
             "#fb9f3a"
            ],
            [
             0.8888888888888888,
             "#fdca26"
            ],
            [
             1,
             "#f0f921"
            ]
           ],
           "sequentialminus": [
            [
             0,
             "#0d0887"
            ],
            [
             0.1111111111111111,
             "#46039f"
            ],
            [
             0.2222222222222222,
             "#7201a8"
            ],
            [
             0.3333333333333333,
             "#9c179e"
            ],
            [
             0.4444444444444444,
             "#bd3786"
            ],
            [
             0.5555555555555556,
             "#d8576b"
            ],
            [
             0.6666666666666666,
             "#ed7953"
            ],
            [
             0.7777777777777778,
             "#fb9f3a"
            ],
            [
             0.8888888888888888,
             "#fdca26"
            ],
            [
             1,
             "#f0f921"
            ]
           ]
          },
          "colorway": [
           "#636efa",
           "#EF553B",
           "#00cc96",
           "#ab63fa",
           "#FFA15A",
           "#19d3f3",
           "#FF6692",
           "#B6E880",
           "#FF97FF",
           "#FECB52"
          ],
          "font": {
           "color": "#2a3f5f"
          },
          "geo": {
           "bgcolor": "white",
           "lakecolor": "white",
           "landcolor": "#E5ECF6",
           "showlakes": true,
           "showland": true,
           "subunitcolor": "white"
          },
          "hoverlabel": {
           "align": "left"
          },
          "hovermode": "closest",
          "mapbox": {
           "style": "light"
          },
          "paper_bgcolor": "white",
          "plot_bgcolor": "#E5ECF6",
          "polar": {
           "angularaxis": {
            "gridcolor": "white",
            "linecolor": "white",
            "ticks": ""
           },
           "bgcolor": "#E5ECF6",
           "radialaxis": {
            "gridcolor": "white",
            "linecolor": "white",
            "ticks": ""
           }
          },
          "scene": {
           "xaxis": {
            "backgroundcolor": "#E5ECF6",
            "gridcolor": "white",
            "gridwidth": 2,
            "linecolor": "white",
            "showbackground": true,
            "ticks": "",
            "zerolinecolor": "white"
           },
           "yaxis": {
            "backgroundcolor": "#E5ECF6",
            "gridcolor": "white",
            "gridwidth": 2,
            "linecolor": "white",
            "showbackground": true,
            "ticks": "",
            "zerolinecolor": "white"
           },
           "zaxis": {
            "backgroundcolor": "#E5ECF6",
            "gridcolor": "white",
            "gridwidth": 2,
            "linecolor": "white",
            "showbackground": true,
            "ticks": "",
            "zerolinecolor": "white"
           }
          },
          "shapedefaults": {
           "line": {
            "color": "#2a3f5f"
           }
          },
          "ternary": {
           "aaxis": {
            "gridcolor": "white",
            "linecolor": "white",
            "ticks": ""
           },
           "baxis": {
            "gridcolor": "white",
            "linecolor": "white",
            "ticks": ""
           },
           "bgcolor": "#E5ECF6",
           "caxis": {
            "gridcolor": "white",
            "linecolor": "white",
            "ticks": ""
           }
          },
          "title": {
           "x": 0.05
          },
          "xaxis": {
           "automargin": true,
           "gridcolor": "white",
           "linecolor": "white",
           "ticks": "",
           "title": {
            "standoff": 15
           },
           "zerolinecolor": "white",
           "zerolinewidth": 2
          },
          "yaxis": {
           "automargin": true,
           "gridcolor": "white",
           "linecolor": "white",
           "ticks": "",
           "title": {
            "standoff": 15
           },
           "zerolinecolor": "white",
           "zerolinewidth": 2
          }
         }
        },
        "xaxis": {
         "anchor": "y",
         "domain": [
          0,
          1
         ],
         "title": {
          "text": "index"
         }
        },
        "yaxis": {
         "anchor": "x",
         "domain": [
          0,
          1
         ],
         "title": {
          "text": "r_squared"
         }
        }
       }
      },
      "text/html": [
       "<div>                            <div id=\"ea6b6c09-eefb-4268-a3b9-f23d3ddfa618\" class=\"plotly-graph-div\" style=\"height:525px; width:100%;\"></div>            <script type=\"text/javascript\">                require([\"plotly\"], function(Plotly) {                    window.PLOTLYENV=window.PLOTLYENV || {};                                    if (document.getElementById(\"ea6b6c09-eefb-4268-a3b9-f23d3ddfa618\")) {                    Plotly.newPlot(                        \"ea6b6c09-eefb-4268-a3b9-f23d3ddfa618\",                        [{\"alignmentgroup\":\"True\",\"hovertemplate\":\"index=%{x}\\u003cbr\\u003er_squared=%{y}\\u003cextra\\u003e\\u003c\\u002fextra\\u003e\",\"legendgroup\":\"\",\"marker\":{\"color\":\"#636efa\",\"pattern\":{\"shape\":\"\"}},\"name\":\"\",\"offsetgroup\":\"\",\"orientation\":\"v\",\"showlegend\":false,\"textposition\":\"auto\",\"x\":[\"CatBoostRegressor\",\"XGBRegressor\",\"SVR\",\"GradientBoostingRegressor\",\"RandomForestRegressor\"],\"xaxis\":\"x\",\"y\":[0.8550742534631377,0.8377565103404779,0.503323516004303,0.8343552855952258,0.8814390222618897],\"yaxis\":\"y\",\"type\":\"bar\"}],                        {\"template\":{\"data\":{\"histogram2dcontour\":[{\"type\":\"histogram2dcontour\",\"colorbar\":{\"outlinewidth\":0,\"ticks\":\"\"},\"colorscale\":[[0.0,\"#0d0887\"],[0.1111111111111111,\"#46039f\"],[0.2222222222222222,\"#7201a8\"],[0.3333333333333333,\"#9c179e\"],[0.4444444444444444,\"#bd3786\"],[0.5555555555555556,\"#d8576b\"],[0.6666666666666666,\"#ed7953\"],[0.7777777777777778,\"#fb9f3a\"],[0.8888888888888888,\"#fdca26\"],[1.0,\"#f0f921\"]]}],\"choropleth\":[{\"type\":\"choropleth\",\"colorbar\":{\"outlinewidth\":0,\"ticks\":\"\"}}],\"histogram2d\":[{\"type\":\"histogram2d\",\"colorbar\":{\"outlinewidth\":0,\"ticks\":\"\"},\"colorscale\":[[0.0,\"#0d0887\"],[0.1111111111111111,\"#46039f\"],[0.2222222222222222,\"#7201a8\"],[0.3333333333333333,\"#9c179e\"],[0.4444444444444444,\"#bd3786\"],[0.5555555555555556,\"#d8576b\"],[0.6666666666666666,\"#ed7953\"],[0.7777777777777778,\"#fb9f3a\"],[0.8888888888888888,\"#fdca26\"],[1.0,\"#f0f921\"]]}],\"heatmap\":[{\"type\":\"heatmap\",\"colorbar\":{\"outlinewidth\":0,\"ticks\":\"\"},\"colorscale\":[[0.0,\"#0d0887\"],[0.1111111111111111,\"#46039f\"],[0.2222222222222222,\"#7201a8\"],[0.3333333333333333,\"#9c179e\"],[0.4444444444444444,\"#bd3786\"],[0.5555555555555556,\"#d8576b\"],[0.6666666666666666,\"#ed7953\"],[0.7777777777777778,\"#fb9f3a\"],[0.8888888888888888,\"#fdca26\"],[1.0,\"#f0f921\"]]}],\"heatmapgl\":[{\"type\":\"heatmapgl\",\"colorbar\":{\"outlinewidth\":0,\"ticks\":\"\"},\"colorscale\":[[0.0,\"#0d0887\"],[0.1111111111111111,\"#46039f\"],[0.2222222222222222,\"#7201a8\"],[0.3333333333333333,\"#9c179e\"],[0.4444444444444444,\"#bd3786\"],[0.5555555555555556,\"#d8576b\"],[0.6666666666666666,\"#ed7953\"],[0.7777777777777778,\"#fb9f3a\"],[0.8888888888888888,\"#fdca26\"],[1.0,\"#f0f921\"]]}],\"contourcarpet\":[{\"type\":\"contourcarpet\",\"colorbar\":{\"outlinewidth\":0,\"ticks\":\"\"}}],\"contour\":[{\"type\":\"contour\",\"colorbar\":{\"outlinewidth\":0,\"ticks\":\"\"},\"colorscale\":[[0.0,\"#0d0887\"],[0.1111111111111111,\"#46039f\"],[0.2222222222222222,\"#7201a8\"],[0.3333333333333333,\"#9c179e\"],[0.4444444444444444,\"#bd3786\"],[0.5555555555555556,\"#d8576b\"],[0.6666666666666666,\"#ed7953\"],[0.7777777777777778,\"#fb9f3a\"],[0.8888888888888888,\"#fdca26\"],[1.0,\"#f0f921\"]]}],\"surface\":[{\"type\":\"surface\",\"colorbar\":{\"outlinewidth\":0,\"ticks\":\"\"},\"colorscale\":[[0.0,\"#0d0887\"],[0.1111111111111111,\"#46039f\"],[0.2222222222222222,\"#7201a8\"],[0.3333333333333333,\"#9c179e\"],[0.4444444444444444,\"#bd3786\"],[0.5555555555555556,\"#d8576b\"],[0.6666666666666666,\"#ed7953\"],[0.7777777777777778,\"#fb9f3a\"],[0.8888888888888888,\"#fdca26\"],[1.0,\"#f0f921\"]]}],\"mesh3d\":[{\"type\":\"mesh3d\",\"colorbar\":{\"outlinewidth\":0,\"ticks\":\"\"}}],\"scatter\":[{\"fillpattern\":{\"fillmode\":\"overlay\",\"size\":10,\"solidity\":0.2},\"type\":\"scatter\"}],\"parcoords\":[{\"type\":\"parcoords\",\"line\":{\"colorbar\":{\"outlinewidth\":0,\"ticks\":\"\"}}}],\"scatterpolargl\":[{\"type\":\"scatterpolargl\",\"marker\":{\"colorbar\":{\"outlinewidth\":0,\"ticks\":\"\"}}}],\"bar\":[{\"error_x\":{\"color\":\"#2a3f5f\"},\"error_y\":{\"color\":\"#2a3f5f\"},\"marker\":{\"line\":{\"color\":\"#E5ECF6\",\"width\":0.5},\"pattern\":{\"fillmode\":\"overlay\",\"size\":10,\"solidity\":0.2}},\"type\":\"bar\"}],\"scattergeo\":[{\"type\":\"scattergeo\",\"marker\":{\"colorbar\":{\"outlinewidth\":0,\"ticks\":\"\"}}}],\"scatterpolar\":[{\"type\":\"scatterpolar\",\"marker\":{\"colorbar\":{\"outlinewidth\":0,\"ticks\":\"\"}}}],\"histogram\":[{\"marker\":{\"pattern\":{\"fillmode\":\"overlay\",\"size\":10,\"solidity\":0.2}},\"type\":\"histogram\"}],\"scattergl\":[{\"type\":\"scattergl\",\"marker\":{\"colorbar\":{\"outlinewidth\":0,\"ticks\":\"\"}}}],\"scatter3d\":[{\"type\":\"scatter3d\",\"line\":{\"colorbar\":{\"outlinewidth\":0,\"ticks\":\"\"}},\"marker\":{\"colorbar\":{\"outlinewidth\":0,\"ticks\":\"\"}}}],\"scattermapbox\":[{\"type\":\"scattermapbox\",\"marker\":{\"colorbar\":{\"outlinewidth\":0,\"ticks\":\"\"}}}],\"scatterternary\":[{\"type\":\"scatterternary\",\"marker\":{\"colorbar\":{\"outlinewidth\":0,\"ticks\":\"\"}}}],\"scattercarpet\":[{\"type\":\"scattercarpet\",\"marker\":{\"colorbar\":{\"outlinewidth\":0,\"ticks\":\"\"}}}],\"carpet\":[{\"aaxis\":{\"endlinecolor\":\"#2a3f5f\",\"gridcolor\":\"white\",\"linecolor\":\"white\",\"minorgridcolor\":\"white\",\"startlinecolor\":\"#2a3f5f\"},\"baxis\":{\"endlinecolor\":\"#2a3f5f\",\"gridcolor\":\"white\",\"linecolor\":\"white\",\"minorgridcolor\":\"white\",\"startlinecolor\":\"#2a3f5f\"},\"type\":\"carpet\"}],\"table\":[{\"cells\":{\"fill\":{\"color\":\"#EBF0F8\"},\"line\":{\"color\":\"white\"}},\"header\":{\"fill\":{\"color\":\"#C8D4E3\"},\"line\":{\"color\":\"white\"}},\"type\":\"table\"}],\"barpolar\":[{\"marker\":{\"line\":{\"color\":\"#E5ECF6\",\"width\":0.5},\"pattern\":{\"fillmode\":\"overlay\",\"size\":10,\"solidity\":0.2}},\"type\":\"barpolar\"}],\"pie\":[{\"automargin\":true,\"type\":\"pie\"}]},\"layout\":{\"autotypenumbers\":\"strict\",\"colorway\":[\"#636efa\",\"#EF553B\",\"#00cc96\",\"#ab63fa\",\"#FFA15A\",\"#19d3f3\",\"#FF6692\",\"#B6E880\",\"#FF97FF\",\"#FECB52\"],\"font\":{\"color\":\"#2a3f5f\"},\"hovermode\":\"closest\",\"hoverlabel\":{\"align\":\"left\"},\"paper_bgcolor\":\"white\",\"plot_bgcolor\":\"#E5ECF6\",\"polar\":{\"bgcolor\":\"#E5ECF6\",\"angularaxis\":{\"gridcolor\":\"white\",\"linecolor\":\"white\",\"ticks\":\"\"},\"radialaxis\":{\"gridcolor\":\"white\",\"linecolor\":\"white\",\"ticks\":\"\"}},\"ternary\":{\"bgcolor\":\"#E5ECF6\",\"aaxis\":{\"gridcolor\":\"white\",\"linecolor\":\"white\",\"ticks\":\"\"},\"baxis\":{\"gridcolor\":\"white\",\"linecolor\":\"white\",\"ticks\":\"\"},\"caxis\":{\"gridcolor\":\"white\",\"linecolor\":\"white\",\"ticks\":\"\"}},\"coloraxis\":{\"colorbar\":{\"outlinewidth\":0,\"ticks\":\"\"}},\"colorscale\":{\"sequential\":[[0.0,\"#0d0887\"],[0.1111111111111111,\"#46039f\"],[0.2222222222222222,\"#7201a8\"],[0.3333333333333333,\"#9c179e\"],[0.4444444444444444,\"#bd3786\"],[0.5555555555555556,\"#d8576b\"],[0.6666666666666666,\"#ed7953\"],[0.7777777777777778,\"#fb9f3a\"],[0.8888888888888888,\"#fdca26\"],[1.0,\"#f0f921\"]],\"sequentialminus\":[[0.0,\"#0d0887\"],[0.1111111111111111,\"#46039f\"],[0.2222222222222222,\"#7201a8\"],[0.3333333333333333,\"#9c179e\"],[0.4444444444444444,\"#bd3786\"],[0.5555555555555556,\"#d8576b\"],[0.6666666666666666,\"#ed7953\"],[0.7777777777777778,\"#fb9f3a\"],[0.8888888888888888,\"#fdca26\"],[1.0,\"#f0f921\"]],\"diverging\":[[0,\"#8e0152\"],[0.1,\"#c51b7d\"],[0.2,\"#de77ae\"],[0.3,\"#f1b6da\"],[0.4,\"#fde0ef\"],[0.5,\"#f7f7f7\"],[0.6,\"#e6f5d0\"],[0.7,\"#b8e186\"],[0.8,\"#7fbc41\"],[0.9,\"#4d9221\"],[1,\"#276419\"]]},\"xaxis\":{\"gridcolor\":\"white\",\"linecolor\":\"white\",\"ticks\":\"\",\"title\":{\"standoff\":15},\"zerolinecolor\":\"white\",\"automargin\":true,\"zerolinewidth\":2},\"yaxis\":{\"gridcolor\":\"white\",\"linecolor\":\"white\",\"ticks\":\"\",\"title\":{\"standoff\":15},\"zerolinecolor\":\"white\",\"automargin\":true,\"zerolinewidth\":2},\"scene\":{\"xaxis\":{\"backgroundcolor\":\"#E5ECF6\",\"gridcolor\":\"white\",\"linecolor\":\"white\",\"showbackground\":true,\"ticks\":\"\",\"zerolinecolor\":\"white\",\"gridwidth\":2},\"yaxis\":{\"backgroundcolor\":\"#E5ECF6\",\"gridcolor\":\"white\",\"linecolor\":\"white\",\"showbackground\":true,\"ticks\":\"\",\"zerolinecolor\":\"white\",\"gridwidth\":2},\"zaxis\":{\"backgroundcolor\":\"#E5ECF6\",\"gridcolor\":\"white\",\"linecolor\":\"white\",\"showbackground\":true,\"ticks\":\"\",\"zerolinecolor\":\"white\",\"gridwidth\":2}},\"shapedefaults\":{\"line\":{\"color\":\"#2a3f5f\"}},\"annotationdefaults\":{\"arrowcolor\":\"#2a3f5f\",\"arrowhead\":0,\"arrowwidth\":1},\"geo\":{\"bgcolor\":\"white\",\"landcolor\":\"#E5ECF6\",\"subunitcolor\":\"white\",\"showland\":true,\"showlakes\":true,\"lakecolor\":\"white\"},\"title\":{\"x\":0.05},\"mapbox\":{\"style\":\"light\"}}},\"xaxis\":{\"anchor\":\"y\",\"domain\":[0.0,1.0],\"title\":{\"text\":\"index\"}},\"yaxis\":{\"anchor\":\"x\",\"domain\":[0.0,1.0],\"title\":{\"text\":\"r_squared\"}},\"legend\":{\"tracegroupgap\":0},\"margin\":{\"t\":60},\"barmode\":\"relative\"},                        {\"responsive\": true}                    ).then(function(){\n",
       "                            \n",
       "var gd = document.getElementById('ea6b6c09-eefb-4268-a3b9-f23d3ddfa618');\n",
       "var x = new MutationObserver(function (mutations, observer) {{\n",
       "        var display = window.getComputedStyle(gd).display;\n",
       "        if (!display || display === 'none') {{\n",
       "            console.log([gd, 'removed!']);\n",
       "            Plotly.purge(gd);\n",
       "            observer.disconnect();\n",
       "        }}\n",
       "}});\n",
       "\n",
       "// Listen for the removal of the full notebook cells\n",
       "var notebookContainer = gd.closest('#notebook-container');\n",
       "if (notebookContainer) {{\n",
       "    x.observe(notebookContainer, {childList: true});\n",
       "}}\n",
       "\n",
       "// Listen for the clearing of the current output cell\n",
       "var outputEl = gd.closest('.output');\n",
       "if (outputEl) {{\n",
       "    x.observe(outputEl, {childList: true});\n",
       "}}\n",
       "\n",
       "                        })                };                });            </script>        </div>"
      ]
     },
     "metadata": {},
     "output_type": "display_data"
    }
   ],
   "source": [
    "px.bar(df, x=df.index, y='r_squared')"
   ]
  },
  {
   "cell_type": "code",
   "execution_count": null,
   "metadata": {},
   "outputs": [],
   "source": []
  }
 ],
 "metadata": {
  "kernelspec": {
   "display_name": "Python 3",
   "language": "python",
   "name": "python3"
  },
  "language_info": {
   "codemirror_mode": {
    "name": "ipython",
    "version": 3
   },
   "file_extension": ".py",
   "mimetype": "text/x-python",
   "name": "python",
   "nbconvert_exporter": "python",
   "pygments_lexer": "ipython3",
   "version": "3.10.12"
  }
 },
 "nbformat": 4,
 "nbformat_minor": 2
}
