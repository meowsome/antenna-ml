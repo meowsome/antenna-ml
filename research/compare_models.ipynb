{
 "cells": [
  {
   "cell_type": "code",
   "execution_count": null,
   "metadata": {},
   "outputs": [],
   "source": [
    "# https://towardsdatascience.com/quickly-test-multiple-models-a98477476f0"
   ]
  },
  {
   "cell_type": "code",
   "execution_count": null,
   "metadata": {},
   "outputs": [],
   "source": [
    "import pandas as pd\n",
    "from sklearn.model_selection import train_test_split\n",
    "from sklearn.tree import DecisionTreeRegressor\n",
    "from sklearn.ensemble import RandomForestRegressor\n",
    "from sklearn.preprocessing import MinMaxScaler\n",
    "from sklearn.tree import DecisionTreeRegressor\n",
    "from sklearn.linear_model import ElasticNet, SGDRegressor, BayesianRidge, LinearRegression\n",
    "from sklearn.svm import SVR\n",
    "from catboost import CatBoostRegressor\n",
    "from sklearn.kernel_ridge import KernelRidge\n",
    "from xgboost import XGBRegressor\n",
    "from sklearn.pipeline import Pipeline\n",
    "from sklearn.metrics import mean_squared_error, r2_score\n",
    "import plotly.express as px\n",
    "from sklearn.model_selection import GridSearchCV\n",
    "import numpy as np"
   ]
  },
  {
   "cell_type": "code",
   "execution_count": null,
   "metadata": {},
   "outputs": [],
   "source": [
    "threshold = 1\n",
    "random_state = 42"
   ]
  },
  {
   "cell_type": "code",
   "execution_count": null,
   "metadata": {},
   "outputs": [],
   "source": [
    "# Import data and preprocess\n",
    "df = pd.read_csv(\"../test_data/Grounded CPW Leaky Wave antenna/S11 Data.csv\")\n",
    "df = df.drop(df[df['dB(S(1,1)) []'] > 0].index) # Remove all rows with positive s11\n",
    "\n",
    "# Split into x and y\n",
    "input_x = df.drop(columns=['dB(S(1,1)) []'], axis=1)\n",
    "input_y = df[['dB(S(1,1)) []']]\n",
    "\n",
    "# Split data into training and testing\n",
    "X_train, X_test, y_train, y_test = train_test_split(input_x, input_y, random_state=random_state)"
   ]
  },
  {
   "cell_type": "code",
   "execution_count": null,
   "metadata": {},
   "outputs": [],
   "source": [
    "def generate_pipeline(scaler, model):\n",
    "    return (model.__class__.__name__, Pipeline(steps=[('normalize', scaler), ('model', model)]))"
   ]
  },
  {
   "cell_type": "code",
   "execution_count": null,
   "metadata": {},
   "outputs": [],
   "source": [
    "# Check if predicted value is threshold amount above or below actual value\n",
    "def is_in_threshold(actual, pred):\n",
    "    return pred <= actual + threshold and pred >= actual - threshold\n",
    "\n",
    "def create_tf_column(results):\n",
    "    return results.apply(lambda x: is_in_threshold(x['y_test'], x['predictions']), axis=1)\n",
    "\n",
    "def get_score(y_test, y_pred):\n",
    "    dataframe = pd.DataFrame(y_test.values, columns=['y_test'])\n",
    "    dataframe['predictions'] = y_pred\n",
    "    return create_tf_column(dataframe).value_counts().get(True) / dataframe.shape[0]\n",
    "\n",
    "def get_rsme(y_test, y_pred):\n",
    "    return mean_squared_error(y_test, y_pred, squared=False)\n",
    "\n",
    "def get_r_squared(y_test, y_pred):\n",
    "    return r2_score(y_test, y_pred)"
   ]
  },
  {
   "cell_type": "code",
   "execution_count": null,
   "metadata": {},
   "outputs": [],
   "source": [
    "# Test random forest getting best paramters\n",
    "\n",
    "random_forest_model = RandomForestRegressor(random_state=random_state)\n",
    "random_grid = {'n_estimators': [int(x) for x in np.linspace(start=200, stop=1000, num=5)],\n",
    "               'max_depth': [int(x) for x in np.linspace(10, 110, num=5)],\n",
    "               'min_samples_split': [2, 5, 10],\n",
    "               'min_samples_leaf': [1, 2, 4]}\n",
    "random_forest_search = GridSearchCV(random_forest_model, random_grid, scoring='r2', cv=10, verbose=10)\n",
    "random_forest_search.fit(input_x, input_y.values.ravel())\n",
    "print(random_forest_search.best_params_)"
   ]
  },
  {
   "cell_type": "code",
   "execution_count": null,
   "metadata": {},
   "outputs": [],
   "source": [
    "# Doesnt make sense for LinearRegression\n",
    "elastic_net_model = ElasticNet(random_state=random_state)\n",
    "random_grid = {\"max_iter\": [1, 5, 10],\n",
    "                \"alpha\": [0.0001, 0.001, 0.01, 0.1, 1, 10, 100],\n",
    "                \"l1_ratio\": np.arange(0.0, 1.0, 0.1)}\n",
    "elastic_net_search = GridSearchCV(elastic_net_model, random_grid, scoring='r2', cv=10, verbose=10)\n",
    "elastic_net_search.fit(input_x, input_y.values.ravel())\n",
    "print(elastic_net_search.best_params_)"
   ]
  },
  {
   "cell_type": "code",
   "execution_count": null,
   "metadata": {},
   "outputs": [],
   "source": [
    "sgd_regressor_model = SGDRegressor(random_state=random_state)\n",
    "random_grid = {\n",
    "        'max_iter':[100000, 1000000],\n",
    "        'tol':[1e-10, 1e-3],\n",
    "        'eta0':[0.001, 0.01],\n",
    "        \"alpha\": [0.0001, 0.001, 0.01, 0.1, 1, 10, 100]\n",
    "    }\n",
    "sgd_regressor_search = GridSearchCV(sgd_regressor_model, random_grid, scoring='r2', cv=10, verbose=10)\n",
    "sgd_regressor_search.fit(input_x, input_y.values.ravel())\n",
    "print(sgd_regressor_search.best_params_)"
   ]
  },
  {
   "cell_type": "code",
   "execution_count": null,
   "metadata": {},
   "outputs": [],
   "source": [
    "svr_model = SVR()\n",
    "random_grid = {\n",
    "    'kernel': ['linear', 'poly', 'rbf', 'sigmoid'],\n",
    "    'C': [1,5,10],\n",
    "    'degree': [3,8],\n",
    "    'coef0': [0.01,10,0.5],\n",
    "    'gamma': ['auto','scale']\n",
    "}\n",
    "svr_search = GridSearchCV(svr_model, random_grid, cv=10, verbose=10, scoring='r2')\n",
    "svr_search.fit(input_x, input_y.values.ravel())\n",
    "print(svr_search.best_params_)"
   ]
  },
  {
   "cell_type": "code",
   "execution_count": null,
   "metadata": {},
   "outputs": [],
   "source": [
    "scaler = MinMaxScaler(feature_range=(0,1))\n",
    "models = [generate_pipeline(scaler, model) for model in [ElasticNet(alpha=0.1, l1_ratio=0.8, max_iter=1), sgd_regressor_search.best_estimator_, BayesianRidge(), LinearRegression(), CatBoostRegressor(), KernelRidge(), XGBRegressor(), DecisionTreeRegressor(), SVR(), RandomForestRegressor()]]"
   ]
  },
  {
   "cell_type": "code",
   "execution_count": null,
   "metadata": {},
   "outputs": [],
   "source": [
    "# Test the random forest model \n",
    "model = models[1]\n",
    "clf = model[1].fit(X_train, y_train)\n",
    "y_pred = clf.predict(X_test)\n",
    "get_score(y_test, y_pred)"
   ]
  },
  {
   "cell_type": "code",
   "execution_count": null,
   "metadata": {},
   "outputs": [],
   "source": [
    "y_test.values.reshape(-1)"
   ]
  },
  {
   "cell_type": "code",
   "execution_count": null,
   "metadata": {},
   "outputs": [],
   "source": [
    "pd.DataFrame({'y_actual': y_test.values.reshape(-1), 'y_pred': y_pred})"
   ]
  },
  {
   "cell_type": "code",
   "execution_count": null,
   "metadata": {},
   "outputs": [],
   "source": [
    "results = {}\n",
    "\n",
    "for name, model in models:\n",
    "  clf = model.fit(X_train, y_train)\n",
    "  y_pred = clf.predict(X_test)\n",
    "\n",
    "  results[name] = {\n",
    "    'score': get_score(y_test, y_pred),\n",
    "    'rsme': get_rsme(y_test, y_pred),\n",
    "    'r_squared': get_r_squared(y_test, y_pred),\n",
    "  }"
   ]
  },
  {
   "cell_type": "code",
   "execution_count": null,
   "metadata": {},
   "outputs": [],
   "source": [
    "df = pd.DataFrame(results).T"
   ]
  },
  {
   "cell_type": "code",
   "execution_count": null,
   "metadata": {},
   "outputs": [],
   "source": [
    "px.bar(df, x=df.index, y='score')"
   ]
  },
  {
   "cell_type": "code",
   "execution_count": null,
   "metadata": {},
   "outputs": [],
   "source": [
    "px.bar(df, x=df.index, y='rsme')"
   ]
  },
  {
   "cell_type": "code",
   "execution_count": null,
   "metadata": {},
   "outputs": [],
   "source": [
    "px.bar(df, x=df.index, y='r_squared')"
   ]
  },
  {
   "cell_type": "code",
   "execution_count": null,
   "metadata": {},
   "outputs": [],
   "source": []
  }
 ],
 "metadata": {
  "kernelspec": {
   "display_name": "Python 3",
   "language": "python",
   "name": "python3"
  },
  "language_info": {
   "codemirror_mode": {
    "name": "ipython",
    "version": 3
   },
   "file_extension": ".py",
   "mimetype": "text/x-python",
   "name": "python",
   "nbconvert_exporter": "python",
   "pygments_lexer": "ipython3",
   "version": "3.10.12"
  }
 },
 "nbformat": 4,
 "nbformat_minor": 2
}
