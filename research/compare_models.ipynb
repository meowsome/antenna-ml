{
 "cells": [
  {
   "cell_type": "code",
   "execution_count": null,
   "metadata": {},
   "outputs": [],
   "source": [
    "# https://towardsdatascience.com/quickly-test-multiple-models-a98477476f0"
   ]
  },
  {
   "cell_type": "code",
   "execution_count": 27,
   "metadata": {},
   "outputs": [],
   "source": [
    "import pandas as pd\n",
    "from sklearn.model_selection import train_test_split\n",
    "from sklearn.ensemble import RandomForestRegressor, GradientBoostingRegressor, AdaBoostRegressor\n",
    "from sklearn.preprocessing import MinMaxScaler\n",
    "from sklearn.svm import SVR\n",
    "from catboost import CatBoostRegressor\n",
    "from sklearn.kernel_ridge import KernelRidge\n",
    "from xgboost import XGBRegressor\n",
    "from sklearn.pipeline import Pipeline\n",
    "from sklearn.metrics import mean_squared_error, r2_score, make_scorer\n",
    "import plotly.express as px\n",
    "from sklearn.model_selection import RandomizedSearchCV\n",
    "import numpy as np\n",
    "from sklearn.tree import DecisionTreeRegressor"
   ]
  },
  {
   "cell_type": "code",
   "execution_count": 47,
   "metadata": {},
   "outputs": [],
   "source": [
    "threshold = 1\n",
    "random_state = 42"
   ]
  },
  {
   "cell_type": "code",
   "execution_count": null,
   "metadata": {},
   "outputs": [],
   "source": [
    "# Import data and preprocess\n",
    "df = pd.read_csv(\"../test_data/Grounded CPW Leaky Wave antenna/S11 Data.csv\")\n",
    "df = df.drop(df[df['dB(S(1,1)) []'] > 0].index) # Remove all rows with positive s11\n",
    "\n",
    "# Split into x and y\n",
    "input_x = df.drop(columns=['dB(S(1,1)) []'], axis=1)\n",
    "input_y = df[['dB(S(1,1)) []']]\n",
    "\n",
    "# Split data into training and testing\n",
    "X_train, X_test, y_train, y_test = train_test_split(input_x, input_y, random_state=random_state)"
   ]
  },
  {
   "cell_type": "code",
   "execution_count": null,
   "metadata": {},
   "outputs": [],
   "source": [
    "def generate_pipeline(scaler, model):\n",
    "    return (model.__class__.__name__, Pipeline(steps=[('normalize', scaler), ('model', model)]))"
   ]
  },
  {
   "cell_type": "code",
   "execution_count": null,
   "metadata": {},
   "outputs": [],
   "source": [
    "# Check if predicted value is threshold amount above or below actual value\n",
    "def is_in_threshold(actual, pred):\n",
    "    return pred <= actual + threshold and pred >= actual - threshold\n",
    "\n",
    "def create_tf_column(results):\n",
    "    return results.apply(lambda x: is_in_threshold(x['y_test'], x['predictions']), axis=1)\n",
    "\n",
    "def get_score(y_test, y_pred, **kwargs):\n",
    "    dataframe = pd.DataFrame(y_test, columns=['y_test'])\n",
    "    dataframe['predictions'] = y_pred\n",
    "    return create_tf_column(dataframe).value_counts().get(True) / dataframe.shape[0]\n",
    "\n",
    "def get_rsme(y_test, y_pred):\n",
    "    return mean_squared_error(y_test, y_pred, squared=False)\n",
    "\n",
    "def get_r_squared(y_test, y_pred):\n",
    "    return r2_score(y_test, y_pred)"
   ]
  },
  {
   "cell_type": "code",
   "execution_count": null,
   "metadata": {},
   "outputs": [],
   "source": [
    "custom_scorer = make_scorer(get_score, greater_is_better=True)\n",
    "scaler = MinMaxScaler(feature_range=(0,1)) # Initialize scaler"
   ]
  },
  {
   "cell_type": "code",
   "execution_count": null,
   "metadata": {},
   "outputs": [],
   "source": [
    "rfr_model = RandomForestRegressor(random_state=random_state)\n",
    "rfr_pipeline = Pipeline(steps=[('normalize', scaler), ('model', rfr_model)])\n",
    "\n",
    "random_grid = {'model__n_estimators': [int(x) for x in np.linspace(start=100, stop=1000, num=5)],\n",
    "               'model__max_depth': [int(x) for x in np.linspace(10, 110, num=5)],\n",
    "               'model__min_samples_split': [2, 5, 10],\n",
    "               'model__min_samples_leaf': [1, 2, 4]}\n",
    "\n",
    "random_forest_search = RandomizedSearchCV(rfr_pipeline, random_grid, n_iter=20, scoring=custom_scorer, cv=10, verbose=10, n_jobs=-1)\n",
    "random_forest_search.fit(input_x, input_y.values.ravel())\n",
    "print(random_forest_search.best_params_)"
   ]
  },
  {
   "cell_type": "code",
   "execution_count": null,
   "metadata": {},
   "outputs": [],
   "source": [
    "gbr_model = GradientBoostingRegressor(random_state=random_state)\n",
    "gbr_pipeline = Pipeline(steps=[('normalize', scaler), ('model', gbr_model)])\n",
    "\n",
    "random_grid = {'model__learning_rate': [0.001],\n",
    "               'model__n_estimators': [1000, 3000, 5000, 7000, 10000],\n",
    "               'model__max_depth': [1, 2, 3, 5, 7, 10]}\n",
    "\n",
    "gradient_boosting_search = RandomizedSearchCV(gbr_pipeline, random_grid, n_iter=20, scoring=custom_scorer, cv=10, verbose=10, n_jobs=-1)\n",
    "gradient_boosting_search.fit(input_x, input_y.values.ravel())\n",
    "print(gradient_boosting_search.best_params_)"
   ]
  },
  {
   "cell_type": "code",
   "execution_count": null,
   "metadata": {},
   "outputs": [],
   "source": [
    "svr_model = SVR()\n",
    "svr_pipeline = Pipeline(steps=[('normalize', scaler), ('model', svr_model)])\n",
    "\n",
    "random_grid = {\n",
    "    'model__kernel': ['linear', 'poly', 'rbf', 'sigmoid'],\n",
    "    'model__C': [1,5,10],\n",
    "    'model__degree': [3,8],\n",
    "    'model__coef0': [0.01,10,0.5],\n",
    "    'model__gamma': ['auto','scale']\n",
    "}\n",
    "svr_search = RandomizedSearchCV(svr_pipeline, random_grid, n_iter=20, cv=10, verbose=10, scoring=custom_scorer, n_jobs=-1)\n",
    "svr_search.fit(input_x, input_y.values.ravel())\n",
    "print(svr_search.best_params_)"
   ]
  },
  {
   "cell_type": "code",
   "execution_count": null,
   "metadata": {},
   "outputs": [],
   "source": [
    "xgbr_model = XGBRegressor(random_state=random_state)\n",
    "xgbr_pipeline = Pipeline(steps=[('normalize', scaler), ('model', xgbr_model)])\n",
    "\n",
    "random_grid = {\n",
    "    'model__n_estimators': [100, 500, 900, 1100, 1500],\n",
    "    'model__max_depth': [2, 3, 5, 10, 15],\n",
    "    'model__learning_rate': [0.05, 0.1, 0.15, 0.20],\n",
    "    'model__min_child_weight': [1, 2, 3, 4]\n",
    "    }\n",
    "xgbr_search = RandomizedSearchCV(xgbr_pipeline, random_grid, n_iter=20, cv=10, verbose=10, scoring=custom_scorer, n_jobs=-1)\n",
    "xgbr_search.fit(input_x, input_y.values.ravel())\n",
    "print(xgbr_search.best_params_)"
   ]
  },
  {
   "cell_type": "code",
   "execution_count": null,
   "metadata": {},
   "outputs": [],
   "source": [
    "cbr_model = CatBoostRegressor(random_state=random_state)\n",
    "cbr_pipeline = Pipeline(steps=[('normalize', scaler), ('model', cbr_model)])\n",
    "\n",
    "random_grid = {\n",
    "    'model__depth' : [6,8,10],\n",
    "    'model__learning_rate' : [0.01, 0.05, 0.1],\n",
    "    'model__iterations'    : [30, 50, 100]\n",
    "    }\n",
    "cbr_search = RandomizedSearchCV(cbr_pipeline, random_grid, n_iter=20, cv=10, verbose=10, scoring=custom_scorer, n_jobs=-1)\n",
    "cbr_search.fit(input_x, input_y.values.ravel())\n",
    "print(cbr_search.best_params_)"
   ]
  },
  {
   "cell_type": "code",
   "execution_count": null,
   "metadata": {},
   "outputs": [],
   "source": [
    "kr_model = KernelRidge()\n",
    "kr_pipeline = Pipeline(steps=[('normalize', scaler), ('model', kr_model)])\n",
    "\n",
    "random_grid = {\n",
    "    'model__alpha': [0.1, 0.5, 1.0, 2.0], \n",
    "    'model__kernel': ['linear', 'rbf', 'poly'], \n",
    "    'model__gamma': np.logspace(-2, 2, 5)\n",
    "}\n",
    "\n",
    "kr_search = RandomizedSearchCV(kr_pipeline, random_grid, n_iter=20, scoring=custom_scorer, cv=10, verbose=10, n_jobs=-1)\n",
    "kr_search.fit(input_x, input_y.values.ravel())\n",
    "print(kr_search.best_params_)"
   ]
  },
  {
   "cell_type": "code",
   "execution_count": 28,
   "metadata": {},
   "outputs": [
    {
     "name": "stdout",
     "output_type": "stream",
     "text": [
      "Fitting 10 folds for each of 20 candidates, totalling 200 fits\n",
      "[CV 1/10; 1/20] START model__estimator__max_depth=2, model__estimator__min_samples_leaf=10, model__learning_rate=0.01, model__n_estimators=50\n",
      "[CV 2/10; 1/20] START model__estimator__max_depth=2, model__estimator__min_samples_leaf=10, model__learning_rate=0.01, model__n_estimators=50\n",
      "[CV 3/10; 1/20] START model__estimator__max_depth=2, model__estimator__min_samples_leaf=10, model__learning_rate=0.01, model__n_estimators=50\n",
      "[CV 4/10; 1/20] START model__estimator__max_depth=2, model__estimator__min_samples_leaf=10, model__learning_rate=0.01, model__n_estimators=50\n",
      "[CV 5/10; 1/20] START model__estimator__max_depth=2, model__estimator__min_samples_leaf=10, model__learning_rate=0.01, model__n_estimators=50\n",
      "[CV 6/10; 1/20] START model__estimator__max_depth=2, model__estimator__min_samples_leaf=10, model__learning_rate=0.01, model__n_estimators=50\n",
      "[CV 7/10; 1/20] START model__estimator__max_depth=2, model__estimator__min_samples_leaf=10, model__learning_rate=0.01, model__n_estimators=50\n",
      "[CV 8/10; 1/20] START model__estimator__max_depth=2, model__estimator__min_samples_leaf=10, model__learning_rate=0.01, model__n_estimators=50\n",
      "[CV 9/10; 1/20] START model__estimator__max_depth=2, model__estimator__min_samples_leaf=10, model__learning_rate=0.01, model__n_estimators=50\n",
      "[CV 10/10; 1/20] START model__estimator__max_depth=2, model__estimator__min_samples_leaf=10, model__learning_rate=0.01, model__n_estimators=50\n",
      "[CV 1/10; 2/20] START model__estimator__max_depth=10, model__estimator__min_samples_leaf=10, model__learning_rate=0.1, model__n_estimators=50\n",
      "[CV 2/10; 2/20] START model__estimator__max_depth=10, model__estimator__min_samples_leaf=10, model__learning_rate=0.1, model__n_estimators=50\n",
      "[CV 4/10; 1/20] END model__estimator__max_depth=2, model__estimator__min_samples_leaf=10, model__learning_rate=0.01, model__n_estimators=50;, score=0.226 total time=   0.2s\n",
      "[CV 1/10; 1/20] END model__estimator__max_depth=2, model__estimator__min_samples_leaf=10, model__learning_rate=0.01, model__n_estimators=50;, score=0.238 total time=   0.2s\n",
      "[CV 3/10; 2/20] START model__estimator__max_depth=10, model__estimator__min_samples_leaf=10, model__learning_rate=0.1, model__n_estimators=50\n",
      "[CV 5/10; 1/20] END model__estimator__max_depth=2, model__estimator__min_samples_leaf=10, model__learning_rate=0.01, model__n_estimators=50;, score=0.217 total time=   0.2s\n",
      "[CV 6/10; 1/20] END model__estimator__max_depth=2, model__estimator__min_samples_leaf=10, model__learning_rate=0.01, model__n_estimators=50;, score=0.331 total time=   0.2s\n",
      "[CV 4/10; 2/20] START model__estimator__max_depth=10, model__estimator__min_samples_leaf=10, model__learning_rate=0.1, model__n_estimators=50\n",
      "[CV 10/10; 1/20] END model__estimator__max_depth=2, model__estimator__min_samples_leaf=10, model__learning_rate=0.01, model__n_estimators=50;, score=0.286 total time=   0.2s\n",
      "[CV 3/10; 1/20] END model__estimator__max_depth=2, model__estimator__min_samples_leaf=10, model__learning_rate=0.01, model__n_estimators=50;, score=0.314 total time=   0.2s[CV 2/10; 1/20] END model__estimator__max_depth=2, model__estimator__min_samples_leaf=10, model__learning_rate=0.01, model__n_estimators=50;, score=0.309 total time=   0.2s\n",
      "\n",
      "[CV 7/10; 1/20] END model__estimator__max_depth=2, model__estimator__min_samples_leaf=10, model__learning_rate=0.01, model__n_estimators=50;, score=0.212 total time=   0.2s\n",
      "[CV 8/10; 1/20] END model__estimator__max_depth=2, model__estimator__min_samples_leaf=10, model__learning_rate=0.01, model__n_estimators=50;, score=0.307 total time=   0.2s\n",
      "[CV 9/10; 1/20] END model__estimator__max_depth=2, model__estimator__min_samples_leaf=10, model__learning_rate=0.01, model__n_estimators=50;, score=0.231 total time=   0.2s\n",
      "[CV 5/10; 2/20] START model__estimator__max_depth=10, model__estimator__min_samples_leaf=10, model__learning_rate=0.1, model__n_estimators=50\n",
      "[CV 6/10; 2/20] START model__estimator__max_depth=10, model__estimator__min_samples_leaf=10, model__learning_rate=0.1, model__n_estimators=50\n",
      "[CV 7/10; 2/20] START model__estimator__max_depth=10, model__estimator__min_samples_leaf=10, model__learning_rate=0.1, model__n_estimators=50\n",
      "[CV 8/10; 2/20] START model__estimator__max_depth=10, model__estimator__min_samples_leaf=10, model__learning_rate=0.1, model__n_estimators=50\n",
      "[CV 9/10; 2/20] START model__estimator__max_depth=10, model__estimator__min_samples_leaf=10, model__learning_rate=0.1, model__n_estimators=50\n",
      "[CV 10/10; 2/20] START model__estimator__max_depth=10, model__estimator__min_samples_leaf=10, model__learning_rate=0.1, model__n_estimators=50\n",
      "[CV 1/10; 3/20] START model__estimator__max_depth=4, model__estimator__min_samples_leaf=10, model__learning_rate=0.01, model__n_estimators=250\n",
      "[CV 2/10; 3/20] START model__estimator__max_depth=4, model__estimator__min_samples_leaf=10, model__learning_rate=0.01, model__n_estimators=250\n",
      "[CV 1/10; 2/20] END model__estimator__max_depth=10, model__estimator__min_samples_leaf=10, model__learning_rate=0.1, model__n_estimators=50;, score=0.325 total time=   0.3s\n",
      "[CV 2/10; 2/20] END model__estimator__max_depth=10, model__estimator__min_samples_leaf=10, model__learning_rate=0.1, model__n_estimators=50;, score=0.394 total time=   0.3s\n",
      "[CV 3/10; 3/20] START model__estimator__max_depth=4, model__estimator__min_samples_leaf=10, model__learning_rate=0.01, model__n_estimators=250\n",
      "[CV 4/10; 3/20] START model__estimator__max_depth=4, model__estimator__min_samples_leaf=10, model__learning_rate=0.01, model__n_estimators=250\n",
      "[CV 5/10; 2/20] END model__estimator__max_depth=10, model__estimator__min_samples_leaf=10, model__learning_rate=0.1, model__n_estimators=50;, score=0.302 total time=   0.3s\n",
      "[CV 3/10; 2/20] END model__estimator__max_depth=10, model__estimator__min_samples_leaf=10, model__learning_rate=0.1, model__n_estimators=50;, score=0.451 total time=   0.3s\n",
      "[CV 4/10; 2/20] END model__estimator__max_depth=10, model__estimator__min_samples_leaf=10, model__learning_rate=0.1, model__n_estimators=50;, score=0.410 total time=   0.3s\n",
      "[CV 5/10; 3/20] START model__estimator__max_depth=4, model__estimator__min_samples_leaf=10, model__learning_rate=0.01, model__n_estimators=250\n",
      "[CV 7/10; 2/20] END model__estimator__max_depth=10, model__estimator__min_samples_leaf=10, model__learning_rate=0.1, model__n_estimators=50;, score=0.352 total time=   0.3s\n",
      "[CV 7/10; 3/20] START model__estimator__max_depth=4, model__estimator__min_samples_leaf=10, model__learning_rate=0.01, model__n_estimators=250\n",
      "[CV 9/10; 3/20] START model__estimator__max_depth=4, model__estimator__min_samples_leaf=10, model__learning_rate=0.01, model__n_estimators=250\n",
      "[CV 1/10; 4/20] START model__estimator__max_depth=6, model__estimator__min_samples_leaf=10, model__learning_rate=0.1, model__n_estimators=10\n",
      "[CV 6/10; 2/20] END model__estimator__max_depth=10, model__estimator__min_samples_leaf=10, model__learning_rate=0.1, model__n_estimators=50;, score=0.352 total time=   0.3s\n",
      "[CV 8/10; 2/20] END model__estimator__max_depth=10, model__estimator__min_samples_leaf=10, model__learning_rate=0.1, model__n_estimators=50;, score=0.390 total time=   0.3s\n",
      "[CV 9/10; 2/20] END model__estimator__max_depth=10, model__estimator__min_samples_leaf=10, model__learning_rate=0.1, model__n_estimators=50;, score=0.414 total time=   0.3s\n",
      "[CV 3/10; 4/20] START model__estimator__max_depth=6, model__estimator__min_samples_leaf=10, model__learning_rate=0.1, model__n_estimators=10\n",
      "[CV 5/10; 4/20] START model__estimator__max_depth=6, model__estimator__min_samples_leaf=10, model__learning_rate=0.1, model__n_estimators=10\n",
      "[CV 7/10; 4/20] START model__estimator__max_depth=6, model__estimator__min_samples_leaf=10, model__learning_rate=0.1, model__n_estimators=10\n",
      "[CV 10/10; 2/20] END model__estimator__max_depth=10, model__estimator__min_samples_leaf=10, model__learning_rate=0.1, model__n_estimators=50;, score=0.376 total time=   0.3s\n",
      "[CV 9/10; 4/20] START model__estimator__max_depth=6, model__estimator__min_samples_leaf=10, model__learning_rate=0.1, model__n_estimators=10\n",
      "[CV 3/10; 4/20] END model__estimator__max_depth=6, model__estimator__min_samples_leaf=10, model__learning_rate=0.1, model__n_estimators=10;, score=0.363 total time=   0.1s\n",
      "[CV 4/10; 4/20] START model__estimator__max_depth=6, model__estimator__min_samples_leaf=10, model__learning_rate=0.1, model__n_estimators=10\n",
      "[CV 1/10; 4/20] END model__estimator__max_depth=6, model__estimator__min_samples_leaf=10, model__learning_rate=0.1, model__n_estimators=10;, score=0.311 total time=   0.1s\n",
      "[CV 2/10; 4/20] START model__estimator__max_depth=6, model__estimator__min_samples_leaf=10, model__learning_rate=0.1, model__n_estimators=10\n",
      "[CV 5/10; 4/20] END model__estimator__max_depth=6, model__estimator__min_samples_leaf=10, model__learning_rate=0.1, model__n_estimators=10;, score=0.271 total time=   0.1s\n",
      "[CV 6/10; 4/20] START model__estimator__max_depth=6, model__estimator__min_samples_leaf=10, model__learning_rate=0.1, model__n_estimators=10\n",
      "[CV 7/10; 4/20] END model__estimator__max_depth=6, model__estimator__min_samples_leaf=10, model__learning_rate=0.1, model__n_estimators=10;, score=0.310 total time=   0.1s\n",
      "[CV 8/10; 4/20] START model__estimator__max_depth=6, model__estimator__min_samples_leaf=10, model__learning_rate=0.1, model__n_estimators=10\n",
      "[CV 9/10; 4/20] END model__estimator__max_depth=6, model__estimator__min_samples_leaf=10, model__learning_rate=0.1, model__n_estimators=10;, score=0.379 total time=   0.1s\n",
      "[CV 10/10; 4/20] START model__estimator__max_depth=6, model__estimator__min_samples_leaf=10, model__learning_rate=0.1, model__n_estimators=10\n",
      "[CV 4/10; 4/20] END model__estimator__max_depth=6, model__estimator__min_samples_leaf=10, model__learning_rate=0.1, model__n_estimators=10;, score=0.326 total time=   0.1s\n",
      "[CV 1/10; 5/20] START model__estimator__max_depth=2, model__estimator__min_samples_leaf=5, model__learning_rate=0.01, model__n_estimators=1000\n",
      "[CV 6/10; 4/20] END model__estimator__max_depth=6, model__estimator__min_samples_leaf=10, model__learning_rate=0.1, model__n_estimators=10;, score=0.324 total time=   0.1s\n",
      "[CV 3/10; 5/20] START model__estimator__max_depth=2, model__estimator__min_samples_leaf=5, model__learning_rate=0.01, model__n_estimators=1000\n",
      "[CV 2/10; 4/20] END model__estimator__max_depth=6, model__estimator__min_samples_leaf=10, model__learning_rate=0.1, model__n_estimators=10;, score=0.387 total time=   0.1s\n",
      "[CV 8/10; 4/20] END model__estimator__max_depth=6, model__estimator__min_samples_leaf=10, model__learning_rate=0.1, model__n_estimators=10;, score=0.360 total time=   0.1s\n",
      "[CV 5/10; 5/20] START model__estimator__max_depth=2, model__estimator__min_samples_leaf=5, model__learning_rate=0.01, model__n_estimators=1000\n",
      "[CV 7/10; 5/20] START model__estimator__max_depth=2, model__estimator__min_samples_leaf=5, model__learning_rate=0.01, model__n_estimators=1000\n",
      "[CV 10/10; 4/20] END model__estimator__max_depth=6, model__estimator__min_samples_leaf=10, model__learning_rate=0.1, model__n_estimators=10;, score=0.343 total time=   0.1s\n",
      "[CV 9/10; 5/20] START model__estimator__max_depth=2, model__estimator__min_samples_leaf=5, model__learning_rate=0.01, model__n_estimators=1000\n",
      "[CV 1/10; 3/20] END model__estimator__max_depth=4, model__estimator__min_samples_leaf=10, model__learning_rate=0.01, model__n_estimators=250;, score=0.297 total time=   1.0s\n",
      "[CV 1/10; 6/20] START model__estimator__max_depth=4, model__estimator__min_samples_leaf=5, model__learning_rate=0.1, model__n_estimators=10\n",
      "[CV 1/10; 6/20] END model__estimator__max_depth=4, model__estimator__min_samples_leaf=5, model__learning_rate=0.1, model__n_estimators=10;, score=0.299 total time=   0.1s\n",
      "[CV 2/10; 6/20] START model__estimator__max_depth=4, model__estimator__min_samples_leaf=5, model__learning_rate=0.1, model__n_estimators=10\n",
      "[CV 2/10; 3/20] END model__estimator__max_depth=4, model__estimator__min_samples_leaf=10, model__learning_rate=0.01, model__n_estimators=250;, score=0.359 total time=   1.0s\n",
      "[CV 3/10; 6/20] START model__estimator__max_depth=4, model__estimator__min_samples_leaf=5, model__learning_rate=0.1, model__n_estimators=10\n",
      "[CV 2/10; 6/20] END model__estimator__max_depth=4, model__estimator__min_samples_leaf=5, model__learning_rate=0.1, model__n_estimators=10;, score=0.363 total time=   0.0s\n",
      "[CV 5/10; 6/20] START model__estimator__max_depth=4, model__estimator__min_samples_leaf=5, model__learning_rate=0.1, model__n_estimators=10\n",
      "[CV 3/10; 6/20] END model__estimator__max_depth=4, model__estimator__min_samples_leaf=5, model__learning_rate=0.1, model__n_estimators=10;, score=0.328 total time=   0.1s\n",
      "[CV 4/10; 6/20] START model__estimator__max_depth=4, model__estimator__min_samples_leaf=5, model__learning_rate=0.1, model__n_estimators=10\n",
      "[CV 5/10; 6/20] END model__estimator__max_depth=4, model__estimator__min_samples_leaf=5, model__learning_rate=0.1, model__n_estimators=10;, score=0.255 total time=   0.1s\n",
      "[CV 6/10; 6/20] START model__estimator__max_depth=4, model__estimator__min_samples_leaf=5, model__learning_rate=0.1, model__n_estimators=10\n",
      "[CV 4/10; 6/20] END model__estimator__max_depth=4, model__estimator__min_samples_leaf=5, model__learning_rate=0.1, model__n_estimators=10;, score=0.307 total time=   0.1s\n",
      "[CV 7/10; 6/20] START model__estimator__max_depth=4, model__estimator__min_samples_leaf=5, model__learning_rate=0.1, model__n_estimators=10\n",
      "[CV 6/10; 6/20] END model__estimator__max_depth=4, model__estimator__min_samples_leaf=5, model__learning_rate=0.1, model__n_estimators=10;, score=0.307 total time=   0.1s\n",
      "[CV 3/10; 3/20] END model__estimator__max_depth=4, model__estimator__min_samples_leaf=10, model__learning_rate=0.01, model__n_estimators=250;, score=0.333 total time=   1.0s\n",
      "[CV 9/10; 6/20] START model__estimator__max_depth=4, model__estimator__min_samples_leaf=5, model__learning_rate=0.1, model__n_estimators=10\n",
      "[CV 1/10; 7/20] START model__estimator__max_depth=10, model__estimator__min_samples_leaf=10, model__learning_rate=0.1, model__n_estimators=1000\n",
      "[CV 7/10; 6/20] END model__estimator__max_depth=4, model__estimator__min_samples_leaf=5, model__learning_rate=0.1, model__n_estimators=10;, score=0.295 total time=   0.1s\n",
      "[CV 8/10; 6/20] START model__estimator__max_depth=4, model__estimator__min_samples_leaf=5, model__learning_rate=0.1, model__n_estimators=10\n",
      "[CV 4/10; 3/20] END model__estimator__max_depth=4, model__estimator__min_samples_leaf=10, model__learning_rate=0.01, model__n_estimators=250;, score=0.310 total time=   1.1s\n",
      "[CV 3/10; 7/20] START model__estimator__max_depth=10, model__estimator__min_samples_leaf=10, model__learning_rate=0.1, model__n_estimators=1000\n",
      "[CV 9/10; 6/20] END model__estimator__max_depth=4, model__estimator__min_samples_leaf=5, model__learning_rate=0.1, model__n_estimators=10;, score=0.321 total time=   0.0s\n",
      "[CV 10/10; 6/20] START model__estimator__max_depth=4, model__estimator__min_samples_leaf=5, model__learning_rate=0.1, model__n_estimators=10\n",
      "[CV 5/10; 3/20] END model__estimator__max_depth=4, model__estimator__min_samples_leaf=10, model__learning_rate=0.01, model__n_estimators=250;, score=0.245 total time=   1.0s\n",
      "[CV 6/10; 3/20] START model__estimator__max_depth=4, model__estimator__min_samples_leaf=10, model__learning_rate=0.01, model__n_estimators=250\n",
      "[CV 7/10; 3/20] END model__estimator__max_depth=4, model__estimator__min_samples_leaf=10, model__learning_rate=0.01, model__n_estimators=250;, score=0.290 total time=   1.0s\n",
      "[CV 8/10; 3/20] START model__estimator__max_depth=4, model__estimator__min_samples_leaf=10, model__learning_rate=0.01, model__n_estimators=250\n",
      "[CV 8/10; 6/20] END model__estimator__max_depth=4, model__estimator__min_samples_leaf=5, model__learning_rate=0.1, model__n_estimators=10;, score=0.324 total time=   0.1s\n",
      "[CV 5/10; 7/20] START model__estimator__max_depth=10, model__estimator__min_samples_leaf=10, model__learning_rate=0.1, model__n_estimators=1000\n",
      "[CV 10/10; 6/20] END model__estimator__max_depth=4, model__estimator__min_samples_leaf=5, model__learning_rate=0.1, model__n_estimators=10;, score=0.307 total time=   0.0s\n",
      "[CV 7/10; 7/20] START model__estimator__max_depth=10, model__estimator__min_samples_leaf=10, model__learning_rate=0.1, model__n_estimators=1000\n",
      "[CV 9/10; 3/20] END model__estimator__max_depth=4, model__estimator__min_samples_leaf=10, model__learning_rate=0.01, model__n_estimators=250;, score=0.321 total time=   1.0s\n",
      "[CV 10/10; 3/20] START model__estimator__max_depth=4, model__estimator__min_samples_leaf=10, model__learning_rate=0.01, model__n_estimators=250\n",
      "[CV 5/10; 5/20] END model__estimator__max_depth=2, model__estimator__min_samples_leaf=5, model__learning_rate=0.01, model__n_estimators=1000;, score=0.190 total time=   1.8s\n",
      "[CV 6/10; 5/20] START model__estimator__max_depth=2, model__estimator__min_samples_leaf=5, model__learning_rate=0.01, model__n_estimators=1000\n",
      "[CV 6/10; 3/20] END model__estimator__max_depth=4, model__estimator__min_samples_leaf=10, model__learning_rate=0.01, model__n_estimators=250;, score=0.312 total time=   1.0s\n",
      "[CV 9/10; 7/20] START model__estimator__max_depth=10, model__estimator__min_samples_leaf=10, model__learning_rate=0.1, model__n_estimators=1000\n",
      "[CV 10/10; 3/20] END model__estimator__max_depth=4, model__estimator__min_samples_leaf=10, model__learning_rate=0.01, model__n_estimators=250;, score=0.312 total time=   1.0s\n",
      "[CV 8/10; 3/20] END model__estimator__max_depth=4, model__estimator__min_samples_leaf=10, model__learning_rate=0.01, model__n_estimators=250;, score=0.329 total time=   1.0s\n",
      "[CV 1/10; 8/20] START model__estimator__max_depth=6, model__estimator__min_samples_leaf=5, model__learning_rate=0.01, model__n_estimators=1000\n",
      "[CV 3/10; 8/20] START model__estimator__max_depth=6, model__estimator__min_samples_leaf=5, model__learning_rate=0.01, model__n_estimators=1000\n",
      "[CV 9/10; 5/20] END model__estimator__max_depth=2, model__estimator__min_samples_leaf=5, model__learning_rate=0.01, model__n_estimators=1000;, score=0.219 total time=   2.2s\n",
      "[CV 10/10; 5/20] START model__estimator__max_depth=2, model__estimator__min_samples_leaf=5, model__learning_rate=0.01, model__n_estimators=1000\n",
      "[CV 7/10; 5/20] END model__estimator__max_depth=2, model__estimator__min_samples_leaf=5, model__learning_rate=0.01, model__n_estimators=1000;, score=0.183 total time=   2.4s\n",
      "[CV 8/10; 5/20] START model__estimator__max_depth=2, model__estimator__min_samples_leaf=5, model__learning_rate=0.01, model__n_estimators=1000\n",
      "[CV 1/10; 5/20] END model__estimator__max_depth=2, model__estimator__min_samples_leaf=5, model__learning_rate=0.01, model__n_estimators=1000;, score=0.169 total time=   2.5s\n",
      "[CV 2/10; 5/20] START model__estimator__max_depth=2, model__estimator__min_samples_leaf=5, model__learning_rate=0.01, model__n_estimators=1000\n",
      "[CV 3/10; 5/20] END model__estimator__max_depth=2, model__estimator__min_samples_leaf=5, model__learning_rate=0.01, model__n_estimators=1000;, score=0.235 total time=   2.6s\n",
      "[CV 4/10; 5/20] START model__estimator__max_depth=2, model__estimator__min_samples_leaf=5, model__learning_rate=0.01, model__n_estimators=1000\n",
      "[CV 6/10; 5/20] END model__estimator__max_depth=2, model__estimator__min_samples_leaf=5, model__learning_rate=0.01, model__n_estimators=1000;, score=0.271 total time=   2.2s\n",
      "[CV 5/10; 8/20] START model__estimator__max_depth=6, model__estimator__min_samples_leaf=5, model__learning_rate=0.01, model__n_estimators=1000\n",
      "[CV 10/10; 5/20] END model__estimator__max_depth=2, model__estimator__min_samples_leaf=5, model__learning_rate=0.01, model__n_estimators=1000;, score=0.290 total time=   2.1s\n",
      "[CV 7/10; 8/20] START model__estimator__max_depth=6, model__estimator__min_samples_leaf=5, model__learning_rate=0.01, model__n_estimators=1000\n",
      "[CV 8/10; 5/20] END model__estimator__max_depth=2, model__estimator__min_samples_leaf=5, model__learning_rate=0.01, model__n_estimators=1000;, score=0.267 total time=   2.1s\n",
      "[CV 9/10; 8/20] START model__estimator__max_depth=6, model__estimator__min_samples_leaf=5, model__learning_rate=0.01, model__n_estimators=1000\n",
      "[CV 2/10; 5/20] END model__estimator__max_depth=2, model__estimator__min_samples_leaf=5, model__learning_rate=0.01, model__n_estimators=1000;, score=0.209 total time=   2.2s\n",
      "[CV 1/10; 9/20] START model__estimator__max_depth=2, model__estimator__min_samples_leaf=10, model__learning_rate=0.1, model__n_estimators=50\n",
      "[CV 1/10; 9/20] END model__estimator__max_depth=2, model__estimator__min_samples_leaf=10, model__learning_rate=0.1, model__n_estimators=50;, score=0.171 total time=   0.2s\n",
      "[CV 2/10; 9/20] START model__estimator__max_depth=2, model__estimator__min_samples_leaf=10, model__learning_rate=0.1, model__n_estimators=50\n",
      "[CV 4/10; 5/20] END model__estimator__max_depth=2, model__estimator__min_samples_leaf=5, model__learning_rate=0.01, model__n_estimators=1000;, score=0.198 total time=   2.3s\n",
      "[CV 3/10; 9/20] START model__estimator__max_depth=2, model__estimator__min_samples_leaf=10, model__learning_rate=0.1, model__n_estimators=50\n",
      "[CV 2/10; 9/20] END model__estimator__max_depth=2, model__estimator__min_samples_leaf=10, model__learning_rate=0.1, model__n_estimators=50;, score=0.211 total time=   0.2s\n",
      "[CV 5/10; 9/20] START model__estimator__max_depth=2, model__estimator__min_samples_leaf=10, model__learning_rate=0.1, model__n_estimators=50\n",
      "[CV 3/10; 9/20] END model__estimator__max_depth=2, model__estimator__min_samples_leaf=10, model__learning_rate=0.1, model__n_estimators=50;, score=0.223 total time=   0.2s\n",
      "[CV 4/10; 9/20] START model__estimator__max_depth=2, model__estimator__min_samples_leaf=10, model__learning_rate=0.1, model__n_estimators=50\n",
      "[CV 5/10; 9/20] END model__estimator__max_depth=2, model__estimator__min_samples_leaf=10, model__learning_rate=0.1, model__n_estimators=50;, score=0.205 total time=   0.2s\n",
      "[CV 6/10; 9/20] START model__estimator__max_depth=2, model__estimator__min_samples_leaf=10, model__learning_rate=0.1, model__n_estimators=50\n",
      "[CV 4/10; 9/20] END model__estimator__max_depth=2, model__estimator__min_samples_leaf=10, model__learning_rate=0.1, model__n_estimators=50;, score=0.210 total time=   0.2s\n",
      "[CV 7/10; 9/20] START model__estimator__max_depth=2, model__estimator__min_samples_leaf=10, model__learning_rate=0.1, model__n_estimators=50\n",
      "[CV 6/10; 9/20] END model__estimator__max_depth=2, model__estimator__min_samples_leaf=10, model__learning_rate=0.1, model__n_estimators=50;, score=0.267 total time=   0.2s\n",
      "[CV 9/10; 9/20] START model__estimator__max_depth=2, model__estimator__min_samples_leaf=10, model__learning_rate=0.1, model__n_estimators=50\n",
      "[CV 7/10; 9/20] END model__estimator__max_depth=2, model__estimator__min_samples_leaf=10, model__learning_rate=0.1, model__n_estimators=50;, score=0.212 total time=   0.2s\n",
      "[CV 8/10; 9/20] START model__estimator__max_depth=2, model__estimator__min_samples_leaf=10, model__learning_rate=0.1, model__n_estimators=50\n",
      "[CV 9/10; 9/20] END model__estimator__max_depth=2, model__estimator__min_samples_leaf=10, model__learning_rate=0.1, model__n_estimators=50;, score=0.260 total time=   0.2s\n",
      "[CV 10/10; 9/20] START model__estimator__max_depth=2, model__estimator__min_samples_leaf=10, model__learning_rate=0.1, model__n_estimators=50\n",
      "[CV 8/10; 9/20] END model__estimator__max_depth=2, model__estimator__min_samples_leaf=10, model__learning_rate=0.1, model__n_estimators=50;, score=0.271 total time=   0.2s\n",
      "[CV 1/10; 10/20] START model__estimator__max_depth=10, model__estimator__min_samples_leaf=5, model__learning_rate=0.01, model__n_estimators=10\n",
      "[CV 10/10; 9/20] END model__estimator__max_depth=2, model__estimator__min_samples_leaf=10, model__learning_rate=0.1, model__n_estimators=50;, score=0.300 total time=   0.2s\n",
      "[CV 3/10; 10/20] START model__estimator__max_depth=10, model__estimator__min_samples_leaf=5, model__learning_rate=0.01, model__n_estimators=10\n",
      "[CV 1/10; 10/20] END model__estimator__max_depth=10, model__estimator__min_samples_leaf=5, model__learning_rate=0.01, model__n_estimators=10;, score=0.371 total time=   0.1s\n",
      "[CV 2/10; 10/20] START model__estimator__max_depth=10, model__estimator__min_samples_leaf=5, model__learning_rate=0.01, model__n_estimators=10\n",
      "[CV 3/10; 10/20] END model__estimator__max_depth=10, model__estimator__min_samples_leaf=5, model__learning_rate=0.01, model__n_estimators=10;, score=0.494 total time=   0.1s\n",
      "[CV 4/10; 10/20] START model__estimator__max_depth=10, model__estimator__min_samples_leaf=5, model__learning_rate=0.01, model__n_estimators=10\n",
      "[CV 2/10; 10/20] END model__estimator__max_depth=10, model__estimator__min_samples_leaf=5, model__learning_rate=0.01, model__n_estimators=10;, score=0.437 total time=   0.1s\n",
      "[CV 5/10; 10/20] START model__estimator__max_depth=10, model__estimator__min_samples_leaf=5, model__learning_rate=0.01, model__n_estimators=10\n",
      "[CV 4/10; 10/20] END model__estimator__max_depth=10, model__estimator__min_samples_leaf=5, model__learning_rate=0.01, model__n_estimators=10;, score=0.457 total time=   0.1s\n",
      "[CV 7/10; 10/20] START model__estimator__max_depth=10, model__estimator__min_samples_leaf=5, model__learning_rate=0.01, model__n_estimators=10\n",
      "[CV 5/10; 10/20] END model__estimator__max_depth=10, model__estimator__min_samples_leaf=5, model__learning_rate=0.01, model__n_estimators=10;, score=0.336 total time=   0.1s\n",
      "[CV 6/10; 10/20] START model__estimator__max_depth=10, model__estimator__min_samples_leaf=5, model__learning_rate=0.01, model__n_estimators=10\n",
      "[CV 7/10; 10/20] END model__estimator__max_depth=10, model__estimator__min_samples_leaf=5, model__learning_rate=0.01, model__n_estimators=10;, score=0.379 total time=   0.1s\n",
      "[CV 8/10; 10/20] START model__estimator__max_depth=10, model__estimator__min_samples_leaf=5, model__learning_rate=0.01, model__n_estimators=10\n",
      "[CV 6/10; 10/20] END model__estimator__max_depth=10, model__estimator__min_samples_leaf=5, model__learning_rate=0.01, model__n_estimators=10;, score=0.290 total time=   0.1s\n",
      "[CV 9/10; 10/20] START model__estimator__max_depth=10, model__estimator__min_samples_leaf=5, model__learning_rate=0.01, model__n_estimators=10\n",
      "[CV 8/10; 10/20] END model__estimator__max_depth=10, model__estimator__min_samples_leaf=5, model__learning_rate=0.01, model__n_estimators=10;, score=0.386 total time=   0.1s\n",
      "[CV 1/10; 11/20] START model__estimator__max_depth=8, model__estimator__min_samples_leaf=5, model__learning_rate=0.01, model__n_estimators=250\n",
      "[CV 9/10; 10/20] END model__estimator__max_depth=10, model__estimator__min_samples_leaf=5, model__learning_rate=0.01, model__n_estimators=10;, score=0.443 total time=   0.1s\n",
      "[CV 10/10; 10/20] START model__estimator__max_depth=10, model__estimator__min_samples_leaf=5, model__learning_rate=0.01, model__n_estimators=10\n",
      "[CV 10/10; 10/20] END model__estimator__max_depth=10, model__estimator__min_samples_leaf=5, model__learning_rate=0.01, model__n_estimators=10;, score=0.393 total time=   0.1s\n",
      "[CV 3/10; 11/20] START model__estimator__max_depth=8, model__estimator__min_samples_leaf=5, model__learning_rate=0.01, model__n_estimators=250\n",
      "[CV 7/10; 7/20] END model__estimator__max_depth=10, model__estimator__min_samples_leaf=10, model__learning_rate=0.1, model__n_estimators=1000;, score=0.174 total time=   5.3s\n",
      "[CV 8/10; 7/20] START model__estimator__max_depth=10, model__estimator__min_samples_leaf=10, model__learning_rate=0.1, model__n_estimators=1000\n",
      "[CV 5/10; 7/20] END model__estimator__max_depth=10, model__estimator__min_samples_leaf=10, model__learning_rate=0.1, model__n_estimators=1000;, score=0.214 total time=   5.4s\n",
      "[CV 6/10; 7/20] START model__estimator__max_depth=10, model__estimator__min_samples_leaf=10, model__learning_rate=0.1, model__n_estimators=1000\n",
      "[CV 1/10; 7/20] END model__estimator__max_depth=10, model__estimator__min_samples_leaf=10, model__learning_rate=0.1, model__n_estimators=1000;, score=0.140 total time=   5.5s\n",
      "[CV 2/10; 7/20] START model__estimator__max_depth=10, model__estimator__min_samples_leaf=10, model__learning_rate=0.1, model__n_estimators=1000\n",
      "[CV 3/10; 7/20] END model__estimator__max_depth=10, model__estimator__min_samples_leaf=10, model__learning_rate=0.1, model__n_estimators=1000;, score=0.238 total time=   5.6s\n",
      "[CV 4/10; 7/20] START model__estimator__max_depth=10, model__estimator__min_samples_leaf=10, model__learning_rate=0.1, model__n_estimators=1000\n",
      "[CV 3/10; 8/20] END model__estimator__max_depth=6, model__estimator__min_samples_leaf=5, model__learning_rate=0.01, model__n_estimators=1000;, score=0.359 total time=   4.5s\n",
      "[CV 4/10; 8/20] START model__estimator__max_depth=6, model__estimator__min_samples_leaf=5, model__learning_rate=0.01, model__n_estimators=1000\n",
      "[CV 1/10; 8/20] END model__estimator__max_depth=6, model__estimator__min_samples_leaf=5, model__learning_rate=0.01, model__n_estimators=1000;, score=0.254 total time=   4.7s\n",
      "[CV 2/10; 8/20] START model__estimator__max_depth=6, model__estimator__min_samples_leaf=5, model__learning_rate=0.01, model__n_estimators=1000\n",
      "[CV 9/10; 7/20] END model__estimator__max_depth=10, model__estimator__min_samples_leaf=10, model__learning_rate=0.1, model__n_estimators=1000;, score=0.224 total time=   5.1s\n",
      "[CV 10/10; 7/20] START model__estimator__max_depth=10, model__estimator__min_samples_leaf=10, model__learning_rate=0.1, model__n_estimators=1000\n",
      "[CV 1/10; 11/20] END model__estimator__max_depth=8, model__estimator__min_samples_leaf=5, model__learning_rate=0.01, model__n_estimators=250;, score=0.316 total time=   1.4s\n",
      "[CV 2/10; 11/20] START model__estimator__max_depth=8, model__estimator__min_samples_leaf=5, model__learning_rate=0.01, model__n_estimators=250\n",
      "[CV 3/10; 11/20] END model__estimator__max_depth=8, model__estimator__min_samples_leaf=5, model__learning_rate=0.01, model__n_estimators=250;, score=0.420 total time=   1.4s\n",
      "[CV 4/10; 11/20] START model__estimator__max_depth=8, model__estimator__min_samples_leaf=5, model__learning_rate=0.01, model__n_estimators=250\n",
      "[CV 5/10; 8/20] END model__estimator__max_depth=6, model__estimator__min_samples_leaf=5, model__learning_rate=0.01, model__n_estimators=1000;, score=0.226 total time=   4.4s\n",
      "[CV 6/10; 8/20] START model__estimator__max_depth=6, model__estimator__min_samples_leaf=5, model__learning_rate=0.01, model__n_estimators=1000\n",
      "[CV 7/10; 8/20] END model__estimator__max_depth=6, model__estimator__min_samples_leaf=5, model__learning_rate=0.01, model__n_estimators=1000;, score=0.290 total time=   4.4s\n",
      "[CV 8/10; 8/20] START model__estimator__max_depth=6, model__estimator__min_samples_leaf=5, model__learning_rate=0.01, model__n_estimators=1000\n",
      "[CV 2/10; 11/20] END model__estimator__max_depth=8, model__estimator__min_samples_leaf=5, model__learning_rate=0.01, model__n_estimators=250;, score=0.387 total time=   1.3s\n",
      "[CV 5/10; 11/20] START model__estimator__max_depth=8, model__estimator__min_samples_leaf=5, model__learning_rate=0.01, model__n_estimators=250\n",
      "[CV 4/10; 11/20] END model__estimator__max_depth=8, model__estimator__min_samples_leaf=5, model__learning_rate=0.01, model__n_estimators=250;, score=0.333 total time=   1.4s\n",
      "[CV 7/10; 11/20] START model__estimator__max_depth=8, model__estimator__min_samples_leaf=5, model__learning_rate=0.01, model__n_estimators=250\n",
      "[CV 9/10; 8/20] END model__estimator__max_depth=6, model__estimator__min_samples_leaf=5, model__learning_rate=0.01, model__n_estimators=1000;, score=0.364 total time=   4.8s\n",
      "[CV 10/10; 8/20] START model__estimator__max_depth=6, model__estimator__min_samples_leaf=5, model__learning_rate=0.01, model__n_estimators=1000\n",
      "[CV 5/10; 11/20] END model__estimator__max_depth=8, model__estimator__min_samples_leaf=5, model__learning_rate=0.01, model__n_estimators=250;, score=0.295 total time=   1.3s\n",
      "[CV 6/10; 11/20] START model__estimator__max_depth=8, model__estimator__min_samples_leaf=5, model__learning_rate=0.01, model__n_estimators=250\n",
      "[CV 7/10; 11/20] END model__estimator__max_depth=8, model__estimator__min_samples_leaf=5, model__learning_rate=0.01, model__n_estimators=250;, score=0.345 total time=   1.4s\n",
      "[CV 8/10; 11/20] START model__estimator__max_depth=8, model__estimator__min_samples_leaf=5, model__learning_rate=0.01, model__n_estimators=250\n",
      "[CV 4/10; 8/20] END model__estimator__max_depth=6, model__estimator__min_samples_leaf=5, model__learning_rate=0.01, model__n_estimators=1000;, score=0.293 total time=   4.4s\n",
      "[CV 9/10; 11/20] START model__estimator__max_depth=8, model__estimator__min_samples_leaf=5, model__learning_rate=0.01, model__n_estimators=250\n",
      "[CV 2/10; 8/20] END model__estimator__max_depth=6, model__estimator__min_samples_leaf=5, model__learning_rate=0.01, model__n_estimators=1000;, score=0.344 total time=   4.4s\n",
      "[CV 1/10; 12/20] START model__estimator__max_depth=4, model__estimator__min_samples_leaf=5, model__learning_rate=0.1, model__n_estimators=250\n",
      "[CV 8/10; 7/20] END model__estimator__max_depth=10, model__estimator__min_samples_leaf=10, model__learning_rate=0.1, model__n_estimators=1000;, score=0.245 total time=   5.0s\n",
      "[CV 3/10; 12/20] START model__estimator__max_depth=4, model__estimator__min_samples_leaf=5, model__learning_rate=0.1, model__n_estimators=250\n",
      "[CV 1/10; 12/20] END model__estimator__max_depth=4, model__estimator__min_samples_leaf=5, model__learning_rate=0.1, model__n_estimators=250;, score=0.247 total time=   0.3s\n",
      "[CV 2/10; 12/20] START model__estimator__max_depth=4, model__estimator__min_samples_leaf=5, model__learning_rate=0.1, model__n_estimators=250\n",
      "[CV 2/10; 7/20] END model__estimator__max_depth=10, model__estimator__min_samples_leaf=10, model__learning_rate=0.1, model__n_estimators=1000;, score=0.221 total time=   5.1s\n",
      "[CV 5/10; 12/20] START model__estimator__max_depth=4, model__estimator__min_samples_leaf=5, model__learning_rate=0.1, model__n_estimators=250\n",
      "[CV 6/10; 11/20] END model__estimator__max_depth=8, model__estimator__min_samples_leaf=5, model__learning_rate=0.01, model__n_estimators=250;, score=0.302 total time=   1.4s\n",
      "[CV 7/10; 12/20] START model__estimator__max_depth=4, model__estimator__min_samples_leaf=5, model__learning_rate=0.1, model__n_estimators=250\n",
      "[CV 6/10; 7/20] END model__estimator__max_depth=10, model__estimator__min_samples_leaf=10, model__learning_rate=0.1, model__n_estimators=1000;, score=0.221 total time=   5.2s\n",
      "[CV 9/10; 12/20] START model__estimator__max_depth=4, model__estimator__min_samples_leaf=5, model__learning_rate=0.1, model__n_estimators=250\n",
      "[CV 8/10; 11/20] END model__estimator__max_depth=8, model__estimator__min_samples_leaf=5, model__learning_rate=0.01, model__n_estimators=250;, score=0.381 total time=   1.4s\n",
      "[CV 1/10; 13/20] START model__estimator__max_depth=8, model__estimator__min_samples_leaf=10, model__learning_rate=0.01, model__n_estimators=250\n",
      "[CV 3/10; 12/20] END model__estimator__max_depth=4, model__estimator__min_samples_leaf=5, model__learning_rate=0.1, model__n_estimators=250;, score=0.323 total time=   0.4s\n",
      "[CV 4/10; 12/20] START model__estimator__max_depth=4, model__estimator__min_samples_leaf=5, model__learning_rate=0.1, model__n_estimators=250\n",
      "[CV 2/10; 12/20] END model__estimator__max_depth=4, model__estimator__min_samples_leaf=5, model__learning_rate=0.1, model__n_estimators=250;, score=0.325 total time=   0.4s\n",
      "[CV 2/10; 13/20] START model__estimator__max_depth=8, model__estimator__min_samples_leaf=10, model__learning_rate=0.01, model__n_estimators=250\n",
      "[CV 4/10; 7/20] END model__estimator__max_depth=10, model__estimator__min_samples_leaf=10, model__learning_rate=0.1, model__n_estimators=1000;, score=0.183 total time=   5.4s\n",
      "[CV 3/10; 13/20] START model__estimator__max_depth=8, model__estimator__min_samples_leaf=10, model__learning_rate=0.01, model__n_estimators=250\n",
      "[CV 5/10; 12/20] END model__estimator__max_depth=4, model__estimator__min_samples_leaf=5, model__learning_rate=0.1, model__n_estimators=250;, score=0.212 total time=   0.4s\n",
      "[CV 6/10; 12/20] START model__estimator__max_depth=4, model__estimator__min_samples_leaf=5, model__learning_rate=0.1, model__n_estimators=250\n",
      "[CV 10/10; 7/20] END model__estimator__max_depth=10, model__estimator__min_samples_leaf=10, model__learning_rate=0.1, model__n_estimators=1000;, score=0.238 total time=   4.9s\n",
      "[CV 9/10; 12/20] END model__estimator__max_depth=4, model__estimator__min_samples_leaf=5, model__learning_rate=0.1, model__n_estimators=250;, score=0.281 total time=   0.3s\n",
      "[CV 10/10; 12/20] START model__estimator__max_depth=4, model__estimator__min_samples_leaf=5, model__learning_rate=0.1, model__n_estimators=250\n",
      "[CV 4/10; 13/20] START model__estimator__max_depth=8, model__estimator__min_samples_leaf=10, model__learning_rate=0.01, model__n_estimators=250\n",
      "[CV 7/10; 12/20] END model__estimator__max_depth=4, model__estimator__min_samples_leaf=5, model__learning_rate=0.1, model__n_estimators=250;, score=0.243 total time=   0.5s\n",
      "[CV 8/10; 12/20] START model__estimator__max_depth=4, model__estimator__min_samples_leaf=5, model__learning_rate=0.1, model__n_estimators=250\n",
      "[CV 9/10; 11/20] END model__estimator__max_depth=8, model__estimator__min_samples_leaf=5, model__learning_rate=0.01, model__n_estimators=250;, score=0.400 total time=   1.3s\n",
      "[CV 10/10; 11/20] START model__estimator__max_depth=8, model__estimator__min_samples_leaf=5, model__learning_rate=0.01, model__n_estimators=250\n",
      "[CV 4/10; 12/20] END model__estimator__max_depth=4, model__estimator__min_samples_leaf=5, model__learning_rate=0.1, model__n_estimators=250;, score=0.238 total time=   0.5s\n",
      "[CV 5/10; 13/20] START model__estimator__max_depth=8, model__estimator__min_samples_leaf=10, model__learning_rate=0.01, model__n_estimators=250\n",
      "[CV 10/10; 12/20] END model__estimator__max_depth=4, model__estimator__min_samples_leaf=5, model__learning_rate=0.1, model__n_estimators=250;, score=0.295 total time=   0.4s\n",
      "[CV 6/10; 13/20] START model__estimator__max_depth=8, model__estimator__min_samples_leaf=10, model__learning_rate=0.01, model__n_estimators=250\n",
      "[CV 8/10; 12/20] END model__estimator__max_depth=4, model__estimator__min_samples_leaf=5, model__learning_rate=0.1, model__n_estimators=250;, score=0.324 total time=   0.3s\n",
      "[CV 7/10; 13/20] START model__estimator__max_depth=8, model__estimator__min_samples_leaf=10, model__learning_rate=0.01, model__n_estimators=250\n",
      "[CV 6/10; 12/20] END model__estimator__max_depth=4, model__estimator__min_samples_leaf=5, model__learning_rate=0.1, model__n_estimators=250;, score=0.224 total time=   0.8s\n",
      "[CV 8/10; 13/20] START model__estimator__max_depth=8, model__estimator__min_samples_leaf=10, model__learning_rate=0.01, model__n_estimators=250\n",
      "[CV 6/10; 8/20] END model__estimator__max_depth=6, model__estimator__min_samples_leaf=5, model__learning_rate=0.01, model__n_estimators=1000;, score=0.286 total time=   4.3s\n",
      "[CV 9/10; 13/20] START model__estimator__max_depth=8, model__estimator__min_samples_leaf=10, model__learning_rate=0.01, model__n_estimators=250\n",
      "[CV 1/10; 13/20] END model__estimator__max_depth=8, model__estimator__min_samples_leaf=10, model__learning_rate=0.01, model__n_estimators=250;, score=0.311 total time=   1.4s\n",
      "[CV 8/10; 8/20] END model__estimator__max_depth=6, model__estimator__min_samples_leaf=5, model__learning_rate=0.01, model__n_estimators=1000;, score=0.362 total time=   4.3s\n",
      "[CV 10/10; 13/20] START model__estimator__max_depth=8, model__estimator__min_samples_leaf=10, model__learning_rate=0.01, model__n_estimators=250\n",
      "[CV 1/10; 14/20] START model__estimator__max_depth=10, model__estimator__min_samples_leaf=5, model__learning_rate=0.1, model__n_estimators=1000\n",
      "[CV 2/10; 13/20] END model__estimator__max_depth=8, model__estimator__min_samples_leaf=10, model__learning_rate=0.01, model__n_estimators=250;, score=0.382 total time=   1.4s\n",
      "[CV 2/10; 14/20] START model__estimator__max_depth=10, model__estimator__min_samples_leaf=5, model__learning_rate=0.1, model__n_estimators=1000\n",
      "[CV 4/10; 13/20] END model__estimator__max_depth=8, model__estimator__min_samples_leaf=10, model__learning_rate=0.01, model__n_estimators=250;, score=0.338 total time=   1.3s\n",
      "[CV 3/10; 14/20] START model__estimator__max_depth=10, model__estimator__min_samples_leaf=5, model__learning_rate=0.1, model__n_estimators=1000\n",
      "[CV 3/10; 13/20] END model__estimator__max_depth=8, model__estimator__min_samples_leaf=10, model__learning_rate=0.01, model__n_estimators=250;, score=0.418 total time=   1.4s\n",
      "[CV 4/10; 14/20] START model__estimator__max_depth=10, model__estimator__min_samples_leaf=5, model__learning_rate=0.1, model__n_estimators=1000\n",
      "[CV 10/10; 11/20] END model__estimator__max_depth=8, model__estimator__min_samples_leaf=5, model__learning_rate=0.01, model__n_estimators=250;, score=0.417 total time=   1.3s\n",
      "[CV 5/10; 14/20] START model__estimator__max_depth=10, model__estimator__min_samples_leaf=5, model__learning_rate=0.1, model__n_estimators=1000\n",
      "[CV 5/10; 13/20] END model__estimator__max_depth=8, model__estimator__min_samples_leaf=10, model__learning_rate=0.01, model__n_estimators=250;, score=0.307 total time=   1.3s\n",
      "[CV 6/10; 14/20] START model__estimator__max_depth=10, model__estimator__min_samples_leaf=5, model__learning_rate=0.1, model__n_estimators=1000\n",
      "[CV 7/10; 13/20] END model__estimator__max_depth=8, model__estimator__min_samples_leaf=10, model__learning_rate=0.01, model__n_estimators=250;, score=0.338 total time=   1.3s\n",
      "[CV 7/10; 14/20] START model__estimator__max_depth=10, model__estimator__min_samples_leaf=5, model__learning_rate=0.1, model__n_estimators=1000\n",
      "[CV 6/10; 13/20] END model__estimator__max_depth=8, model__estimator__min_samples_leaf=10, model__learning_rate=0.01, model__n_estimators=250;, score=0.319 total time=   1.5s\n",
      "[CV 8/10; 14/20] START model__estimator__max_depth=10, model__estimator__min_samples_leaf=5, model__learning_rate=0.1, model__n_estimators=1000\n",
      "[CV 9/10; 13/20] END model__estimator__max_depth=8, model__estimator__min_samples_leaf=10, model__learning_rate=0.01, model__n_estimators=250;, score=0.395 total time=   1.3s\n",
      "[CV 9/10; 14/20] START model__estimator__max_depth=10, model__estimator__min_samples_leaf=5, model__learning_rate=0.1, model__n_estimators=1000\n",
      "[CV 8/10; 13/20] END model__estimator__max_depth=8, model__estimator__min_samples_leaf=10, model__learning_rate=0.01, model__n_estimators=250;, score=0.362 total time=   1.4s\n",
      "[CV 10/10; 14/20] START model__estimator__max_depth=10, model__estimator__min_samples_leaf=5, model__learning_rate=0.1, model__n_estimators=1000\n",
      "[CV 10/10; 8/20] END model__estimator__max_depth=6, model__estimator__min_samples_leaf=5, model__learning_rate=0.01, model__n_estimators=1000;, score=0.348 total time=   4.8s\n",
      "[CV 1/10; 15/20] START model__estimator__max_depth=10, model__estimator__min_samples_leaf=5, model__learning_rate=0.1, model__n_estimators=10\n",
      "[CV 1/10; 15/20] END model__estimator__max_depth=10, model__estimator__min_samples_leaf=5, model__learning_rate=0.1, model__n_estimators=10;, score=0.387 total time=   0.1s\n",
      "[CV 2/10; 15/20] START model__estimator__max_depth=10, model__estimator__min_samples_leaf=5, model__learning_rate=0.1, model__n_estimators=10\n",
      "[CV 10/10; 13/20] END model__estimator__max_depth=8, model__estimator__min_samples_leaf=10, model__learning_rate=0.01, model__n_estimators=250;, score=0.429 total time=   1.3s\n",
      "[CV 3/10; 15/20] START model__estimator__max_depth=10, model__estimator__min_samples_leaf=5, model__learning_rate=0.1, model__n_estimators=10\n",
      "[CV 2/10; 15/20] END model__estimator__max_depth=10, model__estimator__min_samples_leaf=5, model__learning_rate=0.1, model__n_estimators=10;, score=0.406 total time=   0.1s\n",
      "[CV 4/10; 15/20] START model__estimator__max_depth=10, model__estimator__min_samples_leaf=5, model__learning_rate=0.1, model__n_estimators=10\n",
      "[CV 3/10; 15/20] END model__estimator__max_depth=10, model__estimator__min_samples_leaf=5, model__learning_rate=0.1, model__n_estimators=10;, score=0.487 total time=   0.1s\n",
      "[CV 5/10; 15/20] START model__estimator__max_depth=10, model__estimator__min_samples_leaf=5, model__learning_rate=0.1, model__n_estimators=10\n",
      "[CV 4/10; 15/20] END model__estimator__max_depth=10, model__estimator__min_samples_leaf=5, model__learning_rate=0.1, model__n_estimators=10;, score=0.469 total time=   0.1s\n",
      "[CV 6/10; 15/20] START model__estimator__max_depth=10, model__estimator__min_samples_leaf=5, model__learning_rate=0.1, model__n_estimators=10\n",
      "[CV 5/10; 15/20] END model__estimator__max_depth=10, model__estimator__min_samples_leaf=5, model__learning_rate=0.1, model__n_estimators=10;, score=0.338 total time=   0.1s\n",
      "[CV 7/10; 15/20] START model__estimator__max_depth=10, model__estimator__min_samples_leaf=5, model__learning_rate=0.1, model__n_estimators=10\n",
      "[CV 6/10; 15/20] END model__estimator__max_depth=10, model__estimator__min_samples_leaf=5, model__learning_rate=0.1, model__n_estimators=10;, score=0.305 total time=   0.1s\n",
      "[CV 8/10; 15/20] START model__estimator__max_depth=10, model__estimator__min_samples_leaf=5, model__learning_rate=0.1, model__n_estimators=10\n",
      "[CV 7/10; 15/20] END model__estimator__max_depth=10, model__estimator__min_samples_leaf=5, model__learning_rate=0.1, model__n_estimators=10;, score=0.386 total time=   0.1s\n",
      "[CV 9/10; 15/20] START model__estimator__max_depth=10, model__estimator__min_samples_leaf=5, model__learning_rate=0.1, model__n_estimators=10\n",
      "[CV 8/10; 15/20] END model__estimator__max_depth=10, model__estimator__min_samples_leaf=5, model__learning_rate=0.1, model__n_estimators=10;, score=0.383 total time=   0.1s\n",
      "[CV 10/10; 15/20] START model__estimator__max_depth=10, model__estimator__min_samples_leaf=5, model__learning_rate=0.1, model__n_estimators=10\n",
      "[CV 9/10; 15/20] END model__estimator__max_depth=10, model__estimator__min_samples_leaf=5, model__learning_rate=0.1, model__n_estimators=10;, score=0.433 total time=   0.1s\n",
      "[CV 1/10; 16/20] START model__estimator__max_depth=8, model__estimator__min_samples_leaf=5, model__learning_rate=0.01, model__n_estimators=50\n",
      "[CV 10/10; 15/20] END model__estimator__max_depth=10, model__estimator__min_samples_leaf=5, model__learning_rate=0.1, model__n_estimators=10;, score=0.402 total time=   0.1s\n",
      "[CV 2/10; 16/20] START model__estimator__max_depth=8, model__estimator__min_samples_leaf=5, model__learning_rate=0.01, model__n_estimators=50\n",
      "[CV 1/10; 16/20] END model__estimator__max_depth=8, model__estimator__min_samples_leaf=5, model__learning_rate=0.01, model__n_estimators=50;, score=0.321 total time=   0.3s\n",
      "[CV 3/10; 16/20] START model__estimator__max_depth=8, model__estimator__min_samples_leaf=5, model__learning_rate=0.01, model__n_estimators=50\n",
      "[CV 2/10; 16/20] END model__estimator__max_depth=8, model__estimator__min_samples_leaf=5, model__learning_rate=0.01, model__n_estimators=50;, score=0.409 total time=   0.3s\n",
      "[CV 4/10; 16/20] START model__estimator__max_depth=8, model__estimator__min_samples_leaf=5, model__learning_rate=0.01, model__n_estimators=50\n",
      "[CV 3/10; 16/20] END model__estimator__max_depth=8, model__estimator__min_samples_leaf=5, model__learning_rate=0.01, model__n_estimators=50;, score=0.439 total time=   0.3s\n",
      "[CV 5/10; 16/20] START model__estimator__max_depth=8, model__estimator__min_samples_leaf=5, model__learning_rate=0.01, model__n_estimators=50\n",
      "[CV 4/10; 16/20] END model__estimator__max_depth=8, model__estimator__min_samples_leaf=5, model__learning_rate=0.01, model__n_estimators=50;, score=0.362 total time=   0.3s\n",
      "[CV 6/10; 16/20] START model__estimator__max_depth=8, model__estimator__min_samples_leaf=5, model__learning_rate=0.01, model__n_estimators=50\n",
      "[CV 5/10; 16/20] END model__estimator__max_depth=8, model__estimator__min_samples_leaf=5, model__learning_rate=0.01, model__n_estimators=50;, score=0.314 total time=   0.3s\n",
      "[CV 7/10; 16/20] START model__estimator__max_depth=8, model__estimator__min_samples_leaf=5, model__learning_rate=0.01, model__n_estimators=50\n",
      "[CV 6/10; 16/20] END model__estimator__max_depth=8, model__estimator__min_samples_leaf=5, model__learning_rate=0.01, model__n_estimators=50;, score=0.319 total time=   0.3s\n",
      "[CV 8/10; 16/20] START model__estimator__max_depth=8, model__estimator__min_samples_leaf=5, model__learning_rate=0.01, model__n_estimators=50\n",
      "[CV 7/10; 16/20] END model__estimator__max_depth=8, model__estimator__min_samples_leaf=5, model__learning_rate=0.01, model__n_estimators=50;, score=0.333 total time=   0.3s\n",
      "[CV 9/10; 16/20] START model__estimator__max_depth=8, model__estimator__min_samples_leaf=5, model__learning_rate=0.01, model__n_estimators=50\n",
      "[CV 8/10; 16/20] END model__estimator__max_depth=8, model__estimator__min_samples_leaf=5, model__learning_rate=0.01, model__n_estimators=50;, score=0.367 total time=   0.3s\n",
      "[CV 10/10; 16/20] START model__estimator__max_depth=8, model__estimator__min_samples_leaf=5, model__learning_rate=0.01, model__n_estimators=50\n",
      "[CV 9/10; 16/20] END model__estimator__max_depth=8, model__estimator__min_samples_leaf=5, model__learning_rate=0.01, model__n_estimators=50;, score=0.410 total time=   0.3s\n",
      "[CV 1/10; 17/20] START model__estimator__max_depth=6, model__estimator__min_samples_leaf=5, model__learning_rate=0.01, model__n_estimators=10\n",
      "[CV 1/10; 17/20] END model__estimator__max_depth=6, model__estimator__min_samples_leaf=5, model__learning_rate=0.01, model__n_estimators=10;, score=0.259 total time=   0.1s\n",
      "[CV 2/10; 17/20] START model__estimator__max_depth=6, model__estimator__min_samples_leaf=5, model__learning_rate=0.01, model__n_estimators=10\n",
      "[CV 2/10; 17/20] END model__estimator__max_depth=6, model__estimator__min_samples_leaf=5, model__learning_rate=0.01, model__n_estimators=10;, score=0.371 total time=   0.1s\n",
      "[CV 3/10; 17/20] START model__estimator__max_depth=6, model__estimator__min_samples_leaf=5, model__learning_rate=0.01, model__n_estimators=10\n",
      "[CV 10/10; 16/20] END model__estimator__max_depth=8, model__estimator__min_samples_leaf=5, model__learning_rate=0.01, model__n_estimators=50;, score=0.440 total time=   0.3s\n",
      "[CV 4/10; 17/20] START model__estimator__max_depth=6, model__estimator__min_samples_leaf=5, model__learning_rate=0.01, model__n_estimators=10\n",
      "[CV 3/10; 17/20] END model__estimator__max_depth=6, model__estimator__min_samples_leaf=5, model__learning_rate=0.01, model__n_estimators=10;, score=0.380 total time=   0.1s\n",
      "[CV 5/10; 17/20] START model__estimator__max_depth=6, model__estimator__min_samples_leaf=5, model__learning_rate=0.01, model__n_estimators=10\n",
      "[CV 4/10; 17/20] END model__estimator__max_depth=6, model__estimator__min_samples_leaf=5, model__learning_rate=0.01, model__n_estimators=10;, score=0.331 total time=   0.1s\n",
      "[CV 6/10; 17/20] START model__estimator__max_depth=6, model__estimator__min_samples_leaf=5, model__learning_rate=0.01, model__n_estimators=10\n",
      "[CV 5/10; 17/20] END model__estimator__max_depth=6, model__estimator__min_samples_leaf=5, model__learning_rate=0.01, model__n_estimators=10;, score=0.281 total time=   0.1s\n",
      "[CV 7/10; 17/20] START model__estimator__max_depth=6, model__estimator__min_samples_leaf=5, model__learning_rate=0.01, model__n_estimators=10\n",
      "[CV 6/10; 17/20] END model__estimator__max_depth=6, model__estimator__min_samples_leaf=5, model__learning_rate=0.01, model__n_estimators=10;, score=0.338 total time=   0.1s\n",
      "[CV 8/10; 17/20] START model__estimator__max_depth=6, model__estimator__min_samples_leaf=5, model__learning_rate=0.01, model__n_estimators=10\n",
      "[CV 7/10; 17/20] END model__estimator__max_depth=6, model__estimator__min_samples_leaf=5, model__learning_rate=0.01, model__n_estimators=10;, score=0.336 total time=   0.1s\n",
      "[CV 9/10; 17/20] START model__estimator__max_depth=6, model__estimator__min_samples_leaf=5, model__learning_rate=0.01, model__n_estimators=10\n",
      "[CV 8/10; 17/20] END model__estimator__max_depth=6, model__estimator__min_samples_leaf=5, model__learning_rate=0.01, model__n_estimators=10;, score=0.371 total time=   0.1s\n",
      "[CV 10/10; 17/20] START model__estimator__max_depth=6, model__estimator__min_samples_leaf=5, model__learning_rate=0.01, model__n_estimators=10\n",
      "[CV 9/10; 17/20] END model__estimator__max_depth=6, model__estimator__min_samples_leaf=5, model__learning_rate=0.01, model__n_estimators=10;, score=0.398 total time=   0.1s\n",
      "[CV 1/10; 18/20] START model__estimator__max_depth=6, model__estimator__min_samples_leaf=5, model__learning_rate=0.01, model__n_estimators=250\n",
      "[CV 10/10; 17/20] END model__estimator__max_depth=6, model__estimator__min_samples_leaf=5, model__learning_rate=0.01, model__n_estimators=10;, score=0.333 total time=   0.1s\n",
      "[CV 2/10; 18/20] START model__estimator__max_depth=6, model__estimator__min_samples_leaf=5, model__learning_rate=0.01, model__n_estimators=250\n",
      "[CV 1/10; 18/20] END model__estimator__max_depth=6, model__estimator__min_samples_leaf=5, model__learning_rate=0.01, model__n_estimators=250;, score=0.278 total time=   1.1s\n",
      "[CV 3/10; 18/20] START model__estimator__max_depth=6, model__estimator__min_samples_leaf=5, model__learning_rate=0.01, model__n_estimators=250\n",
      "[CV 2/10; 18/20] END model__estimator__max_depth=6, model__estimator__min_samples_leaf=5, model__learning_rate=0.01, model__n_estimators=250;, score=0.361 total time=   1.2s\n",
      "[CV 4/10; 18/20] START model__estimator__max_depth=6, model__estimator__min_samples_leaf=5, model__learning_rate=0.01, model__n_estimators=250\n",
      "[CV 3/10; 14/20] END model__estimator__max_depth=10, model__estimator__min_samples_leaf=5, model__learning_rate=0.1, model__n_estimators=1000;, score=0.297 total time=   5.1s\n",
      "[CV 5/10; 18/20] START model__estimator__max_depth=6, model__estimator__min_samples_leaf=5, model__learning_rate=0.01, model__n_estimators=250\n",
      "[CV 1/10; 14/20] END model__estimator__max_depth=10, model__estimator__min_samples_leaf=5, model__learning_rate=0.1, model__n_estimators=1000;, score=0.173 total time=   5.2s\n",
      "[CV 6/10; 18/20] START model__estimator__max_depth=6, model__estimator__min_samples_leaf=5, model__learning_rate=0.01, model__n_estimators=250\n",
      "[CV 2/10; 14/20] END model__estimator__max_depth=10, model__estimator__min_samples_leaf=5, model__learning_rate=0.1, model__n_estimators=1000;, score=0.254 total time=   5.2s\n",
      "[CV 7/10; 18/20] START model__estimator__max_depth=6, model__estimator__min_samples_leaf=5, model__learning_rate=0.01, model__n_estimators=250\n",
      "[CV 6/10; 14/20] END model__estimator__max_depth=10, model__estimator__min_samples_leaf=5, model__learning_rate=0.1, model__n_estimators=1000;, score=0.240 total time=   5.1s\n",
      "[CV 8/10; 18/20] START model__estimator__max_depth=6, model__estimator__min_samples_leaf=5, model__learning_rate=0.01, model__n_estimators=250\n",
      "[CV 4/10; 14/20] END model__estimator__max_depth=10, model__estimator__min_samples_leaf=5, model__learning_rate=0.1, model__n_estimators=1000;, score=0.207 total time=   5.4s\n",
      "[CV 9/10; 18/20] START model__estimator__max_depth=6, model__estimator__min_samples_leaf=5, model__learning_rate=0.01, model__n_estimators=250\n",
      "[CV 5/10; 14/20] END model__estimator__max_depth=10, model__estimator__min_samples_leaf=5, model__learning_rate=0.1, model__n_estimators=1000;, score=0.276 total time=   5.2s\n",
      "[CV 10/10; 18/20] START model__estimator__max_depth=6, model__estimator__min_samples_leaf=5, model__learning_rate=0.01, model__n_estimators=250\n",
      "[CV 3/10; 18/20] END model__estimator__max_depth=6, model__estimator__min_samples_leaf=5, model__learning_rate=0.01, model__n_estimators=250;, score=0.359 total time=   1.1s\n",
      "[CV 1/10; 19/20] START model__estimator__max_depth=2, model__estimator__min_samples_leaf=5, model__learning_rate=0.01, model__n_estimators=10\n",
      "[CV 1/10; 19/20] END model__estimator__max_depth=2, model__estimator__min_samples_leaf=5, model__learning_rate=0.01, model__n_estimators=10;, score=0.223 total time=   0.0s\n",
      "[CV 2/10; 19/20] START model__estimator__max_depth=2, model__estimator__min_samples_leaf=5, model__learning_rate=0.01, model__n_estimators=10\n",
      "[CV 2/10; 19/20] END model__estimator__max_depth=2, model__estimator__min_samples_leaf=5, model__learning_rate=0.01, model__n_estimators=10;, score=0.280 total time=   0.0s\n",
      "[CV 3/10; 19/20] START model__estimator__max_depth=2, model__estimator__min_samples_leaf=5, model__learning_rate=0.01, model__n_estimators=10\n",
      "[CV 3/10; 19/20] END model__estimator__max_depth=2, model__estimator__min_samples_leaf=5, model__learning_rate=0.01, model__n_estimators=10;, score=0.287 total time=   0.0s\n",
      "[CV 4/10; 19/20] START model__estimator__max_depth=2, model__estimator__min_samples_leaf=5, model__learning_rate=0.01, model__n_estimators=10\n",
      "[CV 4/10; 19/20] END model__estimator__max_depth=2, model__estimator__min_samples_leaf=5, model__learning_rate=0.01, model__n_estimators=10;, score=0.236 total time=   0.0s\n",
      "[CV 5/10; 19/20] START model__estimator__max_depth=2, model__estimator__min_samples_leaf=5, model__learning_rate=0.01, model__n_estimators=10\n",
      "[CV 7/10; 14/20] END model__estimator__max_depth=10, model__estimator__min_samples_leaf=5, model__learning_rate=0.1, model__n_estimators=1000;, score=0.188 total time=   5.2s\n",
      "[CV 6/10; 19/20] START model__estimator__max_depth=2, model__estimator__min_samples_leaf=5, model__learning_rate=0.01, model__n_estimators=10\n",
      "[CV 5/10; 19/20] END model__estimator__max_depth=2, model__estimator__min_samples_leaf=5, model__learning_rate=0.01, model__n_estimators=10;, score=0.231 total time=   0.0s\n",
      "[CV 7/10; 19/20] START model__estimator__max_depth=2, model__estimator__min_samples_leaf=5, model__learning_rate=0.01, model__n_estimators=10\n",
      "[CV 6/10; 19/20] END model__estimator__max_depth=2, model__estimator__min_samples_leaf=5, model__learning_rate=0.01, model__n_estimators=10;, score=0.350 total time=   0.0s\n",
      "[CV 8/10; 19/20] START model__estimator__max_depth=2, model__estimator__min_samples_leaf=5, model__learning_rate=0.01, model__n_estimators=10\n",
      "[CV 4/10; 18/20] END model__estimator__max_depth=6, model__estimator__min_samples_leaf=5, model__learning_rate=0.01, model__n_estimators=250;, score=0.314 total time=   1.3s\n",
      "[CV 7/10; 19/20] END model__estimator__max_depth=2, model__estimator__min_samples_leaf=5, model__learning_rate=0.01, model__n_estimators=10;, score=0.212 total time=   0.0s\n",
      "[CV 9/10; 19/20] START model__estimator__max_depth=2, model__estimator__min_samples_leaf=5, model__learning_rate=0.01, model__n_estimators=10\n",
      "[CV 10/10; 19/20] START model__estimator__max_depth=2, model__estimator__min_samples_leaf=5, model__learning_rate=0.01, model__n_estimators=10\n",
      "[CV 8/10; 19/20] END model__estimator__max_depth=2, model__estimator__min_samples_leaf=5, model__learning_rate=0.01, model__n_estimators=10;, score=0.317 total time=   0.0s\n",
      "[CV 1/10; 20/20] START model__estimator__max_depth=6, model__estimator__min_samples_leaf=5, model__learning_rate=0.1, model__n_estimators=10\n",
      "[CV 9/10; 19/20] END model__estimator__max_depth=2, model__estimator__min_samples_leaf=5, model__learning_rate=0.01, model__n_estimators=10;, score=0.264 total time=   0.0s\n",
      "[CV 10/10; 19/20] END model__estimator__max_depth=2, model__estimator__min_samples_leaf=5, model__learning_rate=0.01, model__n_estimators=10;, score=0.314 total time=   0.0s[CV 2/10; 20/20] START model__estimator__max_depth=6, model__estimator__min_samples_leaf=5, model__learning_rate=0.1, model__n_estimators=10\n",
      "\n",
      "[CV 3/10; 20/20] START model__estimator__max_depth=6, model__estimator__min_samples_leaf=5, model__learning_rate=0.1, model__n_estimators=10\n",
      "[CV 1/10; 20/20] END model__estimator__max_depth=6, model__estimator__min_samples_leaf=5, model__learning_rate=0.1, model__n_estimators=10;, score=0.276 total time=   0.1s\n",
      "[CV 4/10; 20/20] START model__estimator__max_depth=6, model__estimator__min_samples_leaf=5, model__learning_rate=0.1, model__n_estimators=10\n",
      "[CV 2/10; 20/20] END model__estimator__max_depth=6, model__estimator__min_samples_leaf=5, model__learning_rate=0.1, model__n_estimators=10;, score=0.378 total time=   0.1s\n",
      "[CV 5/10; 20/20] START model__estimator__max_depth=6, model__estimator__min_samples_leaf=5, model__learning_rate=0.1, model__n_estimators=10\n",
      "[CV 3/10; 20/20] END model__estimator__max_depth=6, model__estimator__min_samples_leaf=5, model__learning_rate=0.1, model__n_estimators=10;, score=0.359 total time=   0.1s\n",
      "[CV 6/10; 20/20] START model__estimator__max_depth=6, model__estimator__min_samples_leaf=5, model__learning_rate=0.1, model__n_estimators=10\n",
      "[CV 4/10; 20/20] END model__estimator__max_depth=6, model__estimator__min_samples_leaf=5, model__learning_rate=0.1, model__n_estimators=10;, score=0.317 total time=   0.1s\n",
      "[CV 7/10; 20/20] START model__estimator__max_depth=6, model__estimator__min_samples_leaf=5, model__learning_rate=0.1, model__n_estimators=10\n",
      "[CV 9/10; 14/20] END model__estimator__max_depth=10, model__estimator__min_samples_leaf=5, model__learning_rate=0.1, model__n_estimators=1000;, score=0.243 total time=   5.1s\n",
      "[CV 8/10; 20/20] START model__estimator__max_depth=6, model__estimator__min_samples_leaf=5, model__learning_rate=0.1, model__n_estimators=10\n",
      "[CV 5/10; 20/20] END model__estimator__max_depth=6, model__estimator__min_samples_leaf=5, model__learning_rate=0.1, model__n_estimators=10;, score=0.281 total time=   0.1s\n",
      "[CV 9/10; 20/20] START model__estimator__max_depth=6, model__estimator__min_samples_leaf=5, model__learning_rate=0.1, model__n_estimators=10\n",
      "[CV 6/10; 20/20] END model__estimator__max_depth=6, model__estimator__min_samples_leaf=5, model__learning_rate=0.1, model__n_estimators=10;, score=0.338 total time=   0.1s\n",
      "[CV 10/10; 20/20] START model__estimator__max_depth=6, model__estimator__min_samples_leaf=5, model__learning_rate=0.1, model__n_estimators=10\n",
      "[CV 7/10; 20/20] END model__estimator__max_depth=6, model__estimator__min_samples_leaf=5, model__learning_rate=0.1, model__n_estimators=10;, score=0.333 total time=   0.1s\n",
      "[CV 8/10; 20/20] END model__estimator__max_depth=6, model__estimator__min_samples_leaf=5, model__learning_rate=0.1, model__n_estimators=10;, score=0.360 total time=   0.1s\n",
      "[CV 8/10; 14/20] END model__estimator__max_depth=10, model__estimator__min_samples_leaf=5, model__learning_rate=0.1, model__n_estimators=1000;, score=0.300 total time=   5.4s\n",
      "[CV 9/10; 20/20] END model__estimator__max_depth=6, model__estimator__min_samples_leaf=5, model__learning_rate=0.1, model__n_estimators=10;, score=0.374 total time=   0.1s\n",
      "[CV 10/10; 20/20] END model__estimator__max_depth=6, model__estimator__min_samples_leaf=5, model__learning_rate=0.1, model__n_estimators=10;, score=0.331 total time=   0.1s\n",
      "[CV 10/10; 14/20] END model__estimator__max_depth=10, model__estimator__min_samples_leaf=5, model__learning_rate=0.1, model__n_estimators=1000;, score=0.310 total time=   5.2s\n",
      "[CV 5/10; 18/20] END model__estimator__max_depth=6, model__estimator__min_samples_leaf=5, model__learning_rate=0.01, model__n_estimators=250;, score=0.257 total time=   1.1s\n",
      "[CV 6/10; 18/20] END model__estimator__max_depth=6, model__estimator__min_samples_leaf=5, model__learning_rate=0.01, model__n_estimators=250;, score=0.324 total time=   1.2s\n",
      "[CV 7/10; 18/20] END model__estimator__max_depth=6, model__estimator__min_samples_leaf=5, model__learning_rate=0.01, model__n_estimators=250;, score=0.305 total time=   1.1s\n",
      "[CV 8/10; 18/20] END model__estimator__max_depth=6, model__estimator__min_samples_leaf=5, model__learning_rate=0.01, model__n_estimators=250;, score=0.376 total time=   1.0s\n",
      "[CV 10/10; 18/20] END model__estimator__max_depth=6, model__estimator__min_samples_leaf=5, model__learning_rate=0.01, model__n_estimators=250;, score=0.357 total time=   1.0s\n",
      "[CV 9/10; 18/20] END model__estimator__max_depth=6, model__estimator__min_samples_leaf=5, model__learning_rate=0.01, model__n_estimators=250;, score=0.376 total time=   1.1s\n",
      "{'model__n_estimators': 10, 'model__learning_rate': 0.1, 'model__estimator__min_samples_leaf': 5, 'model__estimator__max_depth': 10}\n"
     ]
    }
   ],
   "source": [
    "abr_model = AdaBoostRegressor(estimator=DecisionTreeRegressor(), random_state=random_state)\n",
    "abr_pipeline = Pipeline(steps=[('normalize', scaler), ('model', abr_model)])\n",
    "\n",
    "random_grid = {'model__estimator__max_depth':[i for i in range(2,11,2)],\n",
    "              'model__estimator__min_samples_leaf':[5,10],\n",
    "              'model__n_estimators':[10,50,250,1000],\n",
    "              'model__learning_rate':[0.01,0.1]}\n",
    "\n",
    "abr_search = RandomizedSearchCV(abr_pipeline, random_grid, n_iter=20, scoring=custom_scorer, cv=10, verbose=10, n_jobs=-1)\n",
    "abr_search.fit(input_x, input_y.values.ravel())\n",
    "print(abr_search.best_params_)"
   ]
  },
  {
   "cell_type": "code",
   "execution_count": 39,
   "metadata": {},
   "outputs": [],
   "source": [
    "scaler = MinMaxScaler(feature_range=(0,1))\n",
    "models = [generate_pipeline(scaler, model) for model in [\n",
    "    CatBoostRegressor(learning_rate=0.1, iterations=100, depth=6),\n",
    "    XGBRegressor(n_estimators=500, min_child_weight=3, max_depth=15, learning_rate=0.1),\n",
    "    SVR(kernel='poly', gamma='scale', degree=3, coef0=0.5, C=1),\n",
    "    GradientBoostingRegressor(n_estimators=10000, max_depth=10, learning_rate=0.001, random_state=random_state),\n",
    "    RandomForestRegressor(max_depth=110, min_samples_leaf=1, min_samples_split=5, n_estimators=1000, random_state=random_state),\n",
    "    KernelRidge(kernel='rbf', gamma=0.01, alpha=0.5),\n",
    "    AdaBoostRegressor(estimator=DecisionTreeRegressor(min_samples_leaf=5, max_depth=10), random_state=random_state, n_estimators=10, learning_rate=0.1)\n",
    "]]"
   ]
  },
  {
   "cell_type": "code",
   "execution_count": 40,
   "metadata": {},
   "outputs": [
    {
     "name": "stdout",
     "output_type": "stream",
     "text": [
      "0:\tlearn: 6.2543702\ttotal: 2.25ms\tremaining: 222ms\n",
      "1:\tlearn: 5.9254520\ttotal: 3.85ms\tremaining: 189ms\n",
      "2:\tlearn: 5.6489125\ttotal: 5.23ms\tremaining: 169ms\n",
      "3:\tlearn: 5.4115789\ttotal: 6.86ms\tremaining: 165ms\n",
      "4:\tlearn: 5.1938629\ttotal: 8.15ms\tremaining: 155ms\n",
      "5:\tlearn: 4.9945163\ttotal: 9.43ms\tremaining: 148ms\n",
      "6:\tlearn: 4.8585251\ttotal: 10.5ms\tremaining: 139ms\n",
      "7:\tlearn: 4.7176156\ttotal: 11.9ms\tremaining: 137ms\n",
      "8:\tlearn: 4.5836222\ttotal: 13ms\tremaining: 132ms\n",
      "9:\tlearn: 4.4718635\ttotal: 14.2ms\tremaining: 127ms\n",
      "10:\tlearn: 4.3837140\ttotal: 15.3ms\tremaining: 124ms\n",
      "11:\tlearn: 4.3108142\ttotal: 16.5ms\tremaining: 121ms\n",
      "12:\tlearn: 4.2416172\ttotal: 17.9ms\tremaining: 120ms\n",
      "13:\tlearn: 4.1912116\ttotal: 19ms\tremaining: 117ms\n",
      "14:\tlearn: 4.1395352\ttotal: 20.2ms\tremaining: 114ms\n",
      "15:\tlearn: 4.0897465\ttotal: 21.5ms\tremaining: 113ms\n",
      "16:\tlearn: 4.0470922\ttotal: 23.3ms\tremaining: 114ms\n",
      "17:\tlearn: 4.0001778\ttotal: 24.4ms\tremaining: 111ms\n",
      "18:\tlearn: 3.9686577\ttotal: 25.4ms\tremaining: 108ms\n",
      "19:\tlearn: 3.9371426\ttotal: 26.5ms\tremaining: 106ms\n",
      "20:\tlearn: 3.9151393\ttotal: 27.7ms\tremaining: 104ms\n",
      "21:\tlearn: 3.8760476\ttotal: 28.7ms\tremaining: 102ms\n",
      "22:\tlearn: 3.8609932\ttotal: 29.6ms\tremaining: 98.9ms\n",
      "23:\tlearn: 3.8398345\ttotal: 30.5ms\tremaining: 96.6ms\n",
      "24:\tlearn: 3.8221791\ttotal: 31.4ms\tremaining: 94.3ms\n",
      "25:\tlearn: 3.8150290\ttotal: 32ms\tremaining: 91.2ms\n",
      "26:\tlearn: 3.8095855\ttotal: 32.8ms\tremaining: 88.6ms\n",
      "27:\tlearn: 3.8004537\ttotal: 33.7ms\tremaining: 86.7ms\n",
      "28:\tlearn: 3.7783278\ttotal: 34.7ms\tremaining: 84.9ms\n",
      "29:\tlearn: 3.7718472\ttotal: 35.8ms\tremaining: 83.4ms\n",
      "30:\tlearn: 3.7623894\ttotal: 36.7ms\tremaining: 81.6ms\n",
      "31:\tlearn: 3.7505306\ttotal: 37.8ms\tremaining: 80.3ms\n",
      "32:\tlearn: 3.7380580\ttotal: 38.9ms\tremaining: 78.9ms\n",
      "33:\tlearn: 3.7326481\ttotal: 40.3ms\tremaining: 78.1ms\n",
      "34:\tlearn: 3.7206435\ttotal: 41.6ms\tremaining: 77.2ms\n",
      "35:\tlearn: 3.7162222\ttotal: 42.6ms\tremaining: 75.7ms\n",
      "36:\tlearn: 3.6946905\ttotal: 43.6ms\tremaining: 74.2ms\n",
      "37:\tlearn: 3.6868276\ttotal: 44.5ms\tremaining: 72.6ms\n",
      "38:\tlearn: 3.6839994\ttotal: 45.4ms\tremaining: 71ms\n",
      "39:\tlearn: 3.6720164\ttotal: 46.4ms\tremaining: 69.6ms\n",
      "40:\tlearn: 3.6644229\ttotal: 47.4ms\tremaining: 68.1ms\n",
      "41:\tlearn: 3.6551149\ttotal: 48.3ms\tremaining: 66.7ms\n",
      "42:\tlearn: 3.6530413\ttotal: 49.2ms\tremaining: 65.3ms\n",
      "43:\tlearn: 3.6485692\ttotal: 50.3ms\tremaining: 64ms\n",
      "44:\tlearn: 3.6434941\ttotal: 51.1ms\tremaining: 62.5ms\n",
      "45:\tlearn: 3.6245569\ttotal: 52.1ms\tremaining: 61.1ms\n",
      "46:\tlearn: 3.6227963\ttotal: 52.8ms\tremaining: 59.6ms\n",
      "47:\tlearn: 3.6118631\ttotal: 54.1ms\tremaining: 58.6ms\n",
      "48:\tlearn: 3.6061374\ttotal: 55.2ms\tremaining: 57.5ms\n",
      "49:\tlearn: 3.6009905\ttotal: 56.4ms\tremaining: 56.4ms\n",
      "50:\tlearn: 3.5951795\ttotal: 57.3ms\tremaining: 55.1ms\n",
      "51:\tlearn: 3.5943391\ttotal: 57.8ms\tremaining: 53.4ms\n",
      "52:\tlearn: 3.5894567\ttotal: 58.8ms\tremaining: 52.2ms\n",
      "53:\tlearn: 3.5804414\ttotal: 59.8ms\tremaining: 50.9ms\n",
      "54:\tlearn: 3.5744739\ttotal: 60.7ms\tremaining: 49.6ms\n",
      "55:\tlearn: 3.5697306\ttotal: 61.6ms\tremaining: 48.4ms\n",
      "56:\tlearn: 3.5657183\ttotal: 62.5ms\tremaining: 47.1ms\n",
      "57:\tlearn: 3.5642680\ttotal: 63.3ms\tremaining: 45.9ms\n",
      "58:\tlearn: 3.5575552\ttotal: 64.3ms\tremaining: 44.7ms\n",
      "59:\tlearn: 3.5526757\ttotal: 65.2ms\tremaining: 43.4ms\n",
      "60:\tlearn: 3.5402053\ttotal: 66.1ms\tremaining: 42.3ms\n",
      "61:\tlearn: 3.5366652\ttotal: 67ms\tremaining: 41.1ms\n",
      "62:\tlearn: 3.5326127\ttotal: 67.9ms\tremaining: 39.9ms\n",
      "63:\tlearn: 3.5297946\ttotal: 68.8ms\tremaining: 38.7ms\n",
      "64:\tlearn: 3.5233905\ttotal: 69.8ms\tremaining: 37.6ms\n",
      "65:\tlearn: 3.5014522\ttotal: 71.2ms\tremaining: 36.7ms\n",
      "66:\tlearn: 3.4902093\ttotal: 72.5ms\tremaining: 35.7ms\n",
      "67:\tlearn: 3.4858893\ttotal: 73.6ms\tremaining: 34.6ms\n",
      "68:\tlearn: 3.4714119\ttotal: 74.8ms\tremaining: 33.6ms\n",
      "69:\tlearn: 3.4639621\ttotal: 75.9ms\tremaining: 32.5ms\n",
      "70:\tlearn: 3.4632358\ttotal: 76.6ms\tremaining: 31.3ms\n",
      "71:\tlearn: 3.4571337\ttotal: 77.4ms\tremaining: 30.1ms\n",
      "72:\tlearn: 3.4486113\ttotal: 78.6ms\tremaining: 29.1ms\n",
      "73:\tlearn: 3.4433032\ttotal: 79.8ms\tremaining: 28.1ms\n",
      "74:\tlearn: 3.4363368\ttotal: 80.8ms\tremaining: 26.9ms\n",
      "75:\tlearn: 3.4265677\ttotal: 81.9ms\tremaining: 25.8ms\n",
      "76:\tlearn: 3.4208006\ttotal: 82.7ms\tremaining: 24.7ms\n",
      "77:\tlearn: 3.4188351\ttotal: 83.7ms\tremaining: 23.6ms\n",
      "78:\tlearn: 3.4133926\ttotal: 84.7ms\tremaining: 22.5ms\n",
      "79:\tlearn: 3.4114207\ttotal: 86ms\tremaining: 21.5ms\n",
      "80:\tlearn: 3.4074829\ttotal: 87.5ms\tremaining: 20.5ms\n",
      "81:\tlearn: 3.4017909\ttotal: 88.7ms\tremaining: 19.5ms\n",
      "82:\tlearn: 3.3979573\ttotal: 89.7ms\tremaining: 18.4ms\n",
      "83:\tlearn: 3.3931060\ttotal: 90.6ms\tremaining: 17.3ms\n",
      "84:\tlearn: 3.3923951\ttotal: 91.5ms\tremaining: 16.1ms\n",
      "85:\tlearn: 3.3891067\ttotal: 92.4ms\tremaining: 15ms\n",
      "86:\tlearn: 3.3851483\ttotal: 93.4ms\tremaining: 13.9ms\n",
      "87:\tlearn: 3.3832597\ttotal: 94.3ms\tremaining: 12.9ms\n",
      "88:\tlearn: 3.3806250\ttotal: 95.2ms\tremaining: 11.8ms\n",
      "89:\tlearn: 3.3716506\ttotal: 96.1ms\tremaining: 10.7ms\n",
      "90:\tlearn: 3.3668252\ttotal: 97ms\tremaining: 9.59ms\n",
      "91:\tlearn: 3.3632900\ttotal: 98ms\tremaining: 8.53ms\n",
      "92:\tlearn: 3.3603534\ttotal: 98.9ms\tremaining: 7.44ms\n",
      "93:\tlearn: 3.3543414\ttotal: 99.8ms\tremaining: 6.37ms\n",
      "94:\tlearn: 3.3483265\ttotal: 101ms\tremaining: 5.31ms\n",
      "95:\tlearn: 3.3461709\ttotal: 102ms\tremaining: 4.25ms\n",
      "96:\tlearn: 3.3337653\ttotal: 104ms\tremaining: 3.21ms\n",
      "97:\tlearn: 3.3311847\ttotal: 105ms\tremaining: 2.14ms\n",
      "98:\tlearn: 3.3237750\ttotal: 106ms\tremaining: 1.07ms\n",
      "99:\tlearn: 3.3223351\ttotal: 107ms\tremaining: 0us\n"
     ]
    },
    {
     "data": {
      "text/plain": [
       "0.5908658420551856"
      ]
     },
     "execution_count": 40,
     "metadata": {},
     "output_type": "execute_result"
    }
   ],
   "source": [
    "# Test the random forest model \n",
    "model = models[0]\n",
    "clf = model[1].fit(X_train, y_train.values.ravel())\n",
    "y_pred = clf.predict(X_test)\n",
    "get_score(y_test.values.ravel(), y_pred)"
   ]
  },
  {
   "cell_type": "code",
   "execution_count": 41,
   "metadata": {},
   "outputs": [
    {
     "data": {
      "text/html": [
       "<div>\n",
       "<style scoped>\n",
       "    .dataframe tbody tr th:only-of-type {\n",
       "        vertical-align: middle;\n",
       "    }\n",
       "\n",
       "    .dataframe tbody tr th {\n",
       "        vertical-align: top;\n",
       "    }\n",
       "\n",
       "    .dataframe thead th {\n",
       "        text-align: right;\n",
       "    }\n",
       "</style>\n",
       "<table border=\"1\" class=\"dataframe\">\n",
       "  <thead>\n",
       "    <tr style=\"text-align: right;\">\n",
       "      <th></th>\n",
       "      <th>y_actual</th>\n",
       "      <th>y_pred</th>\n",
       "    </tr>\n",
       "  </thead>\n",
       "  <tbody>\n",
       "    <tr>\n",
       "      <th>0</th>\n",
       "      <td>-10.378239</td>\n",
       "      <td>-9.860710</td>\n",
       "    </tr>\n",
       "    <tr>\n",
       "      <th>1</th>\n",
       "      <td>-6.207769</td>\n",
       "      <td>-5.628949</td>\n",
       "    </tr>\n",
       "    <tr>\n",
       "      <th>2</th>\n",
       "      <td>-12.617678</td>\n",
       "      <td>-15.264085</td>\n",
       "    </tr>\n",
       "    <tr>\n",
       "      <th>3</th>\n",
       "      <td>-0.352397</td>\n",
       "      <td>-1.092853</td>\n",
       "    </tr>\n",
       "    <tr>\n",
       "      <th>4</th>\n",
       "      <td>-5.473230</td>\n",
       "      <td>-9.212925</td>\n",
       "    </tr>\n",
       "    <tr>\n",
       "      <th>...</th>\n",
       "      <td>...</td>\n",
       "      <td>...</td>\n",
       "    </tr>\n",
       "    <tr>\n",
       "      <th>1046</th>\n",
       "      <td>-7.475370</td>\n",
       "      <td>-10.700367</td>\n",
       "    </tr>\n",
       "    <tr>\n",
       "      <th>1047</th>\n",
       "      <td>-5.701183</td>\n",
       "      <td>-10.218541</td>\n",
       "    </tr>\n",
       "    <tr>\n",
       "      <th>1048</th>\n",
       "      <td>-4.898163</td>\n",
       "      <td>-11.779052</td>\n",
       "    </tr>\n",
       "    <tr>\n",
       "      <th>1049</th>\n",
       "      <td>-11.964244</td>\n",
       "      <td>-10.201714</td>\n",
       "    </tr>\n",
       "    <tr>\n",
       "      <th>1050</th>\n",
       "      <td>-7.480783</td>\n",
       "      <td>-11.122707</td>\n",
       "    </tr>\n",
       "  </tbody>\n",
       "</table>\n",
       "<p>1051 rows × 2 columns</p>\n",
       "</div>"
      ],
      "text/plain": [
       "       y_actual     y_pred\n",
       "0    -10.378239  -9.860710\n",
       "1     -6.207769  -5.628949\n",
       "2    -12.617678 -15.264085\n",
       "3     -0.352397  -1.092853\n",
       "4     -5.473230  -9.212925\n",
       "...         ...        ...\n",
       "1046  -7.475370 -10.700367\n",
       "1047  -5.701183 -10.218541\n",
       "1048  -4.898163 -11.779052\n",
       "1049 -11.964244 -10.201714\n",
       "1050  -7.480783 -11.122707\n",
       "\n",
       "[1051 rows x 2 columns]"
      ]
     },
     "execution_count": 41,
     "metadata": {},
     "output_type": "execute_result"
    }
   ],
   "source": [
    "pd.DataFrame({'y_actual': y_test.values.reshape(-1), 'y_pred': y_pred})"
   ]
  },
  {
   "cell_type": "code",
   "execution_count": 42,
   "metadata": {},
   "outputs": [
    {
     "name": "stdout",
     "output_type": "stream",
     "text": [
      "0:\tlearn: 6.2543702\ttotal: 1.52ms\tremaining: 151ms\n",
      "1:\tlearn: 5.9254520\ttotal: 4.03ms\tremaining: 197ms\n",
      "2:\tlearn: 5.6489125\ttotal: 5.63ms\tremaining: 182ms\n",
      "3:\tlearn: 5.4115789\ttotal: 6.82ms\tremaining: 164ms\n",
      "4:\tlearn: 5.1938629\ttotal: 7.86ms\tremaining: 149ms\n",
      "5:\tlearn: 4.9945163\ttotal: 8.96ms\tremaining: 140ms\n",
      "6:\tlearn: 4.8585251\ttotal: 9.98ms\tremaining: 133ms\n",
      "7:\tlearn: 4.7176156\ttotal: 11.2ms\tremaining: 129ms\n",
      "8:\tlearn: 4.5836222\ttotal: 12.1ms\tremaining: 123ms\n",
      "9:\tlearn: 4.4718635\ttotal: 13.5ms\tremaining: 122ms\n",
      "10:\tlearn: 4.3837140\ttotal: 14.9ms\tremaining: 121ms\n",
      "11:\tlearn: 4.3108142\ttotal: 16.2ms\tremaining: 119ms\n",
      "12:\tlearn: 4.2416172\ttotal: 17.4ms\tremaining: 116ms\n",
      "13:\tlearn: 4.1912116\ttotal: 23.5ms\tremaining: 144ms\n",
      "14:\tlearn: 4.1395352\ttotal: 24.7ms\tremaining: 140ms\n",
      "15:\tlearn: 4.0897465\ttotal: 25.7ms\tremaining: 135ms\n",
      "16:\tlearn: 4.0470922\ttotal: 26.8ms\tremaining: 131ms\n",
      "17:\tlearn: 4.0001778\ttotal: 27.9ms\tremaining: 127ms\n",
      "18:\tlearn: 3.9686577\ttotal: 29.3ms\tremaining: 125ms\n",
      "19:\tlearn: 3.9371426\ttotal: 30.6ms\tremaining: 122ms\n",
      "20:\tlearn: 3.9151393\ttotal: 31.8ms\tremaining: 120ms\n",
      "21:\tlearn: 3.8760476\ttotal: 33ms\tremaining: 117ms\n",
      "22:\tlearn: 3.8609932\ttotal: 34ms\tremaining: 114ms\n",
      "23:\tlearn: 3.8398345\ttotal: 35.1ms\tremaining: 111ms\n",
      "24:\tlearn: 3.8221791\ttotal: 36.1ms\tremaining: 108ms\n",
      "25:\tlearn: 3.8150290\ttotal: 36.6ms\tremaining: 104ms\n",
      "26:\tlearn: 3.8095855\ttotal: 37.4ms\tremaining: 101ms\n",
      "27:\tlearn: 3.8004537\ttotal: 38.3ms\tremaining: 98.6ms\n",
      "28:\tlearn: 3.7783278\ttotal: 39.3ms\tremaining: 96.3ms\n",
      "29:\tlearn: 3.7718472\ttotal: 40.2ms\tremaining: 93.9ms\n",
      "30:\tlearn: 3.7623894\ttotal: 41.2ms\tremaining: 91.6ms\n",
      "31:\tlearn: 3.7505306\ttotal: 42.1ms\tremaining: 89.5ms\n",
      "32:\tlearn: 3.7380580\ttotal: 43.2ms\tremaining: 87.7ms\n",
      "33:\tlearn: 3.7326481\ttotal: 44.2ms\tremaining: 85.8ms\n",
      "34:\tlearn: 3.7206435\ttotal: 45.3ms\tremaining: 84.1ms\n",
      "35:\tlearn: 3.7162222\ttotal: 46.4ms\tremaining: 82.5ms\n",
      "36:\tlearn: 3.6946905\ttotal: 47.6ms\tremaining: 81ms\n",
      "37:\tlearn: 3.6868276\ttotal: 48.5ms\tremaining: 79.1ms\n",
      "38:\tlearn: 3.6839994\ttotal: 49.2ms\tremaining: 77ms\n",
      "39:\tlearn: 3.6720164\ttotal: 50.2ms\tremaining: 75.3ms\n",
      "40:\tlearn: 3.6644229\ttotal: 51.1ms\tremaining: 73.6ms\n",
      "41:\tlearn: 3.6551149\ttotal: 52.1ms\tremaining: 72ms\n",
      "42:\tlearn: 3.6530413\ttotal: 53.1ms\tremaining: 70.4ms\n",
      "43:\tlearn: 3.6485692\ttotal: 54ms\tremaining: 68.7ms\n",
      "44:\tlearn: 3.6434941\ttotal: 55.3ms\tremaining: 67.6ms\n",
      "45:\tlearn: 3.6245569\ttotal: 56.3ms\tremaining: 66.1ms\n",
      "46:\tlearn: 3.6227963\ttotal: 57.2ms\tremaining: 64.5ms\n",
      "47:\tlearn: 3.6118631\ttotal: 58.1ms\tremaining: 62.9ms\n",
      "48:\tlearn: 3.6061374\ttotal: 59.2ms\tremaining: 61.6ms\n",
      "49:\tlearn: 3.6009905\ttotal: 60.1ms\tremaining: 60.1ms\n",
      "50:\tlearn: 3.5951795\ttotal: 61ms\tremaining: 58.6ms\n",
      "51:\tlearn: 3.5943391\ttotal: 61.5ms\tremaining: 56.8ms\n",
      "52:\tlearn: 3.5894567\ttotal: 62.5ms\tremaining: 55.5ms\n",
      "53:\tlearn: 3.5804414\ttotal: 63.5ms\tremaining: 54.1ms\n",
      "54:\tlearn: 3.5744739\ttotal: 64.5ms\tremaining: 52.8ms\n",
      "55:\tlearn: 3.5697306\ttotal: 65.3ms\tremaining: 51.3ms\n",
      "56:\tlearn: 3.5657183\ttotal: 66.2ms\tremaining: 50ms\n",
      "57:\tlearn: 3.5642680\ttotal: 67.1ms\tremaining: 48.6ms\n",
      "58:\tlearn: 3.5575552\ttotal: 68.1ms\tremaining: 47.3ms\n",
      "59:\tlearn: 3.5526757\ttotal: 69ms\tremaining: 46ms\n",
      "60:\tlearn: 3.5402053\ttotal: 69.9ms\tremaining: 44.7ms\n",
      "61:\tlearn: 3.5366652\ttotal: 70.8ms\tremaining: 43.4ms\n",
      "62:\tlearn: 3.5326127\ttotal: 71.7ms\tremaining: 42.1ms\n",
      "63:\tlearn: 3.5297946\ttotal: 72.6ms\tremaining: 40.8ms\n",
      "64:\tlearn: 3.5233905\ttotal: 73.7ms\tremaining: 39.7ms\n",
      "65:\tlearn: 3.5014522\ttotal: 75.2ms\tremaining: 38.7ms\n",
      "66:\tlearn: 3.4902093\ttotal: 76.2ms\tremaining: 37.6ms\n",
      "67:\tlearn: 3.4858893\ttotal: 77.1ms\tremaining: 36.3ms\n",
      "68:\tlearn: 3.4714119\ttotal: 78.2ms\tremaining: 35.1ms\n",
      "69:\tlearn: 3.4639621\ttotal: 79.3ms\tremaining: 34ms\n",
      "70:\tlearn: 3.4632358\ttotal: 80.2ms\tremaining: 32.8ms\n",
      "71:\tlearn: 3.4571337\ttotal: 81.3ms\tremaining: 31.6ms\n",
      "72:\tlearn: 3.4486113\ttotal: 82.4ms\tremaining: 30.5ms\n",
      "73:\tlearn: 3.4433032\ttotal: 83.5ms\tremaining: 29.3ms\n",
      "74:\tlearn: 3.4363368\ttotal: 84.7ms\tremaining: 28.2ms\n",
      "75:\tlearn: 3.4265677\ttotal: 85.9ms\tremaining: 27.1ms\n",
      "76:\tlearn: 3.4208006\ttotal: 87.1ms\tremaining: 26ms\n",
      "77:\tlearn: 3.4188351\ttotal: 88ms\tremaining: 24.8ms\n",
      "78:\tlearn: 3.4133926\ttotal: 89.1ms\tremaining: 23.7ms\n",
      "79:\tlearn: 3.4114207\ttotal: 90.2ms\tremaining: 22.6ms\n",
      "80:\tlearn: 3.4074829\ttotal: 91.2ms\tremaining: 21.4ms\n",
      "81:\tlearn: 3.4017909\ttotal: 92.1ms\tremaining: 20.2ms\n",
      "82:\tlearn: 3.3979573\ttotal: 93.1ms\tremaining: 19.1ms\n",
      "83:\tlearn: 3.3931060\ttotal: 94.4ms\tremaining: 18ms\n",
      "84:\tlearn: 3.3923951\ttotal: 95.4ms\tremaining: 16.8ms\n",
      "85:\tlearn: 3.3891067\ttotal: 96.4ms\tremaining: 15.7ms\n",
      "86:\tlearn: 3.3851483\ttotal: 97.3ms\tremaining: 14.5ms\n",
      "87:\tlearn: 3.3832597\ttotal: 98.2ms\tremaining: 13.4ms\n",
      "88:\tlearn: 3.3806250\ttotal: 99.1ms\tremaining: 12.3ms\n",
      "89:\tlearn: 3.3716506\ttotal: 100ms\tremaining: 11.1ms\n",
      "90:\tlearn: 3.3668252\ttotal: 101ms\tremaining: 9.99ms\n",
      "91:\tlearn: 3.3632900\ttotal: 102ms\tremaining: 8.87ms\n",
      "92:\tlearn: 3.3603534\ttotal: 103ms\tremaining: 7.75ms\n",
      "93:\tlearn: 3.3543414\ttotal: 104ms\tremaining: 6.63ms\n",
      "94:\tlearn: 3.3483265\ttotal: 105ms\tremaining: 5.51ms\n",
      "95:\tlearn: 3.3461709\ttotal: 106ms\tremaining: 4.41ms\n",
      "96:\tlearn: 3.3337653\ttotal: 107ms\tremaining: 3.3ms\n",
      "97:\tlearn: 3.3311847\ttotal: 108ms\tremaining: 2.19ms\n",
      "98:\tlearn: 3.3237750\ttotal: 108ms\tremaining: 1.09ms\n",
      "99:\tlearn: 3.3223351\ttotal: 110ms\tremaining: 0us\n"
     ]
    }
   ],
   "source": [
    "results = {}\n",
    "\n",
    "for name, model in models:\n",
    "  clf = model.fit(X_train, y_train.values.ravel())\n",
    "  y_pred = clf.predict(X_test)\n",
    "\n",
    "  results[name] = {\n",
    "    'score': get_score(y_test.values.ravel(), y_pred),\n",
    "    'rsme': get_rsme(y_test.values.ravel(), y_pred),\n",
    "    'r_squared': get_r_squared(y_test.values.ravel(), y_pred),\n",
    "  }"
   ]
  },
  {
   "cell_type": "code",
   "execution_count": 43,
   "metadata": {},
   "outputs": [],
   "source": [
    "df = pd.DataFrame(results).T"
   ]
  },
  {
   "cell_type": "code",
   "execution_count": 44,
   "metadata": {},
   "outputs": [
    {
     "data": {
      "application/vnd.plotly.v1+json": {
       "config": {
        "plotlyServerURL": "https://plot.ly"
       },
       "data": [
        {
         "alignmentgroup": "True",
         "hovertemplate": "index=%{x}<br>score=%{y}<extra></extra>",
         "legendgroup": "",
         "marker": {
          "color": "#636efa",
          "pattern": {
           "shape": ""
          }
         },
         "name": "",
         "offsetgroup": "",
         "orientation": "v",
         "showlegend": false,
         "textposition": "auto",
         "type": "bar",
         "x": [
          "CatBoostRegressor",
          "XGBRegressor",
          "SVR",
          "GradientBoostingRegressor",
          "RandomForestRegressor",
          "KernelRidge",
          "AdaBoostRegressor"
         ],
         "xaxis": "x",
         "y": [
          0.5908658420551856,
          0.7887725975261656,
          0.4709800190294957,
          0.7678401522359658,
          0.7592768791627021,
          0.37107516650808753,
          0.686964795432921
         ],
         "yaxis": "y"
        }
       ],
       "layout": {
        "barmode": "relative",
        "legend": {
         "tracegroupgap": 0
        },
        "margin": {
         "t": 60
        },
        "template": {
         "data": {
          "bar": [
           {
            "error_x": {
             "color": "#2a3f5f"
            },
            "error_y": {
             "color": "#2a3f5f"
            },
            "marker": {
             "line": {
              "color": "#E5ECF6",
              "width": 0.5
             },
             "pattern": {
              "fillmode": "overlay",
              "size": 10,
              "solidity": 0.2
             }
            },
            "type": "bar"
           }
          ],
          "barpolar": [
           {
            "marker": {
             "line": {
              "color": "#E5ECF6",
              "width": 0.5
             },
             "pattern": {
              "fillmode": "overlay",
              "size": 10,
              "solidity": 0.2
             }
            },
            "type": "barpolar"
           }
          ],
          "carpet": [
           {
            "aaxis": {
             "endlinecolor": "#2a3f5f",
             "gridcolor": "white",
             "linecolor": "white",
             "minorgridcolor": "white",
             "startlinecolor": "#2a3f5f"
            },
            "baxis": {
             "endlinecolor": "#2a3f5f",
             "gridcolor": "white",
             "linecolor": "white",
             "minorgridcolor": "white",
             "startlinecolor": "#2a3f5f"
            },
            "type": "carpet"
           }
          ],
          "choropleth": [
           {
            "colorbar": {
             "outlinewidth": 0,
             "ticks": ""
            },
            "type": "choropleth"
           }
          ],
          "contour": [
           {
            "colorbar": {
             "outlinewidth": 0,
             "ticks": ""
            },
            "colorscale": [
             [
              0,
              "#0d0887"
             ],
             [
              0.1111111111111111,
              "#46039f"
             ],
             [
              0.2222222222222222,
              "#7201a8"
             ],
             [
              0.3333333333333333,
              "#9c179e"
             ],
             [
              0.4444444444444444,
              "#bd3786"
             ],
             [
              0.5555555555555556,
              "#d8576b"
             ],
             [
              0.6666666666666666,
              "#ed7953"
             ],
             [
              0.7777777777777778,
              "#fb9f3a"
             ],
             [
              0.8888888888888888,
              "#fdca26"
             ],
             [
              1,
              "#f0f921"
             ]
            ],
            "type": "contour"
           }
          ],
          "contourcarpet": [
           {
            "colorbar": {
             "outlinewidth": 0,
             "ticks": ""
            },
            "type": "contourcarpet"
           }
          ],
          "heatmap": [
           {
            "colorbar": {
             "outlinewidth": 0,
             "ticks": ""
            },
            "colorscale": [
             [
              0,
              "#0d0887"
             ],
             [
              0.1111111111111111,
              "#46039f"
             ],
             [
              0.2222222222222222,
              "#7201a8"
             ],
             [
              0.3333333333333333,
              "#9c179e"
             ],
             [
              0.4444444444444444,
              "#bd3786"
             ],
             [
              0.5555555555555556,
              "#d8576b"
             ],
             [
              0.6666666666666666,
              "#ed7953"
             ],
             [
              0.7777777777777778,
              "#fb9f3a"
             ],
             [
              0.8888888888888888,
              "#fdca26"
             ],
             [
              1,
              "#f0f921"
             ]
            ],
            "type": "heatmap"
           }
          ],
          "heatmapgl": [
           {
            "colorbar": {
             "outlinewidth": 0,
             "ticks": ""
            },
            "colorscale": [
             [
              0,
              "#0d0887"
             ],
             [
              0.1111111111111111,
              "#46039f"
             ],
             [
              0.2222222222222222,
              "#7201a8"
             ],
             [
              0.3333333333333333,
              "#9c179e"
             ],
             [
              0.4444444444444444,
              "#bd3786"
             ],
             [
              0.5555555555555556,
              "#d8576b"
             ],
             [
              0.6666666666666666,
              "#ed7953"
             ],
             [
              0.7777777777777778,
              "#fb9f3a"
             ],
             [
              0.8888888888888888,
              "#fdca26"
             ],
             [
              1,
              "#f0f921"
             ]
            ],
            "type": "heatmapgl"
           }
          ],
          "histogram": [
           {
            "marker": {
             "pattern": {
              "fillmode": "overlay",
              "size": 10,
              "solidity": 0.2
             }
            },
            "type": "histogram"
           }
          ],
          "histogram2d": [
           {
            "colorbar": {
             "outlinewidth": 0,
             "ticks": ""
            },
            "colorscale": [
             [
              0,
              "#0d0887"
             ],
             [
              0.1111111111111111,
              "#46039f"
             ],
             [
              0.2222222222222222,
              "#7201a8"
             ],
             [
              0.3333333333333333,
              "#9c179e"
             ],
             [
              0.4444444444444444,
              "#bd3786"
             ],
             [
              0.5555555555555556,
              "#d8576b"
             ],
             [
              0.6666666666666666,
              "#ed7953"
             ],
             [
              0.7777777777777778,
              "#fb9f3a"
             ],
             [
              0.8888888888888888,
              "#fdca26"
             ],
             [
              1,
              "#f0f921"
             ]
            ],
            "type": "histogram2d"
           }
          ],
          "histogram2dcontour": [
           {
            "colorbar": {
             "outlinewidth": 0,
             "ticks": ""
            },
            "colorscale": [
             [
              0,
              "#0d0887"
             ],
             [
              0.1111111111111111,
              "#46039f"
             ],
             [
              0.2222222222222222,
              "#7201a8"
             ],
             [
              0.3333333333333333,
              "#9c179e"
             ],
             [
              0.4444444444444444,
              "#bd3786"
             ],
             [
              0.5555555555555556,
              "#d8576b"
             ],
             [
              0.6666666666666666,
              "#ed7953"
             ],
             [
              0.7777777777777778,
              "#fb9f3a"
             ],
             [
              0.8888888888888888,
              "#fdca26"
             ],
             [
              1,
              "#f0f921"
             ]
            ],
            "type": "histogram2dcontour"
           }
          ],
          "mesh3d": [
           {
            "colorbar": {
             "outlinewidth": 0,
             "ticks": ""
            },
            "type": "mesh3d"
           }
          ],
          "parcoords": [
           {
            "line": {
             "colorbar": {
              "outlinewidth": 0,
              "ticks": ""
             }
            },
            "type": "parcoords"
           }
          ],
          "pie": [
           {
            "automargin": true,
            "type": "pie"
           }
          ],
          "scatter": [
           {
            "fillpattern": {
             "fillmode": "overlay",
             "size": 10,
             "solidity": 0.2
            },
            "type": "scatter"
           }
          ],
          "scatter3d": [
           {
            "line": {
             "colorbar": {
              "outlinewidth": 0,
              "ticks": ""
             }
            },
            "marker": {
             "colorbar": {
              "outlinewidth": 0,
              "ticks": ""
             }
            },
            "type": "scatter3d"
           }
          ],
          "scattercarpet": [
           {
            "marker": {
             "colorbar": {
              "outlinewidth": 0,
              "ticks": ""
             }
            },
            "type": "scattercarpet"
           }
          ],
          "scattergeo": [
           {
            "marker": {
             "colorbar": {
              "outlinewidth": 0,
              "ticks": ""
             }
            },
            "type": "scattergeo"
           }
          ],
          "scattergl": [
           {
            "marker": {
             "colorbar": {
              "outlinewidth": 0,
              "ticks": ""
             }
            },
            "type": "scattergl"
           }
          ],
          "scattermapbox": [
           {
            "marker": {
             "colorbar": {
              "outlinewidth": 0,
              "ticks": ""
             }
            },
            "type": "scattermapbox"
           }
          ],
          "scatterpolar": [
           {
            "marker": {
             "colorbar": {
              "outlinewidth": 0,
              "ticks": ""
             }
            },
            "type": "scatterpolar"
           }
          ],
          "scatterpolargl": [
           {
            "marker": {
             "colorbar": {
              "outlinewidth": 0,
              "ticks": ""
             }
            },
            "type": "scatterpolargl"
           }
          ],
          "scatterternary": [
           {
            "marker": {
             "colorbar": {
              "outlinewidth": 0,
              "ticks": ""
             }
            },
            "type": "scatterternary"
           }
          ],
          "surface": [
           {
            "colorbar": {
             "outlinewidth": 0,
             "ticks": ""
            },
            "colorscale": [
             [
              0,
              "#0d0887"
             ],
             [
              0.1111111111111111,
              "#46039f"
             ],
             [
              0.2222222222222222,
              "#7201a8"
             ],
             [
              0.3333333333333333,
              "#9c179e"
             ],
             [
              0.4444444444444444,
              "#bd3786"
             ],
             [
              0.5555555555555556,
              "#d8576b"
             ],
             [
              0.6666666666666666,
              "#ed7953"
             ],
             [
              0.7777777777777778,
              "#fb9f3a"
             ],
             [
              0.8888888888888888,
              "#fdca26"
             ],
             [
              1,
              "#f0f921"
             ]
            ],
            "type": "surface"
           }
          ],
          "table": [
           {
            "cells": {
             "fill": {
              "color": "#EBF0F8"
             },
             "line": {
              "color": "white"
             }
            },
            "header": {
             "fill": {
              "color": "#C8D4E3"
             },
             "line": {
              "color": "white"
             }
            },
            "type": "table"
           }
          ]
         },
         "layout": {
          "annotationdefaults": {
           "arrowcolor": "#2a3f5f",
           "arrowhead": 0,
           "arrowwidth": 1
          },
          "autotypenumbers": "strict",
          "coloraxis": {
           "colorbar": {
            "outlinewidth": 0,
            "ticks": ""
           }
          },
          "colorscale": {
           "diverging": [
            [
             0,
             "#8e0152"
            ],
            [
             0.1,
             "#c51b7d"
            ],
            [
             0.2,
             "#de77ae"
            ],
            [
             0.3,
             "#f1b6da"
            ],
            [
             0.4,
             "#fde0ef"
            ],
            [
             0.5,
             "#f7f7f7"
            ],
            [
             0.6,
             "#e6f5d0"
            ],
            [
             0.7,
             "#b8e186"
            ],
            [
             0.8,
             "#7fbc41"
            ],
            [
             0.9,
             "#4d9221"
            ],
            [
             1,
             "#276419"
            ]
           ],
           "sequential": [
            [
             0,
             "#0d0887"
            ],
            [
             0.1111111111111111,
             "#46039f"
            ],
            [
             0.2222222222222222,
             "#7201a8"
            ],
            [
             0.3333333333333333,
             "#9c179e"
            ],
            [
             0.4444444444444444,
             "#bd3786"
            ],
            [
             0.5555555555555556,
             "#d8576b"
            ],
            [
             0.6666666666666666,
             "#ed7953"
            ],
            [
             0.7777777777777778,
             "#fb9f3a"
            ],
            [
             0.8888888888888888,
             "#fdca26"
            ],
            [
             1,
             "#f0f921"
            ]
           ],
           "sequentialminus": [
            [
             0,
             "#0d0887"
            ],
            [
             0.1111111111111111,
             "#46039f"
            ],
            [
             0.2222222222222222,
             "#7201a8"
            ],
            [
             0.3333333333333333,
             "#9c179e"
            ],
            [
             0.4444444444444444,
             "#bd3786"
            ],
            [
             0.5555555555555556,
             "#d8576b"
            ],
            [
             0.6666666666666666,
             "#ed7953"
            ],
            [
             0.7777777777777778,
             "#fb9f3a"
            ],
            [
             0.8888888888888888,
             "#fdca26"
            ],
            [
             1,
             "#f0f921"
            ]
           ]
          },
          "colorway": [
           "#636efa",
           "#EF553B",
           "#00cc96",
           "#ab63fa",
           "#FFA15A",
           "#19d3f3",
           "#FF6692",
           "#B6E880",
           "#FF97FF",
           "#FECB52"
          ],
          "font": {
           "color": "#2a3f5f"
          },
          "geo": {
           "bgcolor": "white",
           "lakecolor": "white",
           "landcolor": "#E5ECF6",
           "showlakes": true,
           "showland": true,
           "subunitcolor": "white"
          },
          "hoverlabel": {
           "align": "left"
          },
          "hovermode": "closest",
          "mapbox": {
           "style": "light"
          },
          "paper_bgcolor": "white",
          "plot_bgcolor": "#E5ECF6",
          "polar": {
           "angularaxis": {
            "gridcolor": "white",
            "linecolor": "white",
            "ticks": ""
           },
           "bgcolor": "#E5ECF6",
           "radialaxis": {
            "gridcolor": "white",
            "linecolor": "white",
            "ticks": ""
           }
          },
          "scene": {
           "xaxis": {
            "backgroundcolor": "#E5ECF6",
            "gridcolor": "white",
            "gridwidth": 2,
            "linecolor": "white",
            "showbackground": true,
            "ticks": "",
            "zerolinecolor": "white"
           },
           "yaxis": {
            "backgroundcolor": "#E5ECF6",
            "gridcolor": "white",
            "gridwidth": 2,
            "linecolor": "white",
            "showbackground": true,
            "ticks": "",
            "zerolinecolor": "white"
           },
           "zaxis": {
            "backgroundcolor": "#E5ECF6",
            "gridcolor": "white",
            "gridwidth": 2,
            "linecolor": "white",
            "showbackground": true,
            "ticks": "",
            "zerolinecolor": "white"
           }
          },
          "shapedefaults": {
           "line": {
            "color": "#2a3f5f"
           }
          },
          "ternary": {
           "aaxis": {
            "gridcolor": "white",
            "linecolor": "white",
            "ticks": ""
           },
           "baxis": {
            "gridcolor": "white",
            "linecolor": "white",
            "ticks": ""
           },
           "bgcolor": "#E5ECF6",
           "caxis": {
            "gridcolor": "white",
            "linecolor": "white",
            "ticks": ""
           }
          },
          "title": {
           "x": 0.05
          },
          "xaxis": {
           "automargin": true,
           "gridcolor": "white",
           "linecolor": "white",
           "ticks": "",
           "title": {
            "standoff": 15
           },
           "zerolinecolor": "white",
           "zerolinewidth": 2
          },
          "yaxis": {
           "automargin": true,
           "gridcolor": "white",
           "linecolor": "white",
           "ticks": "",
           "title": {
            "standoff": 15
           },
           "zerolinecolor": "white",
           "zerolinewidth": 2
          }
         }
        },
        "xaxis": {
         "anchor": "y",
         "domain": [
          0,
          1
         ],
         "title": {
          "text": "index"
         }
        },
        "yaxis": {
         "anchor": "x",
         "domain": [
          0,
          1
         ],
         "title": {
          "text": "score"
         }
        }
       }
      },
      "text/html": [
       "<div>                            <div id=\"8bb19c18-ff9b-4fed-9d0e-eecf8f142fb2\" class=\"plotly-graph-div\" style=\"height:525px; width:100%;\"></div>            <script type=\"text/javascript\">                require([\"plotly\"], function(Plotly) {                    window.PLOTLYENV=window.PLOTLYENV || {};                                    if (document.getElementById(\"8bb19c18-ff9b-4fed-9d0e-eecf8f142fb2\")) {                    Plotly.newPlot(                        \"8bb19c18-ff9b-4fed-9d0e-eecf8f142fb2\",                        [{\"alignmentgroup\":\"True\",\"hovertemplate\":\"index=%{x}\\u003cbr\\u003escore=%{y}\\u003cextra\\u003e\\u003c\\u002fextra\\u003e\",\"legendgroup\":\"\",\"marker\":{\"color\":\"#636efa\",\"pattern\":{\"shape\":\"\"}},\"name\":\"\",\"offsetgroup\":\"\",\"orientation\":\"v\",\"showlegend\":false,\"textposition\":\"auto\",\"x\":[\"CatBoostRegressor\",\"XGBRegressor\",\"SVR\",\"GradientBoostingRegressor\",\"RandomForestRegressor\",\"KernelRidge\",\"AdaBoostRegressor\"],\"xaxis\":\"x\",\"y\":[0.5908658420551856,0.7887725975261656,0.4709800190294957,0.7678401522359658,0.7592768791627021,0.37107516650808753,0.686964795432921],\"yaxis\":\"y\",\"type\":\"bar\"}],                        {\"template\":{\"data\":{\"histogram2dcontour\":[{\"type\":\"histogram2dcontour\",\"colorbar\":{\"outlinewidth\":0,\"ticks\":\"\"},\"colorscale\":[[0.0,\"#0d0887\"],[0.1111111111111111,\"#46039f\"],[0.2222222222222222,\"#7201a8\"],[0.3333333333333333,\"#9c179e\"],[0.4444444444444444,\"#bd3786\"],[0.5555555555555556,\"#d8576b\"],[0.6666666666666666,\"#ed7953\"],[0.7777777777777778,\"#fb9f3a\"],[0.8888888888888888,\"#fdca26\"],[1.0,\"#f0f921\"]]}],\"choropleth\":[{\"type\":\"choropleth\",\"colorbar\":{\"outlinewidth\":0,\"ticks\":\"\"}}],\"histogram2d\":[{\"type\":\"histogram2d\",\"colorbar\":{\"outlinewidth\":0,\"ticks\":\"\"},\"colorscale\":[[0.0,\"#0d0887\"],[0.1111111111111111,\"#46039f\"],[0.2222222222222222,\"#7201a8\"],[0.3333333333333333,\"#9c179e\"],[0.4444444444444444,\"#bd3786\"],[0.5555555555555556,\"#d8576b\"],[0.6666666666666666,\"#ed7953\"],[0.7777777777777778,\"#fb9f3a\"],[0.8888888888888888,\"#fdca26\"],[1.0,\"#f0f921\"]]}],\"heatmap\":[{\"type\":\"heatmap\",\"colorbar\":{\"outlinewidth\":0,\"ticks\":\"\"},\"colorscale\":[[0.0,\"#0d0887\"],[0.1111111111111111,\"#46039f\"],[0.2222222222222222,\"#7201a8\"],[0.3333333333333333,\"#9c179e\"],[0.4444444444444444,\"#bd3786\"],[0.5555555555555556,\"#d8576b\"],[0.6666666666666666,\"#ed7953\"],[0.7777777777777778,\"#fb9f3a\"],[0.8888888888888888,\"#fdca26\"],[1.0,\"#f0f921\"]]}],\"heatmapgl\":[{\"type\":\"heatmapgl\",\"colorbar\":{\"outlinewidth\":0,\"ticks\":\"\"},\"colorscale\":[[0.0,\"#0d0887\"],[0.1111111111111111,\"#46039f\"],[0.2222222222222222,\"#7201a8\"],[0.3333333333333333,\"#9c179e\"],[0.4444444444444444,\"#bd3786\"],[0.5555555555555556,\"#d8576b\"],[0.6666666666666666,\"#ed7953\"],[0.7777777777777778,\"#fb9f3a\"],[0.8888888888888888,\"#fdca26\"],[1.0,\"#f0f921\"]]}],\"contourcarpet\":[{\"type\":\"contourcarpet\",\"colorbar\":{\"outlinewidth\":0,\"ticks\":\"\"}}],\"contour\":[{\"type\":\"contour\",\"colorbar\":{\"outlinewidth\":0,\"ticks\":\"\"},\"colorscale\":[[0.0,\"#0d0887\"],[0.1111111111111111,\"#46039f\"],[0.2222222222222222,\"#7201a8\"],[0.3333333333333333,\"#9c179e\"],[0.4444444444444444,\"#bd3786\"],[0.5555555555555556,\"#d8576b\"],[0.6666666666666666,\"#ed7953\"],[0.7777777777777778,\"#fb9f3a\"],[0.8888888888888888,\"#fdca26\"],[1.0,\"#f0f921\"]]}],\"surface\":[{\"type\":\"surface\",\"colorbar\":{\"outlinewidth\":0,\"ticks\":\"\"},\"colorscale\":[[0.0,\"#0d0887\"],[0.1111111111111111,\"#46039f\"],[0.2222222222222222,\"#7201a8\"],[0.3333333333333333,\"#9c179e\"],[0.4444444444444444,\"#bd3786\"],[0.5555555555555556,\"#d8576b\"],[0.6666666666666666,\"#ed7953\"],[0.7777777777777778,\"#fb9f3a\"],[0.8888888888888888,\"#fdca26\"],[1.0,\"#f0f921\"]]}],\"mesh3d\":[{\"type\":\"mesh3d\",\"colorbar\":{\"outlinewidth\":0,\"ticks\":\"\"}}],\"scatter\":[{\"fillpattern\":{\"fillmode\":\"overlay\",\"size\":10,\"solidity\":0.2},\"type\":\"scatter\"}],\"parcoords\":[{\"type\":\"parcoords\",\"line\":{\"colorbar\":{\"outlinewidth\":0,\"ticks\":\"\"}}}],\"scatterpolargl\":[{\"type\":\"scatterpolargl\",\"marker\":{\"colorbar\":{\"outlinewidth\":0,\"ticks\":\"\"}}}],\"bar\":[{\"error_x\":{\"color\":\"#2a3f5f\"},\"error_y\":{\"color\":\"#2a3f5f\"},\"marker\":{\"line\":{\"color\":\"#E5ECF6\",\"width\":0.5},\"pattern\":{\"fillmode\":\"overlay\",\"size\":10,\"solidity\":0.2}},\"type\":\"bar\"}],\"scattergeo\":[{\"type\":\"scattergeo\",\"marker\":{\"colorbar\":{\"outlinewidth\":0,\"ticks\":\"\"}}}],\"scatterpolar\":[{\"type\":\"scatterpolar\",\"marker\":{\"colorbar\":{\"outlinewidth\":0,\"ticks\":\"\"}}}],\"histogram\":[{\"marker\":{\"pattern\":{\"fillmode\":\"overlay\",\"size\":10,\"solidity\":0.2}},\"type\":\"histogram\"}],\"scattergl\":[{\"type\":\"scattergl\",\"marker\":{\"colorbar\":{\"outlinewidth\":0,\"ticks\":\"\"}}}],\"scatter3d\":[{\"type\":\"scatter3d\",\"line\":{\"colorbar\":{\"outlinewidth\":0,\"ticks\":\"\"}},\"marker\":{\"colorbar\":{\"outlinewidth\":0,\"ticks\":\"\"}}}],\"scattermapbox\":[{\"type\":\"scattermapbox\",\"marker\":{\"colorbar\":{\"outlinewidth\":0,\"ticks\":\"\"}}}],\"scatterternary\":[{\"type\":\"scatterternary\",\"marker\":{\"colorbar\":{\"outlinewidth\":0,\"ticks\":\"\"}}}],\"scattercarpet\":[{\"type\":\"scattercarpet\",\"marker\":{\"colorbar\":{\"outlinewidth\":0,\"ticks\":\"\"}}}],\"carpet\":[{\"aaxis\":{\"endlinecolor\":\"#2a3f5f\",\"gridcolor\":\"white\",\"linecolor\":\"white\",\"minorgridcolor\":\"white\",\"startlinecolor\":\"#2a3f5f\"},\"baxis\":{\"endlinecolor\":\"#2a3f5f\",\"gridcolor\":\"white\",\"linecolor\":\"white\",\"minorgridcolor\":\"white\",\"startlinecolor\":\"#2a3f5f\"},\"type\":\"carpet\"}],\"table\":[{\"cells\":{\"fill\":{\"color\":\"#EBF0F8\"},\"line\":{\"color\":\"white\"}},\"header\":{\"fill\":{\"color\":\"#C8D4E3\"},\"line\":{\"color\":\"white\"}},\"type\":\"table\"}],\"barpolar\":[{\"marker\":{\"line\":{\"color\":\"#E5ECF6\",\"width\":0.5},\"pattern\":{\"fillmode\":\"overlay\",\"size\":10,\"solidity\":0.2}},\"type\":\"barpolar\"}],\"pie\":[{\"automargin\":true,\"type\":\"pie\"}]},\"layout\":{\"autotypenumbers\":\"strict\",\"colorway\":[\"#636efa\",\"#EF553B\",\"#00cc96\",\"#ab63fa\",\"#FFA15A\",\"#19d3f3\",\"#FF6692\",\"#B6E880\",\"#FF97FF\",\"#FECB52\"],\"font\":{\"color\":\"#2a3f5f\"},\"hovermode\":\"closest\",\"hoverlabel\":{\"align\":\"left\"},\"paper_bgcolor\":\"white\",\"plot_bgcolor\":\"#E5ECF6\",\"polar\":{\"bgcolor\":\"#E5ECF6\",\"angularaxis\":{\"gridcolor\":\"white\",\"linecolor\":\"white\",\"ticks\":\"\"},\"radialaxis\":{\"gridcolor\":\"white\",\"linecolor\":\"white\",\"ticks\":\"\"}},\"ternary\":{\"bgcolor\":\"#E5ECF6\",\"aaxis\":{\"gridcolor\":\"white\",\"linecolor\":\"white\",\"ticks\":\"\"},\"baxis\":{\"gridcolor\":\"white\",\"linecolor\":\"white\",\"ticks\":\"\"},\"caxis\":{\"gridcolor\":\"white\",\"linecolor\":\"white\",\"ticks\":\"\"}},\"coloraxis\":{\"colorbar\":{\"outlinewidth\":0,\"ticks\":\"\"}},\"colorscale\":{\"sequential\":[[0.0,\"#0d0887\"],[0.1111111111111111,\"#46039f\"],[0.2222222222222222,\"#7201a8\"],[0.3333333333333333,\"#9c179e\"],[0.4444444444444444,\"#bd3786\"],[0.5555555555555556,\"#d8576b\"],[0.6666666666666666,\"#ed7953\"],[0.7777777777777778,\"#fb9f3a\"],[0.8888888888888888,\"#fdca26\"],[1.0,\"#f0f921\"]],\"sequentialminus\":[[0.0,\"#0d0887\"],[0.1111111111111111,\"#46039f\"],[0.2222222222222222,\"#7201a8\"],[0.3333333333333333,\"#9c179e\"],[0.4444444444444444,\"#bd3786\"],[0.5555555555555556,\"#d8576b\"],[0.6666666666666666,\"#ed7953\"],[0.7777777777777778,\"#fb9f3a\"],[0.8888888888888888,\"#fdca26\"],[1.0,\"#f0f921\"]],\"diverging\":[[0,\"#8e0152\"],[0.1,\"#c51b7d\"],[0.2,\"#de77ae\"],[0.3,\"#f1b6da\"],[0.4,\"#fde0ef\"],[0.5,\"#f7f7f7\"],[0.6,\"#e6f5d0\"],[0.7,\"#b8e186\"],[0.8,\"#7fbc41\"],[0.9,\"#4d9221\"],[1,\"#276419\"]]},\"xaxis\":{\"gridcolor\":\"white\",\"linecolor\":\"white\",\"ticks\":\"\",\"title\":{\"standoff\":15},\"zerolinecolor\":\"white\",\"automargin\":true,\"zerolinewidth\":2},\"yaxis\":{\"gridcolor\":\"white\",\"linecolor\":\"white\",\"ticks\":\"\",\"title\":{\"standoff\":15},\"zerolinecolor\":\"white\",\"automargin\":true,\"zerolinewidth\":2},\"scene\":{\"xaxis\":{\"backgroundcolor\":\"#E5ECF6\",\"gridcolor\":\"white\",\"linecolor\":\"white\",\"showbackground\":true,\"ticks\":\"\",\"zerolinecolor\":\"white\",\"gridwidth\":2},\"yaxis\":{\"backgroundcolor\":\"#E5ECF6\",\"gridcolor\":\"white\",\"linecolor\":\"white\",\"showbackground\":true,\"ticks\":\"\",\"zerolinecolor\":\"white\",\"gridwidth\":2},\"zaxis\":{\"backgroundcolor\":\"#E5ECF6\",\"gridcolor\":\"white\",\"linecolor\":\"white\",\"showbackground\":true,\"ticks\":\"\",\"zerolinecolor\":\"white\",\"gridwidth\":2}},\"shapedefaults\":{\"line\":{\"color\":\"#2a3f5f\"}},\"annotationdefaults\":{\"arrowcolor\":\"#2a3f5f\",\"arrowhead\":0,\"arrowwidth\":1},\"geo\":{\"bgcolor\":\"white\",\"landcolor\":\"#E5ECF6\",\"subunitcolor\":\"white\",\"showland\":true,\"showlakes\":true,\"lakecolor\":\"white\"},\"title\":{\"x\":0.05},\"mapbox\":{\"style\":\"light\"}}},\"xaxis\":{\"anchor\":\"y\",\"domain\":[0.0,1.0],\"title\":{\"text\":\"index\"}},\"yaxis\":{\"anchor\":\"x\",\"domain\":[0.0,1.0],\"title\":{\"text\":\"score\"}},\"legend\":{\"tracegroupgap\":0},\"margin\":{\"t\":60},\"barmode\":\"relative\"},                        {\"responsive\": true}                    ).then(function(){\n",
       "                            \n",
       "var gd = document.getElementById('8bb19c18-ff9b-4fed-9d0e-eecf8f142fb2');\n",
       "var x = new MutationObserver(function (mutations, observer) {{\n",
       "        var display = window.getComputedStyle(gd).display;\n",
       "        if (!display || display === 'none') {{\n",
       "            console.log([gd, 'removed!']);\n",
       "            Plotly.purge(gd);\n",
       "            observer.disconnect();\n",
       "        }}\n",
       "}});\n",
       "\n",
       "// Listen for the removal of the full notebook cells\n",
       "var notebookContainer = gd.closest('#notebook-container');\n",
       "if (notebookContainer) {{\n",
       "    x.observe(notebookContainer, {childList: true});\n",
       "}}\n",
       "\n",
       "// Listen for the clearing of the current output cell\n",
       "var outputEl = gd.closest('.output');\n",
       "if (outputEl) {{\n",
       "    x.observe(outputEl, {childList: true});\n",
       "}}\n",
       "\n",
       "                        })                };                });            </script>        </div>"
      ]
     },
     "metadata": {},
     "output_type": "display_data"
    }
   ],
   "source": [
    "px.bar(df, x=df.index, y='score')"
   ]
  },
  {
   "cell_type": "code",
   "execution_count": 45,
   "metadata": {},
   "outputs": [
    {
     "data": {
      "application/vnd.plotly.v1+json": {
       "config": {
        "plotlyServerURL": "https://plot.ly"
       },
       "data": [
        {
         "alignmentgroup": "True",
         "hovertemplate": "index=%{x}<br>rsme=%{y}<extra></extra>",
         "legendgroup": "",
         "marker": {
          "color": "#636efa",
          "pattern": {
           "shape": ""
          }
         },
         "name": "",
         "offsetgroup": "",
         "orientation": "v",
         "showlegend": false,
         "textposition": "auto",
         "type": "bar",
         "x": [
          "CatBoostRegressor",
          "XGBRegressor",
          "SVR",
          "GradientBoostingRegressor",
          "RandomForestRegressor",
          "KernelRidge",
          "AdaBoostRegressor"
         ],
         "xaxis": "x",
         "y": [
          3.1200250070872757,
          2.435781057275631,
          4.692356861702321,
          2.709836110243189,
          2.2925832791496252,
          4.710321628229638,
          2.6789564461574793
         ],
         "yaxis": "y"
        }
       ],
       "layout": {
        "barmode": "relative",
        "legend": {
         "tracegroupgap": 0
        },
        "margin": {
         "t": 60
        },
        "template": {
         "data": {
          "bar": [
           {
            "error_x": {
             "color": "#2a3f5f"
            },
            "error_y": {
             "color": "#2a3f5f"
            },
            "marker": {
             "line": {
              "color": "#E5ECF6",
              "width": 0.5
             },
             "pattern": {
              "fillmode": "overlay",
              "size": 10,
              "solidity": 0.2
             }
            },
            "type": "bar"
           }
          ],
          "barpolar": [
           {
            "marker": {
             "line": {
              "color": "#E5ECF6",
              "width": 0.5
             },
             "pattern": {
              "fillmode": "overlay",
              "size": 10,
              "solidity": 0.2
             }
            },
            "type": "barpolar"
           }
          ],
          "carpet": [
           {
            "aaxis": {
             "endlinecolor": "#2a3f5f",
             "gridcolor": "white",
             "linecolor": "white",
             "minorgridcolor": "white",
             "startlinecolor": "#2a3f5f"
            },
            "baxis": {
             "endlinecolor": "#2a3f5f",
             "gridcolor": "white",
             "linecolor": "white",
             "minorgridcolor": "white",
             "startlinecolor": "#2a3f5f"
            },
            "type": "carpet"
           }
          ],
          "choropleth": [
           {
            "colorbar": {
             "outlinewidth": 0,
             "ticks": ""
            },
            "type": "choropleth"
           }
          ],
          "contour": [
           {
            "colorbar": {
             "outlinewidth": 0,
             "ticks": ""
            },
            "colorscale": [
             [
              0,
              "#0d0887"
             ],
             [
              0.1111111111111111,
              "#46039f"
             ],
             [
              0.2222222222222222,
              "#7201a8"
             ],
             [
              0.3333333333333333,
              "#9c179e"
             ],
             [
              0.4444444444444444,
              "#bd3786"
             ],
             [
              0.5555555555555556,
              "#d8576b"
             ],
             [
              0.6666666666666666,
              "#ed7953"
             ],
             [
              0.7777777777777778,
              "#fb9f3a"
             ],
             [
              0.8888888888888888,
              "#fdca26"
             ],
             [
              1,
              "#f0f921"
             ]
            ],
            "type": "contour"
           }
          ],
          "contourcarpet": [
           {
            "colorbar": {
             "outlinewidth": 0,
             "ticks": ""
            },
            "type": "contourcarpet"
           }
          ],
          "heatmap": [
           {
            "colorbar": {
             "outlinewidth": 0,
             "ticks": ""
            },
            "colorscale": [
             [
              0,
              "#0d0887"
             ],
             [
              0.1111111111111111,
              "#46039f"
             ],
             [
              0.2222222222222222,
              "#7201a8"
             ],
             [
              0.3333333333333333,
              "#9c179e"
             ],
             [
              0.4444444444444444,
              "#bd3786"
             ],
             [
              0.5555555555555556,
              "#d8576b"
             ],
             [
              0.6666666666666666,
              "#ed7953"
             ],
             [
              0.7777777777777778,
              "#fb9f3a"
             ],
             [
              0.8888888888888888,
              "#fdca26"
             ],
             [
              1,
              "#f0f921"
             ]
            ],
            "type": "heatmap"
           }
          ],
          "heatmapgl": [
           {
            "colorbar": {
             "outlinewidth": 0,
             "ticks": ""
            },
            "colorscale": [
             [
              0,
              "#0d0887"
             ],
             [
              0.1111111111111111,
              "#46039f"
             ],
             [
              0.2222222222222222,
              "#7201a8"
             ],
             [
              0.3333333333333333,
              "#9c179e"
             ],
             [
              0.4444444444444444,
              "#bd3786"
             ],
             [
              0.5555555555555556,
              "#d8576b"
             ],
             [
              0.6666666666666666,
              "#ed7953"
             ],
             [
              0.7777777777777778,
              "#fb9f3a"
             ],
             [
              0.8888888888888888,
              "#fdca26"
             ],
             [
              1,
              "#f0f921"
             ]
            ],
            "type": "heatmapgl"
           }
          ],
          "histogram": [
           {
            "marker": {
             "pattern": {
              "fillmode": "overlay",
              "size": 10,
              "solidity": 0.2
             }
            },
            "type": "histogram"
           }
          ],
          "histogram2d": [
           {
            "colorbar": {
             "outlinewidth": 0,
             "ticks": ""
            },
            "colorscale": [
             [
              0,
              "#0d0887"
             ],
             [
              0.1111111111111111,
              "#46039f"
             ],
             [
              0.2222222222222222,
              "#7201a8"
             ],
             [
              0.3333333333333333,
              "#9c179e"
             ],
             [
              0.4444444444444444,
              "#bd3786"
             ],
             [
              0.5555555555555556,
              "#d8576b"
             ],
             [
              0.6666666666666666,
              "#ed7953"
             ],
             [
              0.7777777777777778,
              "#fb9f3a"
             ],
             [
              0.8888888888888888,
              "#fdca26"
             ],
             [
              1,
              "#f0f921"
             ]
            ],
            "type": "histogram2d"
           }
          ],
          "histogram2dcontour": [
           {
            "colorbar": {
             "outlinewidth": 0,
             "ticks": ""
            },
            "colorscale": [
             [
              0,
              "#0d0887"
             ],
             [
              0.1111111111111111,
              "#46039f"
             ],
             [
              0.2222222222222222,
              "#7201a8"
             ],
             [
              0.3333333333333333,
              "#9c179e"
             ],
             [
              0.4444444444444444,
              "#bd3786"
             ],
             [
              0.5555555555555556,
              "#d8576b"
             ],
             [
              0.6666666666666666,
              "#ed7953"
             ],
             [
              0.7777777777777778,
              "#fb9f3a"
             ],
             [
              0.8888888888888888,
              "#fdca26"
             ],
             [
              1,
              "#f0f921"
             ]
            ],
            "type": "histogram2dcontour"
           }
          ],
          "mesh3d": [
           {
            "colorbar": {
             "outlinewidth": 0,
             "ticks": ""
            },
            "type": "mesh3d"
           }
          ],
          "parcoords": [
           {
            "line": {
             "colorbar": {
              "outlinewidth": 0,
              "ticks": ""
             }
            },
            "type": "parcoords"
           }
          ],
          "pie": [
           {
            "automargin": true,
            "type": "pie"
           }
          ],
          "scatter": [
           {
            "fillpattern": {
             "fillmode": "overlay",
             "size": 10,
             "solidity": 0.2
            },
            "type": "scatter"
           }
          ],
          "scatter3d": [
           {
            "line": {
             "colorbar": {
              "outlinewidth": 0,
              "ticks": ""
             }
            },
            "marker": {
             "colorbar": {
              "outlinewidth": 0,
              "ticks": ""
             }
            },
            "type": "scatter3d"
           }
          ],
          "scattercarpet": [
           {
            "marker": {
             "colorbar": {
              "outlinewidth": 0,
              "ticks": ""
             }
            },
            "type": "scattercarpet"
           }
          ],
          "scattergeo": [
           {
            "marker": {
             "colorbar": {
              "outlinewidth": 0,
              "ticks": ""
             }
            },
            "type": "scattergeo"
           }
          ],
          "scattergl": [
           {
            "marker": {
             "colorbar": {
              "outlinewidth": 0,
              "ticks": ""
             }
            },
            "type": "scattergl"
           }
          ],
          "scattermapbox": [
           {
            "marker": {
             "colorbar": {
              "outlinewidth": 0,
              "ticks": ""
             }
            },
            "type": "scattermapbox"
           }
          ],
          "scatterpolar": [
           {
            "marker": {
             "colorbar": {
              "outlinewidth": 0,
              "ticks": ""
             }
            },
            "type": "scatterpolar"
           }
          ],
          "scatterpolargl": [
           {
            "marker": {
             "colorbar": {
              "outlinewidth": 0,
              "ticks": ""
             }
            },
            "type": "scatterpolargl"
           }
          ],
          "scatterternary": [
           {
            "marker": {
             "colorbar": {
              "outlinewidth": 0,
              "ticks": ""
             }
            },
            "type": "scatterternary"
           }
          ],
          "surface": [
           {
            "colorbar": {
             "outlinewidth": 0,
             "ticks": ""
            },
            "colorscale": [
             [
              0,
              "#0d0887"
             ],
             [
              0.1111111111111111,
              "#46039f"
             ],
             [
              0.2222222222222222,
              "#7201a8"
             ],
             [
              0.3333333333333333,
              "#9c179e"
             ],
             [
              0.4444444444444444,
              "#bd3786"
             ],
             [
              0.5555555555555556,
              "#d8576b"
             ],
             [
              0.6666666666666666,
              "#ed7953"
             ],
             [
              0.7777777777777778,
              "#fb9f3a"
             ],
             [
              0.8888888888888888,
              "#fdca26"
             ],
             [
              1,
              "#f0f921"
             ]
            ],
            "type": "surface"
           }
          ],
          "table": [
           {
            "cells": {
             "fill": {
              "color": "#EBF0F8"
             },
             "line": {
              "color": "white"
             }
            },
            "header": {
             "fill": {
              "color": "#C8D4E3"
             },
             "line": {
              "color": "white"
             }
            },
            "type": "table"
           }
          ]
         },
         "layout": {
          "annotationdefaults": {
           "arrowcolor": "#2a3f5f",
           "arrowhead": 0,
           "arrowwidth": 1
          },
          "autotypenumbers": "strict",
          "coloraxis": {
           "colorbar": {
            "outlinewidth": 0,
            "ticks": ""
           }
          },
          "colorscale": {
           "diverging": [
            [
             0,
             "#8e0152"
            ],
            [
             0.1,
             "#c51b7d"
            ],
            [
             0.2,
             "#de77ae"
            ],
            [
             0.3,
             "#f1b6da"
            ],
            [
             0.4,
             "#fde0ef"
            ],
            [
             0.5,
             "#f7f7f7"
            ],
            [
             0.6,
             "#e6f5d0"
            ],
            [
             0.7,
             "#b8e186"
            ],
            [
             0.8,
             "#7fbc41"
            ],
            [
             0.9,
             "#4d9221"
            ],
            [
             1,
             "#276419"
            ]
           ],
           "sequential": [
            [
             0,
             "#0d0887"
            ],
            [
             0.1111111111111111,
             "#46039f"
            ],
            [
             0.2222222222222222,
             "#7201a8"
            ],
            [
             0.3333333333333333,
             "#9c179e"
            ],
            [
             0.4444444444444444,
             "#bd3786"
            ],
            [
             0.5555555555555556,
             "#d8576b"
            ],
            [
             0.6666666666666666,
             "#ed7953"
            ],
            [
             0.7777777777777778,
             "#fb9f3a"
            ],
            [
             0.8888888888888888,
             "#fdca26"
            ],
            [
             1,
             "#f0f921"
            ]
           ],
           "sequentialminus": [
            [
             0,
             "#0d0887"
            ],
            [
             0.1111111111111111,
             "#46039f"
            ],
            [
             0.2222222222222222,
             "#7201a8"
            ],
            [
             0.3333333333333333,
             "#9c179e"
            ],
            [
             0.4444444444444444,
             "#bd3786"
            ],
            [
             0.5555555555555556,
             "#d8576b"
            ],
            [
             0.6666666666666666,
             "#ed7953"
            ],
            [
             0.7777777777777778,
             "#fb9f3a"
            ],
            [
             0.8888888888888888,
             "#fdca26"
            ],
            [
             1,
             "#f0f921"
            ]
           ]
          },
          "colorway": [
           "#636efa",
           "#EF553B",
           "#00cc96",
           "#ab63fa",
           "#FFA15A",
           "#19d3f3",
           "#FF6692",
           "#B6E880",
           "#FF97FF",
           "#FECB52"
          ],
          "font": {
           "color": "#2a3f5f"
          },
          "geo": {
           "bgcolor": "white",
           "lakecolor": "white",
           "landcolor": "#E5ECF6",
           "showlakes": true,
           "showland": true,
           "subunitcolor": "white"
          },
          "hoverlabel": {
           "align": "left"
          },
          "hovermode": "closest",
          "mapbox": {
           "style": "light"
          },
          "paper_bgcolor": "white",
          "plot_bgcolor": "#E5ECF6",
          "polar": {
           "angularaxis": {
            "gridcolor": "white",
            "linecolor": "white",
            "ticks": ""
           },
           "bgcolor": "#E5ECF6",
           "radialaxis": {
            "gridcolor": "white",
            "linecolor": "white",
            "ticks": ""
           }
          },
          "scene": {
           "xaxis": {
            "backgroundcolor": "#E5ECF6",
            "gridcolor": "white",
            "gridwidth": 2,
            "linecolor": "white",
            "showbackground": true,
            "ticks": "",
            "zerolinecolor": "white"
           },
           "yaxis": {
            "backgroundcolor": "#E5ECF6",
            "gridcolor": "white",
            "gridwidth": 2,
            "linecolor": "white",
            "showbackground": true,
            "ticks": "",
            "zerolinecolor": "white"
           },
           "zaxis": {
            "backgroundcolor": "#E5ECF6",
            "gridcolor": "white",
            "gridwidth": 2,
            "linecolor": "white",
            "showbackground": true,
            "ticks": "",
            "zerolinecolor": "white"
           }
          },
          "shapedefaults": {
           "line": {
            "color": "#2a3f5f"
           }
          },
          "ternary": {
           "aaxis": {
            "gridcolor": "white",
            "linecolor": "white",
            "ticks": ""
           },
           "baxis": {
            "gridcolor": "white",
            "linecolor": "white",
            "ticks": ""
           },
           "bgcolor": "#E5ECF6",
           "caxis": {
            "gridcolor": "white",
            "linecolor": "white",
            "ticks": ""
           }
          },
          "title": {
           "x": 0.05
          },
          "xaxis": {
           "automargin": true,
           "gridcolor": "white",
           "linecolor": "white",
           "ticks": "",
           "title": {
            "standoff": 15
           },
           "zerolinecolor": "white",
           "zerolinewidth": 2
          },
          "yaxis": {
           "automargin": true,
           "gridcolor": "white",
           "linecolor": "white",
           "ticks": "",
           "title": {
            "standoff": 15
           },
           "zerolinecolor": "white",
           "zerolinewidth": 2
          }
         }
        },
        "xaxis": {
         "anchor": "y",
         "domain": [
          0,
          1
         ],
         "title": {
          "text": "index"
         }
        },
        "yaxis": {
         "anchor": "x",
         "domain": [
          0,
          1
         ],
         "title": {
          "text": "rsme"
         }
        }
       }
      },
      "text/html": [
       "<div>                            <div id=\"31db1ce9-a825-47c3-9403-f37e59973d1c\" class=\"plotly-graph-div\" style=\"height:525px; width:100%;\"></div>            <script type=\"text/javascript\">                require([\"plotly\"], function(Plotly) {                    window.PLOTLYENV=window.PLOTLYENV || {};                                    if (document.getElementById(\"31db1ce9-a825-47c3-9403-f37e59973d1c\")) {                    Plotly.newPlot(                        \"31db1ce9-a825-47c3-9403-f37e59973d1c\",                        [{\"alignmentgroup\":\"True\",\"hovertemplate\":\"index=%{x}\\u003cbr\\u003ersme=%{y}\\u003cextra\\u003e\\u003c\\u002fextra\\u003e\",\"legendgroup\":\"\",\"marker\":{\"color\":\"#636efa\",\"pattern\":{\"shape\":\"\"}},\"name\":\"\",\"offsetgroup\":\"\",\"orientation\":\"v\",\"showlegend\":false,\"textposition\":\"auto\",\"x\":[\"CatBoostRegressor\",\"XGBRegressor\",\"SVR\",\"GradientBoostingRegressor\",\"RandomForestRegressor\",\"KernelRidge\",\"AdaBoostRegressor\"],\"xaxis\":\"x\",\"y\":[3.1200250070872757,2.435781057275631,4.692356861702321,2.709836110243189,2.2925832791496252,4.710321628229638,2.6789564461574793],\"yaxis\":\"y\",\"type\":\"bar\"}],                        {\"template\":{\"data\":{\"histogram2dcontour\":[{\"type\":\"histogram2dcontour\",\"colorbar\":{\"outlinewidth\":0,\"ticks\":\"\"},\"colorscale\":[[0.0,\"#0d0887\"],[0.1111111111111111,\"#46039f\"],[0.2222222222222222,\"#7201a8\"],[0.3333333333333333,\"#9c179e\"],[0.4444444444444444,\"#bd3786\"],[0.5555555555555556,\"#d8576b\"],[0.6666666666666666,\"#ed7953\"],[0.7777777777777778,\"#fb9f3a\"],[0.8888888888888888,\"#fdca26\"],[1.0,\"#f0f921\"]]}],\"choropleth\":[{\"type\":\"choropleth\",\"colorbar\":{\"outlinewidth\":0,\"ticks\":\"\"}}],\"histogram2d\":[{\"type\":\"histogram2d\",\"colorbar\":{\"outlinewidth\":0,\"ticks\":\"\"},\"colorscale\":[[0.0,\"#0d0887\"],[0.1111111111111111,\"#46039f\"],[0.2222222222222222,\"#7201a8\"],[0.3333333333333333,\"#9c179e\"],[0.4444444444444444,\"#bd3786\"],[0.5555555555555556,\"#d8576b\"],[0.6666666666666666,\"#ed7953\"],[0.7777777777777778,\"#fb9f3a\"],[0.8888888888888888,\"#fdca26\"],[1.0,\"#f0f921\"]]}],\"heatmap\":[{\"type\":\"heatmap\",\"colorbar\":{\"outlinewidth\":0,\"ticks\":\"\"},\"colorscale\":[[0.0,\"#0d0887\"],[0.1111111111111111,\"#46039f\"],[0.2222222222222222,\"#7201a8\"],[0.3333333333333333,\"#9c179e\"],[0.4444444444444444,\"#bd3786\"],[0.5555555555555556,\"#d8576b\"],[0.6666666666666666,\"#ed7953\"],[0.7777777777777778,\"#fb9f3a\"],[0.8888888888888888,\"#fdca26\"],[1.0,\"#f0f921\"]]}],\"heatmapgl\":[{\"type\":\"heatmapgl\",\"colorbar\":{\"outlinewidth\":0,\"ticks\":\"\"},\"colorscale\":[[0.0,\"#0d0887\"],[0.1111111111111111,\"#46039f\"],[0.2222222222222222,\"#7201a8\"],[0.3333333333333333,\"#9c179e\"],[0.4444444444444444,\"#bd3786\"],[0.5555555555555556,\"#d8576b\"],[0.6666666666666666,\"#ed7953\"],[0.7777777777777778,\"#fb9f3a\"],[0.8888888888888888,\"#fdca26\"],[1.0,\"#f0f921\"]]}],\"contourcarpet\":[{\"type\":\"contourcarpet\",\"colorbar\":{\"outlinewidth\":0,\"ticks\":\"\"}}],\"contour\":[{\"type\":\"contour\",\"colorbar\":{\"outlinewidth\":0,\"ticks\":\"\"},\"colorscale\":[[0.0,\"#0d0887\"],[0.1111111111111111,\"#46039f\"],[0.2222222222222222,\"#7201a8\"],[0.3333333333333333,\"#9c179e\"],[0.4444444444444444,\"#bd3786\"],[0.5555555555555556,\"#d8576b\"],[0.6666666666666666,\"#ed7953\"],[0.7777777777777778,\"#fb9f3a\"],[0.8888888888888888,\"#fdca26\"],[1.0,\"#f0f921\"]]}],\"surface\":[{\"type\":\"surface\",\"colorbar\":{\"outlinewidth\":0,\"ticks\":\"\"},\"colorscale\":[[0.0,\"#0d0887\"],[0.1111111111111111,\"#46039f\"],[0.2222222222222222,\"#7201a8\"],[0.3333333333333333,\"#9c179e\"],[0.4444444444444444,\"#bd3786\"],[0.5555555555555556,\"#d8576b\"],[0.6666666666666666,\"#ed7953\"],[0.7777777777777778,\"#fb9f3a\"],[0.8888888888888888,\"#fdca26\"],[1.0,\"#f0f921\"]]}],\"mesh3d\":[{\"type\":\"mesh3d\",\"colorbar\":{\"outlinewidth\":0,\"ticks\":\"\"}}],\"scatter\":[{\"fillpattern\":{\"fillmode\":\"overlay\",\"size\":10,\"solidity\":0.2},\"type\":\"scatter\"}],\"parcoords\":[{\"type\":\"parcoords\",\"line\":{\"colorbar\":{\"outlinewidth\":0,\"ticks\":\"\"}}}],\"scatterpolargl\":[{\"type\":\"scatterpolargl\",\"marker\":{\"colorbar\":{\"outlinewidth\":0,\"ticks\":\"\"}}}],\"bar\":[{\"error_x\":{\"color\":\"#2a3f5f\"},\"error_y\":{\"color\":\"#2a3f5f\"},\"marker\":{\"line\":{\"color\":\"#E5ECF6\",\"width\":0.5},\"pattern\":{\"fillmode\":\"overlay\",\"size\":10,\"solidity\":0.2}},\"type\":\"bar\"}],\"scattergeo\":[{\"type\":\"scattergeo\",\"marker\":{\"colorbar\":{\"outlinewidth\":0,\"ticks\":\"\"}}}],\"scatterpolar\":[{\"type\":\"scatterpolar\",\"marker\":{\"colorbar\":{\"outlinewidth\":0,\"ticks\":\"\"}}}],\"histogram\":[{\"marker\":{\"pattern\":{\"fillmode\":\"overlay\",\"size\":10,\"solidity\":0.2}},\"type\":\"histogram\"}],\"scattergl\":[{\"type\":\"scattergl\",\"marker\":{\"colorbar\":{\"outlinewidth\":0,\"ticks\":\"\"}}}],\"scatter3d\":[{\"type\":\"scatter3d\",\"line\":{\"colorbar\":{\"outlinewidth\":0,\"ticks\":\"\"}},\"marker\":{\"colorbar\":{\"outlinewidth\":0,\"ticks\":\"\"}}}],\"scattermapbox\":[{\"type\":\"scattermapbox\",\"marker\":{\"colorbar\":{\"outlinewidth\":0,\"ticks\":\"\"}}}],\"scatterternary\":[{\"type\":\"scatterternary\",\"marker\":{\"colorbar\":{\"outlinewidth\":0,\"ticks\":\"\"}}}],\"scattercarpet\":[{\"type\":\"scattercarpet\",\"marker\":{\"colorbar\":{\"outlinewidth\":0,\"ticks\":\"\"}}}],\"carpet\":[{\"aaxis\":{\"endlinecolor\":\"#2a3f5f\",\"gridcolor\":\"white\",\"linecolor\":\"white\",\"minorgridcolor\":\"white\",\"startlinecolor\":\"#2a3f5f\"},\"baxis\":{\"endlinecolor\":\"#2a3f5f\",\"gridcolor\":\"white\",\"linecolor\":\"white\",\"minorgridcolor\":\"white\",\"startlinecolor\":\"#2a3f5f\"},\"type\":\"carpet\"}],\"table\":[{\"cells\":{\"fill\":{\"color\":\"#EBF0F8\"},\"line\":{\"color\":\"white\"}},\"header\":{\"fill\":{\"color\":\"#C8D4E3\"},\"line\":{\"color\":\"white\"}},\"type\":\"table\"}],\"barpolar\":[{\"marker\":{\"line\":{\"color\":\"#E5ECF6\",\"width\":0.5},\"pattern\":{\"fillmode\":\"overlay\",\"size\":10,\"solidity\":0.2}},\"type\":\"barpolar\"}],\"pie\":[{\"automargin\":true,\"type\":\"pie\"}]},\"layout\":{\"autotypenumbers\":\"strict\",\"colorway\":[\"#636efa\",\"#EF553B\",\"#00cc96\",\"#ab63fa\",\"#FFA15A\",\"#19d3f3\",\"#FF6692\",\"#B6E880\",\"#FF97FF\",\"#FECB52\"],\"font\":{\"color\":\"#2a3f5f\"},\"hovermode\":\"closest\",\"hoverlabel\":{\"align\":\"left\"},\"paper_bgcolor\":\"white\",\"plot_bgcolor\":\"#E5ECF6\",\"polar\":{\"bgcolor\":\"#E5ECF6\",\"angularaxis\":{\"gridcolor\":\"white\",\"linecolor\":\"white\",\"ticks\":\"\"},\"radialaxis\":{\"gridcolor\":\"white\",\"linecolor\":\"white\",\"ticks\":\"\"}},\"ternary\":{\"bgcolor\":\"#E5ECF6\",\"aaxis\":{\"gridcolor\":\"white\",\"linecolor\":\"white\",\"ticks\":\"\"},\"baxis\":{\"gridcolor\":\"white\",\"linecolor\":\"white\",\"ticks\":\"\"},\"caxis\":{\"gridcolor\":\"white\",\"linecolor\":\"white\",\"ticks\":\"\"}},\"coloraxis\":{\"colorbar\":{\"outlinewidth\":0,\"ticks\":\"\"}},\"colorscale\":{\"sequential\":[[0.0,\"#0d0887\"],[0.1111111111111111,\"#46039f\"],[0.2222222222222222,\"#7201a8\"],[0.3333333333333333,\"#9c179e\"],[0.4444444444444444,\"#bd3786\"],[0.5555555555555556,\"#d8576b\"],[0.6666666666666666,\"#ed7953\"],[0.7777777777777778,\"#fb9f3a\"],[0.8888888888888888,\"#fdca26\"],[1.0,\"#f0f921\"]],\"sequentialminus\":[[0.0,\"#0d0887\"],[0.1111111111111111,\"#46039f\"],[0.2222222222222222,\"#7201a8\"],[0.3333333333333333,\"#9c179e\"],[0.4444444444444444,\"#bd3786\"],[0.5555555555555556,\"#d8576b\"],[0.6666666666666666,\"#ed7953\"],[0.7777777777777778,\"#fb9f3a\"],[0.8888888888888888,\"#fdca26\"],[1.0,\"#f0f921\"]],\"diverging\":[[0,\"#8e0152\"],[0.1,\"#c51b7d\"],[0.2,\"#de77ae\"],[0.3,\"#f1b6da\"],[0.4,\"#fde0ef\"],[0.5,\"#f7f7f7\"],[0.6,\"#e6f5d0\"],[0.7,\"#b8e186\"],[0.8,\"#7fbc41\"],[0.9,\"#4d9221\"],[1,\"#276419\"]]},\"xaxis\":{\"gridcolor\":\"white\",\"linecolor\":\"white\",\"ticks\":\"\",\"title\":{\"standoff\":15},\"zerolinecolor\":\"white\",\"automargin\":true,\"zerolinewidth\":2},\"yaxis\":{\"gridcolor\":\"white\",\"linecolor\":\"white\",\"ticks\":\"\",\"title\":{\"standoff\":15},\"zerolinecolor\":\"white\",\"automargin\":true,\"zerolinewidth\":2},\"scene\":{\"xaxis\":{\"backgroundcolor\":\"#E5ECF6\",\"gridcolor\":\"white\",\"linecolor\":\"white\",\"showbackground\":true,\"ticks\":\"\",\"zerolinecolor\":\"white\",\"gridwidth\":2},\"yaxis\":{\"backgroundcolor\":\"#E5ECF6\",\"gridcolor\":\"white\",\"linecolor\":\"white\",\"showbackground\":true,\"ticks\":\"\",\"zerolinecolor\":\"white\",\"gridwidth\":2},\"zaxis\":{\"backgroundcolor\":\"#E5ECF6\",\"gridcolor\":\"white\",\"linecolor\":\"white\",\"showbackground\":true,\"ticks\":\"\",\"zerolinecolor\":\"white\",\"gridwidth\":2}},\"shapedefaults\":{\"line\":{\"color\":\"#2a3f5f\"}},\"annotationdefaults\":{\"arrowcolor\":\"#2a3f5f\",\"arrowhead\":0,\"arrowwidth\":1},\"geo\":{\"bgcolor\":\"white\",\"landcolor\":\"#E5ECF6\",\"subunitcolor\":\"white\",\"showland\":true,\"showlakes\":true,\"lakecolor\":\"white\"},\"title\":{\"x\":0.05},\"mapbox\":{\"style\":\"light\"}}},\"xaxis\":{\"anchor\":\"y\",\"domain\":[0.0,1.0],\"title\":{\"text\":\"index\"}},\"yaxis\":{\"anchor\":\"x\",\"domain\":[0.0,1.0],\"title\":{\"text\":\"rsme\"}},\"legend\":{\"tracegroupgap\":0},\"margin\":{\"t\":60},\"barmode\":\"relative\"},                        {\"responsive\": true}                    ).then(function(){\n",
       "                            \n",
       "var gd = document.getElementById('31db1ce9-a825-47c3-9403-f37e59973d1c');\n",
       "var x = new MutationObserver(function (mutations, observer) {{\n",
       "        var display = window.getComputedStyle(gd).display;\n",
       "        if (!display || display === 'none') {{\n",
       "            console.log([gd, 'removed!']);\n",
       "            Plotly.purge(gd);\n",
       "            observer.disconnect();\n",
       "        }}\n",
       "}});\n",
       "\n",
       "// Listen for the removal of the full notebook cells\n",
       "var notebookContainer = gd.closest('#notebook-container');\n",
       "if (notebookContainer) {{\n",
       "    x.observe(notebookContainer, {childList: true});\n",
       "}}\n",
       "\n",
       "// Listen for the clearing of the current output cell\n",
       "var outputEl = gd.closest('.output');\n",
       "if (outputEl) {{\n",
       "    x.observe(outputEl, {childList: true});\n",
       "}}\n",
       "\n",
       "                        })                };                });            </script>        </div>"
      ]
     },
     "metadata": {},
     "output_type": "display_data"
    }
   ],
   "source": [
    "px.bar(df, x=df.index, y='rsme')"
   ]
  },
  {
   "cell_type": "code",
   "execution_count": 46,
   "metadata": {},
   "outputs": [
    {
     "data": {
      "application/vnd.plotly.v1+json": {
       "config": {
        "plotlyServerURL": "https://plot.ly"
       },
       "data": [
        {
         "alignmentgroup": "True",
         "hovertemplate": "index=%{x}<br>r_squared=%{y}<extra></extra>",
         "legendgroup": "",
         "marker": {
          "color": "#636efa",
          "pattern": {
           "shape": ""
          }
         },
         "name": "",
         "offsetgroup": "",
         "orientation": "v",
         "showlegend": false,
         "textposition": "auto",
         "type": "bar",
         "x": [
          "CatBoostRegressor",
          "XGBRegressor",
          "SVR",
          "GradientBoostingRegressor",
          "RandomForestRegressor",
          "KernelRidge",
          "AdaBoostRegressor"
         ],
         "xaxis": "x",
         "y": [
          0.7804124663651468,
          0.8661655161345073,
          0.503323516004303,
          0.8343552855952258,
          0.8814390222618897,
          0.4995131675388772,
          0.8381089510535136
         ],
         "yaxis": "y"
        }
       ],
       "layout": {
        "barmode": "relative",
        "legend": {
         "tracegroupgap": 0
        },
        "margin": {
         "t": 60
        },
        "template": {
         "data": {
          "bar": [
           {
            "error_x": {
             "color": "#2a3f5f"
            },
            "error_y": {
             "color": "#2a3f5f"
            },
            "marker": {
             "line": {
              "color": "#E5ECF6",
              "width": 0.5
             },
             "pattern": {
              "fillmode": "overlay",
              "size": 10,
              "solidity": 0.2
             }
            },
            "type": "bar"
           }
          ],
          "barpolar": [
           {
            "marker": {
             "line": {
              "color": "#E5ECF6",
              "width": 0.5
             },
             "pattern": {
              "fillmode": "overlay",
              "size": 10,
              "solidity": 0.2
             }
            },
            "type": "barpolar"
           }
          ],
          "carpet": [
           {
            "aaxis": {
             "endlinecolor": "#2a3f5f",
             "gridcolor": "white",
             "linecolor": "white",
             "minorgridcolor": "white",
             "startlinecolor": "#2a3f5f"
            },
            "baxis": {
             "endlinecolor": "#2a3f5f",
             "gridcolor": "white",
             "linecolor": "white",
             "minorgridcolor": "white",
             "startlinecolor": "#2a3f5f"
            },
            "type": "carpet"
           }
          ],
          "choropleth": [
           {
            "colorbar": {
             "outlinewidth": 0,
             "ticks": ""
            },
            "type": "choropleth"
           }
          ],
          "contour": [
           {
            "colorbar": {
             "outlinewidth": 0,
             "ticks": ""
            },
            "colorscale": [
             [
              0,
              "#0d0887"
             ],
             [
              0.1111111111111111,
              "#46039f"
             ],
             [
              0.2222222222222222,
              "#7201a8"
             ],
             [
              0.3333333333333333,
              "#9c179e"
             ],
             [
              0.4444444444444444,
              "#bd3786"
             ],
             [
              0.5555555555555556,
              "#d8576b"
             ],
             [
              0.6666666666666666,
              "#ed7953"
             ],
             [
              0.7777777777777778,
              "#fb9f3a"
             ],
             [
              0.8888888888888888,
              "#fdca26"
             ],
             [
              1,
              "#f0f921"
             ]
            ],
            "type": "contour"
           }
          ],
          "contourcarpet": [
           {
            "colorbar": {
             "outlinewidth": 0,
             "ticks": ""
            },
            "type": "contourcarpet"
           }
          ],
          "heatmap": [
           {
            "colorbar": {
             "outlinewidth": 0,
             "ticks": ""
            },
            "colorscale": [
             [
              0,
              "#0d0887"
             ],
             [
              0.1111111111111111,
              "#46039f"
             ],
             [
              0.2222222222222222,
              "#7201a8"
             ],
             [
              0.3333333333333333,
              "#9c179e"
             ],
             [
              0.4444444444444444,
              "#bd3786"
             ],
             [
              0.5555555555555556,
              "#d8576b"
             ],
             [
              0.6666666666666666,
              "#ed7953"
             ],
             [
              0.7777777777777778,
              "#fb9f3a"
             ],
             [
              0.8888888888888888,
              "#fdca26"
             ],
             [
              1,
              "#f0f921"
             ]
            ],
            "type": "heatmap"
           }
          ],
          "heatmapgl": [
           {
            "colorbar": {
             "outlinewidth": 0,
             "ticks": ""
            },
            "colorscale": [
             [
              0,
              "#0d0887"
             ],
             [
              0.1111111111111111,
              "#46039f"
             ],
             [
              0.2222222222222222,
              "#7201a8"
             ],
             [
              0.3333333333333333,
              "#9c179e"
             ],
             [
              0.4444444444444444,
              "#bd3786"
             ],
             [
              0.5555555555555556,
              "#d8576b"
             ],
             [
              0.6666666666666666,
              "#ed7953"
             ],
             [
              0.7777777777777778,
              "#fb9f3a"
             ],
             [
              0.8888888888888888,
              "#fdca26"
             ],
             [
              1,
              "#f0f921"
             ]
            ],
            "type": "heatmapgl"
           }
          ],
          "histogram": [
           {
            "marker": {
             "pattern": {
              "fillmode": "overlay",
              "size": 10,
              "solidity": 0.2
             }
            },
            "type": "histogram"
           }
          ],
          "histogram2d": [
           {
            "colorbar": {
             "outlinewidth": 0,
             "ticks": ""
            },
            "colorscale": [
             [
              0,
              "#0d0887"
             ],
             [
              0.1111111111111111,
              "#46039f"
             ],
             [
              0.2222222222222222,
              "#7201a8"
             ],
             [
              0.3333333333333333,
              "#9c179e"
             ],
             [
              0.4444444444444444,
              "#bd3786"
             ],
             [
              0.5555555555555556,
              "#d8576b"
             ],
             [
              0.6666666666666666,
              "#ed7953"
             ],
             [
              0.7777777777777778,
              "#fb9f3a"
             ],
             [
              0.8888888888888888,
              "#fdca26"
             ],
             [
              1,
              "#f0f921"
             ]
            ],
            "type": "histogram2d"
           }
          ],
          "histogram2dcontour": [
           {
            "colorbar": {
             "outlinewidth": 0,
             "ticks": ""
            },
            "colorscale": [
             [
              0,
              "#0d0887"
             ],
             [
              0.1111111111111111,
              "#46039f"
             ],
             [
              0.2222222222222222,
              "#7201a8"
             ],
             [
              0.3333333333333333,
              "#9c179e"
             ],
             [
              0.4444444444444444,
              "#bd3786"
             ],
             [
              0.5555555555555556,
              "#d8576b"
             ],
             [
              0.6666666666666666,
              "#ed7953"
             ],
             [
              0.7777777777777778,
              "#fb9f3a"
             ],
             [
              0.8888888888888888,
              "#fdca26"
             ],
             [
              1,
              "#f0f921"
             ]
            ],
            "type": "histogram2dcontour"
           }
          ],
          "mesh3d": [
           {
            "colorbar": {
             "outlinewidth": 0,
             "ticks": ""
            },
            "type": "mesh3d"
           }
          ],
          "parcoords": [
           {
            "line": {
             "colorbar": {
              "outlinewidth": 0,
              "ticks": ""
             }
            },
            "type": "parcoords"
           }
          ],
          "pie": [
           {
            "automargin": true,
            "type": "pie"
           }
          ],
          "scatter": [
           {
            "fillpattern": {
             "fillmode": "overlay",
             "size": 10,
             "solidity": 0.2
            },
            "type": "scatter"
           }
          ],
          "scatter3d": [
           {
            "line": {
             "colorbar": {
              "outlinewidth": 0,
              "ticks": ""
             }
            },
            "marker": {
             "colorbar": {
              "outlinewidth": 0,
              "ticks": ""
             }
            },
            "type": "scatter3d"
           }
          ],
          "scattercarpet": [
           {
            "marker": {
             "colorbar": {
              "outlinewidth": 0,
              "ticks": ""
             }
            },
            "type": "scattercarpet"
           }
          ],
          "scattergeo": [
           {
            "marker": {
             "colorbar": {
              "outlinewidth": 0,
              "ticks": ""
             }
            },
            "type": "scattergeo"
           }
          ],
          "scattergl": [
           {
            "marker": {
             "colorbar": {
              "outlinewidth": 0,
              "ticks": ""
             }
            },
            "type": "scattergl"
           }
          ],
          "scattermapbox": [
           {
            "marker": {
             "colorbar": {
              "outlinewidth": 0,
              "ticks": ""
             }
            },
            "type": "scattermapbox"
           }
          ],
          "scatterpolar": [
           {
            "marker": {
             "colorbar": {
              "outlinewidth": 0,
              "ticks": ""
             }
            },
            "type": "scatterpolar"
           }
          ],
          "scatterpolargl": [
           {
            "marker": {
             "colorbar": {
              "outlinewidth": 0,
              "ticks": ""
             }
            },
            "type": "scatterpolargl"
           }
          ],
          "scatterternary": [
           {
            "marker": {
             "colorbar": {
              "outlinewidth": 0,
              "ticks": ""
             }
            },
            "type": "scatterternary"
           }
          ],
          "surface": [
           {
            "colorbar": {
             "outlinewidth": 0,
             "ticks": ""
            },
            "colorscale": [
             [
              0,
              "#0d0887"
             ],
             [
              0.1111111111111111,
              "#46039f"
             ],
             [
              0.2222222222222222,
              "#7201a8"
             ],
             [
              0.3333333333333333,
              "#9c179e"
             ],
             [
              0.4444444444444444,
              "#bd3786"
             ],
             [
              0.5555555555555556,
              "#d8576b"
             ],
             [
              0.6666666666666666,
              "#ed7953"
             ],
             [
              0.7777777777777778,
              "#fb9f3a"
             ],
             [
              0.8888888888888888,
              "#fdca26"
             ],
             [
              1,
              "#f0f921"
             ]
            ],
            "type": "surface"
           }
          ],
          "table": [
           {
            "cells": {
             "fill": {
              "color": "#EBF0F8"
             },
             "line": {
              "color": "white"
             }
            },
            "header": {
             "fill": {
              "color": "#C8D4E3"
             },
             "line": {
              "color": "white"
             }
            },
            "type": "table"
           }
          ]
         },
         "layout": {
          "annotationdefaults": {
           "arrowcolor": "#2a3f5f",
           "arrowhead": 0,
           "arrowwidth": 1
          },
          "autotypenumbers": "strict",
          "coloraxis": {
           "colorbar": {
            "outlinewidth": 0,
            "ticks": ""
           }
          },
          "colorscale": {
           "diverging": [
            [
             0,
             "#8e0152"
            ],
            [
             0.1,
             "#c51b7d"
            ],
            [
             0.2,
             "#de77ae"
            ],
            [
             0.3,
             "#f1b6da"
            ],
            [
             0.4,
             "#fde0ef"
            ],
            [
             0.5,
             "#f7f7f7"
            ],
            [
             0.6,
             "#e6f5d0"
            ],
            [
             0.7,
             "#b8e186"
            ],
            [
             0.8,
             "#7fbc41"
            ],
            [
             0.9,
             "#4d9221"
            ],
            [
             1,
             "#276419"
            ]
           ],
           "sequential": [
            [
             0,
             "#0d0887"
            ],
            [
             0.1111111111111111,
             "#46039f"
            ],
            [
             0.2222222222222222,
             "#7201a8"
            ],
            [
             0.3333333333333333,
             "#9c179e"
            ],
            [
             0.4444444444444444,
             "#bd3786"
            ],
            [
             0.5555555555555556,
             "#d8576b"
            ],
            [
             0.6666666666666666,
             "#ed7953"
            ],
            [
             0.7777777777777778,
             "#fb9f3a"
            ],
            [
             0.8888888888888888,
             "#fdca26"
            ],
            [
             1,
             "#f0f921"
            ]
           ],
           "sequentialminus": [
            [
             0,
             "#0d0887"
            ],
            [
             0.1111111111111111,
             "#46039f"
            ],
            [
             0.2222222222222222,
             "#7201a8"
            ],
            [
             0.3333333333333333,
             "#9c179e"
            ],
            [
             0.4444444444444444,
             "#bd3786"
            ],
            [
             0.5555555555555556,
             "#d8576b"
            ],
            [
             0.6666666666666666,
             "#ed7953"
            ],
            [
             0.7777777777777778,
             "#fb9f3a"
            ],
            [
             0.8888888888888888,
             "#fdca26"
            ],
            [
             1,
             "#f0f921"
            ]
           ]
          },
          "colorway": [
           "#636efa",
           "#EF553B",
           "#00cc96",
           "#ab63fa",
           "#FFA15A",
           "#19d3f3",
           "#FF6692",
           "#B6E880",
           "#FF97FF",
           "#FECB52"
          ],
          "font": {
           "color": "#2a3f5f"
          },
          "geo": {
           "bgcolor": "white",
           "lakecolor": "white",
           "landcolor": "#E5ECF6",
           "showlakes": true,
           "showland": true,
           "subunitcolor": "white"
          },
          "hoverlabel": {
           "align": "left"
          },
          "hovermode": "closest",
          "mapbox": {
           "style": "light"
          },
          "paper_bgcolor": "white",
          "plot_bgcolor": "#E5ECF6",
          "polar": {
           "angularaxis": {
            "gridcolor": "white",
            "linecolor": "white",
            "ticks": ""
           },
           "bgcolor": "#E5ECF6",
           "radialaxis": {
            "gridcolor": "white",
            "linecolor": "white",
            "ticks": ""
           }
          },
          "scene": {
           "xaxis": {
            "backgroundcolor": "#E5ECF6",
            "gridcolor": "white",
            "gridwidth": 2,
            "linecolor": "white",
            "showbackground": true,
            "ticks": "",
            "zerolinecolor": "white"
           },
           "yaxis": {
            "backgroundcolor": "#E5ECF6",
            "gridcolor": "white",
            "gridwidth": 2,
            "linecolor": "white",
            "showbackground": true,
            "ticks": "",
            "zerolinecolor": "white"
           },
           "zaxis": {
            "backgroundcolor": "#E5ECF6",
            "gridcolor": "white",
            "gridwidth": 2,
            "linecolor": "white",
            "showbackground": true,
            "ticks": "",
            "zerolinecolor": "white"
           }
          },
          "shapedefaults": {
           "line": {
            "color": "#2a3f5f"
           }
          },
          "ternary": {
           "aaxis": {
            "gridcolor": "white",
            "linecolor": "white",
            "ticks": ""
           },
           "baxis": {
            "gridcolor": "white",
            "linecolor": "white",
            "ticks": ""
           },
           "bgcolor": "#E5ECF6",
           "caxis": {
            "gridcolor": "white",
            "linecolor": "white",
            "ticks": ""
           }
          },
          "title": {
           "x": 0.05
          },
          "xaxis": {
           "automargin": true,
           "gridcolor": "white",
           "linecolor": "white",
           "ticks": "",
           "title": {
            "standoff": 15
           },
           "zerolinecolor": "white",
           "zerolinewidth": 2
          },
          "yaxis": {
           "automargin": true,
           "gridcolor": "white",
           "linecolor": "white",
           "ticks": "",
           "title": {
            "standoff": 15
           },
           "zerolinecolor": "white",
           "zerolinewidth": 2
          }
         }
        },
        "xaxis": {
         "anchor": "y",
         "domain": [
          0,
          1
         ],
         "title": {
          "text": "index"
         }
        },
        "yaxis": {
         "anchor": "x",
         "domain": [
          0,
          1
         ],
         "title": {
          "text": "r_squared"
         }
        }
       }
      },
      "text/html": [
       "<div>                            <div id=\"44cffdb2-a105-4bb0-b8c2-f4bcda60caf8\" class=\"plotly-graph-div\" style=\"height:525px; width:100%;\"></div>            <script type=\"text/javascript\">                require([\"plotly\"], function(Plotly) {                    window.PLOTLYENV=window.PLOTLYENV || {};                                    if (document.getElementById(\"44cffdb2-a105-4bb0-b8c2-f4bcda60caf8\")) {                    Plotly.newPlot(                        \"44cffdb2-a105-4bb0-b8c2-f4bcda60caf8\",                        [{\"alignmentgroup\":\"True\",\"hovertemplate\":\"index=%{x}\\u003cbr\\u003er_squared=%{y}\\u003cextra\\u003e\\u003c\\u002fextra\\u003e\",\"legendgroup\":\"\",\"marker\":{\"color\":\"#636efa\",\"pattern\":{\"shape\":\"\"}},\"name\":\"\",\"offsetgroup\":\"\",\"orientation\":\"v\",\"showlegend\":false,\"textposition\":\"auto\",\"x\":[\"CatBoostRegressor\",\"XGBRegressor\",\"SVR\",\"GradientBoostingRegressor\",\"RandomForestRegressor\",\"KernelRidge\",\"AdaBoostRegressor\"],\"xaxis\":\"x\",\"y\":[0.7804124663651468,0.8661655161345073,0.503323516004303,0.8343552855952258,0.8814390222618897,0.4995131675388772,0.8381089510535136],\"yaxis\":\"y\",\"type\":\"bar\"}],                        {\"template\":{\"data\":{\"histogram2dcontour\":[{\"type\":\"histogram2dcontour\",\"colorbar\":{\"outlinewidth\":0,\"ticks\":\"\"},\"colorscale\":[[0.0,\"#0d0887\"],[0.1111111111111111,\"#46039f\"],[0.2222222222222222,\"#7201a8\"],[0.3333333333333333,\"#9c179e\"],[0.4444444444444444,\"#bd3786\"],[0.5555555555555556,\"#d8576b\"],[0.6666666666666666,\"#ed7953\"],[0.7777777777777778,\"#fb9f3a\"],[0.8888888888888888,\"#fdca26\"],[1.0,\"#f0f921\"]]}],\"choropleth\":[{\"type\":\"choropleth\",\"colorbar\":{\"outlinewidth\":0,\"ticks\":\"\"}}],\"histogram2d\":[{\"type\":\"histogram2d\",\"colorbar\":{\"outlinewidth\":0,\"ticks\":\"\"},\"colorscale\":[[0.0,\"#0d0887\"],[0.1111111111111111,\"#46039f\"],[0.2222222222222222,\"#7201a8\"],[0.3333333333333333,\"#9c179e\"],[0.4444444444444444,\"#bd3786\"],[0.5555555555555556,\"#d8576b\"],[0.6666666666666666,\"#ed7953\"],[0.7777777777777778,\"#fb9f3a\"],[0.8888888888888888,\"#fdca26\"],[1.0,\"#f0f921\"]]}],\"heatmap\":[{\"type\":\"heatmap\",\"colorbar\":{\"outlinewidth\":0,\"ticks\":\"\"},\"colorscale\":[[0.0,\"#0d0887\"],[0.1111111111111111,\"#46039f\"],[0.2222222222222222,\"#7201a8\"],[0.3333333333333333,\"#9c179e\"],[0.4444444444444444,\"#bd3786\"],[0.5555555555555556,\"#d8576b\"],[0.6666666666666666,\"#ed7953\"],[0.7777777777777778,\"#fb9f3a\"],[0.8888888888888888,\"#fdca26\"],[1.0,\"#f0f921\"]]}],\"heatmapgl\":[{\"type\":\"heatmapgl\",\"colorbar\":{\"outlinewidth\":0,\"ticks\":\"\"},\"colorscale\":[[0.0,\"#0d0887\"],[0.1111111111111111,\"#46039f\"],[0.2222222222222222,\"#7201a8\"],[0.3333333333333333,\"#9c179e\"],[0.4444444444444444,\"#bd3786\"],[0.5555555555555556,\"#d8576b\"],[0.6666666666666666,\"#ed7953\"],[0.7777777777777778,\"#fb9f3a\"],[0.8888888888888888,\"#fdca26\"],[1.0,\"#f0f921\"]]}],\"contourcarpet\":[{\"type\":\"contourcarpet\",\"colorbar\":{\"outlinewidth\":0,\"ticks\":\"\"}}],\"contour\":[{\"type\":\"contour\",\"colorbar\":{\"outlinewidth\":0,\"ticks\":\"\"},\"colorscale\":[[0.0,\"#0d0887\"],[0.1111111111111111,\"#46039f\"],[0.2222222222222222,\"#7201a8\"],[0.3333333333333333,\"#9c179e\"],[0.4444444444444444,\"#bd3786\"],[0.5555555555555556,\"#d8576b\"],[0.6666666666666666,\"#ed7953\"],[0.7777777777777778,\"#fb9f3a\"],[0.8888888888888888,\"#fdca26\"],[1.0,\"#f0f921\"]]}],\"surface\":[{\"type\":\"surface\",\"colorbar\":{\"outlinewidth\":0,\"ticks\":\"\"},\"colorscale\":[[0.0,\"#0d0887\"],[0.1111111111111111,\"#46039f\"],[0.2222222222222222,\"#7201a8\"],[0.3333333333333333,\"#9c179e\"],[0.4444444444444444,\"#bd3786\"],[0.5555555555555556,\"#d8576b\"],[0.6666666666666666,\"#ed7953\"],[0.7777777777777778,\"#fb9f3a\"],[0.8888888888888888,\"#fdca26\"],[1.0,\"#f0f921\"]]}],\"mesh3d\":[{\"type\":\"mesh3d\",\"colorbar\":{\"outlinewidth\":0,\"ticks\":\"\"}}],\"scatter\":[{\"fillpattern\":{\"fillmode\":\"overlay\",\"size\":10,\"solidity\":0.2},\"type\":\"scatter\"}],\"parcoords\":[{\"type\":\"parcoords\",\"line\":{\"colorbar\":{\"outlinewidth\":0,\"ticks\":\"\"}}}],\"scatterpolargl\":[{\"type\":\"scatterpolargl\",\"marker\":{\"colorbar\":{\"outlinewidth\":0,\"ticks\":\"\"}}}],\"bar\":[{\"error_x\":{\"color\":\"#2a3f5f\"},\"error_y\":{\"color\":\"#2a3f5f\"},\"marker\":{\"line\":{\"color\":\"#E5ECF6\",\"width\":0.5},\"pattern\":{\"fillmode\":\"overlay\",\"size\":10,\"solidity\":0.2}},\"type\":\"bar\"}],\"scattergeo\":[{\"type\":\"scattergeo\",\"marker\":{\"colorbar\":{\"outlinewidth\":0,\"ticks\":\"\"}}}],\"scatterpolar\":[{\"type\":\"scatterpolar\",\"marker\":{\"colorbar\":{\"outlinewidth\":0,\"ticks\":\"\"}}}],\"histogram\":[{\"marker\":{\"pattern\":{\"fillmode\":\"overlay\",\"size\":10,\"solidity\":0.2}},\"type\":\"histogram\"}],\"scattergl\":[{\"type\":\"scattergl\",\"marker\":{\"colorbar\":{\"outlinewidth\":0,\"ticks\":\"\"}}}],\"scatter3d\":[{\"type\":\"scatter3d\",\"line\":{\"colorbar\":{\"outlinewidth\":0,\"ticks\":\"\"}},\"marker\":{\"colorbar\":{\"outlinewidth\":0,\"ticks\":\"\"}}}],\"scattermapbox\":[{\"type\":\"scattermapbox\",\"marker\":{\"colorbar\":{\"outlinewidth\":0,\"ticks\":\"\"}}}],\"scatterternary\":[{\"type\":\"scatterternary\",\"marker\":{\"colorbar\":{\"outlinewidth\":0,\"ticks\":\"\"}}}],\"scattercarpet\":[{\"type\":\"scattercarpet\",\"marker\":{\"colorbar\":{\"outlinewidth\":0,\"ticks\":\"\"}}}],\"carpet\":[{\"aaxis\":{\"endlinecolor\":\"#2a3f5f\",\"gridcolor\":\"white\",\"linecolor\":\"white\",\"minorgridcolor\":\"white\",\"startlinecolor\":\"#2a3f5f\"},\"baxis\":{\"endlinecolor\":\"#2a3f5f\",\"gridcolor\":\"white\",\"linecolor\":\"white\",\"minorgridcolor\":\"white\",\"startlinecolor\":\"#2a3f5f\"},\"type\":\"carpet\"}],\"table\":[{\"cells\":{\"fill\":{\"color\":\"#EBF0F8\"},\"line\":{\"color\":\"white\"}},\"header\":{\"fill\":{\"color\":\"#C8D4E3\"},\"line\":{\"color\":\"white\"}},\"type\":\"table\"}],\"barpolar\":[{\"marker\":{\"line\":{\"color\":\"#E5ECF6\",\"width\":0.5},\"pattern\":{\"fillmode\":\"overlay\",\"size\":10,\"solidity\":0.2}},\"type\":\"barpolar\"}],\"pie\":[{\"automargin\":true,\"type\":\"pie\"}]},\"layout\":{\"autotypenumbers\":\"strict\",\"colorway\":[\"#636efa\",\"#EF553B\",\"#00cc96\",\"#ab63fa\",\"#FFA15A\",\"#19d3f3\",\"#FF6692\",\"#B6E880\",\"#FF97FF\",\"#FECB52\"],\"font\":{\"color\":\"#2a3f5f\"},\"hovermode\":\"closest\",\"hoverlabel\":{\"align\":\"left\"},\"paper_bgcolor\":\"white\",\"plot_bgcolor\":\"#E5ECF6\",\"polar\":{\"bgcolor\":\"#E5ECF6\",\"angularaxis\":{\"gridcolor\":\"white\",\"linecolor\":\"white\",\"ticks\":\"\"},\"radialaxis\":{\"gridcolor\":\"white\",\"linecolor\":\"white\",\"ticks\":\"\"}},\"ternary\":{\"bgcolor\":\"#E5ECF6\",\"aaxis\":{\"gridcolor\":\"white\",\"linecolor\":\"white\",\"ticks\":\"\"},\"baxis\":{\"gridcolor\":\"white\",\"linecolor\":\"white\",\"ticks\":\"\"},\"caxis\":{\"gridcolor\":\"white\",\"linecolor\":\"white\",\"ticks\":\"\"}},\"coloraxis\":{\"colorbar\":{\"outlinewidth\":0,\"ticks\":\"\"}},\"colorscale\":{\"sequential\":[[0.0,\"#0d0887\"],[0.1111111111111111,\"#46039f\"],[0.2222222222222222,\"#7201a8\"],[0.3333333333333333,\"#9c179e\"],[0.4444444444444444,\"#bd3786\"],[0.5555555555555556,\"#d8576b\"],[0.6666666666666666,\"#ed7953\"],[0.7777777777777778,\"#fb9f3a\"],[0.8888888888888888,\"#fdca26\"],[1.0,\"#f0f921\"]],\"sequentialminus\":[[0.0,\"#0d0887\"],[0.1111111111111111,\"#46039f\"],[0.2222222222222222,\"#7201a8\"],[0.3333333333333333,\"#9c179e\"],[0.4444444444444444,\"#bd3786\"],[0.5555555555555556,\"#d8576b\"],[0.6666666666666666,\"#ed7953\"],[0.7777777777777778,\"#fb9f3a\"],[0.8888888888888888,\"#fdca26\"],[1.0,\"#f0f921\"]],\"diverging\":[[0,\"#8e0152\"],[0.1,\"#c51b7d\"],[0.2,\"#de77ae\"],[0.3,\"#f1b6da\"],[0.4,\"#fde0ef\"],[0.5,\"#f7f7f7\"],[0.6,\"#e6f5d0\"],[0.7,\"#b8e186\"],[0.8,\"#7fbc41\"],[0.9,\"#4d9221\"],[1,\"#276419\"]]},\"xaxis\":{\"gridcolor\":\"white\",\"linecolor\":\"white\",\"ticks\":\"\",\"title\":{\"standoff\":15},\"zerolinecolor\":\"white\",\"automargin\":true,\"zerolinewidth\":2},\"yaxis\":{\"gridcolor\":\"white\",\"linecolor\":\"white\",\"ticks\":\"\",\"title\":{\"standoff\":15},\"zerolinecolor\":\"white\",\"automargin\":true,\"zerolinewidth\":2},\"scene\":{\"xaxis\":{\"backgroundcolor\":\"#E5ECF6\",\"gridcolor\":\"white\",\"linecolor\":\"white\",\"showbackground\":true,\"ticks\":\"\",\"zerolinecolor\":\"white\",\"gridwidth\":2},\"yaxis\":{\"backgroundcolor\":\"#E5ECF6\",\"gridcolor\":\"white\",\"linecolor\":\"white\",\"showbackground\":true,\"ticks\":\"\",\"zerolinecolor\":\"white\",\"gridwidth\":2},\"zaxis\":{\"backgroundcolor\":\"#E5ECF6\",\"gridcolor\":\"white\",\"linecolor\":\"white\",\"showbackground\":true,\"ticks\":\"\",\"zerolinecolor\":\"white\",\"gridwidth\":2}},\"shapedefaults\":{\"line\":{\"color\":\"#2a3f5f\"}},\"annotationdefaults\":{\"arrowcolor\":\"#2a3f5f\",\"arrowhead\":0,\"arrowwidth\":1},\"geo\":{\"bgcolor\":\"white\",\"landcolor\":\"#E5ECF6\",\"subunitcolor\":\"white\",\"showland\":true,\"showlakes\":true,\"lakecolor\":\"white\"},\"title\":{\"x\":0.05},\"mapbox\":{\"style\":\"light\"}}},\"xaxis\":{\"anchor\":\"y\",\"domain\":[0.0,1.0],\"title\":{\"text\":\"index\"}},\"yaxis\":{\"anchor\":\"x\",\"domain\":[0.0,1.0],\"title\":{\"text\":\"r_squared\"}},\"legend\":{\"tracegroupgap\":0},\"margin\":{\"t\":60},\"barmode\":\"relative\"},                        {\"responsive\": true}                    ).then(function(){\n",
       "                            \n",
       "var gd = document.getElementById('44cffdb2-a105-4bb0-b8c2-f4bcda60caf8');\n",
       "var x = new MutationObserver(function (mutations, observer) {{\n",
       "        var display = window.getComputedStyle(gd).display;\n",
       "        if (!display || display === 'none') {{\n",
       "            console.log([gd, 'removed!']);\n",
       "            Plotly.purge(gd);\n",
       "            observer.disconnect();\n",
       "        }}\n",
       "}});\n",
       "\n",
       "// Listen for the removal of the full notebook cells\n",
       "var notebookContainer = gd.closest('#notebook-container');\n",
       "if (notebookContainer) {{\n",
       "    x.observe(notebookContainer, {childList: true});\n",
       "}}\n",
       "\n",
       "// Listen for the clearing of the current output cell\n",
       "var outputEl = gd.closest('.output');\n",
       "if (outputEl) {{\n",
       "    x.observe(outputEl, {childList: true});\n",
       "}}\n",
       "\n",
       "                        })                };                });            </script>        </div>"
      ]
     },
     "metadata": {},
     "output_type": "display_data"
    }
   ],
   "source": [
    "px.bar(df, x=df.index, y='r_squared')"
   ]
  },
  {
   "cell_type": "code",
   "execution_count": null,
   "metadata": {},
   "outputs": [],
   "source": []
  }
 ],
 "metadata": {
  "kernelspec": {
   "display_name": "Python 3",
   "language": "python",
   "name": "python3"
  },
  "language_info": {
   "codemirror_mode": {
    "name": "ipython",
    "version": 3
   },
   "file_extension": ".py",
   "mimetype": "text/x-python",
   "name": "python",
   "nbconvert_exporter": "python",
   "pygments_lexer": "ipython3",
   "version": "3.10.12"
  }
 },
 "nbformat": 4,
 "nbformat_minor": 2
}
