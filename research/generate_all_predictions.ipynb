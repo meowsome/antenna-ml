{
 "cells": [
  {
   "cell_type": "code",
   "execution_count": 2,
   "metadata": {},
   "outputs": [],
   "source": [
    "import joblib\n",
    "import pandas as pd"
   ]
  },
  {
   "cell_type": "code",
   "execution_count": 3,
   "metadata": {},
   "outputs": [],
   "source": [
    "df = pd.read_csv(\"../test_data/new leaky wave/S11_Data_combined.csv\")\n",
    "X = df.drop(columns=['dB(S(1,1)) []'])\n",
    "complete_df = pd.DataFrame(columns=X.columns)"
   ]
  },
  {
   "cell_type": "code",
   "execution_count": 4,
   "metadata": {},
   "outputs": [],
   "source": [
    "# Create all combinations of ranges \n",
    "ranges = {}\n",
    "data_cols = list(X.columns)\n",
    "for column in data_cols:\n",
    "    ranges[column] = X[column].unique().tolist()\n",
    "\n",
    "# Custom overrides\n",
    "# ranges['inset_dist [mm]'] += [0.8, 1.2]\n",
    "# ranges['L [mm]'] += [11.75, 12.25]\n",
    "# ranges['W [mm]'] += [14.2, 14.4, 14.6, 15.0, 15.2, 15.4]\n",
    "# ranges['W0 [mm]'] += [2.75, 3.25]\n",
    "# ranges['y0 [mm]'] += [3.25, 3.75, 4.25, 4.75]"
   ]
  },
  {
   "cell_type": "code",
   "execution_count": 5,
   "metadata": {},
   "outputs": [],
   "source": [
    "# Try cartesian product in pandas instead https://stackoverflow.com/a/13270110/3675086\n",
    "ranges_df = pd.DataFrame(ranges[X.columns[0]], columns=[X.columns[0]])\n",
    "for col in complete_df.columns[1:]:\n",
    "    temp_df = pd.DataFrame(ranges[col], columns=[col])\n",
    "    ranges_df = ranges_df.merge(temp_df, how='cross')"
   ]
  },
  {
   "cell_type": "code",
   "execution_count": 6,
   "metadata": {},
   "outputs": [],
   "source": [
    "# Remove duplicates that are already calculated https://stackoverflow.com/a/47107164\n",
    "df_all = ranges_df.merge(X.drop_duplicates(), on=X.columns.tolist(), how='left', indicator=True)\n",
    "df_all = df_all[df_all['_merge'] == 'left_only']\n",
    "df_all.drop(columns=['_merge'], inplace=True, axis=1)"
   ]
  },
  {
   "cell_type": "code",
   "execution_count": 8,
   "metadata": {},
   "outputs": [],
   "source": [
    "model = joblib.load('../antenna_model.pkl')\n",
    "\n",
    "predictions = model.predict(df_all)\n",
    "df_all['prediction'] = predictions\n",
    "df_all.to_pickle(\"all_predictions.pkl\")"
   ]
  },
  {
   "cell_type": "markdown",
   "metadata": {},
   "source": []
  },
  {
   "cell_type": "code",
   "execution_count": 5,
   "metadata": {},
   "outputs": [],
   "source": [
    "df = pd.read_csv(\"../test_data/patch_antenna/Patch Antenna S11 Data.csv\")\n",
    "X = df.drop(columns=['dB(S(1,1)) []'])"
   ]
  },
  {
   "cell_type": "code",
   "execution_count": 6,
   "metadata": {},
   "outputs": [
    {
     "name": "stdout",
     "output_type": "stream",
     "text": [
      "inset_dist [mm]: Range: 0.6 - 1.4, avg: 0.9999999999999998\n",
      "[0.6, 1.0, 1.4]\n",
      "\n",
      "L [mm]: Range: 11.5 - 12.5, avg: 12.0\n",
      "[11.5, 12.0, 12.5]\n",
      "\n",
      "sub_thick [mm]: Range: 2 - 2, avg: 2.0\n",
      "[2]\n",
      "\n",
      "W [mm]: Range: 14.0 - 15.6, avg: 14.8\n",
      "[14.0, 14.8, 15.6]\n",
      "\n",
      "W0 [mm]: Range: 2.5 - 3.5, avg: 3.0\n",
      "[2.5, 3.0, 3.5]\n",
      "\n",
      "y0 [mm]: Range: 3.0 - 5.0, avg: 4.0\n",
      "[3.0, 3.5, 4.0, 4.5, 5.0]\n",
      "\n",
      "Freq [GHz]: Range: 4.0 - 12.0, avg: 8.0\n",
      "[4.0, 4.08, 4.16, 4.24, 4.32, 4.4, 4.48, 4.56, 4.64, 4.72, 4.8, 4.88, 4.96, 5.04, 5.12, 5.2, 5.28, 5.36, 5.44, 5.52, 5.6, 5.68, 5.76, 5.84, 5.92, 6.0, 6.08, 6.16, 6.24, 6.32, 6.4, 6.48, 6.56, 6.64, 6.72, 6.8, 6.88, 6.96, 7.04, 7.12, 7.2, 7.28, 7.36, 7.44, 7.52, 7.6, 7.68, 7.76, 7.84, 7.92, 8.0, 8.08, 8.16, 8.24, 8.32, 8.4, 8.48, 8.56, 8.64, 8.72, 8.8, 8.88, 8.96, 9.04, 9.12, 9.2, 9.28, 9.36, 9.44, 9.52, 9.6, 9.68, 9.76, 9.84, 9.92, 10.0, 10.08, 10.16, 10.24, 10.32, 10.4, 10.48, 10.56, 10.64, 10.72, 10.8, 10.88, 10.96, 11.04, 11.12, 11.2, 11.28, 11.36, 11.44, 11.52, 11.6, 11.68, 11.76, 11.84, 11.92, 12.0]\n",
      "\n"
     ]
    }
   ],
   "source": [
    "for col in X.columns:\n",
    "    print(f\"{col}: Range: {X[col].min()} - {X[col].max()}, avg: {X[col].mean()}\")\n",
    "    print(X[col].unique().tolist())\n",
    "    print('')"
   ]
  },
  {
   "cell_type": "code",
   "execution_count": null,
   "metadata": {},
   "outputs": [],
   "source": []
  }
 ],
 "metadata": {
  "kernelspec": {
   "display_name": "tylers_env_do_not_touch",
   "language": "python",
   "name": "python3"
  },
  "language_info": {
   "codemirror_mode": {
    "name": "ipython",
    "version": 3
   },
   "file_extension": ".py",
   "mimetype": "text/x-python",
   "name": "python",
   "nbconvert_exporter": "python",
   "pygments_lexer": "ipython3",
   "version": "3.10.12"
  }
 },
 "nbformat": 4,
 "nbformat_minor": 2
}
