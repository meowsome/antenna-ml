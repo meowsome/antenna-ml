{
 "cells": [
  {
   "cell_type": "code",
   "execution_count": 11,
   "metadata": {},
   "outputs": [],
   "source": [
    "import pandas as pd"
   ]
  },
  {
   "cell_type": "code",
   "execution_count": 12,
   "metadata": {},
   "outputs": [],
   "source": [
    "import joblib\n",
    "\n",
    "df = joblib.load('../all_predictions.pkl')"
   ]
  },
  {
   "cell_type": "code",
   "execution_count": 13,
   "metadata": {},
   "outputs": [],
   "source": [
    "def fetch_geometry(inset_dist, l, sub_thick, w, w0, y0, geometry_name):\n",
    "    geo_df = df[(df['inset_dist [mm]'] == inset_dist) & (df['L [mm]'] == l) & (df['sub_thick [mm]'] == sub_thick) & (df['W [mm]'] == w) & (df['W0 [mm]'] == w0) & (df['y0 [mm]'] == y0)].copy()\n",
    "    geo_df['Geometry Name'] = geometry_name\n",
    "    return geo_df"
   ]
  },
  {
   "cell_type": "code",
   "execution_count": 14,
   "metadata": {},
   "outputs": [],
   "source": [
    "geometries = [\n",
    "    fetch_geometry(0.6, 11.5, 2.0, 14.8, 2.5, 4.25, 1),\n",
    "    fetch_geometry(0.6, 12.0, 2.0, 14.8, 2.75, 4.5, 2),\n",
    "    fetch_geometry(1.0, 12.0, 2.0, 15.6, 3.5, 4.25, 3),\n",
    "    fetch_geometry(1.4, 11.5, 2.0, 15.6, 3.5, 4.25, 4),\n",
    "    fetch_geometry(1.4, 11.5, 2.0, 15.4, 3.5, 4.5, 5),\n",
    "    fetch_geometry(1.4, 11.75, 2.0, 15.4, 3.5, 4.75, 6)\n",
    "]\n",
    "\n",
    "geometries_df = pd.concat(geometries)"
   ]
  },
  {
   "cell_type": "code",
   "execution_count": 15,
   "metadata": {},
   "outputs": [
    {
     "data": {
      "text/html": [
       "<div>\n",
       "<style scoped>\n",
       "    .dataframe tbody tr th:only-of-type {\n",
       "        vertical-align: middle;\n",
       "    }\n",
       "\n",
       "    .dataframe tbody tr th {\n",
       "        vertical-align: top;\n",
       "    }\n",
       "\n",
       "    .dataframe thead th {\n",
       "        text-align: right;\n",
       "    }\n",
       "</style>\n",
       "<table border=\"1\" class=\"dataframe\">\n",
       "  <thead>\n",
       "    <tr style=\"text-align: right;\">\n",
       "      <th></th>\n",
       "      <th>inset_dist [mm]</th>\n",
       "      <th>L [mm]</th>\n",
       "      <th>sub_thick [mm]</th>\n",
       "      <th>W [mm]</th>\n",
       "      <th>W0 [mm]</th>\n",
       "      <th>y0 [mm]</th>\n",
       "      <th>Freq [GHz]</th>\n",
       "      <th>prediction</th>\n",
       "      <th>Geometry Name</th>\n",
       "    </tr>\n",
       "  </thead>\n",
       "  <tbody>\n",
       "    <tr>\n",
       "      <th>5252</th>\n",
       "      <td>0.6</td>\n",
       "      <td>11.50</td>\n",
       "      <td>2</td>\n",
       "      <td>14.8</td>\n",
       "      <td>2.5</td>\n",
       "      <td>4.25</td>\n",
       "      <td>4.00</td>\n",
       "      <td>-0.173352</td>\n",
       "      <td>1</td>\n",
       "    </tr>\n",
       "    <tr>\n",
       "      <th>5253</th>\n",
       "      <td>0.6</td>\n",
       "      <td>11.50</td>\n",
       "      <td>2</td>\n",
       "      <td>14.8</td>\n",
       "      <td>2.5</td>\n",
       "      <td>4.25</td>\n",
       "      <td>4.08</td>\n",
       "      <td>-0.179909</td>\n",
       "      <td>1</td>\n",
       "    </tr>\n",
       "    <tr>\n",
       "      <th>5254</th>\n",
       "      <td>0.6</td>\n",
       "      <td>11.50</td>\n",
       "      <td>2</td>\n",
       "      <td>14.8</td>\n",
       "      <td>2.5</td>\n",
       "      <td>4.25</td>\n",
       "      <td>4.16</td>\n",
       "      <td>-0.189604</td>\n",
       "      <td>1</td>\n",
       "    </tr>\n",
       "    <tr>\n",
       "      <th>5255</th>\n",
       "      <td>0.6</td>\n",
       "      <td>11.50</td>\n",
       "      <td>2</td>\n",
       "      <td>14.8</td>\n",
       "      <td>2.5</td>\n",
       "      <td>4.25</td>\n",
       "      <td>4.24</td>\n",
       "      <td>-0.198633</td>\n",
       "      <td>1</td>\n",
       "    </tr>\n",
       "    <tr>\n",
       "      <th>5256</th>\n",
       "      <td>0.6</td>\n",
       "      <td>11.50</td>\n",
       "      <td>2</td>\n",
       "      <td>14.8</td>\n",
       "      <td>2.5</td>\n",
       "      <td>4.25</td>\n",
       "      <td>4.32</td>\n",
       "      <td>-0.206935</td>\n",
       "      <td>1</td>\n",
       "    </tr>\n",
       "    <tr>\n",
       "      <th>...</th>\n",
       "      <td>...</td>\n",
       "      <td>...</td>\n",
       "      <td>...</td>\n",
       "      <td>...</td>\n",
       "      <td>...</td>\n",
       "      <td>...</td>\n",
       "      <td>...</td>\n",
       "      <td>...</td>\n",
       "      <td>...</td>\n",
       "    </tr>\n",
       "    <tr>\n",
       "      <th>570847</th>\n",
       "      <td>1.4</td>\n",
       "      <td>11.75</td>\n",
       "      <td>2</td>\n",
       "      <td>15.4</td>\n",
       "      <td>3.5</td>\n",
       "      <td>4.75</td>\n",
       "      <td>11.68</td>\n",
       "      <td>-23.979636</td>\n",
       "      <td>6</td>\n",
       "    </tr>\n",
       "    <tr>\n",
       "      <th>570848</th>\n",
       "      <td>1.4</td>\n",
       "      <td>11.75</td>\n",
       "      <td>2</td>\n",
       "      <td>15.4</td>\n",
       "      <td>3.5</td>\n",
       "      <td>4.75</td>\n",
       "      <td>11.76</td>\n",
       "      <td>-21.671813</td>\n",
       "      <td>6</td>\n",
       "    </tr>\n",
       "    <tr>\n",
       "      <th>570849</th>\n",
       "      <td>1.4</td>\n",
       "      <td>11.75</td>\n",
       "      <td>2</td>\n",
       "      <td>15.4</td>\n",
       "      <td>3.5</td>\n",
       "      <td>4.75</td>\n",
       "      <td>11.84</td>\n",
       "      <td>-19.925751</td>\n",
       "      <td>6</td>\n",
       "    </tr>\n",
       "    <tr>\n",
       "      <th>570850</th>\n",
       "      <td>1.4</td>\n",
       "      <td>11.75</td>\n",
       "      <td>2</td>\n",
       "      <td>15.4</td>\n",
       "      <td>3.5</td>\n",
       "      <td>4.75</td>\n",
       "      <td>11.92</td>\n",
       "      <td>-19.591367</td>\n",
       "      <td>6</td>\n",
       "    </tr>\n",
       "    <tr>\n",
       "      <th>570851</th>\n",
       "      <td>1.4</td>\n",
       "      <td>11.75</td>\n",
       "      <td>2</td>\n",
       "      <td>15.4</td>\n",
       "      <td>3.5</td>\n",
       "      <td>4.75</td>\n",
       "      <td>12.00</td>\n",
       "      <td>-18.412701</td>\n",
       "      <td>6</td>\n",
       "    </tr>\n",
       "  </tbody>\n",
       "</table>\n",
       "<p>606 rows × 9 columns</p>\n",
       "</div>"
      ],
      "text/plain": [
       "        inset_dist [mm]  L [mm]  sub_thick [mm]  W [mm]  W0 [mm]  y0 [mm]  \\\n",
       "5252                0.6   11.50               2    14.8      2.5     4.25   \n",
       "5253                0.6   11.50               2    14.8      2.5     4.25   \n",
       "5254                0.6   11.50               2    14.8      2.5     4.25   \n",
       "5255                0.6   11.50               2    14.8      2.5     4.25   \n",
       "5256                0.6   11.50               2    14.8      2.5     4.25   \n",
       "...                 ...     ...             ...     ...      ...      ...   \n",
       "570847              1.4   11.75               2    15.4      3.5     4.75   \n",
       "570848              1.4   11.75               2    15.4      3.5     4.75   \n",
       "570849              1.4   11.75               2    15.4      3.5     4.75   \n",
       "570850              1.4   11.75               2    15.4      3.5     4.75   \n",
       "570851              1.4   11.75               2    15.4      3.5     4.75   \n",
       "\n",
       "        Freq [GHz]  prediction  Geometry Name  \n",
       "5252          4.00   -0.173352              1  \n",
       "5253          4.08   -0.179909              1  \n",
       "5254          4.16   -0.189604              1  \n",
       "5255          4.24   -0.198633              1  \n",
       "5256          4.32   -0.206935              1  \n",
       "...            ...         ...            ...  \n",
       "570847       11.68  -23.979636              6  \n",
       "570848       11.76  -21.671813              6  \n",
       "570849       11.84  -19.925751              6  \n",
       "570850       11.92  -19.591367              6  \n",
       "570851       12.00  -18.412701              6  \n",
       "\n",
       "[606 rows x 9 columns]"
      ]
     },
     "execution_count": 15,
     "metadata": {},
     "output_type": "execute_result"
    }
   ],
   "source": [
    "geometries_df"
   ]
  },
  {
   "cell_type": "code",
   "execution_count": 19,
   "metadata": {},
   "outputs": [
    {
     "data": {
      "text/html": [
       "<div>\n",
       "<style scoped>\n",
       "    .dataframe tbody tr th:only-of-type {\n",
       "        vertical-align: middle;\n",
       "    }\n",
       "\n",
       "    .dataframe tbody tr th {\n",
       "        vertical-align: top;\n",
       "    }\n",
       "\n",
       "    .dataframe thead th {\n",
       "        text-align: right;\n",
       "    }\n",
       "</style>\n",
       "<table border=\"1\" class=\"dataframe\">\n",
       "  <thead>\n",
       "    <tr style=\"text-align: right;\">\n",
       "      <th></th>\n",
       "      <th>inset_dist [mm]</th>\n",
       "      <th>L [mm]</th>\n",
       "      <th>sub_thick [mm]</th>\n",
       "      <th>W [mm]</th>\n",
       "      <th>W0 [mm]</th>\n",
       "      <th>y0 [mm]</th>\n",
       "      <th>Freq [GHz]</th>\n",
       "      <th>prediction</th>\n",
       "      <th>Geometry Name</th>\n",
       "    </tr>\n",
       "  </thead>\n",
       "  <tbody>\n",
       "    <tr>\n",
       "      <th>5252</th>\n",
       "      <td>0.6</td>\n",
       "      <td>11.5</td>\n",
       "      <td>2</td>\n",
       "      <td>14.8</td>\n",
       "      <td>2.5</td>\n",
       "      <td>4.25</td>\n",
       "      <td>4.00</td>\n",
       "      <td>-0.173352</td>\n",
       "      <td>1</td>\n",
       "    </tr>\n",
       "    <tr>\n",
       "      <th>5253</th>\n",
       "      <td>0.6</td>\n",
       "      <td>11.5</td>\n",
       "      <td>2</td>\n",
       "      <td>14.8</td>\n",
       "      <td>2.5</td>\n",
       "      <td>4.25</td>\n",
       "      <td>4.08</td>\n",
       "      <td>-0.179909</td>\n",
       "      <td>1</td>\n",
       "    </tr>\n",
       "    <tr>\n",
       "      <th>5254</th>\n",
       "      <td>0.6</td>\n",
       "      <td>11.5</td>\n",
       "      <td>2</td>\n",
       "      <td>14.8</td>\n",
       "      <td>2.5</td>\n",
       "      <td>4.25</td>\n",
       "      <td>4.16</td>\n",
       "      <td>-0.189604</td>\n",
       "      <td>1</td>\n",
       "    </tr>\n",
       "    <tr>\n",
       "      <th>5255</th>\n",
       "      <td>0.6</td>\n",
       "      <td>11.5</td>\n",
       "      <td>2</td>\n",
       "      <td>14.8</td>\n",
       "      <td>2.5</td>\n",
       "      <td>4.25</td>\n",
       "      <td>4.24</td>\n",
       "      <td>-0.198633</td>\n",
       "      <td>1</td>\n",
       "    </tr>\n",
       "    <tr>\n",
       "      <th>5256</th>\n",
       "      <td>0.6</td>\n",
       "      <td>11.5</td>\n",
       "      <td>2</td>\n",
       "      <td>14.8</td>\n",
       "      <td>2.5</td>\n",
       "      <td>4.25</td>\n",
       "      <td>4.32</td>\n",
       "      <td>-0.206935</td>\n",
       "      <td>1</td>\n",
       "    </tr>\n",
       "    <tr>\n",
       "      <th>...</th>\n",
       "      <td>...</td>\n",
       "      <td>...</td>\n",
       "      <td>...</td>\n",
       "      <td>...</td>\n",
       "      <td>...</td>\n",
       "      <td>...</td>\n",
       "      <td>...</td>\n",
       "      <td>...</td>\n",
       "      <td>...</td>\n",
       "    </tr>\n",
       "    <tr>\n",
       "      <th>5348</th>\n",
       "      <td>0.6</td>\n",
       "      <td>11.5</td>\n",
       "      <td>2</td>\n",
       "      <td>14.8</td>\n",
       "      <td>2.5</td>\n",
       "      <td>4.25</td>\n",
       "      <td>11.68</td>\n",
       "      <td>-12.245166</td>\n",
       "      <td>1</td>\n",
       "    </tr>\n",
       "    <tr>\n",
       "      <th>5349</th>\n",
       "      <td>0.6</td>\n",
       "      <td>11.5</td>\n",
       "      <td>2</td>\n",
       "      <td>14.8</td>\n",
       "      <td>2.5</td>\n",
       "      <td>4.25</td>\n",
       "      <td>11.76</td>\n",
       "      <td>-13.603761</td>\n",
       "      <td>1</td>\n",
       "    </tr>\n",
       "    <tr>\n",
       "      <th>5350</th>\n",
       "      <td>0.6</td>\n",
       "      <td>11.5</td>\n",
       "      <td>2</td>\n",
       "      <td>14.8</td>\n",
       "      <td>2.5</td>\n",
       "      <td>4.25</td>\n",
       "      <td>11.84</td>\n",
       "      <td>-14.576105</td>\n",
       "      <td>1</td>\n",
       "    </tr>\n",
       "    <tr>\n",
       "      <th>5351</th>\n",
       "      <td>0.6</td>\n",
       "      <td>11.5</td>\n",
       "      <td>2</td>\n",
       "      <td>14.8</td>\n",
       "      <td>2.5</td>\n",
       "      <td>4.25</td>\n",
       "      <td>11.92</td>\n",
       "      <td>-15.245051</td>\n",
       "      <td>1</td>\n",
       "    </tr>\n",
       "    <tr>\n",
       "      <th>5352</th>\n",
       "      <td>0.6</td>\n",
       "      <td>11.5</td>\n",
       "      <td>2</td>\n",
       "      <td>14.8</td>\n",
       "      <td>2.5</td>\n",
       "      <td>4.25</td>\n",
       "      <td>12.00</td>\n",
       "      <td>-16.555175</td>\n",
       "      <td>1</td>\n",
       "    </tr>\n",
       "  </tbody>\n",
       "</table>\n",
       "<p>101 rows × 9 columns</p>\n",
       "</div>"
      ],
      "text/plain": [
       "      inset_dist [mm]  L [mm]  sub_thick [mm]  W [mm]  W0 [mm]  y0 [mm]  \\\n",
       "5252              0.6    11.5               2    14.8      2.5     4.25   \n",
       "5253              0.6    11.5               2    14.8      2.5     4.25   \n",
       "5254              0.6    11.5               2    14.8      2.5     4.25   \n",
       "5255              0.6    11.5               2    14.8      2.5     4.25   \n",
       "5256              0.6    11.5               2    14.8      2.5     4.25   \n",
       "...               ...     ...             ...     ...      ...      ...   \n",
       "5348              0.6    11.5               2    14.8      2.5     4.25   \n",
       "5349              0.6    11.5               2    14.8      2.5     4.25   \n",
       "5350              0.6    11.5               2    14.8      2.5     4.25   \n",
       "5351              0.6    11.5               2    14.8      2.5     4.25   \n",
       "5352              0.6    11.5               2    14.8      2.5     4.25   \n",
       "\n",
       "      Freq [GHz]  prediction  Geometry Name  \n",
       "5252        4.00   -0.173352              1  \n",
       "5253        4.08   -0.179909              1  \n",
       "5254        4.16   -0.189604              1  \n",
       "5255        4.24   -0.198633              1  \n",
       "5256        4.32   -0.206935              1  \n",
       "...          ...         ...            ...  \n",
       "5348       11.68  -12.245166              1  \n",
       "5349       11.76  -13.603761              1  \n",
       "5350       11.84  -14.576105              1  \n",
       "5351       11.92  -15.245051              1  \n",
       "5352       12.00  -16.555175              1  \n",
       "\n",
       "[101 rows x 9 columns]"
      ]
     },
     "execution_count": 19,
     "metadata": {},
     "output_type": "execute_result"
    }
   ],
   "source": [
    "geometries[0]"
   ]
  },
  {
   "cell_type": "code",
   "execution_count": 22,
   "metadata": {},
   "outputs": [
    {
     "data": {
      "image/png": "[encoded data removed]",
      "text/plain": [
       "<Figure size 640x480 with 1 Axes>"
      ]
     },
     "metadata": {},
     "output_type": "display_data"
    }
   ],
   "source": [
    "import matplotlib.pyplot as plt\n",
    "\n",
    "for geo in geometries:\n",
    "    plt.plot(geo['Freq [GHz]'], geo['prediction'])\n",
    "plt.legend(geometries_df['Geometry Name'].unique())\n",
    "plt.title('Performance vs Frequency for Unseen Geometries')\n",
    "plt.ylabel('$S_{11}$')\n",
    "plt.xlabel('Frequency [GHz]')\n",
    "plt.show()"
   ]
  },
  {
   "cell_type": "code",
   "execution_count": 21,
   "metadata": {},
   "outputs": [
    {
     "name": "stderr",
     "output_type": "stream",
     "text": [
      "/opt/miniconda3/envs/tylers_env_do_not_touch/lib/python3.9/site-packages/plotly/express/_core.py:2065: FutureWarning:\n",
      "\n",
      "When grouping with a length-1 list-like, you will need to pass a length-1 tuple to get_group in a future version of pandas. Pass `(name,)` instead of `name` to silence this warning.\n",
      "\n"
     ]
    },
    {
     "data": {
      "application/vnd.plotly.v1+json": {
       "config": {
        "plotlyServerURL": "https://plot.ly"
       },
       "data": [
        {
         "hovertemplate": "Geometry Name=1<br>Freq [GHz]=%{x}<br>prediction=%{y}<extra></extra>",
         "legendgroup": "1",
         "line": {
          "color": "#636efa",
          "dash": "solid"
         },
         "marker": {
          "symbol": "circle"
         },
         "mode": "lines",
         "name": "1",
         "orientation": "v",
         "showlegend": true,
         "type": "scatter",
         "x": [
          4,
          4.08,
          4.16,
          4.24,
          4.32,
          4.4,
          4.48,
          4.56,
          4.64,
          4.72,
          4.8,
          4.88,
          4.96,
          5.04,
          5.12,
          5.2,
          5.28,
          5.36,
          5.44,
          5.52,
          5.6,
          5.68,
          5.76,
          5.84,
          5.92,
          6,
          6.08,
          6.16,
          6.24,
          6.32,
          6.4,
          6.48,
          6.56,
          6.64,
          6.72,
          6.8,
          6.88,
          6.96,
          7.04,
          7.12,
          7.2,
          7.28,
          7.36,
          7.44,
          7.52,
          7.6,
          7.68,
          7.76,
          7.84,
          7.92,
          8,
          8.08,
          8.16,
          8.24,
          8.32,
          8.4,
          8.48,
          8.56,
          8.64,
          8.72,
          8.8,
          8.88,
          8.96,
          9.04,
          9.12,
          9.2,
          9.28,
          9.36,
          9.44,
          9.52,
          9.6,
          9.68,
          9.76,
          9.84,
          9.92,
          10,
          10.08,
          10.16,
          10.24,
          10.32,
          10.4,
          10.48,
          10.56,
          10.64,
          10.72,
          10.8,
          10.88,
          10.96,
          11.04,
          11.12,
          11.2,
          11.28,
          11.36,
          11.44,
          11.52,
          11.6,
          11.68,
          11.76,
          11.84,
          11.92,
          12
         ],
         "xaxis": "x",
         "y": [
          -0.1733516999922198,
          -0.17990920273036454,
          -0.18960380436832439,
          -0.1986334946653015,
          -0.2069351382264635,
          -0.21833180782684064,
          -0.2288277884952748,
          -0.24531535177235902,
          -0.25917272995855234,
          -0.27603964987797547,
          -0.2939793336305405,
          -0.3113219484801467,
          -0.33238714952465415,
          -0.35742631199083946,
          -0.3856447895974568,
          -0.4160423999467079,
          -0.44864088917020467,
          -0.488905075084407,
          -0.5245460426861586,
          -0.5734132855368028,
          -0.619255252286861,
          -0.6692981595385007,
          -0.7361376877978151,
          -0.8003076240557593,
          -0.8774518673341503,
          -0.9647854195841922,
          -1.032476189761043,
          -1.1140512991468694,
          -1.2158374424373768,
          -1.3074911434125358,
          -1.3343232512606364,
          -1.4498247481297493,
          -1.582517416476843,
          -1.7239925186192777,
          -1.8423317886873396,
          -1.9136570133138973,
          -2.1012061568270752,
          -2.2633746440098603,
          -2.4304141691983334,
          -2.7593444517697843,
          -3.074643636740015,
          -3.483106116759042,
          -4.081341498558215,
          -4.903855748717383,
          -6.019955717271326,
          -7.659595904830095,
          -10.039114967038856,
          -12.806133162372616,
          -15.66719399948014,
          -14.202915469828179,
          -10.184119755067876,
          -6.407809881982675,
          -5.242023461440652,
          -3.8957001508469875,
          -2.9028519857438675,
          -2.2964194057307807,
          -1.9345394215502403,
          -1.6439176542916427,
          -1.4892833305795796,
          -1.3428566925108025,
          -1.2072552805248928,
          -1.1635233952860877,
          -1.1225544900281315,
          -1.0950035845198713,
          -1.0613530116928196,
          -1.048739492247436,
          -1.0484214959447258,
          -1.0576979447731372,
          -1.0840354156891974,
          -1.1115349223439492,
          -1.143158878573243,
          -1.1711764947433285,
          -1.2270259662749021,
          -1.2863174374023962,
          -1.342065392153752,
          -1.425092977616494,
          -1.5288088075223512,
          -1.6294499695426856,
          -1.736173474734983,
          -1.857534842951476,
          -2.000033065576833,
          -2.308380112422421,
          -2.4973369897702664,
          -2.6536065455575746,
          -2.953850476744537,
          -3.313647168282394,
          -3.7064763752725316,
          -4.305505368564324,
          -5.2461340978849815,
          -5.460646739082403,
          -6.170564210356776,
          -6.94668165481822,
          -7.982980516618365,
          -8.925614498147489,
          -10.118598624548474,
          -11.21929233854093,
          -12.245166318366058,
          -13.603760688892192,
          -14.576105325621919,
          -15.245050639640839,
          -16.555175459821037
         ],
         "yaxis": "y"
        },
        {
         "hovertemplate": "Geometry Name=2<br>Freq [GHz]=%{x}<br>prediction=%{y}<extra></extra>",
         "legendgroup": "2",
         "line": {
          "color": "#EF553B",
          "dash": "solid"
         },
         "marker": {
          "symbol": "circle"
         },
         "mode": "lines",
         "name": "2",
         "orientation": "v",
         "showlegend": true,
         "type": "scatter",
         "x": [
          4,
          4.08,
          4.16,
          4.24,
          4.32,
          4.4,
          4.48,
          4.56,
          4.64,
          4.72,
          4.8,
          4.88,
          4.96,
          5.04,
          5.12,
          5.2,
          5.28,
          5.36,
          5.44,
          5.52,
          5.6,
          5.68,
          5.76,
          5.84,
          5.92,
          6,
          6.08,
          6.16,
          6.24,
          6.32,
          6.4,
          6.48,
          6.56,
          6.64,
          6.72,
          6.8,
          6.88,
          6.96,
          7.04,
          7.12,
          7.2,
          7.28,
          7.36,
          7.44,
          7.52,
          7.6,
          7.68,
          7.76,
          7.84,
          7.92,
          8,
          8.08,
          8.16,
          8.24,
          8.32,
          8.4,
          8.48,
          8.56,
          8.64,
          8.72,
          8.8,
          8.88,
          8.96,
          9.04,
          9.12,
          9.2,
          9.28,
          9.36,
          9.44,
          9.52,
          9.6,
          9.68,
          9.76,
          9.84,
          9.92,
          10,
          10.08,
          10.16,
          10.24,
          10.32,
          10.4,
          10.48,
          10.56,
          10.64,
          10.72,
          10.8,
          10.88,
          10.96,
          11.04,
          11.12,
          11.2,
          11.28,
          11.36,
          11.44,
          11.52,
          11.6,
          11.68,
          11.76,
          11.84,
          11.92,
          12
         ],
         "xaxis": "x",
         "y": [
          -0.18467241679365312,
          -0.18914417757995117,
          -0.197864949343855,
          -0.20800563219048396,
          -0.222218245465537,
          -0.22879470144748668,
          -0.24492995810070703,
          -0.2671454444679251,
          -0.275465442304234,
          -0.29515586100812685,
          -0.3143907894016064,
          -0.3366716205691045,
          -0.3763795525592172,
          -0.3909494148598941,
          -0.4324105496123952,
          -0.4646130712640677,
          -0.5142842136832034,
          -0.5449093162515405,
          -0.591955875057087,
          -0.6485586573510822,
          -0.7138601018811066,
          -0.7874348271673477,
          -0.8675988470647181,
          -1.0031013195055998,
          -1.0573375822746358,
          -1.1789676224183112,
          -1.301934659008061,
          -1.4179926589721692,
          -1.6001404268308788,
          -1.743260133565574,
          -1.9930504467749561,
          -2.126875138202345,
          -2.35813399453162,
          -2.600745893070068,
          -2.9259108715972886,
          -3.289102048061222,
          -3.554586104015195,
          -3.890457728390646,
          -4.347010072900741,
          -5.025362150484542,
          -6.026506617220691,
          -7.036232237164137,
          -8.816950095300811,
          -11.208809552318026,
          -16.713632123414722,
          -23.15756788224658,
          -16.3808197005232,
          -11.827583515620757,
          -8.550153602610527,
          -6.290761826032537,
          -4.795221477622551,
          -3.7402756983660788,
          -3.12960820875951,
          -2.4507136465303305,
          -2.0791244887872926,
          -1.7113626836458777,
          -1.5943466949288796,
          -1.3932679336081863,
          -1.294410307294708,
          -1.2087549867337064,
          -1.130693316597856,
          -1.09139935371956,
          -1.081704502193148,
          -1.0236013382295333,
          -1.0024258398888999,
          -0.9960447612985524,
          -0.9978463618315028,
          -1.0150437679772097,
          -1.047611052512548,
          -1.0799923195664918,
          -1.105940473716654,
          -1.144904919724506,
          -1.1954658551542854,
          -1.2758951222366486,
          -1.3261530492944908,
          -1.3991567162939675,
          -1.5351266573485598,
          -1.6213226468597004,
          -1.751238558340479,
          -1.8571510143080323,
          -2.001343492756505,
          -2.304122331355172,
          -2.486324544810214,
          -2.686829960522464,
          -3.0325661544348943,
          -3.3980690154984203,
          -3.814422981924032,
          -4.582500463644995,
          -5.348717062557105,
          -5.535045612713818,
          -6.210796878644607,
          -6.962173207993401,
          -7.9567242296458796,
          -8.869292868917855,
          -9.890323327353249,
          -11.143540083821035,
          -11.744109155539094,
          -12.428757109547245,
          -13.511917344818672,
          -14.681070433816219,
          -14.494985805577626
         ],
         "yaxis": "y"
        },
        {
         "hovertemplate": "Geometry Name=3<br>Freq [GHz]=%{x}<br>prediction=%{y}<extra></extra>",
         "legendgroup": "3",
         "line": {
          "color": "#00cc96",
          "dash": "solid"
         },
         "marker": {
          "symbol": "circle"
         },
         "mode": "lines",
         "name": "3",
         "orientation": "v",
         "showlegend": true,
         "type": "scatter",
         "x": [
          4,
          4.08,
          4.16,
          4.24,
          4.32,
          4.4,
          4.48,
          4.56,
          4.64,
          4.72,
          4.8,
          4.88,
          4.96,
          5.04,
          5.12,
          5.2,
          5.28,
          5.36,
          5.44,
          5.52,
          5.6,
          5.68,
          5.76,
          5.84,
          5.92,
          6,
          6.08,
          6.16,
          6.24,
          6.32,
          6.4,
          6.48,
          6.56,
          6.64,
          6.72,
          6.8,
          6.88,
          6.96,
          7.04,
          7.12,
          7.2,
          7.28,
          7.36,
          7.44,
          7.52,
          7.6,
          7.68,
          7.76,
          7.84,
          7.92,
          8,
          8.08,
          8.16,
          8.24,
          8.32,
          8.4,
          8.48,
          8.56,
          8.64,
          8.72,
          8.8,
          8.88,
          8.96,
          9.04,
          9.12,
          9.2,
          9.28,
          9.36,
          9.44,
          9.52,
          9.6,
          9.68,
          9.76,
          9.84,
          9.92,
          10,
          10.08,
          10.16,
          10.24,
          10.32,
          10.4,
          10.48,
          10.56,
          10.64,
          10.72,
          10.8,
          10.88,
          10.96,
          11.04,
          11.12,
          11.2,
          11.28,
          11.36,
          11.44,
          11.52,
          11.6,
          11.68,
          11.76,
          11.84,
          11.92,
          12
         ],
         "xaxis": "x",
         "y": [
          -0.2585093948545529,
          -0.2684119028612321,
          -0.2784551819176778,
          -0.2930000052999056,
          -0.3079598518850112,
          -0.32424748346592197,
          -0.3354984640085639,
          -0.35450537092792195,
          -0.3776351756002776,
          -0.4065872808894935,
          -0.42524764037149054,
          -0.44118363210794087,
          -0.4791961306593166,
          -0.5122603113998107,
          -0.5418416834532518,
          -0.5805810465629642,
          -0.618810882600645,
          -0.6585580070927068,
          -0.7047303298844848,
          -0.7575929314954875,
          -0.830789581480687,
          -0.9057016666642842,
          -0.9288162038370276,
          -1.015724980212066,
          -1.076540962777481,
          -1.1842424076238596,
          -1.2769836952851512,
          -1.3969613091662179,
          -1.50573483724269,
          -1.6490614914734407,
          -1.8418435698368651,
          -2.0087193131304226,
          -2.262590144474379,
          -2.4891310986944153,
          -2.881956216588926,
          -3.4825844255925418,
          -4.2167088444548675,
          -5.338066027641692,
          -6.826747257726013,
          -9.878826194974517,
          -11.29895975690847,
          -12.007176209880681,
          -13.27167847160859,
          -14.109403011421621,
          -12.512889318170783,
          -7.059481155961309,
          -6.362388556254275,
          -4.785425080133713,
          -3.3423560428970216,
          -2.6094003166889053,
          -2.0588794489250923,
          -1.8364456209695292,
          -1.6964672806959493,
          -1.4931334760330632,
          -1.41148318345854,
          -1.3740953532554592,
          -1.3495715305373455,
          -1.3429636618115635,
          -1.3511037903429814,
          -1.3862945834468456,
          -1.4531329581152774,
          -1.449405339828586,
          -1.5147402586144683,
          -1.5613272426124185,
          -1.6341663047264186,
          -1.7217295992058796,
          -1.8694696637562933,
          -1.9454393090724869,
          -2.016304238918551,
          -2.1730100495248443,
          -2.287022248673078,
          -2.4905797937899226,
          -2.592239023454357,
          -2.8496755432447753,
          -3.144761150205077,
          -3.2759292868320484,
          -3.79748245875626,
          -4.2318358052671305,
          -4.642840339278526,
          -5.26049360843197,
          -5.781221330118893,
          -6.13339711770684,
          -7.872615493351705,
          -9.351336877267077,
          -10.717014147120308,
          -12.298573044716184,
          -12.035937476520361,
          -13.0075135880309,
          -16.518557352407065,
          -17.31278403604769,
          -16.94026496620363,
          -16.515696052618708,
          -15.885643384860838,
          -15.31308097577076,
          -14.614979788973518,
          -14.594813103128734,
          -14.491051634619918,
          -14.476587043648356,
          -15.508633343397738,
          -15.011352814009133,
          -16.042352749994556
         ],
         "yaxis": "y"
        },
        {
         "hovertemplate": "Geometry Name=4<br>Freq [GHz]=%{x}<br>prediction=%{y}<extra></extra>",
         "legendgroup": "4",
         "line": {
          "color": "#ab63fa",
          "dash": "solid"
         },
         "marker": {
          "symbol": "circle"
         },
         "mode": "lines",
         "name": "4",
         "orientation": "v",
         "showlegend": true,
         "type": "scatter",
         "x": [
          4,
          4.08,
          4.16,
          4.24,
          4.32,
          4.4,
          4.48,
          4.56,
          4.64,
          4.72,
          4.8,
          4.88,
          4.96,
          5.04,
          5.12,
          5.2,
          5.28,
          5.36,
          5.44,
          5.52,
          5.6,
          5.68,
          5.76,
          5.84,
          5.92,
          6,
          6.08,
          6.16,
          6.24,
          6.32,
          6.4,
          6.48,
          6.56,
          6.64,
          6.72,
          6.8,
          6.88,
          6.96,
          7.04,
          7.12,
          7.2,
          7.28,
          7.36,
          7.44,
          7.52,
          7.6,
          7.68,
          7.76,
          7.84,
          7.92,
          8,
          8.08,
          8.16,
          8.24,
          8.32,
          8.4,
          8.48,
          8.56,
          8.64,
          8.72,
          8.8,
          8.88,
          8.96,
          9.04,
          9.12,
          9.2,
          9.28,
          9.36,
          9.44,
          9.52,
          9.6,
          9.68,
          9.76,
          9.84,
          9.92,
          10,
          10.08,
          10.16,
          10.24,
          10.32,
          10.4,
          10.48,
          10.56,
          10.64,
          10.72,
          10.8,
          10.88,
          10.96,
          11.04,
          11.12,
          11.2,
          11.28,
          11.36,
          11.44,
          11.52,
          11.6,
          11.68,
          11.76,
          11.84,
          11.92,
          12
         ],
         "xaxis": "x",
         "y": [
          -0.24120280336171365,
          -0.2512711519457299,
          -0.26323280209973793,
          -0.27383043521552836,
          -0.2860448065577421,
          -0.29023856117758856,
          -0.3118292563487611,
          -0.3285542326504321,
          -0.3453962778438763,
          -0.3508614945168173,
          -0.37129123986227264,
          -0.3844129541281361,
          -0.41654676451853556,
          -0.43412802584554194,
          -0.44792331076449304,
          -0.49941047525405863,
          -0.5080088279796977,
          -0.5533120521430044,
          -0.5879745894192161,
          -0.6144390349017647,
          -0.6493028088171632,
          -0.7017762332013818,
          -0.7278052530891997,
          -0.7637029704018999,
          -0.8068173815916012,
          -0.8444025604390927,
          -0.8815325141597788,
          -0.8768862491254066,
          -0.9948793318292946,
          -1.0404973566130453,
          -1.0921331167168915,
          -1.1614856061283132,
          -1.2482410695996344,
          -1.328527101644593,
          -1.4830999445981163,
          -1.604468619845827,
          -1.8217286698584287,
          -2.0619902087461774,
          -2.0722996116927,
          -2.8610699569966545,
          -3.5881185620834852,
          -4.489526769336118,
          -3.983191167587875,
          -8.022034762142093,
          -6.807273706744193,
          -7.222801767459794,
          -5.697331791812966,
          -4.341164310551095,
          -3.3318296679930124,
          -2.642106842881231,
          -2.2651656199024566,
          -1.9696802319681623,
          -1.6138698728611283,
          -1.4714271793170735,
          -1.4199386812548198,
          -1.3682320731660471,
          -1.3607740307181335,
          -1.381978619793583,
          -1.3960224837518174,
          -1.4363179011398415,
          -1.4814641197662695,
          -1.5082131825095821,
          -1.5898585186113134,
          -1.6264676611796451,
          -1.7469711369863175,
          -1.8231321761421428,
          -1.961943178389657,
          -2.034084811969273,
          -2.1132688496676075,
          -2.2629285620265605,
          -2.394050206679089,
          -2.5528660476203666,
          -2.7214351780093744,
          -2.8924991637741546,
          -3.1613199462354746,
          -3.324079495551801,
          -3.8540513436672903,
          -4.1331698651236435,
          -4.443081192067603,
          -4.903520261898559,
          -5.390258205412751,
          -6.261898139810742,
          -7.594304825879985,
          -8.269022982517217,
          -10.369225875909244,
          -11.433124018588433,
          -12.95448863771738,
          -15.223972573082632,
          -16.74428804156266,
          -18.82768688474747,
          -22.529366982168824,
          -26.80812141777508,
          -31.22141692895079,
          -30.401952581869732,
          -27.440565715650838,
          -25.394370133971005,
          -23.93897922882223,
          -23.52159371274321,
          -21.53950558355876,
          -19.82958315909166,
          -18.447961089150287
         ],
         "yaxis": "y"
        },
        {
         "hovertemplate": "Geometry Name=5<br>Freq [GHz]=%{x}<br>prediction=%{y}<extra></extra>",
         "legendgroup": "5",
         "line": {
          "color": "#FFA15A",
          "dash": "solid"
         },
         "marker": {
          "symbol": "circle"
         },
         "mode": "lines",
         "name": "5",
         "orientation": "v",
         "showlegend": true,
         "type": "scatter",
         "x": [
          4,
          4.08,
          4.16,
          4.24,
          4.32,
          4.4,
          4.48,
          4.56,
          4.64,
          4.72,
          4.8,
          4.88,
          4.96,
          5.04,
          5.12,
          5.2,
          5.28,
          5.36,
          5.44,
          5.52,
          5.6,
          5.68,
          5.76,
          5.84,
          5.92,
          6,
          6.08,
          6.16,
          6.24,
          6.32,
          6.4,
          6.48,
          6.56,
          6.64,
          6.72,
          6.8,
          6.88,
          6.96,
          7.04,
          7.12,
          7.2,
          7.28,
          7.36,
          7.44,
          7.52,
          7.6,
          7.68,
          7.76,
          7.84,
          7.92,
          8,
          8.08,
          8.16,
          8.24,
          8.32,
          8.4,
          8.48,
          8.56,
          8.64,
          8.72,
          8.8,
          8.88,
          8.96,
          9.04,
          9.12,
          9.2,
          9.28,
          9.36,
          9.44,
          9.52,
          9.6,
          9.68,
          9.76,
          9.84,
          9.92,
          10,
          10.08,
          10.16,
          10.24,
          10.32,
          10.4,
          10.48,
          10.56,
          10.64,
          10.72,
          10.8,
          10.88,
          10.96,
          11.04,
          11.12,
          11.2,
          11.28,
          11.36,
          11.44,
          11.52,
          11.6,
          11.68,
          11.76,
          11.84,
          11.92,
          12
         ],
         "xaxis": "x",
         "y": [
          -0.24113172568861033,
          -0.2508995041949359,
          -0.262760950179725,
          -0.27339747852998425,
          -0.2854799204702846,
          -0.28874476379617325,
          -0.3115261926852931,
          -0.32796322263727634,
          -0.3448552015520217,
          -0.3505645887822862,
          -0.3699345506479619,
          -0.38318662458853425,
          -0.41121104942866027,
          -0.4323209377919694,
          -0.4477438811896659,
          -0.4991657627962133,
          -0.5076119251667054,
          -0.5524930187570555,
          -0.5879404837374035,
          -0.6133680698547583,
          -0.6489415738794678,
          -0.7015540623193322,
          -0.7278052530891997,
          -0.7635034555197737,
          -0.8067459781146117,
          -0.8442443390494329,
          -0.8813742927701191,
          -0.8768862491254066,
          -0.9948793318292946,
          -1.0404973566130453,
          -1.0921331167168915,
          -1.1614856061283132,
          -1.2482410695996344,
          -1.328527101644593,
          -1.4825859491289566,
          -1.6042164893313582,
          -1.8205328528997815,
          -2.0618898204223313,
          -2.07248023676301,
          -2.8610699569966545,
          -3.5881185620834852,
          -4.489526769336118,
          -3.983191167587875,
          -8.022034762142093,
          -6.807273706744193,
          -7.222801767459794,
          -5.697331791812966,
          -4.341164310551095,
          -3.3318296679930124,
          -2.642106842881231,
          -2.2651656199024566,
          -1.9696802319681623,
          -1.6138698728611283,
          -1.4714271793170735,
          -1.4199386812548198,
          -1.3682320731660471,
          -1.3607740307181335,
          -1.381978619793583,
          -1.3960224837518174,
          -1.4361539665995207,
          -1.4813001852259486,
          -1.5081354198133679,
          -1.5898585186113134,
          -1.626620122420644,
          -1.7469711369863175,
          -1.8231321761421428,
          -1.9621346952169194,
          -2.0343134075575504,
          -2.1132688496676075,
          -2.2633228593181736,
          -2.394050206679089,
          -2.553309173876191,
          -2.7214351780093744,
          -2.8924991637741546,
          -3.1626286842902265,
          -3.324580273118602,
          -3.8545769408905506,
          -4.1331698651236435,
          -4.443081192067603,
          -4.903520261898559,
          -5.390258205412751,
          -6.261898139810742,
          -7.594304825879985,
          -8.269022982517217,
          -10.369225875909244,
          -11.433124018588433,
          -12.95448863771738,
          -15.226098700070825,
          -16.754585906055397,
          -18.82212373012828,
          -22.526924367787338,
          -26.7688750501551,
          -31.19356563966626,
          -30.401952581869732,
          -27.440565715650838,
          -25.394370133971005,
          -23.927757946149377,
          -23.51386466340825,
          -21.53950558355876,
          -19.82958315909166,
          -18.447961089150287
         ],
         "yaxis": "y"
        },
        {
         "hovertemplate": "Geometry Name=6<br>Freq [GHz]=%{x}<br>prediction=%{y}<extra></extra>",
         "legendgroup": "6",
         "line": {
          "color": "#19d3f3",
          "dash": "solid"
         },
         "marker": {
          "symbol": "circle"
         },
         "mode": "lines",
         "name": "6",
         "orientation": "v",
         "showlegend": true,
         "type": "scatter",
         "x": [
          4,
          4.08,
          4.16,
          4.24,
          4.32,
          4.4,
          4.48,
          4.56,
          4.64,
          4.72,
          4.8,
          4.88,
          4.96,
          5.04,
          5.12,
          5.2,
          5.28,
          5.36,
          5.44,
          5.52,
          5.6,
          5.68,
          5.76,
          5.84,
          5.92,
          6,
          6.08,
          6.16,
          6.24,
          6.32,
          6.4,
          6.48,
          6.56,
          6.64,
          6.72,
          6.8,
          6.88,
          6.96,
          7.04,
          7.12,
          7.2,
          7.28,
          7.36,
          7.44,
          7.52,
          7.6,
          7.68,
          7.76,
          7.84,
          7.92,
          8,
          8.08,
          8.16,
          8.24,
          8.32,
          8.4,
          8.48,
          8.56,
          8.64,
          8.72,
          8.8,
          8.88,
          8.96,
          9.04,
          9.12,
          9.2,
          9.28,
          9.36,
          9.44,
          9.52,
          9.6,
          9.68,
          9.76,
          9.84,
          9.92,
          10,
          10.08,
          10.16,
          10.24,
          10.32,
          10.4,
          10.48,
          10.56,
          10.64,
          10.72,
          10.8,
          10.88,
          10.96,
          11.04,
          11.12,
          11.2,
          11.28,
          11.36,
          11.44,
          11.52,
          11.6,
          11.68,
          11.76,
          11.84,
          11.92,
          12
         ],
         "xaxis": "x",
         "y": [
          -0.2420744134455965,
          -0.24923769042491847,
          -0.26208373016569747,
          -0.2741684545907281,
          -0.2865594436463662,
          -0.30047248543804045,
          -0.31386309769343285,
          -0.33120362640898354,
          -0.3513736702552122,
          -0.38872212412210827,
          -0.38923216178623843,
          -0.40474461552831054,
          -0.4545176050186089,
          -0.4594816365623679,
          -0.5050683398220758,
          -0.5166129748771339,
          -0.5458843468939366,
          -0.6082048815028834,
          -0.6134089769591813,
          -0.6564949543224594,
          -0.6961490477692899,
          -0.7458362089403626,
          -0.7667833655474539,
          -0.8505783086804395,
          -0.935292503921262,
          -0.949345633422583,
          -0.9991789106533007,
          -1.1500890964794481,
          -1.1375591213381893,
          -1.2075783423237967,
          -1.3028373393116737,
          -1.4618117751698532,
          -1.8384453486663919,
          -1.8770781311845504,
          -2.1604166743653597,
          -3.268233333491193,
          -3.320790525305332,
          -4.066958884923012,
          -5.3719370131402195,
          -5.95007803600704,
          -6.9914413327262315,
          -6.510157370479105,
          -5.485745130532208,
          -3.8069679887736183,
          -2.8789785690856715,
          -2.191462009324815,
          -1.6612594203700703,
          -1.473780794766631,
          -1.2404279029141578,
          -1.165171504018114,
          -1.1191041850932801,
          -1.1043247421954,
          -1.092704115788151,
          -1.0804547842227692,
          -1.09334199490617,
          -1.1211065733898045,
          -1.1587693145809213,
          -1.2207492946883463,
          -1.2706629672603698,
          -1.339692756001177,
          -1.4023874954978672,
          -1.4755169858779038,
          -1.5602810271669634,
          -1.6206711586128835,
          -1.7609495009897702,
          -1.8246297577767587,
          -1.964958085199863,
          -2.040180670158741,
          -2.1371549649538104,
          -2.275848910181298,
          -2.4144535702139196,
          -2.581731393906562,
          -2.7533287049690998,
          -2.951945210636944,
          -3.184052234833908,
          -3.398332849327823,
          -3.739814499982725,
          -4.185419843374834,
          -4.61751205306798,
          -5.010467090099512,
          -5.969217240807902,
          -6.656540417466777,
          -7.690598115065815,
          -8.852258250395264,
          -10.099838533849717,
          -11.212822859909473,
          -12.80709158239004,
          -14.496911157408265,
          -16.032037924618127,
          -17.568731320739417,
          -19.150402365001444,
          -20.710203555454825,
          -22.495656308519973,
          -23.8730547133104,
          -22.846440923616132,
          -24.524531811107444,
          -23.979636170832848,
          -21.671812533755574,
          -19.925750529437007,
          -19.591367409300148,
          -18.412700947947126
         ],
         "yaxis": "y"
        }
       ],
       "layout": {
        "height": 750,
        "legend": {
         "title": {
          "text": "Geometry Name"
         },
         "tracegroupgap": 0
        },
        "template": {
         "data": {
          "bar": [
           {
            "error_x": {
             "color": "#2a3f5f"
            },
            "error_y": {
             "color": "#2a3f5f"
            },
            "marker": {
             "line": {
              "color": "#E5ECF6",
              "width": 0.5
             },
             "pattern": {
              "fillmode": "overlay",
              "size": 10,
              "solidity": 0.2
             }
            },
            "type": "bar"
           }
          ],
          "barpolar": [
           {
            "marker": {
             "line": {
              "color": "#E5ECF6",
              "width": 0.5
             },
             "pattern": {
              "fillmode": "overlay",
              "size": 10,
              "solidity": 0.2
             }
            },
            "type": "barpolar"
           }
          ],
          "carpet": [
           {
            "aaxis": {
             "endlinecolor": "#2a3f5f",
             "gridcolor": "white",
             "linecolor": "white",
             "minorgridcolor": "white",
             "startlinecolor": "#2a3f5f"
            },
            "baxis": {
             "endlinecolor": "#2a3f5f",
             "gridcolor": "white",
             "linecolor": "white",
             "minorgridcolor": "white",
             "startlinecolor": "#2a3f5f"
            },
            "type": "carpet"
           }
          ],
          "choropleth": [
           {
            "colorbar": {
             "outlinewidth": 0,
             "ticks": ""
            },
            "type": "choropleth"
           }
          ],
          "contour": [
           {
            "colorbar": {
             "outlinewidth": 0,
             "ticks": ""
            },
            "colorscale": [
             [
              0,
              "#0d0887"
             ],
             [
              0.1111111111111111,
              "#46039f"
             ],
             [
              0.2222222222222222,
              "#7201a8"
             ],
             [
              0.3333333333333333,
              "#9c179e"
             ],
             [
              0.4444444444444444,
              "#bd3786"
             ],
             [
              0.5555555555555556,
              "#d8576b"
             ],
             [
              0.6666666666666666,
              "#ed7953"
             ],
             [
              0.7777777777777778,
              "#fb9f3a"
             ],
             [
              0.8888888888888888,
              "#fdca26"
             ],
             [
              1,
              "#f0f921"
             ]
            ],
            "type": "contour"
           }
          ],
          "contourcarpet": [
           {
            "colorbar": {
             "outlinewidth": 0,
             "ticks": ""
            },
            "type": "contourcarpet"
           }
          ],
          "heatmap": [
           {
            "colorbar": {
             "outlinewidth": 0,
             "ticks": ""
            },
            "colorscale": [
             [
              0,
              "#0d0887"
             ],
             [
              0.1111111111111111,
              "#46039f"
             ],
             [
              0.2222222222222222,
              "#7201a8"
             ],
             [
              0.3333333333333333,
              "#9c179e"
             ],
             [
              0.4444444444444444,
              "#bd3786"
             ],
             [
              0.5555555555555556,
              "#d8576b"
             ],
             [
              0.6666666666666666,
              "#ed7953"
             ],
             [
              0.7777777777777778,
              "#fb9f3a"
             ],
             [
              0.8888888888888888,
              "#fdca26"
             ],
             [
              1,
              "#f0f921"
             ]
            ],
            "type": "heatmap"
           }
          ],
          "heatmapgl": [
           {
            "colorbar": {
             "outlinewidth": 0,
             "ticks": ""
            },
            "colorscale": [
             [
              0,
              "#0d0887"
             ],
             [
              0.1111111111111111,
              "#46039f"
             ],
             [
              0.2222222222222222,
              "#7201a8"
             ],
             [
              0.3333333333333333,
              "#9c179e"
             ],
             [
              0.4444444444444444,
              "#bd3786"
             ],
             [
              0.5555555555555556,
              "#d8576b"
             ],
             [
              0.6666666666666666,
              "#ed7953"
             ],
             [
              0.7777777777777778,
              "#fb9f3a"
             ],
             [
              0.8888888888888888,
              "#fdca26"
             ],
             [
              1,
              "#f0f921"
             ]
            ],
            "type": "heatmapgl"
           }
          ],
          "histogram": [
           {
            "marker": {
             "pattern": {
              "fillmode": "overlay",
              "size": 10,
              "solidity": 0.2
             }
            },
            "type": "histogram"
           }
          ],
          "histogram2d": [
           {
            "colorbar": {
             "outlinewidth": 0,
             "ticks": ""
            },
            "colorscale": [
             [
              0,
              "#0d0887"
             ],
             [
              0.1111111111111111,
              "#46039f"
             ],
             [
              0.2222222222222222,
              "#7201a8"
             ],
             [
              0.3333333333333333,
              "#9c179e"
             ],
             [
              0.4444444444444444,
              "#bd3786"
             ],
             [
              0.5555555555555556,
              "#d8576b"
             ],
             [
              0.6666666666666666,
              "#ed7953"
             ],
             [
              0.7777777777777778,
              "#fb9f3a"
             ],
             [
              0.8888888888888888,
              "#fdca26"
             ],
             [
              1,
              "#f0f921"
             ]
            ],
            "type": "histogram2d"
           }
          ],
          "histogram2dcontour": [
           {
            "colorbar": {
             "outlinewidth": 0,
             "ticks": ""
            },
            "colorscale": [
             [
              0,
              "#0d0887"
             ],
             [
              0.1111111111111111,
              "#46039f"
             ],
             [
              0.2222222222222222,
              "#7201a8"
             ],
             [
              0.3333333333333333,
              "#9c179e"
             ],
             [
              0.4444444444444444,
              "#bd3786"
             ],
             [
              0.5555555555555556,
              "#d8576b"
             ],
             [
              0.6666666666666666,
              "#ed7953"
             ],
             [
              0.7777777777777778,
              "#fb9f3a"
             ],
             [
              0.8888888888888888,
              "#fdca26"
             ],
             [
              1,
              "#f0f921"
             ]
            ],
            "type": "histogram2dcontour"
           }
          ],
          "mesh3d": [
           {
            "colorbar": {
             "outlinewidth": 0,
             "ticks": ""
            },
            "type": "mesh3d"
           }
          ],
          "parcoords": [
           {
            "line": {
             "colorbar": {
              "outlinewidth": 0,
              "ticks": ""
             }
            },
            "type": "parcoords"
           }
          ],
          "pie": [
           {
            "automargin": true,
            "type": "pie"
           }
          ],
          "scatter": [
           {
            "fillpattern": {
             "fillmode": "overlay",
             "size": 10,
             "solidity": 0.2
            },
            "type": "scatter"
           }
          ],
          "scatter3d": [
           {
            "line": {
             "colorbar": {
              "outlinewidth": 0,
              "ticks": ""
             }
            },
            "marker": {
             "colorbar": {
              "outlinewidth": 0,
              "ticks": ""
             }
            },
            "type": "scatter3d"
           }
          ],
          "scattercarpet": [
           {
            "marker": {
             "colorbar": {
              "outlinewidth": 0,
              "ticks": ""
             }
            },
            "type": "scattercarpet"
           }
          ],
          "scattergeo": [
           {
            "marker": {
             "colorbar": {
              "outlinewidth": 0,
              "ticks": ""
             }
            },
            "type": "scattergeo"
           }
          ],
          "scattergl": [
           {
            "marker": {
             "colorbar": {
              "outlinewidth": 0,
              "ticks": ""
             }
            },
            "type": "scattergl"
           }
          ],
          "scattermapbox": [
           {
            "marker": {
             "colorbar": {
              "outlinewidth": 0,
              "ticks": ""
             }
            },
            "type": "scattermapbox"
           }
          ],
          "scatterpolar": [
           {
            "marker": {
             "colorbar": {
              "outlinewidth": 0,
              "ticks": ""
             }
            },
            "type": "scatterpolar"
           }
          ],
          "scatterpolargl": [
           {
            "marker": {
             "colorbar": {
              "outlinewidth": 0,
              "ticks": ""
             }
            },
            "type": "scatterpolargl"
           }
          ],
          "scatterternary": [
           {
            "marker": {
             "colorbar": {
              "outlinewidth": 0,
              "ticks": ""
             }
            },
            "type": "scatterternary"
           }
          ],
          "surface": [
           {
            "colorbar": {
             "outlinewidth": 0,
             "ticks": ""
            },
            "colorscale": [
             [
              0,
              "#0d0887"
             ],
             [
              0.1111111111111111,
              "#46039f"
             ],
             [
              0.2222222222222222,
              "#7201a8"
             ],
             [
              0.3333333333333333,
              "#9c179e"
             ],
             [
              0.4444444444444444,
              "#bd3786"
             ],
             [
              0.5555555555555556,
              "#d8576b"
             ],
             [
              0.6666666666666666,
              "#ed7953"
             ],
             [
              0.7777777777777778,
              "#fb9f3a"
             ],
             [
              0.8888888888888888,
              "#fdca26"
             ],
             [
              1,
              "#f0f921"
             ]
            ],
            "type": "surface"
           }
          ],
          "table": [
           {
            "cells": {
             "fill": {
              "color": "#EBF0F8"
             },
             "line": {
              "color": "white"
             }
            },
            "header": {
             "fill": {
              "color": "#C8D4E3"
             },
             "line": {
              "color": "white"
             }
            },
            "type": "table"
           }
          ]
         },
         "layout": {
          "annotationdefaults": {
           "arrowcolor": "#2a3f5f",
           "arrowhead": 0,
           "arrowwidth": 1
          },
          "autotypenumbers": "strict",
          "coloraxis": {
           "colorbar": {
            "outlinewidth": 0,
            "ticks": ""
           }
          },
          "colorscale": {
           "diverging": [
            [
             0,
             "#8e0152"
            ],
            [
             0.1,
             "#c51b7d"
            ],
            [
             0.2,
             "#de77ae"
            ],
            [
             0.3,
             "#f1b6da"
            ],
            [
             0.4,
             "#fde0ef"
            ],
            [
             0.5,
             "#f7f7f7"
            ],
            [
             0.6,
             "#e6f5d0"
            ],
            [
             0.7,
             "#b8e186"
            ],
            [
             0.8,
             "#7fbc41"
            ],
            [
             0.9,
             "#4d9221"
            ],
            [
             1,
             "#276419"
            ]
           ],
           "sequential": [
            [
             0,
             "#0d0887"
            ],
            [
             0.1111111111111111,
             "#46039f"
            ],
            [
             0.2222222222222222,
             "#7201a8"
            ],
            [
             0.3333333333333333,
             "#9c179e"
            ],
            [
             0.4444444444444444,
             "#bd3786"
            ],
            [
             0.5555555555555556,
             "#d8576b"
            ],
            [
             0.6666666666666666,
             "#ed7953"
            ],
            [
             0.7777777777777778,
             "#fb9f3a"
            ],
            [
             0.8888888888888888,
             "#fdca26"
            ],
            [
             1,
             "#f0f921"
            ]
           ],
           "sequentialminus": [
            [
             0,
             "#0d0887"
            ],
            [
             0.1111111111111111,
             "#46039f"
            ],
            [
             0.2222222222222222,
             "#7201a8"
            ],
            [
             0.3333333333333333,
             "#9c179e"
            ],
            [
             0.4444444444444444,
             "#bd3786"
            ],
            [
             0.5555555555555556,
             "#d8576b"
            ],
            [
             0.6666666666666666,
             "#ed7953"
            ],
            [
             0.7777777777777778,
             "#fb9f3a"
            ],
            [
             0.8888888888888888,
             "#fdca26"
            ],
            [
             1,
             "#f0f921"
            ]
           ]
          },
          "colorway": [
           "#636efa",
           "#EF553B",
           "#00cc96",
           "#ab63fa",
           "#FFA15A",
           "#19d3f3",
           "#FF6692",
           "#B6E880",
           "#FF97FF",
           "#FECB52"
          ],
          "font": {
           "color": "#2a3f5f"
          },
          "geo": {
           "bgcolor": "white",
           "lakecolor": "white",
           "landcolor": "#E5ECF6",
           "showlakes": true,
           "showland": true,
           "subunitcolor": "white"
          },
          "hoverlabel": {
           "align": "left"
          },
          "hovermode": "closest",
          "mapbox": {
           "style": "light"
          },
          "paper_bgcolor": "white",
          "plot_bgcolor": "#E5ECF6",
          "polar": {
           "angularaxis": {
            "gridcolor": "white",
            "linecolor": "white",
            "ticks": ""
           },
           "bgcolor": "#E5ECF6",
           "radialaxis": {
            "gridcolor": "white",
            "linecolor": "white",
            "ticks": ""
           }
          },
          "scene": {
           "xaxis": {
            "backgroundcolor": "#E5ECF6",
            "gridcolor": "white",
            "gridwidth": 2,
            "linecolor": "white",
            "showbackground": true,
            "ticks": "",
            "zerolinecolor": "white"
           },
           "yaxis": {
            "backgroundcolor": "#E5ECF6",
            "gridcolor": "white",
            "gridwidth": 2,
            "linecolor": "white",
            "showbackground": true,
            "ticks": "",
            "zerolinecolor": "white"
           },
           "zaxis": {
            "backgroundcolor": "#E5ECF6",
            "gridcolor": "white",
            "gridwidth": 2,
            "linecolor": "white",
            "showbackground": true,
            "ticks": "",
            "zerolinecolor": "white"
           }
          },
          "shapedefaults": {
           "line": {
            "color": "#2a3f5f"
           }
          },
          "ternary": {
           "aaxis": {
            "gridcolor": "white",
            "linecolor": "white",
            "ticks": ""
           },
           "baxis": {
            "gridcolor": "white",
            "linecolor": "white",
            "ticks": ""
           },
           "bgcolor": "#E5ECF6",
           "caxis": {
            "gridcolor": "white",
            "linecolor": "white",
            "ticks": ""
           }
          },
          "title": {
           "x": 0.05
          },
          "xaxis": {
           "automargin": true,
           "gridcolor": "white",
           "linecolor": "white",
           "ticks": "",
           "title": {
            "standoff": 15
           },
           "zerolinecolor": "white",
           "zerolinewidth": 2
          },
          "yaxis": {
           "automargin": true,
           "gridcolor": "white",
           "linecolor": "white",
           "ticks": "",
           "title": {
            "standoff": 15
           },
           "zerolinecolor": "white",
           "zerolinewidth": 2
          }
         }
        },
        "title": {
         "text": "Performance vs Frequency for Unseen Geometries"
        },
        "width": 1000,
        "xaxis": {
         "anchor": "y",
         "domain": [
          0,
          1
         ],
         "title": {
          "text": "Freq [GHz]"
         }
        },
        "yaxis": {
         "anchor": "x",
         "domain": [
          0,
          1
         ],
         "title": {
          "text": "prediction"
         }
        }
       }
      },
      "text/html": [
       "<div>                            <div id=\"7b62a5e8-1a47-4977-ba8f-1ab600f8f415\" class=\"plotly-graph-div\" style=\"height:750px; width:1000px;\"></div>            <script type=\"text/javascript\">                require([\"plotly\"], function(Plotly) {                    window.PLOTLYENV=window.PLOTLYENV || {};                                    if (document.getElementById(\"7b62a5e8-1a47-4977-ba8f-1ab600f8f415\")) {                    Plotly.newPlot(                        \"7b62a5e8-1a47-4977-ba8f-1ab600f8f415\",                        [{\"hovertemplate\":\"Geometry Name=1\\u003cbr\\u003eFreq [GHz]=%{x}\\u003cbr\\u003eprediction=%{y}\\u003cextra\\u003e\\u003c\\u002fextra\\u003e\",\"legendgroup\":\"1\",\"line\":{\"color\":\"#636efa\",\"dash\":\"solid\"},\"marker\":{\"symbol\":\"circle\"},\"mode\":\"lines\",\"name\":\"1\",\"orientation\":\"v\",\"showlegend\":true,\"x\":[4.0,4.08,4.16,4.24,4.32,4.4,4.48,4.56,4.64,4.72,4.8,4.88,4.96,5.04,5.12,5.2,5.28,5.36,5.44,5.52,5.6,5.68,5.76,5.84,5.92,6.0,6.08,6.16,6.24,6.32,6.4,6.48,6.56,6.64,6.72,6.8,6.88,6.96,7.04,7.12,7.2,7.28,7.36,7.44,7.52,7.6,7.68,7.76,7.84,7.92,8.0,8.08,8.16,8.24,8.32,8.4,8.48,8.56,8.64,8.72,8.8,8.88,8.96,9.04,9.12,9.2,9.28,9.36,9.44,9.52,9.6,9.68,9.76,9.84,9.92,10.0,10.08,10.16,10.24,10.32,10.4,10.48,10.56,10.64,10.72,10.8,10.88,10.96,11.04,11.12,11.2,11.28,11.36,11.44,11.52,11.6,11.68,11.76,11.84,11.92,12.0],\"xaxis\":\"x\",\"y\":[-0.1733516999922198,-0.17990920273036454,-0.18960380436832439,-0.1986334946653015,-0.2069351382264635,-0.21833180782684064,-0.2288277884952748,-0.24531535177235902,-0.25917272995855234,-0.27603964987797547,-0.2939793336305405,-0.3113219484801467,-0.33238714952465415,-0.35742631199083946,-0.3856447895974568,-0.4160423999467079,-0.44864088917020467,-0.488905075084407,-0.5245460426861586,-0.5734132855368028,-0.619255252286861,-0.6692981595385007,-0.7361376877978151,-0.8003076240557593,-0.8774518673341503,-0.9647854195841922,-1.032476189761043,-1.1140512991468694,-1.2158374424373768,-1.3074911434125358,-1.3343232512606364,-1.4498247481297493,-1.582517416476843,-1.7239925186192777,-1.8423317886873396,-1.9136570133138973,-2.1012061568270752,-2.2633746440098603,-2.4304141691983334,-2.7593444517697843,-3.074643636740015,-3.483106116759042,-4.081341498558215,-4.903855748717383,-6.019955717271326,-7.659595904830095,-10.039114967038856,-12.806133162372616,-15.66719399948014,-14.202915469828179,-10.184119755067876,-6.407809881982675,-5.242023461440652,-3.8957001508469875,-2.9028519857438675,-2.2964194057307807,-1.9345394215502403,-1.6439176542916427,-1.4892833305795796,-1.3428566925108025,-1.2072552805248928,-1.1635233952860877,-1.1225544900281315,-1.0950035845198713,-1.0613530116928196,-1.048739492247436,-1.0484214959447258,-1.0576979447731372,-1.0840354156891974,-1.1115349223439492,-1.143158878573243,-1.1711764947433285,-1.2270259662749021,-1.2863174374023962,-1.342065392153752,-1.425092977616494,-1.5288088075223512,-1.6294499695426856,-1.736173474734983,-1.857534842951476,-2.000033065576833,-2.308380112422421,-2.4973369897702664,-2.6536065455575746,-2.953850476744537,-3.313647168282394,-3.7064763752725316,-4.305505368564324,-5.2461340978849815,-5.460646739082403,-6.170564210356776,-6.94668165481822,-7.982980516618365,-8.925614498147489,-10.118598624548474,-11.21929233854093,-12.245166318366058,-13.603760688892192,-14.576105325621919,-15.245050639640839,-16.555175459821037],\"yaxis\":\"y\",\"type\":\"scatter\"},{\"hovertemplate\":\"Geometry Name=2\\u003cbr\\u003eFreq [GHz]=%{x}\\u003cbr\\u003eprediction=%{y}\\u003cextra\\u003e\\u003c\\u002fextra\\u003e\",\"legendgroup\":\"2\",\"line\":{\"color\":\"#EF553B\",\"dash\":\"solid\"},\"marker\":{\"symbol\":\"circle\"},\"mode\":\"lines\",\"name\":\"2\",\"orientation\":\"v\",\"showlegend\":true,\"x\":[4.0,4.08,4.16,4.24,4.32,4.4,4.48,4.56,4.64,4.72,4.8,4.88,4.96,5.04,5.12,5.2,5.28,5.36,5.44,5.52,5.6,5.68,5.76,5.84,5.92,6.0,6.08,6.16,6.24,6.32,6.4,6.48,6.56,6.64,6.72,6.8,6.88,6.96,7.04,7.12,7.2,7.28,7.36,7.44,7.52,7.6,7.68,7.76,7.84,7.92,8.0,8.08,8.16,8.24,8.32,8.4,8.48,8.56,8.64,8.72,8.8,8.88,8.96,9.04,9.12,9.2,9.28,9.36,9.44,9.52,9.6,9.68,9.76,9.84,9.92,10.0,10.08,10.16,10.24,10.32,10.4,10.48,10.56,10.64,10.72,10.8,10.88,10.96,11.04,11.12,11.2,11.28,11.36,11.44,11.52,11.6,11.68,11.76,11.84,11.92,12.0],\"xaxis\":\"x\",\"y\":[-0.18467241679365312,-0.18914417757995117,-0.197864949343855,-0.20800563219048396,-0.222218245465537,-0.22879470144748668,-0.24492995810070703,-0.2671454444679251,-0.275465442304234,-0.29515586100812685,-0.3143907894016064,-0.3366716205691045,-0.3763795525592172,-0.3909494148598941,-0.4324105496123952,-0.4646130712640677,-0.5142842136832034,-0.5449093162515405,-0.591955875057087,-0.6485586573510822,-0.7138601018811066,-0.7874348271673477,-0.8675988470647181,-1.0031013195055998,-1.0573375822746358,-1.1789676224183112,-1.301934659008061,-1.4179926589721692,-1.6001404268308788,-1.743260133565574,-1.9930504467749561,-2.126875138202345,-2.35813399453162,-2.600745893070068,-2.9259108715972886,-3.289102048061222,-3.554586104015195,-3.890457728390646,-4.347010072900741,-5.025362150484542,-6.026506617220691,-7.036232237164137,-8.816950095300811,-11.208809552318026,-16.713632123414722,-23.15756788224658,-16.3808197005232,-11.827583515620757,-8.550153602610527,-6.290761826032537,-4.795221477622551,-3.7402756983660788,-3.12960820875951,-2.4507136465303305,-2.0791244887872926,-1.7113626836458777,-1.5943466949288796,-1.3932679336081863,-1.294410307294708,-1.2087549867337064,-1.130693316597856,-1.09139935371956,-1.081704502193148,-1.0236013382295333,-1.0024258398888999,-0.9960447612985524,-0.9978463618315028,-1.0150437679772097,-1.047611052512548,-1.0799923195664918,-1.105940473716654,-1.144904919724506,-1.1954658551542854,-1.2758951222366486,-1.3261530492944908,-1.3991567162939675,-1.5351266573485598,-1.6213226468597004,-1.751238558340479,-1.8571510143080323,-2.001343492756505,-2.304122331355172,-2.486324544810214,-2.686829960522464,-3.0325661544348943,-3.3980690154984203,-3.814422981924032,-4.582500463644995,-5.348717062557105,-5.535045612713818,-6.210796878644607,-6.962173207993401,-7.9567242296458796,-8.869292868917855,-9.890323327353249,-11.143540083821035,-11.744109155539094,-12.428757109547245,-13.511917344818672,-14.681070433816219,-14.494985805577626],\"yaxis\":\"y\",\"type\":\"scatter\"},{\"hovertemplate\":\"Geometry Name=3\\u003cbr\\u003eFreq [GHz]=%{x}\\u003cbr\\u003eprediction=%{y}\\u003cextra\\u003e\\u003c\\u002fextra\\u003e\",\"legendgroup\":\"3\",\"line\":{\"color\":\"#00cc96\",\"dash\":\"solid\"},\"marker\":{\"symbol\":\"circle\"},\"mode\":\"lines\",\"name\":\"3\",\"orientation\":\"v\",\"showlegend\":true,\"x\":[4.0,4.08,4.16,4.24,4.32,4.4,4.48,4.56,4.64,4.72,4.8,4.88,4.96,5.04,5.12,5.2,5.28,5.36,5.44,5.52,5.6,5.68,5.76,5.84,5.92,6.0,6.08,6.16,6.24,6.32,6.4,6.48,6.56,6.64,6.72,6.8,6.88,6.96,7.04,7.12,7.2,7.28,7.36,7.44,7.52,7.6,7.68,7.76,7.84,7.92,8.0,8.08,8.16,8.24,8.32,8.4,8.48,8.56,8.64,8.72,8.8,8.88,8.96,9.04,9.12,9.2,9.28,9.36,9.44,9.52,9.6,9.68,9.76,9.84,9.92,10.0,10.08,10.16,10.24,10.32,10.4,10.48,10.56,10.64,10.72,10.8,10.88,10.96,11.04,11.12,11.2,11.28,11.36,11.44,11.52,11.6,11.68,11.76,11.84,11.92,12.0],\"xaxis\":\"x\",\"y\":[-0.2585093948545529,-0.2684119028612321,-0.2784551819176778,-0.2930000052999056,-0.3079598518850112,-0.32424748346592197,-0.3354984640085639,-0.35450537092792195,-0.3776351756002776,-0.4065872808894935,-0.42524764037149054,-0.44118363210794087,-0.4791961306593166,-0.5122603113998107,-0.5418416834532518,-0.5805810465629642,-0.618810882600645,-0.6585580070927068,-0.7047303298844848,-0.7575929314954875,-0.830789581480687,-0.9057016666642842,-0.9288162038370276,-1.015724980212066,-1.076540962777481,-1.1842424076238596,-1.2769836952851512,-1.3969613091662179,-1.50573483724269,-1.6490614914734407,-1.8418435698368651,-2.0087193131304226,-2.262590144474379,-2.4891310986944153,-2.881956216588926,-3.4825844255925418,-4.2167088444548675,-5.338066027641692,-6.826747257726013,-9.878826194974517,-11.29895975690847,-12.007176209880681,-13.27167847160859,-14.109403011421621,-12.512889318170783,-7.059481155961309,-6.362388556254275,-4.785425080133713,-3.3423560428970216,-2.6094003166889053,-2.0588794489250923,-1.8364456209695292,-1.6964672806959493,-1.4931334760330632,-1.41148318345854,-1.3740953532554592,-1.3495715305373455,-1.3429636618115635,-1.3511037903429814,-1.3862945834468456,-1.4531329581152774,-1.449405339828586,-1.5147402586144683,-1.5613272426124185,-1.6341663047264186,-1.7217295992058796,-1.8694696637562933,-1.9454393090724869,-2.016304238918551,-2.1730100495248443,-2.287022248673078,-2.4905797937899226,-2.592239023454357,-2.8496755432447753,-3.144761150205077,-3.2759292868320484,-3.79748245875626,-4.2318358052671305,-4.642840339278526,-5.26049360843197,-5.781221330118893,-6.13339711770684,-7.872615493351705,-9.351336877267077,-10.717014147120308,-12.298573044716184,-12.035937476520361,-13.0075135880309,-16.518557352407065,-17.31278403604769,-16.94026496620363,-16.515696052618708,-15.885643384860838,-15.31308097577076,-14.614979788973518,-14.594813103128734,-14.491051634619918,-14.476587043648356,-15.508633343397738,-15.011352814009133,-16.042352749994556],\"yaxis\":\"y\",\"type\":\"scatter\"},{\"hovertemplate\":\"Geometry Name=4\\u003cbr\\u003eFreq [GHz]=%{x}\\u003cbr\\u003eprediction=%{y}\\u003cextra\\u003e\\u003c\\u002fextra\\u003e\",\"legendgroup\":\"4\",\"line\":{\"color\":\"#ab63fa\",\"dash\":\"solid\"},\"marker\":{\"symbol\":\"circle\"},\"mode\":\"lines\",\"name\":\"4\",\"orientation\":\"v\",\"showlegend\":true,\"x\":[4.0,4.08,4.16,4.24,4.32,4.4,4.48,4.56,4.64,4.72,4.8,4.88,4.96,5.04,5.12,5.2,5.28,5.36,5.44,5.52,5.6,5.68,5.76,5.84,5.92,6.0,6.08,6.16,6.24,6.32,6.4,6.48,6.56,6.64,6.72,6.8,6.88,6.96,7.04,7.12,7.2,7.28,7.36,7.44,7.52,7.6,7.68,7.76,7.84,7.92,8.0,8.08,8.16,8.24,8.32,8.4,8.48,8.56,8.64,8.72,8.8,8.88,8.96,9.04,9.12,9.2,9.28,9.36,9.44,9.52,9.6,9.68,9.76,9.84,9.92,10.0,10.08,10.16,10.24,10.32,10.4,10.48,10.56,10.64,10.72,10.8,10.88,10.96,11.04,11.12,11.2,11.28,11.36,11.44,11.52,11.6,11.68,11.76,11.84,11.92,12.0],\"xaxis\":\"x\",\"y\":[-0.24120280336171365,-0.2512711519457299,-0.26323280209973793,-0.27383043521552836,-0.2860448065577421,-0.29023856117758856,-0.3118292563487611,-0.3285542326504321,-0.3453962778438763,-0.3508614945168173,-0.37129123986227264,-0.3844129541281361,-0.41654676451853556,-0.43412802584554194,-0.44792331076449304,-0.49941047525405863,-0.5080088279796977,-0.5533120521430044,-0.5879745894192161,-0.6144390349017647,-0.6493028088171632,-0.7017762332013818,-0.7278052530891997,-0.7637029704018999,-0.8068173815916012,-0.8444025604390927,-0.8815325141597788,-0.8768862491254066,-0.9948793318292946,-1.0404973566130453,-1.0921331167168915,-1.1614856061283132,-1.2482410695996344,-1.328527101644593,-1.4830999445981163,-1.604468619845827,-1.8217286698584287,-2.0619902087461774,-2.0722996116927,-2.8610699569966545,-3.5881185620834852,-4.489526769336118,-3.983191167587875,-8.022034762142093,-6.807273706744193,-7.222801767459794,-5.697331791812966,-4.341164310551095,-3.3318296679930124,-2.642106842881231,-2.2651656199024566,-1.9696802319681623,-1.6138698728611283,-1.4714271793170735,-1.4199386812548198,-1.3682320731660471,-1.3607740307181335,-1.381978619793583,-1.3960224837518174,-1.4363179011398415,-1.4814641197662695,-1.5082131825095821,-1.5898585186113134,-1.6264676611796451,-1.7469711369863175,-1.8231321761421428,-1.961943178389657,-2.034084811969273,-2.1132688496676075,-2.2629285620265605,-2.394050206679089,-2.5528660476203666,-2.7214351780093744,-2.8924991637741546,-3.1613199462354746,-3.324079495551801,-3.8540513436672903,-4.1331698651236435,-4.443081192067603,-4.903520261898559,-5.390258205412751,-6.261898139810742,-7.594304825879985,-8.269022982517217,-10.369225875909244,-11.433124018588433,-12.95448863771738,-15.223972573082632,-16.74428804156266,-18.82768688474747,-22.529366982168824,-26.80812141777508,-31.22141692895079,-30.401952581869732,-27.440565715650838,-25.394370133971005,-23.93897922882223,-23.52159371274321,-21.53950558355876,-19.82958315909166,-18.447961089150287],\"yaxis\":\"y\",\"type\":\"scatter\"},{\"hovertemplate\":\"Geometry Name=5\\u003cbr\\u003eFreq [GHz]=%{x}\\u003cbr\\u003eprediction=%{y}\\u003cextra\\u003e\\u003c\\u002fextra\\u003e\",\"legendgroup\":\"5\",\"line\":{\"color\":\"#FFA15A\",\"dash\":\"solid\"},\"marker\":{\"symbol\":\"circle\"},\"mode\":\"lines\",\"name\":\"5\",\"orientation\":\"v\",\"showlegend\":true,\"x\":[4.0,4.08,4.16,4.24,4.32,4.4,4.48,4.56,4.64,4.72,4.8,4.88,4.96,5.04,5.12,5.2,5.28,5.36,5.44,5.52,5.6,5.68,5.76,5.84,5.92,6.0,6.08,6.16,6.24,6.32,6.4,6.48,6.56,6.64,6.72,6.8,6.88,6.96,7.04,7.12,7.2,7.28,7.36,7.44,7.52,7.6,7.68,7.76,7.84,7.92,8.0,8.08,8.16,8.24,8.32,8.4,8.48,8.56,8.64,8.72,8.8,8.88,8.96,9.04,9.12,9.2,9.28,9.36,9.44,9.52,9.6,9.68,9.76,9.84,9.92,10.0,10.08,10.16,10.24,10.32,10.4,10.48,10.56,10.64,10.72,10.8,10.88,10.96,11.04,11.12,11.2,11.28,11.36,11.44,11.52,11.6,11.68,11.76,11.84,11.92,12.0],\"xaxis\":\"x\",\"y\":[-0.24113172568861033,-0.2508995041949359,-0.262760950179725,-0.27339747852998425,-0.2854799204702846,-0.28874476379617325,-0.3115261926852931,-0.32796322263727634,-0.3448552015520217,-0.3505645887822862,-0.3699345506479619,-0.38318662458853425,-0.41121104942866027,-0.4323209377919694,-0.4477438811896659,-0.4991657627962133,-0.5076119251667054,-0.5524930187570555,-0.5879404837374035,-0.6133680698547583,-0.6489415738794678,-0.7015540623193322,-0.7278052530891997,-0.7635034555197737,-0.8067459781146117,-0.8442443390494329,-0.8813742927701191,-0.8768862491254066,-0.9948793318292946,-1.0404973566130453,-1.0921331167168915,-1.1614856061283132,-1.2482410695996344,-1.328527101644593,-1.4825859491289566,-1.6042164893313582,-1.8205328528997815,-2.0618898204223313,-2.07248023676301,-2.8610699569966545,-3.5881185620834852,-4.489526769336118,-3.983191167587875,-8.022034762142093,-6.807273706744193,-7.222801767459794,-5.697331791812966,-4.341164310551095,-3.3318296679930124,-2.642106842881231,-2.2651656199024566,-1.9696802319681623,-1.6138698728611283,-1.4714271793170735,-1.4199386812548198,-1.3682320731660471,-1.3607740307181335,-1.381978619793583,-1.3960224837518174,-1.4361539665995207,-1.4813001852259486,-1.5081354198133679,-1.5898585186113134,-1.626620122420644,-1.7469711369863175,-1.8231321761421428,-1.9621346952169194,-2.0343134075575504,-2.1132688496676075,-2.2633228593181736,-2.394050206679089,-2.553309173876191,-2.7214351780093744,-2.8924991637741546,-3.1626286842902265,-3.324580273118602,-3.8545769408905506,-4.1331698651236435,-4.443081192067603,-4.903520261898559,-5.390258205412751,-6.261898139810742,-7.594304825879985,-8.269022982517217,-10.369225875909244,-11.433124018588433,-12.95448863771738,-15.226098700070825,-16.754585906055397,-18.82212373012828,-22.526924367787338,-26.7688750501551,-31.19356563966626,-30.401952581869732,-27.440565715650838,-25.394370133971005,-23.927757946149377,-23.51386466340825,-21.53950558355876,-19.82958315909166,-18.447961089150287],\"yaxis\":\"y\",\"type\":\"scatter\"},{\"hovertemplate\":\"Geometry Name=6\\u003cbr\\u003eFreq [GHz]=%{x}\\u003cbr\\u003eprediction=%{y}\\u003cextra\\u003e\\u003c\\u002fextra\\u003e\",\"legendgroup\":\"6\",\"line\":{\"color\":\"#19d3f3\",\"dash\":\"solid\"},\"marker\":{\"symbol\":\"circle\"},\"mode\":\"lines\",\"name\":\"6\",\"orientation\":\"v\",\"showlegend\":true,\"x\":[4.0,4.08,4.16,4.24,4.32,4.4,4.48,4.56,4.64,4.72,4.8,4.88,4.96,5.04,5.12,5.2,5.28,5.36,5.44,5.52,5.6,5.68,5.76,5.84,5.92,6.0,6.08,6.16,6.24,6.32,6.4,6.48,6.56,6.64,6.72,6.8,6.88,6.96,7.04,7.12,7.2,7.28,7.36,7.44,7.52,7.6,7.68,7.76,7.84,7.92,8.0,8.08,8.16,8.24,8.32,8.4,8.48,8.56,8.64,8.72,8.8,8.88,8.96,9.04,9.12,9.2,9.28,9.36,9.44,9.52,9.6,9.68,9.76,9.84,9.92,10.0,10.08,10.16,10.24,10.32,10.4,10.48,10.56,10.64,10.72,10.8,10.88,10.96,11.04,11.12,11.2,11.28,11.36,11.44,11.52,11.6,11.68,11.76,11.84,11.92,12.0],\"xaxis\":\"x\",\"y\":[-0.2420744134455965,-0.24923769042491847,-0.26208373016569747,-0.2741684545907281,-0.2865594436463662,-0.30047248543804045,-0.31386309769343285,-0.33120362640898354,-0.3513736702552122,-0.38872212412210827,-0.38923216178623843,-0.40474461552831054,-0.4545176050186089,-0.4594816365623679,-0.5050683398220758,-0.5166129748771339,-0.5458843468939366,-0.6082048815028834,-0.6134089769591813,-0.6564949543224594,-0.6961490477692899,-0.7458362089403626,-0.7667833655474539,-0.8505783086804395,-0.935292503921262,-0.949345633422583,-0.9991789106533007,-1.1500890964794481,-1.1375591213381893,-1.2075783423237967,-1.3028373393116737,-1.4618117751698532,-1.8384453486663919,-1.8770781311845504,-2.1604166743653597,-3.268233333491193,-3.320790525305332,-4.066958884923012,-5.3719370131402195,-5.95007803600704,-6.9914413327262315,-6.510157370479105,-5.485745130532208,-3.8069679887736183,-2.8789785690856715,-2.191462009324815,-1.6612594203700703,-1.473780794766631,-1.2404279029141578,-1.165171504018114,-1.1191041850932801,-1.1043247421954,-1.092704115788151,-1.0804547842227692,-1.09334199490617,-1.1211065733898045,-1.1587693145809213,-1.2207492946883463,-1.2706629672603698,-1.339692756001177,-1.4023874954978672,-1.4755169858779038,-1.5602810271669634,-1.6206711586128835,-1.7609495009897702,-1.8246297577767587,-1.964958085199863,-2.040180670158741,-2.1371549649538104,-2.275848910181298,-2.4144535702139196,-2.581731393906562,-2.7533287049690998,-2.951945210636944,-3.184052234833908,-3.398332849327823,-3.739814499982725,-4.185419843374834,-4.61751205306798,-5.010467090099512,-5.969217240807902,-6.656540417466777,-7.690598115065815,-8.852258250395264,-10.099838533849717,-11.212822859909473,-12.80709158239004,-14.496911157408265,-16.032037924618127,-17.568731320739417,-19.150402365001444,-20.710203555454825,-22.495656308519973,-23.8730547133104,-22.846440923616132,-24.524531811107444,-23.979636170832848,-21.671812533755574,-19.925750529437007,-19.591367409300148,-18.412700947947126],\"yaxis\":\"y\",\"type\":\"scatter\"}],                        {\"template\":{\"data\":{\"histogram2dcontour\":[{\"type\":\"histogram2dcontour\",\"colorbar\":{\"outlinewidth\":0,\"ticks\":\"\"},\"colorscale\":[[0.0,\"#0d0887\"],[0.1111111111111111,\"#46039f\"],[0.2222222222222222,\"#7201a8\"],[0.3333333333333333,\"#9c179e\"],[0.4444444444444444,\"#bd3786\"],[0.5555555555555556,\"#d8576b\"],[0.6666666666666666,\"#ed7953\"],[0.7777777777777778,\"#fb9f3a\"],[0.8888888888888888,\"#fdca26\"],[1.0,\"#f0f921\"]]}],\"choropleth\":[{\"type\":\"choropleth\",\"colorbar\":{\"outlinewidth\":0,\"ticks\":\"\"}}],\"histogram2d\":[{\"type\":\"histogram2d\",\"colorbar\":{\"outlinewidth\":0,\"ticks\":\"\"},\"colorscale\":[[0.0,\"#0d0887\"],[0.1111111111111111,\"#46039f\"],[0.2222222222222222,\"#7201a8\"],[0.3333333333333333,\"#9c179e\"],[0.4444444444444444,\"#bd3786\"],[0.5555555555555556,\"#d8576b\"],[0.6666666666666666,\"#ed7953\"],[0.7777777777777778,\"#fb9f3a\"],[0.8888888888888888,\"#fdca26\"],[1.0,\"#f0f921\"]]}],\"heatmap\":[{\"type\":\"heatmap\",\"colorbar\":{\"outlinewidth\":0,\"ticks\":\"\"},\"colorscale\":[[0.0,\"#0d0887\"],[0.1111111111111111,\"#46039f\"],[0.2222222222222222,\"#7201a8\"],[0.3333333333333333,\"#9c179e\"],[0.4444444444444444,\"#bd3786\"],[0.5555555555555556,\"#d8576b\"],[0.6666666666666666,\"#ed7953\"],[0.7777777777777778,\"#fb9f3a\"],[0.8888888888888888,\"#fdca26\"],[1.0,\"#f0f921\"]]}],\"heatmapgl\":[{\"type\":\"heatmapgl\",\"colorbar\":{\"outlinewidth\":0,\"ticks\":\"\"},\"colorscale\":[[0.0,\"#0d0887\"],[0.1111111111111111,\"#46039f\"],[0.2222222222222222,\"#7201a8\"],[0.3333333333333333,\"#9c179e\"],[0.4444444444444444,\"#bd3786\"],[0.5555555555555556,\"#d8576b\"],[0.6666666666666666,\"#ed7953\"],[0.7777777777777778,\"#fb9f3a\"],[0.8888888888888888,\"#fdca26\"],[1.0,\"#f0f921\"]]}],\"contourcarpet\":[{\"type\":\"contourcarpet\",\"colorbar\":{\"outlinewidth\":0,\"ticks\":\"\"}}],\"contour\":[{\"type\":\"contour\",\"colorbar\":{\"outlinewidth\":0,\"ticks\":\"\"},\"colorscale\":[[0.0,\"#0d0887\"],[0.1111111111111111,\"#46039f\"],[0.2222222222222222,\"#7201a8\"],[0.3333333333333333,\"#9c179e\"],[0.4444444444444444,\"#bd3786\"],[0.5555555555555556,\"#d8576b\"],[0.6666666666666666,\"#ed7953\"],[0.7777777777777778,\"#fb9f3a\"],[0.8888888888888888,\"#fdca26\"],[1.0,\"#f0f921\"]]}],\"surface\":[{\"type\":\"surface\",\"colorbar\":{\"outlinewidth\":0,\"ticks\":\"\"},\"colorscale\":[[0.0,\"#0d0887\"],[0.1111111111111111,\"#46039f\"],[0.2222222222222222,\"#7201a8\"],[0.3333333333333333,\"#9c179e\"],[0.4444444444444444,\"#bd3786\"],[0.5555555555555556,\"#d8576b\"],[0.6666666666666666,\"#ed7953\"],[0.7777777777777778,\"#fb9f3a\"],[0.8888888888888888,\"#fdca26\"],[1.0,\"#f0f921\"]]}],\"mesh3d\":[{\"type\":\"mesh3d\",\"colorbar\":{\"outlinewidth\":0,\"ticks\":\"\"}}],\"scatter\":[{\"fillpattern\":{\"fillmode\":\"overlay\",\"size\":10,\"solidity\":0.2},\"type\":\"scatter\"}],\"parcoords\":[{\"type\":\"parcoords\",\"line\":{\"colorbar\":{\"outlinewidth\":0,\"ticks\":\"\"}}}],\"scatterpolargl\":[{\"type\":\"scatterpolargl\",\"marker\":{\"colorbar\":{\"outlinewidth\":0,\"ticks\":\"\"}}}],\"bar\":[{\"error_x\":{\"color\":\"#2a3f5f\"},\"error_y\":{\"color\":\"#2a3f5f\"},\"marker\":{\"line\":{\"color\":\"#E5ECF6\",\"width\":0.5},\"pattern\":{\"fillmode\":\"overlay\",\"size\":10,\"solidity\":0.2}},\"type\":\"bar\"}],\"scattergeo\":[{\"type\":\"scattergeo\",\"marker\":{\"colorbar\":{\"outlinewidth\":0,\"ticks\":\"\"}}}],\"scatterpolar\":[{\"type\":\"scatterpolar\",\"marker\":{\"colorbar\":{\"outlinewidth\":0,\"ticks\":\"\"}}}],\"histogram\":[{\"marker\":{\"pattern\":{\"fillmode\":\"overlay\",\"size\":10,\"solidity\":0.2}},\"type\":\"histogram\"}],\"scattergl\":[{\"type\":\"scattergl\",\"marker\":{\"colorbar\":{\"outlinewidth\":0,\"ticks\":\"\"}}}],\"scatter3d\":[{\"type\":\"scatter3d\",\"line\":{\"colorbar\":{\"outlinewidth\":0,\"ticks\":\"\"}},\"marker\":{\"colorbar\":{\"outlinewidth\":0,\"ticks\":\"\"}}}],\"scattermapbox\":[{\"type\":\"scattermapbox\",\"marker\":{\"colorbar\":{\"outlinewidth\":0,\"ticks\":\"\"}}}],\"scatterternary\":[{\"type\":\"scatterternary\",\"marker\":{\"colorbar\":{\"outlinewidth\":0,\"ticks\":\"\"}}}],\"scattercarpet\":[{\"type\":\"scattercarpet\",\"marker\":{\"colorbar\":{\"outlinewidth\":0,\"ticks\":\"\"}}}],\"carpet\":[{\"aaxis\":{\"endlinecolor\":\"#2a3f5f\",\"gridcolor\":\"white\",\"linecolor\":\"white\",\"minorgridcolor\":\"white\",\"startlinecolor\":\"#2a3f5f\"},\"baxis\":{\"endlinecolor\":\"#2a3f5f\",\"gridcolor\":\"white\",\"linecolor\":\"white\",\"minorgridcolor\":\"white\",\"startlinecolor\":\"#2a3f5f\"},\"type\":\"carpet\"}],\"table\":[{\"cells\":{\"fill\":{\"color\":\"#EBF0F8\"},\"line\":{\"color\":\"white\"}},\"header\":{\"fill\":{\"color\":\"#C8D4E3\"},\"line\":{\"color\":\"white\"}},\"type\":\"table\"}],\"barpolar\":[{\"marker\":{\"line\":{\"color\":\"#E5ECF6\",\"width\":0.5},\"pattern\":{\"fillmode\":\"overlay\",\"size\":10,\"solidity\":0.2}},\"type\":\"barpolar\"}],\"pie\":[{\"automargin\":true,\"type\":\"pie\"}]},\"layout\":{\"autotypenumbers\":\"strict\",\"colorway\":[\"#636efa\",\"#EF553B\",\"#00cc96\",\"#ab63fa\",\"#FFA15A\",\"#19d3f3\",\"#FF6692\",\"#B6E880\",\"#FF97FF\",\"#FECB52\"],\"font\":{\"color\":\"#2a3f5f\"},\"hovermode\":\"closest\",\"hoverlabel\":{\"align\":\"left\"},\"paper_bgcolor\":\"white\",\"plot_bgcolor\":\"#E5ECF6\",\"polar\":{\"bgcolor\":\"#E5ECF6\",\"angularaxis\":{\"gridcolor\":\"white\",\"linecolor\":\"white\",\"ticks\":\"\"},\"radialaxis\":{\"gridcolor\":\"white\",\"linecolor\":\"white\",\"ticks\":\"\"}},\"ternary\":{\"bgcolor\":\"#E5ECF6\",\"aaxis\":{\"gridcolor\":\"white\",\"linecolor\":\"white\",\"ticks\":\"\"},\"baxis\":{\"gridcolor\":\"white\",\"linecolor\":\"white\",\"ticks\":\"\"},\"caxis\":{\"gridcolor\":\"white\",\"linecolor\":\"white\",\"ticks\":\"\"}},\"coloraxis\":{\"colorbar\":{\"outlinewidth\":0,\"ticks\":\"\"}},\"colorscale\":{\"sequential\":[[0.0,\"#0d0887\"],[0.1111111111111111,\"#46039f\"],[0.2222222222222222,\"#7201a8\"],[0.3333333333333333,\"#9c179e\"],[0.4444444444444444,\"#bd3786\"],[0.5555555555555556,\"#d8576b\"],[0.6666666666666666,\"#ed7953\"],[0.7777777777777778,\"#fb9f3a\"],[0.8888888888888888,\"#fdca26\"],[1.0,\"#f0f921\"]],\"sequentialminus\":[[0.0,\"#0d0887\"],[0.1111111111111111,\"#46039f\"],[0.2222222222222222,\"#7201a8\"],[0.3333333333333333,\"#9c179e\"],[0.4444444444444444,\"#bd3786\"],[0.5555555555555556,\"#d8576b\"],[0.6666666666666666,\"#ed7953\"],[0.7777777777777778,\"#fb9f3a\"],[0.8888888888888888,\"#fdca26\"],[1.0,\"#f0f921\"]],\"diverging\":[[0,\"#8e0152\"],[0.1,\"#c51b7d\"],[0.2,\"#de77ae\"],[0.3,\"#f1b6da\"],[0.4,\"#fde0ef\"],[0.5,\"#f7f7f7\"],[0.6,\"#e6f5d0\"],[0.7,\"#b8e186\"],[0.8,\"#7fbc41\"],[0.9,\"#4d9221\"],[1,\"#276419\"]]},\"xaxis\":{\"gridcolor\":\"white\",\"linecolor\":\"white\",\"ticks\":\"\",\"title\":{\"standoff\":15},\"zerolinecolor\":\"white\",\"automargin\":true,\"zerolinewidth\":2},\"yaxis\":{\"gridcolor\":\"white\",\"linecolor\":\"white\",\"ticks\":\"\",\"title\":{\"standoff\":15},\"zerolinecolor\":\"white\",\"automargin\":true,\"zerolinewidth\":2},\"scene\":{\"xaxis\":{\"backgroundcolor\":\"#E5ECF6\",\"gridcolor\":\"white\",\"linecolor\":\"white\",\"showbackground\":true,\"ticks\":\"\",\"zerolinecolor\":\"white\",\"gridwidth\":2},\"yaxis\":{\"backgroundcolor\":\"#E5ECF6\",\"gridcolor\":\"white\",\"linecolor\":\"white\",\"showbackground\":true,\"ticks\":\"\",\"zerolinecolor\":\"white\",\"gridwidth\":2},\"zaxis\":{\"backgroundcolor\":\"#E5ECF6\",\"gridcolor\":\"white\",\"linecolor\":\"white\",\"showbackground\":true,\"ticks\":\"\",\"zerolinecolor\":\"white\",\"gridwidth\":2}},\"shapedefaults\":{\"line\":{\"color\":\"#2a3f5f\"}},\"annotationdefaults\":{\"arrowcolor\":\"#2a3f5f\",\"arrowhead\":0,\"arrowwidth\":1},\"geo\":{\"bgcolor\":\"white\",\"landcolor\":\"#E5ECF6\",\"subunitcolor\":\"white\",\"showland\":true,\"showlakes\":true,\"lakecolor\":\"white\"},\"title\":{\"x\":0.05},\"mapbox\":{\"style\":\"light\"}}},\"xaxis\":{\"anchor\":\"y\",\"domain\":[0.0,1.0],\"title\":{\"text\":\"Freq [GHz]\"}},\"yaxis\":{\"anchor\":\"x\",\"domain\":[0.0,1.0],\"title\":{\"text\":\"prediction\"}},\"legend\":{\"title\":{\"text\":\"Geometry Name\"},\"tracegroupgap\":0},\"title\":{\"text\":\"Performance vs Frequency for Unseen Geometries\"},\"height\":750,\"width\":1000},                        {\"responsive\": true}                    ).then(function(){\n",
       "                            \n",
       "var gd = document.getElementById('7b62a5e8-1a47-4977-ba8f-1ab600f8f415');\n",
       "var x = new MutationObserver(function (mutations, observer) {{\n",
       "        var display = window.getComputedStyle(gd).display;\n",
       "        if (!display || display === 'none') {{\n",
       "            console.log([gd, 'removed!']);\n",
       "            Plotly.purge(gd);\n",
       "            observer.disconnect();\n",
       "        }}\n",
       "}});\n",
       "\n",
       "// Listen for the removal of the full notebook cells\n",
       "var notebookContainer = gd.closest('#notebook-container');\n",
       "if (notebookContainer) {{\n",
       "    x.observe(notebookContainer, {childList: true});\n",
       "}}\n",
       "\n",
       "// Listen for the clearing of the current output cell\n",
       "var outputEl = gd.closest('.output');\n",
       "if (outputEl) {{\n",
       "    x.observe(outputEl, {childList: true});\n",
       "}}\n",
       "\n",
       "                        })                };                });            </script>        </div>"
      ]
     },
     "metadata": {},
     "output_type": "display_data"
    }
   ],
   "source": [
    "import plotly.express as px\n",
    "fig = px.line(geometries_df, x=\"Freq [GHz]\", y=\"prediction\", title='Performance vs Frequency for Unseen Geometries', color=\"Geometry Name\", width=1000, height=750)\n",
    "# fig.update_layout()\n",
    "display(fig)"
   ]
  },
  {
   "cell_type": "code",
   "execution_count": null,
   "metadata": {},
   "outputs": [],
   "source": []
  }
 ],
 "metadata": {
  "kernelspec": {
   "display_name": "Python 3",
   "language": "python",
   "name": "python3"
  },
  "language_info": {
   "codemirror_mode": {
    "name": "ipython",
    "version": 3
   },
   "file_extension": ".py",
   "mimetype": "text/x-python",
   "name": "python",
   "nbconvert_exporter": "python",
   "pygments_lexer": "ipython3",
   "version": "3.9.18"
  }
 },
 "nbformat": 4,
 "nbformat_minor": 2
}
