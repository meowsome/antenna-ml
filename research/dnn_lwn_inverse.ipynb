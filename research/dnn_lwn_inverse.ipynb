{
 "cells": [
  {
   "cell_type": "markdown",
   "metadata": {},
   "source": [
    "# Inputting only s11 and freq and outputting all geometry parameters"
   ]
  },
  {
   "cell_type": "markdown",
   "metadata": {},
   "source": [
    "### Regular TensorFlow "
   ]
  },
  {
   "cell_type": "code",
   "execution_count": 1,
   "metadata": {},
   "outputs": [
    {
     "name": "stderr",
     "output_type": "stream",
     "text": [
      "/tmp/ipykernel_554781/3602695761.py:2: DeprecationWarning: \n",
      "Pyarrow will become a required dependency of pandas in the next major release of pandas (pandas 3.0),\n",
      "(to allow more performant data types, such as the Arrow string type, and better interoperability with other libraries)\n",
      "but was not found to be installed on your system.\n",
      "If this would cause problems for you,\n",
      "please provide us feedback at https://github.com/pandas-dev/pandas/issues/54466\n",
      "        \n",
      "  import pandas as pd\n",
      "2024-03-26 01:41:26.492240: I tensorflow/core/util/port.cc:113] oneDNN custom operations are on. You may see slightly different numerical results due to floating-point round-off errors from different computation orders. To turn them off, set the environment variable `TF_ENABLE_ONEDNN_OPTS=0`.\n",
      "2024-03-26 01:41:26.550876: E external/local_xla/xla/stream_executor/cuda/cuda_dnn.cc:9261] Unable to register cuDNN factory: Attempting to register factory for plugin cuDNN when one has already been registered\n",
      "2024-03-26 01:41:26.550919: E external/local_xla/xla/stream_executor/cuda/cuda_fft.cc:607] Unable to register cuFFT factory: Attempting to register factory for plugin cuFFT when one has already been registered\n",
      "2024-03-26 01:41:26.552163: E external/local_xla/xla/stream_executor/cuda/cuda_blas.cc:1515] Unable to register cuBLAS factory: Attempting to register factory for plugin cuBLAS when one has already been registered\n",
      "2024-03-26 01:41:26.561137: I tensorflow/core/platform/cpu_feature_guard.cc:182] This TensorFlow binary is optimized to use available CPU instructions in performance-critical operations.\n",
      "To enable the following instructions: AVX2 AVX512F AVX512_VNNI FMA, in other operations, rebuild TensorFlow with the appropriate compiler flags.\n",
      "2024-03-26 01:41:28.148144: W tensorflow/compiler/tf2tensorrt/utils/py_utils.cc:38] TF-TRT Warning: Could not find TensorRT\n"
     ]
    }
   ],
   "source": [
    "import numpy as np\n",
    "import pandas as pd\n",
    "import tensorflow as tf\n",
    "from tensorflow import keras\n",
    "from tensorflow.keras import layers\n",
    "import matplotlib.pyplot as plt\n",
    "from matplotlib import rc"
   ]
  },
  {
   "cell_type": "code",
   "execution_count": 2,
   "metadata": {},
   "outputs": [],
   "source": [
    "# Import data and preprocess\n",
    "df = pd.read_csv(\"../test_data/new leaky wave/S11_Data_combined.csv\")\n",
    "# df = pd.read_csv(\"../test_data/Grounded CPW Leaky Wave antenna/S11 Data.csv\")\n",
    "df = df.drop(df[df['dB(S(1,1)) []'] > 0].index) # Remove all rows with positive s11"
   ]
  },
  {
   "cell_type": "code",
   "execution_count": 3,
   "metadata": {},
   "outputs": [],
   "source": [
    "\n",
    "\n",
    "# # Split into x and y\n",
    "# input_x = df.drop(columns=['dB(S(1,1)) []'], axis=1)\n",
    "# input_y = df[['dB(S(1,1)) []']]\n",
    "\n",
    "# Split data into training and testing\n",
    "train_df = df.sample(frac=0.8, random_state=0)\n",
    "test_df = df.drop(train_df.index)\n",
    "training_cols = ['dB(S(1,1)) []', 'Freq [GHz]']\n",
    "X_train = train_df[training_cols]\n",
    "X_test = test_df[training_cols]\n",
    "y_train = train_df.drop(columns=training_cols)\n",
    "y_test = test_df.drop(columns=training_cols)"
   ]
  },
  {
   "cell_type": "code",
   "execution_count": 4,
   "metadata": {},
   "outputs": [],
   "source": [
    "from sklearn.preprocessing import StandardScaler\n",
    "scaler = StandardScaler() # Initialize scaler\n",
    "X_train_scaled = scaler.fit_transform(X_train)\n",
    "X_test_scaled = scaler.transform(X_test)"
   ]
  },
  {
   "cell_type": "code",
   "execution_count": 5,
   "metadata": {},
   "outputs": [
    {
     "data": {
      "text/html": [
       "<div>\n",
       "<style scoped>\n",
       "    .dataframe tbody tr th:only-of-type {\n",
       "        vertical-align: middle;\n",
       "    }\n",
       "\n",
       "    .dataframe tbody tr th {\n",
       "        vertical-align: top;\n",
       "    }\n",
       "\n",
       "    .dataframe thead th {\n",
       "        text-align: right;\n",
       "    }\n",
       "</style>\n",
       "<table border=\"1\" class=\"dataframe\">\n",
       "  <thead>\n",
       "    <tr style=\"text-align: right;\">\n",
       "      <th></th>\n",
       "      <th>dB(S(1,1)) []</th>\n",
       "      <th>Freq [GHz]</th>\n",
       "    </tr>\n",
       "  </thead>\n",
       "  <tbody>\n",
       "    <tr>\n",
       "      <th>5904</th>\n",
       "      <td>-10.129858</td>\n",
       "      <td>15.14</td>\n",
       "    </tr>\n",
       "    <tr>\n",
       "      <th>2298</th>\n",
       "      <td>-4.979113</td>\n",
       "      <td>17.84</td>\n",
       "    </tr>\n",
       "    <tr>\n",
       "      <th>15477</th>\n",
       "      <td>-10.679959</td>\n",
       "      <td>13.16</td>\n",
       "    </tr>\n",
       "    <tr>\n",
       "      <th>13716</th>\n",
       "      <td>-13.218871</td>\n",
       "      <td>18.29</td>\n",
       "    </tr>\n",
       "    <tr>\n",
       "      <th>18849</th>\n",
       "      <td>-5.414222</td>\n",
       "      <td>16.67</td>\n",
       "    </tr>\n",
       "    <tr>\n",
       "      <th>...</th>\n",
       "      <td>...</td>\n",
       "      <td>...</td>\n",
       "    </tr>\n",
       "    <tr>\n",
       "      <th>5277</th>\n",
       "      <td>-13.306406</td>\n",
       "      <td>13.25</td>\n",
       "    </tr>\n",
       "    <tr>\n",
       "      <th>23293</th>\n",
       "      <td>-13.808419</td>\n",
       "      <td>16.67</td>\n",
       "    </tr>\n",
       "    <tr>\n",
       "      <th>6103</th>\n",
       "      <td>-10.716262</td>\n",
       "      <td>14.87</td>\n",
       "    </tr>\n",
       "    <tr>\n",
       "      <th>20521</th>\n",
       "      <td>-11.720165</td>\n",
       "      <td>12.62</td>\n",
       "    </tr>\n",
       "    <tr>\n",
       "      <th>3563</th>\n",
       "      <td>-9.821563</td>\n",
       "      <td>13.52</td>\n",
       "    </tr>\n",
       "  </tbody>\n",
       "</table>\n",
       "<p>21331 rows × 2 columns</p>\n",
       "</div>"
      ],
      "text/plain": [
       "       dB(S(1,1)) []  Freq [GHz]\n",
       "5904      -10.129858       15.14\n",
       "2298       -4.979113       17.84\n",
       "15477     -10.679959       13.16\n",
       "13716     -13.218871       18.29\n",
       "18849      -5.414222       16.67\n",
       "...              ...         ...\n",
       "5277      -13.306406       13.25\n",
       "23293     -13.808419       16.67\n",
       "6103      -10.716262       14.87\n",
       "20521     -11.720165       12.62\n",
       "3563       -9.821563       13.52\n",
       "\n",
       "[21331 rows x 2 columns]"
      ]
     },
     "execution_count": 5,
     "metadata": {},
     "output_type": "execute_result"
    }
   ],
   "source": [
    "X_train"
   ]
  },
  {
   "cell_type": "code",
   "execution_count": 6,
   "metadata": {},
   "outputs": [
    {
     "data": {
      "text/html": [
       "<div>\n",
       "<style scoped>\n",
       "    .dataframe tbody tr th:only-of-type {\n",
       "        vertical-align: middle;\n",
       "    }\n",
       "\n",
       "    .dataframe tbody tr th {\n",
       "        vertical-align: top;\n",
       "    }\n",
       "\n",
       "    .dataframe thead th {\n",
       "        text-align: right;\n",
       "    }\n",
       "</style>\n",
       "<table border=\"1\" class=\"dataframe\">\n",
       "  <thead>\n",
       "    <tr style=\"text-align: right;\">\n",
       "      <th></th>\n",
       "      <th>cpw_in [mm]</th>\n",
       "      <th>feed_l [mm]</th>\n",
       "      <th>patch_l [mm]</th>\n",
       "      <th>cpw_g [mm]</th>\n",
       "      <th>Feed_W [mm]</th>\n",
       "      <th>ground_w [mm]</th>\n",
       "      <th>patch_ground_w [mm]</th>\n",
       "      <th>patch_w [mm]</th>\n",
       "    </tr>\n",
       "  </thead>\n",
       "  <tbody>\n",
       "    <tr>\n",
       "      <th>5904</th>\n",
       "      <td>2.25</td>\n",
       "      <td>3.50</td>\n",
       "      <td>3.75</td>\n",
       "      <td>0.18</td>\n",
       "      <td>1.0</td>\n",
       "      <td>1.00</td>\n",
       "      <td>1.0</td>\n",
       "      <td>4.75</td>\n",
       "    </tr>\n",
       "    <tr>\n",
       "      <th>2298</th>\n",
       "      <td>2.00</td>\n",
       "      <td>4.25</td>\n",
       "      <td>3.25</td>\n",
       "      <td>0.18</td>\n",
       "      <td>1.0</td>\n",
       "      <td>1.00</td>\n",
       "      <td>1.0</td>\n",
       "      <td>4.75</td>\n",
       "    </tr>\n",
       "    <tr>\n",
       "      <th>15477</th>\n",
       "      <td>2.00</td>\n",
       "      <td>3.75</td>\n",
       "      <td>3.50</td>\n",
       "      <td>1.02</td>\n",
       "      <td>2.0</td>\n",
       "      <td>1.00</td>\n",
       "      <td>1.0</td>\n",
       "      <td>4.75</td>\n",
       "    </tr>\n",
       "    <tr>\n",
       "      <th>13716</th>\n",
       "      <td>2.00</td>\n",
       "      <td>3.75</td>\n",
       "      <td>3.50</td>\n",
       "      <td>0.42</td>\n",
       "      <td>1.0</td>\n",
       "      <td>1.00</td>\n",
       "      <td>1.0</td>\n",
       "      <td>4.75</td>\n",
       "    </tr>\n",
       "    <tr>\n",
       "      <th>18849</th>\n",
       "      <td>2.00</td>\n",
       "      <td>3.75</td>\n",
       "      <td>3.50</td>\n",
       "      <td>2.40</td>\n",
       "      <td>1.5</td>\n",
       "      <td>1.00</td>\n",
       "      <td>1.0</td>\n",
       "      <td>4.75</td>\n",
       "    </tr>\n",
       "    <tr>\n",
       "      <th>...</th>\n",
       "      <td>...</td>\n",
       "      <td>...</td>\n",
       "      <td>...</td>\n",
       "      <td>...</td>\n",
       "      <td>...</td>\n",
       "      <td>...</td>\n",
       "      <td>...</td>\n",
       "      <td>...</td>\n",
       "    </tr>\n",
       "    <tr>\n",
       "      <th>5277</th>\n",
       "      <td>2.00</td>\n",
       "      <td>3.25</td>\n",
       "      <td>3.75</td>\n",
       "      <td>0.18</td>\n",
       "      <td>1.0</td>\n",
       "      <td>1.00</td>\n",
       "      <td>1.0</td>\n",
       "      <td>4.75</td>\n",
       "    </tr>\n",
       "    <tr>\n",
       "      <th>23293</th>\n",
       "      <td>2.00</td>\n",
       "      <td>3.75</td>\n",
       "      <td>3.50</td>\n",
       "      <td>0.18</td>\n",
       "      <td>1.0</td>\n",
       "      <td>1.25</td>\n",
       "      <td>1.0</td>\n",
       "      <td>5.00</td>\n",
       "    </tr>\n",
       "    <tr>\n",
       "      <th>6103</th>\n",
       "      <td>1.50</td>\n",
       "      <td>3.75</td>\n",
       "      <td>3.75</td>\n",
       "      <td>0.18</td>\n",
       "      <td>1.0</td>\n",
       "      <td>1.00</td>\n",
       "      <td>1.0</td>\n",
       "      <td>4.75</td>\n",
       "    </tr>\n",
       "    <tr>\n",
       "      <th>20521</th>\n",
       "      <td>2.00</td>\n",
       "      <td>3.75</td>\n",
       "      <td>3.50</td>\n",
       "      <td>0.18</td>\n",
       "      <td>1.0</td>\n",
       "      <td>1.50</td>\n",
       "      <td>0.5</td>\n",
       "      <td>5.00</td>\n",
       "    </tr>\n",
       "    <tr>\n",
       "      <th>3563</th>\n",
       "      <td>1.50</td>\n",
       "      <td>3.75</td>\n",
       "      <td>3.50</td>\n",
       "      <td>0.18</td>\n",
       "      <td>1.0</td>\n",
       "      <td>1.00</td>\n",
       "      <td>1.0</td>\n",
       "      <td>4.75</td>\n",
       "    </tr>\n",
       "  </tbody>\n",
       "</table>\n",
       "<p>21331 rows × 8 columns</p>\n",
       "</div>"
      ],
      "text/plain": [
       "       cpw_in [mm]  feed_l [mm]  patch_l [mm]  cpw_g [mm]  Feed_W [mm]  \\\n",
       "5904          2.25         3.50          3.75        0.18          1.0   \n",
       "2298          2.00         4.25          3.25        0.18          1.0   \n",
       "15477         2.00         3.75          3.50        1.02          2.0   \n",
       "13716         2.00         3.75          3.50        0.42          1.0   \n",
       "18849         2.00         3.75          3.50        2.40          1.5   \n",
       "...            ...          ...           ...         ...          ...   \n",
       "5277          2.00         3.25          3.75        0.18          1.0   \n",
       "23293         2.00         3.75          3.50        0.18          1.0   \n",
       "6103          1.50         3.75          3.75        0.18          1.0   \n",
       "20521         2.00         3.75          3.50        0.18          1.0   \n",
       "3563          1.50         3.75          3.50        0.18          1.0   \n",
       "\n",
       "       ground_w [mm]  patch_ground_w [mm]  patch_w [mm]  \n",
       "5904            1.00                  1.0          4.75  \n",
       "2298            1.00                  1.0          4.75  \n",
       "15477           1.00                  1.0          4.75  \n",
       "13716           1.00                  1.0          4.75  \n",
       "18849           1.00                  1.0          4.75  \n",
       "...              ...                  ...           ...  \n",
       "5277            1.00                  1.0          4.75  \n",
       "23293           1.25                  1.0          5.00  \n",
       "6103            1.00                  1.0          4.75  \n",
       "20521           1.50                  0.5          5.00  \n",
       "3563            1.00                  1.0          4.75  \n",
       "\n",
       "[21331 rows x 8 columns]"
      ]
     },
     "execution_count": 6,
     "metadata": {},
     "output_type": "execute_result"
    }
   ],
   "source": [
    "y_train"
   ]
  },
  {
   "cell_type": "code",
   "execution_count": 7,
   "metadata": {},
   "outputs": [
    {
     "name": "stderr",
     "output_type": "stream",
     "text": [
      "2024-03-26 01:41:30.767676: I tensorflow/core/common_runtime/gpu/gpu_device.cc:1929] Created device /job:localhost/replica:0/task:0/device:GPU:0 with 1030 MB memory:  -> device: 0, name: NVIDIA GeForce RTX 3090, pci bus id: 0000:02:00.0, compute capability: 8.6\n"
     ]
    },
    {
     "name": "stdout",
     "output_type": "stream",
     "text": [
      "Model: \"model\"\n",
      "_________________________________________________________________\n",
      " Layer (type)                Output Shape              Param #   \n",
      "=================================================================\n",
      " input_1 (InputLayer)        [(None, 2)]               0         \n",
      "                                                                 \n",
      " dense (Dense)               (None, 160)               480       \n",
      "                                                                 \n",
      " dense_1 (Dense)             (None, 160)               25760     \n",
      "                                                                 \n",
      " dense_2 (Dense)             (None, 160)               25760     \n",
      "                                                                 \n",
      " dense_3 (Dense)             (None, 160)               25760     \n",
      "                                                                 \n",
      " dense_4 (Dense)             (None, 8)                 1288      \n",
      "                                                                 \n",
      "=================================================================\n",
      "Total params: 79048 (308.78 KB)\n",
      "Trainable params: 79048 (308.78 KB)\n",
      "Non-trainable params: 0 (0.00 Byte)\n",
      "_________________________________________________________________\n"
     ]
    }
   ],
   "source": [
    "import tensorflow as tf\n",
    "from tensorflow.keras.models import Model\n",
    "from tensorflow.keras.layers import Input, Dense\n",
    "\n",
    "inputs = Input(shape=(2,))\n",
    "hidden1 = Dense(160, activation='relu')(inputs)\n",
    "hidden2 = Dense(160, activation='relu')(hidden1)\n",
    "hidden3 = Dense(160, activation='relu')(hidden2)\n",
    "hidden4 = Dense(160, activation='relu')(hidden3)\n",
    "\n",
    "outputs = Dense(8, activation='linear')(hidden4)\n",
    "\n",
    "model = Model(inputs=inputs, outputs=outputs)\n",
    "\n",
    "model.compile(optimizer='adam', loss='mean_squared_error', metrics=['accuracy'])\n",
    "model.summary()"
   ]
  },
  {
   "cell_type": "code",
   "execution_count": 8,
   "metadata": {},
   "outputs": [
    {
     "name": "stdout",
     "output_type": "stream",
     "text": [
      "Epoch 1/150\n"
     ]
    },
    {
     "name": "stderr",
     "output_type": "stream",
     "text": [
      "2024-03-26 01:41:33.444362: I external/local_xla/xla/service/service.cc:168] XLA service 0x7fd8309bbce0 initialized for platform CUDA (this does not guarantee that XLA will be used). Devices:\n",
      "2024-03-26 01:41:33.444413: I external/local_xla/xla/service/service.cc:176]   StreamExecutor device (0): NVIDIA GeForce RTX 3090, Compute Capability 8.6\n",
      "2024-03-26 01:41:33.452124: I tensorflow/compiler/mlir/tensorflow/utils/dump_mlir_util.cc:269] disabling MLIR crash reproducer, set env var `MLIR_CRASH_REPRODUCER_DIRECTORY` to enable.\n",
      "2024-03-26 01:41:33.504232: I external/local_xla/xla/stream_executor/cuda/cuda_dnn.cc:454] Loaded cuDNN version 8904\n",
      "WARNING: All log messages before absl::InitializeLog() is called are written to STDERR\n",
      "I0000 00:00:1711431693.713781  554892 device_compiler.h:186] Compiled cluster using XLA!  This line is logged at most once for the lifetime of the process.\n"
     ]
    },
    {
     "name": "stdout",
     "output_type": "stream",
     "text": [
      "534/534 [==============================] - 7s 5ms/step - loss: 0.3002 - accuracy: 0.9930 - val_loss: 0.0765 - val_accuracy: 1.0000\n",
      "Epoch 2/150\n",
      "534/534 [==============================] - 3s 5ms/step - loss: 0.0760 - accuracy: 1.0000 - val_loss: 0.0791 - val_accuracy: 1.0000\n",
      "Epoch 3/150\n",
      "534/534 [==============================] - 3s 5ms/step - loss: 0.0755 - accuracy: 1.0000 - val_loss: 0.0759 - val_accuracy: 1.0000\n",
      "Epoch 4/150\n",
      "534/534 [==============================] - 3s 5ms/step - loss: 0.0751 - accuracy: 1.0000 - val_loss: 0.0733 - val_accuracy: 1.0000\n",
      "Epoch 5/150\n",
      "534/534 [==============================] - 3s 5ms/step - loss: 0.0749 - accuracy: 1.0000 - val_loss: 0.0770 - val_accuracy: 1.0000\n",
      "Epoch 6/150\n",
      "534/534 [==============================] - 3s 5ms/step - loss: 0.0745 - accuracy: 1.0000 - val_loss: 0.0775 - val_accuracy: 1.0000\n",
      "Epoch 7/150\n",
      "534/534 [==============================] - 3s 5ms/step - loss: 0.0739 - accuracy: 1.0000 - val_loss: 0.0714 - val_accuracy: 1.0000\n",
      "Epoch 8/150\n",
      "534/534 [==============================] - 2s 5ms/step - loss: 0.0736 - accuracy: 1.0000 - val_loss: 0.0728 - val_accuracy: 1.0000\n",
      "Epoch 9/150\n",
      "534/534 [==============================] - 3s 5ms/step - loss: 0.0731 - accuracy: 1.0000 - val_loss: 0.0781 - val_accuracy: 1.0000\n",
      "Epoch 10/150\n",
      "534/534 [==============================] - 3s 5ms/step - loss: 0.0723 - accuracy: 1.0000 - val_loss: 0.0742 - val_accuracy: 1.0000\n",
      "Epoch 11/150\n",
      "534/534 [==============================] - 3s 5ms/step - loss: 0.0723 - accuracy: 1.0000 - val_loss: 0.0699 - val_accuracy: 1.0000\n",
      "Epoch 12/150\n",
      "534/534 [==============================] - 3s 5ms/step - loss: 0.0719 - accuracy: 1.0000 - val_loss: 0.0707 - val_accuracy: 1.0000\n",
      "Epoch 13/150\n",
      "534/534 [==============================] - 3s 5ms/step - loss: 0.0718 - accuracy: 1.0000 - val_loss: 0.0767 - val_accuracy: 1.0000\n",
      "Epoch 14/150\n",
      "534/534 [==============================] - 2s 5ms/step - loss: 0.0713 - accuracy: 1.0000 - val_loss: 0.0693 - val_accuracy: 1.0000\n",
      "Epoch 15/150\n",
      "534/534 [==============================] - 3s 5ms/step - loss: 0.0711 - accuracy: 1.0000 - val_loss: 0.0691 - val_accuracy: 1.0000\n",
      "Epoch 16/150\n",
      "534/534 [==============================] - 3s 5ms/step - loss: 0.0708 - accuracy: 1.0000 - val_loss: 0.0697 - val_accuracy: 1.0000\n",
      "Epoch 17/150\n",
      "534/534 [==============================] - 3s 5ms/step - loss: 0.0704 - accuracy: 1.0000 - val_loss: 0.0717 - val_accuracy: 1.0000\n",
      "Epoch 18/150\n",
      "534/534 [==============================] - 3s 5ms/step - loss: 0.0707 - accuracy: 1.0000 - val_loss: 0.0743 - val_accuracy: 1.0000\n",
      "Epoch 19/150\n",
      "534/534 [==============================] - 3s 5ms/step - loss: 0.0703 - accuracy: 1.0000 - val_loss: 0.0684 - val_accuracy: 1.0000\n",
      "Epoch 20/150\n",
      "534/534 [==============================] - 3s 5ms/step - loss: 0.0703 - accuracy: 1.0000 - val_loss: 0.0704 - val_accuracy: 1.0000\n",
      "Epoch 21/150\n",
      "534/534 [==============================] - 3s 5ms/step - loss: 0.0701 - accuracy: 1.0000 - val_loss: 0.0703 - val_accuracy: 1.0000\n",
      "Epoch 22/150\n",
      "534/534 [==============================] - 3s 6ms/step - loss: 0.0699 - accuracy: 1.0000 - val_loss: 0.0673 - val_accuracy: 1.0000\n",
      "Epoch 23/150\n",
      "534/534 [==============================] - 2s 5ms/step - loss: 0.0695 - accuracy: 1.0000 - val_loss: 0.0688 - val_accuracy: 1.0000\n",
      "Epoch 24/150\n",
      "534/534 [==============================] - 3s 5ms/step - loss: 0.0694 - accuracy: 1.0000 - val_loss: 0.0681 - val_accuracy: 1.0000\n",
      "Epoch 25/150\n",
      "534/534 [==============================] - 3s 5ms/step - loss: 0.0698 - accuracy: 1.0000 - val_loss: 0.0680 - val_accuracy: 1.0000\n",
      "Epoch 26/150\n",
      "534/534 [==============================] - 3s 5ms/step - loss: 0.0696 - accuracy: 1.0000 - val_loss: 0.0702 - val_accuracy: 1.0000\n",
      "Epoch 27/150\n",
      "534/534 [==============================] - 2s 5ms/step - loss: 0.0692 - accuracy: 1.0000 - val_loss: 0.0670 - val_accuracy: 1.0000\n",
      "Epoch 28/150\n",
      "534/534 [==============================] - 3s 5ms/step - loss: 0.0691 - accuracy: 1.0000 - val_loss: 0.0694 - val_accuracy: 1.0000\n",
      "Epoch 29/150\n",
      "534/534 [==============================] - 3s 5ms/step - loss: 0.0693 - accuracy: 1.0000 - val_loss: 0.0705 - val_accuracy: 1.0000\n",
      "Epoch 30/150\n",
      "534/534 [==============================] - 3s 5ms/step - loss: 0.0693 - accuracy: 1.0000 - val_loss: 0.0694 - val_accuracy: 1.0000\n",
      "Epoch 31/150\n",
      "534/534 [==============================] - 3s 5ms/step - loss: 0.0690 - accuracy: 1.0000 - val_loss: 0.0706 - val_accuracy: 1.0000\n",
      "Epoch 32/150\n",
      "534/534 [==============================] - 3s 5ms/step - loss: 0.0688 - accuracy: 1.0000 - val_loss: 0.0691 - val_accuracy: 1.0000\n"
     ]
    }
   ],
   "source": [
    "from tensorflow.keras.callbacks import EarlyStopping\n",
    "early_stopping = EarlyStopping(monitor='val_loss', patience=5, restore_best_weights=True)\n",
    "\n",
    "\n",
    "history = model.fit(X_train_scaled, y_train, epochs=150, batch_size=32, validation_split=0.2, callbacks=[early_stopping])"
   ]
  },
  {
   "cell_type": "code",
   "execution_count": 9,
   "metadata": {},
   "outputs": [
    {
     "name": "stdout",
     "output_type": "stream",
     "text": [
      "167/167 [==============================] - 1s 2ms/step\n"
     ]
    }
   ],
   "source": [
    "predictions = model.predict(X_test_scaled)"
   ]
  },
  {
   "cell_type": "code",
   "execution_count": 10,
   "metadata": {},
   "outputs": [
    {
     "data": {
      "text/html": [
       "<div>\n",
       "<style scoped>\n",
       "    .dataframe tbody tr th:only-of-type {\n",
       "        vertical-align: middle;\n",
       "    }\n",
       "\n",
       "    .dataframe tbody tr th {\n",
       "        vertical-align: top;\n",
       "    }\n",
       "\n",
       "    .dataframe thead th {\n",
       "        text-align: right;\n",
       "    }\n",
       "</style>\n",
       "<table border=\"1\" class=\"dataframe\">\n",
       "  <thead>\n",
       "    <tr style=\"text-align: right;\">\n",
       "      <th></th>\n",
       "      <th>0</th>\n",
       "      <th>1</th>\n",
       "      <th>2</th>\n",
       "      <th>3</th>\n",
       "      <th>4</th>\n",
       "      <th>5</th>\n",
       "      <th>6</th>\n",
       "      <th>7</th>\n",
       "    </tr>\n",
       "  </thead>\n",
       "  <tbody>\n",
       "    <tr>\n",
       "      <th>0</th>\n",
       "      <td>2.040600</td>\n",
       "      <td>3.658811</td>\n",
       "      <td>3.536693</td>\n",
       "      <td>0.694509</td>\n",
       "      <td>1.037813</td>\n",
       "      <td>0.899840</td>\n",
       "      <td>1.101839</td>\n",
       "      <td>4.765162</td>\n",
       "    </tr>\n",
       "    <tr>\n",
       "      <th>1</th>\n",
       "      <td>2.013436</td>\n",
       "      <td>3.667971</td>\n",
       "      <td>3.535750</td>\n",
       "      <td>1.466804</td>\n",
       "      <td>1.077816</td>\n",
       "      <td>1.015744</td>\n",
       "      <td>1.039038</td>\n",
       "      <td>4.741011</td>\n",
       "    </tr>\n",
       "    <tr>\n",
       "      <th>2</th>\n",
       "      <td>2.091075</td>\n",
       "      <td>3.674082</td>\n",
       "      <td>3.594768</td>\n",
       "      <td>0.955140</td>\n",
       "      <td>1.170641</td>\n",
       "      <td>1.025676</td>\n",
       "      <td>0.948949</td>\n",
       "      <td>4.737618</td>\n",
       "    </tr>\n",
       "    <tr>\n",
       "      <th>3</th>\n",
       "      <td>2.070843</td>\n",
       "      <td>3.644548</td>\n",
       "      <td>3.565660</td>\n",
       "      <td>0.809455</td>\n",
       "      <td>1.160403</td>\n",
       "      <td>0.995074</td>\n",
       "      <td>0.977010</td>\n",
       "      <td>4.701676</td>\n",
       "    </tr>\n",
       "    <tr>\n",
       "      <th>4</th>\n",
       "      <td>1.988813</td>\n",
       "      <td>3.731130</td>\n",
       "      <td>3.630625</td>\n",
       "      <td>0.482569</td>\n",
       "      <td>1.151716</td>\n",
       "      <td>1.010889</td>\n",
       "      <td>1.028888</td>\n",
       "      <td>4.707995</td>\n",
       "    </tr>\n",
       "    <tr>\n",
       "      <th>...</th>\n",
       "      <td>...</td>\n",
       "      <td>...</td>\n",
       "      <td>...</td>\n",
       "      <td>...</td>\n",
       "      <td>...</td>\n",
       "      <td>...</td>\n",
       "      <td>...</td>\n",
       "      <td>...</td>\n",
       "    </tr>\n",
       "    <tr>\n",
       "      <th>5328</th>\n",
       "      <td>1.995808</td>\n",
       "      <td>3.778680</td>\n",
       "      <td>3.553374</td>\n",
       "      <td>0.428548</td>\n",
       "      <td>1.077090</td>\n",
       "      <td>1.018338</td>\n",
       "      <td>1.068352</td>\n",
       "      <td>4.719641</td>\n",
       "    </tr>\n",
       "    <tr>\n",
       "      <th>5329</th>\n",
       "      <td>1.937728</td>\n",
       "      <td>3.691396</td>\n",
       "      <td>3.633530</td>\n",
       "      <td>0.251812</td>\n",
       "      <td>1.053523</td>\n",
       "      <td>1.027642</td>\n",
       "      <td>1.017268</td>\n",
       "      <td>4.717072</td>\n",
       "    </tr>\n",
       "    <tr>\n",
       "      <th>5330</th>\n",
       "      <td>2.031571</td>\n",
       "      <td>3.797565</td>\n",
       "      <td>3.565316</td>\n",
       "      <td>0.501300</td>\n",
       "      <td>1.055941</td>\n",
       "      <td>1.023673</td>\n",
       "      <td>1.053050</td>\n",
       "      <td>4.732848</td>\n",
       "    </tr>\n",
       "    <tr>\n",
       "      <th>5331</th>\n",
       "      <td>1.969893</td>\n",
       "      <td>3.735552</td>\n",
       "      <td>3.555073</td>\n",
       "      <td>0.521882</td>\n",
       "      <td>1.065517</td>\n",
       "      <td>0.985629</td>\n",
       "      <td>1.026146</td>\n",
       "      <td>4.707335</td>\n",
       "    </tr>\n",
       "    <tr>\n",
       "      <th>5332</th>\n",
       "      <td>1.930800</td>\n",
       "      <td>3.713212</td>\n",
       "      <td>3.572610</td>\n",
       "      <td>0.513788</td>\n",
       "      <td>1.087155</td>\n",
       "      <td>0.999619</td>\n",
       "      <td>1.022311</td>\n",
       "      <td>4.701993</td>\n",
       "    </tr>\n",
       "  </tbody>\n",
       "</table>\n",
       "<p>5333 rows × 8 columns</p>\n",
       "</div>"
      ],
      "text/plain": [
       "             0         1         2         3         4         5         6  \\\n",
       "0     2.040600  3.658811  3.536693  0.694509  1.037813  0.899840  1.101839   \n",
       "1     2.013436  3.667971  3.535750  1.466804  1.077816  1.015744  1.039038   \n",
       "2     2.091075  3.674082  3.594768  0.955140  1.170641  1.025676  0.948949   \n",
       "3     2.070843  3.644548  3.565660  0.809455  1.160403  0.995074  0.977010   \n",
       "4     1.988813  3.731130  3.630625  0.482569  1.151716  1.010889  1.028888   \n",
       "...        ...       ...       ...       ...       ...       ...       ...   \n",
       "5328  1.995808  3.778680  3.553374  0.428548  1.077090  1.018338  1.068352   \n",
       "5329  1.937728  3.691396  3.633530  0.251812  1.053523  1.027642  1.017268   \n",
       "5330  2.031571  3.797565  3.565316  0.501300  1.055941  1.023673  1.053050   \n",
       "5331  1.969893  3.735552  3.555073  0.521882  1.065517  0.985629  1.026146   \n",
       "5332  1.930800  3.713212  3.572610  0.513788  1.087155  0.999619  1.022311   \n",
       "\n",
       "             7  \n",
       "0     4.765162  \n",
       "1     4.741011  \n",
       "2     4.737618  \n",
       "3     4.701676  \n",
       "4     4.707995  \n",
       "...        ...  \n",
       "5328  4.719641  \n",
       "5329  4.717072  \n",
       "5330  4.732848  \n",
       "5331  4.707335  \n",
       "5332  4.701993  \n",
       "\n",
       "[5333 rows x 8 columns]"
      ]
     },
     "execution_count": 10,
     "metadata": {},
     "output_type": "execute_result"
    }
   ],
   "source": [
    "pd.DataFrame(predictions)"
   ]
  },
  {
   "cell_type": "code",
   "execution_count": 11,
   "metadata": {},
   "outputs": [
    {
     "data": {
      "text/plain": [
       "0.06807979621512608"
      ]
     },
     "execution_count": 11,
     "metadata": {},
     "output_type": "execute_result"
    }
   ],
   "source": [
    "from sklearn.metrics import mean_squared_error\n",
    "mean_squared_error(y_test, predictions)"
   ]
  },
  {
   "cell_type": "markdown",
   "metadata": {},
   "source": [
    "### Keras Tuner"
   ]
  },
  {
   "cell_type": "code",
   "execution_count": 12,
   "metadata": {},
   "outputs": [],
   "source": [
    "import keras_tuner\n",
    "class AntennaModel(keras_tuner.HyperModel):\n",
    "    def __init__(self, input_shape):\n",
    "        self.input_shape= input_shape\n",
    "        \n",
    "    def build(self, hp):\n",
    "        model= keras.Sequential()\n",
    "\n",
    "        for i in range(hp.Int('num_layers', 1, 4)):\n",
    "            model.add(keras.layers.Dense(units=hp.Int(f'units_{i}', min_value=32, max_value=512, step=32), activation='relu', input_shape=self.input_shape))\n",
    "        model.add(keras.layers.Dense(8)) # Output layer\n",
    "\n",
    "        # Tune the learning rate for the optimizer \n",
    "        hp_learning_rate=hp.Float('learning_rate', min_value=1e-4, max_value=0.1)\n",
    "\n",
    "        model.compile(loss='mse',\n",
    "                    optimizer= keras.optimizers.Adam(learning_rate=hp_learning_rate),\n",
    "                    metrics= ['mse']\n",
    "                     )\n",
    "\n",
    "        return model"
   ]
  },
  {
   "cell_type": "code",
   "execution_count": 13,
   "metadata": {},
   "outputs": [
    {
     "name": "stdout",
     "output_type": "stream",
     "text": [
      "Trial 3 Complete [00h 00m 26s]\n",
      "val_mse: 0.07946301996707916\n",
      "\n",
      "Best val_mse So Far: 0.07434263080358505\n",
      "Total elapsed time: 00h 01m 47s\n"
     ]
    }
   ],
   "source": [
    "import keras_tuner\n",
    "antenna_model = AntennaModel(input_shape=[len(X_train.keys())])\n",
    "tuner = keras_tuner.RandomSearch(\n",
    "    antenna_model,\n",
    "    objective='val_mse',\n",
    "    max_trials=3,\n",
    "    executions_per_trial=1)\n",
    "\n",
    "tuner.search_space_summary()\n",
    "stop_early = tf.keras.callbacks.EarlyStopping(monitor='val_loss', patience=5)\n",
    "tuner.search(X_train_scaled, y_train, epochs=100, validation_split=0.2, validation_data = (X_test_scaled, y_test), callbacks=[stop_early])"
   ]
  },
  {
   "cell_type": "code",
   "execution_count": 14,
   "metadata": {},
   "outputs": [
    {
     "name": "stdout",
     "output_type": "stream",
     "text": [
      "167/167 [==============================] - 1s 2ms/step\n"
     ]
    },
    {
     "data": {
      "text/plain": [
       "0.07434262287474501"
      ]
     },
     "execution_count": 14,
     "metadata": {},
     "output_type": "execute_result"
    }
   ],
   "source": [
    "best_model = tuner.get_best_models(num_models=1)[0]\n",
    "tuner_preds = best_model.predict(X_test_scaled)\n",
    "mean_squared_error(y_test, tuner_preds)\n"
   ]
  },
  {
   "cell_type": "markdown",
   "metadata": {},
   "source": [
    "### Sklearn"
   ]
  },
  {
   "cell_type": "code",
   "execution_count": 15,
   "metadata": {},
   "outputs": [],
   "source": [
    "from sklearn.model_selection import train_test_split\n",
    "from sklearn.pipeline import Pipeline\n",
    "from sklearn.ensemble import RandomForestRegressor\n",
    "from sklearn.preprocessing import StandardScaler\n",
    "from sklearn.multioutput import MultiOutputRegressor\n",
    "\n",
    "model = MultiOutputRegressor(\n",
    "    RandomForestRegressor(max_depth=85, min_samples_leaf=1, min_samples_split=2, n_estimators=1000\n",
    "))\n",
    "scaler = StandardScaler() # Initialize scaler\n",
    "pipeline = Pipeline(steps=[('normalize', scaler), ('model', model)]) # Create pipeline with scaler and model\n"
   ]
  },
  {
   "cell_type": "code",
   "execution_count": 16,
   "metadata": {},
   "outputs": [
    {
     "data": {
      "text/html": [
       "<style>#sk-container-id-1 {color: black;}#sk-container-id-1 pre{padding: 0;}#sk-container-id-1 div.sk-toggleable {background-color: white;}#sk-container-id-1 label.sk-toggleable__label {cursor: pointer;display: block;width: 100%;margin-bottom: 0;padding: 0.3em;box-sizing: border-box;text-align: center;}#sk-container-id-1 label.sk-toggleable__label-arrow:before {content: \"▸\";float: left;margin-right: 0.25em;color: #696969;}#sk-container-id-1 label.sk-toggleable__label-arrow:hover:before {color: black;}#sk-container-id-1 div.sk-estimator:hover label.sk-toggleable__label-arrow:before {color: black;}#sk-container-id-1 div.sk-toggleable__content {max-height: 0;max-width: 0;overflow: hidden;text-align: left;background-color: #f0f8ff;}#sk-container-id-1 div.sk-toggleable__content pre {margin: 0.2em;color: black;border-radius: 0.25em;background-color: #f0f8ff;}#sk-container-id-1 input.sk-toggleable__control:checked~div.sk-toggleable__content {max-height: 200px;max-width: 100%;overflow: auto;}#sk-container-id-1 input.sk-toggleable__control:checked~label.sk-toggleable__label-arrow:before {content: \"▾\";}#sk-container-id-1 div.sk-estimator input.sk-toggleable__control:checked~label.sk-toggleable__label {background-color: #d4ebff;}#sk-container-id-1 div.sk-label input.sk-toggleable__control:checked~label.sk-toggleable__label {background-color: #d4ebff;}#sk-container-id-1 input.sk-hidden--visually {border: 0;clip: rect(1px 1px 1px 1px);clip: rect(1px, 1px, 1px, 1px);height: 1px;margin: -1px;overflow: hidden;padding: 0;position: absolute;width: 1px;}#sk-container-id-1 div.sk-estimator {font-family: monospace;background-color: #f0f8ff;border: 1px dotted black;border-radius: 0.25em;box-sizing: border-box;margin-bottom: 0.5em;}#sk-container-id-1 div.sk-estimator:hover {background-color: #d4ebff;}#sk-container-id-1 div.sk-parallel-item::after {content: \"\";width: 100%;border-bottom: 1px solid gray;flex-grow: 1;}#sk-container-id-1 div.sk-label:hover label.sk-toggleable__label {background-color: #d4ebff;}#sk-container-id-1 div.sk-serial::before {content: \"\";position: absolute;border-left: 1px solid gray;box-sizing: border-box;top: 0;bottom: 0;left: 50%;z-index: 0;}#sk-container-id-1 div.sk-serial {display: flex;flex-direction: column;align-items: center;background-color: white;padding-right: 0.2em;padding-left: 0.2em;position: relative;}#sk-container-id-1 div.sk-item {position: relative;z-index: 1;}#sk-container-id-1 div.sk-parallel {display: flex;align-items: stretch;justify-content: center;background-color: white;position: relative;}#sk-container-id-1 div.sk-item::before, #sk-container-id-1 div.sk-parallel-item::before {content: \"\";position: absolute;border-left: 1px solid gray;box-sizing: border-box;top: 0;bottom: 0;left: 50%;z-index: -1;}#sk-container-id-1 div.sk-parallel-item {display: flex;flex-direction: column;z-index: 1;position: relative;background-color: white;}#sk-container-id-1 div.sk-parallel-item:first-child::after {align-self: flex-end;width: 50%;}#sk-container-id-1 div.sk-parallel-item:last-child::after {align-self: flex-start;width: 50%;}#sk-container-id-1 div.sk-parallel-item:only-child::after {width: 0;}#sk-container-id-1 div.sk-dashed-wrapped {border: 1px dashed gray;margin: 0 0.4em 0.5em 0.4em;box-sizing: border-box;padding-bottom: 0.4em;background-color: white;}#sk-container-id-1 div.sk-label label {font-family: monospace;font-weight: bold;display: inline-block;line-height: 1.2em;}#sk-container-id-1 div.sk-label-container {text-align: center;}#sk-container-id-1 div.sk-container {/* jupyter's `normalize.less` sets `[hidden] { display: none; }` but bootstrap.min.css set `[hidden] { display: none !important; }` so we also need the `!important` here to be able to override the default hidden behavior on the sphinx rendered scikit-learn.org. See: https://github.com/scikit-learn/scikit-learn/issues/21755 */display: inline-block !important;position: relative;}#sk-container-id-1 div.sk-text-repr-fallback {display: none;}</style><div id=\"sk-container-id-1\" class=\"sk-top-container\"><div class=\"sk-text-repr-fallback\"><pre>Pipeline(steps=[(&#x27;normalize&#x27;, StandardScaler()),\n",
       "                (&#x27;model&#x27;,\n",
       "                 MultiOutputRegressor(estimator=RandomForestRegressor(max_depth=85,\n",
       "                                                                      n_estimators=1000)))])</pre><b>In a Jupyter environment, please rerun this cell to show the HTML representation or trust the notebook. <br />On GitHub, the HTML representation is unable to render, please try loading this page with nbviewer.org.</b></div><div class=\"sk-container\" hidden><div class=\"sk-item sk-dashed-wrapped\"><div class=\"sk-label-container\"><div class=\"sk-label sk-toggleable\"><input class=\"sk-toggleable__control sk-hidden--visually\" id=\"sk-estimator-id-1\" type=\"checkbox\" ><label for=\"sk-estimator-id-1\" class=\"sk-toggleable__label sk-toggleable__label-arrow\">Pipeline</label><div class=\"sk-toggleable__content\"><pre>Pipeline(steps=[(&#x27;normalize&#x27;, StandardScaler()),\n",
       "                (&#x27;model&#x27;,\n",
       "                 MultiOutputRegressor(estimator=RandomForestRegressor(max_depth=85,\n",
       "                                                                      n_estimators=1000)))])</pre></div></div></div><div class=\"sk-serial\"><div class=\"sk-item\"><div class=\"sk-estimator sk-toggleable\"><input class=\"sk-toggleable__control sk-hidden--visually\" id=\"sk-estimator-id-2\" type=\"checkbox\" ><label for=\"sk-estimator-id-2\" class=\"sk-toggleable__label sk-toggleable__label-arrow\">StandardScaler</label><div class=\"sk-toggleable__content\"><pre>StandardScaler()</pre></div></div></div><div class=\"sk-item sk-dashed-wrapped\"><div class=\"sk-label-container\"><div class=\"sk-label sk-toggleable\"><input class=\"sk-toggleable__control sk-hidden--visually\" id=\"sk-estimator-id-3\" type=\"checkbox\" ><label for=\"sk-estimator-id-3\" class=\"sk-toggleable__label sk-toggleable__label-arrow\">model: MultiOutputRegressor</label><div class=\"sk-toggleable__content\"><pre>MultiOutputRegressor(estimator=RandomForestRegressor(max_depth=85,\n",
       "                                                     n_estimators=1000))</pre></div></div></div><div class=\"sk-parallel\"><div class=\"sk-parallel-item\"><div class=\"sk-item\"><div class=\"sk-label-container\"><div class=\"sk-label sk-toggleable\"><input class=\"sk-toggleable__control sk-hidden--visually\" id=\"sk-estimator-id-4\" type=\"checkbox\" ><label for=\"sk-estimator-id-4\" class=\"sk-toggleable__label sk-toggleable__label-arrow\">estimator: RandomForestRegressor</label><div class=\"sk-toggleable__content\"><pre>RandomForestRegressor(max_depth=85, n_estimators=1000)</pre></div></div></div><div class=\"sk-serial\"><div class=\"sk-item\"><div class=\"sk-estimator sk-toggleable\"><input class=\"sk-toggleable__control sk-hidden--visually\" id=\"sk-estimator-id-5\" type=\"checkbox\" ><label for=\"sk-estimator-id-5\" class=\"sk-toggleable__label sk-toggleable__label-arrow\">RandomForestRegressor</label><div class=\"sk-toggleable__content\"><pre>RandomForestRegressor(max_depth=85, n_estimators=1000)</pre></div></div></div></div></div></div></div></div></div></div></div></div>"
      ],
      "text/plain": [
       "Pipeline(steps=[('normalize', StandardScaler()),\n",
       "                ('model',\n",
       "                 MultiOutputRegressor(estimator=RandomForestRegressor(max_depth=85,\n",
       "                                                                      n_estimators=1000)))])"
      ]
     },
     "execution_count": 16,
     "metadata": {},
     "output_type": "execute_result"
    }
   ],
   "source": [
    "pipeline.fit(X_train_scaled,y_train)"
   ]
  },
  {
   "cell_type": "code",
   "execution_count": 17,
   "metadata": {},
   "outputs": [],
   "source": [
    "sklearn_pred = pipeline.predict(X_test_scaled)"
   ]
  },
  {
   "cell_type": "code",
   "execution_count": 18,
   "metadata": {},
   "outputs": [
    {
     "data": {
      "text/plain": [
       "0.08118084632368677"
      ]
     },
     "execution_count": 18,
     "metadata": {},
     "output_type": "execute_result"
    }
   ],
   "source": [
    "mean_squared_error(y_test, sklearn_pred)"
   ]
  },
  {
   "cell_type": "code",
   "execution_count": null,
   "metadata": {},
   "outputs": [],
   "source": []
  }
 ],
 "metadata": {
  "kernelspec": {
   "display_name": "tylers_env_do_not_touch",
   "language": "python",
   "name": "python3"
  },
  "language_info": {
   "codemirror_mode": {
    "name": "ipython",
    "version": 3
   },
   "file_extension": ".py",
   "mimetype": "text/x-python",
   "name": "python",
   "nbconvert_exporter": "python",
   "pygments_lexer": "ipython3",
   "version": "3.9.18"
  }
 },
 "nbformat": 4,
 "nbformat_minor": 2
}
