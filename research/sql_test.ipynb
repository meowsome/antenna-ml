{
 "cells": [
  {
   "cell_type": "code",
   "execution_count": 2,
   "metadata": {},
   "outputs": [
    {
     "name": "stderr",
     "output_type": "stream",
     "text": [
      "/tmp/ipykernel_178971/4076997674.py:2: DeprecationWarning: \n",
      "Pyarrow will become a required dependency of pandas in the next major release of pandas (pandas 3.0),\n",
      "(to allow more performant data types, such as the Arrow string type, and better interoperability with other libraries)\n",
      "but was not found to be installed on your system.\n",
      "If this would cause problems for you,\n",
      "please provide us feedback at https://github.com/pandas-dev/pandas/issues/54466\n",
      "        \n",
      "  import pandas as pd\n"
     ]
    }
   ],
   "source": [
    "import sqlite3\n",
    "import pandas as pd\n",
    "conn = sqlite3.connect('../test_data/lw.db')"
   ]
  },
  {
   "cell_type": "code",
   "execution_count": 4,
   "metadata": {},
   "outputs": [],
   "source": [
    "# SQL query\n",
    "# First, select all unique geometries where all s11 predictions are below desired s11 between freq min and max (inner)\n",
    "# Second, find all frequencies for the unique geometries (outer) \n",
    "df = pd.read_sql_query(\"\"\"\n",
    "    select * from geometries\n",
    "    where (\"cpw_in [mm]\", \"feed_l [mm]\", \"patch_l [mm]\", \"Feed_W [mm]\", \"ground_w [mm]\", \"patch_ground_w [mm]\", \"patch_w [mm]\") in (\n",
    "        select \"cpw_in [mm]\", \"feed_l [mm]\", \"patch_l [mm]\", \"Feed_W [mm]\", \"ground_w [mm]\", \"patch_ground_w [mm]\", \"patch_w [mm]\"\n",
    "        from geometries\n",
    "        where \"Freq [GHz]\" > ?\n",
    "        and \"Freq [GHz]\" < ?\n",
    "        group by \"cpw_in [mm]\", \"feed_l [mm]\", \"patch_l [mm]\", \"Feed_W [mm]\", \"ground_w [mm]\", \"patch_ground_w [mm]\", \"patch_w [mm]\"\n",
    "        having max(prediction) < ?\n",
    "    )\n",
    "\"\"\", con=conn, params=(12, 16, -10, ))"
   ]
  },
  {
   "cell_type": "code",
   "execution_count": null,
   "metadata": {},
   "outputs": [],
   "source": [
    "df"
   ]
  },
  {
   "cell_type": "code",
   "execution_count": null,
   "metadata": {},
   "outputs": [],
   "source": [
    "df.iloc[0]['performances']"
   ]
  },
  {
   "cell_type": "code",
   "execution_count": null,
   "metadata": {},
   "outputs": [],
   "source": [
    "df2 = df[['performances']]"
   ]
  },
  {
   "cell_type": "code",
   "execution_count": null,
   "metadata": {},
   "outputs": [],
   "source": [
    "df2.iloc[0]['performances']"
   ]
  },
  {
   "cell_type": "code",
   "execution_count": null,
   "metadata": {},
   "outputs": [],
   "source": [
    "df2[['Freq [GHz]', 'prediction']] = df2['performances'].str.split(';', expand=True)\n",
    "\n"
   ]
  },
  {
   "cell_type": "code",
   "execution_count": null,
   "metadata": {},
   "outputs": [],
   "source": [
    "df_freq = df2['Freq [GHz]'].str.split(',', expand=True).stack().reset_index(level=1, drop=True).rename('Freq [GHz]')\n",
    "df_pred = df2['prediction'].str.split(',', expand=True).stack().reset_index(level=1, drop=True).rename('prediction')\n"
   ]
  },
  {
   "cell_type": "code",
   "execution_count": null,
   "metadata": {},
   "outputs": [],
   "source": [
    "df_freq"
   ]
  },
  {
   "cell_type": "code",
   "execution_count": null,
   "metadata": {},
   "outputs": [],
   "source": [
    "dfc = pd.DataFrame()\n",
    "dfc['Freq [GHz]'] = df_freq\n",
    "dfc['prediction'] = df_pred"
   ]
  },
  {
   "cell_type": "code",
   "execution_count": null,
   "metadata": {},
   "outputs": [],
   "source": [
    "df3 = df.drop(columns=[\"Freq [GHz]\", \"prediction\", \"performances\"])"
   ]
  },
  {
   "cell_type": "code",
   "execution_count": null,
   "metadata": {},
   "outputs": [],
   "source": [
    "df_fin"
   ]
  },
  {
   "cell_type": "code",
   "execution_count": null,
   "metadata": {},
   "outputs": [],
   "source": [
    "import numpy as np\n",
    "df3['Geometry Name'] = range(0, len(df3))\n",
    "df3['Geometry Name']\n",
    "df_fin = pd.DataFrame(np.repeat(df3, 440, axis=0), columns=df3.columns)\n",
    "df_fin[\"Freq [GHz]\"] = df_freq.values\n",
    "df_fin[\"prediction\"] = df_pred.values"
   ]
  },
  {
   "cell_type": "code",
   "execution_count": null,
   "metadata": {},
   "outputs": [],
   "source": [
    "df_fin"
   ]
  },
  {
   "cell_type": "code",
   "execution_count": null,
   "metadata": {},
   "outputs": [],
   "source": []
  },
  {
   "cell_type": "markdown",
   "metadata": {},
   "source": [
    "### Try to find all rows where geometries have all values below -10 across entire frequency range \n",
    "Then, count rows and compare to how many are in the regular .db file "
   ]
  },
  {
   "cell_type": "code",
   "execution_count": 31,
   "metadata": {},
   "outputs": [],
   "source": [
    "from contextlib import closing"
   ]
  },
  {
   "cell_type": "code",
   "execution_count": 44,
   "metadata": {},
   "outputs": [],
   "source": [
    "with closing(conn.cursor()) as cur:\n",
    "    result_lessthan10 = cur.execute(\"\"\"\n",
    "        select count(*) from geometries\n",
    "        where (\"cpw_in [mm]\", \"feed_l [mm]\", \"patch_l [mm]\", \"Feed_W [mm]\", \"ground_w [mm]\", \"patch_ground_w [mm]\", \"patch_w [mm]\") in (\n",
    "            select \"cpw_in [mm]\", \"feed_l [mm]\", \"patch_l [mm]\", \"Feed_W [mm]\", \"ground_w [mm]\", \"patch_ground_w [mm]\", \"patch_w [mm]\"\n",
    "            from geometries\n",
    "            group by \"cpw_in [mm]\", \"feed_l [mm]\", \"patch_l [mm]\", \"Feed_W [mm]\", \"ground_w [mm]\", \"patch_ground_w [mm]\", \"patch_w [mm]\"\n",
    "            having min(prediction) > -8\n",
    "        )\n",
    "    \"\"\")\n",
    "    count_lessthan10 = result_lessthan10.fetchone()"
   ]
  },
  {
   "cell_type": "code",
   "execution_count": null,
   "metadata": {},
   "outputs": [],
   "source": [
    "with closing(conn.cursor()) as cur:\n",
    "    result_total = cur.execute(\"select count(*) from geometries\")\n",
    "    count_total = result_total.fetchone()"
   ]
  },
  {
   "cell_type": "code",
   "execution_count": null,
   "metadata": {},
   "outputs": [
    {
     "name": "stdout",
     "output_type": "stream",
     "text": [
      "how many geometries where all are greater than -10: 164630 / 251868750\n"
     ]
    }
   ],
   "source": [
    "print(f\"how many geometries where all are greater than -10: {count_lessthan10[0]} / {count_total[0]}\")"
   ]
  },
  {
   "cell_type": "code",
   "execution_count": null,
   "metadata": {},
   "outputs": [],
   "source": []
  }
 ],
 "metadata": {
  "kernelspec": {
   "display_name": "tylers_env_do_not_touch",
   "language": "python",
   "name": "python3"
  },
  "language_info": {
   "codemirror_mode": {
    "name": "ipython",
    "version": 3
   },
   "file_extension": ".py",
   "mimetype": "text/x-python",
   "name": "python",
   "nbconvert_exporter": "python",
   "pygments_lexer": "ipython3",
   "version": "3.9.18"
  }
 },
 "nbformat": 4,
 "nbformat_minor": 2
}
