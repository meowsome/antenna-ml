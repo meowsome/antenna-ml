{
 "cells": [
  {
   "cell_type": "code",
   "execution_count": 72,
   "metadata": {},
   "outputs": [],
   "source": [
    "import numpy as np\n",
    "import pandas as pd\n",
    "import tensorflow as tf\n",
    "from tensorflow import keras\n",
    "from tensorflow.keras import layers\n",
    "import matplotlib.pyplot as plt"
   ]
  },
  {
   "cell_type": "code",
   "execution_count": 73,
   "metadata": {},
   "outputs": [],
   "source": [
    "threshold = 1\n",
    "\n",
    "# Check if predicted value is threshold amount above or below actual value\n",
    "def is_in_threshold(actual, pred):\n",
    "    return pred <= actual + threshold and pred >= actual - threshold\n",
    "\n",
    "def create_tf_column(results):\n",
    "    return results.apply(lambda x: is_in_threshold(x['y_test'], x['predictions']), axis=1)\n",
    "\n",
    "def get_score(y_test, y_pred, **kwargs):\n",
    "    dataframe = pd.DataFrame(y_test, columns=['y_test'])\n",
    "    dataframe['predictions'] = y_pred\n",
    "    return create_tf_column(dataframe).value_counts().get(True) / dataframe.shape[0]"
   ]
  },
  {
   "cell_type": "code",
   "execution_count": 74,
   "metadata": {},
   "outputs": [],
   "source": [
    "random_state=20"
   ]
  },
  {
   "cell_type": "code",
   "execution_count": 75,
   "metadata": {},
   "outputs": [],
   "source": [
    "# Import data and preprocess\n",
    "df = pd.read_csv(\"../test_data/patch_antenna/Patch Antenna S11 Data.csv\")\n",
    "df = df.drop(df[df['dB(S(1,1)) []'] > 0].index) # Remove all rows with positive s11\n",
    "\n",
    "# # Split into x and y\n",
    "# input_x = df.drop(columns=['dB(S(1,1)) []'], axis=1)\n",
    "# input_y = df[['dB(S(1,1)) []']]\n",
    "\n",
    "# Split data into training and testing\n",
    "train_df = df.sample(frac=0.8, random_state=0)\n",
    "test_df = df.drop(train_df.index)\n",
    "X_train = train_df.copy()\n",
    "X_test = test_df.copy()\n",
    "y_train = X_train.pop('dB(S(1,1)) []')\n",
    "y_test = X_test.pop('dB(S(1,1)) []')"
   ]
  },
  {
   "cell_type": "code",
   "execution_count": 76,
   "metadata": {},
   "outputs": [],
   "source": [
    "from sklearn.preprocessing import StandardScaler\n",
    "scaler = StandardScaler() # Initialize scaler\n",
    "X_train_scaled = scaler.fit_transform(X_train)\n",
    "X_test_scaled = scaler.transform(X_test)"
   ]
  },
  {
   "cell_type": "code",
   "execution_count": 77,
   "metadata": {},
   "outputs": [],
   "source": [
    "import keras_tuner\n",
    "class AntennaModel(keras_tuner.HyperModel):\n",
    "    def __init__(self, input_shape):\n",
    "        self.input_shape= input_shape\n",
    "        \n",
    "    def build(self, hp):\n",
    "        model= keras.Sequential()\n",
    "\n",
    "        for i in range(hp.Int('num_layers', 1, 4)):\n",
    "            model.add(keras.layers.Dense(units=hp.Int(f'units_{i}', min_value=32, max_value=512, step=32), activation='relu', input_shape=self.input_shape))\n",
    "        model.add(keras.layers.Dense(1)) # Output layer\n",
    "\n",
    "        # Tune the learning rate for the optimizer \n",
    "        hp_learning_rate=hp.Float('learning_rate', min_value=1e-4, max_value=0.1)\n",
    "\n",
    "        model.compile(loss='mse',\n",
    "                    optimizer= keras.optimizers.Adam(learning_rate=hp_learning_rate),\n",
    "                    metrics= ['mse']\n",
    "                     )\n",
    "\n",
    "        return model"
   ]
  },
  {
   "cell_type": "code",
   "execution_count": 78,
   "metadata": {},
   "outputs": [
    {
     "name": "stdout",
     "output_type": "stream",
     "text": [
      "Trial 3 Complete [00h 02m 13s]\n",
      "val_mse: 1.6172515153884888\n",
      "\n",
      "Best val_mse So Far: 0.8993094563484192\n",
      "Total elapsed time: 00h 08m 30s\n"
     ]
    }
   ],
   "source": [
    "import keras_tuner\n",
    "antenna_model = AntennaModel(input_shape=[len(X_train.keys())])\n",
    "tuner = keras_tuner.RandomSearch(\n",
    "    antenna_model,\n",
    "    objective='val_mse',\n",
    "    max_trials=3,\n",
    "    executions_per_trial=1)\n",
    "\n",
    "tuner.search_space_summary()\n",
    "stop_early = tf.keras.callbacks.EarlyStopping(monitor='val_loss', patience=5)\n",
    "tuner.search(X_train_scaled, y_train, epochs=100, validation_split=0.2, validation_data = (X_test_scaled, y_test), callbacks=[stop_early])"
   ]
  },
  {
   "cell_type": "code",
   "execution_count": 79,
   "metadata": {},
   "outputs": [],
   "source": [
    "history = tuner.oracle.get_best_trials(num_trials=1)[0]"
   ]
  },
  {
   "cell_type": "code",
   "execution_count": 80,
   "metadata": {},
   "outputs": [],
   "source": [
    "best_hps= tuner.get_best_hyperparameters(num_trials=1)[0]\n",
    "best_model = tuner.get_best_models(num_models=1)[0]"
   ]
  },
  {
   "cell_type": "code",
   "execution_count": 81,
   "metadata": {},
   "outputs": [
    {
     "data": {
      "text/plain": [
       "{'num_layers': 4,\n",
       " 'units_0': 64,\n",
       " 'learning_rate': 0.0007105287776033435,\n",
       " 'units_1': 32,\n",
       " 'units_2': 32,\n",
       " 'units_3': 32}"
      ]
     },
     "execution_count": 81,
     "metadata": {},
     "output_type": "execute_result"
    }
   ],
   "source": [
    "best_hps.values"
   ]
  },
  {
   "cell_type": "code",
   "execution_count": 82,
   "metadata": {},
   "outputs": [
    {
     "name": "stdout",
     "output_type": "stream",
     "text": [
      "units_1: 32\n",
      "learning rate: 0.0007105287776033435\n",
      "best model name: []\n",
      "256/256 [==============================] - 2s 6ms/step - loss: 0.8993 - mse: 0.8993\n",
      "mse: [0.8993094563484192, 0.8993094563484192]\n"
     ]
    }
   ],
   "source": [
    "print('units_1:', best_hps.get('units_1'))\n",
    "print('learning rate:', best_hps.get('learning_rate'))\n",
    "print('best model name:', best_model.metrics_names)\n",
    "print('mse:', best_model.evaluate(X_test_scaled, y_test))"
   ]
  },
  {
   "cell_type": "code",
   "execution_count": 83,
   "metadata": {},
   "outputs": [
    {
     "name": "stderr",
     "output_type": "stream",
     "text": [
      "/opt/miniconda3/envs/tylers_env_do_not_touch/lib/python3.9/site-packages/keras/src/engine/training.py:3103: UserWarning: You are saving your model as an HDF5 file via `model.save()`. This file format is considered legacy. We recommend using instead the native Keras format, e.g. `model.save('my_model.keras')`.\n",
      "  saving_api.save_model(\n"
     ]
    }
   ],
   "source": [
    "best_model.save(\"dnn.h5\")"
   ]
  },
  {
   "cell_type": "code",
   "execution_count": 84,
   "metadata": {},
   "outputs": [],
   "source": [
    "# best_model = tf.keras.models.load_model(\"dnn.h5\")"
   ]
  },
  {
   "cell_type": "code",
   "execution_count": 85,
   "metadata": {},
   "outputs": [
    {
     "name": "stdout",
     "output_type": "stream",
     "text": [
      "256/256 [==============================] - 1s 4ms/step\n",
      "CPU times: user 1.27 s, sys: 81.6 ms, total: 1.35 s\n",
      "Wall time: 1.5 s\n"
     ]
    }
   ],
   "source": [
    "%%time\n",
    "test_predictions = best_model.predict(X_test_scaled)"
   ]
  },
  {
   "cell_type": "code",
   "execution_count": 86,
   "metadata": {},
   "outputs": [
    {
     "name": "stdout",
     "output_type": "stream",
     "text": [
      "Epoch 1/500\n",
      "1023/1023 [==============================] - 11s 8ms/step - loss: 8.3898 - mse: 8.3898 - val_loss: 2.8418 - val_mse: 2.8418\n",
      "Epoch 2/500\n",
      "1023/1023 [==============================] - 8s 7ms/step - loss: 2.3206 - mse: 2.3206 - val_loss: 1.7258 - val_mse: 1.7258\n",
      "Epoch 3/500\n",
      "1023/1023 [==============================] - 8s 7ms/step - loss: 1.7987 - mse: 1.7987 - val_loss: 1.5214 - val_mse: 1.5214\n",
      "Epoch 4/500\n",
      "1023/1023 [==============================] - 7s 7ms/step - loss: 1.6066 - mse: 1.6066 - val_loss: 1.5000 - val_mse: 1.5000\n",
      "Epoch 5/500\n",
      "1023/1023 [==============================] - 8s 7ms/step - loss: 1.4976 - mse: 1.4976 - val_loss: 1.4121 - val_mse: 1.4121\n",
      "Epoch 6/500\n",
      "1023/1023 [==============================] - 8s 8ms/step - loss: 1.4268 - mse: 1.4268 - val_loss: 1.3231 - val_mse: 1.3231\n",
      "Epoch 7/500\n",
      "1023/1023 [==============================] - 8s 8ms/step - loss: 1.3612 - mse: 1.3612 - val_loss: 1.2936 - val_mse: 1.2936\n",
      "Epoch 8/500\n",
      "1023/1023 [==============================] - 8s 7ms/step - loss: 1.3275 - mse: 1.3275 - val_loss: 1.4961 - val_mse: 1.4961\n",
      "Epoch 9/500\n",
      "1023/1023 [==============================] - 8s 8ms/step - loss: 1.2632 - mse: 1.2632 - val_loss: 1.1426 - val_mse: 1.1426\n",
      "Epoch 10/500\n",
      "1023/1023 [==============================] - 7s 7ms/step - loss: 1.2067 - mse: 1.2067 - val_loss: 1.1950 - val_mse: 1.1950\n",
      "Epoch 11/500\n",
      "1023/1023 [==============================] - 4s 4ms/step - loss: 1.1396 - mse: 1.1396 - val_loss: 1.0756 - val_mse: 1.0756\n",
      "Epoch 12/500\n",
      "1023/1023 [==============================] - 2s 2ms/step - loss: 1.1024 - mse: 1.1024 - val_loss: 1.0711 - val_mse: 1.0711\n",
      "Epoch 13/500\n",
      "1023/1023 [==============================] - 2s 2ms/step - loss: 1.0586 - mse: 1.0586 - val_loss: 1.1147 - val_mse: 1.1147\n",
      "Epoch 14/500\n",
      "1023/1023 [==============================] - 2s 2ms/step - loss: 0.9901 - mse: 0.9901 - val_loss: 1.2540 - val_mse: 1.2540\n",
      "Epoch 15/500\n",
      "1023/1023 [==============================] - 4s 4ms/step - loss: 1.0183 - mse: 1.0183 - val_loss: 0.9416 - val_mse: 0.9416\n",
      "Epoch 16/500\n",
      "1023/1023 [==============================] - 8s 8ms/step - loss: 0.9537 - mse: 0.9537 - val_loss: 0.8633 - val_mse: 0.8633\n",
      "Epoch 17/500\n",
      "1023/1023 [==============================] - 8s 8ms/step - loss: 0.9381 - mse: 0.9381 - val_loss: 0.9023 - val_mse: 0.9023\n",
      "Epoch 18/500\n",
      "1023/1023 [==============================] - 8s 7ms/step - loss: 0.9009 - mse: 0.9009 - val_loss: 0.8196 - val_mse: 0.8196\n",
      "Epoch 19/500\n",
      "1023/1023 [==============================] - 7s 7ms/step - loss: 0.8886 - mse: 0.8886 - val_loss: 0.8124 - val_mse: 0.8124\n",
      "Epoch 20/500\n",
      "1023/1023 [==============================] - 6s 6ms/step - loss: 0.8840 - mse: 0.8840 - val_loss: 0.8450 - val_mse: 0.8450\n",
      "Epoch 21/500\n",
      "1023/1023 [==============================] - 3s 3ms/step - loss: 0.8533 - mse: 0.8533 - val_loss: 0.9332 - val_mse: 0.9332\n",
      "Epoch 22/500\n",
      "1023/1023 [==============================] - 2s 2ms/step - loss: 0.8427 - mse: 0.8427 - val_loss: 0.7423 - val_mse: 0.7423\n",
      "Epoch 23/500\n",
      "1023/1023 [==============================] - 2s 2ms/step - loss: 0.8110 - mse: 0.8110 - val_loss: 0.9410 - val_mse: 0.9410\n",
      "Epoch 24/500\n",
      "1023/1023 [==============================] - 2s 2ms/step - loss: 0.8067 - mse: 0.8067 - val_loss: 0.8002 - val_mse: 0.8002\n",
      "Epoch 25/500\n",
      "1023/1023 [==============================] - 2s 2ms/step - loss: 0.8055 - mse: 0.8055 - val_loss: 0.7938 - val_mse: 0.7938\n",
      "Epoch 26/500\n",
      "1023/1023 [==============================] - 2s 2ms/step - loss: 0.7768 - mse: 0.7768 - val_loss: 0.8635 - val_mse: 0.8635\n",
      "Epoch 27/500\n",
      "1023/1023 [==============================] - 2s 2ms/step - loss: 0.7731 - mse: 0.7731 - val_loss: 0.8969 - val_mse: 0.8969\n",
      "Epoch 28/500\n",
      "1023/1023 [==============================] - 2s 2ms/step - loss: 0.7528 - mse: 0.7528 - val_loss: 0.7563 - val_mse: 0.7563\n",
      "Epoch 29/500\n",
      "1023/1023 [==============================] - 2s 2ms/step - loss: 0.7674 - mse: 0.7674 - val_loss: 0.7484 - val_mse: 0.7484\n",
      "Epoch 30/500\n",
      "1023/1023 [==============================] - 2s 2ms/step - loss: 0.7201 - mse: 0.7201 - val_loss: 0.9860 - val_mse: 0.9860\n",
      "Epoch 31/500\n",
      "1023/1023 [==============================] - 2s 2ms/step - loss: 0.7108 - mse: 0.7108 - val_loss: 0.8961 - val_mse: 0.8961\n",
      "Epoch 32/500\n",
      "1023/1023 [==============================] - 2s 2ms/step - loss: 0.7106 - mse: 0.7106 - val_loss: 0.7247 - val_mse: 0.7247\n",
      "Epoch 33/500\n",
      "1023/1023 [==============================] - 2s 2ms/step - loss: 0.7216 - mse: 0.7216 - val_loss: 0.7461 - val_mse: 0.7461\n",
      "Epoch 34/500\n",
      "1023/1023 [==============================] - 2s 2ms/step - loss: 0.6725 - mse: 0.6725 - val_loss: 0.7897 - val_mse: 0.7897\n",
      "Epoch 35/500\n",
      "1023/1023 [==============================] - 2s 2ms/step - loss: 0.7085 - mse: 0.7085 - val_loss: 0.8107 - val_mse: 0.8107\n",
      "Epoch 36/500\n",
      "1023/1023 [==============================] - 2s 2ms/step - loss: 0.7060 - mse: 0.7060 - val_loss: 0.7154 - val_mse: 0.7154\n",
      "Epoch 37/500\n",
      "1023/1023 [==============================] - 2s 2ms/step - loss: 0.6834 - mse: 0.6834 - val_loss: 0.6967 - val_mse: 0.6967\n",
      "Epoch 38/500\n",
      "1023/1023 [==============================] - 2s 2ms/step - loss: 0.6479 - mse: 0.6479 - val_loss: 0.8080 - val_mse: 0.8080\n",
      "Epoch 39/500\n",
      "1023/1023 [==============================] - 2s 2ms/step - loss: 0.6661 - mse: 0.6661 - val_loss: 0.7694 - val_mse: 0.7694\n",
      "Epoch 40/500\n",
      "1023/1023 [==============================] - 2s 2ms/step - loss: 0.6664 - mse: 0.6664 - val_loss: 0.6863 - val_mse: 0.6863\n",
      "Epoch 41/500\n",
      "1023/1023 [==============================] - 2s 2ms/step - loss: 0.6373 - mse: 0.6373 - val_loss: 0.7016 - val_mse: 0.7016\n",
      "Epoch 42/500\n",
      "1023/1023 [==============================] - 2s 2ms/step - loss: 0.6712 - mse: 0.6712 - val_loss: 0.8107 - val_mse: 0.8107\n",
      "Epoch 43/500\n",
      "1023/1023 [==============================] - 2s 2ms/step - loss: 0.6330 - mse: 0.6330 - val_loss: 0.6970 - val_mse: 0.6970\n",
      "Epoch 44/500\n",
      "1023/1023 [==============================] - 2s 2ms/step - loss: 0.6025 - mse: 0.6025 - val_loss: 0.7539 - val_mse: 0.7539\n",
      "Epoch 45/500\n",
      "1023/1023 [==============================] - 2s 2ms/step - loss: 0.6161 - mse: 0.6161 - val_loss: 0.7075 - val_mse: 0.7075\n",
      "Epoch 46/500\n",
      "1023/1023 [==============================] - 2s 2ms/step - loss: 0.6226 - mse: 0.6226 - val_loss: 0.8735 - val_mse: 0.8735\n",
      "Epoch 47/500\n",
      "1023/1023 [==============================] - 2s 2ms/step - loss: 0.6284 - mse: 0.6284 - val_loss: 0.7449 - val_mse: 0.7449\n",
      "Epoch 48/500\n",
      "1023/1023 [==============================] - 2s 2ms/step - loss: 0.5710 - mse: 0.5710 - val_loss: 0.7175 - val_mse: 0.7175\n",
      "Epoch 49/500\n",
      "1023/1023 [==============================] - 2s 2ms/step - loss: 0.6122 - mse: 0.6122 - val_loss: 0.7826 - val_mse: 0.7826\n",
      "Epoch 50/500\n",
      "1023/1023 [==============================] - 2s 2ms/step - loss: 0.5857 - mse: 0.5857 - val_loss: 0.6980 - val_mse: 0.6980\n",
      "Epoch 51/500\n",
      "1023/1023 [==============================] - 2s 2ms/step - loss: 0.5703 - mse: 0.5703 - val_loss: 0.7032 - val_mse: 0.7032\n",
      "Epoch 52/500\n",
      "1023/1023 [==============================] - 2s 2ms/step - loss: 0.5702 - mse: 0.5702 - val_loss: 0.5852 - val_mse: 0.5852\n",
      "Epoch 53/500\n",
      "1023/1023 [==============================] - 2s 2ms/step - loss: 0.5824 - mse: 0.5824 - val_loss: 0.6649 - val_mse: 0.6649\n",
      "Epoch 54/500\n",
      "1023/1023 [==============================] - 2s 2ms/step - loss: 0.5480 - mse: 0.5480 - val_loss: 0.6769 - val_mse: 0.6769\n",
      "Epoch 55/500\n",
      "1023/1023 [==============================] - 2s 2ms/step - loss: 0.5183 - mse: 0.5183 - val_loss: 0.6828 - val_mse: 0.6828\n",
      "Epoch 56/500\n",
      "1023/1023 [==============================] - 2s 2ms/step - loss: 0.5730 - mse: 0.5730 - val_loss: 0.6660 - val_mse: 0.6660\n",
      "Epoch 57/500\n",
      "1023/1023 [==============================] - 2s 2ms/step - loss: 0.5343 - mse: 0.5343 - val_loss: 0.6776 - val_mse: 0.6776\n",
      "Epoch 58/500\n",
      "1023/1023 [==============================] - 2s 2ms/step - loss: 0.5465 - mse: 0.5465 - val_loss: 0.6712 - val_mse: 0.6712\n",
      "Epoch 59/500\n",
      "1023/1023 [==============================] - 2s 2ms/step - loss: 0.5100 - mse: 0.5100 - val_loss: 0.6663 - val_mse: 0.6663\n",
      "Epoch 60/500\n",
      "1023/1023 [==============================] - 2s 2ms/step - loss: 0.5316 - mse: 0.5316 - val_loss: 0.6168 - val_mse: 0.6168\n",
      "Epoch 61/500\n",
      "1023/1023 [==============================] - 2s 2ms/step - loss: 0.5421 - mse: 0.5421 - val_loss: 0.7046 - val_mse: 0.7046\n",
      "Epoch 62/500\n",
      "1023/1023 [==============================] - 2s 2ms/step - loss: 0.4935 - mse: 0.4935 - val_loss: 0.5851 - val_mse: 0.5851\n",
      "Epoch 63/500\n",
      "1023/1023 [==============================] - 2s 2ms/step - loss: 0.5650 - mse: 0.5650 - val_loss: 0.6919 - val_mse: 0.6919\n",
      "Epoch 64/500\n",
      "1023/1023 [==============================] - 2s 2ms/step - loss: 0.4977 - mse: 0.4977 - val_loss: 0.6157 - val_mse: 0.6157\n",
      "Epoch 65/500\n",
      "1023/1023 [==============================] - 2s 2ms/step - loss: 0.5353 - mse: 0.5353 - val_loss: 0.6176 - val_mse: 0.6176\n",
      "Epoch 66/500\n",
      "1023/1023 [==============================] - 2s 2ms/step - loss: 0.5465 - mse: 0.5465 - val_loss: 0.6566 - val_mse: 0.6566\n",
      "Epoch 67/500\n",
      "1023/1023 [==============================] - 2s 2ms/step - loss: 0.5126 - mse: 0.5126 - val_loss: 0.6427 - val_mse: 0.6427\n",
      "Epoch 68/500\n",
      "1023/1023 [==============================] - 2s 2ms/step - loss: 0.4825 - mse: 0.4825 - val_loss: 0.6271 - val_mse: 0.6271\n",
      "Epoch 69/500\n",
      "1023/1023 [==============================] - 2s 2ms/step - loss: 0.5205 - mse: 0.5205 - val_loss: 0.6015 - val_mse: 0.6015\n",
      "Epoch 70/500\n",
      "1023/1023 [==============================] - 2s 2ms/step - loss: 0.4865 - mse: 0.4865 - val_loss: 0.5912 - val_mse: 0.5912\n",
      "Epoch 71/500\n",
      "1023/1023 [==============================] - 2s 2ms/step - loss: 0.4580 - mse: 0.4580 - val_loss: 0.6838 - val_mse: 0.6838\n",
      "Epoch 72/500\n",
      "1023/1023 [==============================] - 2s 2ms/step - loss: 0.5010 - mse: 0.5010 - val_loss: 0.6364 - val_mse: 0.6364\n",
      "Epoch 73/500\n",
      "1023/1023 [==============================] - 2s 2ms/step - loss: 0.4793 - mse: 0.4793 - val_loss: 0.5876 - val_mse: 0.5876\n",
      "Epoch 74/500\n",
      "1023/1023 [==============================] - 2s 2ms/step - loss: 0.4521 - mse: 0.4521 - val_loss: 0.7889 - val_mse: 0.7889\n",
      "Epoch 75/500\n",
      "1023/1023 [==============================] - 2s 2ms/step - loss: 0.5069 - mse: 0.5069 - val_loss: 0.5960 - val_mse: 0.5960\n",
      "Epoch 76/500\n",
      "1023/1023 [==============================] - 2s 2ms/step - loss: 0.4461 - mse: 0.4461 - val_loss: 0.6340 - val_mse: 0.6340\n",
      "Epoch 77/500\n",
      "1023/1023 [==============================] - 2s 2ms/step - loss: 0.4649 - mse: 0.4649 - val_loss: 0.5723 - val_mse: 0.5723\n",
      "Epoch 78/500\n",
      "1023/1023 [==============================] - 2s 2ms/step - loss: 0.4557 - mse: 0.4557 - val_loss: 0.5548 - val_mse: 0.5548\n",
      "Epoch 79/500\n",
      "1023/1023 [==============================] - 2s 2ms/step - loss: 0.4479 - mse: 0.4479 - val_loss: 0.5819 - val_mse: 0.5819\n",
      "Epoch 80/500\n",
      "1023/1023 [==============================] - 2s 2ms/step - loss: 0.4716 - mse: 0.4716 - val_loss: 0.5906 - val_mse: 0.5906\n",
      "Epoch 81/500\n",
      "1023/1023 [==============================] - 2s 2ms/step - loss: 0.4598 - mse: 0.4598 - val_loss: 0.6519 - val_mse: 0.6519\n",
      "Epoch 82/500\n",
      "1023/1023 [==============================] - 2s 2ms/step - loss: 0.4840 - mse: 0.4840 - val_loss: 0.5438 - val_mse: 0.5438\n",
      "Epoch 83/500\n",
      "1023/1023 [==============================] - 2s 2ms/step - loss: 0.4358 - mse: 0.4358 - val_loss: 0.5966 - val_mse: 0.5966\n",
      "Epoch 84/500\n",
      "1023/1023 [==============================] - 2s 2ms/step - loss: 0.4703 - mse: 0.4703 - val_loss: 0.6429 - val_mse: 0.6429\n",
      "Epoch 85/500\n",
      "1023/1023 [==============================] - 2s 2ms/step - loss: 0.4500 - mse: 0.4500 - val_loss: 0.6600 - val_mse: 0.6600\n",
      "Epoch 86/500\n",
      "1023/1023 [==============================] - 2s 2ms/step - loss: 0.4257 - mse: 0.4257 - val_loss: 0.5570 - val_mse: 0.5570\n",
      "Epoch 87/500\n",
      "1023/1023 [==============================] - 2s 2ms/step - loss: 0.4361 - mse: 0.4361 - val_loss: 0.7535 - val_mse: 0.7535\n",
      "Epoch 88/500\n",
      "1023/1023 [==============================] - 2s 2ms/step - loss: 0.4434 - mse: 0.4434 - val_loss: 0.6800 - val_mse: 0.6800\n",
      "Epoch 89/500\n",
      "1023/1023 [==============================] - 2s 2ms/step - loss: 0.4668 - mse: 0.4668 - val_loss: 0.6422 - val_mse: 0.6422\n",
      "Epoch 90/500\n",
      "1023/1023 [==============================] - 2s 2ms/step - loss: 0.4735 - mse: 0.4735 - val_loss: 0.5917 - val_mse: 0.5917\n",
      "Epoch 91/500\n",
      "1023/1023 [==============================] - 2s 2ms/step - loss: 0.4226 - mse: 0.4226 - val_loss: 0.5582 - val_mse: 0.5582\n",
      "Epoch 92/500\n",
      "1023/1023 [==============================] - 2s 2ms/step - loss: 0.4150 - mse: 0.4150 - val_loss: 0.6966 - val_mse: 0.6966\n",
      "Epoch 93/500\n",
      "1023/1023 [==============================] - 2s 2ms/step - loss: 0.4271 - mse: 0.4271 - val_loss: 0.5469 - val_mse: 0.5469\n",
      "Epoch 94/500\n",
      "1023/1023 [==============================] - 2s 2ms/step - loss: 0.3939 - mse: 0.3939 - val_loss: 0.5740 - val_mse: 0.5740\n",
      "Epoch 95/500\n",
      "1023/1023 [==============================] - 2s 2ms/step - loss: 0.3995 - mse: 0.3995 - val_loss: 0.6448 - val_mse: 0.6448\n",
      "Epoch 96/500\n",
      "1023/1023 [==============================] - 2s 2ms/step - loss: 0.4356 - mse: 0.4356 - val_loss: 0.5517 - val_mse: 0.5517\n",
      "Epoch 97/500\n",
      "1023/1023 [==============================] - 2s 2ms/step - loss: 0.4010 - mse: 0.4010 - val_loss: 0.5596 - val_mse: 0.5596\n",
      "Epoch 98/500\n",
      "1023/1023 [==============================] - 2s 2ms/step - loss: 0.3858 - mse: 0.3858 - val_loss: 0.5902 - val_mse: 0.5902\n",
      "Epoch 99/500\n",
      "1023/1023 [==============================] - 2s 2ms/step - loss: 0.4639 - mse: 0.4639 - val_loss: 0.6023 - val_mse: 0.6023\n",
      "Epoch 100/500\n",
      "1023/1023 [==============================] - 2s 2ms/step - loss: 0.4047 - mse: 0.4047 - val_loss: 0.5257 - val_mse: 0.5257\n",
      "Epoch 101/500\n",
      "1023/1023 [==============================] - 2s 2ms/step - loss: 0.3607 - mse: 0.3607 - val_loss: 0.7390 - val_mse: 0.7390\n",
      "Epoch 102/500\n",
      "1023/1023 [==============================] - 2s 2ms/step - loss: 0.4163 - mse: 0.4163 - val_loss: 0.6322 - val_mse: 0.6322\n",
      "Epoch 103/500\n",
      "1023/1023 [==============================] - 2s 2ms/step - loss: 0.4625 - mse: 0.4625 - val_loss: 0.5419 - val_mse: 0.5419\n",
      "Epoch 104/500\n",
      "1023/1023 [==============================] - 2s 2ms/step - loss: 0.3611 - mse: 0.3611 - val_loss: 0.5813 - val_mse: 0.5813\n",
      "Epoch 105/500\n",
      "1023/1023 [==============================] - 2s 2ms/step - loss: 0.3629 - mse: 0.3629 - val_loss: 0.6167 - val_mse: 0.6167\n",
      "Epoch 106/500\n",
      "1023/1023 [==============================] - 2s 2ms/step - loss: 0.3749 - mse: 0.3749 - val_loss: 0.5219 - val_mse: 0.5219\n",
      "Epoch 107/500\n",
      "1023/1023 [==============================] - 2s 2ms/step - loss: 0.4024 - mse: 0.4024 - val_loss: 0.6393 - val_mse: 0.6393\n",
      "Epoch 108/500\n",
      "1023/1023 [==============================] - 2s 2ms/step - loss: 0.3716 - mse: 0.3716 - val_loss: 0.5889 - val_mse: 0.5889\n",
      "Epoch 109/500\n",
      "1023/1023 [==============================] - 2s 2ms/step - loss: 0.3646 - mse: 0.3646 - val_loss: 0.5713 - val_mse: 0.5713\n",
      "Epoch 110/500\n",
      "1023/1023 [==============================] - 2s 2ms/step - loss: 0.3480 - mse: 0.3480 - val_loss: 0.6245 - val_mse: 0.6245\n",
      "Epoch 111/500\n",
      "1023/1023 [==============================] - 2s 2ms/step - loss: 0.3705 - mse: 0.3705 - val_loss: 0.5508 - val_mse: 0.5508\n",
      "Epoch 112/500\n",
      "1023/1023 [==============================] - 2s 2ms/step - loss: 0.3555 - mse: 0.3555 - val_loss: 0.5694 - val_mse: 0.5694\n",
      "Epoch 113/500\n",
      "1023/1023 [==============================] - 2s 2ms/step - loss: 0.3641 - mse: 0.3641 - val_loss: 0.6658 - val_mse: 0.6658\n",
      "Epoch 114/500\n",
      "1023/1023 [==============================] - 2s 2ms/step - loss: 0.3786 - mse: 0.3786 - val_loss: 0.5530 - val_mse: 0.5530\n",
      "Epoch 115/500\n",
      "1023/1023 [==============================] - 2s 2ms/step - loss: 0.3472 - mse: 0.3472 - val_loss: 0.5172 - val_mse: 0.5172\n",
      "Epoch 116/500\n",
      "1023/1023 [==============================] - 2s 2ms/step - loss: 0.4322 - mse: 0.4322 - val_loss: 0.6068 - val_mse: 0.6068\n",
      "Epoch 117/500\n",
      "1023/1023 [==============================] - 2s 2ms/step - loss: 0.3424 - mse: 0.3424 - val_loss: 0.5186 - val_mse: 0.5186\n",
      "Epoch 118/500\n",
      "1023/1023 [==============================] - 2s 2ms/step - loss: 0.3317 - mse: 0.3317 - val_loss: 0.8850 - val_mse: 0.8850\n",
      "Epoch 119/500\n",
      "1023/1023 [==============================] - 2s 2ms/step - loss: 0.3414 - mse: 0.3414 - val_loss: 0.6330 - val_mse: 0.6330\n",
      "Epoch 120/500\n",
      "1023/1023 [==============================] - 2s 2ms/step - loss: 0.3647 - mse: 0.3647 - val_loss: 0.5027 - val_mse: 0.5027\n",
      "Epoch 121/500\n",
      "1023/1023 [==============================] - 2s 2ms/step - loss: 0.3379 - mse: 0.3379 - val_loss: 0.5391 - val_mse: 0.5391\n",
      "Epoch 122/500\n",
      "1023/1023 [==============================] - 2s 2ms/step - loss: 0.3374 - mse: 0.3374 - val_loss: 0.5517 - val_mse: 0.5517\n",
      "Epoch 123/500\n",
      "1023/1023 [==============================] - 2s 2ms/step - loss: 0.3664 - mse: 0.3664 - val_loss: 0.5336 - val_mse: 0.5336\n",
      "Epoch 124/500\n",
      "1023/1023 [==============================] - 2s 2ms/step - loss: 0.3255 - mse: 0.3255 - val_loss: 0.5456 - val_mse: 0.5456\n",
      "Epoch 125/500\n",
      "1023/1023 [==============================] - 2s 2ms/step - loss: 0.3602 - mse: 0.3602 - val_loss: 0.5226 - val_mse: 0.5226\n",
      "Epoch 126/500\n",
      "1023/1023 [==============================] - 2s 2ms/step - loss: 0.3009 - mse: 0.3009 - val_loss: 0.5963 - val_mse: 0.5963\n",
      "Epoch 127/500\n",
      "1023/1023 [==============================] - 2s 2ms/step - loss: 0.4135 - mse: 0.4135 - val_loss: 0.5795 - val_mse: 0.5795\n",
      "Epoch 128/500\n",
      "1023/1023 [==============================] - 2s 2ms/step - loss: 0.3400 - mse: 0.3400 - val_loss: 0.5652 - val_mse: 0.5652\n",
      "Epoch 129/500\n",
      "1023/1023 [==============================] - 2s 2ms/step - loss: 0.3289 - mse: 0.3289 - val_loss: 0.5484 - val_mse: 0.5484\n",
      "Epoch 130/500\n",
      "1023/1023 [==============================] - 2s 2ms/step - loss: 0.3395 - mse: 0.3395 - val_loss: 0.4949 - val_mse: 0.4949\n",
      "Epoch 131/500\n",
      "1023/1023 [==============================] - 2s 2ms/step - loss: 0.3061 - mse: 0.3061 - val_loss: 0.5549 - val_mse: 0.5549\n",
      "Epoch 132/500\n",
      "1023/1023 [==============================] - 2s 2ms/step - loss: 0.3315 - mse: 0.3315 - val_loss: 0.4954 - val_mse: 0.4954\n",
      "Epoch 133/500\n",
      "1023/1023 [==============================] - 2s 2ms/step - loss: 0.3306 - mse: 0.3306 - val_loss: 0.5599 - val_mse: 0.5599\n",
      "Epoch 134/500\n",
      "1023/1023 [==============================] - 2s 2ms/step - loss: 0.3136 - mse: 0.3136 - val_loss: 0.4961 - val_mse: 0.4961\n",
      "Epoch 135/500\n",
      "1023/1023 [==============================] - 2s 2ms/step - loss: 0.2911 - mse: 0.2911 - val_loss: 0.4867 - val_mse: 0.4867\n",
      "Epoch 136/500\n",
      "1023/1023 [==============================] - 2s 2ms/step - loss: 0.3136 - mse: 0.3136 - val_loss: 0.6365 - val_mse: 0.6365\n",
      "Epoch 137/500\n",
      "1023/1023 [==============================] - 2s 2ms/step - loss: 0.3239 - mse: 0.3239 - val_loss: 0.4525 - val_mse: 0.4525\n",
      "Epoch 138/500\n",
      "1023/1023 [==============================] - 2s 2ms/step - loss: 0.3405 - mse: 0.3405 - val_loss: 0.5081 - val_mse: 0.5081\n",
      "Epoch 139/500\n",
      "1023/1023 [==============================] - 2s 2ms/step - loss: 0.2810 - mse: 0.2810 - val_loss: 0.4883 - val_mse: 0.4883\n",
      "Epoch 140/500\n",
      "1023/1023 [==============================] - 2s 2ms/step - loss: 0.3349 - mse: 0.3349 - val_loss: 0.9006 - val_mse: 0.9006\n",
      "Epoch 141/500\n",
      "1023/1023 [==============================] - 2s 2ms/step - loss: 0.3123 - mse: 0.3123 - val_loss: 0.5254 - val_mse: 0.5254\n",
      "Epoch 142/500\n",
      "1023/1023 [==============================] - 2s 2ms/step - loss: 0.2817 - mse: 0.2817 - val_loss: 0.7955 - val_mse: 0.7955\n",
      "Epoch 143/500\n",
      "1023/1023 [==============================] - 2s 2ms/step - loss: 0.3189 - mse: 0.3189 - val_loss: 0.5042 - val_mse: 0.5042\n",
      "Epoch 144/500\n",
      "1023/1023 [==============================] - 2s 2ms/step - loss: 0.2991 - mse: 0.2991 - val_loss: 0.5405 - val_mse: 0.5405\n",
      "Epoch 145/500\n",
      "1023/1023 [==============================] - 2s 2ms/step - loss: 0.3152 - mse: 0.3152 - val_loss: 0.4601 - val_mse: 0.4601\n",
      "Epoch 146/500\n",
      "1023/1023 [==============================] - 2s 2ms/step - loss: 0.2818 - mse: 0.2818 - val_loss: 0.5442 - val_mse: 0.5442\n",
      "Epoch 147/500\n",
      "1023/1023 [==============================] - 2s 2ms/step - loss: 0.2994 - mse: 0.2994 - val_loss: 0.4712 - val_mse: 0.4712\n",
      "Epoch 148/500\n",
      "1023/1023 [==============================] - 2s 2ms/step - loss: 0.2838 - mse: 0.2838 - val_loss: 0.6661 - val_mse: 0.6661\n",
      "Epoch 149/500\n",
      "1023/1023 [==============================] - 2s 2ms/step - loss: 0.3116 - mse: 0.3116 - val_loss: 0.4458 - val_mse: 0.4458\n",
      "Epoch 150/500\n",
      "1023/1023 [==============================] - 2s 2ms/step - loss: 0.3106 - mse: 0.3106 - val_loss: 0.4673 - val_mse: 0.4673\n",
      "Epoch 151/500\n",
      "1023/1023 [==============================] - 2s 2ms/step - loss: 0.2894 - mse: 0.2894 - val_loss: 0.4496 - val_mse: 0.4496\n",
      "Epoch 152/500\n",
      "1023/1023 [==============================] - 2s 2ms/step - loss: 0.3167 - mse: 0.3167 - val_loss: 0.4608 - val_mse: 0.4608\n",
      "Epoch 153/500\n",
      "1023/1023 [==============================] - 2s 2ms/step - loss: 0.2659 - mse: 0.2659 - val_loss: 0.5082 - val_mse: 0.5082\n",
      "Epoch 154/500\n",
      "1023/1023 [==============================] - 2s 2ms/step - loss: 0.2798 - mse: 0.2798 - val_loss: 0.4504 - val_mse: 0.4504\n",
      "Epoch 155/500\n",
      "1023/1023 [==============================] - 2s 2ms/step - loss: 0.2801 - mse: 0.2801 - val_loss: 0.4959 - val_mse: 0.4959\n",
      "Epoch 156/500\n",
      "1023/1023 [==============================] - 3s 3ms/step - loss: 0.2872 - mse: 0.2872 - val_loss: 0.4401 - val_mse: 0.4401\n",
      "Epoch 157/500\n",
      "1023/1023 [==============================] - 2s 2ms/step - loss: 0.3096 - mse: 0.3096 - val_loss: 0.5016 - val_mse: 0.5016\n",
      "Epoch 158/500\n",
      "1023/1023 [==============================] - 2s 2ms/step - loss: 0.2615 - mse: 0.2615 - val_loss: 0.8810 - val_mse: 0.8810\n",
      "Epoch 159/500\n",
      "1023/1023 [==============================] - 2s 2ms/step - loss: 0.2473 - mse: 0.2473 - val_loss: 0.4906 - val_mse: 0.4906\n",
      "Epoch 160/500\n",
      "1023/1023 [==============================] - 2s 2ms/step - loss: 0.2748 - mse: 0.2748 - val_loss: 0.3949 - val_mse: 0.3949\n",
      "Epoch 161/500\n",
      "1023/1023 [==============================] - 2s 2ms/step - loss: 0.2746 - mse: 0.2746 - val_loss: 0.4720 - val_mse: 0.4720\n",
      "Epoch 162/500\n",
      "1023/1023 [==============================] - 3s 3ms/step - loss: 0.2771 - mse: 0.2771 - val_loss: 0.5686 - val_mse: 0.5686\n",
      "Epoch 163/500\n",
      "1023/1023 [==============================] - 2s 2ms/step - loss: 0.2542 - mse: 0.2542 - val_loss: 0.4202 - val_mse: 0.4202\n",
      "Epoch 164/500\n",
      "1023/1023 [==============================] - 2s 2ms/step - loss: 0.3084 - mse: 0.3084 - val_loss: 0.4832 - val_mse: 0.4832\n",
      "Epoch 165/500\n",
      "1023/1023 [==============================] - 2s 2ms/step - loss: 0.2531 - mse: 0.2531 - val_loss: 0.4656 - val_mse: 0.4656\n",
      "Epoch 166/500\n",
      "1023/1023 [==============================] - 2s 2ms/step - loss: 0.2702 - mse: 0.2702 - val_loss: 0.4367 - val_mse: 0.4367\n",
      "Epoch 167/500\n",
      "1023/1023 [==============================] - 3s 3ms/step - loss: 0.2582 - mse: 0.2582 - val_loss: 0.4268 - val_mse: 0.4268\n",
      "Epoch 168/500\n",
      "1023/1023 [==============================] - 2s 2ms/step - loss: 0.2524 - mse: 0.2524 - val_loss: 0.4133 - val_mse: 0.4133\n",
      "Epoch 169/500\n",
      "1023/1023 [==============================] - 2s 2ms/step - loss: 0.2604 - mse: 0.2604 - val_loss: 0.4171 - val_mse: 0.4171\n",
      "Epoch 170/500\n",
      "1023/1023 [==============================] - 2s 2ms/step - loss: 0.3216 - mse: 0.3216 - val_loss: 0.4998 - val_mse: 0.4998\n",
      "Epoch 171/500\n",
      "1023/1023 [==============================] - 2s 2ms/step - loss: 0.2367 - mse: 0.2367 - val_loss: 0.4789 - val_mse: 0.4789\n",
      "Epoch 172/500\n",
      "1023/1023 [==============================] - 2s 2ms/step - loss: 0.2358 - mse: 0.2358 - val_loss: 0.4949 - val_mse: 0.4949\n",
      "Epoch 173/500\n",
      "1023/1023 [==============================] - 2s 2ms/step - loss: 0.2490 - mse: 0.2490 - val_loss: 0.4477 - val_mse: 0.4477\n",
      "Epoch 174/500\n",
      "1023/1023 [==============================] - 2s 2ms/step - loss: 0.2911 - mse: 0.2911 - val_loss: 0.5144 - val_mse: 0.5144\n",
      "Epoch 175/500\n",
      "1023/1023 [==============================] - 2s 2ms/step - loss: 0.2608 - mse: 0.2608 - val_loss: 0.5107 - val_mse: 0.5107\n",
      "Epoch 176/500\n",
      "1023/1023 [==============================] - 2s 2ms/step - loss: 0.2701 - mse: 0.2701 - val_loss: 0.4577 - val_mse: 0.4577\n",
      "Epoch 177/500\n",
      "1023/1023 [==============================] - 2s 2ms/step - loss: 0.2646 - mse: 0.2646 - val_loss: 0.4023 - val_mse: 0.4023\n",
      "Epoch 178/500\n",
      "1023/1023 [==============================] - 2s 2ms/step - loss: 0.2510 - mse: 0.2510 - val_loss: 0.4126 - val_mse: 0.4126\n",
      "Epoch 179/500\n",
      "1023/1023 [==============================] - 2s 2ms/step - loss: 0.2561 - mse: 0.2561 - val_loss: 0.4421 - val_mse: 0.4421\n",
      "Epoch 180/500\n",
      "1023/1023 [==============================] - 2s 2ms/step - loss: 0.2357 - mse: 0.2357 - val_loss: 0.4806 - val_mse: 0.4806\n",
      "Epoch 180: early stopping\n",
      "CPU times: user 9min 52s, sys: 33.4 s, total: 10min 25s\n",
      "Wall time: 7min 41s\n"
     ]
    }
   ],
   "source": [
    "%%time\n",
    "early_stopping_cb = keras.callbacks.EarlyStopping(monitor='val_loss', patience=20, verbose=1, mode='min', restore_best_weights=False)\n",
    "dnn_model = tuner.hypermodel.build(best_hps)\n",
    "history_tuned= dnn_model.fit(X_train_scaled, y_train, \n",
    "          epochs = 500, \n",
    "          validation_data = (X_test_scaled, y_test),\n",
    "          verbose=1,\n",
    "          callbacks= early_stopping_cb)"
   ]
  },
  {
   "cell_type": "code",
   "execution_count": 87,
   "metadata": {},
   "outputs": [],
   "source": [
    "import pickle\n",
    "with open(\"dnn.pkl\", \"wb\") as file:\n",
    "    pickle.dump(history_tuned, file)\n",
    "\n",
    "# with open(\"dnn.pkl\", \"rb\") as file:\n",
    "#     history_tuned = pickle.load(file)"
   ]
  },
  {
   "cell_type": "code",
   "execution_count": 88,
   "metadata": {},
   "outputs": [
    {
     "data": {
      "image/png": "[encoded data removed]",
      "text/plain": [
       "<Figure size 640x480 with 1 Axes>"
      ]
     },
     "metadata": {},
     "output_type": "display_data"
    }
   ],
   "source": [
    "plt.plot(history_tuned.history['loss'])\n",
    "plt.plot(history_tuned.history['val_loss'])\n",
    "plt.title('TensorFlow Loss')\n",
    "plt.ylabel('Loss')\n",
    "plt.xlabel('Epoch')\n",
    "plt.legend(['Train', 'Test'], loc='upper left')\n",
    "plt.show()"
   ]
  },
  {
   "cell_type": "code",
   "execution_count": 89,
   "metadata": {},
   "outputs": [
    {
     "data": {
      "text/plain": [
       "[0.8993094563484192, 0.8993094563484192]"
      ]
     },
     "execution_count": 89,
     "metadata": {},
     "output_type": "execute_result"
    }
   ],
   "source": [
    "best_model.evaluate(X_test_scaled, y_test, verbose=0)"
   ]
  },
  {
   "cell_type": "code",
   "execution_count": 90,
   "metadata": {},
   "outputs": [],
   "source": [
    "from sklearn.model_selection import train_test_split\n",
    "from sklearn.pipeline import Pipeline\n",
    "from sklearn.ensemble import RandomForestRegressor\n",
    "from sklearn.preprocessing import StandardScaler\n",
    "\n",
    "model = RandomForestRegressor(max_depth=85, min_samples_leaf=1, min_samples_split=2, n_estimators=1000, random_state=random_state) # Initialize model\n",
    "scaler = StandardScaler() # Initialize scaler\n",
    "pipeline = Pipeline(steps=[('normalize', scaler), ('model', model)]) # Create pipeline with scaler and model\n"
   ]
  },
  {
   "cell_type": "code",
   "execution_count": 91,
   "metadata": {},
   "outputs": [
    {
     "name": "stdout",
     "output_type": "stream",
     "text": [
      "CPU times: user 33.9 s, sys: 563 ms, total: 34.4 s\n",
      "Wall time: 34.4 s\n"
     ]
    }
   ],
   "source": [
    "%%time\n",
    "pipeline_fit = pipeline.fit(X_train, y_train)"
   ]
  },
  {
   "cell_type": "code",
   "execution_count": 92,
   "metadata": {},
   "outputs": [
    {
     "name": "stdout",
     "output_type": "stream",
     "text": [
      "CPU times: user 1.76 s, sys: 0 ns, total: 1.76 s\n",
      "Wall time: 1.76 s\n"
     ]
    }
   ],
   "source": [
    "%%time\n",
    "sklearn_predictions = pipeline_fit.predict(X_test)"
   ]
  },
  {
   "cell_type": "code",
   "execution_count": 93,
   "metadata": {},
   "outputs": [
    {
     "data": {
      "text/plain": [
       "0.7851321655114097"
      ]
     },
     "execution_count": 93,
     "metadata": {},
     "output_type": "execute_result"
    }
   ],
   "source": [
    "from sklearn.metrics import mean_squared_error\n",
    "\n",
    "mean_squared_error(y_test.values.ravel(), sklearn_predictions, squared=False)"
   ]
  },
  {
   "cell_type": "code",
   "execution_count": 94,
   "metadata": {},
   "outputs": [
    {
     "name": "stdout",
     "output_type": "stream",
     "text": [
      "tensorflow score: 0.9116244957829116\n",
      "sklearn score: 0.9314264759809314\n"
     ]
    }
   ],
   "source": [
    "print(f\"tensorflow score: {get_score(y_test.values.ravel(), test_predictions)}\")\n",
    "print(f\"sklearn score: {get_score(y_test.values.ravel(), sklearn_predictions)}\")"
   ]
  },
  {
   "cell_type": "code",
   "execution_count": 95,
   "metadata": {},
   "outputs": [],
   "source": [
    "scatter_plot_df = pd.DataFrame({\n",
    "    's11_true': y_test.values.tolist() * 2,\n",
    "    's11_prediction': np.concatenate((sklearn_predictions,test_predictions.reshape(-1))),\n",
    "    's11_source': (['Sklearn'] * len(y_test.values.tolist())) + (['TensorFlow'] * len(y_test.values.tolist())),\n",
    "    's11_color': (['red'] * len(y_test.values.tolist())) + (['blue'] * len(y_test.values.tolist()))\n",
    "})"
   ]
  },
  {
   "cell_type": "code",
   "execution_count": 96,
   "metadata": {},
   "outputs": [
    {
     "data": {
      "image/png": "[encoded data removed]",
      "text/plain": [
       "<Figure size 640x480 with 1 Axes>"
      ]
     },
     "metadata": {},
     "output_type": "display_data"
    }
   ],
   "source": [
    "fig = plt.figure()\n",
    "ax1 = fig.add_subplot(111)\n",
    "ax1.scatter(y_test, test_predictions, label=\"TensorFlow\", c='r')\n",
    "ax1.scatter(y_test, sklearn_predictions, label=\"Sklearn\", c='b')\n",
    "plt.xlabel('True Values')\n",
    "plt.ylabel('Predictions')\n",
    "plt.title(\"Actual vs Predicted S11\")\n",
    "plt.axline((-30,-30), (10,10))\n",
    "plt.legend(loc='upper left')\n",
    "plt.show()"
   ]
  },
  {
   "cell_type": "code",
   "execution_count": 97,
   "metadata": {},
   "outputs": [
    {
     "data": {
      "text/plain": [
       "Text(0.5, 1.0, 'Histogram of Error')"
      ]
     },
     "execution_count": 97,
     "metadata": {},
     "output_type": "execute_result"
    },
    {
     "data": {
      "image/png": "[encoded data removed]",
      "text/plain": [
       "<Figure size 640x480 with 1 Axes>"
      ]
     },
     "metadata": {},
     "output_type": "display_data"
    }
   ],
   "source": [
    "fig = plt.figure()\n",
    "ax1 = fig.add_subplot(111)\n",
    "error_tensorflow = test_predictions.reshape(-1) - y_test\n",
    "error_sklearn = sklearn_predictions - y_test\n",
    "ax1.hist([error_tensorflow, error_sklearn], bins=20, color=['red', 'blue'], label=['TensorFlow', 'Sklearn'])\n",
    "plt.xlabel('Prediction Error')\n",
    "plt.ylabel('Count')\n",
    "plt.legend(loc='upper left')\n",
    "plt.title(\"Histogram of Error\")"
   ]
  },
  {
   "cell_type": "code",
   "execution_count": 98,
   "metadata": {},
   "outputs": [],
   "source": [
    "analysis_df = X_test.copy()\n",
    "analysis_df['dB(S(1,1)) []'] = y_test\n",
    "analysis_df['tensorflow predicted s11'] = test_predictions.reshape(-1)\n",
    "analysis_df['sklearn predicted s11'] = sklearn_predictions"
   ]
  },
  {
   "cell_type": "code",
   "execution_count": 99,
   "metadata": {},
   "outputs": [
    {
     "data": {
      "text/html": [
       "<div>\n",
       "<style scoped>\n",
       "    .dataframe tbody tr th:only-of-type {\n",
       "        vertical-align: middle;\n",
       "    }\n",
       "\n",
       "    .dataframe tbody tr th {\n",
       "        vertical-align: top;\n",
       "    }\n",
       "\n",
       "    .dataframe thead th {\n",
       "        text-align: right;\n",
       "    }\n",
       "</style>\n",
       "<table border=\"1\" class=\"dataframe\">\n",
       "  <thead>\n",
       "    <tr style=\"text-align: right;\">\n",
       "      <th></th>\n",
       "      <th>inset_dist [mm]</th>\n",
       "      <th>L [mm]</th>\n",
       "      <th>sub_thick [mm]</th>\n",
       "      <th>W [mm]</th>\n",
       "      <th>W0 [mm]</th>\n",
       "      <th>y0 [mm]</th>\n",
       "      <th>Freq [GHz]</th>\n",
       "      <th>dB(S(1,1)) []</th>\n",
       "      <th>tensorflow predicted s11</th>\n",
       "      <th>sklearn predicted s11</th>\n",
       "    </tr>\n",
       "  </thead>\n",
       "  <tbody>\n",
       "    <tr>\n",
       "      <th>10</th>\n",
       "      <td>0.6</td>\n",
       "      <td>11.5</td>\n",
       "      <td>2</td>\n",
       "      <td>14.0</td>\n",
       "      <td>2.5</td>\n",
       "      <td>3.0</td>\n",
       "      <td>4.80</td>\n",
       "      <td>-0.311658</td>\n",
       "      <td>-0.407008</td>\n",
       "      <td>-0.304369</td>\n",
       "    </tr>\n",
       "    <tr>\n",
       "      <th>11</th>\n",
       "      <td>0.6</td>\n",
       "      <td>11.5</td>\n",
       "      <td>2</td>\n",
       "      <td>14.0</td>\n",
       "      <td>2.5</td>\n",
       "      <td>3.0</td>\n",
       "      <td>4.88</td>\n",
       "      <td>-0.332031</td>\n",
       "      <td>-0.435605</td>\n",
       "      <td>-0.323273</td>\n",
       "    </tr>\n",
       "    <tr>\n",
       "      <th>13</th>\n",
       "      <td>0.6</td>\n",
       "      <td>11.5</td>\n",
       "      <td>2</td>\n",
       "      <td>14.0</td>\n",
       "      <td>2.5</td>\n",
       "      <td>3.0</td>\n",
       "      <td>5.04</td>\n",
       "      <td>-0.379882</td>\n",
       "      <td>-0.504011</td>\n",
       "      <td>-0.371489</td>\n",
       "    </tr>\n",
       "    <tr>\n",
       "      <th>19</th>\n",
       "      <td>0.6</td>\n",
       "      <td>11.5</td>\n",
       "      <td>2</td>\n",
       "      <td>14.0</td>\n",
       "      <td>2.5</td>\n",
       "      <td>3.0</td>\n",
       "      <td>5.52</td>\n",
       "      <td>-0.610435</td>\n",
       "      <td>-0.932541</td>\n",
       "      <td>-0.595522</td>\n",
       "    </tr>\n",
       "    <tr>\n",
       "      <th>21</th>\n",
       "      <td>0.6</td>\n",
       "      <td>11.5</td>\n",
       "      <td>2</td>\n",
       "      <td>14.0</td>\n",
       "      <td>2.5</td>\n",
       "      <td>3.0</td>\n",
       "      <td>5.68</td>\n",
       "      <td>-0.733284</td>\n",
       "      <td>-1.109540</td>\n",
       "      <td>-0.742587</td>\n",
       "    </tr>\n",
       "    <tr>\n",
       "      <th>...</th>\n",
       "      <td>...</td>\n",
       "      <td>...</td>\n",
       "      <td>...</td>\n",
       "      <td>...</td>\n",
       "      <td>...</td>\n",
       "      <td>...</td>\n",
       "      <td>...</td>\n",
       "      <td>...</td>\n",
       "      <td>...</td>\n",
       "      <td>...</td>\n",
       "    </tr>\n",
       "    <tr>\n",
       "      <th>40870</th>\n",
       "      <td>1.4</td>\n",
       "      <td>12.5</td>\n",
       "      <td>2</td>\n",
       "      <td>15.6</td>\n",
       "      <td>3.5</td>\n",
       "      <td>5.0</td>\n",
       "      <td>9.28</td>\n",
       "      <td>-2.461545</td>\n",
       "      <td>-2.384430</td>\n",
       "      <td>-2.272278</td>\n",
       "    </tr>\n",
       "    <tr>\n",
       "      <th>40877</th>\n",
       "      <td>1.4</td>\n",
       "      <td>12.5</td>\n",
       "      <td>2</td>\n",
       "      <td>15.6</td>\n",
       "      <td>3.5</td>\n",
       "      <td>5.0</td>\n",
       "      <td>9.84</td>\n",
       "      <td>-5.034983</td>\n",
       "      <td>-5.082325</td>\n",
       "      <td>-4.927533</td>\n",
       "    </tr>\n",
       "    <tr>\n",
       "      <th>40888</th>\n",
       "      <td>1.4</td>\n",
       "      <td>12.5</td>\n",
       "      <td>2</td>\n",
       "      <td>15.6</td>\n",
       "      <td>3.5</td>\n",
       "      <td>5.0</td>\n",
       "      <td>10.72</td>\n",
       "      <td>-10.958003</td>\n",
       "      <td>-13.798305</td>\n",
       "      <td>-12.069573</td>\n",
       "    </tr>\n",
       "    <tr>\n",
       "      <th>40891</th>\n",
       "      <td>1.4</td>\n",
       "      <td>12.5</td>\n",
       "      <td>2</td>\n",
       "      <td>15.6</td>\n",
       "      <td>3.5</td>\n",
       "      <td>5.0</td>\n",
       "      <td>10.96</td>\n",
       "      <td>-9.207747</td>\n",
       "      <td>-14.394325</td>\n",
       "      <td>-11.259356</td>\n",
       "    </tr>\n",
       "    <tr>\n",
       "      <th>40902</th>\n",
       "      <td>1.4</td>\n",
       "      <td>12.5</td>\n",
       "      <td>2</td>\n",
       "      <td>15.6</td>\n",
       "      <td>3.5</td>\n",
       "      <td>5.0</td>\n",
       "      <td>11.84</td>\n",
       "      <td>-25.518707</td>\n",
       "      <td>-17.538673</td>\n",
       "      <td>-20.333122</td>\n",
       "    </tr>\n",
       "  </tbody>\n",
       "</table>\n",
       "<p>8181 rows × 10 columns</p>\n",
       "</div>"
      ],
      "text/plain": [
       "       inset_dist [mm]  L [mm]  sub_thick [mm]  W [mm]  W0 [mm]  y0 [mm]  \\\n",
       "10                 0.6    11.5               2    14.0      2.5      3.0   \n",
       "11                 0.6    11.5               2    14.0      2.5      3.0   \n",
       "13                 0.6    11.5               2    14.0      2.5      3.0   \n",
       "19                 0.6    11.5               2    14.0      2.5      3.0   \n",
       "21                 0.6    11.5               2    14.0      2.5      3.0   \n",
       "...                ...     ...             ...     ...      ...      ...   \n",
       "40870              1.4    12.5               2    15.6      3.5      5.0   \n",
       "40877              1.4    12.5               2    15.6      3.5      5.0   \n",
       "40888              1.4    12.5               2    15.6      3.5      5.0   \n",
       "40891              1.4    12.5               2    15.6      3.5      5.0   \n",
       "40902              1.4    12.5               2    15.6      3.5      5.0   \n",
       "\n",
       "       Freq [GHz]  dB(S(1,1)) []  tensorflow predicted s11  \\\n",
       "10           4.80      -0.311658                 -0.407008   \n",
       "11           4.88      -0.332031                 -0.435605   \n",
       "13           5.04      -0.379882                 -0.504011   \n",
       "19           5.52      -0.610435                 -0.932541   \n",
       "21           5.68      -0.733284                 -1.109540   \n",
       "...           ...            ...                       ...   \n",
       "40870        9.28      -2.461545                 -2.384430   \n",
       "40877        9.84      -5.034983                 -5.082325   \n",
       "40888       10.72     -10.958003                -13.798305   \n",
       "40891       10.96      -9.207747                -14.394325   \n",
       "40902       11.84     -25.518707                -17.538673   \n",
       "\n",
       "       sklearn predicted s11  \n",
       "10                 -0.304369  \n",
       "11                 -0.323273  \n",
       "13                 -0.371489  \n",
       "19                 -0.595522  \n",
       "21                 -0.742587  \n",
       "...                      ...  \n",
       "40870              -2.272278  \n",
       "40877              -4.927533  \n",
       "40888             -12.069573  \n",
       "40891             -11.259356  \n",
       "40902             -20.333122  \n",
       "\n",
       "[8181 rows x 10 columns]"
      ]
     },
     "execution_count": 99,
     "metadata": {},
     "output_type": "execute_result"
    }
   ],
   "source": [
    "analysis_df"
   ]
  },
  {
   "cell_type": "code",
   "execution_count": null,
   "metadata": {},
   "outputs": [],
   "source": []
  }
 ],
 "metadata": {
  "kernelspec": {
   "display_name": "Python 3",
   "language": "python",
   "name": "python3"
  },
  "language_info": {
   "codemirror_mode": {
    "name": "ipython",
    "version": 3
   },
   "file_extension": ".py",
   "mimetype": "text/x-python",
   "name": "python",
   "nbconvert_exporter": "python",
   "pygments_lexer": "ipython3",
   "version": "3.9.18"
  }
 },
 "nbformat": 4,
 "nbformat_minor": 2
}
