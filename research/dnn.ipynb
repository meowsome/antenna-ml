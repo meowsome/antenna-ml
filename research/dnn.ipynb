{
 "cells": [
  {
   "cell_type": "code",
   "execution_count": 11,
   "metadata": {},
   "outputs": [],
   "source": [
    "import numpy as np\n",
    "import pandas as pd\n",
    "import tensorflow as tf\n",
    "from tensorflow import keras\n",
    "from tensorflow.keras import layers\n",
    "import matplotlib.pyplot as plt"
   ]
  },
  {
   "cell_type": "code",
   "execution_count": 12,
   "metadata": {},
   "outputs": [],
   "source": [
    "threshold = 1\n",
    "\n",
    "# Check if predicted value is threshold amount above or below actual value\n",
    "def is_in_threshold(actual, pred):\n",
    "    return pred <= actual + threshold and pred >= actual - threshold\n",
    "\n",
    "def create_tf_column(results):\n",
    "    return results.apply(lambda x: is_in_threshold(x['y_test'], x['predictions']), axis=1)\n",
    "\n",
    "def get_score(y_test, y_pred, **kwargs):\n",
    "    dataframe = pd.DataFrame(y_test, columns=['y_test'])\n",
    "    dataframe['predictions'] = y_pred\n",
    "    return create_tf_column(dataframe).value_counts().get(True) / dataframe.shape[0]"
   ]
  },
  {
   "cell_type": "code",
   "execution_count": 13,
   "metadata": {},
   "outputs": [],
   "source": [
    "random_state=1"
   ]
  },
  {
   "cell_type": "code",
   "execution_count": 14,
   "metadata": {},
   "outputs": [],
   "source": [
    "# Import data and preprocess\n",
    "df = pd.read_csv(\"../test_data/patch_antenna/Patch Antenna S11 Data.csv\")\n",
    "df = df.drop(df[df['dB(S(1,1)) []'] > 0].index) # Remove all rows with positive s11\n",
    "\n",
    "# # Split into x and y\n",
    "# input_x = df.drop(columns=['dB(S(1,1)) []'], axis=1)\n",
    "# input_y = df[['dB(S(1,1)) []']]\n",
    "\n",
    "# Split data into training and testing\n",
    "train_df = df.sample(frac=0.8, random_state=0)\n",
    "test_df = df.drop(train_df.index)\n",
    "X_train = train_df.copy()\n",
    "X_test = test_df.copy()\n",
    "y_train = X_train.pop('dB(S(1,1)) []')\n",
    "y_test = X_test.pop('dB(S(1,1)) []')"
   ]
  },
  {
   "cell_type": "code",
   "execution_count": 15,
   "metadata": {},
   "outputs": [],
   "source": [
    "from sklearn.preprocessing import MinMaxScaler\n",
    "scaler = MinMaxScaler(feature_range=(0,1)) # Initialize scaler\n",
    "X_train_scaled = scaler.fit_transform(X_train)\n",
    "X_test_scaled = scaler.transform(X_test)"
   ]
  },
  {
   "cell_type": "code",
   "execution_count": 16,
   "metadata": {},
   "outputs": [],
   "source": [
    "import keras_tuner\n",
    "class AntennaModel(keras_tuner.HyperModel):\n",
    "    def __init__(self, input_shape):\n",
    "        self.input_shape= input_shape\n",
    "        \n",
    "    def build(self, hp):\n",
    "        model= keras.Sequential()\n",
    "\n",
    "        for i in range(hp.Int('num_layers', 1, 4)):\n",
    "            model.add(keras.layers.Dense(units=hp.Int(f'units_{i}', min_value=32, max_value=512, step=32), activation='relu', input_shape=self.input_shape))\n",
    "        model.add(keras.layers.Dense(1)) # Output layer\n",
    "\n",
    "        # Tune the learning rate for the optimizer \n",
    "        hp_learning_rate=hp.Float('learning_rate', min_value=1e-4, max_value=0.1)\n",
    "\n",
    "        model.compile(loss='mse',\n",
    "                    optimizer= keras.optimizers.Adam(learning_rate=hp_learning_rate),\n",
    "                    metrics= ['mse']\n",
    "                     )\n",
    "\n",
    "        return model"
   ]
  },
  {
   "cell_type": "code",
   "execution_count": 19,
   "metadata": {},
   "outputs": [
    {
     "name": "stdout",
     "output_type": "stream",
     "text": [
      "Trial 3 Complete [00h 00m 49s]\n",
      "val_mse: 2.2353532314300537\n",
      "\n",
      "Best val_mse So Far: 2.202643871307373\n",
      "Total elapsed time: 00h 06m 09s\n"
     ]
    }
   ],
   "source": [
    "import keras_tuner\n",
    "antenna_model = AntennaModel(input_shape=[len(X_train.keys())])\n",
    "tuner = keras_tuner.RandomSearch(\n",
    "    antenna_model,\n",
    "    objective='val_mse',\n",
    "    max_trials=3,\n",
    "    executions_per_trial=1)\n",
    "\n",
    "tuner.search_space_summary()\n",
    "stop_early = tf.keras.callbacks.EarlyStopping(monitor='val_loss', patience=5)\n",
    "tuner.search(X_train_scaled, y_train, epochs=100, validation_split=0.2, validation_data = (X_test_scaled, y_test), callbacks=[stop_early])"
   ]
  },
  {
   "cell_type": "code",
   "execution_count": 20,
   "metadata": {},
   "outputs": [],
   "source": [
    "history = tuner.oracle.get_best_trials(num_trials=1)[0]"
   ]
  },
  {
   "cell_type": "code",
   "execution_count": 21,
   "metadata": {},
   "outputs": [],
   "source": [
    "best_hps= tuner.get_best_hyperparameters(num_trials=1)[0]\n",
    "best_model = tuner.get_best_models(num_models=1)[0]"
   ]
  },
  {
   "cell_type": "code",
   "execution_count": 22,
   "metadata": {},
   "outputs": [
    {
     "name": "stdout",
     "output_type": "stream",
     "text": [
      "units_1: 160\n",
      "learning rate: 0.04279843141651064\n",
      "best model name: []\n",
      "256/256 [==============================] - 1s 4ms/step - loss: 2.2026 - mse: 2.2026\n",
      "mse: [2.202643871307373, 2.202643871307373]\n"
     ]
    }
   ],
   "source": [
    "print('units_1:', best_hps.get('units_1'))\n",
    "print('learning rate:', best_hps.get('learning_rate'))\n",
    "print('best model name:', best_model.metrics_names)\n",
    "print('mse:', best_model.evaluate(X_test_scaled, y_test))"
   ]
  },
  {
   "cell_type": "code",
   "execution_count": 23,
   "metadata": {},
   "outputs": [
    {
     "name": "stderr",
     "output_type": "stream",
     "text": [
      "/opt/miniconda3/envs/tensorflow/lib/python3.9/site-packages/keras/src/engine/training.py:3103: UserWarning: You are saving your model as an HDF5 file via `model.save()`. This file format is considered legacy. We recommend using instead the native Keras format, e.g. `model.save('my_model.keras')`.\n",
      "  saving_api.save_model(\n"
     ]
    }
   ],
   "source": [
    "best_model.save(\"dnn.h5\")"
   ]
  },
  {
   "cell_type": "code",
   "execution_count": 24,
   "metadata": {},
   "outputs": [],
   "source": [
    "# best_model = tf.keras.models.load_model(\"dnn.h5\")"
   ]
  },
  {
   "cell_type": "code",
   "execution_count": 33,
   "metadata": {},
   "outputs": [
    {
     "name": "stdout",
     "output_type": "stream",
     "text": [
      "256/256 [==============================] - 1s 5ms/step\n",
      "CPU times: user 1.04 s, sys: 63.9 ms, total: 1.1 s\n",
      "Wall time: 2.79 s\n"
     ]
    }
   ],
   "source": [
    "%%time\n",
    "test_predictions = best_model.predict(X_test_scaled)"
   ]
  },
  {
   "cell_type": "code",
   "execution_count": 26,
   "metadata": {},
   "outputs": [
    {
     "name": "stdout",
     "output_type": "stream",
     "text": [
      "Epoch 1/500\n",
      "1023/1023 [==============================] - 8s 6ms/step - loss: 9.3465 - mse: 9.3465 - val_loss: 4.9216 - val_mse: 4.9216\n",
      "Epoch 2/500\n",
      "1023/1023 [==============================] - 6s 6ms/step - loss: 3.8706 - mse: 3.8706 - val_loss: 2.7184 - val_mse: 2.7184\n",
      "Epoch 3/500\n",
      "1023/1023 [==============================] - 6s 6ms/step - loss: 3.5500 - mse: 3.5500 - val_loss: 2.4073 - val_mse: 2.4073\n",
      "Epoch 4/500\n",
      "1023/1023 [==============================] - 6s 6ms/step - loss: 3.4606 - mse: 3.4606 - val_loss: 2.4974 - val_mse: 2.4974\n",
      "Epoch 5/500\n",
      "1023/1023 [==============================] - 6s 5ms/step - loss: 3.3086 - mse: 3.3086 - val_loss: 2.5433 - val_mse: 2.5433\n",
      "Epoch 6/500\n",
      "1023/1023 [==============================] - 6s 6ms/step - loss: 3.3544 - mse: 3.3544 - val_loss: 3.6809 - val_mse: 3.6809\n",
      "Epoch 7/500\n",
      "1023/1023 [==============================] - 6s 5ms/step - loss: 3.2210 - mse: 3.2210 - val_loss: 3.0003 - val_mse: 3.0003\n",
      "Epoch 8/500\n",
      "1023/1023 [==============================] - 5s 5ms/step - loss: 3.0511 - mse: 3.0511 - val_loss: 2.8221 - val_mse: 2.8221\n",
      "Epoch 9/500\n",
      "1023/1023 [==============================] - 6s 5ms/step - loss: 3.1748 - mse: 3.1748 - val_loss: 2.8925 - val_mse: 2.8925\n",
      "Epoch 10/500\n",
      "1023/1023 [==============================] - 5s 5ms/step - loss: 2.9394 - mse: 2.9394 - val_loss: 2.8752 - val_mse: 2.8752\n",
      "Epoch 11/500\n",
      "1023/1023 [==============================] - 5s 5ms/step - loss: 3.1040 - mse: 3.1040 - val_loss: 3.4261 - val_mse: 3.4261\n",
      "Epoch 12/500\n",
      "1023/1023 [==============================] - 5s 5ms/step - loss: 3.0227 - mse: 3.0227 - val_loss: 3.5544 - val_mse: 3.5544\n",
      "Epoch 13/500\n",
      "1023/1023 [==============================] - 5s 5ms/step - loss: 2.9146 - mse: 2.9146 - val_loss: 2.7290 - val_mse: 2.7290\n",
      "Epoch 14/500\n",
      "1023/1023 [==============================] - 5s 5ms/step - loss: 2.8837 - mse: 2.8837 - val_loss: 3.7411 - val_mse: 3.7411\n",
      "Epoch 15/500\n",
      "1023/1023 [==============================] - 5s 5ms/step - loss: 3.0078 - mse: 3.0078 - val_loss: 2.8039 - val_mse: 2.8039\n",
      "Epoch 16/500\n",
      "1023/1023 [==============================] - 5s 5ms/step - loss: 2.8898 - mse: 2.8898 - val_loss: 2.2535 - val_mse: 2.2535\n",
      "Epoch 17/500\n",
      "1023/1023 [==============================] - 5s 5ms/step - loss: 2.9342 - mse: 2.9342 - val_loss: 2.4664 - val_mse: 2.4664\n",
      "Epoch 18/500\n",
      "1023/1023 [==============================] - 5s 5ms/step - loss: 2.9196 - mse: 2.9196 - val_loss: 3.4780 - val_mse: 3.4780\n",
      "Epoch 19/500\n",
      "1023/1023 [==============================] - 6s 6ms/step - loss: 2.8180 - mse: 2.8180 - val_loss: 2.7215 - val_mse: 2.7215\n",
      "Epoch 20/500\n",
      "1023/1023 [==============================] - 7s 7ms/step - loss: 2.8533 - mse: 2.8533 - val_loss: 2.7835 - val_mse: 2.7835\n",
      "Epoch 21/500\n",
      "1023/1023 [==============================] - 7s 7ms/step - loss: 2.7893 - mse: 2.7893 - val_loss: 2.4758 - val_mse: 2.4758\n",
      "Epoch 22/500\n",
      "1023/1023 [==============================] - 7s 7ms/step - loss: 2.8455 - mse: 2.8455 - val_loss: 2.7168 - val_mse: 2.7168\n",
      "Epoch 23/500\n",
      "1023/1023 [==============================] - 7s 7ms/step - loss: 2.7426 - mse: 2.7426 - val_loss: 2.4127 - val_mse: 2.4127\n",
      "Epoch 24/500\n",
      "1023/1023 [==============================] - 7s 7ms/step - loss: 2.8152 - mse: 2.8152 - val_loss: 2.1880 - val_mse: 2.1880\n",
      "Epoch 25/500\n",
      "1023/1023 [==============================] - 7s 7ms/step - loss: 2.8401 - mse: 2.8401 - val_loss: 2.8420 - val_mse: 2.8420\n",
      "Epoch 26/500\n",
      "1023/1023 [==============================] - 7s 7ms/step - loss: 2.7071 - mse: 2.7071 - val_loss: 2.8816 - val_mse: 2.8816\n",
      "Epoch 27/500\n",
      "1023/1023 [==============================] - 8s 8ms/step - loss: 2.9121 - mse: 2.9121 - val_loss: 2.5036 - val_mse: 2.5036\n",
      "Epoch 28/500\n",
      "1023/1023 [==============================] - 8s 8ms/step - loss: 2.8069 - mse: 2.8069 - val_loss: 3.0182 - val_mse: 3.0182\n",
      "Epoch 29/500\n",
      "1023/1023 [==============================] - 9s 8ms/step - loss: 2.8156 - mse: 2.8156 - val_loss: 2.3194 - val_mse: 2.3194\n",
      "Epoch 30/500\n",
      "1023/1023 [==============================] - 9s 9ms/step - loss: 2.7262 - mse: 2.7262 - val_loss: 2.2532 - val_mse: 2.2532\n",
      "Epoch 31/500\n",
      "1023/1023 [==============================] - 9s 8ms/step - loss: 2.7624 - mse: 2.7624 - val_loss: 2.2812 - val_mse: 2.2812\n",
      "Epoch 32/500\n",
      "1023/1023 [==============================] - 9s 8ms/step - loss: 2.8289 - mse: 2.8289 - val_loss: 2.3570 - val_mse: 2.3570\n",
      "Epoch 33/500\n",
      "1023/1023 [==============================] - 8s 8ms/step - loss: 2.7962 - mse: 2.7962 - val_loss: 2.6166 - val_mse: 2.6166\n",
      "Epoch 34/500\n",
      "1023/1023 [==============================] - 8s 8ms/step - loss: 2.6936 - mse: 2.6936 - val_loss: 2.6070 - val_mse: 2.6070\n",
      "Epoch 35/500\n",
      "1023/1023 [==============================] - 8s 8ms/step - loss: 2.6875 - mse: 2.6875 - val_loss: 2.3780 - val_mse: 2.3780\n",
      "Epoch 36/500\n",
      "1023/1023 [==============================] - 8s 8ms/step - loss: 2.7905 - mse: 2.7905 - val_loss: 3.0280 - val_mse: 3.0280\n",
      "Epoch 37/500\n",
      "1023/1023 [==============================] - 7s 7ms/step - loss: 2.7199 - mse: 2.7199 - val_loss: 2.2757 - val_mse: 2.2757\n",
      "Epoch 38/500\n",
      "1023/1023 [==============================] - 7s 7ms/step - loss: 2.7127 - mse: 2.7127 - val_loss: 2.3118 - val_mse: 2.3118\n",
      "Epoch 39/500\n",
      "1023/1023 [==============================] - 9s 9ms/step - loss: 2.6882 - mse: 2.6882 - val_loss: 2.6062 - val_mse: 2.6062\n",
      "Epoch 40/500\n",
      "1023/1023 [==============================] - 9s 9ms/step - loss: 2.7049 - mse: 2.7049 - val_loss: 2.2016 - val_mse: 2.2016\n",
      "Epoch 41/500\n",
      "1023/1023 [==============================] - 9s 9ms/step - loss: 2.7358 - mse: 2.7358 - val_loss: 2.6848 - val_mse: 2.6848\n",
      "Epoch 42/500\n",
      "1023/1023 [==============================] - 10s 10ms/step - loss: 2.6887 - mse: 2.6887 - val_loss: 2.4748 - val_mse: 2.4748\n",
      "Epoch 43/500\n",
      "1023/1023 [==============================] - 9s 9ms/step - loss: 2.6742 - mse: 2.6742 - val_loss: 2.5624 - val_mse: 2.5624\n",
      "Epoch 44/500\n",
      "1023/1023 [==============================] - 10s 9ms/step - loss: 2.7046 - mse: 2.7046 - val_loss: 2.4217 - val_mse: 2.4217\n",
      "Epoch 44: early stopping\n",
      "CPU times: user 5min 14s, sys: 24 s, total: 5min 38s\n",
      "Wall time: 5min 11s\n"
     ]
    }
   ],
   "source": [
    "%%time\n",
    "early_stopping_cb = keras.callbacks.EarlyStopping(monitor='val_loss', patience=20, verbose=1, mode='min', restore_best_weights=False)\n",
    "dnn_model = tuner.hypermodel.build(best_hps)\n",
    "history_tuned= dnn_model.fit(X_train_scaled, y_train, \n",
    "          epochs = 500, \n",
    "          validation_data = (X_test_scaled, y_test),\n",
    "          verbose=1,\n",
    "          callbacks= early_stopping_cb)"
   ]
  },
  {
   "cell_type": "code",
   "execution_count": 27,
   "metadata": {},
   "outputs": [],
   "source": [
    "import pickle\n",
    "with open(\"dnn.pkl\", \"wb\") as file:\n",
    "    pickle.dump(history_tuned, file)\n",
    "\n",
    "# with open(\"dnn.pkl\", \"rb\") as file:\n",
    "#     history_tuned = pickle.load(file)"
   ]
  },
  {
   "cell_type": "code",
   "execution_count": 28,
   "metadata": {},
   "outputs": [
    {
     "data": {
      "image/png": "[encoded data removed]",
      "text/plain": [
       "<Figure size 640x480 with 1 Axes>"
      ]
     },
     "metadata": {},
     "output_type": "display_data"
    }
   ],
   "source": [
    "plt.plot(history_tuned.history['loss'])\n",
    "plt.plot(history_tuned.history['val_loss'])\n",
    "plt.title('TensorFlow Loss')\n",
    "plt.ylabel('Loss')\n",
    "plt.xlabel('Epoch')\n",
    "plt.legend(['Train', 'Test'], loc='upper left')\n",
    "plt.show()"
   ]
  },
  {
   "cell_type": "code",
   "execution_count": 29,
   "metadata": {},
   "outputs": [
    {
     "data": {
      "text/plain": [
       "[2.202643871307373, 2.202643871307373]"
      ]
     },
     "execution_count": 29,
     "metadata": {},
     "output_type": "execute_result"
    }
   ],
   "source": [
    "best_model.evaluate(X_test_scaled, y_test, verbose=0)"
   ]
  },
  {
   "cell_type": "code",
   "execution_count": 30,
   "metadata": {},
   "outputs": [],
   "source": [
    "from sklearn.model_selection import train_test_split\n",
    "from sklearn.pipeline import Pipeline\n",
    "from sklearn.tree import DecisionTreeRegressor\n",
    "from sklearn.preprocessing import MinMaxScaler\n",
    "\n",
    "model = DecisionTreeRegressor(random_state=random_state) # Initialize model\n",
    "scaler = MinMaxScaler(feature_range=(0,1)) # Initialize scaler\n",
    "pipeline = Pipeline(steps=[('normalize', scaler), ('model', model)]) # Create pipeline with scaler and model\n",
    "pipeline_fit = pipeline.fit(X_train, y_train)\n",
    "sklearn_predictions = pipeline_fit.predict(X_test)"
   ]
  },
  {
   "cell_type": "code",
   "execution_count": 31,
   "metadata": {},
   "outputs": [
    {
     "name": "stdout",
     "output_type": "stream",
     "text": [
      "tensorflow score: 0.7756997922014424\n",
      "sklearn score: 0.9118689646742452\n"
     ]
    }
   ],
   "source": [
    "print(f\"tensorflow score: {get_score(y_test.values.ravel(), test_predictions)}\")\n",
    "print(f\"sklearn score: {get_score(y_test.values.ravel(), sklearn_predictions)}\")"
   ]
  },
  {
   "cell_type": "code",
   "execution_count": 40,
   "metadata": {},
   "outputs": [],
   "source": [
    "scatter_plot_df = pd.DataFrame({\n",
    "    's11_true': y_test.values.tolist() * 2,\n",
    "    's11_prediction': np.concatenate((sklearn_predictions,test_predictions.reshape(-1))),\n",
    "    's11_source': (['Sklearn'] * len(y_test.values.tolist())) + (['TensorFlow'] * len(y_test.values.tolist())),\n",
    "    's11_color': (['red'] * len(y_test.values.tolist())) + (['blue'] * len(y_test.values.tolist()))\n",
    "})"
   ]
  },
  {
   "cell_type": "code",
   "execution_count": 41,
   "metadata": {},
   "outputs": [
    {
     "data": {
      "image/png": "[encoded data removed]",
      "text/plain": [
       "<Figure size 640x480 with 1 Axes>"
      ]
     },
     "metadata": {},
     "output_type": "display_data"
    }
   ],
   "source": [
    "fig = plt.figure()\n",
    "ax1 = fig.add_subplot(111)\n",
    "ax1.scatter(y_test, test_predictions, label=\"TensorFlow\", c='r')\n",
    "ax1.scatter(y_test, sklearn_predictions, label=\"Sklearn\", c='b')\n",
    "plt.xlabel('True Values')\n",
    "plt.ylabel('Predictions')\n",
    "plt.title(\"Actual vs Predicted S11\")\n",
    "plt.axline((-30,-30), (10,10))\n",
    "plt.legend(loc='upper left')\n",
    "plt.show()"
   ]
  },
  {
   "cell_type": "code",
   "execution_count": 43,
   "metadata": {},
   "outputs": [
    {
     "data": {
      "text/plain": [
       "Text(0.5, 1.0, 'Histogram of Error')"
      ]
     },
     "execution_count": 43,
     "metadata": {},
     "output_type": "execute_result"
    },
    {
     "data": {
      "image/png": "[encoded data removed]",
      "text/plain": [
       "<Figure size 640x480 with 1 Axes>"
      ]
     },
     "metadata": {},
     "output_type": "display_data"
    }
   ],
   "source": [
    "fig = plt.figure()\n",
    "ax1 = fig.add_subplot(111)\n",
    "error_tensorflow = test_predictions.reshape(-1) - y_test\n",
    "error_sklearn = sklearn_predictions - y_test\n",
    "ax1.hist([error_tensorflow, error_sklearn], bins=20, color=['red', 'blue'], label=['TensorFlow', 'Sklearn'])\n",
    "plt.xlabel('Prediction Error')\n",
    "plt.ylabel('Count')\n",
    "plt.legend(loc='upper left')\n",
    "plt.title(\"Histogram of Error\")"
   ]
  },
  {
   "cell_type": "code",
   "execution_count": 45,
   "metadata": {},
   "outputs": [],
   "source": [
    "analysis_df = X_test.copy()\n",
    "analysis_df['dB(S(1,1)) []'] = y_test\n",
    "analysis_df['tensorflow predicted s11'] = test_predictions.reshape(-1)\n",
    "analysis_df['sklearn predicted s11'] = sklearn_predictions"
   ]
  },
  {
   "cell_type": "code",
   "execution_count": 46,
   "metadata": {},
   "outputs": [
    {
     "data": {
      "text/html": [
       "<div>\n",
       "<style scoped>\n",
       "    .dataframe tbody tr th:only-of-type {\n",
       "        vertical-align: middle;\n",
       "    }\n",
       "\n",
       "    .dataframe tbody tr th {\n",
       "        vertical-align: top;\n",
       "    }\n",
       "\n",
       "    .dataframe thead th {\n",
       "        text-align: right;\n",
       "    }\n",
       "</style>\n",
       "<table border=\"1\" class=\"dataframe\">\n",
       "  <thead>\n",
       "    <tr style=\"text-align: right;\">\n",
       "      <th></th>\n",
       "      <th>inset_dist [mm]</th>\n",
       "      <th>L [mm]</th>\n",
       "      <th>sub_thick [mm]</th>\n",
       "      <th>W [mm]</th>\n",
       "      <th>W0 [mm]</th>\n",
       "      <th>y0 [mm]</th>\n",
       "      <th>Freq [GHz]</th>\n",
       "      <th>dB(S(1,1)) []</th>\n",
       "      <th>tensorflow predicted s11</th>\n",
       "      <th>sklearn predicted s11</th>\n",
       "    </tr>\n",
       "  </thead>\n",
       "  <tbody>\n",
       "    <tr>\n",
       "      <th>10</th>\n",
       "      <td>0.6</td>\n",
       "      <td>11.5</td>\n",
       "      <td>2</td>\n",
       "      <td>14.0</td>\n",
       "      <td>2.5</td>\n",
       "      <td>3.0</td>\n",
       "      <td>4.80</td>\n",
       "      <td>-0.311658</td>\n",
       "      <td>-0.902800</td>\n",
       "      <td>-0.303298</td>\n",
       "    </tr>\n",
       "    <tr>\n",
       "      <th>11</th>\n",
       "      <td>0.6</td>\n",
       "      <td>11.5</td>\n",
       "      <td>2</td>\n",
       "      <td>14.0</td>\n",
       "      <td>2.5</td>\n",
       "      <td>3.0</td>\n",
       "      <td>4.88</td>\n",
       "      <td>-0.332031</td>\n",
       "      <td>-0.911824</td>\n",
       "      <td>-0.323135</td>\n",
       "    </tr>\n",
       "    <tr>\n",
       "      <th>13</th>\n",
       "      <td>0.6</td>\n",
       "      <td>11.5</td>\n",
       "      <td>2</td>\n",
       "      <td>14.0</td>\n",
       "      <td>2.5</td>\n",
       "      <td>3.0</td>\n",
       "      <td>5.04</td>\n",
       "      <td>-0.379882</td>\n",
       "      <td>-0.929869</td>\n",
       "      <td>-0.369689</td>\n",
       "    </tr>\n",
       "    <tr>\n",
       "      <th>19</th>\n",
       "      <td>0.6</td>\n",
       "      <td>11.5</td>\n",
       "      <td>2</td>\n",
       "      <td>14.0</td>\n",
       "      <td>2.5</td>\n",
       "      <td>3.0</td>\n",
       "      <td>5.52</td>\n",
       "      <td>-0.610435</td>\n",
       "      <td>-0.984013</td>\n",
       "      <td>-0.592986</td>\n",
       "    </tr>\n",
       "    <tr>\n",
       "      <th>21</th>\n",
       "      <td>0.6</td>\n",
       "      <td>11.5</td>\n",
       "      <td>2</td>\n",
       "      <td>14.0</td>\n",
       "      <td>2.5</td>\n",
       "      <td>3.0</td>\n",
       "      <td>5.68</td>\n",
       "      <td>-0.733284</td>\n",
       "      <td>-1.002061</td>\n",
       "      <td>-0.711120</td>\n",
       "    </tr>\n",
       "    <tr>\n",
       "      <th>...</th>\n",
       "      <td>...</td>\n",
       "      <td>...</td>\n",
       "      <td>...</td>\n",
       "      <td>...</td>\n",
       "      <td>...</td>\n",
       "      <td>...</td>\n",
       "      <td>...</td>\n",
       "      <td>...</td>\n",
       "      <td>...</td>\n",
       "      <td>...</td>\n",
       "    </tr>\n",
       "    <tr>\n",
       "      <th>40870</th>\n",
       "      <td>1.4</td>\n",
       "      <td>12.5</td>\n",
       "      <td>2</td>\n",
       "      <td>15.6</td>\n",
       "      <td>3.5</td>\n",
       "      <td>5.0</td>\n",
       "      <td>9.28</td>\n",
       "      <td>-2.461545</td>\n",
       "      <td>-1.588639</td>\n",
       "      <td>-2.312953</td>\n",
       "    </tr>\n",
       "    <tr>\n",
       "      <th>40877</th>\n",
       "      <td>1.4</td>\n",
       "      <td>12.5</td>\n",
       "      <td>2</td>\n",
       "      <td>15.6</td>\n",
       "      <td>3.5</td>\n",
       "      <td>5.0</td>\n",
       "      <td>9.84</td>\n",
       "      <td>-5.034983</td>\n",
       "      <td>-4.732133</td>\n",
       "      <td>-5.070450</td>\n",
       "    </tr>\n",
       "    <tr>\n",
       "      <th>40888</th>\n",
       "      <td>1.4</td>\n",
       "      <td>12.5</td>\n",
       "      <td>2</td>\n",
       "      <td>15.6</td>\n",
       "      <td>3.5</td>\n",
       "      <td>5.0</td>\n",
       "      <td>10.72</td>\n",
       "      <td>-10.958003</td>\n",
       "      <td>-13.582414</td>\n",
       "      <td>-10.127994</td>\n",
       "    </tr>\n",
       "    <tr>\n",
       "      <th>40891</th>\n",
       "      <td>1.4</td>\n",
       "      <td>12.5</td>\n",
       "      <td>2</td>\n",
       "      <td>15.6</td>\n",
       "      <td>3.5</td>\n",
       "      <td>5.0</td>\n",
       "      <td>10.96</td>\n",
       "      <td>-9.207747</td>\n",
       "      <td>-15.124687</td>\n",
       "      <td>-9.059458</td>\n",
       "    </tr>\n",
       "    <tr>\n",
       "      <th>40902</th>\n",
       "      <td>1.4</td>\n",
       "      <td>12.5</td>\n",
       "      <td>2</td>\n",
       "      <td>15.6</td>\n",
       "      <td>3.5</td>\n",
       "      <td>5.0</td>\n",
       "      <td>11.84</td>\n",
       "      <td>-25.518707</td>\n",
       "      <td>-19.489935</td>\n",
       "      <td>-20.608874</td>\n",
       "    </tr>\n",
       "  </tbody>\n",
       "</table>\n",
       "<p>8181 rows × 10 columns</p>\n",
       "</div>"
      ],
      "text/plain": [
       "       inset_dist [mm]  L [mm]  sub_thick [mm]  W [mm]  W0 [mm]  y0 [mm]  \\\n",
       "10                 0.6    11.5               2    14.0      2.5      3.0   \n",
       "11                 0.6    11.5               2    14.0      2.5      3.0   \n",
       "13                 0.6    11.5               2    14.0      2.5      3.0   \n",
       "19                 0.6    11.5               2    14.0      2.5      3.0   \n",
       "21                 0.6    11.5               2    14.0      2.5      3.0   \n",
       "...                ...     ...             ...     ...      ...      ...   \n",
       "40870              1.4    12.5               2    15.6      3.5      5.0   \n",
       "40877              1.4    12.5               2    15.6      3.5      5.0   \n",
       "40888              1.4    12.5               2    15.6      3.5      5.0   \n",
       "40891              1.4    12.5               2    15.6      3.5      5.0   \n",
       "40902              1.4    12.5               2    15.6      3.5      5.0   \n",
       "\n",
       "       Freq [GHz]  dB(S(1,1)) []  tensorflow predicted s11  \\\n",
       "10           4.80      -0.311658                 -0.902800   \n",
       "11           4.88      -0.332031                 -0.911824   \n",
       "13           5.04      -0.379882                 -0.929869   \n",
       "19           5.52      -0.610435                 -0.984013   \n",
       "21           5.68      -0.733284                 -1.002061   \n",
       "...           ...            ...                       ...   \n",
       "40870        9.28      -2.461545                 -1.588639   \n",
       "40877        9.84      -5.034983                 -4.732133   \n",
       "40888       10.72     -10.958003                -13.582414   \n",
       "40891       10.96      -9.207747                -15.124687   \n",
       "40902       11.84     -25.518707                -19.489935   \n",
       "\n",
       "       sklearn predicted s11  \n",
       "10                 -0.303298  \n",
       "11                 -0.323135  \n",
       "13                 -0.369689  \n",
       "19                 -0.592986  \n",
       "21                 -0.711120  \n",
       "...                      ...  \n",
       "40870              -2.312953  \n",
       "40877              -5.070450  \n",
       "40888             -10.127994  \n",
       "40891              -9.059458  \n",
       "40902             -20.608874  \n",
       "\n",
       "[8181 rows x 10 columns]"
      ]
     },
     "execution_count": 46,
     "metadata": {},
     "output_type": "execute_result"
    }
   ],
   "source": [
    "analysis_df"
   ]
  },
  {
   "cell_type": "code",
   "execution_count": null,
   "metadata": {},
   "outputs": [],
   "source": []
  }
 ],
 "metadata": {
  "kernelspec": {
   "display_name": "Python 3",
   "language": "python",
   "name": "python3"
  },
  "language_info": {
   "codemirror_mode": {
    "name": "ipython",
    "version": 3
   },
   "file_extension": ".py",
   "mimetype": "text/x-python",
   "name": "python",
   "nbconvert_exporter": "python",
   "pygments_lexer": "ipython3",
   "version": "3.9.18"
  }
 },
 "nbformat": 4,
 "nbformat_minor": 2
}
