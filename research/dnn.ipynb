{
 "cells": [
  {
   "cell_type": "code",
   "execution_count": 95,
   "metadata": {},
   "outputs": [],
   "source": [
    "import numpy as np\n",
    "import pandas as pd\n",
    "import tensorflow as tf\n",
    "from tensorflow import keras\n",
    "from tensorflow.keras import layers\n",
    "import matplotlib.pyplot as plt\n",
    "from matplotlib import rc"
   ]
  },
  {
   "cell_type": "code",
   "execution_count": 96,
   "metadata": {},
   "outputs": [],
   "source": [
    "threshold = 1\n",
    "\n",
    "# Check if predicted value is threshold amount above or below actual value\n",
    "def is_in_threshold(actual, pred):\n",
    "    return pred <= actual + threshold and pred >= actual - threshold\n",
    "\n",
    "def create_tf_column(results):\n",
    "    return results.apply(lambda x: is_in_threshold(x['y_test'], x['predictions']), axis=1)\n",
    "\n",
    "def get_score(y_test, y_pred, **kwargs):\n",
    "    dataframe = pd.DataFrame(y_test, columns=['y_test'])\n",
    "    dataframe['predictions'] = y_pred\n",
    "    return create_tf_column(dataframe).value_counts().get(True) / dataframe.shape[0]"
   ]
  },
  {
   "cell_type": "code",
   "execution_count": 97,
   "metadata": {},
   "outputs": [],
   "source": [
    "random_state=20"
   ]
  },
  {
   "cell_type": "code",
   "execution_count": 98,
   "metadata": {},
   "outputs": [],
   "source": [
    "# Import data and preprocess\n",
    "df = pd.read_csv(\"../test_data/patch_antenna/Patch Antenna S11 Data.csv\")\n",
    "# df = pd.read_csv(\"../test_data/Grounded CPW Leaky Wave antenna/S11 Data.csv\")\n",
    "df = df.drop(df[df['dB(S(1,1)) []'] > 0].index) # Remove all rows with positive s11\n",
    "\n",
    "# # Split into x and y\n",
    "# input_x = df.drop(columns=['dB(S(1,1)) []'], axis=1)\n",
    "# input_y = df[['dB(S(1,1)) []']]\n",
    "\n",
    "# Split data into training and testing\n",
    "train_df = df.sample(frac=0.8, random_state=0)\n",
    "test_df = df.drop(train_df.index)\n",
    "X_train = train_df.copy()\n",
    "X_test = test_df.copy()\n",
    "y_train = X_train.pop('dB(S(1,1)) []')\n",
    "y_test = X_test.pop('dB(S(1,1)) []')"
   ]
  },
  {
   "cell_type": "code",
   "execution_count": 99,
   "metadata": {},
   "outputs": [],
   "source": [
    "from sklearn.preprocessing import StandardScaler\n",
    "scaler = StandardScaler() # Initialize scaler\n",
    "X_train_scaled = scaler.fit_transform(X_train)\n",
    "X_test_scaled = scaler.transform(X_test)"
   ]
  },
  {
   "cell_type": "code",
   "execution_count": 100,
   "metadata": {},
   "outputs": [],
   "source": [
    "import keras_tuner\n",
    "class AntennaModel(keras_tuner.HyperModel):\n",
    "    def __init__(self, input_shape):\n",
    "        self.input_shape= input_shape\n",
    "        \n",
    "    def build(self, hp):\n",
    "        model= keras.Sequential()\n",
    "\n",
    "        for i in range(hp.Int('num_layers', 1, 4)):\n",
    "            model.add(keras.layers.Dense(units=hp.Int(f'units_{i}', min_value=32, max_value=512, step=32), activation='relu', input_shape=self.input_shape))\n",
    "        model.add(keras.layers.Dense(1)) # Output layer\n",
    "\n",
    "        # Tune the learning rate for the optimizer \n",
    "        hp_learning_rate=hp.Float('learning_rate', min_value=1e-4, max_value=0.1)\n",
    "\n",
    "        model.compile(loss='mse',\n",
    "                    optimizer= keras.optimizers.Adam(learning_rate=hp_learning_rate),\n",
    "                    metrics= ['mse']\n",
    "                     )\n",
    "\n",
    "        return model"
   ]
  },
  {
   "cell_type": "code",
   "execution_count": 101,
   "metadata": {},
   "outputs": [
    {
     "name": "stdout",
     "output_type": "stream",
     "text": [
      "Trial 3 Complete [00h 00m 20s]\n",
      "val_mse: 7.848078727722168\n",
      "\n",
      "Best val_mse So Far: 2.174184560775757\n",
      "Total elapsed time: 00h 00m 55s\n"
     ]
    }
   ],
   "source": [
    "import keras_tuner\n",
    "antenna_model = AntennaModel(input_shape=[len(X_train.keys())])\n",
    "tuner = keras_tuner.RandomSearch(\n",
    "    antenna_model,\n",
    "    objective='val_mse',\n",
    "    max_trials=3,\n",
    "    executions_per_trial=1)\n",
    "\n",
    "tuner.search_space_summary()\n",
    "stop_early = tf.keras.callbacks.EarlyStopping(monitor='val_loss', patience=5)\n",
    "tuner.search(X_train_scaled, y_train, epochs=100, validation_split=0.2, validation_data = (X_test_scaled, y_test), callbacks=[stop_early])"
   ]
  },
  {
   "cell_type": "code",
   "execution_count": 102,
   "metadata": {},
   "outputs": [],
   "source": [
    "history = tuner.oracle.get_best_trials(num_trials=1)[0]"
   ]
  },
  {
   "cell_type": "code",
   "execution_count": 103,
   "metadata": {},
   "outputs": [],
   "source": [
    "best_hps= tuner.get_best_hyperparameters(num_trials=1)[0]\n",
    "best_model = tuner.get_best_models(num_models=1)[0]"
   ]
  },
  {
   "cell_type": "code",
   "execution_count": 104,
   "metadata": {},
   "outputs": [
    {
     "data": {
      "text/plain": [
       "{'num_layers': 3,\n",
       " 'units_0': 96,\n",
       " 'learning_rate': 0.041131504289702754,\n",
       " 'units_1': 224,\n",
       " 'units_2': 128,\n",
       " 'units_3': 224}"
      ]
     },
     "execution_count": 104,
     "metadata": {},
     "output_type": "execute_result"
    }
   ],
   "source": [
    "best_hps.values"
   ]
  },
  {
   "cell_type": "code",
   "execution_count": 105,
   "metadata": {},
   "outputs": [
    {
     "name": "stdout",
     "output_type": "stream",
     "text": [
      "units_1: 224\n",
      "learning rate: 0.041131504289702754\n",
      "best model name: []\n",
      "256/256 [==============================] - 0s 914us/step - loss: 2.1742 - mse: 2.1742\n",
      "mse: [2.174184560775757, 2.174184560775757]\n"
     ]
    }
   ],
   "source": [
    "print('units_1:', best_hps.get('units_1'))\n",
    "print('learning rate:', best_hps.get('learning_rate'))\n",
    "print('best model name:', best_model.metrics_names)\n",
    "print('mse:', best_model.evaluate(X_test_scaled, y_test))"
   ]
  },
  {
   "cell_type": "code",
   "execution_count": 106,
   "metadata": {},
   "outputs": [
    {
     "name": "stderr",
     "output_type": "stream",
     "text": [
      "/opt/miniconda3/envs/tylers_env_do_not_touch/lib/python3.9/site-packages/keras/src/engine/training.py:3103: UserWarning: You are saving your model as an HDF5 file via `model.save()`. This file format is considered legacy. We recommend using instead the native Keras format, e.g. `model.save('my_model.keras')`.\n",
      "  saving_api.save_model(\n"
     ]
    }
   ],
   "source": [
    "best_model.save(\"dnn.h5\")"
   ]
  },
  {
   "cell_type": "code",
   "execution_count": 107,
   "metadata": {},
   "outputs": [],
   "source": [
    "# best_model = tf.keras.models.load_model(\"dnn.h5\")"
   ]
  },
  {
   "cell_type": "code",
   "execution_count": 108,
   "metadata": {},
   "outputs": [
    {
     "name": "stdout",
     "output_type": "stream",
     "text": [
      "  1/256 [..............................] - ETA: 9s"
     ]
    },
    {
     "name": "stdout",
     "output_type": "stream",
     "text": [
      "256/256 [==============================] - 0s 698us/step\n",
      "CPU times: user 363 ms, sys: 37 ms, total: 400 ms\n",
      "Wall time: 330 ms\n"
     ]
    }
   ],
   "source": [
    "%%time\n",
    "test_predictions = best_model.predict(X_test_scaled)"
   ]
  },
  {
   "cell_type": "code",
   "execution_count": 109,
   "metadata": {},
   "outputs": [
    {
     "name": "stdout",
     "output_type": "stream",
     "text": [
      "Epoch 1/500\n",
      "1023/1023 [==============================] - 3s 2ms/step - loss: 6.3065 - mse: 6.3065 - val_loss: 2.8709 - val_mse: 2.8709\n",
      "Epoch 2/500\n",
      "1023/1023 [==============================] - 2s 2ms/step - loss: 3.0332 - mse: 3.0332 - val_loss: 2.2075 - val_mse: 2.2075\n",
      "Epoch 3/500\n",
      "1023/1023 [==============================] - 2s 2ms/step - loss: 2.7179 - mse: 2.7179 - val_loss: 2.6613 - val_mse: 2.6613\n",
      "Epoch 4/500\n",
      "1023/1023 [==============================] - 2s 2ms/step - loss: 2.6888 - mse: 2.6888 - val_loss: 2.5459 - val_mse: 2.5459\n",
      "Epoch 5/500\n",
      "1023/1023 [==============================] - 2s 2ms/step - loss: 2.5723 - mse: 2.5723 - val_loss: 3.0777 - val_mse: 3.0777\n",
      "Epoch 6/500\n",
      "1023/1023 [==============================] - 2s 2ms/step - loss: 2.5175 - mse: 2.5175 - val_loss: 2.6495 - val_mse: 2.6495\n",
      "Epoch 7/500\n",
      "1023/1023 [==============================] - 2s 2ms/step - loss: 2.4140 - mse: 2.4140 - val_loss: 2.0838 - val_mse: 2.0838\n",
      "Epoch 8/500\n",
      "1023/1023 [==============================] - 2s 2ms/step - loss: 2.2910 - mse: 2.2910 - val_loss: 2.3974 - val_mse: 2.3974\n",
      "Epoch 9/500\n",
      "1023/1023 [==============================] - 2s 2ms/step - loss: 2.2585 - mse: 2.2585 - val_loss: 2.8669 - val_mse: 2.8669\n",
      "Epoch 10/500\n",
      "1023/1023 [==============================] - 2s 2ms/step - loss: 2.2250 - mse: 2.2250 - val_loss: 1.7453 - val_mse: 1.7453\n",
      "Epoch 11/500\n",
      "1023/1023 [==============================] - 2s 2ms/step - loss: 2.2684 - mse: 2.2684 - val_loss: 2.6241 - val_mse: 2.6241\n",
      "Epoch 12/500\n",
      "1023/1023 [==============================] - 2s 2ms/step - loss: 2.1543 - mse: 2.1543 - val_loss: 1.8721 - val_mse: 1.8721\n",
      "Epoch 13/500\n",
      "1023/1023 [==============================] - 2s 2ms/step - loss: 2.2511 - mse: 2.2511 - val_loss: 2.5062 - val_mse: 2.5062\n",
      "Epoch 14/500\n",
      "1023/1023 [==============================] - 2s 2ms/step - loss: 2.0754 - mse: 2.0754 - val_loss: 2.0005 - val_mse: 2.0005\n",
      "Epoch 15/500\n",
      "1023/1023 [==============================] - 2s 2ms/step - loss: 2.0983 - mse: 2.0983 - val_loss: 1.6012 - val_mse: 1.6012\n",
      "Epoch 16/500\n",
      "1023/1023 [==============================] - 2s 2ms/step - loss: 2.0949 - mse: 2.0949 - val_loss: 1.6722 - val_mse: 1.6722\n",
      "Epoch 17/500\n",
      "1023/1023 [==============================] - 2s 2ms/step - loss: 1.9412 - mse: 1.9412 - val_loss: 1.7435 - val_mse: 1.7435\n",
      "Epoch 18/500\n",
      "1023/1023 [==============================] - 2s 2ms/step - loss: 1.9556 - mse: 1.9556 - val_loss: 1.8430 - val_mse: 1.8430\n",
      "Epoch 19/500\n",
      "1023/1023 [==============================] - 2s 2ms/step - loss: 2.0428 - mse: 2.0428 - val_loss: 2.3648 - val_mse: 2.3648\n",
      "Epoch 20/500\n",
      "1023/1023 [==============================] - 2s 2ms/step - loss: 2.0717 - mse: 2.0717 - val_loss: 1.9019 - val_mse: 1.9019\n",
      "Epoch 21/500\n",
      "1023/1023 [==============================] - 2s 2ms/step - loss: 2.0141 - mse: 2.0141 - val_loss: 1.6325 - val_mse: 1.6325\n",
      "Epoch 22/500\n",
      "1023/1023 [==============================] - 2s 2ms/step - loss: 1.8519 - mse: 1.8519 - val_loss: 2.3027 - val_mse: 2.3027\n",
      "Epoch 23/500\n",
      "1023/1023 [==============================] - 2s 2ms/step - loss: 1.8979 - mse: 1.8979 - val_loss: 2.6534 - val_mse: 2.6534\n",
      "Epoch 24/500\n",
      "1023/1023 [==============================] - 2s 2ms/step - loss: 1.9208 - mse: 1.9208 - val_loss: 4.1204 - val_mse: 4.1204\n",
      "Epoch 25/500\n",
      "1023/1023 [==============================] - 2s 2ms/step - loss: 1.8777 - mse: 1.8777 - val_loss: 1.5256 - val_mse: 1.5256\n",
      "Epoch 26/500\n",
      "1023/1023 [==============================] - 2s 2ms/step - loss: 2.0274 - mse: 2.0274 - val_loss: 1.8042 - val_mse: 1.8042\n",
      "Epoch 27/500\n",
      "1023/1023 [==============================] - 2s 2ms/step - loss: 1.9530 - mse: 1.9530 - val_loss: 1.4552 - val_mse: 1.4552\n",
      "Epoch 28/500\n",
      "1023/1023 [==============================] - 2s 2ms/step - loss: 1.8344 - mse: 1.8344 - val_loss: 3.1558 - val_mse: 3.1558\n",
      "Epoch 29/500\n",
      "1023/1023 [==============================] - 2s 2ms/step - loss: 1.9413 - mse: 1.9413 - val_loss: 1.9379 - val_mse: 1.9379\n",
      "Epoch 30/500\n",
      "1023/1023 [==============================] - 2s 2ms/step - loss: 1.8386 - mse: 1.8386 - val_loss: 2.0952 - val_mse: 2.0952\n",
      "Epoch 31/500\n",
      "1023/1023 [==============================] - 2s 2ms/step - loss: 1.9687 - mse: 1.9687 - val_loss: 1.7408 - val_mse: 1.7408\n",
      "Epoch 32/500\n",
      "1023/1023 [==============================] - 2s 2ms/step - loss: 1.8913 - mse: 1.8913 - val_loss: 1.5977 - val_mse: 1.5977\n",
      "Epoch 33/500\n",
      "1023/1023 [==============================] - 2s 2ms/step - loss: 1.8720 - mse: 1.8720 - val_loss: 1.3523 - val_mse: 1.3523\n",
      "Epoch 34/500\n",
      "1023/1023 [==============================] - 2s 2ms/step - loss: 1.7732 - mse: 1.7732 - val_loss: 1.5008 - val_mse: 1.5008\n",
      "Epoch 35/500\n",
      "1023/1023 [==============================] - 2s 2ms/step - loss: 1.8352 - mse: 1.8352 - val_loss: 1.4705 - val_mse: 1.4705\n",
      "Epoch 36/500\n",
      "1023/1023 [==============================] - 2s 2ms/step - loss: 1.8613 - mse: 1.8613 - val_loss: 2.0707 - val_mse: 2.0707\n",
      "Epoch 37/500\n",
      "1023/1023 [==============================] - 2s 2ms/step - loss: 1.8103 - mse: 1.8103 - val_loss: 1.5280 - val_mse: 1.5280\n",
      "Epoch 38/500\n",
      "1023/1023 [==============================] - 2s 2ms/step - loss: 1.7535 - mse: 1.7535 - val_loss: 1.3404 - val_mse: 1.3404\n",
      "Epoch 39/500\n",
      "1023/1023 [==============================] - 2s 2ms/step - loss: 1.7572 - mse: 1.7572 - val_loss: 1.6327 - val_mse: 1.6327\n",
      "Epoch 40/500\n",
      "1023/1023 [==============================] - 2s 2ms/step - loss: 1.7834 - mse: 1.7834 - val_loss: 2.1310 - val_mse: 2.1310\n",
      "Epoch 41/500\n",
      "1023/1023 [==============================] - 2s 2ms/step - loss: 1.8049 - mse: 1.8049 - val_loss: 1.4859 - val_mse: 1.4859\n",
      "Epoch 42/500\n",
      "1023/1023 [==============================] - 2s 2ms/step - loss: 1.8793 - mse: 1.8793 - val_loss: 1.7034 - val_mse: 1.7034\n",
      "Epoch 43/500\n",
      "1023/1023 [==============================] - 2s 2ms/step - loss: 1.7951 - mse: 1.7951 - val_loss: 1.4259 - val_mse: 1.4259\n",
      "Epoch 44/500\n",
      "1023/1023 [==============================] - 2s 2ms/step - loss: 1.7984 - mse: 1.7984 - val_loss: 1.4035 - val_mse: 1.4035\n",
      "Epoch 45/500\n",
      "1023/1023 [==============================] - 2s 2ms/step - loss: 1.7978 - mse: 1.7978 - val_loss: 1.5578 - val_mse: 1.5578\n",
      "Epoch 46/500\n",
      "1023/1023 [==============================] - 2s 2ms/step - loss: 1.9230 - mse: 1.9230 - val_loss: 1.8770 - val_mse: 1.8770\n",
      "Epoch 47/500\n",
      "1023/1023 [==============================] - 2s 2ms/step - loss: 1.8305 - mse: 1.8305 - val_loss: 1.6434 - val_mse: 1.6434\n",
      "Epoch 48/500\n",
      "1023/1023 [==============================] - 2s 2ms/step - loss: 1.9095 - mse: 1.9095 - val_loss: 2.2557 - val_mse: 2.2557\n",
      "Epoch 49/500\n",
      "1023/1023 [==============================] - 2s 2ms/step - loss: 1.7502 - mse: 1.7502 - val_loss: 1.5957 - val_mse: 1.5957\n",
      "Epoch 50/500\n",
      "1023/1023 [==============================] - 2s 2ms/step - loss: 1.8145 - mse: 1.8145 - val_loss: 1.4818 - val_mse: 1.4818\n",
      "Epoch 51/500\n",
      "1023/1023 [==============================] - 2s 2ms/step - loss: 1.8053 - mse: 1.8053 - val_loss: 1.6218 - val_mse: 1.6218\n",
      "Epoch 52/500\n",
      "1023/1023 [==============================] - 2s 2ms/step - loss: 1.9815 - mse: 1.9815 - val_loss: 1.5316 - val_mse: 1.5316\n",
      "Epoch 53/500\n",
      "1023/1023 [==============================] - 2s 2ms/step - loss: 1.7553 - mse: 1.7553 - val_loss: 2.5298 - val_mse: 2.5298\n",
      "Epoch 54/500\n",
      "1023/1023 [==============================] - 2s 2ms/step - loss: 1.7928 - mse: 1.7928 - val_loss: 1.3574 - val_mse: 1.3574\n",
      "Epoch 55/500\n",
      "1023/1023 [==============================] - 2s 2ms/step - loss: 1.7424 - mse: 1.7424 - val_loss: 1.7761 - val_mse: 1.7761\n",
      "Epoch 56/500\n",
      "1023/1023 [==============================] - 2s 2ms/step - loss: 1.7643 - mse: 1.7643 - val_loss: 1.6782 - val_mse: 1.6782\n",
      "Epoch 57/500\n",
      "1023/1023 [==============================] - 2s 2ms/step - loss: 1.8533 - mse: 1.8533 - val_loss: 2.0514 - val_mse: 2.0514\n",
      "Epoch 58/500\n",
      "1023/1023 [==============================] - 2s 2ms/step - loss: 1.8140 - mse: 1.8140 - val_loss: 1.2975 - val_mse: 1.2975\n",
      "Epoch 59/500\n",
      "1023/1023 [==============================] - 2s 2ms/step - loss: 1.7859 - mse: 1.7859 - val_loss: 2.0885 - val_mse: 2.0885\n",
      "Epoch 60/500\n",
      "1023/1023 [==============================] - 2s 2ms/step - loss: 1.8012 - mse: 1.8012 - val_loss: 1.7204 - val_mse: 1.7204\n",
      "Epoch 61/500\n",
      "1023/1023 [==============================] - 2s 2ms/step - loss: 1.8713 - mse: 1.8713 - val_loss: 1.4316 - val_mse: 1.4316\n",
      "Epoch 62/500\n",
      "1023/1023 [==============================] - 2s 2ms/step - loss: 1.8206 - mse: 1.8206 - val_loss: 1.4964 - val_mse: 1.4964\n",
      "Epoch 63/500\n",
      "1023/1023 [==============================] - 2s 2ms/step - loss: 1.7838 - mse: 1.7838 - val_loss: 1.8343 - val_mse: 1.8343\n",
      "Epoch 64/500\n",
      "1023/1023 [==============================] - 2s 2ms/step - loss: 1.7907 - mse: 1.7907 - val_loss: 1.4498 - val_mse: 1.4498\n",
      "Epoch 65/500\n",
      "1023/1023 [==============================] - 2s 2ms/step - loss: 1.8404 - mse: 1.8404 - val_loss: 1.8813 - val_mse: 1.8813\n",
      "Epoch 66/500\n",
      "1023/1023 [==============================] - 2s 2ms/step - loss: 1.8109 - mse: 1.8109 - val_loss: 1.5679 - val_mse: 1.5679\n",
      "Epoch 67/500\n",
      "1023/1023 [==============================] - 2s 2ms/step - loss: 1.7439 - mse: 1.7439 - val_loss: 1.6087 - val_mse: 1.6087\n",
      "Epoch 68/500\n",
      "1023/1023 [==============================] - 2s 2ms/step - loss: 1.7469 - mse: 1.7469 - val_loss: 1.5185 - val_mse: 1.5185\n",
      "Epoch 69/500\n",
      "1023/1023 [==============================] - 2s 2ms/step - loss: 1.7775 - mse: 1.7775 - val_loss: 1.7620 - val_mse: 1.7620\n",
      "Epoch 70/500\n",
      "1023/1023 [==============================] - 2s 2ms/step - loss: 1.7736 - mse: 1.7736 - val_loss: 2.8731 - val_mse: 2.8731\n",
      "Epoch 71/500\n",
      "1023/1023 [==============================] - 2s 2ms/step - loss: 1.8581 - mse: 1.8581 - val_loss: 1.5845 - val_mse: 1.5845\n",
      "Epoch 72/500\n",
      "1023/1023 [==============================] - 2s 2ms/step - loss: 1.7658 - mse: 1.7658 - val_loss: 1.4631 - val_mse: 1.4631\n",
      "Epoch 73/500\n",
      "1023/1023 [==============================] - 2s 2ms/step - loss: 1.7460 - mse: 1.7460 - val_loss: 1.6588 - val_mse: 1.6588\n",
      "Epoch 74/500\n",
      "1023/1023 [==============================] - 2s 2ms/step - loss: 1.8131 - mse: 1.8131 - val_loss: 1.9286 - val_mse: 1.9286\n",
      "Epoch 75/500\n",
      "1023/1023 [==============================] - 2s 2ms/step - loss: 1.7458 - mse: 1.7458 - val_loss: 1.5563 - val_mse: 1.5563\n",
      "Epoch 76/500\n",
      "1023/1023 [==============================] - 2s 2ms/step - loss: 1.7504 - mse: 1.7504 - val_loss: 1.5914 - val_mse: 1.5914\n",
      "Epoch 77/500\n",
      "1023/1023 [==============================] - 2s 2ms/step - loss: 1.6867 - mse: 1.6867 - val_loss: 1.5567 - val_mse: 1.5567\n",
      "Epoch 78/500\n",
      "1023/1023 [==============================] - 2s 2ms/step - loss: 1.7100 - mse: 1.7100 - val_loss: 2.2910 - val_mse: 2.2910\n",
      "Epoch 78: early stopping\n",
      "CPU times: user 3min 16s, sys: 10.2 s, total: 3min 27s\n",
      "Wall time: 2min 21s\n"
     ]
    }
   ],
   "source": [
    "%%time\n",
    "early_stopping_cb = keras.callbacks.EarlyStopping(monitor='val_loss', patience=20, verbose=1, mode='min', restore_best_weights=False)\n",
    "dnn_model = tuner.hypermodel.build(best_hps)\n",
    "history_tuned= dnn_model.fit(X_train_scaled, y_train, \n",
    "          epochs = 500, \n",
    "          validation_data = (X_test_scaled, y_test),\n",
    "          verbose=1,\n",
    "          callbacks= early_stopping_cb)"
   ]
  },
  {
   "cell_type": "code",
   "execution_count": 110,
   "metadata": {},
   "outputs": [],
   "source": [
    "import pickle\n",
    "with open(\"dnn.pkl\", \"wb\") as file:\n",
    "    pickle.dump(history_tuned, file)\n",
    "\n",
    "# with open(\"dnn.pkl\", \"rb\") as file:\n",
    "#     history_tuned = pickle.load(file)"
   ]
  },
  {
   "cell_type": "code",
   "execution_count": 111,
   "metadata": {},
   "outputs": [
    {
     "data": {
      "image/png": "[encoded data removed]",
      "text/plain": [
       "<Figure size 640x480 with 1 Axes>"
      ]
     },
     "metadata": {},
     "output_type": "display_data"
    }
   ],
   "source": [
    "# Make the font the same as latex \n",
    "rc('font', **{'family': 'serif', 'serif': ['Computer Modern']})\n",
    "rc('text', usetex=True)\n",
    "\n",
    "plt.plot(history_tuned.history['loss'])\n",
    "plt.plot(history_tuned.history['val_loss'])\n",
    "plt.ylabel('Loss')\n",
    "plt.xlabel('Epoch')\n",
    "plt.legend(['Train', 'Test'], loc='upper left')\n",
    "plt.show()"
   ]
  },
  {
   "cell_type": "code",
   "execution_count": 112,
   "metadata": {},
   "outputs": [
    {
     "data": {
      "text/plain": [
       "[2.174184560775757, 2.174184560775757]"
      ]
     },
     "execution_count": 112,
     "metadata": {},
     "output_type": "execute_result"
    }
   ],
   "source": [
    "best_model.evaluate(X_test_scaled, y_test, verbose=0)"
   ]
  },
  {
   "cell_type": "code",
   "execution_count": 113,
   "metadata": {},
   "outputs": [],
   "source": [
    "from sklearn.model_selection import train_test_split\n",
    "from sklearn.pipeline import Pipeline\n",
    "from sklearn.ensemble import RandomForestRegressor\n",
    "from sklearn.preprocessing import StandardScaler\n",
    "\n",
    "model = RandomForestRegressor(max_depth=85, min_samples_leaf=1, min_samples_split=2, n_estimators=1000, random_state=random_state) # Initialize model\n",
    "scaler = StandardScaler() # Initialize scaler\n",
    "pipeline = Pipeline(steps=[('normalize', scaler), ('model', model)]) # Create pipeline with scaler and model\n"
   ]
  },
  {
   "cell_type": "code",
   "execution_count": 114,
   "metadata": {},
   "outputs": [
    {
     "name": "stdout",
     "output_type": "stream",
     "text": [
      "CPU times: user 34.9 s, sys: 510 ms, total: 35.5 s\n",
      "Wall time: 35.4 s\n"
     ]
    }
   ],
   "source": [
    "%%time\n",
    "pipeline_fit = pipeline.fit(X_train, y_train)"
   ]
  },
  {
   "cell_type": "code",
   "execution_count": 115,
   "metadata": {},
   "outputs": [
    {
     "name": "stdout",
     "output_type": "stream",
     "text": [
      "CPU times: user 1.7 s, sys: 0 ns, total: 1.7 s\n",
      "Wall time: 1.7 s\n"
     ]
    }
   ],
   "source": [
    "%%time\n",
    "sklearn_predictions = pipeline_fit.predict(X_test)"
   ]
  },
  {
   "cell_type": "code",
   "execution_count": 116,
   "metadata": {},
   "outputs": [
    {
     "data": {
      "text/plain": [
       "0.7851321655114097"
      ]
     },
     "execution_count": 116,
     "metadata": {},
     "output_type": "execute_result"
    }
   ],
   "source": [
    "from sklearn.metrics import mean_squared_error\n",
    "\n",
    "mean_squared_error(y_test.values.ravel(), sklearn_predictions, squared=False)"
   ]
  },
  {
   "cell_type": "code",
   "execution_count": 117,
   "metadata": {},
   "outputs": [
    {
     "name": "stdout",
     "output_type": "stream",
     "text": [
      "tensorflow score: 0.7953795379537953\n",
      "sklearn score: 0.9314264759809314\n"
     ]
    }
   ],
   "source": [
    "print(f\"tensorflow score: {get_score(y_test.values.ravel(), test_predictions)}\")\n",
    "print(f\"sklearn score: {get_score(y_test.values.ravel(), sklearn_predictions)}\")"
   ]
  },
  {
   "cell_type": "code",
   "execution_count": 118,
   "metadata": {},
   "outputs": [],
   "source": [
    "scatter_plot_df = pd.DataFrame({\n",
    "    's11_true': y_test.values.tolist() * 2,\n",
    "    's11_prediction': np.concatenate((sklearn_predictions,test_predictions.reshape(-1))),\n",
    "    's11_source': (['Sklearn'] * len(y_test.values.tolist())) + (['TensorFlow'] * len(y_test.values.tolist())),\n",
    "    's11_color': (['red'] * len(y_test.values.tolist())) + (['blue'] * len(y_test.values.tolist()))\n",
    "})"
   ]
  },
  {
   "cell_type": "code",
   "execution_count": 119,
   "metadata": {},
   "outputs": [
    {
     "data": {
      "image/png": "[encoded data removed]",
      "text/plain": [
       "<Figure size 640x480 with 1 Axes>"
      ]
     },
     "metadata": {},
     "output_type": "display_data"
    }
   ],
   "source": [
    "fig = plt.figure()\n",
    "ax1 = fig.add_subplot(111)\n",
    "ax1.scatter(y_test, test_predictions, label=\"TensorFlow\", c='r')\n",
    "ax1.scatter(y_test, sklearn_predictions, label=\"Sklearn\", c='b')\n",
    "plt.xlabel('True $S_{11}$')\n",
    "plt.ylabel('Predicted $S_{11}$')\n",
    "plt.axline((-30,-30), (10,10))\n",
    "plt.legend(loc='upper left')\n",
    "plt.show()"
   ]
  },
  {
   "cell_type": "code",
   "execution_count": 120,
   "metadata": {},
   "outputs": [
    {
     "data": {
      "text/plain": [
       "<matplotlib.legend.Legend at 0x7f9134449820>"
      ]
     },
     "execution_count": 120,
     "metadata": {},
     "output_type": "execute_result"
    },
    {
     "data": {
      "image/png": "[encoded data removed]",
      "text/plain": [
       "<Figure size 640x480 with 1 Axes>"
      ]
     },
     "metadata": {},
     "output_type": "display_data"
    }
   ],
   "source": [
    "fig = plt.figure()\n",
    "ax1 = fig.add_subplot(111)\n",
    "error_tensorflow = test_predictions.reshape(-1) - y_test\n",
    "error_sklearn = sklearn_predictions - y_test\n",
    "ax1.hist([error_tensorflow, error_sklearn], bins=20, color=['red', 'blue'], label=['TensorFlow', 'Sklearn'])\n",
    "plt.xlabel('Prediction Error')\n",
    "plt.ylabel('Count')\n",
    "plt.legend(loc='upper left')"
   ]
  },
  {
   "cell_type": "code",
   "execution_count": 121,
   "metadata": {},
   "outputs": [],
   "source": [
    "analysis_df = X_test.copy()\n",
    "analysis_df['dB(S(1,1)) []'] = y_test\n",
    "analysis_df['tensorflow predicted s11'] = test_predictions.reshape(-1)\n",
    "analysis_df['sklearn predicted s11'] = sklearn_predictions"
   ]
  },
  {
   "cell_type": "code",
   "execution_count": 122,
   "metadata": {},
   "outputs": [
    {
     "data": {
      "text/html": [
       "<div>\n",
       "<style scoped>\n",
       "    .dataframe tbody tr th:only-of-type {\n",
       "        vertical-align: middle;\n",
       "    }\n",
       "\n",
       "    .dataframe tbody tr th {\n",
       "        vertical-align: top;\n",
       "    }\n",
       "\n",
       "    .dataframe thead th {\n",
       "        text-align: right;\n",
       "    }\n",
       "</style>\n",
       "<table border=\"1\" class=\"dataframe\">\n",
       "  <thead>\n",
       "    <tr style=\"text-align: right;\">\n",
       "      <th></th>\n",
       "      <th>inset_dist [mm]</th>\n",
       "      <th>L [mm]</th>\n",
       "      <th>sub_thick [mm]</th>\n",
       "      <th>W [mm]</th>\n",
       "      <th>W0 [mm]</th>\n",
       "      <th>y0 [mm]</th>\n",
       "      <th>Freq [GHz]</th>\n",
       "      <th>dB(S(1,1)) []</th>\n",
       "      <th>tensorflow predicted s11</th>\n",
       "      <th>sklearn predicted s11</th>\n",
       "    </tr>\n",
       "  </thead>\n",
       "  <tbody>\n",
       "    <tr>\n",
       "      <th>10</th>\n",
       "      <td>0.6</td>\n",
       "      <td>11.5</td>\n",
       "      <td>2</td>\n",
       "      <td>14.0</td>\n",
       "      <td>2.5</td>\n",
       "      <td>3.0</td>\n",
       "      <td>4.80</td>\n",
       "      <td>-0.311658</td>\n",
       "      <td>-0.782709</td>\n",
       "      <td>-0.304369</td>\n",
       "    </tr>\n",
       "    <tr>\n",
       "      <th>11</th>\n",
       "      <td>0.6</td>\n",
       "      <td>11.5</td>\n",
       "      <td>2</td>\n",
       "      <td>14.0</td>\n",
       "      <td>2.5</td>\n",
       "      <td>3.0</td>\n",
       "      <td>4.88</td>\n",
       "      <td>-0.332031</td>\n",
       "      <td>-0.782709</td>\n",
       "      <td>-0.323273</td>\n",
       "    </tr>\n",
       "    <tr>\n",
       "      <th>13</th>\n",
       "      <td>0.6</td>\n",
       "      <td>11.5</td>\n",
       "      <td>2</td>\n",
       "      <td>14.0</td>\n",
       "      <td>2.5</td>\n",
       "      <td>3.0</td>\n",
       "      <td>5.04</td>\n",
       "      <td>-0.379882</td>\n",
       "      <td>-0.782709</td>\n",
       "      <td>-0.371489</td>\n",
       "    </tr>\n",
       "    <tr>\n",
       "      <th>19</th>\n",
       "      <td>0.6</td>\n",
       "      <td>11.5</td>\n",
       "      <td>2</td>\n",
       "      <td>14.0</td>\n",
       "      <td>2.5</td>\n",
       "      <td>3.0</td>\n",
       "      <td>5.52</td>\n",
       "      <td>-0.610435</td>\n",
       "      <td>-0.782709</td>\n",
       "      <td>-0.595522</td>\n",
       "    </tr>\n",
       "    <tr>\n",
       "      <th>21</th>\n",
       "      <td>0.6</td>\n",
       "      <td>11.5</td>\n",
       "      <td>2</td>\n",
       "      <td>14.0</td>\n",
       "      <td>2.5</td>\n",
       "      <td>3.0</td>\n",
       "      <td>5.68</td>\n",
       "      <td>-0.733284</td>\n",
       "      <td>-0.782709</td>\n",
       "      <td>-0.742587</td>\n",
       "    </tr>\n",
       "    <tr>\n",
       "      <th>...</th>\n",
       "      <td>...</td>\n",
       "      <td>...</td>\n",
       "      <td>...</td>\n",
       "      <td>...</td>\n",
       "      <td>...</td>\n",
       "      <td>...</td>\n",
       "      <td>...</td>\n",
       "      <td>...</td>\n",
       "      <td>...</td>\n",
       "      <td>...</td>\n",
       "    </tr>\n",
       "    <tr>\n",
       "      <th>40870</th>\n",
       "      <td>1.4</td>\n",
       "      <td>12.5</td>\n",
       "      <td>2</td>\n",
       "      <td>15.6</td>\n",
       "      <td>3.5</td>\n",
       "      <td>5.0</td>\n",
       "      <td>9.28</td>\n",
       "      <td>-2.461545</td>\n",
       "      <td>-2.360226</td>\n",
       "      <td>-2.272278</td>\n",
       "    </tr>\n",
       "    <tr>\n",
       "      <th>40877</th>\n",
       "      <td>1.4</td>\n",
       "      <td>12.5</td>\n",
       "      <td>2</td>\n",
       "      <td>15.6</td>\n",
       "      <td>3.5</td>\n",
       "      <td>5.0</td>\n",
       "      <td>9.84</td>\n",
       "      <td>-5.034983</td>\n",
       "      <td>-4.280643</td>\n",
       "      <td>-4.927533</td>\n",
       "    </tr>\n",
       "    <tr>\n",
       "      <th>40888</th>\n",
       "      <td>1.4</td>\n",
       "      <td>12.5</td>\n",
       "      <td>2</td>\n",
       "      <td>15.6</td>\n",
       "      <td>3.5</td>\n",
       "      <td>5.0</td>\n",
       "      <td>10.72</td>\n",
       "      <td>-10.958003</td>\n",
       "      <td>-10.422869</td>\n",
       "      <td>-12.069573</td>\n",
       "    </tr>\n",
       "    <tr>\n",
       "      <th>40891</th>\n",
       "      <td>1.4</td>\n",
       "      <td>12.5</td>\n",
       "      <td>2</td>\n",
       "      <td>15.6</td>\n",
       "      <td>3.5</td>\n",
       "      <td>5.0</td>\n",
       "      <td>10.96</td>\n",
       "      <td>-9.207747</td>\n",
       "      <td>-12.206689</td>\n",
       "      <td>-11.259356</td>\n",
       "    </tr>\n",
       "    <tr>\n",
       "      <th>40902</th>\n",
       "      <td>1.4</td>\n",
       "      <td>12.5</td>\n",
       "      <td>2</td>\n",
       "      <td>15.6</td>\n",
       "      <td>3.5</td>\n",
       "      <td>5.0</td>\n",
       "      <td>11.84</td>\n",
       "      <td>-25.518707</td>\n",
       "      <td>-18.850475</td>\n",
       "      <td>-20.333122</td>\n",
       "    </tr>\n",
       "  </tbody>\n",
       "</table>\n",
       "<p>8181 rows × 10 columns</p>\n",
       "</div>"
      ],
      "text/plain": [
       "       inset_dist [mm]  L [mm]  sub_thick [mm]  W [mm]  W0 [mm]  y0 [mm]  \\\n",
       "10                 0.6    11.5               2    14.0      2.5      3.0   \n",
       "11                 0.6    11.5               2    14.0      2.5      3.0   \n",
       "13                 0.6    11.5               2    14.0      2.5      3.0   \n",
       "19                 0.6    11.5               2    14.0      2.5      3.0   \n",
       "21                 0.6    11.5               2    14.0      2.5      3.0   \n",
       "...                ...     ...             ...     ...      ...      ...   \n",
       "40870              1.4    12.5               2    15.6      3.5      5.0   \n",
       "40877              1.4    12.5               2    15.6      3.5      5.0   \n",
       "40888              1.4    12.5               2    15.6      3.5      5.0   \n",
       "40891              1.4    12.5               2    15.6      3.5      5.0   \n",
       "40902              1.4    12.5               2    15.6      3.5      5.0   \n",
       "\n",
       "       Freq [GHz]  dB(S(1,1)) []  tensorflow predicted s11  \\\n",
       "10           4.80      -0.311658                 -0.782709   \n",
       "11           4.88      -0.332031                 -0.782709   \n",
       "13           5.04      -0.379882                 -0.782709   \n",
       "19           5.52      -0.610435                 -0.782709   \n",
       "21           5.68      -0.733284                 -0.782709   \n",
       "...           ...            ...                       ...   \n",
       "40870        9.28      -2.461545                 -2.360226   \n",
       "40877        9.84      -5.034983                 -4.280643   \n",
       "40888       10.72     -10.958003                -10.422869   \n",
       "40891       10.96      -9.207747                -12.206689   \n",
       "40902       11.84     -25.518707                -18.850475   \n",
       "\n",
       "       sklearn predicted s11  \n",
       "10                 -0.304369  \n",
       "11                 -0.323273  \n",
       "13                 -0.371489  \n",
       "19                 -0.595522  \n",
       "21                 -0.742587  \n",
       "...                      ...  \n",
       "40870              -2.272278  \n",
       "40877              -4.927533  \n",
       "40888             -12.069573  \n",
       "40891             -11.259356  \n",
       "40902             -20.333122  \n",
       "\n",
       "[8181 rows x 10 columns]"
      ]
     },
     "execution_count": 122,
     "metadata": {},
     "output_type": "execute_result"
    }
   ],
   "source": [
    "analysis_df"
   ]
  },
  {
   "cell_type": "code",
   "execution_count": null,
   "metadata": {},
   "outputs": [],
   "source": []
  }
 ],
 "metadata": {
  "kernelspec": {
   "display_name": "Python 3",
   "language": "python",
   "name": "python3"
  },
  "language_info": {
   "codemirror_mode": {
    "name": "ipython",
    "version": 3
   },
   "file_extension": ".py",
   "mimetype": "text/x-python",
   "name": "python",
   "nbconvert_exporter": "python",
   "pygments_lexer": "ipython3",
   "version": "3.9.18"
  }
 },
 "nbformat": 4,
 "nbformat_minor": 2
}
