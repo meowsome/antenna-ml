{
 "cells": [
  {
   "cell_type": "code",
   "execution_count": 1,
   "metadata": {},
   "outputs": [
    {
     "name": "stderr",
     "output_type": "stream",
     "text": [
      "/tmp/ipykernel_432087/3602695761.py:2: DeprecationWarning: \n",
      "Pyarrow will become a required dependency of pandas in the next major release of pandas (pandas 3.0),\n",
      "(to allow more performant data types, such as the Arrow string type, and better interoperability with other libraries)\n",
      "but was not found to be installed on your system.\n",
      "If this would cause problems for you,\n",
      "please provide us feedback at https://github.com/pandas-dev/pandas/issues/54466\n",
      "        \n",
      "  import pandas as pd\n",
      "2024-03-24 15:21:38.722675: I tensorflow/core/util/port.cc:113] oneDNN custom operations are on. You may see slightly different numerical results due to floating-point round-off errors from different computation orders. To turn them off, set the environment variable `TF_ENABLE_ONEDNN_OPTS=0`.\n",
      "2024-03-24 15:21:38.834950: E external/local_xla/xla/stream_executor/cuda/cuda_dnn.cc:9261] Unable to register cuDNN factory: Attempting to register factory for plugin cuDNN when one has already been registered\n",
      "2024-03-24 15:21:38.834993: E external/local_xla/xla/stream_executor/cuda/cuda_fft.cc:607] Unable to register cuFFT factory: Attempting to register factory for plugin cuFFT when one has already been registered\n",
      "2024-03-24 15:21:38.836381: E external/local_xla/xla/stream_executor/cuda/cuda_blas.cc:1515] Unable to register cuBLAS factory: Attempting to register factory for plugin cuBLAS when one has already been registered\n",
      "2024-03-24 15:21:38.880325: I tensorflow/core/platform/cpu_feature_guard.cc:182] This TensorFlow binary is optimized to use available CPU instructions in performance-critical operations.\n",
      "To enable the following instructions: AVX2 AVX512F AVX512_VNNI FMA, in other operations, rebuild TensorFlow with the appropriate compiler flags.\n",
      "2024-03-24 15:21:40.451030: W tensorflow/compiler/tf2tensorrt/utils/py_utils.cc:38] TF-TRT Warning: Could not find TensorRT\n"
     ]
    }
   ],
   "source": [
    "import numpy as np\n",
    "import pandas as pd\n",
    "import tensorflow as tf\n",
    "from tensorflow import keras\n",
    "from tensorflow.keras import layers\n",
    "import matplotlib.pyplot as plt\n",
    "from matplotlib import rc"
   ]
  },
  {
   "cell_type": "code",
   "execution_count": 2,
   "metadata": {},
   "outputs": [],
   "source": [
    "threshold = 1\n",
    "\n",
    "# Check if predicted value is threshold amount above or below actual value\n",
    "def is_in_threshold(actual, pred):\n",
    "    return pred <= actual + threshold and pred >= actual - threshold\n",
    "\n",
    "def create_tf_column(results):\n",
    "    return results.apply(lambda x: is_in_threshold(x['y_test'], x['predictions']), axis=1)\n",
    "\n",
    "def get_score(y_test, y_pred, **kwargs):\n",
    "    dataframe = pd.DataFrame(y_test, columns=['y_test'])\n",
    "    dataframe['predictions'] = y_pred\n",
    "    return create_tf_column(dataframe).value_counts().get(True) / dataframe.shape[0]"
   ]
  },
  {
   "cell_type": "code",
   "execution_count": 3,
   "metadata": {},
   "outputs": [],
   "source": [
    "random_state=20"
   ]
  },
  {
   "cell_type": "code",
   "execution_count": 4,
   "metadata": {},
   "outputs": [],
   "source": [
    "# Import data and preprocess\n",
    "df = pd.read_csv(\"../test_data/new leaky wave/S11_V1.csv\")\n",
    "# df = pd.read_csv(\"../test_data/Grounded CPW Leaky Wave antenna/S11 Data.csv\")\n",
    "df = df.drop(df[df['dB(S(1,1)) []'] > 0].index) # Remove all rows with positive s11\n",
    "\n",
    "# # Split into x and y\n",
    "# input_x = df.drop(columns=['dB(S(1,1)) []'], axis=1)\n",
    "# input_y = df[['dB(S(1,1)) []']]\n",
    "\n",
    "# Split data into training and testing\n",
    "train_df = df.sample(frac=0.8, random_state=0)\n",
    "test_df = df.drop(train_df.index)\n",
    "X_train = train_df.copy()\n",
    "X_test = test_df.copy()\n",
    "y_train = X_train.pop('dB(S(1,1)) []')\n",
    "y_test = X_test.pop('dB(S(1,1)) []')"
   ]
  },
  {
   "cell_type": "code",
   "execution_count": 5,
   "metadata": {},
   "outputs": [],
   "source": [
    "from sklearn.preprocessing import StandardScaler\n",
    "scaler = StandardScaler() # Initialize scaler\n",
    "X_train_scaled = scaler.fit_transform(X_train)\n",
    "X_test_scaled = scaler.transform(X_test)"
   ]
  },
  {
   "cell_type": "code",
   "execution_count": 6,
   "metadata": {},
   "outputs": [],
   "source": [
    "import keras_tuner\n",
    "class AntennaModel(keras_tuner.HyperModel):\n",
    "    def __init__(self, input_shape):\n",
    "        self.input_shape= input_shape\n",
    "        \n",
    "    def build(self, hp):\n",
    "        model= keras.Sequential()\n",
    "\n",
    "        for i in range(hp.Int('num_layers', 1, 4)):\n",
    "            model.add(keras.layers.Dense(units=hp.Int(f'units_{i}', min_value=32, max_value=512, step=32), activation='relu', input_shape=self.input_shape))\n",
    "        model.add(keras.layers.Dense(1)) # Output layer\n",
    "\n",
    "        # Tune the learning rate for the optimizer \n",
    "        hp_learning_rate=hp.Float('learning_rate', min_value=1e-4, max_value=0.1)\n",
    "\n",
    "        model.compile(loss='mse',\n",
    "                    optimizer= keras.optimizers.Adam(learning_rate=hp_learning_rate),\n",
    "                    metrics= ['mse']\n",
    "                     )\n",
    "\n",
    "        return model"
   ]
  },
  {
   "cell_type": "code",
   "execution_count": 7,
   "metadata": {},
   "outputs": [
    {
     "name": "stdout",
     "output_type": "stream",
     "text": [
      "Trial 3 Complete [00h 00m 24s]\n",
      "val_mse: 7.45758581161499\n",
      "\n",
      "Best val_mse So Far: 7.238716125488281\n",
      "Total elapsed time: 00h 00m 56s\n"
     ]
    }
   ],
   "source": [
    "import keras_tuner\n",
    "antenna_model = AntennaModel(input_shape=[len(X_train.keys())])\n",
    "tuner = keras_tuner.RandomSearch(\n",
    "    antenna_model,\n",
    "    objective='val_mse',\n",
    "    max_trials=3,\n",
    "    executions_per_trial=1)\n",
    "\n",
    "tuner.search_space_summary()\n",
    "stop_early = tf.keras.callbacks.EarlyStopping(monitor='val_loss', patience=5)\n",
    "tuner.search(X_train_scaled, y_train, epochs=100, validation_split=0.2, validation_data = (X_test_scaled, y_test), callbacks=[stop_early])"
   ]
  },
  {
   "cell_type": "code",
   "execution_count": 8,
   "metadata": {},
   "outputs": [],
   "source": [
    "history = tuner.oracle.get_best_trials(num_trials=1)[0]"
   ]
  },
  {
   "cell_type": "code",
   "execution_count": 9,
   "metadata": {},
   "outputs": [],
   "source": [
    "best_hps= tuner.get_best_hyperparameters(num_trials=1)[0]\n",
    "best_model = tuner.get_best_models(num_models=1)[0]"
   ]
  },
  {
   "cell_type": "code",
   "execution_count": 10,
   "metadata": {},
   "outputs": [
    {
     "data": {
      "text/plain": [
       "{'num_layers': 2,\n",
       " 'units_0': 448,\n",
       " 'learning_rate': 0.025673300488182137,\n",
       " 'units_1': 32}"
      ]
     },
     "execution_count": 10,
     "metadata": {},
     "output_type": "execute_result"
    }
   ],
   "source": [
    "best_hps.values"
   ]
  },
  {
   "cell_type": "code",
   "execution_count": 11,
   "metadata": {},
   "outputs": [
    {
     "name": "stdout",
     "output_type": "stream",
     "text": [
      "units_1: 32\n",
      "learning rate: 0.025673300488182137\n",
      "best model name: []\n",
      "57/57 [==============================] - 0s 2ms/step - loss: 7.2387 - mse: 7.2387\n",
      "mse: [7.238716125488281, 7.238716125488281]\n"
     ]
    }
   ],
   "source": [
    "print('units_1:', best_hps.get('units_1'))\n",
    "print('learning rate:', best_hps.get('learning_rate'))\n",
    "print('best model name:', best_model.metrics_names)\n",
    "print('mse:', best_model.evaluate(X_test_scaled, y_test))"
   ]
  },
  {
   "cell_type": "code",
   "execution_count": 12,
   "metadata": {},
   "outputs": [
    {
     "name": "stderr",
     "output_type": "stream",
     "text": [
      "/opt/miniconda3/envs/tylers_env_do_not_touch/lib/python3.9/site-packages/keras/src/engine/training.py:3103: UserWarning: You are saving your model as an HDF5 file via `model.save()`. This file format is considered legacy. We recommend using instead the native Keras format, e.g. `model.save('my_model.keras')`.\n",
      "  saving_api.save_model(\n"
     ]
    }
   ],
   "source": [
    "best_model.save(\"dnn_lwn.h5\")"
   ]
  },
  {
   "cell_type": "code",
   "execution_count": 13,
   "metadata": {},
   "outputs": [],
   "source": [
    "# best_model = tf.keras.models.load_model(\"dnn.h5\")"
   ]
  },
  {
   "cell_type": "code",
   "execution_count": 14,
   "metadata": {},
   "outputs": [
    {
     "name": "stdout",
     "output_type": "stream",
     "text": [
      "57/57 [==============================] - 0s 2ms/step\n",
      "CPU times: user 283 ms, sys: 9.1 ms, total: 292 ms\n",
      "Wall time: 396 ms\n"
     ]
    }
   ],
   "source": [
    "%%time\n",
    "test_predictions = best_model.predict(X_test_scaled)"
   ]
  },
  {
   "cell_type": "code",
   "execution_count": 15,
   "metadata": {},
   "outputs": [
    {
     "name": "stdout",
     "output_type": "stream",
     "text": [
      "Epoch 1/500\n",
      "228/228 [==============================] - 3s 5ms/step - loss: 12.8955 - mse: 12.8955 - val_loss: 10.6975 - val_mse: 10.6975\n",
      "Epoch 2/500\n",
      "228/228 [==============================] - 1s 4ms/step - loss: 9.3004 - mse: 9.3004 - val_loss: 8.1885 - val_mse: 8.1885\n",
      "Epoch 3/500\n",
      "228/228 [==============================] - 1s 3ms/step - loss: 8.6574 - mse: 8.6574 - val_loss: 7.9278 - val_mse: 7.9278\n",
      "Epoch 4/500\n",
      "228/228 [==============================] - 1s 3ms/step - loss: 8.6487 - mse: 8.6487 - val_loss: 8.5350 - val_mse: 8.5350\n",
      "Epoch 5/500\n",
      "228/228 [==============================] - 1s 3ms/step - loss: 8.2262 - mse: 8.2262 - val_loss: 8.2298 - val_mse: 8.2298\n",
      "Epoch 6/500\n",
      "228/228 [==============================] - 1s 2ms/step - loss: 8.1942 - mse: 8.1942 - val_loss: 7.7150 - val_mse: 7.7150\n",
      "Epoch 7/500\n",
      "228/228 [==============================] - 1s 2ms/step - loss: 8.2733 - mse: 8.2733 - val_loss: 8.0638 - val_mse: 8.0638\n",
      "Epoch 8/500\n",
      "228/228 [==============================] - 1s 3ms/step - loss: 8.0231 - mse: 8.0231 - val_loss: 7.5118 - val_mse: 7.5118\n",
      "Epoch 9/500\n",
      "228/228 [==============================] - 1s 3ms/step - loss: 7.9444 - mse: 7.9444 - val_loss: 7.3926 - val_mse: 7.3926\n",
      "Epoch 10/500\n",
      "228/228 [==============================] - 1s 2ms/step - loss: 8.1154 - mse: 8.1154 - val_loss: 7.8715 - val_mse: 7.8715\n",
      "Epoch 11/500\n",
      "228/228 [==============================] - 1s 3ms/step - loss: 7.9908 - mse: 7.9908 - val_loss: 7.3890 - val_mse: 7.3890\n",
      "Epoch 12/500\n",
      "228/228 [==============================] - 1s 3ms/step - loss: 7.7304 - mse: 7.7304 - val_loss: 7.6895 - val_mse: 7.6895\n",
      "Epoch 13/500\n",
      "228/228 [==============================] - 1s 2ms/step - loss: 7.7928 - mse: 7.7928 - val_loss: 7.3899 - val_mse: 7.3899\n",
      "Epoch 14/500\n",
      "228/228 [==============================] - 1s 2ms/step - loss: 7.6930 - mse: 7.6930 - val_loss: 7.2016 - val_mse: 7.2016\n",
      "Epoch 15/500\n",
      "228/228 [==============================] - 1s 3ms/step - loss: 7.5354 - mse: 7.5354 - val_loss: 7.7493 - val_mse: 7.7493\n",
      "Epoch 16/500\n",
      "228/228 [==============================] - 1s 3ms/step - loss: 7.4813 - mse: 7.4813 - val_loss: 7.3059 - val_mse: 7.3059\n",
      "Epoch 17/500\n",
      "228/228 [==============================] - 1s 2ms/step - loss: 7.4854 - mse: 7.4854 - val_loss: 9.0558 - val_mse: 9.0558\n",
      "Epoch 18/500\n",
      "228/228 [==============================] - 1s 2ms/step - loss: 7.7082 - mse: 7.7082 - val_loss: 7.1068 - val_mse: 7.1068\n",
      "Epoch 19/500\n",
      "228/228 [==============================] - 1s 2ms/step - loss: 7.4360 - mse: 7.4360 - val_loss: 8.3580 - val_mse: 8.3580\n",
      "Epoch 20/500\n",
      "228/228 [==============================] - 0s 2ms/step - loss: 7.2453 - mse: 7.2453 - val_loss: 7.4565 - val_mse: 7.4565\n",
      "Epoch 21/500\n",
      "228/228 [==============================] - 0s 2ms/step - loss: 7.4564 - mse: 7.4564 - val_loss: 7.1807 - val_mse: 7.1807\n",
      "Epoch 22/500\n",
      "228/228 [==============================] - 0s 2ms/step - loss: 7.2546 - mse: 7.2546 - val_loss: 8.0186 - val_mse: 8.0186\n",
      "Epoch 23/500\n",
      "228/228 [==============================] - 0s 2ms/step - loss: 7.1977 - mse: 7.1977 - val_loss: 7.0945 - val_mse: 7.0945\n",
      "Epoch 24/500\n",
      "228/228 [==============================] - 0s 2ms/step - loss: 7.0901 - mse: 7.0901 - val_loss: 7.3826 - val_mse: 7.3826\n",
      "Epoch 25/500\n",
      "228/228 [==============================] - 0s 2ms/step - loss: 7.1958 - mse: 7.1958 - val_loss: 6.9324 - val_mse: 6.9324\n",
      "Epoch 26/500\n",
      "228/228 [==============================] - 0s 2ms/step - loss: 7.1798 - mse: 7.1798 - val_loss: 7.8623 - val_mse: 7.8623\n",
      "Epoch 27/500\n",
      "228/228 [==============================] - 0s 2ms/step - loss: 7.1498 - mse: 7.1498 - val_loss: 7.2471 - val_mse: 7.2471\n",
      "Epoch 28/500\n",
      "228/228 [==============================] - 0s 2ms/step - loss: 7.1060 - mse: 7.1060 - val_loss: 7.5081 - val_mse: 7.5081\n",
      "Epoch 29/500\n",
      "228/228 [==============================] - 0s 2ms/step - loss: 7.2438 - mse: 7.2438 - val_loss: 7.5090 - val_mse: 7.5090\n",
      "Epoch 30/500\n",
      "228/228 [==============================] - 0s 2ms/step - loss: 7.1253 - mse: 7.1253 - val_loss: 6.9546 - val_mse: 6.9546\n",
      "Epoch 31/500\n",
      "228/228 [==============================] - 0s 2ms/step - loss: 7.0785 - mse: 7.0785 - val_loss: 7.1704 - val_mse: 7.1704\n",
      "Epoch 32/500\n",
      "228/228 [==============================] - 0s 2ms/step - loss: 6.9540 - mse: 6.9540 - val_loss: 6.5818 - val_mse: 6.5818\n",
      "Epoch 33/500\n",
      "228/228 [==============================] - 0s 2ms/step - loss: 6.6640 - mse: 6.6640 - val_loss: 6.7054 - val_mse: 6.7054\n",
      "Epoch 34/500\n",
      "228/228 [==============================] - 0s 2ms/step - loss: 6.6715 - mse: 6.6715 - val_loss: 8.2068 - val_mse: 8.2068\n",
      "Epoch 35/500\n",
      "228/228 [==============================] - 0s 2ms/step - loss: 7.0161 - mse: 7.0161 - val_loss: 6.8188 - val_mse: 6.8188\n",
      "Epoch 36/500\n",
      "228/228 [==============================] - 0s 2ms/step - loss: 6.7634 - mse: 6.7634 - val_loss: 7.1805 - val_mse: 7.1805\n",
      "Epoch 37/500\n",
      "228/228 [==============================] - 0s 2ms/step - loss: 6.9517 - mse: 6.9517 - val_loss: 6.9455 - val_mse: 6.9455\n",
      "Epoch 38/500\n",
      "228/228 [==============================] - 0s 2ms/step - loss: 6.8526 - mse: 6.8526 - val_loss: 6.6291 - val_mse: 6.6291\n",
      "Epoch 39/500\n",
      "228/228 [==============================] - 0s 2ms/step - loss: 6.6590 - mse: 6.6590 - val_loss: 6.5923 - val_mse: 6.5923\n",
      "Epoch 40/500\n",
      "228/228 [==============================] - 0s 2ms/step - loss: 6.6728 - mse: 6.6728 - val_loss: 6.8521 - val_mse: 6.8521\n",
      "Epoch 41/500\n",
      "228/228 [==============================] - 0s 2ms/step - loss: 6.8235 - mse: 6.8235 - val_loss: 6.5075 - val_mse: 6.5075\n",
      "Epoch 42/500\n",
      "228/228 [==============================] - 0s 2ms/step - loss: 6.7341 - mse: 6.7341 - val_loss: 6.7334 - val_mse: 6.7334\n",
      "Epoch 43/500\n",
      "228/228 [==============================] - 0s 2ms/step - loss: 6.6474 - mse: 6.6474 - val_loss: 6.6435 - val_mse: 6.6435\n",
      "Epoch 44/500\n",
      "228/228 [==============================] - 0s 2ms/step - loss: 6.7509 - mse: 6.7509 - val_loss: 6.8402 - val_mse: 6.8402\n",
      "Epoch 45/500\n",
      "228/228 [==============================] - 0s 2ms/step - loss: 6.6198 - mse: 6.6198 - val_loss: 6.6086 - val_mse: 6.6086\n",
      "Epoch 46/500\n",
      "228/228 [==============================] - 0s 2ms/step - loss: 6.6653 - mse: 6.6653 - val_loss: 6.5099 - val_mse: 6.5099\n",
      "Epoch 47/500\n",
      "228/228 [==============================] - 0s 2ms/step - loss: 6.5818 - mse: 6.5818 - val_loss: 6.5441 - val_mse: 6.5441\n",
      "Epoch 48/500\n",
      "228/228 [==============================] - 0s 2ms/step - loss: 6.7362 - mse: 6.7362 - val_loss: 6.3812 - val_mse: 6.3812\n",
      "Epoch 49/500\n",
      "228/228 [==============================] - 0s 2ms/step - loss: 6.7133 - mse: 6.7133 - val_loss: 6.9847 - val_mse: 6.9847\n",
      "Epoch 50/500\n",
      "228/228 [==============================] - 0s 2ms/step - loss: 6.5731 - mse: 6.5731 - val_loss: 6.6865 - val_mse: 6.6865\n",
      "Epoch 51/500\n",
      "228/228 [==============================] - 0s 2ms/step - loss: 6.6141 - mse: 6.6141 - val_loss: 6.6026 - val_mse: 6.6026\n",
      "Epoch 52/500\n",
      "228/228 [==============================] - 0s 2ms/step - loss: 6.6238 - mse: 6.6238 - val_loss: 6.4018 - val_mse: 6.4018\n",
      "Epoch 53/500\n",
      "228/228 [==============================] - 0s 2ms/step - loss: 6.5792 - mse: 6.5792 - val_loss: 6.4075 - val_mse: 6.4075\n",
      "Epoch 54/500\n",
      "228/228 [==============================] - 0s 2ms/step - loss: 6.6768 - mse: 6.6768 - val_loss: 6.7957 - val_mse: 6.7957\n",
      "Epoch 55/500\n",
      "228/228 [==============================] - 0s 2ms/step - loss: 6.5367 - mse: 6.5367 - val_loss: 6.5897 - val_mse: 6.5897\n",
      "Epoch 56/500\n",
      "228/228 [==============================] - 0s 2ms/step - loss: 6.4341 - mse: 6.4341 - val_loss: 6.3959 - val_mse: 6.3959\n",
      "Epoch 57/500\n",
      "228/228 [==============================] - 0s 2ms/step - loss: 6.3927 - mse: 6.3927 - val_loss: 6.8626 - val_mse: 6.8626\n",
      "Epoch 58/500\n",
      "228/228 [==============================] - 0s 2ms/step - loss: 6.6679 - mse: 6.6679 - val_loss: 6.1161 - val_mse: 6.1161\n",
      "Epoch 59/500\n",
      "228/228 [==============================] - 0s 2ms/step - loss: 6.4701 - mse: 6.4701 - val_loss: 7.0798 - val_mse: 7.0798\n",
      "Epoch 60/500\n",
      "228/228 [==============================] - 0s 2ms/step - loss: 6.5347 - mse: 6.5347 - val_loss: 6.4706 - val_mse: 6.4706\n",
      "Epoch 61/500\n",
      "228/228 [==============================] - 0s 2ms/step - loss: 6.6898 - mse: 6.6898 - val_loss: 6.1731 - val_mse: 6.1731\n",
      "Epoch 62/500\n",
      "228/228 [==============================] - 0s 2ms/step - loss: 6.3913 - mse: 6.3913 - val_loss: 6.4192 - val_mse: 6.4192\n",
      "Epoch 63/500\n",
      "228/228 [==============================] - 0s 2ms/step - loss: 6.3596 - mse: 6.3596 - val_loss: 6.6422 - val_mse: 6.6422\n",
      "Epoch 64/500\n",
      "228/228 [==============================] - 0s 2ms/step - loss: 6.5055 - mse: 6.5055 - val_loss: 6.1846 - val_mse: 6.1846\n",
      "Epoch 65/500\n",
      "228/228 [==============================] - 0s 2ms/step - loss: 6.3203 - mse: 6.3203 - val_loss: 6.1727 - val_mse: 6.1727\n",
      "Epoch 66/500\n",
      "228/228 [==============================] - 0s 2ms/step - loss: 6.4128 - mse: 6.4128 - val_loss: 6.8617 - val_mse: 6.8617\n",
      "Epoch 67/500\n",
      "228/228 [==============================] - 0s 2ms/step - loss: 6.5616 - mse: 6.5616 - val_loss: 6.4506 - val_mse: 6.4506\n",
      "Epoch 68/500\n",
      "228/228 [==============================] - 0s 2ms/step - loss: 6.3818 - mse: 6.3818 - val_loss: 6.3733 - val_mse: 6.3733\n",
      "Epoch 69/500\n",
      "228/228 [==============================] - 0s 2ms/step - loss: 6.2438 - mse: 6.2438 - val_loss: 6.3774 - val_mse: 6.3774\n",
      "Epoch 70/500\n",
      "228/228 [==============================] - 0s 2ms/step - loss: 6.2803 - mse: 6.2803 - val_loss: 6.3284 - val_mse: 6.3284\n",
      "Epoch 71/500\n",
      "228/228 [==============================] - 0s 2ms/step - loss: 6.5255 - mse: 6.5255 - val_loss: 6.9612 - val_mse: 6.9612\n",
      "Epoch 72/500\n",
      "228/228 [==============================] - 0s 2ms/step - loss: 6.3107 - mse: 6.3107 - val_loss: 6.1876 - val_mse: 6.1876\n",
      "Epoch 73/500\n",
      "228/228 [==============================] - 0s 2ms/step - loss: 6.2615 - mse: 6.2615 - val_loss: 5.9920 - val_mse: 5.9920\n",
      "Epoch 74/500\n",
      "228/228 [==============================] - 0s 2ms/step - loss: 6.2337 - mse: 6.2337 - val_loss: 6.1615 - val_mse: 6.1615\n",
      "Epoch 75/500\n",
      "228/228 [==============================] - 0s 2ms/step - loss: 6.2475 - mse: 6.2475 - val_loss: 6.0159 - val_mse: 6.0159\n",
      "Epoch 76/500\n",
      "228/228 [==============================] - 0s 2ms/step - loss: 6.2055 - mse: 6.2055 - val_loss: 6.3112 - val_mse: 6.3112\n",
      "Epoch 77/500\n",
      "228/228 [==============================] - 0s 2ms/step - loss: 6.2054 - mse: 6.2054 - val_loss: 6.3544 - val_mse: 6.3544\n",
      "Epoch 78/500\n",
      "228/228 [==============================] - 0s 2ms/step - loss: 6.3724 - mse: 6.3724 - val_loss: 6.1417 - val_mse: 6.1417\n",
      "Epoch 79/500\n",
      "228/228 [==============================] - 0s 2ms/step - loss: 6.3153 - mse: 6.3153 - val_loss: 7.0988 - val_mse: 7.0988\n",
      "Epoch 80/500\n",
      "228/228 [==============================] - 0s 2ms/step - loss: 6.2127 - mse: 6.2127 - val_loss: 6.0442 - val_mse: 6.0442\n",
      "Epoch 81/500\n",
      "228/228 [==============================] - 0s 2ms/step - loss: 6.2102 - mse: 6.2102 - val_loss: 6.1098 - val_mse: 6.1098\n",
      "Epoch 82/500\n",
      "228/228 [==============================] - 0s 2ms/step - loss: 6.0400 - mse: 6.0400 - val_loss: 6.3234 - val_mse: 6.3234\n",
      "Epoch 83/500\n",
      "228/228 [==============================] - 0s 2ms/step - loss: 6.1232 - mse: 6.1232 - val_loss: 6.1996 - val_mse: 6.1996\n",
      "Epoch 84/500\n",
      "228/228 [==============================] - 0s 2ms/step - loss: 6.1425 - mse: 6.1425 - val_loss: 6.1854 - val_mse: 6.1854\n",
      "Epoch 85/500\n",
      "228/228 [==============================] - 0s 2ms/step - loss: 5.9957 - mse: 5.9957 - val_loss: 6.3078 - val_mse: 6.3078\n",
      "Epoch 86/500\n",
      "228/228 [==============================] - 0s 2ms/step - loss: 6.4004 - mse: 6.4004 - val_loss: 6.1297 - val_mse: 6.1297\n",
      "Epoch 87/500\n",
      "228/228 [==============================] - 0s 2ms/step - loss: 6.3071 - mse: 6.3071 - val_loss: 6.2865 - val_mse: 6.2865\n",
      "Epoch 88/500\n",
      "228/228 [==============================] - 0s 2ms/step - loss: 5.9947 - mse: 5.9947 - val_loss: 6.4291 - val_mse: 6.4291\n",
      "Epoch 89/500\n",
      "228/228 [==============================] - 0s 2ms/step - loss: 6.1643 - mse: 6.1643 - val_loss: 6.1257 - val_mse: 6.1257\n",
      "Epoch 90/500\n",
      "228/228 [==============================] - 0s 2ms/step - loss: 6.2661 - mse: 6.2661 - val_loss: 6.6521 - val_mse: 6.6521\n",
      "Epoch 91/500\n",
      "228/228 [==============================] - 0s 2ms/step - loss: 6.0540 - mse: 6.0540 - val_loss: 6.0485 - val_mse: 6.0485\n",
      "Epoch 92/500\n",
      "228/228 [==============================] - 0s 2ms/step - loss: 6.0158 - mse: 6.0158 - val_loss: 6.1435 - val_mse: 6.1435\n",
      "Epoch 93/500\n",
      "228/228 [==============================] - 0s 2ms/step - loss: 6.2563 - mse: 6.2563 - val_loss: 6.9020 - val_mse: 6.9020\n",
      "Epoch 93: early stopping\n",
      "CPU times: user 57.5 s, sys: 3.18 s, total: 1min\n",
      "Wall time: 42.4 s\n"
     ]
    }
   ],
   "source": [
    "%%time\n",
    "early_stopping_cb = keras.callbacks.EarlyStopping(monitor='val_loss', patience=20, verbose=1, mode='min', restore_best_weights=False)\n",
    "dnn_model = tuner.hypermodel.build(best_hps)\n",
    "history_tuned= dnn_model.fit(X_train_scaled, y_train, \n",
    "          epochs = 500, \n",
    "          validation_data = (X_test_scaled, y_test),\n",
    "          verbose=1,\n",
    "          callbacks= early_stopping_cb)"
   ]
  },
  {
   "cell_type": "code",
   "execution_count": 16,
   "metadata": {},
   "outputs": [],
   "source": [
    "import pickle\n",
    "with open(\"dnn_lwn.pkl\", \"wb\") as file:\n",
    "    pickle.dump(history_tuned, file)\n",
    "\n",
    "# with open(\"dnn.pkl\", \"rb\") as file:\n",
    "#     history_tuned = pickle.load(file)"
   ]
  },
  {
   "cell_type": "code",
   "execution_count": 17,
   "metadata": {},
   "outputs": [
    {
     "data": {
      "image/png": "[encoded data removed]",
      "text/plain": [
       "<Figure size 640x480 with 1 Axes>"
      ]
     },
     "metadata": {},
     "output_type": "display_data"
    }
   ],
   "source": [
    "# Make the font the same as latex \n",
    "rc('font', **{'family': 'serif', 'serif': ['Computer Modern']})\n",
    "rc('text', usetex=True)\n",
    "\n",
    "plt.plot(history_tuned.history['loss'])\n",
    "plt.plot(history_tuned.history['val_loss'])\n",
    "plt.ylabel('Loss')\n",
    "plt.xlabel('Epoch')\n",
    "plt.legend(['Train', 'Test'], loc='upper left')\n",
    "plt.show()"
   ]
  },
  {
   "cell_type": "code",
   "execution_count": 18,
   "metadata": {},
   "outputs": [
    {
     "data": {
      "text/plain": [
       "[7.238716125488281, 7.238716125488281]"
      ]
     },
     "execution_count": 18,
     "metadata": {},
     "output_type": "execute_result"
    }
   ],
   "source": [
    "best_model.evaluate(X_test_scaled, y_test, verbose=0)"
   ]
  },
  {
   "cell_type": "code",
   "execution_count": 19,
   "metadata": {},
   "outputs": [],
   "source": [
    "from sklearn.model_selection import train_test_split\n",
    "from sklearn.pipeline import Pipeline\n",
    "from sklearn.ensemble import RandomForestRegressor\n",
    "from sklearn.preprocessing import StandardScaler\n",
    "\n",
    "model = RandomForestRegressor(max_depth=85, min_samples_leaf=1, min_samples_split=2, n_estimators=1000, random_state=random_state) # Initialize model\n",
    "scaler = StandardScaler() # Initialize scaler\n",
    "pipeline = Pipeline(steps=[('normalize', scaler), ('model', model)]) # Create pipeline with scaler and model\n"
   ]
  },
  {
   "cell_type": "code",
   "execution_count": 20,
   "metadata": {},
   "outputs": [
    {
     "name": "stdout",
     "output_type": "stream",
     "text": [
      "CPU times: user 7.09 s, sys: 107 ms, total: 7.19 s\n",
      "Wall time: 7.19 s\n"
     ]
    }
   ],
   "source": [
    "%%time\n",
    "pipeline_fit = pipeline.fit(X_train, y_train)"
   ]
  },
  {
   "cell_type": "code",
   "execution_count": 21,
   "metadata": {},
   "outputs": [
    {
     "name": "stdout",
     "output_type": "stream",
     "text": [
      "CPU times: user 316 ms, sys: 0 ns, total: 316 ms\n",
      "Wall time: 315 ms\n"
     ]
    }
   ],
   "source": [
    "%%time\n",
    "sklearn_predictions = pipeline_fit.predict(X_test)"
   ]
  },
  {
   "cell_type": "code",
   "execution_count": 22,
   "metadata": {},
   "outputs": [
    {
     "data": {
      "text/plain": [
       "1.6308346302435275"
      ]
     },
     "execution_count": 22,
     "metadata": {},
     "output_type": "execute_result"
    }
   ],
   "source": [
    "from sklearn.metrics import mean_squared_error\n",
    "\n",
    "mean_squared_error(y_test.values.ravel(), sklearn_predictions, squared=False)"
   ]
  },
  {
   "cell_type": "code",
   "execution_count": 23,
   "metadata": {},
   "outputs": [
    {
     "name": "stdout",
     "output_type": "stream",
     "text": [
      "tensorflow score: 0.4207920792079208\n",
      "sklearn score: 0.7293729372937293\n"
     ]
    }
   ],
   "source": [
    "print(f\"tensorflow score: {get_score(y_test.values.ravel(), test_predictions)}\")\n",
    "print(f\"sklearn score: {get_score(y_test.values.ravel(), sklearn_predictions)}\")"
   ]
  },
  {
   "cell_type": "code",
   "execution_count": 24,
   "metadata": {},
   "outputs": [],
   "source": [
    "scatter_plot_df = pd.DataFrame({\n",
    "    's11_true': y_test.values.tolist() * 2,\n",
    "    's11_prediction': np.concatenate((sklearn_predictions,test_predictions.reshape(-1))),\n",
    "    's11_source': (['Sklearn'] * len(y_test.values.tolist())) + (['TensorFlow'] * len(y_test.values.tolist())),\n",
    "    's11_color': (['red'] * len(y_test.values.tolist())) + (['blue'] * len(y_test.values.tolist()))\n",
    "})"
   ]
  },
  {
   "cell_type": "code",
   "execution_count": 25,
   "metadata": {},
   "outputs": [
    {
     "data": {
      "image/png": "[encoded data removed]",
      "text/plain": [
       "<Figure size 640x480 with 1 Axes>"
      ]
     },
     "metadata": {},
     "output_type": "display_data"
    }
   ],
   "source": [
    "fig = plt.figure()\n",
    "ax1 = fig.add_subplot(111)\n",
    "ax1.scatter(y_test, test_predictions, label=\"TensorFlow\", c='r')\n",
    "ax1.scatter(y_test, sklearn_predictions, label=\"Sklearn\", c='b')\n",
    "plt.xlabel('True $S_{11}$')\n",
    "plt.ylabel('Predicted $S_{11}$')\n",
    "plt.axline((-30,-30), (10,10))\n",
    "plt.legend(loc='upper left')\n",
    "plt.show()"
   ]
  },
  {
   "cell_type": "code",
   "execution_count": 26,
   "metadata": {},
   "outputs": [
    {
     "data": {
      "text/plain": [
       "<matplotlib.legend.Legend at 0x7fe9dc64df70>"
      ]
     },
     "execution_count": 26,
     "metadata": {},
     "output_type": "execute_result"
    },
    {
     "data": {
      "image/png": "[encoded data removed]",
      "text/plain": [
       "<Figure size 640x480 with 1 Axes>"
      ]
     },
     "metadata": {},
     "output_type": "display_data"
    }
   ],
   "source": [
    "fig = plt.figure()\n",
    "ax1 = fig.add_subplot(111)\n",
    "error_tensorflow = test_predictions.reshape(-1) - y_test\n",
    "error_sklearn = sklearn_predictions - y_test\n",
    "ax1.hist([error_tensorflow, error_sklearn], bins=20, color=['red', 'blue'], label=['TensorFlow', 'Sklearn'])\n",
    "plt.xlabel('Prediction Error')\n",
    "plt.ylabel('Count')\n",
    "plt.legend(loc='upper left')"
   ]
  },
  {
   "cell_type": "code",
   "execution_count": 27,
   "metadata": {},
   "outputs": [],
   "source": [
    "analysis_df = X_test.copy()\n",
    "analysis_df['dB(S(1,1)) []'] = y_test\n",
    "analysis_df['tensorflow predicted s11'] = test_predictions.reshape(-1)\n",
    "analysis_df['sklearn predicted s11'] = sklearn_predictions"
   ]
  },
  {
   "cell_type": "code",
   "execution_count": 28,
   "metadata": {},
   "outputs": [
    {
     "data": {
      "text/html": [
       "<div>\n",
       "<style scoped>\n",
       "    .dataframe tbody tr th:only-of-type {\n",
       "        vertical-align: middle;\n",
       "    }\n",
       "\n",
       "    .dataframe tbody tr th {\n",
       "        vertical-align: top;\n",
       "    }\n",
       "\n",
       "    .dataframe thead th {\n",
       "        text-align: right;\n",
       "    }\n",
       "</style>\n",
       "<table border=\"1\" class=\"dataframe\">\n",
       "  <thead>\n",
       "    <tr style=\"text-align: right;\">\n",
       "      <th></th>\n",
       "      <th>cpw_in [mm]</th>\n",
       "      <th>feed_l [mm]</th>\n",
       "      <th>ground_w [mm]</th>\n",
       "      <th>patch_ground_w [mm]</th>\n",
       "      <th>patch_l [mm]</th>\n",
       "      <th>Freq [GHz]</th>\n",
       "      <th>dB(S(1,1)) []</th>\n",
       "      <th>tensorflow predicted s11</th>\n",
       "      <th>sklearn predicted s11</th>\n",
       "    </tr>\n",
       "  </thead>\n",
       "  <tbody>\n",
       "    <tr>\n",
       "      <th>0</th>\n",
       "      <td>1.5</td>\n",
       "      <td>3.0</td>\n",
       "      <td>0.75</td>\n",
       "      <td>0.8</td>\n",
       "      <td>3.0</td>\n",
       "      <td>11.00</td>\n",
       "      <td>-1.054485</td>\n",
       "      <td>-2.322962</td>\n",
       "      <td>-1.108046</td>\n",
       "    </tr>\n",
       "    <tr>\n",
       "      <th>19</th>\n",
       "      <td>1.5</td>\n",
       "      <td>3.0</td>\n",
       "      <td>0.75</td>\n",
       "      <td>0.8</td>\n",
       "      <td>3.0</td>\n",
       "      <td>12.71</td>\n",
       "      <td>-5.117220</td>\n",
       "      <td>-5.259717</td>\n",
       "      <td>-5.351372</td>\n",
       "    </tr>\n",
       "    <tr>\n",
       "      <th>21</th>\n",
       "      <td>1.5</td>\n",
       "      <td>3.0</td>\n",
       "      <td>0.75</td>\n",
       "      <td>0.8</td>\n",
       "      <td>3.0</td>\n",
       "      <td>12.89</td>\n",
       "      <td>-5.847691</td>\n",
       "      <td>-6.153818</td>\n",
       "      <td>-7.314291</td>\n",
       "    </tr>\n",
       "    <tr>\n",
       "      <th>24</th>\n",
       "      <td>1.5</td>\n",
       "      <td>3.0</td>\n",
       "      <td>0.75</td>\n",
       "      <td>0.8</td>\n",
       "      <td>3.0</td>\n",
       "      <td>13.16</td>\n",
       "      <td>-9.464389</td>\n",
       "      <td>-6.427981</td>\n",
       "      <td>-7.235370</td>\n",
       "    </tr>\n",
       "    <tr>\n",
       "      <th>25</th>\n",
       "      <td>1.5</td>\n",
       "      <td>3.0</td>\n",
       "      <td>0.75</td>\n",
       "      <td>0.8</td>\n",
       "      <td>3.0</td>\n",
       "      <td>13.25</td>\n",
       "      <td>-7.263716</td>\n",
       "      <td>-6.486532</td>\n",
       "      <td>-6.260708</td>\n",
       "    </tr>\n",
       "    <tr>\n",
       "      <th>...</th>\n",
       "      <td>...</td>\n",
       "      <td>...</td>\n",
       "      <td>...</td>\n",
       "      <td>...</td>\n",
       "      <td>...</td>\n",
       "      <td>...</td>\n",
       "      <td>...</td>\n",
       "      <td>...</td>\n",
       "      <td>...</td>\n",
       "    </tr>\n",
       "    <tr>\n",
       "      <th>9063</th>\n",
       "      <td>2.5</td>\n",
       "      <td>3.0</td>\n",
       "      <td>1.25</td>\n",
       "      <td>1.2</td>\n",
       "      <td>4.0</td>\n",
       "      <td>17.66</td>\n",
       "      <td>-1.572713</td>\n",
       "      <td>-4.061556</td>\n",
       "      <td>-2.665163</td>\n",
       "    </tr>\n",
       "    <tr>\n",
       "      <th>9065</th>\n",
       "      <td>2.5</td>\n",
       "      <td>3.0</td>\n",
       "      <td>1.25</td>\n",
       "      <td>1.2</td>\n",
       "      <td>4.0</td>\n",
       "      <td>17.84</td>\n",
       "      <td>-1.314267</td>\n",
       "      <td>-3.763882</td>\n",
       "      <td>-1.902400</td>\n",
       "    </tr>\n",
       "    <tr>\n",
       "      <th>9075</th>\n",
       "      <td>2.5</td>\n",
       "      <td>3.0</td>\n",
       "      <td>1.25</td>\n",
       "      <td>1.2</td>\n",
       "      <td>4.0</td>\n",
       "      <td>18.74</td>\n",
       "      <td>-1.205531</td>\n",
       "      <td>-2.322962</td>\n",
       "      <td>-2.126182</td>\n",
       "    </tr>\n",
       "    <tr>\n",
       "      <th>9086</th>\n",
       "      <td>2.5</td>\n",
       "      <td>3.0</td>\n",
       "      <td>1.25</td>\n",
       "      <td>1.2</td>\n",
       "      <td>4.0</td>\n",
       "      <td>19.73</td>\n",
       "      <td>-1.885453</td>\n",
       "      <td>-2.322962</td>\n",
       "      <td>-1.787369</td>\n",
       "    </tr>\n",
       "    <tr>\n",
       "      <th>9087</th>\n",
       "      <td>2.5</td>\n",
       "      <td>3.0</td>\n",
       "      <td>1.25</td>\n",
       "      <td>1.2</td>\n",
       "      <td>4.0</td>\n",
       "      <td>19.82</td>\n",
       "      <td>-3.995892</td>\n",
       "      <td>-2.322962</td>\n",
       "      <td>-2.527948</td>\n",
       "    </tr>\n",
       "  </tbody>\n",
       "</table>\n",
       "<p>1818 rows × 9 columns</p>\n",
       "</div>"
      ],
      "text/plain": [
       "      cpw_in [mm]  feed_l [mm]  ground_w [mm]  patch_ground_w [mm]  \\\n",
       "0             1.5          3.0           0.75                  0.8   \n",
       "19            1.5          3.0           0.75                  0.8   \n",
       "21            1.5          3.0           0.75                  0.8   \n",
       "24            1.5          3.0           0.75                  0.8   \n",
       "25            1.5          3.0           0.75                  0.8   \n",
       "...           ...          ...            ...                  ...   \n",
       "9063          2.5          3.0           1.25                  1.2   \n",
       "9065          2.5          3.0           1.25                  1.2   \n",
       "9075          2.5          3.0           1.25                  1.2   \n",
       "9086          2.5          3.0           1.25                  1.2   \n",
       "9087          2.5          3.0           1.25                  1.2   \n",
       "\n",
       "      patch_l [mm]  Freq [GHz]  dB(S(1,1)) []  tensorflow predicted s11  \\\n",
       "0              3.0       11.00      -1.054485                 -2.322962   \n",
       "19             3.0       12.71      -5.117220                 -5.259717   \n",
       "21             3.0       12.89      -5.847691                 -6.153818   \n",
       "24             3.0       13.16      -9.464389                 -6.427981   \n",
       "25             3.0       13.25      -7.263716                 -6.486532   \n",
       "...            ...         ...            ...                       ...   \n",
       "9063           4.0       17.66      -1.572713                 -4.061556   \n",
       "9065           4.0       17.84      -1.314267                 -3.763882   \n",
       "9075           4.0       18.74      -1.205531                 -2.322962   \n",
       "9086           4.0       19.73      -1.885453                 -2.322962   \n",
       "9087           4.0       19.82      -3.995892                 -2.322962   \n",
       "\n",
       "      sklearn predicted s11  \n",
       "0                 -1.108046  \n",
       "19                -5.351372  \n",
       "21                -7.314291  \n",
       "24                -7.235370  \n",
       "25                -6.260708  \n",
       "...                     ...  \n",
       "9063              -2.665163  \n",
       "9065              -1.902400  \n",
       "9075              -2.126182  \n",
       "9086              -1.787369  \n",
       "9087              -2.527948  \n",
       "\n",
       "[1818 rows x 9 columns]"
      ]
     },
     "execution_count": 28,
     "metadata": {},
     "output_type": "execute_result"
    }
   ],
   "source": [
    "analysis_df"
   ]
  },
  {
   "cell_type": "code",
   "execution_count": null,
   "metadata": {},
   "outputs": [],
   "source": []
  }
 ],
 "metadata": {
  "kernelspec": {
   "display_name": "Python 3",
   "language": "python",
   "name": "python3"
  },
  "language_info": {
   "codemirror_mode": {
    "name": "ipython",
    "version": 3
   },
   "file_extension": ".py",
   "mimetype": "text/x-python",
   "name": "python",
   "nbconvert_exporter": "python",
   "pygments_lexer": "ipython3",
   "version": "3.9.18"
  }
 },
 "nbformat": 4,
 "nbformat_minor": 2
}
