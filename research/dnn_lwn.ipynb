{
 "cells": [
  {
   "cell_type": "code",
   "execution_count": 38,
   "metadata": {},
   "outputs": [],
   "source": [
    "import numpy as np\n",
    "import pandas as pd\n",
    "import tensorflow as tf\n",
    "from tensorflow import keras\n",
    "from tensorflow.keras import layers\n",
    "import matplotlib.pyplot as plt\n",
    "from matplotlib import rc"
   ]
  },
  {
   "cell_type": "code",
   "execution_count": 39,
   "metadata": {},
   "outputs": [],
   "source": [
    "threshold = 1\n",
    "\n",
    "# Check if predicted value is threshold amount above or below actual value\n",
    "def is_in_threshold(actual, pred):\n",
    "    return pred <= actual + threshold and pred >= actual - threshold\n",
    "\n",
    "def create_tf_column(results):\n",
    "    return results.apply(lambda x: is_in_threshold(x['y_test'], x['predictions']), axis=1)\n",
    "\n",
    "def get_score(y_test, y_pred, **kwargs):\n",
    "    dataframe = pd.DataFrame(y_test, columns=['y_test'])\n",
    "    dataframe['predictions'] = y_pred\n",
    "    return create_tf_column(dataframe).value_counts().get(True) / dataframe.shape[0]"
   ]
  },
  {
   "cell_type": "code",
   "execution_count": 40,
   "metadata": {},
   "outputs": [],
   "source": [
    "random_state=20"
   ]
  },
  {
   "cell_type": "code",
   "execution_count": 41,
   "metadata": {},
   "outputs": [],
   "source": [
    "# Import data and preprocess\n",
    "df = pd.read_csv(\"../test_data/new leaky wave/S11_Data_combined.csv\")\n",
    "# df = pd.read_csv(\"../test_data/Grounded CPW Leaky Wave antenna/S11 Data.csv\")\n",
    "df = df.drop(df[df['dB(S(1,1)) []'] > 0].index) # Remove all rows with positive s11\n",
    "\n",
    "# # Split into x and y\n",
    "# input_x = df.drop(columns=['dB(S(1,1)) []'], axis=1)\n",
    "# input_y = df[['dB(S(1,1)) []']]\n",
    "\n",
    "# Split data into training and testing\n",
    "train_df = df.sample(frac=0.8, random_state=0)\n",
    "test_df = df.drop(train_df.index)\n",
    "X_train = train_df.copy()\n",
    "X_test = test_df.copy()\n",
    "y_train = X_train.pop('dB(S(1,1)) []')\n",
    "y_test = X_test.pop('dB(S(1,1)) []')"
   ]
  },
  {
   "cell_type": "code",
   "execution_count": 42,
   "metadata": {},
   "outputs": [],
   "source": [
    "from sklearn.preprocessing import StandardScaler\n",
    "scaler = StandardScaler() # Initialize scaler\n",
    "X_train_scaled = scaler.fit_transform(X_train)\n",
    "X_test_scaled = scaler.transform(X_test)"
   ]
  },
  {
   "cell_type": "code",
   "execution_count": 43,
   "metadata": {},
   "outputs": [],
   "source": [
    "import keras_tuner\n",
    "class AntennaModel(keras_tuner.HyperModel):\n",
    "    def __init__(self, input_shape):\n",
    "        self.input_shape= input_shape\n",
    "        \n",
    "    def build(self, hp):\n",
    "        model= keras.Sequential()\n",
    "\n",
    "        for i in range(hp.Int('num_layers', 1, 4)):\n",
    "            model.add(keras.layers.Dense(units=hp.Int(f'units_{i}', min_value=32, max_value=512, step=32), activation='relu', input_shape=self.input_shape))\n",
    "        model.add(keras.layers.Dense(1)) # Output layer\n",
    "\n",
    "        # Tune the learning rate for the optimizer \n",
    "        hp_learning_rate=hp.Float('learning_rate', min_value=1e-4, max_value=0.1)\n",
    "\n",
    "        model.compile(loss='mse',\n",
    "                    optimizer= keras.optimizers.Adam(learning_rate=hp_learning_rate),\n",
    "                    metrics= ['mse']\n",
    "                     )\n",
    "\n",
    "        return model"
   ]
  },
  {
   "cell_type": "code",
   "execution_count": 44,
   "metadata": {},
   "outputs": [
    {
     "name": "stdout",
     "output_type": "stream",
     "text": [
      "Trial 3 Complete [00h 00m 31s]\n",
      "val_mse: 10.991816520690918\n",
      "\n",
      "Best val_mse So Far: 10.991816520690918\n",
      "Total elapsed time: 00h 01m 54s\n"
     ]
    }
   ],
   "source": [
    "import keras_tuner\n",
    "antenna_model = AntennaModel(input_shape=[len(X_train.keys())])\n",
    "tuner = keras_tuner.RandomSearch(\n",
    "    antenna_model,\n",
    "    objective='val_mse',\n",
    "    max_trials=3,\n",
    "    executions_per_trial=1)\n",
    "\n",
    "tuner.search_space_summary()\n",
    "stop_early = tf.keras.callbacks.EarlyStopping(monitor='val_loss', patience=5)\n",
    "tuner.search(X_train_scaled, y_train, epochs=100, validation_split=0.2, validation_data = (X_test_scaled, y_test), callbacks=[stop_early])"
   ]
  },
  {
   "cell_type": "code",
   "execution_count": 45,
   "metadata": {},
   "outputs": [],
   "source": [
    "history = tuner.oracle.get_best_trials(num_trials=1)[0]"
   ]
  },
  {
   "cell_type": "code",
   "execution_count": 46,
   "metadata": {},
   "outputs": [],
   "source": [
    "best_hps= tuner.get_best_hyperparameters(num_trials=1)[0]\n",
    "best_model = tuner.get_best_models(num_models=1)[0]"
   ]
  },
  {
   "cell_type": "code",
   "execution_count": 47,
   "metadata": {},
   "outputs": [
    {
     "data": {
      "text/plain": [
       "{'num_layers': 2,\n",
       " 'units_0': 96,\n",
       " 'learning_rate': 0.06314851574005205,\n",
       " 'units_1': 480,\n",
       " 'units_2': 448,\n",
       " 'units_3': 448}"
      ]
     },
     "execution_count": 47,
     "metadata": {},
     "output_type": "execute_result"
    }
   ],
   "source": [
    "best_hps.values"
   ]
  },
  {
   "cell_type": "code",
   "execution_count": 48,
   "metadata": {},
   "outputs": [
    {
     "name": "stdout",
     "output_type": "stream",
     "text": [
      "units_1: 480\n",
      "learning rate: 0.06314851574005205\n",
      "best model name: []\n",
      "167/167 [==============================] - 0s 895us/step - loss: 10.9918 - mse: 10.9918\n",
      "mse: [10.991816520690918, 10.991816520690918]\n"
     ]
    }
   ],
   "source": [
    "print('units_1:', best_hps.get('units_1'))\n",
    "print('learning rate:', best_hps.get('learning_rate'))\n",
    "print('best model name:', best_model.metrics_names)\n",
    "print('mse:', best_model.evaluate(X_test_scaled, y_test))"
   ]
  },
  {
   "cell_type": "code",
   "execution_count": 49,
   "metadata": {},
   "outputs": [
    {
     "name": "stderr",
     "output_type": "stream",
     "text": [
      "/opt/miniconda3/envs/tylers_env_do_not_touch/lib/python3.9/site-packages/keras/src/engine/training.py:3103: UserWarning: You are saving your model as an HDF5 file via `model.save()`. This file format is considered legacy. We recommend using instead the native Keras format, e.g. `model.save('my_model.keras')`.\n",
      "  saving_api.save_model(\n"
     ]
    }
   ],
   "source": [
    "best_model.save(\"dnn_lwn.h5\")"
   ]
  },
  {
   "cell_type": "code",
   "execution_count": 50,
   "metadata": {},
   "outputs": [],
   "source": [
    "# best_model = tf.keras.models.load_model(\"dnn.h5\")"
   ]
  },
  {
   "cell_type": "code",
   "execution_count": 51,
   "metadata": {},
   "outputs": [
    {
     "name": "stdout",
     "output_type": "stream",
     "text": [
      "167/167 [==============================] - 0s 665us/step\n",
      "CPU times: user 274 ms, sys: 9.56 ms, total: 284 ms\n",
      "Wall time: 228 ms\n"
     ]
    }
   ],
   "source": [
    "%%time\n",
    "test_predictions = best_model.predict(X_test_scaled)"
   ]
  },
  {
   "cell_type": "code",
   "execution_count": 52,
   "metadata": {},
   "outputs": [
    {
     "name": "stdout",
     "output_type": "stream",
     "text": [
      "Epoch 1/500\n",
      "667/667 [==============================] - 2s 2ms/step - loss: 23.4760 - mse: 23.4760 - val_loss: 14.5056 - val_mse: 14.5056\n",
      "Epoch 2/500\n",
      "667/667 [==============================] - 2s 3ms/step - loss: 15.6389 - mse: 15.6389 - val_loss: 13.7559 - val_mse: 13.7559\n",
      "Epoch 3/500\n",
      "667/667 [==============================] - 3s 4ms/step - loss: 14.9040 - mse: 14.9040 - val_loss: 13.4310 - val_mse: 13.4310\n",
      "Epoch 4/500\n",
      "667/667 [==============================] - 3s 4ms/step - loss: 14.6874 - mse: 14.6874 - val_loss: 12.8047 - val_mse: 12.8047\n",
      "Epoch 5/500\n",
      "667/667 [==============================] - 3s 5ms/step - loss: 14.1855 - mse: 14.1855 - val_loss: 12.2884 - val_mse: 12.2884\n",
      "Epoch 6/500\n",
      "667/667 [==============================] - 3s 5ms/step - loss: 13.9208 - mse: 13.9208 - val_loss: 12.1935 - val_mse: 12.1935\n",
      "Epoch 7/500\n",
      "667/667 [==============================] - 3s 5ms/step - loss: 13.8345 - mse: 13.8345 - val_loss: 13.6493 - val_mse: 13.6493\n",
      "Epoch 8/500\n",
      "667/667 [==============================] - 3s 5ms/step - loss: 13.9485 - mse: 13.9485 - val_loss: 12.6025 - val_mse: 12.6025\n",
      "Epoch 9/500\n",
      "667/667 [==============================] - 3s 5ms/step - loss: 13.7294 - mse: 13.7294 - val_loss: 12.2591 - val_mse: 12.2591\n",
      "Epoch 10/500\n",
      "667/667 [==============================] - 3s 5ms/step - loss: 13.7299 - mse: 13.7299 - val_loss: 13.1941 - val_mse: 13.1941\n",
      "Epoch 11/500\n",
      "667/667 [==============================] - 3s 4ms/step - loss: 13.3682 - mse: 13.3682 - val_loss: 13.2152 - val_mse: 13.2152\n",
      "Epoch 12/500\n",
      "667/667 [==============================] - 3s 5ms/step - loss: 13.4409 - mse: 13.4409 - val_loss: 12.3620 - val_mse: 12.3620\n",
      "Epoch 13/500\n",
      "667/667 [==============================] - 3s 4ms/step - loss: 13.6427 - mse: 13.6427 - val_loss: 12.4827 - val_mse: 12.4827\n",
      "Epoch 14/500\n",
      "667/667 [==============================] - 3s 5ms/step - loss: 13.3184 - mse: 13.3184 - val_loss: 11.9566 - val_mse: 11.9566\n",
      "Epoch 15/500\n",
      "667/667 [==============================] - 3s 5ms/step - loss: 13.5371 - mse: 13.5371 - val_loss: 12.8841 - val_mse: 12.8841\n",
      "Epoch 16/500\n",
      "667/667 [==============================] - 3s 5ms/step - loss: 13.3912 - mse: 13.3912 - val_loss: 11.9476 - val_mse: 11.9476\n",
      "Epoch 17/500\n",
      "667/667 [==============================] - 3s 5ms/step - loss: 13.2712 - mse: 13.2712 - val_loss: 11.9295 - val_mse: 11.9295\n",
      "Epoch 18/500\n",
      "667/667 [==============================] - 3s 5ms/step - loss: 13.3643 - mse: 13.3643 - val_loss: 11.7114 - val_mse: 11.7114\n",
      "Epoch 19/500\n",
      "667/667 [==============================] - 3s 5ms/step - loss: 13.3419 - mse: 13.3419 - val_loss: 12.2939 - val_mse: 12.2939\n",
      "Epoch 20/500\n",
      "667/667 [==============================] - 3s 5ms/step - loss: 13.1851 - mse: 13.1851 - val_loss: 11.3865 - val_mse: 11.3865\n",
      "Epoch 21/500\n",
      "667/667 [==============================] - 3s 5ms/step - loss: 13.1055 - mse: 13.1055 - val_loss: 11.8801 - val_mse: 11.8801\n",
      "Epoch 22/500\n",
      "667/667 [==============================] - 3s 4ms/step - loss: 13.2582 - mse: 13.2582 - val_loss: 11.1978 - val_mse: 11.1978\n",
      "Epoch 23/500\n",
      "667/667 [==============================] - 3s 5ms/step - loss: 13.3035 - mse: 13.3035 - val_loss: 12.3612 - val_mse: 12.3612\n",
      "Epoch 24/500\n",
      "667/667 [==============================] - 3s 4ms/step - loss: 13.2914 - mse: 13.2914 - val_loss: 11.9103 - val_mse: 11.9103\n",
      "Epoch 25/500\n",
      "667/667 [==============================] - 3s 4ms/step - loss: 13.2168 - mse: 13.2168 - val_loss: 11.3499 - val_mse: 11.3499\n",
      "Epoch 26/500\n",
      "667/667 [==============================] - 3s 4ms/step - loss: 13.1150 - mse: 13.1150 - val_loss: 12.0936 - val_mse: 12.0936\n",
      "Epoch 27/500\n",
      "667/667 [==============================] - 3s 4ms/step - loss: 13.0851 - mse: 13.0851 - val_loss: 11.7134 - val_mse: 11.7134\n",
      "Epoch 28/500\n",
      "667/667 [==============================] - 3s 5ms/step - loss: 13.0928 - mse: 13.0928 - val_loss: 11.2626 - val_mse: 11.2626\n",
      "Epoch 29/500\n",
      "667/667 [==============================] - 3s 4ms/step - loss: 13.0050 - mse: 13.0050 - val_loss: 12.0938 - val_mse: 12.0938\n",
      "Epoch 30/500\n",
      "667/667 [==============================] - 3s 4ms/step - loss: 13.1173 - mse: 13.1173 - val_loss: 11.7974 - val_mse: 11.7974\n",
      "Epoch 31/500\n",
      "667/667 [==============================] - 3s 4ms/step - loss: 12.9086 - mse: 12.9086 - val_loss: 14.0908 - val_mse: 14.0908\n",
      "Epoch 32/500\n",
      "667/667 [==============================] - 3s 4ms/step - loss: 13.0647 - mse: 13.0647 - val_loss: 11.8300 - val_mse: 11.8300\n",
      "Epoch 33/500\n",
      "667/667 [==============================] - 3s 4ms/step - loss: 12.9426 - mse: 12.9426 - val_loss: 11.6082 - val_mse: 11.6082\n",
      "Epoch 34/500\n",
      "667/667 [==============================] - 3s 4ms/step - loss: 12.8190 - mse: 12.8190 - val_loss: 14.9956 - val_mse: 14.9956\n",
      "Epoch 35/500\n",
      "667/667 [==============================] - 3s 4ms/step - loss: 12.7953 - mse: 12.7953 - val_loss: 11.5193 - val_mse: 11.5193\n",
      "Epoch 36/500\n",
      "667/667 [==============================] - 3s 4ms/step - loss: 12.9978 - mse: 12.9978 - val_loss: 11.9065 - val_mse: 11.9065\n",
      "Epoch 37/500\n",
      "667/667 [==============================] - 3s 4ms/step - loss: 12.9164 - mse: 12.9164 - val_loss: 11.7527 - val_mse: 11.7527\n",
      "Epoch 38/500\n",
      "667/667 [==============================] - 3s 4ms/step - loss: 13.1328 - mse: 13.1328 - val_loss: 11.3163 - val_mse: 11.3163\n",
      "Epoch 39/500\n",
      "667/667 [==============================] - 3s 4ms/step - loss: 13.0596 - mse: 13.0596 - val_loss: 11.2988 - val_mse: 11.2988\n",
      "Epoch 40/500\n",
      "667/667 [==============================] - 3s 4ms/step - loss: 13.0344 - mse: 13.0344 - val_loss: 11.3122 - val_mse: 11.3122\n",
      "Epoch 41/500\n",
      "667/667 [==============================] - 3s 4ms/step - loss: 12.9557 - mse: 12.9557 - val_loss: 11.4163 - val_mse: 11.4163\n",
      "Epoch 42/500\n",
      "667/667 [==============================] - 3s 4ms/step - loss: 13.0782 - mse: 13.0782 - val_loss: 12.6605 - val_mse: 12.6605\n",
      "Epoch 42: early stopping\n",
      "CPU times: user 2min 9s, sys: 9.15 s, total: 2min 19s\n",
      "Wall time: 2min 1s\n"
     ]
    }
   ],
   "source": [
    "%%time\n",
    "early_stopping_cb = keras.callbacks.EarlyStopping(monitor='val_loss', patience=20, verbose=1, mode='min', restore_best_weights=False)\n",
    "dnn_model = tuner.hypermodel.build(best_hps)\n",
    "history_tuned= dnn_model.fit(X_train_scaled, y_train, \n",
    "          epochs = 500, \n",
    "          validation_data = (X_test_scaled, y_test),\n",
    "          verbose=1,\n",
    "          callbacks= early_stopping_cb)"
   ]
  },
  {
   "cell_type": "code",
   "execution_count": 53,
   "metadata": {},
   "outputs": [],
   "source": [
    "import pickle\n",
    "with open(\"dnn_lwn.pkl\", \"wb\") as file:\n",
    "    pickle.dump(history_tuned, file)\n",
    "\n",
    "# with open(\"dnn.pkl\", \"rb\") as file:\n",
    "#     history_tuned = pickle.load(file)"
   ]
  },
  {
   "cell_type": "code",
   "execution_count": 54,
   "metadata": {},
   "outputs": [
    {
     "data": {
      "image/png": "[encoded data removed]",
      "text/plain": [
       "<Figure size 640x480 with 1 Axes>"
      ]
     },
     "metadata": {},
     "output_type": "display_data"
    }
   ],
   "source": [
    "# Make the font the same as latex \n",
    "rc('font', **{'family': 'serif', 'serif': ['Computer Modern']})\n",
    "rc('text', usetex=True)\n",
    "\n",
    "plt.plot(history_tuned.history['loss'])\n",
    "plt.plot(history_tuned.history['val_loss'])\n",
    "plt.ylabel('Loss')\n",
    "plt.xlabel('Epoch')\n",
    "plt.legend(['Train', 'Test'], loc='upper left')\n",
    "plt.show()"
   ]
  },
  {
   "cell_type": "code",
   "execution_count": 55,
   "metadata": {},
   "outputs": [
    {
     "data": {
      "text/plain": [
       "[10.991816520690918, 10.991816520690918]"
      ]
     },
     "execution_count": 55,
     "metadata": {},
     "output_type": "execute_result"
    }
   ],
   "source": [
    "best_model.evaluate(X_test_scaled, y_test, verbose=0)"
   ]
  },
  {
   "cell_type": "code",
   "execution_count": 66,
   "metadata": {},
   "outputs": [],
   "source": [
    "from sklearn.model_selection import train_test_split\n",
    "from sklearn.pipeline import Pipeline\n",
    "from sklearn.ensemble import RandomForestRegressor\n",
    "from sklearn.preprocessing import StandardScaler\n",
    "\n",
    "model = RandomForestRegressor(max_depth=35, min_samples_leaf=1, min_samples_split=2, n_estimators=325, random_state=random_state)\n",
    "scaler = StandardScaler() # Initialize scaler\n",
    "pipeline = Pipeline(steps=[('normalize', scaler), ('model', model)]) # Create pipeline with scaler and model\n"
   ]
  },
  {
   "cell_type": "code",
   "execution_count": 67,
   "metadata": {},
   "outputs": [
    {
     "name": "stdout",
     "output_type": "stream",
     "text": [
      "CPU times: user 14.3 s, sys: 227 ms, total: 14.6 s\n",
      "Wall time: 15.6 s\n"
     ]
    }
   ],
   "source": [
    "%%time\n",
    "pipeline_fit = pipeline.fit(X_train, y_train)"
   ]
  },
  {
   "cell_type": "code",
   "execution_count": 68,
   "metadata": {},
   "outputs": [
    {
     "name": "stdout",
     "output_type": "stream",
     "text": [
      "CPU times: user 405 ms, sys: 0 ns, total: 405 ms\n",
      "Wall time: 520 ms\n"
     ]
    }
   ],
   "source": [
    "%%time\n",
    "sklearn_predictions = pipeline_fit.predict(X_test)"
   ]
  },
  {
   "cell_type": "code",
   "execution_count": 69,
   "metadata": {},
   "outputs": [
    {
     "data": {
      "text/plain": [
       "2.2323619689351526"
      ]
     },
     "execution_count": 69,
     "metadata": {},
     "output_type": "execute_result"
    }
   ],
   "source": [
    "from sklearn.metrics import mean_squared_error\n",
    "\n",
    "mean_squared_error(y_test.values.ravel(), sklearn_predictions, squared=False)"
   ]
  },
  {
   "cell_type": "code",
   "execution_count": 70,
   "metadata": {},
   "outputs": [
    {
     "name": "stdout",
     "output_type": "stream",
     "text": [
      "tensorflow score: 0.333208325520345\n",
      "sklearn score: 0.66641665104069\n"
     ]
    }
   ],
   "source": [
    "print(f\"tensorflow score: {get_score(y_test.values.ravel(), test_predictions)}\")\n",
    "print(f\"sklearn score: {get_score(y_test.values.ravel(), sklearn_predictions)}\")"
   ]
  },
  {
   "cell_type": "code",
   "execution_count": 71,
   "metadata": {},
   "outputs": [],
   "source": [
    "scatter_plot_df = pd.DataFrame({\n",
    "    's11_true': y_test.values.tolist() * 2,\n",
    "    's11_prediction': np.concatenate((sklearn_predictions,test_predictions.reshape(-1))),\n",
    "    's11_source': (['Sklearn'] * len(y_test.values.tolist())) + (['TensorFlow'] * len(y_test.values.tolist())),\n",
    "    's11_color': (['red'] * len(y_test.values.tolist())) + (['blue'] * len(y_test.values.tolist()))\n",
    "})"
   ]
  },
  {
   "cell_type": "code",
   "execution_count": 72,
   "metadata": {},
   "outputs": [
    {
     "data": {
      "image/png": "[encoded data removed]",
      "text/plain": [
       "<Figure size 640x480 with 1 Axes>"
      ]
     },
     "metadata": {},
     "output_type": "display_data"
    }
   ],
   "source": [
    "fig = plt.figure()\n",
    "ax1 = fig.add_subplot(111)\n",
    "ax1.scatter(y_test, test_predictions, label=\"TensorFlow\", c='r')\n",
    "ax1.scatter(y_test, sklearn_predictions, label=\"Sklearn\", c='b')\n",
    "plt.xlabel('True $S_{11}$')\n",
    "plt.ylabel('Predicted $S_{11}$')\n",
    "plt.axline((-30,-30), (10,10))\n",
    "plt.legend(loc='upper left')\n",
    "plt.show()"
   ]
  },
  {
   "cell_type": "code",
   "execution_count": 73,
   "metadata": {},
   "outputs": [
    {
     "data": {
      "text/plain": [
       "<matplotlib.legend.Legend at 0x7f261817c1f0>"
      ]
     },
     "execution_count": 73,
     "metadata": {},
     "output_type": "execute_result"
    },
    {
     "data": {
      "image/png": "[encoded data removed]",
      "text/plain": [
       "<Figure size 640x480 with 1 Axes>"
      ]
     },
     "metadata": {},
     "output_type": "display_data"
    }
   ],
   "source": [
    "fig = plt.figure()\n",
    "ax1 = fig.add_subplot(111)\n",
    "error_tensorflow = test_predictions.reshape(-1) - y_test\n",
    "error_sklearn = sklearn_predictions - y_test\n",
    "ax1.hist([error_tensorflow, error_sklearn], bins=20, color=['red', 'blue'], label=['TensorFlow', 'Sklearn'])\n",
    "plt.xlabel('Prediction Error')\n",
    "plt.ylabel('Count')\n",
    "plt.legend(loc='upper left')"
   ]
  },
  {
   "cell_type": "code",
   "execution_count": 74,
   "metadata": {},
   "outputs": [],
   "source": [
    "analysis_df = X_test.copy()\n",
    "analysis_df['dB(S(1,1)) []'] = y_test\n",
    "analysis_df['tensorflow predicted s11'] = test_predictions.reshape(-1)\n",
    "analysis_df['sklearn predicted s11'] = sklearn_predictions"
   ]
  },
  {
   "cell_type": "code",
   "execution_count": 75,
   "metadata": {},
   "outputs": [
    {
     "data": {
      "text/html": [
       "<div>\n",
       "<style scoped>\n",
       "    .dataframe tbody tr th:only-of-type {\n",
       "        vertical-align: middle;\n",
       "    }\n",
       "\n",
       "    .dataframe tbody tr th {\n",
       "        vertical-align: top;\n",
       "    }\n",
       "\n",
       "    .dataframe thead th {\n",
       "        text-align: right;\n",
       "    }\n",
       "</style>\n",
       "<table border=\"1\" class=\"dataframe\">\n",
       "  <thead>\n",
       "    <tr style=\"text-align: right;\">\n",
       "      <th></th>\n",
       "      <th>cpw_in [mm]</th>\n",
       "      <th>feed_l [mm]</th>\n",
       "      <th>patch_l [mm]</th>\n",
       "      <th>cpw_g [mm]</th>\n",
       "      <th>Feed_W [mm]</th>\n",
       "      <th>ground_w [mm]</th>\n",
       "      <th>patch_ground_w [mm]</th>\n",
       "      <th>patch_w [mm]</th>\n",
       "      <th>Freq [GHz]</th>\n",
       "      <th>dB(S(1,1)) []</th>\n",
       "      <th>tensorflow predicted s11</th>\n",
       "      <th>sklearn predicted s11</th>\n",
       "    </tr>\n",
       "  </thead>\n",
       "  <tbody>\n",
       "    <tr>\n",
       "      <th>10</th>\n",
       "      <td>1.5</td>\n",
       "      <td>3.25</td>\n",
       "      <td>3.25</td>\n",
       "      <td>0.18</td>\n",
       "      <td>1.0</td>\n",
       "      <td>1.0</td>\n",
       "      <td>1.0</td>\n",
       "      <td>4.75</td>\n",
       "      <td>11.90</td>\n",
       "      <td>-3.687785</td>\n",
       "      <td>-4.841832</td>\n",
       "      <td>-3.814358</td>\n",
       "    </tr>\n",
       "    <tr>\n",
       "      <th>13</th>\n",
       "      <td>1.5</td>\n",
       "      <td>3.25</td>\n",
       "      <td>3.25</td>\n",
       "      <td>0.18</td>\n",
       "      <td>1.0</td>\n",
       "      <td>1.0</td>\n",
       "      <td>1.0</td>\n",
       "      <td>4.75</td>\n",
       "      <td>12.17</td>\n",
       "      <td>-4.757401</td>\n",
       "      <td>-4.841832</td>\n",
       "      <td>-5.130616</td>\n",
       "    </tr>\n",
       "    <tr>\n",
       "      <th>19</th>\n",
       "      <td>1.5</td>\n",
       "      <td>3.25</td>\n",
       "      <td>3.25</td>\n",
       "      <td>0.18</td>\n",
       "      <td>1.0</td>\n",
       "      <td>1.0</td>\n",
       "      <td>1.0</td>\n",
       "      <td>4.75</td>\n",
       "      <td>12.71</td>\n",
       "      <td>-6.767213</td>\n",
       "      <td>-4.841832</td>\n",
       "      <td>-7.675155</td>\n",
       "    </tr>\n",
       "    <tr>\n",
       "      <th>28</th>\n",
       "      <td>1.5</td>\n",
       "      <td>3.25</td>\n",
       "      <td>3.25</td>\n",
       "      <td>0.18</td>\n",
       "      <td>1.0</td>\n",
       "      <td>1.0</td>\n",
       "      <td>1.0</td>\n",
       "      <td>4.75</td>\n",
       "      <td>13.52</td>\n",
       "      <td>-7.216387</td>\n",
       "      <td>-9.289400</td>\n",
       "      <td>-7.453351</td>\n",
       "    </tr>\n",
       "    <tr>\n",
       "      <th>40</th>\n",
       "      <td>1.5</td>\n",
       "      <td>3.25</td>\n",
       "      <td>3.25</td>\n",
       "      <td>0.18</td>\n",
       "      <td>1.0</td>\n",
       "      <td>1.0</td>\n",
       "      <td>1.0</td>\n",
       "      <td>4.75</td>\n",
       "      <td>14.60</td>\n",
       "      <td>-7.811985</td>\n",
       "      <td>-9.735253</td>\n",
       "      <td>-11.272109</td>\n",
       "    </tr>\n",
       "    <tr>\n",
       "      <th>...</th>\n",
       "      <td>...</td>\n",
       "      <td>...</td>\n",
       "      <td>...</td>\n",
       "      <td>...</td>\n",
       "      <td>...</td>\n",
       "      <td>...</td>\n",
       "      <td>...</td>\n",
       "      <td>...</td>\n",
       "      <td>...</td>\n",
       "      <td>...</td>\n",
       "      <td>...</td>\n",
       "      <td>...</td>\n",
       "    </tr>\n",
       "    <tr>\n",
       "      <th>26638</th>\n",
       "      <td>2.0</td>\n",
       "      <td>3.75</td>\n",
       "      <td>3.50</td>\n",
       "      <td>0.18</td>\n",
       "      <td>1.0</td>\n",
       "      <td>1.5</td>\n",
       "      <td>1.5</td>\n",
       "      <td>5.00</td>\n",
       "      <td>17.75</td>\n",
       "      <td>-7.610843</td>\n",
       "      <td>-11.082159</td>\n",
       "      <td>-7.594560</td>\n",
       "    </tr>\n",
       "    <tr>\n",
       "      <th>26641</th>\n",
       "      <td>2.0</td>\n",
       "      <td>3.75</td>\n",
       "      <td>3.50</td>\n",
       "      <td>0.18</td>\n",
       "      <td>1.0</td>\n",
       "      <td>1.5</td>\n",
       "      <td>1.5</td>\n",
       "      <td>5.00</td>\n",
       "      <td>18.02</td>\n",
       "      <td>-13.640745</td>\n",
       "      <td>-9.689838</td>\n",
       "      <td>-13.792042</td>\n",
       "    </tr>\n",
       "    <tr>\n",
       "      <th>26648</th>\n",
       "      <td>2.0</td>\n",
       "      <td>3.75</td>\n",
       "      <td>3.50</td>\n",
       "      <td>0.18</td>\n",
       "      <td>1.0</td>\n",
       "      <td>1.5</td>\n",
       "      <td>1.5</td>\n",
       "      <td>5.00</td>\n",
       "      <td>18.65</td>\n",
       "      <td>-4.601866</td>\n",
       "      <td>-7.118733</td>\n",
       "      <td>-4.577615</td>\n",
       "    </tr>\n",
       "    <tr>\n",
       "      <th>26655</th>\n",
       "      <td>2.0</td>\n",
       "      <td>3.75</td>\n",
       "      <td>3.50</td>\n",
       "      <td>0.18</td>\n",
       "      <td>1.0</td>\n",
       "      <td>1.5</td>\n",
       "      <td>1.5</td>\n",
       "      <td>5.00</td>\n",
       "      <td>19.28</td>\n",
       "      <td>-4.938332</td>\n",
       "      <td>-5.183437</td>\n",
       "      <td>-5.407977</td>\n",
       "    </tr>\n",
       "    <tr>\n",
       "      <th>26657</th>\n",
       "      <td>2.0</td>\n",
       "      <td>3.75</td>\n",
       "      <td>3.50</td>\n",
       "      <td>0.18</td>\n",
       "      <td>1.0</td>\n",
       "      <td>1.5</td>\n",
       "      <td>1.5</td>\n",
       "      <td>5.00</td>\n",
       "      <td>19.46</td>\n",
       "      <td>-7.692026</td>\n",
       "      <td>-4.841832</td>\n",
       "      <td>-8.412598</td>\n",
       "    </tr>\n",
       "  </tbody>\n",
       "</table>\n",
       "<p>5333 rows × 12 columns</p>\n",
       "</div>"
      ],
      "text/plain": [
       "       cpw_in [mm]  feed_l [mm]  patch_l [mm]  cpw_g [mm]  Feed_W [mm]  \\\n",
       "10             1.5         3.25          3.25        0.18          1.0   \n",
       "13             1.5         3.25          3.25        0.18          1.0   \n",
       "19             1.5         3.25          3.25        0.18          1.0   \n",
       "28             1.5         3.25          3.25        0.18          1.0   \n",
       "40             1.5         3.25          3.25        0.18          1.0   \n",
       "...            ...          ...           ...         ...          ...   \n",
       "26638          2.0         3.75          3.50        0.18          1.0   \n",
       "26641          2.0         3.75          3.50        0.18          1.0   \n",
       "26648          2.0         3.75          3.50        0.18          1.0   \n",
       "26655          2.0         3.75          3.50        0.18          1.0   \n",
       "26657          2.0         3.75          3.50        0.18          1.0   \n",
       "\n",
       "       ground_w [mm]  patch_ground_w [mm]  patch_w [mm]  Freq [GHz]  \\\n",
       "10               1.0                  1.0          4.75       11.90   \n",
       "13               1.0                  1.0          4.75       12.17   \n",
       "19               1.0                  1.0          4.75       12.71   \n",
       "28               1.0                  1.0          4.75       13.52   \n",
       "40               1.0                  1.0          4.75       14.60   \n",
       "...              ...                  ...           ...         ...   \n",
       "26638            1.5                  1.5          5.00       17.75   \n",
       "26641            1.5                  1.5          5.00       18.02   \n",
       "26648            1.5                  1.5          5.00       18.65   \n",
       "26655            1.5                  1.5          5.00       19.28   \n",
       "26657            1.5                  1.5          5.00       19.46   \n",
       "\n",
       "       dB(S(1,1)) []  tensorflow predicted s11  sklearn predicted s11  \n",
       "10         -3.687785                 -4.841832              -3.814358  \n",
       "13         -4.757401                 -4.841832              -5.130616  \n",
       "19         -6.767213                 -4.841832              -7.675155  \n",
       "28         -7.216387                 -9.289400              -7.453351  \n",
       "40         -7.811985                 -9.735253             -11.272109  \n",
       "...              ...                       ...                    ...  \n",
       "26638      -7.610843                -11.082159              -7.594560  \n",
       "26641     -13.640745                 -9.689838             -13.792042  \n",
       "26648      -4.601866                 -7.118733              -4.577615  \n",
       "26655      -4.938332                 -5.183437              -5.407977  \n",
       "26657      -7.692026                 -4.841832              -8.412598  \n",
       "\n",
       "[5333 rows x 12 columns]"
      ]
     },
     "execution_count": 75,
     "metadata": {},
     "output_type": "execute_result"
    }
   ],
   "source": [
    "analysis_df"
   ]
  },
  {
   "cell_type": "code",
   "execution_count": null,
   "metadata": {},
   "outputs": [],
   "source": []
  }
 ],
 "metadata": {
  "kernelspec": {
   "display_name": "Python 3",
   "language": "python",
   "name": "python3"
  },
  "language_info": {
   "codemirror_mode": {
    "name": "ipython",
    "version": 3
   },
   "file_extension": ".py",
   "mimetype": "text/x-python",
   "name": "python",
   "nbconvert_exporter": "python",
   "pygments_lexer": "ipython3",
   "version": "3.9.18"
  }
 },
 "nbformat": 4,
 "nbformat_minor": 2
}
