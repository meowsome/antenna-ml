{
 "cells": [
  {
   "cell_type": "code",
   "execution_count": 38,
   "metadata": {},
   "outputs": [],
   "source": [
    "import numpy as np\n",
    "import pandas as pd\n",
    "import tensorflow as tf\n",
    "from tensorflow import keras\n",
    "from tensorflow.keras import layers\n",
    "import matplotlib.pyplot as plt\n",
    "from matplotlib import rc"
   ]
  },
  {
   "cell_type": "code",
   "execution_count": 39,
   "metadata": {},
   "outputs": [],
   "source": [
    "threshold = 1\n",
    "\n",
    "# Check if predicted value is threshold amount above or below actual value\n",
    "def is_in_threshold(actual, pred):\n",
    "    return pred <= actual + threshold and pred >= actual - threshold\n",
    "\n",
    "def create_tf_column(results):\n",
    "    return results.apply(lambda x: is_in_threshold(x['y_test'], x['predictions']), axis=1)\n",
    "\n",
    "def get_score(y_test, y_pred, **kwargs):\n",
    "    dataframe = pd.DataFrame(y_test, columns=['y_test'])\n",
    "    dataframe['predictions'] = y_pred\n",
    "    return create_tf_column(dataframe).value_counts().get(True) / dataframe.shape[0]"
   ]
  },
  {
   "cell_type": "code",
   "execution_count": 40,
   "metadata": {},
   "outputs": [],
   "source": [
    "random_state=20"
   ]
  },
  {
   "cell_type": "code",
   "execution_count": 41,
   "metadata": {},
   "outputs": [],
   "source": [
    "# Import data and preprocess\n",
    "df = pd.read_csv(\"../test_data/new leaky wave/S11_Data_combined.csv\")\n",
    "# df = pd.read_csv(\"../test_data/Grounded CPW Leaky Wave antenna/S11 Data.csv\")\n",
    "df = df.drop(df[df['dB(S(1,1)) []'] > 0].index) # Remove all rows with positive s11\n",
    "\n",
    "# # Split into x and y\n",
    "# input_x = df.drop(columns=['dB(S(1,1)) []'], axis=1)\n",
    "# input_y = df[['dB(S(1,1)) []']]\n",
    "\n",
    "# Split data into training and testing\n",
    "train_df = df.sample(frac=0.8, random_state=0)\n",
    "test_df = df.drop(train_df.index)\n",
    "X_train = train_df.copy()\n",
    "X_test = test_df.copy()\n",
    "y_train = X_train.pop('dB(S(1,1)) []')\n",
    "y_test = X_test.pop('dB(S(1,1)) []')"
   ]
  },
  {
   "cell_type": "code",
   "execution_count": 42,
   "metadata": {},
   "outputs": [],
   "source": [
    "from sklearn.preprocessing import StandardScaler\n",
    "scaler = StandardScaler() # Initialize scaler\n",
    "X_train_scaled = scaler.fit_transform(X_train)\n",
    "X_test_scaled = scaler.transform(X_test)"
   ]
  },
  {
   "cell_type": "code",
   "execution_count": 43,
   "metadata": {},
   "outputs": [],
   "source": [
    "import keras_tuner\n",
    "class AntennaModel(keras_tuner.HyperModel):\n",
    "    def __init__(self, input_shape):\n",
    "        self.input_shape= input_shape\n",
    "        \n",
    "    def build(self, hp):\n",
    "        model= keras.Sequential()\n",
    "\n",
    "        for i in range(hp.Int('num_layers', 1, 4)):\n",
    "            model.add(keras.layers.Dense(units=hp.Int(f'units_{i}', min_value=32, max_value=512, step=32), activation='relu', input_shape=self.input_shape))\n",
    "        model.add(keras.layers.Dense(1)) # Output layer\n",
    "\n",
    "        # Tune the learning rate for the optimizer \n",
    "        hp_learning_rate=hp.Float('learning_rate', min_value=1e-4, max_value=0.1)\n",
    "\n",
    "        model.compile(loss='mse',\n",
    "                    optimizer= keras.optimizers.Adam(learning_rate=hp_learning_rate),\n",
    "                    metrics= ['mse']\n",
    "                     )\n",
    "\n",
    "        return model"
   ]
  },
  {
   "cell_type": "code",
   "execution_count": 44,
   "metadata": {},
   "outputs": [
    {
     "name": "stdout",
     "output_type": "stream",
     "text": [
      "Trial 3 Complete [00h 00m 14s]\n",
      "val_mse: 14.7367582321167\n",
      "\n",
      "Best val_mse So Far: 14.2368803024292\n",
      "Total elapsed time: 00h 00m 45s\n"
     ]
    }
   ],
   "source": [
    "import keras_tuner\n",
    "antenna_model = AntennaModel(input_shape=[len(X_train.keys())])\n",
    "tuner = keras_tuner.RandomSearch(\n",
    "    antenna_model,\n",
    "    objective='val_mse',\n",
    "    max_trials=3,\n",
    "    executions_per_trial=1)\n",
    "\n",
    "tuner.search_space_summary()\n",
    "stop_early = tf.keras.callbacks.EarlyStopping(monitor='val_loss', patience=5)\n",
    "tuner.search(X_train_scaled, y_train, epochs=100, validation_split=0.2, validation_data = (X_test_scaled, y_test), callbacks=[stop_early])"
   ]
  },
  {
   "cell_type": "code",
   "execution_count": 45,
   "metadata": {},
   "outputs": [],
   "source": [
    "history = tuner.oracle.get_best_trials(num_trials=1)[0]"
   ]
  },
  {
   "cell_type": "code",
   "execution_count": 46,
   "metadata": {},
   "outputs": [],
   "source": [
    "best_hps= tuner.get_best_hyperparameters(num_trials=1)[0]\n",
    "best_model = tuner.get_best_models(num_models=1)[0]"
   ]
  },
  {
   "cell_type": "code",
   "execution_count": 47,
   "metadata": {},
   "outputs": [
    {
     "data": {
      "text/plain": [
       "{'num_layers': 1,\n",
       " 'units_0': 224,\n",
       " 'learning_rate': 0.052150459327506435,\n",
       " 'units_1': 32}"
      ]
     },
     "execution_count": 47,
     "metadata": {},
     "output_type": "execute_result"
    }
   ],
   "source": [
    "best_hps.values"
   ]
  },
  {
   "cell_type": "code",
   "execution_count": 48,
   "metadata": {},
   "outputs": [
    {
     "name": "stdout",
     "output_type": "stream",
     "text": [
      "units_1: 32\n",
      "learning rate: 0.052150459327506435\n",
      "best model name: []\n",
      "149/149 [==============================] - 0s 885us/step - loss: 14.2369 - mse: 14.2369\n",
      "mse: [14.2368803024292, 14.2368803024292]\n"
     ]
    }
   ],
   "source": [
    "print('units_1:', best_hps.get('units_1'))\n",
    "print('learning rate:', best_hps.get('learning_rate'))\n",
    "print('best model name:', best_model.metrics_names)\n",
    "print('mse:', best_model.evaluate(X_test_scaled, y_test))"
   ]
  },
  {
   "cell_type": "code",
   "execution_count": 49,
   "metadata": {},
   "outputs": [
    {
     "name": "stderr",
     "output_type": "stream",
     "text": [
      "/opt/miniconda3/envs/tylers_env_do_not_touch/lib/python3.9/site-packages/keras/src/engine/training.py:3103: UserWarning: You are saving your model as an HDF5 file via `model.save()`. This file format is considered legacy. We recommend using instead the native Keras format, e.g. `model.save('my_model.keras')`.\n",
      "  saving_api.save_model(\n"
     ]
    }
   ],
   "source": [
    "best_model.save(\"dnn_lwn.h5\")"
   ]
  },
  {
   "cell_type": "code",
   "execution_count": 50,
   "metadata": {},
   "outputs": [],
   "source": [
    "# best_model = tf.keras.models.load_model(\"dnn.h5\")"
   ]
  },
  {
   "cell_type": "code",
   "execution_count": 51,
   "metadata": {},
   "outputs": [
    {
     "name": "stdout",
     "output_type": "stream",
     "text": [
      " 72/149 [=============>................] - ETA: 0s"
     ]
    },
    {
     "name": "stdout",
     "output_type": "stream",
     "text": [
      "149/149 [==============================] - 0s 674us/step\n",
      "CPU times: user 244 ms, sys: 11.6 ms, total: 256 ms\n",
      "Wall time: 210 ms\n"
     ]
    }
   ],
   "source": [
    "%%time\n",
    "test_predictions = best_model.predict(X_test_scaled)"
   ]
  },
  {
   "cell_type": "code",
   "execution_count": 52,
   "metadata": {},
   "outputs": [
    {
     "name": "stdout",
     "output_type": "stream",
     "text": [
      "Epoch 1/500\n"
     ]
    },
    {
     "name": "stdout",
     "output_type": "stream",
     "text": [
      "594/594 [==============================] - 1s 2ms/step - loss: 23.5764 - mse: 23.5764 - val_loss: 17.8424 - val_mse: 17.8424\n",
      "Epoch 2/500\n",
      "594/594 [==============================] - 1s 1ms/step - loss: 18.0683 - mse: 18.0683 - val_loss: 16.2644 - val_mse: 16.2644\n",
      "Epoch 3/500\n",
      "594/594 [==============================] - 1s 1ms/step - loss: 16.8367 - mse: 16.8367 - val_loss: 15.7708 - val_mse: 15.7708\n",
      "Epoch 4/500\n",
      "594/594 [==============================] - 1s 1ms/step - loss: 16.3938 - mse: 16.3938 - val_loss: 15.0582 - val_mse: 15.0582\n",
      "Epoch 5/500\n",
      "594/594 [==============================] - 1s 1ms/step - loss: 15.8985 - mse: 15.8985 - val_loss: 16.7625 - val_mse: 16.7625\n",
      "Epoch 6/500\n",
      "594/594 [==============================] - 1s 1ms/step - loss: 15.8375 - mse: 15.8375 - val_loss: 15.6685 - val_mse: 15.6685\n",
      "Epoch 7/500\n",
      "594/594 [==============================] - 1s 1ms/step - loss: 15.7000 - mse: 15.7000 - val_loss: 15.6558 - val_mse: 15.6558\n",
      "Epoch 8/500\n",
      "594/594 [==============================] - 1s 1ms/step - loss: 15.6277 - mse: 15.6277 - val_loss: 15.2306 - val_mse: 15.2306\n",
      "Epoch 9/500\n",
      "594/594 [==============================] - 1s 1ms/step - loss: 15.4635 - mse: 15.4635 - val_loss: 14.6993 - val_mse: 14.6993\n",
      "Epoch 10/500\n",
      "594/594 [==============================] - 1s 1ms/step - loss: 15.4739 - mse: 15.4739 - val_loss: 15.2107 - val_mse: 15.2107\n",
      "Epoch 11/500\n",
      "594/594 [==============================] - 1s 1ms/step - loss: 15.5740 - mse: 15.5740 - val_loss: 15.4534 - val_mse: 15.4534\n",
      "Epoch 12/500\n",
      "594/594 [==============================] - 1s 1ms/step - loss: 15.3179 - mse: 15.3179 - val_loss: 15.1149 - val_mse: 15.1149\n",
      "Epoch 13/500\n",
      "594/594 [==============================] - 1s 1ms/step - loss: 15.4264 - mse: 15.4264 - val_loss: 15.7706 - val_mse: 15.7706\n",
      "Epoch 14/500\n",
      "594/594 [==============================] - 1s 1ms/step - loss: 15.3434 - mse: 15.3434 - val_loss: 15.0499 - val_mse: 15.0499\n",
      "Epoch 15/500\n",
      "594/594 [==============================] - 1s 1ms/step - loss: 15.4434 - mse: 15.4434 - val_loss: 14.6629 - val_mse: 14.6629\n",
      "Epoch 16/500\n",
      "594/594 [==============================] - 1s 1ms/step - loss: 15.4838 - mse: 15.4838 - val_loss: 15.8243 - val_mse: 15.8243\n",
      "Epoch 17/500\n",
      "594/594 [==============================] - 1s 1ms/step - loss: 15.3244 - mse: 15.3244 - val_loss: 14.6608 - val_mse: 14.6608\n",
      "Epoch 18/500\n",
      "594/594 [==============================] - 1s 1ms/step - loss: 15.3167 - mse: 15.3167 - val_loss: 14.6972 - val_mse: 14.6972\n",
      "Epoch 19/500\n",
      "594/594 [==============================] - 1s 1ms/step - loss: 15.2565 - mse: 15.2565 - val_loss: 15.2100 - val_mse: 15.2100\n",
      "Epoch 20/500\n",
      "594/594 [==============================] - 1s 1ms/step - loss: 15.2685 - mse: 15.2685 - val_loss: 15.4771 - val_mse: 15.4771\n",
      "Epoch 21/500\n",
      "594/594 [==============================] - 1s 1ms/step - loss: 15.2820 - mse: 15.2820 - val_loss: 16.3955 - val_mse: 16.3955\n",
      "Epoch 22/500\n",
      "594/594 [==============================] - 1s 1ms/step - loss: 15.2760 - mse: 15.2760 - val_loss: 14.9452 - val_mse: 14.9452\n",
      "Epoch 23/500\n",
      "594/594 [==============================] - 1s 1ms/step - loss: 15.2558 - mse: 15.2558 - val_loss: 15.4211 - val_mse: 15.4211\n",
      "Epoch 24/500\n",
      "594/594 [==============================] - 1s 1ms/step - loss: 15.2080 - mse: 15.2080 - val_loss: 15.9813 - val_mse: 15.9813\n",
      "Epoch 25/500\n",
      "594/594 [==============================] - 1s 1ms/step - loss: 15.4106 - mse: 15.4106 - val_loss: 16.7841 - val_mse: 16.7841\n",
      "Epoch 26/500\n",
      "594/594 [==============================] - 1s 1ms/step - loss: 15.3563 - mse: 15.3563 - val_loss: 15.4371 - val_mse: 15.4371\n",
      "Epoch 27/500\n",
      "594/594 [==============================] - 1s 1ms/step - loss: 15.3813 - mse: 15.3813 - val_loss: 15.3280 - val_mse: 15.3280\n",
      "Epoch 28/500\n",
      "594/594 [==============================] - 1s 1ms/step - loss: 15.2267 - mse: 15.2267 - val_loss: 15.1751 - val_mse: 15.1751\n",
      "Epoch 29/500\n",
      "594/594 [==============================] - 1s 1ms/step - loss: 15.0182 - mse: 15.0182 - val_loss: 15.3950 - val_mse: 15.3950\n",
      "Epoch 30/500\n",
      "594/594 [==============================] - 1s 1ms/step - loss: 15.2190 - mse: 15.2190 - val_loss: 16.7020 - val_mse: 16.7020\n",
      "Epoch 31/500\n",
      "594/594 [==============================] - 1s 1ms/step - loss: 15.3191 - mse: 15.3191 - val_loss: 14.5793 - val_mse: 14.5793\n",
      "Epoch 32/500\n",
      "594/594 [==============================] - 1s 1ms/step - loss: 15.2139 - mse: 15.2139 - val_loss: 14.8613 - val_mse: 14.8613\n",
      "Epoch 33/500\n",
      "594/594 [==============================] - 1s 1ms/step - loss: 15.2855 - mse: 15.2855 - val_loss: 14.6998 - val_mse: 14.6998\n",
      "Epoch 34/500\n",
      "594/594 [==============================] - 1s 1ms/step - loss: 15.3047 - mse: 15.3047 - val_loss: 15.0177 - val_mse: 15.0177\n",
      "Epoch 35/500\n",
      "594/594 [==============================] - 1s 1ms/step - loss: 15.2154 - mse: 15.2154 - val_loss: 16.2718 - val_mse: 16.2718\n",
      "Epoch 36/500\n",
      "594/594 [==============================] - 1s 1ms/step - loss: 15.3352 - mse: 15.3352 - val_loss: 17.1456 - val_mse: 17.1456\n",
      "Epoch 37/500\n",
      "594/594 [==============================] - 1s 1ms/step - loss: 15.2303 - mse: 15.2303 - val_loss: 14.6470 - val_mse: 14.6470\n",
      "Epoch 38/500\n",
      "594/594 [==============================] - 1s 1ms/step - loss: 15.1393 - mse: 15.1393 - val_loss: 14.6058 - val_mse: 14.6058\n",
      "Epoch 39/500\n",
      "594/594 [==============================] - 1s 1ms/step - loss: 15.0770 - mse: 15.0770 - val_loss: 14.5833 - val_mse: 14.5833\n",
      "Epoch 40/500\n",
      "594/594 [==============================] - 1s 1ms/step - loss: 15.2227 - mse: 15.2227 - val_loss: 14.8511 - val_mse: 14.8511\n",
      "Epoch 41/500\n",
      "594/594 [==============================] - 1s 1ms/step - loss: 15.1872 - mse: 15.1872 - val_loss: 14.8015 - val_mse: 14.8015\n",
      "Epoch 42/500\n",
      "594/594 [==============================] - 1s 1ms/step - loss: 15.2942 - mse: 15.2942 - val_loss: 15.1200 - val_mse: 15.1200\n",
      "Epoch 43/500\n",
      "594/594 [==============================] - 1s 1ms/step - loss: 15.1943 - mse: 15.1943 - val_loss: 16.3932 - val_mse: 16.3932\n",
      "Epoch 44/500\n",
      "594/594 [==============================] - 1s 1ms/step - loss: 15.2539 - mse: 15.2539 - val_loss: 14.9105 - val_mse: 14.9105\n",
      "Epoch 45/500\n",
      "594/594 [==============================] - 1s 1ms/step - loss: 15.1155 - mse: 15.1155 - val_loss: 15.6502 - val_mse: 15.6502\n",
      "Epoch 46/500\n",
      "594/594 [==============================] - 1s 1ms/step - loss: 15.1388 - mse: 15.1388 - val_loss: 14.5903 - val_mse: 14.5903\n",
      "Epoch 47/500\n",
      "594/594 [==============================] - 1s 1ms/step - loss: 15.1151 - mse: 15.1151 - val_loss: 14.7485 - val_mse: 14.7485\n",
      "Epoch 48/500\n",
      "594/594 [==============================] - 1s 1ms/step - loss: 15.2971 - mse: 15.2971 - val_loss: 14.7439 - val_mse: 14.7439\n",
      "Epoch 49/500\n",
      "594/594 [==============================] - 1s 1ms/step - loss: 15.1542 - mse: 15.1542 - val_loss: 14.3568 - val_mse: 14.3568\n",
      "Epoch 50/500\n",
      "594/594 [==============================] - 1s 1ms/step - loss: 15.2136 - mse: 15.2136 - val_loss: 16.0826 - val_mse: 16.0826\n",
      "Epoch 51/500\n",
      "594/594 [==============================] - 1s 1ms/step - loss: 15.1671 - mse: 15.1671 - val_loss: 15.2418 - val_mse: 15.2418\n",
      "Epoch 52/500\n",
      "594/594 [==============================] - 1s 1ms/step - loss: 15.2626 - mse: 15.2626 - val_loss: 14.9510 - val_mse: 14.9510\n",
      "Epoch 53/500\n",
      "594/594 [==============================] - 1s 1ms/step - loss: 15.0441 - mse: 15.0441 - val_loss: 14.7144 - val_mse: 14.7144\n",
      "Epoch 54/500\n",
      "594/594 [==============================] - 1s 1ms/step - loss: 15.1683 - mse: 15.1683 - val_loss: 15.3751 - val_mse: 15.3751\n",
      "Epoch 55/500\n",
      "594/594 [==============================] - 1s 1ms/step - loss: 15.0934 - mse: 15.0934 - val_loss: 14.3190 - val_mse: 14.3190\n",
      "Epoch 56/500\n",
      "594/594 [==============================] - 1s 1ms/step - loss: 15.0633 - mse: 15.0633 - val_loss: 14.9951 - val_mse: 14.9951\n",
      "Epoch 57/500\n",
      "594/594 [==============================] - 1s 1ms/step - loss: 15.1777 - mse: 15.1777 - val_loss: 15.1198 - val_mse: 15.1198\n",
      "Epoch 58/500\n",
      "594/594 [==============================] - 1s 1ms/step - loss: 15.2296 - mse: 15.2296 - val_loss: 14.8761 - val_mse: 14.8761\n",
      "Epoch 59/500\n",
      "594/594 [==============================] - 1s 1ms/step - loss: 15.3992 - mse: 15.3992 - val_loss: 14.6110 - val_mse: 14.6110\n",
      "Epoch 60/500\n",
      "594/594 [==============================] - 1s 1ms/step - loss: 15.1030 - mse: 15.1030 - val_loss: 15.3412 - val_mse: 15.3412\n",
      "Epoch 61/500\n",
      "594/594 [==============================] - 1s 1ms/step - loss: 15.3348 - mse: 15.3348 - val_loss: 15.0344 - val_mse: 15.0344\n",
      "Epoch 62/500\n",
      "594/594 [==============================] - 1s 1ms/step - loss: 15.0880 - mse: 15.0880 - val_loss: 14.7846 - val_mse: 14.7846\n",
      "Epoch 63/500\n",
      "594/594 [==============================] - 1s 1ms/step - loss: 15.2991 - mse: 15.2991 - val_loss: 15.0876 - val_mse: 15.0876\n",
      "Epoch 64/500\n",
      "594/594 [==============================] - 1s 1ms/step - loss: 15.2034 - mse: 15.2034 - val_loss: 14.5860 - val_mse: 14.5860\n",
      "Epoch 65/500\n",
      "594/594 [==============================] - 1s 1ms/step - loss: 15.2052 - mse: 15.2052 - val_loss: 15.0669 - val_mse: 15.0669\n",
      "Epoch 66/500\n",
      "594/594 [==============================] - 1s 1ms/step - loss: 15.1743 - mse: 15.1743 - val_loss: 15.2992 - val_mse: 15.2992\n",
      "Epoch 67/500\n",
      "594/594 [==============================] - 1s 1ms/step - loss: 15.1496 - mse: 15.1496 - val_loss: 15.9651 - val_mse: 15.9651\n",
      "Epoch 68/500\n",
      "594/594 [==============================] - 1s 1ms/step - loss: 15.2050 - mse: 15.2050 - val_loss: 19.8065 - val_mse: 19.8065\n",
      "Epoch 69/500\n",
      "594/594 [==============================] - 1s 1ms/step - loss: 15.0865 - mse: 15.0865 - val_loss: 14.5669 - val_mse: 14.5669\n",
      "Epoch 70/500\n",
      "594/594 [==============================] - 1s 1ms/step - loss: 15.0639 - mse: 15.0639 - val_loss: 14.8359 - val_mse: 14.8359\n",
      "Epoch 71/500\n",
      "594/594 [==============================] - 1s 1ms/step - loss: 15.2382 - mse: 15.2382 - val_loss: 15.0808 - val_mse: 15.0808\n",
      "Epoch 72/500\n",
      "594/594 [==============================] - 1s 1ms/step - loss: 15.1509 - mse: 15.1509 - val_loss: 15.4162 - val_mse: 15.4162\n",
      "Epoch 73/500\n",
      "594/594 [==============================] - 1s 1ms/step - loss: 14.9522 - mse: 14.9522 - val_loss: 15.0370 - val_mse: 15.0370\n",
      "Epoch 74/500\n",
      "594/594 [==============================] - 1s 1ms/step - loss: 15.1142 - mse: 15.1142 - val_loss: 14.6703 - val_mse: 14.6703\n",
      "Epoch 75/500\n",
      "594/594 [==============================] - 1s 1ms/step - loss: 14.9881 - mse: 14.9881 - val_loss: 15.7010 - val_mse: 15.7010\n",
      "Epoch 75: early stopping\n",
      "CPU times: user 1min 34s, sys: 5.54 s, total: 1min 40s\n",
      "Wall time: 1min 5s\n"
     ]
    }
   ],
   "source": [
    "%%time\n",
    "early_stopping_cb = keras.callbacks.EarlyStopping(monitor='val_loss', patience=20, verbose=1, mode='min', restore_best_weights=False)\n",
    "dnn_model = tuner.hypermodel.build(best_hps)\n",
    "history_tuned= dnn_model.fit(X_train_scaled, y_train, \n",
    "          epochs = 500, \n",
    "          validation_data = (X_test_scaled, y_test),\n",
    "          verbose=1,\n",
    "          callbacks= early_stopping_cb)"
   ]
  },
  {
   "cell_type": "code",
   "execution_count": 53,
   "metadata": {},
   "outputs": [],
   "source": [
    "import pickle\n",
    "with open(\"dnn_lwn.pkl\", \"wb\") as file:\n",
    "    pickle.dump(history_tuned, file)\n",
    "\n",
    "# with open(\"dnn.pkl\", \"rb\") as file:\n",
    "#     history_tuned = pickle.load(file)"
   ]
  },
  {
   "cell_type": "code",
   "execution_count": 54,
   "metadata": {},
   "outputs": [
    {
     "data": {
      "image/png": "[encoded data removed]",
      "text/plain": [
       "<Figure size 640x480 with 1 Axes>"
      ]
     },
     "metadata": {},
     "output_type": "display_data"
    }
   ],
   "source": [
    "# Make the font the same as latex \n",
    "rc('font', **{'family': 'serif', 'serif': ['Computer Modern']})\n",
    "rc('text', usetex=True)\n",
    "\n",
    "plt.plot(history_tuned.history['loss'])\n",
    "plt.plot(history_tuned.history['val_loss'])\n",
    "plt.ylabel('Loss')\n",
    "plt.xlabel('Epoch')\n",
    "plt.legend(['Train', 'Test'], loc='upper left')\n",
    "plt.show()"
   ]
  },
  {
   "cell_type": "code",
   "execution_count": 55,
   "metadata": {},
   "outputs": [
    {
     "data": {
      "text/plain": [
       "[14.2368803024292, 14.2368803024292]"
      ]
     },
     "execution_count": 55,
     "metadata": {},
     "output_type": "execute_result"
    }
   ],
   "source": [
    "best_model.evaluate(X_test_scaled, y_test, verbose=0)"
   ]
  },
  {
   "cell_type": "code",
   "execution_count": 56,
   "metadata": {},
   "outputs": [],
   "source": [
    "from sklearn.model_selection import train_test_split\n",
    "from sklearn.pipeline import Pipeline\n",
    "from sklearn.preprocessing import StandardScaler\n",
    "from xgboost import XGBRegressor\n",
    "\n",
    "model = XGBRegressor(n_estimators=1100, min_child_weight=2, max_depth=10, learning_rate=0.2)\n",
    "scaler = StandardScaler() # Initialize scaler\n",
    "pipeline = Pipeline(steps=[('normalize', scaler), ('model', model)]) # Create pipeline with scaler and model\n"
   ]
  },
  {
   "cell_type": "code",
   "execution_count": 57,
   "metadata": {},
   "outputs": [
    {
     "name": "stdout",
     "output_type": "stream",
     "text": [
      "CPU times: user 26min 32s, sys: 975 ms, total: 26min 33s\n",
      "Wall time: 1min 26s\n"
     ]
    }
   ],
   "source": [
    "%%time\n",
    "pipeline_fit = pipeline.fit(X_train, y_train)"
   ]
  },
  {
   "cell_type": "code",
   "execution_count": 58,
   "metadata": {},
   "outputs": [
    {
     "name": "stdout",
     "output_type": "stream",
     "text": [
      "CPU times: user 276 ms, sys: 0 ns, total: 276 ms\n",
      "Wall time: 17.6 ms\n"
     ]
    }
   ],
   "source": [
    "%%time\n",
    "sklearn_predictions = pipeline_fit.predict(X_test)"
   ]
  },
  {
   "cell_type": "code",
   "execution_count": 59,
   "metadata": {},
   "outputs": [
    {
     "data": {
      "text/plain": [
       "2.6159670341918733"
      ]
     },
     "execution_count": 59,
     "metadata": {},
     "output_type": "execute_result"
    }
   ],
   "source": [
    "from sklearn.metrics import mean_squared_error\n",
    "\n",
    "mean_squared_error(y_test.values.ravel(), sklearn_predictions, squared=False)"
   ]
  },
  {
   "cell_type": "code",
   "execution_count": 60,
   "metadata": {},
   "outputs": [
    {
     "name": "stdout",
     "output_type": "stream",
     "text": [
      "tensorflow score: 0.27259321676848536\n",
      "sklearn score: 0.6730566673688645\n"
     ]
    }
   ],
   "source": [
    "print(f\"tensorflow score: {get_score(y_test.values.ravel(), test_predictions)}\")\n",
    "print(f\"sklearn score: {get_score(y_test.values.ravel(), sklearn_predictions)}\")"
   ]
  },
  {
   "cell_type": "code",
   "execution_count": 61,
   "metadata": {},
   "outputs": [],
   "source": [
    "scatter_plot_df = pd.DataFrame({\n",
    "    's11_true': y_test.values.tolist() * 2,\n",
    "    's11_prediction': np.concatenate((sklearn_predictions,test_predictions.reshape(-1))),\n",
    "    's11_source': (['Sklearn'] * len(y_test.values.tolist())) + (['TensorFlow'] * len(y_test.values.tolist())),\n",
    "    's11_color': (['red'] * len(y_test.values.tolist())) + (['blue'] * len(y_test.values.tolist()))\n",
    "})"
   ]
  },
  {
   "cell_type": "code",
   "execution_count": 62,
   "metadata": {},
   "outputs": [
    {
     "data": {
      "image/png": "[encoded data removed]",
      "text/plain": [
       "<Figure size 640x480 with 1 Axes>"
      ]
     },
     "metadata": {},
     "output_type": "display_data"
    }
   ],
   "source": [
    "fig = plt.figure()\n",
    "ax1 = fig.add_subplot(111)\n",
    "ax1.scatter(y_test, test_predictions, label=\"TensorFlow\", c='r')\n",
    "ax1.scatter(y_test, sklearn_predictions, label=\"Sklearn\", c='b')\n",
    "plt.xlabel('True $S_{11}$')\n",
    "plt.ylabel('Predicted $S_{11}$')\n",
    "plt.axline((-30,-30), (10,10))\n",
    "plt.legend(loc='upper left')\n",
    "plt.show()"
   ]
  },
  {
   "cell_type": "code",
   "execution_count": 63,
   "metadata": {},
   "outputs": [
    {
     "data": {
      "text/plain": [
       "<matplotlib.legend.Legend at 0x7f527693dca0>"
      ]
     },
     "execution_count": 63,
     "metadata": {},
     "output_type": "execute_result"
    },
    {
     "data": {
      "image/png": "[encoded data removed]",
      "text/plain": [
       "<Figure size 640x480 with 1 Axes>"
      ]
     },
     "metadata": {},
     "output_type": "display_data"
    }
   ],
   "source": [
    "fig = plt.figure()\n",
    "ax1 = fig.add_subplot(111)\n",
    "error_tensorflow = test_predictions.reshape(-1) - y_test\n",
    "error_sklearn = sklearn_predictions - y_test\n",
    "ax1.hist([error_tensorflow, error_sklearn], bins=20, color=['red', 'blue'], label=['TensorFlow', 'Sklearn'])\n",
    "plt.xlabel('Prediction Error')\n",
    "plt.ylabel('Count')\n",
    "plt.legend(loc='upper left')"
   ]
  },
  {
   "cell_type": "code",
   "execution_count": 64,
   "metadata": {},
   "outputs": [],
   "source": [
    "analysis_df = X_test.copy()\n",
    "analysis_df['dB(S(1,1)) []'] = y_test\n",
    "analysis_df['tensorflow predicted s11'] = test_predictions.reshape(-1)\n",
    "analysis_df['sklearn predicted s11'] = sklearn_predictions"
   ]
  },
  {
   "cell_type": "code",
   "execution_count": 65,
   "metadata": {},
   "outputs": [
    {
     "data": {
      "text/html": [
       "<div>\n",
       "<style scoped>\n",
       "    .dataframe tbody tr th:only-of-type {\n",
       "        vertical-align: middle;\n",
       "    }\n",
       "\n",
       "    .dataframe tbody tr th {\n",
       "        vertical-align: top;\n",
       "    }\n",
       "\n",
       "    .dataframe thead th {\n",
       "        text-align: right;\n",
       "    }\n",
       "</style>\n",
       "<table border=\"1\" class=\"dataframe\">\n",
       "  <thead>\n",
       "    <tr style=\"text-align: right;\">\n",
       "      <th></th>\n",
       "      <th>cpw_in [mm]</th>\n",
       "      <th>feed_l [mm]</th>\n",
       "      <th>patch_l [mm]</th>\n",
       "      <th>cpw_g [mm]</th>\n",
       "      <th>Feed_W [mm]</th>\n",
       "      <th>ground_w [mm]</th>\n",
       "      <th>patch_ground_w [mm]</th>\n",
       "      <th>patch_w [mm]</th>\n",
       "      <th>Freq [GHz]</th>\n",
       "      <th>dB(S(1,1)) []</th>\n",
       "      <th>tensorflow predicted s11</th>\n",
       "      <th>sklearn predicted s11</th>\n",
       "    </tr>\n",
       "  </thead>\n",
       "  <tbody>\n",
       "    <tr>\n",
       "      <th>10</th>\n",
       "      <td>1.5</td>\n",
       "      <td>3.25</td>\n",
       "      <td>3.25</td>\n",
       "      <td>0.18</td>\n",
       "      <td>1.0</td>\n",
       "      <td>1.0</td>\n",
       "      <td>1.0</td>\n",
       "      <td>4.75</td>\n",
       "      <td>11.90</td>\n",
       "      <td>-3.687785</td>\n",
       "      <td>-3.282454</td>\n",
       "      <td>-3.528666</td>\n",
       "    </tr>\n",
       "    <tr>\n",
       "      <th>13</th>\n",
       "      <td>1.5</td>\n",
       "      <td>3.25</td>\n",
       "      <td>3.25</td>\n",
       "      <td>0.18</td>\n",
       "      <td>1.0</td>\n",
       "      <td>1.0</td>\n",
       "      <td>1.0</td>\n",
       "      <td>4.75</td>\n",
       "      <td>12.17</td>\n",
       "      <td>-4.757401</td>\n",
       "      <td>-5.299927</td>\n",
       "      <td>-5.165216</td>\n",
       "    </tr>\n",
       "    <tr>\n",
       "      <th>19</th>\n",
       "      <td>1.5</td>\n",
       "      <td>3.25</td>\n",
       "      <td>3.25</td>\n",
       "      <td>0.18</td>\n",
       "      <td>1.0</td>\n",
       "      <td>1.0</td>\n",
       "      <td>1.0</td>\n",
       "      <td>4.75</td>\n",
       "      <td>12.71</td>\n",
       "      <td>-6.767213</td>\n",
       "      <td>-9.334867</td>\n",
       "      <td>-5.936503</td>\n",
       "    </tr>\n",
       "    <tr>\n",
       "      <th>28</th>\n",
       "      <td>1.5</td>\n",
       "      <td>3.25</td>\n",
       "      <td>3.25</td>\n",
       "      <td>0.18</td>\n",
       "      <td>1.0</td>\n",
       "      <td>1.0</td>\n",
       "      <td>1.0</td>\n",
       "      <td>4.75</td>\n",
       "      <td>13.52</td>\n",
       "      <td>-7.216387</td>\n",
       "      <td>-11.200442</td>\n",
       "      <td>-6.935162</td>\n",
       "    </tr>\n",
       "    <tr>\n",
       "      <th>40</th>\n",
       "      <td>1.5</td>\n",
       "      <td>3.25</td>\n",
       "      <td>3.25</td>\n",
       "      <td>0.18</td>\n",
       "      <td>1.0</td>\n",
       "      <td>1.0</td>\n",
       "      <td>1.0</td>\n",
       "      <td>4.75</td>\n",
       "      <td>14.60</td>\n",
       "      <td>-7.811985</td>\n",
       "      <td>-12.607886</td>\n",
       "      <td>-12.186388</td>\n",
       "    </tr>\n",
       "    <tr>\n",
       "      <th>...</th>\n",
       "      <td>...</td>\n",
       "      <td>...</td>\n",
       "      <td>...</td>\n",
       "      <td>...</td>\n",
       "      <td>...</td>\n",
       "      <td>...</td>\n",
       "      <td>...</td>\n",
       "      <td>...</td>\n",
       "      <td>...</td>\n",
       "      <td>...</td>\n",
       "      <td>...</td>\n",
       "      <td>...</td>\n",
       "    </tr>\n",
       "    <tr>\n",
       "      <th>23712</th>\n",
       "      <td>2.0</td>\n",
       "      <td>3.75</td>\n",
       "      <td>3.50</td>\n",
       "      <td>0.18</td>\n",
       "      <td>1.0</td>\n",
       "      <td>1.5</td>\n",
       "      <td>1.5</td>\n",
       "      <td>5.00</td>\n",
       "      <td>18.02</td>\n",
       "      <td>-13.640745</td>\n",
       "      <td>-11.466229</td>\n",
       "      <td>-12.043937</td>\n",
       "    </tr>\n",
       "    <tr>\n",
       "      <th>23714</th>\n",
       "      <td>2.0</td>\n",
       "      <td>3.75</td>\n",
       "      <td>3.50</td>\n",
       "      <td>0.18</td>\n",
       "      <td>1.0</td>\n",
       "      <td>1.5</td>\n",
       "      <td>1.5</td>\n",
       "      <td>5.00</td>\n",
       "      <td>18.20</td>\n",
       "      <td>-12.528354</td>\n",
       "      <td>-10.400402</td>\n",
       "      <td>-16.014462</td>\n",
       "    </tr>\n",
       "    <tr>\n",
       "      <th>23726</th>\n",
       "      <td>2.0</td>\n",
       "      <td>3.75</td>\n",
       "      <td>3.50</td>\n",
       "      <td>0.18</td>\n",
       "      <td>1.0</td>\n",
       "      <td>1.5</td>\n",
       "      <td>1.5</td>\n",
       "      <td>5.00</td>\n",
       "      <td>19.28</td>\n",
       "      <td>-4.938332</td>\n",
       "      <td>-5.809584</td>\n",
       "      <td>-4.776529</td>\n",
       "    </tr>\n",
       "    <tr>\n",
       "      <th>23727</th>\n",
       "      <td>2.0</td>\n",
       "      <td>3.75</td>\n",
       "      <td>3.50</td>\n",
       "      <td>0.18</td>\n",
       "      <td>1.0</td>\n",
       "      <td>1.5</td>\n",
       "      <td>1.5</td>\n",
       "      <td>5.00</td>\n",
       "      <td>19.37</td>\n",
       "      <td>-2.979181</td>\n",
       "      <td>-5.439324</td>\n",
       "      <td>-2.122684</td>\n",
       "    </tr>\n",
       "    <tr>\n",
       "      <th>23728</th>\n",
       "      <td>2.0</td>\n",
       "      <td>3.75</td>\n",
       "      <td>3.50</td>\n",
       "      <td>0.18</td>\n",
       "      <td>1.0</td>\n",
       "      <td>1.5</td>\n",
       "      <td>1.5</td>\n",
       "      <td>5.00</td>\n",
       "      <td>19.46</td>\n",
       "      <td>-7.692026</td>\n",
       "      <td>-5.069067</td>\n",
       "      <td>-9.866719</td>\n",
       "    </tr>\n",
       "  </tbody>\n",
       "</table>\n",
       "<p>4747 rows × 12 columns</p>\n",
       "</div>"
      ],
      "text/plain": [
       "       cpw_in [mm]  feed_l [mm]  patch_l [mm]  cpw_g [mm]  Feed_W [mm]  \\\n",
       "10             1.5         3.25          3.25        0.18          1.0   \n",
       "13             1.5         3.25          3.25        0.18          1.0   \n",
       "19             1.5         3.25          3.25        0.18          1.0   \n",
       "28             1.5         3.25          3.25        0.18          1.0   \n",
       "40             1.5         3.25          3.25        0.18          1.0   \n",
       "...            ...          ...           ...         ...          ...   \n",
       "23712          2.0         3.75          3.50        0.18          1.0   \n",
       "23714          2.0         3.75          3.50        0.18          1.0   \n",
       "23726          2.0         3.75          3.50        0.18          1.0   \n",
       "23727          2.0         3.75          3.50        0.18          1.0   \n",
       "23728          2.0         3.75          3.50        0.18          1.0   \n",
       "\n",
       "       ground_w [mm]  patch_ground_w [mm]  patch_w [mm]  Freq [GHz]  \\\n",
       "10               1.0                  1.0          4.75       11.90   \n",
       "13               1.0                  1.0          4.75       12.17   \n",
       "19               1.0                  1.0          4.75       12.71   \n",
       "28               1.0                  1.0          4.75       13.52   \n",
       "40               1.0                  1.0          4.75       14.60   \n",
       "...              ...                  ...           ...         ...   \n",
       "23712            1.5                  1.5          5.00       18.02   \n",
       "23714            1.5                  1.5          5.00       18.20   \n",
       "23726            1.5                  1.5          5.00       19.28   \n",
       "23727            1.5                  1.5          5.00       19.37   \n",
       "23728            1.5                  1.5          5.00       19.46   \n",
       "\n",
       "       dB(S(1,1)) []  tensorflow predicted s11  sklearn predicted s11  \n",
       "10         -3.687785                 -3.282454              -3.528666  \n",
       "13         -4.757401                 -5.299927              -5.165216  \n",
       "19         -6.767213                 -9.334867              -5.936503  \n",
       "28         -7.216387                -11.200442              -6.935162  \n",
       "40         -7.811985                -12.607886             -12.186388  \n",
       "...              ...                       ...                    ...  \n",
       "23712     -13.640745                -11.466229             -12.043937  \n",
       "23714     -12.528354                -10.400402             -16.014462  \n",
       "23726      -4.938332                 -5.809584              -4.776529  \n",
       "23727      -2.979181                 -5.439324              -2.122684  \n",
       "23728      -7.692026                 -5.069067              -9.866719  \n",
       "\n",
       "[4747 rows x 12 columns]"
      ]
     },
     "execution_count": 65,
     "metadata": {},
     "output_type": "execute_result"
    }
   ],
   "source": [
    "analysis_df"
   ]
  },
  {
   "cell_type": "code",
   "execution_count": null,
   "metadata": {},
   "outputs": [],
   "source": []
  }
 ],
 "metadata": {
  "kernelspec": {
   "display_name": "Python 3",
   "language": "python",
   "name": "python3"
  },
  "language_info": {
   "codemirror_mode": {
    "name": "ipython",
    "version": 3
   },
   "file_extension": ".py",
   "mimetype": "text/x-python",
   "name": "python",
   "nbconvert_exporter": "python",
   "pygments_lexer": "ipython3",
   "version": "3.9.18"
  }
 },
 "nbformat": 4,
 "nbformat_minor": 2
}
